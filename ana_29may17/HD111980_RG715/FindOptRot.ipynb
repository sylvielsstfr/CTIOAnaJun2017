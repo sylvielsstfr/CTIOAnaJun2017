{
 "cells": [
  {
   "cell_type": "markdown",
   "metadata": {
    "deletable": true,
    "editable": true
   },
   "source": [
    "# Find the optimum Rotation of CTIO Data in May 2017\n",
    "==================================================================================================\n",
    "\n",
    "- author : Sylvie Dagoret-Campagne\n",
    "- affiliation : LAL/IN2P3/CNRS, France\n",
    "- date   : May 29th 2017\n",
    "- update : May 30th 2017\n",
    "\n",
    "\n",
    "- The goal is to rotate the image correctly such the dispersive axis must be parallel to X.\n",
    "Carefull check must be done with eye such the fit of the Y vs X line is correct without bias.\n",
    "This can be done on every image. Another solution is to force the value of the rotation angle\n",
    "if one is sure of it.\n",
    "- So One must decide if he want one average rotation angle or one rotation angle for each image.\n",
    "Not sure."
   ]
  },
  {
   "cell_type": "code",
   "execution_count": 3,
   "metadata": {
    "collapsed": false,
    "deletable": true,
    "editable": true
   },
   "outputs": [
    {
     "data": {
      "application/javascript": [
       "var kernel = IPython.notebook.kernel;\n",
       "var thename = window.document.getElementById(\"notebook_name\").innerHTML;\n",
       "var command = \"theNotebook = \" + \"'\"+thename+\"'\";\n",
       "kernel.execute(command);"
      ],
      "text/plain": [
       "<IPython.core.display.Javascript object>"
      ]
     },
     "metadata": {},
     "output_type": "display_data"
    }
   ],
   "source": [
    "%%javascript\n",
    "var kernel = IPython.notebook.kernel;\n",
    "var thename = window.document.getElementById(\"notebook_name\").innerHTML;\n",
    "var command = \"theNotebook = \" + \"'\"+thename+\"'\";\n",
    "kernel.execute(command);"
   ]
  },
  {
   "cell_type": "code",
   "execution_count": 4,
   "metadata": {
    "collapsed": false,
    "deletable": true,
    "editable": true
   },
   "outputs": [
    {
     "name": "stdout",
     "output_type": "stream",
     "text": [
      "FindOptRot\n"
     ]
    }
   ],
   "source": [
    "print theNotebook"
   ]
  },
  {
   "cell_type": "code",
   "execution_count": 5,
   "metadata": {
    "collapsed": true,
    "deletable": true,
    "editable": true
   },
   "outputs": [],
   "source": [
    "%matplotlib inline\n",
    "import matplotlib.pyplot as plt\n",
    "import numpy as np\n",
    "\n",
    "from astropy.modeling import models\n",
    "from astropy import units as u\n",
    "from astropy import nddata\n",
    "from astropy.io import fits\n",
    "import re\n",
    "import os"
   ]
  },
  {
   "cell_type": "code",
   "execution_count": 6,
   "metadata": {
    "collapsed": false,
    "deletable": true,
    "editable": true
   },
   "outputs": [
    {
     "name": "stdout",
     "output_type": "stream",
     "text": [
      "ccdproc version 1.2.0\n"
     ]
    }
   ],
   "source": [
    "import ccdproc\n",
    "print 'ccdproc version',ccdproc.__version__\n",
    "\n",
    "from astropy.modeling import models"
   ]
  },
  {
   "cell_type": "code",
   "execution_count": 7,
   "metadata": {
    "collapsed": true,
    "deletable": true,
    "editable": true
   },
   "outputs": [],
   "source": [
    "from scipy import stats  \n",
    "from scipy import ndimage\n",
    "from datetime import datetime, timedelta\n",
    "from mpl_toolkits.mplot3d import Axes3D\n",
    "import scipy.signal"
   ]
  },
  {
   "cell_type": "code",
   "execution_count": 8,
   "metadata": {
    "collapsed": false,
    "deletable": true,
    "editable": true
   },
   "outputs": [
    {
     "name": "stdout",
     "output_type": "stream",
     "text": [
      "bottleneck version 1.2.0\n"
     ]
    }
   ],
   "source": [
    "import bottleneck as bn  # numpy's masked median is slow...really slow (in version 1.8.1 and lower)\n",
    "print 'bottleneck version',bn.__version__"
   ]
  },
  {
   "cell_type": "code",
   "execution_count": 9,
   "metadata": {
    "collapsed": true,
    "deletable": true,
    "editable": true
   },
   "outputs": [],
   "source": [
    "import photutils\n",
    "from astropy.stats import sigma_clipped_stats\n",
    "from photutils import daofind\n",
    "from photutils import CircularAperture\n",
    "from astropy.visualization import SqrtStretch\n",
    "from astropy.visualization.mpl_normalize import ImageNormalize\n",
    "#from photutils.background import Background2D\n",
    "from photutils import Background2D, SigmaClip, MedianBackground"
   ]
  },
  {
   "cell_type": "code",
   "execution_count": 10,
   "metadata": {
    "collapsed": false,
    "deletable": true,
    "editable": true
   },
   "outputs": [],
   "source": [
    "%load_ext Cython"
   ]
  },
  {
   "cell_type": "code",
   "execution_count": 11,
   "metadata": {
    "collapsed": true,
    "deletable": true,
    "editable": true
   },
   "outputs": [],
   "source": [
    "from IPython.display import Image, display"
   ]
  },
  {
   "cell_type": "code",
   "execution_count": 12,
   "metadata": {
    "collapsed": true,
    "deletable": true,
    "editable": true
   },
   "outputs": [],
   "source": [
    "import matplotlib\n",
    "matplotlib.rc('xtick', labelsize=20) \n",
    "matplotlib.rc('ytick', labelsize=20) "
   ]
  },
  {
   "cell_type": "code",
   "execution_count": 13,
   "metadata": {
    "collapsed": false,
    "deletable": true,
    "editable": true
   },
   "outputs": [],
   "source": [
    "# to enlarge the sizes\n",
    "params = {'legend.fontsize': 'x-large',\n",
    "          'figure.figsize': (15, 15),\n",
    "         'axes.labelsize': 'x-large',\n",
    "         'axes.titlesize':'x-large',\n",
    "         'xtick.labelsize':'x-large',\n",
    "         'ytick.labelsize':'x-large'}\n",
    "plt.rcParams.update(params)"
   ]
  },
  {
   "cell_type": "code",
   "execution_count": 14,
   "metadata": {
    "collapsed": true,
    "deletable": true,
    "editable": true
   },
   "outputs": [],
   "source": [
    "############################################################################\n",
    "def ensure_dir(f):\n",
    "    d = os.path.dirname(f)\n",
    "    if not os.path.exists(f):\n",
    "        os.makedirs(f)\n",
    "#########################################################################"
   ]
  },
  {
   "cell_type": "markdown",
   "metadata": {
    "deletable": true,
    "editable": true
   },
   "source": [
    "### Output directory for images generated in the notebook view (not true fits images)"
   ]
  },
  {
   "cell_type": "code",
   "execution_count": 15,
   "metadata": {
    "collapsed": true,
    "deletable": true,
    "editable": true
   },
   "outputs": [],
   "source": [
    "dir_top_images=\"images_notebooks/\"+theNotebook ### Top directory to save images"
   ]
  },
  {
   "cell_type": "code",
   "execution_count": 16,
   "metadata": {
    "collapsed": true,
    "deletable": true,
    "editable": true
   },
   "outputs": [],
   "source": [
    "ensure_dir(dir_top_images) # create that directory"
   ]
  },
  {
   "cell_type": "markdown",
   "metadata": {
    "deletable": true,
    "editable": true
   },
   "source": [
    "### input directory of fits images"
   ]
  },
  {
   "cell_type": "code",
   "execution_count": 17,
   "metadata": {
    "collapsed": true,
    "deletable": true,
    "editable": true
   },
   "outputs": [],
   "source": [
    "inputdir=\"cut_fitsimages\"\n",
    "MIN_IMGNUMBER=72\n",
    "MAX_IMGNUMBER=81\n",
    "object_name='HD111980_RG715 May 29th 2017'\n",
    "SelectTagRe='^cutimg_20170529_([0-9]+).fits$' # regular expression to select the file\n",
    "SearchTagRe='^cutimg_20170529_[0-9]+.fits$'\n",
    "NBIMGPERROW=4"
   ]
  },
  {
   "cell_type": "code",
   "execution_count": null,
   "metadata": {
    "collapsed": true,
    "deletable": true,
    "editable": true
   },
   "outputs": [],
   "source": []
  },
  {
   "cell_type": "markdown",
   "metadata": {
    "deletable": true,
    "editable": true
   },
   "source": [
    "### output directory of fits images"
   ]
  },
  {
   "cell_type": "code",
   "execution_count": 18,
   "metadata": {
    "collapsed": true,
    "deletable": true,
    "editable": true
   },
   "outputs": [],
   "source": [
    "outputdir=\"./rotated_fitsimages\""
   ]
  },
  {
   "cell_type": "code",
   "execution_count": 19,
   "metadata": {
    "collapsed": true,
    "deletable": true,
    "editable": true
   },
   "outputs": [],
   "source": [
    "ensure_dir(outputdir)"
   ]
  },
  {
   "cell_type": "markdown",
   "metadata": {
    "deletable": true,
    "editable": true
   },
   "source": [
    "## Location of corrected images\n",
    "----------------------------------"
   ]
  },
  {
   "cell_type": "code",
   "execution_count": 20,
   "metadata": {
    "collapsed": false,
    "deletable": true,
    "editable": true
   },
   "outputs": [
    {
     "ename": "OSError",
     "evalue": "[Errno 2] No such file or directory: 'cut_fitsimages'",
     "output_type": "error",
     "traceback": [
      "\u001b[0;31m---------------------------------------------------------------------------\u001b[0m",
      "\u001b[0;31mOSError\u001b[0m                                   Traceback (most recent call last)",
      "\u001b[0;32m<ipython-input-20-fc37a408f687>\u001b[0m in \u001b[0;36m<module>\u001b[0;34m()\u001b[0m\n\u001b[0;32m----> 1\u001b[0;31m \u001b[0minput_filelist\u001b[0m\u001b[0;34m=\u001b[0m\u001b[0mos\u001b[0m\u001b[0;34m.\u001b[0m\u001b[0mlistdir\u001b[0m\u001b[0;34m(\u001b[0m\u001b[0minputdir\u001b[0m\u001b[0;34m)\u001b[0m\u001b[0;34m\u001b[0m\u001b[0m\n\u001b[0m",
      "\u001b[0;31mOSError\u001b[0m: [Errno 2] No such file or directory: 'cut_fitsimages'"
     ]
    }
   ],
   "source": [
    "input_filelist=os.listdir(inputdir) "
   ]
  },
  {
   "cell_type": "code",
   "execution_count": null,
   "metadata": {
    "collapsed": false,
    "deletable": true,
    "editable": true
   },
   "outputs": [],
   "source": [
    "if '.DS_Store' in input_filelist:\n",
    "    input_filelist.remove('.DS_Store')\n",
    "input_filelist=np.array(input_filelist)"
   ]
  },
  {
   "cell_type": "code",
   "execution_count": null,
   "metadata": {
    "collapsed": false,
    "deletable": true,
    "editable": true
   },
   "outputs": [],
   "source": [
    "print input_filelist"
   ]
  },
  {
   "cell_type": "code",
   "execution_count": null,
   "metadata": {
    "collapsed": true,
    "deletable": true,
    "editable": true
   },
   "outputs": [],
   "source": [
    "indexes_files= [] # global list\n",
    "filelist_fitsimages= []  # global list"
   ]
  },
  {
   "cell_type": "code",
   "execution_count": null,
   "metadata": {
    "collapsed": false,
    "deletable": true,
    "editable": true
   },
   "outputs": [],
   "source": [
    "#%%cython\n",
    "\n",
    "import numpy as np\n",
    "import re\n",
    "\n",
    "def MakeFileList(inputdir,input_filelist):\n",
    "    \"\"\"\n",
    "    MakeFileList : Make The List of files to open\n",
    "    =============\n",
    "    \"\"\"\n",
    "    \n",
    "#    import numpy as np\n",
    "#    import re\n",
    "    indexes_files= [] # global list\n",
    "    filelist_fitsimages= []  # global list\n",
    "    \n",
    "\n",
    "    \n",
    "    for file in input_filelist: # loop on directories, one per image       \n",
    "            filename=inputdir+'/'+file\n",
    "            if re.search('.*fits$',filename):  #example of filename filter\n",
    "                num_str=re.findall(SelectTagRe,file)[0]\n",
    "                index=int(num_str)\n",
    "                filelist_fitsimages.append(filename)\n",
    "                indexes_files.append(index)\n",
    "    return indexes_files, filelist_fitsimages\n",
    "\n",
    "    \n"
   ]
  },
  {
   "cell_type": "code",
   "execution_count": null,
   "metadata": {
    "collapsed": false,
    "deletable": true,
    "editable": true
   },
   "outputs": [],
   "source": [
    "indexes_files, filelist_fitsimages=MakeFileList(inputdir,input_filelist)   # Make the list"
   ]
  },
  {
   "cell_type": "code",
   "execution_count": null,
   "metadata": {
    "collapsed": true,
    "deletable": true,
    "editable": true
   },
   "outputs": [],
   "source": [
    "indexes_files=np.array(indexes_files)\n",
    "filelist_fitsimages=np.array(filelist_fitsimages)"
   ]
  },
  {
   "cell_type": "code",
   "execution_count": null,
   "metadata": {
    "collapsed": false,
    "deletable": true,
    "editable": true
   },
   "outputs": [],
   "source": [
    "print indexes_files"
   ]
  },
  {
   "cell_type": "code",
   "execution_count": null,
   "metadata": {
    "collapsed": true,
    "deletable": true,
    "editable": true
   },
   "outputs": [],
   "source": [
    "sorted_indexes=np.argsort(indexes_files) # sort the file indexes"
   ]
  },
  {
   "cell_type": "code",
   "execution_count": null,
   "metadata": {
    "collapsed": true,
    "deletable": true,
    "editable": true
   },
   "outputs": [],
   "source": [
    "sorted_numbers=indexes_files[sorted_indexes]"
   ]
  },
  {
   "cell_type": "code",
   "execution_count": null,
   "metadata": {
    "collapsed": false,
    "deletable": true,
    "editable": true
   },
   "outputs": [],
   "source": [
    "print sorted_indexes"
   ]
  },
  {
   "cell_type": "code",
   "execution_count": null,
   "metadata": {
    "collapsed": false,
    "deletable": true,
    "editable": true
   },
   "outputs": [],
   "source": [
    "#sorted_files= [filelist_fitsimages[index] for index in sorted_indexes] # sort files\n",
    "sorted_files=filelist_fitsimages[sorted_indexes]"
   ]
  },
  {
   "cell_type": "code",
   "execution_count": null,
   "metadata": {
    "collapsed": false,
    "deletable": true,
    "editable": true
   },
   "outputs": [],
   "source": [
    "#sorted_files"
   ]
  },
  {
   "cell_type": "markdown",
   "metadata": {
    "deletable": true,
    "editable": true
   },
   "source": [
    "## Build full filename\n",
    "----------------------------"
   ]
  },
  {
   "cell_type": "code",
   "execution_count": null,
   "metadata": {
    "collapsed": false,
    "deletable": true,
    "editable": true
   },
   "outputs": [],
   "source": [
    "sorted_filenames=[]\n",
    "for file in sorted_files:\n",
    "    #fullfilename=os.path.join(inputdir,file)\n",
    "    fullfilename=file\n",
    "    sorted_filenames.append(fullfilename)"
   ]
  },
  {
   "cell_type": "code",
   "execution_count": null,
   "metadata": {
    "collapsed": false,
    "deletable": true,
    "editable": true
   },
   "outputs": [],
   "source": [
    "#sorted_filenames=np.array(sorted_filenames)\n",
    "sorted_filenames=np.copy(sorted_files)"
   ]
  },
  {
   "cell_type": "code",
   "execution_count": null,
   "metadata": {
    "collapsed": false,
    "deletable": true,
    "editable": true
   },
   "outputs": [],
   "source": [
    "print sorted_filenames.shape"
   ]
  },
  {
   "cell_type": "markdown",
   "metadata": {
    "deletable": true,
    "editable": true
   },
   "source": [
    "## Acces to data of  images\n",
    "----------------------------------"
   ]
  },
  {
   "cell_type": "code",
   "execution_count": null,
   "metadata": {
    "collapsed": true,
    "deletable": true,
    "editable": true
   },
   "outputs": [],
   "source": [
    "all_dates = []\n",
    "all_airmass = []\n",
    "all_images = []\n",
    "all_titles = []\n",
    "all_header = []\n",
    "all_img = []\n",
    "all_filt = []"
   ]
  },
  {
   "cell_type": "code",
   "execution_count": null,
   "metadata": {
    "collapsed": false,
    "deletable": true,
    "editable": true
   },
   "outputs": [],
   "source": [
    "%%cython\n",
    "\n",
    "import numpy as np\n",
    "from astropy.io import fits\n",
    "\n",
    "def BuildImages(sorted_filenames,sorted_numbers,object_name):\n",
    "    \"\"\"\n",
    "    BuildRawImages\n",
    "    ===============\n",
    "    \"\"\"\n",
    "\n",
    "    \n",
    "    all_dates = []\n",
    "    all_airmass = []\n",
    "    all_images = []\n",
    "    all_titles = []\n",
    "    all_header = []\n",
    "    all_expo = []\n",
    "    all_filt = []\n",
    "   \n",
    "    NBFILES=sorted_filenames.shape[0]\n",
    "\n",
    "    for idx in range(NBFILES):  \n",
    "        \n",
    "        file=sorted_filenames[idx]    \n",
    "        \n",
    "        hdu_list=fits.open(file)\n",
    "        header=hdu_list[0].header\n",
    "        #print header\n",
    "        date_obs = header['DATE-OBS']\n",
    "        airmass = header['AIRMASS']\n",
    "        expo = header['EXPTIME']\n",
    "        filters = header['FILTERS']\n",
    "        num=sorted_numbers[idx]\n",
    "        title=object_name+\" z= {:3.2f} Nb={}\".format(float(airmass),num)\n",
    "        image_corr=hdu_list[0].data\n",
    "        image=image_corr\n",
    "        \n",
    "        all_dates.append(date_obs)\n",
    "        all_airmass.append(float(airmass))\n",
    "        all_images.append(image)\n",
    "        all_titles.append(title)\n",
    "        all_header.append(header)\n",
    "        all_expo.append(expo)\n",
    "        all_filt.append(filters)\n",
    "        hdu_list.close()\n",
    "        \n",
    "    return all_dates,all_airmass,all_images,all_titles,all_header,all_expo,all_filt"
   ]
  },
  {
   "cell_type": "code",
   "execution_count": null,
   "metadata": {
    "collapsed": false,
    "deletable": true,
    "editable": true
   },
   "outputs": [],
   "source": [
    "all_dates,all_airmass,all_images,all_titles,all_header,all_expo,all_filt=BuildImages(sorted_files,sorted_numbers,object_name)"
   ]
  },
  {
   "cell_type": "code",
   "execution_count": null,
   "metadata": {
    "collapsed": false,
    "deletable": true,
    "editable": true
   },
   "outputs": [],
   "source": []
  },
  {
   "cell_type": "markdown",
   "metadata": {
    "deletable": true,
    "editable": true
   },
   "source": [
    "## Show images\n",
    "-----------------------"
   ]
  },
  {
   "cell_type": "code",
   "execution_count": null,
   "metadata": {
    "collapsed": false,
    "deletable": true,
    "editable": true
   },
   "outputs": [],
   "source": [
    "len(all_images)"
   ]
  },
  {
   "cell_type": "code",
   "execution_count": null,
   "metadata": {
    "collapsed": false,
    "deletable": true,
    "editable": true
   },
   "outputs": [],
   "source": [
    "%%cython\n",
    "import numpy as np\n",
    "import matplotlib.pyplot as plt\n",
    "import os\n",
    "\n",
    "global NBIMGPERROW\n",
    "    \n",
    "def ShowImages(all_images,all_titles,object_name,dir_top_images):\n",
    "    \"\"\"\n",
    "    ShowRawImages: Show the raw images without background subtraction\n",
    "    ==============\n",
    "    \"\"\"\n",
    "    NBIMGPERROW=4\n",
    "    NBIMAGES=len(all_images)\n",
    "    MAXIMGROW=int(NBIMAGES/NBIMGPERROW)+1\n",
    "    thex0 = []\n",
    "    f, axarr = plt.subplots(MAXIMGROW,NBIMGPERROW,figsize=(25,10))\n",
    "    for index in np.arange(0,NBIMAGES):\n",
    "        ix=index%NBIMGPERROW\n",
    "        iy=index/NBIMGPERROW\n",
    "        xprofile=np.sum(all_images[index],axis=0)\n",
    "        x0=np.where(xprofile==xprofile.max())[0][0]\n",
    "        thex0.append(x0)\n",
    "        im=axarr[iy,ix].imshow(all_images[index],origin='lower',cmap='rainbow',vmin=-10,vmax=800)\n",
    "        axarr[iy,ix].set_title(all_titles[index])\n",
    "        axarr[iy,ix].grid(color='white', ls='solid')\n",
    "    title='Images of {}'.format(object_name)\n",
    "    plt.suptitle(title,size=16)\n",
    "    figfilename=os.path.join(dir_top_images,'input_images.pdf')\n",
    "    plt.savefig(figfilename)  \n",
    "    return thex0"
   ]
  },
  {
   "cell_type": "code",
   "execution_count": null,
   "metadata": {
    "collapsed": false,
    "deletable": true,
    "editable": true
   },
   "outputs": [],
   "source": [
    "thex0=ShowImages(all_images,all_titles,object_name,dir_top_images)"
   ]
  },
  {
   "cell_type": "markdown",
   "metadata": {
    "deletable": true,
    "editable": true
   },
   "source": [
    "## Duplicate the images"
   ]
  },
  {
   "cell_type": "code",
   "execution_count": null,
   "metadata": {
    "collapsed": true,
    "deletable": true,
    "editable": true
   },
   "outputs": [],
   "source": [
    "all_images2=[]\n",
    "for image in all_images:\n",
    "    image_copy=np.copy(image)\n",
    "    all_images2.append(image_copy)\n"
   ]
  },
  {
   "cell_type": "markdown",
   "metadata": {
    "deletable": true,
    "editable": true
   },
   "source": [
    "## Subtract Background"
   ]
  },
  {
   "cell_type": "code",
   "execution_count": null,
   "metadata": {
    "collapsed": true,
    "deletable": true,
    "editable": true
   },
   "outputs": [],
   "source": [
    "for theimage in all_images2:\n",
    "    NR,NC=theimage.shape\n",
    "    EmptySkyBackground=np.zeros([NR,NC])\n",
    "    SkyBackground=EmptySkyBackground+np.median(theimage,axis=0)\n",
    "    theimage-=SkyBackground"
   ]
  },
  {
   "cell_type": "code",
   "execution_count": null,
   "metadata": {
    "collapsed": false,
    "deletable": true,
    "editable": true
   },
   "outputs": [],
   "source": [
    "thex02=ShowImages(all_images2,all_titles,object_name,dir_top_images)"
   ]
  },
  {
   "cell_type": "markdown",
   "metadata": {
    "collapsed": false,
    "deletable": true,
    "editable": true
   },
   "source": [
    "### Shows the transverse profile"
   ]
  },
  {
   "cell_type": "code",
   "execution_count": null,
   "metadata": {
    "collapsed": false,
    "deletable": true,
    "editable": true
   },
   "outputs": [],
   "source": [
    "DeltaX=600\n",
    "w=20\n",
    "ws=80"
   ]
  },
  {
   "cell_type": "code",
   "execution_count": null,
   "metadata": {
    "collapsed": false,
    "deletable": true,
    "editable": true
   },
   "outputs": [],
   "source": [
    "%%cython\n",
    "import numpy as np\n",
    "import matplotlib.pyplot as plt\n",
    "    \n",
    "import os\n",
    "\n",
    "\n",
    "def ShowTransverseProfile(all_images,all_titles,object_name,all_expo,dir_top_images):\n",
    "    \"\"\"\n",
    "    ShowTransverseProfile: Show the raw images without background subtraction\n",
    "    =====================\n",
    "    \"\"\"\n",
    "    NBIMGPERROW=4\n",
    "    NBIMAGES=len(all_images)\n",
    "    MAXIMGROW=int(NBIMAGES/NBIMGPERROW)+1\n",
    "    DeltaX=600\n",
    "    w=20\n",
    "    ws=80\n",
    "    thespectra= []\n",
    "    they0= []\n",
    "    f, axarr = plt.subplots(MAXIMGROW,NBIMGPERROW,figsize=(25,10))\n",
    "    for index in np.arange(0,NBIMAGES):\n",
    "        ix=index%NBIMGPERROW\n",
    "        iy=index/NBIMGPERROW\n",
    "        data=np.copy(all_images[index])\n",
    "        data[:,DeltaX-ws:DeltaX+ws]=0\n",
    "        if(all_expo[index]<=0):\n",
    "            yprofile=np.sum(data,axis=1)  #very special case\n",
    "        else:\n",
    "            yprofile=np.sum(data,axis=1)/all_expo[index]\n",
    "        ymin=1\n",
    "        ymax=yprofile.max()\n",
    "        y0=np.where(yprofile==ymax)[0][0]\n",
    "        they0.append(y0)\n",
    "        #im=axarr[iy,ix].imshow(data,vmin=-10,vmax=50)\n",
    "        axarr[iy,ix].semilogy(yprofile)\n",
    "        axarr[iy,ix].semilogy([y0,y0],[ymin,ymax],'r-')\n",
    "        axarr[iy,ix].semilogy([y0-w,y0-w],[ymin,ymax],'k-')\n",
    "        axarr[iy,ix].semilogy([y0+w,y0+w],[ymin,ymax],'k-')\n",
    "        axarr[iy,ix].set_ylim(1000.,2e5)\n",
    "        spectrum2D=np.copy(data[y0-w:y0+w,:])\n",
    "        xprofile=np.sum(spectrum2D,axis=0)\n",
    "        thespectra.append(xprofile/(2.*float(w))/all_expo[index])\n",
    "        axarr[iy,ix].set_title(all_titles[index])\n",
    "        axarr[iy,ix].grid(True)\n",
    "    title='Spectrum tranverse profile '.format(object_name)\n",
    "    plt.suptitle(title,size=16)\n",
    "    figfilename=os.path.join(dir_top_images,'transverse_profile.pdf')\n",
    "    plt.savefig(figfilename)  \n",
    "    return thespectra,they0"
   ]
  },
  {
   "cell_type": "code",
   "execution_count": null,
   "metadata": {
    "collapsed": false,
    "deletable": true,
    "editable": true
   },
   "outputs": [],
   "source": [
    "thespectra,they0=ShowTransverseProfile(all_images2,all_titles,object_name,all_expo,dir_top_images)"
   ]
  },
  {
   "cell_type": "code",
   "execution_count": null,
   "metadata": {
    "collapsed": false,
    "deletable": true,
    "editable": true
   },
   "outputs": [],
   "source": [
    "%%cython\n",
    "import numpy as np\n",
    "import matplotlib.pyplot as plt\n",
    "import os\n",
    "def ShowSpectrumProfile(spectra,all_titles,object_name,dir_top_images):\n",
    "    \"\"\"\n",
    "    ShowSpectrumProfile: Show the raw images without background subtraction\n",
    "    =====================\n",
    "    \"\"\"\n",
    "    NBIMGPERROW=4\n",
    "    NBSPEC=len(spectra)\n",
    "    MAXIMGROW=int(NBSPEC/NBIMGPERROW)+1\n",
    "    \n",
    "    f, axarr = plt.subplots(MAXIMGROW,NBIMGPERROW,figsize=(25,5))\n",
    "    for index in np.arange(0,NBSPEC):\n",
    "        ix=index%NBIMGPERROW\n",
    "        iy=index/NBIMGPERROW\n",
    "        axarr[iy,ix].plot(spectra[index])\n",
    "        axarr[iy,ix].set_title(all_titles[index])\n",
    "        axarr[iy,ix].grid(True)\n",
    "        axarr[iy,ix].set_ylim(0.,200.)\n",
    "    title='Spectrum 1D profile '.format(object_name)\n",
    "    figfilename=os.path.join(dir_top_images,'longitudinal_profile.pdf')\n",
    "    plt.savefig(figfilename)  \n",
    "    plt.suptitle(title,size=16)"
   ]
  },
  {
   "cell_type": "code",
   "execution_count": null,
   "metadata": {
    "collapsed": false,
    "deletable": true,
    "editable": true
   },
   "outputs": [],
   "source": [
    "ShowSpectrumProfile(thespectra,all_titles,object_name,dir_top_images)"
   ]
  },
  {
   "cell_type": "code",
   "execution_count": null,
   "metadata": {
    "collapsed": false,
    "deletable": true,
    "editable": true
   },
   "outputs": [],
   "source": [
    "print they0"
   ]
  },
  {
   "cell_type": "code",
   "execution_count": null,
   "metadata": {
    "collapsed": false,
    "deletable": true,
    "editable": true
   },
   "outputs": [],
   "source": [
    "print thex0"
   ]
  },
  {
   "cell_type": "code",
   "execution_count": null,
   "metadata": {
    "collapsed": false,
    "deletable": true,
    "editable": true
   },
   "outputs": [],
   "source": []
  },
  {
   "cell_type": "code",
   "execution_count": null,
   "metadata": {
    "collapsed": false,
    "deletable": true,
    "editable": true
   },
   "outputs": [],
   "source": []
  },
  {
   "cell_type": "markdown",
   "metadata": {
    "deletable": true,
    "editable": true
   },
   "source": [
    "### Test rotation optimum\n",
    "----------------------------"
   ]
  },
  {
   "cell_type": "code",
   "execution_count": null,
   "metadata": {
    "collapsed": true,
    "deletable": true,
    "editable": true
   },
   "outputs": [],
   "source": [
    "from scipy import stats \n",
    "from scipy import ndimage\n",
    "from scipy.optimize import curve_fit"
   ]
  },
  {
   "cell_type": "code",
   "execution_count": null,
   "metadata": {
    "collapsed": true,
    "deletable": true,
    "editable": true
   },
   "outputs": [],
   "source": [
    "sel=0"
   ]
  },
  {
   "cell_type": "code",
   "execution_count": null,
   "metadata": {
    "collapsed": true,
    "deletable": true,
    "editable": true
   },
   "outputs": [],
   "source": [
    "image_sel=np.copy(all_images2[sel])\n",
    "y0=they0[sel]\n",
    "x0=thex0[sel]"
   ]
  },
  {
   "cell_type": "code",
   "execution_count": null,
   "metadata": {
    "collapsed": false,
    "deletable": true,
    "editable": true
   },
   "outputs": [],
   "source": [
    "plt.imshow(image_sel,origin='lower',cmap='rainbow',vmin=-10,vmax=800)\n",
    "plt.grid(color='white', ls='solid')"
   ]
  },
  {
   "cell_type": "code",
   "execution_count": null,
   "metadata": {
    "collapsed": false,
    "deletable": true,
    "editable": true
   },
   "outputs": [],
   "source": [
    "region=np.copy(image_sel[y0-100:y0+100,:])\n",
    "data=np.copy(region)"
   ]
  },
  {
   "cell_type": "code",
   "execution_count": null,
   "metadata": {
    "collapsed": false,
    "deletable": true,
    "editable": true
   },
   "outputs": [],
   "source": [
    "plt.imshow(data,origin='lower',cmap='rainbow',vmin=-10,vmax=800)\n",
    "plt.grid(color='white', ls='solid')"
   ]
  },
  {
   "cell_type": "markdown",
   "metadata": {
    "deletable": true,
    "editable": true
   },
   "source": [
    "### find the orientation by the average"
   ]
  },
  {
   "cell_type": "code",
   "execution_count": null,
   "metadata": {
    "collapsed": true,
    "deletable": true,
    "editable": true
   },
   "outputs": [],
   "source": [
    "def ComputeMedY(data):\n",
    "    \"\"\"\n",
    "    Compute the median of Y vs X to find later the angle of rotation\n",
    "    \"\"\"\n",
    "    NBINSY=data.shape[0]\n",
    "    NBINSX=data.shape[1]\n",
    "    the_medianY=np.zeros(NBINSX)\n",
    "    the_y=np.zeros(NBINSY)\n",
    "    for ix in np.arange(NBINSX):\n",
    "        the_ysum=np.sum(data[:,ix])\n",
    "        for iy in np.arange(NBINSY):\n",
    "            the_y[iy]=iy*data[iy,ix]\n",
    "        if(the_ysum>0):\n",
    "            med=np.sum(the_y)/the_ysum\n",
    "            the_medianY[ix]=med\n",
    "    return the_medianY"
   ]
  },
  {
   "cell_type": "code",
   "execution_count": null,
   "metadata": {
    "collapsed": false,
    "deletable": true,
    "editable": true
   },
   "outputs": [],
   "source": [
    "def ComputeAveY(data):\n",
    "    \"\"\"\n",
    "    Compute the average of Y vs X to find later the angle of rotation\n",
    "    \"\"\"\n",
    "    NBINSY=data.shape[0]\n",
    "    NBINSX=data.shape[1]\n",
    "    the_averY=np.zeros(NBINSX)\n",
    "    the_y=np.zeros(NBINSY)\n",
    "    for ix in np.arange(NBINSX):\n",
    "        the_ysum=np.sum(data[:,ix])\n",
    "        for iy in np.arange(NBINSY):\n",
    "            the_y[iy]=iy*data[iy,ix]\n",
    "        if(the_ysum>0):\n",
    "            med=np.sum(the_y)/the_ysum\n",
    "            the_averY[ix]=med\n",
    "    return the_averY"
   ]
  },
  {
   "cell_type": "code",
   "execution_count": null,
   "metadata": {
    "collapsed": false,
    "deletable": true,
    "editable": true
   },
   "outputs": [],
   "source": [
    "\n",
    "xindex=np.arange(data.shape[1])"
   ]
  },
  {
   "cell_type": "code",
   "execution_count": null,
   "metadata": {
    "collapsed": false,
    "deletable": true,
    "editable": true
   },
   "outputs": [],
   "source": [
    "#selected_indexes=np.where(np.logical_or(xindex<480,xindex>1100))"
   ]
  },
  {
   "cell_type": "code",
   "execution_count": null,
   "metadata": {
    "collapsed": true,
    "deletable": true,
    "editable": true
   },
   "outputs": [],
   "source": [
    "#selected_indexes=np.where(np.logical_or(np.logical_and(xindex>100,xindex<200) ,np.logical_and(xindex>1410,xindex<1600)))"
   ]
  },
  {
   "cell_type": "code",
   "execution_count": null,
   "metadata": {
    "collapsed": true,
    "deletable": true,
    "editable": true
   },
   "outputs": [],
   "source": [
    "selected_indexes=np.where(np.logical_or(np.logical_and(xindex>0,xindex<150) ,np.logical_and(xindex>1500,xindex<1600)))"
   ]
  },
  {
   "cell_type": "code",
   "execution_count": null,
   "metadata": {
    "collapsed": false,
    "deletable": true,
    "editable": true
   },
   "outputs": [],
   "source": [
    "yaver=ComputeAveY(data)"
   ]
  },
  {
   "cell_type": "code",
   "execution_count": null,
   "metadata": {
    "collapsed": false,
    "deletable": true,
    "editable": true
   },
   "outputs": [],
   "source": [
    "XtoFit=np.array(xindex[selected_indexes])\n",
    "YtoFit=np.array(yaver[selected_indexes])"
   ]
  },
  {
   "cell_type": "code",
   "execution_count": null,
   "metadata": {
    "collapsed": false,
    "deletable": true,
    "editable": true
   },
   "outputs": [],
   "source": [
    "plt.plot(XtoFit,YtoFit,'ro')\n",
    "plt.ylim(0,200)\n",
    "plt.grid(True)"
   ]
  },
  {
   "cell_type": "code",
   "execution_count": null,
   "metadata": {
    "collapsed": false,
    "deletable": true,
    "editable": true
   },
   "outputs": [],
   "source": [
    "selected_indexes2=np.where(np.logical_and(YtoFit<200,YtoFit>0))"
   ]
  },
  {
   "cell_type": "code",
   "execution_count": null,
   "metadata": {
    "collapsed": true,
    "deletable": true,
    "editable": true
   },
   "outputs": [],
   "source": [
    "XtoFit2=XtoFit[selected_indexes2]\n",
    "YtoFit2=YtoFit[selected_indexes2]"
   ]
  },
  {
   "cell_type": "code",
   "execution_count": null,
   "metadata": {
    "collapsed": false,
    "deletable": true,
    "editable": true
   },
   "outputs": [],
   "source": [
    "plt.plot(XtoFit2,YtoFit2,'ro')\n",
    "plt.ylim(0,200)\n",
    "plt.grid(True)"
   ]
  },
  {
   "cell_type": "code",
   "execution_count": null,
   "metadata": {
    "collapsed": false,
    "deletable": true,
    "editable": true
   },
   "outputs": [],
   "source": [
    "def fit_func(x, a, b):\n",
    "    return a*x + b"
   ]
  },
  {
   "cell_type": "code",
   "execution_count": null,
   "metadata": {
    "collapsed": false,
    "deletable": true,
    "editable": true
   },
   "outputs": [],
   "source": [
    "from scipy.optimize import curve_fit\n",
    "   "
   ]
  },
  {
   "cell_type": "code",
   "execution_count": null,
   "metadata": {
    "collapsed": true,
    "deletable": true,
    "editable": true
   },
   "outputs": [],
   "source": [
    "params = curve_fit(fit_func, XtoFit2, YtoFit2)\n",
    "[a, b] = params[0]"
   ]
  },
  {
   "cell_type": "code",
   "execution_count": null,
   "metadata": {
    "collapsed": false,
    "deletable": true,
    "editable": true
   },
   "outputs": [],
   "source": [
    "x_new = np.linspace(xindex.min(),xindex.max(), 50)\n",
    "y_new = fit_func(x_new,a,b)"
   ]
  },
  {
   "cell_type": "code",
   "execution_count": null,
   "metadata": {
    "collapsed": false,
    "deletable": true,
    "editable": true
   },
   "outputs": [],
   "source": [
    "plt.plot(XtoFit2,YtoFit2,'ro')\n",
    "plt.plot(x_new,y_new,'b-')\n",
    "plt.ylim(0,200)\n",
    "plt.grid(True)"
   ]
  },
  {
   "cell_type": "code",
   "execution_count": null,
   "metadata": {
    "collapsed": false,
    "deletable": true,
    "editable": true
   },
   "outputs": [],
   "source": [
    "print a,b"
   ]
  },
  {
   "cell_type": "code",
   "execution_count": null,
   "metadata": {
    "collapsed": false,
    "deletable": true,
    "editable": true
   },
   "outputs": [],
   "source": [
    "print np.arctan(a)*180/np.pi"
   ]
  },
  {
   "cell_type": "markdown",
   "metadata": {
    "deletable": true,
    "editable": true
   },
   "source": [
    "## Find Rotation angle for each image\n",
    "----------------------------------------------"
   ]
  },
  {
   "cell_type": "code",
   "execution_count": null,
   "metadata": {
    "collapsed": false,
    "deletable": true,
    "editable": true
   },
   "outputs": [],
   "source": [
    "def ComputeRotationAnge(all_images,thex0,they0,all_titles,object_name):\n",
    "    \"\"\"\n",
    "    ComputeRotationAnge\n",
    "    ===================\n",
    "    \n",
    "    input:\n",
    "    ------\n",
    "    all_images\n",
    "    thex0\n",
    "    they0\n",
    "    \n",
    "    \n",
    "    output:\n",
    "    ------\n",
    "    param_a\n",
    "    param_b\n",
    "    \n",
    "    \"\"\"\n",
    "    NBIMAGES=len(all_images)\n",
    "    MAXIMGROW=int(NBIMAGES/NBIMGPERROW)+1\n",
    "    \n",
    "    param_a=np.zeros(NBIMAGES)\n",
    "    param_b=np.zeros(NBIMAGES)\n",
    "\n",
    "    f, axarr = plt.subplots(MAXIMGROW,NBIMGPERROW,figsize=(25,5))\n",
    "    for index in np.arange(0,NBIMAGES):\n",
    "        ix=index%NBIMGPERROW\n",
    "        iy=index/NBIMGPERROW\n",
    "        \n",
    "        image=all_images[index]    \n",
    "        \n",
    "        image_sel=np.copy(image)\n",
    "        y0=they0[index]\n",
    "        x0=thex0[index]\n",
    "        \n",
    "        # extract a region of 200 x 1000 centered at y=100,x=500\n",
    "        \n",
    "        region=np.copy(image_sel[y0-100:y0+100,:])\n",
    "        data=np.copy(region)\n",
    "        \n",
    "        xindex=np.arange(data.shape[1])\n",
    "        \n",
    "        #selected_indexes=np.where(np.logical_or(np.logical_and(xindex>100,xindex<200) ,np.logical_and(xindex>1410,xindex<1600))) \n",
    "        selected_indexes=np.where(np.logical_or(np.logical_and(xindex>0,xindex<150) ,np.logical_and(xindex>1500,xindex<1600)))\n",
    "        # compute Y vs X\n",
    "        yaver=ComputeAveY(data)\n",
    "        \n",
    "        XtoFit=xindex[selected_indexes]\n",
    "        YtoFit=yaver[selected_indexes]\n",
    "        # does the fit\n",
    "        params = curve_fit(fit_func, XtoFit, YtoFit)\n",
    "        [a, b] = params[0]\n",
    "        \n",
    "        param_a[index]=a\n",
    "        param_b[index]=b\n",
    "        \n",
    "        print index,' y = ',a,' * x + ',b\n",
    "        x_new = np.linspace(xindex.min(),xindex.max(), 50)\n",
    "        y_new = fit_func(x_new,a,b)\n",
    "    \n",
    "        im=axarr[iy,ix].plot(XtoFit,YtoFit,'ro')\n",
    "        im=axarr[iy,ix].plot(x_new,y_new,'b-')\n",
    "        axarr[iy,ix].set_title(all_titles[index])\n",
    "        \n",
    "        axarr[iy,ix].set_ylim(0,200)\n",
    "        axarr[iy,ix].grid(True)\n",
    "        \n",
    "    title='Fit rotation angle of '.format(object_name)    \n",
    "    plt.suptitle(title,size=16)\n",
    "    \n",
    "    figfilename=os.path.join(dir_top_images,'fit_rotation.pdf')\n",
    "    plt.savefig(figfilename)  \n",
    "    \n",
    "    \n",
    "    return param_a,param_b\n",
    "    \n",
    "    "
   ]
  },
  {
   "cell_type": "code",
   "execution_count": null,
   "metadata": {
    "collapsed": false,
    "deletable": true,
    "editable": true
   },
   "outputs": [],
   "source": [
    "all_a,all_b=ComputeRotationAnge(all_images2,thex0,they0,all_titles,object_name)"
   ]
  },
  {
   "cell_type": "code",
   "execution_count": null,
   "metadata": {
    "collapsed": false,
    "deletable": true,
    "editable": true
   },
   "outputs": [],
   "source": [
    "all_angles=np.arctan(all_a)*180./np.pi"
   ]
  },
  {
   "cell_type": "markdown",
   "metadata": {
    "deletable": true,
    "editable": true
   },
   "source": [
    "### Choose here which rotation angle to apply"
   ]
  },
  {
   "cell_type": "code",
   "execution_count": null,
   "metadata": {
    "collapsed": false,
    "deletable": true,
    "editable": true
   },
   "outputs": [],
   "source": [
    "plt.figure(figsize=(10,5))\n",
    "#hist(x, bins=10, range=None, normed=False, weights=None, cumulative=False, bottom=None, histtype='bar', align='mid', orientation='vertical', rwidth=None, log=False, color=None, label=None, stacked=False, hold=None, data=None, **kwargs)\n",
    "#n, bins, patches=plt.hist(all_angles,bins=50,range=[-1,.5],histtype='stepfilled')\n",
    "n, bins, patches=plt.hist(all_angles,bins=100,histtype='stepfilled')\n",
    "plt.grid(True)\n",
    "plt.title('angle of rotation')\n",
    "plt.xlabel('angle (deg)')"
   ]
  },
  {
   "cell_type": "code",
   "execution_count": null,
   "metadata": {
    "collapsed": true,
    "deletable": true,
    "editable": true
   },
   "outputs": [],
   "source": [
    "selected_angles=all_angles[np.where(all_angles<0)]"
   ]
  },
  {
   "cell_type": "code",
   "execution_count": null,
   "metadata": {
    "collapsed": false,
    "deletable": true,
    "editable": true
   },
   "outputs": [],
   "source": [
    "plt.figure(figsize=(10,5))\n",
    "#n, bins, patches=plt.hist(selected_angles,bins=50,range=[-1.,0],histtype='stepfilled')\n",
    "n, bins, patches=plt.hist(selected_angles,bins=50,histtype='stepfilled')\n",
    "plt.grid(True)\n",
    "plt.title('selected angle of rotation')\n",
    "plt.xlabel('angle (deg)')"
   ]
  },
  {
   "cell_type": "code",
   "execution_count": null,
   "metadata": {
    "collapsed": false,
    "deletable": true,
    "editable": true
   },
   "outputs": [],
   "source": [
    "rotation_average=selected_angles.mean()"
   ]
  },
  {
   "cell_type": "markdown",
   "metadata": {
    "deletable": true,
    "editable": true
   },
   "source": [
    "#### Choose here if we want one average angle or one angle per image.\n",
    "-J'ai choisi ci-dessous de mettre à la main une rotation de -1.3 degrés"
   ]
  },
  {
   "cell_type": "code",
   "execution_count": null,
   "metadata": {
    "collapsed": true,
    "deletable": true,
    "editable": true
   },
   "outputs": [],
   "source": [
    "#final_rotation_angles=np.ones(all_angles.shape[0])*(-1.3)"
   ]
  },
  {
   "cell_type": "code",
   "execution_count": null,
   "metadata": {
    "collapsed": true,
    "deletable": true,
    "editable": true
   },
   "outputs": [],
   "source": [
    "final_rotation_angles=all_angles  # I select individual rotation, one per image"
   ]
  },
  {
   "cell_type": "code",
   "execution_count": null,
   "metadata": {
    "collapsed": false,
    "deletable": true,
    "editable": true
   },
   "outputs": [],
   "source": [
    "plt.figure(figsize=(15,5))\n",
    "plt.plot(indexes_files,final_rotation_angles,'o')\n",
    "plt.grid(True)\n",
    "plt.ylabel('rotation angle (deg)')\n",
    "plt.xlabel('event number')\n",
    "plt.title(object_name)\n",
    "figfilename=os.path.join(dir_top_images,'rotationvsevnum.pdf')\n",
    "plt.savefig(figfilename) "
   ]
  },
  {
   "cell_type": "markdown",
   "metadata": {
    "deletable": true,
    "editable": true
   },
   "source": [
    "## Now turn the images accordingly"
   ]
  },
  {
   "cell_type": "code",
   "execution_count": null,
   "metadata": {
    "collapsed": true,
    "deletable": true,
    "editable": true
   },
   "outputs": [],
   "source": [
    "def TurnTheImages(all_images,all_angles,all_titles,object_name,dir_top_images):\n",
    "    \"\"\"\n",
    "    TurnTheImages\n",
    "    =============\n",
    "    \n",
    "    input:\n",
    "    ------\n",
    "    all_images:\n",
    "    all_angles:\n",
    "    \n",
    "    \n",
    "    output:\n",
    "    ------\n",
    "    all_rotated_images\n",
    "    \n",
    "    \"\"\"\n",
    "    NBIMAGES=len(all_images)\n",
    "    MAXIMGROW=int(NBIMAGES/NBIMGPERROW)+1\n",
    "    \n",
    "    all_rotated_images = []\n",
    "\n",
    "    f, axarr = plt.subplots(MAXIMGROW,NBIMGPERROW,figsize=(25,10))\n",
    "    for index in np.arange(0,NBIMAGES):\n",
    "        ix=index%NBIMGPERROW\n",
    "        iy=index/NBIMGPERROW\n",
    "        \n",
    "        image=all_images[index]    \n",
    "        angle=all_angles[index]    \n",
    "        data=np.copy(image)\n",
    "        \n",
    "        rotated_image=ndimage.interpolation.rotate(data,angle)\n",
    "        \n",
    "        all_rotated_images.append(rotated_image)\n",
    "        \n",
    "        im=axarr[iy,ix].imshow(rotated_image,origin='lower',cmap='rainbow',vmin=0,vmax=800)\n",
    "        im=axarr[iy,ix].plot(x_new,y_new,'b-')\n",
    "        axarr[iy,ix].set_title(all_titles[index])\n",
    "        axarr[iy,ix].grid(color='white', ls='solid')\n",
    "        \n",
    "        axarr[iy,ix].grid(True)\n",
    "        \n",
    "    title='Rotated images for '.format(object_name)    \n",
    "    plt.suptitle(title,size=16)\n",
    "    \n",
    "    figfilename=os.path.join(dir_top_images,'rotated_images.pdf')\n",
    "    plt.savefig(figfilename)  \n",
    "    \n",
    "    return all_rotated_images"
   ]
  },
  {
   "cell_type": "code",
   "execution_count": null,
   "metadata": {
    "collapsed": false,
    "deletable": true,
    "editable": true
   },
   "outputs": [],
   "source": [
    "#turned_images=TurnTheImages(all_images,all_angles,all_titles,object_name)\n",
    "turned_images=TurnTheImages(all_images,final_rotation_angles,all_titles,object_name,dir_top_images) #same rotation for each image"
   ]
  },
  {
   "cell_type": "markdown",
   "metadata": {
    "deletable": true,
    "editable": true
   },
   "source": [
    "## Check rotation\n",
    "\n",
    "In case of bad rotation, check by eye"
   ]
  },
  {
   "cell_type": "code",
   "execution_count": null,
   "metadata": {
    "collapsed": false,
    "deletable": true,
    "editable": true
   },
   "outputs": [],
   "source": [
    "sel=4"
   ]
  },
  {
   "cell_type": "code",
   "execution_count": null,
   "metadata": {
    "collapsed": false,
    "deletable": true,
    "editable": true
   },
   "outputs": [],
   "source": [
    "plt.figure(figsize=(25,10))\n",
    "plt.imshow(turned_images[sel],origin='lower',cmap='rainbow',vmin=0,vmax=1000)\n",
    "plt.grid(True)\n",
    "plt.title(all_titles[sel])\n",
    "plt.grid(color='white', ls='solid')\n",
    "figfilename=os.path.join(dir_top_images,'rotated_image_sample.pdf')\n",
    "plt.savefig(figfilename)  "
   ]
  },
  {
   "cell_type": "code",
   "execution_count": null,
   "metadata": {
    "collapsed": true,
    "deletable": true,
    "editable": true
   },
   "outputs": [],
   "source": [
    "image_sel=np.copy(turned_images[sel])\n",
    "y0=they0[sel]\n",
    "x0=thex0[sel]"
   ]
  },
  {
   "cell_type": "code",
   "execution_count": null,
   "metadata": {
    "collapsed": true,
    "deletable": true,
    "editable": true
   },
   "outputs": [],
   "source": [
    "region=np.copy(image_sel[y0-100:y0+100,:])\n",
    "data=np.copy(region)"
   ]
  },
  {
   "cell_type": "code",
   "execution_count": null,
   "metadata": {
    "collapsed": true,
    "deletable": true,
    "editable": true
   },
   "outputs": [],
   "source": [
    "xindex=np.arange(data.shape[1])"
   ]
  },
  {
   "cell_type": "code",
   "execution_count": null,
   "metadata": {
    "collapsed": true,
    "deletable": true,
    "editable": true
   },
   "outputs": [],
   "source": [
    "#selected_indexes=np.where(np.logical_or(xindex<480,xindex>1100))\n",
    "#selected_indexes=np.where(np.logical_and(np.logical_or(xindex<460,xindex>1100),xindex< 1500))\n",
    "#selected_indexes=np.where(np.logical_and(np.logical_or(xindex<440,xindex>1150),xindex< 1440))\n",
    "#selected_indexes=np.where(np.logical_or(np.logical_and(xindex>175,xindex<400) ,np.logical_and(xindex>1100,xindex<1600)))\n",
    "selected_indexes=np.where(np.logical_or(np.logical_and(xindex>0,xindex<150) ,np.logical_and(xindex>1500,xindex<1600)))"
   ]
  },
  {
   "cell_type": "code",
   "execution_count": null,
   "metadata": {
    "collapsed": true,
    "deletable": true,
    "editable": true
   },
   "outputs": [],
   "source": [
    "yaver=ComputeAveY(data)"
   ]
  },
  {
   "cell_type": "code",
   "execution_count": null,
   "metadata": {
    "collapsed": true,
    "deletable": true,
    "editable": true
   },
   "outputs": [],
   "source": [
    "XtoFit=xindex[selected_indexes]\n",
    "YtoFit=yaver[selected_indexes]"
   ]
  },
  {
   "cell_type": "code",
   "execution_count": null,
   "metadata": {
    "collapsed": true,
    "deletable": true,
    "editable": true
   },
   "outputs": [],
   "source": [
    "params = curve_fit(fit_func, XtoFit, YtoFit)\n",
    "[a, b] = params[0]"
   ]
  },
  {
   "cell_type": "code",
   "execution_count": null,
   "metadata": {
    "collapsed": true,
    "deletable": true,
    "editable": true
   },
   "outputs": [],
   "source": [
    "x_new = np.linspace(xindex.min(),xindex.max(), 50)\n",
    "y_new = fit_func(x_new,a,b)"
   ]
  },
  {
   "cell_type": "code",
   "execution_count": null,
   "metadata": {
    "collapsed": false,
    "deletable": true,
    "editable": true
   },
   "outputs": [],
   "source": [
    "plt.plot(XtoFit,YtoFit,'ro')\n",
    "plt.plot(x_new,y_new,'b-')\n",
    "plt.ylim(80,120)\n",
    "plt.grid(True)"
   ]
  },
  {
   "cell_type": "markdown",
   "metadata": {
    "deletable": true,
    "editable": true
   },
   "source": [
    "### prepare outputfilename"
   ]
  },
  {
   "cell_type": "code",
   "execution_count": null,
   "metadata": {
    "collapsed": false,
    "deletable": true,
    "editable": true
   },
   "outputs": [],
   "source": [
    "sorted_files"
   ]
  },
  {
   "cell_type": "code",
   "execution_count": null,
   "metadata": {
    "collapsed": false,
    "deletable": true,
    "editable": true
   },
   "outputs": [],
   "source": [
    "newfullfilenames=[]\n",
    "for idx,file in np.ndenumerate(sorted_files):\n",
    "    short_infilename=file.split(\"/\")[1]\n",
    "    short_partfilename=re.findall('^cutimg_(.*)',short_infilename)\n",
    "    short_outfilename='rotimg_'+short_partfilename[0]\n",
    "    newfullfilename=os.path.join(outputdir,short_outfilename)\n",
    "    newfullfilenames.append(newfullfilename)"
   ]
  },
  {
   "cell_type": "code",
   "execution_count": null,
   "metadata": {
    "collapsed": false,
    "deletable": true,
    "editable": true
   },
   "outputs": [],
   "source": [
    "newfullfilenames"
   ]
  },
  {
   "cell_type": "markdown",
   "metadata": {
    "deletable": true,
    "editable": true
   },
   "source": [
    "### Save outputfilename"
   ]
  },
  {
   "cell_type": "code",
   "execution_count": null,
   "metadata": {
    "collapsed": false,
    "deletable": true,
    "editable": true
   },
   "outputs": [],
   "source": [
    "for idx,file in np.ndenumerate(newfullfilenames):\n",
    "    prihdu = fits.PrimaryHDU(header=all_header[idx[0]],data=turned_images[idx[0]])\n",
    "    thdulist = fits.HDUList(prihdu)\n",
    "    thdulist.writeto(file,overwrite=True)"
   ]
  },
  {
   "cell_type": "code",
   "execution_count": null,
   "metadata": {
    "collapsed": false,
    "deletable": true,
    "editable": true
   },
   "outputs": [],
   "source": []
  },
  {
   "cell_type": "code",
   "execution_count": null,
   "metadata": {
    "collapsed": false,
    "deletable": true,
    "editable": true
   },
   "outputs": [],
   "source": [
    "!ls -l rotated_fitsimages"
   ]
  },
  {
   "cell_type": "code",
   "execution_count": null,
   "metadata": {
    "collapsed": true,
    "deletable": true,
    "editable": true
   },
   "outputs": [],
   "source": []
  },
  {
   "cell_type": "code",
   "execution_count": null,
   "metadata": {
    "collapsed": true,
    "deletable": true,
    "editable": true
   },
   "outputs": [],
   "source": []
  }
 ],
 "metadata": {
  "anaconda-cloud": {},
  "kernelspec": {
   "display_name": "Python 2",
   "language": "python",
   "name": "python2"
  },
  "language_info": {
   "codemirror_mode": {
    "name": "ipython",
    "version": 2
   },
   "file_extension": ".py",
   "mimetype": "text/x-python",
   "name": "python",
   "nbconvert_exporter": "python",
   "pygments_lexer": "ipython2",
   "version": "2.7.10"
  },
  "toc": {
   "colors": {
    "hover_highlight": "#DAA520",
    "running_highlight": "#FF0000",
    "selected_highlight": "#FFD700"
   },
   "moveMenuLeft": true,
   "nav_menu": {
    "height": "351px",
    "width": "252px"
   },
   "navigate_menu": true,
   "number_sections": true,
   "sideBar": true,
   "threshold": 4,
   "toc_cell": false,
   "toc_section_display": "block",
   "toc_window_display": false,
   "widenNotebook": false
  }
 },
 "nbformat": 4,
 "nbformat_minor": 0
}
