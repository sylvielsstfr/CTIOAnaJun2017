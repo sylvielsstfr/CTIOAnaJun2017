{
 "cells": [
  {
   "cell_type": "markdown",
   "metadata": {
    "deletable": true,
    "editable": true
   },
   "source": [
    "# Simulation of observed spectrum\n",
    "\n",
    "- author : Sylvie Dagoret-Campagne\n",
    "- date jun 19th 2017"
   ]
  },
  {
   "cell_type": "code",
   "execution_count": 51,
   "metadata": {
    "collapsed": false,
    "deletable": true,
    "editable": true
   },
   "outputs": [
    {
     "data": {
      "application/javascript": [
       "var kernel = IPython.notebook.kernel;\n",
       "var thename = window.document.getElementById(\"notebook_name\").innerHTML;\n",
       "var command = \"theNotebook = \" + \"'\"+thename+\"'\";\n",
       "kernel.execute(command);"
      ],
      "text/plain": [
       "<IPython.core.display.Javascript object>"
      ]
     },
     "metadata": {},
     "output_type": "display_data"
    }
   ],
   "source": [
    "%%javascript\n",
    "var kernel = IPython.notebook.kernel;\n",
    "var thename = window.document.getElementById(\"notebook_name\").innerHTML;\n",
    "var command = \"theNotebook = \" + \"'\"+thename+\"'\";\n",
    "kernel.execute(command);"
   ]
  },
  {
   "cell_type": "code",
   "execution_count": 52,
   "metadata": {
    "collapsed": false,
    "deletable": true,
    "editable": true
   },
   "outputs": [
    {
     "name": "stdout",
     "output_type": "stream",
     "text": [
      "GenerateSimulationProfiles\n"
     ]
    }
   ],
   "source": [
    "print(theNotebook)"
   ]
  },
  {
   "cell_type": "code",
   "execution_count": 53,
   "metadata": {
    "collapsed": true,
    "deletable": true,
    "editable": true
   },
   "outputs": [],
   "source": [
    "%matplotlib inline\n",
    "import matplotlib.pyplot as plt\n",
    "import matplotlib as mpl\n",
    "import numpy as np\n",
    "\n",
    "from astropy.modeling import models\n",
    "from astropy import units as u\n",
    "from astropy import nddata\n",
    "from astropy.io import fits\n",
    "from astropy.table import Table, Column\n",
    "import re\n",
    "import os"
   ]
  },
  {
   "cell_type": "code",
   "execution_count": 54,
   "metadata": {
    "collapsed": true,
    "deletable": true,
    "editable": true
   },
   "outputs": [],
   "source": [
    "import pandas as pd"
   ]
  },
  {
   "cell_type": "code",
   "execution_count": 55,
   "metadata": {
    "collapsed": false,
    "deletable": true,
    "editable": true
   },
   "outputs": [],
   "source": [
    "from matplotlib.backends.backend_pdf import PdfPages"
   ]
  },
  {
   "cell_type": "markdown",
   "metadata": {
    "deletable": true,
    "editable": true
   },
   "source": [
    "### Import libradtan tools for simulation"
   ]
  },
  {
   "cell_type": "code",
   "execution_count": 56,
   "metadata": {
    "collapsed": true,
    "deletable": true,
    "editable": true
   },
   "outputs": [],
   "source": [
    "import sys\n",
    "sys.path.append('../../spectrumsim/libradtransim')"
   ]
  },
  {
   "cell_type": "code",
   "execution_count": 57,
   "metadata": {
    "collapsed": true,
    "deletable": true,
    "editable": true
   },
   "outputs": [],
   "source": [
    "from libsimulateTranspCTIOScattAbs import *"
   ]
  },
  {
   "cell_type": "code",
   "execution_count": 58,
   "metadata": {
    "collapsed": true,
    "deletable": true,
    "editable": true
   },
   "outputs": [],
   "source": [
    "sys.path.append('../../spectrumsim')\n",
    "import libCTIOTransm as ctiosim "
   ]
  },
  {
   "cell_type": "markdown",
   "metadata": {
    "deletable": true,
    "editable": true
   },
   "source": [
    "### import pysynphot tools for CALSPEC SED"
   ]
  },
  {
   "cell_type": "code",
   "execution_count": 59,
   "metadata": {
    "collapsed": false,
    "deletable": true,
    "editable": true
   },
   "outputs": [
    {
     "data": {
      "text/plain": [
       "'/Users/dagoret-campagnesylvie/MacOsX/External/PySyn_CDBS/grp/hst/cdbs'"
      ]
     },
     "execution_count": 59,
     "metadata": {},
     "output_type": "execute_result"
    }
   ],
   "source": [
    "os.environ['PYSYN_CDBS']"
   ]
  },
  {
   "cell_type": "code",
   "execution_count": 60,
   "metadata": {
    "collapsed": true,
    "deletable": true,
    "editable": true
   },
   "outputs": [],
   "source": [
    "import pysynphot as S\n",
    "from astropy.io import ascii"
   ]
  },
  {
   "cell_type": "markdown",
   "metadata": {
    "deletable": true,
    "editable": true
   },
   "source": [
    "### CTIO Properties"
   ]
  },
  {
   "cell_type": "code",
   "execution_count": 61,
   "metadata": {
    "collapsed": false,
    "deletable": true,
    "editable": true
   },
   "outputs": [],
   "source": [
    "path_ctiodata='../../spectrumsim/CTIOThroughput'\n",
    "qe_filename='qecurve.txt'"
   ]
  },
  {
   "cell_type": "markdown",
   "metadata": {
    "deletable": true,
    "editable": true
   },
   "source": [
    "### esthetic"
   ]
  },
  {
   "cell_type": "code",
   "execution_count": 62,
   "metadata": {
    "collapsed": true,
    "deletable": true,
    "editable": true
   },
   "outputs": [],
   "source": [
    "# to enlarge the sizes\n",
    "params = {'legend.fontsize': 'x-large',\n",
    "          'figure.figsize': (8, 6),\n",
    "         'axes.labelsize': 'x-large',\n",
    "         'axes.titlesize':'x-large',\n",
    "         'xtick.labelsize':'x-large',\n",
    "         'ytick.labelsize':'x-large'}\n",
    "plt.rcParams.update(params)"
   ]
  },
  {
   "cell_type": "code",
   "execution_count": 63,
   "metadata": {
    "collapsed": true,
    "deletable": true,
    "editable": true
   },
   "outputs": [],
   "source": [
    "############################################################################\n",
    "def ensure_dir(f):\n",
    "    d = os.path.dirname(f)\n",
    "    if not os.path.exists(f):\n",
    "        os.makedirs(f)\n",
    "#########################################################################"
   ]
  },
  {
   "cell_type": "code",
   "execution_count": 64,
   "metadata": {
    "collapsed": true,
    "deletable": true,
    "editable": true
   },
   "outputs": [],
   "source": [
    "def truncate(f, n):\n",
    "    '''Truncates/pads a float f to n decimal places without rounding'''\n",
    "    s = '{}'.format(f)\n",
    "    if 'e' in s or 'E' in s:\n",
    "        return '{0:.{1}f}'.format(f, n)\n",
    "    i, p, d = s.partition('.')\n",
    "    return '.'.join([i, (d+'0'*n)[:n]])"
   ]
  },
  {
   "cell_type": "code",
   "execution_count": 65,
   "metadata": {
    "collapsed": true,
    "deletable": true,
    "editable": true
   },
   "outputs": [],
   "source": [
    "infos='ctio01jun2017'"
   ]
  },
  {
   "cell_type": "code",
   "execution_count": 66,
   "metadata": {
    "collapsed": false,
    "deletable": true,
    "editable": true
   },
   "outputs": [
    {
     "name": "stdout",
     "output_type": "stream",
     "text": [
      "AnaCompareDataSimSpec.ipynb\r\n",
      "AnaEqWdtCalibSpectrum.ipynb\r\n",
      "CalibrateSpectrum.ipynb\r\n",
      "Extract_Spectrum.ipynb\r\n",
      "FindCentralStar.ipynb\r\n",
      "FindCentralStarFast.ipynb\r\n",
      "FindOptRot.ipynb\r\n",
      "GenerateSimulationProfiles.ipynb\r\n",
      "MakeLogBook.ipynb\r\n",
      "ReduceAllImages.ipynb\r\n",
      "ViewAllImages.ipynb\r\n",
      "\u001b[34mcut_fitsimages\u001b[m\u001b[m\r\n",
      "\u001b[34mimages_notebooks\u001b[m\u001b[m\r\n",
      "logbk_HD205905_June_01th_ctio01jun2017.csv\r\n",
      "logbk_HD205905_June_01th_ctio01jun2017.fits\r\n",
      "\u001b[34mprocessed_fitsimages\u001b[m\u001b[m\r\n",
      "\u001b[34mreduced_fitsimages\u001b[m\u001b[m\r\n",
      "\u001b[34mrotated_fitsimages\u001b[m\u001b[m\r\n",
      "\u001b[34mspectrum_fitsspec\u001b[m\u001b[m\r\n"
     ]
    }
   ],
   "source": [
    "!ls\n"
   ]
  },
  {
   "cell_type": "code",
   "execution_count": 67,
   "metadata": {
    "collapsed": true,
    "deletable": true,
    "editable": true
   },
   "outputs": [],
   "source": [
    "rootpath_rawimage=\"../OverScanRemove/trim_images\"\n",
    "MIN_IMGNUMBER=60\n",
    "MAX_IMGNUMBER=160\n",
    "object_name='HD205905_June_01th'\n",
    "SelectTagRe='^trim_20170601_([0-9]+).fits$' # regular expression to select the file\n",
    "SearchTagRe='^trim_20170601_[0-9]+.fits$'\n",
    "NBIMGPERLROW=4\n",
    "calspec_sed='hd205905_stis_003.fits'"
   ]
  },
  {
   "cell_type": "code",
   "execution_count": 68,
   "metadata": {
    "collapsed": false,
    "deletable": true,
    "editable": true
   },
   "outputs": [
    {
     "name": "stdout",
     "output_type": "stream",
     "text": [
      "logbk_HD205905_June_01th17_ctio01jun2017.fits\n"
     ]
    }
   ],
   "source": [
    "print logfile"
   ]
  },
  {
   "cell_type": "code",
   "execution_count": 69,
   "metadata": {
    "collapsed": false,
    "deletable": true,
    "editable": true
   },
   "outputs": [],
   "source": [
    "logfile='logbk_'+object_name+'_'+infos+'.fits'\n",
    "pandaslogfile='logbk_'+object_name+'_'+infos+'.csv'"
   ]
  },
  {
   "cell_type": "code",
   "execution_count": 70,
   "metadata": {
    "collapsed": true,
    "deletable": true,
    "editable": true
   },
   "outputs": [],
   "source": [
    "outputfitsfile='AllSimSpectra_'+object_name+'.fits'"
   ]
  },
  {
   "cell_type": "code",
   "execution_count": 71,
   "metadata": {
    "collapsed": true,
    "deletable": true,
    "editable": true
   },
   "outputs": [],
   "source": [
    "dir_top_images=\"images_notebooks/\"+theNotebook ### Top directory to save images"
   ]
  },
  {
   "cell_type": "code",
   "execution_count": 72,
   "metadata": {
    "collapsed": true,
    "deletable": true,
    "editable": true
   },
   "outputs": [],
   "source": [
    "ensure_dir(dir_top_images)"
   ]
  },
  {
   "cell_type": "markdown",
   "metadata": {
    "deletable": true,
    "editable": true
   },
   "source": [
    "## Get list of airmass"
   ]
  },
  {
   "cell_type": "code",
   "execution_count": 73,
   "metadata": {
    "collapsed": false
   },
   "outputs": [
    {
     "name": "stdout",
     "output_type": "stream",
     "text": [
      "AnaCompareDataSimSpec.ipynb\r\n",
      "AnaEqWdtCalibSpectrum.ipynb\r\n",
      "CalibrateSpectrum.ipynb\r\n",
      "Extract_Spectrum.ipynb\r\n",
      "FindCentralStar.ipynb\r\n",
      "FindCentralStarFast.ipynb\r\n",
      "FindOptRot.ipynb\r\n",
      "GenerateSimulationProfiles.ipynb\r\n",
      "MakeLogBook.ipynb\r\n",
      "ReduceAllImages.ipynb\r\n",
      "ViewAllImages.ipynb\r\n",
      "\u001b[34mcut_fitsimages\u001b[m\u001b[m\r\n",
      "\u001b[34mimages_notebooks\u001b[m\u001b[m\r\n",
      "logbk_HD205905_June_01th_ctio01jun2017.csv\r\n",
      "logbk_HD205905_June_01th_ctio01jun2017.fits\r\n",
      "\u001b[34mprocessed_fitsimages\u001b[m\u001b[m\r\n",
      "\u001b[34mreduced_fitsimages\u001b[m\u001b[m\r\n",
      "\u001b[34mrotated_fitsimages\u001b[m\u001b[m\r\n",
      "\u001b[34mspectrum_fitsspec\u001b[m\u001b[m\r\n"
     ]
    }
   ],
   "source": [
    "!ls"
   ]
  },
  {
   "cell_type": "code",
   "execution_count": 74,
   "metadata": {
    "collapsed": false
   },
   "outputs": [
    {
     "name": "stdout",
     "output_type": "stream",
     "text": [
      "logbk_HD205905_June_01th_ctio01jun2017.csv\n"
     ]
    }
   ],
   "source": [
    "print pandaslogfile"
   ]
  },
  {
   "cell_type": "code",
   "execution_count": 75,
   "metadata": {
    "collapsed": false,
    "deletable": true,
    "editable": true
   },
   "outputs": [],
   "source": [
    "df=pd.read_csv(pandaslogfile)"
   ]
  },
  {
   "cell_type": "code",
   "execution_count": 76,
   "metadata": {
    "collapsed": false,
    "deletable": true,
    "editable": true
   },
   "outputs": [
    {
     "data": {
      "text/html": [
       "<div>\n",
       "<table border=\"1\" class=\"dataframe\">\n",
       "  <thead>\n",
       "    <tr style=\"text-align: right;\">\n",
       "      <th></th>\n",
       "      <th>Unnamed: 0</th>\n",
       "      <th>number</th>\n",
       "      <th>airmass</th>\n",
       "      <th>date</th>\n",
       "      <th>filename</th>\n",
       "      <th>exposure</th>\n",
       "      <th>zenith</th>\n",
       "      <th>temperature</th>\n",
       "      <th>pressure</th>\n",
       "      <th>humidity</th>\n",
       "      <th>windspeed</th>\n",
       "      <th>seeing</th>\n",
       "      <th>filter1</th>\n",
       "      <th>filter2</th>\n",
       "    </tr>\n",
       "  </thead>\n",
       "  <tbody>\n",
       "    <tr>\n",
       "      <th>0</th>\n",
       "      <td>0</td>\n",
       "      <td>60</td>\n",
       "      <td>1.281</td>\n",
       "      <td>2017-06-02T06:42:01.306</td>\n",
       "      <td>../OverScanRemove/trim_images/</td>\n",
       "      <td>120.0</td>\n",
       "      <td>38.717999</td>\n",
       "      <td>13.0</td>\n",
       "      <td>778.0</td>\n",
       "      <td>21.0</td>\n",
       "      <td>15.500000</td>\n",
       "      <td>0.811</td>\n",
       "      <td>RG715</td>\n",
       "      <td>HoloPhAg</td>\n",
       "    </tr>\n",
       "    <tr>\n",
       "      <th>1</th>\n",
       "      <td>1</td>\n",
       "      <td>61</td>\n",
       "      <td>1.270</td>\n",
       "      <td>2017-06-02T06:44:53.702</td>\n",
       "      <td>../OverScanRemove/trim_images/</td>\n",
       "      <td>120.0</td>\n",
       "      <td>38.099998</td>\n",
       "      <td>13.1</td>\n",
       "      <td>778.0</td>\n",
       "      <td>21.0</td>\n",
       "      <td>17.400000</td>\n",
       "      <td>0.829</td>\n",
       "      <td>RG715</td>\n",
       "      <td>HoloAmAg</td>\n",
       "    </tr>\n",
       "    <tr>\n",
       "      <th>2</th>\n",
       "      <td>2</td>\n",
       "      <td>62</td>\n",
       "      <td>1.260</td>\n",
       "      <td>2017-06-02T06:47:45.844</td>\n",
       "      <td>../OverScanRemove/trim_images/</td>\n",
       "      <td>60.0</td>\n",
       "      <td>37.483002</td>\n",
       "      <td>13.0</td>\n",
       "      <td>778.0</td>\n",
       "      <td>21.0</td>\n",
       "      <td>17.000000</td>\n",
       "      <td>0.829</td>\n",
       "      <td>RG715</td>\n",
       "      <td>Ron400</td>\n",
       "    </tr>\n",
       "    <tr>\n",
       "      <th>3</th>\n",
       "      <td>3</td>\n",
       "      <td>63</td>\n",
       "      <td>1.253</td>\n",
       "      <td>2017-06-02T06:49:38.151</td>\n",
       "      <td>../OverScanRemove/trim_images/</td>\n",
       "      <td>60.0</td>\n",
       "      <td>37.080002</td>\n",
       "      <td>13.1</td>\n",
       "      <td>778.0</td>\n",
       "      <td>21.0</td>\n",
       "      <td>15.800000</td>\n",
       "      <td>0.847</td>\n",
       "      <td>RG715</td>\n",
       "      <td>Thor300</td>\n",
       "    </tr>\n",
       "    <tr>\n",
       "      <th>4</th>\n",
       "      <td>4</td>\n",
       "      <td>64</td>\n",
       "      <td>1.246</td>\n",
       "      <td>2017-06-02T06:51:30.502</td>\n",
       "      <td>../OverScanRemove/trim_images/</td>\n",
       "      <td>60.0</td>\n",
       "      <td>36.675999</td>\n",
       "      <td>13.1</td>\n",
       "      <td>778.0</td>\n",
       "      <td>21.0</td>\n",
       "      <td>16.299999</td>\n",
       "      <td>0.715</td>\n",
       "      <td>RG715</td>\n",
       "      <td>HoloPhP</td>\n",
       "    </tr>\n",
       "  </tbody>\n",
       "</table>\n",
       "</div>"
      ],
      "text/plain": [
       "   Unnamed: 0  number  airmass                     date  \\\n",
       "0           0      60    1.281  2017-06-02T06:42:01.306   \n",
       "1           1      61    1.270  2017-06-02T06:44:53.702   \n",
       "2           2      62    1.260  2017-06-02T06:47:45.844   \n",
       "3           3      63    1.253  2017-06-02T06:49:38.151   \n",
       "4           4      64    1.246  2017-06-02T06:51:30.502   \n",
       "\n",
       "                         filename  exposure     zenith  temperature  pressure  \\\n",
       "0  ../OverScanRemove/trim_images/     120.0  38.717999         13.0     778.0   \n",
       "1  ../OverScanRemove/trim_images/     120.0  38.099998         13.1     778.0   \n",
       "2  ../OverScanRemove/trim_images/      60.0  37.483002         13.0     778.0   \n",
       "3  ../OverScanRemove/trim_images/      60.0  37.080002         13.1     778.0   \n",
       "4  ../OverScanRemove/trim_images/      60.0  36.675999         13.1     778.0   \n",
       "\n",
       "   humidity  windspeed  seeing filter1   filter2  \n",
       "0      21.0  15.500000   0.811   RG715  HoloPhAg  \n",
       "1      21.0  17.400000   0.829   RG715  HoloAmAg  \n",
       "2      21.0  17.000000   0.829   RG715    Ron400  \n",
       "3      21.0  15.800000   0.847   RG715   Thor300  \n",
       "4      21.0  16.299999   0.715   RG715   HoloPhP  "
      ]
     },
     "execution_count": 76,
     "metadata": {},
     "output_type": "execute_result"
    }
   ],
   "source": [
    "df.head()"
   ]
  },
  {
   "cell_type": "code",
   "execution_count": 77,
   "metadata": {
    "collapsed": false,
    "deletable": true,
    "editable": true
   },
   "outputs": [],
   "source": [
    "airmasses=df[\"airmass\"]\n",
    "date=df['date']\n",
    "expo=df['exposure']\n",
    "datafile=df['filename']\n",
    "temperature=df['temperature']\n",
    "pressure=df['pressure']\n",
    "humidity=df['humidity']\n",
    "seeing=df['seeing']\n",
    "disperser=df['filter2']"
   ]
  },
  {
   "cell_type": "code",
   "execution_count": null,
   "metadata": {
    "collapsed": false,
    "deletable": true,
    "editable": true
   },
   "outputs": [],
   "source": []
  },
  {
   "cell_type": "markdown",
   "metadata": {
    "deletable": true,
    "editable": true
   },
   "source": [
    "## Get quantum efficiency"
   ]
  },
  {
   "cell_type": "code",
   "execution_count": 78,
   "metadata": {
    "collapsed": true,
    "deletable": true,
    "editable": true
   },
   "outputs": [],
   "source": [
    "wl_qe,tr_qe=ctiosim. Get_QE()"
   ]
  },
  {
   "cell_type": "code",
   "execution_count": 79,
   "metadata": {
    "collapsed": false,
    "deletable": true,
    "editable": true
   },
   "outputs": [
    {
     "data": {
      "text/plain": [
       "[<matplotlib.lines.Line2D at 0x1097049d0>]"
      ]
     },
     "execution_count": 79,
     "metadata": {},
     "output_type": "execute_result"
    },
    {
     "data": {
      "image/png": "[encoded data removed]",
      "text/plain": [
       "<matplotlib.figure.Figure at 0x109678950>"
      ]
     },
     "metadata": {},
     "output_type": "display_data"
    }
   ],
   "source": [
    "plt.plot(wl_qe,tr_qe)"
   ]
  },
  {
   "cell_type": "code",
   "execution_count": 80,
   "metadata": {
    "collapsed": true,
    "deletable": true,
    "editable": true
   },
   "outputs": [],
   "source": [
    "bp_ctio_qe = S.ArrayBandpass(wl_qe*10.,tr_qe, name='CTIO QE')"
   ]
  },
  {
   "cell_type": "code",
   "execution_count": null,
   "metadata": {
    "collapsed": true,
    "deletable": true,
    "editable": true
   },
   "outputs": [],
   "source": []
  },
  {
   "cell_type": "markdown",
   "metadata": {
    "deletable": true,
    "editable": true
   },
   "source": [
    "## Get mirror"
   ]
  },
  {
   "cell_type": "code",
   "execution_count": 81,
   "metadata": {
    "collapsed": true,
    "deletable": true,
    "editable": true
   },
   "outputs": [],
   "source": [
    "wl_m,tr_m=ctiosim. Get_Mirror()"
   ]
  },
  {
   "cell_type": "code",
   "execution_count": 82,
   "metadata": {
    "collapsed": false,
    "deletable": true,
    "editable": true
   },
   "outputs": [
    {
     "data": {
      "text/plain": [
       "[<matplotlib.lines.Line2D at 0x109a4f3d0>]"
      ]
     },
     "execution_count": 82,
     "metadata": {},
     "output_type": "execute_result"
    },
    {
     "data": {
      "image/png": "[encoded data removed]",
      "text/plain": [
       "<matplotlib.figure.Figure at 0x10986db90>"
      ]
     },
     "metadata": {},
     "output_type": "display_data"
    }
   ],
   "source": [
    "plt.plot(wl_m,tr_m)"
   ]
  },
  {
   "cell_type": "code",
   "execution_count": 83,
   "metadata": {
    "collapsed": true,
    "deletable": true,
    "editable": true
   },
   "outputs": [],
   "source": [
    "bp_ctio_m = S.ArrayBandpass(wl_m*10.,tr_m*tr_m, name='CTIO Mirror2')  # two mirrors"
   ]
  },
  {
   "cell_type": "markdown",
   "metadata": {
    "deletable": true,
    "editable": true
   },
   "source": [
    "### Get Filter"
   ]
  },
  {
   "cell_type": "code",
   "execution_count": 84,
   "metadata": {
    "collapsed": true,
    "deletable": true,
    "editable": true
   },
   "outputs": [],
   "source": [
    "wl_f,tr_f=ctiosim. Get_RG175()"
   ]
  },
  {
   "cell_type": "code",
   "execution_count": 85,
   "metadata": {
    "collapsed": false,
    "deletable": true,
    "editable": true
   },
   "outputs": [],
   "source": [
    "bp_ctio_f = S.ArrayBandpass(wl_f*10.,tr_f, name='RG175')  # two mirrors"
   ]
  },
  {
   "cell_type": "code",
   "execution_count": 86,
   "metadata": {
    "collapsed": false,
    "deletable": true,
    "editable": true
   },
   "outputs": [
    {
     "data": {
      "text/plain": [
       "[<matplotlib.lines.Line2D at 0x1099eced0>]"
      ]
     },
     "execution_count": 86,
     "metadata": {},
     "output_type": "execute_result"
    },
    {
     "data": {
      "image/png": "[encoded data removed]",
      "text/plain": [
       "<matplotlib.figure.Figure at 0x10999a310>"
      ]
     },
     "metadata": {},
     "output_type": "display_data"
    }
   ],
   "source": [
    "plt.plot(bp_ctio_f.wave,bp_ctio_f.throughput)"
   ]
  },
  {
   "cell_type": "markdown",
   "metadata": {
    "deletable": true,
    "editable": true
   },
   "source": [
    "### Combine"
   ]
  },
  {
   "cell_type": "code",
   "execution_count": 87,
   "metadata": {
    "collapsed": false,
    "deletable": true,
    "editable": true
   },
   "outputs": [],
   "source": [
    "bp_ctio=bp_ctio_qe*bp_ctio_m*bp_ctio_f"
   ]
  },
  {
   "cell_type": "code",
   "execution_count": 88,
   "metadata": {
    "collapsed": false,
    "deletable": true,
    "editable": true
   },
   "outputs": [
    {
     "data": {
      "text/plain": [
       "[<matplotlib.lines.Line2D at 0x109907e10>]"
      ]
     },
     "execution_count": 88,
     "metadata": {},
     "output_type": "execute_result"
    },
    {
     "data": {
      "image/png": "[encoded data removed]",
      "text/plain": [
       "<matplotlib.figure.Figure at 0x10999ab10>"
      ]
     },
     "metadata": {},
     "output_type": "display_data"
    }
   ],
   "source": [
    "plt.plot(bp_ctio.wave,bp_ctio.throughput,'r-')\n",
    "plt.plot(wl_qe*10,tr_qe,'b-')"
   ]
  },
  {
   "cell_type": "markdown",
   "metadata": {
    "deletable": true,
    "editable": true
   },
   "source": [
    "## Get SED from CALSPEC \n",
    "\n",
    "- using Pysynphot"
   ]
  },
  {
   "cell_type": "code",
   "execution_count": 89,
   "metadata": {
    "collapsed": true,
    "deletable": true,
    "editable": true
   },
   "outputs": [],
   "source": [
    "CTIO_COLL_SURF=0.9*(u.m)**2/(u.cm)**2  # LSST collectif surface\n",
    "WLMIN=3000.\n",
    "WLMAX=11000."
   ]
  },
  {
   "cell_type": "code",
   "execution_count": 90,
   "metadata": {
    "collapsed": false,
    "deletable": true,
    "editable": true
   },
   "outputs": [],
   "source": [
    "S.refs.setref(area=CTIO_COLL_SURF.decompose(), waveset=None)\n",
    "S.refs.set_default_waveset(minwave=WLMIN, maxwave=WLMAX, delta=10, log=False)"
   ]
  },
  {
   "cell_type": "code",
   "execution_count": 91,
   "metadata": {
    "collapsed": false,
    "deletable": true,
    "editable": true
   },
   "outputs": [
    {
     "name": "stdout",
     "output_type": "stream",
     "text": [
      "Warning, 6 of 3739 bins contained negative fluxes; they have been set to zero.\n"
     ]
    }
   ],
   "source": [
    "filename = os.path.join(os.environ['PYSYN_CDBS'], 'calspec',calspec_sed)\n",
    "sed = S.FileSpectrum(filename)"
   ]
  },
  {
   "cell_type": "code",
   "execution_count": 92,
   "metadata": {
    "collapsed": false,
    "deletable": true,
    "editable": true
   },
   "outputs": [
    {
     "name": "stdout",
     "output_type": "stream",
     "text": [
      "XTENSION= 'BINTABLE'           /Written by IDL:  Wed Dec 24 09:04:47 2014       BITPIX  =                    8 /                                                NAXIS   =                    2 /Binary table                                    NAXIS1  =                   30 /Number of bytes per row                         NAXIS2  =                 3739 /Number of rows                                  PCOUNT  =                    0 /Random parameter count                          GCOUNT  =                    1 /Group count                                     TFIELDS =                    7 /Number of columns                               EXTNAME = 'SCI     '           /                                                EXTVER  =                    1 /                                                INHERIT =                    T /                                                TFORM1  = '1D      '           /Real*8 (double precision)                       TTYPE1  = 'WAVELENGTH'         /Label for column 1                              TUNIT1  = 'ANGSTROMS'          /Units of column 1                               TDISP1  = 'G10.4   '           /Display format for column 1                     TFORM2  = '1E      '           /Real*4 (floating point)                         TTYPE2  = 'FLUX    '           /Absolutely calibrated net spectrum              TUNIT2  = 'FLAM    '           /Units of column 2                               TDISP2  = 'E12.4   '           /Display format for column 2                     TFORM3  = '1E      '           /Real*4 (floating point)                         TTYPE3  = 'STATERROR'          /Statistical flux error                          TUNIT3  = 'FLAM    '           /Units of column 3                               TDISP3  = 'E12.4   '           /Display format for column 3                     TFORM4  = '1E      '           /Real*4 (floating point)                         TTYPE4  = 'SYSERROR'           /Systematic flux error=0.01*FLAM                 TUNIT4  = 'FLAM    '           /Units of column 4                               TDISP4  = 'E12.4   '           /Display format for column 4                     TFORM5  = '1E      '           /Real*4 (floating point)                         TTYPE5  = 'FWHM    '           /FWHM spectral resolution                        TUNIT5  = 'ANGSTROMS'          /Units of column 5                               TDISP5  = 'G6.2    '           /Display format for column 5                     TFORM6  = '1I      '           /Integer*2 (short integer)                       TTYPE6  = 'DATAQUAL'           /Data quality: 1=good, 0=bad                     TUNIT6  = 'NONE    '           /Units of column 6                               TDISP6  = 'I2      '           /Display format for column 6                     TFORM7  = '1E      '           /Real*4 (floating point)                         TTYPE7  = 'TOTEXP  '           /Total exposure time                             TUNIT7  = 'SEC     '           /Units of column 7                               TDISP7  = 'G10.2   '           /Display format for column 7                     END                                                                                                                                                                                                                                                                                                                                                                                                                                                                                                                                                                                                                                                                                                                                                                                                                                                                                                                                                                                                                                                                                                                                                                                                                                                                                                                                                                                                                                                                                                                                                                                                                                                                                                                                                                                                                                                                                                                                                                                                                                                                                                                                                                                                                                                                                                                                                                                                                                                                                                                                                                                                                                                                                                                                             \n"
     ]
    }
   ],
   "source": [
    "with fits.open(filename) as pf:\n",
    "    print(pf[1].header)"
   ]
  },
  {
   "cell_type": "markdown",
   "metadata": {
    "deletable": true,
    "editable": true
   },
   "source": [
    "# Simulate atmosphere"
   ]
  },
  {
   "cell_type": "code",
   "execution_count": 93,
   "metadata": {
    "collapsed": true,
    "deletable": true,
    "editable": true
   },
   "outputs": [],
   "source": [
    "all_wl_atm= []\n",
    "all_tr_atm= []\n",
    "all_bp_atm = []\n",
    "PWV=4.\n",
    "OZ=300."
   ]
  },
  {
   "cell_type": "code",
   "execution_count": 94,
   "metadata": {
    "collapsed": false,
    "deletable": true,
    "editable": true
   },
   "outputs": [
    {
     "name": "stdout",
     "output_type": "stream",
     "text": [
      "--------------------------------------------\n",
      " 2) airmass =  1.28100001812\n",
      " 2) pwv =  4.0\n",
      " 2) oz =  300.0\n",
      "--------------------------------------------\n",
      "('Running uvspec with input file: ', 'simulations/RT/2.0.1/CT/pp/us/sa/rt/in/RT_CT_pp_us_sa_rt_z12_wv40_oz30.INP')\n",
      "('Output to file                : ', 'simulations/RT/2.0.1/CT/pp/us/sa/rt/out/RT_CT_pp_us_sa_rt_z12_wv40_oz30.OUT')\n",
      "('uvspec cmd: ', '/Users/dagoret-campagnesylvie/MacOsX/LSST/softs/libRadtran-2.0.1/bin/uvspec  < simulations/RT/2.0.1/CT/pp/us/sa/rt/in/RT_CT_pp_us_sa_rt_z12_wv40_oz30.INP > simulations/RT/2.0.1/CT/pp/us/sa/rt/out/RT_CT_pp_us_sa_rt_z12_wv40_oz30.OUT')\n",
      "--------------------------------------------\n",
      " 2) airmass =  1.26999998093\n",
      " 2) pwv =  4.0\n",
      " 2) oz =  300.0\n",
      "--------------------------------------------\n",
      "('Running uvspec with input file: ', 'simulations/RT/2.0.1/CT/pp/us/sa/rt/in/RT_CT_pp_us_sa_rt_z12_wv40_oz30.INP')\n",
      "('Output to file                : ', 'simulations/RT/2.0.1/CT/pp/us/sa/rt/out/RT_CT_pp_us_sa_rt_z12_wv40_oz30.OUT')\n",
      "('uvspec cmd: ', '/Users/dagoret-campagnesylvie/MacOsX/LSST/softs/libRadtran-2.0.1/bin/uvspec  < simulations/RT/2.0.1/CT/pp/us/sa/rt/in/RT_CT_pp_us_sa_rt_z12_wv40_oz30.INP > simulations/RT/2.0.1/CT/pp/us/sa/rt/out/RT_CT_pp_us_sa_rt_z12_wv40_oz30.OUT')\n",
      "--------------------------------------------\n",
      " 2) airmass =  1.25999999046\n",
      " 2) pwv =  4.0\n",
      " 2) oz =  300.0\n",
      "--------------------------------------------\n",
      "('Running uvspec with input file: ', 'simulations/RT/2.0.1/CT/pp/us/sa/rt/in/RT_CT_pp_us_sa_rt_z12_wv40_oz30.INP')\n",
      "('Output to file                : ', 'simulations/RT/2.0.1/CT/pp/us/sa/rt/out/RT_CT_pp_us_sa_rt_z12_wv40_oz30.OUT')\n",
      "('uvspec cmd: ', '/Users/dagoret-campagnesylvie/MacOsX/LSST/softs/libRadtran-2.0.1/bin/uvspec  < simulations/RT/2.0.1/CT/pp/us/sa/rt/in/RT_CT_pp_us_sa_rt_z12_wv40_oz30.INP > simulations/RT/2.0.1/CT/pp/us/sa/rt/out/RT_CT_pp_us_sa_rt_z12_wv40_oz30.OUT')\n",
      "--------------------------------------------\n",
      " 2) airmass =  1.25300002098\n",
      " 2) pwv =  4.0\n",
      " 2) oz =  300.0\n",
      "--------------------------------------------\n",
      "('Running uvspec with input file: ', 'simulations/RT/2.0.1/CT/pp/us/sa/rt/in/RT_CT_pp_us_sa_rt_z12_wv40_oz30.INP')\n",
      "('Output to file                : ', 'simulations/RT/2.0.1/CT/pp/us/sa/rt/out/RT_CT_pp_us_sa_rt_z12_wv40_oz30.OUT')\n",
      "('uvspec cmd: ', '/Users/dagoret-campagnesylvie/MacOsX/LSST/softs/libRadtran-2.0.1/bin/uvspec  < simulations/RT/2.0.1/CT/pp/us/sa/rt/in/RT_CT_pp_us_sa_rt_z12_wv40_oz30.INP > simulations/RT/2.0.1/CT/pp/us/sa/rt/out/RT_CT_pp_us_sa_rt_z12_wv40_oz30.OUT')\n",
      "--------------------------------------------\n",
      " 2) airmass =  1.2460000515\n",
      " 2) pwv =  4.0\n",
      " 2) oz =  300.0\n",
      "--------------------------------------------\n",
      "('Running uvspec with input file: ', 'simulations/RT/2.0.1/CT/pp/us/sa/rt/in/RT_CT_pp_us_sa_rt_z12_wv40_oz30.INP')\n",
      "('Output to file                : ', 'simulations/RT/2.0.1/CT/pp/us/sa/rt/out/RT_CT_pp_us_sa_rt_z12_wv40_oz30.OUT')\n",
      "('uvspec cmd: ', '/Users/dagoret-campagnesylvie/MacOsX/LSST/softs/libRadtran-2.0.1/bin/uvspec  < simulations/RT/2.0.1/CT/pp/us/sa/rt/in/RT_CT_pp_us_sa_rt_z12_wv40_oz30.INP > simulations/RT/2.0.1/CT/pp/us/sa/rt/out/RT_CT_pp_us_sa_rt_z12_wv40_oz30.OUT')\n",
      "--------------------------------------------\n",
      " 2) airmass =  1.24000000954\n",
      " 2) pwv =  4.0\n",
      " 2) oz =  300.0\n",
      "--------------------------------------------\n",
      "('Running uvspec with input file: ', 'simulations/RT/2.0.1/CT/pp/us/sa/rt/in/RT_CT_pp_us_sa_rt_z12_wv40_oz30.INP')\n",
      "('Output to file                : ', 'simulations/RT/2.0.1/CT/pp/us/sa/rt/out/RT_CT_pp_us_sa_rt_z12_wv40_oz30.OUT')\n",
      "('uvspec cmd: ', '/Users/dagoret-campagnesylvie/MacOsX/LSST/softs/libRadtran-2.0.1/bin/uvspec  < simulations/RT/2.0.1/CT/pp/us/sa/rt/in/RT_CT_pp_us_sa_rt_z12_wv40_oz30.INP > simulations/RT/2.0.1/CT/pp/us/sa/rt/out/RT_CT_pp_us_sa_rt_z12_wv40_oz30.OUT')\n",
      "--------------------------------------------\n",
      " 2) airmass =  1.23000001907\n",
      " 2) pwv =  4.0\n",
      " 2) oz =  300.0\n",
      "--------------------------------------------\n",
      "('Running uvspec with input file: ', 'simulations/RT/2.0.1/CT/pp/us/sa/rt/in/RT_CT_pp_us_sa_rt_z12_wv40_oz30.INP')\n",
      "('Output to file                : ', 'simulations/RT/2.0.1/CT/pp/us/sa/rt/out/RT_CT_pp_us_sa_rt_z12_wv40_oz30.OUT')\n",
      "('uvspec cmd: ', '/Users/dagoret-campagnesylvie/MacOsX/LSST/softs/libRadtran-2.0.1/bin/uvspec  < simulations/RT/2.0.1/CT/pp/us/sa/rt/in/RT_CT_pp_us_sa_rt_z12_wv40_oz30.INP > simulations/RT/2.0.1/CT/pp/us/sa/rt/out/RT_CT_pp_us_sa_rt_z12_wv40_oz30.OUT')\n",
      "--------------------------------------------\n",
      " 2) airmass =  1.22099995613\n",
      " 2) pwv =  4.0\n",
      " 2) oz =  300.0\n",
      "--------------------------------------------\n",
      "('Running uvspec with input file: ', 'simulations/RT/2.0.1/CT/pp/us/sa/rt/in/RT_CT_pp_us_sa_rt_z12_wv40_oz30.INP')\n",
      "('Output to file                : ', 'simulations/RT/2.0.1/CT/pp/us/sa/rt/out/RT_CT_pp_us_sa_rt_z12_wv40_oz30.OUT')\n",
      "('uvspec cmd: ', '/Users/dagoret-campagnesylvie/MacOsX/LSST/softs/libRadtran-2.0.1/bin/uvspec  < simulations/RT/2.0.1/CT/pp/us/sa/rt/in/RT_CT_pp_us_sa_rt_z12_wv40_oz30.INP > simulations/RT/2.0.1/CT/pp/us/sa/rt/out/RT_CT_pp_us_sa_rt_z12_wv40_oz30.OUT')\n",
      "--------------------------------------------\n",
      " 2) airmass =  1.21500003338\n",
      " 2) pwv =  4.0\n",
      " 2) oz =  300.0\n",
      "--------------------------------------------\n",
      "('Running uvspec with input file: ', 'simulations/RT/2.0.1/CT/pp/us/sa/rt/in/RT_CT_pp_us_sa_rt_z12_wv40_oz30.INP')\n",
      "('Output to file                : ', 'simulations/RT/2.0.1/CT/pp/us/sa/rt/out/RT_CT_pp_us_sa_rt_z12_wv40_oz30.OUT')\n",
      "('uvspec cmd: ', '/Users/dagoret-campagnesylvie/MacOsX/LSST/softs/libRadtran-2.0.1/bin/uvspec  < simulations/RT/2.0.1/CT/pp/us/sa/rt/in/RT_CT_pp_us_sa_rt_z12_wv40_oz30.INP > simulations/RT/2.0.1/CT/pp/us/sa/rt/out/RT_CT_pp_us_sa_rt_z12_wv40_oz30.OUT')\n",
      "--------------------------------------------\n",
      " 2) airmass =  1.20899999142\n",
      " 2) pwv =  4.0\n",
      " 2) oz =  300.0\n",
      "--------------------------------------------\n",
      "('Running uvspec with input file: ', 'simulations/RT/2.0.1/CT/pp/us/sa/rt/in/RT_CT_pp_us_sa_rt_z12_wv40_oz30.INP')\n",
      "('Output to file                : ', 'simulations/RT/2.0.1/CT/pp/us/sa/rt/out/RT_CT_pp_us_sa_rt_z12_wv40_oz30.OUT')\n",
      "('uvspec cmd: ', '/Users/dagoret-campagnesylvie/MacOsX/LSST/softs/libRadtran-2.0.1/bin/uvspec  < simulations/RT/2.0.1/CT/pp/us/sa/rt/in/RT_CT_pp_us_sa_rt_z12_wv40_oz30.INP > simulations/RT/2.0.1/CT/pp/us/sa/rt/out/RT_CT_pp_us_sa_rt_z12_wv40_oz30.OUT')\n",
      "--------------------------------------------\n",
      " 2) airmass =  1.20299994946\n",
      " 2) pwv =  4.0\n",
      " 2) oz =  300.0\n",
      "--------------------------------------------\n",
      "('Running uvspec with input file: ', 'simulations/RT/2.0.1/CT/pp/us/sa/rt/in/RT_CT_pp_us_sa_rt_z12_wv40_oz30.INP')\n",
      "('Output to file                : ', 'simulations/RT/2.0.1/CT/pp/us/sa/rt/out/RT_CT_pp_us_sa_rt_z12_wv40_oz30.OUT')\n",
      "('uvspec cmd: ', '/Users/dagoret-campagnesylvie/MacOsX/LSST/softs/libRadtran-2.0.1/bin/uvspec  < simulations/RT/2.0.1/CT/pp/us/sa/rt/in/RT_CT_pp_us_sa_rt_z12_wv40_oz30.INP > simulations/RT/2.0.1/CT/pp/us/sa/rt/out/RT_CT_pp_us_sa_rt_z12_wv40_oz30.OUT')\n",
      "--------------------------------------------\n",
      " 2) airmass =  1.19500005245\n",
      " 2) pwv =  4.0\n",
      " 2) oz =  300.0\n",
      "--------------------------------------------\n",
      "('Running uvspec with input file: ', 'simulations/RT/2.0.1/CT/pp/us/sa/rt/in/RT_CT_pp_us_sa_rt_z11_wv40_oz30.INP')\n",
      "('Output to file                : ', 'simulations/RT/2.0.1/CT/pp/us/sa/rt/out/RT_CT_pp_us_sa_rt_z11_wv40_oz30.OUT')\n",
      "('uvspec cmd: ', '/Users/dagoret-campagnesylvie/MacOsX/LSST/softs/libRadtran-2.0.1/bin/uvspec  < simulations/RT/2.0.1/CT/pp/us/sa/rt/in/RT_CT_pp_us_sa_rt_z11_wv40_oz30.INP > simulations/RT/2.0.1/CT/pp/us/sa/rt/out/RT_CT_pp_us_sa_rt_z11_wv40_oz30.OUT')\n",
      "--------------------------------------------\n",
      " 2) airmass =  1.18599998951\n",
      " 2) pwv =  4.0\n",
      " 2) oz =  300.0\n",
      "--------------------------------------------\n",
      "('Running uvspec with input file: ', 'simulations/RT/2.0.1/CT/pp/us/sa/rt/in/RT_CT_pp_us_sa_rt_z11_wv40_oz30.INP')\n",
      "('Output to file                : ', 'simulations/RT/2.0.1/CT/pp/us/sa/rt/out/RT_CT_pp_us_sa_rt_z11_wv40_oz30.OUT')\n",
      "('uvspec cmd: ', '/Users/dagoret-campagnesylvie/MacOsX/LSST/softs/libRadtran-2.0.1/bin/uvspec  < simulations/RT/2.0.1/CT/pp/us/sa/rt/in/RT_CT_pp_us_sa_rt_z11_wv40_oz30.INP > simulations/RT/2.0.1/CT/pp/us/sa/rt/out/RT_CT_pp_us_sa_rt_z11_wv40_oz30.OUT')\n",
      "--------------------------------------------\n",
      " 2) airmass =  1.18099999428\n",
      " 2) pwv =  4.0\n",
      " 2) oz =  300.0\n",
      "--------------------------------------------\n",
      "('Running uvspec with input file: ', 'simulations/RT/2.0.1/CT/pp/us/sa/rt/in/RT_CT_pp_us_sa_rt_z11_wv40_oz30.INP')\n",
      "('Output to file                : ', 'simulations/RT/2.0.1/CT/pp/us/sa/rt/out/RT_CT_pp_us_sa_rt_z11_wv40_oz30.OUT')\n",
      "('uvspec cmd: ', '/Users/dagoret-campagnesylvie/MacOsX/LSST/softs/libRadtran-2.0.1/bin/uvspec  < simulations/RT/2.0.1/CT/pp/us/sa/rt/in/RT_CT_pp_us_sa_rt_z11_wv40_oz30.INP > simulations/RT/2.0.1/CT/pp/us/sa/rt/out/RT_CT_pp_us_sa_rt_z11_wv40_oz30.OUT')\n",
      "--------------------------------------------\n",
      " 2) airmass =  1.17599999905\n",
      " 2) pwv =  4.0\n",
      " 2) oz =  300.0\n",
      "--------------------------------------------\n",
      "('Running uvspec with input file: ', 'simulations/RT/2.0.1/CT/pp/us/sa/rt/in/RT_CT_pp_us_sa_rt_z11_wv40_oz30.INP')\n",
      "('Output to file                : ', 'simulations/RT/2.0.1/CT/pp/us/sa/rt/out/RT_CT_pp_us_sa_rt_z11_wv40_oz30.OUT')\n",
      "('uvspec cmd: ', '/Users/dagoret-campagnesylvie/MacOsX/LSST/softs/libRadtran-2.0.1/bin/uvspec  < simulations/RT/2.0.1/CT/pp/us/sa/rt/in/RT_CT_pp_us_sa_rt_z11_wv40_oz30.INP > simulations/RT/2.0.1/CT/pp/us/sa/rt/out/RT_CT_pp_us_sa_rt_z11_wv40_oz30.OUT')\n",
      "--------------------------------------------\n",
      " 2) airmass =  1.17100000381\n",
      " 2) pwv =  4.0\n",
      " 2) oz =  300.0\n",
      "--------------------------------------------\n",
      "('Running uvspec with input file: ', 'simulations/RT/2.0.1/CT/pp/us/sa/rt/in/RT_CT_pp_us_sa_rt_z11_wv40_oz30.INP')\n",
      "('Output to file                : ', 'simulations/RT/2.0.1/CT/pp/us/sa/rt/out/RT_CT_pp_us_sa_rt_z11_wv40_oz30.OUT')\n",
      "('uvspec cmd: ', '/Users/dagoret-campagnesylvie/MacOsX/LSST/softs/libRadtran-2.0.1/bin/uvspec  < simulations/RT/2.0.1/CT/pp/us/sa/rt/in/RT_CT_pp_us_sa_rt_z11_wv40_oz30.INP > simulations/RT/2.0.1/CT/pp/us/sa/rt/out/RT_CT_pp_us_sa_rt_z11_wv40_oz30.OUT')\n",
      "--------------------------------------------\n",
      " 2) airmass =  1.1629999876\n",
      " 2) pwv =  4.0\n",
      " 2) oz =  300.0\n",
      "--------------------------------------------\n",
      "('Running uvspec with input file: ', 'simulations/RT/2.0.1/CT/pp/us/sa/rt/in/RT_CT_pp_us_sa_rt_z11_wv40_oz30.INP')\n",
      "('Output to file                : ', 'simulations/RT/2.0.1/CT/pp/us/sa/rt/out/RT_CT_pp_us_sa_rt_z11_wv40_oz30.OUT')\n",
      "('uvspec cmd: ', '/Users/dagoret-campagnesylvie/MacOsX/LSST/softs/libRadtran-2.0.1/bin/uvspec  < simulations/RT/2.0.1/CT/pp/us/sa/rt/in/RT_CT_pp_us_sa_rt_z11_wv40_oz30.INP > simulations/RT/2.0.1/CT/pp/us/sa/rt/out/RT_CT_pp_us_sa_rt_z11_wv40_oz30.OUT')\n",
      "--------------------------------------------\n",
      " 2) airmass =  1.15600001812\n",
      " 2) pwv =  4.0\n",
      " 2) oz =  300.0\n",
      "--------------------------------------------\n",
      "('Running uvspec with input file: ', 'simulations/RT/2.0.1/CT/pp/us/sa/rt/in/RT_CT_pp_us_sa_rt_z11_wv40_oz30.INP')\n",
      "('Output to file                : ', 'simulations/RT/2.0.1/CT/pp/us/sa/rt/out/RT_CT_pp_us_sa_rt_z11_wv40_oz30.OUT')\n",
      "('uvspec cmd: ', '/Users/dagoret-campagnesylvie/MacOsX/LSST/softs/libRadtran-2.0.1/bin/uvspec  < simulations/RT/2.0.1/CT/pp/us/sa/rt/in/RT_CT_pp_us_sa_rt_z11_wv40_oz30.INP > simulations/RT/2.0.1/CT/pp/us/sa/rt/out/RT_CT_pp_us_sa_rt_z11_wv40_oz30.OUT')\n",
      "--------------------------------------------\n",
      " 2) airmass =  1.15100002289\n",
      " 2) pwv =  4.0\n",
      " 2) oz =  300.0\n",
      "--------------------------------------------\n",
      "('Running uvspec with input file: ', 'simulations/RT/2.0.1/CT/pp/us/sa/rt/in/RT_CT_pp_us_sa_rt_z11_wv40_oz30.INP')\n",
      "('Output to file                : ', 'simulations/RT/2.0.1/CT/pp/us/sa/rt/out/RT_CT_pp_us_sa_rt_z11_wv40_oz30.OUT')\n",
      "('uvspec cmd: ', '/Users/dagoret-campagnesylvie/MacOsX/LSST/softs/libRadtran-2.0.1/bin/uvspec  < simulations/RT/2.0.1/CT/pp/us/sa/rt/in/RT_CT_pp_us_sa_rt_z11_wv40_oz30.INP > simulations/RT/2.0.1/CT/pp/us/sa/rt/out/RT_CT_pp_us_sa_rt_z11_wv40_oz30.OUT')\n",
      "--------------------------------------------\n",
      " 2) airmass =  1.14699995518\n",
      " 2) pwv =  4.0\n",
      " 2) oz =  300.0\n",
      "--------------------------------------------\n",
      "('Running uvspec with input file: ', 'simulations/RT/2.0.1/CT/pp/us/sa/rt/in/RT_CT_pp_us_sa_rt_z11_wv40_oz30.INP')\n",
      "('Output to file                : ', 'simulations/RT/2.0.1/CT/pp/us/sa/rt/out/RT_CT_pp_us_sa_rt_z11_wv40_oz30.OUT')\n",
      "('uvspec cmd: ', '/Users/dagoret-campagnesylvie/MacOsX/LSST/softs/libRadtran-2.0.1/bin/uvspec  < simulations/RT/2.0.1/CT/pp/us/sa/rt/in/RT_CT_pp_us_sa_rt_z11_wv40_oz30.INP > simulations/RT/2.0.1/CT/pp/us/sa/rt/out/RT_CT_pp_us_sa_rt_z11_wv40_oz30.OUT')\n",
      "--------------------------------------------\n",
      " 2) airmass =  1.14199995995\n",
      " 2) pwv =  4.0\n",
      " 2) oz =  300.0\n",
      "--------------------------------------------\n",
      "('Running uvspec with input file: ', 'simulations/RT/2.0.1/CT/pp/us/sa/rt/in/RT_CT_pp_us_sa_rt_z11_wv40_oz30.INP')\n",
      "('Output to file                : ', 'simulations/RT/2.0.1/CT/pp/us/sa/rt/out/RT_CT_pp_us_sa_rt_z11_wv40_oz30.OUT')\n",
      "('uvspec cmd: ', '/Users/dagoret-campagnesylvie/MacOsX/LSST/softs/libRadtran-2.0.1/bin/uvspec  < simulations/RT/2.0.1/CT/pp/us/sa/rt/in/RT_CT_pp_us_sa_rt_z11_wv40_oz30.INP > simulations/RT/2.0.1/CT/pp/us/sa/rt/out/RT_CT_pp_us_sa_rt_z11_wv40_oz30.OUT')\n",
      "--------------------------------------------\n",
      " 2) airmass =  1.13499999046\n",
      " 2) pwv =  4.0\n",
      " 2) oz =  300.0\n",
      "--------------------------------------------\n",
      "('Running uvspec with input file: ', 'simulations/RT/2.0.1/CT/pp/us/sa/rt/in/RT_CT_pp_us_sa_rt_z11_wv40_oz30.INP')\n",
      "('Output to file                : ', 'simulations/RT/2.0.1/CT/pp/us/sa/rt/out/RT_CT_pp_us_sa_rt_z11_wv40_oz30.OUT')\n",
      "('uvspec cmd: ', '/Users/dagoret-campagnesylvie/MacOsX/LSST/softs/libRadtran-2.0.1/bin/uvspec  < simulations/RT/2.0.1/CT/pp/us/sa/rt/in/RT_CT_pp_us_sa_rt_z11_wv40_oz30.INP > simulations/RT/2.0.1/CT/pp/us/sa/rt/out/RT_CT_pp_us_sa_rt_z11_wv40_oz30.OUT')\n",
      "--------------------------------------------\n",
      " 2) airmass =  1.1289999485\n",
      " 2) pwv =  4.0\n",
      " 2) oz =  300.0\n",
      "--------------------------------------------\n",
      "('Running uvspec with input file: ', 'simulations/RT/2.0.1/CT/pp/us/sa/rt/in/RT_CT_pp_us_sa_rt_z11_wv40_oz30.INP')\n",
      "('Output to file                : ', 'simulations/RT/2.0.1/CT/pp/us/sa/rt/out/RT_CT_pp_us_sa_rt_z11_wv40_oz30.OUT')\n",
      "('uvspec cmd: ', '/Users/dagoret-campagnesylvie/MacOsX/LSST/softs/libRadtran-2.0.1/bin/uvspec  < simulations/RT/2.0.1/CT/pp/us/sa/rt/in/RT_CT_pp_us_sa_rt_z11_wv40_oz30.INP > simulations/RT/2.0.1/CT/pp/us/sa/rt/out/RT_CT_pp_us_sa_rt_z11_wv40_oz30.OUT')\n",
      "--------------------------------------------\n",
      " 2) airmass =  1.125\n",
      " 2) pwv =  4.0\n",
      " 2) oz =  300.0\n",
      "--------------------------------------------\n",
      "('Running uvspec with input file: ', 'simulations/RT/2.0.1/CT/pp/us/sa/rt/in/RT_CT_pp_us_sa_rt_z11_wv40_oz30.INP')\n",
      "('Output to file                : ', 'simulations/RT/2.0.1/CT/pp/us/sa/rt/out/RT_CT_pp_us_sa_rt_z11_wv40_oz30.OUT')\n",
      "('uvspec cmd: ', '/Users/dagoret-campagnesylvie/MacOsX/LSST/softs/libRadtran-2.0.1/bin/uvspec  < simulations/RT/2.0.1/CT/pp/us/sa/rt/in/RT_CT_pp_us_sa_rt_z11_wv40_oz30.INP > simulations/RT/2.0.1/CT/pp/us/sa/rt/out/RT_CT_pp_us_sa_rt_z11_wv40_oz30.OUT')\n",
      "--------------------------------------------\n",
      " 2) airmass =  1.1210000515\n",
      " 2) pwv =  4.0\n",
      " 2) oz =  300.0\n",
      "--------------------------------------------\n",
      "('Running uvspec with input file: ', 'simulations/RT/2.0.1/CT/pp/us/sa/rt/in/RT_CT_pp_us_sa_rt_z11_wv40_oz30.INP')\n",
      "('Output to file                : ', 'simulations/RT/2.0.1/CT/pp/us/sa/rt/out/RT_CT_pp_us_sa_rt_z11_wv40_oz30.OUT')\n",
      "('uvspec cmd: ', '/Users/dagoret-campagnesylvie/MacOsX/LSST/softs/libRadtran-2.0.1/bin/uvspec  < simulations/RT/2.0.1/CT/pp/us/sa/rt/in/RT_CT_pp_us_sa_rt_z11_wv40_oz30.INP > simulations/RT/2.0.1/CT/pp/us/sa/rt/out/RT_CT_pp_us_sa_rt_z11_wv40_oz30.OUT')\n",
      "--------------------------------------------\n",
      " 2) airmass =  1.11699998379\n",
      " 2) pwv =  4.0\n",
      " 2) oz =  300.0\n",
      "--------------------------------------------\n",
      "('Running uvspec with input file: ', 'simulations/RT/2.0.1/CT/pp/us/sa/rt/in/RT_CT_pp_us_sa_rt_z11_wv40_oz30.INP')\n",
      "('Output to file                : ', 'simulations/RT/2.0.1/CT/pp/us/sa/rt/out/RT_CT_pp_us_sa_rt_z11_wv40_oz30.OUT')\n",
      "('uvspec cmd: ', '/Users/dagoret-campagnesylvie/MacOsX/LSST/softs/libRadtran-2.0.1/bin/uvspec  < simulations/RT/2.0.1/CT/pp/us/sa/rt/in/RT_CT_pp_us_sa_rt_z11_wv40_oz30.INP > simulations/RT/2.0.1/CT/pp/us/sa/rt/out/RT_CT_pp_us_sa_rt_z11_wv40_oz30.OUT')\n",
      "--------------------------------------------\n",
      " 2) airmass =  1.11099994183\n",
      " 2) pwv =  4.0\n",
      " 2) oz =  300.0\n",
      "--------------------------------------------\n",
      "('Running uvspec with input file: ', 'simulations/RT/2.0.1/CT/pp/us/sa/rt/in/RT_CT_pp_us_sa_rt_z11_wv40_oz30.INP')\n",
      "('Output to file                : ', 'simulations/RT/2.0.1/CT/pp/us/sa/rt/out/RT_CT_pp_us_sa_rt_z11_wv40_oz30.OUT')\n",
      "('uvspec cmd: ', '/Users/dagoret-campagnesylvie/MacOsX/LSST/softs/libRadtran-2.0.1/bin/uvspec  < simulations/RT/2.0.1/CT/pp/us/sa/rt/in/RT_CT_pp_us_sa_rt_z11_wv40_oz30.INP > simulations/RT/2.0.1/CT/pp/us/sa/rt/out/RT_CT_pp_us_sa_rt_z11_wv40_oz30.OUT')\n",
      "--------------------------------------------\n",
      " 2) airmass =  1.10500001907\n",
      " 2) pwv =  4.0\n",
      " 2) oz =  300.0\n",
      "--------------------------------------------\n",
      "('Running uvspec with input file: ', 'simulations/RT/2.0.1/CT/pp/us/sa/rt/in/RT_CT_pp_us_sa_rt_z11_wv40_oz30.INP')\n",
      "('Output to file                : ', 'simulations/RT/2.0.1/CT/pp/us/sa/rt/out/RT_CT_pp_us_sa_rt_z11_wv40_oz30.OUT')\n",
      "('uvspec cmd: ', '/Users/dagoret-campagnesylvie/MacOsX/LSST/softs/libRadtran-2.0.1/bin/uvspec  < simulations/RT/2.0.1/CT/pp/us/sa/rt/in/RT_CT_pp_us_sa_rt_z11_wv40_oz30.INP > simulations/RT/2.0.1/CT/pp/us/sa/rt/out/RT_CT_pp_us_sa_rt_z11_wv40_oz30.OUT')\n",
      "--------------------------------------------\n",
      " 2) airmass =  1.10099995136\n",
      " 2) pwv =  4.0\n",
      " 2) oz =  300.0\n",
      "--------------------------------------------\n",
      "('Running uvspec with input file: ', 'simulations/RT/2.0.1/CT/pp/us/sa/rt/in/RT_CT_pp_us_sa_rt_z11_wv40_oz30.INP')\n",
      "('Output to file                : ', 'simulations/RT/2.0.1/CT/pp/us/sa/rt/out/RT_CT_pp_us_sa_rt_z11_wv40_oz30.OUT')\n",
      "('uvspec cmd: ', '/Users/dagoret-campagnesylvie/MacOsX/LSST/softs/libRadtran-2.0.1/bin/uvspec  < simulations/RT/2.0.1/CT/pp/us/sa/rt/in/RT_CT_pp_us_sa_rt_z11_wv40_oz30.INP > simulations/RT/2.0.1/CT/pp/us/sa/rt/out/RT_CT_pp_us_sa_rt_z11_wv40_oz30.OUT')\n",
      "--------------------------------------------\n",
      " 2) airmass =  1.09800004959\n",
      " 2) pwv =  4.0\n",
      " 2) oz =  300.0\n",
      "--------------------------------------------\n",
      "('Running uvspec with input file: ', 'simulations/RT/2.0.1/CT/pp/us/sa/rt/in/RT_CT_pp_us_sa_rt_z10_wv40_oz30.INP')\n",
      "('Output to file                : ', 'simulations/RT/2.0.1/CT/pp/us/sa/rt/out/RT_CT_pp_us_sa_rt_z10_wv40_oz30.OUT')\n",
      "('uvspec cmd: ', '/Users/dagoret-campagnesylvie/MacOsX/LSST/softs/libRadtran-2.0.1/bin/uvspec  < simulations/RT/2.0.1/CT/pp/us/sa/rt/in/RT_CT_pp_us_sa_rt_z10_wv40_oz30.INP > simulations/RT/2.0.1/CT/pp/us/sa/rt/out/RT_CT_pp_us_sa_rt_z10_wv40_oz30.OUT')\n",
      "--------------------------------------------\n",
      " 2) airmass =  1.09399998188\n",
      " 2) pwv =  4.0\n",
      " 2) oz =  300.0\n",
      "--------------------------------------------\n",
      "('Running uvspec with input file: ', 'simulations/RT/2.0.1/CT/pp/us/sa/rt/in/RT_CT_pp_us_sa_rt_z10_wv40_oz30.INP')\n",
      "('Output to file                : ', 'simulations/RT/2.0.1/CT/pp/us/sa/rt/out/RT_CT_pp_us_sa_rt_z10_wv40_oz30.OUT')\n",
      "('uvspec cmd: ', '/Users/dagoret-campagnesylvie/MacOsX/LSST/softs/libRadtran-2.0.1/bin/uvspec  < simulations/RT/2.0.1/CT/pp/us/sa/rt/in/RT_CT_pp_us_sa_rt_z10_wv40_oz30.INP > simulations/RT/2.0.1/CT/pp/us/sa/rt/out/RT_CT_pp_us_sa_rt_z10_wv40_oz30.OUT')\n",
      "--------------------------------------------\n",
      " 2) airmass =  1.08899998665\n",
      " 2) pwv =  4.0\n",
      " 2) oz =  300.0\n",
      "--------------------------------------------\n",
      "('Running uvspec with input file: ', 'simulations/RT/2.0.1/CT/pp/us/sa/rt/in/RT_CT_pp_us_sa_rt_z10_wv40_oz30.INP')\n",
      "('Output to file                : ', 'simulations/RT/2.0.1/CT/pp/us/sa/rt/out/RT_CT_pp_us_sa_rt_z10_wv40_oz30.OUT')\n",
      "('uvspec cmd: ', '/Users/dagoret-campagnesylvie/MacOsX/LSST/softs/libRadtran-2.0.1/bin/uvspec  < simulations/RT/2.0.1/CT/pp/us/sa/rt/in/RT_CT_pp_us_sa_rt_z10_wv40_oz30.INP > simulations/RT/2.0.1/CT/pp/us/sa/rt/out/RT_CT_pp_us_sa_rt_z10_wv40_oz30.OUT')\n",
      "--------------------------------------------\n",
      " 2) airmass =  1.08399999142\n",
      " 2) pwv =  4.0\n",
      " 2) oz =  300.0\n",
      "--------------------------------------------\n",
      "('Running uvspec with input file: ', 'simulations/RT/2.0.1/CT/pp/us/sa/rt/in/RT_CT_pp_us_sa_rt_z10_wv40_oz30.INP')\n",
      "('Output to file                : ', 'simulations/RT/2.0.1/CT/pp/us/sa/rt/out/RT_CT_pp_us_sa_rt_z10_wv40_oz30.OUT')\n",
      "('uvspec cmd: ', '/Users/dagoret-campagnesylvie/MacOsX/LSST/softs/libRadtran-2.0.1/bin/uvspec  < simulations/RT/2.0.1/CT/pp/us/sa/rt/in/RT_CT_pp_us_sa_rt_z10_wv40_oz30.INP > simulations/RT/2.0.1/CT/pp/us/sa/rt/out/RT_CT_pp_us_sa_rt_z10_wv40_oz30.OUT')\n",
      "--------------------------------------------\n",
      " 2) airmass =  1.08099997044\n",
      " 2) pwv =  4.0\n",
      " 2) oz =  300.0\n",
      "--------------------------------------------\n",
      "('Running uvspec with input file: ', 'simulations/RT/2.0.1/CT/pp/us/sa/rt/in/RT_CT_pp_us_sa_rt_z10_wv40_oz30.INP')\n",
      "('Output to file                : ', 'simulations/RT/2.0.1/CT/pp/us/sa/rt/out/RT_CT_pp_us_sa_rt_z10_wv40_oz30.OUT')\n",
      "('uvspec cmd: ', '/Users/dagoret-campagnesylvie/MacOsX/LSST/softs/libRadtran-2.0.1/bin/uvspec  < simulations/RT/2.0.1/CT/pp/us/sa/rt/in/RT_CT_pp_us_sa_rt_z10_wv40_oz30.INP > simulations/RT/2.0.1/CT/pp/us/sa/rt/out/RT_CT_pp_us_sa_rt_z10_wv40_oz30.OUT')\n",
      "--------------------------------------------\n",
      " 2) airmass =  1.07799994946\n",
      " 2) pwv =  4.0\n",
      " 2) oz =  300.0\n",
      "--------------------------------------------\n",
      "('Running uvspec with input file: ', 'simulations/RT/2.0.1/CT/pp/us/sa/rt/in/RT_CT_pp_us_sa_rt_z10_wv40_oz30.INP')\n",
      "('Output to file                : ', 'simulations/RT/2.0.1/CT/pp/us/sa/rt/out/RT_CT_pp_us_sa_rt_z10_wv40_oz30.OUT')\n",
      "('uvspec cmd: ', '/Users/dagoret-campagnesylvie/MacOsX/LSST/softs/libRadtran-2.0.1/bin/uvspec  < simulations/RT/2.0.1/CT/pp/us/sa/rt/in/RT_CT_pp_us_sa_rt_z10_wv40_oz30.INP > simulations/RT/2.0.1/CT/pp/us/sa/rt/out/RT_CT_pp_us_sa_rt_z10_wv40_oz30.OUT')\n",
      "--------------------------------------------\n",
      " 2) airmass =  1.07500004768\n",
      " 2) pwv =  4.0\n",
      " 2) oz =  300.0\n",
      "--------------------------------------------\n",
      "('Running uvspec with input file: ', 'simulations/RT/2.0.1/CT/pp/us/sa/rt/in/RT_CT_pp_us_sa_rt_z10_wv40_oz30.INP')\n",
      "('Output to file                : ', 'simulations/RT/2.0.1/CT/pp/us/sa/rt/out/RT_CT_pp_us_sa_rt_z10_wv40_oz30.OUT')\n",
      "('uvspec cmd: ', '/Users/dagoret-campagnesylvie/MacOsX/LSST/softs/libRadtran-2.0.1/bin/uvspec  < simulations/RT/2.0.1/CT/pp/us/sa/rt/in/RT_CT_pp_us_sa_rt_z10_wv40_oz30.INP > simulations/RT/2.0.1/CT/pp/us/sa/rt/out/RT_CT_pp_us_sa_rt_z10_wv40_oz30.OUT')\n",
      "--------------------------------------------\n",
      " 2) airmass =  1.07000005245\n",
      " 2) pwv =  4.0\n",
      " 2) oz =  300.0\n",
      "--------------------------------------------\n",
      "('Running uvspec with input file: ', 'simulations/RT/2.0.1/CT/pp/us/sa/rt/in/RT_CT_pp_us_sa_rt_z10_wv40_oz30.INP')\n",
      "('Output to file                : ', 'simulations/RT/2.0.1/CT/pp/us/sa/rt/out/RT_CT_pp_us_sa_rt_z10_wv40_oz30.OUT')\n",
      "('uvspec cmd: ', '/Users/dagoret-campagnesylvie/MacOsX/LSST/softs/libRadtran-2.0.1/bin/uvspec  < simulations/RT/2.0.1/CT/pp/us/sa/rt/in/RT_CT_pp_us_sa_rt_z10_wv40_oz30.INP > simulations/RT/2.0.1/CT/pp/us/sa/rt/out/RT_CT_pp_us_sa_rt_z10_wv40_oz30.OUT')\n",
      "--------------------------------------------\n",
      " 2) airmass =  1.06599998474\n",
      " 2) pwv =  4.0\n",
      " 2) oz =  300.0\n",
      "--------------------------------------------\n",
      "('Running uvspec with input file: ', 'simulations/RT/2.0.1/CT/pp/us/sa/rt/in/RT_CT_pp_us_sa_rt_z10_wv40_oz30.INP')\n",
      "('Output to file                : ', 'simulations/RT/2.0.1/CT/pp/us/sa/rt/out/RT_CT_pp_us_sa_rt_z10_wv40_oz30.OUT')\n",
      "('uvspec cmd: ', '/Users/dagoret-campagnesylvie/MacOsX/LSST/softs/libRadtran-2.0.1/bin/uvspec  < simulations/RT/2.0.1/CT/pp/us/sa/rt/in/RT_CT_pp_us_sa_rt_z10_wv40_oz30.INP > simulations/RT/2.0.1/CT/pp/us/sa/rt/out/RT_CT_pp_us_sa_rt_z10_wv40_oz30.OUT')\n",
      "--------------------------------------------\n",
      " 2) airmass =  1.06299996376\n",
      " 2) pwv =  4.0\n",
      " 2) oz =  300.0\n",
      "--------------------------------------------\n",
      "('Running uvspec with input file: ', 'simulations/RT/2.0.1/CT/pp/us/sa/rt/in/RT_CT_pp_us_sa_rt_z10_wv40_oz30.INP')\n",
      "('Output to file                : ', 'simulations/RT/2.0.1/CT/pp/us/sa/rt/out/RT_CT_pp_us_sa_rt_z10_wv40_oz30.OUT')\n",
      "('uvspec cmd: ', '/Users/dagoret-campagnesylvie/MacOsX/LSST/softs/libRadtran-2.0.1/bin/uvspec  < simulations/RT/2.0.1/CT/pp/us/sa/rt/in/RT_CT_pp_us_sa_rt_z10_wv40_oz30.INP > simulations/RT/2.0.1/CT/pp/us/sa/rt/out/RT_CT_pp_us_sa_rt_z10_wv40_oz30.OUT')\n",
      "--------------------------------------------\n",
      " 2) airmass =  1.06099998951\n",
      " 2) pwv =  4.0\n",
      " 2) oz =  300.0\n",
      "--------------------------------------------\n",
      "('Running uvspec with input file: ', 'simulations/RT/2.0.1/CT/pp/us/sa/rt/in/RT_CT_pp_us_sa_rt_z10_wv40_oz30.INP')\n",
      "('Output to file                : ', 'simulations/RT/2.0.1/CT/pp/us/sa/rt/out/RT_CT_pp_us_sa_rt_z10_wv40_oz30.OUT')\n",
      "('uvspec cmd: ', '/Users/dagoret-campagnesylvie/MacOsX/LSST/softs/libRadtran-2.0.1/bin/uvspec  < simulations/RT/2.0.1/CT/pp/us/sa/rt/in/RT_CT_pp_us_sa_rt_z10_wv40_oz30.INP > simulations/RT/2.0.1/CT/pp/us/sa/rt/out/RT_CT_pp_us_sa_rt_z10_wv40_oz30.OUT')\n",
      "--------------------------------------------\n",
      " 2) airmass =  1.05799996853\n",
      " 2) pwv =  4.0\n",
      " 2) oz =  300.0\n",
      "--------------------------------------------\n",
      "('Running uvspec with input file: ', 'simulations/RT/2.0.1/CT/pp/us/sa/rt/in/RT_CT_pp_us_sa_rt_z10_wv40_oz30.INP')\n",
      "('Output to file                : ', 'simulations/RT/2.0.1/CT/pp/us/sa/rt/out/RT_CT_pp_us_sa_rt_z10_wv40_oz30.OUT')\n",
      "('uvspec cmd: ', '/Users/dagoret-campagnesylvie/MacOsX/LSST/softs/libRadtran-2.0.1/bin/uvspec  < simulations/RT/2.0.1/CT/pp/us/sa/rt/in/RT_CT_pp_us_sa_rt_z10_wv40_oz30.INP > simulations/RT/2.0.1/CT/pp/us/sa/rt/out/RT_CT_pp_us_sa_rt_z10_wv40_oz30.OUT')\n",
      "--------------------------------------------\n",
      " 2) airmass =  1.05400002003\n",
      " 2) pwv =  4.0\n",
      " 2) oz =  300.0\n",
      "--------------------------------------------\n",
      "('Running uvspec with input file: ', 'simulations/RT/2.0.1/CT/pp/us/sa/rt/in/RT_CT_pp_us_sa_rt_z10_wv40_oz30.INP')\n",
      "('Output to file                : ', 'simulations/RT/2.0.1/CT/pp/us/sa/rt/out/RT_CT_pp_us_sa_rt_z10_wv40_oz30.OUT')\n",
      "('uvspec cmd: ', '/Users/dagoret-campagnesylvie/MacOsX/LSST/softs/libRadtran-2.0.1/bin/uvspec  < simulations/RT/2.0.1/CT/pp/us/sa/rt/in/RT_CT_pp_us_sa_rt_z10_wv40_oz30.INP > simulations/RT/2.0.1/CT/pp/us/sa/rt/out/RT_CT_pp_us_sa_rt_z10_wv40_oz30.OUT')\n",
      "--------------------------------------------\n",
      " 2) airmass =  1.04999995232\n",
      " 2) pwv =  4.0\n",
      " 2) oz =  300.0\n",
      "--------------------------------------------\n",
      "('Running uvspec with input file: ', 'simulations/RT/2.0.1/CT/pp/us/sa/rt/in/RT_CT_pp_us_sa_rt_z10_wv40_oz30.INP')\n",
      "('Output to file                : ', 'simulations/RT/2.0.1/CT/pp/us/sa/rt/out/RT_CT_pp_us_sa_rt_z10_wv40_oz30.OUT')\n",
      "('uvspec cmd: ', '/Users/dagoret-campagnesylvie/MacOsX/LSST/softs/libRadtran-2.0.1/bin/uvspec  < simulations/RT/2.0.1/CT/pp/us/sa/rt/in/RT_CT_pp_us_sa_rt_z10_wv40_oz30.INP > simulations/RT/2.0.1/CT/pp/us/sa/rt/out/RT_CT_pp_us_sa_rt_z10_wv40_oz30.OUT')\n",
      "--------------------------------------------\n",
      " 2) airmass =  1.04799997807\n",
      " 2) pwv =  4.0\n",
      " 2) oz =  300.0\n",
      "--------------------------------------------\n",
      "('Running uvspec with input file: ', 'simulations/RT/2.0.1/CT/pp/us/sa/rt/in/RT_CT_pp_us_sa_rt_z10_wv40_oz30.INP')\n",
      "('Output to file                : ', 'simulations/RT/2.0.1/CT/pp/us/sa/rt/out/RT_CT_pp_us_sa_rt_z10_wv40_oz30.OUT')\n",
      "('uvspec cmd: ', '/Users/dagoret-campagnesylvie/MacOsX/LSST/softs/libRadtran-2.0.1/bin/uvspec  < simulations/RT/2.0.1/CT/pp/us/sa/rt/in/RT_CT_pp_us_sa_rt_z10_wv40_oz30.INP > simulations/RT/2.0.1/CT/pp/us/sa/rt/out/RT_CT_pp_us_sa_rt_z10_wv40_oz30.OUT')\n",
      "--------------------------------------------\n",
      " 2) airmass =  1.04600000381\n",
      " 2) pwv =  4.0\n",
      " 2) oz =  300.0\n",
      "--------------------------------------------\n",
      "('Running uvspec with input file: ', 'simulations/RT/2.0.1/CT/pp/us/sa/rt/in/RT_CT_pp_us_sa_rt_z10_wv40_oz30.INP')\n",
      "('Output to file                : ', 'simulations/RT/2.0.1/CT/pp/us/sa/rt/out/RT_CT_pp_us_sa_rt_z10_wv40_oz30.OUT')\n",
      "('uvspec cmd: ', '/Users/dagoret-campagnesylvie/MacOsX/LSST/softs/libRadtran-2.0.1/bin/uvspec  < simulations/RT/2.0.1/CT/pp/us/sa/rt/in/RT_CT_pp_us_sa_rt_z10_wv40_oz30.INP > simulations/RT/2.0.1/CT/pp/us/sa/rt/out/RT_CT_pp_us_sa_rt_z10_wv40_oz30.OUT')\n",
      "--------------------------------------------\n",
      " 2) airmass =  1.04299998283\n",
      " 2) pwv =  4.0\n",
      " 2) oz =  300.0\n",
      "--------------------------------------------\n",
      "('Running uvspec with input file: ', 'simulations/RT/2.0.1/CT/pp/us/sa/rt/in/RT_CT_pp_us_sa_rt_z10_wv40_oz30.INP')\n",
      "('Output to file                : ', 'simulations/RT/2.0.1/CT/pp/us/sa/rt/out/RT_CT_pp_us_sa_rt_z10_wv40_oz30.OUT')\n",
      "('uvspec cmd: ', '/Users/dagoret-campagnesylvie/MacOsX/LSST/softs/libRadtran-2.0.1/bin/uvspec  < simulations/RT/2.0.1/CT/pp/us/sa/rt/in/RT_CT_pp_us_sa_rt_z10_wv40_oz30.INP > simulations/RT/2.0.1/CT/pp/us/sa/rt/out/RT_CT_pp_us_sa_rt_z10_wv40_oz30.OUT')\n",
      "--------------------------------------------\n",
      " 2) airmass =  1.03999996185\n",
      " 2) pwv =  4.0\n",
      " 2) oz =  300.0\n",
      "--------------------------------------------\n",
      "('Running uvspec with input file: ', 'simulations/RT/2.0.1/CT/pp/us/sa/rt/in/RT_CT_pp_us_sa_rt_z10_wv40_oz30.INP')\n",
      "('Output to file                : ', 'simulations/RT/2.0.1/CT/pp/us/sa/rt/out/RT_CT_pp_us_sa_rt_z10_wv40_oz30.OUT')\n",
      "('uvspec cmd: ', '/Users/dagoret-campagnesylvie/MacOsX/LSST/softs/libRadtran-2.0.1/bin/uvspec  < simulations/RT/2.0.1/CT/pp/us/sa/rt/in/RT_CT_pp_us_sa_rt_z10_wv40_oz30.INP > simulations/RT/2.0.1/CT/pp/us/sa/rt/out/RT_CT_pp_us_sa_rt_z10_wv40_oz30.OUT')\n",
      "--------------------------------------------\n",
      " 2) airmass =  1.03699994087\n",
      " 2) pwv =  4.0\n",
      " 2) oz =  300.0\n",
      "--------------------------------------------\n",
      "('Running uvspec with input file: ', 'simulations/RT/2.0.1/CT/pp/us/sa/rt/in/RT_CT_pp_us_sa_rt_z10_wv40_oz30.INP')\n",
      "('Output to file                : ', 'simulations/RT/2.0.1/CT/pp/us/sa/rt/out/RT_CT_pp_us_sa_rt_z10_wv40_oz30.OUT')\n",
      "('uvspec cmd: ', '/Users/dagoret-campagnesylvie/MacOsX/LSST/softs/libRadtran-2.0.1/bin/uvspec  < simulations/RT/2.0.1/CT/pp/us/sa/rt/in/RT_CT_pp_us_sa_rt_z10_wv40_oz30.INP > simulations/RT/2.0.1/CT/pp/us/sa/rt/out/RT_CT_pp_us_sa_rt_z10_wv40_oz30.OUT')\n",
      "--------------------------------------------\n",
      " 2) airmass =  1.03499996662\n",
      " 2) pwv =  4.0\n",
      " 2) oz =  300.0\n",
      "--------------------------------------------\n",
      "('Running uvspec with input file: ', 'simulations/RT/2.0.1/CT/pp/us/sa/rt/in/RT_CT_pp_us_sa_rt_z10_wv40_oz30.INP')\n",
      "('Output to file                : ', 'simulations/RT/2.0.1/CT/pp/us/sa/rt/out/RT_CT_pp_us_sa_rt_z10_wv40_oz30.OUT')\n",
      "('uvspec cmd: ', '/Users/dagoret-campagnesylvie/MacOsX/LSST/softs/libRadtran-2.0.1/bin/uvspec  < simulations/RT/2.0.1/CT/pp/us/sa/rt/in/RT_CT_pp_us_sa_rt_z10_wv40_oz30.INP > simulations/RT/2.0.1/CT/pp/us/sa/rt/out/RT_CT_pp_us_sa_rt_z10_wv40_oz30.OUT')\n",
      "--------------------------------------------\n",
      " 2) airmass =  1.03299999237\n",
      " 2) pwv =  4.0\n",
      " 2) oz =  300.0\n",
      "--------------------------------------------\n",
      "('Running uvspec with input file: ', 'simulations/RT/2.0.1/CT/pp/us/sa/rt/in/RT_CT_pp_us_sa_rt_z10_wv40_oz30.INP')\n",
      "('Output to file                : ', 'simulations/RT/2.0.1/CT/pp/us/sa/rt/out/RT_CT_pp_us_sa_rt_z10_wv40_oz30.OUT')\n",
      "('uvspec cmd: ', '/Users/dagoret-campagnesylvie/MacOsX/LSST/softs/libRadtran-2.0.1/bin/uvspec  < simulations/RT/2.0.1/CT/pp/us/sa/rt/in/RT_CT_pp_us_sa_rt_z10_wv40_oz30.INP > simulations/RT/2.0.1/CT/pp/us/sa/rt/out/RT_CT_pp_us_sa_rt_z10_wv40_oz30.OUT')\n",
      "--------------------------------------------\n",
      " 2) airmass =  1.03100001812\n",
      " 2) pwv =  4.0\n",
      " 2) oz =  300.0\n",
      "--------------------------------------------\n",
      "('Running uvspec with input file: ', 'simulations/RT/2.0.1/CT/pp/us/sa/rt/in/RT_CT_pp_us_sa_rt_z10_wv40_oz30.INP')\n",
      "('Output to file                : ', 'simulations/RT/2.0.1/CT/pp/us/sa/rt/out/RT_CT_pp_us_sa_rt_z10_wv40_oz30.OUT')\n",
      "('uvspec cmd: ', '/Users/dagoret-campagnesylvie/MacOsX/LSST/softs/libRadtran-2.0.1/bin/uvspec  < simulations/RT/2.0.1/CT/pp/us/sa/rt/in/RT_CT_pp_us_sa_rt_z10_wv40_oz30.INP > simulations/RT/2.0.1/CT/pp/us/sa/rt/out/RT_CT_pp_us_sa_rt_z10_wv40_oz30.OUT')\n",
      "--------------------------------------------\n",
      " 2) airmass =  1.02900004387\n",
      " 2) pwv =  4.0\n",
      " 2) oz =  300.0\n",
      "--------------------------------------------\n",
      "('Running uvspec with input file: ', 'simulations/RT/2.0.1/CT/pp/us/sa/rt/in/RT_CT_pp_us_sa_rt_z10_wv40_oz30.INP')\n",
      "('Output to file                : ', 'simulations/RT/2.0.1/CT/pp/us/sa/rt/out/RT_CT_pp_us_sa_rt_z10_wv40_oz30.OUT')\n",
      "('uvspec cmd: ', '/Users/dagoret-campagnesylvie/MacOsX/LSST/softs/libRadtran-2.0.1/bin/uvspec  < simulations/RT/2.0.1/CT/pp/us/sa/rt/in/RT_CT_pp_us_sa_rt_z10_wv40_oz30.INP > simulations/RT/2.0.1/CT/pp/us/sa/rt/out/RT_CT_pp_us_sa_rt_z10_wv40_oz30.OUT')\n",
      "--------------------------------------------\n",
      " 2) airmass =  1.02600002289\n",
      " 2) pwv =  4.0\n",
      " 2) oz =  300.0\n",
      "--------------------------------------------\n",
      "('Running uvspec with input file: ', 'simulations/RT/2.0.1/CT/pp/us/sa/rt/in/RT_CT_pp_us_sa_rt_z10_wv40_oz30.INP')\n",
      "('Output to file                : ', 'simulations/RT/2.0.1/CT/pp/us/sa/rt/out/RT_CT_pp_us_sa_rt_z10_wv40_oz30.OUT')\n",
      "('uvspec cmd: ', '/Users/dagoret-campagnesylvie/MacOsX/LSST/softs/libRadtran-2.0.1/bin/uvspec  < simulations/RT/2.0.1/CT/pp/us/sa/rt/in/RT_CT_pp_us_sa_rt_z10_wv40_oz30.INP > simulations/RT/2.0.1/CT/pp/us/sa/rt/out/RT_CT_pp_us_sa_rt_z10_wv40_oz30.OUT')\n",
      "--------------------------------------------\n",
      " 2) airmass =  1.02400004864\n",
      " 2) pwv =  4.0\n",
      " 2) oz =  300.0\n",
      "--------------------------------------------\n",
      "('Running uvspec with input file: ', 'simulations/RT/2.0.1/CT/pp/us/sa/rt/in/RT_CT_pp_us_sa_rt_z10_wv40_oz30.INP')\n",
      "('Output to file                : ', 'simulations/RT/2.0.1/CT/pp/us/sa/rt/out/RT_CT_pp_us_sa_rt_z10_wv40_oz30.OUT')\n",
      "('uvspec cmd: ', '/Users/dagoret-campagnesylvie/MacOsX/LSST/softs/libRadtran-2.0.1/bin/uvspec  < simulations/RT/2.0.1/CT/pp/us/sa/rt/in/RT_CT_pp_us_sa_rt_z10_wv40_oz30.INP > simulations/RT/2.0.1/CT/pp/us/sa/rt/out/RT_CT_pp_us_sa_rt_z10_wv40_oz30.OUT')\n",
      "--------------------------------------------\n",
      " 2) airmass =  1.02300000191\n",
      " 2) pwv =  4.0\n",
      " 2) oz =  300.0\n",
      "--------------------------------------------\n",
      "('Running uvspec with input file: ', 'simulations/RT/2.0.1/CT/pp/us/sa/rt/in/RT_CT_pp_us_sa_rt_z10_wv40_oz30.INP')\n",
      "('Output to file                : ', 'simulations/RT/2.0.1/CT/pp/us/sa/rt/out/RT_CT_pp_us_sa_rt_z10_wv40_oz30.OUT')\n",
      "('uvspec cmd: ', '/Users/dagoret-campagnesylvie/MacOsX/LSST/softs/libRadtran-2.0.1/bin/uvspec  < simulations/RT/2.0.1/CT/pp/us/sa/rt/in/RT_CT_pp_us_sa_rt_z10_wv40_oz30.INP > simulations/RT/2.0.1/CT/pp/us/sa/rt/out/RT_CT_pp_us_sa_rt_z10_wv40_oz30.OUT')\n",
      "--------------------------------------------\n",
      " 2) airmass =  1.02100002766\n",
      " 2) pwv =  4.0\n",
      " 2) oz =  300.0\n",
      "--------------------------------------------\n",
      "('Running uvspec with input file: ', 'simulations/RT/2.0.1/CT/pp/us/sa/rt/in/RT_CT_pp_us_sa_rt_z10_wv40_oz30.INP')\n",
      "('Output to file                : ', 'simulations/RT/2.0.1/CT/pp/us/sa/rt/out/RT_CT_pp_us_sa_rt_z10_wv40_oz30.OUT')\n",
      "('uvspec cmd: ', '/Users/dagoret-campagnesylvie/MacOsX/LSST/softs/libRadtran-2.0.1/bin/uvspec  < simulations/RT/2.0.1/CT/pp/us/sa/rt/in/RT_CT_pp_us_sa_rt_z10_wv40_oz30.INP > simulations/RT/2.0.1/CT/pp/us/sa/rt/out/RT_CT_pp_us_sa_rt_z10_wv40_oz30.OUT')\n",
      "--------------------------------------------\n",
      " 2) airmass =  1.01900005341\n",
      " 2) pwv =  4.0\n",
      " 2) oz =  300.0\n",
      "--------------------------------------------\n",
      "('Running uvspec with input file: ', 'simulations/RT/2.0.1/CT/pp/us/sa/rt/in/RT_CT_pp_us_sa_rt_z10_wv40_oz30.INP')\n",
      "('Output to file                : ', 'simulations/RT/2.0.1/CT/pp/us/sa/rt/out/RT_CT_pp_us_sa_rt_z10_wv40_oz30.OUT')\n",
      "('uvspec cmd: ', '/Users/dagoret-campagnesylvie/MacOsX/LSST/softs/libRadtran-2.0.1/bin/uvspec  < simulations/RT/2.0.1/CT/pp/us/sa/rt/in/RT_CT_pp_us_sa_rt_z10_wv40_oz30.INP > simulations/RT/2.0.1/CT/pp/us/sa/rt/out/RT_CT_pp_us_sa_rt_z10_wv40_oz30.OUT')\n",
      "--------------------------------------------\n",
      " 2) airmass =  1.01699995995\n",
      " 2) pwv =  4.0\n",
      " 2) oz =  300.0\n",
      "--------------------------------------------\n",
      "('Running uvspec with input file: ', 'simulations/RT/2.0.1/CT/pp/us/sa/rt/in/RT_CT_pp_us_sa_rt_z10_wv40_oz30.INP')\n",
      "('Output to file                : ', 'simulations/RT/2.0.1/CT/pp/us/sa/rt/out/RT_CT_pp_us_sa_rt_z10_wv40_oz30.OUT')\n",
      "('uvspec cmd: ', '/Users/dagoret-campagnesylvie/MacOsX/LSST/softs/libRadtran-2.0.1/bin/uvspec  < simulations/RT/2.0.1/CT/pp/us/sa/rt/in/RT_CT_pp_us_sa_rt_z10_wv40_oz30.INP > simulations/RT/2.0.1/CT/pp/us/sa/rt/out/RT_CT_pp_us_sa_rt_z10_wv40_oz30.OUT')\n",
      "--------------------------------------------\n",
      " 2) airmass =  1.01600003242\n",
      " 2) pwv =  4.0\n",
      " 2) oz =  300.0\n",
      "--------------------------------------------\n",
      "('Running uvspec with input file: ', 'simulations/RT/2.0.1/CT/pp/us/sa/rt/in/RT_CT_pp_us_sa_rt_z10_wv40_oz30.INP')\n",
      "('Output to file                : ', 'simulations/RT/2.0.1/CT/pp/us/sa/rt/out/RT_CT_pp_us_sa_rt_z10_wv40_oz30.OUT')\n",
      "('uvspec cmd: ', '/Users/dagoret-campagnesylvie/MacOsX/LSST/softs/libRadtran-2.0.1/bin/uvspec  < simulations/RT/2.0.1/CT/pp/us/sa/rt/in/RT_CT_pp_us_sa_rt_z10_wv40_oz30.INP > simulations/RT/2.0.1/CT/pp/us/sa/rt/out/RT_CT_pp_us_sa_rt_z10_wv40_oz30.OUT')\n",
      "--------------------------------------------\n",
      " 2) airmass =  1.01499998569\n",
      " 2) pwv =  4.0\n",
      " 2) oz =  300.0\n",
      "--------------------------------------------\n",
      "('Running uvspec with input file: ', 'simulations/RT/2.0.1/CT/pp/us/sa/rt/in/RT_CT_pp_us_sa_rt_z10_wv40_oz30.INP')\n",
      "('Output to file                : ', 'simulations/RT/2.0.1/CT/pp/us/sa/rt/out/RT_CT_pp_us_sa_rt_z10_wv40_oz30.OUT')\n",
      "('uvspec cmd: ', '/Users/dagoret-campagnesylvie/MacOsX/LSST/softs/libRadtran-2.0.1/bin/uvspec  < simulations/RT/2.0.1/CT/pp/us/sa/rt/in/RT_CT_pp_us_sa_rt_z10_wv40_oz30.INP > simulations/RT/2.0.1/CT/pp/us/sa/rt/out/RT_CT_pp_us_sa_rt_z10_wv40_oz30.OUT')\n",
      "--------------------------------------------\n",
      " 2) airmass =  1.01300001144\n",
      " 2) pwv =  4.0\n",
      " 2) oz =  300.0\n",
      "--------------------------------------------\n",
      "('Running uvspec with input file: ', 'simulations/RT/2.0.1/CT/pp/us/sa/rt/in/RT_CT_pp_us_sa_rt_z10_wv40_oz30.INP')\n",
      "('Output to file                : ', 'simulations/RT/2.0.1/CT/pp/us/sa/rt/out/RT_CT_pp_us_sa_rt_z10_wv40_oz30.OUT')\n",
      "('uvspec cmd: ', '/Users/dagoret-campagnesylvie/MacOsX/LSST/softs/libRadtran-2.0.1/bin/uvspec  < simulations/RT/2.0.1/CT/pp/us/sa/rt/in/RT_CT_pp_us_sa_rt_z10_wv40_oz30.INP > simulations/RT/2.0.1/CT/pp/us/sa/rt/out/RT_CT_pp_us_sa_rt_z10_wv40_oz30.OUT')\n",
      "--------------------------------------------\n",
      " 2) airmass =  1.01199996471\n",
      " 2) pwv =  4.0\n",
      " 2) oz =  300.0\n",
      "--------------------------------------------\n",
      "('Running uvspec with input file: ', 'simulations/RT/2.0.1/CT/pp/us/sa/rt/in/RT_CT_pp_us_sa_rt_z10_wv40_oz30.INP')\n",
      "('Output to file                : ', 'simulations/RT/2.0.1/CT/pp/us/sa/rt/out/RT_CT_pp_us_sa_rt_z10_wv40_oz30.OUT')\n",
      "('uvspec cmd: ', '/Users/dagoret-campagnesylvie/MacOsX/LSST/softs/libRadtran-2.0.1/bin/uvspec  < simulations/RT/2.0.1/CT/pp/us/sa/rt/in/RT_CT_pp_us_sa_rt_z10_wv40_oz30.INP > simulations/RT/2.0.1/CT/pp/us/sa/rt/out/RT_CT_pp_us_sa_rt_z10_wv40_oz30.OUT')\n",
      "--------------------------------------------\n",
      " 2) airmass =  1.00999999046\n",
      " 2) pwv =  4.0\n",
      " 2) oz =  300.0\n",
      "--------------------------------------------\n",
      "('Running uvspec with input file: ', 'simulations/RT/2.0.1/CT/pp/us/sa/rt/in/RT_CT_pp_us_sa_rt_z10_wv40_oz30.INP')\n",
      "('Output to file                : ', 'simulations/RT/2.0.1/CT/pp/us/sa/rt/out/RT_CT_pp_us_sa_rt_z10_wv40_oz30.OUT')\n",
      "('uvspec cmd: ', '/Users/dagoret-campagnesylvie/MacOsX/LSST/softs/libRadtran-2.0.1/bin/uvspec  < simulations/RT/2.0.1/CT/pp/us/sa/rt/in/RT_CT_pp_us_sa_rt_z10_wv40_oz30.INP > simulations/RT/2.0.1/CT/pp/us/sa/rt/out/RT_CT_pp_us_sa_rt_z10_wv40_oz30.OUT')\n",
      "--------------------------------------------\n",
      " 2) airmass =  1.00899994373\n",
      " 2) pwv =  4.0\n",
      " 2) oz =  300.0\n",
      "--------------------------------------------\n",
      "('Running uvspec with input file: ', 'simulations/RT/2.0.1/CT/pp/us/sa/rt/in/RT_CT_pp_us_sa_rt_z10_wv40_oz30.INP')\n",
      "('Output to file                : ', 'simulations/RT/2.0.1/CT/pp/us/sa/rt/out/RT_CT_pp_us_sa_rt_z10_wv40_oz30.OUT')\n",
      "('uvspec cmd: ', '/Users/dagoret-campagnesylvie/MacOsX/LSST/softs/libRadtran-2.0.1/bin/uvspec  < simulations/RT/2.0.1/CT/pp/us/sa/rt/in/RT_CT_pp_us_sa_rt_z10_wv40_oz30.INP > simulations/RT/2.0.1/CT/pp/us/sa/rt/out/RT_CT_pp_us_sa_rt_z10_wv40_oz30.OUT')\n",
      "--------------------------------------------\n",
      " 2) airmass =  1.00800001621\n",
      " 2) pwv =  4.0\n",
      " 2) oz =  300.0\n",
      "--------------------------------------------\n",
      "('Running uvspec with input file: ', 'simulations/RT/2.0.1/CT/pp/us/sa/rt/in/RT_CT_pp_us_sa_rt_z10_wv40_oz30.INP')\n",
      "('Output to file                : ', 'simulations/RT/2.0.1/CT/pp/us/sa/rt/out/RT_CT_pp_us_sa_rt_z10_wv40_oz30.OUT')\n",
      "('uvspec cmd: ', '/Users/dagoret-campagnesylvie/MacOsX/LSST/softs/libRadtran-2.0.1/bin/uvspec  < simulations/RT/2.0.1/CT/pp/us/sa/rt/in/RT_CT_pp_us_sa_rt_z10_wv40_oz30.INP > simulations/RT/2.0.1/CT/pp/us/sa/rt/out/RT_CT_pp_us_sa_rt_z10_wv40_oz30.OUT')\n",
      "--------------------------------------------\n",
      " 2) airmass =  1.00699996948\n",
      " 2) pwv =  4.0\n",
      " 2) oz =  300.0\n",
      "--------------------------------------------\n",
      "('Running uvspec with input file: ', 'simulations/RT/2.0.1/CT/pp/us/sa/rt/in/RT_CT_pp_us_sa_rt_z10_wv40_oz30.INP')\n",
      "('Output to file                : ', 'simulations/RT/2.0.1/CT/pp/us/sa/rt/out/RT_CT_pp_us_sa_rt_z10_wv40_oz30.OUT')\n",
      "('uvspec cmd: ', '/Users/dagoret-campagnesylvie/MacOsX/LSST/softs/libRadtran-2.0.1/bin/uvspec  < simulations/RT/2.0.1/CT/pp/us/sa/rt/in/RT_CT_pp_us_sa_rt_z10_wv40_oz30.INP > simulations/RT/2.0.1/CT/pp/us/sa/rt/out/RT_CT_pp_us_sa_rt_z10_wv40_oz30.OUT')\n",
      "--------------------------------------------\n",
      " 2) airmass =  1.00600004196\n",
      " 2) pwv =  4.0\n",
      " 2) oz =  300.0\n",
      "--------------------------------------------\n",
      "('Running uvspec with input file: ', 'simulations/RT/2.0.1/CT/pp/us/sa/rt/in/RT_CT_pp_us_sa_rt_z10_wv40_oz30.INP')\n",
      "('Output to file                : ', 'simulations/RT/2.0.1/CT/pp/us/sa/rt/out/RT_CT_pp_us_sa_rt_z10_wv40_oz30.OUT')\n",
      "('uvspec cmd: ', '/Users/dagoret-campagnesylvie/MacOsX/LSST/softs/libRadtran-2.0.1/bin/uvspec  < simulations/RT/2.0.1/CT/pp/us/sa/rt/in/RT_CT_pp_us_sa_rt_z10_wv40_oz30.INP > simulations/RT/2.0.1/CT/pp/us/sa/rt/out/RT_CT_pp_us_sa_rt_z10_wv40_oz30.OUT')\n",
      "--------------------------------------------\n",
      " 2) airmass =  1.00499999523\n",
      " 2) pwv =  4.0\n",
      " 2) oz =  300.0\n",
      "--------------------------------------------\n",
      "('Running uvspec with input file: ', 'simulations/RT/2.0.1/CT/pp/us/sa/rt/in/RT_CT_pp_us_sa_rt_z10_wv40_oz30.INP')\n",
      "('Output to file                : ', 'simulations/RT/2.0.1/CT/pp/us/sa/rt/out/RT_CT_pp_us_sa_rt_z10_wv40_oz30.OUT')\n",
      "('uvspec cmd: ', '/Users/dagoret-campagnesylvie/MacOsX/LSST/softs/libRadtran-2.0.1/bin/uvspec  < simulations/RT/2.0.1/CT/pp/us/sa/rt/in/RT_CT_pp_us_sa_rt_z10_wv40_oz30.INP > simulations/RT/2.0.1/CT/pp/us/sa/rt/out/RT_CT_pp_us_sa_rt_z10_wv40_oz30.OUT')\n",
      "--------------------------------------------\n",
      " 2) airmass =  1.00499999523\n",
      " 2) pwv =  4.0\n",
      " 2) oz =  300.0\n",
      "--------------------------------------------\n",
      "('Running uvspec with input file: ', 'simulations/RT/2.0.1/CT/pp/us/sa/rt/in/RT_CT_pp_us_sa_rt_z10_wv40_oz30.INP')\n",
      "('Output to file                : ', 'simulations/RT/2.0.1/CT/pp/us/sa/rt/out/RT_CT_pp_us_sa_rt_z10_wv40_oz30.OUT')\n",
      "('uvspec cmd: ', '/Users/dagoret-campagnesylvie/MacOsX/LSST/softs/libRadtran-2.0.1/bin/uvspec  < simulations/RT/2.0.1/CT/pp/us/sa/rt/in/RT_CT_pp_us_sa_rt_z10_wv40_oz30.INP > simulations/RT/2.0.1/CT/pp/us/sa/rt/out/RT_CT_pp_us_sa_rt_z10_wv40_oz30.OUT')\n",
      "--------------------------------------------\n",
      " 2) airmass =  1.0039999485\n",
      " 2) pwv =  4.0\n",
      " 2) oz =  300.0\n",
      "--------------------------------------------\n",
      "('Running uvspec with input file: ', 'simulations/RT/2.0.1/CT/pp/us/sa/rt/in/RT_CT_pp_us_sa_rt_z10_wv40_oz30.INP')\n",
      "('Output to file                : ', 'simulations/RT/2.0.1/CT/pp/us/sa/rt/out/RT_CT_pp_us_sa_rt_z10_wv40_oz30.OUT')\n",
      "('uvspec cmd: ', '/Users/dagoret-campagnesylvie/MacOsX/LSST/softs/libRadtran-2.0.1/bin/uvspec  < simulations/RT/2.0.1/CT/pp/us/sa/rt/in/RT_CT_pp_us_sa_rt_z10_wv40_oz30.INP > simulations/RT/2.0.1/CT/pp/us/sa/rt/out/RT_CT_pp_us_sa_rt_z10_wv40_oz30.OUT')\n",
      "--------------------------------------------\n",
      " 2) airmass =  1.0039999485\n",
      " 2) pwv =  4.0\n",
      " 2) oz =  300.0\n",
      "--------------------------------------------\n",
      "('Running uvspec with input file: ', 'simulations/RT/2.0.1/CT/pp/us/sa/rt/in/RT_CT_pp_us_sa_rt_z10_wv40_oz30.INP')\n",
      "('Output to file                : ', 'simulations/RT/2.0.1/CT/pp/us/sa/rt/out/RT_CT_pp_us_sa_rt_z10_wv40_oz30.OUT')\n",
      "('uvspec cmd: ', '/Users/dagoret-campagnesylvie/MacOsX/LSST/softs/libRadtran-2.0.1/bin/uvspec  < simulations/RT/2.0.1/CT/pp/us/sa/rt/in/RT_CT_pp_us_sa_rt_z10_wv40_oz30.INP > simulations/RT/2.0.1/CT/pp/us/sa/rt/out/RT_CT_pp_us_sa_rt_z10_wv40_oz30.OUT')\n",
      "--------------------------------------------\n",
      " 2) airmass =  1.00300002098\n",
      " 2) pwv =  4.0\n",
      " 2) oz =  300.0\n",
      "--------------------------------------------\n",
      "('Running uvspec with input file: ', 'simulations/RT/2.0.1/CT/pp/us/sa/rt/in/RT_CT_pp_us_sa_rt_z10_wv40_oz30.INP')\n",
      "('Output to file                : ', 'simulations/RT/2.0.1/CT/pp/us/sa/rt/out/RT_CT_pp_us_sa_rt_z10_wv40_oz30.OUT')\n",
      "('uvspec cmd: ', '/Users/dagoret-campagnesylvie/MacOsX/LSST/softs/libRadtran-2.0.1/bin/uvspec  < simulations/RT/2.0.1/CT/pp/us/sa/rt/in/RT_CT_pp_us_sa_rt_z10_wv40_oz30.INP > simulations/RT/2.0.1/CT/pp/us/sa/rt/out/RT_CT_pp_us_sa_rt_z10_wv40_oz30.OUT')\n",
      "--------------------------------------------\n",
      " 2) airmass =  1.00199997425\n",
      " 2) pwv =  4.0\n",
      " 2) oz =  300.0\n",
      "--------------------------------------------\n",
      "('Running uvspec with input file: ', 'simulations/RT/2.0.1/CT/pp/us/sa/rt/in/RT_CT_pp_us_sa_rt_z10_wv40_oz30.INP')\n",
      "('Output to file                : ', 'simulations/RT/2.0.1/CT/pp/us/sa/rt/out/RT_CT_pp_us_sa_rt_z10_wv40_oz30.OUT')\n",
      "('uvspec cmd: ', '/Users/dagoret-campagnesylvie/MacOsX/LSST/softs/libRadtran-2.0.1/bin/uvspec  < simulations/RT/2.0.1/CT/pp/us/sa/rt/in/RT_CT_pp_us_sa_rt_z10_wv40_oz30.INP > simulations/RT/2.0.1/CT/pp/us/sa/rt/out/RT_CT_pp_us_sa_rt_z10_wv40_oz30.OUT')\n",
      "--------------------------------------------\n",
      " 2) airmass =  1.00199997425\n",
      " 2) pwv =  4.0\n",
      " 2) oz =  300.0\n",
      "--------------------------------------------\n",
      "('Running uvspec with input file: ', 'simulations/RT/2.0.1/CT/pp/us/sa/rt/in/RT_CT_pp_us_sa_rt_z10_wv40_oz30.INP')\n",
      "('Output to file                : ', 'simulations/RT/2.0.1/CT/pp/us/sa/rt/out/RT_CT_pp_us_sa_rt_z10_wv40_oz30.OUT')\n",
      "('uvspec cmd: ', '/Users/dagoret-campagnesylvie/MacOsX/LSST/softs/libRadtran-2.0.1/bin/uvspec  < simulations/RT/2.0.1/CT/pp/us/sa/rt/in/RT_CT_pp_us_sa_rt_z10_wv40_oz30.INP > simulations/RT/2.0.1/CT/pp/us/sa/rt/out/RT_CT_pp_us_sa_rt_z10_wv40_oz30.OUT')\n",
      "--------------------------------------------\n",
      " 2) airmass =  1.00199997425\n",
      " 2) pwv =  4.0\n",
      " 2) oz =  300.0\n",
      "--------------------------------------------\n",
      "('Running uvspec with input file: ', 'simulations/RT/2.0.1/CT/pp/us/sa/rt/in/RT_CT_pp_us_sa_rt_z10_wv40_oz30.INP')\n",
      "('Output to file                : ', 'simulations/RT/2.0.1/CT/pp/us/sa/rt/out/RT_CT_pp_us_sa_rt_z10_wv40_oz30.OUT')\n",
      "('uvspec cmd: ', '/Users/dagoret-campagnesylvie/MacOsX/LSST/softs/libRadtran-2.0.1/bin/uvspec  < simulations/RT/2.0.1/CT/pp/us/sa/rt/in/RT_CT_pp_us_sa_rt_z10_wv40_oz30.INP > simulations/RT/2.0.1/CT/pp/us/sa/rt/out/RT_CT_pp_us_sa_rt_z10_wv40_oz30.OUT')\n",
      "--------------------------------------------\n",
      " 2) airmass =  1.00199997425\n",
      " 2) pwv =  4.0\n",
      " 2) oz =  300.0\n",
      "--------------------------------------------\n",
      "('Running uvspec with input file: ', 'simulations/RT/2.0.1/CT/pp/us/sa/rt/in/RT_CT_pp_us_sa_rt_z10_wv40_oz30.INP')\n",
      "('Output to file                : ', 'simulations/RT/2.0.1/CT/pp/us/sa/rt/out/RT_CT_pp_us_sa_rt_z10_wv40_oz30.OUT')\n",
      "('uvspec cmd: ', '/Users/dagoret-campagnesylvie/MacOsX/LSST/softs/libRadtran-2.0.1/bin/uvspec  < simulations/RT/2.0.1/CT/pp/us/sa/rt/in/RT_CT_pp_us_sa_rt_z10_wv40_oz30.INP > simulations/RT/2.0.1/CT/pp/us/sa/rt/out/RT_CT_pp_us_sa_rt_z10_wv40_oz30.OUT')\n",
      "--------------------------------------------\n",
      " 2) airmass =  1.00100004673\n",
      " 2) pwv =  4.0\n",
      " 2) oz =  300.0\n",
      "--------------------------------------------\n",
      "('Running uvspec with input file: ', 'simulations/RT/2.0.1/CT/pp/us/sa/rt/in/RT_CT_pp_us_sa_rt_z10_wv40_oz30.INP')\n",
      "('Output to file                : ', 'simulations/RT/2.0.1/CT/pp/us/sa/rt/out/RT_CT_pp_us_sa_rt_z10_wv40_oz30.OUT')\n",
      "('uvspec cmd: ', '/Users/dagoret-campagnesylvie/MacOsX/LSST/softs/libRadtran-2.0.1/bin/uvspec  < simulations/RT/2.0.1/CT/pp/us/sa/rt/in/RT_CT_pp_us_sa_rt_z10_wv40_oz30.INP > simulations/RT/2.0.1/CT/pp/us/sa/rt/out/RT_CT_pp_us_sa_rt_z10_wv40_oz30.OUT')\n",
      "--------------------------------------------\n",
      " 2) airmass =  1.00100004673\n",
      " 2) pwv =  4.0\n",
      " 2) oz =  300.0\n",
      "--------------------------------------------\n",
      "('Running uvspec with input file: ', 'simulations/RT/2.0.1/CT/pp/us/sa/rt/in/RT_CT_pp_us_sa_rt_z10_wv40_oz30.INP')\n",
      "('Output to file                : ', 'simulations/RT/2.0.1/CT/pp/us/sa/rt/out/RT_CT_pp_us_sa_rt_z10_wv40_oz30.OUT')\n",
      "('uvspec cmd: ', '/Users/dagoret-campagnesylvie/MacOsX/LSST/softs/libRadtran-2.0.1/bin/uvspec  < simulations/RT/2.0.1/CT/pp/us/sa/rt/in/RT_CT_pp_us_sa_rt_z10_wv40_oz30.INP > simulations/RT/2.0.1/CT/pp/us/sa/rt/out/RT_CT_pp_us_sa_rt_z10_wv40_oz30.OUT')\n",
      "--------------------------------------------\n",
      " 2) airmass =  1.00100004673\n",
      " 2) pwv =  4.0\n",
      " 2) oz =  300.0\n",
      "--------------------------------------------\n",
      "('Running uvspec with input file: ', 'simulations/RT/2.0.1/CT/pp/us/sa/rt/in/RT_CT_pp_us_sa_rt_z10_wv40_oz30.INP')\n",
      "('Output to file                : ', 'simulations/RT/2.0.1/CT/pp/us/sa/rt/out/RT_CT_pp_us_sa_rt_z10_wv40_oz30.OUT')\n",
      "('uvspec cmd: ', '/Users/dagoret-campagnesylvie/MacOsX/LSST/softs/libRadtran-2.0.1/bin/uvspec  < simulations/RT/2.0.1/CT/pp/us/sa/rt/in/RT_CT_pp_us_sa_rt_z10_wv40_oz30.INP > simulations/RT/2.0.1/CT/pp/us/sa/rt/out/RT_CT_pp_us_sa_rt_z10_wv40_oz30.OUT')\n",
      "--------------------------------------------\n",
      " 2) airmass =  1.00100004673\n",
      " 2) pwv =  4.0\n",
      " 2) oz =  300.0\n",
      "--------------------------------------------\n",
      "('Running uvspec with input file: ', 'simulations/RT/2.0.1/CT/pp/us/sa/rt/in/RT_CT_pp_us_sa_rt_z10_wv40_oz30.INP')\n",
      "('Output to file                : ', 'simulations/RT/2.0.1/CT/pp/us/sa/rt/out/RT_CT_pp_us_sa_rt_z10_wv40_oz30.OUT')\n",
      "('uvspec cmd: ', '/Users/dagoret-campagnesylvie/MacOsX/LSST/softs/libRadtran-2.0.1/bin/uvspec  < simulations/RT/2.0.1/CT/pp/us/sa/rt/in/RT_CT_pp_us_sa_rt_z10_wv40_oz30.INP > simulations/RT/2.0.1/CT/pp/us/sa/rt/out/RT_CT_pp_us_sa_rt_z10_wv40_oz30.OUT')\n",
      "--------------------------------------------\n",
      " 2) airmass =  1.00100004673\n",
      " 2) pwv =  4.0\n",
      " 2) oz =  300.0\n",
      "--------------------------------------------\n",
      "('Running uvspec with input file: ', 'simulations/RT/2.0.1/CT/pp/us/sa/rt/in/RT_CT_pp_us_sa_rt_z10_wv40_oz30.INP')\n",
      "('Output to file                : ', 'simulations/RT/2.0.1/CT/pp/us/sa/rt/out/RT_CT_pp_us_sa_rt_z10_wv40_oz30.OUT')\n",
      "('uvspec cmd: ', '/Users/dagoret-campagnesylvie/MacOsX/LSST/softs/libRadtran-2.0.1/bin/uvspec  < simulations/RT/2.0.1/CT/pp/us/sa/rt/in/RT_CT_pp_us_sa_rt_z10_wv40_oz30.INP > simulations/RT/2.0.1/CT/pp/us/sa/rt/out/RT_CT_pp_us_sa_rt_z10_wv40_oz30.OUT')\n",
      "--------------------------------------------\n",
      " 2) airmass =  1.00199997425\n",
      " 2) pwv =  4.0\n",
      " 2) oz =  300.0\n",
      "--------------------------------------------\n",
      "('Running uvspec with input file: ', 'simulations/RT/2.0.1/CT/pp/us/sa/rt/in/RT_CT_pp_us_sa_rt_z10_wv40_oz30.INP')\n",
      "('Output to file                : ', 'simulations/RT/2.0.1/CT/pp/us/sa/rt/out/RT_CT_pp_us_sa_rt_z10_wv40_oz30.OUT')\n",
      "('uvspec cmd: ', '/Users/dagoret-campagnesylvie/MacOsX/LSST/softs/libRadtran-2.0.1/bin/uvspec  < simulations/RT/2.0.1/CT/pp/us/sa/rt/in/RT_CT_pp_us_sa_rt_z10_wv40_oz30.INP > simulations/RT/2.0.1/CT/pp/us/sa/rt/out/RT_CT_pp_us_sa_rt_z10_wv40_oz30.OUT')\n",
      "--------------------------------------------\n",
      " 2) airmass =  1.00199997425\n",
      " 2) pwv =  4.0\n",
      " 2) oz =  300.0\n",
      "--------------------------------------------\n",
      "('Running uvspec with input file: ', 'simulations/RT/2.0.1/CT/pp/us/sa/rt/in/RT_CT_pp_us_sa_rt_z10_wv40_oz30.INP')\n",
      "('Output to file                : ', 'simulations/RT/2.0.1/CT/pp/us/sa/rt/out/RT_CT_pp_us_sa_rt_z10_wv40_oz30.OUT')\n",
      "('uvspec cmd: ', '/Users/dagoret-campagnesylvie/MacOsX/LSST/softs/libRadtran-2.0.1/bin/uvspec  < simulations/RT/2.0.1/CT/pp/us/sa/rt/in/RT_CT_pp_us_sa_rt_z10_wv40_oz30.INP > simulations/RT/2.0.1/CT/pp/us/sa/rt/out/RT_CT_pp_us_sa_rt_z10_wv40_oz30.OUT')\n",
      "--------------------------------------------\n",
      " 2) airmass =  1.00199997425\n",
      " 2) pwv =  4.0\n",
      " 2) oz =  300.0\n",
      "--------------------------------------------\n",
      "('Running uvspec with input file: ', 'simulations/RT/2.0.1/CT/pp/us/sa/rt/in/RT_CT_pp_us_sa_rt_z10_wv40_oz30.INP')\n",
      "('Output to file                : ', 'simulations/RT/2.0.1/CT/pp/us/sa/rt/out/RT_CT_pp_us_sa_rt_z10_wv40_oz30.OUT')\n",
      "('uvspec cmd: ', '/Users/dagoret-campagnesylvie/MacOsX/LSST/softs/libRadtran-2.0.1/bin/uvspec  < simulations/RT/2.0.1/CT/pp/us/sa/rt/in/RT_CT_pp_us_sa_rt_z10_wv40_oz30.INP > simulations/RT/2.0.1/CT/pp/us/sa/rt/out/RT_CT_pp_us_sa_rt_z10_wv40_oz30.OUT')\n",
      "--------------------------------------------\n",
      " 2) airmass =  1.00300002098\n",
      " 2) pwv =  4.0\n",
      " 2) oz =  300.0\n",
      "--------------------------------------------\n",
      "('Running uvspec with input file: ', 'simulations/RT/2.0.1/CT/pp/us/sa/rt/in/RT_CT_pp_us_sa_rt_z10_wv40_oz30.INP')\n",
      "('Output to file                : ', 'simulations/RT/2.0.1/CT/pp/us/sa/rt/out/RT_CT_pp_us_sa_rt_z10_wv40_oz30.OUT')\n",
      "('uvspec cmd: ', '/Users/dagoret-campagnesylvie/MacOsX/LSST/softs/libRadtran-2.0.1/bin/uvspec  < simulations/RT/2.0.1/CT/pp/us/sa/rt/in/RT_CT_pp_us_sa_rt_z10_wv40_oz30.INP > simulations/RT/2.0.1/CT/pp/us/sa/rt/out/RT_CT_pp_us_sa_rt_z10_wv40_oz30.OUT')\n",
      "--------------------------------------------\n",
      " 2) airmass =  1.00300002098\n",
      " 2) pwv =  4.0\n",
      " 2) oz =  300.0\n",
      "--------------------------------------------\n",
      "('Running uvspec with input file: ', 'simulations/RT/2.0.1/CT/pp/us/sa/rt/in/RT_CT_pp_us_sa_rt_z10_wv40_oz30.INP')\n",
      "('Output to file                : ', 'simulations/RT/2.0.1/CT/pp/us/sa/rt/out/RT_CT_pp_us_sa_rt_z10_wv40_oz30.OUT')\n",
      "('uvspec cmd: ', '/Users/dagoret-campagnesylvie/MacOsX/LSST/softs/libRadtran-2.0.1/bin/uvspec  < simulations/RT/2.0.1/CT/pp/us/sa/rt/in/RT_CT_pp_us_sa_rt_z10_wv40_oz30.INP > simulations/RT/2.0.1/CT/pp/us/sa/rt/out/RT_CT_pp_us_sa_rt_z10_wv40_oz30.OUT')\n",
      "--------------------------------------------\n",
      " 2) airmass =  1.0039999485\n",
      " 2) pwv =  4.0\n",
      " 2) oz =  300.0\n",
      "--------------------------------------------\n",
      "('Running uvspec with input file: ', 'simulations/RT/2.0.1/CT/pp/us/sa/rt/in/RT_CT_pp_us_sa_rt_z10_wv40_oz30.INP')\n",
      "('Output to file                : ', 'simulations/RT/2.0.1/CT/pp/us/sa/rt/out/RT_CT_pp_us_sa_rt_z10_wv40_oz30.OUT')\n",
      "('uvspec cmd: ', '/Users/dagoret-campagnesylvie/MacOsX/LSST/softs/libRadtran-2.0.1/bin/uvspec  < simulations/RT/2.0.1/CT/pp/us/sa/rt/in/RT_CT_pp_us_sa_rt_z10_wv40_oz30.INP > simulations/RT/2.0.1/CT/pp/us/sa/rt/out/RT_CT_pp_us_sa_rt_z10_wv40_oz30.OUT')\n",
      "--------------------------------------------\n",
      " 2) airmass =  1.00499999523\n",
      " 2) pwv =  4.0\n",
      " 2) oz =  300.0\n",
      "--------------------------------------------\n",
      "('Running uvspec with input file: ', 'simulations/RT/2.0.1/CT/pp/us/sa/rt/in/RT_CT_pp_us_sa_rt_z10_wv40_oz30.INP')\n",
      "('Output to file                : ', 'simulations/RT/2.0.1/CT/pp/us/sa/rt/out/RT_CT_pp_us_sa_rt_z10_wv40_oz30.OUT')\n",
      "('uvspec cmd: ', '/Users/dagoret-campagnesylvie/MacOsX/LSST/softs/libRadtran-2.0.1/bin/uvspec  < simulations/RT/2.0.1/CT/pp/us/sa/rt/in/RT_CT_pp_us_sa_rt_z10_wv40_oz30.INP > simulations/RT/2.0.1/CT/pp/us/sa/rt/out/RT_CT_pp_us_sa_rt_z10_wv40_oz30.OUT')\n",
      "--------------------------------------------\n",
      " 2) airmass =  1.00499999523\n",
      " 2) pwv =  4.0\n",
      " 2) oz =  300.0\n",
      "--------------------------------------------\n",
      "('Running uvspec with input file: ', 'simulations/RT/2.0.1/CT/pp/us/sa/rt/in/RT_CT_pp_us_sa_rt_z10_wv40_oz30.INP')\n",
      "('Output to file                : ', 'simulations/RT/2.0.1/CT/pp/us/sa/rt/out/RT_CT_pp_us_sa_rt_z10_wv40_oz30.OUT')\n",
      "('uvspec cmd: ', '/Users/dagoret-campagnesylvie/MacOsX/LSST/softs/libRadtran-2.0.1/bin/uvspec  < simulations/RT/2.0.1/CT/pp/us/sa/rt/in/RT_CT_pp_us_sa_rt_z10_wv40_oz30.INP > simulations/RT/2.0.1/CT/pp/us/sa/rt/out/RT_CT_pp_us_sa_rt_z10_wv40_oz30.OUT')\n",
      "--------------------------------------------\n",
      " 2) airmass =  1.00600004196\n",
      " 2) pwv =  4.0\n",
      " 2) oz =  300.0\n",
      "--------------------------------------------\n",
      "('Running uvspec with input file: ', 'simulations/RT/2.0.1/CT/pp/us/sa/rt/in/RT_CT_pp_us_sa_rt_z10_wv40_oz30.INP')\n",
      "('Output to file                : ', 'simulations/RT/2.0.1/CT/pp/us/sa/rt/out/RT_CT_pp_us_sa_rt_z10_wv40_oz30.OUT')\n",
      "('uvspec cmd: ', '/Users/dagoret-campagnesylvie/MacOsX/LSST/softs/libRadtran-2.0.1/bin/uvspec  < simulations/RT/2.0.1/CT/pp/us/sa/rt/in/RT_CT_pp_us_sa_rt_z10_wv40_oz30.INP > simulations/RT/2.0.1/CT/pp/us/sa/rt/out/RT_CT_pp_us_sa_rt_z10_wv40_oz30.OUT')\n",
      "--------------------------------------------\n",
      " 2) airmass =  1.00699996948\n",
      " 2) pwv =  4.0\n",
      " 2) oz =  300.0\n",
      "--------------------------------------------\n",
      "('Running uvspec with input file: ', 'simulations/RT/2.0.1/CT/pp/us/sa/rt/in/RT_CT_pp_us_sa_rt_z10_wv40_oz30.INP')\n",
      "('Output to file                : ', 'simulations/RT/2.0.1/CT/pp/us/sa/rt/out/RT_CT_pp_us_sa_rt_z10_wv40_oz30.OUT')\n",
      "('uvspec cmd: ', '/Users/dagoret-campagnesylvie/MacOsX/LSST/softs/libRadtran-2.0.1/bin/uvspec  < simulations/RT/2.0.1/CT/pp/us/sa/rt/in/RT_CT_pp_us_sa_rt_z10_wv40_oz30.INP > simulations/RT/2.0.1/CT/pp/us/sa/rt/out/RT_CT_pp_us_sa_rt_z10_wv40_oz30.OUT')\n",
      "--------------------------------------------\n",
      " 2) airmass =  1.00800001621\n",
      " 2) pwv =  4.0\n",
      " 2) oz =  300.0\n",
      "--------------------------------------------\n",
      "('Running uvspec with input file: ', 'simulations/RT/2.0.1/CT/pp/us/sa/rt/in/RT_CT_pp_us_sa_rt_z10_wv40_oz30.INP')\n",
      "('Output to file                : ', 'simulations/RT/2.0.1/CT/pp/us/sa/rt/out/RT_CT_pp_us_sa_rt_z10_wv40_oz30.OUT')\n",
      "('uvspec cmd: ', '/Users/dagoret-campagnesylvie/MacOsX/LSST/softs/libRadtran-2.0.1/bin/uvspec  < simulations/RT/2.0.1/CT/pp/us/sa/rt/in/RT_CT_pp_us_sa_rt_z10_wv40_oz30.INP > simulations/RT/2.0.1/CT/pp/us/sa/rt/out/RT_CT_pp_us_sa_rt_z10_wv40_oz30.OUT')\n",
      "--------------------------------------------\n",
      " 2) airmass =  1.00899994373\n",
      " 2) pwv =  4.0\n",
      " 2) oz =  300.0\n",
      "--------------------------------------------\n",
      "('Running uvspec with input file: ', 'simulations/RT/2.0.1/CT/pp/us/sa/rt/in/RT_CT_pp_us_sa_rt_z10_wv40_oz30.INP')\n",
      "('Output to file                : ', 'simulations/RT/2.0.1/CT/pp/us/sa/rt/out/RT_CT_pp_us_sa_rt_z10_wv40_oz30.OUT')\n",
      "('uvspec cmd: ', '/Users/dagoret-campagnesylvie/MacOsX/LSST/softs/libRadtran-2.0.1/bin/uvspec  < simulations/RT/2.0.1/CT/pp/us/sa/rt/in/RT_CT_pp_us_sa_rt_z10_wv40_oz30.INP > simulations/RT/2.0.1/CT/pp/us/sa/rt/out/RT_CT_pp_us_sa_rt_z10_wv40_oz30.OUT')\n",
      "--------------------------------------------\n",
      " 2) airmass =  1.00999999046\n",
      " 2) pwv =  4.0\n",
      " 2) oz =  300.0\n",
      "--------------------------------------------\n",
      "('Running uvspec with input file: ', 'simulations/RT/2.0.1/CT/pp/us/sa/rt/in/RT_CT_pp_us_sa_rt_z10_wv40_oz30.INP')\n",
      "('Output to file                : ', 'simulations/RT/2.0.1/CT/pp/us/sa/rt/out/RT_CT_pp_us_sa_rt_z10_wv40_oz30.OUT')\n",
      "('uvspec cmd: ', '/Users/dagoret-campagnesylvie/MacOsX/LSST/softs/libRadtran-2.0.1/bin/uvspec  < simulations/RT/2.0.1/CT/pp/us/sa/rt/in/RT_CT_pp_us_sa_rt_z10_wv40_oz30.INP > simulations/RT/2.0.1/CT/pp/us/sa/rt/out/RT_CT_pp_us_sa_rt_z10_wv40_oz30.OUT')\n",
      "--------------------------------------------\n",
      " 2) airmass =  1.01100003719\n",
      " 2) pwv =  4.0\n",
      " 2) oz =  300.0\n",
      "--------------------------------------------\n",
      "('Running uvspec with input file: ', 'simulations/RT/2.0.1/CT/pp/us/sa/rt/in/RT_CT_pp_us_sa_rt_z10_wv40_oz30.INP')\n",
      "('Output to file                : ', 'simulations/RT/2.0.1/CT/pp/us/sa/rt/out/RT_CT_pp_us_sa_rt_z10_wv40_oz30.OUT')\n",
      "('uvspec cmd: ', '/Users/dagoret-campagnesylvie/MacOsX/LSST/softs/libRadtran-2.0.1/bin/uvspec  < simulations/RT/2.0.1/CT/pp/us/sa/rt/in/RT_CT_pp_us_sa_rt_z10_wv40_oz30.INP > simulations/RT/2.0.1/CT/pp/us/sa/rt/out/RT_CT_pp_us_sa_rt_z10_wv40_oz30.OUT')\n",
      "--------------------------------------------\n",
      " 2) airmass =  1.01199996471\n",
      " 2) pwv =  4.0\n",
      " 2) oz =  300.0\n",
      "--------------------------------------------\n",
      "('Running uvspec with input file: ', 'simulations/RT/2.0.1/CT/pp/us/sa/rt/in/RT_CT_pp_us_sa_rt_z10_wv40_oz30.INP')\n",
      "('Output to file                : ', 'simulations/RT/2.0.1/CT/pp/us/sa/rt/out/RT_CT_pp_us_sa_rt_z10_wv40_oz30.OUT')\n",
      "('uvspec cmd: ', '/Users/dagoret-campagnesylvie/MacOsX/LSST/softs/libRadtran-2.0.1/bin/uvspec  < simulations/RT/2.0.1/CT/pp/us/sa/rt/in/RT_CT_pp_us_sa_rt_z10_wv40_oz30.INP > simulations/RT/2.0.1/CT/pp/us/sa/rt/out/RT_CT_pp_us_sa_rt_z10_wv40_oz30.OUT')\n",
      "--------------------------------------------\n",
      " 2) airmass =  1.01400005817\n",
      " 2) pwv =  4.0\n",
      " 2) oz =  300.0\n",
      "--------------------------------------------\n",
      "('Running uvspec with input file: ', 'simulations/RT/2.0.1/CT/pp/us/sa/rt/in/RT_CT_pp_us_sa_rt_z10_wv40_oz30.INP')\n",
      "('Output to file                : ', 'simulations/RT/2.0.1/CT/pp/us/sa/rt/out/RT_CT_pp_us_sa_rt_z10_wv40_oz30.OUT')\n",
      "('uvspec cmd: ', '/Users/dagoret-campagnesylvie/MacOsX/LSST/softs/libRadtran-2.0.1/bin/uvspec  < simulations/RT/2.0.1/CT/pp/us/sa/rt/in/RT_CT_pp_us_sa_rt_z10_wv40_oz30.INP > simulations/RT/2.0.1/CT/pp/us/sa/rt/out/RT_CT_pp_us_sa_rt_z10_wv40_oz30.OUT')\n",
      "--------------------------------------------\n",
      " 2) airmass =  1.01600003242\n",
      " 2) pwv =  4.0\n",
      " 2) oz =  300.0\n",
      "--------------------------------------------\n",
      "('Running uvspec with input file: ', 'simulations/RT/2.0.1/CT/pp/us/sa/rt/in/RT_CT_pp_us_sa_rt_z10_wv40_oz30.INP')\n",
      "('Output to file                : ', 'simulations/RT/2.0.1/CT/pp/us/sa/rt/out/RT_CT_pp_us_sa_rt_z10_wv40_oz30.OUT')\n",
      "('uvspec cmd: ', '/Users/dagoret-campagnesylvie/MacOsX/LSST/softs/libRadtran-2.0.1/bin/uvspec  < simulations/RT/2.0.1/CT/pp/us/sa/rt/in/RT_CT_pp_us_sa_rt_z10_wv40_oz30.INP > simulations/RT/2.0.1/CT/pp/us/sa/rt/out/RT_CT_pp_us_sa_rt_z10_wv40_oz30.OUT')\n",
      "--------------------------------------------\n",
      " 2) airmass =  1.01699995995\n",
      " 2) pwv =  4.0\n",
      " 2) oz =  300.0\n",
      "--------------------------------------------\n",
      "('Running uvspec with input file: ', 'simulations/RT/2.0.1/CT/pp/us/sa/rt/in/RT_CT_pp_us_sa_rt_z10_wv40_oz30.INP')\n",
      "('Output to file                : ', 'simulations/RT/2.0.1/CT/pp/us/sa/rt/out/RT_CT_pp_us_sa_rt_z10_wv40_oz30.OUT')\n",
      "('uvspec cmd: ', '/Users/dagoret-campagnesylvie/MacOsX/LSST/softs/libRadtran-2.0.1/bin/uvspec  < simulations/RT/2.0.1/CT/pp/us/sa/rt/in/RT_CT_pp_us_sa_rt_z10_wv40_oz30.INP > simulations/RT/2.0.1/CT/pp/us/sa/rt/out/RT_CT_pp_us_sa_rt_z10_wv40_oz30.OUT')\n",
      "--------------------------------------------\n",
      " 2) airmass =  1.01900005341\n",
      " 2) pwv =  4.0\n",
      " 2) oz =  300.0\n",
      "--------------------------------------------\n",
      "('Running uvspec with input file: ', 'simulations/RT/2.0.1/CT/pp/us/sa/rt/in/RT_CT_pp_us_sa_rt_z10_wv40_oz30.INP')\n",
      "('Output to file                : ', 'simulations/RT/2.0.1/CT/pp/us/sa/rt/out/RT_CT_pp_us_sa_rt_z10_wv40_oz30.OUT')\n",
      "('uvspec cmd: ', '/Users/dagoret-campagnesylvie/MacOsX/LSST/softs/libRadtran-2.0.1/bin/uvspec  < simulations/RT/2.0.1/CT/pp/us/sa/rt/in/RT_CT_pp_us_sa_rt_z10_wv40_oz30.INP > simulations/RT/2.0.1/CT/pp/us/sa/rt/out/RT_CT_pp_us_sa_rt_z10_wv40_oz30.OUT')\n",
      "--------------------------------------------\n",
      " 2) airmass =  1.01999998093\n",
      " 2) pwv =  4.0\n",
      " 2) oz =  300.0\n",
      "--------------------------------------------\n",
      "('Running uvspec with input file: ', 'simulations/RT/2.0.1/CT/pp/us/sa/rt/in/RT_CT_pp_us_sa_rt_z10_wv40_oz30.INP')\n",
      "('Output to file                : ', 'simulations/RT/2.0.1/CT/pp/us/sa/rt/out/RT_CT_pp_us_sa_rt_z10_wv40_oz30.OUT')\n",
      "('uvspec cmd: ', '/Users/dagoret-campagnesylvie/MacOsX/LSST/softs/libRadtran-2.0.1/bin/uvspec  < simulations/RT/2.0.1/CT/pp/us/sa/rt/in/RT_CT_pp_us_sa_rt_z10_wv40_oz30.INP > simulations/RT/2.0.1/CT/pp/us/sa/rt/out/RT_CT_pp_us_sa_rt_z10_wv40_oz30.OUT')\n"
     ]
    }
   ],
   "source": [
    "for index,am in np.ndenumerate(airmasses):\n",
    "    idx=index[0]\n",
    "    path,file=ProcessSimulation(am,PWV,OZ)   \n",
    "    fullfilename=os.path.join(path,file)\n",
    "    atm_data=np.loadtxt(fullfilename)\n",
    "    wl_atm=atm_data[:,0]\n",
    "    tr_atm=atm_data[:,1]\n",
    "    all_wl_atm.append(wl_atm)\n",
    "    all_tr_atm.append(tr_atm)\n",
    "    atm_filter_name='CTIO atm {}'.format(idx)\n",
    "    bp_atm = S.ArrayBandpass(wl_atm*10.,tr_atm, name=atm_filter_name)  # Pysynphot pass band\n",
    "    all_bp_atm.append(bp_atm) "
   ]
  },
  {
   "cell_type": "markdown",
   "metadata": {
    "deletable": true,
    "editable": true
   },
   "source": [
    "## Observed spectra\n",
    "\n",
    "- calculate the observed spectra and save it in list"
   ]
  },
  {
   "cell_type": "code",
   "execution_count": 95,
   "metadata": {
    "collapsed": false,
    "deletable": true,
    "editable": true
   },
   "outputs": [
    {
     "name": "stdout",
     "output_type": "stream",
     "text": [
      "((((CTIO QE * CTIO Mirror2) * RG175) * CTIO atm 0)) does not have a defined binset in the wavecat table. The waveset of the spectrum will be used instead.\n",
      "((((CTIO QE * CTIO Mirror2) * RG175) * CTIO atm 1)) does not have a defined binset in the wavecat table. The waveset of the spectrum will be used instead.\n",
      "((((CTIO QE * CTIO Mirror2) * RG175) * CTIO atm 2)) does not have a defined binset in the wavecat table. The waveset of the spectrum will be used instead.\n",
      "((((CTIO QE * CTIO Mirror2) * RG175) * CTIO atm 3)) does not have a defined binset in the wavecat table. The waveset of the spectrum will be used instead.\n",
      "((((CTIO QE * CTIO Mirror2) * RG175) * CTIO atm 4)) does not have a defined binset in the wavecat table. The waveset of the spectrum will be used instead.\n",
      "((((CTIO QE * CTIO Mirror2) * RG175) * CTIO atm 5)) does not have a defined binset in the wavecat table. The waveset of the spectrum will be used instead.\n",
      "((((CTIO QE * CTIO Mirror2) * RG175) * CTIO atm 6)) does not have a defined binset in the wavecat table. The waveset of the spectrum will be used instead.\n",
      "((((CTIO QE * CTIO Mirror2) * RG175) * CTIO atm 7)) does not have a defined binset in the wavecat table. The waveset of the spectrum will be used instead.\n",
      "((((CTIO QE * CTIO Mirror2) * RG175) * CTIO atm 8)) does not have a defined binset in the wavecat table. The waveset of the spectrum will be used instead.\n",
      "((((CTIO QE * CTIO Mirror2) * RG175) * CTIO atm 9)) does not have a defined binset in the wavecat table. The waveset of the spectrum will be used instead.\n",
      "((((CTIO QE * CTIO Mirror2) * RG175) * CTIO atm 10)) does not have a defined binset in the wavecat table. The waveset of the spectrum will be used instead.\n",
      "((((CTIO QE * CTIO Mirror2) * RG175) * CTIO atm 11)) does not have a defined binset in the wavecat table. The waveset of the spectrum will be used instead.\n",
      "((((CTIO QE * CTIO Mirror2) * RG175) * CTIO atm 12)) does not have a defined binset in the wavecat table. The waveset of the spectrum will be used instead.\n",
      "((((CTIO QE * CTIO Mirror2) * RG175) * CTIO atm 13)) does not have a defined binset in the wavecat table. The waveset of the spectrum will be used instead.\n",
      "((((CTIO QE * CTIO Mirror2) * RG175) * CTIO atm 14)) does not have a defined binset in the wavecat table. The waveset of the spectrum will be used instead.\n",
      "((((CTIO QE * CTIO Mirror2) * RG175) * CTIO atm 15)) does not have a defined binset in the wavecat table. The waveset of the spectrum will be used instead.\n",
      "((((CTIO QE * CTIO Mirror2) * RG175) * CTIO atm 16)) does not have a defined binset in the wavecat table. The waveset of the spectrum will be used instead.\n",
      "((((CTIO QE * CTIO Mirror2) * RG175) * CTIO atm 17)) does not have a defined binset in the wavecat table. The waveset of the spectrum will be used instead.\n",
      "((((CTIO QE * CTIO Mirror2) * RG175) * CTIO atm 18)) does not have a defined binset in the wavecat table. The waveset of the spectrum will be used instead.\n",
      "((((CTIO QE * CTIO Mirror2) * RG175) * CTIO atm 19)) does not have a defined binset in the wavecat table. The waveset of the spectrum will be used instead.\n",
      "((((CTIO QE * CTIO Mirror2) * RG175) * CTIO atm 20)) does not have a defined binset in the wavecat table. The waveset of the spectrum will be used instead.\n",
      "((((CTIO QE * CTIO Mirror2) * RG175) * CTIO atm 21)) does not have a defined binset in the wavecat table. The waveset of the spectrum will be used instead.\n",
      "((((CTIO QE * CTIO Mirror2) * RG175) * CTIO atm 22)) does not have a defined binset in the wavecat table. The waveset of the spectrum will be used instead.\n",
      "((((CTIO QE * CTIO Mirror2) * RG175) * CTIO atm 23)) does not have a defined binset in the wavecat table. The waveset of the spectrum will be used instead.\n",
      "((((CTIO QE * CTIO Mirror2) * RG175) * CTIO atm 24)) does not have a defined binset in the wavecat table. The waveset of the spectrum will be used instead.\n",
      "((((CTIO QE * CTIO Mirror2) * RG175) * CTIO atm 25)) does not have a defined binset in the wavecat table. The waveset of the spectrum will be used instead.\n",
      "((((CTIO QE * CTIO Mirror2) * RG175) * CTIO atm 26)) does not have a defined binset in the wavecat table. The waveset of the spectrum will be used instead.\n",
      "((((CTIO QE * CTIO Mirror2) * RG175) * CTIO atm 27)) does not have a defined binset in the wavecat table. The waveset of the spectrum will be used instead.\n",
      "((((CTIO QE * CTIO Mirror2) * RG175) * CTIO atm 28)) does not have a defined binset in the wavecat table. The waveset of the spectrum will be used instead.\n",
      "((((CTIO QE * CTIO Mirror2) * RG175) * CTIO atm 29)) does not have a defined binset in the wavecat table. The waveset of the spectrum will be used instead.\n",
      "((((CTIO QE * CTIO Mirror2) * RG175) * CTIO atm 30)) does not have a defined binset in the wavecat table. The waveset of the spectrum will be used instead.\n",
      "((((CTIO QE * CTIO Mirror2) * RG175) * CTIO atm 31)) does not have a defined binset in the wavecat table. The waveset of the spectrum will be used instead.\n",
      "((((CTIO QE * CTIO Mirror2) * RG175) * CTIO atm 32)) does not have a defined binset in the wavecat table. The waveset of the spectrum will be used instead.\n",
      "((((CTIO QE * CTIO Mirror2) * RG175) * CTIO atm 33)) does not have a defined binset in the wavecat table. The waveset of the spectrum will be used instead.\n",
      "((((CTIO QE * CTIO Mirror2) * RG175) * CTIO atm 34)) does not have a defined binset in the wavecat table. The waveset of the spectrum will be used instead.\n",
      "((((CTIO QE * CTIO Mirror2) * RG175) * CTIO atm 35)) does not have a defined binset in the wavecat table. The waveset of the spectrum will be used instead.\n",
      "((((CTIO QE * CTIO Mirror2) * RG175) * CTIO atm 36)) does not have a defined binset in the wavecat table. The waveset of the spectrum will be used instead.\n",
      "((((CTIO QE * CTIO Mirror2) * RG175) * CTIO atm 37)) does not have a defined binset in the wavecat table. The waveset of the spectrum will be used instead.\n",
      "((((CTIO QE * CTIO Mirror2) * RG175) * CTIO atm 38)) does not have a defined binset in the wavecat table. The waveset of the spectrum will be used instead.\n",
      "((((CTIO QE * CTIO Mirror2) * RG175) * CTIO atm 39)) does not have a defined binset in the wavecat table. The waveset of the spectrum will be used instead.\n",
      "((((CTIO QE * CTIO Mirror2) * RG175) * CTIO atm 40)) does not have a defined binset in the wavecat table. The waveset of the spectrum will be used instead.\n",
      "((((CTIO QE * CTIO Mirror2) * RG175) * CTIO atm 41)) does not have a defined binset in the wavecat table. The waveset of the spectrum will be used instead.\n",
      "((((CTIO QE * CTIO Mirror2) * RG175) * CTIO atm 42)) does not have a defined binset in the wavecat table. The waveset of the spectrum will be used instead.\n",
      "((((CTIO QE * CTIO Mirror2) * RG175) * CTIO atm 43)) does not have a defined binset in the wavecat table. The waveset of the spectrum will be used instead.\n",
      "((((CTIO QE * CTIO Mirror2) * RG175) * CTIO atm 44)) does not have a defined binset in the wavecat table. The waveset of the spectrum will be used instead.\n",
      "((((CTIO QE * CTIO Mirror2) * RG175) * CTIO atm 45)) does not have a defined binset in the wavecat table. The waveset of the spectrum will be used instead.\n",
      "((((CTIO QE * CTIO Mirror2) * RG175) * CTIO atm 46)) does not have a defined binset in the wavecat table. The waveset of the spectrum will be used instead.\n",
      "((((CTIO QE * CTIO Mirror2) * RG175) * CTIO atm 47)) does not have a defined binset in the wavecat table. The waveset of the spectrum will be used instead.\n",
      "((((CTIO QE * CTIO Mirror2) * RG175) * CTIO atm 48)) does not have a defined binset in the wavecat table. The waveset of the spectrum will be used instead.\n",
      "((((CTIO QE * CTIO Mirror2) * RG175) * CTIO atm 49)) does not have a defined binset in the wavecat table. The waveset of the spectrum will be used instead.\n",
      "((((CTIO QE * CTIO Mirror2) * RG175) * CTIO atm 50)) does not have a defined binset in the wavecat table. The waveset of the spectrum will be used instead.\n",
      "((((CTIO QE * CTIO Mirror2) * RG175) * CTIO atm 51)) does not have a defined binset in the wavecat table. The waveset of the spectrum will be used instead.\n",
      "((((CTIO QE * CTIO Mirror2) * RG175) * CTIO atm 52)) does not have a defined binset in the wavecat table. The waveset of the spectrum will be used instead.\n",
      "((((CTIO QE * CTIO Mirror2) * RG175) * CTIO atm 53)) does not have a defined binset in the wavecat table. The waveset of the spectrum will be used instead.\n",
      "((((CTIO QE * CTIO Mirror2) * RG175) * CTIO atm 54)) does not have a defined binset in the wavecat table. The waveset of the spectrum will be used instead.\n",
      "((((CTIO QE * CTIO Mirror2) * RG175) * CTIO atm 55)) does not have a defined binset in the wavecat table. The waveset of the spectrum will be used instead.\n",
      "((((CTIO QE * CTIO Mirror2) * RG175) * CTIO atm 56)) does not have a defined binset in the wavecat table. The waveset of the spectrum will be used instead.\n",
      "((((CTIO QE * CTIO Mirror2) * RG175) * CTIO atm 57)) does not have a defined binset in the wavecat table. The waveset of the spectrum will be used instead.\n",
      "((((CTIO QE * CTIO Mirror2) * RG175) * CTIO atm 58)) does not have a defined binset in the wavecat table. The waveset of the spectrum will be used instead.\n",
      "((((CTIO QE * CTIO Mirror2) * RG175) * CTIO atm 59)) does not have a defined binset in the wavecat table. The waveset of the spectrum will be used instead.\n",
      "((((CTIO QE * CTIO Mirror2) * RG175) * CTIO atm 60)) does not have a defined binset in the wavecat table. The waveset of the spectrum will be used instead.\n",
      "((((CTIO QE * CTIO Mirror2) * RG175) * CTIO atm 61)) does not have a defined binset in the wavecat table. The waveset of the spectrum will be used instead.\n",
      "((((CTIO QE * CTIO Mirror2) * RG175) * CTIO atm 62)) does not have a defined binset in the wavecat table. The waveset of the spectrum will be used instead.\n",
      "((((CTIO QE * CTIO Mirror2) * RG175) * CTIO atm 63)) does not have a defined binset in the wavecat table. The waveset of the spectrum will be used instead.\n",
      "((((CTIO QE * CTIO Mirror2) * RG175) * CTIO atm 64)) does not have a defined binset in the wavecat table. The waveset of the spectrum will be used instead.\n",
      "((((CTIO QE * CTIO Mirror2) * RG175) * CTIO atm 65)) does not have a defined binset in the wavecat table. The waveset of the spectrum will be used instead.\n",
      "((((CTIO QE * CTIO Mirror2) * RG175) * CTIO atm 66)) does not have a defined binset in the wavecat table. The waveset of the spectrum will be used instead.\n",
      "((((CTIO QE * CTIO Mirror2) * RG175) * CTIO atm 67)) does not have a defined binset in the wavecat table. The waveset of the spectrum will be used instead.\n",
      "((((CTIO QE * CTIO Mirror2) * RG175) * CTIO atm 68)) does not have a defined binset in the wavecat table. The waveset of the spectrum will be used instead.\n",
      "((((CTIO QE * CTIO Mirror2) * RG175) * CTIO atm 69)) does not have a defined binset in the wavecat table. The waveset of the spectrum will be used instead.\n",
      "((((CTIO QE * CTIO Mirror2) * RG175) * CTIO atm 70)) does not have a defined binset in the wavecat table. The waveset of the spectrum will be used instead.\n",
      "((((CTIO QE * CTIO Mirror2) * RG175) * CTIO atm 71)) does not have a defined binset in the wavecat table. The waveset of the spectrum will be used instead.\n",
      "((((CTIO QE * CTIO Mirror2) * RG175) * CTIO atm 72)) does not have a defined binset in the wavecat table. The waveset of the spectrum will be used instead.\n",
      "((((CTIO QE * CTIO Mirror2) * RG175) * CTIO atm 73)) does not have a defined binset in the wavecat table. The waveset of the spectrum will be used instead.\n",
      "((((CTIO QE * CTIO Mirror2) * RG175) * CTIO atm 74)) does not have a defined binset in the wavecat table. The waveset of the spectrum will be used instead.\n",
      "((((CTIO QE * CTIO Mirror2) * RG175) * CTIO atm 75)) does not have a defined binset in the wavecat table. The waveset of the spectrum will be used instead.\n",
      "((((CTIO QE * CTIO Mirror2) * RG175) * CTIO atm 76)) does not have a defined binset in the wavecat table. The waveset of the spectrum will be used instead.\n",
      "((((CTIO QE * CTIO Mirror2) * RG175) * CTIO atm 77)) does not have a defined binset in the wavecat table. The waveset of the spectrum will be used instead.\n",
      "((((CTIO QE * CTIO Mirror2) * RG175) * CTIO atm 78)) does not have a defined binset in the wavecat table. The waveset of the spectrum will be used instead.\n",
      "((((CTIO QE * CTIO Mirror2) * RG175) * CTIO atm 79)) does not have a defined binset in the wavecat table. The waveset of the spectrum will be used instead.\n",
      "((((CTIO QE * CTIO Mirror2) * RG175) * CTIO atm 80)) does not have a defined binset in the wavecat table. The waveset of the spectrum will be used instead.\n",
      "((((CTIO QE * CTIO Mirror2) * RG175) * CTIO atm 81)) does not have a defined binset in the wavecat table. The waveset of the spectrum will be used instead.\n",
      "((((CTIO QE * CTIO Mirror2) * RG175) * CTIO atm 82)) does not have a defined binset in the wavecat table. The waveset of the spectrum will be used instead.\n",
      "((((CTIO QE * CTIO Mirror2) * RG175) * CTIO atm 83)) does not have a defined binset in the wavecat table. The waveset of the spectrum will be used instead.\n",
      "((((CTIO QE * CTIO Mirror2) * RG175) * CTIO atm 84)) does not have a defined binset in the wavecat table. The waveset of the spectrum will be used instead.\n",
      "((((CTIO QE * CTIO Mirror2) * RG175) * CTIO atm 85)) does not have a defined binset in the wavecat table. The waveset of the spectrum will be used instead.\n",
      "((((CTIO QE * CTIO Mirror2) * RG175) * CTIO atm 86)) does not have a defined binset in the wavecat table. The waveset of the spectrum will be used instead.\n",
      "((((CTIO QE * CTIO Mirror2) * RG175) * CTIO atm 87)) does not have a defined binset in the wavecat table. The waveset of the spectrum will be used instead.\n",
      "((((CTIO QE * CTIO Mirror2) * RG175) * CTIO atm 88)) does not have a defined binset in the wavecat table. The waveset of the spectrum will be used instead.\n",
      "((((CTIO QE * CTIO Mirror2) * RG175) * CTIO atm 89)) does not have a defined binset in the wavecat table. The waveset of the spectrum will be used instead.\n",
      "((((CTIO QE * CTIO Mirror2) * RG175) * CTIO atm 90)) does not have a defined binset in the wavecat table. The waveset of the spectrum will be used instead.\n",
      "((((CTIO QE * CTIO Mirror2) * RG175) * CTIO atm 91)) does not have a defined binset in the wavecat table. The waveset of the spectrum will be used instead.\n",
      "((((CTIO QE * CTIO Mirror2) * RG175) * CTIO atm 92)) does not have a defined binset in the wavecat table. The waveset of the spectrum will be used instead.\n",
      "((((CTIO QE * CTIO Mirror2) * RG175) * CTIO atm 93)) does not have a defined binset in the wavecat table. The waveset of the spectrum will be used instead.\n",
      "((((CTIO QE * CTIO Mirror2) * RG175) * CTIO atm 94)) does not have a defined binset in the wavecat table. The waveset of the spectrum will be used instead.\n",
      "((((CTIO QE * CTIO Mirror2) * RG175) * CTIO atm 95)) does not have a defined binset in the wavecat table. The waveset of the spectrum will be used instead.\n",
      "((((CTIO QE * CTIO Mirror2) * RG175) * CTIO atm 96)) does not have a defined binset in the wavecat table. The waveset of the spectrum will be used instead.\n",
      "((((CTIO QE * CTIO Mirror2) * RG175) * CTIO atm 97)) does not have a defined binset in the wavecat table. The waveset of the spectrum will be used instead.\n",
      "((((CTIO QE * CTIO Mirror2) * RG175) * CTIO atm 98)) does not have a defined binset in the wavecat table. The waveset of the spectrum will be used instead.\n",
      "((((CTIO QE * CTIO Mirror2) * RG175) * CTIO atm 99)) does not have a defined binset in the wavecat table. The waveset of the spectrum will be used instead.\n",
      "((((CTIO QE * CTIO Mirror2) * RG175) * CTIO atm 100)) does not have a defined binset in the wavecat table. The waveset of the spectrum will be used instead.\n"
     ]
    }
   ],
   "source": [
    "all_obs_spectra = []\n",
    "all_obs_wl= []\n",
    "all_obs_fluxes = []\n",
    "\n",
    "for index,am in np.ndenumerate(airmasses):\n",
    "    idx=index[0]\n",
    "    atm_filter_name='CTIO atm {}'.format(idx)\n",
    "    the_bp_atm=bp_atm = S.ArrayBandpass(all_wl_atm[idx]*10.,all_tr_atm[idx], name=atm_filter_name)  # Pysynphot pass band\n",
    "    bp_ctio_atm = bp_ctio*the_bp_atm # Multply atm tansmission by CCD QE efficiciency\n",
    "    bp_ctio_atm.binning=10.\n",
    "    obs_ctio = S.Observation(sed,bp_ctio_atm)\n",
    "    all_obs_spectra.append(obs_ctio)\n",
    "    all_obs_wl.append(obs_ctio.wave)\n",
    "    all_obs_fluxes.append(obs_ctio.flux) \n",
    "    \n"
   ]
  },
  {
   "cell_type": "code",
   "execution_count": 96,
   "metadata": {
    "collapsed": false,
    "deletable": true,
    "editable": true
   },
   "outputs": [
    {
     "data": {
      "text/plain": [
       "(0, 10000)"
      ]
     },
     "execution_count": 96,
     "metadata": {},
     "output_type": "execute_result"
    },
    {
     "data": {
      "image/png": "[encoded data removed]",
      "text/plain": [
       "<matplotlib.figure.Figure at 0x109c63050>"
      ]
     },
     "metadata": {},
     "output_type": "display_data"
    }
   ],
   "source": [
    "plt.plot(all_obs_wl[0], all_obs_fluxes[0])\n",
    "plt.xlim(0,10000)"
   ]
  },
  {
   "cell_type": "code",
   "execution_count": 97,
   "metadata": {
    "collapsed": true,
    "deletable": true,
    "editable": true
   },
   "outputs": [],
   "source": [
    "def MakeSimNpArray(all_simwavelength,all_simspectra):\n",
    "    \n",
    "    all_simspectra=np.array(all_simspectra)\n",
    "    simwavelength=np.array(all_simwavelength[0])\n",
    "    \n",
    "    NBSPEC=all_simspectra.shape[0]\n",
    "    NBWL=simwavelength.shape[0]\n",
    "    \n",
    "    print NBSPEC,' , ',NBWL\n",
    "    dataout=np.zeros((NBSPEC+1,NBWL))\n",
    "    \n",
    "    dataout[0,:]=simwavelength\n",
    "    \n",
    "    for ispec in np.arange(1,NBSPEC+1):\n",
    "        dataout[ispec,:]=all_simspectra[ispec-1]\n",
    "    return dataout"
   ]
  },
  {
   "cell_type": "code",
   "execution_count": 98,
   "metadata": {
    "collapsed": false,
    "deletable": true,
    "editable": true
   },
   "outputs": [
    {
     "name": "stdout",
     "output_type": "stream",
     "text": [
      "101  ,  4839\n"
     ]
    }
   ],
   "source": [
    "spectra_out=MakeSimNpArray(all_obs_wl,all_obs_fluxes)"
   ]
  },
  {
   "cell_type": "code",
   "execution_count": 99,
   "metadata": {
    "collapsed": false,
    "deletable": true,
    "editable": true
   },
   "outputs": [
    {
     "data": {
      "text/plain": [
       "<matplotlib.image.AxesImage at 0x10a610250>"
      ]
     },
     "execution_count": 99,
     "metadata": {},
     "output_type": "execute_result"
    },
    {
     "data": {
      "image/png": "[encoded data removed]",
      "text/plain": [
       "<matplotlib.figure.Figure at 0x109d543d0>"
      ]
     },
     "metadata": {},
     "output_type": "display_data"
    }
   ],
   "source": [
    "plt.figure(figsize=(20,20))\n",
    "plt.imshow(spectra_out[:,:],vmin=0,vmax=1e-12)"
   ]
  },
  {
   "cell_type": "code",
   "execution_count": 100,
   "metadata": {
    "collapsed": true,
    "deletable": true,
    "editable": true
   },
   "outputs": [],
   "source": [
    "def CompareSpectrumProfile(allspectra,object_name,dir_top_img):\n",
    "    \"\"\"\n",
    "    CompareSpectrumProfile\n",
    "    =====================\n",
    "    \n",
    "    \"\"\"\n",
    "    shortfilename='CompareSimSpec_'+object_name+'.pdf'\n",
    "    title=\"Compare simulated spectra of {}\".format(object_name)\n",
    "    figfilename=os.path.join(dir_top_img,shortfilename)\n",
    "    pp = PdfPages(figfilename) # create a pdf file\n",
    "    \n",
    "    \n",
    "    f, axarr = plt.subplots(1,1,figsize=(25,15))\n",
    "    f.suptitle(title,size=20)\n",
    "    \n",
    "    NBSPEC=allspectra.shape[0]-1\n",
    "    wl=allspectra[0]\n",
    "    \n",
    "    \n",
    "    min_z=truncate(min(airmasses),2)\n",
    "    max_z=truncate(max(airmasses),2)\n",
    "    \n",
    "    maxim_y_to_plot= []\n",
    "\n",
    "    texte='airmass : {} - {} '.format(min_z,max_z)\n",
    "    \n",
    "    for index in np.arange(0,NBSPEC):\n",
    "                \n",
    "       \n",
    "        axarr.plot(wl,allspectra[index+1],'-')\n",
    "        maxim_y_to_plot.append(allspectra[index+1].max())\n",
    "    \n",
    "    max_y_to_plot=max(maxim_y_to_plot)\n",
    "    axarr.set_ylim(0,max_y_to_plot)\n",
    "    axarr.text(0.,max_y_to_plot*0.9, texte ,verticalalignment='top', horizontalalignment='left',color='blue',fontweight='bold', fontsize=20)\n",
    "    axarr.grid(True)\n",
    "    axarr.set_xlim(0,12000)\n",
    "    \n",
    "    axarr.get_xaxis().set_minor_locator(mpl.ticker.AutoMinorLocator())\n",
    "    axarr.get_yaxis().set_minor_locator(mpl.ticker.AutoMinorLocator())\n",
    "    axarr.grid(b=True, which='major', color='k', linewidth=2.0)\n",
    "    axarr.grid(b=True, which='minor', color='grey', linewidth=0.5)\n",
    "    \n",
    "    \n",
    "    \n",
    "    axarr.set_xlabel(\"wavelength (A)\")\n",
    "    \n",
    "        \n",
    "    f.savefig(pp, format='pdf')\n",
    "    f.show()\n",
    "    \n",
    "    pp.close()     \n",
    "    "
   ]
  },
  {
   "cell_type": "code",
   "execution_count": 101,
   "metadata": {
    "collapsed": false,
    "deletable": true,
    "editable": true
   },
   "outputs": [
    {
     "name": "stderr",
     "output_type": "stream",
     "text": [
      "/Users/dagoret-campagnesylvie/anaconda/envs/pyastrophys/lib/python2.7/site-packages/matplotlib/figure.py:403: UserWarning: matplotlib is currently using a non-GUI backend, so cannot show the figure\n",
      "  \"matplotlib is currently using a non-GUI backend, \"\n"
     ]
    },
    {
     "data": {
      "image/png": "[encoded data removed]",
      "text/plain": [
       "<matplotlib.figure.Figure at 0x10a631ad0>"
      ]
     },
     "metadata": {},
     "output_type": "display_data"
    }
   ],
   "source": [
    "CompareSpectrumProfile(spectra_out,object_name,dir_top_images)"
   ]
  },
  {
   "cell_type": "markdown",
   "metadata": {
    "deletable": true,
    "editable": true
   },
   "source": [
    "## Save output file"
   ]
  },
  {
   "cell_type": "code",
   "execution_count": 102,
   "metadata": {
    "collapsed": false,
    "deletable": true,
    "editable": true
   },
   "outputs": [],
   "source": [
    "prihdu = fits.PrimaryHDU(data=spectra_out)\n",
    "thdulist = fits.HDUList(prihdu)\n",
    "thdulist.writeto(outputfitsfile,overwrite=True)"
   ]
  },
  {
   "cell_type": "code",
   "execution_count": 103,
   "metadata": {
    "collapsed": false,
    "deletable": true,
    "editable": true
   },
   "outputs": [
    {
     "data": {
      "text/plain": [
       "(102, 4839)"
      ]
     },
     "execution_count": 103,
     "metadata": {},
     "output_type": "execute_result"
    }
   ],
   "source": [
    "spectra_out.shape"
   ]
  }
 ],
 "metadata": {
  "anaconda-cloud": {},
  "kernelspec": {
   "display_name": "Python [conda env:pyastrophys]",
   "language": "python",
   "name": "conda-env-pyastrophys-py"
  },
  "language_info": {
   "codemirror_mode": {
    "name": "ipython",
    "version": 2
   },
   "file_extension": ".py",
   "mimetype": "text/x-python",
   "name": "python",
   "nbconvert_exporter": "python",
   "pygments_lexer": "ipython2",
   "version": "2.7.12"
  },
  "toc": {
   "colors": {
    "hover_highlight": "#DAA520",
    "running_highlight": "#FF0000",
    "selected_highlight": "#FFD700"
   },
   "moveMenuLeft": true,
   "nav_menu": {
    "height": "231px",
    "width": "252px"
   },
   "navigate_menu": true,
   "number_sections": true,
   "sideBar": true,
   "threshold": 4,
   "toc_cell": false,
   "toc_section_display": "block",
   "toc_window_display": false,
   "widenNotebook": false
  }
 },
 "nbformat": 4,
 "nbformat_minor": 2
}
