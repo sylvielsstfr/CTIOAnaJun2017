{
 "cells": [
  {
   "cell_type": "markdown",
   "metadata": {
    "deletable": true,
    "editable": true
   },
   "source": [
    "# Make Logbook of Trim images of CTIO Data\n",
    "==================================================================================================\n",
    "\n",
    "- author : Sylvie Dagoret-Campagne\n",
    "- affiliation : LAL/IN2P3/CNRS, France\n",
    "- date   : Jult 4th 2017\n",
    "\n"
   ]
  },
  {
   "cell_type": "code",
   "execution_count": 49,
   "metadata": {
    "collapsed": false,
    "deletable": true,
    "editable": true
   },
   "outputs": [
    {
     "data": {
      "application/javascript": [
       "var kernel = IPython.notebook.kernel;\n",
       "var thename = window.document.getElementById(\"notebook_name\").innerHTML;\n",
       "var command = \"theNotebook = \" + \"'\"+thename+\"'\";\n",
       "kernel.execute(command);"
      ],
      "text/plain": [
       "<IPython.core.display.Javascript object>"
      ]
     },
     "metadata": {},
     "output_type": "display_data"
    }
   ],
   "source": [
    "%%javascript\n",
    "var kernel = IPython.notebook.kernel;\n",
    "var thename = window.document.getElementById(\"notebook_name\").innerHTML;\n",
    "var command = \"theNotebook = \" + \"'\"+thename+\"'\";\n",
    "kernel.execute(command);"
   ]
  },
  {
   "cell_type": "code",
   "execution_count": 50,
   "metadata": {
    "collapsed": false,
    "deletable": true,
    "editable": true
   },
   "outputs": [
    {
     "name": "stdout",
     "output_type": "stream",
     "text": [
      "MakeLogBook\n"
     ]
    }
   ],
   "source": [
    "print(theNotebook)"
   ]
  },
  {
   "cell_type": "code",
   "execution_count": 51,
   "metadata": {
    "collapsed": false,
    "deletable": true,
    "editable": true
   },
   "outputs": [],
   "source": [
    "%matplotlib inline\n",
    "import matplotlib.pyplot as plt\n",
    "import numpy as np\n",
    "\n",
    "from astropy.modeling import models\n",
    "from astropy import units as u\n",
    "from astropy import nddata\n",
    "from astropy.io import fits\n",
    "from astropy.table import Table, Column\n",
    "import re\n",
    "import os"
   ]
  },
  {
   "cell_type": "code",
   "execution_count": 52,
   "metadata": {
    "collapsed": true,
    "deletable": true,
    "editable": true
   },
   "outputs": [],
   "source": [
    "import pandas as pd"
   ]
  },
  {
   "cell_type": "code",
   "execution_count": 53,
   "metadata": {
    "collapsed": false,
    "deletable": true,
    "editable": true
   },
   "outputs": [],
   "source": [
    "# to enlarge the sizes\n",
    "params = {'legend.fontsize': 'x-large',\n",
    "          'figure.figsize': (8, 8),\n",
    "         'axes.labelsize': 'x-large',\n",
    "         'axes.titlesize':'x-large',\n",
    "         'xtick.labelsize':'x-large',\n",
    "         'ytick.labelsize':'x-large'}\n",
    "plt.rcParams.update(params)"
   ]
  },
  {
   "cell_type": "markdown",
   "metadata": {
    "deletable": true,
    "editable": true
   },
   "source": [
    "## Location of trim images\n",
    "----------------------------------"
   ]
  },
  {
   "cell_type": "code",
   "execution_count": null,
   "metadata": {
    "collapsed": false,
    "deletable": true,
    "editable": true
   },
   "outputs": [],
   "source": []
  },
  {
   "cell_type": "code",
   "execution_count": 54,
   "metadata": {
    "collapsed": true,
    "deletable": true,
    "editable": true
   },
   "outputs": [],
   "source": [
    "rootpath_rawimage=\"../OverScanRemove/trim_images\"\n",
    "MIN_IMGNUMBER=144\n",
    "MAX_IMGNUMBER=357\n",
    "object_name='HD205905_Jun_08th'\n",
    "SelectTagRe='^trim_20170608_([0-9]+).fits$' # regular expression to select the file\n",
    "SearchTagRe='^trim_20170608_[0-9]+.fits$'\n",
    "NBIMGPERLROW=4"
   ]
  },
  {
   "cell_type": "code",
   "execution_count": 55,
   "metadata": {
    "collapsed": true,
    "deletable": true,
    "editable": true
   },
   "outputs": [],
   "source": [
    "#rootpath_rawimage=\"/Users/dagoret-campagnesylvie/MacOsX/LSST/MyWork/GitHub/CTIOData2016/November2016/mucol\"\n",
    "#object_name='mucol'\n",
    "infos='ctio08jun2017'"
   ]
  },
  {
   "cell_type": "code",
   "execution_count": 56,
   "metadata": {
    "collapsed": false,
    "deletable": true,
    "editable": true
   },
   "outputs": [],
   "source": [
    "logfile='logbk_'+object_name+'_'+infos+'.fits'\n",
    "pandaslogfile='logbk_'+object_name+'_'+infos+'.csv'"
   ]
  },
  {
   "cell_type": "code",
   "execution_count": 57,
   "metadata": {
    "collapsed": true,
    "deletable": true,
    "editable": true
   },
   "outputs": [],
   "source": [
    "dirlist=[]\n",
    "dirlist.append(rootpath_rawimage)\n",
    "dirlist_all=np.array(dirlist)"
   ]
  },
  {
   "cell_type": "code",
   "execution_count": 58,
   "metadata": {
    "collapsed": false,
    "deletable": true,
    "editable": true
   },
   "outputs": [],
   "source": [
    "filelist_all=os.listdir(rootpath_rawimage) "
   ]
  },
  {
   "cell_type": "code",
   "execution_count": 59,
   "metadata": {
    "collapsed": false,
    "deletable": true,
    "editable": true
   },
   "outputs": [
    {
     "data": {
      "text/plain": [
       "['trim_20170608_001.fits',\n",
       " 'trim_20170608_008.fits',\n",
       " 'trim_20170608_012.fits',\n",
       " 'trim_20170608_017.fits',\n",
       " 'trim_20170608_020.fits',\n",
       " 'trim_20170608_021.fits',\n",
       " 'trim_20170608_023.fits',\n",
       " 'trim_20170608_030.fits',\n",
       " 'trim_20170608_046.fits',\n",
       " 'trim_20170608_048.fits',\n",
       " 'trim_20170608_057.fits',\n",
       " 'trim_20170608_059.fits',\n",
       " 'trim_20170608_060.fits',\n",
       " 'trim_20170608_069.fits',\n",
       " 'trim_20170608_075.fits',\n",
       " 'trim_20170608_081.fits',\n",
       " 'trim_20170608_091.fits',\n",
       " 'trim_20170608_094.fits',\n",
       " 'trim_20170608_096.fits',\n",
       " 'trim_20170608_105.fits',\n",
       " 'trim_20170608_115.fits',\n",
       " 'trim_20170608_116.fits',\n",
       " 'trim_20170608_123.fits',\n",
       " 'trim_20170608_126.fits',\n",
       " 'trim_20170608_128.fits',\n",
       " 'trim_20170608_130.fits',\n",
       " 'trim_20170608_131.fits',\n",
       " 'trim_20170608_138.fits',\n",
       " 'trim_20170608_139.fits',\n",
       " 'trim_20170608_140.fits',\n",
       " 'trim_20170608_143.fits',\n",
       " 'trim_20170608_155.fits',\n",
       " 'trim_20170608_159.fits',\n",
       " 'trim_20170608_160.fits',\n",
       " 'trim_20170608_161.fits',\n",
       " 'trim_20170608_162.fits',\n",
       " 'trim_20170608_165.fits',\n",
       " 'trim_20170608_167.fits',\n",
       " 'trim_20170608_173.fits',\n",
       " 'trim_20170608_176.fits',\n",
       " 'trim_20170608_183.fits',\n",
       " 'trim_20170608_185.fits',\n",
       " 'trim_20170608_189.fits',\n",
       " 'trim_20170608_190.fits',\n",
       " 'trim_20170608_193.fits',\n",
       " 'trim_20170608_196.fits',\n",
       " 'trim_20170608_197.fits',\n",
       " 'trim_20170608_198.fits',\n",
       " 'trim_20170608_209.fits',\n",
       " 'trim_20170608_213.fits',\n",
       " 'trim_20170608_215.fits',\n",
       " 'trim_20170608_221.fits',\n",
       " 'trim_20170608_226.fits',\n",
       " 'trim_20170608_231.fits',\n",
       " 'trim_20170608_242.fits',\n",
       " 'trim_20170608_244.fits',\n",
       " 'trim_20170608_246.fits',\n",
       " 'trim_20170608_247.fits',\n",
       " 'trim_20170608_251.fits',\n",
       " 'trim_20170608_254.fits',\n",
       " 'trim_20170608_256.fits',\n",
       " 'trim_20170608_258.fits',\n",
       " 'trim_20170608_262.fits',\n",
       " 'trim_20170608_263.fits',\n",
       " 'trim_20170608_274.fits',\n",
       " 'trim_20170608_275.fits',\n",
       " 'trim_20170608_276.fits',\n",
       " 'trim_20170608_283.fits',\n",
       " 'trim_20170608_286.fits',\n",
       " 'trim_20170608_289.fits',\n",
       " 'trim_20170608_296.fits',\n",
       " 'trim_20170608_297.fits',\n",
       " 'trim_20170608_298.fits',\n",
       " 'trim_20170608_302.fits',\n",
       " 'trim_20170608_318.fits',\n",
       " 'trim_20170608_319.fits',\n",
       " 'trim_20170608_321.fits',\n",
       " 'trim_20170608_322.fits',\n",
       " 'trim_20170608_323.fits',\n",
       " 'trim_20170608_327.fits',\n",
       " 'trim_20170608_336.fits',\n",
       " 'trim_20170608_346.fits',\n",
       " 'trim_20170608_348.fits',\n",
       " 'trim_20170608_357.fits']"
      ]
     },
     "execution_count": 59,
     "metadata": {},
     "output_type": "execute_result"
    }
   ],
   "source": [
    "#dirlist_all.remove('.DS_Store') # reove that file in a mAC\n",
    "filelist_all"
   ]
  },
  {
   "cell_type": "code",
   "execution_count": 60,
   "metadata": {
    "collapsed": true,
    "deletable": true,
    "editable": true
   },
   "outputs": [],
   "source": [
    "indexes_files= [] # global list\n",
    "filelist_fitsimages= []  # global list"
   ]
  },
  {
   "cell_type": "code",
   "execution_count": 61,
   "metadata": {
    "collapsed": false,
    "deletable": true,
    "editable": true
   },
   "outputs": [],
   "source": [
    "def MakeFileList():\n",
    "    \"\"\"\n",
    "    MakeFileList : Make The List of files to open\n",
    "    =============\n",
    "    \n",
    "    - we select the files which are of interest.\n",
    "    - In particular select the number range\n",
    "    \n",
    "    \"\"\"\n",
    "    count=0\n",
    "    \n",
    "    for dir in dirlist_all: # loop on directories, one per image   (if necessary)    \n",
    "            dir_leaf= dir # build the name of leaf directory\n",
    "            listfiles=os.listdir(dir_leaf) \n",
    "            for filename in listfiles:\n",
    "                if re.search(SearchTagRe,filename):  #example of filename filter\n",
    "                    str_index=re.findall(SelectTagRe,filename)\n",
    "                    count=count+1\n",
    "                    index=int(str_index[0])\n",
    "                    if index >= MIN_IMGNUMBER and index <= MAX_IMGNUMBER: \n",
    "                        indexes_files.append(index)         \n",
    "                        shortfilename=dir_leaf+'/'+filename\n",
    "                        filelist_fitsimages.append(shortfilename)\n",
    "                    \n",
    "    return"
   ]
  },
  {
   "cell_type": "code",
   "execution_count": 62,
   "metadata": {
    "collapsed": false,
    "deletable": true,
    "editable": true
   },
   "outputs": [],
   "source": [
    "MakeFileList()   # Make the list"
   ]
  },
  {
   "cell_type": "code",
   "execution_count": 63,
   "metadata": {
    "collapsed": true,
    "deletable": true,
    "editable": true
   },
   "outputs": [],
   "source": [
    "indexes_files=np.array(indexes_files)\n",
    "filelist_fitsimages=np.array(filelist_fitsimages)"
   ]
  },
  {
   "cell_type": "code",
   "execution_count": 64,
   "metadata": {
    "collapsed": false,
    "deletable": true,
    "editable": true
   },
   "outputs": [
    {
     "data": {
      "text/plain": [
       "array([155, 159, 160, 161, 162, 165, 167, 173, 176, 183, 185, 189, 190,\n",
       "       193, 196, 197, 198, 209, 213, 215, 221, 226, 231, 242, 244, 246,\n",
       "       247, 251, 254, 256, 258, 262, 263, 274, 275, 276, 283, 286, 289,\n",
       "       296, 297, 298, 302, 318, 319, 321, 322, 323, 327, 336, 346, 348, 357])"
      ]
     },
     "execution_count": 64,
     "metadata": {},
     "output_type": "execute_result"
    }
   ],
   "source": [
    "indexes_files"
   ]
  },
  {
   "cell_type": "code",
   "execution_count": 65,
   "metadata": {
    "collapsed": true,
    "deletable": true,
    "editable": true
   },
   "outputs": [],
   "source": [
    "sorted_indexes=np.argsort(indexes_files) # sort the file indexes"
   ]
  },
  {
   "cell_type": "code",
   "execution_count": 66,
   "metadata": {
    "collapsed": true,
    "deletable": true,
    "editable": true
   },
   "outputs": [],
   "source": [
    "sorted_files=filelist_fitsimages[sorted_indexes]"
   ]
  },
  {
   "cell_type": "code",
   "execution_count": 67,
   "metadata": {
    "collapsed": true,
    "deletable": true,
    "editable": true
   },
   "outputs": [],
   "source": [
    "sorted_numbers=indexes_files[sorted_indexes]"
   ]
  },
  {
   "cell_type": "code",
   "execution_count": 68,
   "metadata": {
    "collapsed": true,
    "deletable": true,
    "editable": true
   },
   "outputs": [],
   "source": [
    "sorted_filenames=[]\n",
    "for file in sorted_files:\n",
    "    #fullfilename=os.path.join(rootpath_rawimage,file)\n",
    "    fullfilename=file\n",
    "    sorted_filenames.append(fullfilename)"
   ]
  },
  {
   "cell_type": "code",
   "execution_count": 69,
   "metadata": {
    "collapsed": true,
    "deletable": true,
    "editable": true
   },
   "outputs": [],
   "source": [
    "sorted_filenames=np.array(sorted_filenames)"
   ]
  },
  {
   "cell_type": "code",
   "execution_count": 70,
   "metadata": {
    "collapsed": false,
    "deletable": true,
    "editable": true
   },
   "outputs": [
    {
     "data": {
      "text/plain": [
       "array(['../OverScanRemove/trim_images/trim_20170608_155.fits',\n",
       "       '../OverScanRemove/trim_images/trim_20170608_159.fits',\n",
       "       '../OverScanRemove/trim_images/trim_20170608_160.fits',\n",
       "       '../OverScanRemove/trim_images/trim_20170608_161.fits',\n",
       "       '../OverScanRemove/trim_images/trim_20170608_162.fits',\n",
       "       '../OverScanRemove/trim_images/trim_20170608_165.fits',\n",
       "       '../OverScanRemove/trim_images/trim_20170608_167.fits',\n",
       "       '../OverScanRemove/trim_images/trim_20170608_173.fits',\n",
       "       '../OverScanRemove/trim_images/trim_20170608_176.fits',\n",
       "       '../OverScanRemove/trim_images/trim_20170608_183.fits',\n",
       "       '../OverScanRemove/trim_images/trim_20170608_185.fits',\n",
       "       '../OverScanRemove/trim_images/trim_20170608_189.fits',\n",
       "       '../OverScanRemove/trim_images/trim_20170608_190.fits',\n",
       "       '../OverScanRemove/trim_images/trim_20170608_193.fits',\n",
       "       '../OverScanRemove/trim_images/trim_20170608_196.fits',\n",
       "       '../OverScanRemove/trim_images/trim_20170608_197.fits',\n",
       "       '../OverScanRemove/trim_images/trim_20170608_198.fits',\n",
       "       '../OverScanRemove/trim_images/trim_20170608_209.fits',\n",
       "       '../OverScanRemove/trim_images/trim_20170608_213.fits',\n",
       "       '../OverScanRemove/trim_images/trim_20170608_215.fits',\n",
       "       '../OverScanRemove/trim_images/trim_20170608_221.fits',\n",
       "       '../OverScanRemove/trim_images/trim_20170608_226.fits',\n",
       "       '../OverScanRemove/trim_images/trim_20170608_231.fits',\n",
       "       '../OverScanRemove/trim_images/trim_20170608_242.fits',\n",
       "       '../OverScanRemove/trim_images/trim_20170608_244.fits',\n",
       "       '../OverScanRemove/trim_images/trim_20170608_246.fits',\n",
       "       '../OverScanRemove/trim_images/trim_20170608_247.fits',\n",
       "       '../OverScanRemove/trim_images/trim_20170608_251.fits',\n",
       "       '../OverScanRemove/trim_images/trim_20170608_254.fits',\n",
       "       '../OverScanRemove/trim_images/trim_20170608_256.fits',\n",
       "       '../OverScanRemove/trim_images/trim_20170608_258.fits',\n",
       "       '../OverScanRemove/trim_images/trim_20170608_262.fits',\n",
       "       '../OverScanRemove/trim_images/trim_20170608_263.fits',\n",
       "       '../OverScanRemove/trim_images/trim_20170608_274.fits',\n",
       "       '../OverScanRemove/trim_images/trim_20170608_275.fits',\n",
       "       '../OverScanRemove/trim_images/trim_20170608_276.fits',\n",
       "       '../OverScanRemove/trim_images/trim_20170608_283.fits',\n",
       "       '../OverScanRemove/trim_images/trim_20170608_286.fits',\n",
       "       '../OverScanRemove/trim_images/trim_20170608_289.fits',\n",
       "       '../OverScanRemove/trim_images/trim_20170608_296.fits',\n",
       "       '../OverScanRemove/trim_images/trim_20170608_297.fits',\n",
       "       '../OverScanRemove/trim_images/trim_20170608_298.fits',\n",
       "       '../OverScanRemove/trim_images/trim_20170608_302.fits',\n",
       "       '../OverScanRemove/trim_images/trim_20170608_318.fits',\n",
       "       '../OverScanRemove/trim_images/trim_20170608_319.fits',\n",
       "       '../OverScanRemove/trim_images/trim_20170608_321.fits',\n",
       "       '../OverScanRemove/trim_images/trim_20170608_322.fits',\n",
       "       '../OverScanRemove/trim_images/trim_20170608_323.fits',\n",
       "       '../OverScanRemove/trim_images/trim_20170608_327.fits',\n",
       "       '../OverScanRemove/trim_images/trim_20170608_336.fits',\n",
       "       '../OverScanRemove/trim_images/trim_20170608_346.fits',\n",
       "       '../OverScanRemove/trim_images/trim_20170608_348.fits',\n",
       "       '../OverScanRemove/trim_images/trim_20170608_357.fits'], \n",
       "      dtype='|S52')"
      ]
     },
     "execution_count": 70,
     "metadata": {},
     "output_type": "execute_result"
    }
   ],
   "source": [
    "sorted_filenames"
   ]
  },
  {
   "cell_type": "code",
   "execution_count": 71,
   "metadata": {
    "collapsed": false,
    "deletable": true,
    "editable": true
   },
   "outputs": [],
   "source": [
    "from astropy.io import fits\n",
    "with fits.open(sorted_filenames[0]) as pf:\n",
    "    (pf[0].header)"
   ]
  },
  {
   "cell_type": "code",
   "execution_count": 72,
   "metadata": {
    "collapsed": false,
    "deletable": true,
    "editable": true
   },
   "outputs": [
    {
     "data": {
      "text/plain": [
       "SIMPLE  =                    T / conforms to FITS standard                      \n",
       "BITPIX  =                  -64 / array data type                                \n",
       "NAXIS   =                    2 / number of array dimensions                     \n",
       "NAXIS1  =                 2048                                                  \n",
       "NAXIS2  =                 2048                                                  \n",
       "COMMENT   FITS (Flexible Image Transport System) format is defined in 'Astronomy\n",
       "COMMENT   and Astrophysics', volume 376, page 359; bibcode: 2001A&A...376..359H \n",
       "OBJECT  = 'HD205905'           / Name of object observed                        \n",
       "OBSERVER= '        '           / observer                                       \n",
       "PROPID  = '        '           / Proposal ID                                    \n",
       "RECID   = 'ct36.20170609.062228' / NOAO Archibe record ID                       \n",
       "PROPID  = '        '           / Proposal ID                                    \n",
       "IMAGETYP= 'object  '           / Type of picture (object, dark, comp, etc)      \n",
       "CCDSUM  = '1 1     '           / On chip summation (X, Y)                       \n",
       "XSTART  =                    1 / start of roi in X                              \n",
       "YSTART  =                    1 / start of roi in Y                              \n",
       "XLENGTH =                 2048 / length of roi in X                             \n",
       "YLENGTH =                 2048 / length of roi in Y                             \n",
       "UTSHUT  = '2017-06-09T06:22:28.198' / UT of shutter open                        \n",
       "UT      = '06:22:28.198'       / UT of TCS coordinates                          \n",
       "DATE-OBS= '2017-06-09T06:22:28.198' / date of observations start                \n",
       "DATE    = '2017-06-09T06:22:45' / file creation date (YYYY-MM-DDThh:mm:ss UT)   \n",
       "NAMPSYX = '2 2     '           / Num amps in y and x (eg. '2 2=quad')           \n",
       "AMPLIST = '11 12 21 22'        / Readout order in y,x                           \n",
       "GTRON11 =                  12. / (e-) predicted read noise, lower left          \n",
       "GTRON12 =                  12. / (e-) predicted read noise, lower right         \n",
       "GTRON21 =                  12. / (e-) predicted read noise, upper left          \n",
       "GTRON22 =                  12. / (e-) predicted read noise, upper right         \n",
       "GTGAIN11=                   3. / (e-/ADU) predicted gain, lower left            \n",
       "GTGAIN12=                   3. / (e-/ADU) predicted gain, lower right           \n",
       "GTGAIN21=                   3. / (e-/ADU) predicted gain, upper left            \n",
       "GTGAIN22=                   3. / (e-/ADU) predicted gain, upper right           \n",
       "ASEC11  = '[1:1084,1:1024]'    / amplifier section Amp11(LL) detID 1            \n",
       "BSEC11  = '[1045:1084,1:1024]' / bias section Amp11(LL) detID 1                 \n",
       "CSEC11  = '[1:1034,1:1024]'    / section in full ccd for DSEC Amp11(LL) detID 1 \n",
       "DSEC11  = '[1:1034,1:1024]'    / image section in raw frame Amp11(LL) detID 1   \n",
       "TSEC11  = '[11:1034,1:1024]'   / trim section Amp11(LL) detID 1                 \n",
       "ABSEC11 = '[1045:1084,1:1024]' / overscan inside amp                            \n",
       "ADSEC11 = '[1:1024,1:1024]'    / detector section only                          \n",
       "ASEC12  = '[1085:2168,1:1024]' / amplifier section Amp12(LR) detID 1            \n",
       "BSEC12  = '[1085:1124,1:1024]' / bias section Amp12(LR) detID 1                 \n",
       "CSEC12  = '[1035:2068,1:1024]' / section in full ccd for DSEC Amp12(LR) detID 1 \n",
       "DSEC12  = '[1135:2168,1:1024]' / image section in raw frame Amp12(LR) detID 1   \n",
       "TSEC12  = '[1135:2158,1:1024]' / trim section Amp12(LR) detID 1                 \n",
       "ABSEC12 = '[1:40,1:1024]'      / overscan inside amp                            \n",
       "ADSEC12 = '[1025:2048,1:1024]' / detector section only                          \n",
       "ASEC21  = '[1:1084,1025:2048]' / amplifier section Amp21(UL) detID 1            \n",
       "BSEC21  = '[1045:1084,1025:2048]' / bias section Amp21(UL) detID 1              \n",
       "CSEC21  = '[1:1034,1025:2048]' / section in full ccd for DSEC Amp21(UL) detID 1 \n",
       "DSEC21  = '[1:1034,1025:2048]' / image section in raw frame Amp21(UL) detID 1   \n",
       "TSEC21  = '[11:1034,1025:2048]' / trim section Amp21(UL) detID 1                \n",
       "ABSEC21 = '[1045:1084,1:1024]' / overscan inside amp                            \n",
       "ADSEC21 = '[1:1024,1025:2048]' / detector section only                          \n",
       "ASEC22  = '[1085:2168,1025:2048]' / amplifier section Amp22(UR) detID 1         \n",
       "BSEC22  = '[1085:1124,1025:2048]' / bias section Amp22(UR) detID 1              \n",
       "CSEC22  = '[1035:2068,1025:2048]' / section in full ccd for DSEC Amp22(UR) detID\n",
       "DSEC22  = '[1135:2168,1025:2048]' / image section in raw frame Amp22(UR) detID 1\n",
       "TSEC22  = '[1135:2158,1025:2048]' / trim section Amp22(UR) detID 1              \n",
       "ABSEC22 = '[1:40,1:1024]'      / overscan inside amp                            \n",
       "ADSEC22 = '[1025:2048,1025:2048]' / detector section only                       \n",
       "ROISEC00= '[1:2048,1:2048]'    / roi section                                    \n",
       "DETECTOR= 'Tek2K_3 '           / Detector Identifier                            \n",
       "FPA     = 'SITE2K  '           / focal plan array                               \n",
       "REXPTIME=                  15. / requested exposure time in secs                \n",
       "EXPTIME =                  15. / Exposure time in secs                          \n",
       "DARKTIME=                  15. / Total elapsed time in secs                     \n",
       "NIMAGES =                    1 / number of images requested in sequence         \n",
       "PIXELT  = '25000.000000'       / (ns) unbinned pixel read time                  \n",
       "DHEINF  = 'MNSN torrent hardware' / controller info                             \n",
       "DHEFIRM = '/home/observer/panview/fpas/_biw/config/DETECTOR/site2k_sequencer.uc'\n",
       "PIXTIME = '25      '           / pixel time (usecs)                             \n",
       "POWSTAT = '3.000   '           / power supplies status (3=OK)                   \n",
       "CCDSETP = '163.000 '           / ccd temperature setpoint                       \n",
       "CCDTEMP = '165.250 '           / CCD temperature                                \n",
       "NECKTEMP= '137.560 '           / dewar NECK temperature                         \n",
       "HEATERSP= '36.220  '           / Heater power percent.                          \n",
       "VDDA    = '23.989  '           / bias output amplifier A                        \n",
       "VDDB    = '23.974  '           / bias output amplifier B                        \n",
       "VDDC    = '24.333  '           / bias output amplifier C                        \n",
       "VDDD    = '24.184  '           / bias output amplifier D                        \n",
       "VRDA    = '13.855  '           / Reset Drain amplifier A                        \n",
       "VRDB    = '13.840  '           / Reset Drain amplifier B                        \n",
       "VRDC    = '14.064  '           / Reset Drain amplifier C                        \n",
       "VRDD    = '13.990  '           / Reset Drain amplifier D                        \n",
       "LGA     = '-2.032  '           / Reset Drain amplifier A                        \n",
       "LGB     = '-2.062  '           / Reset Drain amplifier B                        \n",
       "LGC     = '-1.982  '           / Reset Drain amplifier C                        \n",
       "LGD     = '-1.962  '           / Reset Drain amplifier D                        \n",
       "SLOT00  = 'LCB 0x188538 2.240000' / dhe board: <type> <serial> <firmware>       \n",
       "SLOT01  = 'PSM 0x45834F 2.210000' / dhe board: <type> <serial> <firmware>       \n",
       "SLOT02  = 'CFG 0xNONE 2.240000' / dhe board: <type> <serial> <firmware>         \n",
       "SLOT03  = 'PIX 0xNONE 2.210000' / dhe board: <type> <serial> <firmware>         \n",
       "SLOT04  = 'CCDAFE 0x188167 18805C 2.210000' / dhe board: <type> <serial> <firmwa\n",
       "SLOT07  = 'CB 0xNONE 2.240000' / dhe board: <type> <serial> <firmware>          \n",
       "SLOT02  = 'TSM 0x3C6784 NONE'  / dhe board: <type> <serial> <firmware>          \n",
       "VANPLUS =             10.54422 / analog voltage plus                            \n",
       "VANMINU =             -10.5137 / analog voltage minus                           \n",
       "FPGATEMP=             31.52709 / torrent fpga temperature                       \n",
       "ID      = '[ct36.20170609.062228]' / ID                                         \n",
       "OBSERVAT= 'CTIO    '           / Origin of data                                 \n",
       "TELESCOP= 'CTIO 0.9 meter telescope' / Specific system                          \n",
       "TELID   = 'ct36    '           / CTIO 0.9 meter telescope                       \n",
       "TCS-TIME= '2017-06-08T06:22:29.37' / date of observation start                  \n",
       "UT      = '06:22:29.37'        / UT of TCS coords                               \n",
       "RA      = '21:39:1.89'         / ra                                             \n",
       "DEC     = '-27:20:52.41'       / dec                                            \n",
       "EPOCH   =                2000. / epoch                                          \n",
       "ZD      =               37.034 / zenith distance                                \n",
       "HA      = '-02:48:30.63'       / hour angle                                     \n",
       "ST      = '18:50:31.25'        / sidereal time                                  \n",
       "AIRMASS =                1.252 / airmass                                        \n",
       "ALT     = '103.13  '           / altitud                                        \n",
       "TELFOCUS=               12450. / telescope focus                                \n",
       "WEATIME = '2017-06-09 06:21:01' / weather timestamp                             \n",
       "OUTTEMP =                  7.6 / outside temp (C)                               \n",
       "OUTHUM  =                   32 / outside humidity (%)                           \n",
       "OUTPRESS=                 784. / outside pressure (hPa)                         \n",
       "WNDSPEED=                  6.4 / wind speed (mph)                               \n",
       "WNDDIR  =                  357 / wind dir (degrees)                             \n",
       "SEETIME = '2017-06-07 10:47:50' / seeing timestamp                              \n",
       "SEEING  =                0.962 / seeing                                         \n",
       "SAIRMASS=                1.057 / seeing airmass                                 \n",
       "PANID   = '_biw    '           / PAN identification                             \n",
       "COMMENT image                                                                   \n",
       "COMMENT Image is trimmed                                                        \n",
       "FILTER1 = 'RG715   '           / Filter in wheel 1                              \n",
       "FNAME1  = 'RG715   '           / Full name of filter in wheel 1                 \n",
       "FILTER2 = 'Ron200  '           / Filter in wheel 2                              \n",
       "FNAME2  = 'Ronchi200'          / Full name of filter in wheel 2                 \n",
       "FILTERS = 'RG715 Ron200'       / Filter positions                               \n",
       "INSTRUME= 'cfccd   '           / cassegrain direct imager                       \n",
       "XPIXSIZE=                0.401 / Pixel size in X (arcsecs/pix)                  \n",
       "YPIXSIZE=                0.401 / Pixel size in Y (arcsecs/pix)                  \n",
       "TEST    =                   2. / my keyword                                     "
      ]
     },
     "execution_count": 72,
     "metadata": {},
     "output_type": "execute_result"
    }
   ],
   "source": [
    "pf[0].header"
   ]
  },
  {
   "cell_type": "markdown",
   "metadata": {
    "collapsed": false,
    "deletable": true,
    "editable": true
   },
   "source": [
    "### Build tables for output file"
   ]
  },
  {
   "cell_type": "code",
   "execution_count": null,
   "metadata": {
    "collapsed": false,
    "deletable": true,
    "editable": true
   },
   "outputs": [],
   "source": []
  },
  {
   "cell_type": "code",
   "execution_count": 73,
   "metadata": {
    "collapsed": false,
    "deletable": true,
    "editable": true
   },
   "outputs": [
    {
     "name": "stdout",
     "output_type": "stream",
     "text": [
      "../OverScanRemove/trim_images/trim_20170608_155.fits\n",
      "../OverScanRemove/trim_images/trim_20170608_159.fits\n",
      "../OverScanRemove/trim_images/trim_20170608_160.fits\n",
      "../OverScanRemove/trim_images/trim_20170608_161.fits\n",
      "../OverScanRemove/trim_images/trim_20170608_162.fits\n",
      "../OverScanRemove/trim_images/trim_20170608_165.fits\n",
      "../OverScanRemove/trim_images/trim_20170608_167.fits\n",
      "../OverScanRemove/trim_images/trim_20170608_173.fits\n",
      "../OverScanRemove/trim_images/trim_20170608_176.fits\n",
      "../OverScanRemove/trim_images/trim_20170608_183.fits\n",
      "../OverScanRemove/trim_images/trim_20170608_185.fits\n",
      "../OverScanRemove/trim_images/trim_20170608_189.fits\n",
      "../OverScanRemove/trim_images/trim_20170608_190.fits\n",
      "../OverScanRemove/trim_images/trim_20170608_193.fits\n",
      "../OverScanRemove/trim_images/trim_20170608_196.fits\n",
      "../OverScanRemove/trim_images/trim_20170608_197.fits\n",
      "../OverScanRemove/trim_images/trim_20170608_198.fits\n",
      "../OverScanRemove/trim_images/trim_20170608_209.fits\n",
      "../OverScanRemove/trim_images/trim_20170608_213.fits\n",
      "../OverScanRemove/trim_images/trim_20170608_215.fits\n",
      "../OverScanRemove/trim_images/trim_20170608_221.fits\n",
      "../OverScanRemove/trim_images/trim_20170608_226.fits\n",
      "../OverScanRemove/trim_images/trim_20170608_231.fits\n",
      "../OverScanRemove/trim_images/trim_20170608_242.fits\n",
      "../OverScanRemove/trim_images/trim_20170608_244.fits\n",
      "../OverScanRemove/trim_images/trim_20170608_246.fits\n",
      "../OverScanRemove/trim_images/trim_20170608_247.fits\n",
      "../OverScanRemove/trim_images/trim_20170608_251.fits\n",
      "../OverScanRemove/trim_images/trim_20170608_254.fits\n",
      "../OverScanRemove/trim_images/trim_20170608_256.fits\n",
      "../OverScanRemove/trim_images/trim_20170608_258.fits\n",
      "../OverScanRemove/trim_images/trim_20170608_262.fits\n",
      "../OverScanRemove/trim_images/trim_20170608_263.fits\n",
      "../OverScanRemove/trim_images/trim_20170608_274.fits\n",
      "../OverScanRemove/trim_images/trim_20170608_275.fits\n",
      "../OverScanRemove/trim_images/trim_20170608_276.fits\n",
      "../OverScanRemove/trim_images/trim_20170608_283.fits\n",
      "../OverScanRemove/trim_images/trim_20170608_286.fits\n",
      "../OverScanRemove/trim_images/trim_20170608_289.fits\n",
      "../OverScanRemove/trim_images/trim_20170608_296.fits\n",
      "../OverScanRemove/trim_images/trim_20170608_297.fits\n",
      "../OverScanRemove/trim_images/trim_20170608_298.fits\n",
      "../OverScanRemove/trim_images/trim_20170608_302.fits\n",
      "../OverScanRemove/trim_images/trim_20170608_318.fits\n",
      "../OverScanRemove/trim_images/trim_20170608_319.fits\n",
      "../OverScanRemove/trim_images/trim_20170608_321.fits\n",
      "../OverScanRemove/trim_images/trim_20170608_322.fits\n",
      "../OverScanRemove/trim_images/trim_20170608_323.fits\n",
      "../OverScanRemove/trim_images/trim_20170608_327.fits\n",
      "../OverScanRemove/trim_images/trim_20170608_336.fits\n",
      "../OverScanRemove/trim_images/trim_20170608_346.fits\n",
      "../OverScanRemove/trim_images/trim_20170608_348.fits\n",
      "../OverScanRemove/trim_images/trim_20170608_357.fits\n"
     ]
    }
   ],
   "source": [
    "all_headers = []\n",
    "all_dates = []\n",
    "all_airmass = []\n",
    "all_exposures = []\n",
    "all_ut = []\n",
    "all_ra = []\n",
    "all_dec = []\n",
    "all_epoch = []\n",
    "all_zenith = []\n",
    "all_ha = []\n",
    "all_st = []\n",
    "all_alt = []\n",
    "all_focus = []\n",
    "all_temp = []\n",
    "all_press = []\n",
    "all_hum = []\n",
    "all_windsp = []\n",
    "all_seeing = []\n",
    "all_seeingam = []\n",
    "all_filter1 = []\n",
    "all_filter2 = []\n",
    "all_object = []\n",
    "\n",
    "for idx,file in np.ndenumerate(sorted_filenames):  \n",
    "    print file\n",
    "    hdu_list=fits.open(file)\n",
    "    header=hdu_list[0].header\n",
    "    date_obs = header['DATE-OBS']\n",
    "    airmass = float(header['AIRMASS'])\n",
    "    expo= float(header['EXPTIME'])\n",
    "    num=indexes_files[idx[0]]\n",
    "    obj=header['OBJECT']\n",
    "   \n",
    "    ut=header['UT']\n",
    "    ra=header['RA']\n",
    "    dec=header['DEC']\n",
    "    epoch=float(header['EPOCH'])\n",
    "    zd = float(header['ZD'])\n",
    "    ha = header['HA']\n",
    "    st = header['ST']\n",
    "    alt = float(header['ALT'])\n",
    "    fcl = float(header['TELFOCUS'])\n",
    "    temp= float(header['OUTTEMP'])\n",
    "    press= float(header['OUTPRESS'])\n",
    "    hum= float(header['OUTHUM'])\n",
    "    windsp=float(header['WNDSPEED'])\n",
    "    seeing=float(header['SEEING'])\n",
    "    seeingam=float(header['SAIRMASS'])\n",
    "    filter1 = header['FILTER1']\n",
    "    filter2 = header['FILTER2']\n",
    "    \n",
    "    all_dates.append(date_obs)\n",
    "    all_airmass.append(airmass)\n",
    "    all_headers.append(header)\n",
    "    all_exposures.append(expo)\n",
    "    all_ut.append(ut)\n",
    "    all_ra.append(ra)\n",
    "    all_dec.append(dec)\n",
    "    all_epoch.append(epoch)\n",
    "    all_zenith.append(zd)\n",
    "    all_ha.append(ha)\n",
    "    all_st.append(st)\n",
    "    all_alt.append(alt)\n",
    "    all_focus.append(fcl)\n",
    "    all_temp.append(temp)\n",
    "    all_press.append(press)\n",
    "    all_hum.append(hum)\n",
    "    all_windsp.append(windsp)\n",
    "    all_seeing.append(seeing)\n",
    "    all_seeingam.append(seeingam)\n",
    "    all_filter1.append(filter1)\n",
    "    all_filter2.append(filter2)\n",
    "    all_object.append(obj)\n",
    "\n",
    "    hdu_list.close()\n",
    "    "
   ]
  },
  {
   "cell_type": "code",
   "execution_count": 74,
   "metadata": {
    "collapsed": false,
    "deletable": true,
    "editable": true
   },
   "outputs": [
    {
     "data": {
      "text/plain": [
       "53"
      ]
     },
     "execution_count": 74,
     "metadata": {},
     "output_type": "execute_result"
    }
   ],
   "source": [
    "len(all_airmass)"
   ]
  },
  {
   "cell_type": "code",
   "execution_count": 75,
   "metadata": {
    "collapsed": false,
    "deletable": true,
    "editable": true
   },
   "outputs": [
    {
     "data": {
      "text/plain": [
       "['RG715',\n",
       " 'RG715',\n",
       " 'FGB37',\n",
       " 'RG715',\n",
       " 'FGB37',\n",
       " 'RG715',\n",
       " 'RG715',\n",
       " 'RG715',\n",
       " 'FGB37',\n",
       " 'RG715',\n",
       " 'RG715',\n",
       " 'RG715',\n",
       " 'FGB37',\n",
       " 'RG715',\n",
       " 'FGB37',\n",
       " 'RG715',\n",
       " 'FGB37',\n",
       " 'RG715',\n",
       " 'RG715',\n",
       " 'RG715',\n",
       " 'RG715',\n",
       " 'FGB37',\n",
       " 'RG715',\n",
       " 'FGB37',\n",
       " 'FGB37',\n",
       " 'FGB37',\n",
       " 'RG715',\n",
       " 'RG715',\n",
       " 'FGB37',\n",
       " 'FGB37',\n",
       " 'FGB37',\n",
       " 'FGB37',\n",
       " 'RG715',\n",
       " 'FGB37',\n",
       " 'RG715',\n",
       " 'FGB37',\n",
       " 'RG715',\n",
       " 'FGB37',\n",
       " 'RG715',\n",
       " 'FGB37',\n",
       " 'RG715',\n",
       " 'FGB37',\n",
       " 'FGB37',\n",
       " 'FGB37',\n",
       " 'RG715',\n",
       " 'RG715',\n",
       " 'FGB37',\n",
       " 'RG715',\n",
       " 'RG715',\n",
       " 'FGB37',\n",
       " 'FGB37',\n",
       " 'FGB37',\n",
       " 'RG715']"
      ]
     },
     "execution_count": 75,
     "metadata": {},
     "output_type": "execute_result"
    }
   ],
   "source": [
    "all_filter1"
   ]
  },
  {
   "cell_type": "markdown",
   "metadata": {
    "deletable": true,
    "editable": true
   },
   "source": [
    "## Build outputfile"
   ]
  },
  {
   "cell_type": "code",
   "execution_count": 76,
   "metadata": {
    "collapsed": false,
    "deletable": true,
    "editable": true
   },
   "outputs": [],
   "source": [
    "col_airmass=np.array(all_airmass)\n",
    "col_number=np.array(indexes_files)\n",
    "col_date=np.array(all_dates)\n",
    "col_filename=np.array(filelist_all)\n",
    "col_exposure=np.array(all_exposures)\n",
    "col_zenith=np.array(all_zenith)\n",
    "col_altitude=np.array(all_alt)\n",
    "col_temperature=np.array(all_temp)\n",
    "col_pressure=np.array(all_press)\n",
    "col_humidity=np.array(all_hum)\n",
    "col_windsp=np.array(all_windsp)\n",
    "col_seeing=np.array(all_seeing)\n",
    "col_filter1=np.array(all_filter1)\n",
    "col_filter2=np.array(all_filter2)\n",
    "col_obj=np.array(all_object)"
   ]
  },
  {
   "cell_type": "code",
   "execution_count": 77,
   "metadata": {
    "collapsed": false,
    "deletable": true,
    "editable": true
   },
   "outputs": [],
   "source": [
    "c1 = fits.Column(name='number', format='J', array=col_number)\n",
    "c2 = fits.Column(name='airmass', format='E', array=col_airmass)\n",
    "c3 = fits.Column(name='date', format='A50', array=col_date)\n",
    "c4 = fits.Column(name='filename', format='A30', array=sorted_filenames)\n",
    "c5 = fits.Column(name='exposure', format='E', array=col_exposure) \n",
    "c6 = fits.Column(name='zenith', format='E', array=col_zenith) \n",
    "#c7 = fits.Column(name='altitude', format='E', array=col_altitude) \n",
    "c8 = fits.Column(name='temperature', format='E', array=col_temperature) \n",
    "c9 = fits.Column(name='pressure', format='E', array=col_pressure) \n",
    "c10 = fits.Column(name='humidity', format='E', array=col_humidity) \n",
    "c11 = fits.Column(name='windspeed', format='E', array=col_windsp) \n",
    "c12 = fits.Column(name='seeing', format='E', array=col_seeing) \n",
    "c13 = fits.Column(name='filter1', format='A20', array=col_filter1)\n",
    "c14 = fits.Column(name='filter2', format='A20', array=col_filter2) \n",
    "c15 = fits.Column(name='object', format='A20', array=col_obj) "
   ]
  },
  {
   "cell_type": "code",
   "execution_count": 78,
   "metadata": {
    "collapsed": true,
    "deletable": true,
    "editable": true
   },
   "outputs": [],
   "source": [
    "tbhdu = fits.BinTableHDU.from_columns([c1, c2, c3, c4, c5,c6,c8,c9,c10,c11,c12,c13,c14,c15])"
   ]
  },
  {
   "cell_type": "code",
   "execution_count": 79,
   "metadata": {
    "collapsed": false,
    "deletable": true,
    "editable": true
   },
   "outputs": [],
   "source": [
    "tbhdu.writeto(logfile,overwrite=True)"
   ]
  },
  {
   "cell_type": "markdown",
   "metadata": {
    "deletable": true,
    "editable": true
   },
   "source": [
    "## Convert into Table\n",
    "---------------------------"
   ]
  },
  {
   "cell_type": "code",
   "execution_count": 80,
   "metadata": {
    "collapsed": false,
    "deletable": true,
    "editable": true
   },
   "outputs": [],
   "source": [
    "thetable= Table(tbhdu.data)"
   ]
  },
  {
   "cell_type": "code",
   "execution_count": 81,
   "metadata": {
    "collapsed": false,
    "deletable": true,
    "editable": true
   },
   "outputs": [
    {
     "data": {
      "text/html": [
       "&lt;Table length=53&gt;\n",
       "<table id=\"table4503091280-56449\" class=\"table-striped table-bordered table-condensed\">\n",
       "<thead><tr><th>idx</th><th>number</th><th>airmass</th><th>date</th><th>filename</th><th>exposure</th><th>zenith</th><th>temperature</th><th>pressure</th><th>humidity</th><th>windspeed</th><th>seeing</th><th>filter1</th><th>filter2</th><th>object</th></tr></thead>\n",
       "<tr><td>0</td><td>155</td><td>1.252</td><td>2017-06-09T06:22:28.198</td><td>../OverScanRemove/trim_images/</td><td>15.0</td><td>37.034</td><td>7.6</td><td>784.0</td><td>32.0</td><td>6.4</td><td>0.962</td><td>RG715</td><td>Ron200</td><td>HD205905</td></tr>\n",
       "<tr><td>1</td><td>159</td><td>1.236</td><td>2017-06-09T06:27:05.648</td><td>../OverScanRemove/trim_images/</td><td>15.0</td><td>36.037</td><td>7.7</td><td>784.0</td><td>43.0</td><td>6.5</td><td>0.962</td><td>RG715</td><td>HoloPhP</td><td>HD205905</td></tr>\n",
       "<tr><td>2</td><td>160</td><td>1.232</td><td>2017-06-09T06:28:15.158</td><td>../OverScanRemove/trim_images/</td><td>30.0</td><td>35.796</td><td>7.7</td><td>784.0</td><td>38.0</td><td>6.5</td><td>0.962</td><td>FGB37</td><td>HoloPhAg</td><td>HD205905</td></tr>\n",
       "<tr><td>3</td><td>161</td><td>1.228</td><td>2017-06-09T06:29:39.401</td><td>../OverScanRemove/trim_images/</td><td>30.0</td><td>35.493</td><td>7.6</td><td>784.0</td><td>33.0</td><td>7.2</td><td>0.962</td><td>RG715</td><td>HoloPhAg</td><td>HD205905</td></tr>\n",
       "<tr><td>4</td><td>162</td><td>1.223</td><td>2017-06-09T06:31:05.855</td><td>../OverScanRemove/trim_images/</td><td>30.0</td><td>35.182</td><td>7.7</td><td>784.0</td><td>32.0</td><td>6.9</td><td>0.962</td><td>FGB37</td><td>HoloAmAg</td><td>HD205905</td></tr>\n",
       "<tr><td>5</td><td>165</td><td>1.21</td><td>2017-06-09T06:35:02.806</td><td>../OverScanRemove/trim_images/</td><td>15.0</td><td>34.323</td><td>7.7</td><td>784.0</td><td>32.0</td><td>5.1</td><td>0.962</td><td>RG715</td><td>Ron200</td><td>HD205905</td></tr>\n",
       "<tr><td>6</td><td>167</td><td>1.203</td><td>2017-06-09T06:37:23.602</td><td>../OverScanRemove/trim_images/</td><td>15.0</td><td>33.816</td><td>7.6</td><td>783.0</td><td>32.0</td><td>11.4</td><td>0.962</td><td>RG715</td><td>Thor300</td><td>HD205905</td></tr>\n",
       "<tr><td>7</td><td>173</td><td>1.181</td><td>2017-06-09T06:45:05.197</td><td>../OverScanRemove/trim_images/</td><td>30.0</td><td>32.163</td><td>7.5</td><td>784.0</td><td>32.0</td><td>11.5</td><td>0.962</td><td>RG715</td><td>HoloAmAg</td><td>HD205905</td></tr>\n",
       "<tr><td>8</td><td>176</td><td>1.17</td><td>2017-06-09T06:48:51.355</td><td>../OverScanRemove/trim_images/</td><td>15.0</td><td>31.34</td><td>7.7</td><td>784.0</td><td>32.0</td><td>11.4</td><td>0.962</td><td>FGB37</td><td>Thor300</td><td>HD205905</td></tr>\n",
       "<tr><td>9</td><td>183</td><td>1.148</td><td>2017-06-09T06:57:44.001</td><td>../OverScanRemove/trim_images/</td><td>30.0</td><td>29.427</td><td>7.7</td><td>784.0</td><td>32.0</td><td>8.3</td><td>0.962</td><td>RG715</td><td>HoloAmAg</td><td>HD205905</td></tr>\n",
       "<tr><td>10</td><td>185</td><td>1.142</td><td>2017-06-09T07:00:17.801</td><td>../OverScanRemove/trim_images/</td><td>15.0</td><td>28.864</td><td>7.8</td><td>784.0</td><td>32.0</td><td>7.9</td><td>0.962</td><td>RG715</td><td>Ron200</td><td>HD205905</td></tr>\n",
       "<tr><td>11</td><td>189</td><td>1.131</td><td>2017-06-09T07:04:55.306</td><td>../OverScanRemove/trim_images/</td><td>15.0</td><td>27.863</td><td>7.7</td><td>784.0</td><td>32.0</td><td>14.8</td><td>0.962</td><td>RG715</td><td>HoloPhP</td><td>HD205905</td></tr>\n",
       "<tr><td>12</td><td>190</td><td>1.128</td><td>2017-06-09T07:06:04.802</td><td>../OverScanRemove/trim_images/</td><td>30.0</td><td>27.62</td><td>7.7</td><td>784.0</td><td>32.0</td><td>15.0</td><td>0.962</td><td>FGB37</td><td>HoloPhAg</td><td>HD205905</td></tr>\n",
       "<tr><td>13</td><td>193</td><td>1.119</td><td>2017-06-09T07:10:20.005</td><td>../OverScanRemove/trim_images/</td><td>30.0</td><td>26.699</td><td>8.1</td><td>784.0</td><td>32.0</td><td>13.4</td><td>0.962</td><td>RG715</td><td>HoloAmAg</td><td>HD205905</td></tr>\n",
       "<tr><td>14</td><td>196</td><td>1.111</td><td>2017-06-09T07:14:05.452</td><td>../OverScanRemove/trim_images/</td><td>15.0</td><td>25.877</td><td>8.3</td><td>783.0</td><td>31.0</td><td>10.0</td><td>0.962</td><td>FGB37</td><td>Thor300</td><td>HD205905</td></tr>\n",
       "<tr><td>15</td><td>197</td><td>1.109</td><td>2017-06-09T07:15:14.802</td><td>../OverScanRemove/trim_images/</td><td>15.0</td><td>25.626</td><td>8.2</td><td>783.0</td><td>31.0</td><td>8.6</td><td>0.962</td><td>RG715</td><td>Thor300</td><td>HD205905</td></tr>\n",
       "<tr><td>16</td><td>198</td><td>1.107</td><td>2017-06-09T07:16:26.257</td><td>../OverScanRemove/trim_images/</td><td>15.0</td><td>25.368</td><td>8.1</td><td>783.0</td><td>37.0</td><td>8.8</td><td>0.962</td><td>FGB37</td><td>HoloPhP</td><td>HD205905</td></tr>\n",
       "<tr><td>17</td><td>209</td><td>1.081</td><td>2017-06-09T07:30:10.209</td><td>../OverScanRemove/trim_images/</td><td>15.0</td><td>22.392</td><td>8.0</td><td>783.0</td><td>32.0</td><td>13.8</td><td>0.962</td><td>RG715</td><td>HoloPhP</td><td>HD205905</td></tr>\n",
       "<tr><td>18</td><td>213</td><td>1.073</td><td>2017-06-09T07:35:35.099</td><td>../OverScanRemove/trim_images/</td><td>30.0</td><td>21.227</td><td>8.0</td><td>783.0</td><td>31.0</td><td>8.5</td><td>0.962</td><td>RG715</td><td>HoloAmAg</td><td>HD205905</td></tr>\n",
       "<tr><td>19</td><td>215</td><td>1.069</td><td>2017-06-09T07:38:08.802</td><td>../OverScanRemove/trim_images/</td><td>15.0</td><td>20.665</td><td>8.0</td><td>783.0</td><td>31.0</td><td>13.6</td><td>0.962</td><td>RG715</td><td>Ron200</td><td>HD205905</td></tr>\n",
       "<tr><td>20</td><td>221</td><td>1.058</td><td>2017-06-09T07:45:20.402</td><td>../OverScanRemove/trim_images/</td><td>30.0</td><td>19.115</td><td>8.3</td><td>783.0</td><td>31.0</td><td>10.7</td><td>0.962</td><td>RG715</td><td>HoloPhAg</td><td>HD205905</td></tr>\n",
       "<tr><td>21</td><td>226</td><td>1.049</td><td>2017-06-09T07:51:57.347</td><td>../OverScanRemove/trim_images/</td><td>15.0</td><td>17.676</td><td>8.3</td><td>783.0</td><td>31.0</td><td>15.4</td><td>0.962</td><td>FGB37</td><td>Thor300</td><td>HD205905</td></tr>\n",
       "<tr><td>22</td><td>231</td><td>1.042</td><td>2017-06-09T07:58:00.099</td><td>../OverScanRemove/trim_images/</td><td>30.0</td><td>16.378</td><td>8.4</td><td>783.0</td><td>30.0</td><td>11.1</td><td>0.962</td><td>RG715</td><td>HoloPhAg</td><td>HD205905</td></tr>\n",
       "<tr><td>23</td><td>242</td><td>1.028</td><td>2017-06-09T08:12:04.800</td><td>../OverScanRemove/trim_images/</td><td>30.0</td><td>13.35</td><td>8.4</td><td>783.0</td><td>30.0</td><td>9.3</td><td>0.962</td><td>FGB37</td><td>HoloAmAg</td><td>HD205905</td></tr>\n",
       "<tr><td>24</td><td>244</td><td>1.025</td><td>2017-06-09T08:14:53.806</td><td>../OverScanRemove/trim_images/</td><td>15.0</td><td>12.739</td><td>8.4</td><td>783.0</td><td>30.0</td><td>11.1</td><td>0.962</td><td>FGB37</td><td>Ron200</td><td>HD205905</td></tr>\n",
       "<tr><td>25</td><td>246</td><td>1.023</td><td>2017-06-09T08:17:11.101</td><td>../OverScanRemove/trim_images/</td><td>15.0</td><td>12.249</td><td>8.4</td><td>783.0</td><td>29.0</td><td>10.1</td><td>0.962</td><td>FGB37</td><td>Thor300</td><td>HD205905</td></tr>\n",
       "<tr><td>26</td><td>247</td><td>1.022</td><td>2017-06-09T08:18:20.508</td><td>../OverScanRemove/trim_images/</td><td>15.0</td><td>12.003</td><td>8.5</td><td>783.0</td><td>29.0</td><td>9.7</td><td>0.962</td><td>RG715</td><td>Thor300</td><td>HD205905</td></tr>\n",
       "<tr><td>27</td><td>251</td><td>1.019</td><td>2017-06-09T08:23:14.599</td><td>../OverScanRemove/trim_images/</td><td>30.0</td><td>10.968</td><td>8.5</td><td>783.0</td><td>29.0</td><td>11.2</td><td>0.962</td><td>RG715</td><td>HoloPhAg</td><td>HD205905</td></tr>\n",
       "<tr><td>28</td><td>254</td><td>1.016</td><td>2017-06-09T08:27:29.996</td><td>../OverScanRemove/trim_images/</td><td>15.0</td><td>10.061</td><td>8.4</td><td>783.0</td><td>28.0</td><td>11.9</td><td>0.962</td><td>FGB37</td><td>Ron200</td><td>HD205905</td></tr>\n",
       "<tr><td>29</td><td>256</td><td>1.014</td><td>2017-06-09T08:29:48.797</td><td>../OverScanRemove/trim_images/</td><td>15.0</td><td>9.574</td><td>8.5</td><td>783.0</td><td>27.0</td><td>11.1</td><td>0.962</td><td>FGB37</td><td>Thor300</td><td>HD205905</td></tr>\n",
       "<tr><td>30</td><td>258</td><td>1.013</td><td>2017-06-09T08:32:07.652</td><td>../OverScanRemove/trim_images/</td><td>15.0</td><td>9.091</td><td>8.5</td><td>783.0</td><td>27.0</td><td>10.7</td><td>0.962</td><td>FGB37</td><td>HoloPhP</td><td>HD205905</td></tr>\n",
       "<tr><td>31</td><td>262</td><td>1.01</td><td>2017-06-09T08:37:15.502</td><td>../OverScanRemove/trim_images/</td><td>30.0</td><td>8.034</td><td>8.5</td><td>783.0</td><td>27.0</td><td>8.3</td><td>0.962</td><td>FGB37</td><td>HoloAmAg</td><td>HD205905</td></tr>\n",
       "<tr><td>32</td><td>263</td><td>1.009</td><td>2017-06-09T08:38:39.700</td><td>../OverScanRemove/trim_images/</td><td>30.0</td><td>7.746</td><td>8.4</td><td>783.0</td><td>27.0</td><td>13.6</td><td>0.962</td><td>RG715</td><td>HoloAmAg</td><td>HD205905</td></tr>\n",
       "<tr><td>33</td><td>274</td><td>1.004</td><td>2017-06-09T08:52:43.902</td><td>../OverScanRemove/trim_images/</td><td>15.0</td><td>4.995</td><td>8.5</td><td>783.0</td><td>28.0</td><td>6.5</td><td>0.962</td><td>FGB37</td><td>Ron200</td><td>HD205905</td></tr>\n",
       "<tr><td>34</td><td>275</td><td>1.003</td><td>2017-06-09T08:53:53.497</td><td>../OverScanRemove/trim_images/</td><td>15.0</td><td>4.783</td><td>8.3</td><td>783.0</td><td>0.0</td><td>6.7</td><td>0.962</td><td>RG715</td><td>Ron200</td><td>HD205905</td></tr>\n",
       "<tr><td>35</td><td>276</td><td>1.003</td><td>2017-06-09T08:55:02.698</td><td>../OverScanRemove/trim_images/</td><td>15.0</td><td>4.581</td><td>8.4</td><td>783.0</td><td>29.0</td><td>9.2</td><td>0.962</td><td>FGB37</td><td>Thor300</td><td>HD205905</td></tr>\n",
       "<tr><td>36</td><td>283</td><td>1.002</td><td>2017-06-09T09:03:56.803</td><td>../OverScanRemove/trim_images/</td><td>30.0</td><td>3.269</td><td>8.3</td><td>783.0</td><td>30.0</td><td>10.7</td><td>0.962</td><td>RG715</td><td>HoloAmAg</td><td>HD205905</td></tr>\n",
       "<tr><td>37</td><td>286</td><td>1.001</td><td>2017-06-09T09:07:42.055</td><td>../OverScanRemove/trim_images/</td><td>15.0</td><td>2.94</td><td>8.2</td><td>783.0</td><td>30.0</td><td>8.9</td><td>0.962</td><td>FGB37</td><td>Thor300</td><td>HD205905</td></tr>\n",
       "<tr><td>38</td><td>289</td><td>1.001</td><td>2017-06-09T09:11:12.409</td><td>../OverScanRemove/trim_images/</td><td>15.0</td><td>2.821</td><td>8.5</td><td>783.0</td><td>28.0</td><td>10.1</td><td>0.962</td><td>RG715</td><td>HoloPhP</td><td>HD205905</td></tr>\n",
       "<tr><td>39</td><td>296</td><td>1.002</td><td>2017-06-09T09:20:23.452</td><td>../OverScanRemove/trim_images/</td><td>15.0</td><td>3.434</td><td>8.6</td><td>783.0</td><td>26.0</td><td>15.5</td><td>0.962</td><td>FGB37</td><td>Thor300</td><td>HD205905</td></tr>\n",
       "<tr><td>40</td><td>297</td><td>1.002</td><td>2017-06-09T09:21:32.901</td><td>../OverScanRemove/trim_images/</td><td>15.0</td><td>3.586</td><td>8.6</td><td>783.0</td><td>26.0</td><td>15.9</td><td>0.962</td><td>RG715</td><td>Thor300</td><td>HD205905</td></tr>\n",
       "<tr><td>41</td><td>298</td><td>1.002</td><td>2017-06-09T09:22:44.455</td><td>../OverScanRemove/trim_images/</td><td>15.0</td><td>3.753</td><td>8.6</td><td>783.0</td><td>26.0</td><td>13.3</td><td>0.962</td><td>FGB37</td><td>HoloPhP</td><td>HD205905</td></tr>\n",
       "<tr><td>42</td><td>302</td><td>1.003</td><td>2017-06-09T09:27:54.253</td><td>../OverScanRemove/trim_images/</td><td>30.0</td><td>4.569</td><td>8.6</td><td>783.0</td><td>0.0</td><td>16.1</td><td>0.962</td><td>FGB37</td><td>HoloAmAg</td><td>HD205905</td></tr>\n",
       "<tr><td>43</td><td>318</td><td>1.011</td><td>2017-06-09T09:48:07.698</td><td>../OverScanRemove/trim_images/</td><td>15.0</td><td>8.531</td><td>8.5</td><td>783.0</td><td>26.0</td><td>9.2</td><td>0.962</td><td>FGB37</td><td>HoloPhP</td><td>HD205905</td></tr>\n",
       "<tr><td>44</td><td>319</td><td>1.012</td><td>2017-06-09T09:49:17.103</td><td>../OverScanRemove/trim_images/</td><td>15.0</td><td>8.771</td><td>8.5</td><td>783.0</td><td>26.0</td><td>11.1</td><td>0.962</td><td>RG715</td><td>HoloPhP</td><td>HD205905</td></tr>\n",
       "<tr><td>45</td><td>321</td><td>1.013</td><td>2017-06-09T09:51:51.054</td><td>../OverScanRemove/trim_images/</td><td>30.0</td><td>9.295</td><td>8.4</td><td>783.0</td><td>26.0</td><td>9.5</td><td>0.962</td><td>RG715</td><td>HoloPhAg</td><td>HD205905</td></tr>\n",
       "<tr><td>46</td><td>322</td><td>1.014</td><td>2017-06-09T09:53:15.508</td><td>../OverScanRemove/trim_images/</td><td>30.0</td><td>9.589</td><td>8.5</td><td>783.0</td><td>26.0</td><td>9.8</td><td>0.962</td><td>FGB37</td><td>HoloAmAg</td><td>HD205905</td></tr>\n",
       "<tr><td>47</td><td>323</td><td>1.015</td><td>2017-06-09T09:54:39.708</td><td>../OverScanRemove/trim_images/</td><td>30.0</td><td>9.884</td><td>8.6</td><td>783.0</td><td>26.0</td><td>12.2</td><td>0.962</td><td>RG715</td><td>HoloAmAg</td><td>HD205905</td></tr>\n",
       "<tr><td>48</td><td>327</td><td>1.018</td><td>2017-06-09T09:59:33.305</td><td>../OverScanRemove/trim_images/</td><td>15.0</td><td>10.929</td><td>8.8</td><td>783.0</td><td>25.0</td><td>11.7</td><td>0.962</td><td>RG715</td><td>Thor300</td><td>HD205905</td></tr>\n",
       "<tr><td>49</td><td>336</td><td>1.028</td><td>2017-06-09T10:11:01.202</td><td>../OverScanRemove/trim_images/</td><td>15.0</td><td>13.374</td><td>8.7</td><td>783.0</td><td>25.0</td><td>8.6</td><td>0.962</td><td>FGB37</td><td>Thor300</td><td>HD205905</td></tr>\n",
       "<tr><td>50</td><td>346</td><td>1.041</td><td>2017-06-09T10:23:40.500</td><td>../OverScanRemove/trim_images/</td><td>15.0</td><td>16.096</td><td>8.6</td><td>783.0</td><td>29.0</td><td>9.1</td><td>0.962</td><td>FGB37</td><td>Thor300</td><td>HD205905</td></tr>\n",
       "<tr><td>51</td><td>348</td><td>1.043</td><td>2017-06-09T10:25:59.349</td><td>../OverScanRemove/trim_images/</td><td>15.0</td><td>16.595</td><td>8.6</td><td>783.0</td><td>30.0</td><td>11.5</td><td>0.962</td><td>FGB37</td><td>HoloPhP</td><td>HD205905</td></tr>\n",
       "<tr><td>52</td><td>357</td><td>1.058</td><td>2017-06-09T10:37:26.304</td><td>../OverScanRemove/trim_images/</td><td>15.0</td><td>19.069</td><td>8.6</td><td>783.0</td><td>0.0</td><td>7.6</td><td>0.962</td><td>RG715</td><td>Thor300</td><td>HD205905</td></tr>\n",
       "</table><style>table.dataTable {clear: both; width: auto !important; margin: 0 !important;}\n",
       ".dataTables_info, .dataTables_length, .dataTables_filter, .dataTables_paginate{\n",
       "display: inline-block; margin-right: 1em; }\n",
       ".paginate_button { margin-right: 5px; }\n",
       "</style>\n",
       "<script>\n",
       "require.config({paths: {\n",
       "    datatables: 'https://cdn.datatables.net/1.10.12/js/jquery.dataTables.min'\n",
       "}});\n",
       "require([\"datatables\"], function(){\n",
       "    console.log(\"$('#table4503091280-56449').dataTable()\");\n",
       "    $('#table4503091280-56449').dataTable({\n",
       "        \"order\": [],\n",
       "        \"iDisplayLength\": 50,\n",
       "        \"aLengthMenu\": [[10, 25, 50, 100, 500, 1000, -1], [10, 25, 50, 100, 500, 1000, 'All']],\n",
       "        \"pagingType\": \"full_numbers\"\n",
       "    });\n",
       "});\n",
       "</script>\n"
      ],
      "text/plain": [
       "<IPython.core.display.HTML object>"
      ]
     },
     "execution_count": 81,
     "metadata": {},
     "output_type": "execute_result"
    }
   ],
   "source": [
    "thetable.show_in_notebook()"
   ]
  },
  {
   "cell_type": "markdown",
   "metadata": {
    "deletable": true,
    "editable": true
   },
   "source": [
    "## Read the logfile into a Table\n",
    "---------------------------------------"
   ]
  },
  {
   "cell_type": "code",
   "execution_count": 82,
   "metadata": {
    "collapsed": false,
    "deletable": true,
    "editable": true
   },
   "outputs": [
    {
     "name": "stdout",
     "output_type": "stream",
     "text": [
      "logbk_HD205905_Jun_08th_ctio08jun2017.fits\n"
     ]
    }
   ],
   "source": [
    "print logfile"
   ]
  },
  {
   "cell_type": "code",
   "execution_count": 83,
   "metadata": {
    "collapsed": true,
    "deletable": true,
    "editable": true
   },
   "outputs": [],
   "source": [
    "t = Table.read(logfile)"
   ]
  },
  {
   "cell_type": "code",
   "execution_count": 84,
   "metadata": {
    "collapsed": false,
    "deletable": true,
    "editable": true
   },
   "outputs": [
    {
     "data": {
      "text/html": [
       "&lt;Table length=53&gt;\n",
       "<table id=\"table4495112528\" class=\"table-striped table-bordered table-condensed\">\n",
       "<thead><tr><th>number</th><th>airmass</th><th>date</th><th>filename</th><th>exposure</th><th>zenith</th><th>temperature</th><th>pressure</th><th>humidity</th><th>windspeed</th><th>seeing</th><th>filter1</th><th>filter2</th><th>object</th></tr></thead>\n",
       "<thead><tr><th>int32</th><th>float32</th><th>str50</th><th>str30</th><th>float32</th><th>float32</th><th>float32</th><th>float32</th><th>float32</th><th>float32</th><th>float32</th><th>str20</th><th>str20</th><th>str20</th></tr></thead>\n",
       "<tr><td>155</td><td>1.252</td><td>2017-06-09T06:22:28.198</td><td>../OverScanRemove/trim_images/</td><td>15.0</td><td>37.034</td><td>7.6</td><td>784.0</td><td>32.0</td><td>6.4</td><td>0.962</td><td>RG715</td><td>Ron200</td><td>HD205905</td></tr>\n",
       "<tr><td>159</td><td>1.236</td><td>2017-06-09T06:27:05.648</td><td>../OverScanRemove/trim_images/</td><td>15.0</td><td>36.037</td><td>7.7</td><td>784.0</td><td>43.0</td><td>6.5</td><td>0.962</td><td>RG715</td><td>HoloPhP</td><td>HD205905</td></tr>\n",
       "<tr><td>160</td><td>1.232</td><td>2017-06-09T06:28:15.158</td><td>../OverScanRemove/trim_images/</td><td>30.0</td><td>35.796</td><td>7.7</td><td>784.0</td><td>38.0</td><td>6.5</td><td>0.962</td><td>FGB37</td><td>HoloPhAg</td><td>HD205905</td></tr>\n",
       "<tr><td>161</td><td>1.228</td><td>2017-06-09T06:29:39.401</td><td>../OverScanRemove/trim_images/</td><td>30.0</td><td>35.493</td><td>7.6</td><td>784.0</td><td>33.0</td><td>7.2</td><td>0.962</td><td>RG715</td><td>HoloPhAg</td><td>HD205905</td></tr>\n",
       "<tr><td>162</td><td>1.223</td><td>2017-06-09T06:31:05.855</td><td>../OverScanRemove/trim_images/</td><td>30.0</td><td>35.182</td><td>7.7</td><td>784.0</td><td>32.0</td><td>6.9</td><td>0.962</td><td>FGB37</td><td>HoloAmAg</td><td>HD205905</td></tr>\n",
       "<tr><td>165</td><td>1.21</td><td>2017-06-09T06:35:02.806</td><td>../OverScanRemove/trim_images/</td><td>15.0</td><td>34.323</td><td>7.7</td><td>784.0</td><td>32.0</td><td>5.1</td><td>0.962</td><td>RG715</td><td>Ron200</td><td>HD205905</td></tr>\n",
       "<tr><td>167</td><td>1.203</td><td>2017-06-09T06:37:23.602</td><td>../OverScanRemove/trim_images/</td><td>15.0</td><td>33.816</td><td>7.6</td><td>783.0</td><td>32.0</td><td>11.4</td><td>0.962</td><td>RG715</td><td>Thor300</td><td>HD205905</td></tr>\n",
       "<tr><td>173</td><td>1.181</td><td>2017-06-09T06:45:05.197</td><td>../OverScanRemove/trim_images/</td><td>30.0</td><td>32.163</td><td>7.5</td><td>784.0</td><td>32.0</td><td>11.5</td><td>0.962</td><td>RG715</td><td>HoloAmAg</td><td>HD205905</td></tr>\n",
       "<tr><td>176</td><td>1.17</td><td>2017-06-09T06:48:51.355</td><td>../OverScanRemove/trim_images/</td><td>15.0</td><td>31.34</td><td>7.7</td><td>784.0</td><td>32.0</td><td>11.4</td><td>0.962</td><td>FGB37</td><td>Thor300</td><td>HD205905</td></tr>\n",
       "<tr><td>183</td><td>1.148</td><td>2017-06-09T06:57:44.001</td><td>../OverScanRemove/trim_images/</td><td>30.0</td><td>29.427</td><td>7.7</td><td>784.0</td><td>32.0</td><td>8.3</td><td>0.962</td><td>RG715</td><td>HoloAmAg</td><td>HD205905</td></tr>\n",
       "<tr><td>...</td><td>...</td><td>...</td><td>...</td><td>...</td><td>...</td><td>...</td><td>...</td><td>...</td><td>...</td><td>...</td><td>...</td><td>...</td><td>...</td></tr>\n",
       "<tr><td>318</td><td>1.011</td><td>2017-06-09T09:48:07.698</td><td>../OverScanRemove/trim_images/</td><td>15.0</td><td>8.531</td><td>8.5</td><td>783.0</td><td>26.0</td><td>9.2</td><td>0.962</td><td>FGB37</td><td>HoloPhP</td><td>HD205905</td></tr>\n",
       "<tr><td>319</td><td>1.012</td><td>2017-06-09T09:49:17.103</td><td>../OverScanRemove/trim_images/</td><td>15.0</td><td>8.771</td><td>8.5</td><td>783.0</td><td>26.0</td><td>11.1</td><td>0.962</td><td>RG715</td><td>HoloPhP</td><td>HD205905</td></tr>\n",
       "<tr><td>321</td><td>1.013</td><td>2017-06-09T09:51:51.054</td><td>../OverScanRemove/trim_images/</td><td>30.0</td><td>9.295</td><td>8.4</td><td>783.0</td><td>26.0</td><td>9.5</td><td>0.962</td><td>RG715</td><td>HoloPhAg</td><td>HD205905</td></tr>\n",
       "<tr><td>322</td><td>1.014</td><td>2017-06-09T09:53:15.508</td><td>../OverScanRemove/trim_images/</td><td>30.0</td><td>9.589</td><td>8.5</td><td>783.0</td><td>26.0</td><td>9.8</td><td>0.962</td><td>FGB37</td><td>HoloAmAg</td><td>HD205905</td></tr>\n",
       "<tr><td>323</td><td>1.015</td><td>2017-06-09T09:54:39.708</td><td>../OverScanRemove/trim_images/</td><td>30.0</td><td>9.884</td><td>8.6</td><td>783.0</td><td>26.0</td><td>12.2</td><td>0.962</td><td>RG715</td><td>HoloAmAg</td><td>HD205905</td></tr>\n",
       "<tr><td>327</td><td>1.018</td><td>2017-06-09T09:59:33.305</td><td>../OverScanRemove/trim_images/</td><td>15.0</td><td>10.929</td><td>8.8</td><td>783.0</td><td>25.0</td><td>11.7</td><td>0.962</td><td>RG715</td><td>Thor300</td><td>HD205905</td></tr>\n",
       "<tr><td>336</td><td>1.028</td><td>2017-06-09T10:11:01.202</td><td>../OverScanRemove/trim_images/</td><td>15.0</td><td>13.374</td><td>8.7</td><td>783.0</td><td>25.0</td><td>8.6</td><td>0.962</td><td>FGB37</td><td>Thor300</td><td>HD205905</td></tr>\n",
       "<tr><td>346</td><td>1.041</td><td>2017-06-09T10:23:40.500</td><td>../OverScanRemove/trim_images/</td><td>15.0</td><td>16.096</td><td>8.6</td><td>783.0</td><td>29.0</td><td>9.1</td><td>0.962</td><td>FGB37</td><td>Thor300</td><td>HD205905</td></tr>\n",
       "<tr><td>348</td><td>1.043</td><td>2017-06-09T10:25:59.349</td><td>../OverScanRemove/trim_images/</td><td>15.0</td><td>16.595</td><td>8.6</td><td>783.0</td><td>30.0</td><td>11.5</td><td>0.962</td><td>FGB37</td><td>HoloPhP</td><td>HD205905</td></tr>\n",
       "<tr><td>357</td><td>1.058</td><td>2017-06-09T10:37:26.304</td><td>../OverScanRemove/trim_images/</td><td>15.0</td><td>19.069</td><td>8.6</td><td>783.0</td><td>0.0</td><td>7.6</td><td>0.962</td><td>RG715</td><td>Thor300</td><td>HD205905</td></tr>\n",
       "</table>"
      ],
      "text/plain": [
       "<Table length=53>\n",
       "number airmass           date          ... filter1 filter2   object \n",
       "int32  float32          str50          ...  str20   str20    str20  \n",
       "------ ------- ----------------------- ... ------- -------- --------\n",
       "   155   1.252 2017-06-09T06:22:28.198 ...   RG715   Ron200 HD205905\n",
       "   159   1.236 2017-06-09T06:27:05.648 ...   RG715  HoloPhP HD205905\n",
       "   160   1.232 2017-06-09T06:28:15.158 ...   FGB37 HoloPhAg HD205905\n",
       "   161   1.228 2017-06-09T06:29:39.401 ...   RG715 HoloPhAg HD205905\n",
       "   162   1.223 2017-06-09T06:31:05.855 ...   FGB37 HoloAmAg HD205905\n",
       "   165    1.21 2017-06-09T06:35:02.806 ...   RG715   Ron200 HD205905\n",
       "   167   1.203 2017-06-09T06:37:23.602 ...   RG715  Thor300 HD205905\n",
       "   173   1.181 2017-06-09T06:45:05.197 ...   RG715 HoloAmAg HD205905\n",
       "   176    1.17 2017-06-09T06:48:51.355 ...   FGB37  Thor300 HD205905\n",
       "   183   1.148 2017-06-09T06:57:44.001 ...   RG715 HoloAmAg HD205905\n",
       "   ...     ...                     ... ...     ...      ...      ...\n",
       "   318   1.011 2017-06-09T09:48:07.698 ...   FGB37  HoloPhP HD205905\n",
       "   319   1.012 2017-06-09T09:49:17.103 ...   RG715  HoloPhP HD205905\n",
       "   321   1.013 2017-06-09T09:51:51.054 ...   RG715 HoloPhAg HD205905\n",
       "   322   1.014 2017-06-09T09:53:15.508 ...   FGB37 HoloAmAg HD205905\n",
       "   323   1.015 2017-06-09T09:54:39.708 ...   RG715 HoloAmAg HD205905\n",
       "   327   1.018 2017-06-09T09:59:33.305 ...   RG715  Thor300 HD205905\n",
       "   336   1.028 2017-06-09T10:11:01.202 ...   FGB37  Thor300 HD205905\n",
       "   346   1.041 2017-06-09T10:23:40.500 ...   FGB37  Thor300 HD205905\n",
       "   348   1.043 2017-06-09T10:25:59.349 ...   FGB37  HoloPhP HD205905\n",
       "   357   1.058 2017-06-09T10:37:26.304 ...   RG715  Thor300 HD205905"
      ]
     },
     "execution_count": 84,
     "metadata": {},
     "output_type": "execute_result"
    }
   ],
   "source": [
    "t"
   ]
  },
  {
   "cell_type": "markdown",
   "metadata": {
    "deletable": true,
    "editable": true
   },
   "source": [
    "## Convert into pandas to plot\n",
    "---------------------------------------"
   ]
  },
  {
   "cell_type": "code",
   "execution_count": 85,
   "metadata": {
    "collapsed": true,
    "deletable": true,
    "editable": true
   },
   "outputs": [],
   "source": [
    "df = t.to_pandas()"
   ]
  },
  {
   "cell_type": "code",
   "execution_count": 86,
   "metadata": {
    "collapsed": false,
    "deletable": true,
    "editable": true
   },
   "outputs": [
    {
     "data": {
      "text/plain": [
       "<matplotlib.axes._subplots.AxesSubplot at 0x10bef8bd0>"
      ]
     },
     "execution_count": 86,
     "metadata": {},
     "output_type": "execute_result"
    },
    {
     "data": {
      "image/png": "[encoded data removed]",
      "text/plain": [
       "<matplotlib.figure.Figure at 0x10bef8610>"
      ]
     },
     "metadata": {},
     "output_type": "display_data"
    }
   ],
   "source": [
    "df.plot('date','airmass',figsize=(20,6),rot=45,grid=True,title='airmass vs date',color='b',marker='o',linewidth=2)\n"
   ]
  },
  {
   "cell_type": "code",
   "execution_count": 87,
   "metadata": {
    "collapsed": false,
    "deletable": true,
    "editable": true
   },
   "outputs": [
    {
     "data": {
      "text/plain": [
       "<matplotlib.axes._subplots.AxesSubplot at 0x10bc6cb90>"
      ]
     },
     "execution_count": 87,
     "metadata": {},
     "output_type": "execute_result"
    },
    {
     "data": {
      "image/png": "[encoded data removed]",
      "text/plain": [
       "<matplotlib.figure.Figure at 0x10bab4d50>"
      ]
     },
     "metadata": {},
     "output_type": "display_data"
    }
   ],
   "source": [
    "df.plot('date','exposure',figsize=(20,6),rot=45,grid=True,title='exposure vs date',color='b',marker='o',linewidth=2)"
   ]
  },
  {
   "cell_type": "markdown",
   "metadata": {
    "collapsed": true,
    "deletable": true,
    "editable": true
   },
   "source": [
    "### Save pandas file\n"
   ]
  },
  {
   "cell_type": "code",
   "execution_count": 88,
   "metadata": {
    "collapsed": true,
    "deletable": true,
    "editable": true
   },
   "outputs": [],
   "source": [
    "df.to_csv(pandaslogfile)"
   ]
  },
  {
   "cell_type": "code",
   "execution_count": null,
   "metadata": {
    "collapsed": true,
    "deletable": true,
    "editable": true
   },
   "outputs": [],
   "source": []
  }
 ],
 "metadata": {
  "anaconda-cloud": {},
  "kernelspec": {
   "display_name": "Python [default]",
   "language": "python",
   "name": "python2"
  },
  "toc": {
   "colors": {
    "hover_highlight": "#DAA520",
    "running_highlight": "#FF0000",
    "selected_highlight": "#FFD700"
   },
   "moveMenuLeft": true,
   "nav_menu": {
    "height": "161px",
    "width": "252px"
   },
   "navigate_menu": true,
   "number_sections": true,
   "sideBar": true,
   "threshold": 4,
   "toc_cell": false,
   "toc_section_display": "block",
   "toc_window_display": false,
   "widenNotebook": false
  }
 },
 "nbformat": 4,
 "nbformat_minor": 0
}
