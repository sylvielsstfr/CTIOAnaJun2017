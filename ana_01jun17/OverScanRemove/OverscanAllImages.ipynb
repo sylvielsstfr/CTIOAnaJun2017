{
 "cells": [
  {
   "cell_type": "markdown",
   "metadata": {
    "deletable": true,
    "editable": true
   },
   "source": [
    "# Does the overscan, subtraction and Triming of the CTIO images\n",
    "==================================================================================================\n",
    "- author : Sylvie Dagoret-Campagne\n",
    "- date   : January 18th 2017\n",
    "- update : May 30th 2017\n",
    "\n",
    "The library ***overscan_subtract_andTrim*** developped by Augustin Guyonnet is used\n",
    "to produce trim images.\n",
    "\n",
    "\n",
    "This has been updated for June 2017"
   ]
  },
  {
   "cell_type": "code",
   "execution_count": 17,
   "metadata": {
    "collapsed": true,
    "deletable": true,
    "editable": true
   },
   "outputs": [],
   "source": [
    "%matplotlib inline\n",
    "import matplotlib.pyplot as plt\n",
    "import numpy as np\n",
    "\n",
    "from astropy.modeling import models\n",
    "from astropy import units as u\n",
    "from astropy import nddata\n",
    "from astropy.io import fits\n",
    "import re\n",
    "import os"
   ]
  },
  {
   "cell_type": "code",
   "execution_count": 18,
   "metadata": {
    "collapsed": true,
    "deletable": true,
    "editable": true
   },
   "outputs": [],
   "source": [
    "# to enlarge the sizes\n",
    "params = {'legend.fontsize': 'x-large',\n",
    "          'figure.figsize': (8, 8),\n",
    "         'axes.labelsize': 'x-large',\n",
    "         'axes.titlesize':'x-large',\n",
    "         'xtick.labelsize':'x-large',\n",
    "         'ytick.labelsize':'x-large'}\n",
    "plt.rcParams.update(params)"
   ]
  },
  {
   "cell_type": "markdown",
   "metadata": {
    "deletable": true,
    "editable": true
   },
   "source": [
    "### Import Augustin Guyonnet overscan & trimming package"
   ]
  },
  {
   "cell_type": "code",
   "execution_count": 19,
   "metadata": {
    "collapsed": true,
    "deletable": true,
    "editable": true
   },
   "outputs": [],
   "source": [
    "import overscan_subtract_andTrim as ovsubtrim"
   ]
  },
  {
   "cell_type": "markdown",
   "metadata": {
    "deletable": true,
    "editable": true
   },
   "source": [
    "### Path for raw images"
   ]
  },
  {
   "cell_type": "code",
   "execution_count": 20,
   "metadata": {
    "collapsed": true,
    "deletable": true,
    "editable": true
   },
   "outputs": [],
   "source": [
    "#rootpath_rawimage='/Users/dagoret-campagnesylvie/MacOsX/LSST/MyWork/GitHub/CTIOData2017/2017_01_17/092_195'\n",
    "#rootpath_rawimage='/Users/dagoret-campagnesylvie/MacOsX/LSST/MyWork/GitHub/CTIODataJune2017/data_29may17'\n",
    "rootpath_rawimage='/Volumes/LACIE SHARE/data_01jun17'"
   ]
  },
  {
   "cell_type": "code",
   "execution_count": 21,
   "metadata": {
    "collapsed": false,
    "deletable": true,
    "editable": true
   },
   "outputs": [],
   "source": [
    "filelist_all=os.listdir(rootpath_rawimage) "
   ]
  },
  {
   "cell_type": "code",
   "execution_count": 22,
   "metadata": {
    "collapsed": false,
    "deletable": true,
    "editable": true
   },
   "outputs": [
    {
     "data": {
      "text/plain": [
       "['20170601_009.fits',\n",
       " 'focus015-0.fits',\n",
       " '20170601_008.fits',\n",
       " 'focus-001.fits',\n",
       " '20170601_019.fits']"
      ]
     },
     "execution_count": 22,
     "metadata": {},
     "output_type": "execute_result"
    }
   ],
   "source": [
    "filelist_all[:5]"
   ]
  },
  {
   "cell_type": "markdown",
   "metadata": {
    "deletable": true,
    "editable": true
   },
   "source": [
    "### select raw images only\n",
    "\n",
    "- filename start with **fileno**\n",
    "- filename stop with **fits** "
   ]
  },
  {
   "cell_type": "code",
   "execution_count": 23,
   "metadata": {
    "collapsed": false,
    "deletable": true,
    "editable": true
   },
   "outputs": [
    {
     "name": "stdout",
     "output_type": "stream",
     "text": [
      "Number of files : 149\n"
     ]
    }
   ],
   "source": [
    "filelist_fitsimages= []\n",
    "for filename in filelist_all:\n",
    "    if re.search('^2017.*.fits$',filename):  #example of filename filter\n",
    "        filelist_fitsimages.append(filename)\n",
    "print 'Number of files :',len(filelist_fitsimages)"
   ]
  },
  {
   "cell_type": "code",
   "execution_count": 24,
   "metadata": {
    "collapsed": false,
    "deletable": true,
    "editable": true
   },
   "outputs": [
    {
     "data": {
      "text/plain": [
       "['20170601_009.fits',\n",
       " '20170601_008.fits',\n",
       " '20170601_019.fits',\n",
       " '20170601_024.fits',\n",
       " '20170601_017.fits']"
      ]
     },
     "execution_count": 24,
     "metadata": {},
     "output_type": "execute_result"
    }
   ],
   "source": [
    "filelist_fitsimages[:5]"
   ]
  },
  {
   "cell_type": "markdown",
   "metadata": {
    "deletable": true,
    "editable": true
   },
   "source": [
    "### outputdir"
   ]
  },
  {
   "cell_type": "code",
   "execution_count": 25,
   "metadata": {
    "collapsed": true,
    "deletable": true,
    "editable": true
   },
   "outputs": [],
   "source": [
    "############################################################################\n",
    "def ensure_dir(f):\n",
    "    d = os.path.dirname(f)\n",
    "    if not os.path.exists(f):\n",
    "        os.makedirs(f)\n",
    "#########################################################################"
   ]
  },
  {
   "cell_type": "code",
   "execution_count": 26,
   "metadata": {
    "collapsed": true,
    "deletable": true,
    "editable": true
   },
   "outputs": [],
   "source": [
    "outputdir=\"./trim_images\""
   ]
  },
  {
   "cell_type": "code",
   "execution_count": 27,
   "metadata": {
    "collapsed": false,
    "deletable": true,
    "editable": true
   },
   "outputs": [],
   "source": [
    "ensure_dir(outputdir)"
   ]
  },
  {
   "cell_type": "markdown",
   "metadata": {
    "deletable": true,
    "editable": true
   },
   "source": [
    "### Do the overscan and the subtraction and the trimming"
   ]
  },
  {
   "cell_type": "code",
   "execution_count": 28,
   "metadata": {
    "collapsed": false,
    "deletable": true,
    "editable": true
   },
   "outputs": [
    {
     "name": "stdout",
     "output_type": "stream",
     "text": [
      "20170601_009.fits\n",
      "20170601_008.fits\n",
      "20170601_019.fits\n",
      "20170601_024.fits\n",
      "20170601_017.fits\n",
      "20170601_015.fits\n",
      "20170601_023.fits\n",
      "20170601_007.fits\n",
      "20170601_021.fits\n",
      "20170601_018.fits\n",
      "20170601_010.fits\n",
      "20170601_022.fits\n",
      "20170601_006.fits\n",
      "20170601_020.fits\n",
      "20170601_016.fits\n",
      "20170601_034.fits\n",
      "20170601_028.fits\n",
      "20170601_026.fits\n",
      "20170601_025.fits\n",
      "20170601_033.fits\n",
      "20170601_035.fits\n",
      "20170601_027.fits\n",
      "20170601_036.fits\n",
      "20170601_029.fits\n",
      "20170601_031.fits\n",
      "20170601_038.fits\n",
      "20170601_039.fits\n",
      "20170601_037.fits\n",
      "20170601_032.fits\n",
      "20170601_030.fits\n",
      "20170601_104.fits\n",
      "20170601_079.fits\n",
      "20170601_100.fits\n",
      "20170601_044.fits\n",
      "20170601_099.fits\n",
      "20170601_090.fits\n",
      "20170601_062.fits\n",
      "20170601_159.fits\n",
      "20170601_146.fits\n",
      "20170601_130.fits\n",
      "20170601_059.fits\n",
      "20170601_118.fits\n",
      "20170601_150.fits\n",
      "20170601_096.fits\n",
      "20170601_126.fits\n",
      "20170601_102.fits\n",
      "20170601_137.fits\n",
      "20170601_152.fits\n",
      "20170601_110.fits\n",
      "20170601_057.fits\n",
      "20170601_153.fits\n",
      "20170601_046.fits\n",
      "20170601_094.fits\n",
      "20170601_075.fits\n",
      "20170601_149.fits\n",
      "20170601_138.fits\n",
      "20170601_124.fits\n",
      "20170601_078.fits\n",
      "20170601_115.fits\n",
      "20170601_117.fits\n",
      "20170601_141.fits\n",
      "20170601_134.fits\n",
      "20170601_066.fits\n",
      "20170601_058.fits\n",
      "20170601_043.fits\n",
      "20170601_077.fits\n",
      "20170601_116.fits\n",
      "20170601_106.fits\n",
      "20170601_111.fits\n",
      "20170601_068.fits\n",
      "20170601_054.fits\n",
      "20170601_093.fits\n",
      "20170601_140.fits\n",
      "20170601_151.fits\n",
      "20170601_052.fits\n",
      "20170601_105.fits\n",
      "20170601_136.fits\n",
      "20170601_072.fits\n",
      "20170601_089.fits\n",
      "20170601_160.fits\n",
      "20170601_049.fits\n",
      "20170601_157.fits\n",
      "20170601_063.fits\n",
      "20170601_132.fits\n",
      "20170601_076.fits\n",
      "20170601_065.fits\n",
      "20170601_112.fits\n",
      "20170601_148.fits\n",
      "20170601_109.fits\n",
      "20170601_050.fits\n",
      "20170601_156.fits\n",
      "20170601_097.fits\n",
      "20170601_107.fits\n",
      "20170601_084.fits\n",
      "20170601_128.fits\n",
      "20170601_060.fits\n",
      "20170601_158.fits\n",
      "20170601_125.fits\n",
      "20170601_127.fits\n",
      "20170601_121.fits\n",
      "20170601_067.fits\n",
      "20170601_092.fits\n",
      "20170601_080.fits\n",
      "20170601_142.fits\n",
      "20170601_155.fits\n",
      "20170601_061.fits\n",
      "20170601_070.fits\n",
      "20170601_051.fits\n",
      "20170601_139.fits\n",
      "20170601_056.fits\n",
      "20170601_069.fits\n",
      "20170601_087.fits\n",
      "20170601_083.fits\n",
      "20170601_095.fits\n",
      "20170601_048.fits\n",
      "20170601_133.fits\n",
      "20170601_053.fits\n",
      "20170601_088.fits\n",
      "20170601_131.fits\n",
      "20170601_074.fits\n",
      "20170601_064.fits\n",
      "20170601_119.fits\n",
      "20170601_145.fits\n",
      "20170601_108.fits\n",
      "20170601_120.fits\n",
      "20170601_045.fits\n",
      "20170601_071.fits\n",
      "20170601_147.fits\n",
      "20170601_085.fits\n",
      "20170601_103.fits\n",
      "20170601_101.fits\n",
      "20170601_129.fits\n",
      "20170601_123.fits\n",
      "20170601_047.fits\n",
      "20170601_154.fits\n",
      "20170601_098.fits\n",
      "20170601_113.fits\n",
      "20170601_091.fits\n",
      "20170601_055.fits\n",
      "20170601_073.fits\n",
      "20170601_143.fits\n",
      "20170601_114.fits\n",
      "20170601_122.fits\n",
      "20170601_135.fits\n",
      "20170601_082.fits\n",
      "20170601_144.fits\n",
      "20170601_086.fits\n",
      "20170601_042.fits\n",
      "20170601_081.fits\n"
     ]
    }
   ],
   "source": [
    "for file in filelist_fitsimages:\n",
    "    print file\n",
    "    fullfilename=os.path.join(rootpath_rawimage,file)\n",
    "    ovsubtrim.Do_overscan_subtract_andTrim(fullfilename)"
   ]
  },
  {
   "cell_type": "markdown",
   "metadata": {
    "collapsed": false,
    "deletable": true,
    "editable": true
   },
   "source": [
    "## Now in shell do mv trim_*.fits ${outputdir}/."
   ]
  },
  {
   "cell_type": "code",
   "execution_count": 29,
   "metadata": {
    "collapsed": false,
    "deletable": true,
    "editable": true
   },
   "outputs": [
    {
     "name": "stdout",
     "output_type": "stream",
     "text": [
      "OverscanAllImages.ipynb       trim_20170601_083.fits\r\n",
      "compute.py                    trim_20170601_084.fits\r\n",
      "header.py                     trim_20170601_085.fits\r\n",
      "overscan_subtract_andTrim.py  trim_20170601_086.fits\r\n",
      "overscan_subtract_andTrim.pyc trim_20170601_087.fits\r\n",
      "skylev.py                     trim_20170601_088.fits\r\n",
      "telinst.py                    trim_20170601_089.fits\r\n",
      "telinst.pyc                   trim_20170601_090.fits\r\n",
      "trim_20170601_006.fits        trim_20170601_091.fits\r\n",
      "trim_20170601_007.fits        trim_20170601_092.fits\r\n",
      "trim_20170601_008.fits        trim_20170601_093.fits\r\n",
      "trim_20170601_009.fits        trim_20170601_094.fits\r\n",
      "trim_20170601_010.fits        trim_20170601_095.fits\r\n",
      "trim_20170601_015.fits        trim_20170601_096.fits\r\n",
      "trim_20170601_016.fits        trim_20170601_097.fits\r\n",
      "trim_20170601_017.fits        trim_20170601_098.fits\r\n",
      "trim_20170601_018.fits        trim_20170601_099.fits\r\n",
      "trim_20170601_019.fits        trim_20170601_100.fits\r\n",
      "trim_20170601_020.fits        trim_20170601_101.fits\r\n",
      "trim_20170601_021.fits        trim_20170601_102.fits\r\n",
      "trim_20170601_022.fits        trim_20170601_103.fits\r\n",
      "trim_20170601_023.fits        trim_20170601_104.fits\r\n",
      "trim_20170601_024.fits        trim_20170601_105.fits\r\n",
      "trim_20170601_025.fits        trim_20170601_106.fits\r\n",
      "trim_20170601_026.fits        trim_20170601_107.fits\r\n",
      "trim_20170601_027.fits        trim_20170601_108.fits\r\n",
      "trim_20170601_028.fits        trim_20170601_109.fits\r\n",
      "trim_20170601_029.fits        trim_20170601_110.fits\r\n",
      "trim_20170601_030.fits        trim_20170601_111.fits\r\n",
      "trim_20170601_031.fits        trim_20170601_112.fits\r\n",
      "trim_20170601_032.fits        trim_20170601_113.fits\r\n",
      "trim_20170601_033.fits        trim_20170601_114.fits\r\n",
      "trim_20170601_034.fits        trim_20170601_115.fits\r\n",
      "trim_20170601_035.fits        trim_20170601_116.fits\r\n",
      "trim_20170601_036.fits        trim_20170601_117.fits\r\n",
      "trim_20170601_037.fits        trim_20170601_118.fits\r\n",
      "trim_20170601_038.fits        trim_20170601_119.fits\r\n",
      "trim_20170601_039.fits        trim_20170601_120.fits\r\n",
      "trim_20170601_042.fits        trim_20170601_121.fits\r\n",
      "trim_20170601_043.fits        trim_20170601_122.fits\r\n",
      "trim_20170601_044.fits        trim_20170601_123.fits\r\n",
      "trim_20170601_045.fits        trim_20170601_124.fits\r\n",
      "trim_20170601_046.fits        trim_20170601_125.fits\r\n",
      "trim_20170601_047.fits        trim_20170601_126.fits\r\n",
      "trim_20170601_048.fits        trim_20170601_127.fits\r\n",
      "trim_20170601_049.fits        trim_20170601_128.fits\r\n",
      "trim_20170601_050.fits        trim_20170601_129.fits\r\n",
      "trim_20170601_051.fits        trim_20170601_130.fits\r\n",
      "trim_20170601_052.fits        trim_20170601_131.fits\r\n",
      "trim_20170601_053.fits        trim_20170601_132.fits\r\n",
      "trim_20170601_054.fits        trim_20170601_133.fits\r\n",
      "trim_20170601_055.fits        trim_20170601_134.fits\r\n",
      "trim_20170601_056.fits        trim_20170601_135.fits\r\n",
      "trim_20170601_057.fits        trim_20170601_136.fits\r\n",
      "trim_20170601_058.fits        trim_20170601_137.fits\r\n",
      "trim_20170601_059.fits        trim_20170601_138.fits\r\n",
      "trim_20170601_060.fits        trim_20170601_139.fits\r\n",
      "trim_20170601_061.fits        trim_20170601_140.fits\r\n",
      "trim_20170601_062.fits        trim_20170601_141.fits\r\n",
      "trim_20170601_063.fits        trim_20170601_142.fits\r\n",
      "trim_20170601_064.fits        trim_20170601_143.fits\r\n",
      "trim_20170601_065.fits        trim_20170601_144.fits\r\n",
      "trim_20170601_066.fits        trim_20170601_145.fits\r\n",
      "trim_20170601_067.fits        trim_20170601_146.fits\r\n",
      "trim_20170601_068.fits        trim_20170601_147.fits\r\n",
      "trim_20170601_069.fits        trim_20170601_148.fits\r\n",
      "trim_20170601_070.fits        trim_20170601_149.fits\r\n",
      "trim_20170601_071.fits        trim_20170601_150.fits\r\n",
      "trim_20170601_072.fits        trim_20170601_151.fits\r\n",
      "trim_20170601_073.fits        trim_20170601_152.fits\r\n",
      "trim_20170601_074.fits        trim_20170601_153.fits\r\n",
      "trim_20170601_075.fits        trim_20170601_154.fits\r\n",
      "trim_20170601_076.fits        trim_20170601_155.fits\r\n",
      "trim_20170601_077.fits        trim_20170601_156.fits\r\n",
      "trim_20170601_078.fits        trim_20170601_157.fits\r\n",
      "trim_20170601_079.fits        trim_20170601_158.fits\r\n",
      "trim_20170601_080.fits        trim_20170601_159.fits\r\n",
      "trim_20170601_081.fits        trim_20170601_160.fits\r\n",
      "trim_20170601_082.fits        \u001b[34mtrim_images\u001b[m\u001b[m\r\n"
     ]
    }
   ],
   "source": [
    "!ls\n"
   ]
  },
  {
   "cell_type": "code",
   "execution_count": 30,
   "metadata": {
    "collapsed": false,
    "deletable": true,
    "editable": true
   },
   "outputs": [],
   "source": [
    "! mv *.fits trim_images/."
   ]
  },
  {
   "cell_type": "code",
   "execution_count": 31,
   "metadata": {
    "collapsed": false,
    "deletable": true,
    "editable": true
   },
   "outputs": [
    {
     "name": "stdout",
     "output_type": "stream",
     "text": [
      "OverscanAllImages.ipynb       skylev.py\r\n",
      "compute.py                    telinst.py\r\n",
      "header.py                     telinst.pyc\r\n",
      "overscan_subtract_andTrim.py  \u001b[34mtrim_images\u001b[m\u001b[m\r\n",
      "overscan_subtract_andTrim.pyc\r\n"
     ]
    }
   ],
   "source": [
    "!ls"
   ]
  },
  {
   "cell_type": "code",
   "execution_count": 32,
   "metadata": {
    "collapsed": false,
    "deletable": true,
    "editable": true
   },
   "outputs": [
    {
     "name": "stdout",
     "output_type": "stream",
     "text": [
      "trim_20170601_006.fits trim_20170601_062.fits trim_20170601_112.fits\r\n",
      "trim_20170601_007.fits trim_20170601_063.fits trim_20170601_113.fits\r\n",
      "trim_20170601_008.fits trim_20170601_064.fits trim_20170601_114.fits\r\n",
      "trim_20170601_009.fits trim_20170601_065.fits trim_20170601_115.fits\r\n",
      "trim_20170601_010.fits trim_20170601_066.fits trim_20170601_116.fits\r\n",
      "trim_20170601_015.fits trim_20170601_067.fits trim_20170601_117.fits\r\n",
      "trim_20170601_016.fits trim_20170601_068.fits trim_20170601_118.fits\r\n",
      "trim_20170601_017.fits trim_20170601_069.fits trim_20170601_119.fits\r\n",
      "trim_20170601_018.fits trim_20170601_070.fits trim_20170601_120.fits\r\n",
      "trim_20170601_019.fits trim_20170601_071.fits trim_20170601_121.fits\r\n",
      "trim_20170601_020.fits trim_20170601_072.fits trim_20170601_122.fits\r\n",
      "trim_20170601_021.fits trim_20170601_073.fits trim_20170601_123.fits\r\n",
      "trim_20170601_022.fits trim_20170601_074.fits trim_20170601_124.fits\r\n",
      "trim_20170601_023.fits trim_20170601_075.fits trim_20170601_125.fits\r\n",
      "trim_20170601_024.fits trim_20170601_076.fits trim_20170601_126.fits\r\n",
      "trim_20170601_025.fits trim_20170601_077.fits trim_20170601_127.fits\r\n",
      "trim_20170601_026.fits trim_20170601_078.fits trim_20170601_128.fits\r\n",
      "trim_20170601_027.fits trim_20170601_079.fits trim_20170601_129.fits\r\n",
      "trim_20170601_028.fits trim_20170601_080.fits trim_20170601_130.fits\r\n",
      "trim_20170601_029.fits trim_20170601_081.fits trim_20170601_131.fits\r\n",
      "trim_20170601_030.fits trim_20170601_082.fits trim_20170601_132.fits\r\n",
      "trim_20170601_031.fits trim_20170601_083.fits trim_20170601_133.fits\r\n",
      "trim_20170601_032.fits trim_20170601_084.fits trim_20170601_134.fits\r\n",
      "trim_20170601_033.fits trim_20170601_085.fits trim_20170601_135.fits\r\n",
      "trim_20170601_034.fits trim_20170601_086.fits trim_20170601_136.fits\r\n",
      "trim_20170601_035.fits trim_20170601_087.fits trim_20170601_137.fits\r\n",
      "trim_20170601_036.fits trim_20170601_088.fits trim_20170601_138.fits\r\n",
      "trim_20170601_037.fits trim_20170601_089.fits trim_20170601_139.fits\r\n",
      "trim_20170601_038.fits trim_20170601_090.fits trim_20170601_140.fits\r\n",
      "trim_20170601_039.fits trim_20170601_091.fits trim_20170601_141.fits\r\n",
      "trim_20170601_042.fits trim_20170601_092.fits trim_20170601_142.fits\r\n",
      "trim_20170601_043.fits trim_20170601_093.fits trim_20170601_143.fits\r\n",
      "trim_20170601_044.fits trim_20170601_094.fits trim_20170601_144.fits\r\n",
      "trim_20170601_045.fits trim_20170601_095.fits trim_20170601_145.fits\r\n",
      "trim_20170601_046.fits trim_20170601_096.fits trim_20170601_146.fits\r\n",
      "trim_20170601_047.fits trim_20170601_097.fits trim_20170601_147.fits\r\n",
      "trim_20170601_048.fits trim_20170601_098.fits trim_20170601_148.fits\r\n",
      "trim_20170601_049.fits trim_20170601_099.fits trim_20170601_149.fits\r\n",
      "trim_20170601_050.fits trim_20170601_100.fits trim_20170601_150.fits\r\n",
      "trim_20170601_051.fits trim_20170601_101.fits trim_20170601_151.fits\r\n",
      "trim_20170601_052.fits trim_20170601_102.fits trim_20170601_152.fits\r\n",
      "trim_20170601_053.fits trim_20170601_103.fits trim_20170601_153.fits\r\n",
      "trim_20170601_054.fits trim_20170601_104.fits trim_20170601_154.fits\r\n",
      "trim_20170601_055.fits trim_20170601_105.fits trim_20170601_155.fits\r\n",
      "trim_20170601_056.fits trim_20170601_106.fits trim_20170601_156.fits\r\n",
      "trim_20170601_057.fits trim_20170601_107.fits trim_20170601_157.fits\r\n",
      "trim_20170601_058.fits trim_20170601_108.fits trim_20170601_158.fits\r\n",
      "trim_20170601_059.fits trim_20170601_109.fits trim_20170601_159.fits\r\n",
      "trim_20170601_060.fits trim_20170601_110.fits trim_20170601_160.fits\r\n",
      "trim_20170601_061.fits trim_20170601_111.fits\r\n"
     ]
    }
   ],
   "source": [
    "!ls trim_images"
   ]
  },
  {
   "cell_type": "code",
   "execution_count": null,
   "metadata": {
    "collapsed": true,
    "deletable": true,
    "editable": true
   },
   "outputs": [],
   "source": []
  }
 ],
 "metadata": {
  "anaconda-cloud": {},
  "kernelspec": {
   "display_name": "Python 2",
   "language": "python",
   "name": "python2"
  },
  "language_info": {
   "codemirror_mode": {
    "name": "ipython",
    "version": 2
   },
   "file_extension": ".py",
   "mimetype": "text/x-python",
   "name": "python",
   "nbconvert_exporter": "python",
   "pygments_lexer": "ipython2",
   "version": "2.7.10"
  },
  "toc": {
   "colors": {
    "hover_highlight": "#DAA520",
    "running_highlight": "#FF0000",
    "selected_highlight": "#FFD700"
   },
   "moveMenuLeft": true,
   "nav_menu": {
    "height": "153px",
    "width": "252px"
   },
   "navigate_menu": true,
   "number_sections": true,
   "sideBar": true,
   "threshold": 4,
   "toc_cell": false,
   "toc_section_display": "block",
   "toc_window_display": false,
   "widenNotebook": false
  }
 },
 "nbformat": 4,
 "nbformat_minor": 0
}
