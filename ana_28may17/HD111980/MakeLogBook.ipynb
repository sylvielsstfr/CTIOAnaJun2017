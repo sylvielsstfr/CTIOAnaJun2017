{
 "cells": [
  {
   "cell_type": "markdown",
   "metadata": {
    "deletable": true,
    "editable": true
   },
   "source": [
    "# Make Logbook of Trim images of CTIO Data\n",
    "==================================================================================================\n",
    "\n",
    "- author : Sylvie Dagoret-Campagne\n",
    "- affiliation : LAL/IN2P3/CNRS, France\n",
    "- date   : Juin 16 2016\n"
   ]
  },
  {
   "cell_type": "code",
   "execution_count": 3,
   "metadata": {
    "collapsed": false
   },
   "outputs": [
    {
     "data": {
      "application/javascript": [
       "var kernel = IPython.notebook.kernel;\n",
       "var thename = window.document.getElementById(\"notebook_name\").innerHTML;\n",
       "var command = \"theNotebook = \" + \"'\"+thename+\"'\";\n",
       "kernel.execute(command);"
      ],
      "text/plain": [
       "<IPython.core.display.Javascript object>"
      ]
     },
     "metadata": {},
     "output_type": "display_data"
    }
   ],
   "source": [
    "%%javascript\n",
    "var kernel = IPython.notebook.kernel;\n",
    "var thename = window.document.getElementById(\"notebook_name\").innerHTML;\n",
    "var command = \"theNotebook = \" + \"'\"+thename+\"'\";\n",
    "kernel.execute(command);"
   ]
  },
  {
   "cell_type": "code",
   "execution_count": 4,
   "metadata": {
    "collapsed": false
   },
   "outputs": [
    {
     "name": "stdout",
     "output_type": "stream",
     "text": [
      "MakeLogBook\n"
     ]
    }
   ],
   "source": [
    "print(theNotebook)"
   ]
  },
  {
   "cell_type": "code",
   "execution_count": 5,
   "metadata": {
    "collapsed": false,
    "deletable": true,
    "editable": true
   },
   "outputs": [],
   "source": [
    "%matplotlib inline\n",
    "import matplotlib.pyplot as plt\n",
    "import numpy as np\n",
    "\n",
    "from astropy.modeling import models\n",
    "from astropy import units as u\n",
    "from astropy import nddata\n",
    "from astropy.io import fits\n",
    "from astropy.table import Table, Column\n",
    "import re\n",
    "import os"
   ]
  },
  {
   "cell_type": "code",
   "execution_count": 6,
   "metadata": {
    "collapsed": true,
    "deletable": true,
    "editable": true
   },
   "outputs": [],
   "source": [
    "import pandas as pd"
   ]
  },
  {
   "cell_type": "code",
   "execution_count": 7,
   "metadata": {
    "collapsed": false,
    "deletable": true,
    "editable": true
   },
   "outputs": [],
   "source": [
    "# to enlarge the sizes\n",
    "params = {'legend.fontsize': 'x-large',\n",
    "          'figure.figsize': (8, 8),\n",
    "         'axes.labelsize': 'x-large',\n",
    "         'axes.titlesize':'x-large',\n",
    "         'xtick.labelsize':'x-large',\n",
    "         'ytick.labelsize':'x-large'}\n",
    "plt.rcParams.update(params)"
   ]
  },
  {
   "cell_type": "code",
   "execution_count": null,
   "metadata": {
    "collapsed": false,
    "deletable": true,
    "editable": true
   },
   "outputs": [],
   "source": []
  },
  {
   "cell_type": "code",
   "execution_count": null,
   "metadata": {
    "collapsed": false,
    "deletable": true,
    "editable": true
   },
   "outputs": [],
   "source": []
  },
  {
   "cell_type": "markdown",
   "metadata": {
    "deletable": true,
    "editable": true
   },
   "source": [
    "## Location of trim images\n",
    "----------------------------------"
   ]
  },
  {
   "cell_type": "code",
   "execution_count": 8,
   "metadata": {
    "collapsed": true,
    "deletable": true,
    "editable": true
   },
   "outputs": [],
   "source": [
    "rootpath_rawimage=\"../OverScanRemove/trim_images\"\n",
    "MIN_IMGNUMBER=16\n",
    "MAX_IMGNUMBER=25\n",
    "object_name='HD11190'\n",
    "SelectTagRe='^trim_20170528_([0-9]+).fits$' # regular expression to select the file\n",
    "SearchTagRe='^trim_20170528_[0-9]+.fits$'\n",
    "NBIMGPERLROW=4"
   ]
  },
  {
   "cell_type": "code",
   "execution_count": null,
   "metadata": {
    "collapsed": false,
    "deletable": true,
    "editable": true
   },
   "outputs": [],
   "source": []
  },
  {
   "cell_type": "code",
   "execution_count": 9,
   "metadata": {
    "collapsed": true,
    "deletable": true,
    "editable": true
   },
   "outputs": [],
   "source": [
    "#rootpath_rawimage=\"/Users/dagoret-campagnesylvie/MacOsX/LSST/MyWork/GitHub/CTIOData2016/November2016/mucol\"\n",
    "#object_name='mucol'\n",
    "infos='ctio28may2017'"
   ]
  },
  {
   "cell_type": "code",
   "execution_count": 10,
   "metadata": {
    "collapsed": false,
    "deletable": true,
    "editable": true
   },
   "outputs": [],
   "source": [
    "logfile='logbk_'+object_name+'_'+infos+'.fits'\n",
    "pandaslogfile='logbk_'+object_name+'_'+infos+'.csv'"
   ]
  },
  {
   "cell_type": "code",
   "execution_count": 11,
   "metadata": {
    "collapsed": true,
    "deletable": true,
    "editable": true
   },
   "outputs": [],
   "source": [
    "dirlist=[]\n",
    "dirlist.append(rootpath_rawimage)\n",
    "dirlist_all=np.array(dirlist)"
   ]
  },
  {
   "cell_type": "code",
   "execution_count": 12,
   "metadata": {
    "collapsed": false,
    "deletable": true,
    "editable": true
   },
   "outputs": [],
   "source": [
    "filelist_all=os.listdir(rootpath_rawimage) "
   ]
  },
  {
   "cell_type": "code",
   "execution_count": 13,
   "metadata": {
    "collapsed": false,
    "deletable": true,
    "editable": true
   },
   "outputs": [
    {
     "data": {
      "text/plain": [
       "['trim_20170528_001.fits',\n",
       " 'trim_20170528_002.fits',\n",
       " 'trim_20170528_004.fits',\n",
       " 'trim_20170528_005.fits',\n",
       " 'trim_20170528_006.fits',\n",
       " 'trim_20170528_007.fits',\n",
       " 'trim_20170528_008.fits',\n",
       " 'trim_20170528_009.fits',\n",
       " 'trim_20170528_010.fits',\n",
       " 'trim_20170528_011.fits',\n",
       " 'trim_20170528_012.fits',\n",
       " 'trim_20170528_013.fits',\n",
       " 'trim_20170528_014.fits',\n",
       " 'trim_20170528_015.fits',\n",
       " 'trim_20170528_016.fits',\n",
       " 'trim_20170528_017.fits',\n",
       " 'trim_20170528_018.fits',\n",
       " 'trim_20170528_019.fits',\n",
       " 'trim_20170528_020.fits',\n",
       " 'trim_20170528_021.fits',\n",
       " 'trim_20170528_022.fits',\n",
       " 'trim_20170528_023.fits',\n",
       " 'trim_20170528_024.fits',\n",
       " 'trim_20170528_025.fits',\n",
       " 'trim_20170528_026.fits',\n",
       " 'trim_20170528_027.fits',\n",
       " 'trim_20170528_029.fits',\n",
       " 'trim_20170528_030.fits',\n",
       " 'trim_20170528_031.fits',\n",
       " 'trim_20170528_032.fits',\n",
       " 'trim_20170528_033.fits',\n",
       " 'trim_20170528_034.fits',\n",
       " 'trim_20170528_035.fits',\n",
       " 'trim_20170528_036.fits',\n",
       " 'trim_20170528_037.fits',\n",
       " 'trim_20170528_038.fits',\n",
       " 'trim_20170528_039.fits',\n",
       " 'trim_20170528_040.fits',\n",
       " 'trim_20170528_041.fits',\n",
       " 'trim_20170528_042.fits',\n",
       " 'trim_20170528_043.fits',\n",
       " 'trim_20170528_044.fits',\n",
       " 'trim_20170528_045.fits',\n",
       " 'trim_20170528_046.fits',\n",
       " 'trim_20170528_047.fits',\n",
       " 'trim_20170528_048.fits',\n",
       " 'trim_20170528_049.fits',\n",
       " 'trim_20170528_050.fits',\n",
       " 'trim_20170528_051.fits',\n",
       " 'trim_20170528_052.fits',\n",
       " 'trim_20170528_053.fits',\n",
       " 'trim_20170528_054.fits',\n",
       " 'trim_20170528_055.fits',\n",
       " 'trim_20170528_056.fits',\n",
       " 'trim_20170528_057.fits',\n",
       " 'trim_20170528_058.fits',\n",
       " 'trim_20170528_059.fits',\n",
       " 'trim_20170528_060.fits',\n",
       " 'trim_20170528_061.fits',\n",
       " 'trim_20170528_062.fits',\n",
       " 'trim_20170528_063.fits',\n",
       " 'trim_20170528_064.fits',\n",
       " 'trim_20170528_065.fits',\n",
       " 'trim_20170528_066.fits',\n",
       " 'trim_20170528_067.fits',\n",
       " 'trim_20170528_068.fits',\n",
       " 'trim_20170528_069.fits',\n",
       " 'trim_20170528_070.fits',\n",
       " 'trim_20170528_071.fits',\n",
       " 'trim_20170528_072.fits',\n",
       " 'trim_20170528_073.fits',\n",
       " 'trim_20170528_074.fits',\n",
       " 'trim_20170528_075.fits',\n",
       " 'trim_20170528_076.fits',\n",
       " 'trim_20170528_077.fits',\n",
       " 'trim_20170528_078.fits',\n",
       " 'trim_20170528_079.fits',\n",
       " 'trim_20170528_080.fits',\n",
       " 'trim_20170528_081.fits',\n",
       " 'trim_20170528_082.fits',\n",
       " 'trim_20170528_083.fits',\n",
       " 'trim_20170528_084.fits',\n",
       " 'trim_20170528_085.fits',\n",
       " 'trim_20170528_086.fits',\n",
       " 'trim_20170528_087.fits',\n",
       " 'trim_20170528_088.fits',\n",
       " 'trim_20170528_089.fits',\n",
       " 'trim_20170528_090.fits',\n",
       " 'trim_20170528_091.fits',\n",
       " 'trim_20170528_092.fits',\n",
       " 'trim_20170528_093.fits',\n",
       " 'trim_20170528_094.fits',\n",
       " 'trim_20170528_095.fits',\n",
       " 'trim_20170528_096.fits',\n",
       " 'trim_20170528_097.fits',\n",
       " 'trim_20170528_098.fits',\n",
       " 'trim_20170528_099.fits',\n",
       " 'trim_20170528_100.fits',\n",
       " 'trim_20170528_101.fits',\n",
       " 'trim_20170528_102.fits',\n",
       " 'trim_20170528_103.fits',\n",
       " 'trim_20170528_104.fits',\n",
       " 'trim_20170528_105.fits',\n",
       " 'trim_20170528_106.fits',\n",
       " 'trim_20170528_107.fits',\n",
       " 'trim_20170528_108.fits',\n",
       " 'trim_20170528_109.fits',\n",
       " 'trim_20170528_110.fits',\n",
       " 'trim_20170528_111.fits',\n",
       " 'trim_20170528_112.fits',\n",
       " 'trim_20170528_113.fits',\n",
       " 'trim_20170528_114.fits',\n",
       " 'trim_20170528_115.fits',\n",
       " 'trim_20170528_116.fits',\n",
       " 'trim_20170528_117.fits',\n",
       " 'trim_20170528_118.fits',\n",
       " 'trim_20170528_119.fits',\n",
       " 'trim_20170528_120.fits',\n",
       " 'trim_20170528_121.fits',\n",
       " 'trim_20170528_122.fits',\n",
       " 'trim_20170528_123.fits',\n",
       " 'trim_20170528_124.fits',\n",
       " 'trim_20170528_125.fits',\n",
       " 'trim_20170528_126.fits',\n",
       " 'trim_20170528_127.fits',\n",
       " 'trim_20170528_128.fits',\n",
       " 'trim_20170528_129.fits',\n",
       " 'trim_20170528_130.fits',\n",
       " 'trim_20170528_131.fits',\n",
       " 'trim_20170528_132.fits',\n",
       " 'trim_20170528_133.fits',\n",
       " 'trim_20170528_134.fits',\n",
       " 'trim_20170528_135.fits',\n",
       " 'trim_20170528_136.fits',\n",
       " 'trim_20170528_137.fits',\n",
       " 'trim_20170528_138.fits',\n",
       " 'trim_20170528_139.fits',\n",
       " 'trim_20170528_140.fits',\n",
       " 'trim_20170528_141.fits',\n",
       " 'trim_20170528_142.fits',\n",
       " 'trim_20170528_143.fits',\n",
       " 'trim_20170528_144.fits',\n",
       " 'trim_20170528_145.fits',\n",
       " 'trim_20170528_146.fits',\n",
       " 'trim_20170528_147.fits',\n",
       " 'trim_20170528_148.fits',\n",
       " 'trim_20170528_149.fits',\n",
       " 'trim_20170528_150.fits',\n",
       " 'trim_20170528_151.fits',\n",
       " 'trim_20170528_152.fits',\n",
       " 'trim_20170528_153.fits',\n",
       " 'trim_20170528_154.fits',\n",
       " 'trim_20170528_155.fits',\n",
       " 'trim_20170528_156.fits',\n",
       " 'trim_20170528_157.fits',\n",
       " 'trim_20170528_158.fits',\n",
       " 'trim_20170528_159.fits',\n",
       " 'trim_20170528_160.fits',\n",
       " 'trim_20170528_161.fits',\n",
       " 'trim_20170528_162.fits',\n",
       " 'trim_20170528_163.fits',\n",
       " 'trim_20170528_164.fits',\n",
       " 'trim_20170528_165.fits',\n",
       " 'trim_20170528_166.fits',\n",
       " 'trim_20170528_167.fits',\n",
       " 'trim_20170528_168.fits',\n",
       " 'trim_20170528_169.fits',\n",
       " 'trim_20170528_170.fits']"
      ]
     },
     "execution_count": 13,
     "metadata": {},
     "output_type": "execute_result"
    }
   ],
   "source": [
    "#dirlist_all.remove('.DS_Store') # reove that file in a mAC\n",
    "filelist_all"
   ]
  },
  {
   "cell_type": "code",
   "execution_count": 14,
   "metadata": {
    "collapsed": true,
    "deletable": true,
    "editable": true
   },
   "outputs": [],
   "source": [
    "indexes_files= [] # global list\n",
    "filelist_fitsimages= []  # global list"
   ]
  },
  {
   "cell_type": "code",
   "execution_count": 15,
   "metadata": {
    "collapsed": false,
    "deletable": true,
    "editable": true
   },
   "outputs": [],
   "source": [
    "def MakeFileList():\n",
    "    \"\"\"\n",
    "    MakeFileList : Make The List of files to open\n",
    "    =============\n",
    "    \n",
    "    - we select the files which are of interest.\n",
    "    - In particular select the number range\n",
    "    \n",
    "    \"\"\"\n",
    "    count=0\n",
    "    \n",
    "    for dir in dirlist_all: # loop on directories, one per image   (if necessary)    \n",
    "            dir_leaf= dir # build the name of leaf directory\n",
    "            listfiles=os.listdir(dir_leaf) \n",
    "            for filename in listfiles:\n",
    "                if re.search(SearchTagRe,filename):  #example of filename filter\n",
    "                    str_index=re.findall(SelectTagRe,filename)\n",
    "                    count=count+1\n",
    "                    index=int(str_index[0])\n",
    "                    if index >= MIN_IMGNUMBER and index <= MAX_IMGNUMBER: \n",
    "                        indexes_files.append(index)         \n",
    "                        shortfilename=dir_leaf+'/'+filename\n",
    "                        filelist_fitsimages.append(shortfilename)\n",
    "                    \n",
    "    return"
   ]
  },
  {
   "cell_type": "code",
   "execution_count": 16,
   "metadata": {
    "collapsed": false,
    "deletable": true,
    "editable": true
   },
   "outputs": [],
   "source": [
    "MakeFileList()   # Make the list"
   ]
  },
  {
   "cell_type": "code",
   "execution_count": 17,
   "metadata": {
    "collapsed": true,
    "deletable": true,
    "editable": true
   },
   "outputs": [],
   "source": [
    "indexes_files=np.array(indexes_files)\n",
    "filelist_fitsimages=np.array(filelist_fitsimages)"
   ]
  },
  {
   "cell_type": "code",
   "execution_count": 18,
   "metadata": {
    "collapsed": false,
    "deletable": true,
    "editable": true
   },
   "outputs": [
    {
     "data": {
      "text/plain": [
       "array([16, 17, 18, 19, 20, 21, 22, 23, 24, 25])"
      ]
     },
     "execution_count": 18,
     "metadata": {},
     "output_type": "execute_result"
    }
   ],
   "source": [
    "indexes_files"
   ]
  },
  {
   "cell_type": "code",
   "execution_count": 19,
   "metadata": {
    "collapsed": true,
    "deletable": true,
    "editable": true
   },
   "outputs": [],
   "source": [
    "sorted_indexes=np.argsort(indexes_files) # sort the file indexes"
   ]
  },
  {
   "cell_type": "code",
   "execution_count": 20,
   "metadata": {
    "collapsed": true,
    "deletable": true,
    "editable": true
   },
   "outputs": [],
   "source": [
    "sorted_files=filelist_fitsimages[sorted_indexes]"
   ]
  },
  {
   "cell_type": "code",
   "execution_count": 21,
   "metadata": {
    "collapsed": true,
    "deletable": true,
    "editable": true
   },
   "outputs": [],
   "source": [
    "sorted_numbers=indexes_files[sorted_indexes]"
   ]
  },
  {
   "cell_type": "code",
   "execution_count": 22,
   "metadata": {
    "collapsed": true,
    "deletable": true,
    "editable": true
   },
   "outputs": [],
   "source": [
    "sorted_filenames=[]\n",
    "for file in sorted_files:\n",
    "    #fullfilename=os.path.join(rootpath_rawimage,file)\n",
    "    fullfilename=file\n",
    "    sorted_filenames.append(fullfilename)"
   ]
  },
  {
   "cell_type": "code",
   "execution_count": 23,
   "metadata": {
    "collapsed": true,
    "deletable": true,
    "editable": true
   },
   "outputs": [],
   "source": [
    "sorted_filenames=np.array(sorted_filenames)"
   ]
  },
  {
   "cell_type": "code",
   "execution_count": 24,
   "metadata": {
    "collapsed": false,
    "deletable": true,
    "editable": true
   },
   "outputs": [
    {
     "data": {
      "text/plain": [
       "array(['../OverScanRemove/trim_images/trim_20170528_016.fits',\n",
       "       '../OverScanRemove/trim_images/trim_20170528_017.fits',\n",
       "       '../OverScanRemove/trim_images/trim_20170528_018.fits',\n",
       "       '../OverScanRemove/trim_images/trim_20170528_019.fits',\n",
       "       '../OverScanRemove/trim_images/trim_20170528_020.fits',\n",
       "       '../OverScanRemove/trim_images/trim_20170528_021.fits',\n",
       "       '../OverScanRemove/trim_images/trim_20170528_022.fits',\n",
       "       '../OverScanRemove/trim_images/trim_20170528_023.fits',\n",
       "       '../OverScanRemove/trim_images/trim_20170528_024.fits',\n",
       "       '../OverScanRemove/trim_images/trim_20170528_025.fits'], \n",
       "      dtype='|S52')"
      ]
     },
     "execution_count": 24,
     "metadata": {},
     "output_type": "execute_result"
    }
   ],
   "source": [
    "sorted_filenames"
   ]
  },
  {
   "cell_type": "code",
   "execution_count": 25,
   "metadata": {
    "collapsed": false,
    "deletable": true,
    "editable": true
   },
   "outputs": [],
   "source": [
    "from astropy.io import fits\n",
    "with fits.open(sorted_filenames[0]) as pf:\n",
    "    (pf[0].header)"
   ]
  },
  {
   "cell_type": "code",
   "execution_count": 26,
   "metadata": {
    "collapsed": false,
    "deletable": true,
    "editable": true
   },
   "outputs": [
    {
     "data": {
      "text/plain": [
       "SIMPLE  =                    T / conforms to FITS standard                      \n",
       "BITPIX  =                  -64 / array data type                                \n",
       "NAXIS   =                    2 / number of array dimensions                     \n",
       "NAXIS1  =                 2048                                                  \n",
       "NAXIS2  =                 2048                                                  \n",
       "COMMENT   FITS (Flexible Image Transport System) format is defined in 'Astronomy\n",
       "COMMENT   and Astrophysics', volume 376, page 359; bibcode: 2001A&A...376..359H \n",
       "OBJECT  = 'science '           / Name of object observed                        \n",
       "OBSERVER= 'moniez  '           / observer                                       \n",
       "PROPID  = '2016B-0012'         / Proposal ID                                    \n",
       "RECID   = 'ct36.20170528.235855' / NOAO Archibe record ID                       \n",
       "PROPID  = '2016B-0012'         / Proposal ID                                    \n",
       "IMAGETYP= 'object  '           / Type of picture (object, dark, comp, etc)      \n",
       "CCDSUM  = '1 1     '           / On chip summation (X, Y)                       \n",
       "XSTART  =                    1 / start of roi in X                              \n",
       "YSTART  =                    1 / start of roi in Y                              \n",
       "XLENGTH =                 2048 / length of roi in X                             \n",
       "YLENGTH =                 2048 / length of roi in Y                             \n",
       "UTSHUT  = '2017-05-28T23:58:55.250' / UT of shutter open                        \n",
       "UT      = '23:58:55.250'       / UT of TCS coordinates                          \n",
       "DATE-OBS= '2017-05-28T23:58:55.250' / date of observations start                \n",
       "DATE    = '2017-05-28T23:59:27' / file creation date (YYYY-MM-DDThh:mm:ss UT)   \n",
       "NAMPSYX = '2 2     '           / Num amps in y and x (eg. '2 2=quad')           \n",
       "AMPLIST = '11 12 21 22'        / Readout order in y,x                           \n",
       "GTRON11 =                  12. / (e-) predicted read noise, lower left          \n",
       "GTRON12 =                  12. / (e-) predicted read noise, lower right         \n",
       "GTRON21 =                  12. / (e-) predicted read noise, upper left          \n",
       "GTRON22 =                  12. / (e-) predicted read noise, upper right         \n",
       "GTGAIN11=                   3. / (e-/ADU) predicted gain, lower left            \n",
       "GTGAIN12=                   3. / (e-/ADU) predicted gain, lower right           \n",
       "GTGAIN21=                   3. / (e-/ADU) predicted gain, upper left            \n",
       "GTGAIN22=                   3. / (e-/ADU) predicted gain, upper right           \n",
       "ASEC11  = '[1:1084,1:1024]'    / amplifier section Amp11(LL) detID 1            \n",
       "BSEC11  = '[1045:1084,1:1024]' / bias section Amp11(LL) detID 1                 \n",
       "CSEC11  = '[1:1034,1:1024]'    / section in full ccd for DSEC Amp11(LL) detID 1 \n",
       "DSEC11  = '[1:1034,1:1024]'    / image section in raw frame Amp11(LL) detID 1   \n",
       "TSEC11  = '[11:1034,1:1024]'   / trim section Amp11(LL) detID 1                 \n",
       "ABSEC11 = '[1045:1084,1:1024]' / overscan inside amp                            \n",
       "ADSEC11 = '[1:1024,1:1024]'    / detector section only                          \n",
       "ASEC12  = '[1085:2168,1:1024]' / amplifier section Amp12(LR) detID 1            \n",
       "BSEC12  = '[1085:1124,1:1024]' / bias section Amp12(LR) detID 1                 \n",
       "CSEC12  = '[1035:2068,1:1024]' / section in full ccd for DSEC Amp12(LR) detID 1 \n",
       "DSEC12  = '[1135:2168,1:1024]' / image section in raw frame Amp12(LR) detID 1   \n",
       "TSEC12  = '[1135:2158,1:1024]' / trim section Amp12(LR) detID 1                 \n",
       "ABSEC12 = '[1:40,1:1024]'      / overscan inside amp                            \n",
       "ADSEC12 = '[1025:2048,1:1024]' / detector section only                          \n",
       "ASEC21  = '[1:1084,1025:2048]' / amplifier section Amp21(UL) detID 1            \n",
       "BSEC21  = '[1045:1084,1025:2048]' / bias section Amp21(UL) detID 1              \n",
       "CSEC21  = '[1:1034,1025:2048]' / section in full ccd for DSEC Amp21(UL) detID 1 \n",
       "DSEC21  = '[1:1034,1025:2048]' / image section in raw frame Amp21(UL) detID 1   \n",
       "TSEC21  = '[11:1034,1025:2048]' / trim section Amp21(UL) detID 1                \n",
       "ABSEC21 = '[1045:1084,1:1024]' / overscan inside amp                            \n",
       "ADSEC21 = '[1:1024,1025:2048]' / detector section only                          \n",
       "ASEC22  = '[1085:2168,1025:2048]' / amplifier section Amp22(UR) detID 1         \n",
       "BSEC22  = '[1085:1124,1025:2048]' / bias section Amp22(UR) detID 1              \n",
       "CSEC22  = '[1035:2068,1025:2048]' / section in full ccd for DSEC Amp22(UR) detID\n",
       "DSEC22  = '[1135:2168,1025:2048]' / image section in raw frame Amp22(UR) detID 1\n",
       "TSEC22  = '[1135:2158,1025:2048]' / trim section Amp22(UR) detID 1              \n",
       "ABSEC22 = '[1:40,1:1024]'      / overscan inside amp                            \n",
       "ADSEC22 = '[1025:2048,1025:2048]' / detector section only                       \n",
       "ROISEC00= '[1:2048,1:2048]'    / roi section                                    \n",
       "DETECTOR= 'Tek2K_3 '           / Detector Identifier                            \n",
       "FPA     = 'SITE2K  '           / focal plan array                               \n",
       "REXPTIME=                  30. / requested exposure time in secs                \n",
       "EXPTIME =                  30. / Exposure time in secs                          \n",
       "DARKTIME=                  30. / Total elapsed time in secs                     \n",
       "NIMAGES =                    1 / number of images requested in sequence         \n",
       "PIXELT  = '25000.000000'       / (ns) unbinned pixel read time                  \n",
       "DHEINF  = 'MNSN torrent hardware' / controller info                             \n",
       "DHEFIRM = '/home/observer/panview/fpas/_biw/config/DETECTOR/site2k_sequencer.uc'\n",
       "PIXTIME = '25      '           / pixel time (usecs)                             \n",
       "POWSTAT = '3.000   '           / power supplies status (3=OK)                   \n",
       "CCDSETP = '163.000 '           / ccd temperature setpoint                       \n",
       "CCDTEMP = '162.375 '           / CCD temperature                                \n",
       "NECKTEMP= '134.690 '           / dewar NECK temperature                         \n",
       "HEATERSP= '30.709  '           / Heater power percent.                          \n",
       "VDDA    = '23.989  '           / bias output amplifier A                        \n",
       "VDDB    = '23.944  '           / bias output amplifier B                        \n",
       "VDDC    = '24.348  '           / bias output amplifier C                        \n",
       "VDDD    = '24.184  '           / bias output amplifier D                        \n",
       "VRDA    = '13.780  '           / Reset Drain amplifier A                        \n",
       "VRDB    = '13.825  '           / Reset Drain amplifier B                        \n",
       "VRDC    = '13.990  '           / Reset Drain amplifier C                        \n",
       "VRDD    = '13.975  '           / Reset Drain amplifier D                        \n",
       "LGA     = '-2.032  '           / Reset Drain amplifier A                        \n",
       "LGB     = '-2.102  '           / Reset Drain amplifier B                        \n",
       "LGC     = '-1.992  '           / Reset Drain amplifier C                        \n",
       "LGD     = '-2.012  '           / Reset Drain amplifier D                        \n",
       "SLOT00  = 'LCB 0x188538 2.240000' / dhe board: <type> <serial> <firmware>       \n",
       "SLOT01  = 'PSM 0x45834F 2.210000' / dhe board: <type> <serial> <firmware>       \n",
       "SLOT02  = 'CFG 0xNONE 2.240000' / dhe board: <type> <serial> <firmware>         \n",
       "SLOT03  = 'PIX 0xNONE 2.210000' / dhe board: <type> <serial> <firmware>         \n",
       "SLOT04  = 'CCDAFE 0x188167 18805C 2.210000' / dhe board: <type> <serial> <firmwa\n",
       "SLOT07  = 'CB 0xNONE 2.240000' / dhe board: <type> <serial> <firmware>          \n",
       "SLOT02  = 'TSM 0x3C6784 NONE'  / dhe board: <type> <serial> <firmware>          \n",
       "VANPLUS =             10.54422 / analog voltage plus                            \n",
       "VANMINU =             -10.5137 / analog voltage minus                           \n",
       "FPGATEMP=             30.04926 / torrent fpga temperature                       \n",
       "ID      = '[ct36.20170528.235855]' / ID                                         \n",
       "OBSERVAT= 'CTIO    '           / Origin of data                                 \n",
       "TELESCOP= 'CTIO 0.9 meter telescope' / Specific system                          \n",
       "TELID   = 'ct36    '           / CTIO 0.9 meter telescope                       \n",
       "TCS-TIME= '2017-05-28T23:58:55.96' / date of observation start                  \n",
       "UT      = '23:58:55.96'        / UT of TCS coords                               \n",
       "RA      = '12:54:10.66'        / ra                                             \n",
       "DEC     = '-18:37:0.97'        / dec                                            \n",
       "EPOCH   =               2017.5 / epoch                                          \n",
       "ZD      =               19.924 / zenith distance                                \n",
       "HA      = '-01:11:37.90'       / hour angle                                     \n",
       "ST      = '11:42:32.77'        / sidereal time                                  \n",
       "AIRMASS =                1.064 / airmass                                        \n",
       "ALT     = '68.75   '           / altitud                                        \n",
       "TELFOCUS=               12250. / telescope focus                                \n",
       "WEATIME = '2017-05-28 23:58:01' / weather timestamp                             \n",
       "OUTTEMP =                  4.5 / outside temp (C)                               \n",
       "OUTHUM  =                   54 / outside humidity (%)                           \n",
       "OUTPRESS=                 778. / outside pressure (hPa)                         \n",
       "WNDSPEED=                  3.2 / wind speed (mph)                               \n",
       "WNDDIR  =                  359 / wind dir (degrees)                             \n",
       "SEETIME = '2017-05-28 23:58:21' / seeing timestamp                              \n",
       "SEEING  =                 1.47 / seeing                                         \n",
       "SAIRMASS=                1.189 / seeing airmass                                 \n",
       "PANID   = '_biw    '           / PAN identification                             \n",
       "COMMENT image                                                                   \n",
       "COMMENT Image is trimmed                                                        \n",
       "FILTER1 = 'dia     '           / Filter in wheel 1                              \n",
       "FNAME1  = 'DIAFRAGM'           / Full name of filter in wheel 1                 \n",
       "FILTER2 = 'HoloAmAg'           / Filter in wheel 2                              \n",
       "FNAME2  = 'Holo_AmpAg'         / Full name of filter in wheel 2                 \n",
       "FILTERS = 'dia HoloAmAg'       / Filter positions                               \n",
       "INSTRUME= 'cfccd   '           / cassegrain direct imager                       \n",
       "XPIXSIZE=                0.401 / Pixel size in X (arcsecs/pix)                  \n",
       "YPIXSIZE=                0.401 / Pixel size in Y (arcsecs/pix)                  \n",
       "TEST    =                   2. / my keyword                                     "
      ]
     },
     "execution_count": 26,
     "metadata": {},
     "output_type": "execute_result"
    }
   ],
   "source": [
    "pf[0].header"
   ]
  },
  {
   "cell_type": "markdown",
   "metadata": {
    "collapsed": false,
    "deletable": true,
    "editable": true
   },
   "source": [
    "### Build tables for output file"
   ]
  },
  {
   "cell_type": "code",
   "execution_count": null,
   "metadata": {
    "collapsed": false,
    "deletable": true,
    "editable": true
   },
   "outputs": [],
   "source": []
  },
  {
   "cell_type": "code",
   "execution_count": 27,
   "metadata": {
    "collapsed": false,
    "deletable": true,
    "editable": true
   },
   "outputs": [
    {
     "name": "stdout",
     "output_type": "stream",
     "text": [
      "../OverScanRemove/trim_images/trim_20170528_016.fits\n",
      "../OverScanRemove/trim_images/trim_20170528_017.fits\n",
      "../OverScanRemove/trim_images/trim_20170528_018.fits\n",
      "../OverScanRemove/trim_images/trim_20170528_019.fits\n",
      "../OverScanRemove/trim_images/trim_20170528_020.fits\n",
      "../OverScanRemove/trim_images/trim_20170528_021.fits\n",
      "../OverScanRemove/trim_images/trim_20170528_022.fits\n",
      "../OverScanRemove/trim_images/trim_20170528_023.fits\n",
      "../OverScanRemove/trim_images/trim_20170528_024.fits\n",
      "../OverScanRemove/trim_images/trim_20170528_025.fits\n"
     ]
    }
   ],
   "source": [
    "all_headers = []\n",
    "all_dates = []\n",
    "all_airmass = []\n",
    "all_exposures = []\n",
    "all_ut = []\n",
    "all_ra = []\n",
    "all_dec = []\n",
    "all_epoch = []\n",
    "all_zenith = []\n",
    "all_ha = []\n",
    "all_st = []\n",
    "all_alt = []\n",
    "all_focus = []\n",
    "all_temp = []\n",
    "all_press = []\n",
    "all_hum = []\n",
    "all_windsp = []\n",
    "all_seeing = []\n",
    "all_seeingam = []\n",
    "all_filter1 = []\n",
    "all_filter2 = []\n",
    "\n",
    "for idx,file in np.ndenumerate(sorted_filenames):  \n",
    "    print file\n",
    "    hdu_list=fits.open(file)\n",
    "    header=hdu_list[0].header\n",
    "    date_obs = header['DATE-OBS']\n",
    "    airmass = float(header['AIRMASS'])\n",
    "    expo= float(header['EXPTIME'])\n",
    "    num=indexes_files[idx[0]]\n",
    "   \n",
    "   \n",
    "    ut=header['UT']\n",
    "    ra=header['RA']\n",
    "    dec=header['DEC']\n",
    "    epoch=float(header['EPOCH'])\n",
    "    zd = float(header['ZD'])\n",
    "    ha = header['HA']\n",
    "    st = header['ST']\n",
    "    alt = float(header['ALT'])\n",
    "    fcl = float(header['TELFOCUS'])\n",
    "    temp= float(header['OUTTEMP'])\n",
    "    press= float(header['OUTPRESS'])\n",
    "    hum= float(header['OUTHUM'])\n",
    "    windsp=float(header['WNDSPEED'])\n",
    "    seeing=float(header['SEEING'])\n",
    "    seeingam=float(header['SAIRMASS'])\n",
    "    filter1 = header['FILTER1']\n",
    "    filter2 = header['FILTER2']\n",
    "    \n",
    "    all_dates.append(date_obs)\n",
    "    all_airmass.append(airmass)\n",
    "    all_headers.append(header)\n",
    "    all_exposures.append(expo)\n",
    "    all_ut.append(ut)\n",
    "    all_ra.append(ra)\n",
    "    all_dec.append(dec)\n",
    "    all_epoch.append(epoch)\n",
    "    all_zenith.append(zd)\n",
    "    all_ha.append(ha)\n",
    "    all_st.append(st)\n",
    "    all_alt.append(alt)\n",
    "    all_focus.append(fcl)\n",
    "    all_temp.append(temp)\n",
    "    all_press.append(press)\n",
    "    all_hum.append(hum)\n",
    "    all_windsp.append(windsp)\n",
    "    all_seeing.append(seeing)\n",
    "    all_seeingam.append(seeingam)\n",
    "    all_filter1.append(filter1)\n",
    "    all_filter2.append(filter2)\n",
    "\n",
    "    hdu_list.close()\n",
    "    "
   ]
  },
  {
   "cell_type": "code",
   "execution_count": 28,
   "metadata": {
    "collapsed": false,
    "deletable": true,
    "editable": true
   },
   "outputs": [
    {
     "data": {
      "text/plain": [
       "10"
      ]
     },
     "execution_count": 28,
     "metadata": {},
     "output_type": "execute_result"
    }
   ],
   "source": [
    "len(all_airmass)"
   ]
  },
  {
   "cell_type": "code",
   "execution_count": 43,
   "metadata": {
    "collapsed": false
   },
   "outputs": [
    {
     "data": {
      "text/plain": [
       "['dia', 'dia', 'dia', 'dia', 'dia', 'dia', 'dia', 'dia', 'dia', 'dia']"
      ]
     },
     "execution_count": 43,
     "metadata": {},
     "output_type": "execute_result"
    }
   ],
   "source": [
    "all_filter1"
   ]
  },
  {
   "cell_type": "markdown",
   "metadata": {
    "deletable": true,
    "editable": true
   },
   "source": [
    "## Build outputfile"
   ]
  },
  {
   "cell_type": "code",
   "execution_count": 45,
   "metadata": {
    "collapsed": false,
    "deletable": true,
    "editable": true
   },
   "outputs": [],
   "source": [
    "col_airmass=np.array(all_airmass)\n",
    "col_number=np.array(indexes_files)\n",
    "col_date=np.array(all_dates)\n",
    "col_filename=np.array(filelist_all)\n",
    "col_exposure=np.array(all_exposures)\n",
    "col_zenith=np.array(all_zenith)\n",
    "col_altitude=np.array(all_alt)\n",
    "col_temperature=np.array(all_temp)\n",
    "col_pressure=np.array(all_press)\n",
    "col_humidity=np.array(all_hum)\n",
    "col_windsp=np.array(all_windsp)\n",
    "col_seeing=np.array(all_seeing)\n",
    "col_filter1=np.array(all_filter1)\n",
    "col_filter2=np.array(all_filter2)"
   ]
  },
  {
   "cell_type": "code",
   "execution_count": 46,
   "metadata": {
    "collapsed": false,
    "deletable": true,
    "editable": true
   },
   "outputs": [],
   "source": [
    "c1 = fits.Column(name='number', format='J', array=col_number)\n",
    "c2 = fits.Column(name='airmass', format='E', array=col_airmass)\n",
    "c3 = fits.Column(name='date', format='A50', array=col_date)\n",
    "c4 = fits.Column(name='filename', format='A30', array=sorted_filenames)\n",
    "c5 = fits.Column(name='exposure', format='E', array=col_exposure) \n",
    "c6 = fits.Column(name='zenith', format='E', array=col_zenith) \n",
    "#c7 = fits.Column(name='altitude', format='E', array=col_altitude) \n",
    "c8 = fits.Column(name='temperature', format='E', array=col_temperature) \n",
    "c9 = fits.Column(name='pressure', format='E', array=col_pressure) \n",
    "c10 = fits.Column(name='humidity', format='E', array=col_humidity) \n",
    "c11 = fits.Column(name='windspeed', format='E', array=col_windsp) \n",
    "c12 = fits.Column(name='seeing', format='E', array=col_seeing) \n",
    "c13 = fits.Column(name='filter1', format='A20', array=col_filter1)\n",
    "c14 = fits.Column(name='filter2', format='A20', array=col_filter2) "
   ]
  },
  {
   "cell_type": "code",
   "execution_count": 47,
   "metadata": {
    "collapsed": true,
    "deletable": true,
    "editable": true
   },
   "outputs": [],
   "source": [
    "tbhdu = fits.BinTableHDU.from_columns([c1, c2, c3, c4, c5,c6,c8,c9,c10,c11,c12,c13,c14])"
   ]
  },
  {
   "cell_type": "code",
   "execution_count": 48,
   "metadata": {
    "collapsed": false,
    "deletable": true,
    "editable": true
   },
   "outputs": [],
   "source": [
    "tbhdu.writeto(logfile,overwrite=True)"
   ]
  },
  {
   "cell_type": "markdown",
   "metadata": {
    "deletable": true,
    "editable": true
   },
   "source": [
    "## Convert into Table\n",
    "---------------------------"
   ]
  },
  {
   "cell_type": "code",
   "execution_count": 49,
   "metadata": {
    "collapsed": false,
    "deletable": true,
    "editable": true
   },
   "outputs": [],
   "source": [
    "thetable= Table(tbhdu.data)"
   ]
  },
  {
   "cell_type": "code",
   "execution_count": 50,
   "metadata": {
    "collapsed": false,
    "deletable": true,
    "editable": true
   },
   "outputs": [
    {
     "data": {
      "text/html": [
       "&lt;Table length=10&gt;\n",
       "<table id=\"table4615531536-731394\" class=\"table-striped table-bordered table-condensed\">\n",
       "<thead><tr><th>idx</th><th>number</th><th>airmass</th><th>date</th><th>filename</th><th>exposure</th><th>zenith</th><th>temperature</th><th>pressure</th><th>humidity</th><th>windspeed</th><th>seeing</th><th>filter1</th><th>filter2</th></tr></thead>\n",
       "<tr><td>0</td><td>16</td><td>1.064</td><td>2017-05-28T23:58:55.250</td><td>../OverScanRemove/trim_images/</td><td>30.0</td><td>19.924</td><td>4.5</td><td>778.0</td><td>54.0</td><td>3.2</td><td>1.47</td><td>dia</td><td>HoloAmAg</td></tr>\n",
       "<tr><td>1</td><td>17</td><td>1.06</td><td>2017-05-29T00:01:23.455</td><td>../OverScanRemove/trim_images/</td><td>30.0</td><td>19.42</td><td>4.6</td><td>778.0</td><td>55.0</td><td>4.3</td><td>1.502</td><td>dia</td><td>HoloAmAg</td></tr>\n",
       "<tr><td>2</td><td>18</td><td>1.057</td><td>2017-05-29T00:04:04.404</td><td>../OverScanRemove/trim_images/</td><td>300.0</td><td>18.933</td><td>4.5</td><td>778.0</td><td>55.0</td><td>3.4</td><td>1.651</td><td>dia</td><td>HoloAmAg</td></tr>\n",
       "<tr><td>3</td><td>19</td><td>1.044</td><td>2017-05-29T00:17:02.352</td><td>../OverScanRemove/trim_images/</td><td>180.0</td><td>16.69</td><td>4.8</td><td>778.0</td><td>55.0</td><td>5.7</td><td>2.441</td><td>dia</td><td>Thor300</td></tr>\n",
       "<tr><td>4</td><td>20</td><td>1.036</td><td>2017-05-29T00:27:18.203</td><td>../OverScanRemove/trim_images/</td><td>180.0</td><td>15.087</td><td>4.9</td><td>778.0</td><td>57.0</td><td>6.0</td><td>2.089</td><td>dia</td><td>HoloPhP</td></tr>\n",
       "<tr><td>5</td><td>21</td><td>1.021</td><td>2017-05-29T01:02:38.153</td><td>../OverScanRemove/trim_images/</td><td>180.0</td><td>11.643</td><td>5.1</td><td>778.0</td><td>57.0</td><td>11.6</td><td>2.595</td><td>dia</td><td>HoloPhP</td></tr>\n",
       "<tr><td>6</td><td>22</td><td>1.021</td><td>2017-05-29T01:16:08.953</td><td>../OverScanRemove/trim_images/</td><td>180.0</td><td>11.596</td><td>5.0</td><td>778.0</td><td>58.0</td><td>12.3</td><td>1.905</td><td>dia</td><td>Thor300</td></tr>\n",
       "<tr><td>7</td><td>23</td><td>1.022</td><td>2017-05-29T01:21:34.997</td><td>../OverScanRemove/trim_images/</td><td>180.0</td><td>11.805</td><td>4.9</td><td>778.0</td><td>58.0</td><td>11.4</td><td>2.176</td><td>dia</td><td>Thor300</td></tr>\n",
       "<tr><td>8</td><td>24</td><td>1.025</td><td>2017-05-29T01:33:07.348</td><td>../OverScanRemove/trim_images/</td><td>180.0</td><td>12.644</td><td>5.6</td><td>778.0</td><td>56.0</td><td>14.3</td><td>1.446</td><td>dia</td><td>HoloPhAg</td></tr>\n",
       "<tr><td>9</td><td>25</td><td>1.031</td><td>2017-05-29T01:45:59.799</td><td>../OverScanRemove/trim_images/</td><td>300.0</td><td>14.107</td><td>6.2</td><td>778.0</td><td>51.0</td><td>16.2</td><td>1.286</td><td>dia</td><td>HoloAmAg</td></tr>\n",
       "</table><style>table.dataTable {clear: both; width: auto !important; margin: 0 !important;}\n",
       ".dataTables_info, .dataTables_length, .dataTables_filter, .dataTables_paginate{\n",
       "display: inline-block; margin-right: 1em; }\n",
       ".paginate_button { margin-right: 5px; }\n",
       "</style>\n",
       "<script>\n",
       "require.config({paths: {\n",
       "    datatables: 'https://cdn.datatables.net/1.10.12/js/jquery.dataTables.min'\n",
       "}});\n",
       "require([\"datatables\"], function(){\n",
       "    console.log(\"$('#table4615531536-731394').dataTable()\");\n",
       "    $('#table4615531536-731394').dataTable({\n",
       "        \"order\": [],\n",
       "        \"iDisplayLength\": 50,\n",
       "        \"aLengthMenu\": [[10, 25, 50, 100, 500, 1000, -1], [10, 25, 50, 100, 500, 1000, 'All']],\n",
       "        \"pagingType\": \"full_numbers\"\n",
       "    });\n",
       "});\n",
       "</script>\n"
      ],
      "text/plain": [
       "<IPython.core.display.HTML object>"
      ]
     },
     "execution_count": 50,
     "metadata": {},
     "output_type": "execute_result"
    }
   ],
   "source": [
    "thetable.show_in_notebook()"
   ]
  },
  {
   "cell_type": "markdown",
   "metadata": {
    "deletable": true,
    "editable": true
   },
   "source": [
    "## Read the logfile into a Table\n",
    "---------------------------------------"
   ]
  },
  {
   "cell_type": "code",
   "execution_count": 51,
   "metadata": {
    "collapsed": true,
    "deletable": true,
    "editable": true
   },
   "outputs": [],
   "source": [
    "t = Table.read(logfile)"
   ]
  },
  {
   "cell_type": "code",
   "execution_count": 52,
   "metadata": {
    "collapsed": false,
    "deletable": true,
    "editable": true
   },
   "outputs": [
    {
     "data": {
      "text/html": [
       "&lt;Table length=10&gt;\n",
       "<table id=\"table4604984976\" class=\"table-striped table-bordered table-condensed\">\n",
       "<thead><tr><th>number</th><th>airmass</th><th>date</th><th>filename</th><th>exposure</th><th>zenith</th><th>temperature</th><th>pressure</th><th>humidity</th><th>windspeed</th><th>seeing</th><th>filter1</th><th>filter2</th></tr></thead>\n",
       "<thead><tr><th>int32</th><th>float32</th><th>str50</th><th>str30</th><th>float32</th><th>float32</th><th>float32</th><th>float32</th><th>float32</th><th>float32</th><th>float32</th><th>str20</th><th>str20</th></tr></thead>\n",
       "<tr><td>16</td><td>1.064</td><td>2017-05-28T23:58:55.250</td><td>../OverScanRemove/trim_images/</td><td>30.0</td><td>19.924</td><td>4.5</td><td>778.0</td><td>54.0</td><td>3.2</td><td>1.47</td><td>dia</td><td>HoloAmAg</td></tr>\n",
       "<tr><td>17</td><td>1.06</td><td>2017-05-29T00:01:23.455</td><td>../OverScanRemove/trim_images/</td><td>30.0</td><td>19.42</td><td>4.6</td><td>778.0</td><td>55.0</td><td>4.3</td><td>1.502</td><td>dia</td><td>HoloAmAg</td></tr>\n",
       "<tr><td>18</td><td>1.057</td><td>2017-05-29T00:04:04.404</td><td>../OverScanRemove/trim_images/</td><td>300.0</td><td>18.933</td><td>4.5</td><td>778.0</td><td>55.0</td><td>3.4</td><td>1.651</td><td>dia</td><td>HoloAmAg</td></tr>\n",
       "<tr><td>19</td><td>1.044</td><td>2017-05-29T00:17:02.352</td><td>../OverScanRemove/trim_images/</td><td>180.0</td><td>16.69</td><td>4.8</td><td>778.0</td><td>55.0</td><td>5.7</td><td>2.441</td><td>dia</td><td>Thor300</td></tr>\n",
       "<tr><td>20</td><td>1.036</td><td>2017-05-29T00:27:18.203</td><td>../OverScanRemove/trim_images/</td><td>180.0</td><td>15.087</td><td>4.9</td><td>778.0</td><td>57.0</td><td>6.0</td><td>2.089</td><td>dia</td><td>HoloPhP</td></tr>\n",
       "<tr><td>21</td><td>1.021</td><td>2017-05-29T01:02:38.153</td><td>../OverScanRemove/trim_images/</td><td>180.0</td><td>11.643</td><td>5.1</td><td>778.0</td><td>57.0</td><td>11.6</td><td>2.595</td><td>dia</td><td>HoloPhP</td></tr>\n",
       "<tr><td>22</td><td>1.021</td><td>2017-05-29T01:16:08.953</td><td>../OverScanRemove/trim_images/</td><td>180.0</td><td>11.596</td><td>5.0</td><td>778.0</td><td>58.0</td><td>12.3</td><td>1.905</td><td>dia</td><td>Thor300</td></tr>\n",
       "<tr><td>23</td><td>1.022</td><td>2017-05-29T01:21:34.997</td><td>../OverScanRemove/trim_images/</td><td>180.0</td><td>11.805</td><td>4.9</td><td>778.0</td><td>58.0</td><td>11.4</td><td>2.176</td><td>dia</td><td>Thor300</td></tr>\n",
       "<tr><td>24</td><td>1.025</td><td>2017-05-29T01:33:07.348</td><td>../OverScanRemove/trim_images/</td><td>180.0</td><td>12.644</td><td>5.6</td><td>778.0</td><td>56.0</td><td>14.3</td><td>1.446</td><td>dia</td><td>HoloPhAg</td></tr>\n",
       "<tr><td>25</td><td>1.031</td><td>2017-05-29T01:45:59.799</td><td>../OverScanRemove/trim_images/</td><td>300.0</td><td>14.107</td><td>6.2</td><td>778.0</td><td>51.0</td><td>16.2</td><td>1.286</td><td>dia</td><td>HoloAmAg</td></tr>\n",
       "</table>"
      ],
      "text/plain": [
       "<Table length=10>\n",
       "number airmass           date          ...  seeing filter1 filter2 \n",
       "int32  float32          str50          ... float32  str20   str20  \n",
       "------ ------- ----------------------- ... ------- ------- --------\n",
       "    16   1.064 2017-05-28T23:58:55.250 ...    1.47     dia HoloAmAg\n",
       "    17    1.06 2017-05-29T00:01:23.455 ...   1.502     dia HoloAmAg\n",
       "    18   1.057 2017-05-29T00:04:04.404 ...   1.651     dia HoloAmAg\n",
       "    19   1.044 2017-05-29T00:17:02.352 ...   2.441     dia  Thor300\n",
       "    20   1.036 2017-05-29T00:27:18.203 ...   2.089     dia  HoloPhP\n",
       "    21   1.021 2017-05-29T01:02:38.153 ...   2.595     dia  HoloPhP\n",
       "    22   1.021 2017-05-29T01:16:08.953 ...   1.905     dia  Thor300\n",
       "    23   1.022 2017-05-29T01:21:34.997 ...   2.176     dia  Thor300\n",
       "    24   1.025 2017-05-29T01:33:07.348 ...   1.446     dia HoloPhAg\n",
       "    25   1.031 2017-05-29T01:45:59.799 ...   1.286     dia HoloAmAg"
      ]
     },
     "execution_count": 52,
     "metadata": {},
     "output_type": "execute_result"
    }
   ],
   "source": [
    "t"
   ]
  },
  {
   "cell_type": "markdown",
   "metadata": {
    "deletable": true,
    "editable": true
   },
   "source": [
    "## Convert into pandas to plot\n",
    "---------------------------------------"
   ]
  },
  {
   "cell_type": "code",
   "execution_count": 53,
   "metadata": {
    "collapsed": true,
    "deletable": true,
    "editable": true
   },
   "outputs": [],
   "source": [
    "df = t.to_pandas()"
   ]
  },
  {
   "cell_type": "code",
   "execution_count": 64,
   "metadata": {
    "collapsed": false,
    "deletable": true,
    "editable": true
   },
   "outputs": [
    {
     "data": {
      "text/plain": [
       "<matplotlib.axes._subplots.AxesSubplot at 0x113301a90>"
      ]
     },
     "execution_count": 64,
     "metadata": {},
     "output_type": "execute_result"
    },
    {
     "data": {
      "image/png": "[encoded data removed]",
      "text/plain": [
       "<matplotlib.figure.Figure at 0x1136caf50>"
      ]
     },
     "metadata": {},
     "output_type": "display_data"
    }
   ],
   "source": [
    "df.plot('date','airmass',figsize=(20,6),rot=45,grid=True,title='airmass vs date',color='b',marker='o',linewidth=2)\n"
   ]
  },
  {
   "cell_type": "code",
   "execution_count": 65,
   "metadata": {
    "collapsed": false,
    "deletable": true,
    "editable": true
   },
   "outputs": [
    {
     "data": {
      "text/plain": [
       "<matplotlib.axes._subplots.AxesSubplot at 0x113b89d10>"
      ]
     },
     "execution_count": 65,
     "metadata": {},
     "output_type": "execute_result"
    },
    {
     "data": {
      "image/png": "[encoded data removed]",
      "text/plain": [
       "<matplotlib.figure.Figure at 0x1139bba10>"
      ]
     },
     "metadata": {},
     "output_type": "display_data"
    }
   ],
   "source": [
    "df.plot('date','exposure',figsize=(20,6),rot=45,grid=True,title='exposure vs date',color='b',marker='o',linewidth=2)"
   ]
  },
  {
   "cell_type": "markdown",
   "metadata": {
    "collapsed": true,
    "deletable": true,
    "editable": true
   },
   "source": [
    "### Save pandas file\n"
   ]
  },
  {
   "cell_type": "code",
   "execution_count": 56,
   "metadata": {
    "collapsed": true,
    "deletable": true,
    "editable": true
   },
   "outputs": [],
   "source": [
    "df.to_csv(pandaslogfile)"
   ]
  },
  {
   "cell_type": "code",
   "execution_count": null,
   "metadata": {
    "collapsed": true,
    "deletable": true,
    "editable": true
   },
   "outputs": [],
   "source": []
  }
 ],
 "metadata": {
  "anaconda-cloud": {},
  "kernelspec": {
   "display_name": "Python [default]",
   "language": "python",
   "name": "python2"
  },
  "language_info": {
   "codemirror_mode": {
    "name": "ipython",
    "version": 2
   },
   "file_extension": ".py",
   "mimetype": "text/x-python",
   "name": "python",
   "nbconvert_exporter": "python",
   "pygments_lexer": "ipython2",
   "version": "2.7.12"
  },
  "toc": {
   "colors": {
    "hover_highlight": "#DAA520",
    "running_highlight": "#FF0000",
    "selected_highlight": "#FFD700"
   },
   "moveMenuLeft": true,
   "nav_menu": {
    "height": "161px",
    "width": "252px"
   },
   "navigate_menu": true,
   "number_sections": true,
   "sideBar": true,
   "threshold": 4,
   "toc_cell": false,
   "toc_section_display": "block",
   "toc_window_display": false,
   "widenNotebook": false
  }
 },
 "nbformat": 4,
 "nbformat_minor": 0
}
