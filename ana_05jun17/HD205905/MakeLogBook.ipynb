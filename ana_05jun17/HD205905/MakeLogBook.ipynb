{
 "cells": [
  {
   "cell_type": "markdown",
   "metadata": {
    "deletable": true,
    "editable": true
   },
   "source": [
    "# Make Logbook of Trim images of CTIO Data\n",
    "==================================================================================================\n",
    "\n",
    "- author : Sylvie Dagoret-Campagne\n",
    "- affiliation : LAL/IN2P3/CNRS, France\n",
    "- date   : Jult 4th 2017\n",
    "\n"
   ]
  },
  {
   "cell_type": "code",
   "execution_count": 7,
   "metadata": {
    "collapsed": false,
    "deletable": true,
    "editable": true
   },
   "outputs": [
    {
     "data": {
      "application/javascript": [
       "var kernel = IPython.notebook.kernel;\n",
       "var thename = window.document.getElementById(\"notebook_name\").innerHTML;\n",
       "var command = \"theNotebook = \" + \"'\"+thename+\"'\";\n",
       "kernel.execute(command);"
      ],
      "text/plain": [
       "<IPython.core.display.Javascript object>"
      ]
     },
     "metadata": {},
     "output_type": "display_data"
    }
   ],
   "source": [
    "%%javascript\n",
    "var kernel = IPython.notebook.kernel;\n",
    "var thename = window.document.getElementById(\"notebook_name\").innerHTML;\n",
    "var command = \"theNotebook = \" + \"'\"+thename+\"'\";\n",
    "kernel.execute(command);"
   ]
  },
  {
   "cell_type": "code",
   "execution_count": 8,
   "metadata": {
    "collapsed": false,
    "deletable": true,
    "editable": true
   },
   "outputs": [
    {
     "name": "stdout",
     "output_type": "stream",
     "text": [
      "MakeLogBook\n"
     ]
    }
   ],
   "source": [
    "print(theNotebook)"
   ]
  },
  {
   "cell_type": "code",
   "execution_count": 9,
   "metadata": {
    "collapsed": false,
    "deletable": true,
    "editable": true
   },
   "outputs": [],
   "source": [
    "%matplotlib inline\n",
    "import matplotlib.pyplot as plt\n",
    "import numpy as np\n",
    "\n",
    "from astropy.modeling import models\n",
    "from astropy import units as u\n",
    "from astropy import nddata\n",
    "from astropy.io import fits\n",
    "from astropy.table import Table, Column\n",
    "import re\n",
    "import os"
   ]
  },
  {
   "cell_type": "code",
   "execution_count": 10,
   "metadata": {
    "collapsed": true,
    "deletable": true,
    "editable": true
   },
   "outputs": [],
   "source": [
    "import pandas as pd"
   ]
  },
  {
   "cell_type": "code",
   "execution_count": 11,
   "metadata": {
    "collapsed": false,
    "deletable": true,
    "editable": true
   },
   "outputs": [],
   "source": [
    "# to enlarge the sizes\n",
    "params = {'legend.fontsize': 'x-large',\n",
    "          'figure.figsize': (8, 8),\n",
    "         'axes.labelsize': 'x-large',\n",
    "         'axes.titlesize':'x-large',\n",
    "         'xtick.labelsize':'x-large',\n",
    "         'ytick.labelsize':'x-large'}\n",
    "plt.rcParams.update(params)"
   ]
  },
  {
   "cell_type": "markdown",
   "metadata": {
    "deletable": true,
    "editable": true
   },
   "source": [
    "## Location of trim images\n",
    "----------------------------------"
   ]
  },
  {
   "cell_type": "code",
   "execution_count": null,
   "metadata": {
    "collapsed": false,
    "deletable": true,
    "editable": true
   },
   "outputs": [],
   "source": []
  },
  {
   "cell_type": "code",
   "execution_count": 12,
   "metadata": {
    "collapsed": true,
    "deletable": true,
    "editable": true
   },
   "outputs": [],
   "source": [
    "rootpath_rawimage=\"../OverScanRemove/trim_images\"\n",
    "MIN_IMGNUMBER=46\n",
    "MAX_IMGNUMBER=126\n",
    "object_name='HD205905_Jun_05th'\n",
    "SelectTagRe='^trim_20170605_([0-9]+).fits$' # regular expression to select the file\n",
    "SearchTagRe='^trim_20170605_[0-9]+.fits$'\n",
    "NBIMGPERLROW=4"
   ]
  },
  {
   "cell_type": "code",
   "execution_count": 13,
   "metadata": {
    "collapsed": true,
    "deletable": true,
    "editable": true
   },
   "outputs": [],
   "source": [
    "#rootpath_rawimage=\"/Users/dagoret-campagnesylvie/MacOsX/LSST/MyWork/GitHub/CTIOData2016/November2016/mucol\"\n",
    "#object_name='mucol'\n",
    "infos='ctio05jun2017'"
   ]
  },
  {
   "cell_type": "code",
   "execution_count": 14,
   "metadata": {
    "collapsed": false,
    "deletable": true,
    "editable": true
   },
   "outputs": [],
   "source": [
    "logfile='logbk_'+object_name+'_'+infos+'.fits'\n",
    "pandaslogfile='logbk_'+object_name+'_'+infos+'.csv'"
   ]
  },
  {
   "cell_type": "code",
   "execution_count": 15,
   "metadata": {
    "collapsed": true,
    "deletable": true,
    "editable": true
   },
   "outputs": [],
   "source": [
    "dirlist=[]\n",
    "dirlist.append(rootpath_rawimage)\n",
    "dirlist_all=np.array(dirlist)"
   ]
  },
  {
   "cell_type": "code",
   "execution_count": 16,
   "metadata": {
    "collapsed": false,
    "deletable": true,
    "editable": true
   },
   "outputs": [],
   "source": [
    "filelist_all=os.listdir(rootpath_rawimage) "
   ]
  },
  {
   "cell_type": "code",
   "execution_count": 17,
   "metadata": {
    "collapsed": false,
    "deletable": true,
    "editable": true
   },
   "outputs": [
    {
     "data": {
      "text/plain": [
       "['trim_20170605_004.fits',\n",
       " 'trim_20170605_005.fits',\n",
       " 'trim_20170605_006.fits',\n",
       " 'trim_20170605_007.fits',\n",
       " 'trim_20170605_008.fits',\n",
       " 'trim_20170605_009.fits',\n",
       " 'trim_20170605_010.fits',\n",
       " 'trim_20170605_012.fits',\n",
       " 'trim_20170605_013.fits',\n",
       " 'trim_20170605_014.fits',\n",
       " 'trim_20170605_016.fits',\n",
       " 'trim_20170605_017.fits',\n",
       " 'trim_20170605_018.fits',\n",
       " 'trim_20170605_019.fits',\n",
       " 'trim_20170605_020.fits',\n",
       " 'trim_20170605_021.fits',\n",
       " 'trim_20170605_022.fits',\n",
       " 'trim_20170605_023.fits',\n",
       " 'trim_20170605_024.fits',\n",
       " 'trim_20170605_025.fits',\n",
       " 'trim_20170605_026.fits',\n",
       " 'trim_20170605_027.fits',\n",
       " 'trim_20170605_028.fits',\n",
       " 'trim_20170605_029.fits',\n",
       " 'trim_20170605_030.fits',\n",
       " 'trim_20170605_031.fits',\n",
       " 'trim_20170605_032.fits',\n",
       " 'trim_20170605_033.fits',\n",
       " 'trim_20170605_039.fits',\n",
       " 'trim_20170605_040.fits',\n",
       " 'trim_20170605_041.fits',\n",
       " 'trim_20170605_042.fits',\n",
       " 'trim_20170605_043.fits',\n",
       " 'trim_20170605_044.fits',\n",
       " 'trim_20170605_045.fits',\n",
       " 'trim_20170605_046.fits',\n",
       " 'trim_20170605_047.fits',\n",
       " 'trim_20170605_048.fits',\n",
       " 'trim_20170605_049.fits',\n",
       " 'trim_20170605_050.fits',\n",
       " 'trim_20170605_051.fits',\n",
       " 'trim_20170605_052.fits',\n",
       " 'trim_20170605_053.fits',\n",
       " 'trim_20170605_054.fits',\n",
       " 'trim_20170605_055.fits',\n",
       " 'trim_20170605_056.fits',\n",
       " 'trim_20170605_057.fits',\n",
       " 'trim_20170605_058.fits',\n",
       " 'trim_20170605_059.fits',\n",
       " 'trim_20170605_060.fits',\n",
       " 'trim_20170605_061.fits',\n",
       " 'trim_20170605_062.fits',\n",
       " 'trim_20170605_063.fits',\n",
       " 'trim_20170605_064.fits',\n",
       " 'trim_20170605_065.fits',\n",
       " 'trim_20170605_066.fits',\n",
       " 'trim_20170605_067.fits',\n",
       " 'trim_20170605_068.fits',\n",
       " 'trim_20170605_069.fits',\n",
       " 'trim_20170605_070.fits',\n",
       " 'trim_20170605_071.fits',\n",
       " 'trim_20170605_072.fits',\n",
       " 'trim_20170605_073.fits',\n",
       " 'trim_20170605_074.fits',\n",
       " 'trim_20170605_075.fits',\n",
       " 'trim_20170605_076.fits',\n",
       " 'trim_20170605_077.fits',\n",
       " 'trim_20170605_078.fits',\n",
       " 'trim_20170605_079.fits',\n",
       " 'trim_20170605_080.fits',\n",
       " 'trim_20170605_081.fits',\n",
       " 'trim_20170605_082.fits',\n",
       " 'trim_20170605_083.fits',\n",
       " 'trim_20170605_084.fits',\n",
       " 'trim_20170605_085.fits',\n",
       " 'trim_20170605_086.fits',\n",
       " 'trim_20170605_087.fits',\n",
       " 'trim_20170605_088.fits',\n",
       " 'trim_20170605_089.fits',\n",
       " 'trim_20170605_090.fits',\n",
       " 'trim_20170605_091.fits',\n",
       " 'trim_20170605_092.fits',\n",
       " 'trim_20170605_093.fits',\n",
       " 'trim_20170605_094.fits',\n",
       " 'trim_20170605_095.fits',\n",
       " 'trim_20170605_096.fits',\n",
       " 'trim_20170605_097.fits',\n",
       " 'trim_20170605_098.fits',\n",
       " 'trim_20170605_100.fits',\n",
       " 'trim_20170605_101.fits',\n",
       " 'trim_20170605_102.fits',\n",
       " 'trim_20170605_103.fits',\n",
       " 'trim_20170605_104.fits',\n",
       " 'trim_20170605_105.fits',\n",
       " 'trim_20170605_106.fits',\n",
       " 'trim_20170605_107.fits',\n",
       " 'trim_20170605_108.fits',\n",
       " 'trim_20170605_109.fits',\n",
       " 'trim_20170605_110.fits',\n",
       " 'trim_20170605_111.fits',\n",
       " 'trim_20170605_112.fits',\n",
       " 'trim_20170605_113.fits',\n",
       " 'trim_20170605_114.fits',\n",
       " 'trim_20170605_115.fits',\n",
       " 'trim_20170605_116.fits',\n",
       " 'trim_20170605_117.fits',\n",
       " 'trim_20170605_118.fits',\n",
       " 'trim_20170605_119.fits',\n",
       " 'trim_20170605_120.fits',\n",
       " 'trim_20170605_121.fits',\n",
       " 'trim_20170605_122.fits',\n",
       " 'trim_20170605_123.fits',\n",
       " 'trim_20170605_124.fits',\n",
       " 'trim_20170605_125.fits',\n",
       " 'trim_20170605_126.fits']"
      ]
     },
     "execution_count": 17,
     "metadata": {},
     "output_type": "execute_result"
    }
   ],
   "source": [
    "#dirlist_all.remove('.DS_Store') # reove that file in a mAC\n",
    "filelist_all"
   ]
  },
  {
   "cell_type": "code",
   "execution_count": 18,
   "metadata": {
    "collapsed": true,
    "deletable": true,
    "editable": true
   },
   "outputs": [],
   "source": [
    "indexes_files= [] # global list\n",
    "filelist_fitsimages= []  # global list"
   ]
  },
  {
   "cell_type": "code",
   "execution_count": 19,
   "metadata": {
    "collapsed": false,
    "deletable": true,
    "editable": true
   },
   "outputs": [],
   "source": [
    "def MakeFileList():\n",
    "    \"\"\"\n",
    "    MakeFileList : Make The List of files to open\n",
    "    =============\n",
    "    \n",
    "    - we select the files which are of interest.\n",
    "    - In particular select the number range\n",
    "    \n",
    "    \"\"\"\n",
    "    count=0\n",
    "    \n",
    "    for dir in dirlist_all: # loop on directories, one per image   (if necessary)    \n",
    "            dir_leaf= dir # build the name of leaf directory\n",
    "            listfiles=os.listdir(dir_leaf) \n",
    "            for filename in listfiles:\n",
    "                if re.search(SearchTagRe,filename):  #example of filename filter\n",
    "                    str_index=re.findall(SelectTagRe,filename)\n",
    "                    count=count+1\n",
    "                    index=int(str_index[0])\n",
    "                    if index >= MIN_IMGNUMBER and index <= MAX_IMGNUMBER: \n",
    "                        indexes_files.append(index)         \n",
    "                        shortfilename=dir_leaf+'/'+filename\n",
    "                        filelist_fitsimages.append(shortfilename)\n",
    "                    \n",
    "    return"
   ]
  },
  {
   "cell_type": "code",
   "execution_count": 20,
   "metadata": {
    "collapsed": false,
    "deletable": true,
    "editable": true
   },
   "outputs": [],
   "source": [
    "MakeFileList()   # Make the list"
   ]
  },
  {
   "cell_type": "code",
   "execution_count": 21,
   "metadata": {
    "collapsed": true,
    "deletable": true,
    "editable": true
   },
   "outputs": [],
   "source": [
    "indexes_files=np.array(indexes_files)\n",
    "filelist_fitsimages=np.array(filelist_fitsimages)"
   ]
  },
  {
   "cell_type": "code",
   "execution_count": 22,
   "metadata": {
    "collapsed": false,
    "deletable": true,
    "editable": true
   },
   "outputs": [
    {
     "data": {
      "text/plain": [
       "array([ 46,  47,  48,  49,  50,  51,  52,  53,  54,  55,  56,  57,  58,\n",
       "        59,  60,  61,  62,  63,  64,  65,  66,  67,  68,  69,  70,  71,\n",
       "        72,  73,  74,  75,  76,  77,  78,  79,  80,  81,  82,  83,  84,\n",
       "        85,  86,  87,  88,  89,  90,  91,  92,  93,  94,  95,  96,  97,\n",
       "        98, 100, 101, 102, 103, 104, 105, 106, 107, 108, 109, 110, 111,\n",
       "       112, 113, 114, 115, 116, 117, 118, 119, 120, 121, 122, 123, 124,\n",
       "       125, 126])"
      ]
     },
     "execution_count": 22,
     "metadata": {},
     "output_type": "execute_result"
    }
   ],
   "source": [
    "indexes_files"
   ]
  },
  {
   "cell_type": "code",
   "execution_count": 23,
   "metadata": {
    "collapsed": true,
    "deletable": true,
    "editable": true
   },
   "outputs": [],
   "source": [
    "sorted_indexes=np.argsort(indexes_files) # sort the file indexes"
   ]
  },
  {
   "cell_type": "code",
   "execution_count": 24,
   "metadata": {
    "collapsed": true,
    "deletable": true,
    "editable": true
   },
   "outputs": [],
   "source": [
    "sorted_files=filelist_fitsimages[sorted_indexes]"
   ]
  },
  {
   "cell_type": "code",
   "execution_count": 25,
   "metadata": {
    "collapsed": true,
    "deletable": true,
    "editable": true
   },
   "outputs": [],
   "source": [
    "sorted_numbers=indexes_files[sorted_indexes]"
   ]
  },
  {
   "cell_type": "code",
   "execution_count": 26,
   "metadata": {
    "collapsed": true,
    "deletable": true,
    "editable": true
   },
   "outputs": [],
   "source": [
    "sorted_filenames=[]\n",
    "for file in sorted_files:\n",
    "    #fullfilename=os.path.join(rootpath_rawimage,file)\n",
    "    fullfilename=file\n",
    "    sorted_filenames.append(fullfilename)"
   ]
  },
  {
   "cell_type": "code",
   "execution_count": 27,
   "metadata": {
    "collapsed": true,
    "deletable": true,
    "editable": true
   },
   "outputs": [],
   "source": [
    "sorted_filenames=np.array(sorted_filenames)"
   ]
  },
  {
   "cell_type": "code",
   "execution_count": 28,
   "metadata": {
    "collapsed": false,
    "deletable": true,
    "editable": true
   },
   "outputs": [
    {
     "data": {
      "text/plain": [
       "array(['../OverScanRemove/trim_images/trim_20170605_046.fits',\n",
       "       '../OverScanRemove/trim_images/trim_20170605_047.fits',\n",
       "       '../OverScanRemove/trim_images/trim_20170605_048.fits',\n",
       "       '../OverScanRemove/trim_images/trim_20170605_049.fits',\n",
       "       '../OverScanRemove/trim_images/trim_20170605_050.fits',\n",
       "       '../OverScanRemove/trim_images/trim_20170605_051.fits',\n",
       "       '../OverScanRemove/trim_images/trim_20170605_052.fits',\n",
       "       '../OverScanRemove/trim_images/trim_20170605_053.fits',\n",
       "       '../OverScanRemove/trim_images/trim_20170605_054.fits',\n",
       "       '../OverScanRemove/trim_images/trim_20170605_055.fits',\n",
       "       '../OverScanRemove/trim_images/trim_20170605_056.fits',\n",
       "       '../OverScanRemove/trim_images/trim_20170605_057.fits',\n",
       "       '../OverScanRemove/trim_images/trim_20170605_058.fits',\n",
       "       '../OverScanRemove/trim_images/trim_20170605_059.fits',\n",
       "       '../OverScanRemove/trim_images/trim_20170605_060.fits',\n",
       "       '../OverScanRemove/trim_images/trim_20170605_061.fits',\n",
       "       '../OverScanRemove/trim_images/trim_20170605_062.fits',\n",
       "       '../OverScanRemove/trim_images/trim_20170605_063.fits',\n",
       "       '../OverScanRemove/trim_images/trim_20170605_064.fits',\n",
       "       '../OverScanRemove/trim_images/trim_20170605_065.fits',\n",
       "       '../OverScanRemove/trim_images/trim_20170605_066.fits',\n",
       "       '../OverScanRemove/trim_images/trim_20170605_067.fits',\n",
       "       '../OverScanRemove/trim_images/trim_20170605_068.fits',\n",
       "       '../OverScanRemove/trim_images/trim_20170605_069.fits',\n",
       "       '../OverScanRemove/trim_images/trim_20170605_070.fits',\n",
       "       '../OverScanRemove/trim_images/trim_20170605_071.fits',\n",
       "       '../OverScanRemove/trim_images/trim_20170605_072.fits',\n",
       "       '../OverScanRemove/trim_images/trim_20170605_073.fits',\n",
       "       '../OverScanRemove/trim_images/trim_20170605_074.fits',\n",
       "       '../OverScanRemove/trim_images/trim_20170605_075.fits',\n",
       "       '../OverScanRemove/trim_images/trim_20170605_076.fits',\n",
       "       '../OverScanRemove/trim_images/trim_20170605_077.fits',\n",
       "       '../OverScanRemove/trim_images/trim_20170605_078.fits',\n",
       "       '../OverScanRemove/trim_images/trim_20170605_079.fits',\n",
       "       '../OverScanRemove/trim_images/trim_20170605_080.fits',\n",
       "       '../OverScanRemove/trim_images/trim_20170605_081.fits',\n",
       "       '../OverScanRemove/trim_images/trim_20170605_082.fits',\n",
       "       '../OverScanRemove/trim_images/trim_20170605_083.fits',\n",
       "       '../OverScanRemove/trim_images/trim_20170605_084.fits',\n",
       "       '../OverScanRemove/trim_images/trim_20170605_085.fits',\n",
       "       '../OverScanRemove/trim_images/trim_20170605_086.fits',\n",
       "       '../OverScanRemove/trim_images/trim_20170605_087.fits',\n",
       "       '../OverScanRemove/trim_images/trim_20170605_088.fits',\n",
       "       '../OverScanRemove/trim_images/trim_20170605_089.fits',\n",
       "       '../OverScanRemove/trim_images/trim_20170605_090.fits',\n",
       "       '../OverScanRemove/trim_images/trim_20170605_091.fits',\n",
       "       '../OverScanRemove/trim_images/trim_20170605_092.fits',\n",
       "       '../OverScanRemove/trim_images/trim_20170605_093.fits',\n",
       "       '../OverScanRemove/trim_images/trim_20170605_094.fits',\n",
       "       '../OverScanRemove/trim_images/trim_20170605_095.fits',\n",
       "       '../OverScanRemove/trim_images/trim_20170605_096.fits',\n",
       "       '../OverScanRemove/trim_images/trim_20170605_097.fits',\n",
       "       '../OverScanRemove/trim_images/trim_20170605_098.fits',\n",
       "       '../OverScanRemove/trim_images/trim_20170605_100.fits',\n",
       "       '../OverScanRemove/trim_images/trim_20170605_101.fits',\n",
       "       '../OverScanRemove/trim_images/trim_20170605_102.fits',\n",
       "       '../OverScanRemove/trim_images/trim_20170605_103.fits',\n",
       "       '../OverScanRemove/trim_images/trim_20170605_104.fits',\n",
       "       '../OverScanRemove/trim_images/trim_20170605_105.fits',\n",
       "       '../OverScanRemove/trim_images/trim_20170605_106.fits',\n",
       "       '../OverScanRemove/trim_images/trim_20170605_107.fits',\n",
       "       '../OverScanRemove/trim_images/trim_20170605_108.fits',\n",
       "       '../OverScanRemove/trim_images/trim_20170605_109.fits',\n",
       "       '../OverScanRemove/trim_images/trim_20170605_110.fits',\n",
       "       '../OverScanRemove/trim_images/trim_20170605_111.fits',\n",
       "       '../OverScanRemove/trim_images/trim_20170605_112.fits',\n",
       "       '../OverScanRemove/trim_images/trim_20170605_113.fits',\n",
       "       '../OverScanRemove/trim_images/trim_20170605_114.fits',\n",
       "       '../OverScanRemove/trim_images/trim_20170605_115.fits',\n",
       "       '../OverScanRemove/trim_images/trim_20170605_116.fits',\n",
       "       '../OverScanRemove/trim_images/trim_20170605_117.fits',\n",
       "       '../OverScanRemove/trim_images/trim_20170605_118.fits',\n",
       "       '../OverScanRemove/trim_images/trim_20170605_119.fits',\n",
       "       '../OverScanRemove/trim_images/trim_20170605_120.fits',\n",
       "       '../OverScanRemove/trim_images/trim_20170605_121.fits',\n",
       "       '../OverScanRemove/trim_images/trim_20170605_122.fits',\n",
       "       '../OverScanRemove/trim_images/trim_20170605_123.fits',\n",
       "       '../OverScanRemove/trim_images/trim_20170605_124.fits',\n",
       "       '../OverScanRemove/trim_images/trim_20170605_125.fits',\n",
       "       '../OverScanRemove/trim_images/trim_20170605_126.fits'], \n",
       "      dtype='|S52')"
      ]
     },
     "execution_count": 28,
     "metadata": {},
     "output_type": "execute_result"
    }
   ],
   "source": [
    "sorted_filenames"
   ]
  },
  {
   "cell_type": "code",
   "execution_count": 29,
   "metadata": {
    "collapsed": false,
    "deletable": true,
    "editable": true
   },
   "outputs": [],
   "source": [
    "from astropy.io import fits\n",
    "with fits.open(sorted_filenames[0]) as pf:\n",
    "    (pf[0].header)"
   ]
  },
  {
   "cell_type": "code",
   "execution_count": 30,
   "metadata": {
    "collapsed": false,
    "deletable": true,
    "editable": true
   },
   "outputs": [
    {
     "data": {
      "text/plain": [
       "SIMPLE  =                    T / conforms to FITS standard                      \n",
       "BITPIX  =                  -64 / array data type                                \n",
       "NAXIS   =                    2 / number of array dimensions                     \n",
       "NAXIS1  =                 2048                                                  \n",
       "NAXIS2  =                 2048                                                  \n",
       "COMMENT   FITS (Flexible Image Transport System) format is defined in 'Astronomy\n",
       "COMMENT   and Astrophysics', volume 376, page 359; bibcode: 2001A&A...376..359H \n",
       "OBJECT  = 'HD205905'           / Name of object observed                        \n",
       "OBSERVER= '        '           / observer                                       \n",
       "PROPID  = '        '           / Proposal ID                                    \n",
       "RECID   = 'ct36.20170606.071622' / NOAO Archibe record ID                       \n",
       "PROPID  = '        '           / Proposal ID                                    \n",
       "IMAGETYP= 'object  '           / Type of picture (object, dark, comp, etc)      \n",
       "CCDSUM  = '1 1     '           / On chip summation (X, Y)                       \n",
       "XSTART  =                    1 / start of roi in X                              \n",
       "YSTART  =                    1 / start of roi in Y                              \n",
       "XLENGTH =                 2048 / length of roi in X                             \n",
       "YLENGTH =                 2048 / length of roi in Y                             \n",
       "UTSHUT  = '2017-06-06T07:16:22.148' / UT of shutter open                        \n",
       "UT      = '07:16:22.148'       / UT of TCS coordinates                          \n",
       "DATE-OBS= '2017-06-06T07:16:22.148' / date of observations start                \n",
       "DATE    = '2017-06-06T07:17:24' / file creation date (YYYY-MM-DDThh:mm:ss UT)   \n",
       "NAMPSYX = '2 2     '           / Num amps in y and x (eg. '2 2=quad')           \n",
       "AMPLIST = '11 12 21 22'        / Readout order in y,x                           \n",
       "GTRON11 =                  12. / (e-) predicted read noise, lower left          \n",
       "GTRON12 =                  12. / (e-) predicted read noise, lower right         \n",
       "GTRON21 =                  12. / (e-) predicted read noise, upper left          \n",
       "GTRON22 =                  12. / (e-) predicted read noise, upper right         \n",
       "GTGAIN11=                   3. / (e-/ADU) predicted gain, lower left            \n",
       "GTGAIN12=                   3. / (e-/ADU) predicted gain, lower right           \n",
       "GTGAIN21=                   3. / (e-/ADU) predicted gain, upper left            \n",
       "GTGAIN22=                   3. / (e-/ADU) predicted gain, upper right           \n",
       "ASEC11  = '[1:1084,1:1024]'    / amplifier section Amp11(LL) detID 1            \n",
       "BSEC11  = '[1045:1084,1:1024]' / bias section Amp11(LL) detID 1                 \n",
       "CSEC11  = '[1:1034,1:1024]'    / section in full ccd for DSEC Amp11(LL) detID 1 \n",
       "DSEC11  = '[1:1034,1:1024]'    / image section in raw frame Amp11(LL) detID 1   \n",
       "TSEC11  = '[11:1034,1:1024]'   / trim section Amp11(LL) detID 1                 \n",
       "ABSEC11 = '[1045:1084,1:1024]' / overscan inside amp                            \n",
       "ADSEC11 = '[1:1024,1:1024]'    / detector section only                          \n",
       "ASEC12  = '[1085:2168,1:1024]' / amplifier section Amp12(LR) detID 1            \n",
       "BSEC12  = '[1085:1124,1:1024]' / bias section Amp12(LR) detID 1                 \n",
       "CSEC12  = '[1035:2068,1:1024]' / section in full ccd for DSEC Amp12(LR) detID 1 \n",
       "DSEC12  = '[1135:2168,1:1024]' / image section in raw frame Amp12(LR) detID 1   \n",
       "TSEC12  = '[1135:2158,1:1024]' / trim section Amp12(LR) detID 1                 \n",
       "ABSEC12 = '[1:40,1:1024]'      / overscan inside amp                            \n",
       "ADSEC12 = '[1025:2048,1:1024]' / detector section only                          \n",
       "ASEC21  = '[1:1084,1025:2048]' / amplifier section Amp21(UL) detID 1            \n",
       "BSEC21  = '[1045:1084,1025:2048]' / bias section Amp21(UL) detID 1              \n",
       "CSEC21  = '[1:1034,1025:2048]' / section in full ccd for DSEC Amp21(UL) detID 1 \n",
       "DSEC21  = '[1:1034,1025:2048]' / image section in raw frame Amp21(UL) detID 1   \n",
       "TSEC21  = '[11:1034,1025:2048]' / trim section Amp21(UL) detID 1                \n",
       "ABSEC21 = '[1045:1084,1:1024]' / overscan inside amp                            \n",
       "ADSEC21 = '[1:1024,1025:2048]' / detector section only                          \n",
       "ASEC22  = '[1085:2168,1025:2048]' / amplifier section Amp22(UR) detID 1         \n",
       "BSEC22  = '[1085:1124,1025:2048]' / bias section Amp22(UR) detID 1              \n",
       "CSEC22  = '[1035:2068,1025:2048]' / section in full ccd for DSEC Amp22(UR) detID\n",
       "DSEC22  = '[1135:2168,1025:2048]' / image section in raw frame Amp22(UR) detID 1\n",
       "TSEC22  = '[1135:2158,1025:2048]' / trim section Amp22(UR) detID 1              \n",
       "ABSEC22 = '[1:40,1:1024]'      / overscan inside amp                            \n",
       "ADSEC22 = '[1025:2048,1025:2048]' / detector section only                       \n",
       "ROISEC00= '[1:2048,1:2048]'    / roi section                                    \n",
       "DETECTOR= 'Tek2K_3 '           / Detector Identifier                            \n",
       "FPA     = 'SITE2K  '           / focal plan array                               \n",
       "REXPTIME=                  60. / requested exposure time in secs                \n",
       "EXPTIME =                  60. / Exposure time in secs                          \n",
       "DARKTIME=                  60. / Total elapsed time in secs                     \n",
       "NIMAGES =                    1 / number of images requested in sequence         \n",
       "PIXELT  = '25000.000000'       / (ns) unbinned pixel read time                  \n",
       "DHEINF  = 'MNSN torrent hardware' / controller info                             \n",
       "DHEFIRM = '/home/observer/panview/fpas/_biw/config/DETECTOR/site2k_sequencer.uc'\n",
       "PIXTIME = '25      '           / pixel time (usecs)                             \n",
       "POWSTAT = '3.000   '           / power supplies status (3=OK)                   \n",
       "CCDSETP = '163.000 '           / ccd temperature setpoint                       \n",
       "CCDTEMP = '165.625 '           / CCD temperature                                \n",
       "NECKTEMP= '138.000 '           / dewar NECK temperature                         \n",
       "HEATERSP= '11.811  '           / Heater power percent.                          \n",
       "VDDA    = '24.064  '           / bias output amplifier A                        \n",
       "VDDB    = '23.974  '           / bias output amplifier B                        \n",
       "VDDC    = '24.408  '           / bias output amplifier C                        \n",
       "VDDD    = '24.199  '           / bias output amplifier D                        \n",
       "VRDA    = '13.825  '           / Reset Drain amplifier A                        \n",
       "VRDB    = '13.825  '           / Reset Drain amplifier B                        \n",
       "VRDC    = '14.034  '           / Reset Drain amplifier C                        \n",
       "VRDD    = '13.960  '           / Reset Drain amplifier D                        \n",
       "LGA     = '-2.042  '           / Reset Drain amplifier A                        \n",
       "LGB     = '-2.072  '           / Reset Drain amplifier B                        \n",
       "LGC     = '-2.002  '           / Reset Drain amplifier C                        \n",
       "LGD     = '-1.982  '           / Reset Drain amplifier D                        \n",
       "SLOT00  = 'LCB 0x188538 2.240000' / dhe board: <type> <serial> <firmware>       \n",
       "SLOT01  = 'PSM 0x45834F 2.210000' / dhe board: <type> <serial> <firmware>       \n",
       "SLOT02  = 'CFG 0xNONE 2.240000' / dhe board: <type> <serial> <firmware>         \n",
       "SLOT03  = 'PIX 0xNONE 2.210000' / dhe board: <type> <serial> <firmware>         \n",
       "SLOT04  = 'CCDAFE 0x188167 18805C 2.210000' / dhe board: <type> <serial> <firmwa\n",
       "SLOT07  = 'CB 0xNONE 2.240000' / dhe board: <type> <serial> <firmware>          \n",
       "SLOT02  = 'TSM 0x3C6784 NONE'  / dhe board: <type> <serial> <firmware>          \n",
       "VANPLUS =             10.54422 / analog voltage plus                            \n",
       "VANMINU =            -10.47945 / analog voltage minus                           \n",
       "FPGATEMP=             29.55665 / torrent fpga temperature                       \n",
       "ID      = '[ct36.20170606.071622]' / ID                                         \n",
       "OBSERVAT= 'CTIO    '           / Origin of data                                 \n",
       "TELESCOP= 'CTIO 0.9 meter telescope' / Specific system                          \n",
       "TELID   = 'ct36    '           / CTIO 0.9 meter telescope                       \n",
       "TCS-TIME= '2017-06-05T07:16:24.65' / date of observation start                  \n",
       "UT      = '07:16:24.65'        / UT of TCS coords                               \n",
       "RA      = '21:39:1.87'         / ra                                             \n",
       "DEC     = '-27:20:52.43'       / dec                                            \n",
       "EPOCH   =                2000. / epoch                                          \n",
       "ZD      =               27.931 / zenith distance                                \n",
       "HA      = '-02:06:15.45'       / hour angle                                     \n",
       "ST      = '19:32:46.42'        / sidereal time                                  \n",
       "AIRMASS =                1.132 / airmass                                        \n",
       "ALT     = '97.40   '           / altitud                                        \n",
       "TELFOCUS=               12450. / telescope focus                                \n",
       "WEATIME = '2017-06-06 07:16:01' / weather timestamp                             \n",
       "OUTTEMP =                  6.1 / outside temp (C)                               \n",
       "OUTHUM  =                   32 / outside humidity (%)                           \n",
       "OUTPRESS=                 776. / outside pressure (hPa)                         \n",
       "WNDSPEED=                 19.1 / wind speed (mph)                               \n",
       "WNDDIR  =                    9 / wind dir (degrees)                             \n",
       "SEETIME = '2017-06-06 07:17:06' / seeing timestamp                              \n",
       "SEEING  =                0.918 / seeing                                         \n",
       "SAIRMASS=                1.108 / seeing airmass                                 \n",
       "PANID   = '_biw    '           / PAN identification                             \n",
       "COMMENT image                                                                   \n",
       "COMMENT Image is trimmed                                                        \n",
       "FILTER1 = 'dia     '           / Filter in wheel 1                              \n",
       "FNAME1  = 'DIAFRAGM'           / Full name of filter in wheel 1                 \n",
       "FILTER2 = 'Thor300 '           / Filter in wheel 2                              \n",
       "FNAME2  = 'Thorlabs300'        / Full name of filter in wheel 2                 \n",
       "FILTERS = 'dia Thor300'        / Filter positions                               \n",
       "INSTRUME= 'cfccd   '           / cassegrain direct imager                       \n",
       "XPIXSIZE=                0.401 / Pixel size in X (arcsecs/pix)                  \n",
       "YPIXSIZE=                0.401 / Pixel size in Y (arcsecs/pix)                  \n",
       "TEST    =                   2. / my keyword                                     "
      ]
     },
     "execution_count": 30,
     "metadata": {},
     "output_type": "execute_result"
    }
   ],
   "source": [
    "pf[0].header"
   ]
  },
  {
   "cell_type": "markdown",
   "metadata": {
    "collapsed": false,
    "deletable": true,
    "editable": true
   },
   "source": [
    "### Build tables for output file"
   ]
  },
  {
   "cell_type": "code",
   "execution_count": null,
   "metadata": {
    "collapsed": false,
    "deletable": true,
    "editable": true
   },
   "outputs": [],
   "source": []
  },
  {
   "cell_type": "code",
   "execution_count": 31,
   "metadata": {
    "collapsed": false,
    "deletable": true,
    "editable": true
   },
   "outputs": [
    {
     "name": "stdout",
     "output_type": "stream",
     "text": [
      "../OverScanRemove/trim_images/trim_20170605_046.fits\n",
      "../OverScanRemove/trim_images/trim_20170605_047.fits\n",
      "../OverScanRemove/trim_images/trim_20170605_048.fits\n",
      "../OverScanRemove/trim_images/trim_20170605_049.fits\n",
      "../OverScanRemove/trim_images/trim_20170605_050.fits\n",
      "../OverScanRemove/trim_images/trim_20170605_051.fits\n",
      "../OverScanRemove/trim_images/trim_20170605_052.fits\n",
      "../OverScanRemove/trim_images/trim_20170605_053.fits\n",
      "../OverScanRemove/trim_images/trim_20170605_054.fits\n",
      "../OverScanRemove/trim_images/trim_20170605_055.fits\n",
      "../OverScanRemove/trim_images/trim_20170605_056.fits\n",
      "../OverScanRemove/trim_images/trim_20170605_057.fits\n",
      "../OverScanRemove/trim_images/trim_20170605_058.fits\n",
      "../OverScanRemove/trim_images/trim_20170605_059.fits\n",
      "../OverScanRemove/trim_images/trim_20170605_060.fits\n",
      "../OverScanRemove/trim_images/trim_20170605_061.fits\n",
      "../OverScanRemove/trim_images/trim_20170605_062.fits\n",
      "../OverScanRemove/trim_images/trim_20170605_063.fits\n",
      "../OverScanRemove/trim_images/trim_20170605_064.fits\n",
      "../OverScanRemove/trim_images/trim_20170605_065.fits\n",
      "../OverScanRemove/trim_images/trim_20170605_066.fits\n",
      "../OverScanRemove/trim_images/trim_20170605_067.fits\n",
      "../OverScanRemove/trim_images/trim_20170605_068.fits\n",
      "../OverScanRemove/trim_images/trim_20170605_069.fits\n",
      "../OverScanRemove/trim_images/trim_20170605_070.fits\n",
      "../OverScanRemove/trim_images/trim_20170605_071.fits\n",
      "../OverScanRemove/trim_images/trim_20170605_072.fits\n",
      "../OverScanRemove/trim_images/trim_20170605_073.fits\n",
      "../OverScanRemove/trim_images/trim_20170605_074.fits\n",
      "../OverScanRemove/trim_images/trim_20170605_075.fits\n",
      "../OverScanRemove/trim_images/trim_20170605_076.fits\n",
      "../OverScanRemove/trim_images/trim_20170605_077.fits\n",
      "../OverScanRemove/trim_images/trim_20170605_078.fits\n",
      "../OverScanRemove/trim_images/trim_20170605_079.fits\n",
      "../OverScanRemove/trim_images/trim_20170605_080.fits\n",
      "../OverScanRemove/trim_images/trim_20170605_081.fits\n",
      "../OverScanRemove/trim_images/trim_20170605_082.fits\n",
      "../OverScanRemove/trim_images/trim_20170605_083.fits\n",
      "../OverScanRemove/trim_images/trim_20170605_084.fits\n",
      "../OverScanRemove/trim_images/trim_20170605_085.fits\n",
      "../OverScanRemove/trim_images/trim_20170605_086.fits\n",
      "../OverScanRemove/trim_images/trim_20170605_087.fits\n",
      "../OverScanRemove/trim_images/trim_20170605_088.fits\n",
      "../OverScanRemove/trim_images/trim_20170605_089.fits\n",
      "../OverScanRemove/trim_images/trim_20170605_090.fits\n",
      "../OverScanRemove/trim_images/trim_20170605_091.fits\n",
      "../OverScanRemove/trim_images/trim_20170605_092.fits\n",
      "../OverScanRemove/trim_images/trim_20170605_093.fits\n",
      "../OverScanRemove/trim_images/trim_20170605_094.fits\n",
      "../OverScanRemove/trim_images/trim_20170605_095.fits\n",
      "../OverScanRemove/trim_images/trim_20170605_096.fits\n",
      "../OverScanRemove/trim_images/trim_20170605_097.fits\n",
      "../OverScanRemove/trim_images/trim_20170605_098.fits\n",
      "../OverScanRemove/trim_images/trim_20170605_100.fits\n",
      "../OverScanRemove/trim_images/trim_20170605_101.fits\n",
      "../OverScanRemove/trim_images/trim_20170605_102.fits\n",
      "../OverScanRemove/trim_images/trim_20170605_103.fits\n",
      "../OverScanRemove/trim_images/trim_20170605_104.fits\n",
      "../OverScanRemove/trim_images/trim_20170605_105.fits\n",
      "../OverScanRemove/trim_images/trim_20170605_106.fits\n",
      "../OverScanRemove/trim_images/trim_20170605_107.fits\n",
      "../OverScanRemove/trim_images/trim_20170605_108.fits\n",
      "../OverScanRemove/trim_images/trim_20170605_109.fits\n",
      "../OverScanRemove/trim_images/trim_20170605_110.fits\n",
      "../OverScanRemove/trim_images/trim_20170605_111.fits\n",
      "../OverScanRemove/trim_images/trim_20170605_112.fits\n",
      "../OverScanRemove/trim_images/trim_20170605_113.fits\n",
      "../OverScanRemove/trim_images/trim_20170605_114.fits\n",
      "../OverScanRemove/trim_images/trim_20170605_115.fits\n",
      "../OverScanRemove/trim_images/trim_20170605_116.fits\n",
      "../OverScanRemove/trim_images/trim_20170605_117.fits\n",
      "../OverScanRemove/trim_images/trim_20170605_118.fits\n",
      "../OverScanRemove/trim_images/trim_20170605_119.fits\n",
      "../OverScanRemove/trim_images/trim_20170605_120.fits\n",
      "../OverScanRemove/trim_images/trim_20170605_121.fits\n",
      "../OverScanRemove/trim_images/trim_20170605_122.fits\n",
      "../OverScanRemove/trim_images/trim_20170605_123.fits\n",
      "../OverScanRemove/trim_images/trim_20170605_124.fits\n",
      "../OverScanRemove/trim_images/trim_20170605_125.fits\n",
      "../OverScanRemove/trim_images/trim_20170605_126.fits\n"
     ]
    }
   ],
   "source": [
    "all_headers = []\n",
    "all_dates = []\n",
    "all_airmass = []\n",
    "all_exposures = []\n",
    "all_ut = []\n",
    "all_ra = []\n",
    "all_dec = []\n",
    "all_epoch = []\n",
    "all_zenith = []\n",
    "all_ha = []\n",
    "all_st = []\n",
    "all_alt = []\n",
    "all_focus = []\n",
    "all_temp = []\n",
    "all_press = []\n",
    "all_hum = []\n",
    "all_windsp = []\n",
    "all_seeing = []\n",
    "all_seeingam = []\n",
    "all_filter1 = []\n",
    "all_filter2 = []\n",
    "\n",
    "for idx,file in np.ndenumerate(sorted_filenames):  \n",
    "    print file\n",
    "    hdu_list=fits.open(file)\n",
    "    header=hdu_list[0].header\n",
    "    date_obs = header['DATE-OBS']\n",
    "    airmass = float(header['AIRMASS'])\n",
    "    expo= float(header['EXPTIME'])\n",
    "    num=indexes_files[idx[0]]\n",
    "   \n",
    "   \n",
    "    ut=header['UT']\n",
    "    ra=header['RA']\n",
    "    dec=header['DEC']\n",
    "    epoch=float(header['EPOCH'])\n",
    "    zd = float(header['ZD'])\n",
    "    ha = header['HA']\n",
    "    st = header['ST']\n",
    "    alt = float(header['ALT'])\n",
    "    fcl = float(header['TELFOCUS'])\n",
    "    temp= float(header['OUTTEMP'])\n",
    "    press= float(header['OUTPRESS'])\n",
    "    hum= float(header['OUTHUM'])\n",
    "    windsp=float(header['WNDSPEED'])\n",
    "    seeing=float(header['SEEING'])\n",
    "    seeingam=float(header['SAIRMASS'])\n",
    "    filter1 = header['FILTER1']\n",
    "    filter2 = header['FILTER2']\n",
    "    \n",
    "    all_dates.append(date_obs)\n",
    "    all_airmass.append(airmass)\n",
    "    all_headers.append(header)\n",
    "    all_exposures.append(expo)\n",
    "    all_ut.append(ut)\n",
    "    all_ra.append(ra)\n",
    "    all_dec.append(dec)\n",
    "    all_epoch.append(epoch)\n",
    "    all_zenith.append(zd)\n",
    "    all_ha.append(ha)\n",
    "    all_st.append(st)\n",
    "    all_alt.append(alt)\n",
    "    all_focus.append(fcl)\n",
    "    all_temp.append(temp)\n",
    "    all_press.append(press)\n",
    "    all_hum.append(hum)\n",
    "    all_windsp.append(windsp)\n",
    "    all_seeing.append(seeing)\n",
    "    all_seeingam.append(seeingam)\n",
    "    all_filter1.append(filter1)\n",
    "    all_filter2.append(filter2)\n",
    "\n",
    "    hdu_list.close()\n",
    "    "
   ]
  },
  {
   "cell_type": "code",
   "execution_count": 32,
   "metadata": {
    "collapsed": false,
    "deletable": true,
    "editable": true
   },
   "outputs": [
    {
     "data": {
      "text/plain": [
       "80"
      ]
     },
     "execution_count": 32,
     "metadata": {},
     "output_type": "execute_result"
    }
   ],
   "source": [
    "len(all_airmass)"
   ]
  },
  {
   "cell_type": "code",
   "execution_count": 33,
   "metadata": {
    "collapsed": false,
    "deletable": true,
    "editable": true
   },
   "outputs": [
    {
     "data": {
      "text/plain": [
       "['dia',\n",
       " 'dia',\n",
       " 'dia',\n",
       " 'dia',\n",
       " 'dia',\n",
       " 'dia',\n",
       " 'dia',\n",
       " 'dia',\n",
       " 'dia',\n",
       " 'dia',\n",
       " 'dia',\n",
       " 'dia',\n",
       " 'dia',\n",
       " 'dia',\n",
       " 'dia',\n",
       " 'dia',\n",
       " 'dia',\n",
       " 'dia',\n",
       " 'dia',\n",
       " 'dia',\n",
       " 'dia',\n",
       " 'dia',\n",
       " 'dia',\n",
       " 'dia',\n",
       " 'dia',\n",
       " 'dia',\n",
       " 'dia',\n",
       " 'dia',\n",
       " 'dia',\n",
       " 'dia',\n",
       " 'dia',\n",
       " 'dia',\n",
       " 'dia',\n",
       " 'dia',\n",
       " 'dia',\n",
       " 'dia',\n",
       " 'dia',\n",
       " 'dia',\n",
       " 'dia',\n",
       " 'dia',\n",
       " 'dia',\n",
       " 'dia',\n",
       " 'dia',\n",
       " 'dia',\n",
       " 'dia',\n",
       " 'dia',\n",
       " 'dia',\n",
       " 'dia',\n",
       " 'dia',\n",
       " 'dia',\n",
       " 'dia',\n",
       " 'dia',\n",
       " 'dia',\n",
       " 'dia',\n",
       " 'dia',\n",
       " 'dia',\n",
       " 'dia',\n",
       " 'dia',\n",
       " 'dia',\n",
       " 'dia',\n",
       " 'dia',\n",
       " 'dia',\n",
       " 'dia',\n",
       " 'dia',\n",
       " 'dia',\n",
       " 'dia',\n",
       " 'dia',\n",
       " 'dia',\n",
       " 'dia',\n",
       " 'dia',\n",
       " 'dia',\n",
       " 'dia',\n",
       " 'dia',\n",
       " 'dia',\n",
       " 'dia',\n",
       " 'dia',\n",
       " 'dia',\n",
       " 'dia',\n",
       " 'dia',\n",
       " 'dia']"
      ]
     },
     "execution_count": 33,
     "metadata": {},
     "output_type": "execute_result"
    }
   ],
   "source": [
    "all_filter1"
   ]
  },
  {
   "cell_type": "markdown",
   "metadata": {
    "deletable": true,
    "editable": true
   },
   "source": [
    "## Build outputfile"
   ]
  },
  {
   "cell_type": "code",
   "execution_count": 34,
   "metadata": {
    "collapsed": false,
    "deletable": true,
    "editable": true
   },
   "outputs": [],
   "source": [
    "col_airmass=np.array(all_airmass)\n",
    "col_number=np.array(indexes_files)\n",
    "col_date=np.array(all_dates)\n",
    "col_filename=np.array(filelist_all)\n",
    "col_exposure=np.array(all_exposures)\n",
    "col_zenith=np.array(all_zenith)\n",
    "col_altitude=np.array(all_alt)\n",
    "col_temperature=np.array(all_temp)\n",
    "col_pressure=np.array(all_press)\n",
    "col_humidity=np.array(all_hum)\n",
    "col_windsp=np.array(all_windsp)\n",
    "col_seeing=np.array(all_seeing)\n",
    "col_filter1=np.array(all_filter1)\n",
    "col_filter2=np.array(all_filter2)"
   ]
  },
  {
   "cell_type": "code",
   "execution_count": 35,
   "metadata": {
    "collapsed": false,
    "deletable": true,
    "editable": true
   },
   "outputs": [],
   "source": [
    "c1 = fits.Column(name='number', format='J', array=col_number)\n",
    "c2 = fits.Column(name='airmass', format='E', array=col_airmass)\n",
    "c3 = fits.Column(name='date', format='A50', array=col_date)\n",
    "c4 = fits.Column(name='filename', format='A30', array=sorted_filenames)\n",
    "c5 = fits.Column(name='exposure', format='E', array=col_exposure) \n",
    "c6 = fits.Column(name='zenith', format='E', array=col_zenith) \n",
    "#c7 = fits.Column(name='altitude', format='E', array=col_altitude) \n",
    "c8 = fits.Column(name='temperature', format='E', array=col_temperature) \n",
    "c9 = fits.Column(name='pressure', format='E', array=col_pressure) \n",
    "c10 = fits.Column(name='humidity', format='E', array=col_humidity) \n",
    "c11 = fits.Column(name='windspeed', format='E', array=col_windsp) \n",
    "c12 = fits.Column(name='seeing', format='E', array=col_seeing) \n",
    "c13 = fits.Column(name='filter1', format='A20', array=col_filter1)\n",
    "c14 = fits.Column(name='filter2', format='A20', array=col_filter2) "
   ]
  },
  {
   "cell_type": "code",
   "execution_count": 36,
   "metadata": {
    "collapsed": true,
    "deletable": true,
    "editable": true
   },
   "outputs": [],
   "source": [
    "tbhdu = fits.BinTableHDU.from_columns([c1, c2, c3, c4, c5,c6,c8,c9,c10,c11,c12,c13,c14])"
   ]
  },
  {
   "cell_type": "code",
   "execution_count": 37,
   "metadata": {
    "collapsed": false,
    "deletable": true,
    "editable": true
   },
   "outputs": [],
   "source": [
    "tbhdu.writeto(logfile,overwrite=True)"
   ]
  },
  {
   "cell_type": "markdown",
   "metadata": {
    "deletable": true,
    "editable": true
   },
   "source": [
    "## Convert into Table\n",
    "---------------------------"
   ]
  },
  {
   "cell_type": "code",
   "execution_count": 38,
   "metadata": {
    "collapsed": false,
    "deletable": true,
    "editable": true
   },
   "outputs": [],
   "source": [
    "thetable= Table(tbhdu.data)"
   ]
  },
  {
   "cell_type": "code",
   "execution_count": 39,
   "metadata": {
    "collapsed": false,
    "deletable": true,
    "editable": true
   },
   "outputs": [
    {
     "data": {
      "text/html": [
       "&lt;Table length=80&gt;\n",
       "<table id=\"table4596209744-996255\" class=\"table-striped table-bordered table-condensed\">\n",
       "<thead><tr><th>idx</th><th>number</th><th>airmass</th><th>date</th><th>filename</th><th>exposure</th><th>zenith</th><th>temperature</th><th>pressure</th><th>humidity</th><th>windspeed</th><th>seeing</th><th>filter1</th><th>filter2</th></tr></thead>\n",
       "<tr><td>0</td><td>46</td><td>1.132</td><td>2017-06-06T07:16:22.148</td><td>../OverScanRemove/trim_images/</td><td>60.0</td><td>27.931</td><td>6.1</td><td>776.0</td><td>32.0</td><td>19.1</td><td>0.918</td><td>dia</td><td>Thor300</td></tr>\n",
       "<tr><td>1</td><td>47</td><td>1.127</td><td>2017-06-06T07:18:14.748</td><td>../OverScanRemove/trim_images/</td><td>60.0</td><td>27.524</td><td>6.1</td><td>776.0</td><td>32.0</td><td>17.6</td><td>0.817</td><td>dia</td><td>HoloPhP</td></tr>\n",
       "<tr><td>2</td><td>48</td><td>1.123</td><td>2017-06-06T07:20:10.209</td><td>../OverScanRemove/trim_images/</td><td>120.0</td><td>27.116</td><td>6.2</td><td>776.0</td><td>32.0</td><td>21.1</td><td>0.852</td><td>dia</td><td>HoloPhAg</td></tr>\n",
       "<tr><td>3</td><td>49</td><td>1.117</td><td>2017-06-06T07:23:02.860</td><td>../OverScanRemove/trim_images/</td><td>120.0</td><td>26.492</td><td>6.1</td><td>776.0</td><td>32.0</td><td>17.3</td><td>1.059</td><td>dia</td><td>HoloAmAg</td></tr>\n",
       "<tr><td>4</td><td>50</td><td>1.111</td><td>2017-06-06T07:25:57.555</td><td>../OverScanRemove/trim_images/</td><td>60.0</td><td>25.853</td><td>6.0</td><td>776.0</td><td>32.0</td><td>17.9</td><td>1.059</td><td>dia</td><td>Thor300</td></tr>\n",
       "<tr><td>5</td><td>51</td><td>1.107</td><td>2017-06-06T07:27:50.154</td><td>../OverScanRemove/trim_images/</td><td>60.0</td><td>25.447</td><td>6.1</td><td>776.0</td><td>32.0</td><td>19.7</td><td>1.113</td><td>dia</td><td>HoloPhP</td></tr>\n",
       "<tr><td>6</td><td>52</td><td>1.104</td><td>2017-06-06T07:29:44.949</td><td>../OverScanRemove/trim_images/</td><td>120.0</td><td>25.04</td><td>6.1</td><td>776.0</td><td>32.0</td><td>16.6</td><td>1.262</td><td>dia</td><td>HoloPhAg</td></tr>\n",
       "<tr><td>7</td><td>53</td><td>1.098</td><td>2017-06-06T07:32:37.456</td><td>../OverScanRemove/trim_images/</td><td>120.0</td><td>24.417</td><td>6.1</td><td>776.0</td><td>32.0</td><td>19.9</td><td>1.05</td><td>dia</td><td>HoloAmAg</td></tr>\n",
       "<tr><td>8</td><td>54</td><td>1.093</td><td>2017-06-06T07:35:32.258</td><td>../OverScanRemove/trim_images/</td><td>60.0</td><td>23.778</td><td>6.2</td><td>776.0</td><td>32.0</td><td>19.1</td><td>1.313</td><td>dia</td><td>Thor300</td></tr>\n",
       "<tr><td>9</td><td>55</td><td>1.089</td><td>2017-06-06T07:37:24.862</td><td>../OverScanRemove/trim_images/</td><td>60.0</td><td>23.371</td><td>6.1</td><td>776.0</td><td>32.0</td><td>18.2</td><td>1.198</td><td>dia</td><td>HoloPhP</td></tr>\n",
       "<tr><td>10</td><td>56</td><td>1.086</td><td>2017-06-06T07:39:19.643</td><td>../OverScanRemove/trim_images/</td><td>120.0</td><td>22.965</td><td>6.2</td><td>776.0</td><td>32.0</td><td>17.9</td><td>0.988</td><td>dia</td><td>HoloPhAg</td></tr>\n",
       "<tr><td>11</td><td>57</td><td>1.081</td><td>2017-06-06T07:42:12.146</td><td>../OverScanRemove/trim_images/</td><td>120.0</td><td>22.341</td><td>6.2</td><td>776.0</td><td>32.0</td><td>18.9</td><td>0.673</td><td>dia</td><td>HoloAmAg</td></tr>\n",
       "<tr><td>12</td><td>58</td><td>1.076</td><td>2017-06-06T07:45:06.753</td><td>../OverScanRemove/trim_images/</td><td>60.0</td><td>21.703</td><td>6.2</td><td>776.0</td><td>32.0</td><td>18.5</td><td>0.615</td><td>dia</td><td>Thor300</td></tr>\n",
       "<tr><td>13</td><td>59</td><td>1.073</td><td>2017-06-06T07:46:59.356</td><td>../OverScanRemove/trim_images/</td><td>60.0</td><td>21.296</td><td>6.2</td><td>776.0</td><td>32.0</td><td>15.7</td><td>1.205</td><td>dia</td><td>HoloPhP</td></tr>\n",
       "<tr><td>14</td><td>60</td><td>1.07</td><td>2017-06-06T07:48:54.900</td><td>../OverScanRemove/trim_images/</td><td>120.0</td><td>20.887</td><td>6.2</td><td>776.0</td><td>32.0</td><td>16.9</td><td>1.496</td><td>dia</td><td>HoloPhAg</td></tr>\n",
       "<tr><td>15</td><td>61</td><td>1.066</td><td>2017-06-06T07:51:47.406</td><td>../OverScanRemove/trim_images/</td><td>120.0</td><td>20.264</td><td>6.1</td><td>776.0</td><td>32.0</td><td>17.6</td><td>1.426</td><td>dia</td><td>HoloAmAg</td></tr>\n",
       "<tr><td>16</td><td>62</td><td>1.062</td><td>2017-06-06T07:54:42.053</td><td>../OverScanRemove/trim_images/</td><td>60.0</td><td>19.626</td><td>6.2</td><td>776.0</td><td>32.0</td><td>17.9</td><td>1.298</td><td>dia</td><td>Thor300</td></tr>\n",
       "<tr><td>17</td><td>63</td><td>1.059</td><td>2017-06-06T07:56:34.602</td><td>../OverScanRemove/trim_images/</td><td>60.0</td><td>19.22</td><td>6.1</td><td>776.0</td><td>32.0</td><td>19.3</td><td>1.175</td><td>dia</td><td>HoloPhP</td></tr>\n",
       "<tr><td>18</td><td>64</td><td>1.056</td><td>2017-06-06T07:58:29.408</td><td>../OverScanRemove/trim_images/</td><td>120.0</td><td>18.814</td><td>6.1</td><td>776.0</td><td>32.0</td><td>19.2</td><td>1.15</td><td>dia</td><td>HoloPhAg</td></tr>\n",
       "<tr><td>19</td><td>65</td><td>1.053</td><td>2017-06-06T08:01:22.049</td><td>../OverScanRemove/trim_images/</td><td>120.0</td><td>18.192</td><td>6.2</td><td>776.0</td><td>31.0</td><td>17.8</td><td>1.093</td><td>dia</td><td>HoloAmAg</td></tr>\n",
       "<tr><td>20</td><td>66</td><td>1.049</td><td>2017-06-06T08:04:16.853</td><td>../OverScanRemove/trim_images/</td><td>60.0</td><td>17.554</td><td>6.2</td><td>776.0</td><td>31.0</td><td>18.2</td><td>1.033</td><td>dia</td><td>Thor300</td></tr>\n",
       "<tr><td>21</td><td>67</td><td>1.046</td><td>2017-06-06T08:06:09.507</td><td>../OverScanRemove/trim_images/</td><td>60.0</td><td>17.148</td><td>6.2</td><td>776.0</td><td>31.0</td><td>19.2</td><td>0.968</td><td>dia</td><td>HoloPhP</td></tr>\n",
       "<tr><td>22</td><td>68</td><td>1.044</td><td>2017-06-06T08:08:04.997</td><td>../OverScanRemove/trim_images/</td><td>120.0</td><td>16.741</td><td>6.2</td><td>776.0</td><td>31.0</td><td>18.9</td><td>1.087</td><td>dia</td><td>HoloPhAg</td></tr>\n",
       "<tr><td>23</td><td>69</td><td>1.041</td><td>2017-06-06T08:10:57.502</td><td>../OverScanRemove/trim_images/</td><td>120.0</td><td>16.121</td><td>6.3</td><td>776.0</td><td>31.0</td><td>18.8</td><td>1.415</td><td>dia</td><td>HoloAmAg</td></tr>\n",
       "<tr><td>24</td><td>70</td><td>1.038</td><td>2017-06-06T08:13:51.458</td><td>../OverScanRemove/trim_images/</td><td>60.0</td><td>15.488</td><td>6.3</td><td>776.0</td><td>30.0</td><td>18.5</td><td>2.155</td><td>dia</td><td>Thor300</td></tr>\n",
       "<tr><td>25</td><td>71</td><td>1.036</td><td>2017-06-06T08:15:44.002</td><td>../OverScanRemove/trim_images/</td><td>60.0</td><td>15.084</td><td>6.2</td><td>776.0</td><td>31.0</td><td>16.6</td><td>1.588</td><td>dia</td><td>HoloPhP</td></tr>\n",
       "<tr><td>26</td><td>72</td><td>1.034</td><td>2017-06-06T08:17:38.751</td><td>../OverScanRemove/trim_images/</td><td>120.0</td><td>14.68</td><td>6.1</td><td>776.0</td><td>31.0</td><td>17.7</td><td>1.507</td><td>dia</td><td>HoloPhAg</td></tr>\n",
       "<tr><td>27</td><td>73</td><td>1.031</td><td>2017-06-06T08:20:31.345</td><td>../OverScanRemove/trim_images/</td><td>120.0</td><td>14.062</td><td>6.1</td><td>776.0</td><td>31.0</td><td>15.8</td><td>1.192</td><td>dia</td><td>HoloAmAg</td></tr>\n",
       "<tr><td>28</td><td>74</td><td>1.028</td><td>2017-06-06T08:23:26.155</td><td>../OverScanRemove/trim_images/</td><td>60.0</td><td>13.429</td><td>6.2</td><td>776.0</td><td>31.0</td><td>14.7</td><td>1.123</td><td>dia</td><td>Thor300</td></tr>\n",
       "<tr><td>29</td><td>75</td><td>1.026</td><td>2017-06-06T08:25:18.705</td><td>../OverScanRemove/trim_images/</td><td>60.0</td><td>13.027</td><td>6.2</td><td>776.0</td><td>31.0</td><td>16.4</td><td>1.133</td><td>dia</td><td>HoloPhP</td></tr>\n",
       "<tr><td>30</td><td>76</td><td>1.025</td><td>2017-06-06T08:27:13.457</td><td>../OverScanRemove/trim_images/</td><td>120.0</td><td>12.625</td><td>6.2</td><td>776.0</td><td>31.0</td><td>16.2</td><td>1.089</td><td>dia</td><td>HoloPhAg</td></tr>\n",
       "<tr><td>31</td><td>77</td><td>1.022</td><td>2017-06-06T08:30:05.910</td><td>../OverScanRemove/trim_images/</td><td>120.0</td><td>12.011</td><td>6.2</td><td>776.0</td><td>31.0</td><td>15.4</td><td>1.048</td><td>dia</td><td>HoloAmAg</td></tr>\n",
       "<tr><td>32</td><td>78</td><td>1.02</td><td>2017-06-06T08:33:00.655</td><td>../OverScanRemove/trim_images/</td><td>60.0</td><td>11.384</td><td>6.2</td><td>776.0</td><td>31.0</td><td>16.7</td><td>1.082</td><td>dia</td><td>Thor300</td></tr>\n",
       "<tr><td>33</td><td>79</td><td>1.019</td><td>2017-06-06T08:34:53.311</td><td>../OverScanRemove/trim_images/</td><td>60.0</td><td>10.985</td><td>6.2</td><td>776.0</td><td>31.0</td><td>15.1</td><td>1.098</td><td>dia</td><td>HoloPhP</td></tr>\n",
       "<tr><td>34</td><td>80</td><td>1.017</td><td>2017-06-06T08:36:48.060</td><td>../OverScanRemove/trim_images/</td><td>120.0</td><td>10.588</td><td>6.1</td><td>776.0</td><td>31.0</td><td>14.5</td><td>1.265</td><td>dia</td><td>HoloPhAg</td></tr>\n",
       "<tr><td>35</td><td>81</td><td>1.015</td><td>2017-06-06T08:39:40.653</td><td>../OverScanRemove/trim_images/</td><td>120.0</td><td>9.98</td><td>6.1</td><td>776.0</td><td>31.0</td><td>12.6</td><td>1.33</td><td>dia</td><td>HoloAmAg</td></tr>\n",
       "<tr><td>36</td><td>82</td><td>1.013</td><td>2017-06-06T08:42:35.449</td><td>../OverScanRemove/trim_images/</td><td>60.0</td><td>9.361</td><td>6.1</td><td>776.0</td><td>31.0</td><td>12.2</td><td>1.33</td><td>dia</td><td>Thor300</td></tr>\n",
       "<tr><td>37</td><td>83</td><td>1.012</td><td>2017-06-06T08:44:27.906</td><td>../OverScanRemove/trim_images/</td><td>60.0</td><td>8.97</td><td>6.1</td><td>776.0</td><td>31.0</td><td>13.9</td><td>1.33</td><td>dia</td><td>HoloPhP</td></tr>\n",
       "<tr><td>38</td><td>84</td><td>1.011</td><td>2017-06-06T08:46:22.746</td><td>../OverScanRemove/trim_images/</td><td>120.0</td><td>8.579</td><td>6.1</td><td>776.0</td><td>31.0</td><td>13.6</td><td>1.452</td><td>dia</td><td>HoloPhAg</td></tr>\n",
       "<tr><td>39</td><td>85</td><td>1.01</td><td>2017-06-06T08:49:15.307</td><td>../OverScanRemove/trim_images/</td><td>120.0</td><td>7.985</td><td>6.1</td><td>776.0</td><td>31.0</td><td>14.8</td><td>1.655</td><td>dia</td><td>HoloAmAg</td></tr>\n",
       "<tr><td>40</td><td>86</td><td>1.008</td><td>2017-06-06T08:52:10.149</td><td>../OverScanRemove/trim_images/</td><td>60.0</td><td>7.383</td><td>6.1</td><td>776.0</td><td>31.0</td><td>13.1</td><td>1.349</td><td>dia</td><td>Thor300</td></tr>\n",
       "<tr><td>41</td><td>87</td><td>1.008</td><td>2017-06-06T08:54:02.747</td><td>../OverScanRemove/trim_images/</td><td>60.0</td><td>7.005</td><td>6.1</td><td>776.0</td><td>31.0</td><td>15.1</td><td>1.303</td><td>dia</td><td>HoloPhP</td></tr>\n",
       "<tr><td>42</td><td>88</td><td>1.007</td><td>2017-06-06T08:55:57.449</td><td>../OverScanRemove/trim_images/</td><td>120.0</td><td>6.628</td><td>6.2</td><td>776.0</td><td>31.0</td><td>13.9</td><td>1.77</td><td>dia</td><td>HoloPhAg</td></tr>\n",
       "<tr><td>43</td><td>89</td><td>1.006</td><td>2017-06-06T08:58:49.947</td><td>../OverScanRemove/trim_images/</td><td>120.0</td><td>6.063</td><td>6.2</td><td>776.0</td><td>31.0</td><td>15.3</td><td>1.696</td><td>dia</td><td>HoloAmAg</td></tr>\n",
       "<tr><td>44</td><td>90</td><td>1.005</td><td>2017-06-06T09:01:44.649</td><td>../OverScanRemove/trim_images/</td><td>60.0</td><td>5.5</td><td>6.2</td><td>776.0</td><td>31.0</td><td>16.2</td><td>1.595</td><td>dia</td><td>Thor300</td></tr>\n",
       "<tr><td>45</td><td>91</td><td>1.004</td><td>2017-06-06T09:03:37.100</td><td>../OverScanRemove/trim_images/</td><td>60.0</td><td>5.15</td><td>6.1</td><td>776.0</td><td>31.0</td><td>14.4</td><td>1.377</td><td>dia</td><td>HoloPhP</td></tr>\n",
       "<tr><td>46</td><td>92</td><td>1.004</td><td>2017-06-06T09:05:31.957</td><td>../OverScanRemove/trim_images/</td><td>120.0</td><td>4.808</td><td>6.1</td><td>776.0</td><td>31.0</td><td>13.5</td><td>1.112</td><td>dia</td><td>HoloPhAg</td></tr>\n",
       "<tr><td>47</td><td>93</td><td>1.003</td><td>2017-06-06T09:08:24.553</td><td>../OverScanRemove/trim_images/</td><td>120.0</td><td>4.312</td><td>6.1</td><td>776.0</td><td>31.0</td><td>19.3</td><td>1.107</td><td>dia</td><td>HoloAmAg</td></tr>\n",
       "<tr><td>48</td><td>94</td><td>1.002</td><td>2017-06-06T09:11:17.862</td><td>../OverScanRemove/trim_images/</td><td>60.0</td><td>3.851</td><td>6.2</td><td>776.0</td><td>31.0</td><td>19.3</td><td>1.373</td><td>dia</td><td>Thor300</td></tr>\n",
       "<tr><td>49</td><td>95</td><td>1.002</td><td>2017-06-06T09:13:11.798</td><td>../OverScanRemove/trim_images/</td><td>60.0</td><td>3.58</td><td>6.2</td><td>776.0</td><td>31.0</td><td>19.3</td><td>1.389</td><td>dia</td><td>HoloPhP</td></tr>\n",
       "<tr><td>50</td><td>96</td><td>1.002</td><td>2017-06-06T09:15:06.548</td><td>../OverScanRemove/trim_images/</td><td>120.0</td><td>3.338</td><td>6.2</td><td>776.0</td><td>31.0</td><td>19.9</td><td>1.062</td><td>dia</td><td>HoloPhAg</td></tr>\n",
       "<tr><td>51</td><td>97</td><td>1.001</td><td>2017-06-06T09:17:59.098</td><td>../OverScanRemove/trim_images/</td><td>120.0</td><td>3.045</td><td>6.2</td><td>776.0</td><td>31.0</td><td>18.1</td><td>1.006</td><td>dia</td><td>HoloAmAg</td></tr>\n",
       "<tr><td>52</td><td>98</td><td>1.001</td><td>2017-06-06T09:20:53.246</td><td>../OverScanRemove/trim_images/</td><td>60.0</td><td>2.868</td><td>6.2</td><td>776.0</td><td>31.0</td><td>17.9</td><td>0.879</td><td>dia</td><td>Thor300</td></tr>\n",
       "<tr><td>53</td><td>100</td><td>1.001</td><td>2017-06-06T09:24:41.359</td><td>../OverScanRemove/trim_images/</td><td>120.0</td><td>2.831</td><td>6.1</td><td>776.0</td><td>31.0</td><td>15.7</td><td>0.664</td><td>dia</td><td>HoloPhAg</td></tr>\n",
       "<tr><td>54</td><td>101</td><td>1.001</td><td>2017-06-06T09:27:33.902</td><td>../OverScanRemove/trim_images/</td><td>120.0</td><td>2.968</td><td>6.2</td><td>776.0</td><td>31.0</td><td>16.7</td><td>0.823</td><td>dia</td><td>HoloAmAg</td></tr>\n",
       "<tr><td>55</td><td>102</td><td>1.002</td><td>2017-06-06T09:30:27.905</td><td>../OverScanRemove/trim_images/</td><td>60.0</td><td>3.238</td><td>6.2</td><td>776.0</td><td>31.0</td><td>17.6</td><td>0.82</td><td>dia</td><td>Thor300</td></tr>\n",
       "<tr><td>56</td><td>103</td><td>1.002</td><td>2017-06-06T09:32:20.360</td><td>../OverScanRemove/trim_images/</td><td>60.0</td><td>3.458</td><td>6.2</td><td>776.0</td><td>31.0</td><td>18.0</td><td>0.923</td><td>dia</td><td>HoloPhP</td></tr>\n",
       "<tr><td>57</td><td>104</td><td>1.002</td><td>2017-06-06T09:34:15.146</td><td>../OverScanRemove/trim_images/</td><td>120.0</td><td>3.706</td><td>6.2</td><td>776.0</td><td>31.0</td><td>17.8</td><td>0.79</td><td>dia</td><td>HoloPhAg</td></tr>\n",
       "<tr><td>58</td><td>105</td><td>1.003</td><td>2017-06-06T09:37:07.898</td><td>../OverScanRemove/trim_images/</td><td>120.0</td><td>4.145</td><td>6.2</td><td>776.0</td><td>31.0</td><td>21.0</td><td>0.802</td><td>dia</td><td>HoloAmAg</td></tr>\n",
       "<tr><td>59</td><td>106</td><td>1.003</td><td>2017-06-06T09:40:02.596</td><td>../OverScanRemove/trim_images/</td><td>60.0</td><td>4.647</td><td>6.2</td><td>776.0</td><td>31.0</td><td>19.0</td><td>0.789</td><td>dia</td><td>Thor300</td></tr>\n",
       "<tr><td>60</td><td>107</td><td>1.004</td><td>2017-06-06T09:41:55.102</td><td>../OverScanRemove/trim_images/</td><td>60.0</td><td>4.981</td><td>6.3</td><td>776.0</td><td>31.0</td><td>19.7</td><td>0.73</td><td>dia</td><td>HoloPhP</td></tr>\n",
       "<tr><td>61</td><td>108</td><td>1.004</td><td>2017-06-06T09:43:49.846</td><td>../OverScanRemove/trim_images/</td><td>120.0</td><td>5.32</td><td>6.2</td><td>776.0</td><td>31.0</td><td>17.9</td><td>0.552</td><td>dia</td><td>HoloPhAg</td></tr>\n",
       "<tr><td>62</td><td>109</td><td>1.005</td><td>2017-06-06T09:46:42.403</td><td>../OverScanRemove/trim_images/</td><td>120.0</td><td>5.866</td><td>6.1</td><td>776.0</td><td>31.0</td><td>17.7</td><td>0.562</td><td>dia</td><td>HoloAmAg</td></tr>\n",
       "<tr><td>63</td><td>110</td><td>1.006</td><td>2017-06-06T09:49:37.258</td><td>../OverScanRemove/trim_images/</td><td>60.0</td><td>6.446</td><td>6.2</td><td>776.0</td><td>31.0</td><td>18.8</td><td>0.541</td><td>dia</td><td>Thor300</td></tr>\n",
       "<tr><td>64</td><td>111</td><td>1.007</td><td>2017-06-06T09:51:29.751</td><td>../OverScanRemove/trim_images/</td><td>60.0</td><td>6.819</td><td>6.1</td><td>776.0</td><td>31.0</td><td>15.9</td><td>0.587</td><td>dia</td><td>HoloPhP</td></tr>\n",
       "<tr><td>65</td><td>112</td><td>1.008</td><td>2017-06-06T09:53:24.549</td><td>../OverScanRemove/trim_images/</td><td>120.0</td><td>7.192</td><td>6.2</td><td>776.0</td><td>31.0</td><td>17.4</td><td>0.579</td><td>dia</td><td>HoloPhAg</td></tr>\n",
       "<tr><td>66</td><td>113</td><td>1.009</td><td>2017-06-06T09:56:17.207</td><td>../OverScanRemove/trim_images/</td><td>120.0</td><td>7.777</td><td>6.2</td><td>776.0</td><td>31.0</td><td>17.7</td><td>0.55</td><td>dia</td><td>HoloAmAg</td></tr>\n",
       "<tr><td>67</td><td>114</td><td>1.011</td><td>2017-06-06T09:59:11.858</td><td>../OverScanRemove/trim_images/</td><td>60.0</td><td>8.388</td><td>6.1</td><td>776.0</td><td>31.0</td><td>15.7</td><td>0.513</td><td>dia</td><td>Thor300</td></tr>\n",
       "<tr><td>68</td><td>115</td><td>1.012</td><td>2017-06-06T10:01:04.453</td><td>../OverScanRemove/trim_images/</td><td>60.0</td><td>8.777</td><td>6.1</td><td>776.0</td><td>31.0</td><td>15.4</td><td>0.486</td><td>dia</td><td>HoloPhP</td></tr>\n",
       "<tr><td>69</td><td>116</td><td>1.013</td><td>2017-06-06T10:02:59.249</td><td>../OverScanRemove/trim_images/</td><td>120.0</td><td>9.164</td><td>6.2</td><td>776.0</td><td>31.0</td><td>15.4</td><td>0.518</td><td>dia</td><td>HoloPhAg</td></tr>\n",
       "<tr><td>70</td><td>117</td><td>1.015</td><td>2017-06-06T10:05:51.752</td><td>../OverScanRemove/trim_images/</td><td>120.0</td><td>9.766</td><td>6.1</td><td>776.0</td><td>31.0</td><td>18.3</td><td>0.539</td><td>dia</td><td>HoloAmAg</td></tr>\n",
       "<tr><td>71</td><td>118</td><td>1.017</td><td>2017-06-06T10:08:46.505</td><td>../OverScanRemove/trim_images/</td><td>60.0</td><td>10.392</td><td>6.2</td><td>776.0</td><td>31.0</td><td>19.0</td><td>0.576</td><td>dia</td><td>Thor300</td></tr>\n",
       "<tr><td>72</td><td>119</td><td>1.018</td><td>2017-06-06T10:10:38.907</td><td>../OverScanRemove/trim_images/</td><td>60.0</td><td>10.788</td><td>6.2</td><td>776.0</td><td>31.0</td><td>18.6</td><td>0.496</td><td>dia</td><td>HoloPhP</td></tr>\n",
       "<tr><td>73</td><td>120</td><td>1.019</td><td>2017-06-06T10:12:33.652</td><td>../OverScanRemove/trim_images/</td><td>120.0</td><td>11.182</td><td>6.1</td><td>776.0</td><td>31.0</td><td>16.2</td><td>0.493</td><td>dia</td><td>HoloPhAg</td></tr>\n",
       "<tr><td>74</td><td>121</td><td>1.022</td><td>2017-06-06T10:15:26.147</td><td>../OverScanRemove/trim_images/</td><td>120.0</td><td>11.793</td><td>6.1</td><td>776.0</td><td>31.0</td><td>16.8</td><td>0.512</td><td>dia</td><td>HoloAmAg</td></tr>\n",
       "<tr><td>75</td><td>122</td><td>1.024</td><td>2017-06-06T10:18:21.601</td><td>../OverScanRemove/trim_images/</td><td>60.0</td><td>12.428</td><td>6.0</td><td>776.0</td><td>32.0</td><td>16.1</td><td>0.485</td><td>dia</td><td>Thor300</td></tr>\n",
       "<tr><td>76</td><td>123</td><td>1.026</td><td>2017-06-06T10:20:14.046</td><td>../OverScanRemove/trim_images/</td><td>60.0</td><td>12.829</td><td>6.0</td><td>776.0</td><td>32.0</td><td>14.8</td><td>0.477</td><td>dia</td><td>HoloPhP</td></tr>\n",
       "<tr><td>77</td><td>124</td><td>1.027</td><td>2017-06-06T10:22:08.103</td><td>../OverScanRemove/trim_images/</td><td>120.0</td><td>13.225</td><td>6.1</td><td>776.0</td><td>32.0</td><td>13.1</td><td>0.585</td><td>dia</td><td>HoloPhAg</td></tr>\n",
       "<tr><td>78</td><td>125</td><td>1.03</td><td>2017-06-06T10:25:00.600</td><td>../OverScanRemove/trim_images/</td><td>120.0</td><td>13.841</td><td>6.0</td><td>776.0</td><td>32.0</td><td>15.4</td><td>0.573</td><td>dia</td><td>HoloAmAg</td></tr>\n",
       "<tr><td>79</td><td>126</td><td>1.033</td><td>2017-06-06T10:27:55.300</td><td>../OverScanRemove/trim_images/</td><td>60.0</td><td>14.478</td><td>6.0</td><td>776.0</td><td>32.0</td><td>15.7</td><td>0.581</td><td>dia</td><td>Thor300</td></tr>\n",
       "</table><style>table.dataTable {clear: both; width: auto !important; margin: 0 !important;}\n",
       ".dataTables_info, .dataTables_length, .dataTables_filter, .dataTables_paginate{\n",
       "display: inline-block; margin-right: 1em; }\n",
       ".paginate_button { margin-right: 5px; }\n",
       "</style>\n",
       "<script>\n",
       "require.config({paths: {\n",
       "    datatables: 'https://cdn.datatables.net/1.10.12/js/jquery.dataTables.min'\n",
       "}});\n",
       "require([\"datatables\"], function(){\n",
       "    console.log(\"$('#table4596209744-996255').dataTable()\");\n",
       "    $('#table4596209744-996255').dataTable({\n",
       "        \"order\": [],\n",
       "        \"iDisplayLength\": 50,\n",
       "        \"aLengthMenu\": [[10, 25, 50, 100, 500, 1000, -1], [10, 25, 50, 100, 500, 1000, 'All']],\n",
       "        \"pagingType\": \"full_numbers\"\n",
       "    });\n",
       "});\n",
       "</script>\n"
      ],
      "text/plain": [
       "<IPython.core.display.HTML object>"
      ]
     },
     "execution_count": 39,
     "metadata": {},
     "output_type": "execute_result"
    }
   ],
   "source": [
    "thetable.show_in_notebook()"
   ]
  },
  {
   "cell_type": "markdown",
   "metadata": {
    "deletable": true,
    "editable": true
   },
   "source": [
    "## Read the logfile into a Table\n",
    "---------------------------------------"
   ]
  },
  {
   "cell_type": "code",
   "execution_count": 40,
   "metadata": {
    "collapsed": false,
    "deletable": true,
    "editable": true
   },
   "outputs": [
    {
     "name": "stdout",
     "output_type": "stream",
     "text": [
      "logbk_HD205905_Jun_05th_ctio05jun2017.fits\n"
     ]
    }
   ],
   "source": [
    "print logfile"
   ]
  },
  {
   "cell_type": "code",
   "execution_count": 41,
   "metadata": {
    "collapsed": true,
    "deletable": true,
    "editable": true
   },
   "outputs": [],
   "source": [
    "t = Table.read(logfile)"
   ]
  },
  {
   "cell_type": "code",
   "execution_count": 42,
   "metadata": {
    "collapsed": false,
    "deletable": true,
    "editable": true
   },
   "outputs": [
    {
     "data": {
      "text/html": [
       "&lt;Table length=80&gt;\n",
       "<table id=\"table4596448784\" class=\"table-striped table-bordered table-condensed\">\n",
       "<thead><tr><th>number</th><th>airmass</th><th>date</th><th>filename</th><th>exposure</th><th>zenith</th><th>temperature</th><th>pressure</th><th>humidity</th><th>windspeed</th><th>seeing</th><th>filter1</th><th>filter2</th></tr></thead>\n",
       "<thead><tr><th>int32</th><th>float32</th><th>str50</th><th>str30</th><th>float32</th><th>float32</th><th>float32</th><th>float32</th><th>float32</th><th>float32</th><th>float32</th><th>str20</th><th>str20</th></tr></thead>\n",
       "<tr><td>46</td><td>1.132</td><td>2017-06-06T07:16:22.148</td><td>../OverScanRemove/trim_images/</td><td>60.0</td><td>27.931</td><td>6.1</td><td>776.0</td><td>32.0</td><td>19.1</td><td>0.918</td><td>dia</td><td>Thor300</td></tr>\n",
       "<tr><td>47</td><td>1.127</td><td>2017-06-06T07:18:14.748</td><td>../OverScanRemove/trim_images/</td><td>60.0</td><td>27.524</td><td>6.1</td><td>776.0</td><td>32.0</td><td>17.6</td><td>0.817</td><td>dia</td><td>HoloPhP</td></tr>\n",
       "<tr><td>48</td><td>1.123</td><td>2017-06-06T07:20:10.209</td><td>../OverScanRemove/trim_images/</td><td>120.0</td><td>27.116</td><td>6.2</td><td>776.0</td><td>32.0</td><td>21.1</td><td>0.852</td><td>dia</td><td>HoloPhAg</td></tr>\n",
       "<tr><td>49</td><td>1.117</td><td>2017-06-06T07:23:02.860</td><td>../OverScanRemove/trim_images/</td><td>120.0</td><td>26.492</td><td>6.1</td><td>776.0</td><td>32.0</td><td>17.3</td><td>1.059</td><td>dia</td><td>HoloAmAg</td></tr>\n",
       "<tr><td>50</td><td>1.111</td><td>2017-06-06T07:25:57.555</td><td>../OverScanRemove/trim_images/</td><td>60.0</td><td>25.853</td><td>6.0</td><td>776.0</td><td>32.0</td><td>17.9</td><td>1.059</td><td>dia</td><td>Thor300</td></tr>\n",
       "<tr><td>51</td><td>1.107</td><td>2017-06-06T07:27:50.154</td><td>../OverScanRemove/trim_images/</td><td>60.0</td><td>25.447</td><td>6.1</td><td>776.0</td><td>32.0</td><td>19.7</td><td>1.113</td><td>dia</td><td>HoloPhP</td></tr>\n",
       "<tr><td>52</td><td>1.104</td><td>2017-06-06T07:29:44.949</td><td>../OverScanRemove/trim_images/</td><td>120.0</td><td>25.04</td><td>6.1</td><td>776.0</td><td>32.0</td><td>16.6</td><td>1.262</td><td>dia</td><td>HoloPhAg</td></tr>\n",
       "<tr><td>53</td><td>1.098</td><td>2017-06-06T07:32:37.456</td><td>../OverScanRemove/trim_images/</td><td>120.0</td><td>24.417</td><td>6.1</td><td>776.0</td><td>32.0</td><td>19.9</td><td>1.05</td><td>dia</td><td>HoloAmAg</td></tr>\n",
       "<tr><td>54</td><td>1.093</td><td>2017-06-06T07:35:32.258</td><td>../OverScanRemove/trim_images/</td><td>60.0</td><td>23.778</td><td>6.2</td><td>776.0</td><td>32.0</td><td>19.1</td><td>1.313</td><td>dia</td><td>Thor300</td></tr>\n",
       "<tr><td>55</td><td>1.089</td><td>2017-06-06T07:37:24.862</td><td>../OverScanRemove/trim_images/</td><td>60.0</td><td>23.371</td><td>6.1</td><td>776.0</td><td>32.0</td><td>18.2</td><td>1.198</td><td>dia</td><td>HoloPhP</td></tr>\n",
       "<tr><td>...</td><td>...</td><td>...</td><td>...</td><td>...</td><td>...</td><td>...</td><td>...</td><td>...</td><td>...</td><td>...</td><td>...</td><td>...</td></tr>\n",
       "<tr><td>117</td><td>1.015</td><td>2017-06-06T10:05:51.752</td><td>../OverScanRemove/trim_images/</td><td>120.0</td><td>9.766</td><td>6.1</td><td>776.0</td><td>31.0</td><td>18.3</td><td>0.539</td><td>dia</td><td>HoloAmAg</td></tr>\n",
       "<tr><td>118</td><td>1.017</td><td>2017-06-06T10:08:46.505</td><td>../OverScanRemove/trim_images/</td><td>60.0</td><td>10.392</td><td>6.2</td><td>776.0</td><td>31.0</td><td>19.0</td><td>0.576</td><td>dia</td><td>Thor300</td></tr>\n",
       "<tr><td>119</td><td>1.018</td><td>2017-06-06T10:10:38.907</td><td>../OverScanRemove/trim_images/</td><td>60.0</td><td>10.788</td><td>6.2</td><td>776.0</td><td>31.0</td><td>18.6</td><td>0.496</td><td>dia</td><td>HoloPhP</td></tr>\n",
       "<tr><td>120</td><td>1.019</td><td>2017-06-06T10:12:33.652</td><td>../OverScanRemove/trim_images/</td><td>120.0</td><td>11.182</td><td>6.1</td><td>776.0</td><td>31.0</td><td>16.2</td><td>0.493</td><td>dia</td><td>HoloPhAg</td></tr>\n",
       "<tr><td>121</td><td>1.022</td><td>2017-06-06T10:15:26.147</td><td>../OverScanRemove/trim_images/</td><td>120.0</td><td>11.793</td><td>6.1</td><td>776.0</td><td>31.0</td><td>16.8</td><td>0.512</td><td>dia</td><td>HoloAmAg</td></tr>\n",
       "<tr><td>122</td><td>1.024</td><td>2017-06-06T10:18:21.601</td><td>../OverScanRemove/trim_images/</td><td>60.0</td><td>12.428</td><td>6.0</td><td>776.0</td><td>32.0</td><td>16.1</td><td>0.485</td><td>dia</td><td>Thor300</td></tr>\n",
       "<tr><td>123</td><td>1.026</td><td>2017-06-06T10:20:14.046</td><td>../OverScanRemove/trim_images/</td><td>60.0</td><td>12.829</td><td>6.0</td><td>776.0</td><td>32.0</td><td>14.8</td><td>0.477</td><td>dia</td><td>HoloPhP</td></tr>\n",
       "<tr><td>124</td><td>1.027</td><td>2017-06-06T10:22:08.103</td><td>../OverScanRemove/trim_images/</td><td>120.0</td><td>13.225</td><td>6.1</td><td>776.0</td><td>32.0</td><td>13.1</td><td>0.585</td><td>dia</td><td>HoloPhAg</td></tr>\n",
       "<tr><td>125</td><td>1.03</td><td>2017-06-06T10:25:00.600</td><td>../OverScanRemove/trim_images/</td><td>120.0</td><td>13.841</td><td>6.0</td><td>776.0</td><td>32.0</td><td>15.4</td><td>0.573</td><td>dia</td><td>HoloAmAg</td></tr>\n",
       "<tr><td>126</td><td>1.033</td><td>2017-06-06T10:27:55.300</td><td>../OverScanRemove/trim_images/</td><td>60.0</td><td>14.478</td><td>6.0</td><td>776.0</td><td>32.0</td><td>15.7</td><td>0.581</td><td>dia</td><td>Thor300</td></tr>\n",
       "</table>"
      ],
      "text/plain": [
       "<Table length=80>\n",
       "number airmass           date          ...  seeing filter1 filter2 \n",
       "int32  float32          str50          ... float32  str20   str20  \n",
       "------ ------- ----------------------- ... ------- ------- --------\n",
       "    46   1.132 2017-06-06T07:16:22.148 ...   0.918     dia  Thor300\n",
       "    47   1.127 2017-06-06T07:18:14.748 ...   0.817     dia  HoloPhP\n",
       "    48   1.123 2017-06-06T07:20:10.209 ...   0.852     dia HoloPhAg\n",
       "    49   1.117 2017-06-06T07:23:02.860 ...   1.059     dia HoloAmAg\n",
       "    50   1.111 2017-06-06T07:25:57.555 ...   1.059     dia  Thor300\n",
       "    51   1.107 2017-06-06T07:27:50.154 ...   1.113     dia  HoloPhP\n",
       "    52   1.104 2017-06-06T07:29:44.949 ...   1.262     dia HoloPhAg\n",
       "    53   1.098 2017-06-06T07:32:37.456 ...    1.05     dia HoloAmAg\n",
       "    54   1.093 2017-06-06T07:35:32.258 ...   1.313     dia  Thor300\n",
       "    55   1.089 2017-06-06T07:37:24.862 ...   1.198     dia  HoloPhP\n",
       "   ...     ...                     ... ...     ...     ...      ...\n",
       "   117   1.015 2017-06-06T10:05:51.752 ...   0.539     dia HoloAmAg\n",
       "   118   1.017 2017-06-06T10:08:46.505 ...   0.576     dia  Thor300\n",
       "   119   1.018 2017-06-06T10:10:38.907 ...   0.496     dia  HoloPhP\n",
       "   120   1.019 2017-06-06T10:12:33.652 ...   0.493     dia HoloPhAg\n",
       "   121   1.022 2017-06-06T10:15:26.147 ...   0.512     dia HoloAmAg\n",
       "   122   1.024 2017-06-06T10:18:21.601 ...   0.485     dia  Thor300\n",
       "   123   1.026 2017-06-06T10:20:14.046 ...   0.477     dia  HoloPhP\n",
       "   124   1.027 2017-06-06T10:22:08.103 ...   0.585     dia HoloPhAg\n",
       "   125    1.03 2017-06-06T10:25:00.600 ...   0.573     dia HoloAmAg\n",
       "   126   1.033 2017-06-06T10:27:55.300 ...   0.581     dia  Thor300"
      ]
     },
     "execution_count": 42,
     "metadata": {},
     "output_type": "execute_result"
    }
   ],
   "source": [
    "t"
   ]
  },
  {
   "cell_type": "markdown",
   "metadata": {
    "deletable": true,
    "editable": true
   },
   "source": [
    "## Convert into pandas to plot\n",
    "---------------------------------------"
   ]
  },
  {
   "cell_type": "code",
   "execution_count": 43,
   "metadata": {
    "collapsed": true,
    "deletable": true,
    "editable": true
   },
   "outputs": [],
   "source": [
    "df = t.to_pandas()"
   ]
  },
  {
   "cell_type": "code",
   "execution_count": 44,
   "metadata": {
    "collapsed": false,
    "deletable": true,
    "editable": true
   },
   "outputs": [
    {
     "data": {
      "text/plain": [
       "<matplotlib.axes._subplots.AxesSubplot at 0x11261d710>"
      ]
     },
     "execution_count": 44,
     "metadata": {},
     "output_type": "execute_result"
    },
    {
     "data": {
      "image/png": "[encoded data removed]",
      "text/plain": [
       "<matplotlib.figure.Figure at 0x11261d050>"
      ]
     },
     "metadata": {},
     "output_type": "display_data"
    }
   ],
   "source": [
    "df.plot('date','airmass',figsize=(20,6),rot=45,grid=True,title='airmass vs date',color='b',marker='o',linewidth=2)\n"
   ]
  },
  {
   "cell_type": "code",
   "execution_count": 45,
   "metadata": {
    "collapsed": false,
    "deletable": true,
    "editable": true
   },
   "outputs": [
    {
     "data": {
      "text/plain": [
       "<matplotlib.axes._subplots.AxesSubplot at 0x11260be10>"
      ]
     },
     "execution_count": 45,
     "metadata": {},
     "output_type": "execute_result"
    },
    {
     "data": {
      "image/png": "[encoded data removed]",
      "text/plain": [
       "<matplotlib.figure.Figure at 0x11264c650>"
      ]
     },
     "metadata": {},
     "output_type": "display_data"
    }
   ],
   "source": [
    "df.plot('date','exposure',figsize=(20,6),rot=45,grid=True,title='exposure vs date',color='b',marker='o',linewidth=2)"
   ]
  },
  {
   "cell_type": "markdown",
   "metadata": {
    "collapsed": true,
    "deletable": true,
    "editable": true
   },
   "source": [
    "### Save pandas file\n"
   ]
  },
  {
   "cell_type": "code",
   "execution_count": 46,
   "metadata": {
    "collapsed": true,
    "deletable": true,
    "editable": true
   },
   "outputs": [],
   "source": [
    "df.to_csv(pandaslogfile)"
   ]
  },
  {
   "cell_type": "code",
   "execution_count": null,
   "metadata": {
    "collapsed": true,
    "deletable": true,
    "editable": true
   },
   "outputs": [],
   "source": []
  }
 ],
 "metadata": {
  "anaconda-cloud": {},
  "kernelspec": {
   "display_name": "Python [default]",
   "language": "python",
   "name": "python2"
  },
  "toc": {
   "colors": {
    "hover_highlight": "#DAA520",
    "running_highlight": "#FF0000",
    "selected_highlight": "#FFD700"
   },
   "moveMenuLeft": true,
   "nav_menu": {
    "height": "161px",
    "width": "252px"
   },
   "navigate_menu": true,
   "number_sections": true,
   "sideBar": true,
   "threshold": 4,
   "toc_cell": false,
   "toc_section_display": "block",
   "toc_window_display": false,
   "widenNotebook": false
  }
 },
 "nbformat": 4,
 "nbformat_minor": 0
}
