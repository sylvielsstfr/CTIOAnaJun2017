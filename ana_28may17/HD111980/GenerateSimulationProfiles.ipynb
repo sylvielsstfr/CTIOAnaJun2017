{
 "cells": [
  {
   "cell_type": "markdown",
   "metadata": {},
   "source": [
    "# Simulation of observed spectrum\n",
    "\n",
    "- author : Sylvie Dagoret-Campagne\n",
    "- date jun 19th 2017"
   ]
  },
  {
   "cell_type": "code",
   "execution_count": 5,
   "metadata": {
    "collapsed": false
   },
   "outputs": [
    {
     "data": {
      "application/javascript": [
       "var kernel = IPython.notebook.kernel;\n",
       "var thename = window.document.getElementById(\"notebook_name\").innerHTML;\n",
       "var command = \"theNotebook = \" + \"'\"+thename+\"'\";\n",
       "kernel.execute(command);"
      ],
      "text/plain": [
       "<IPython.core.display.Javascript object>"
      ]
     },
     "metadata": {},
     "output_type": "display_data"
    }
   ],
   "source": [
    "%%javascript\n",
    "var kernel = IPython.notebook.kernel;\n",
    "var thename = window.document.getElementById(\"notebook_name\").innerHTML;\n",
    "var command = \"theNotebook = \" + \"'\"+thename+\"'\";\n",
    "kernel.execute(command);"
   ]
  },
  {
   "cell_type": "code",
   "execution_count": 6,
   "metadata": {
    "collapsed": false
   },
   "outputs": [
    {
     "name": "stdout",
     "output_type": "stream",
     "text": [
      "GenerateSimulationProfiles\n"
     ]
    }
   ],
   "source": [
    "print(theNotebook)"
   ]
  },
  {
   "cell_type": "code",
   "execution_count": 7,
   "metadata": {
    "collapsed": true
   },
   "outputs": [],
   "source": [
    "%matplotlib inline\n",
    "import matplotlib.pyplot as plt\n",
    "import numpy as np\n",
    "\n",
    "from astropy.modeling import models\n",
    "from astropy import units as u\n",
    "from astropy import nddata\n",
    "from astropy.io import fits\n",
    "from astropy.table import Table, Column\n",
    "import re\n",
    "import os"
   ]
  },
  {
   "cell_type": "code",
   "execution_count": 8,
   "metadata": {
    "collapsed": true
   },
   "outputs": [],
   "source": [
    "import pandas as pd"
   ]
  },
  {
   "cell_type": "code",
   "execution_count": 20,
   "metadata": {
    "collapsed": false
   },
   "outputs": [
    {
     "name": "stdout",
     "output_type": "stream",
     "text": [
      "\u001b[34mCTIOThroughput\u001b[m\u001b[m\r\n",
      "CheckObsSpectra.ipynb\r\n",
      "\u001b[34mLSSTFiltersKG\u001b[m\u001b[m\r\n",
      "SED_CALSPEC_Atm_CTIOTel.ipynb\r\n",
      "SED_CALSPEC_Atm_filtLSSTKg.ipynb\r\n",
      "TestCallSimRT.ipynb\r\n",
      "atm-transm.png\r\n",
      "lib\r\n",
      "libCTIOSimuObsSpectra.py\r\n",
      "libCTIOSimuObsSpectra_hd14943_2017_01_17.py\r\n",
      "\u001b[34mlibradtransim\u001b[m\u001b[m\r\n",
      "randomseed\r\n",
      "\u001b[34msimulations\u001b[m\u001b[m\r\n"
     ]
    }
   ],
   "source": [
    "!ls ../../spectrumsim\n"
   ]
  },
  {
   "cell_type": "markdown",
   "metadata": {},
   "source": [
    "### Import libradtan tools for simulation"
   ]
  },
  {
   "cell_type": "code",
   "execution_count": 21,
   "metadata": {
    "collapsed": true
   },
   "outputs": [],
   "source": [
    "import sys\n",
    "sys.path.append('../../spectrumsim/libradtransim')"
   ]
  },
  {
   "cell_type": "code",
   "execution_count": 22,
   "metadata": {
    "collapsed": true
   },
   "outputs": [],
   "source": [
    "from libsimulateTranspCTIOScattAbs import *"
   ]
  },
  {
   "cell_type": "markdown",
   "metadata": {},
   "source": [
    "### import pysynphot tools for CALSPEC SED"
   ]
  },
  {
   "cell_type": "code",
   "execution_count": 23,
   "metadata": {
    "collapsed": false
   },
   "outputs": [
    {
     "data": {
      "text/plain": [
       "'/Users/dagoret-campagnesylvie/MacOsX/External/PySyn_CDBS/grp/hst/cdbs'"
      ]
     },
     "execution_count": 23,
     "metadata": {},
     "output_type": "execute_result"
    }
   ],
   "source": [
    "os.environ['PYSYN_CDBS']"
   ]
  },
  {
   "cell_type": "code",
   "execution_count": 24,
   "metadata": {
    "collapsed": true
   },
   "outputs": [],
   "source": [
    "import pysynphot as S\n",
    "from astropy.io import ascii"
   ]
  },
  {
   "cell_type": "markdown",
   "metadata": {},
   "source": [
    "### CTIO Properties"
   ]
  },
  {
   "cell_type": "code",
   "execution_count": 27,
   "metadata": {
    "collapsed": false
   },
   "outputs": [],
   "source": [
    "path_ctiodata='../../spectrumsim/CTIOThroughput'\n",
    "qe_filename='qecurve.txt'"
   ]
  },
  {
   "cell_type": "markdown",
   "metadata": {},
   "source": [
    "### esthetic"
   ]
  },
  {
   "cell_type": "code",
   "execution_count": 41,
   "metadata": {
    "collapsed": true
   },
   "outputs": [],
   "source": [
    "# to enlarge the sizes\n",
    "params = {'legend.fontsize': 'x-large',\n",
    "          'figure.figsize': (8, 6),\n",
    "         'axes.labelsize': 'x-large',\n",
    "         'axes.titlesize':'x-large',\n",
    "         'xtick.labelsize':'x-large',\n",
    "         'ytick.labelsize':'x-large'}\n",
    "plt.rcParams.update(params)"
   ]
  },
  {
   "cell_type": "code",
   "execution_count": 11,
   "metadata": {
    "collapsed": true
   },
   "outputs": [],
   "source": [
    "infos='ctio28may2017'"
   ]
  },
  {
   "cell_type": "code",
   "execution_count": 35,
   "metadata": {
    "collapsed": true
   },
   "outputs": [],
   "source": [
    "rootpath_rawimage=\"../OverScanRemove/trim_images\"\n",
    "MIN_IMGNUMBER=16\n",
    "MAX_IMGNUMBER=25\n",
    "object_name='HD11190'\n",
    "SelectTagRe='^trim_20170528_([0-9]+).fits$' # regular expression to select the file\n",
    "SearchTagRe='^trim_20170528_[0-9]+.fits$'\n",
    "calspec_sed='hd111980_stis_003.fits'\n",
    "NBIMGPERLROW=4\n"
   ]
  },
  {
   "cell_type": "code",
   "execution_count": 12,
   "metadata": {
    "collapsed": false
   },
   "outputs": [],
   "source": [
    "logfile='logbk_'+object_name+'_'+infos+'.fits'\n",
    "pandaslogfile='logbk_'+object_name+'_'+infos+'.csv'"
   ]
  },
  {
   "cell_type": "code",
   "execution_count": 75,
   "metadata": {
    "collapsed": true
   },
   "outputs": [],
   "source": [
    "outputfitsfile='AllSimSpectra_'+object_name+'.fits'"
   ]
  },
  {
   "cell_type": "markdown",
   "metadata": {},
   "source": [
    "## Get list of airmass"
   ]
  },
  {
   "cell_type": "code",
   "execution_count": 13,
   "metadata": {
    "collapsed": true
   },
   "outputs": [],
   "source": [
    "df=pd.read_csv(pandaslogfile)"
   ]
  },
  {
   "cell_type": "code",
   "execution_count": 65,
   "metadata": {
    "collapsed": false
   },
   "outputs": [
    {
     "data": {
      "text/html": [
       "<div>\n",
       "<table border=\"1\" class=\"dataframe\">\n",
       "  <thead>\n",
       "    <tr style=\"text-align: right;\">\n",
       "      <th></th>\n",
       "      <th>Unnamed: 0</th>\n",
       "      <th>number</th>\n",
       "      <th>airmass</th>\n",
       "      <th>date</th>\n",
       "      <th>filename</th>\n",
       "      <th>exposure</th>\n",
       "      <th>zenith</th>\n",
       "      <th>temperature</th>\n",
       "      <th>pressure</th>\n",
       "      <th>humidity</th>\n",
       "      <th>windspeed</th>\n",
       "      <th>seeing</th>\n",
       "      <th>filter1</th>\n",
       "      <th>filter2</th>\n",
       "    </tr>\n",
       "  </thead>\n",
       "  <tbody>\n",
       "    <tr>\n",
       "      <th>0</th>\n",
       "      <td>0</td>\n",
       "      <td>16</td>\n",
       "      <td>1.064</td>\n",
       "      <td>2017-05-28T23:58:55.250</td>\n",
       "      <td>../OverScanRemove/trim_images/</td>\n",
       "      <td>30.0</td>\n",
       "      <td>19.924000</td>\n",
       "      <td>4.5</td>\n",
       "      <td>778.0</td>\n",
       "      <td>54.0</td>\n",
       "      <td>3.2</td>\n",
       "      <td>1.470</td>\n",
       "      <td>dia</td>\n",
       "      <td>HoloAmAg</td>\n",
       "    </tr>\n",
       "    <tr>\n",
       "      <th>1</th>\n",
       "      <td>1</td>\n",
       "      <td>17</td>\n",
       "      <td>1.060</td>\n",
       "      <td>2017-05-29T00:01:23.455</td>\n",
       "      <td>../OverScanRemove/trim_images/</td>\n",
       "      <td>30.0</td>\n",
       "      <td>19.420000</td>\n",
       "      <td>4.6</td>\n",
       "      <td>778.0</td>\n",
       "      <td>55.0</td>\n",
       "      <td>4.3</td>\n",
       "      <td>1.502</td>\n",
       "      <td>dia</td>\n",
       "      <td>HoloAmAg</td>\n",
       "    </tr>\n",
       "    <tr>\n",
       "      <th>2</th>\n",
       "      <td>2</td>\n",
       "      <td>18</td>\n",
       "      <td>1.057</td>\n",
       "      <td>2017-05-29T00:04:04.404</td>\n",
       "      <td>../OverScanRemove/trim_images/</td>\n",
       "      <td>300.0</td>\n",
       "      <td>18.933001</td>\n",
       "      <td>4.5</td>\n",
       "      <td>778.0</td>\n",
       "      <td>55.0</td>\n",
       "      <td>3.4</td>\n",
       "      <td>1.651</td>\n",
       "      <td>dia</td>\n",
       "      <td>HoloAmAg</td>\n",
       "    </tr>\n",
       "    <tr>\n",
       "      <th>3</th>\n",
       "      <td>3</td>\n",
       "      <td>19</td>\n",
       "      <td>1.044</td>\n",
       "      <td>2017-05-29T00:17:02.352</td>\n",
       "      <td>../OverScanRemove/trim_images/</td>\n",
       "      <td>180.0</td>\n",
       "      <td>16.690001</td>\n",
       "      <td>4.8</td>\n",
       "      <td>778.0</td>\n",
       "      <td>55.0</td>\n",
       "      <td>5.7</td>\n",
       "      <td>2.441</td>\n",
       "      <td>dia</td>\n",
       "      <td>Thor300</td>\n",
       "    </tr>\n",
       "    <tr>\n",
       "      <th>4</th>\n",
       "      <td>4</td>\n",
       "      <td>20</td>\n",
       "      <td>1.036</td>\n",
       "      <td>2017-05-29T00:27:18.203</td>\n",
       "      <td>../OverScanRemove/trim_images/</td>\n",
       "      <td>180.0</td>\n",
       "      <td>15.087000</td>\n",
       "      <td>4.9</td>\n",
       "      <td>778.0</td>\n",
       "      <td>57.0</td>\n",
       "      <td>6.0</td>\n",
       "      <td>2.089</td>\n",
       "      <td>dia</td>\n",
       "      <td>HoloPhP</td>\n",
       "    </tr>\n",
       "  </tbody>\n",
       "</table>\n",
       "</div>"
      ],
      "text/plain": [
       "   Unnamed: 0  number  airmass                     date  \\\n",
       "0           0      16    1.064  2017-05-28T23:58:55.250   \n",
       "1           1      17    1.060  2017-05-29T00:01:23.455   \n",
       "2           2      18    1.057  2017-05-29T00:04:04.404   \n",
       "3           3      19    1.044  2017-05-29T00:17:02.352   \n",
       "4           4      20    1.036  2017-05-29T00:27:18.203   \n",
       "\n",
       "                         filename  exposure     zenith  temperature  pressure  \\\n",
       "0  ../OverScanRemove/trim_images/      30.0  19.924000          4.5     778.0   \n",
       "1  ../OverScanRemove/trim_images/      30.0  19.420000          4.6     778.0   \n",
       "2  ../OverScanRemove/trim_images/     300.0  18.933001          4.5     778.0   \n",
       "3  ../OverScanRemove/trim_images/     180.0  16.690001          4.8     778.0   \n",
       "4  ../OverScanRemove/trim_images/     180.0  15.087000          4.9     778.0   \n",
       "\n",
       "   humidity  windspeed  seeing filter1   filter2  \n",
       "0      54.0        3.2   1.470     dia  HoloAmAg  \n",
       "1      55.0        4.3   1.502     dia  HoloAmAg  \n",
       "2      55.0        3.4   1.651     dia  HoloAmAg  \n",
       "3      55.0        5.7   2.441     dia   Thor300  \n",
       "4      57.0        6.0   2.089     dia   HoloPhP  "
      ]
     },
     "execution_count": 65,
     "metadata": {},
     "output_type": "execute_result"
    }
   ],
   "source": [
    "df.head()"
   ]
  },
  {
   "cell_type": "code",
   "execution_count": 66,
   "metadata": {
    "collapsed": false
   },
   "outputs": [],
   "source": [
    "airmasses=df[\"airmass\"]\n",
    "date=df['date']\n",
    "expo=df['exposure']\n",
    "datafile=df['filename']\n",
    "temperature=df['temperature']\n",
    "pressure=df['pressure']\n",
    "humidity=df['humidity']\n",
    "seeing=df['seeing']\n",
    "disperser=df['filter2']"
   ]
  },
  {
   "cell_type": "code",
   "execution_count": null,
   "metadata": {
    "collapsed": false
   },
   "outputs": [],
   "source": []
  },
  {
   "cell_type": "markdown",
   "metadata": {},
   "source": [
    "## Get quantum efficiency"
   ]
  },
  {
   "cell_type": "code",
   "execution_count": 29,
   "metadata": {
    "collapsed": false
   },
   "outputs": [],
   "source": [
    "qe_fullfilename=os.path.join(path_ctiodata,qe_filename)"
   ]
  },
  {
   "cell_type": "code",
   "execution_count": 31,
   "metadata": {
    "collapsed": true
   },
   "outputs": [],
   "source": [
    "data_qe = np.loadtxt(qe_fullfilename)\n",
    "wl_qe=data_qe[:,0]\n",
    "tr_qe=data_qe[:,1]/100."
   ]
  },
  {
   "cell_type": "code",
   "execution_count": 44,
   "metadata": {
    "collapsed": true
   },
   "outputs": [],
   "source": [
    "bp_ctio = S.ArrayBandpass(wl_qe*10.,tr_qe, name='CTIO QE')"
   ]
  },
  {
   "cell_type": "markdown",
   "metadata": {},
   "source": [
    "## Get SED from CALSPEC \n",
    "\n",
    "- using Pysynphot"
   ]
  },
  {
   "cell_type": "code",
   "execution_count": 33,
   "metadata": {
    "collapsed": true
   },
   "outputs": [],
   "source": [
    "CTIO_COLL_SURF=0.9*(u.m)**2/(u.cm)**2  # LSST collectif surface\n",
    "WLMIN=3000.\n",
    "WLMAX=11000."
   ]
  },
  {
   "cell_type": "code",
   "execution_count": 37,
   "metadata": {
    "collapsed": false
   },
   "outputs": [],
   "source": [
    "S.refs.setref(area=CTIO_COLL_SURF.decompose(), waveset=None)\n",
    "S.refs.set_default_waveset(minwave=WLMIN, maxwave=WLMAX, delta=10, log=False)"
   ]
  },
  {
   "cell_type": "code",
   "execution_count": 38,
   "metadata": {
    "collapsed": true
   },
   "outputs": [],
   "source": [
    "filename = os.path.join(os.environ['PYSYN_CDBS'], 'calspec',calspec_sed)\n",
    "sed = S.FileSpectrum(filename)"
   ]
  },
  {
   "cell_type": "code",
   "execution_count": 63,
   "metadata": {
    "collapsed": false
   },
   "outputs": [
    {
     "name": "stdout",
     "output_type": "stream",
     "text": [
      "XTENSION= 'BINTABLE'           /Written by IDL:  Wed Dec 24 09:03:03 2014       BITPIX  =                    8 /                                                NAXIS   =                    2 /Binary table                                    NAXIS1  =                   30 /Number of bytes per row                         NAXIS2  =                 3739 /Number of rows                                  PCOUNT  =                    0 /Random parameter count                          GCOUNT  =                    1 /Group count                                     TFIELDS =                    7 /Number of columns                               EXTNAME = 'SCI     '           /                                                EXTVER  =                    1 /                                                INHERIT =                    T /                                                TFORM1  = '1D      '           /Real*8 (double precision)                       TTYPE1  = 'WAVELENGTH'         /Label for column 1                              TUNIT1  = 'ANGSTROMS'          /Units of column 1                               TDISP1  = 'G10.4   '           /Display format for column 1                     TFORM2  = '1E      '           /Real*4 (floating point)                         TTYPE2  = 'FLUX    '           /Absolutely calibrated net spectrum              TUNIT2  = 'FLAM    '           /Units of column 2                               TDISP2  = 'E12.4   '           /Display format for column 2                     TFORM3  = '1E      '           /Real*4 (floating point)                         TTYPE3  = 'STATERROR'          /Statistical flux error                          TUNIT3  = 'FLAM    '           /Units of column 3                               TDISP3  = 'E12.4   '           /Display format for column 3                     TFORM4  = '1E      '           /Real*4 (floating point)                         TTYPE4  = 'SYSERROR'           /Systematic flux error=0.01*FLAM                 TUNIT4  = 'FLAM    '           /Units of column 4                               TDISP4  = 'E12.4   '           /Display format for column 4                     TFORM5  = '1E      '           /Real*4 (floating point)                         TTYPE5  = 'FWHM    '           /FWHM spectral resolution                        TUNIT5  = 'ANGSTROMS'          /Units of column 5                               TDISP5  = 'G6.2    '           /Display format for column 5                     TFORM6  = '1I      '           /Integer*2 (short integer)                       TTYPE6  = 'DATAQUAL'           /Data quality: 1=good, 0=bad                     TUNIT6  = 'NONE    '           /Units of column 6                               TDISP6  = 'I2      '           /Display format for column 6                     TFORM7  = '1E      '           /Real*4 (floating point)                         TTYPE7  = 'TOTEXP  '           /Total exposure time                             TUNIT7  = 'SEC     '           /Units of column 7                               TDISP7  = 'G10.2   '           /Display format for column 7                     END                                                                                                                                                                                                                                                                                                                                                                                                                                                                                                                                                                                                                                                                                                                                                                                                                                                                                                                                                                                                                                                                                                                                                                                                                                                                                                                                                                                                                                                                                                                                                                                                                                                                                                                                                                                                                                                                                                                                                                                                                                                                                                                                                                                                                                                                                                                                                                                                                                                                                                                                                                                                                                                                                                                                             \n"
     ]
    }
   ],
   "source": [
    "with fits.open(filename) as pf:\n",
    "    print(pf[1].header)"
   ]
  },
  {
   "cell_type": "markdown",
   "metadata": {},
   "source": [
    "# Simulate atmosphere"
   ]
  },
  {
   "cell_type": "code",
   "execution_count": 52,
   "metadata": {
    "collapsed": true
   },
   "outputs": [],
   "source": [
    "all_wl_atm= []\n",
    "all_tr_atm= []\n",
    "all_bp_atm = []\n",
    "PWV=4.\n",
    "OZ=300."
   ]
  },
  {
   "cell_type": "code",
   "execution_count": 53,
   "metadata": {
    "collapsed": false
   },
   "outputs": [
    {
     "name": "stdout",
     "output_type": "stream",
     "text": [
      "--------------------------------------------\n",
      " 2) airmass =  1.06400001049\n",
      " 2) pwv =  4.0\n",
      " 2) oz =  300.0\n",
      "--------------------------------------------\n",
      "('Running uvspec with input file: ', 'simulations/RT/2.0.1/CT/pp/us/sa/rt/in/RT_CT_pp_us_sa_rt_z10_wv40_oz30.INP')\n",
      "('Output to file                : ', 'simulations/RT/2.0.1/CT/pp/us/sa/rt/out/RT_CT_pp_us_sa_rt_z10_wv40_oz30.OUT')\n",
      "('uvspec cmd: ', '/Users/dagoret-campagnesylvie/MacOsX/LSST/softs/libRadtran-2.0.1/bin/uvspec  < simulations/RT/2.0.1/CT/pp/us/sa/rt/in/RT_CT_pp_us_sa_rt_z10_wv40_oz30.INP > simulations/RT/2.0.1/CT/pp/us/sa/rt/out/RT_CT_pp_us_sa_rt_z10_wv40_oz30.OUT')\n",
      "--------------------------------------------\n",
      " 2) airmass =  1.05999994278\n",
      " 2) pwv =  4.0\n",
      " 2) oz =  300.0\n",
      "--------------------------------------------\n",
      "('Running uvspec with input file: ', 'simulations/RT/2.0.1/CT/pp/us/sa/rt/in/RT_CT_pp_us_sa_rt_z10_wv40_oz30.INP')\n",
      "('Output to file                : ', 'simulations/RT/2.0.1/CT/pp/us/sa/rt/out/RT_CT_pp_us_sa_rt_z10_wv40_oz30.OUT')\n",
      "('uvspec cmd: ', '/Users/dagoret-campagnesylvie/MacOsX/LSST/softs/libRadtran-2.0.1/bin/uvspec  < simulations/RT/2.0.1/CT/pp/us/sa/rt/in/RT_CT_pp_us_sa_rt_z10_wv40_oz30.INP > simulations/RT/2.0.1/CT/pp/us/sa/rt/out/RT_CT_pp_us_sa_rt_z10_wv40_oz30.OUT')\n",
      "--------------------------------------------\n",
      " 2) airmass =  1.05700004101\n",
      " 2) pwv =  4.0\n",
      " 2) oz =  300.0\n",
      "--------------------------------------------\n",
      "('Running uvspec with input file: ', 'simulations/RT/2.0.1/CT/pp/us/sa/rt/in/RT_CT_pp_us_sa_rt_z10_wv40_oz30.INP')\n",
      "('Output to file                : ', 'simulations/RT/2.0.1/CT/pp/us/sa/rt/out/RT_CT_pp_us_sa_rt_z10_wv40_oz30.OUT')\n",
      "('uvspec cmd: ', '/Users/dagoret-campagnesylvie/MacOsX/LSST/softs/libRadtran-2.0.1/bin/uvspec  < simulations/RT/2.0.1/CT/pp/us/sa/rt/in/RT_CT_pp_us_sa_rt_z10_wv40_oz30.INP > simulations/RT/2.0.1/CT/pp/us/sa/rt/out/RT_CT_pp_us_sa_rt_z10_wv40_oz30.OUT')\n",
      "--------------------------------------------\n",
      " 2) airmass =  1.04400002956\n",
      " 2) pwv =  4.0\n",
      " 2) oz =  300.0\n",
      "--------------------------------------------\n",
      "('Running uvspec with input file: ', 'simulations/RT/2.0.1/CT/pp/us/sa/rt/in/RT_CT_pp_us_sa_rt_z10_wv40_oz30.INP')\n",
      "('Output to file                : ', 'simulations/RT/2.0.1/CT/pp/us/sa/rt/out/RT_CT_pp_us_sa_rt_z10_wv40_oz30.OUT')\n",
      "('uvspec cmd: ', '/Users/dagoret-campagnesylvie/MacOsX/LSST/softs/libRadtran-2.0.1/bin/uvspec  < simulations/RT/2.0.1/CT/pp/us/sa/rt/in/RT_CT_pp_us_sa_rt_z10_wv40_oz30.INP > simulations/RT/2.0.1/CT/pp/us/sa/rt/out/RT_CT_pp_us_sa_rt_z10_wv40_oz30.OUT')\n",
      "--------------------------------------------\n",
      " 2) airmass =  1.03600001335\n",
      " 2) pwv =  4.0\n",
      " 2) oz =  300.0\n",
      "--------------------------------------------\n",
      "('Running uvspec with input file: ', 'simulations/RT/2.0.1/CT/pp/us/sa/rt/in/RT_CT_pp_us_sa_rt_z10_wv40_oz30.INP')\n",
      "('Output to file                : ', 'simulations/RT/2.0.1/CT/pp/us/sa/rt/out/RT_CT_pp_us_sa_rt_z10_wv40_oz30.OUT')\n",
      "('uvspec cmd: ', '/Users/dagoret-campagnesylvie/MacOsX/LSST/softs/libRadtran-2.0.1/bin/uvspec  < simulations/RT/2.0.1/CT/pp/us/sa/rt/in/RT_CT_pp_us_sa_rt_z10_wv40_oz30.INP > simulations/RT/2.0.1/CT/pp/us/sa/rt/out/RT_CT_pp_us_sa_rt_z10_wv40_oz30.OUT')\n",
      "--------------------------------------------\n",
      " 2) airmass =  1.02100002766\n",
      " 2) pwv =  4.0\n",
      " 2) oz =  300.0\n",
      "--------------------------------------------\n",
      "('Running uvspec with input file: ', 'simulations/RT/2.0.1/CT/pp/us/sa/rt/in/RT_CT_pp_us_sa_rt_z10_wv40_oz30.INP')\n",
      "('Output to file                : ', 'simulations/RT/2.0.1/CT/pp/us/sa/rt/out/RT_CT_pp_us_sa_rt_z10_wv40_oz30.OUT')\n",
      "('uvspec cmd: ', '/Users/dagoret-campagnesylvie/MacOsX/LSST/softs/libRadtran-2.0.1/bin/uvspec  < simulations/RT/2.0.1/CT/pp/us/sa/rt/in/RT_CT_pp_us_sa_rt_z10_wv40_oz30.INP > simulations/RT/2.0.1/CT/pp/us/sa/rt/out/RT_CT_pp_us_sa_rt_z10_wv40_oz30.OUT')\n",
      "--------------------------------------------\n",
      " 2) airmass =  1.02100002766\n",
      " 2) pwv =  4.0\n",
      " 2) oz =  300.0\n",
      "--------------------------------------------\n",
      "('Running uvspec with input file: ', 'simulations/RT/2.0.1/CT/pp/us/sa/rt/in/RT_CT_pp_us_sa_rt_z10_wv40_oz30.INP')\n",
      "('Output to file                : ', 'simulations/RT/2.0.1/CT/pp/us/sa/rt/out/RT_CT_pp_us_sa_rt_z10_wv40_oz30.OUT')\n",
      "('uvspec cmd: ', '/Users/dagoret-campagnesylvie/MacOsX/LSST/softs/libRadtran-2.0.1/bin/uvspec  < simulations/RT/2.0.1/CT/pp/us/sa/rt/in/RT_CT_pp_us_sa_rt_z10_wv40_oz30.INP > simulations/RT/2.0.1/CT/pp/us/sa/rt/out/RT_CT_pp_us_sa_rt_z10_wv40_oz30.OUT')\n",
      "--------------------------------------------\n",
      " 2) airmass =  1.02199995518\n",
      " 2) pwv =  4.0\n",
      " 2) oz =  300.0\n",
      "--------------------------------------------\n",
      "('Running uvspec with input file: ', 'simulations/RT/2.0.1/CT/pp/us/sa/rt/in/RT_CT_pp_us_sa_rt_z10_wv40_oz30.INP')\n",
      "('Output to file                : ', 'simulations/RT/2.0.1/CT/pp/us/sa/rt/out/RT_CT_pp_us_sa_rt_z10_wv40_oz30.OUT')\n",
      "('uvspec cmd: ', '/Users/dagoret-campagnesylvie/MacOsX/LSST/softs/libRadtran-2.0.1/bin/uvspec  < simulations/RT/2.0.1/CT/pp/us/sa/rt/in/RT_CT_pp_us_sa_rt_z10_wv40_oz30.INP > simulations/RT/2.0.1/CT/pp/us/sa/rt/out/RT_CT_pp_us_sa_rt_z10_wv40_oz30.OUT')\n",
      "--------------------------------------------\n",
      " 2) airmass =  1.02499997616\n",
      " 2) pwv =  4.0\n",
      " 2) oz =  300.0\n",
      "--------------------------------------------\n",
      "('Running uvspec with input file: ', 'simulations/RT/2.0.1/CT/pp/us/sa/rt/in/RT_CT_pp_us_sa_rt_z10_wv40_oz30.INP')\n",
      "('Output to file                : ', 'simulations/RT/2.0.1/CT/pp/us/sa/rt/out/RT_CT_pp_us_sa_rt_z10_wv40_oz30.OUT')\n",
      "('uvspec cmd: ', '/Users/dagoret-campagnesylvie/MacOsX/LSST/softs/libRadtran-2.0.1/bin/uvspec  < simulations/RT/2.0.1/CT/pp/us/sa/rt/in/RT_CT_pp_us_sa_rt_z10_wv40_oz30.INP > simulations/RT/2.0.1/CT/pp/us/sa/rt/out/RT_CT_pp_us_sa_rt_z10_wv40_oz30.OUT')\n",
      "--------------------------------------------\n",
      " 2) airmass =  1.03100001812\n",
      " 2) pwv =  4.0\n",
      " 2) oz =  300.0\n",
      "--------------------------------------------\n",
      "('Running uvspec with input file: ', 'simulations/RT/2.0.1/CT/pp/us/sa/rt/in/RT_CT_pp_us_sa_rt_z10_wv40_oz30.INP')\n",
      "('Output to file                : ', 'simulations/RT/2.0.1/CT/pp/us/sa/rt/out/RT_CT_pp_us_sa_rt_z10_wv40_oz30.OUT')\n",
      "('uvspec cmd: ', '/Users/dagoret-campagnesylvie/MacOsX/LSST/softs/libRadtran-2.0.1/bin/uvspec  < simulations/RT/2.0.1/CT/pp/us/sa/rt/in/RT_CT_pp_us_sa_rt_z10_wv40_oz30.INP > simulations/RT/2.0.1/CT/pp/us/sa/rt/out/RT_CT_pp_us_sa_rt_z10_wv40_oz30.OUT')\n"
     ]
    }
   ],
   "source": [
    "for index,am in np.ndenumerate(airmasses):\n",
    "    idx=index[0]\n",
    "    path,file=ProcessSimulation(am,PWV,OZ)   \n",
    "    fullfilename=os.path.join(path,file)\n",
    "    atm_data=np.loadtxt(fullfilename)\n",
    "    wl_atm=atm_data[:,0]\n",
    "    tr_atm=atm_data[:,1]\n",
    "    all_wl_atm.append(wl_atm)\n",
    "    all_tr_atm.append(tr_atm)\n",
    "    atm_filter_name='CTIO atm {}'.format(idx)\n",
    "    bp_atm = S.ArrayBandpass(wl_atm*10.,tr_atm, name=atm_filter_name)  # Pysynphot pass band\n",
    "    all_bp_atm.append(bp_atm) "
   ]
  },
  {
   "cell_type": "code",
   "execution_count": null,
   "metadata": {
    "collapsed": true
   },
   "outputs": [],
   "source": []
  },
  {
   "cell_type": "code",
   "execution_count": 50,
   "metadata": {
    "collapsed": false
   },
   "outputs": [
    {
     "data": {
      "text/plain": [
       "[<matplotlib.lines.Line2D at 0x1157cb690>]"
      ]
     },
     "execution_count": 50,
     "metadata": {},
     "output_type": "execute_result"
    },
    {
     "data": {
      "image/png": "[encoded data removed]",
      "text/plain": [
       "<matplotlib.figure.Figure at 0x1156fe5d0>"
      ]
     },
     "metadata": {},
     "output_type": "display_data"
    }
   ],
   "source": [
    "plt.plot(all_wl_atm[1],all_tr_atm[1])"
   ]
  },
  {
   "cell_type": "code",
   "execution_count": 55,
   "metadata": {
    "collapsed": false
   },
   "outputs": [
    {
     "data": {
      "text/plain": [
       "array([  2500.,   2510.,   2520.,   2530.,   2540.,   2550.,   2560.,\n",
       "         2570.,   2580.,   2590.,   2600.,   2610.,   2620.,   2630.,\n",
       "         2640.,   2650.,   2660.,   2670.,   2680.,   2690.,   2700.,\n",
       "         2710.,   2720.,   2730.,   2740.,   2750.,   2760.,   2770.,\n",
       "         2780.,   2790.,   2800.,   2810.,   2820.,   2830.,   2840.,\n",
       "         2850.,   2860.,   2870.,   2880.,   2890.,   2900.,   2910.,\n",
       "         2920.,   2930.,   2940.,   2950.,   2960.,   2970.,   2980.,\n",
       "         2990.,   3000.,   3010.,   3020.,   3030.,   3040.,   3050.,\n",
       "         3060.,   3070.,   3080.,   3090.,   3100.,   3110.,   3120.,\n",
       "         3130.,   3140.,   3150.,   3160.,   3170.,   3180.,   3190.,\n",
       "         3200.,   3210.,   3220.,   3230.,   3240.,   3250.,   3260.,\n",
       "         3270.,   3280.,   3290.,   3300.,   3310.,   3320.,   3330.,\n",
       "         3340.,   3350.,   3360.,   3370.,   3380.,   3390.,   3400.,\n",
       "         3410.,   3420.,   3430.,   3440.,   3450.,   3460.,   3470.,\n",
       "         3480.,   3490.,   3500.,   3510.,   3520.,   3530.,   3540.,\n",
       "         3550.,   3560.,   3570.,   3580.,   3590.,   3600.,   3610.,\n",
       "         3620.,   3630.,   3640.,   3650.,   3660.,   3670.,   3680.,\n",
       "         3690.,   3700.,   3710.,   3720.,   3730.,   3740.,   3750.,\n",
       "         3760.,   3770.,   3780.,   3790.,   3800.,   3810.,   3820.,\n",
       "         3830.,   3840.,   3850.,   3860.,   3870.,   3880.,   3890.,\n",
       "         3900.,   3910.,   3920.,   3930.,   3940.,   3950.,   3960.,\n",
       "         3970.,   3980.,   3990.,   4000.,   4010.,   4020.,   4030.,\n",
       "         4040.,   4050.,   4060.,   4070.,   4080.,   4090.,   4100.,\n",
       "         4110.,   4120.,   4130.,   4140.,   4150.,   4160.,   4170.,\n",
       "         4180.,   4190.,   4200.,   4210.,   4220.,   4230.,   4240.,\n",
       "         4250.,   4260.,   4270.,   4280.,   4290.,   4300.,   4310.,\n",
       "         4320.,   4330.,   4340.,   4350.,   4360.,   4370.,   4380.,\n",
       "         4390.,   4400.,   4410.,   4420.,   4430.,   4440.,   4450.,\n",
       "         4460.,   4470.,   4480.,   4490.,   4500.,   4510.,   4520.,\n",
       "         4530.,   4540.,   4550.,   4560.,   4570.,   4580.,   4590.,\n",
       "         4600.,   4610.,   4620.,   4630.,   4640.,   4650.,   4660.,\n",
       "         4670.,   4680.,   4690.,   4700.,   4710.,   4720.,   4730.,\n",
       "         4740.,   4750.,   4760.,   4770.,   4780.,   4790.,   4800.,\n",
       "         4810.,   4820.,   4830.,   4840.,   4850.,   4860.,   4870.,\n",
       "         4880.,   4890.,   4900.,   4910.,   4920.,   4930.,   4940.,\n",
       "         4950.,   4960.,   4970.,   4980.,   4990.,   5000.,   5010.,\n",
       "         5020.,   5030.,   5040.,   5050.,   5060.,   5070.,   5080.,\n",
       "         5090.,   5100.,   5110.,   5120.,   5130.,   5140.,   5150.,\n",
       "         5160.,   5170.,   5180.,   5190.,   5200.,   5210.,   5220.,\n",
       "         5230.,   5240.,   5250.,   5260.,   5270.,   5280.,   5290.,\n",
       "         5300.,   5310.,   5320.,   5330.,   5340.,   5350.,   5360.,\n",
       "         5370.,   5380.,   5390.,   5400.,   5410.,   5420.,   5430.,\n",
       "         5440.,   5450.,   5460.,   5470.,   5480.,   5490.,   5500.,\n",
       "         5510.,   5520.,   5530.,   5540.,   5550.,   5560.,   5570.,\n",
       "         5580.,   5590.,   5600.,   5610.,   5620.,   5630.,   5640.,\n",
       "         5650.,   5660.,   5670.,   5680.,   5690.,   5700.,   5710.,\n",
       "         5720.,   5730.,   5740.,   5750.,   5760.,   5770.,   5780.,\n",
       "         5790.,   5800.,   5810.,   5820.,   5830.,   5840.,   5850.,\n",
       "         5860.,   5870.,   5880.,   5890.,   5900.,   5910.,   5920.,\n",
       "         5930.,   5940.,   5950.,   5960.,   5970.,   5980.,   5990.,\n",
       "         6000.,   6010.,   6020.,   6030.,   6040.,   6050.,   6060.,\n",
       "         6070.,   6080.,   6090.,   6100.,   6110.,   6120.,   6130.,\n",
       "         6140.,   6150.,   6160.,   6170.,   6180.,   6190.,   6200.,\n",
       "         6210.,   6220.,   6230.,   6240.,   6250.,   6260.,   6270.,\n",
       "         6280.,   6290.,   6300.,   6310.,   6320.,   6330.,   6340.,\n",
       "         6350.,   6360.,   6370.,   6380.,   6390.,   6400.,   6410.,\n",
       "         6420.,   6430.,   6440.,   6450.,   6460.,   6470.,   6480.,\n",
       "         6490.,   6500.,   6510.,   6520.,   6530.,   6540.,   6550.,\n",
       "         6560.,   6570.,   6580.,   6590.,   6600.,   6610.,   6620.,\n",
       "         6630.,   6640.,   6650.,   6660.,   6670.,   6680.,   6690.,\n",
       "         6700.,   6710.,   6720.,   6730.,   6740.,   6750.,   6760.,\n",
       "         6770.,   6780.,   6790.,   6800.,   6810.,   6820.,   6830.,\n",
       "         6840.,   6850.,   6860.,   6870.,   6880.,   6890.,   6900.,\n",
       "         6910.,   6920.,   6930.,   6940.,   6950.,   6960.,   6970.,\n",
       "         6980.,   6990.,   7000.,   7010.,   7020.,   7030.,   7040.,\n",
       "         7050.,   7060.,   7070.,   7080.,   7090.,   7100.,   7110.,\n",
       "         7120.,   7130.,   7140.,   7150.,   7160.,   7170.,   7180.,\n",
       "         7190.,   7200.,   7210.,   7220.,   7230.,   7240.,   7250.,\n",
       "         7260.,   7270.,   7280.,   7290.,   7300.,   7310.,   7320.,\n",
       "         7330.,   7340.,   7350.,   7360.,   7370.,   7380.,   7390.,\n",
       "         7400.,   7410.,   7420.,   7430.,   7440.,   7450.,   7460.,\n",
       "         7470.,   7480.,   7490.,   7500.,   7510.,   7520.,   7530.,\n",
       "         7540.,   7550.,   7560.,   7570.,   7580.,   7590.,   7600.,\n",
       "         7610.,   7620.,   7630.,   7640.,   7650.,   7660.,   7670.,\n",
       "         7680.,   7690.,   7700.,   7710.,   7720.,   7730.,   7740.,\n",
       "         7750.,   7760.,   7770.,   7780.,   7790.,   7800.,   7810.,\n",
       "         7820.,   7830.,   7840.,   7850.,   7860.,   7870.,   7880.,\n",
       "         7890.,   7900.,   7910.,   7920.,   7930.,   7940.,   7950.,\n",
       "         7960.,   7970.,   7980.,   7990.,   8000.,   8010.,   8020.,\n",
       "         8030.,   8040.,   8050.,   8060.,   8070.,   8080.,   8090.,\n",
       "         8100.,   8110.,   8120.,   8130.,   8140.,   8150.,   8160.,\n",
       "         8170.,   8180.,   8190.,   8200.,   8210.,   8220.,   8230.,\n",
       "         8240.,   8250.,   8260.,   8270.,   8280.,   8290.,   8300.,\n",
       "         8310.,   8320.,   8330.,   8340.,   8350.,   8360.,   8370.,\n",
       "         8380.,   8390.,   8400.,   8410.,   8420.,   8430.,   8440.,\n",
       "         8450.,   8460.,   8470.,   8480.,   8490.,   8500.,   8510.,\n",
       "         8520.,   8530.,   8540.,   8550.,   8560.,   8570.,   8580.,\n",
       "         8590.,   8600.,   8610.,   8620.,   8630.,   8640.,   8650.,\n",
       "         8660.,   8670.,   8680.,   8690.,   8700.,   8710.,   8720.,\n",
       "         8730.,   8740.,   8750.,   8760.,   8770.,   8780.,   8790.,\n",
       "         8800.,   8810.,   8820.,   8830.,   8840.,   8850.,   8860.,\n",
       "         8870.,   8880.,   8890.,   8900.,   8910.,   8920.,   8930.,\n",
       "         8940.,   8950.,   8960.,   8970.,   8980.,   8990.,   9000.,\n",
       "         9010.,   9020.,   9030.,   9040.,   9050.,   9060.,   9070.,\n",
       "         9080.,   9090.,   9100.,   9110.,   9120.,   9130.,   9140.,\n",
       "         9150.,   9160.,   9170.,   9180.,   9190.,   9200.,   9210.,\n",
       "         9220.,   9230.,   9240.,   9250.,   9260.,   9270.,   9280.,\n",
       "         9290.,   9300.,   9310.,   9320.,   9330.,   9340.,   9350.,\n",
       "         9360.,   9370.,   9380.,   9390.,   9400.,   9410.,   9420.,\n",
       "         9430.,   9440.,   9450.,   9460.,   9470.,   9480.,   9490.,\n",
       "         9500.,   9510.,   9520.,   9530.,   9540.,   9550.,   9560.,\n",
       "         9570.,   9580.,   9590.,   9600.,   9610.,   9620.,   9630.,\n",
       "         9640.,   9650.,   9660.,   9670.,   9680.,   9690.,   9700.,\n",
       "         9710.,   9720.,   9730.,   9740.,   9750.,   9760.,   9770.,\n",
       "         9780.,   9790.,   9800.,   9810.,   9820.,   9830.,   9840.,\n",
       "         9850.,   9860.,   9870.,   9880.,   9890.,   9900.,   9910.,\n",
       "         9920.,   9930.,   9940.,   9950.,   9960.,   9970.,   9980.,\n",
       "         9990.,  10000.,  10010.,  10020.,  10030.,  10040.,  10050.,\n",
       "        10060.,  10070.,  10080.,  10090.,  10100.,  10110.,  10120.,\n",
       "        10130.,  10140.,  10150.,  10160.,  10170.,  10180.,  10190.,\n",
       "        10200.,  10210.,  10220.,  10230.,  10240.,  10250.,  10260.,\n",
       "        10270.,  10280.,  10290.,  10300.,  10310.,  10320.,  10330.,\n",
       "        10340.,  10350.,  10360.,  10370.,  10380.,  10390.,  10400.,\n",
       "        10410.,  10420.,  10430.,  10440.,  10450.,  10460.,  10470.,\n",
       "        10480.,  10490.,  10500.,  10510.,  10520.,  10530.,  10540.,\n",
       "        10550.,  10560.,  10570.,  10580.,  10590.,  10600.,  10610.,\n",
       "        10620.,  10630.,  10640.,  10650.,  10660.,  10670.,  10680.,\n",
       "        10690.,  10700.,  10710.,  10720.,  10730.,  10740.,  10750.,\n",
       "        10760.,  10770.,  10780.,  10790.,  10800.,  10810.,  10820.,\n",
       "        10830.,  10840.,  10850.,  10860.,  10870.,  10880.,  10890.,\n",
       "        10900.,  10910.,  10920.,  10930.,  10940.,  10950.,  10960.,\n",
       "        10970.,  10980.,  10990.,  11000.,  11010.,  11020.,  11030.,\n",
       "        11040.,  11050.,  11060.,  11070.,  11080.,  11090.,  11100.,\n",
       "        11110.,  11120.,  11130.,  11140.,  11150.,  11160.,  11170.,\n",
       "        11180.,  11190.,  11200.,  11210.,  11220.,  11230.,  11240.,\n",
       "        11250.,  11260.,  11270.,  11280.,  11290.,  11300.,  11310.,\n",
       "        11320.,  11330.,  11340.,  11350.,  11360.,  11370.,  11380.,\n",
       "        11390.,  11400.,  11410.,  11420.,  11430.,  11440.,  11450.,\n",
       "        11460.,  11470.,  11480.,  11490.,  11500.,  11510.,  11520.,\n",
       "        11530.,  11540.,  11550.,  11560.,  11570.,  11580.,  11590.,\n",
       "        11600.,  11610.,  11620.,  11630.,  11640.,  11650.,  11660.,\n",
       "        11670.,  11680.,  11690.,  11700.,  11710.,  11720.,  11730.,\n",
       "        11740.,  11750.,  11760.,  11770.,  11780.,  11790.,  11800.,\n",
       "        11810.,  11820.,  11830.,  11840.,  11850.,  11860.,  11870.,\n",
       "        11880.,  11890.,  11900.,  11910.,  11920.,  11930.,  11940.,\n",
       "        11950.,  11960.,  11970.,  11980.,  11990.,  12000.])"
      ]
     },
     "execution_count": 55,
     "metadata": {},
     "output_type": "execute_result"
    }
   ],
   "source": [
    "all_bp_atm[0].wave"
   ]
  },
  {
   "cell_type": "code",
   "execution_count": 59,
   "metadata": {
    "collapsed": false
   },
   "outputs": [
    {
     "data": {
      "text/plain": [
       "array([  0.00000000e+00,   0.00000000e+00,   0.00000000e+00,\n",
       "         0.00000000e+00,   0.00000000e+00,   0.00000000e+00,\n",
       "         0.00000000e+00,   0.00000000e+00,   0.00000000e+00,\n",
       "         0.00000000e+00,   0.00000000e+00,   0.00000000e+00,\n",
       "         0.00000000e+00,   0.00000000e+00,   0.00000000e+00,\n",
       "         0.00000000e+00,   0.00000000e+00,   0.00000000e+00,\n",
       "         0.00000000e+00,   0.00000000e+00,   0.00000000e+00,\n",
       "         0.00000000e+00,   0.00000000e+00,   0.00000000e+00,\n",
       "         0.00000000e+00,   0.00000000e+00,   0.00000000e+00,\n",
       "         0.00000000e+00,   0.00000000e+00,   0.00000000e+00,\n",
       "         0.00000000e+00,   0.00000000e+00,   0.00000000e+00,\n",
       "         0.00000000e+00,   0.00000000e+00,   0.00000000e+00,\n",
       "         0.00000000e+00,   0.00000000e+00,   0.00000000e+00,\n",
       "         0.00000000e+00,   0.00000000e+00,   8.51186500e-06,\n",
       "         4.25381800e-05,   1.10379700e-04,   3.25336800e-04,\n",
       "         6.53280500e-04,   1.73709700e-03,   3.12468500e-03,\n",
       "         6.30204800e-03,   1.01690100e-02,   1.66886300e-02,\n",
       "         2.50494600e-02,   3.51245100e-02,   5.26763200e-02,\n",
       "         6.12411900e-02,   8.51296600e-02,   1.02290100e-01,\n",
       "         1.28218100e-01,   1.48117100e-01,   1.69440300e-01,\n",
       "         2.02171300e-01,   2.17000000e-01,   2.40390900e-01,\n",
       "         2.67791000e-01,   2.79487000e-01,   3.11035600e-01,\n",
       "         3.19546600e-01,   3.42978200e-01,   3.56730900e-01,\n",
       "         3.91845600e-01,   3.70174800e-01,   4.20905700e-01,\n",
       "         4.01527800e-01,   4.25024000e-01,   4.57234700e-01,\n",
       "         4.35468600e-01,   4.67438700e-01,   4.77653000e-01,\n",
       "         4.62222500e-01,   4.97450800e-01,   5.03832900e-01,\n",
       "         4.89889900e-01,   5.13892600e-01,   5.19392300e-01,\n",
       "         5.16528500e-01,   5.31655000e-01,   5.37959800e-01,\n",
       "         5.34657800e-01,   5.44514300e-01,   5.51687000e-01,\n",
       "         5.51039100e-01,   5.58962000e-01,   5.64570900e-01,\n",
       "         5.68243600e-01,   5.67497900e-01,   5.75926100e-01,\n",
       "         5.80277900e-01,   5.84048400e-01,   5.87944500e-01,\n",
       "         5.92587300e-01,   5.96253600e-01,   6.00509300e-01,\n",
       "         6.03991600e-01,   6.08139500e-01,   6.11129000e-01,\n",
       "         6.14366100e-01,   6.18428200e-01,   6.21087300e-01,\n",
       "         6.24015700e-01,   6.26884900e-01,   6.29694800e-01,\n",
       "         6.32656200e-01,   6.37186300e-01,   6.41034400e-01,\n",
       "         6.44840900e-01,   6.48031200e-01,   6.51528800e-01,\n",
       "         6.54809800e-01,   6.57933800e-01,   6.60548200e-01,\n",
       "         6.63656500e-01,   6.66921600e-01,   6.69636600e-01,\n",
       "         6.72928900e-01,   6.76062600e-01,   6.78592600e-01,\n",
       "         6.81229900e-01,   6.84204200e-01,   6.86496000e-01,\n",
       "         6.88980000e-01,   6.91378400e-01,   6.93987200e-01,\n",
       "         6.97476500e-01,   7.01023000e-01,   7.03442300e-01,\n",
       "         7.06520900e-01,   7.08970100e-01,   7.11851600e-01,\n",
       "         7.14113200e-01,   7.16407800e-01,   7.19271700e-01,\n",
       "         7.21615200e-01,   7.23589200e-01,   7.26854400e-01,\n",
       "         7.29110100e-01,   7.31294400e-01,   7.34045800e-01,\n",
       "         7.36527500e-01,   7.38267400e-01,   7.40626700e-01,\n",
       "         7.42659500e-01,   7.45326300e-01,   7.47708300e-01,\n",
       "         7.50152700e-01,   7.51797100e-01,   7.54055500e-01,\n",
       "         7.56171800e-01,   7.58909700e-01,   7.60272400e-01,\n",
       "         7.62233500e-01,   7.64290900e-01,   7.66592300e-01,\n",
       "         7.68956400e-01,   7.70257100e-01,   7.72688800e-01,\n",
       "         7.74602700e-01,   7.77050900e-01,   7.78500400e-01,\n",
       "         7.80150200e-01,   7.82487800e-01,   7.84062500e-01,\n",
       "         7.85886200e-01,   7.87377700e-01,   7.89418900e-01,\n",
       "         7.90997600e-01,   7.93345600e-01,   7.95087700e-01,\n",
       "         7.96722600e-01,   7.98203900e-01,   8.00312600e-01,\n",
       "         8.02064400e-01,   8.02767700e-01,   8.05204600e-01,\n",
       "         8.06902100e-01,   8.08011000e-01,   8.09177300e-01,\n",
       "         8.11123800e-01,   8.13657300e-01,   8.14952600e-01,\n",
       "         8.15324200e-01,   8.17218800e-01,   8.18852100e-01,\n",
       "         8.20821500e-01,   8.21868200e-01,   8.23200600e-01,\n",
       "         8.23809700e-01,   8.25593700e-01,   8.27384300e-01,\n",
       "         8.27530100e-01,   8.29937000e-01,   8.31919300e-01,\n",
       "         8.33113600e-01,   8.34091700e-01,   8.35560700e-01,\n",
       "         8.37560600e-01,   8.38254600e-01,   8.39419600e-01,\n",
       "         8.40759800e-01,   8.41641300e-01,   8.42822500e-01,\n",
       "         8.43558400e-01,   8.44790200e-01,   8.46493100e-01,\n",
       "         8.46609100e-01,   8.48275500e-01,   8.49425700e-01,\n",
       "         8.51526700e-01,   8.52172100e-01,   8.53377800e-01,\n",
       "         8.54390300e-01,   8.55498100e-01,   8.56585100e-01,\n",
       "         8.57045400e-01,   8.57309800e-01,   8.56656100e-01,\n",
       "         8.56735900e-01,   8.57114300e-01,   8.57545300e-01,\n",
       "         8.58124300e-01,   8.59282000e-01,   8.60745900e-01,\n",
       "         8.63128400e-01,   8.65050900e-01,   8.66790400e-01,\n",
       "         8.67688100e-01,   8.68428200e-01,   8.69046700e-01,\n",
       "         8.70409500e-01,   8.71133700e-01,   8.71706200e-01,\n",
       "         8.73199900e-01,   8.74097100e-01,   8.74921400e-01,\n",
       "         8.75738100e-01,   8.76300600e-01,   8.76927900e-01,\n",
       "         8.77365500e-01,   8.78096200e-01,   8.78626500e-01,\n",
       "         8.79299100e-01,   8.79779300e-01,   8.79785700e-01,\n",
       "         8.79521100e-01,   8.79179100e-01,   8.78758600e-01,\n",
       "         8.79610700e-01,   8.80656400e-01,   8.81244200e-01,\n",
       "         8.82646000e-01,   8.83400600e-01,   8.84436700e-01,\n",
       "         8.85344300e-01,   8.85941100e-01,   8.87174600e-01,\n",
       "         8.87719200e-01,   8.88693200e-01,   8.89086700e-01,\n",
       "         8.89795900e-01,   8.89952400e-01,   8.90394600e-01,\n",
       "         8.90618900e-01,   8.91166400e-01,   8.91303500e-01,\n",
       "         8.91507100e-01,   8.91677900e-01,   8.91430000e-01,\n",
       "         8.91371700e-01,   8.91379800e-01,   8.91166900e-01,\n",
       "         8.91074300e-01,   8.90972000e-01,   8.91227700e-01,\n",
       "         8.91472200e-01,   8.91877800e-01,   8.92437300e-01,\n",
       "         8.92772400e-01,   8.93372400e-01,   8.93996400e-01,\n",
       "         8.94321600e-01,   8.94593500e-01,   8.95140800e-01,\n",
       "         8.94844600e-01,   8.95178900e-01,   8.95783700e-01,\n",
       "         8.96195300e-01,   8.96020300e-01,   8.96145000e-01,\n",
       "         8.96989300e-01,   8.97774200e-01,   8.97968500e-01,\n",
       "         8.98439600e-01,   8.98861600e-01,   8.99080800e-01,\n",
       "         8.99331700e-01,   8.99648200e-01,   8.99902600e-01,\n",
       "         8.99718600e-01,   8.99367200e-01,   8.99093600e-01,\n",
       "         8.98737800e-01,   8.98398600e-01,   8.98130200e-01,\n",
       "         8.97950200e-01,   8.97589700e-01,   8.97215100e-01,\n",
       "         8.96891900e-01,   8.96744400e-01,   8.96315000e-01,\n",
       "         8.95712500e-01,   8.93542800e-01,   8.92457100e-01,\n",
       "         8.92613800e-01,   8.91375300e-01,   8.91415500e-01,\n",
       "         8.90557600e-01,   8.90603200e-01,   8.90680100e-01,\n",
       "         8.91037900e-01,   8.92500300e-01,   8.93716100e-01,\n",
       "         8.94814700e-01,   8.96649500e-01,   8.98381900e-01,\n",
       "         8.99897600e-01,   9.02086800e-01,   9.02842100e-01,\n",
       "         9.03904100e-01,   9.04140500e-01,   9.04286900e-01,\n",
       "         8.99077200e-01,   8.99440900e-01,   9.01639000e-01,\n",
       "         8.97440300e-01,   9.04503200e-01,   9.01217600e-01,\n",
       "         9.03497600e-01,   9.04465900e-01,   9.04409500e-01,\n",
       "         9.04548500e-01,   9.05690700e-01,   9.05919000e-01,\n",
       "         9.06910500e-01,   9.07738300e-01,   9.08158400e-01,\n",
       "         9.08636200e-01,   9.09064000e-01,   9.10005900e-01,\n",
       "         9.10769200e-01,   9.11757500e-01,   9.12162500e-01,\n",
       "         9.12971900e-01,   9.13615600e-01,   9.14562000e-01,\n",
       "         9.15355900e-01,   9.15927400e-01,   9.16591300e-01,\n",
       "         9.17522500e-01,   9.18188900e-01,   9.18632400e-01,\n",
       "         9.19279200e-01,   9.19822900e-01,   9.20200500e-01,\n",
       "         9.20365500e-01,   9.20683600e-01,   9.20796700e-01,\n",
       "         9.20948900e-01,   9.20950900e-01,   9.20878800e-01,\n",
       "         9.06308100e-01,   9.12524800e-01,   9.16453200e-01,\n",
       "         9.21248300e-01,   9.23019200e-01,   9.24352300e-01,\n",
       "         9.26105900e-01,   9.26656400e-01,   9.28334500e-01,\n",
       "         9.30295000e-01,   9.31670700e-01,   9.32924700e-01,\n",
       "         9.33702000e-01,   9.34944900e-01,   9.35879700e-01,\n",
       "         9.36226900e-01,   9.37029200e-01,   9.37547600e-01,\n",
       "         9.36505600e-01,   9.34688900e-01,   9.32593800e-01,\n",
       "         9.35354100e-01,   9.39991000e-01,   9.40691400e-01,\n",
       "         9.39889100e-01,   9.41579200e-01,   9.42268900e-01,\n",
       "         9.37953500e-01,   9.41525900e-01,   9.42710100e-01,\n",
       "         9.44721900e-01,   9.46071100e-01,   9.46139900e-01,\n",
       "         9.47151100e-01,   9.47307100e-01,   9.47795900e-01,\n",
       "         9.48313600e-01,   9.48783800e-01,   9.49294200e-01,\n",
       "         9.50031000e-01,   9.50381900e-01,   9.50979500e-01,\n",
       "         9.51311900e-01,   9.52025900e-01,   9.52180100e-01,\n",
       "         9.52774400e-01,   9.53002900e-01,   9.53618200e-01,\n",
       "         9.53807000e-01,   9.54130100e-01,   9.54662000e-01,\n",
       "         9.54945600e-01,   9.55506400e-01,   9.55726900e-01,\n",
       "         9.56474700e-01,   9.56545100e-01,   9.57198000e-01,\n",
       "         9.57604900e-01,   9.57986700e-01,   7.06609500e-01,\n",
       "         8.68386800e-01,   8.93158600e-01,   9.14705000e-01,\n",
       "         9.26072200e-01,   9.48180400e-01,   9.44613800e-01,\n",
       "         9.39914800e-01,   9.50219300e-01,   9.47758200e-01,\n",
       "         9.60540800e-01,   9.60354700e-01,   9.55101700e-01,\n",
       "         9.55972400e-01,   9.52100200e-01,   9.54136600e-01,\n",
       "         9.55989200e-01,   9.57354200e-01,   9.57951000e-01,\n",
       "         9.60210600e-01,   9.61896900e-01,   9.63139700e-01,\n",
       "         9.63415700e-01,   9.63021300e-01,   9.64642000e-01,\n",
       "         9.64000900e-01,   9.65259700e-01,   9.64451700e-01,\n",
       "         9.61911500e-01,   9.62622300e-01,   9.50876100e-01,\n",
       "         9.16852100e-01,   8.79438300e-01,   9.23895400e-01,\n",
       "         9.58323300e-01,   9.57783400e-01,   9.55921800e-01,\n",
       "         9.10508200e-01,   9.27773100e-01,   9.46821300e-01,\n",
       "         9.38629700e-01,   9.23238600e-01,   9.32550200e-01,\n",
       "         9.49556100e-01,   9.40435800e-01,   9.45412600e-01,\n",
       "         9.59238600e-01,   9.66668500e-01,   9.61799500e-01,\n",
       "         9.65407300e-01,   9.65494000e-01,   9.67605800e-01,\n",
       "         9.68171900e-01,   9.70797000e-01,   9.72235300e-01,\n",
       "         9.72659100e-01,   9.72673000e-01,   9.73162200e-01,\n",
       "         9.73515200e-01,   9.73910800e-01,   9.74061000e-01,\n",
       "         9.74220900e-01,   9.74331000e-01,   9.74530200e-01,\n",
       "         9.74629600e-01,   9.75117600e-01,   9.75247300e-01,\n",
       "         9.75396500e-01,   9.75550500e-01,   9.75649000e-01,\n",
       "         9.75869100e-01,   9.76190600e-01,   9.68715800e-01,\n",
       "         4.26215000e-01,   3.41945300e-01,   7.06004500e-01,\n",
       "         6.13729400e-01,   6.57572900e-01,   7.71548700e-01,\n",
       "         8.88426100e-01,   9.25128300e-01,   9.62305200e-01,\n",
       "         9.72305400e-01,   9.72030800e-01,   9.76445700e-01,\n",
       "         9.77903300e-01,   9.77970400e-01,   9.78011400e-01,\n",
       "         9.78080200e-01,   9.78188900e-01,   9.78344000e-01,\n",
       "         9.78435800e-01,   9.78525900e-01,   9.78601200e-01,\n",
       "         9.78828900e-01,   9.78979200e-01,   9.79120300e-01,\n",
       "         9.79048000e-01,   9.78981300e-01,   9.78196400e-01,\n",
       "         9.78148300e-01,   9.76288100e-01,   9.76454500e-01,\n",
       "         9.73135800e-01,   9.73695900e-01,   9.75156500e-01,\n",
       "         9.76155000e-01,   9.80385100e-01,   9.79004000e-01,\n",
       "         9.70110700e-01,   9.76663500e-01,   9.77426500e-01,\n",
       "         9.78806500e-01,   9.75108900e-01,   9.73352200e-01,\n",
       "         9.75878800e-01,   9.75443000e-01,   9.75356100e-01,\n",
       "         9.76903200e-01,   9.80271600e-01,   9.78373300e-01,\n",
       "         9.80433200e-01,   9.77361300e-01,   9.75752100e-01,\n",
       "         9.76194100e-01,   9.72735900e-01,   9.65528700e-01,\n",
       "         9.53467200e-01,   9.37115700e-01,   9.49622700e-01,\n",
       "         8.88513700e-01,   9.31969800e-01,   9.49385500e-01,\n",
       "         9.26222900e-01,   9.75614100e-01,   9.69714900e-01,\n",
       "         8.72224300e-01,   9.61863300e-01,   9.72366300e-01,\n",
       "         9.61271300e-01,   9.71996300e-01,   9.42481900e-01,\n",
       "         9.65398800e-01,   9.60369800e-01,   9.63226900e-01,\n",
       "         9.62074200e-01,   9.71650400e-01,   9.71155600e-01,\n",
       "         9.76089200e-01,   9.76397500e-01,   9.76390700e-01,\n",
       "         9.79590700e-01,   9.81282200e-01,   9.81675800e-01,\n",
       "         9.81675800e-01,   9.78982900e-01,   9.84216000e-01,\n",
       "         9.81247800e-01,   9.83701200e-01,   9.84390400e-01,\n",
       "         9.84886300e-01,   9.84293600e-01,   9.84638600e-01,\n",
       "         9.84616600e-01,   9.84662900e-01,   9.85806400e-01,\n",
       "         9.86113100e-01,   9.85938000e-01,   9.85938000e-01,\n",
       "         9.86214200e-01,   9.86845300e-01,   9.86360300e-01,\n",
       "         9.86753800e-01,   9.87095100e-01,   9.87011100e-01,\n",
       "         9.87226400e-01,   9.87103400e-01,   9.87423700e-01,\n",
       "         9.87423700e-01,   9.87431600e-01,   9.87519700e-01,\n",
       "         9.87524900e-01,   9.87576500e-01,   9.87666300e-01,\n",
       "         9.87734800e-01,   9.87838600e-01,   9.87850000e-01,\n",
       "         9.87850000e-01,   9.88015200e-01,   9.88061800e-01,\n",
       "         9.88080700e-01,   9.88088700e-01,   9.88098400e-01,\n",
       "         9.88279300e-01,   9.88279300e-01,   9.88016500e-01,\n",
       "         9.88141900e-01,   9.88222500e-01,   9.88334000e-01,\n",
       "         9.86528500e-01,   9.88278400e-01,   9.88278400e-01,\n",
       "         9.87846600e-01,   9.86933300e-01,   9.88349400e-01,\n",
       "         9.86731500e-01,   9.82073600e-01,   9.82073600e-01,\n",
       "         9.71514700e-01,   9.61576300e-01,   9.12593600e-01,\n",
       "         9.59358800e-01,   8.63218200e-01,   8.63218200e-01,\n",
       "         8.84497300e-01,   9.05650400e-01,   9.28137700e-01,\n",
       "         9.75628600e-01,   9.69876800e-01,   9.69876800e-01,\n",
       "         9.20602700e-01,   9.02662200e-01,   9.13538900e-01,\n",
       "         9.02959600e-01,   9.02959600e-01,   9.54257800e-01,\n",
       "         9.29428800e-01,   9.12030000e-01,   8.83606700e-01,\n",
       "         8.83606700e-01,   9.53087300e-01,   8.96173400e-01,\n",
       "         9.38495800e-01,   9.74831400e-01,   9.74831400e-01,\n",
       "         9.66256300e-01,   9.65887000e-01,   9.56969500e-01,\n",
       "         9.56969500e-01,   9.61653100e-01,   9.64777500e-01,\n",
       "         9.12777400e-01,   9.00647300e-01,   9.00647300e-01,\n",
       "         8.03349300e-01,   6.43703800e-01,   6.83381900e-01,\n",
       "         6.83381900e-01,   6.26958000e-01,   6.01160600e-01,\n",
       "         6.05663000e-01,   6.05663000e-01,   7.15828100e-01,\n",
       "         8.32360100e-01,   7.92701700e-01,   7.92701700e-01,\n",
       "         6.94664500e-01,   6.97534900e-01,   7.96403200e-01,\n",
       "         7.96403200e-01,   7.15114400e-01,   7.41577400e-01,\n",
       "         7.83358100e-01,   7.83358100e-01,   7.93955700e-01,\n",
       "         7.09395100e-01,   8.29564900e-01,   8.29564900e-01,\n",
       "         8.22228900e-01,   7.26020900e-01,   8.58519000e-01,\n",
       "         8.58519000e-01,   7.95847200e-01,   8.52308100e-01,\n",
       "         8.52308100e-01,   8.61584800e-01,   9.07172800e-01,\n",
       "         8.43206900e-01,   8.43206900e-01,   8.86011800e-01,\n",
       "         9.36359500e-01,   9.36359500e-01,   9.47104300e-01,\n",
       "         9.66027000e-01,   9.72201300e-01,   9.72201300e-01,\n",
       "         9.64752700e-01,   9.25211100e-01,   9.25211100e-01,\n",
       "         9.12366000e-01,   9.54638800e-01,   9.48393000e-01,\n",
       "         9.48393000e-01,   9.49514200e-01,   9.80563300e-01,\n",
       "         9.80563300e-01,   9.71175300e-01,   9.79637600e-01,\n",
       "         9.79637600e-01,   9.89006300e-01,   9.85568000e-01,\n",
       "         9.85568000e-01,   9.90983100e-01,   9.88793600e-01,\n",
       "         9.88793600e-01,   9.90389600e-01,   9.90070400e-01,\n",
       "         9.90070400e-01,   9.92368000e-01,   9.92430300e-01,\n",
       "         9.92430300e-01,   9.92482600e-01,   9.92327200e-01,\n",
       "         9.92327200e-01,   9.92454900e-01,   9.89484800e-01,\n",
       "         9.89484800e-01,   9.92523800e-01,   9.92687800e-01,\n",
       "         9.92687800e-01,   9.92811500e-01,   9.92251800e-01,\n",
       "         9.92251800e-01,   9.90101900e-01,   9.92879900e-01,\n",
       "         9.92879900e-01,   9.93018300e-01,   9.92972900e-01,\n",
       "         9.92972900e-01,   9.93145300e-01,   9.93001800e-01,\n",
       "         9.93001800e-01,   9.92839800e-01,   9.93285800e-01,\n",
       "         9.93285800e-01,   9.92935800e-01,   9.92935800e-01,\n",
       "         9.92839600e-01,   9.93364900e-01,   9.93364900e-01,\n",
       "         9.93151700e-01,   9.93426000e-01,   9.93426000e-01,\n",
       "         9.93541700e-01,   9.93510700e-01,   9.93510700e-01,\n",
       "         9.93523100e-01,   9.93523100e-01,   9.93552500e-01,\n",
       "         9.93267200e-01,   9.93267200e-01,   9.93242900e-01,\n",
       "         9.92947800e-01,   9.92947800e-01,   9.92719500e-01,\n",
       "         9.92719500e-01,   9.92443100e-01,   9.92011700e-01,\n",
       "         9.92011700e-01,   9.91411800e-01,   9.91411800e-01,\n",
       "         9.90808400e-01,   9.89583700e-01,   9.89583700e-01,\n",
       "         9.89048400e-01,   9.89048400e-01,   9.88215700e-01,\n",
       "         9.87506200e-01,   9.87506200e-01,   9.86671600e-01,\n",
       "         9.86671600e-01,   9.85936800e-01,   9.85206500e-01,\n",
       "         9.85206500e-01,   9.84746200e-01,   9.84746200e-01,\n",
       "         9.83913500e-01,   9.83447500e-01,   9.83447500e-01,\n",
       "         9.84233000e-01,   9.84233000e-01,   9.83730600e-01,\n",
       "         9.84471600e-01,   9.84471600e-01,   9.85539000e-01,\n",
       "         9.85539000e-01,   9.86344600e-01,   9.86344600e-01,\n",
       "         9.85116900e-01,   9.85421800e-01,   9.85421800e-01,\n",
       "         9.88045400e-01,   9.88045400e-01,   9.86492600e-01,\n",
       "         9.86492600e-01,   9.88330800e-01,   9.86963500e-01,\n",
       "         9.86963500e-01,   9.84253300e-01,   9.84253300e-01,\n",
       "         9.89109900e-01,   9.89109900e-01,   9.87276900e-01,\n",
       "         9.86345200e-01,   9.86345200e-01,   9.82748300e-01,\n",
       "         9.82748300e-01,   9.82860900e-01,   9.82860900e-01,\n",
       "         9.81001400e-01,   9.81001400e-01,   9.76106600e-01,\n",
       "         9.58310700e-01,   9.58310700e-01,   9.59092700e-01,\n",
       "         9.59092700e-01,   9.51961800e-01,   9.51961800e-01,\n",
       "         9.46086500e-01,   9.46086500e-01,   9.45145400e-01,\n",
       "         9.45145400e-01,   9.30579900e-01,   8.99435000e-01,\n",
       "         8.99435000e-01,   8.90639100e-01,   8.90639100e-01,\n",
       "         8.04253000e-01,   8.04253000e-01,   6.40919800e-01,\n",
       "         6.40919800e-01,   7.23262200e-01,   7.23262200e-01,\n",
       "         6.75552000e-01,   6.75552000e-01,   5.06531200e-01,\n",
       "         6.96212200e-01,   6.96212200e-01,   5.51550700e-01,\n",
       "         5.51550700e-01,   6.18741200e-01,   6.18741200e-01,\n",
       "         6.20915000e-01,   6.20915000e-01,   8.33917700e-01,\n",
       "         8.33917700e-01,   6.23282300e-01,   6.23282300e-01,\n",
       "         4.04578700e-01,   4.04578700e-01,   8.42468400e-01,\n",
       "         8.42468400e-01,   7.79841800e-01,   7.79841800e-01,\n",
       "         7.69766800e-01,   7.69766800e-01,   8.21239900e-01,\n",
       "         8.21239900e-01,   6.43425300e-01,   6.43425300e-01,\n",
       "         6.36488700e-01,   6.36488700e-01,   7.21864600e-01,\n",
       "         7.21864600e-01,   7.92346300e-01,   7.92346300e-01,\n",
       "         7.46771300e-01,   7.46771300e-01,   7.89309600e-01,\n",
       "         7.89309600e-01,   8.50360300e-01,   8.50360300e-01,\n",
       "         9.20471500e-01,   9.20471500e-01,   9.09745500e-01,\n",
       "         9.09745500e-01,   9.37411200e-01,   9.37411200e-01,\n",
       "         9.29074600e-01,   9.29074600e-01,   9.51586300e-01,\n",
       "         9.51586300e-01,   9.59694600e-01,   9.59694600e-01,\n",
       "         9.62877600e-01,   9.62877600e-01,   9.29700100e-01,\n",
       "         9.29700100e-01,   9.81842500e-01,   9.81842500e-01,\n",
       "         9.49589300e-01,   9.49589300e-01,   9.73114500e-01,\n",
       "         9.73114500e-01,   9.23657700e-01,   9.23657700e-01,\n",
       "         9.61392100e-01,   9.61392100e-01,   9.73463200e-01,\n",
       "         9.73463200e-01,   9.27361200e-01,   9.27361200e-01,\n",
       "         9.27361200e-01,   9.61655400e-01,   9.61655400e-01,\n",
       "         9.83790200e-01,   9.83790200e-01,   9.67850600e-01,\n",
       "         9.67850600e-01,   9.76094200e-01,   9.76094200e-01,\n",
       "         9.61032500e-01,   9.61032500e-01,   9.58174200e-01])"
      ]
     },
     "execution_count": 59,
     "metadata": {},
     "output_type": "execute_result"
    }
   ],
   "source": [
    "all_bp_atm[0].throughput"
   ]
  },
  {
   "cell_type": "markdown",
   "metadata": {},
   "source": [
    "## Observed spectra\n",
    "\n",
    "- calculate the observed spectra and save it in list"
   ]
  },
  {
   "cell_type": "code",
   "execution_count": 77,
   "metadata": {
    "collapsed": false
   },
   "outputs": [
    {
     "name": "stdout",
     "output_type": "stream",
     "text": [
      "((CTIO QE * CTIO atm 0)) does not have a defined binset in the wavecat table. The waveset of the spectrum will be used instead.\n",
      "((CTIO QE * CTIO atm 1)) does not have a defined binset in the wavecat table. The waveset of the spectrum will be used instead.\n",
      "((CTIO QE * CTIO atm 2)) does not have a defined binset in the wavecat table. The waveset of the spectrum will be used instead.\n",
      "((CTIO QE * CTIO atm 3)) does not have a defined binset in the wavecat table. The waveset of the spectrum will be used instead.\n",
      "((CTIO QE * CTIO atm 4)) does not have a defined binset in the wavecat table. The waveset of the spectrum will be used instead.\n",
      "((CTIO QE * CTIO atm 5)) does not have a defined binset in the wavecat table. The waveset of the spectrum will be used instead.\n",
      "((CTIO QE * CTIO atm 6)) does not have a defined binset in the wavecat table. The waveset of the spectrum will be used instead.\n",
      "((CTIO QE * CTIO atm 7)) does not have a defined binset in the wavecat table. The waveset of the spectrum will be used instead.\n",
      "((CTIO QE * CTIO atm 8)) does not have a defined binset in the wavecat table. The waveset of the spectrum will be used instead.\n",
      "((CTIO QE * CTIO atm 9)) does not have a defined binset in the wavecat table. The waveset of the spectrum will be used instead.\n"
     ]
    }
   ],
   "source": [
    "all_obs_spectra = []\n",
    "all_obs_wl= []\n",
    "all_obs_fluxes = []\n",
    "\n",
    "for index,am in np.ndenumerate(airmasses):\n",
    "    idx=index[0]\n",
    "    atm_filter_name='CTIO atm {}'.format(idx)\n",
    "    the_bp_atm=bp_atm = S.ArrayBandpass(all_wl_atm[idx]*10.,all_tr_atm[idx], name=atm_filter_name)  # Pysynphot pass band\n",
    "    bp_ctio_atm = bp_ctio*the_bp_atm # Multply atm tansmission by CCD QE efficiciency\n",
    "    bp_ctio_atm.binning=10.\n",
    "    obs_ctio = S.Observation(sed,bp_ctio_atm)\n",
    "    all_obs_spectra.append(obs_ctio)\n",
    "    all_obs_wl.append(obs_ctio.wave)\n",
    "    all_obs_fluxes.append(obs_ctio.flux) \n",
    "    \n"
   ]
  },
  {
   "cell_type": "code",
   "execution_count": 78,
   "metadata": {
    "collapsed": true
   },
   "outputs": [],
   "source": [
    "def MakeSimNpArray(all_simwavelength,all_simspectra):\n",
    "    \n",
    "    all_simspectra=np.array(all_simspectra)\n",
    "    simwavelength=np.array(all_simwavelength[0])\n",
    "    \n",
    "    NBSPEC=all_simspectra.shape[0]\n",
    "    NBWL=simwavelength.shape[0]\n",
    "    \n",
    "    print NBSPEC,' , ',NBWL\n",
    "    dataout=np.zeros((NBSPEC+1,NBWL))\n",
    "    \n",
    "    dataout[0,:]=simwavelength\n",
    "    \n",
    "    for ispec in np.arange(1,NBSPEC+1):\n",
    "        dataout[ispec,:]=all_simspectra[ispec-1]\n",
    "    return dataout"
   ]
  },
  {
   "cell_type": "code",
   "execution_count": 73,
   "metadata": {
    "collapsed": false
   },
   "outputs": [
    {
     "name": "stdout",
     "output_type": "stream",
     "text": [
      "10  ,  4814\n"
     ]
    }
   ],
   "source": [
    "spectra_out=MakeSimNpArray(all_obs_wl,all_obs_fluxes)"
   ]
  },
  {
   "cell_type": "markdown",
   "metadata": {},
   "source": [
    "## Save output file"
   ]
  },
  {
   "cell_type": "code",
   "execution_count": 79,
   "metadata": {
    "collapsed": false
   },
   "outputs": [],
   "source": [
    "prihdu = fits.PrimaryHDU(data=spectra_out)\n",
    "thdulist = fits.HDUList(prihdu)\n",
    "thdulist.writeto(outputfitsfile,overwrite=True)"
   ]
  },
  {
   "cell_type": "code",
   "execution_count": null,
   "metadata": {
    "collapsed": true
   },
   "outputs": [],
   "source": []
  }
 ],
 "metadata": {
  "anaconda-cloud": {},
  "kernelspec": {
   "display_name": "Python [conda env:pyastrophys]",
   "language": "python",
   "name": "conda-env-pyastrophys-py"
  },
  "language_info": {
   "codemirror_mode": {
    "name": "ipython",
    "version": 2
   },
   "file_extension": ".py",
   "mimetype": "text/x-python",
   "name": "python",
   "nbconvert_exporter": "python",
   "pygments_lexer": "ipython2",
   "version": "2.7.12"
  },
  "toc": {
   "colors": {
    "hover_highlight": "#DAA520",
    "running_highlight": "#FF0000",
    "selected_highlight": "#FFD700"
   },
   "moveMenuLeft": true,
   "nav_menu": {
    "height": "231px",
    "width": "252px"
   },
   "navigate_menu": true,
   "number_sections": true,
   "sideBar": true,
   "threshold": 4,
   "toc_cell": false,
   "toc_section_display": "block",
   "toc_window_display": false,
   "widenNotebook": false
  }
 },
 "nbformat": 4,
 "nbformat_minor": 2
}
