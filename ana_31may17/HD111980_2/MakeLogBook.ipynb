{
 "cells": [
  {
   "cell_type": "markdown",
   "metadata": {
    "deletable": true,
    "editable": true
   },
   "source": [
    "# Make Logbook of Trim images of CTIO Data\n",
    "==================================================================================================\n",
    "\n",
    "- author : Sylvie Dagoret-Campagne\n",
    "- affiliation : LAL/IN2P3/CNRS, France\n",
    "- date   : Juin 16 2016\n"
   ]
  },
  {
   "cell_type": "code",
   "execution_count": 44,
   "metadata": {
    "collapsed": false,
    "deletable": true,
    "editable": true
   },
   "outputs": [
    {
     "data": {
      "application/javascript": [
       "var kernel = IPython.notebook.kernel;\n",
       "var thename = window.document.getElementById(\"notebook_name\").innerHTML;\n",
       "var command = \"theNotebook = \" + \"'\"+thename+\"'\";\n",
       "kernel.execute(command);"
      ],
      "text/plain": [
       "<IPython.core.display.Javascript object>"
      ]
     },
     "metadata": {},
     "output_type": "display_data"
    }
   ],
   "source": [
    "%%javascript\n",
    "var kernel = IPython.notebook.kernel;\n",
    "var thename = window.document.getElementById(\"notebook_name\").innerHTML;\n",
    "var command = \"theNotebook = \" + \"'\"+thename+\"'\";\n",
    "kernel.execute(command);"
   ]
  },
  {
   "cell_type": "code",
   "execution_count": 45,
   "metadata": {
    "collapsed": false,
    "deletable": true,
    "editable": true
   },
   "outputs": [
    {
     "name": "stdout",
     "output_type": "stream",
     "text": [
      "MakeLogBook\n"
     ]
    }
   ],
   "source": [
    "print(theNotebook)"
   ]
  },
  {
   "cell_type": "code",
   "execution_count": 46,
   "metadata": {
    "collapsed": false,
    "deletable": true,
    "editable": true
   },
   "outputs": [],
   "source": [
    "%matplotlib inline\n",
    "import matplotlib.pyplot as plt\n",
    "import numpy as np\n",
    "\n",
    "from astropy.modeling import models\n",
    "from astropy import units as u\n",
    "from astropy import nddata\n",
    "from astropy.io import fits\n",
    "from astropy.table import Table, Column\n",
    "import re\n",
    "import os"
   ]
  },
  {
   "cell_type": "code",
   "execution_count": 47,
   "metadata": {
    "collapsed": true,
    "deletable": true,
    "editable": true
   },
   "outputs": [],
   "source": [
    "import pandas as pd"
   ]
  },
  {
   "cell_type": "code",
   "execution_count": 48,
   "metadata": {
    "collapsed": false,
    "deletable": true,
    "editable": true
   },
   "outputs": [],
   "source": [
    "# to enlarge the sizes\n",
    "params = {'legend.fontsize': 'x-large',\n",
    "          'figure.figsize': (8, 8),\n",
    "         'axes.labelsize': 'x-large',\n",
    "         'axes.titlesize':'x-large',\n",
    "         'xtick.labelsize':'x-large',\n",
    "         'ytick.labelsize':'x-large'}\n",
    "plt.rcParams.update(params)"
   ]
  },
  {
   "cell_type": "markdown",
   "metadata": {
    "deletable": true,
    "editable": true
   },
   "source": [
    "## Location of trim images\n",
    "----------------------------------"
   ]
  },
  {
   "cell_type": "code",
   "execution_count": null,
   "metadata": {
    "collapsed": false,
    "deletable": true,
    "editable": true
   },
   "outputs": [],
   "source": []
  },
  {
   "cell_type": "code",
   "execution_count": 49,
   "metadata": {
    "collapsed": true
   },
   "outputs": [],
   "source": [
    "rootpath_rawimage=\"../OverScanRemove/trim_images\"\n",
    "MIN_IMGNUMBER=74\n",
    "MAX_IMGNUMBER=108\n",
    "object_name='HD111980_May_31th'\n",
    "SelectTagRe='^trim_20170531_([0-9]+).fits$' # regular expression to select the file\n",
    "SearchTagRe='^trim_20170531_[0-9]+.fits$'\n",
    "NBIMGPERLROW=4"
   ]
  },
  {
   "cell_type": "code",
   "execution_count": 50,
   "metadata": {
    "collapsed": true,
    "deletable": true,
    "editable": true
   },
   "outputs": [],
   "source": [
    "#rootpath_rawimage=\"/Users/dagoret-campagnesylvie/MacOsX/LSST/MyWork/GitHub/CTIOData2016/November2016/mucol\"\n",
    "#object_name='mucol'\n",
    "infos='ctio31may2017'"
   ]
  },
  {
   "cell_type": "code",
   "execution_count": 51,
   "metadata": {
    "collapsed": false,
    "deletable": true,
    "editable": true
   },
   "outputs": [],
   "source": [
    "logfile='logbk_'+object_name+'_'+infos+'.fits'\n",
    "pandaslogfile='logbk_'+object_name+'_'+infos+'.csv'"
   ]
  },
  {
   "cell_type": "code",
   "execution_count": 52,
   "metadata": {
    "collapsed": true,
    "deletable": true,
    "editable": true
   },
   "outputs": [],
   "source": [
    "dirlist=[]\n",
    "dirlist.append(rootpath_rawimage)\n",
    "dirlist_all=np.array(dirlist)"
   ]
  },
  {
   "cell_type": "code",
   "execution_count": 53,
   "metadata": {
    "collapsed": false,
    "deletable": true,
    "editable": true
   },
   "outputs": [],
   "source": [
    "filelist_all=os.listdir(rootpath_rawimage) "
   ]
  },
  {
   "cell_type": "code",
   "execution_count": 54,
   "metadata": {
    "collapsed": false,
    "deletable": true,
    "editable": true
   },
   "outputs": [
    {
     "data": {
      "text/plain": [
       "['trim_20170531_001.fits',\n",
       " 'trim_20170531_002.fits',\n",
       " 'trim_20170531_003.fits',\n",
       " 'trim_20170531_004.fits',\n",
       " 'trim_20170531_005.fits',\n",
       " 'trim_20170531_006.fits',\n",
       " 'trim_20170531_007.fits',\n",
       " 'trim_20170531_008.fits',\n",
       " 'trim_20170531_009.fits',\n",
       " 'trim_20170531_010.fits',\n",
       " 'trim_20170531_011.fits',\n",
       " 'trim_20170531_012.fits',\n",
       " 'trim_20170531_013.fits',\n",
       " 'trim_20170531_014.fits',\n",
       " 'trim_20170531_015.fits',\n",
       " 'trim_20170531_016.fits',\n",
       " 'trim_20170531_017.fits',\n",
       " 'trim_20170531_018.fits',\n",
       " 'trim_20170531_019.fits',\n",
       " 'trim_20170531_020.fits',\n",
       " 'trim_20170531_023.fits',\n",
       " 'trim_20170531_024.fits',\n",
       " 'trim_20170531_025.fits',\n",
       " 'trim_20170531_026.fits',\n",
       " 'trim_20170531_027.fits',\n",
       " 'trim_20170531_028.fits',\n",
       " 'trim_20170531_029.fits',\n",
       " 'trim_20170531_030.fits',\n",
       " 'trim_20170531_031.fits',\n",
       " 'trim_20170531_032.fits',\n",
       " 'trim_20170531_033.fits',\n",
       " 'trim_20170531_034.fits',\n",
       " 'trim_20170531_035.fits',\n",
       " 'trim_20170531_036.fits',\n",
       " 'trim_20170531_037.fits',\n",
       " 'trim_20170531_038.fits',\n",
       " 'trim_20170531_039.fits',\n",
       " 'trim_20170531_040.fits',\n",
       " 'trim_20170531_041.fits',\n",
       " 'trim_20170531_042.fits',\n",
       " 'trim_20170531_046.fits',\n",
       " 'trim_20170531_047.fits',\n",
       " 'trim_20170531_048.fits',\n",
       " 'trim_20170531_049.fits',\n",
       " 'trim_20170531_050.fits',\n",
       " 'trim_20170531_051.fits',\n",
       " 'trim_20170531_052.fits',\n",
       " 'trim_20170531_053.fits',\n",
       " 'trim_20170531_054.fits',\n",
       " 'trim_20170531_055.fits',\n",
       " 'trim_20170531_056.fits',\n",
       " 'trim_20170531_057.fits',\n",
       " 'trim_20170531_058.fits',\n",
       " 'trim_20170531_059.fits',\n",
       " 'trim_20170531_060.fits',\n",
       " 'trim_20170531_061.fits',\n",
       " 'trim_20170531_062.fits',\n",
       " 'trim_20170531_063.fits',\n",
       " 'trim_20170531_066.fits',\n",
       " 'trim_20170531_067.fits',\n",
       " 'trim_20170531_068.fits',\n",
       " 'trim_20170531_069.fits',\n",
       " 'trim_20170531_070.fits',\n",
       " 'trim_20170531_071.fits',\n",
       " 'trim_20170531_074.fits',\n",
       " 'trim_20170531_075.fits',\n",
       " 'trim_20170531_076.fits',\n",
       " 'trim_20170531_077.fits',\n",
       " 'trim_20170531_078.fits',\n",
       " 'trim_20170531_079.fits',\n",
       " 'trim_20170531_080.fits',\n",
       " 'trim_20170531_081.fits',\n",
       " 'trim_20170531_082.fits',\n",
       " 'trim_20170531_083.fits',\n",
       " 'trim_20170531_084.fits',\n",
       " 'trim_20170531_085.fits',\n",
       " 'trim_20170531_086.fits',\n",
       " 'trim_20170531_087.fits',\n",
       " 'trim_20170531_088.fits',\n",
       " 'trim_20170531_089.fits',\n",
       " 'trim_20170531_090.fits',\n",
       " 'trim_20170531_091.fits',\n",
       " 'trim_20170531_092.fits',\n",
       " 'trim_20170531_093.fits',\n",
       " 'trim_20170531_094.fits',\n",
       " 'trim_20170531_095.fits',\n",
       " 'trim_20170531_096.fits',\n",
       " 'trim_20170531_097.fits',\n",
       " 'trim_20170531_098.fits',\n",
       " 'trim_20170531_099.fits',\n",
       " 'trim_20170531_100.fits',\n",
       " 'trim_20170531_101.fits',\n",
       " 'trim_20170531_102.fits',\n",
       " 'trim_20170531_103.fits',\n",
       " 'trim_20170531_104.fits',\n",
       " 'trim_20170531_105.fits',\n",
       " 'trim_20170531_106.fits',\n",
       " 'trim_20170531_107.fits',\n",
       " 'trim_20170531_108.fits',\n",
       " 'trim_20170531_109.fits',\n",
       " 'trim_20170531_110.fits',\n",
       " 'trim_20170531_113.fits',\n",
       " 'trim_20170531_114.fits',\n",
       " 'trim_20170531_115.fits',\n",
       " 'trim_20170531_116.fits',\n",
       " 'trim_20170531_117.fits',\n",
       " 'trim_20170531_118.fits',\n",
       " 'trim_20170531_119.fits',\n",
       " 'trim_20170531_120.fits',\n",
       " 'trim_20170531_121.fits',\n",
       " 'trim_20170531_122.fits',\n",
       " 'trim_20170531_123.fits',\n",
       " 'trim_20170531_124.fits',\n",
       " 'trim_20170531_125.fits',\n",
       " 'trim_20170531_126.fits',\n",
       " 'trim_20170531_127.fits',\n",
       " 'trim_20170531_128.fits',\n",
       " 'trim_20170531_129.fits',\n",
       " 'trim_20170531_130.fits',\n",
       " 'trim_20170531_131.fits',\n",
       " 'trim_20170531_132.fits',\n",
       " 'trim_20170531_133.fits',\n",
       " 'trim_20170531_134.fits',\n",
       " 'trim_20170531_135.fits',\n",
       " 'trim_20170531_136.fits',\n",
       " 'trim_20170531_137.fits',\n",
       " 'trim_20170531_138.fits',\n",
       " 'trim_20170531_139.fits',\n",
       " 'trim_20170531_140.fits',\n",
       " 'trim_20170531_143.fits',\n",
       " 'trim_20170531_144.fits',\n",
       " 'trim_20170531_145.fits',\n",
       " 'trim_20170531_146.fits',\n",
       " 'trim_20170531_147.fits',\n",
       " 'trim_20170531_148.fits',\n",
       " 'trim_20170531_149.fits',\n",
       " 'trim_20170531_150.fits',\n",
       " 'trim_20170531_151.fits',\n",
       " 'trim_20170531_152.fits',\n",
       " 'trim_20170531_153.fits',\n",
       " 'trim_20170531_154.fits',\n",
       " 'trim_20170531_155.fits',\n",
       " 'trim_20170531_156.fits',\n",
       " 'trim_20170531_157.fits',\n",
       " 'trim_20170531_158.fits',\n",
       " 'trim_20170531_159.fits',\n",
       " 'trim_20170531_160.fits',\n",
       " 'trim_20170531_161.fits',\n",
       " 'trim_20170531_162.fits',\n",
       " 'trim_20170531_163.fits',\n",
       " 'trim_20170531_164.fits',\n",
       " 'trim_20170531_165.fits',\n",
       " 'trim_20170531_166.fits',\n",
       " 'trim_20170531_167.fits',\n",
       " 'trim_20170531_168.fits',\n",
       " 'trim_20170531_169.fits',\n",
       " 'trim_20170531_170.fits',\n",
       " 'trim_20170531_171.fits',\n",
       " 'trim_20170531_172.fits',\n",
       " 'trim_20170531_173.fits',\n",
       " 'trim_20170531_174.fits',\n",
       " 'trim_20170531_175.fits',\n",
       " 'trim_20170531_176.fits',\n",
       " 'trim_20170531_177.fits']"
      ]
     },
     "execution_count": 54,
     "metadata": {},
     "output_type": "execute_result"
    }
   ],
   "source": [
    "#dirlist_all.remove('.DS_Store') # reove that file in a mAC\n",
    "filelist_all"
   ]
  },
  {
   "cell_type": "code",
   "execution_count": 55,
   "metadata": {
    "collapsed": true,
    "deletable": true,
    "editable": true
   },
   "outputs": [],
   "source": [
    "indexes_files= [] # global list\n",
    "filelist_fitsimages= []  # global list"
   ]
  },
  {
   "cell_type": "code",
   "execution_count": 56,
   "metadata": {
    "collapsed": false,
    "deletable": true,
    "editable": true
   },
   "outputs": [],
   "source": [
    "def MakeFileList():\n",
    "    \"\"\"\n",
    "    MakeFileList : Make The List of files to open\n",
    "    =============\n",
    "    \n",
    "    - we select the files which are of interest.\n",
    "    - In particular select the number range\n",
    "    \n",
    "    \"\"\"\n",
    "    count=0\n",
    "    \n",
    "    for dir in dirlist_all: # loop on directories, one per image   (if necessary)    \n",
    "            dir_leaf= dir # build the name of leaf directory\n",
    "            listfiles=os.listdir(dir_leaf) \n",
    "            for filename in listfiles:\n",
    "                if re.search(SearchTagRe,filename):  #example of filename filter\n",
    "                    str_index=re.findall(SelectTagRe,filename)\n",
    "                    count=count+1\n",
    "                    index=int(str_index[0])\n",
    "                    if index >= MIN_IMGNUMBER and index <= MAX_IMGNUMBER: \n",
    "                        indexes_files.append(index)         \n",
    "                        shortfilename=dir_leaf+'/'+filename\n",
    "                        filelist_fitsimages.append(shortfilename)\n",
    "                    \n",
    "    return"
   ]
  },
  {
   "cell_type": "code",
   "execution_count": 57,
   "metadata": {
    "collapsed": false,
    "deletable": true,
    "editable": true
   },
   "outputs": [],
   "source": [
    "MakeFileList()   # Make the list"
   ]
  },
  {
   "cell_type": "code",
   "execution_count": 58,
   "metadata": {
    "collapsed": true,
    "deletable": true,
    "editable": true
   },
   "outputs": [],
   "source": [
    "indexes_files=np.array(indexes_files)\n",
    "filelist_fitsimages=np.array(filelist_fitsimages)"
   ]
  },
  {
   "cell_type": "code",
   "execution_count": 59,
   "metadata": {
    "collapsed": false,
    "deletable": true,
    "editable": true
   },
   "outputs": [
    {
     "data": {
      "text/plain": [
       "array([ 74,  75,  76,  77,  78,  79,  80,  81,  82,  83,  84,  85,  86,\n",
       "        87,  88,  89,  90,  91,  92,  93,  94,  95,  96,  97,  98,  99,\n",
       "       100, 101, 102, 103, 104, 105, 106, 107, 108])"
      ]
     },
     "execution_count": 59,
     "metadata": {},
     "output_type": "execute_result"
    }
   ],
   "source": [
    "indexes_files"
   ]
  },
  {
   "cell_type": "code",
   "execution_count": 60,
   "metadata": {
    "collapsed": true,
    "deletable": true,
    "editable": true
   },
   "outputs": [],
   "source": [
    "sorted_indexes=np.argsort(indexes_files) # sort the file indexes"
   ]
  },
  {
   "cell_type": "code",
   "execution_count": 61,
   "metadata": {
    "collapsed": true,
    "deletable": true,
    "editable": true
   },
   "outputs": [],
   "source": [
    "sorted_files=filelist_fitsimages[sorted_indexes]"
   ]
  },
  {
   "cell_type": "code",
   "execution_count": 62,
   "metadata": {
    "collapsed": true,
    "deletable": true,
    "editable": true
   },
   "outputs": [],
   "source": [
    "sorted_numbers=indexes_files[sorted_indexes]"
   ]
  },
  {
   "cell_type": "code",
   "execution_count": 63,
   "metadata": {
    "collapsed": true,
    "deletable": true,
    "editable": true
   },
   "outputs": [],
   "source": [
    "sorted_filenames=[]\n",
    "for file in sorted_files:\n",
    "    #fullfilename=os.path.join(rootpath_rawimage,file)\n",
    "    fullfilename=file\n",
    "    sorted_filenames.append(fullfilename)"
   ]
  },
  {
   "cell_type": "code",
   "execution_count": 64,
   "metadata": {
    "collapsed": true,
    "deletable": true,
    "editable": true
   },
   "outputs": [],
   "source": [
    "sorted_filenames=np.array(sorted_filenames)"
   ]
  },
  {
   "cell_type": "code",
   "execution_count": 65,
   "metadata": {
    "collapsed": false,
    "deletable": true,
    "editable": true
   },
   "outputs": [
    {
     "data": {
      "text/plain": [
       "array(['../OverScanRemove/trim_images/trim_20170531_074.fits',\n",
       "       '../OverScanRemove/trim_images/trim_20170531_075.fits',\n",
       "       '../OverScanRemove/trim_images/trim_20170531_076.fits',\n",
       "       '../OverScanRemove/trim_images/trim_20170531_077.fits',\n",
       "       '../OverScanRemove/trim_images/trim_20170531_078.fits',\n",
       "       '../OverScanRemove/trim_images/trim_20170531_079.fits',\n",
       "       '../OverScanRemove/trim_images/trim_20170531_080.fits',\n",
       "       '../OverScanRemove/trim_images/trim_20170531_081.fits',\n",
       "       '../OverScanRemove/trim_images/trim_20170531_082.fits',\n",
       "       '../OverScanRemove/trim_images/trim_20170531_083.fits',\n",
       "       '../OverScanRemove/trim_images/trim_20170531_084.fits',\n",
       "       '../OverScanRemove/trim_images/trim_20170531_085.fits',\n",
       "       '../OverScanRemove/trim_images/trim_20170531_086.fits',\n",
       "       '../OverScanRemove/trim_images/trim_20170531_087.fits',\n",
       "       '../OverScanRemove/trim_images/trim_20170531_088.fits',\n",
       "       '../OverScanRemove/trim_images/trim_20170531_089.fits',\n",
       "       '../OverScanRemove/trim_images/trim_20170531_090.fits',\n",
       "       '../OverScanRemove/trim_images/trim_20170531_091.fits',\n",
       "       '../OverScanRemove/trim_images/trim_20170531_092.fits',\n",
       "       '../OverScanRemove/trim_images/trim_20170531_093.fits',\n",
       "       '../OverScanRemove/trim_images/trim_20170531_094.fits',\n",
       "       '../OverScanRemove/trim_images/trim_20170531_095.fits',\n",
       "       '../OverScanRemove/trim_images/trim_20170531_096.fits',\n",
       "       '../OverScanRemove/trim_images/trim_20170531_097.fits',\n",
       "       '../OverScanRemove/trim_images/trim_20170531_098.fits',\n",
       "       '../OverScanRemove/trim_images/trim_20170531_099.fits',\n",
       "       '../OverScanRemove/trim_images/trim_20170531_100.fits',\n",
       "       '../OverScanRemove/trim_images/trim_20170531_101.fits',\n",
       "       '../OverScanRemove/trim_images/trim_20170531_102.fits',\n",
       "       '../OverScanRemove/trim_images/trim_20170531_103.fits',\n",
       "       '../OverScanRemove/trim_images/trim_20170531_104.fits',\n",
       "       '../OverScanRemove/trim_images/trim_20170531_105.fits',\n",
       "       '../OverScanRemove/trim_images/trim_20170531_106.fits',\n",
       "       '../OverScanRemove/trim_images/trim_20170531_107.fits',\n",
       "       '../OverScanRemove/trim_images/trim_20170531_108.fits'], \n",
       "      dtype='|S52')"
      ]
     },
     "execution_count": 65,
     "metadata": {},
     "output_type": "execute_result"
    }
   ],
   "source": [
    "sorted_filenames"
   ]
  },
  {
   "cell_type": "code",
   "execution_count": 66,
   "metadata": {
    "collapsed": false,
    "deletable": true,
    "editable": true
   },
   "outputs": [],
   "source": [
    "from astropy.io import fits\n",
    "with fits.open(sorted_filenames[0]) as pf:\n",
    "    (pf[0].header)"
   ]
  },
  {
   "cell_type": "code",
   "execution_count": 67,
   "metadata": {
    "collapsed": false,
    "deletable": true,
    "editable": true
   },
   "outputs": [
    {
     "data": {
      "text/plain": [
       "SIMPLE  =                    T / conforms to FITS standard                      \n",
       "BITPIX  =                  -64 / array data type                                \n",
       "NAXIS   =                    2 / number of array dimensions                     \n",
       "NAXIS1  =                 2048                                                  \n",
       "NAXIS2  =                 2048                                                  \n",
       "COMMENT   FITS (Flexible Image Transport System) format is defined in 'Astronomy\n",
       "COMMENT   and Astrophysics', volume 376, page 359; bibcode: 2001A&A...376..359H \n",
       "OBJECT  = 'HD111980'           / Name of object observed                        \n",
       "OBSERVER= '        '           / observer                                       \n",
       "PROPID  = '        '           / Proposal ID                                    \n",
       "RECID   = 'ct36.20170601.030908' / NOAO Archibe record ID                       \n",
       "PROPID  = '        '           / Proposal ID                                    \n",
       "IMAGETYP= 'object  '           / Type of picture (object, dark, comp, etc)      \n",
       "CCDSUM  = '1 1     '           / On chip summation (X, Y)                       \n",
       "XSTART  =                    1 / start of roi in X                              \n",
       "YSTART  =                    1 / start of roi in Y                              \n",
       "XLENGTH =                 2048 / length of roi in X                             \n",
       "YLENGTH =                 2048 / length of roi in Y                             \n",
       "UTSHUT  = '2017-06-01T03:09:08.102' / UT of shutter open                        \n",
       "UT      = '03:09:08.102'       / UT of TCS coordinates                          \n",
       "DATE-OBS= '2017-06-01T03:09:08.102' / date of observations start                \n",
       "DATE    = '2017-06-01T03:11:10' / file creation date (YYYY-MM-DDThh:mm:ss UT)   \n",
       "NAMPSYX = '2 2     '           / Num amps in y and x (eg. '2 2=quad')           \n",
       "AMPLIST = '11 12 21 22'        / Readout order in y,x                           \n",
       "GTRON11 =                  12. / (e-) predicted read noise, lower left          \n",
       "GTRON12 =                  12. / (e-) predicted read noise, lower right         \n",
       "GTRON21 =                  12. / (e-) predicted read noise, upper left          \n",
       "GTRON22 =                  12. / (e-) predicted read noise, upper right         \n",
       "GTGAIN11=                   3. / (e-/ADU) predicted gain, lower left            \n",
       "GTGAIN12=                   3. / (e-/ADU) predicted gain, lower right           \n",
       "GTGAIN21=                   3. / (e-/ADU) predicted gain, upper left            \n",
       "GTGAIN22=                   3. / (e-/ADU) predicted gain, upper right           \n",
       "ASEC11  = '[1:1084,1:1024]'    / amplifier section Amp11(LL) detID 1            \n",
       "BSEC11  = '[1045:1084,1:1024]' / bias section Amp11(LL) detID 1                 \n",
       "CSEC11  = '[1:1034,1:1024]'    / section in full ccd for DSEC Amp11(LL) detID 1 \n",
       "DSEC11  = '[1:1034,1:1024]'    / image section in raw frame Amp11(LL) detID 1   \n",
       "TSEC11  = '[11:1034,1:1024]'   / trim section Amp11(LL) detID 1                 \n",
       "ABSEC11 = '[1045:1084,1:1024]' / overscan inside amp                            \n",
       "ADSEC11 = '[1:1024,1:1024]'    / detector section only                          \n",
       "ASEC12  = '[1085:2168,1:1024]' / amplifier section Amp12(LR) detID 1            \n",
       "BSEC12  = '[1085:1124,1:1024]' / bias section Amp12(LR) detID 1                 \n",
       "CSEC12  = '[1035:2068,1:1024]' / section in full ccd for DSEC Amp12(LR) detID 1 \n",
       "DSEC12  = '[1135:2168,1:1024]' / image section in raw frame Amp12(LR) detID 1   \n",
       "TSEC12  = '[1135:2158,1:1024]' / trim section Amp12(LR) detID 1                 \n",
       "ABSEC12 = '[1:40,1:1024]'      / overscan inside amp                            \n",
       "ADSEC12 = '[1025:2048,1:1024]' / detector section only                          \n",
       "ASEC21  = '[1:1084,1025:2048]' / amplifier section Amp21(UL) detID 1            \n",
       "BSEC21  = '[1045:1084,1025:2048]' / bias section Amp21(UL) detID 1              \n",
       "CSEC21  = '[1:1034,1025:2048]' / section in full ccd for DSEC Amp21(UL) detID 1 \n",
       "DSEC21  = '[1:1034,1025:2048]' / image section in raw frame Amp21(UL) detID 1   \n",
       "TSEC21  = '[11:1034,1025:2048]' / trim section Amp21(UL) detID 1                \n",
       "ABSEC21 = '[1045:1084,1:1024]' / overscan inside amp                            \n",
       "ADSEC21 = '[1:1024,1025:2048]' / detector section only                          \n",
       "ASEC22  = '[1085:2168,1025:2048]' / amplifier section Amp22(UR) detID 1         \n",
       "BSEC22  = '[1085:1124,1025:2048]' / bias section Amp22(UR) detID 1              \n",
       "CSEC22  = '[1035:2068,1025:2048]' / section in full ccd for DSEC Amp22(UR) detID\n",
       "DSEC22  = '[1135:2168,1025:2048]' / image section in raw frame Amp22(UR) detID 1\n",
       "TSEC22  = '[1135:2158,1025:2048]' / trim section Amp22(UR) detID 1              \n",
       "ABSEC22 = '[1:40,1:1024]'      / overscan inside amp                            \n",
       "ADSEC22 = '[1025:2048,1025:2048]' / detector section only                       \n",
       "ROISEC00= '[1:2048,1:2048]'    / roi section                                    \n",
       "DETECTOR= 'Tek2K_3 '           / Detector Identifier                            \n",
       "FPA     = 'SITE2K  '           / focal plan array                               \n",
       "REXPTIME=                 120. / requested exposure time in secs                \n",
       "EXPTIME =                 120. / Exposure time in secs                          \n",
       "DARKTIME=                 120. / Total elapsed time in secs                     \n",
       "NIMAGES =                    1 / number of images requested in sequence         \n",
       "PIXELT  = '25000.000000'       / (ns) unbinned pixel read time                  \n",
       "DHEINF  = 'MNSN torrent hardware' / controller info                             \n",
       "DHEFIRM = '/home/observer/panview/fpas/_biw/config/DETECTOR/site2k_sequencer.uc'\n",
       "PIXTIME = '25      '           / pixel time (usecs)                             \n",
       "POWSTAT = '3.000   '           / power supplies status (3=OK)                   \n",
       "CCDSETP = '163.000 '           / ccd temperature setpoint                       \n",
       "CCDTEMP = '165.500 '           / CCD temperature                                \n",
       "NECKTEMP= '144.750 '           / dewar NECK temperature                         \n",
       "HEATERSP= '30.709  '           / Heater power percent.                          \n",
       "VDDA    = '23.989  '           / bias output amplifier A                        \n",
       "VDDB    = '23.959  '           / bias output amplifier B                        \n",
       "VDDC    = '24.378  '           / bias output amplifier C                        \n",
       "VDDD    = '24.184  '           / bias output amplifier D                        \n",
       "VRDA    = '13.810  '           / Reset Drain amplifier A                        \n",
       "VRDB    = '13.780  '           / Reset Drain amplifier B                        \n",
       "VRDC    = '14.019  '           / Reset Drain amplifier C                        \n",
       "VRDD    = '13.930  '           / Reset Drain amplifier D                        \n",
       "LGA     = '-2.022  '           / Reset Drain amplifier A                        \n",
       "LGB     = '-2.072  '           / Reset Drain amplifier B                        \n",
       "LGC     = '-1.972  '           / Reset Drain amplifier C                        \n",
       "LGD     = '-1.972  '           / Reset Drain amplifier D                        \n",
       "SLOT00  = 'LCB 0x188538 2.240000' / dhe board: <type> <serial> <firmware>       \n",
       "SLOT01  = 'PSM 0x45834F 2.210000' / dhe board: <type> <serial> <firmware>       \n",
       "SLOT02  = 'CFG 0xNONE 2.240000' / dhe board: <type> <serial> <firmware>         \n",
       "SLOT03  = 'PIX 0xNONE 2.210000' / dhe board: <type> <serial> <firmware>         \n",
       "SLOT04  = 'CCDAFE 0x188167 18805C 2.210000' / dhe board: <type> <serial> <firmwa\n",
       "SLOT07  = 'CB 0xNONE 2.240000' / dhe board: <type> <serial> <firmware>          \n",
       "SLOT02  = 'TSM 0x3C6784 NONE'  / dhe board: <type> <serial> <firmware>          \n",
       "VANPLUS =             10.54422 / analog voltage plus                            \n",
       "VANMINU =             -10.5137 / analog voltage minus                           \n",
       "FPGATEMP=             34.97537 / torrent fpga temperature                       \n",
       "ID      = '[ct36.20170601.030908]' / ID                                         \n",
       "OBSERVAT= 'CTIO    '           / Origin of data                                 \n",
       "TELESCOP= 'CTIO 0.9 meter telescope' / Specific system                          \n",
       "TELID   = 'ct36    '           / CTIO 0.9 meter telescope                       \n",
       "TCS-TIME= '2017-05-31T03:09:8.41' / date of observation start                   \n",
       "UT      = '03:09:8.41'         / UT of TCS coords                               \n",
       "RA      = '12:52:60.00'        / ra                                             \n",
       "DEC     = '-18:34:14.01'       / dec                                            \n",
       "EPOCH   =                2000. / epoch                                          \n",
       "ZD      =               31.911 / zenith distance                                \n",
       "HA      = '02:12:6.42'         / hour angle                                     \n",
       "ST      = '15:05:6.42'         / sidereal time                                  \n",
       "AIRMASS =                1.178 / airmass                                        \n",
       "ALT     = '-63.03  '           / altitud                                        \n",
       "TELFOCUS=               12350. / telescope focus                                \n",
       "WEATIME = '2017-06-01 03:10:01' / weather timestamp                             \n",
       "OUTTEMP =                 11.3 / outside temp (C)                               \n",
       "OUTHUM  =                   22 / outside humidity (%)                           \n",
       "OUTPRESS=                 781. / outside pressure (hPa)                         \n",
       "WNDSPEED=                  21. / wind speed (mph)                               \n",
       "WNDDIR  =                   43 / wind dir (degrees)                             \n",
       "SEETIME = '2017-06-01 03:09:35' / seeing timestamp                              \n",
       "SEEING  =                0.963 / seeing                                         \n",
       "SAIRMASS=                1.027 / seeing airmass                                 \n",
       "PANID   = '_biw    '           / PAN identification                             \n",
       "COMMENT image                                                                   \n",
       "COMMENT Image is trimmed                                                        \n",
       "FILTER1 = 'RG715   '           / Filter in wheel 1                              \n",
       "FNAME1  = 'RG715   '           / Full name of filter in wheel 1                 \n",
       "FILTER2 = 'Ron400  '           / Filter in wheel 2                              \n",
       "FNAME2  = 'Ronchi400'          / Full name of filter in wheel 2                 \n",
       "FILTERS = 'RG715 Ron400'       / Filter positions                               \n",
       "INSTRUME= 'cfccd   '           / cassegrain direct imager                       \n",
       "XPIXSIZE=                0.401 / Pixel size in X (arcsecs/pix)                  \n",
       "YPIXSIZE=                0.401 / Pixel size in Y (arcsecs/pix)                  \n",
       "TEST    =                   2. / my keyword                                     "
      ]
     },
     "execution_count": 67,
     "metadata": {},
     "output_type": "execute_result"
    }
   ],
   "source": [
    "pf[0].header"
   ]
  },
  {
   "cell_type": "markdown",
   "metadata": {
    "collapsed": false,
    "deletable": true,
    "editable": true
   },
   "source": [
    "### Build tables for output file"
   ]
  },
  {
   "cell_type": "code",
   "execution_count": null,
   "metadata": {
    "collapsed": false,
    "deletable": true,
    "editable": true
   },
   "outputs": [],
   "source": []
  },
  {
   "cell_type": "code",
   "execution_count": 68,
   "metadata": {
    "collapsed": false,
    "deletable": true,
    "editable": true
   },
   "outputs": [
    {
     "name": "stdout",
     "output_type": "stream",
     "text": [
      "../OverScanRemove/trim_images/trim_20170531_074.fits\n",
      "../OverScanRemove/trim_images/trim_20170531_075.fits\n",
      "../OverScanRemove/trim_images/trim_20170531_076.fits\n",
      "../OverScanRemove/trim_images/trim_20170531_077.fits\n",
      "../OverScanRemove/trim_images/trim_20170531_078.fits\n",
      "../OverScanRemove/trim_images/trim_20170531_079.fits\n",
      "../OverScanRemove/trim_images/trim_20170531_080.fits\n",
      "../OverScanRemove/trim_images/trim_20170531_081.fits\n",
      "../OverScanRemove/trim_images/trim_20170531_082.fits\n",
      "../OverScanRemove/trim_images/trim_20170531_083.fits\n",
      "../OverScanRemove/trim_images/trim_20170531_084.fits\n",
      "../OverScanRemove/trim_images/trim_20170531_085.fits\n",
      "../OverScanRemove/trim_images/trim_20170531_086.fits\n",
      "../OverScanRemove/trim_images/trim_20170531_087.fits\n",
      "../OverScanRemove/trim_images/trim_20170531_088.fits\n",
      "../OverScanRemove/trim_images/trim_20170531_089.fits\n",
      "../OverScanRemove/trim_images/trim_20170531_090.fits\n",
      "../OverScanRemove/trim_images/trim_20170531_091.fits\n",
      "../OverScanRemove/trim_images/trim_20170531_092.fits\n",
      "../OverScanRemove/trim_images/trim_20170531_093.fits\n",
      "../OverScanRemove/trim_images/trim_20170531_094.fits\n",
      "../OverScanRemove/trim_images/trim_20170531_095.fits\n",
      "../OverScanRemove/trim_images/trim_20170531_096.fits\n",
      "../OverScanRemove/trim_images/trim_20170531_097.fits\n",
      "../OverScanRemove/trim_images/trim_20170531_098.fits\n",
      "../OverScanRemove/trim_images/trim_20170531_099.fits\n",
      "../OverScanRemove/trim_images/trim_20170531_100.fits\n",
      "../OverScanRemove/trim_images/trim_20170531_101.fits\n",
      "../OverScanRemove/trim_images/trim_20170531_102.fits\n",
      "../OverScanRemove/trim_images/trim_20170531_103.fits\n",
      "../OverScanRemove/trim_images/trim_20170531_104.fits\n",
      "../OverScanRemove/trim_images/trim_20170531_105.fits\n",
      "../OverScanRemove/trim_images/trim_20170531_106.fits\n",
      "../OverScanRemove/trim_images/trim_20170531_107.fits\n",
      "../OverScanRemove/trim_images/trim_20170531_108.fits\n"
     ]
    }
   ],
   "source": [
    "all_headers = []\n",
    "all_dates = []\n",
    "all_airmass = []\n",
    "all_exposures = []\n",
    "all_ut = []\n",
    "all_ra = []\n",
    "all_dec = []\n",
    "all_epoch = []\n",
    "all_zenith = []\n",
    "all_ha = []\n",
    "all_st = []\n",
    "all_alt = []\n",
    "all_focus = []\n",
    "all_temp = []\n",
    "all_press = []\n",
    "all_hum = []\n",
    "all_windsp = []\n",
    "all_seeing = []\n",
    "all_seeingam = []\n",
    "all_filter1 = []\n",
    "all_filter2 = []\n",
    "\n",
    "for idx,file in np.ndenumerate(sorted_filenames):  \n",
    "    print file\n",
    "    hdu_list=fits.open(file)\n",
    "    header=hdu_list[0].header\n",
    "    date_obs = header['DATE-OBS']\n",
    "    airmass = float(header['AIRMASS'])\n",
    "    expo= float(header['EXPTIME'])\n",
    "    num=indexes_files[idx[0]]\n",
    "   \n",
    "   \n",
    "    ut=header['UT']\n",
    "    ra=header['RA']\n",
    "    dec=header['DEC']\n",
    "    epoch=float(header['EPOCH'])\n",
    "    zd = float(header['ZD'])\n",
    "    ha = header['HA']\n",
    "    st = header['ST']\n",
    "    alt = float(header['ALT'])\n",
    "    fcl = float(header['TELFOCUS'])\n",
    "    temp= float(header['OUTTEMP'])\n",
    "    press= float(header['OUTPRESS'])\n",
    "    hum= float(header['OUTHUM'])\n",
    "    windsp=float(header['WNDSPEED'])\n",
    "    seeing=float(header['SEEING'])\n",
    "    seeingam=float(header['SAIRMASS'])\n",
    "    filter1 = header['FILTER1']\n",
    "    filter2 = header['FILTER2']\n",
    "    \n",
    "    all_dates.append(date_obs)\n",
    "    all_airmass.append(airmass)\n",
    "    all_headers.append(header)\n",
    "    all_exposures.append(expo)\n",
    "    all_ut.append(ut)\n",
    "    all_ra.append(ra)\n",
    "    all_dec.append(dec)\n",
    "    all_epoch.append(epoch)\n",
    "    all_zenith.append(zd)\n",
    "    all_ha.append(ha)\n",
    "    all_st.append(st)\n",
    "    all_alt.append(alt)\n",
    "    all_focus.append(fcl)\n",
    "    all_temp.append(temp)\n",
    "    all_press.append(press)\n",
    "    all_hum.append(hum)\n",
    "    all_windsp.append(windsp)\n",
    "    all_seeing.append(seeing)\n",
    "    all_seeingam.append(seeingam)\n",
    "    all_filter1.append(filter1)\n",
    "    all_filter2.append(filter2)\n",
    "\n",
    "    hdu_list.close()\n",
    "    "
   ]
  },
  {
   "cell_type": "code",
   "execution_count": 69,
   "metadata": {
    "collapsed": false,
    "deletable": true,
    "editable": true
   },
   "outputs": [
    {
     "data": {
      "text/plain": [
       "35"
      ]
     },
     "execution_count": 69,
     "metadata": {},
     "output_type": "execute_result"
    }
   ],
   "source": [
    "len(all_airmass)"
   ]
  },
  {
   "cell_type": "code",
   "execution_count": 70,
   "metadata": {
    "collapsed": false,
    "deletable": true,
    "editable": true
   },
   "outputs": [
    {
     "data": {
      "text/plain": [
       "['RG715',\n",
       " 'RG715',\n",
       " 'RG715',\n",
       " 'RG715',\n",
       " 'RG715',\n",
       " 'RG715',\n",
       " 'RG715',\n",
       " 'RG715',\n",
       " 'RG715',\n",
       " 'RG715',\n",
       " 'RG715',\n",
       " 'RG715',\n",
       " 'RG715',\n",
       " 'RG715',\n",
       " 'RG715',\n",
       " 'RG715',\n",
       " 'RG715',\n",
       " 'RG715',\n",
       " 'RG715',\n",
       " 'RG715',\n",
       " 'RG715',\n",
       " 'RG715',\n",
       " 'RG715',\n",
       " 'RG715',\n",
       " 'RG715',\n",
       " 'RG715',\n",
       " 'RG715',\n",
       " 'RG715',\n",
       " 'RG715',\n",
       " 'RG715',\n",
       " 'RG715',\n",
       " 'RG715',\n",
       " 'RG715',\n",
       " 'RG715',\n",
       " 'RG715']"
      ]
     },
     "execution_count": 70,
     "metadata": {},
     "output_type": "execute_result"
    }
   ],
   "source": [
    "all_filter1"
   ]
  },
  {
   "cell_type": "markdown",
   "metadata": {
    "deletable": true,
    "editable": true
   },
   "source": [
    "## Build outputfile"
   ]
  },
  {
   "cell_type": "code",
   "execution_count": 71,
   "metadata": {
    "collapsed": false,
    "deletable": true,
    "editable": true
   },
   "outputs": [],
   "source": [
    "col_airmass=np.array(all_airmass)\n",
    "col_number=np.array(indexes_files)\n",
    "col_date=np.array(all_dates)\n",
    "col_filename=np.array(filelist_all)\n",
    "col_exposure=np.array(all_exposures)\n",
    "col_zenith=np.array(all_zenith)\n",
    "col_altitude=np.array(all_alt)\n",
    "col_temperature=np.array(all_temp)\n",
    "col_pressure=np.array(all_press)\n",
    "col_humidity=np.array(all_hum)\n",
    "col_windsp=np.array(all_windsp)\n",
    "col_seeing=np.array(all_seeing)\n",
    "col_filter1=np.array(all_filter1)\n",
    "col_filter2=np.array(all_filter2)"
   ]
  },
  {
   "cell_type": "code",
   "execution_count": 72,
   "metadata": {
    "collapsed": false,
    "deletable": true,
    "editable": true
   },
   "outputs": [],
   "source": [
    "c1 = fits.Column(name='number', format='J', array=col_number)\n",
    "c2 = fits.Column(name='airmass', format='E', array=col_airmass)\n",
    "c3 = fits.Column(name='date', format='A50', array=col_date)\n",
    "c4 = fits.Column(name='filename', format='A30', array=sorted_filenames)\n",
    "c5 = fits.Column(name='exposure', format='E', array=col_exposure) \n",
    "c6 = fits.Column(name='zenith', format='E', array=col_zenith) \n",
    "#c7 = fits.Column(name='altitude', format='E', array=col_altitude) \n",
    "c8 = fits.Column(name='temperature', format='E', array=col_temperature) \n",
    "c9 = fits.Column(name='pressure', format='E', array=col_pressure) \n",
    "c10 = fits.Column(name='humidity', format='E', array=col_humidity) \n",
    "c11 = fits.Column(name='windspeed', format='E', array=col_windsp) \n",
    "c12 = fits.Column(name='seeing', format='E', array=col_seeing) \n",
    "c13 = fits.Column(name='filter1', format='A20', array=col_filter1)\n",
    "c14 = fits.Column(name='filter2', format='A20', array=col_filter2) "
   ]
  },
  {
   "cell_type": "code",
   "execution_count": 73,
   "metadata": {
    "collapsed": true,
    "deletable": true,
    "editable": true
   },
   "outputs": [],
   "source": [
    "tbhdu = fits.BinTableHDU.from_columns([c1, c2, c3, c4, c5,c6,c8,c9,c10,c11,c12,c13,c14])"
   ]
  },
  {
   "cell_type": "code",
   "execution_count": 74,
   "metadata": {
    "collapsed": false,
    "deletable": true,
    "editable": true
   },
   "outputs": [],
   "source": [
    "tbhdu.writeto(logfile,overwrite=True)"
   ]
  },
  {
   "cell_type": "markdown",
   "metadata": {
    "deletable": true,
    "editable": true
   },
   "source": [
    "## Convert into Table\n",
    "---------------------------"
   ]
  },
  {
   "cell_type": "code",
   "execution_count": 75,
   "metadata": {
    "collapsed": false,
    "deletable": true,
    "editable": true
   },
   "outputs": [],
   "source": [
    "thetable= Table(tbhdu.data)"
   ]
  },
  {
   "cell_type": "code",
   "execution_count": 76,
   "metadata": {
    "collapsed": false,
    "deletable": true,
    "editable": true
   },
   "outputs": [
    {
     "data": {
      "text/html": [
       "&lt;Table length=35&gt;\n",
       "<table id=\"table4655475728-799586\" class=\"table-striped table-bordered table-condensed\">\n",
       "<thead><tr><th>idx</th><th>number</th><th>airmass</th><th>date</th><th>filename</th><th>exposure</th><th>zenith</th><th>temperature</th><th>pressure</th><th>humidity</th><th>windspeed</th><th>seeing</th><th>filter1</th><th>filter2</th></tr></thead>\n",
       "<tr><td>0</td><td>74</td><td>1.178</td><td>2017-06-01T03:09:08.102</td><td>../OverScanRemove/trim_images/</td><td>120.0</td><td>31.911</td><td>11.3</td><td>781.0</td><td>22.0</td><td>21.0</td><td>0.963</td><td>RG715</td><td>Ron400</td></tr>\n",
       "<tr><td>1</td><td>75</td><td>1.185</td><td>2017-06-01T03:12:00.598</td><td>../OverScanRemove/trim_images/</td><td>120.0</td><td>32.517</td><td>11.3</td><td>781.0</td><td>22.0</td><td>21.7</td><td>0.963</td><td>RG715</td><td>Thor300</td></tr>\n",
       "<tr><td>2</td><td>76</td><td>1.194</td><td>2017-06-01T03:14:53.106</td><td>../OverScanRemove/trim_images/</td><td>120.0</td><td>33.124</td><td>11.3</td><td>781.0</td><td>22.0</td><td>21.3</td><td>0.963</td><td>RG715</td><td>HoloPhP</td></tr>\n",
       "<tr><td>3</td><td>77</td><td>1.202</td><td>2017-06-01T03:17:45.602</td><td>../OverScanRemove/trim_images/</td><td>240.0</td><td>33.733</td><td>11.4</td><td>781.0</td><td>22.0</td><td>21.9</td><td>1.19</td><td>RG715</td><td>HoloPhAg</td></tr>\n",
       "<tr><td>4</td><td>78</td><td>1.217</td><td>2017-06-01T03:22:38.101</td><td>../OverScanRemove/trim_images/</td><td>240.0</td><td>34.768</td><td>11.4</td><td>781.0</td><td>22.0</td><td>21.7</td><td>1.346</td><td>RG715</td><td>HoloAmAg</td></tr>\n",
       "<tr><td>5</td><td>79</td><td>1.232</td><td>2017-06-01T03:27:30.598</td><td>../OverScanRemove/trim_images/</td><td>120.0</td><td>35.806</td><td>11.2</td><td>781.0</td><td>22.0</td><td>19.9</td><td>1.67</td><td>RG715</td><td>Ron400</td></tr>\n",
       "<tr><td>6</td><td>80</td><td>1.242</td><td>2017-06-01T03:30:23.095</td><td>../OverScanRemove/trim_images/</td><td>120.0</td><td>36.42</td><td>11.5</td><td>781.0</td><td>22.0</td><td>21.9</td><td>1.702</td><td>RG715</td><td>Thor300</td></tr>\n",
       "<tr><td>7</td><td>81</td><td>1.252</td><td>2017-06-01T03:33:15.601</td><td>../OverScanRemove/trim_images/</td><td>120.0</td><td>37.034</td><td>11.7</td><td>781.0</td><td>22.0</td><td>22.1</td><td>1.702</td><td>RG715</td><td>HoloPhP</td></tr>\n",
       "<tr><td>8</td><td>82</td><td>1.262</td><td>2017-06-01T03:36:08.102</td><td>../OverScanRemove/trim_images/</td><td>240.0</td><td>37.65</td><td>12.0</td><td>781.0</td><td>21.0</td><td>21.6</td><td>1.702</td><td>RG715</td><td>HoloPhAg</td></tr>\n",
       "<tr><td>9</td><td>83</td><td>1.28</td><td>2017-06-01T03:41:00.600</td><td>../OverScanRemove/trim_images/</td><td>240.0</td><td>38.695</td><td>11.5</td><td>781.0</td><td>21.0</td><td>17.9</td><td>1.001</td><td>RG715</td><td>HoloAmAg</td></tr>\n",
       "<tr><td>10</td><td>84</td><td>1.3</td><td>2017-06-01T03:45:53.006</td><td>../OverScanRemove/trim_images/</td><td>120.0</td><td>39.741</td><td>11.2</td><td>781.0</td><td>21.0</td><td>17.0</td><td>1.048</td><td>RG715</td><td>Ron400</td></tr>\n",
       "<tr><td>11</td><td>85</td><td>1.311</td><td>2017-06-01T03:48:45.393</td><td>../OverScanRemove/trim_images/</td><td>120.0</td><td>40.359</td><td>11.3</td><td>781.0</td><td>22.0</td><td>16.3</td><td>0.941</td><td>RG715</td><td>Thor300</td></tr>\n",
       "<tr><td>12</td><td>86</td><td>1.324</td><td>2017-06-01T03:51:37.799</td><td>../OverScanRemove/trim_images/</td><td>120.0</td><td>40.978</td><td>11.2</td><td>781.0</td><td>22.0</td><td>15.9</td><td>1.115</td><td>RG715</td><td>HoloPhP</td></tr>\n",
       "<tr><td>13</td><td>87</td><td>1.336</td><td>2017-06-01T03:54:30.206</td><td>../OverScanRemove/trim_images/</td><td>240.0</td><td>41.597</td><td>11.4</td><td>781.0</td><td>22.0</td><td>13.1</td><td>1.093</td><td>RG715</td><td>HoloPhAg</td></tr>\n",
       "<tr><td>14</td><td>88</td><td>1.358</td><td>2017-06-01T03:59:22.694</td><td>../OverScanRemove/trim_images/</td><td>240.0</td><td>42.648</td><td>11.4</td><td>781.0</td><td>22.0</td><td>14.3</td><td>1.26</td><td>RG715</td><td>HoloAmAg</td></tr>\n",
       "<tr><td>15</td><td>89</td><td>1.382</td><td>2017-06-01T04:04:15.205</td><td>../OverScanRemove/trim_images/</td><td>120.0</td><td>43.701</td><td>11.9</td><td>781.0</td><td>21.0</td><td>14.0</td><td>1.26</td><td>RG715</td><td>Ron400</td></tr>\n",
       "<tr><td>16</td><td>90</td><td>1.396</td><td>2017-06-01T04:07:07.608</td><td>../OverScanRemove/trim_images/</td><td>120.0</td><td>44.322</td><td>12.0</td><td>781.0</td><td>21.0</td><td>19.5</td><td>1.043</td><td>RG715</td><td>Thor300</td></tr>\n",
       "<tr><td>17</td><td>91</td><td>1.411</td><td>2017-06-01T04:10:00.099</td><td>../OverScanRemove/trim_images/</td><td>120.0</td><td>44.944</td><td>12.4</td><td>781.0</td><td>21.0</td><td>20.0</td><td>0.796</td><td>RG715</td><td>HoloPhP</td></tr>\n",
       "<tr><td>18</td><td>92</td><td>1.427</td><td>2017-06-01T04:12:52.605</td><td>../OverScanRemove/trim_images/</td><td>240.0</td><td>45.565</td><td>12.2</td><td>781.0</td><td>21.0</td><td>21.0</td><td>0.84</td><td>RG715</td><td>HoloPhAg</td></tr>\n",
       "<tr><td>19</td><td>93</td><td>1.454</td><td>2017-06-01T04:17:45.002</td><td>../OverScanRemove/trim_images/</td><td>240.0</td><td>46.62</td><td>12.4</td><td>781.0</td><td>20.0</td><td>19.5</td><td>0.762</td><td>RG715</td><td>HoloAmAg</td></tr>\n",
       "<tr><td>20</td><td>94</td><td>1.483</td><td>2017-06-01T04:22:37.404</td><td>../OverScanRemove/trim_images/</td><td>120.0</td><td>47.675</td><td>12.2</td><td>781.0</td><td>21.0</td><td>21.9</td><td>0.636</td><td>RG715</td><td>Ron400</td></tr>\n",
       "<tr><td>21</td><td>95</td><td>1.501</td><td>2017-06-01T04:25:29.809</td><td>../OverScanRemove/trim_images/</td><td>120.0</td><td>48.296</td><td>12.6</td><td>781.0</td><td>20.0</td><td>20.7</td><td>0.598</td><td>RG715</td><td>Thor300</td></tr>\n",
       "<tr><td>22</td><td>96</td><td>1.52</td><td>2017-06-01T04:28:22.205</td><td>../OverScanRemove/trim_images/</td><td>120.0</td><td>48.919</td><td>12.5</td><td>781.0</td><td>20.0</td><td>21.4</td><td>0.679</td><td>RG715</td><td>HoloPhP</td></tr>\n",
       "<tr><td>23</td><td>97</td><td>1.539</td><td>2017-06-01T04:31:14.509</td><td>../OverScanRemove/trim_images/</td><td>240.0</td><td>49.54</td><td>12.6</td><td>781.0</td><td>20.0</td><td>20.1</td><td>0.808</td><td>RG715</td><td>HoloPhAg</td></tr>\n",
       "<tr><td>24</td><td>98</td><td>1.573</td><td>2017-06-01T04:36:07.004</td><td>../OverScanRemove/trim_images/</td><td>240.0</td><td>50.596</td><td>11.8</td><td>781.0</td><td>21.0</td><td>22.1</td><td>1.123</td><td>RG715</td><td>HoloAmAg</td></tr>\n",
       "<tr><td>25</td><td>99</td><td>1.609</td><td>2017-06-01T04:40:59.499</td><td>../OverScanRemove/trim_images/</td><td>120.0</td><td>51.652</td><td>12.1</td><td>781.0</td><td>21.0</td><td>16.8</td><td>0.996</td><td>RG715</td><td>Ron400</td></tr>\n",
       "<tr><td>26</td><td>100</td><td>1.632</td><td>2017-06-01T04:43:52.003</td><td>../OverScanRemove/trim_images/</td><td>120.0</td><td>52.275</td><td>12.0</td><td>781.0</td><td>21.0</td><td>23.0</td><td>0.841</td><td>RG715</td><td>Thor300</td></tr>\n",
       "<tr><td>27</td><td>101</td><td>1.655</td><td>2017-06-01T04:46:44.402</td><td>../OverScanRemove/trim_images/</td><td>120.0</td><td>52.897</td><td>12.2</td><td>781.0</td><td>21.0</td><td>15.7</td><td>1.014</td><td>RG715</td><td>HoloPhP</td></tr>\n",
       "<tr><td>28</td><td>102</td><td>1.679</td><td>2017-06-01T04:49:36.905</td><td>../OverScanRemove/trim_images/</td><td>240.0</td><td>53.52</td><td>11.9</td><td>781.0</td><td>21.0</td><td>17.9</td><td>1.201</td><td>RG715</td><td>HoloPhAg</td></tr>\n",
       "<tr><td>29</td><td>103</td><td>1.722</td><td>2017-06-01T04:54:29.349</td><td>../OverScanRemove/trim_images/</td><td>240.0</td><td>54.574</td><td>12.1</td><td>781.0</td><td>21.0</td><td>18.9</td><td>1.027</td><td>RG715</td><td>HoloAmAg</td></tr>\n",
       "<tr><td>30</td><td>104</td><td>1.768</td><td>2017-06-01T04:59:21.906</td><td>../OverScanRemove/trim_images/</td><td>120.0</td><td>55.629</td><td>11.8</td><td>781.0</td><td>21.0</td><td>18.6</td><td>1.334</td><td>RG715</td><td>Ron400</td></tr>\n",
       "<tr><td>31</td><td>105</td><td>1.796</td><td>2017-06-01T05:02:14.399</td><td>../OverScanRemove/trim_images/</td><td>120.0</td><td>56.251</td><td>11.9</td><td>781.0</td><td>21.0</td><td>19.5</td><td>1.052</td><td>RG715</td><td>Thor300</td></tr>\n",
       "<tr><td>32</td><td>106</td><td>1.826</td><td>2017-06-01T05:05:06.900</td><td>../OverScanRemove/trim_images/</td><td>120.0</td><td>56.873</td><td>12.0</td><td>781.0</td><td>21.0</td><td>20.8</td><td>1.064</td><td>RG715</td><td>HoloPhP</td></tr>\n",
       "<tr><td>33</td><td>107</td><td>1.857</td><td>2017-06-01T05:07:59.401</td><td>../OverScanRemove/trim_images/</td><td>240.0</td><td>57.494</td><td>11.7</td><td>781.0</td><td>21.0</td><td>20.1</td><td>1.128</td><td>RG715</td><td>HoloPhAg</td></tr>\n",
       "<tr><td>34</td><td>108</td><td>1.912</td><td>2017-06-01T05:12:51.797</td><td>../OverScanRemove/trim_images/</td><td>240.0</td><td>58.546</td><td>11.5</td><td>781.0</td><td>21.0</td><td>17.7</td><td>1.147</td><td>RG715</td><td>HoloAmAg</td></tr>\n",
       "</table><style>table.dataTable {clear: both; width: auto !important; margin: 0 !important;}\n",
       ".dataTables_info, .dataTables_length, .dataTables_filter, .dataTables_paginate{\n",
       "display: inline-block; margin-right: 1em; }\n",
       ".paginate_button { margin-right: 5px; }\n",
       "</style>\n",
       "<script>\n",
       "require.config({paths: {\n",
       "    datatables: 'https://cdn.datatables.net/1.10.12/js/jquery.dataTables.min'\n",
       "}});\n",
       "require([\"datatables\"], function(){\n",
       "    console.log(\"$('#table4655475728-799586').dataTable()\");\n",
       "    $('#table4655475728-799586').dataTable({\n",
       "        \"order\": [],\n",
       "        \"iDisplayLength\": 50,\n",
       "        \"aLengthMenu\": [[10, 25, 50, 100, 500, 1000, -1], [10, 25, 50, 100, 500, 1000, 'All']],\n",
       "        \"pagingType\": \"full_numbers\"\n",
       "    });\n",
       "});\n",
       "</script>\n"
      ],
      "text/plain": [
       "<IPython.core.display.HTML object>"
      ]
     },
     "execution_count": 76,
     "metadata": {},
     "output_type": "execute_result"
    }
   ],
   "source": [
    "thetable.show_in_notebook()"
   ]
  },
  {
   "cell_type": "markdown",
   "metadata": {
    "deletable": true,
    "editable": true
   },
   "source": [
    "## Read the logfile into a Table\n",
    "---------------------------------------"
   ]
  },
  {
   "cell_type": "code",
   "execution_count": 77,
   "metadata": {
    "collapsed": false
   },
   "outputs": [
    {
     "name": "stdout",
     "output_type": "stream",
     "text": [
      "logbk_HD111980_May_31th_ctio31may2017.fits\n"
     ]
    }
   ],
   "source": [
    "print logfile"
   ]
  },
  {
   "cell_type": "code",
   "execution_count": 78,
   "metadata": {
    "collapsed": true,
    "deletable": true,
    "editable": true
   },
   "outputs": [],
   "source": [
    "t = Table.read(logfile)"
   ]
  },
  {
   "cell_type": "code",
   "execution_count": 79,
   "metadata": {
    "collapsed": false,
    "deletable": true,
    "editable": true
   },
   "outputs": [
    {
     "data": {
      "text/html": [
       "&lt;Table length=35&gt;\n",
       "<table id=\"table4655473872\" class=\"table-striped table-bordered table-condensed\">\n",
       "<thead><tr><th>number</th><th>airmass</th><th>date</th><th>filename</th><th>exposure</th><th>zenith</th><th>temperature</th><th>pressure</th><th>humidity</th><th>windspeed</th><th>seeing</th><th>filter1</th><th>filter2</th></tr></thead>\n",
       "<thead><tr><th>int32</th><th>float32</th><th>str50</th><th>str30</th><th>float32</th><th>float32</th><th>float32</th><th>float32</th><th>float32</th><th>float32</th><th>float32</th><th>str20</th><th>str20</th></tr></thead>\n",
       "<tr><td>74</td><td>1.178</td><td>2017-06-01T03:09:08.102</td><td>../OverScanRemove/trim_images/</td><td>120.0</td><td>31.911</td><td>11.3</td><td>781.0</td><td>22.0</td><td>21.0</td><td>0.963</td><td>RG715</td><td>Ron400</td></tr>\n",
       "<tr><td>75</td><td>1.185</td><td>2017-06-01T03:12:00.598</td><td>../OverScanRemove/trim_images/</td><td>120.0</td><td>32.517</td><td>11.3</td><td>781.0</td><td>22.0</td><td>21.7</td><td>0.963</td><td>RG715</td><td>Thor300</td></tr>\n",
       "<tr><td>76</td><td>1.194</td><td>2017-06-01T03:14:53.106</td><td>../OverScanRemove/trim_images/</td><td>120.0</td><td>33.124</td><td>11.3</td><td>781.0</td><td>22.0</td><td>21.3</td><td>0.963</td><td>RG715</td><td>HoloPhP</td></tr>\n",
       "<tr><td>77</td><td>1.202</td><td>2017-06-01T03:17:45.602</td><td>../OverScanRemove/trim_images/</td><td>240.0</td><td>33.733</td><td>11.4</td><td>781.0</td><td>22.0</td><td>21.9</td><td>1.19</td><td>RG715</td><td>HoloPhAg</td></tr>\n",
       "<tr><td>78</td><td>1.217</td><td>2017-06-01T03:22:38.101</td><td>../OverScanRemove/trim_images/</td><td>240.0</td><td>34.768</td><td>11.4</td><td>781.0</td><td>22.0</td><td>21.7</td><td>1.346</td><td>RG715</td><td>HoloAmAg</td></tr>\n",
       "<tr><td>79</td><td>1.232</td><td>2017-06-01T03:27:30.598</td><td>../OverScanRemove/trim_images/</td><td>120.0</td><td>35.806</td><td>11.2</td><td>781.0</td><td>22.0</td><td>19.9</td><td>1.67</td><td>RG715</td><td>Ron400</td></tr>\n",
       "<tr><td>80</td><td>1.242</td><td>2017-06-01T03:30:23.095</td><td>../OverScanRemove/trim_images/</td><td>120.0</td><td>36.42</td><td>11.5</td><td>781.0</td><td>22.0</td><td>21.9</td><td>1.702</td><td>RG715</td><td>Thor300</td></tr>\n",
       "<tr><td>81</td><td>1.252</td><td>2017-06-01T03:33:15.601</td><td>../OverScanRemove/trim_images/</td><td>120.0</td><td>37.034</td><td>11.7</td><td>781.0</td><td>22.0</td><td>22.1</td><td>1.702</td><td>RG715</td><td>HoloPhP</td></tr>\n",
       "<tr><td>82</td><td>1.262</td><td>2017-06-01T03:36:08.102</td><td>../OverScanRemove/trim_images/</td><td>240.0</td><td>37.65</td><td>12.0</td><td>781.0</td><td>21.0</td><td>21.6</td><td>1.702</td><td>RG715</td><td>HoloPhAg</td></tr>\n",
       "<tr><td>83</td><td>1.28</td><td>2017-06-01T03:41:00.600</td><td>../OverScanRemove/trim_images/</td><td>240.0</td><td>38.695</td><td>11.5</td><td>781.0</td><td>21.0</td><td>17.9</td><td>1.001</td><td>RG715</td><td>HoloAmAg</td></tr>\n",
       "<tr><td>...</td><td>...</td><td>...</td><td>...</td><td>...</td><td>...</td><td>...</td><td>...</td><td>...</td><td>...</td><td>...</td><td>...</td><td>...</td></tr>\n",
       "<tr><td>99</td><td>1.609</td><td>2017-06-01T04:40:59.499</td><td>../OverScanRemove/trim_images/</td><td>120.0</td><td>51.652</td><td>12.1</td><td>781.0</td><td>21.0</td><td>16.8</td><td>0.996</td><td>RG715</td><td>Ron400</td></tr>\n",
       "<tr><td>100</td><td>1.632</td><td>2017-06-01T04:43:52.003</td><td>../OverScanRemove/trim_images/</td><td>120.0</td><td>52.275</td><td>12.0</td><td>781.0</td><td>21.0</td><td>23.0</td><td>0.841</td><td>RG715</td><td>Thor300</td></tr>\n",
       "<tr><td>101</td><td>1.655</td><td>2017-06-01T04:46:44.402</td><td>../OverScanRemove/trim_images/</td><td>120.0</td><td>52.897</td><td>12.2</td><td>781.0</td><td>21.0</td><td>15.7</td><td>1.014</td><td>RG715</td><td>HoloPhP</td></tr>\n",
       "<tr><td>102</td><td>1.679</td><td>2017-06-01T04:49:36.905</td><td>../OverScanRemove/trim_images/</td><td>240.0</td><td>53.52</td><td>11.9</td><td>781.0</td><td>21.0</td><td>17.9</td><td>1.201</td><td>RG715</td><td>HoloPhAg</td></tr>\n",
       "<tr><td>103</td><td>1.722</td><td>2017-06-01T04:54:29.349</td><td>../OverScanRemove/trim_images/</td><td>240.0</td><td>54.574</td><td>12.1</td><td>781.0</td><td>21.0</td><td>18.9</td><td>1.027</td><td>RG715</td><td>HoloAmAg</td></tr>\n",
       "<tr><td>104</td><td>1.768</td><td>2017-06-01T04:59:21.906</td><td>../OverScanRemove/trim_images/</td><td>120.0</td><td>55.629</td><td>11.8</td><td>781.0</td><td>21.0</td><td>18.6</td><td>1.334</td><td>RG715</td><td>Ron400</td></tr>\n",
       "<tr><td>105</td><td>1.796</td><td>2017-06-01T05:02:14.399</td><td>../OverScanRemove/trim_images/</td><td>120.0</td><td>56.251</td><td>11.9</td><td>781.0</td><td>21.0</td><td>19.5</td><td>1.052</td><td>RG715</td><td>Thor300</td></tr>\n",
       "<tr><td>106</td><td>1.826</td><td>2017-06-01T05:05:06.900</td><td>../OverScanRemove/trim_images/</td><td>120.0</td><td>56.873</td><td>12.0</td><td>781.0</td><td>21.0</td><td>20.8</td><td>1.064</td><td>RG715</td><td>HoloPhP</td></tr>\n",
       "<tr><td>107</td><td>1.857</td><td>2017-06-01T05:07:59.401</td><td>../OverScanRemove/trim_images/</td><td>240.0</td><td>57.494</td><td>11.7</td><td>781.0</td><td>21.0</td><td>20.1</td><td>1.128</td><td>RG715</td><td>HoloPhAg</td></tr>\n",
       "<tr><td>108</td><td>1.912</td><td>2017-06-01T05:12:51.797</td><td>../OverScanRemove/trim_images/</td><td>240.0</td><td>58.546</td><td>11.5</td><td>781.0</td><td>21.0</td><td>17.7</td><td>1.147</td><td>RG715</td><td>HoloAmAg</td></tr>\n",
       "</table>"
      ],
      "text/plain": [
       "<Table length=35>\n",
       "number airmass           date          ...  seeing filter1 filter2 \n",
       "int32  float32          str50          ... float32  str20   str20  \n",
       "------ ------- ----------------------- ... ------- ------- --------\n",
       "    74   1.178 2017-06-01T03:09:08.102 ...   0.963   RG715   Ron400\n",
       "    75   1.185 2017-06-01T03:12:00.598 ...   0.963   RG715  Thor300\n",
       "    76   1.194 2017-06-01T03:14:53.106 ...   0.963   RG715  HoloPhP\n",
       "    77   1.202 2017-06-01T03:17:45.602 ...    1.19   RG715 HoloPhAg\n",
       "    78   1.217 2017-06-01T03:22:38.101 ...   1.346   RG715 HoloAmAg\n",
       "    79   1.232 2017-06-01T03:27:30.598 ...    1.67   RG715   Ron400\n",
       "    80   1.242 2017-06-01T03:30:23.095 ...   1.702   RG715  Thor300\n",
       "    81   1.252 2017-06-01T03:33:15.601 ...   1.702   RG715  HoloPhP\n",
       "    82   1.262 2017-06-01T03:36:08.102 ...   1.702   RG715 HoloPhAg\n",
       "    83    1.28 2017-06-01T03:41:00.600 ...   1.001   RG715 HoloAmAg\n",
       "   ...     ...                     ... ...     ...     ...      ...\n",
       "    99   1.609 2017-06-01T04:40:59.499 ...   0.996   RG715   Ron400\n",
       "   100   1.632 2017-06-01T04:43:52.003 ...   0.841   RG715  Thor300\n",
       "   101   1.655 2017-06-01T04:46:44.402 ...   1.014   RG715  HoloPhP\n",
       "   102   1.679 2017-06-01T04:49:36.905 ...   1.201   RG715 HoloPhAg\n",
       "   103   1.722 2017-06-01T04:54:29.349 ...   1.027   RG715 HoloAmAg\n",
       "   104   1.768 2017-06-01T04:59:21.906 ...   1.334   RG715   Ron400\n",
       "   105   1.796 2017-06-01T05:02:14.399 ...   1.052   RG715  Thor300\n",
       "   106   1.826 2017-06-01T05:05:06.900 ...   1.064   RG715  HoloPhP\n",
       "   107   1.857 2017-06-01T05:07:59.401 ...   1.128   RG715 HoloPhAg\n",
       "   108   1.912 2017-06-01T05:12:51.797 ...   1.147   RG715 HoloAmAg"
      ]
     },
     "execution_count": 79,
     "metadata": {},
     "output_type": "execute_result"
    }
   ],
   "source": [
    "t"
   ]
  },
  {
   "cell_type": "markdown",
   "metadata": {
    "deletable": true,
    "editable": true
   },
   "source": [
    "## Convert into pandas to plot\n",
    "---------------------------------------"
   ]
  },
  {
   "cell_type": "code",
   "execution_count": 80,
   "metadata": {
    "collapsed": true,
    "deletable": true,
    "editable": true
   },
   "outputs": [],
   "source": [
    "df = t.to_pandas()"
   ]
  },
  {
   "cell_type": "code",
   "execution_count": 81,
   "metadata": {
    "collapsed": false,
    "deletable": true,
    "editable": true
   },
   "outputs": [
    {
     "data": {
      "text/plain": [
       "<matplotlib.axes._subplots.AxesSubplot at 0x114d6e410>"
      ]
     },
     "execution_count": 81,
     "metadata": {},
     "output_type": "execute_result"
    },
    {
     "data": {
      "image/png": "[encoded data removed]",
      "text/plain": [
       "<matplotlib.figure.Figure at 0x1157ced50>"
      ]
     },
     "metadata": {},
     "output_type": "display_data"
    }
   ],
   "source": [
    "df.plot('date','airmass',figsize=(20,6),rot=45,grid=True,title='airmass vs date',color='b',marker='o',linewidth=2)\n"
   ]
  },
  {
   "cell_type": "code",
   "execution_count": 82,
   "metadata": {
    "collapsed": false,
    "deletable": true,
    "editable": true
   },
   "outputs": [
    {
     "data": {
      "text/plain": [
       "<matplotlib.axes._subplots.AxesSubplot at 0x115a7f150>"
      ]
     },
     "execution_count": 82,
     "metadata": {},
     "output_type": "execute_result"
    },
    {
     "data": {
      "image/png": "[encoded data removed]",
      "text/plain": [
       "<matplotlib.figure.Figure at 0x115b16f10>"
      ]
     },
     "metadata": {},
     "output_type": "display_data"
    }
   ],
   "source": [
    "df.plot('date','exposure',figsize=(20,6),rot=45,grid=True,title='exposure vs date',color='b',marker='o',linewidth=2)"
   ]
  },
  {
   "cell_type": "markdown",
   "metadata": {
    "collapsed": true,
    "deletable": true,
    "editable": true
   },
   "source": [
    "### Save pandas file\n"
   ]
  },
  {
   "cell_type": "code",
   "execution_count": 83,
   "metadata": {
    "collapsed": true,
    "deletable": true,
    "editable": true
   },
   "outputs": [],
   "source": [
    "df.to_csv(pandaslogfile)"
   ]
  },
  {
   "cell_type": "code",
   "execution_count": null,
   "metadata": {
    "collapsed": true,
    "deletable": true,
    "editable": true
   },
   "outputs": [],
   "source": []
  }
 ],
 "metadata": {
  "anaconda-cloud": {},
  "kernelspec": {
   "display_name": "Python [default]",
   "language": "python",
   "name": "python2"
  },
  "language_info": {
   "codemirror_mode": {
    "name": "ipython",
    "version": 2
   },
   "file_extension": ".py",
   "mimetype": "text/x-python",
   "name": "python",
   "nbconvert_exporter": "python",
   "pygments_lexer": "ipython2",
   "version": "2.7.12"
  },
  "toc": {
   "colors": {
    "hover_highlight": "#DAA520",
    "running_highlight": "#FF0000",
    "selected_highlight": "#FFD700"
   },
   "moveMenuLeft": true,
   "nav_menu": {
    "height": "161px",
    "width": "252px"
   },
   "navigate_menu": true,
   "number_sections": true,
   "sideBar": true,
   "threshold": 4,
   "toc_cell": false,
   "toc_section_display": "block",
   "toc_window_display": false,
   "widenNotebook": false
  }
 },
 "nbformat": 4,
 "nbformat_minor": 0
}
