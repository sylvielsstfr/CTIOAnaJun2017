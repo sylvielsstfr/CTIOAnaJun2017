{
 "cells": [
  {
   "cell_type": "markdown",
   "metadata": {
    "deletable": true,
    "editable": true
   },
   "source": [
    "# Does the overscan, subtraction and Triming of the CTIO images\n",
    "==================================================================================================\n",
    "- author : Sylvie Dagoret-Campagne\n",
    "- date   : January 18th 2017\n",
    "- update : May 30th 2017\n",
    "\n",
    "The library ***overscan_subtract_andTrim*** developped by Augustin Guyonnet is used\n",
    "to produce trim images.\n",
    "\n",
    "\n",
    "This has been updated for June 2017"
   ]
  },
  {
   "cell_type": "code",
   "execution_count": 1,
   "metadata": {
    "collapsed": true,
    "deletable": true,
    "editable": true
   },
   "outputs": [],
   "source": [
    "%matplotlib inline\n",
    "import matplotlib.pyplot as plt\n",
    "import numpy as np\n",
    "\n",
    "from astropy.modeling import models\n",
    "from astropy import units as u\n",
    "from astropy import nddata\n",
    "from astropy.io import fits\n",
    "import re\n",
    "import os"
   ]
  },
  {
   "cell_type": "code",
   "execution_count": 2,
   "metadata": {
    "collapsed": true,
    "deletable": true,
    "editable": true
   },
   "outputs": [],
   "source": [
    "# to enlarge the sizes\n",
    "params = {'legend.fontsize': 'x-large',\n",
    "          'figure.figsize': (8, 8),\n",
    "         'axes.labelsize': 'x-large',\n",
    "         'axes.titlesize':'x-large',\n",
    "         'xtick.labelsize':'x-large',\n",
    "         'ytick.labelsize':'x-large'}\n",
    "plt.rcParams.update(params)"
   ]
  },
  {
   "cell_type": "markdown",
   "metadata": {
    "deletable": true,
    "editable": true
   },
   "source": [
    "### Import Augustin Guyonnet overscan & trimming package"
   ]
  },
  {
   "cell_type": "code",
   "execution_count": 3,
   "metadata": {
    "collapsed": false,
    "deletable": true,
    "editable": true
   },
   "outputs": [],
   "source": [
    "import overscan_subtract_andTrim as ovsubtrim"
   ]
  },
  {
   "cell_type": "markdown",
   "metadata": {
    "deletable": true,
    "editable": true
   },
   "source": [
    "### Path for raw images"
   ]
  },
  {
   "cell_type": "code",
   "execution_count": 4,
   "metadata": {
    "collapsed": true,
    "deletable": true,
    "editable": true
   },
   "outputs": [],
   "source": [
    "#rootpath_rawimage='/Users/dagoret-campagnesylvie/MacOsX/LSST/MyWork/GitHub/CTIOData2017/2017_01_17/092_195'\n",
    "#rootpath_rawimage='/Users/dagoret-campagnesylvie/MacOsX/LSST/MyWork/GitHub/CTIODataJune2017/data_29may17'\n",
    "#rootpath_rawimage='/Volumes/LACIE SHARE/data_10jun17'\n",
    "rootpath_rawimage='/Users/dagoret-campagnesylvie/MacOsX/LSST/MyWork/GitHub/CTIODataJune2017/data_10jun17'"
   ]
  },
  {
   "cell_type": "code",
   "execution_count": 5,
   "metadata": {
    "collapsed": false,
    "deletable": true,
    "editable": true
   },
   "outputs": [],
   "source": [
    "filelist_all=os.listdir(rootpath_rawimage) "
   ]
  },
  {
   "cell_type": "code",
   "execution_count": 6,
   "metadata": {
    "collapsed": false,
    "deletable": true,
    "editable": true
   },
   "outputs": [
    {
     "data": {
      "text/plain": [
       "['20170610_001.fits',\n",
       " '20170610_002.fits',\n",
       " '20170610_003.fits',\n",
       " '20170610_004.fits',\n",
       " '20170610_005.fits']"
      ]
     },
     "execution_count": 6,
     "metadata": {},
     "output_type": "execute_result"
    }
   ],
   "source": [
    "filelist_all[:5]"
   ]
  },
  {
   "cell_type": "markdown",
   "metadata": {
    "deletable": true,
    "editable": true
   },
   "source": [
    "### select raw images only\n",
    "\n",
    "- filename start with **fileno**\n",
    "- filename stop with **fits** "
   ]
  },
  {
   "cell_type": "code",
   "execution_count": 7,
   "metadata": {
    "collapsed": false,
    "deletable": true,
    "editable": true
   },
   "outputs": [
    {
     "name": "stdout",
     "output_type": "stream",
     "text": [
      "Number of files : 289\n"
     ]
    }
   ],
   "source": [
    "filelist_fitsimages= []\n",
    "for filename in filelist_all:\n",
    "    if re.search('^2017.*.fits$',filename):  #example of filename filter\n",
    "        filelist_fitsimages.append(filename)\n",
    "print 'Number of files :',len(filelist_fitsimages)"
   ]
  },
  {
   "cell_type": "code",
   "execution_count": 8,
   "metadata": {
    "collapsed": false,
    "deletable": true,
    "editable": true
   },
   "outputs": [
    {
     "data": {
      "text/plain": [
       "['20170610_001.fits',\n",
       " '20170610_002.fits',\n",
       " '20170610_003.fits',\n",
       " '20170610_004.fits',\n",
       " '20170610_005.fits']"
      ]
     },
     "execution_count": 8,
     "metadata": {},
     "output_type": "execute_result"
    }
   ],
   "source": [
    "filelist_fitsimages[:5]"
   ]
  },
  {
   "cell_type": "markdown",
   "metadata": {
    "deletable": true,
    "editable": true
   },
   "source": [
    "### outputdir"
   ]
  },
  {
   "cell_type": "code",
   "execution_count": 9,
   "metadata": {
    "collapsed": true,
    "deletable": true,
    "editable": true
   },
   "outputs": [],
   "source": [
    "############################################################################\n",
    "def ensure_dir(f):\n",
    "    d = os.path.dirname(f)\n",
    "    if not os.path.exists(f):\n",
    "        os.makedirs(f)\n",
    "#########################################################################"
   ]
  },
  {
   "cell_type": "code",
   "execution_count": 10,
   "metadata": {
    "collapsed": true,
    "deletable": true,
    "editable": true
   },
   "outputs": [],
   "source": [
    "outputdir=\"./trim_images\""
   ]
  },
  {
   "cell_type": "code",
   "execution_count": 11,
   "metadata": {
    "collapsed": false,
    "deletable": true,
    "editable": true
   },
   "outputs": [],
   "source": [
    "ensure_dir(outputdir)"
   ]
  },
  {
   "cell_type": "markdown",
   "metadata": {
    "deletable": true,
    "editable": true
   },
   "source": [
    "### Do the overscan and the subtraction and the trimming"
   ]
  },
  {
   "cell_type": "code",
   "execution_count": 12,
   "metadata": {
    "collapsed": false,
    "deletable": true,
    "editable": true
   },
   "outputs": [
    {
     "name": "stdout",
     "output_type": "stream",
     "text": [
      "20170610_001.fits\n"
     ]
    },
    {
     "name": "stderr",
     "output_type": "stream",
     "text": [
      "WARNING: AstropyDeprecationWarning: \"clobber\" was deprecated in version 1.3 and will be removed in a future version. Use argument \"overwrite\" instead. [astropy.utils.decorators]\n",
      "WARNING:astropy:AstropyDeprecationWarning: \"clobber\" was deprecated in version 1.3 and will be removed in a future version. Use argument \"overwrite\" instead.\n"
     ]
    },
    {
     "name": "stdout",
     "output_type": "stream",
     "text": [
      "20170610_002.fits\n",
      "20170610_003.fits\n",
      "20170610_004.fits\n",
      "20170610_005.fits\n",
      "20170610_006.fits\n",
      "20170610_007.fits\n",
      "20170610_008.fits\n",
      "20170610_009.fits\n",
      "20170610_010.fits\n",
      "20170610_011.fits\n",
      "20170610_012.fits\n",
      "20170610_013.fits\n",
      "20170610_014.fits\n",
      "20170610_018.fits\n",
      "20170610_019.fits\n",
      "20170610_020.fits\n",
      "20170610_021.fits\n",
      "20170610_022.fits\n",
      "20170610_023.fits\n",
      "20170610_024.fits\n",
      "20170610_025.fits\n",
      "20170610_026.fits\n",
      "20170610_027.fits\n",
      "20170610_028.fits\n",
      "20170610_029.fits\n",
      "20170610_030.fits\n",
      "20170610_031.fits\n",
      "20170610_032.fits\n",
      "20170610_033.fits\n",
      "20170610_034.fits\n",
      "20170610_035.fits\n",
      "20170610_036.fits\n",
      "20170610_037.fits\n",
      "20170610_038.fits\n",
      "20170610_039.fits\n",
      "20170610_040.fits\n",
      "20170610_041.fits\n",
      "20170610_042.fits\n",
      "20170610_043.fits\n",
      "20170610_044.fits\n",
      "20170610_045.fits\n",
      "20170610_048.fits\n",
      "20170610_049.fits\n",
      "20170610_050.fits\n",
      "20170610_051.fits\n",
      "20170610_052.fits\n",
      "20170610_053.fits\n",
      "20170610_054.fits\n",
      "20170610_055.fits\n",
      "20170610_056.fits\n",
      "20170610_057.fits\n",
      "20170610_058.fits\n",
      "20170610_059.fits\n",
      "20170610_060.fits\n",
      "20170610_061.fits\n",
      "20170610_062.fits\n",
      "20170610_063.fits\n",
      "20170610_064.fits\n",
      "20170610_065.fits\n",
      "20170610_066.fits\n",
      "20170610_067.fits\n",
      "20170610_068.fits\n",
      "20170610_069.fits\n",
      "20170610_070.fits\n",
      "20170610_071.fits\n",
      "20170610_072.fits\n",
      "20170610_075.fits\n",
      "20170610_076.fits\n",
      "20170610_077.fits\n",
      "20170610_078.fits\n",
      "20170610_079.fits\n",
      "20170610_080.fits\n",
      "20170610_081.fits\n",
      "20170610_082.fits\n",
      "20170610_083.fits\n",
      "20170610_084.fits\n",
      "20170610_085.fits\n",
      "20170610_086.fits\n",
      "20170610_087.fits\n",
      "20170610_088.fits\n",
      "20170610_089.fits\n",
      "20170610_090.fits\n",
      "20170610_091.fits\n",
      "20170610_092.fits\n",
      "20170610_093.fits\n",
      "20170610_094.fits\n",
      "20170610_095.fits\n",
      "20170610_096.fits\n",
      "20170610_097.fits\n",
      "20170610_098.fits\n",
      "20170610_099.fits\n",
      "20170610_100.fits\n",
      "20170610_101.fits\n",
      "20170610_102.fits\n",
      "20170610_103.fits\n",
      "20170610_104.fits\n",
      "20170610_105.fits\n",
      "20170610_106.fits\n",
      "20170610_107.fits\n",
      "20170610_108.fits\n",
      "20170610_109.fits\n",
      "20170610_110.fits\n",
      "20170610_111.fits\n",
      "20170610_112.fits\n",
      "20170610_113.fits\n",
      "20170610_114.fits\n",
      "20170610_115.fits\n",
      "20170610_116.fits\n",
      "20170610_117.fits\n",
      "20170610_118.fits\n",
      "20170610_121.fits\n",
      "20170610_122.fits\n",
      "20170610_123.fits\n",
      "20170610_124.fits\n",
      "20170610_125.fits\n",
      "20170610_126.fits\n",
      "20170610_127.fits\n",
      "20170610_128.fits\n",
      "20170610_129.fits\n",
      "20170610_135.fits\n",
      "20170610_136.fits\n",
      "20170610_137.fits\n",
      "20170610_138.fits\n",
      "20170610_139.fits\n",
      "20170610_140.fits\n",
      "20170610_141.fits\n",
      "20170610_142.fits\n",
      "20170610_143.fits\n",
      "20170610_144.fits\n",
      "20170610_145.fits\n",
      "20170610_146.fits\n",
      "20170610_147.fits\n",
      "20170610_148.fits\n",
      "20170610_149.fits\n",
      "20170610_150.fits\n",
      "20170610_151.fits\n",
      "20170610_152.fits\n",
      "20170610_153.fits\n",
      "20170610_154.fits\n",
      "20170610_155.fits\n",
      "20170610_156.fits\n",
      "20170610_157.fits\n",
      "20170610_158.fits\n",
      "20170610_159.fits\n",
      "20170610_160.fits\n",
      "20170610_161.fits\n",
      "20170610_162.fits\n",
      "20170610_163.fits\n",
      "20170610_164.fits\n",
      "20170610_165.fits\n",
      "20170610_166.fits\n",
      "20170610_167.fits\n",
      "20170610_168.fits\n",
      "20170610_169.fits\n",
      "20170610_170.fits\n",
      "20170610_171.fits\n",
      "20170610_172.fits\n",
      "20170610_173.fits\n",
      "20170610_174.fits\n",
      "20170610_175.fits\n",
      "20170610_176.fits\n",
      "20170610_177.fits\n",
      "20170610_178.fits\n",
      "20170610_179.fits\n",
      "20170610_180.fits\n",
      "20170610_181.fits\n",
      "20170610_182.fits\n",
      "20170610_183.fits\n",
      "20170610_184.fits\n",
      "20170610_185.fits\n",
      "20170610_186.fits\n",
      "20170610_187.fits\n",
      "20170610_188.fits\n",
      "20170610_189.fits\n",
      "20170610_190.fits\n",
      "20170610_191.fits\n",
      "20170610_192.fits\n",
      "20170610_193.fits\n",
      "20170610_194.fits\n",
      "20170610_195.fits\n",
      "20170610_196.fits\n",
      "20170610_197.fits\n",
      "20170610_198.fits\n",
      "20170610_199.fits\n",
      "20170610_200.fits\n",
      "20170610_201.fits\n",
      "20170610_202.fits\n",
      "20170610_203.fits\n",
      "20170610_204.fits\n",
      "20170610_205.fits\n",
      "20170610_206.fits\n",
      "20170610_207.fits\n",
      "20170610_208.fits\n",
      "20170610_209.fits\n",
      "20170610_210.fits\n",
      "20170610_211.fits\n",
      "20170610_212.fits\n",
      "20170610_213.fits\n",
      "20170610_214.fits\n",
      "20170610_215.fits\n",
      "20170610_216.fits\n",
      "20170610_217.fits\n",
      "20170610_218.fits\n",
      "20170610_219.fits\n",
      "20170610_220.fits\n",
      "20170610_221.fits\n",
      "20170610_222.fits\n",
      "20170610_223.fits\n",
      "20170610_224.fits\n",
      "20170610_225.fits\n",
      "20170610_226.fits\n",
      "20170610_227.fits\n",
      "20170610_228.fits\n",
      "20170610_229.fits\n",
      "20170610_230.fits\n",
      "20170610_231.fits\n",
      "20170610_232.fits\n",
      "20170610_233.fits\n",
      "20170610_234.fits\n",
      "20170610_235.fits\n",
      "20170610_236.fits\n",
      "20170610_237.fits\n",
      "20170610_238.fits\n",
      "20170610_239.fits\n",
      "20170610_240.fits\n",
      "20170610_241.fits\n",
      "20170610_242.fits\n",
      "20170610_243.fits\n",
      "20170610_244.fits\n",
      "20170610_245.fits\n",
      "20170610_246.fits\n",
      "20170610_247.fits\n",
      "20170610_248.fits\n",
      "20170610_249.fits\n",
      "20170610_250.fits\n",
      "20170610_251.fits\n",
      "20170610_252.fits\n",
      "20170610_253.fits\n",
      "20170610_254.fits\n",
      "20170610_255.fits\n",
      "20170610_256.fits\n",
      "20170610_257.fits\n",
      "20170610_258.fits\n",
      "20170610_259.fits\n",
      "20170610_260.fits\n",
      "20170610_261.fits\n",
      "20170610_262.fits\n",
      "20170610_263.fits\n",
      "20170610_264.fits\n",
      "20170610_265.fits\n",
      "20170610_266.fits\n",
      "20170610_267.fits\n",
      "20170610_268.fits\n",
      "20170610_269.fits\n",
      "20170610_270.fits\n",
      "20170610_271.fits\n",
      "20170610_272.fits\n",
      "20170610_273.fits\n",
      "20170610_274.fits\n",
      "20170610_275.fits\n",
      "20170610_276.fits\n",
      "20170610_277.fits\n",
      "20170610_278.fits\n",
      "20170610_279.fits\n",
      "20170610_280.fits\n",
      "20170610_281.fits\n",
      "20170610_282.fits\n",
      "20170610_283.fits\n",
      "20170610_284.fits\n",
      "20170610_285.fits\n",
      "20170610_286.fits\n",
      "20170610_287.fits\n",
      "20170610_288.fits\n",
      "20170610_289.fits\n",
      "20170610_290.fits\n",
      "20170610_291.fits\n",
      "20170610_292.fits\n",
      "20170610_293.fits\n",
      "20170610_294.fits\n",
      "20170610_295.fits\n",
      "20170610_296.fits\n",
      "20170610_297.fits\n",
      "20170610_298.fits\n",
      "20170610_299.fits\n",
      "20170610_300.fits\n",
      "20170610_301.fits\n",
      "20170610_302.fits\n",
      "20170610_303.fits\n"
     ]
    }
   ],
   "source": [
    "for file in filelist_fitsimages:\n",
    "    print file\n",
    "    fullfilename=os.path.join(rootpath_rawimage,file)\n",
    "    ovsubtrim.Do_overscan_subtract_andTrim(fullfilename)"
   ]
  },
  {
   "cell_type": "markdown",
   "metadata": {
    "collapsed": false,
    "deletable": true,
    "editable": true
   },
   "source": [
    "## Now in shell do mv trim_*.fits ${outputdir}/."
   ]
  },
  {
   "cell_type": "code",
   "execution_count": 13,
   "metadata": {
    "collapsed": false,
    "deletable": true,
    "editable": true
   },
   "outputs": [
    {
     "name": "stdout",
     "output_type": "stream",
     "text": [
      "OverscanAllImages.ipynb       trim_20170610_156.fits\r\n",
      "compute.py                    trim_20170610_157.fits\r\n",
      "header.py                     trim_20170610_158.fits\r\n",
      "overscan_subtract_andTrim.py  trim_20170610_159.fits\r\n",
      "overscan_subtract_andTrim.pyc trim_20170610_160.fits\r\n",
      "skylev.py                     trim_20170610_161.fits\r\n",
      "telinst.py                    trim_20170610_162.fits\r\n",
      "telinst.pyc                   trim_20170610_163.fits\r\n",
      "trim_20170610_001.fits        trim_20170610_164.fits\r\n",
      "trim_20170610_002.fits        trim_20170610_165.fits\r\n",
      "trim_20170610_003.fits        trim_20170610_166.fits\r\n",
      "trim_20170610_004.fits        trim_20170610_167.fits\r\n",
      "trim_20170610_005.fits        trim_20170610_168.fits\r\n",
      "trim_20170610_006.fits        trim_20170610_169.fits\r\n",
      "trim_20170610_007.fits        trim_20170610_170.fits\r\n",
      "trim_20170610_008.fits        trim_20170610_171.fits\r\n",
      "trim_20170610_009.fits        trim_20170610_172.fits\r\n",
      "trim_20170610_010.fits        trim_20170610_173.fits\r\n",
      "trim_20170610_011.fits        trim_20170610_174.fits\r\n",
      "trim_20170610_012.fits        trim_20170610_175.fits\r\n",
      "trim_20170610_013.fits        trim_20170610_176.fits\r\n",
      "trim_20170610_014.fits        trim_20170610_177.fits\r\n",
      "trim_20170610_018.fits        trim_20170610_178.fits\r\n",
      "trim_20170610_019.fits        trim_20170610_179.fits\r\n",
      "trim_20170610_020.fits        trim_20170610_180.fits\r\n",
      "trim_20170610_021.fits        trim_20170610_181.fits\r\n",
      "trim_20170610_022.fits        trim_20170610_182.fits\r\n",
      "trim_20170610_023.fits        trim_20170610_183.fits\r\n",
      "trim_20170610_024.fits        trim_20170610_184.fits\r\n",
      "trim_20170610_025.fits        trim_20170610_185.fits\r\n",
      "trim_20170610_026.fits        trim_20170610_186.fits\r\n",
      "trim_20170610_027.fits        trim_20170610_187.fits\r\n",
      "trim_20170610_028.fits        trim_20170610_188.fits\r\n",
      "trim_20170610_029.fits        trim_20170610_189.fits\r\n",
      "trim_20170610_030.fits        trim_20170610_190.fits\r\n",
      "trim_20170610_031.fits        trim_20170610_191.fits\r\n",
      "trim_20170610_032.fits        trim_20170610_192.fits\r\n",
      "trim_20170610_033.fits        trim_20170610_193.fits\r\n",
      "trim_20170610_034.fits        trim_20170610_194.fits\r\n",
      "trim_20170610_035.fits        trim_20170610_195.fits\r\n",
      "trim_20170610_036.fits        trim_20170610_196.fits\r\n",
      "trim_20170610_037.fits        trim_20170610_197.fits\r\n",
      "trim_20170610_038.fits        trim_20170610_198.fits\r\n",
      "trim_20170610_039.fits        trim_20170610_199.fits\r\n",
      "trim_20170610_040.fits        trim_20170610_200.fits\r\n",
      "trim_20170610_041.fits        trim_20170610_201.fits\r\n",
      "trim_20170610_042.fits        trim_20170610_202.fits\r\n",
      "trim_20170610_043.fits        trim_20170610_203.fits\r\n",
      "trim_20170610_044.fits        trim_20170610_204.fits\r\n",
      "trim_20170610_045.fits        trim_20170610_205.fits\r\n",
      "trim_20170610_048.fits        trim_20170610_206.fits\r\n",
      "trim_20170610_049.fits        trim_20170610_207.fits\r\n",
      "trim_20170610_050.fits        trim_20170610_208.fits\r\n",
      "trim_20170610_051.fits        trim_20170610_209.fits\r\n",
      "trim_20170610_052.fits        trim_20170610_210.fits\r\n",
      "trim_20170610_053.fits        trim_20170610_211.fits\r\n",
      "trim_20170610_054.fits        trim_20170610_212.fits\r\n",
      "trim_20170610_055.fits        trim_20170610_213.fits\r\n",
      "trim_20170610_056.fits        trim_20170610_214.fits\r\n",
      "trim_20170610_057.fits        trim_20170610_215.fits\r\n",
      "trim_20170610_058.fits        trim_20170610_216.fits\r\n",
      "trim_20170610_059.fits        trim_20170610_217.fits\r\n",
      "trim_20170610_060.fits        trim_20170610_218.fits\r\n",
      "trim_20170610_061.fits        trim_20170610_219.fits\r\n",
      "trim_20170610_062.fits        trim_20170610_220.fits\r\n",
      "trim_20170610_063.fits        trim_20170610_221.fits\r\n",
      "trim_20170610_064.fits        trim_20170610_222.fits\r\n",
      "trim_20170610_065.fits        trim_20170610_223.fits\r\n",
      "trim_20170610_066.fits        trim_20170610_224.fits\r\n",
      "trim_20170610_067.fits        trim_20170610_225.fits\r\n",
      "trim_20170610_068.fits        trim_20170610_226.fits\r\n",
      "trim_20170610_069.fits        trim_20170610_227.fits\r\n",
      "trim_20170610_070.fits        trim_20170610_228.fits\r\n",
      "trim_20170610_071.fits        trim_20170610_229.fits\r\n",
      "trim_20170610_072.fits        trim_20170610_230.fits\r\n",
      "trim_20170610_075.fits        trim_20170610_231.fits\r\n",
      "trim_20170610_076.fits        trim_20170610_232.fits\r\n",
      "trim_20170610_077.fits        trim_20170610_233.fits\r\n",
      "trim_20170610_078.fits        trim_20170610_234.fits\r\n",
      "trim_20170610_079.fits        trim_20170610_235.fits\r\n",
      "trim_20170610_080.fits        trim_20170610_236.fits\r\n",
      "trim_20170610_081.fits        trim_20170610_237.fits\r\n",
      "trim_20170610_082.fits        trim_20170610_238.fits\r\n",
      "trim_20170610_083.fits        trim_20170610_239.fits\r\n",
      "trim_20170610_084.fits        trim_20170610_240.fits\r\n",
      "trim_20170610_085.fits        trim_20170610_241.fits\r\n",
      "trim_20170610_086.fits        trim_20170610_242.fits\r\n",
      "trim_20170610_087.fits        trim_20170610_243.fits\r\n",
      "trim_20170610_088.fits        trim_20170610_244.fits\r\n",
      "trim_20170610_089.fits        trim_20170610_245.fits\r\n",
      "trim_20170610_090.fits        trim_20170610_246.fits\r\n",
      "trim_20170610_091.fits        trim_20170610_247.fits\r\n",
      "trim_20170610_092.fits        trim_20170610_248.fits\r\n",
      "trim_20170610_093.fits        trim_20170610_249.fits\r\n",
      "trim_20170610_094.fits        trim_20170610_250.fits\r\n",
      "trim_20170610_095.fits        trim_20170610_251.fits\r\n",
      "trim_20170610_096.fits        trim_20170610_252.fits\r\n",
      "trim_20170610_097.fits        trim_20170610_253.fits\r\n",
      "trim_20170610_098.fits        trim_20170610_254.fits\r\n",
      "trim_20170610_099.fits        trim_20170610_255.fits\r\n",
      "trim_20170610_100.fits        trim_20170610_256.fits\r\n",
      "trim_20170610_101.fits        trim_20170610_257.fits\r\n",
      "trim_20170610_102.fits        trim_20170610_258.fits\r\n",
      "trim_20170610_103.fits        trim_20170610_259.fits\r\n",
      "trim_20170610_104.fits        trim_20170610_260.fits\r\n",
      "trim_20170610_105.fits        trim_20170610_261.fits\r\n",
      "trim_20170610_106.fits        trim_20170610_262.fits\r\n",
      "trim_20170610_107.fits        trim_20170610_263.fits\r\n",
      "trim_20170610_108.fits        trim_20170610_264.fits\r\n",
      "trim_20170610_109.fits        trim_20170610_265.fits\r\n",
      "trim_20170610_110.fits        trim_20170610_266.fits\r\n",
      "trim_20170610_111.fits        trim_20170610_267.fits\r\n",
      "trim_20170610_112.fits        trim_20170610_268.fits\r\n",
      "trim_20170610_113.fits        trim_20170610_269.fits\r\n",
      "trim_20170610_114.fits        trim_20170610_270.fits\r\n",
      "trim_20170610_115.fits        trim_20170610_271.fits\r\n",
      "trim_20170610_116.fits        trim_20170610_272.fits\r\n",
      "trim_20170610_117.fits        trim_20170610_273.fits\r\n",
      "trim_20170610_118.fits        trim_20170610_274.fits\r\n",
      "trim_20170610_121.fits        trim_20170610_275.fits\r\n",
      "trim_20170610_122.fits        trim_20170610_276.fits\r\n",
      "trim_20170610_123.fits        trim_20170610_277.fits\r\n",
      "trim_20170610_124.fits        trim_20170610_278.fits\r\n",
      "trim_20170610_125.fits        trim_20170610_279.fits\r\n",
      "trim_20170610_126.fits        trim_20170610_280.fits\r\n",
      "trim_20170610_127.fits        trim_20170610_281.fits\r\n",
      "trim_20170610_128.fits        trim_20170610_282.fits\r\n",
      "trim_20170610_129.fits        trim_20170610_283.fits\r\n",
      "trim_20170610_135.fits        trim_20170610_284.fits\r\n",
      "trim_20170610_136.fits        trim_20170610_285.fits\r\n",
      "trim_20170610_137.fits        trim_20170610_286.fits\r\n",
      "trim_20170610_138.fits        trim_20170610_287.fits\r\n",
      "trim_20170610_139.fits        trim_20170610_288.fits\r\n",
      "trim_20170610_140.fits        trim_20170610_289.fits\r\n",
      "trim_20170610_141.fits        trim_20170610_290.fits\r\n",
      "trim_20170610_142.fits        trim_20170610_291.fits\r\n",
      "trim_20170610_143.fits        trim_20170610_292.fits\r\n",
      "trim_20170610_144.fits        trim_20170610_293.fits\r\n",
      "trim_20170610_145.fits        trim_20170610_294.fits\r\n",
      "trim_20170610_146.fits        trim_20170610_295.fits\r\n",
      "trim_20170610_147.fits        trim_20170610_296.fits\r\n",
      "trim_20170610_148.fits        trim_20170610_297.fits\r\n",
      "trim_20170610_149.fits        trim_20170610_298.fits\r\n",
      "trim_20170610_150.fits        trim_20170610_299.fits\r\n",
      "trim_20170610_151.fits        trim_20170610_300.fits\r\n",
      "trim_20170610_152.fits        trim_20170610_301.fits\r\n",
      "trim_20170610_153.fits        trim_20170610_302.fits\r\n",
      "trim_20170610_154.fits        trim_20170610_303.fits\r\n",
      "trim_20170610_155.fits        \u001b[34mtrim_images\u001b[m\u001b[m\r\n"
     ]
    }
   ],
   "source": [
    "!ls\n"
   ]
  },
  {
   "cell_type": "code",
   "execution_count": 14,
   "metadata": {
    "collapsed": false,
    "deletable": true,
    "editable": true
   },
   "outputs": [],
   "source": [
    "! mv *.fits trim_images/."
   ]
  },
  {
   "cell_type": "code",
   "execution_count": 15,
   "metadata": {
    "collapsed": false,
    "deletable": true,
    "editable": true
   },
   "outputs": [
    {
     "name": "stdout",
     "output_type": "stream",
     "text": [
      "OverscanAllImages.ipynb       skylev.py\r\n",
      "compute.py                    telinst.py\r\n",
      "header.py                     telinst.pyc\r\n",
      "overscan_subtract_andTrim.py  \u001b[34mtrim_images\u001b[m\u001b[m\r\n",
      "overscan_subtract_andTrim.pyc\r\n"
     ]
    }
   ],
   "source": [
    "!ls"
   ]
  },
  {
   "cell_type": "code",
   "execution_count": 16,
   "metadata": {
    "collapsed": false,
    "deletable": true,
    "editable": true
   },
   "outputs": [
    {
     "name": "stdout",
     "output_type": "stream",
     "text": [
      "trim_20170610_001.fits trim_20170610_105.fits trim_20170610_209.fits\r\n",
      "trim_20170610_002.fits trim_20170610_106.fits trim_20170610_210.fits\r\n",
      "trim_20170610_003.fits trim_20170610_107.fits trim_20170610_211.fits\r\n",
      "trim_20170610_004.fits trim_20170610_108.fits trim_20170610_212.fits\r\n",
      "trim_20170610_005.fits trim_20170610_109.fits trim_20170610_213.fits\r\n",
      "trim_20170610_006.fits trim_20170610_110.fits trim_20170610_214.fits\r\n",
      "trim_20170610_007.fits trim_20170610_111.fits trim_20170610_215.fits\r\n",
      "trim_20170610_008.fits trim_20170610_112.fits trim_20170610_216.fits\r\n",
      "trim_20170610_009.fits trim_20170610_113.fits trim_20170610_217.fits\r\n",
      "trim_20170610_010.fits trim_20170610_114.fits trim_20170610_218.fits\r\n",
      "trim_20170610_011.fits trim_20170610_115.fits trim_20170610_219.fits\r\n",
      "trim_20170610_012.fits trim_20170610_116.fits trim_20170610_220.fits\r\n",
      "trim_20170610_013.fits trim_20170610_117.fits trim_20170610_221.fits\r\n",
      "trim_20170610_014.fits trim_20170610_118.fits trim_20170610_222.fits\r\n",
      "trim_20170610_018.fits trim_20170610_121.fits trim_20170610_223.fits\r\n",
      "trim_20170610_019.fits trim_20170610_122.fits trim_20170610_224.fits\r\n",
      "trim_20170610_020.fits trim_20170610_123.fits trim_20170610_225.fits\r\n",
      "trim_20170610_021.fits trim_20170610_124.fits trim_20170610_226.fits\r\n",
      "trim_20170610_022.fits trim_20170610_125.fits trim_20170610_227.fits\r\n",
      "trim_20170610_023.fits trim_20170610_126.fits trim_20170610_228.fits\r\n",
      "trim_20170610_024.fits trim_20170610_127.fits trim_20170610_229.fits\r\n",
      "trim_20170610_025.fits trim_20170610_128.fits trim_20170610_230.fits\r\n",
      "trim_20170610_026.fits trim_20170610_129.fits trim_20170610_231.fits\r\n",
      "trim_20170610_027.fits trim_20170610_135.fits trim_20170610_232.fits\r\n",
      "trim_20170610_028.fits trim_20170610_136.fits trim_20170610_233.fits\r\n",
      "trim_20170610_029.fits trim_20170610_137.fits trim_20170610_234.fits\r\n",
      "trim_20170610_030.fits trim_20170610_138.fits trim_20170610_235.fits\r\n",
      "trim_20170610_031.fits trim_20170610_139.fits trim_20170610_236.fits\r\n",
      "trim_20170610_032.fits trim_20170610_140.fits trim_20170610_237.fits\r\n",
      "trim_20170610_033.fits trim_20170610_141.fits trim_20170610_238.fits\r\n",
      "trim_20170610_034.fits trim_20170610_142.fits trim_20170610_239.fits\r\n",
      "trim_20170610_035.fits trim_20170610_143.fits trim_20170610_240.fits\r\n",
      "trim_20170610_036.fits trim_20170610_144.fits trim_20170610_241.fits\r\n",
      "trim_20170610_037.fits trim_20170610_145.fits trim_20170610_242.fits\r\n",
      "trim_20170610_038.fits trim_20170610_146.fits trim_20170610_243.fits\r\n",
      "trim_20170610_039.fits trim_20170610_147.fits trim_20170610_244.fits\r\n",
      "trim_20170610_040.fits trim_20170610_148.fits trim_20170610_245.fits\r\n",
      "trim_20170610_041.fits trim_20170610_149.fits trim_20170610_246.fits\r\n",
      "trim_20170610_042.fits trim_20170610_150.fits trim_20170610_247.fits\r\n",
      "trim_20170610_043.fits trim_20170610_151.fits trim_20170610_248.fits\r\n",
      "trim_20170610_044.fits trim_20170610_152.fits trim_20170610_249.fits\r\n",
      "trim_20170610_045.fits trim_20170610_153.fits trim_20170610_250.fits\r\n",
      "trim_20170610_048.fits trim_20170610_154.fits trim_20170610_251.fits\r\n",
      "trim_20170610_049.fits trim_20170610_155.fits trim_20170610_252.fits\r\n",
      "trim_20170610_050.fits trim_20170610_156.fits trim_20170610_253.fits\r\n",
      "trim_20170610_051.fits trim_20170610_157.fits trim_20170610_254.fits\r\n",
      "trim_20170610_052.fits trim_20170610_158.fits trim_20170610_255.fits\r\n",
      "trim_20170610_053.fits trim_20170610_159.fits trim_20170610_256.fits\r\n",
      "trim_20170610_054.fits trim_20170610_160.fits trim_20170610_257.fits\r\n",
      "trim_20170610_055.fits trim_20170610_161.fits trim_20170610_258.fits\r\n",
      "trim_20170610_056.fits trim_20170610_162.fits trim_20170610_259.fits\r\n",
      "trim_20170610_057.fits trim_20170610_163.fits trim_20170610_260.fits\r\n",
      "trim_20170610_058.fits trim_20170610_164.fits trim_20170610_261.fits\r\n",
      "trim_20170610_059.fits trim_20170610_165.fits trim_20170610_262.fits\r\n",
      "trim_20170610_060.fits trim_20170610_166.fits trim_20170610_263.fits\r\n",
      "trim_20170610_061.fits trim_20170610_167.fits trim_20170610_264.fits\r\n",
      "trim_20170610_062.fits trim_20170610_168.fits trim_20170610_265.fits\r\n",
      "trim_20170610_063.fits trim_20170610_169.fits trim_20170610_266.fits\r\n",
      "trim_20170610_064.fits trim_20170610_170.fits trim_20170610_267.fits\r\n",
      "trim_20170610_065.fits trim_20170610_171.fits trim_20170610_268.fits\r\n",
      "trim_20170610_066.fits trim_20170610_172.fits trim_20170610_269.fits\r\n",
      "trim_20170610_067.fits trim_20170610_173.fits trim_20170610_270.fits\r\n",
      "trim_20170610_068.fits trim_20170610_174.fits trim_20170610_271.fits\r\n",
      "trim_20170610_069.fits trim_20170610_175.fits trim_20170610_272.fits\r\n",
      "trim_20170610_070.fits trim_20170610_176.fits trim_20170610_273.fits\r\n",
      "trim_20170610_071.fits trim_20170610_177.fits trim_20170610_274.fits\r\n",
      "trim_20170610_072.fits trim_20170610_178.fits trim_20170610_275.fits\r\n",
      "trim_20170610_075.fits trim_20170610_179.fits trim_20170610_276.fits\r\n",
      "trim_20170610_076.fits trim_20170610_180.fits trim_20170610_277.fits\r\n",
      "trim_20170610_077.fits trim_20170610_181.fits trim_20170610_278.fits\r\n",
      "trim_20170610_078.fits trim_20170610_182.fits trim_20170610_279.fits\r\n",
      "trim_20170610_079.fits trim_20170610_183.fits trim_20170610_280.fits\r\n",
      "trim_20170610_080.fits trim_20170610_184.fits trim_20170610_281.fits\r\n",
      "trim_20170610_081.fits trim_20170610_185.fits trim_20170610_282.fits\r\n",
      "trim_20170610_082.fits trim_20170610_186.fits trim_20170610_283.fits\r\n",
      "trim_20170610_083.fits trim_20170610_187.fits trim_20170610_284.fits\r\n",
      "trim_20170610_084.fits trim_20170610_188.fits trim_20170610_285.fits\r\n",
      "trim_20170610_085.fits trim_20170610_189.fits trim_20170610_286.fits\r\n",
      "trim_20170610_086.fits trim_20170610_190.fits trim_20170610_287.fits\r\n",
      "trim_20170610_087.fits trim_20170610_191.fits trim_20170610_288.fits\r\n",
      "trim_20170610_088.fits trim_20170610_192.fits trim_20170610_289.fits\r\n",
      "trim_20170610_089.fits trim_20170610_193.fits trim_20170610_290.fits\r\n",
      "trim_20170610_090.fits trim_20170610_194.fits trim_20170610_291.fits\r\n",
      "trim_20170610_091.fits trim_20170610_195.fits trim_20170610_292.fits\r\n",
      "trim_20170610_092.fits trim_20170610_196.fits trim_20170610_293.fits\r\n",
      "trim_20170610_093.fits trim_20170610_197.fits trim_20170610_294.fits\r\n",
      "trim_20170610_094.fits trim_20170610_198.fits trim_20170610_295.fits\r\n",
      "trim_20170610_095.fits trim_20170610_199.fits trim_20170610_296.fits\r\n",
      "trim_20170610_096.fits trim_20170610_200.fits trim_20170610_297.fits\r\n",
      "trim_20170610_097.fits trim_20170610_201.fits trim_20170610_298.fits\r\n",
      "trim_20170610_098.fits trim_20170610_202.fits trim_20170610_299.fits\r\n",
      "trim_20170610_099.fits trim_20170610_203.fits trim_20170610_300.fits\r\n",
      "trim_20170610_100.fits trim_20170610_204.fits trim_20170610_301.fits\r\n",
      "trim_20170610_101.fits trim_20170610_205.fits trim_20170610_302.fits\r\n",
      "trim_20170610_102.fits trim_20170610_206.fits trim_20170610_303.fits\r\n",
      "trim_20170610_103.fits trim_20170610_207.fits\r\n",
      "trim_20170610_104.fits trim_20170610_208.fits\r\n"
     ]
    }
   ],
   "source": [
    "!ls trim_images"
   ]
  },
  {
   "cell_type": "code",
   "execution_count": null,
   "metadata": {
    "collapsed": true,
    "deletable": true,
    "editable": true
   },
   "outputs": [],
   "source": []
  }
 ],
 "metadata": {
  "anaconda-cloud": {},
  "kernelspec": {
   "display_name": "Python [default]",
   "language": "python",
   "name": "python2"
  },
  "language_info": {
   "codemirror_mode": {
    "name": "ipython",
    "version": 2
   },
   "file_extension": ".py",
   "mimetype": "text/x-python",
   "name": "python",
   "nbconvert_exporter": "python",
   "pygments_lexer": "ipython2",
   "version": "2.7.12"
  },
  "toc": {
   "colors": {
    "hover_highlight": "#DAA520",
    "running_highlight": "#FF0000",
    "selected_highlight": "#FFD700"
   },
   "moveMenuLeft": true,
   "nav_menu": {
    "height": "153px",
    "width": "252px"
   },
   "navigate_menu": true,
   "number_sections": true,
   "sideBar": true,
   "threshold": 4,
   "toc_cell": false,
   "toc_section_display": "block",
   "toc_window_display": false,
   "widenNotebook": false
  }
 },
 "nbformat": 4,
 "nbformat_minor": 0
}
