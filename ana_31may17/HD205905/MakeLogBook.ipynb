{
 "cells": [
  {
   "cell_type": "markdown",
   "metadata": {
    "deletable": true,
    "editable": true
   },
   "source": [
    "# Make Logbook of Trim images of CTIO Data\n",
    "==================================================================================================\n",
    "\n",
    "- author : Sylvie Dagoret-Campagne\n",
    "- affiliation : LAL/IN2P3/CNRS, France\n",
    "- date   : Juin 16 2016\n"
   ]
  },
  {
   "cell_type": "code",
   "execution_count": 3,
   "metadata": {
    "collapsed": false,
    "deletable": true,
    "editable": true
   },
   "outputs": [
    {
     "data": {
      "application/javascript": [
       "var kernel = IPython.notebook.kernel;\n",
       "var thename = window.document.getElementById(\"notebook_name\").innerHTML;\n",
       "var command = \"theNotebook = \" + \"'\"+thename+\"'\";\n",
       "kernel.execute(command);"
      ],
      "text/plain": [
       "<IPython.core.display.Javascript object>"
      ]
     },
     "metadata": {},
     "output_type": "display_data"
    }
   ],
   "source": [
    "%%javascript\n",
    "var kernel = IPython.notebook.kernel;\n",
    "var thename = window.document.getElementById(\"notebook_name\").innerHTML;\n",
    "var command = \"theNotebook = \" + \"'\"+thename+\"'\";\n",
    "kernel.execute(command);"
   ]
  },
  {
   "cell_type": "code",
   "execution_count": 4,
   "metadata": {
    "collapsed": false,
    "deletable": true,
    "editable": true
   },
   "outputs": [
    {
     "name": "stdout",
     "output_type": "stream",
     "text": [
      "MakeLogBook\n"
     ]
    }
   ],
   "source": [
    "print(theNotebook)"
   ]
  },
  {
   "cell_type": "code",
   "execution_count": 5,
   "metadata": {
    "collapsed": false,
    "deletable": true,
    "editable": true
   },
   "outputs": [],
   "source": [
    "%matplotlib inline\n",
    "import matplotlib.pyplot as plt\n",
    "import numpy as np\n",
    "\n",
    "from astropy.modeling import models\n",
    "from astropy import units as u\n",
    "from astropy import nddata\n",
    "from astropy.io import fits\n",
    "from astropy.table import Table, Column\n",
    "import re\n",
    "import os"
   ]
  },
  {
   "cell_type": "code",
   "execution_count": 6,
   "metadata": {
    "collapsed": true,
    "deletable": true,
    "editable": true
   },
   "outputs": [],
   "source": [
    "import pandas as pd"
   ]
  },
  {
   "cell_type": "code",
   "execution_count": 7,
   "metadata": {
    "collapsed": false,
    "deletable": true,
    "editable": true
   },
   "outputs": [],
   "source": [
    "# to enlarge the sizes\n",
    "params = {'legend.fontsize': 'x-large',\n",
    "          'figure.figsize': (8, 8),\n",
    "         'axes.labelsize': 'x-large',\n",
    "         'axes.titlesize':'x-large',\n",
    "         'xtick.labelsize':'x-large',\n",
    "         'ytick.labelsize':'x-large'}\n",
    "plt.rcParams.update(params)"
   ]
  },
  {
   "cell_type": "markdown",
   "metadata": {
    "deletable": true,
    "editable": true
   },
   "source": [
    "## Location of trim images\n",
    "----------------------------------"
   ]
  },
  {
   "cell_type": "code",
   "execution_count": null,
   "metadata": {
    "collapsed": false,
    "deletable": true,
    "editable": true
   },
   "outputs": [],
   "source": []
  },
  {
   "cell_type": "code",
   "execution_count": null,
   "metadata": {
    "collapsed": true,
    "deletable": true,
    "editable": true
   },
   "outputs": [],
   "source": []
  },
  {
   "cell_type": "code",
   "execution_count": 8,
   "metadata": {
    "collapsed": true
   },
   "outputs": [],
   "source": [
    "rootpath_rawimage=\"../OverScanRemove/trim_images\"\n",
    "MIN_IMGNUMBER=141\n",
    "MAX_IMGNUMBER=175\n",
    "object_name='HD205905_May_31th'\n",
    "SelectTagRe='^trim_20170531_([0-9]+).fits$' # regular expression to select the file\n",
    "SearchTagRe='^trim_20170531_[0-9]+.fits$'\n",
    "NBIMGPERLROW=4"
   ]
  },
  {
   "cell_type": "code",
   "execution_count": 9,
   "metadata": {
    "collapsed": true,
    "deletable": true,
    "editable": true
   },
   "outputs": [],
   "source": [
    "#rootpath_rawimage=\"/Users/dagoret-campagnesylvie/MacOsX/LSST/MyWork/GitHub/CTIOData2016/November2016/mucol\"\n",
    "#object_name='mucol'\n",
    "infos='ctio31may2017'"
   ]
  },
  {
   "cell_type": "code",
   "execution_count": 10,
   "metadata": {
    "collapsed": false,
    "deletable": true,
    "editable": true
   },
   "outputs": [],
   "source": [
    "logfile='logbk_'+object_name+'_'+infos+'.fits'\n",
    "pandaslogfile='logbk_'+object_name+'_'+infos+'.csv'"
   ]
  },
  {
   "cell_type": "code",
   "execution_count": 11,
   "metadata": {
    "collapsed": true,
    "deletable": true,
    "editable": true
   },
   "outputs": [],
   "source": [
    "dirlist=[]\n",
    "dirlist.append(rootpath_rawimage)\n",
    "dirlist_all=np.array(dirlist)"
   ]
  },
  {
   "cell_type": "code",
   "execution_count": 12,
   "metadata": {
    "collapsed": false,
    "deletable": true,
    "editable": true
   },
   "outputs": [],
   "source": [
    "filelist_all=os.listdir(rootpath_rawimage) "
   ]
  },
  {
   "cell_type": "code",
   "execution_count": 13,
   "metadata": {
    "collapsed": false,
    "deletable": true,
    "editable": true
   },
   "outputs": [
    {
     "data": {
      "text/plain": [
       "['trim_20170531_001.fits',\n",
       " 'trim_20170531_002.fits',\n",
       " 'trim_20170531_003.fits',\n",
       " 'trim_20170531_004.fits',\n",
       " 'trim_20170531_005.fits',\n",
       " 'trim_20170531_006.fits',\n",
       " 'trim_20170531_007.fits',\n",
       " 'trim_20170531_008.fits',\n",
       " 'trim_20170531_009.fits',\n",
       " 'trim_20170531_010.fits',\n",
       " 'trim_20170531_011.fits',\n",
       " 'trim_20170531_012.fits',\n",
       " 'trim_20170531_013.fits',\n",
       " 'trim_20170531_014.fits',\n",
       " 'trim_20170531_015.fits',\n",
       " 'trim_20170531_016.fits',\n",
       " 'trim_20170531_017.fits',\n",
       " 'trim_20170531_018.fits',\n",
       " 'trim_20170531_019.fits',\n",
       " 'trim_20170531_020.fits',\n",
       " 'trim_20170531_023.fits',\n",
       " 'trim_20170531_024.fits',\n",
       " 'trim_20170531_025.fits',\n",
       " 'trim_20170531_026.fits',\n",
       " 'trim_20170531_027.fits',\n",
       " 'trim_20170531_028.fits',\n",
       " 'trim_20170531_029.fits',\n",
       " 'trim_20170531_030.fits',\n",
       " 'trim_20170531_031.fits',\n",
       " 'trim_20170531_032.fits',\n",
       " 'trim_20170531_033.fits',\n",
       " 'trim_20170531_034.fits',\n",
       " 'trim_20170531_035.fits',\n",
       " 'trim_20170531_036.fits',\n",
       " 'trim_20170531_037.fits',\n",
       " 'trim_20170531_038.fits',\n",
       " 'trim_20170531_039.fits',\n",
       " 'trim_20170531_040.fits',\n",
       " 'trim_20170531_041.fits',\n",
       " 'trim_20170531_042.fits',\n",
       " 'trim_20170531_046.fits',\n",
       " 'trim_20170531_047.fits',\n",
       " 'trim_20170531_048.fits',\n",
       " 'trim_20170531_049.fits',\n",
       " 'trim_20170531_050.fits',\n",
       " 'trim_20170531_051.fits',\n",
       " 'trim_20170531_052.fits',\n",
       " 'trim_20170531_053.fits',\n",
       " 'trim_20170531_054.fits',\n",
       " 'trim_20170531_055.fits',\n",
       " 'trim_20170531_056.fits',\n",
       " 'trim_20170531_057.fits',\n",
       " 'trim_20170531_058.fits',\n",
       " 'trim_20170531_059.fits',\n",
       " 'trim_20170531_060.fits',\n",
       " 'trim_20170531_061.fits',\n",
       " 'trim_20170531_062.fits',\n",
       " 'trim_20170531_063.fits',\n",
       " 'trim_20170531_066.fits',\n",
       " 'trim_20170531_067.fits',\n",
       " 'trim_20170531_068.fits',\n",
       " 'trim_20170531_069.fits',\n",
       " 'trim_20170531_070.fits',\n",
       " 'trim_20170531_071.fits',\n",
       " 'trim_20170531_074.fits',\n",
       " 'trim_20170531_075.fits',\n",
       " 'trim_20170531_076.fits',\n",
       " 'trim_20170531_077.fits',\n",
       " 'trim_20170531_078.fits',\n",
       " 'trim_20170531_079.fits',\n",
       " 'trim_20170531_080.fits',\n",
       " 'trim_20170531_081.fits',\n",
       " 'trim_20170531_082.fits',\n",
       " 'trim_20170531_083.fits',\n",
       " 'trim_20170531_084.fits',\n",
       " 'trim_20170531_085.fits',\n",
       " 'trim_20170531_086.fits',\n",
       " 'trim_20170531_087.fits',\n",
       " 'trim_20170531_088.fits',\n",
       " 'trim_20170531_089.fits',\n",
       " 'trim_20170531_090.fits',\n",
       " 'trim_20170531_091.fits',\n",
       " 'trim_20170531_092.fits',\n",
       " 'trim_20170531_093.fits',\n",
       " 'trim_20170531_094.fits',\n",
       " 'trim_20170531_095.fits',\n",
       " 'trim_20170531_096.fits',\n",
       " 'trim_20170531_097.fits',\n",
       " 'trim_20170531_098.fits',\n",
       " 'trim_20170531_099.fits',\n",
       " 'trim_20170531_100.fits',\n",
       " 'trim_20170531_101.fits',\n",
       " 'trim_20170531_102.fits',\n",
       " 'trim_20170531_103.fits',\n",
       " 'trim_20170531_104.fits',\n",
       " 'trim_20170531_105.fits',\n",
       " 'trim_20170531_106.fits',\n",
       " 'trim_20170531_107.fits',\n",
       " 'trim_20170531_108.fits',\n",
       " 'trim_20170531_109.fits',\n",
       " 'trim_20170531_110.fits',\n",
       " 'trim_20170531_113.fits',\n",
       " 'trim_20170531_114.fits',\n",
       " 'trim_20170531_115.fits',\n",
       " 'trim_20170531_116.fits',\n",
       " 'trim_20170531_117.fits',\n",
       " 'trim_20170531_118.fits',\n",
       " 'trim_20170531_119.fits',\n",
       " 'trim_20170531_120.fits',\n",
       " 'trim_20170531_121.fits',\n",
       " 'trim_20170531_122.fits',\n",
       " 'trim_20170531_123.fits',\n",
       " 'trim_20170531_124.fits',\n",
       " 'trim_20170531_125.fits',\n",
       " 'trim_20170531_126.fits',\n",
       " 'trim_20170531_127.fits',\n",
       " 'trim_20170531_128.fits',\n",
       " 'trim_20170531_129.fits',\n",
       " 'trim_20170531_130.fits',\n",
       " 'trim_20170531_131.fits',\n",
       " 'trim_20170531_132.fits',\n",
       " 'trim_20170531_133.fits',\n",
       " 'trim_20170531_134.fits',\n",
       " 'trim_20170531_135.fits',\n",
       " 'trim_20170531_136.fits',\n",
       " 'trim_20170531_137.fits',\n",
       " 'trim_20170531_138.fits',\n",
       " 'trim_20170531_139.fits',\n",
       " 'trim_20170531_140.fits',\n",
       " 'trim_20170531_143.fits',\n",
       " 'trim_20170531_144.fits',\n",
       " 'trim_20170531_145.fits',\n",
       " 'trim_20170531_146.fits',\n",
       " 'trim_20170531_147.fits',\n",
       " 'trim_20170531_148.fits',\n",
       " 'trim_20170531_149.fits',\n",
       " 'trim_20170531_150.fits',\n",
       " 'trim_20170531_151.fits',\n",
       " 'trim_20170531_152.fits',\n",
       " 'trim_20170531_153.fits',\n",
       " 'trim_20170531_154.fits',\n",
       " 'trim_20170531_155.fits',\n",
       " 'trim_20170531_156.fits',\n",
       " 'trim_20170531_157.fits',\n",
       " 'trim_20170531_158.fits',\n",
       " 'trim_20170531_159.fits',\n",
       " 'trim_20170531_160.fits',\n",
       " 'trim_20170531_161.fits',\n",
       " 'trim_20170531_162.fits',\n",
       " 'trim_20170531_163.fits',\n",
       " 'trim_20170531_164.fits',\n",
       " 'trim_20170531_165.fits',\n",
       " 'trim_20170531_166.fits',\n",
       " 'trim_20170531_167.fits',\n",
       " 'trim_20170531_168.fits',\n",
       " 'trim_20170531_169.fits',\n",
       " 'trim_20170531_170.fits',\n",
       " 'trim_20170531_171.fits',\n",
       " 'trim_20170531_172.fits',\n",
       " 'trim_20170531_173.fits',\n",
       " 'trim_20170531_174.fits',\n",
       " 'trim_20170531_175.fits',\n",
       " 'trim_20170531_176.fits',\n",
       " 'trim_20170531_177.fits']"
      ]
     },
     "execution_count": 13,
     "metadata": {},
     "output_type": "execute_result"
    }
   ],
   "source": [
    "#dirlist_all.remove('.DS_Store') # reove that file in a mAC\n",
    "filelist_all"
   ]
  },
  {
   "cell_type": "code",
   "execution_count": 14,
   "metadata": {
    "collapsed": true,
    "deletable": true,
    "editable": true
   },
   "outputs": [],
   "source": [
    "indexes_files= [] # global list\n",
    "filelist_fitsimages= []  # global list"
   ]
  },
  {
   "cell_type": "code",
   "execution_count": 15,
   "metadata": {
    "collapsed": false,
    "deletable": true,
    "editable": true
   },
   "outputs": [],
   "source": [
    "def MakeFileList():\n",
    "    \"\"\"\n",
    "    MakeFileList : Make The List of files to open\n",
    "    =============\n",
    "    \n",
    "    - we select the files which are of interest.\n",
    "    - In particular select the number range\n",
    "    \n",
    "    \"\"\"\n",
    "    count=0\n",
    "    \n",
    "    for dir in dirlist_all: # loop on directories, one per image   (if necessary)    \n",
    "            dir_leaf= dir # build the name of leaf directory\n",
    "            listfiles=os.listdir(dir_leaf) \n",
    "            for filename in listfiles:\n",
    "                if re.search(SearchTagRe,filename):  #example of filename filter\n",
    "                    str_index=re.findall(SelectTagRe,filename)\n",
    "                    count=count+1\n",
    "                    index=int(str_index[0])\n",
    "                    if index >= MIN_IMGNUMBER and index <= MAX_IMGNUMBER: \n",
    "                        indexes_files.append(index)         \n",
    "                        shortfilename=dir_leaf+'/'+filename\n",
    "                        filelist_fitsimages.append(shortfilename)\n",
    "                    \n",
    "    return"
   ]
  },
  {
   "cell_type": "code",
   "execution_count": 16,
   "metadata": {
    "collapsed": false,
    "deletable": true,
    "editable": true
   },
   "outputs": [],
   "source": [
    "MakeFileList()   # Make the list"
   ]
  },
  {
   "cell_type": "code",
   "execution_count": 17,
   "metadata": {
    "collapsed": true,
    "deletable": true,
    "editable": true
   },
   "outputs": [],
   "source": [
    "indexes_files=np.array(indexes_files)\n",
    "filelist_fitsimages=np.array(filelist_fitsimages)"
   ]
  },
  {
   "cell_type": "code",
   "execution_count": 18,
   "metadata": {
    "collapsed": false,
    "deletable": true,
    "editable": true
   },
   "outputs": [
    {
     "data": {
      "text/plain": [
       "array([143, 144, 145, 146, 147, 148, 149, 150, 151, 152, 153, 154, 155,\n",
       "       156, 157, 158, 159, 160, 161, 162, 163, 164, 165, 166, 167, 168,\n",
       "       169, 170, 171, 172, 173, 174, 175])"
      ]
     },
     "execution_count": 18,
     "metadata": {},
     "output_type": "execute_result"
    }
   ],
   "source": [
    "indexes_files"
   ]
  },
  {
   "cell_type": "code",
   "execution_count": 19,
   "metadata": {
    "collapsed": true,
    "deletable": true,
    "editable": true
   },
   "outputs": [],
   "source": [
    "sorted_indexes=np.argsort(indexes_files) # sort the file indexes"
   ]
  },
  {
   "cell_type": "code",
   "execution_count": 20,
   "metadata": {
    "collapsed": true,
    "deletable": true,
    "editable": true
   },
   "outputs": [],
   "source": [
    "sorted_files=filelist_fitsimages[sorted_indexes]"
   ]
  },
  {
   "cell_type": "code",
   "execution_count": 21,
   "metadata": {
    "collapsed": true,
    "deletable": true,
    "editable": true
   },
   "outputs": [],
   "source": [
    "sorted_numbers=indexes_files[sorted_indexes]"
   ]
  },
  {
   "cell_type": "code",
   "execution_count": 22,
   "metadata": {
    "collapsed": true,
    "deletable": true,
    "editable": true
   },
   "outputs": [],
   "source": [
    "sorted_filenames=[]\n",
    "for file in sorted_files:\n",
    "    #fullfilename=os.path.join(rootpath_rawimage,file)\n",
    "    fullfilename=file\n",
    "    sorted_filenames.append(fullfilename)"
   ]
  },
  {
   "cell_type": "code",
   "execution_count": 23,
   "metadata": {
    "collapsed": true,
    "deletable": true,
    "editable": true
   },
   "outputs": [],
   "source": [
    "sorted_filenames=np.array(sorted_filenames)"
   ]
  },
  {
   "cell_type": "code",
   "execution_count": 24,
   "metadata": {
    "collapsed": false,
    "deletable": true,
    "editable": true
   },
   "outputs": [
    {
     "data": {
      "text/plain": [
       "array(['../OverScanRemove/trim_images/trim_20170531_143.fits',\n",
       "       '../OverScanRemove/trim_images/trim_20170531_144.fits',\n",
       "       '../OverScanRemove/trim_images/trim_20170531_145.fits',\n",
       "       '../OverScanRemove/trim_images/trim_20170531_146.fits',\n",
       "       '../OverScanRemove/trim_images/trim_20170531_147.fits',\n",
       "       '../OverScanRemove/trim_images/trim_20170531_148.fits',\n",
       "       '../OverScanRemove/trim_images/trim_20170531_149.fits',\n",
       "       '../OverScanRemove/trim_images/trim_20170531_150.fits',\n",
       "       '../OverScanRemove/trim_images/trim_20170531_151.fits',\n",
       "       '../OverScanRemove/trim_images/trim_20170531_152.fits',\n",
       "       '../OverScanRemove/trim_images/trim_20170531_153.fits',\n",
       "       '../OverScanRemove/trim_images/trim_20170531_154.fits',\n",
       "       '../OverScanRemove/trim_images/trim_20170531_155.fits',\n",
       "       '../OverScanRemove/trim_images/trim_20170531_156.fits',\n",
       "       '../OverScanRemove/trim_images/trim_20170531_157.fits',\n",
       "       '../OverScanRemove/trim_images/trim_20170531_158.fits',\n",
       "       '../OverScanRemove/trim_images/trim_20170531_159.fits',\n",
       "       '../OverScanRemove/trim_images/trim_20170531_160.fits',\n",
       "       '../OverScanRemove/trim_images/trim_20170531_161.fits',\n",
       "       '../OverScanRemove/trim_images/trim_20170531_162.fits',\n",
       "       '../OverScanRemove/trim_images/trim_20170531_163.fits',\n",
       "       '../OverScanRemove/trim_images/trim_20170531_164.fits',\n",
       "       '../OverScanRemove/trim_images/trim_20170531_165.fits',\n",
       "       '../OverScanRemove/trim_images/trim_20170531_166.fits',\n",
       "       '../OverScanRemove/trim_images/trim_20170531_167.fits',\n",
       "       '../OverScanRemove/trim_images/trim_20170531_168.fits',\n",
       "       '../OverScanRemove/trim_images/trim_20170531_169.fits',\n",
       "       '../OverScanRemove/trim_images/trim_20170531_170.fits',\n",
       "       '../OverScanRemove/trim_images/trim_20170531_171.fits',\n",
       "       '../OverScanRemove/trim_images/trim_20170531_172.fits',\n",
       "       '../OverScanRemove/trim_images/trim_20170531_173.fits',\n",
       "       '../OverScanRemove/trim_images/trim_20170531_174.fits',\n",
       "       '../OverScanRemove/trim_images/trim_20170531_175.fits'], \n",
       "      dtype='|S52')"
      ]
     },
     "execution_count": 24,
     "metadata": {},
     "output_type": "execute_result"
    }
   ],
   "source": [
    "sorted_filenames"
   ]
  },
  {
   "cell_type": "code",
   "execution_count": 25,
   "metadata": {
    "collapsed": false,
    "deletable": true,
    "editable": true
   },
   "outputs": [],
   "source": [
    "from astropy.io import fits\n",
    "with fits.open(sorted_filenames[0]) as pf:\n",
    "    (pf[0].header)"
   ]
  },
  {
   "cell_type": "code",
   "execution_count": 26,
   "metadata": {
    "collapsed": false,
    "deletable": true,
    "editable": true
   },
   "outputs": [
    {
     "data": {
      "text/plain": [
       "SIMPLE  =                    T / conforms to FITS standard                      \n",
       "BITPIX  =                  -64 / array data type                                \n",
       "NAXIS   =                    2 / number of array dimensions                     \n",
       "NAXIS1  =                 2048                                                  \n",
       "NAXIS2  =                 2048                                                  \n",
       "COMMENT   FITS (Flexible Image Transport System) format is defined in 'Astronomy\n",
       "COMMENT   and Astrophysics', volume 376, page 359; bibcode: 2001A&A...376..359H \n",
       "OBJECT  = 'HD205905'           / Name of object observed                        \n",
       "OBSERVER= '        '           / observer                                       \n",
       "PROPID  = '        '           / Proposal ID                                    \n",
       "RECID   = 'ct36.20170601.074316' / NOAO Archibe record ID                       \n",
       "PROPID  = '        '           / Proposal ID                                    \n",
       "IMAGETYP= 'object  '           / Type of picture (object, dark, comp, etc)      \n",
       "CCDSUM  = '1 1     '           / On chip summation (X, Y)                       \n",
       "XSTART  =                    1 / start of roi in X                              \n",
       "YSTART  =                    1 / start of roi in Y                              \n",
       "XLENGTH =                 2048 / length of roi in X                             \n",
       "YLENGTH =                 2048 / length of roi in Y                             \n",
       "UTSHUT  = '2017-06-01T07:43:16.395' / UT of shutter open                        \n",
       "UT      = '07:43:16.395'       / UT of TCS coordinates                          \n",
       "DATE-OBS= '2017-06-01T07:43:16.395' / date of observations start                \n",
       "DATE    = '2017-06-01T07:45:18' / file creation date (YYYY-MM-DDThh:mm:ss UT)   \n",
       "NAMPSYX = '2 2     '           / Num amps in y and x (eg. '2 2=quad')           \n",
       "AMPLIST = '11 12 21 22'        / Readout order in y,x                           \n",
       "GTRON11 =                  12. / (e-) predicted read noise, lower left          \n",
       "GTRON12 =                  12. / (e-) predicted read noise, lower right         \n",
       "GTRON21 =                  12. / (e-) predicted read noise, upper left          \n",
       "GTRON22 =                  12. / (e-) predicted read noise, upper right         \n",
       "GTGAIN11=                   3. / (e-/ADU) predicted gain, lower left            \n",
       "GTGAIN12=                   3. / (e-/ADU) predicted gain, lower right           \n",
       "GTGAIN21=                   3. / (e-/ADU) predicted gain, upper left            \n",
       "GTGAIN22=                   3. / (e-/ADU) predicted gain, upper right           \n",
       "ASEC11  = '[1:1084,1:1024]'    / amplifier section Amp11(LL) detID 1            \n",
       "BSEC11  = '[1045:1084,1:1024]' / bias section Amp11(LL) detID 1                 \n",
       "CSEC11  = '[1:1034,1:1024]'    / section in full ccd for DSEC Amp11(LL) detID 1 \n",
       "DSEC11  = '[1:1034,1:1024]'    / image section in raw frame Amp11(LL) detID 1   \n",
       "TSEC11  = '[11:1034,1:1024]'   / trim section Amp11(LL) detID 1                 \n",
       "ABSEC11 = '[1045:1084,1:1024]' / overscan inside amp                            \n",
       "ADSEC11 = '[1:1024,1:1024]'    / detector section only                          \n",
       "ASEC12  = '[1085:2168,1:1024]' / amplifier section Amp12(LR) detID 1            \n",
       "BSEC12  = '[1085:1124,1:1024]' / bias section Amp12(LR) detID 1                 \n",
       "CSEC12  = '[1035:2068,1:1024]' / section in full ccd for DSEC Amp12(LR) detID 1 \n",
       "DSEC12  = '[1135:2168,1:1024]' / image section in raw frame Amp12(LR) detID 1   \n",
       "TSEC12  = '[1135:2158,1:1024]' / trim section Amp12(LR) detID 1                 \n",
       "ABSEC12 = '[1:40,1:1024]'      / overscan inside amp                            \n",
       "ADSEC12 = '[1025:2048,1:1024]' / detector section only                          \n",
       "ASEC21  = '[1:1084,1025:2048]' / amplifier section Amp21(UL) detID 1            \n",
       "BSEC21  = '[1045:1084,1025:2048]' / bias section Amp21(UL) detID 1              \n",
       "CSEC21  = '[1:1034,1025:2048]' / section in full ccd for DSEC Amp21(UL) detID 1 \n",
       "DSEC21  = '[1:1034,1025:2048]' / image section in raw frame Amp21(UL) detID 1   \n",
       "TSEC21  = '[11:1034,1025:2048]' / trim section Amp21(UL) detID 1                \n",
       "ABSEC21 = '[1045:1084,1:1024]' / overscan inside amp                            \n",
       "ADSEC21 = '[1:1024,1025:2048]' / detector section only                          \n",
       "ASEC22  = '[1085:2168,1025:2048]' / amplifier section Amp22(UR) detID 1         \n",
       "BSEC22  = '[1085:1124,1025:2048]' / bias section Amp22(UR) detID 1              \n",
       "CSEC22  = '[1035:2068,1025:2048]' / section in full ccd for DSEC Amp22(UR) detID\n",
       "DSEC22  = '[1135:2168,1025:2048]' / image section in raw frame Amp22(UR) detID 1\n",
       "TSEC22  = '[1135:2158,1025:2048]' / trim section Amp22(UR) detID 1              \n",
       "ABSEC22 = '[1:40,1:1024]'      / overscan inside amp                            \n",
       "ADSEC22 = '[1025:2048,1025:2048]' / detector section only                       \n",
       "ROISEC00= '[1:2048,1:2048]'    / roi section                                    \n",
       "DETECTOR= 'Tek2K_3 '           / Detector Identifier                            \n",
       "FPA     = 'SITE2K  '           / focal plan array                               \n",
       "REXPTIME=                 120. / requested exposure time in secs                \n",
       "EXPTIME =                 120. / Exposure time in secs                          \n",
       "DARKTIME=                 120. / Total elapsed time in secs                     \n",
       "NIMAGES =                    1 / number of images requested in sequence         \n",
       "PIXELT  = '25000.000000'       / (ns) unbinned pixel read time                  \n",
       "DHEINF  = 'MNSN torrent hardware' / controller info                             \n",
       "DHEFIRM = '/home/observer/panview/fpas/_biw/config/DETECTOR/site2k_sequencer.uc'\n",
       "PIXTIME = '25      '           / pixel time (usecs)                             \n",
       "POWSTAT = '3.000   '           / power supplies status (3=OK)                   \n",
       "CCDSETP = '163.000 '           / ccd temperature setpoint                       \n",
       "CCDTEMP = '162.062 '           / CCD temperature                                \n",
       "NECKTEMP= '140.940 '           / dewar NECK temperature                         \n",
       "HEATERSP= '7.874   '           / Heater power percent.                          \n",
       "VDDA    = '23.974  '           / bias output amplifier A                        \n",
       "VDDB    = '23.959  '           / bias output amplifier B                        \n",
       "VDDC    = '24.318  '           / bias output amplifier C                        \n",
       "VDDD    = '24.199  '           / bias output amplifier D                        \n",
       "VRDA    = '13.825  '           / Reset Drain amplifier A                        \n",
       "VRDB    = '13.810  '           / Reset Drain amplifier B                        \n",
       "VRDC    = '14.034  '           / Reset Drain amplifier C                        \n",
       "VRDD    = '13.945  '           / Reset Drain amplifier D                        \n",
       "LGA     = '-2.022  '           / Reset Drain amplifier A                        \n",
       "LGB     = '-2.072  '           / Reset Drain amplifier B                        \n",
       "LGC     = '-1.972  '           / Reset Drain amplifier C                        \n",
       "LGD     = '-1.972  '           / Reset Drain amplifier D                        \n",
       "SLOT00  = 'LCB 0x188538 2.240000' / dhe board: <type> <serial> <firmware>       \n",
       "SLOT01  = 'PSM 0x45834F 2.210000' / dhe board: <type> <serial> <firmware>       \n",
       "SLOT02  = 'CFG 0xNONE 2.240000' / dhe board: <type> <serial> <firmware>         \n",
       "SLOT03  = 'PIX 0xNONE 2.210000' / dhe board: <type> <serial> <firmware>         \n",
       "SLOT04  = 'CCDAFE 0x188167 18805C 2.210000' / dhe board: <type> <serial> <firmwa\n",
       "SLOT07  = 'CB 0xNONE 2.240000' / dhe board: <type> <serial> <firmware>          \n",
       "SLOT02  = 'TSM 0x3C6784 NONE'  / dhe board: <type> <serial> <firmware>          \n",
       "VANPLUS =             10.47619 / analog voltage plus                            \n",
       "VANMINU =            -10.47945 / analog voltage minus                           \n",
       "FPGATEMP=             34.97537 / torrent fpga temperature                       \n",
       "ID      = '[ct36.20170601.074316]' / ID                                         \n",
       "OBSERVAT= 'CTIO    '           / Origin of data                                 \n",
       "TELESCOP= 'CTIO 0.9 meter telescope' / Specific system                          \n",
       "TELID   = 'ct36    '           / CTIO 0.9 meter telescope                       \n",
       "TCS-TIME= '2017-05-31T07:43:16.64' / date of observation start                  \n",
       "UT      = '07:43:16.64'        / UT of TCS coords                               \n",
       "RA      = '21:38:51.80'        / ra                                             \n",
       "DEC     = '-27:21:16.28'       / dec                                            \n",
       "EPOCH   =                2000. / epoch                                          \n",
       "ZD      =               26.333 / zenith distance                                \n",
       "HA      = '-01:58:52.12'       / hour angle                                     \n",
       "ST      = '19:39:59.68'        / sidereal time                                  \n",
       "AIRMASS =                1.116 / airmass                                        \n",
       "ALT     = '-263.56 '           / altitud                                        \n",
       "TELFOCUS=               12400. / telescope focus                                \n",
       "WEATIME = '2017-06-01 07:44:01' / weather timestamp                             \n",
       "OUTTEMP =                 11.5 / outside temp (C)                               \n",
       "OUTHUM  =                   22 / outside humidity (%)                           \n",
       "OUTPRESS=                 780. / outside pressure (hPa)                         \n",
       "WNDSPEED=                 21.3 / wind speed (mph)                               \n",
       "WNDDIR  =                   33 / wind dir (degrees)                             \n",
       "SEETIME = '2017-06-01 07:44:22' / seeing timestamp                              \n",
       "SEEING  =                   1. / seeing                                         \n",
       "SAIRMASS=                1.123 / seeing airmass                                 \n",
       "PANID   = '_biw    '           / PAN identification                             \n",
       "COMMENT image                                                                   \n",
       "COMMENT Image is trimmed                                                        \n",
       "FILTER1 = 'RG715   '           / Filter in wheel 1                              \n",
       "FNAME1  = 'RG715   '           / Full name of filter in wheel 1                 \n",
       "FILTER2 = 'Ron400  '           / Filter in wheel 2                              \n",
       "FNAME2  = 'Ronchi400'          / Full name of filter in wheel 2                 \n",
       "FILTERS = 'RG715 Ron400'       / Filter positions                               \n",
       "INSTRUME= 'cfccd   '           / cassegrain direct imager                       \n",
       "XPIXSIZE=                0.401 / Pixel size in X (arcsecs/pix)                  \n",
       "YPIXSIZE=                0.401 / Pixel size in Y (arcsecs/pix)                  \n",
       "TEST    =                   2. / my keyword                                     "
      ]
     },
     "execution_count": 26,
     "metadata": {},
     "output_type": "execute_result"
    }
   ],
   "source": [
    "pf[0].header"
   ]
  },
  {
   "cell_type": "markdown",
   "metadata": {
    "collapsed": false,
    "deletable": true,
    "editable": true
   },
   "source": [
    "### Build tables for output file"
   ]
  },
  {
   "cell_type": "code",
   "execution_count": null,
   "metadata": {
    "collapsed": false,
    "deletable": true,
    "editable": true
   },
   "outputs": [],
   "source": []
  },
  {
   "cell_type": "code",
   "execution_count": 27,
   "metadata": {
    "collapsed": false,
    "deletable": true,
    "editable": true
   },
   "outputs": [
    {
     "name": "stdout",
     "output_type": "stream",
     "text": [
      "../OverScanRemove/trim_images/trim_20170531_143.fits\n",
      "../OverScanRemove/trim_images/trim_20170531_144.fits\n",
      "../OverScanRemove/trim_images/trim_20170531_145.fits\n",
      "../OverScanRemove/trim_images/trim_20170531_146.fits\n",
      "../OverScanRemove/trim_images/trim_20170531_147.fits\n",
      "../OverScanRemove/trim_images/trim_20170531_148.fits\n",
      "../OverScanRemove/trim_images/trim_20170531_149.fits\n",
      "../OverScanRemove/trim_images/trim_20170531_150.fits\n",
      "../OverScanRemove/trim_images/trim_20170531_151.fits\n",
      "../OverScanRemove/trim_images/trim_20170531_152.fits\n",
      "../OverScanRemove/trim_images/trim_20170531_153.fits\n",
      "../OverScanRemove/trim_images/trim_20170531_154.fits\n",
      "../OverScanRemove/trim_images/trim_20170531_155.fits\n",
      "../OverScanRemove/trim_images/trim_20170531_156.fits\n",
      "../OverScanRemove/trim_images/trim_20170531_157.fits\n",
      "../OverScanRemove/trim_images/trim_20170531_158.fits\n",
      "../OverScanRemove/trim_images/trim_20170531_159.fits\n",
      "../OverScanRemove/trim_images/trim_20170531_160.fits\n",
      "../OverScanRemove/trim_images/trim_20170531_161.fits\n",
      "../OverScanRemove/trim_images/trim_20170531_162.fits\n",
      "../OverScanRemove/trim_images/trim_20170531_163.fits\n",
      "../OverScanRemove/trim_images/trim_20170531_164.fits\n",
      "../OverScanRemove/trim_images/trim_20170531_165.fits\n",
      "../OverScanRemove/trim_images/trim_20170531_166.fits\n",
      "../OverScanRemove/trim_images/trim_20170531_167.fits\n",
      "../OverScanRemove/trim_images/trim_20170531_168.fits\n",
      "../OverScanRemove/trim_images/trim_20170531_169.fits\n",
      "../OverScanRemove/trim_images/trim_20170531_170.fits\n",
      "../OverScanRemove/trim_images/trim_20170531_171.fits\n",
      "../OverScanRemove/trim_images/trim_20170531_172.fits\n",
      "../OverScanRemove/trim_images/trim_20170531_173.fits\n",
      "../OverScanRemove/trim_images/trim_20170531_174.fits\n",
      "../OverScanRemove/trim_images/trim_20170531_175.fits\n"
     ]
    }
   ],
   "source": [
    "all_headers = []\n",
    "all_dates = []\n",
    "all_airmass = []\n",
    "all_exposures = []\n",
    "all_ut = []\n",
    "all_ra = []\n",
    "all_dec = []\n",
    "all_epoch = []\n",
    "all_zenith = []\n",
    "all_ha = []\n",
    "all_st = []\n",
    "all_alt = []\n",
    "all_focus = []\n",
    "all_temp = []\n",
    "all_press = []\n",
    "all_hum = []\n",
    "all_windsp = []\n",
    "all_seeing = []\n",
    "all_seeingam = []\n",
    "all_filter1 = []\n",
    "all_filter2 = []\n",
    "\n",
    "for idx,file in np.ndenumerate(sorted_filenames):  \n",
    "    print file\n",
    "    hdu_list=fits.open(file)\n",
    "    header=hdu_list[0].header\n",
    "    date_obs = header['DATE-OBS']\n",
    "    airmass = float(header['AIRMASS'])\n",
    "    expo= float(header['EXPTIME'])\n",
    "    num=indexes_files[idx[0]]\n",
    "   \n",
    "   \n",
    "    ut=header['UT']\n",
    "    ra=header['RA']\n",
    "    dec=header['DEC']\n",
    "    epoch=float(header['EPOCH'])\n",
    "    zd = float(header['ZD'])\n",
    "    ha = header['HA']\n",
    "    st = header['ST']\n",
    "    alt = float(header['ALT'])\n",
    "    fcl = float(header['TELFOCUS'])\n",
    "    temp= float(header['OUTTEMP'])\n",
    "    press= float(header['OUTPRESS'])\n",
    "    hum= float(header['OUTHUM'])\n",
    "    windsp=float(header['WNDSPEED'])\n",
    "    seeing=float(header['SEEING'])\n",
    "    seeingam=float(header['SAIRMASS'])\n",
    "    filter1 = header['FILTER1']\n",
    "    filter2 = header['FILTER2']\n",
    "    \n",
    "    all_dates.append(date_obs)\n",
    "    all_airmass.append(airmass)\n",
    "    all_headers.append(header)\n",
    "    all_exposures.append(expo)\n",
    "    all_ut.append(ut)\n",
    "    all_ra.append(ra)\n",
    "    all_dec.append(dec)\n",
    "    all_epoch.append(epoch)\n",
    "    all_zenith.append(zd)\n",
    "    all_ha.append(ha)\n",
    "    all_st.append(st)\n",
    "    all_alt.append(alt)\n",
    "    all_focus.append(fcl)\n",
    "    all_temp.append(temp)\n",
    "    all_press.append(press)\n",
    "    all_hum.append(hum)\n",
    "    all_windsp.append(windsp)\n",
    "    all_seeing.append(seeing)\n",
    "    all_seeingam.append(seeingam)\n",
    "    all_filter1.append(filter1)\n",
    "    all_filter2.append(filter2)\n",
    "\n",
    "    hdu_list.close()\n",
    "    "
   ]
  },
  {
   "cell_type": "code",
   "execution_count": 28,
   "metadata": {
    "collapsed": false,
    "deletable": true,
    "editable": true
   },
   "outputs": [
    {
     "data": {
      "text/plain": [
       "33"
      ]
     },
     "execution_count": 28,
     "metadata": {},
     "output_type": "execute_result"
    }
   ],
   "source": [
    "len(all_airmass)"
   ]
  },
  {
   "cell_type": "code",
   "execution_count": 29,
   "metadata": {
    "collapsed": false,
    "deletable": true,
    "editable": true
   },
   "outputs": [
    {
     "data": {
      "text/plain": [
       "['RG715',\n",
       " 'RG715',\n",
       " 'RG715',\n",
       " 'RG715',\n",
       " 'RG715',\n",
       " 'RG715',\n",
       " 'RG715',\n",
       " 'RG715',\n",
       " 'RG715',\n",
       " 'RG715',\n",
       " 'RG715',\n",
       " 'RG715',\n",
       " 'RG715',\n",
       " 'RG715',\n",
       " 'RG715',\n",
       " 'RG715',\n",
       " 'RG715',\n",
       " 'RG715',\n",
       " 'RG715',\n",
       " 'RG715',\n",
       " 'RG715',\n",
       " 'RG715',\n",
       " 'RG715',\n",
       " 'RG715',\n",
       " 'RG715',\n",
       " 'RG715',\n",
       " 'RG715',\n",
       " 'RG715',\n",
       " 'RG715',\n",
       " 'RG715',\n",
       " 'RG715',\n",
       " 'RG715',\n",
       " 'RG715']"
      ]
     },
     "execution_count": 29,
     "metadata": {},
     "output_type": "execute_result"
    }
   ],
   "source": [
    "all_filter1"
   ]
  },
  {
   "cell_type": "markdown",
   "metadata": {
    "deletable": true,
    "editable": true
   },
   "source": [
    "## Build outputfile"
   ]
  },
  {
   "cell_type": "code",
   "execution_count": 30,
   "metadata": {
    "collapsed": false,
    "deletable": true,
    "editable": true
   },
   "outputs": [],
   "source": [
    "col_airmass=np.array(all_airmass)\n",
    "col_number=np.array(indexes_files)\n",
    "col_date=np.array(all_dates)\n",
    "col_filename=np.array(filelist_all)\n",
    "col_exposure=np.array(all_exposures)\n",
    "col_zenith=np.array(all_zenith)\n",
    "col_altitude=np.array(all_alt)\n",
    "col_temperature=np.array(all_temp)\n",
    "col_pressure=np.array(all_press)\n",
    "col_humidity=np.array(all_hum)\n",
    "col_windsp=np.array(all_windsp)\n",
    "col_seeing=np.array(all_seeing)\n",
    "col_filter1=np.array(all_filter1)\n",
    "col_filter2=np.array(all_filter2)"
   ]
  },
  {
   "cell_type": "code",
   "execution_count": 31,
   "metadata": {
    "collapsed": false,
    "deletable": true,
    "editable": true
   },
   "outputs": [],
   "source": [
    "c1 = fits.Column(name='number', format='J', array=col_number)\n",
    "c2 = fits.Column(name='airmass', format='E', array=col_airmass)\n",
    "c3 = fits.Column(name='date', format='A50', array=col_date)\n",
    "c4 = fits.Column(name='filename', format='A30', array=sorted_filenames)\n",
    "c5 = fits.Column(name='exposure', format='E', array=col_exposure) \n",
    "c6 = fits.Column(name='zenith', format='E', array=col_zenith) \n",
    "#c7 = fits.Column(name='altitude', format='E', array=col_altitude) \n",
    "c8 = fits.Column(name='temperature', format='E', array=col_temperature) \n",
    "c9 = fits.Column(name='pressure', format='E', array=col_pressure) \n",
    "c10 = fits.Column(name='humidity', format='E', array=col_humidity) \n",
    "c11 = fits.Column(name='windspeed', format='E', array=col_windsp) \n",
    "c12 = fits.Column(name='seeing', format='E', array=col_seeing) \n",
    "c13 = fits.Column(name='filter1', format='A20', array=col_filter1)\n",
    "c14 = fits.Column(name='filter2', format='A20', array=col_filter2) "
   ]
  },
  {
   "cell_type": "code",
   "execution_count": 32,
   "metadata": {
    "collapsed": true,
    "deletable": true,
    "editable": true
   },
   "outputs": [],
   "source": [
    "tbhdu = fits.BinTableHDU.from_columns([c1, c2, c3, c4, c5,c6,c8,c9,c10,c11,c12,c13,c14])"
   ]
  },
  {
   "cell_type": "code",
   "execution_count": 33,
   "metadata": {
    "collapsed": false,
    "deletable": true,
    "editable": true
   },
   "outputs": [],
   "source": [
    "tbhdu.writeto(logfile,overwrite=True)"
   ]
  },
  {
   "cell_type": "markdown",
   "metadata": {
    "deletable": true,
    "editable": true
   },
   "source": [
    "## Convert into Table\n",
    "---------------------------"
   ]
  },
  {
   "cell_type": "code",
   "execution_count": 34,
   "metadata": {
    "collapsed": false,
    "deletable": true,
    "editable": true
   },
   "outputs": [],
   "source": [
    "thetable= Table(tbhdu.data)"
   ]
  },
  {
   "cell_type": "code",
   "execution_count": 35,
   "metadata": {
    "collapsed": false,
    "deletable": true,
    "editable": true
   },
   "outputs": [
    {
     "data": {
      "text/html": [
       "&lt;Table length=33&gt;\n",
       "<table id=\"table4679856336-893774\" class=\"table-striped table-bordered table-condensed\">\n",
       "<thead><tr><th>idx</th><th>number</th><th>airmass</th><th>date</th><th>filename</th><th>exposure</th><th>zenith</th><th>temperature</th><th>pressure</th><th>humidity</th><th>windspeed</th><th>seeing</th><th>filter1</th><th>filter2</th></tr></thead>\n",
       "<tr><td>0</td><td>143</td><td>1.116</td><td>2017-06-01T07:43:16.395</td><td>../OverScanRemove/trim_images/</td><td>120.0</td><td>26.333</td><td>11.5</td><td>780.0</td><td>22.0</td><td>21.3</td><td>1.0</td><td>RG715</td><td>Ron400</td></tr>\n",
       "<tr><td>1</td><td>144</td><td>1.11</td><td>2017-06-01T07:46:08.899</td><td>../OverScanRemove/trim_images/</td><td>120.0</td><td>25.709</td><td>11.1</td><td>780.0</td><td>22.0</td><td>19.2</td><td>1.071</td><td>RG715</td><td>Thor300</td></tr>\n",
       "<tr><td>2</td><td>145</td><td>1.104</td><td>2017-06-01T07:49:01.406</td><td>../OverScanRemove/trim_images/</td><td>120.0</td><td>25.086</td><td>11.7</td><td>780.0</td><td>21.0</td><td>22.3</td><td>1.232</td><td>RG715</td><td>HoloPhP</td></tr>\n",
       "<tr><td>3</td><td>146</td><td>1.098</td><td>2017-06-01T07:51:53.907</td><td>../OverScanRemove/trim_images/</td><td>240.0</td><td>24.464</td><td>11.5</td><td>780.0</td><td>21.0</td><td>22.8</td><td>1.189</td><td>RG715</td><td>HoloPhAg</td></tr>\n",
       "<tr><td>4</td><td>147</td><td>1.09</td><td>2017-06-01T07:56:46.406</td><td>../OverScanRemove/trim_images/</td><td>240.0</td><td>23.407</td><td>11.9</td><td>780.0</td><td>21.0</td><td>25.3</td><td>1.106</td><td>RG715</td><td>HoloAmAg</td></tr>\n",
       "<tr><td>5</td><td>148</td><td>1.081</td><td>2017-06-01T08:01:38.902</td><td>../OverScanRemove/trim_images/</td><td>120.0</td><td>22.351</td><td>12.2</td><td>780.0</td><td>21.0</td><td>24.6</td><td>1.321</td><td>RG715</td><td>Ron400</td></tr>\n",
       "<tr><td>6</td><td>149</td><td>1.076</td><td>2017-06-01T08:04:31.500</td><td>../OverScanRemove/trim_images/</td><td>120.0</td><td>21.727</td><td>12.2</td><td>780.0</td><td>20.0</td><td>20.6</td><td>1.321</td><td>RG715</td><td>Thor300</td></tr>\n",
       "<tr><td>7</td><td>150</td><td>1.072</td><td>2017-06-01T08:07:24.001</td><td>../OverScanRemove/trim_images/</td><td>120.0</td><td>21.105</td><td>11.9</td><td>780.0</td><td>21.0</td><td>24.4</td><td>1.249</td><td>RG715</td><td>HoloPhP</td></tr>\n",
       "<tr><td>8</td><td>151</td><td>1.067</td><td>2017-06-01T08:10:16.507</td><td>../OverScanRemove/trim_images/</td><td>240.0</td><td>20.482</td><td>11.8</td><td>780.0</td><td>21.0</td><td>19.9</td><td>1.17</td><td>RG715</td><td>HoloPhAg</td></tr>\n",
       "<tr><td>9</td><td>152</td><td>1.06</td><td>2017-06-01T08:15:09.000</td><td>../OverScanRemove/trim_images/</td><td>240.0</td><td>19.427</td><td>11.6</td><td>780.0</td><td>21.0</td><td>20.4</td><td>1.161</td><td>RG715</td><td>HoloAmAg</td></tr>\n",
       "<tr><td>10</td><td>153</td><td>1.054</td><td>2017-06-01T08:20:01.497</td><td>../OverScanRemove/trim_images/</td><td>120.0</td><td>18.372</td><td>11.3</td><td>780.0</td><td>21.0</td><td>18.8</td><td>1.139</td><td>RG715</td><td>Ron400</td></tr>\n",
       "<tr><td>11</td><td>154</td><td>1.05</td><td>2017-06-01T08:22:53.807</td><td>../OverScanRemove/trim_images/</td><td>120.0</td><td>17.75</td><td>11.1</td><td>780.0</td><td>22.0</td><td>20.6</td><td>1.101</td><td>RG715</td><td>Thor300</td></tr>\n",
       "<tr><td>12</td><td>155</td><td>1.046</td><td>2017-06-01T08:25:46.303</td><td>../OverScanRemove/trim_images/</td><td>120.0</td><td>17.13</td><td>11.3</td><td>780.0</td><td>21.0</td><td>20.4</td><td>0.994</td><td>RG715</td><td>HoloPhP</td></tr>\n",
       "<tr><td>13</td><td>156</td><td>1.043</td><td>2017-06-01T08:28:38.705</td><td>../OverScanRemove/trim_images/</td><td>240.0</td><td>16.509</td><td>12.0</td><td>780.0</td><td>21.0</td><td>22.6</td><td>0.948</td><td>RG715</td><td>HoloPhAg</td></tr>\n",
       "<tr><td>14</td><td>157</td><td>1.037</td><td>2017-06-01T08:33:31.200</td><td>../OverScanRemove/trim_images/</td><td>240.0</td><td>15.458</td><td>12.0</td><td>780.0</td><td>21.0</td><td>20.8</td><td>1.402</td><td>RG715</td><td>HoloAmAg</td></tr>\n",
       "<tr><td>15</td><td>158</td><td>1.032</td><td>2017-06-01T08:38:23.596</td><td>../OverScanRemove/trim_images/</td><td>120.0</td><td>14.409</td><td>12.0</td><td>780.0</td><td>20.0</td><td>17.2</td><td>1.37</td><td>RG715</td><td>Ron400</td></tr>\n",
       "<tr><td>16</td><td>159</td><td>1.03</td><td>2017-06-01T08:41:16.598</td><td>../OverScanRemove/trim_images/</td><td>120.0</td><td>13.79</td><td>11.8</td><td>780.0</td><td>21.0</td><td>24.6</td><td>1.015</td><td>RG715</td><td>Thor300</td></tr>\n",
       "<tr><td>17</td><td>160</td><td>1.027</td><td>2017-06-01T08:44:09.096</td><td>../OverScanRemove/trim_images/</td><td>120.0</td><td>13.173</td><td>11.9</td><td>779.0</td><td>20.0</td><td>22.8</td><td>0.998</td><td>RG715</td><td>HoloPhP</td></tr>\n",
       "<tr><td>18</td><td>161</td><td>1.024</td><td>2017-06-01T08:47:01.602</td><td>../OverScanRemove/trim_images/</td><td>240.0</td><td>12.558</td><td>11.8</td><td>780.0</td><td>20.0</td><td>24.0</td><td>0.902</td><td>RG715</td><td>HoloPhAg</td></tr>\n",
       "<tr><td>19</td><td>162</td><td>1.021</td><td>2017-06-01T08:51:54.095</td><td>../OverScanRemove/trim_images/</td><td>240.0</td><td>11.518</td><td>11.9</td><td>780.0</td><td>20.0</td><td>19.2</td><td>1.211</td><td>RG715</td><td>HoloAmAg</td></tr>\n",
       "<tr><td>20</td><td>163</td><td>1.017</td><td>2017-06-01T08:56:46.599</td><td>../OverScanRemove/trim_images/</td><td>120.0</td><td>10.485</td><td>11.9</td><td>780.0</td><td>20.0</td><td>19.0</td><td>1.226</td><td>RG715</td><td>Ron400</td></tr>\n",
       "<tr><td>21</td><td>164</td><td>1.015</td><td>2017-06-01T08:59:38.952</td><td>../OverScanRemove/trim_images/</td><td>120.0</td><td>9.879</td><td>11.8</td><td>780.0</td><td>20.0</td><td>21.0</td><td>1.226</td><td>RG715</td><td>Thor300</td></tr>\n",
       "<tr><td>22</td><td>165</td><td>1.013</td><td>2017-06-01T09:02:31.501</td><td>../OverScanRemove/trim_images/</td><td>120.0</td><td>9.275</td><td>12.1</td><td>780.0</td><td>20.0</td><td>19.9</td><td>1.226</td><td>RG715</td><td>HoloPhP</td></tr>\n",
       "<tr><td>23</td><td>166</td><td>1.012</td><td>2017-06-01T09:05:24.348</td><td>../OverScanRemove/trim_images/</td><td>240.0</td><td>8.675</td><td>11.9</td><td>780.0</td><td>20.0</td><td>21.7</td><td>0.987</td><td>RG715</td><td>HoloPhAg</td></tr>\n",
       "<tr><td>24</td><td>167</td><td>1.009</td><td>2017-06-01T09:10:18.353</td><td>../OverScanRemove/trim_images/</td><td>240.0</td><td>7.665</td><td>12.2</td><td>780.0</td><td>20.0</td><td>16.8</td><td>0.837</td><td>RG715</td><td>HoloAmAg</td></tr>\n",
       "<tr><td>25</td><td>168</td><td>1.007</td><td>2017-06-01T09:15:10.998</td><td>../OverScanRemove/trim_images/</td><td>120.0</td><td>6.681</td><td>12.3</td><td>780.0</td><td>20.0</td><td>14.9</td><td>0.74</td><td>RG715</td><td>Ron400</td></tr>\n",
       "<tr><td>26</td><td>169</td><td>1.006</td><td>2017-06-01T09:18:03.509</td><td>../OverScanRemove/trim_images/</td><td>120.0</td><td>6.114</td><td>12.3</td><td>780.0</td><td>20.0</td><td>14.1</td><td>0.787</td><td>RG715</td><td>Thor300</td></tr>\n",
       "<tr><td>27</td><td>170</td><td>1.005</td><td>2017-06-01T09:20:56.002</td><td>../OverScanRemove/trim_images/</td><td>120.0</td><td>5.561</td><td>12.3</td><td>780.0</td><td>20.0</td><td>17.3</td><td>0.724</td><td>RG715</td><td>HoloPhP</td></tr>\n",
       "<tr><td>28</td><td>171</td><td>1.004</td><td>2017-06-01T09:23:48.500</td><td>../OverScanRemove/trim_images/</td><td>240.0</td><td>5.026</td><td>12.2</td><td>780.0</td><td>20.0</td><td>17.0</td><td>0.831</td><td>RG715</td><td>HoloPhAg</td></tr>\n",
       "<tr><td>29</td><td>172</td><td>1.003</td><td>2017-06-01T09:28:40.999</td><td>../OverScanRemove/trim_images/</td><td>240.0</td><td>4.182</td><td>12.7</td><td>780.0</td><td>19.0</td><td>19.0</td><td>0.706</td><td>RG715</td><td>HoloAmAg</td></tr>\n",
       "<tr><td>30</td><td>173</td><td>1.002</td><td>2017-06-01T09:33:33.495</td><td>../OverScanRemove/trim_images/</td><td>120.0</td><td>3.466</td><td>12.3</td><td>780.0</td><td>19.0</td><td>15.2</td><td>0.697</td><td>RG715</td><td>Ron400</td></tr>\n",
       "<tr><td>31</td><td>174</td><td>1.002</td><td>2017-06-01T09:36:25.806</td><td>../OverScanRemove/trim_images/</td><td>120.0</td><td>3.14</td><td>12.3</td><td>780.0</td><td>19.0</td><td>15.3</td><td>0.83</td><td>RG715</td><td>Thor300</td></tr>\n",
       "<tr><td>32</td><td>175</td><td>1.001</td><td>2017-06-01T09:39:18.299</td><td>../OverScanRemove/trim_images/</td><td>120.0</td><td>2.915</td><td>12.6</td><td>780.0</td><td>19.0</td><td>14.0</td><td>0.754</td><td>RG715</td><td>HoloPhP</td></tr>\n",
       "</table><style>table.dataTable {clear: both; width: auto !important; margin: 0 !important;}\n",
       ".dataTables_info, .dataTables_length, .dataTables_filter, .dataTables_paginate{\n",
       "display: inline-block; margin-right: 1em; }\n",
       ".paginate_button { margin-right: 5px; }\n",
       "</style>\n",
       "<script>\n",
       "require.config({paths: {\n",
       "    datatables: 'https://cdn.datatables.net/1.10.12/js/jquery.dataTables.min'\n",
       "}});\n",
       "require([\"datatables\"], function(){\n",
       "    console.log(\"$('#table4679856336-893774').dataTable()\");\n",
       "    $('#table4679856336-893774').dataTable({\n",
       "        \"order\": [],\n",
       "        \"iDisplayLength\": 50,\n",
       "        \"aLengthMenu\": [[10, 25, 50, 100, 500, 1000, -1], [10, 25, 50, 100, 500, 1000, 'All']],\n",
       "        \"pagingType\": \"full_numbers\"\n",
       "    });\n",
       "});\n",
       "</script>\n"
      ],
      "text/plain": [
       "<IPython.core.display.HTML object>"
      ]
     },
     "execution_count": 35,
     "metadata": {},
     "output_type": "execute_result"
    }
   ],
   "source": [
    "thetable.show_in_notebook()"
   ]
  },
  {
   "cell_type": "markdown",
   "metadata": {
    "deletable": true,
    "editable": true
   },
   "source": [
    "## Read the logfile into a Table\n",
    "---------------------------------------"
   ]
  },
  {
   "cell_type": "code",
   "execution_count": 36,
   "metadata": {
    "collapsed": false,
    "deletable": true,
    "editable": true
   },
   "outputs": [
    {
     "name": "stdout",
     "output_type": "stream",
     "text": [
      "logbk_HD205905_May_31th_ctio31may2017.fits\n"
     ]
    }
   ],
   "source": [
    "print logfile"
   ]
  },
  {
   "cell_type": "code",
   "execution_count": 37,
   "metadata": {
    "collapsed": true,
    "deletable": true,
    "editable": true
   },
   "outputs": [],
   "source": [
    "t = Table.read(logfile)"
   ]
  },
  {
   "cell_type": "code",
   "execution_count": 38,
   "metadata": {
    "collapsed": false,
    "deletable": true,
    "editable": true
   },
   "outputs": [
    {
     "data": {
      "text/html": [
       "&lt;Table length=33&gt;\n",
       "<table id=\"table4679791632\" class=\"table-striped table-bordered table-condensed\">\n",
       "<thead><tr><th>number</th><th>airmass</th><th>date</th><th>filename</th><th>exposure</th><th>zenith</th><th>temperature</th><th>pressure</th><th>humidity</th><th>windspeed</th><th>seeing</th><th>filter1</th><th>filter2</th></tr></thead>\n",
       "<thead><tr><th>int32</th><th>float32</th><th>str50</th><th>str30</th><th>float32</th><th>float32</th><th>float32</th><th>float32</th><th>float32</th><th>float32</th><th>float32</th><th>str20</th><th>str20</th></tr></thead>\n",
       "<tr><td>143</td><td>1.116</td><td>2017-06-01T07:43:16.395</td><td>../OverScanRemove/trim_images/</td><td>120.0</td><td>26.333</td><td>11.5</td><td>780.0</td><td>22.0</td><td>21.3</td><td>1.0</td><td>RG715</td><td>Ron400</td></tr>\n",
       "<tr><td>144</td><td>1.11</td><td>2017-06-01T07:46:08.899</td><td>../OverScanRemove/trim_images/</td><td>120.0</td><td>25.709</td><td>11.1</td><td>780.0</td><td>22.0</td><td>19.2</td><td>1.071</td><td>RG715</td><td>Thor300</td></tr>\n",
       "<tr><td>145</td><td>1.104</td><td>2017-06-01T07:49:01.406</td><td>../OverScanRemove/trim_images/</td><td>120.0</td><td>25.086</td><td>11.7</td><td>780.0</td><td>21.0</td><td>22.3</td><td>1.232</td><td>RG715</td><td>HoloPhP</td></tr>\n",
       "<tr><td>146</td><td>1.098</td><td>2017-06-01T07:51:53.907</td><td>../OverScanRemove/trim_images/</td><td>240.0</td><td>24.464</td><td>11.5</td><td>780.0</td><td>21.0</td><td>22.8</td><td>1.189</td><td>RG715</td><td>HoloPhAg</td></tr>\n",
       "<tr><td>147</td><td>1.09</td><td>2017-06-01T07:56:46.406</td><td>../OverScanRemove/trim_images/</td><td>240.0</td><td>23.407</td><td>11.9</td><td>780.0</td><td>21.0</td><td>25.3</td><td>1.106</td><td>RG715</td><td>HoloAmAg</td></tr>\n",
       "<tr><td>148</td><td>1.081</td><td>2017-06-01T08:01:38.902</td><td>../OverScanRemove/trim_images/</td><td>120.0</td><td>22.351</td><td>12.2</td><td>780.0</td><td>21.0</td><td>24.6</td><td>1.321</td><td>RG715</td><td>Ron400</td></tr>\n",
       "<tr><td>149</td><td>1.076</td><td>2017-06-01T08:04:31.500</td><td>../OverScanRemove/trim_images/</td><td>120.0</td><td>21.727</td><td>12.2</td><td>780.0</td><td>20.0</td><td>20.6</td><td>1.321</td><td>RG715</td><td>Thor300</td></tr>\n",
       "<tr><td>150</td><td>1.072</td><td>2017-06-01T08:07:24.001</td><td>../OverScanRemove/trim_images/</td><td>120.0</td><td>21.105</td><td>11.9</td><td>780.0</td><td>21.0</td><td>24.4</td><td>1.249</td><td>RG715</td><td>HoloPhP</td></tr>\n",
       "<tr><td>151</td><td>1.067</td><td>2017-06-01T08:10:16.507</td><td>../OverScanRemove/trim_images/</td><td>240.0</td><td>20.482</td><td>11.8</td><td>780.0</td><td>21.0</td><td>19.9</td><td>1.17</td><td>RG715</td><td>HoloPhAg</td></tr>\n",
       "<tr><td>152</td><td>1.06</td><td>2017-06-01T08:15:09.000</td><td>../OverScanRemove/trim_images/</td><td>240.0</td><td>19.427</td><td>11.6</td><td>780.0</td><td>21.0</td><td>20.4</td><td>1.161</td><td>RG715</td><td>HoloAmAg</td></tr>\n",
       "<tr><td>...</td><td>...</td><td>...</td><td>...</td><td>...</td><td>...</td><td>...</td><td>...</td><td>...</td><td>...</td><td>...</td><td>...</td><td>...</td></tr>\n",
       "<tr><td>166</td><td>1.012</td><td>2017-06-01T09:05:24.348</td><td>../OverScanRemove/trim_images/</td><td>240.0</td><td>8.675</td><td>11.9</td><td>780.0</td><td>20.0</td><td>21.7</td><td>0.987</td><td>RG715</td><td>HoloPhAg</td></tr>\n",
       "<tr><td>167</td><td>1.009</td><td>2017-06-01T09:10:18.353</td><td>../OverScanRemove/trim_images/</td><td>240.0</td><td>7.665</td><td>12.2</td><td>780.0</td><td>20.0</td><td>16.8</td><td>0.837</td><td>RG715</td><td>HoloAmAg</td></tr>\n",
       "<tr><td>168</td><td>1.007</td><td>2017-06-01T09:15:10.998</td><td>../OverScanRemove/trim_images/</td><td>120.0</td><td>6.681</td><td>12.3</td><td>780.0</td><td>20.0</td><td>14.9</td><td>0.74</td><td>RG715</td><td>Ron400</td></tr>\n",
       "<tr><td>169</td><td>1.006</td><td>2017-06-01T09:18:03.509</td><td>../OverScanRemove/trim_images/</td><td>120.0</td><td>6.114</td><td>12.3</td><td>780.0</td><td>20.0</td><td>14.1</td><td>0.787</td><td>RG715</td><td>Thor300</td></tr>\n",
       "<tr><td>170</td><td>1.005</td><td>2017-06-01T09:20:56.002</td><td>../OverScanRemove/trim_images/</td><td>120.0</td><td>5.561</td><td>12.3</td><td>780.0</td><td>20.0</td><td>17.3</td><td>0.724</td><td>RG715</td><td>HoloPhP</td></tr>\n",
       "<tr><td>171</td><td>1.004</td><td>2017-06-01T09:23:48.500</td><td>../OverScanRemove/trim_images/</td><td>240.0</td><td>5.026</td><td>12.2</td><td>780.0</td><td>20.0</td><td>17.0</td><td>0.831</td><td>RG715</td><td>HoloPhAg</td></tr>\n",
       "<tr><td>172</td><td>1.003</td><td>2017-06-01T09:28:40.999</td><td>../OverScanRemove/trim_images/</td><td>240.0</td><td>4.182</td><td>12.7</td><td>780.0</td><td>19.0</td><td>19.0</td><td>0.706</td><td>RG715</td><td>HoloAmAg</td></tr>\n",
       "<tr><td>173</td><td>1.002</td><td>2017-06-01T09:33:33.495</td><td>../OverScanRemove/trim_images/</td><td>120.0</td><td>3.466</td><td>12.3</td><td>780.0</td><td>19.0</td><td>15.2</td><td>0.697</td><td>RG715</td><td>Ron400</td></tr>\n",
       "<tr><td>174</td><td>1.002</td><td>2017-06-01T09:36:25.806</td><td>../OverScanRemove/trim_images/</td><td>120.0</td><td>3.14</td><td>12.3</td><td>780.0</td><td>19.0</td><td>15.3</td><td>0.83</td><td>RG715</td><td>Thor300</td></tr>\n",
       "<tr><td>175</td><td>1.001</td><td>2017-06-01T09:39:18.299</td><td>../OverScanRemove/trim_images/</td><td>120.0</td><td>2.915</td><td>12.6</td><td>780.0</td><td>19.0</td><td>14.0</td><td>0.754</td><td>RG715</td><td>HoloPhP</td></tr>\n",
       "</table>"
      ],
      "text/plain": [
       "<Table length=33>\n",
       "number airmass           date          ...  seeing filter1 filter2 \n",
       "int32  float32          str50          ... float32  str20   str20  \n",
       "------ ------- ----------------------- ... ------- ------- --------\n",
       "   143   1.116 2017-06-01T07:43:16.395 ...     1.0   RG715   Ron400\n",
       "   144    1.11 2017-06-01T07:46:08.899 ...   1.071   RG715  Thor300\n",
       "   145   1.104 2017-06-01T07:49:01.406 ...   1.232   RG715  HoloPhP\n",
       "   146   1.098 2017-06-01T07:51:53.907 ...   1.189   RG715 HoloPhAg\n",
       "   147    1.09 2017-06-01T07:56:46.406 ...   1.106   RG715 HoloAmAg\n",
       "   148   1.081 2017-06-01T08:01:38.902 ...   1.321   RG715   Ron400\n",
       "   149   1.076 2017-06-01T08:04:31.500 ...   1.321   RG715  Thor300\n",
       "   150   1.072 2017-06-01T08:07:24.001 ...   1.249   RG715  HoloPhP\n",
       "   151   1.067 2017-06-01T08:10:16.507 ...    1.17   RG715 HoloPhAg\n",
       "   152    1.06 2017-06-01T08:15:09.000 ...   1.161   RG715 HoloAmAg\n",
       "   ...     ...                     ... ...     ...     ...      ...\n",
       "   166   1.012 2017-06-01T09:05:24.348 ...   0.987   RG715 HoloPhAg\n",
       "   167   1.009 2017-06-01T09:10:18.353 ...   0.837   RG715 HoloAmAg\n",
       "   168   1.007 2017-06-01T09:15:10.998 ...    0.74   RG715   Ron400\n",
       "   169   1.006 2017-06-01T09:18:03.509 ...   0.787   RG715  Thor300\n",
       "   170   1.005 2017-06-01T09:20:56.002 ...   0.724   RG715  HoloPhP\n",
       "   171   1.004 2017-06-01T09:23:48.500 ...   0.831   RG715 HoloPhAg\n",
       "   172   1.003 2017-06-01T09:28:40.999 ...   0.706   RG715 HoloAmAg\n",
       "   173   1.002 2017-06-01T09:33:33.495 ...   0.697   RG715   Ron400\n",
       "   174   1.002 2017-06-01T09:36:25.806 ...    0.83   RG715  Thor300\n",
       "   175   1.001 2017-06-01T09:39:18.299 ...   0.754   RG715  HoloPhP"
      ]
     },
     "execution_count": 38,
     "metadata": {},
     "output_type": "execute_result"
    }
   ],
   "source": [
    "t"
   ]
  },
  {
   "cell_type": "markdown",
   "metadata": {
    "deletable": true,
    "editable": true
   },
   "source": [
    "## Convert into pandas to plot\n",
    "---------------------------------------"
   ]
  },
  {
   "cell_type": "code",
   "execution_count": 39,
   "metadata": {
    "collapsed": true,
    "deletable": true,
    "editable": true
   },
   "outputs": [],
   "source": [
    "df = t.to_pandas()"
   ]
  },
  {
   "cell_type": "code",
   "execution_count": 40,
   "metadata": {
    "collapsed": false,
    "deletable": true,
    "editable": true
   },
   "outputs": [
    {
     "data": {
      "text/plain": [
       "<matplotlib.axes._subplots.AxesSubplot at 0x1171d3e90>"
      ]
     },
     "execution_count": 40,
     "metadata": {},
     "output_type": "execute_result"
    },
    {
     "data": {
      "image/png": "[encoded data removed]",
      "text/plain": [
       "<matplotlib.figure.Figure at 0x1171d3450>"
      ]
     },
     "metadata": {},
     "output_type": "display_data"
    }
   ],
   "source": [
    "df.plot('date','airmass',figsize=(20,6),rot=45,grid=True,title='airmass vs date',color='b',marker='o',linewidth=2)\n"
   ]
  },
  {
   "cell_type": "code",
   "execution_count": 41,
   "metadata": {
    "collapsed": false,
    "deletable": true,
    "editable": true
   },
   "outputs": [
    {
     "data": {
      "text/plain": [
       "<matplotlib.axes._subplots.AxesSubplot at 0x1172c5890>"
      ]
     },
     "execution_count": 41,
     "metadata": {},
     "output_type": "execute_result"
    },
    {
     "data": {
      "image/png": "[encoded data removed]",
      "text/plain": [
       "<matplotlib.figure.Figure at 0x116effd90>"
      ]
     },
     "metadata": {},
     "output_type": "display_data"
    }
   ],
   "source": [
    "df.plot('date','exposure',figsize=(20,6),rot=45,grid=True,title='exposure vs date',color='b',marker='o',linewidth=2)"
   ]
  },
  {
   "cell_type": "markdown",
   "metadata": {
    "collapsed": true,
    "deletable": true,
    "editable": true
   },
   "source": [
    "### Save pandas file\n"
   ]
  },
  {
   "cell_type": "code",
   "execution_count": 42,
   "metadata": {
    "collapsed": true,
    "deletable": true,
    "editable": true
   },
   "outputs": [],
   "source": [
    "df.to_csv(pandaslogfile)"
   ]
  },
  {
   "cell_type": "code",
   "execution_count": null,
   "metadata": {
    "collapsed": true,
    "deletable": true,
    "editable": true
   },
   "outputs": [],
   "source": []
  }
 ],
 "metadata": {
  "anaconda-cloud": {},
  "kernelspec": {
   "display_name": "Python [default]",
   "language": "python",
   "name": "python2"
  },
  "language_info": {
   "codemirror_mode": {
    "name": "ipython",
    "version": 2
   },
   "file_extension": ".py",
   "mimetype": "text/x-python",
   "name": "python",
   "nbconvert_exporter": "python",
   "pygments_lexer": "ipython2",
   "version": "2.7.12"
  },
  "toc": {
   "colors": {
    "hover_highlight": "#DAA520",
    "running_highlight": "#FF0000",
    "selected_highlight": "#FFD700"
   },
   "moveMenuLeft": true,
   "nav_menu": {
    "height": "161px",
    "width": "252px"
   },
   "navigate_menu": true,
   "number_sections": true,
   "sideBar": true,
   "threshold": 4,
   "toc_cell": false,
   "toc_section_display": "block",
   "toc_window_display": false,
   "widenNotebook": false
  }
 },
 "nbformat": 4,
 "nbformat_minor": 0
}
