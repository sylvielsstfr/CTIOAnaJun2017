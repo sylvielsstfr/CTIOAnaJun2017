{
 "cells": [
  {
   "cell_type": "markdown",
   "metadata": {
    "deletable": true,
    "editable": true
   },
   "source": [
    "# View IR images of a film\n",
    "=======================================\n",
    "\n",
    "- author : Sylvie Dagoret-Campagne\n",
    "- affiliation : LAL/IN2P3/CNRS\n",
    "- date   : May 31th 2017"
   ]
  },
  {
   "cell_type": "code",
   "execution_count": 54,
   "metadata": {
    "collapsed": false,
    "deletable": true,
    "editable": true
   },
   "outputs": [
    {
     "data": {
      "application/javascript": [
       "var kernel = IPython.notebook.kernel;\n",
       "var thename = window.document.getElementById(\"notebook_name\").innerHTML;\n",
       "var command = \"theNotebook = \" + \"'\"+thename+\"'\";\n",
       "kernel.execute(command);"
      ],
      "text/plain": [
       "<IPython.core.display.Javascript object>"
      ]
     },
     "metadata": {},
     "output_type": "display_data"
    }
   ],
   "source": [
    "%%javascript\n",
    "var kernel = IPython.notebook.kernel;\n",
    "var thename = window.document.getElementById(\"notebook_name\").innerHTML;\n",
    "var command = \"theNotebook = \" + \"'\"+thename+\"'\";\n",
    "kernel.execute(command);"
   ]
  },
  {
   "cell_type": "code",
   "execution_count": 55,
   "metadata": {
    "collapsed": false,
    "deletable": true,
    "editable": true
   },
   "outputs": [
    {
     "name": "stdout",
     "output_type": "stream",
     "text": [
      "TimeSeqIRImages\n"
     ]
    }
   ],
   "source": [
    "print theNotebook"
   ]
  },
  {
   "cell_type": "code",
   "execution_count": 56,
   "metadata": {
    "collapsed": true,
    "deletable": true,
    "editable": true
   },
   "outputs": [],
   "source": [
    "%matplotlib inline\n",
    "import matplotlib.pyplot as plt\n",
    "import numpy as np\n",
    "import math as m\n",
    "\n",
    "from astropy.modeling import models\n",
    "from astropy import units as u\n",
    "from astropy import nddata\n",
    "from astropy.io import fits\n",
    "import re\n",
    "import os\n",
    "from matplotlib.colors import LogNorm"
   ]
  },
  {
   "cell_type": "code",
   "execution_count": 57,
   "metadata": {
    "collapsed": true,
    "deletable": true,
    "editable": true
   },
   "outputs": [],
   "source": [
    "from matplotlib.backends.backend_pdf import PdfPages"
   ]
  },
  {
   "cell_type": "code",
   "execution_count": 58,
   "metadata": {
    "collapsed": true,
    "deletable": true,
    "editable": true
   },
   "outputs": [],
   "source": [
    "from scipy import stats  \n",
    "from scipy import ndimage\n",
    "from datetime import datetime, timedelta\n",
    "from mpl_toolkits.mplot3d import Axes3D\n",
    "import scipy.signal"
   ]
  },
  {
   "cell_type": "code",
   "execution_count": 59,
   "metadata": {
    "collapsed": true,
    "deletable": true,
    "editable": true
   },
   "outputs": [],
   "source": [
    "import matplotlib\n",
    "matplotlib.rc('xtick', labelsize=20) \n",
    "matplotlib.rc('ytick', labelsize=20) "
   ]
  },
  {
   "cell_type": "code",
   "execution_count": 60,
   "metadata": {
    "collapsed": true,
    "deletable": true,
    "editable": true
   },
   "outputs": [],
   "source": [
    "# to enlarge the sizes\n",
    "params = {'legend.fontsize': 'x-large',\n",
    "          'figure.figsize': (8, 8),\n",
    "         'axes.labelsize': 'x-large',\n",
    "         'axes.titlesize':'x-large',\n",
    "         'xtick.labelsize':'x-large',\n",
    "         'ytick.labelsize':'x-large'}\n",
    "plt.rcParams.update(params)"
   ]
  },
  {
   "cell_type": "code",
   "execution_count": 61,
   "metadata": {
    "collapsed": true,
    "deletable": true,
    "editable": true
   },
   "outputs": [],
   "source": [
    "############################################################################\n",
    "def ensure_dir(f):\n",
    "    d = os.path.dirname(f)\n",
    "    if not os.path.exists(f):\n",
    "        os.makedirs(f)\n",
    "#########################################################################"
   ]
  },
  {
   "cell_type": "code",
   "execution_count": 62,
   "metadata": {
    "collapsed": true,
    "deletable": true,
    "editable": true
   },
   "outputs": [],
   "source": [
    "from PIL import Image"
   ]
  },
  {
   "cell_type": "code",
   "execution_count": 63,
   "metadata": {
    "collapsed": true,
    "deletable": true,
    "editable": true
   },
   "outputs": [],
   "source": [
    "movies=['film_2h00.mov','film_2h25.mov','film_3h36.mov']"
   ]
  },
  {
   "cell_type": "code",
   "execution_count": 64,
   "metadata": {
    "collapsed": false,
    "deletable": true,
    "editable": true
   },
   "outputs": [],
   "source": [
    "SelectTagRe='^image([0-9]+).tiff$' # regular expression to select the file\n",
    "SearchTagRe='^image[0-9]+.tiff$'\n",
    "MIN_IMGNUMBER=0\n",
    "MAX_IMGNUMBER=9999\n",
    "NBIMGPERLROW=4\n",
    "SEL=0"
   ]
  },
  {
   "cell_type": "code",
   "execution_count": 65,
   "metadata": {
    "collapsed": true,
    "deletable": true,
    "editable": true
   },
   "outputs": [],
   "source": [
    "NBMOVIES=len(movies)"
   ]
  },
  {
   "cell_type": "code",
   "execution_count": 66,
   "metadata": {
    "collapsed": true,
    "deletable": true,
    "editable": true
   },
   "outputs": [],
   "source": [
    "input_dirs = [ mv.split('.')[0]  for mv in movies]"
   ]
  },
  {
   "cell_type": "code",
   "execution_count": 67,
   "metadata": {
    "collapsed": false,
    "deletable": true,
    "editable": true
   },
   "outputs": [],
   "source": [
    "dir_top_images=\"images_notebooks/\"+theNotebook ### Top directory to save images\n",
    "ensure_dir(dir_top_images) # create that directory"
   ]
  },
  {
   "cell_type": "markdown",
   "metadata": {
    "collapsed": false,
    "deletable": true,
    "editable": true
   },
   "source": [
    "## Function definition"
   ]
  },
  {
   "cell_type": "code",
   "execution_count": 72,
   "metadata": {
    "collapsed": true,
    "deletable": true,
    "editable": true
   },
   "outputs": [],
   "source": [
    "def MakeFileList(dir_img):\n",
    "    \"\"\"\n",
    "    MakeFileList : Make The List of files to open\n",
    "    =============\n",
    "    \n",
    "    - we select the files which are of interest.\n",
    "    - In particular select the number range\n",
    "    \n",
    "    \"\"\"\n",
    "    \n",
    "    indexes_files= [] # global list\n",
    "    filelist_tiffimages= []  # global list\n",
    "    \n",
    "    count=0\n",
    "    \n",
    "    listfiles=os.listdir(dir_img) \n",
    "    for filename in listfiles:\n",
    "        if re.search(SearchTagRe,filename):  #example of filename filter\n",
    "            str_index=re.findall(SelectTagRe,filename)\n",
    "            count=count+1\n",
    "            index=int(str_index[0])\n",
    "            if index >= MIN_IMGNUMBER and index <= MAX_IMGNUMBER: \n",
    "                indexes_files.append(index)         \n",
    "                shortfilename=dir_img+'/'+filename\n",
    "                filelist_tiffimages.append(shortfilename)\n",
    "                    \n",
    "    return indexes_files, filelist_tiffimages "
   ]
  },
  {
   "cell_type": "code",
   "execution_count": 83,
   "metadata": {
    "collapsed": true
   },
   "outputs": [],
   "source": [
    "def GetListOfFiles(dir_img):\n",
    "    \"\"\"\n",
    "    \n",
    "    Get ordered files \n",
    "    \"\"\"\n",
    "    indexes_files, filelist_tiffimages  = MakeFileList(inputdir)   # Make the list\n",
    "    \n",
    "    indexes_files=np.array(indexes_files)\n",
    "    filelist_tiffimages=np.array(filelist_tiffimages)\n",
    "    \n",
    "    sorted_indexes=np.argsort(indexes_files) # sort the file indexes\n",
    "    sorted_numbers=indexes_files[sorted_indexes]\n",
    "    sorted_files=filelist_tiffimages[sorted_indexes]\n",
    "    \n",
    "    sorted_filenames=[]\n",
    "    for file in sorted_files:\n",
    "        #fullfilename=os.path.join(inputdir,file)\n",
    "        fullfilename=file\n",
    "        sorted_filenames.append(fullfilename)\n",
    "        \n",
    "    sorted_filenames=np.copy(sorted_files)\n",
    "    \n",
    "    return sorted_filenames"
   ]
  },
  {
   "cell_type": "code",
   "execution_count": 84,
   "metadata": {
    "collapsed": true
   },
   "outputs": [],
   "source": [
    "#sorted_filenames=GetListOfFiles(inputdir)"
   ]
  },
  {
   "cell_type": "markdown",
   "metadata": {
    "collapsed": false,
    "deletable": true,
    "editable": true
   },
   "source": [
    "## Extract Mean and RMS"
   ]
  },
  {
   "cell_type": "code",
   "execution_count": 85,
   "metadata": {
    "collapsed": false,
    "deletable": true,
    "editable": true
   },
   "outputs": [],
   "source": [
    "def GetMeanAndRMSFromHistos(sorted_filenames):\n",
    "    \"\"\"\n",
    "    GetMeanAndRMSFromHistos\n",
    "    ==============\n",
    "    \"\"\"\n",
    "    #global all_images\n",
    "    #global all_titles\n",
    "    #global object_name\n",
    "\n",
    "    all_mean = []\n",
    "    all_rms = []\n",
    "    \n",
    "    NBIMAGES=len(sorted_filenames)\n",
    "    \n",
    "    for index in np.arange(0,NBIMAGES):\n",
    "        \n",
    "        img = Image.open(sorted_filenames[index])\n",
    "        iar_shp = np.array(img).shape\n",
    "        iarr = np.array(img.getdata()).reshape(iar_shp[0], iar_shp[1])\n",
    "        iarr_flat=iarr.flatten()\n",
    "        iarr_cut=iarr_flat[np.where(iarr_flat>=1)]\n",
    "        stat_mean=iarr_cut.mean()\n",
    "        stat_rms=iarr_cut.std()\n",
    "        \n",
    "        all_mean.append(stat_mean)\n",
    "        all_rms.append(stat_rms)\n",
    "        \n",
    "        \n",
    "    return  all_mean, all_rms"
   ]
  },
  {
   "cell_type": "code",
   "execution_count": null,
   "metadata": {
    "collapsed": true,
    "deletable": true,
    "editable": true
   },
   "outputs": [],
   "source": [
    "#figfilename='cloudhisto2_'+object_name+'.pdf'"
   ]
  },
  {
   "cell_type": "markdown",
   "metadata": {
    "collapsed": true,
    "deletable": true,
    "editable": true
   },
   "source": [
    "Compute mean and RMS"
   ]
  },
  {
   "cell_type": "code",
   "execution_count": 86,
   "metadata": {
    "collapsed": false,
    "deletable": true,
    "editable": true
   },
   "outputs": [],
   "source": [
    "allh_mean = [] \n",
    "allh_rms = [] \n",
    "\n",
    "\n",
    "for inputdir in input_dirs:\n",
    "    sorted_filenames=GetListOfFiles(inputdir)\n",
    "    all_mean, all_rms= GetMeanAndRMSFromHistos(sorted_filenames)\n",
    "    \n",
    "    allh_mean.append(all_mean)\n",
    "    allh_rms.append(all_rms)"
   ]
  },
  {
   "cell_type": "markdown",
   "metadata": {
    "collapsed": true,
    "deletable": true,
    "editable": true
   },
   "source": [
    "\n",
    "## Plot"
   ]
  },
  {
   "cell_type": "code",
   "execution_count": 89,
   "metadata": {
    "collapsed": false,
    "deletable": true,
    "editable": true
   },
   "outputs": [
    {
     "data": {
      "image/png": "[encoded data removed]",
      "text/plain": [
       "<matplotlib.figure.Figure at 0x12278b450>"
      ]
     },
     "metadata": {},
     "output_type": "display_data"
    }
   ],
   "source": [
    "plt.figure(figsize=(25,8))\n",
    "\n",
    "for index in range(len(allh_mean)):\n",
    "    mean=allh_mean[index]\n",
    "    rms=allh_rms[index] \n",
    "\n",
    "    plt.errorbar(range(1,len(mean)+1),mean,yerr=rms, fmt='o')\n",
    "\n",
    "plt.ylim(0,200)\n",
    "plt.xlabel('image number')\n",
    "plt.ylabel('IR Camera Intensity')\n",
    "plt.grid()\n",
    "#allh_rms"
   ]
  },
  {
   "cell_type": "code",
   "execution_count": null,
   "metadata": {
    "collapsed": false
   },
   "outputs": [],
   "source": [
    "plt.plot(allh_rms)"
   ]
  },
  {
   "cell_type": "code",
   "execution_count": null,
   "metadata": {
    "collapsed": true
   },
   "outputs": [],
   "source": []
  }
 ],
 "metadata": {
  "anaconda-cloud": {},
  "kernelspec": {
   "display_name": "Python [conda env:pyastrophys]",
   "language": "python",
   "name": "conda-env-pyastrophys-py"
  },
  "language_info": {
   "codemirror_mode": {
    "name": "ipython",
    "version": 2
   },
   "file_extension": ".py",
   "mimetype": "text/x-python",
   "name": "python",
   "nbconvert_exporter": "python",
   "pygments_lexer": "ipython2",
   "version": "2.7.12"
  },
  "toc": {
   "colors": {
    "hover_highlight": "#DAA520",
    "running_highlight": "#FF0000",
    "selected_highlight": "#FFD700"
   },
   "moveMenuLeft": true,
   "nav_menu": {
    "height": "12px",
    "width": "252px"
   },
   "navigate_menu": true,
   "number_sections": true,
   "sideBar": true,
   "threshold": 4,
   "toc_cell": false,
   "toc_section_display": "block",
   "toc_window_display": false,
   "widenNotebook": false
  }
 },
 "nbformat": 4,
 "nbformat_minor": 2
}
