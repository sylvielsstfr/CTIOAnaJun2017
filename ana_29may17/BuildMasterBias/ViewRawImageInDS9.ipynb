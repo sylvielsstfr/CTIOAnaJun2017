{
 "cells": [
  {
   "cell_type": "markdown",
   "metadata": {
    "deletable": true,
    "editable": true
   },
   "source": [
    "# Analysis of first image of CTIO June data 2017\n",
    "==============================================================="
   ]
  },
  {
   "cell_type": "markdown",
   "metadata": {
    "deletable": true,
    "editable": true
   },
   "source": [
    "\n",
    "- Author : Sylvie Dagoret-Campagne\n",
    "- date:  May 29th 2017\n",
    "\n",
    "Select a fits image and open ds9 with that image\n",
    "\n"
   ]
  },
  {
   "cell_type": "markdown",
   "metadata": {
    "deletable": true,
    "editable": true
   },
   "source": [
    "### Defines packages\n",
    "======================"
   ]
  },
  {
   "cell_type": "code",
   "execution_count": 22,
   "metadata": {
    "collapsed": false,
    "deletable": true,
    "editable": true
   },
   "outputs": [],
   "source": [
    "%matplotlib inline\n",
    "import matplotlib.pyplot as plt\n",
    "import numpy as np\n",
    "import pyds9\n",
    "import os\n",
    "import re\n",
    "from datetime import datetime, timedelta"
   ]
  },
  {
   "cell_type": "code",
   "execution_count": 23,
   "metadata": {
    "collapsed": false,
    "deletable": true,
    "editable": true
   },
   "outputs": [],
   "source": [
    "# to enlarge the sizes\n",
    "params = {'legend.fontsize': 'x-large',\n",
    "          'figure.figsize': (10, 10),   #defines the default image size\n",
    "         'axes.labelsize': 'x-large',\n",
    "         'axes.titlesize':'x-large',\n",
    "         'xtick.labelsize':'x-large',\n",
    "         'ytick.labelsize':'x-large'}\n",
    "plt.rcParams.update(params)"
   ]
  },
  {
   "cell_type": "markdown",
   "metadata": {
    "deletable": true,
    "editable": true
   },
   "source": [
    "### defines the input file\n",
    "========================="
   ]
  },
  {
   "cell_type": "code",
   "execution_count": 24,
   "metadata": {
    "collapsed": true,
    "deletable": true,
    "editable": true
   },
   "outputs": [],
   "source": [
    "rootpath_rawimage=\"../OverScanRemove/trim_images\"\n",
    "MIN_IMGNUMBER=25\n",
    "MAX_IMGNUMBER=45\n",
    "object_name='Bias May 29th 2017'\n",
    "SelectTagRe='^trim_20170529_([0-9]+).fits$' # regular expression to select the file\n",
    "SearchTagRe='^trim_20170529_[0-9]+.fits$'\n",
    "NBIMGPERLROW=4"
   ]
  },
  {
   "cell_type": "code",
   "execution_count": 25,
   "metadata": {
    "collapsed": true
   },
   "outputs": [],
   "source": [
    "#if '.DS_Store' in dirlist_all:\n",
    "#    dirlist_all.remove('.DS_Store')\n",
    "dirlist=[]\n",
    "dirlist.append(rootpath_rawimage)\n",
    "dirlist_all=np.array(dirlist)"
   ]
  },
  {
   "cell_type": "code",
   "execution_count": 26,
   "metadata": {
    "collapsed": true
   },
   "outputs": [],
   "source": [
    "indexes_files= [] # global list\n",
    "filelist_fitsimages= []  # global list"
   ]
  },
  {
   "cell_type": "code",
   "execution_count": 27,
   "metadata": {
    "collapsed": true
   },
   "outputs": [],
   "source": [
    "def MakeFileList():\n",
    "    \"\"\"\n",
    "    MakeFileList : Make The List of files to open\n",
    "    =============\n",
    "    \n",
    "    - we select the files which are of interest.\n",
    "    - In particular select the number range\n",
    "    \n",
    "    \"\"\"\n",
    "    count=0\n",
    "    \n",
    "    for dir in dirlist_all: # loop on directories, one per image   (if necessary)    \n",
    "            dir_leaf= dir # build the name of leaf directory\n",
    "            listfiles=os.listdir(dir_leaf) \n",
    "            for filename in listfiles:\n",
    "                if re.search(SearchTagRe,filename):  #example of filename filter\n",
    "                    str_index=re.findall(SelectTagRe,filename)\n",
    "                    count=count+1\n",
    "                    index=int(str_index[0])\n",
    "                    if index >= MIN_IMGNUMBER and index <= MAX_IMGNUMBER: \n",
    "                        indexes_files.append(index)         \n",
    "                        shortfilename=dir_leaf+'/'+filename\n",
    "                        filelist_fitsimages.append(shortfilename)\n",
    "                    \n",
    "    return"
   ]
  },
  {
   "cell_type": "code",
   "execution_count": 28,
   "metadata": {
    "collapsed": false
   },
   "outputs": [],
   "source": [
    "MakeFileList()"
   ]
  },
  {
   "cell_type": "code",
   "execution_count": 29,
   "metadata": {
    "collapsed": true
   },
   "outputs": [],
   "source": [
    "indexes_files=np.array(indexes_files)\n",
    "filelist_fitsimages=np.array(filelist_fitsimages)"
   ]
  },
  {
   "cell_type": "code",
   "execution_count": 30,
   "metadata": {
    "collapsed": false
   },
   "outputs": [
    {
     "data": {
      "text/plain": [
       "array(['../OverScanRemove/trim_images/trim_20170529_026.fits',\n",
       "       '../OverScanRemove/trim_images/trim_20170529_027.fits',\n",
       "       '../OverScanRemove/trim_images/trim_20170529_028.fits',\n",
       "       '../OverScanRemove/trim_images/trim_20170529_030.fits',\n",
       "       '../OverScanRemove/trim_images/trim_20170529_031.fits',\n",
       "       '../OverScanRemove/trim_images/trim_20170529_032.fits',\n",
       "       '../OverScanRemove/trim_images/trim_20170529_033.fits',\n",
       "       '../OverScanRemove/trim_images/trim_20170529_034.fits',\n",
       "       '../OverScanRemove/trim_images/trim_20170529_035.fits',\n",
       "       '../OverScanRemove/trim_images/trim_20170529_036.fits',\n",
       "       '../OverScanRemove/trim_images/trim_20170529_037.fits',\n",
       "       '../OverScanRemove/trim_images/trim_20170529_038.fits',\n",
       "       '../OverScanRemove/trim_images/trim_20170529_043.fits'], \n",
       "      dtype='|S52')"
      ]
     },
     "execution_count": 30,
     "metadata": {},
     "output_type": "execute_result"
    }
   ],
   "source": [
    "filelist_fitsimages"
   ]
  },
  {
   "cell_type": "code",
   "execution_count": 31,
   "metadata": {
    "collapsed": true
   },
   "outputs": [],
   "source": [
    "sorted_indexes=np.argsort(indexes_files) # sort the file indexes"
   ]
  },
  {
   "cell_type": "code",
   "execution_count": 32,
   "metadata": {
    "collapsed": true
   },
   "outputs": [],
   "source": [
    "sorted_files=filelist_fitsimages[sorted_indexes]"
   ]
  },
  {
   "cell_type": "code",
   "execution_count": 33,
   "metadata": {
    "collapsed": true
   },
   "outputs": [],
   "source": [
    "sorted_numbers=indexes_files[sorted_indexes]"
   ]
  },
  {
   "cell_type": "code",
   "execution_count": 34,
   "metadata": {
    "collapsed": false
   },
   "outputs": [
    {
     "data": {
      "text/plain": [
       "array(['../OverScanRemove/trim_images/trim_20170529_026.fits',\n",
       "       '../OverScanRemove/trim_images/trim_20170529_027.fits',\n",
       "       '../OverScanRemove/trim_images/trim_20170529_028.fits',\n",
       "       '../OverScanRemove/trim_images/trim_20170529_030.fits',\n",
       "       '../OverScanRemove/trim_images/trim_20170529_031.fits',\n",
       "       '../OverScanRemove/trim_images/trim_20170529_032.fits',\n",
       "       '../OverScanRemove/trim_images/trim_20170529_033.fits',\n",
       "       '../OverScanRemove/trim_images/trim_20170529_034.fits',\n",
       "       '../OverScanRemove/trim_images/trim_20170529_035.fits',\n",
       "       '../OverScanRemove/trim_images/trim_20170529_036.fits',\n",
       "       '../OverScanRemove/trim_images/trim_20170529_037.fits',\n",
       "       '../OverScanRemove/trim_images/trim_20170529_038.fits',\n",
       "       '../OverScanRemove/trim_images/trim_20170529_043.fits'], \n",
       "      dtype='|S52')"
      ]
     },
     "execution_count": 34,
     "metadata": {},
     "output_type": "execute_result"
    }
   ],
   "source": [
    "sorted_files"
   ]
  },
  {
   "cell_type": "code",
   "execution_count": 35,
   "metadata": {
    "collapsed": true
   },
   "outputs": [],
   "source": [
    "all_fullfile=sorted_files"
   ]
  },
  {
   "cell_type": "markdown",
   "metadata": {},
   "source": [
    "## Build the string of the list of files for DS9"
   ]
  },
  {
   "cell_type": "code",
   "execution_count": 36,
   "metadata": {
    "collapsed": false,
    "deletable": true,
    "editable": true
   },
   "outputs": [],
   "source": [
    "file_str=''\n",
    "for filename in all_fullfile:\n",
    "    file_str = file_str + ' ' + filename "
   ]
  },
  {
   "cell_type": "code",
   "execution_count": 37,
   "metadata": {
    "collapsed": false,
    "deletable": true,
    "editable": true
   },
   "outputs": [
    {
     "data": {
      "text/plain": [
       "' ../OverScanRemove/trim_images/trim_20170529_026.fits ../OverScanRemove/trim_images/trim_20170529_027.fits ../OverScanRemove/trim_images/trim_20170529_028.fits ../OverScanRemove/trim_images/trim_20170529_030.fits ../OverScanRemove/trim_images/trim_20170529_031.fits ../OverScanRemove/trim_images/trim_20170529_032.fits ../OverScanRemove/trim_images/trim_20170529_033.fits ../OverScanRemove/trim_images/trim_20170529_034.fits ../OverScanRemove/trim_images/trim_20170529_035.fits ../OverScanRemove/trim_images/trim_20170529_036.fits ../OverScanRemove/trim_images/trim_20170529_037.fits ../OverScanRemove/trim_images/trim_20170529_038.fits ../OverScanRemove/trim_images/trim_20170529_043.fits'"
      ]
     },
     "execution_count": 37,
     "metadata": {},
     "output_type": "execute_result"
    }
   ],
   "source": [
    "file_str"
   ]
  },
  {
   "cell_type": "markdown",
   "metadata": {
    "deletable": true,
    "editable": true
   },
   "source": [
    "### Open input file\n",
    "==================="
   ]
  },
  {
   "cell_type": "code",
   "execution_count": 38,
   "metadata": {
    "collapsed": false,
    "deletable": true,
    "editable": true
   },
   "outputs": [
    {
     "name": "stdout",
     "output_type": "stream",
     "text": [
      "['DS9:ds9 c0a80011:64700']\n"
     ]
    }
   ],
   "source": [
    "print(pyds9.ds9_targets())"
   ]
  },
  {
   "cell_type": "code",
   "execution_count": 39,
   "metadata": {
    "collapsed": false,
    "deletable": true,
    "editable": true
   },
   "outputs": [],
   "source": [
    "d = pyds9.DS9()"
   ]
  },
  {
   "cell_type": "code",
   "execution_count": 40,
   "metadata": {
    "collapsed": false,
    "deletable": true,
    "editable": true
   },
   "outputs": [],
   "source": [
    "#for file in all_fullfile:\n",
    "#    # define the zoom\n",
    "#    ds9command='zoom 0.25'\n",
    "#    d.set(ds9command)\n",
    "    # set the scale\n",
    "#    ds9command='scale histequ zscale'\n",
    "#    d.set(ds9command)\n",
    "    # set the color\n",
    "#    ds9command='cmap rainbow'\n",
    "#    d.set(ds9command)\n",
    "#    ds9command = 'file '+ file\n",
    "#    d.set(ds9command)  # send the file to the open ds9 session\n"
   ]
  },
  {
   "cell_type": "code",
   "execution_count": 41,
   "metadata": {
    "collapsed": false,
    "deletable": true,
    "editable": true
   },
   "outputs": [
    {
     "data": {
      "text/plain": [
       "1"
      ]
     },
     "execution_count": 41,
     "metadata": {},
     "output_type": "execute_result"
    }
   ],
   "source": [
    "ds9command='zoom 0.25'\n",
    "d.set(ds9command)\n",
    "# set the scale\n",
    "ds9command='scale histequ zscale'\n",
    "d.set(ds9command)\n",
    "# set the color\n",
    "ds9command='cmap rainbow'\n",
    "d.set(ds9command)\n",
    "#\n",
    "ds9command='tile frame'\n",
    "d.set(ds9command)\n",
    "#\n",
    "ds9command =  'file' + file_str\n",
    "d.set(ds9command)  # send the file to the open ds9 session"
   ]
  },
  {
   "cell_type": "code",
   "execution_count": null,
   "metadata": {
    "collapsed": true,
    "deletable": true,
    "editable": true
   },
   "outputs": [],
   "source": []
  }
 ],
 "metadata": {
  "anaconda-cloud": {},
  "kernelspec": {
   "display_name": "Python [default]",
   "language": "python",
   "name": "python2"
  },
  "language_info": {
   "codemirror_mode": {
    "name": "ipython",
    "version": 2
   },
   "file_extension": ".py",
   "mimetype": "text/x-python",
   "name": "python",
   "nbconvert_exporter": "python",
   "pygments_lexer": "ipython2",
   "version": "2.7.12"
  },
  "toc": {
   "colors": {
    "hover_highlight": "#DAA520",
    "running_highlight": "#FF0000",
    "selected_highlight": "#FFD700"
   },
   "moveMenuLeft": true,
   "nav_menu": {
    "height": "102px",
    "width": "252px"
   },
   "navigate_menu": true,
   "number_sections": true,
   "sideBar": true,
   "threshold": 4,
   "toc_cell": false,
   "toc_section_display": "block",
   "toc_window_display": false,
   "widenNotebook": false
  }
 },
 "nbformat": 4,
 "nbformat_minor": 0
}
