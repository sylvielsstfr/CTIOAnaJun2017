{
 "cells": [
  {
   "cell_type": "markdown",
   "metadata": {
    "deletable": true,
    "editable": true
   },
   "source": [
    "# Does the overscan, subtraction and Triming of the CTIO images\n",
    "==================================================================================================\n",
    "- author : Sylvie Dagoret-Campagne\n",
    "- date   : January 18th 2017\n",
    "- update : May 30th 2017\n",
    "\n",
    "The library ***overscan_subtract_andTrim*** developped by Augustin Guyonnet is used\n",
    "to produce trim images.\n",
    "\n",
    "\n",
    "This has been updated for June 2017"
   ]
  },
  {
   "cell_type": "code",
   "execution_count": 2,
   "metadata": {
    "collapsed": true,
    "deletable": true,
    "editable": true
   },
   "outputs": [],
   "source": [
    "%matplotlib inline\n",
    "import matplotlib.pyplot as plt\n",
    "import numpy as np\n",
    "\n",
    "from astropy.modeling import models\n",
    "from astropy import units as u\n",
    "from astropy import nddata\n",
    "from astropy.io import fits\n",
    "import re\n",
    "import os"
   ]
  },
  {
   "cell_type": "code",
   "execution_count": 3,
   "metadata": {
    "collapsed": true,
    "deletable": true,
    "editable": true
   },
   "outputs": [],
   "source": [
    "# to enlarge the sizes\n",
    "params = {'legend.fontsize': 'x-large',\n",
    "          'figure.figsize': (8, 8),\n",
    "         'axes.labelsize': 'x-large',\n",
    "         'axes.titlesize':'x-large',\n",
    "         'xtick.labelsize':'x-large',\n",
    "         'ytick.labelsize':'x-large'}\n",
    "plt.rcParams.update(params)"
   ]
  },
  {
   "cell_type": "markdown",
   "metadata": {
    "deletable": true,
    "editable": true
   },
   "source": [
    "### Import Augustin Guyonnet overscan & trimming package"
   ]
  },
  {
   "cell_type": "code",
   "execution_count": 4,
   "metadata": {
    "collapsed": true,
    "deletable": true,
    "editable": true
   },
   "outputs": [],
   "source": [
    "import overscan_subtract_andTrim as ovsubtrim"
   ]
  },
  {
   "cell_type": "markdown",
   "metadata": {
    "deletable": true,
    "editable": true
   },
   "source": [
    "### Path for raw images"
   ]
  },
  {
   "cell_type": "code",
   "execution_count": 5,
   "metadata": {
    "collapsed": true,
    "deletable": true,
    "editable": true
   },
   "outputs": [],
   "source": [
    "#rootpath_rawimage='/Users/dagoret-campagnesylvie/MacOsX/LSST/MyWork/GitHub/CTIOData2017/2017_01_17/092_195'\n",
    "rootpath_rawimage='/Users/dagoret-campagnesylvie/MacOsX/LSST/MyWork/GitHub/CTIODataJune2017/data_29may17'"
   ]
  },
  {
   "cell_type": "code",
   "execution_count": 6,
   "metadata": {
    "collapsed": true,
    "deletable": true,
    "editable": true
   },
   "outputs": [],
   "source": [
    "filelist_all=os.listdir(rootpath_rawimage) "
   ]
  },
  {
   "cell_type": "code",
   "execution_count": 7,
   "metadata": {
    "collapsed": false,
    "deletable": true,
    "editable": true
   },
   "outputs": [
    {
     "data": {
      "text/plain": [
       "['20170529_001.fits',\n",
       " '20170529_002.fits',\n",
       " '20170529_003.fits',\n",
       " '20170529_004.fits',\n",
       " '20170529_006.fits']"
      ]
     },
     "execution_count": 7,
     "metadata": {},
     "output_type": "execute_result"
    }
   ],
   "source": [
    "filelist_all[:5]"
   ]
  },
  {
   "cell_type": "markdown",
   "metadata": {
    "deletable": true,
    "editable": true
   },
   "source": [
    "### select raw images only\n",
    "\n",
    "- filename start with **fileno**\n",
    "- filename stop with **fits** "
   ]
  },
  {
   "cell_type": "code",
   "execution_count": 8,
   "metadata": {
    "collapsed": false,
    "deletable": true,
    "editable": true
   },
   "outputs": [],
   "source": [
    "filelist_fitsimages= []\n",
    "for filename in filelist_all:\n",
    "    if re.search('^2017.*.fits$',filename):  #example of filename filter\n",
    "        filelist_fitsimages.append(filename)"
   ]
  },
  {
   "cell_type": "code",
   "execution_count": 9,
   "metadata": {
    "collapsed": false,
    "deletable": true,
    "editable": true
   },
   "outputs": [
    {
     "data": {
      "text/plain": [
       "['20170529_001.fits',\n",
       " '20170529_002.fits',\n",
       " '20170529_003.fits',\n",
       " '20170529_004.fits',\n",
       " '20170529_006.fits']"
      ]
     },
     "execution_count": 9,
     "metadata": {},
     "output_type": "execute_result"
    }
   ],
   "source": [
    "filelist_fitsimages[:5]"
   ]
  },
  {
   "cell_type": "markdown",
   "metadata": {
    "deletable": true,
    "editable": true
   },
   "source": [
    "### outputdir"
   ]
  },
  {
   "cell_type": "code",
   "execution_count": 10,
   "metadata": {
    "collapsed": true,
    "deletable": true,
    "editable": true
   },
   "outputs": [],
   "source": [
    "############################################################################\n",
    "def ensure_dir(f):\n",
    "    d = os.path.dirname(f)\n",
    "    if not os.path.exists(f):\n",
    "        os.makedirs(f)\n",
    "#########################################################################"
   ]
  },
  {
   "cell_type": "code",
   "execution_count": 11,
   "metadata": {
    "collapsed": true,
    "deletable": true,
    "editable": true
   },
   "outputs": [],
   "source": [
    "outputdir=\"./trim_images\""
   ]
  },
  {
   "cell_type": "code",
   "execution_count": 12,
   "metadata": {
    "collapsed": false,
    "deletable": true,
    "editable": true
   },
   "outputs": [],
   "source": [
    "ensure_dir(outputdir)"
   ]
  },
  {
   "cell_type": "markdown",
   "metadata": {
    "deletable": true,
    "editable": true
   },
   "source": [
    "### Do the overscan and the subtraction and the trimming"
   ]
  },
  {
   "cell_type": "code",
   "execution_count": 13,
   "metadata": {
    "collapsed": false,
    "deletable": true,
    "editable": true
   },
   "outputs": [
    {
     "name": "stdout",
     "output_type": "stream",
     "text": [
      "20170529_001.fits\n"
     ]
    },
    {
     "name": "stderr",
     "output_type": "stream",
     "text": [
      "WARNING: AstropyDeprecationWarning: \"clobber\" was deprecated in version 1.3 and will be removed in a future version. Use argument \"overwrite\" instead. [astropy.utils.decorators]\n",
      "WARNING:astropy:AstropyDeprecationWarning: \"clobber\" was deprecated in version 1.3 and will be removed in a future version. Use argument \"overwrite\" instead.\n"
     ]
    },
    {
     "name": "stdout",
     "output_type": "stream",
     "text": [
      "20170529_002.fits\n",
      "20170529_003.fits\n",
      "20170529_004.fits\n",
      "20170529_006.fits\n",
      "20170529_007.fits\n",
      "20170529_010.fits\n",
      "20170529_011.fits\n",
      "20170529_012.fits\n",
      "20170529_014.fits\n",
      "20170529_015.fits\n",
      "20170529_016.fits\n",
      "20170529_017.fits\n",
      "20170529_018.fits\n",
      "20170529_019.fits\n",
      "20170529_020.fits\n",
      "20170529_026.fits\n",
      "20170529_027.fits\n",
      "20170529_028.fits\n",
      "20170529_030.fits\n",
      "20170529_031.fits\n",
      "20170529_032.fits\n",
      "20170529_033.fits\n",
      "20170529_034.fits\n",
      "20170529_035.fits\n",
      "20170529_036.fits\n",
      "20170529_037.fits\n",
      "20170529_038.fits\n",
      "20170529_043.fits\n",
      "20170529_049.fits\n",
      "20170529_054.fits\n",
      "20170529_057.fits\n",
      "20170529_061.fits\n",
      "20170529_062.fits\n",
      "20170529_064.fits\n",
      "20170529_065.fits\n",
      "20170529_066.fits\n",
      "20170529_069.fits\n",
      "20170529_072.fits\n",
      "20170529_073.fits\n",
      "20170529_077.fits\n",
      "20170529_078.fits\n",
      "20170529_079.fits\n",
      "20170529_085.fits\n",
      "20170529_086.fits\n",
      "20170529_087.fits\n",
      "20170529_088.fits\n",
      "20170529_091.fits\n",
      "20170529_092.fits\n",
      "20170529_096.fits\n",
      "20170529_098.fits\n",
      "20170529_099.fits\n",
      "20170529_102.fits\n",
      "20170529_104.fits\n",
      "20170529_108.fits\n",
      "20170529_109.fits\n",
      "20170529_114.fits\n",
      "20170529_116.fits\n",
      "20170529_120.fits\n",
      "20170529_122.fits\n",
      "20170529_124.fits\n",
      "20170529_125.fits\n",
      "20170529_126.fits\n",
      "20170529_127.fits\n",
      "20170529_131.fits\n",
      "20170529_132.fits\n",
      "20170529_135.fits\n",
      "20170529_139.fits\n",
      "20170529_142.fits\n",
      "20170529_143.fits\n",
      "20170529_145.fits\n",
      "20170529_149.fits\n",
      "20170529_151.fits\n",
      "20170529_152.fits\n",
      "20170529_153.fits\n",
      "20170529_154.fits\n",
      "20170529_155.fits\n",
      "20170529_160.fits\n",
      "20170529_161.fits\n"
     ]
    }
   ],
   "source": [
    "for file in filelist_fitsimages:\n",
    "    print file\n",
    "    fullfilename=os.path.join(rootpath_rawimage,file)\n",
    "    ovsubtrim.Do_overscan_subtract_andTrim(fullfilename)"
   ]
  },
  {
   "cell_type": "markdown",
   "metadata": {
    "collapsed": false,
    "deletable": true,
    "editable": true
   },
   "source": [
    "## Now in shell do mv trim_*.fits ${outputdir}/."
   ]
  },
  {
   "cell_type": "code",
   "execution_count": 14,
   "metadata": {
    "collapsed": false,
    "deletable": true,
    "editable": true
   },
   "outputs": [
    {
     "name": "stdout",
     "output_type": "stream",
     "text": [
      "OverscanAllImages.ipynb       trim_20170529_066.fits\r\n",
      "compute.py                    trim_20170529_069.fits\r\n",
      "header.py                     trim_20170529_072.fits\r\n",
      "overscan_subtract_andTrim.py  trim_20170529_073.fits\r\n",
      "overscan_subtract_andTrim.pyc trim_20170529_077.fits\r\n",
      "skylev.py                     trim_20170529_078.fits\r\n",
      "telinst.py                    trim_20170529_079.fits\r\n",
      "telinst.pyc                   trim_20170529_085.fits\r\n",
      "trim_20170529_001.fits        trim_20170529_086.fits\r\n",
      "trim_20170529_002.fits        trim_20170529_087.fits\r\n",
      "trim_20170529_003.fits        trim_20170529_088.fits\r\n",
      "trim_20170529_004.fits        trim_20170529_091.fits\r\n",
      "trim_20170529_006.fits        trim_20170529_092.fits\r\n",
      "trim_20170529_007.fits        trim_20170529_096.fits\r\n",
      "trim_20170529_010.fits        trim_20170529_098.fits\r\n",
      "trim_20170529_011.fits        trim_20170529_099.fits\r\n",
      "trim_20170529_012.fits        trim_20170529_102.fits\r\n",
      "trim_20170529_014.fits        trim_20170529_104.fits\r\n",
      "trim_20170529_015.fits        trim_20170529_108.fits\r\n",
      "trim_20170529_016.fits        trim_20170529_109.fits\r\n",
      "trim_20170529_017.fits        trim_20170529_114.fits\r\n",
      "trim_20170529_018.fits        trim_20170529_116.fits\r\n",
      "trim_20170529_019.fits        trim_20170529_120.fits\r\n",
      "trim_20170529_020.fits        trim_20170529_122.fits\r\n",
      "trim_20170529_026.fits        trim_20170529_124.fits\r\n",
      "trim_20170529_027.fits        trim_20170529_125.fits\r\n",
      "trim_20170529_028.fits        trim_20170529_126.fits\r\n",
      "trim_20170529_030.fits        trim_20170529_127.fits\r\n",
      "trim_20170529_031.fits        trim_20170529_131.fits\r\n",
      "trim_20170529_032.fits        trim_20170529_132.fits\r\n",
      "trim_20170529_033.fits        trim_20170529_135.fits\r\n",
      "trim_20170529_034.fits        trim_20170529_139.fits\r\n",
      "trim_20170529_035.fits        trim_20170529_142.fits\r\n",
      "trim_20170529_036.fits        trim_20170529_143.fits\r\n",
      "trim_20170529_037.fits        trim_20170529_145.fits\r\n",
      "trim_20170529_038.fits        trim_20170529_149.fits\r\n",
      "trim_20170529_043.fits        trim_20170529_151.fits\r\n",
      "trim_20170529_049.fits        trim_20170529_152.fits\r\n",
      "trim_20170529_054.fits        trim_20170529_153.fits\r\n",
      "trim_20170529_057.fits        trim_20170529_154.fits\r\n",
      "trim_20170529_061.fits        trim_20170529_155.fits\r\n",
      "trim_20170529_062.fits        trim_20170529_160.fits\r\n",
      "trim_20170529_064.fits        trim_20170529_161.fits\r\n",
      "trim_20170529_065.fits        \u001b[34mtrim_images\u001b[m\u001b[m\r\n"
     ]
    }
   ],
   "source": [
    "!ls\n"
   ]
  },
  {
   "cell_type": "code",
   "execution_count": 15,
   "metadata": {
    "collapsed": true,
    "deletable": true,
    "editable": true
   },
   "outputs": [],
   "source": [
    "! mv *.fits trim_images/."
   ]
  },
  {
   "cell_type": "code",
   "execution_count": 16,
   "metadata": {
    "collapsed": false,
    "deletable": true,
    "editable": true
   },
   "outputs": [
    {
     "name": "stdout",
     "output_type": "stream",
     "text": [
      "OverscanAllImages.ipynb       skylev.py\r\n",
      "compute.py                    telinst.py\r\n",
      "header.py                     telinst.pyc\r\n",
      "overscan_subtract_andTrim.py  \u001b[34mtrim_images\u001b[m\u001b[m\r\n",
      "overscan_subtract_andTrim.pyc\r\n"
     ]
    }
   ],
   "source": [
    "!ls"
   ]
  },
  {
   "cell_type": "code",
   "execution_count": 17,
   "metadata": {
    "collapsed": false,
    "deletable": true,
    "editable": true
   },
   "outputs": [
    {
     "name": "stdout",
     "output_type": "stream",
     "text": [
      "trim_20170529_001.fits trim_20170529_038.fits trim_20170529_108.fits\r\n",
      "trim_20170529_002.fits trim_20170529_043.fits trim_20170529_109.fits\r\n",
      "trim_20170529_003.fits trim_20170529_049.fits trim_20170529_114.fits\r\n",
      "trim_20170529_004.fits trim_20170529_054.fits trim_20170529_116.fits\r\n",
      "trim_20170529_006.fits trim_20170529_057.fits trim_20170529_120.fits\r\n",
      "trim_20170529_007.fits trim_20170529_061.fits trim_20170529_122.fits\r\n",
      "trim_20170529_010.fits trim_20170529_062.fits trim_20170529_124.fits\r\n",
      "trim_20170529_011.fits trim_20170529_064.fits trim_20170529_125.fits\r\n",
      "trim_20170529_012.fits trim_20170529_065.fits trim_20170529_126.fits\r\n",
      "trim_20170529_014.fits trim_20170529_066.fits trim_20170529_127.fits\r\n",
      "trim_20170529_015.fits trim_20170529_069.fits trim_20170529_131.fits\r\n",
      "trim_20170529_016.fits trim_20170529_072.fits trim_20170529_132.fits\r\n",
      "trim_20170529_017.fits trim_20170529_073.fits trim_20170529_135.fits\r\n",
      "trim_20170529_018.fits trim_20170529_077.fits trim_20170529_139.fits\r\n",
      "trim_20170529_019.fits trim_20170529_078.fits trim_20170529_142.fits\r\n",
      "trim_20170529_020.fits trim_20170529_079.fits trim_20170529_143.fits\r\n",
      "trim_20170529_026.fits trim_20170529_085.fits trim_20170529_145.fits\r\n",
      "trim_20170529_027.fits trim_20170529_086.fits trim_20170529_149.fits\r\n",
      "trim_20170529_028.fits trim_20170529_087.fits trim_20170529_151.fits\r\n",
      "trim_20170529_030.fits trim_20170529_088.fits trim_20170529_152.fits\r\n",
      "trim_20170529_031.fits trim_20170529_091.fits trim_20170529_153.fits\r\n",
      "trim_20170529_032.fits trim_20170529_092.fits trim_20170529_154.fits\r\n",
      "trim_20170529_033.fits trim_20170529_096.fits trim_20170529_155.fits\r\n",
      "trim_20170529_034.fits trim_20170529_098.fits trim_20170529_160.fits\r\n",
      "trim_20170529_035.fits trim_20170529_099.fits trim_20170529_161.fits\r\n",
      "trim_20170529_036.fits trim_20170529_102.fits\r\n",
      "trim_20170529_037.fits trim_20170529_104.fits\r\n"
     ]
    }
   ],
   "source": [
    "!ls trim_images"
   ]
  },
  {
   "cell_type": "code",
   "execution_count": null,
   "metadata": {
    "collapsed": true,
    "deletable": true,
    "editable": true
   },
   "outputs": [],
   "source": []
  }
 ],
 "metadata": {
  "anaconda-cloud": {},
  "kernelspec": {
   "display_name": "Python [conda env:pyastrophys]",
   "language": "python",
   "name": "conda-env-pyastrophys-py"
  },
  "language_info": {
   "codemirror_mode": {
    "name": "ipython",
    "version": 2
   },
   "file_extension": ".py",
   "mimetype": "text/x-python",
   "name": "python",
   "nbconvert_exporter": "python",
   "pygments_lexer": "ipython2",
   "version": "2.7.12"
  },
  "toc": {
   "colors": {
    "hover_highlight": "#DAA520",
    "running_highlight": "#FF0000",
    "selected_highlight": "#FFD700"
   },
   "moveMenuLeft": true,
   "nav_menu": {
    "height": "153px",
    "width": "252px"
   },
   "navigate_menu": true,
   "number_sections": true,
   "sideBar": true,
   "threshold": 4,
   "toc_cell": false,
   "toc_section_display": "block",
   "toc_window_display": false,
   "widenNotebook": false
  }
 },
 "nbformat": 4,
 "nbformat_minor": 0
}
