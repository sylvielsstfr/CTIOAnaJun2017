{
 "cells": [
  {
   "cell_type": "markdown",
   "metadata": {
    "deletable": true,
    "editable": true
   },
   "source": [
    "# Does the overscan, subtraction and Triming of the CTIO images\n",
    "==================================================================================================\n",
    "- author : Sylvie Dagoret-Campagne\n",
    "- date   : January 18th 2017\n",
    "- update : May 30th 2017\n",
    "\n",
    "The library ***overscan_subtract_andTrim*** developped by Augustin Guyonnet is used\n",
    "to produce trim images.\n",
    "\n",
    "\n",
    "This has been updated for June 2017"
   ]
  },
  {
   "cell_type": "code",
   "execution_count": 10,
   "metadata": {
    "collapsed": true,
    "deletable": true,
    "editable": true
   },
   "outputs": [],
   "source": [
    "%matplotlib inline\n",
    "import matplotlib.pyplot as plt\n",
    "import numpy as np\n",
    "\n",
    "from astropy.modeling import models\n",
    "from astropy import units as u\n",
    "from astropy import nddata\n",
    "from astropy.io import fits\n",
    "import re\n",
    "import os"
   ]
  },
  {
   "cell_type": "code",
   "execution_count": 11,
   "metadata": {
    "collapsed": true,
    "deletable": true,
    "editable": true
   },
   "outputs": [],
   "source": [
    "# to enlarge the sizes\n",
    "params = {'legend.fontsize': 'x-large',\n",
    "          'figure.figsize': (8, 8),\n",
    "         'axes.labelsize': 'x-large',\n",
    "         'axes.titlesize':'x-large',\n",
    "         'xtick.labelsize':'x-large',\n",
    "         'ytick.labelsize':'x-large'}\n",
    "plt.rcParams.update(params)"
   ]
  },
  {
   "cell_type": "markdown",
   "metadata": {
    "deletable": true,
    "editable": true
   },
   "source": [
    "### Import Augustin Guyonnet overscan & trimming package"
   ]
  },
  {
   "cell_type": "code",
   "execution_count": 12,
   "metadata": {
    "collapsed": true,
    "deletable": true,
    "editable": true
   },
   "outputs": [],
   "source": [
    "import overscan_subtract_andTrim as ovsubtrim"
   ]
  },
  {
   "cell_type": "markdown",
   "metadata": {
    "deletable": true,
    "editable": true
   },
   "source": [
    "### Path for raw images"
   ]
  },
  {
   "cell_type": "code",
   "execution_count": 13,
   "metadata": {
    "collapsed": true,
    "deletable": true,
    "editable": true
   },
   "outputs": [],
   "source": [
    "#rootpath_rawimage='/Users/dagoret-campagnesylvie/MacOsX/LSST/MyWork/GitHub/CTIOData2017/2017_01_17/092_195'\n",
    "#rootpath_rawimage='/Users/dagoret-campagnesylvie/MacOsX/LSST/MyWork/GitHub/CTIODataJune2017/data_29may17'\n",
    "#rootpath_rawimage='/Volumes/LACIE SHARE/data_05jun17'\n",
    "rootpath_rawimage='/Users/dagoret-campagnesylvie/MacOsX/LSST/MyWork/GitHub/CTIODataJune2017/data_02jun17'"
   ]
  },
  {
   "cell_type": "code",
   "execution_count": 14,
   "metadata": {
    "collapsed": false,
    "deletable": true,
    "editable": true
   },
   "outputs": [],
   "source": [
    "filelist_all=os.listdir(rootpath_rawimage) "
   ]
  },
  {
   "cell_type": "code",
   "execution_count": 15,
   "metadata": {
    "collapsed": false,
    "deletable": true,
    "editable": true
   },
   "outputs": [
    {
     "data": {
      "text/plain": [
       "['20170602_001.fits',\n",
       " '20170602_002.fits',\n",
       " '20170602_003.fits',\n",
       " '20170602_004.fits',\n",
       " '20170602_005.fits']"
      ]
     },
     "execution_count": 15,
     "metadata": {},
     "output_type": "execute_result"
    }
   ],
   "source": [
    "filelist_all[:5]"
   ]
  },
  {
   "cell_type": "markdown",
   "metadata": {
    "deletable": true,
    "editable": true
   },
   "source": [
    "### select raw images only\n",
    "\n",
    "- filename start with **fileno**\n",
    "- filename stop with **fits** "
   ]
  },
  {
   "cell_type": "code",
   "execution_count": 16,
   "metadata": {
    "collapsed": false,
    "deletable": true,
    "editable": true
   },
   "outputs": [
    {
     "name": "stdout",
     "output_type": "stream",
     "text": [
      "Number of files : 255\n"
     ]
    }
   ],
   "source": [
    "filelist_fitsimages= []\n",
    "for filename in filelist_all:\n",
    "    if re.search('^2017.*.fits$',filename):  #example of filename filter\n",
    "        filelist_fitsimages.append(filename)\n",
    "print 'Number of files :',len(filelist_fitsimages)"
   ]
  },
  {
   "cell_type": "code",
   "execution_count": 17,
   "metadata": {
    "collapsed": false,
    "deletable": true,
    "editable": true
   },
   "outputs": [
    {
     "data": {
      "text/plain": [
       "['20170602_001.fits',\n",
       " '20170602_002.fits',\n",
       " '20170602_003.fits',\n",
       " '20170602_004.fits',\n",
       " '20170602_005.fits']"
      ]
     },
     "execution_count": 17,
     "metadata": {},
     "output_type": "execute_result"
    }
   ],
   "source": [
    "filelist_fitsimages[:5]"
   ]
  },
  {
   "cell_type": "markdown",
   "metadata": {
    "deletable": true,
    "editable": true
   },
   "source": [
    "### outputdir"
   ]
  },
  {
   "cell_type": "code",
   "execution_count": 18,
   "metadata": {
    "collapsed": true,
    "deletable": true,
    "editable": true
   },
   "outputs": [],
   "source": [
    "############################################################################\n",
    "def ensure_dir(f):\n",
    "    d = os.path.dirname(f)\n",
    "    if not os.path.exists(f):\n",
    "        os.makedirs(f)\n",
    "#########################################################################"
   ]
  },
  {
   "cell_type": "code",
   "execution_count": 19,
   "metadata": {
    "collapsed": true,
    "deletable": true,
    "editable": true
   },
   "outputs": [],
   "source": [
    "outputdir=\"./trim_images\""
   ]
  },
  {
   "cell_type": "code",
   "execution_count": 20,
   "metadata": {
    "collapsed": false,
    "deletable": true,
    "editable": true
   },
   "outputs": [],
   "source": [
    "ensure_dir(outputdir)"
   ]
  },
  {
   "cell_type": "markdown",
   "metadata": {
    "deletable": true,
    "editable": true
   },
   "source": [
    "### Do the overscan and the subtraction and the trimming"
   ]
  },
  {
   "cell_type": "code",
   "execution_count": 21,
   "metadata": {
    "collapsed": false,
    "deletable": true,
    "editable": true
   },
   "outputs": [
    {
     "name": "stdout",
     "output_type": "stream",
     "text": [
      "20170602_001.fits\n"
     ]
    },
    {
     "name": "stderr",
     "output_type": "stream",
     "text": [
      "WARNING: AstropyDeprecationWarning: \"clobber\" was deprecated in version 1.3 and will be removed in a future version. Use argument \"overwrite\" instead. [astropy.utils.decorators]\n",
      "WARNING:astropy:AstropyDeprecationWarning: \"clobber\" was deprecated in version 1.3 and will be removed in a future version. Use argument \"overwrite\" instead.\n"
     ]
    },
    {
     "name": "stdout",
     "output_type": "stream",
     "text": [
      "20170602_002.fits\n",
      "20170602_003.fits\n",
      "20170602_004.fits\n",
      "20170602_005.fits\n",
      "20170602_006.fits\n",
      "20170602_007.fits\n",
      "20170602_008.fits\n",
      "20170602_009.fits\n",
      "20170602_010.fits\n",
      "20170602_011.fits\n",
      "20170602_012.fits\n",
      "20170602_013.fits\n",
      "20170602_014.fits\n",
      "20170602_015.fits\n",
      "20170602_016.fits\n",
      "20170602_017.fits\n",
      "20170602_018.fits\n",
      "20170602_019.fits\n",
      "20170602_020.fits\n",
      "20170602_021.fits\n",
      "20170602_022.fits\n",
      "20170602_023.fits\n",
      "20170602_024.fits\n",
      "20170602_025.fits\n",
      "20170602_026.fits\n",
      "20170602_027.fits\n",
      "20170602_028.fits\n",
      "20170602_029.fits\n",
      "20170602_030.fits\n",
      "20170602_031.fits\n",
      "20170602_032.fits\n",
      "20170602_033.fits\n",
      "20170602_034.fits\n",
      "20170602_035.fits\n",
      "20170602_036.fits\n",
      "20170602_037.fits\n",
      "20170602_038.fits\n",
      "20170602_039.fits\n",
      "20170602_040.fits\n",
      "20170602_049.fits\n",
      "20170602_050.fits\n",
      "20170602_051.fits\n",
      "20170602_052.fits\n",
      "20170602_053.fits\n",
      "20170602_054.fits\n",
      "20170602_055.fits\n",
      "20170602_056.fits\n",
      "20170602_057.fits\n",
      "20170602_058.fits\n",
      "20170602_059.fits\n",
      "20170602_060.fits\n",
      "20170602_061.fits\n",
      "20170602_062.fits\n",
      "20170602_063.fits\n",
      "20170602_064.fits\n",
      "20170602_065.fits\n",
      "20170602_066.fits\n",
      "20170602_067.fits\n",
      "20170602_068.fits\n",
      "20170602_069.fits\n",
      "20170602_070.fits\n",
      "20170602_071.fits\n",
      "20170602_072.fits\n",
      "20170602_073.fits\n",
      "20170602_074.fits\n",
      "20170602_075.fits\n",
      "20170602_076.fits\n",
      "20170602_077.fits\n",
      "20170602_078.fits\n",
      "20170602_079.fits\n",
      "20170602_080.fits\n",
      "20170602_081.fits\n",
      "20170602_082.fits\n",
      "20170602_083.fits\n",
      "20170602_084.fits\n",
      "20170602_085.fits\n",
      "20170602_086.fits\n",
      "20170602_087.fits\n",
      "20170602_088.fits\n",
      "20170602_089.fits\n",
      "20170602_090.fits\n",
      "20170602_091.fits\n",
      "20170602_092.fits\n",
      "20170602_093.fits\n",
      "20170602_094.fits\n",
      "20170602_095.fits\n",
      "20170602_096.fits\n",
      "20170602_097.fits\n",
      "20170602_098.fits\n",
      "20170602_099.fits\n",
      "20170602_100.fits\n",
      "20170602_101.fits\n",
      "20170602_102.fits\n",
      "20170602_103.fits\n",
      "20170602_104.fits\n",
      "20170602_105.fits\n",
      "20170602_106.fits\n",
      "20170602_107.fits\n",
      "20170602_108.fits\n",
      "20170602_109.fits\n",
      "20170602_110.fits\n",
      "20170602_111.fits\n",
      "20170602_112.fits\n",
      "20170602_113.fits\n",
      "20170602_114.fits\n",
      "20170602_115.fits\n",
      "20170602_116.fits\n",
      "20170602_117.fits\n",
      "20170602_118.fits\n",
      "20170602_119.fits\n",
      "20170602_120.fits\n",
      "20170602_121.fits\n",
      "20170602_122.fits\n",
      "20170602_123.fits\n",
      "20170602_124.fits\n",
      "20170602_125.fits\n",
      "20170602_126.fits\n",
      "20170602_127.fits\n",
      "20170602_128.fits\n",
      "20170602_129.fits\n",
      "20170602_130.fits\n",
      "20170602_131.fits\n",
      "20170602_132.fits\n",
      "20170602_133.fits\n",
      "20170602_134.fits\n",
      "20170602_135.fits\n",
      "20170602_136.fits\n",
      "20170602_137.fits\n",
      "20170602_138.fits\n",
      "20170602_139.fits\n",
      "20170602_140.fits\n",
      "20170602_141.fits\n",
      "20170602_142.fits\n",
      "20170602_143.fits\n",
      "20170602_144.fits\n",
      "20170602_145.fits\n",
      "20170602_146.fits\n",
      "20170602_147.fits\n",
      "20170602_148.fits\n",
      "20170602_149.fits\n",
      "20170602_150.fits\n",
      "20170602_151.fits\n",
      "20170602_152.fits\n",
      "20170602_153.fits\n",
      "20170602_154.fits\n",
      "20170602_155.fits\n",
      "20170602_156.fits\n",
      "20170602_157.fits\n",
      "20170602_158.fits\n",
      "20170602_159.fits\n",
      "20170602_160.fits\n",
      "20170602_161.fits\n",
      "20170602_162.fits\n",
      "20170602_163.fits\n",
      "20170602_164.fits\n",
      "20170602_165.fits\n",
      "20170602_166.fits\n",
      "20170602_167.fits\n",
      "20170602_168.fits\n",
      "20170602_169.fits\n",
      "20170602_170.fits\n",
      "20170602_171.fits\n",
      "20170602_172.fits\n",
      "20170602_173.fits\n",
      "20170602_174.fits\n",
      "20170602_175.fits\n",
      "20170602_176.fits\n",
      "20170602_177.fits\n",
      "20170602_178.fits\n",
      "20170602_179.fits\n",
      "20170602_180.fits\n",
      "20170602_181.fits\n",
      "20170602_182.fits\n",
      "20170602_183.fits\n",
      "20170602_184.fits\n",
      "20170602_185.fits\n",
      "20170602_186.fits\n",
      "20170602_187.fits\n",
      "20170602_188.fits\n",
      "20170602_189.fits\n",
      "20170602_190.fits\n",
      "20170602_191.fits\n",
      "20170602_192.fits\n",
      "20170602_193.fits\n",
      "20170602_194.fits\n",
      "20170602_195.fits\n",
      "20170602_196.fits\n",
      "20170602_197.fits\n",
      "20170602_198.fits\n",
      "20170602_199.fits\n",
      "20170602_200.fits\n",
      "20170602_201.fits\n",
      "20170602_202.fits\n",
      "20170602_203.fits\n",
      "20170602_204.fits\n",
      "20170602_205.fits\n",
      "20170602_206.fits\n",
      "20170602_207.fits\n",
      "20170602_208.fits\n",
      "20170602_209.fits\n",
      "20170602_210.fits\n",
      "20170602_211.fits\n",
      "20170602_212.fits\n",
      "20170602_213.fits\n",
      "20170602_214.fits\n",
      "20170602_215.fits\n",
      "20170602_216.fits\n",
      "20170602_217.fits\n",
      "20170602_218.fits\n",
      "20170602_219.fits\n",
      "20170602_220.fits\n",
      "20170602_221.fits\n",
      "20170602_222.fits\n",
      "20170602_223.fits\n",
      "20170602_224.fits\n",
      "20170602_225.fits\n",
      "20170602_226.fits\n",
      "20170602_227.fits\n",
      "20170602_228.fits\n",
      "20170602_229.fits\n",
      "20170602_230.fits\n",
      "20170602_231.fits\n",
      "20170602_232.fits\n",
      "20170602_233.fits\n",
      "20170602_234.fits\n",
      "20170602_235.fits\n",
      "20170602_236.fits\n",
      "20170602_237.fits\n",
      "20170602_238.fits\n",
      "20170602_239.fits\n",
      "20170602_240.fits\n",
      "20170602_241.fits\n",
      "20170602_242.fits\n",
      "20170602_243.fits\n",
      "20170602_244.fits\n",
      "20170602_245.fits\n",
      "20170602_246.fits\n",
      "20170602_247.fits\n",
      "20170602_248.fits\n",
      "20170602_249.fits\n",
      "20170602_250.fits\n",
      "20170602_251.fits\n",
      "20170602_252.fits\n",
      "20170602_253.fits\n",
      "20170602_254.fits\n",
      "20170602_255.fits\n",
      "20170602_256.fits\n",
      "20170602_257.fits\n",
      "20170602_258.fits\n",
      "20170602_259.fits\n",
      "20170602_260.fits\n",
      "20170602_261.fits\n",
      "20170602_262.fits\n",
      "20170602_263.fits\n"
     ]
    }
   ],
   "source": [
    "for file in filelist_fitsimages:\n",
    "    print file\n",
    "    fullfilename=os.path.join(rootpath_rawimage,file)\n",
    "    ovsubtrim.Do_overscan_subtract_andTrim(fullfilename)"
   ]
  },
  {
   "cell_type": "markdown",
   "metadata": {
    "collapsed": false,
    "deletable": true,
    "editable": true
   },
   "source": [
    "## Now in shell do mv trim_*.fits ${outputdir}/."
   ]
  },
  {
   "cell_type": "code",
   "execution_count": 22,
   "metadata": {
    "collapsed": false,
    "deletable": true,
    "editable": true
   },
   "outputs": [
    {
     "name": "stdout",
     "output_type": "stream",
     "text": [
      "OverscanAllImages.ipynb       trim_20170602_133.fits\r\n",
      "compute.py                    trim_20170602_134.fits\r\n",
      "header.py                     trim_20170602_135.fits\r\n",
      "overscan_subtract_andTrim.py  trim_20170602_136.fits\r\n",
      "overscan_subtract_andTrim.pyc trim_20170602_137.fits\r\n",
      "skylev.py                     trim_20170602_138.fits\r\n",
      "telinst.py                    trim_20170602_139.fits\r\n",
      "telinst.pyc                   trim_20170602_140.fits\r\n",
      "trim_20170602_001.fits        trim_20170602_141.fits\r\n",
      "trim_20170602_002.fits        trim_20170602_142.fits\r\n",
      "trim_20170602_003.fits        trim_20170602_143.fits\r\n",
      "trim_20170602_004.fits        trim_20170602_144.fits\r\n",
      "trim_20170602_005.fits        trim_20170602_145.fits\r\n",
      "trim_20170602_006.fits        trim_20170602_146.fits\r\n",
      "trim_20170602_007.fits        trim_20170602_147.fits\r\n",
      "trim_20170602_008.fits        trim_20170602_148.fits\r\n",
      "trim_20170602_009.fits        trim_20170602_149.fits\r\n",
      "trim_20170602_010.fits        trim_20170602_150.fits\r\n",
      "trim_20170602_011.fits        trim_20170602_151.fits\r\n",
      "trim_20170602_012.fits        trim_20170602_152.fits\r\n",
      "trim_20170602_013.fits        trim_20170602_153.fits\r\n",
      "trim_20170602_014.fits        trim_20170602_154.fits\r\n",
      "trim_20170602_015.fits        trim_20170602_155.fits\r\n",
      "trim_20170602_016.fits        trim_20170602_156.fits\r\n",
      "trim_20170602_017.fits        trim_20170602_157.fits\r\n",
      "trim_20170602_018.fits        trim_20170602_158.fits\r\n",
      "trim_20170602_019.fits        trim_20170602_159.fits\r\n",
      "trim_20170602_020.fits        trim_20170602_160.fits\r\n",
      "trim_20170602_021.fits        trim_20170602_161.fits\r\n",
      "trim_20170602_022.fits        trim_20170602_162.fits\r\n",
      "trim_20170602_023.fits        trim_20170602_163.fits\r\n",
      "trim_20170602_024.fits        trim_20170602_164.fits\r\n",
      "trim_20170602_025.fits        trim_20170602_165.fits\r\n",
      "trim_20170602_026.fits        trim_20170602_166.fits\r\n",
      "trim_20170602_027.fits        trim_20170602_167.fits\r\n",
      "trim_20170602_028.fits        trim_20170602_168.fits\r\n",
      "trim_20170602_029.fits        trim_20170602_169.fits\r\n",
      "trim_20170602_030.fits        trim_20170602_170.fits\r\n",
      "trim_20170602_031.fits        trim_20170602_171.fits\r\n",
      "trim_20170602_032.fits        trim_20170602_172.fits\r\n",
      "trim_20170602_033.fits        trim_20170602_173.fits\r\n",
      "trim_20170602_034.fits        trim_20170602_174.fits\r\n",
      "trim_20170602_035.fits        trim_20170602_175.fits\r\n",
      "trim_20170602_036.fits        trim_20170602_176.fits\r\n",
      "trim_20170602_037.fits        trim_20170602_177.fits\r\n",
      "trim_20170602_038.fits        trim_20170602_178.fits\r\n",
      "trim_20170602_039.fits        trim_20170602_179.fits\r\n",
      "trim_20170602_040.fits        trim_20170602_180.fits\r\n",
      "trim_20170602_049.fits        trim_20170602_181.fits\r\n",
      "trim_20170602_050.fits        trim_20170602_182.fits\r\n",
      "trim_20170602_051.fits        trim_20170602_183.fits\r\n",
      "trim_20170602_052.fits        trim_20170602_184.fits\r\n",
      "trim_20170602_053.fits        trim_20170602_185.fits\r\n",
      "trim_20170602_054.fits        trim_20170602_186.fits\r\n",
      "trim_20170602_055.fits        trim_20170602_187.fits\r\n",
      "trim_20170602_056.fits        trim_20170602_188.fits\r\n",
      "trim_20170602_057.fits        trim_20170602_189.fits\r\n",
      "trim_20170602_058.fits        trim_20170602_190.fits\r\n",
      "trim_20170602_059.fits        trim_20170602_191.fits\r\n",
      "trim_20170602_060.fits        trim_20170602_192.fits\r\n",
      "trim_20170602_061.fits        trim_20170602_193.fits\r\n",
      "trim_20170602_062.fits        trim_20170602_194.fits\r\n",
      "trim_20170602_063.fits        trim_20170602_195.fits\r\n",
      "trim_20170602_064.fits        trim_20170602_196.fits\r\n",
      "trim_20170602_065.fits        trim_20170602_197.fits\r\n",
      "trim_20170602_066.fits        trim_20170602_198.fits\r\n",
      "trim_20170602_067.fits        trim_20170602_199.fits\r\n",
      "trim_20170602_068.fits        trim_20170602_200.fits\r\n",
      "trim_20170602_069.fits        trim_20170602_201.fits\r\n",
      "trim_20170602_070.fits        trim_20170602_202.fits\r\n",
      "trim_20170602_071.fits        trim_20170602_203.fits\r\n",
      "trim_20170602_072.fits        trim_20170602_204.fits\r\n",
      "trim_20170602_073.fits        trim_20170602_205.fits\r\n",
      "trim_20170602_074.fits        trim_20170602_206.fits\r\n",
      "trim_20170602_075.fits        trim_20170602_207.fits\r\n",
      "trim_20170602_076.fits        trim_20170602_208.fits\r\n",
      "trim_20170602_077.fits        trim_20170602_209.fits\r\n",
      "trim_20170602_078.fits        trim_20170602_210.fits\r\n",
      "trim_20170602_079.fits        trim_20170602_211.fits\r\n",
      "trim_20170602_080.fits        trim_20170602_212.fits\r\n",
      "trim_20170602_081.fits        trim_20170602_213.fits\r\n",
      "trim_20170602_082.fits        trim_20170602_214.fits\r\n",
      "trim_20170602_083.fits        trim_20170602_215.fits\r\n",
      "trim_20170602_084.fits        trim_20170602_216.fits\r\n",
      "trim_20170602_085.fits        trim_20170602_217.fits\r\n",
      "trim_20170602_086.fits        trim_20170602_218.fits\r\n",
      "trim_20170602_087.fits        trim_20170602_219.fits\r\n",
      "trim_20170602_088.fits        trim_20170602_220.fits\r\n",
      "trim_20170602_089.fits        trim_20170602_221.fits\r\n",
      "trim_20170602_090.fits        trim_20170602_222.fits\r\n",
      "trim_20170602_091.fits        trim_20170602_223.fits\r\n",
      "trim_20170602_092.fits        trim_20170602_224.fits\r\n",
      "trim_20170602_093.fits        trim_20170602_225.fits\r\n",
      "trim_20170602_094.fits        trim_20170602_226.fits\r\n",
      "trim_20170602_095.fits        trim_20170602_227.fits\r\n",
      "trim_20170602_096.fits        trim_20170602_228.fits\r\n",
      "trim_20170602_097.fits        trim_20170602_229.fits\r\n",
      "trim_20170602_098.fits        trim_20170602_230.fits\r\n",
      "trim_20170602_099.fits        trim_20170602_231.fits\r\n",
      "trim_20170602_100.fits        trim_20170602_232.fits\r\n",
      "trim_20170602_101.fits        trim_20170602_233.fits\r\n",
      "trim_20170602_102.fits        trim_20170602_234.fits\r\n",
      "trim_20170602_103.fits        trim_20170602_235.fits\r\n",
      "trim_20170602_104.fits        trim_20170602_236.fits\r\n",
      "trim_20170602_105.fits        trim_20170602_237.fits\r\n",
      "trim_20170602_106.fits        trim_20170602_238.fits\r\n",
      "trim_20170602_107.fits        trim_20170602_239.fits\r\n",
      "trim_20170602_108.fits        trim_20170602_240.fits\r\n",
      "trim_20170602_109.fits        trim_20170602_241.fits\r\n",
      "trim_20170602_110.fits        trim_20170602_242.fits\r\n",
      "trim_20170602_111.fits        trim_20170602_243.fits\r\n",
      "trim_20170602_112.fits        trim_20170602_244.fits\r\n",
      "trim_20170602_113.fits        trim_20170602_245.fits\r\n",
      "trim_20170602_114.fits        trim_20170602_246.fits\r\n",
      "trim_20170602_115.fits        trim_20170602_247.fits\r\n",
      "trim_20170602_116.fits        trim_20170602_248.fits\r\n",
      "trim_20170602_117.fits        trim_20170602_249.fits\r\n",
      "trim_20170602_118.fits        trim_20170602_250.fits\r\n",
      "trim_20170602_119.fits        trim_20170602_251.fits\r\n",
      "trim_20170602_120.fits        trim_20170602_252.fits\r\n",
      "trim_20170602_121.fits        trim_20170602_253.fits\r\n",
      "trim_20170602_122.fits        trim_20170602_254.fits\r\n",
      "trim_20170602_123.fits        trim_20170602_255.fits\r\n",
      "trim_20170602_124.fits        trim_20170602_256.fits\r\n",
      "trim_20170602_125.fits        trim_20170602_257.fits\r\n",
      "trim_20170602_126.fits        trim_20170602_258.fits\r\n",
      "trim_20170602_127.fits        trim_20170602_259.fits\r\n",
      "trim_20170602_128.fits        trim_20170602_260.fits\r\n",
      "trim_20170602_129.fits        trim_20170602_261.fits\r\n",
      "trim_20170602_130.fits        trim_20170602_262.fits\r\n",
      "trim_20170602_131.fits        trim_20170602_263.fits\r\n",
      "trim_20170602_132.fits        \u001b[34mtrim_images\u001b[m\u001b[m\r\n"
     ]
    }
   ],
   "source": [
    "!ls\n"
   ]
  },
  {
   "cell_type": "code",
   "execution_count": 23,
   "metadata": {
    "collapsed": false,
    "deletable": true,
    "editable": true
   },
   "outputs": [],
   "source": [
    "! mv *.fits trim_images/."
   ]
  },
  {
   "cell_type": "code",
   "execution_count": 24,
   "metadata": {
    "collapsed": false,
    "deletable": true,
    "editable": true
   },
   "outputs": [
    {
     "name": "stdout",
     "output_type": "stream",
     "text": [
      "OverscanAllImages.ipynb       skylev.py\r\n",
      "compute.py                    telinst.py\r\n",
      "header.py                     telinst.pyc\r\n",
      "overscan_subtract_andTrim.py  \u001b[34mtrim_images\u001b[m\u001b[m\r\n",
      "overscan_subtract_andTrim.pyc\r\n"
     ]
    }
   ],
   "source": [
    "!ls"
   ]
  },
  {
   "cell_type": "code",
   "execution_count": 25,
   "metadata": {
    "collapsed": false,
    "deletable": true,
    "editable": true
   },
   "outputs": [
    {
     "name": "stdout",
     "output_type": "stream",
     "text": [
      "trim_20170602_001.fits trim_20170602_094.fits trim_20170602_179.fits\r\n",
      "trim_20170602_002.fits trim_20170602_095.fits trim_20170602_180.fits\r\n",
      "trim_20170602_003.fits trim_20170602_096.fits trim_20170602_181.fits\r\n",
      "trim_20170602_004.fits trim_20170602_097.fits trim_20170602_182.fits\r\n",
      "trim_20170602_005.fits trim_20170602_098.fits trim_20170602_183.fits\r\n",
      "trim_20170602_006.fits trim_20170602_099.fits trim_20170602_184.fits\r\n",
      "trim_20170602_007.fits trim_20170602_100.fits trim_20170602_185.fits\r\n",
      "trim_20170602_008.fits trim_20170602_101.fits trim_20170602_186.fits\r\n",
      "trim_20170602_009.fits trim_20170602_102.fits trim_20170602_187.fits\r\n",
      "trim_20170602_010.fits trim_20170602_103.fits trim_20170602_188.fits\r\n",
      "trim_20170602_011.fits trim_20170602_104.fits trim_20170602_189.fits\r\n",
      "trim_20170602_012.fits trim_20170602_105.fits trim_20170602_190.fits\r\n",
      "trim_20170602_013.fits trim_20170602_106.fits trim_20170602_191.fits\r\n",
      "trim_20170602_014.fits trim_20170602_107.fits trim_20170602_192.fits\r\n",
      "trim_20170602_015.fits trim_20170602_108.fits trim_20170602_193.fits\r\n",
      "trim_20170602_016.fits trim_20170602_109.fits trim_20170602_194.fits\r\n",
      "trim_20170602_017.fits trim_20170602_110.fits trim_20170602_195.fits\r\n",
      "trim_20170602_018.fits trim_20170602_111.fits trim_20170602_196.fits\r\n",
      "trim_20170602_019.fits trim_20170602_112.fits trim_20170602_197.fits\r\n",
      "trim_20170602_020.fits trim_20170602_113.fits trim_20170602_198.fits\r\n",
      "trim_20170602_021.fits trim_20170602_114.fits trim_20170602_199.fits\r\n",
      "trim_20170602_022.fits trim_20170602_115.fits trim_20170602_200.fits\r\n",
      "trim_20170602_023.fits trim_20170602_116.fits trim_20170602_201.fits\r\n",
      "trim_20170602_024.fits trim_20170602_117.fits trim_20170602_202.fits\r\n",
      "trim_20170602_025.fits trim_20170602_118.fits trim_20170602_203.fits\r\n",
      "trim_20170602_026.fits trim_20170602_119.fits trim_20170602_204.fits\r\n",
      "trim_20170602_027.fits trim_20170602_120.fits trim_20170602_205.fits\r\n",
      "trim_20170602_028.fits trim_20170602_121.fits trim_20170602_206.fits\r\n",
      "trim_20170602_029.fits trim_20170602_122.fits trim_20170602_207.fits\r\n",
      "trim_20170602_030.fits trim_20170602_123.fits trim_20170602_208.fits\r\n",
      "trim_20170602_031.fits trim_20170602_124.fits trim_20170602_209.fits\r\n",
      "trim_20170602_032.fits trim_20170602_125.fits trim_20170602_210.fits\r\n",
      "trim_20170602_033.fits trim_20170602_126.fits trim_20170602_211.fits\r\n",
      "trim_20170602_034.fits trim_20170602_127.fits trim_20170602_212.fits\r\n",
      "trim_20170602_035.fits trim_20170602_128.fits trim_20170602_213.fits\r\n",
      "trim_20170602_036.fits trim_20170602_129.fits trim_20170602_214.fits\r\n",
      "trim_20170602_037.fits trim_20170602_130.fits trim_20170602_215.fits\r\n",
      "trim_20170602_038.fits trim_20170602_131.fits trim_20170602_216.fits\r\n",
      "trim_20170602_039.fits trim_20170602_132.fits trim_20170602_217.fits\r\n",
      "trim_20170602_040.fits trim_20170602_133.fits trim_20170602_218.fits\r\n",
      "trim_20170602_049.fits trim_20170602_134.fits trim_20170602_219.fits\r\n",
      "trim_20170602_050.fits trim_20170602_135.fits trim_20170602_220.fits\r\n",
      "trim_20170602_051.fits trim_20170602_136.fits trim_20170602_221.fits\r\n",
      "trim_20170602_052.fits trim_20170602_137.fits trim_20170602_222.fits\r\n",
      "trim_20170602_053.fits trim_20170602_138.fits trim_20170602_223.fits\r\n",
      "trim_20170602_054.fits trim_20170602_139.fits trim_20170602_224.fits\r\n",
      "trim_20170602_055.fits trim_20170602_140.fits trim_20170602_225.fits\r\n",
      "trim_20170602_056.fits trim_20170602_141.fits trim_20170602_226.fits\r\n",
      "trim_20170602_057.fits trim_20170602_142.fits trim_20170602_227.fits\r\n",
      "trim_20170602_058.fits trim_20170602_143.fits trim_20170602_228.fits\r\n",
      "trim_20170602_059.fits trim_20170602_144.fits trim_20170602_229.fits\r\n",
      "trim_20170602_060.fits trim_20170602_145.fits trim_20170602_230.fits\r\n",
      "trim_20170602_061.fits trim_20170602_146.fits trim_20170602_231.fits\r\n",
      "trim_20170602_062.fits trim_20170602_147.fits trim_20170602_232.fits\r\n",
      "trim_20170602_063.fits trim_20170602_148.fits trim_20170602_233.fits\r\n",
      "trim_20170602_064.fits trim_20170602_149.fits trim_20170602_234.fits\r\n",
      "trim_20170602_065.fits trim_20170602_150.fits trim_20170602_235.fits\r\n",
      "trim_20170602_066.fits trim_20170602_151.fits trim_20170602_236.fits\r\n",
      "trim_20170602_067.fits trim_20170602_152.fits trim_20170602_237.fits\r\n",
      "trim_20170602_068.fits trim_20170602_153.fits trim_20170602_238.fits\r\n",
      "trim_20170602_069.fits trim_20170602_154.fits trim_20170602_239.fits\r\n",
      "trim_20170602_070.fits trim_20170602_155.fits trim_20170602_240.fits\r\n",
      "trim_20170602_071.fits trim_20170602_156.fits trim_20170602_241.fits\r\n",
      "trim_20170602_072.fits trim_20170602_157.fits trim_20170602_242.fits\r\n",
      "trim_20170602_073.fits trim_20170602_158.fits trim_20170602_243.fits\r\n",
      "trim_20170602_074.fits trim_20170602_159.fits trim_20170602_244.fits\r\n",
      "trim_20170602_075.fits trim_20170602_160.fits trim_20170602_245.fits\r\n",
      "trim_20170602_076.fits trim_20170602_161.fits trim_20170602_246.fits\r\n",
      "trim_20170602_077.fits trim_20170602_162.fits trim_20170602_247.fits\r\n",
      "trim_20170602_078.fits trim_20170602_163.fits trim_20170602_248.fits\r\n",
      "trim_20170602_079.fits trim_20170602_164.fits trim_20170602_249.fits\r\n",
      "trim_20170602_080.fits trim_20170602_165.fits trim_20170602_250.fits\r\n",
      "trim_20170602_081.fits trim_20170602_166.fits trim_20170602_251.fits\r\n",
      "trim_20170602_082.fits trim_20170602_167.fits trim_20170602_252.fits\r\n",
      "trim_20170602_083.fits trim_20170602_168.fits trim_20170602_253.fits\r\n",
      "trim_20170602_084.fits trim_20170602_169.fits trim_20170602_254.fits\r\n",
      "trim_20170602_085.fits trim_20170602_170.fits trim_20170602_255.fits\r\n",
      "trim_20170602_086.fits trim_20170602_171.fits trim_20170602_256.fits\r\n",
      "trim_20170602_087.fits trim_20170602_172.fits trim_20170602_257.fits\r\n",
      "trim_20170602_088.fits trim_20170602_173.fits trim_20170602_258.fits\r\n",
      "trim_20170602_089.fits trim_20170602_174.fits trim_20170602_259.fits\r\n",
      "trim_20170602_090.fits trim_20170602_175.fits trim_20170602_260.fits\r\n",
      "trim_20170602_091.fits trim_20170602_176.fits trim_20170602_261.fits\r\n",
      "trim_20170602_092.fits trim_20170602_177.fits trim_20170602_262.fits\r\n",
      "trim_20170602_093.fits trim_20170602_178.fits trim_20170602_263.fits\r\n"
     ]
    }
   ],
   "source": [
    "!ls trim_images"
   ]
  },
  {
   "cell_type": "code",
   "execution_count": null,
   "metadata": {
    "collapsed": true,
    "deletable": true,
    "editable": true
   },
   "outputs": [],
   "source": []
  },
  {
   "cell_type": "code",
   "execution_count": null,
   "metadata": {
    "collapsed": true,
    "deletable": true,
    "editable": true
   },
   "outputs": [],
   "source": []
  }
 ],
 "metadata": {
  "anaconda-cloud": {},
  "kernelspec": {
   "display_name": "Python [conda env:pyastrophys]",
   "language": "python",
   "name": "conda-env-pyastrophys-py"
  },
  "language_info": {
   "codemirror_mode": {
    "name": "ipython",
    "version": 2
   },
   "file_extension": ".py",
   "mimetype": "text/x-python",
   "name": "python",
   "nbconvert_exporter": "python",
   "pygments_lexer": "ipython2",
   "version": "2.7.12"
  },
  "toc": {
   "colors": {
    "hover_highlight": "#DAA520",
    "running_highlight": "#FF0000",
    "selected_highlight": "#FFD700"
   },
   "moveMenuLeft": true,
   "nav_menu": {
    "height": "153px",
    "width": "252px"
   },
   "navigate_menu": true,
   "number_sections": true,
   "sideBar": true,
   "threshold": 4,
   "toc_cell": false,
   "toc_section_display": "block",
   "toc_window_display": false,
   "widenNotebook": false
  }
 },
 "nbformat": 4,
 "nbformat_minor": 0
}
