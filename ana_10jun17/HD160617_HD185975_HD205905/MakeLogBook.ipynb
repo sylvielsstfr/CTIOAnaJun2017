{
 "cells": [
  {
   "cell_type": "markdown",
   "metadata": {
    "deletable": true,
    "editable": true
   },
   "source": [
    "# Make Logbook of Trim images of CTIO Data\n",
    "==================================================================================================\n",
    "\n",
    "- author : Sylvie Dagoret-Campagne\n",
    "- affiliation : LAL/IN2P3/CNRS, France\n",
    "- date   : Jult 4th 2017\n",
    "\n"
   ]
  },
  {
   "cell_type": "code",
   "execution_count": 46,
   "metadata": {
    "collapsed": false,
    "deletable": true,
    "editable": true
   },
   "outputs": [
    {
     "data": {
      "application/javascript": [
       "var kernel = IPython.notebook.kernel;\n",
       "var thename = window.document.getElementById(\"notebook_name\").innerHTML;\n",
       "var command = \"theNotebook = \" + \"'\"+thename+\"'\";\n",
       "kernel.execute(command);"
      ],
      "text/plain": [
       "<IPython.core.display.Javascript object>"
      ]
     },
     "metadata": {},
     "output_type": "display_data"
    }
   ],
   "source": [
    "%%javascript\n",
    "var kernel = IPython.notebook.kernel;\n",
    "var thename = window.document.getElementById(\"notebook_name\").innerHTML;\n",
    "var command = \"theNotebook = \" + \"'\"+thename+\"'\";\n",
    "kernel.execute(command);"
   ]
  },
  {
   "cell_type": "code",
   "execution_count": 47,
   "metadata": {
    "collapsed": false,
    "deletable": true,
    "editable": true
   },
   "outputs": [
    {
     "name": "stdout",
     "output_type": "stream",
     "text": [
      "MakeLogBook\n"
     ]
    }
   ],
   "source": [
    "print(theNotebook)"
   ]
  },
  {
   "cell_type": "code",
   "execution_count": 48,
   "metadata": {
    "collapsed": false,
    "deletable": true,
    "editable": true
   },
   "outputs": [],
   "source": [
    "%matplotlib inline\n",
    "import matplotlib.pyplot as plt\n",
    "import numpy as np\n",
    "\n",
    "from astropy.modeling import models\n",
    "from astropy import units as u\n",
    "from astropy import nddata\n",
    "from astropy.io import fits\n",
    "from astropy.table import Table, Column\n",
    "import re\n",
    "import os"
   ]
  },
  {
   "cell_type": "code",
   "execution_count": 49,
   "metadata": {
    "collapsed": true,
    "deletable": true,
    "editable": true
   },
   "outputs": [],
   "source": [
    "import pandas as pd"
   ]
  },
  {
   "cell_type": "code",
   "execution_count": 50,
   "metadata": {
    "collapsed": false,
    "deletable": true,
    "editable": true
   },
   "outputs": [],
   "source": [
    "# to enlarge the sizes\n",
    "params = {'legend.fontsize': 'x-large',\n",
    "          'figure.figsize': (8, 8),\n",
    "         'axes.labelsize': 'x-large',\n",
    "         'axes.titlesize':'x-large',\n",
    "         'xtick.labelsize':'x-large',\n",
    "         'ytick.labelsize':'x-large'}\n",
    "plt.rcParams.update(params)"
   ]
  },
  {
   "cell_type": "markdown",
   "metadata": {
    "deletable": true,
    "editable": true
   },
   "source": [
    "## Location of trim images\n",
    "----------------------------------"
   ]
  },
  {
   "cell_type": "code",
   "execution_count": 51,
   "metadata": {
    "collapsed": false,
    "deletable": true,
    "editable": true
   },
   "outputs": [
    {
     "name": "stdout",
     "output_type": "stream",
     "text": [
      "AnaCompareDataSimSpec.ipynb\r\n",
      "AnaEqWdtCalibSpectrum.ipynb\r\n",
      "CalibrateSpectrum.ipynb\r\n",
      "Extract_Spectrum.ipynb\r\n",
      "FindCentralStar.ipynb\r\n",
      "FindCentralStarFast.ipynb\r\n",
      "FindOptRot.ipynb\r\n",
      "GenerateSimulationProfiles.ipynb\r\n",
      "MakeLogBook.ipynb\r\n",
      "ReduceAllImages.ipynb\r\n",
      "ReduceAllImages_rejectHD160617.ipynb\r\n",
      "ViewAllImages.ipynb\r\n",
      "\u001b[34mcut_fitsimages\u001b[m\u001b[m\r\n",
      "\u001b[34mimages_notebooks\u001b[m\u001b[m\r\n",
      "logbk_HD185975_HD205905 June 10th_ctio10jun2017.csv\r\n",
      "logbk_HD185975_HD205905 June 10th_ctio10jun2017.fits\r\n",
      "\u001b[34mprocessed_fitsimages\u001b[m\u001b[m\r\n",
      "\u001b[34mreduced_fitsimages\u001b[m\u001b[m\r\n",
      "\u001b[34mrotated_fitsimages\u001b[m\u001b[m\r\n",
      "\u001b[34mspectrum_fitsspec\u001b[m\u001b[m\r\n"
     ]
    }
   ],
   "source": [
    "!ls"
   ]
  },
  {
   "cell_type": "code",
   "execution_count": 70,
   "metadata": {
    "collapsed": true,
    "deletable": true,
    "editable": true
   },
   "outputs": [],
   "source": [
    "#rootpath_rawimage=\"../OverScanRemove/trim_images\"\n",
    "rootpath_rawimage=\"./reduced_fitsimages\"\n",
    "MIN_IMGNUMBER=135\n",
    "MAX_IMGNUMBER=303\n",
    "object_name='HD185975_HD205905 June 10th'\n",
    "SelectTagRe='^reduc_20170610_([0-9]+).fits$' # regular expression to select the file\n",
    "SearchTagRe='^reduc_20170610_[0-9]+.fits$'\n",
    "NBIMGPERLROW=4"
   ]
  },
  {
   "cell_type": "code",
   "execution_count": 71,
   "metadata": {
    "collapsed": true,
    "deletable": true,
    "editable": true
   },
   "outputs": [],
   "source": [
    "#rootpath_rawimage=\"/Users/dagoret-campagnesylvie/MacOsX/LSST/MyWork/GitHub/CTIOData2016/November2016/mucol\"\n",
    "#object_name='mucol'\n",
    "infos='ctio10jun2017'"
   ]
  },
  {
   "cell_type": "code",
   "execution_count": 54,
   "metadata": {
    "collapsed": false,
    "deletable": true,
    "editable": true
   },
   "outputs": [],
   "source": [
    "logfile='logbk_'+object_name+'_'+infos+'.fits'\n",
    "pandaslogfile='logbk_'+object_name+'_'+infos+'.csv'"
   ]
  },
  {
   "cell_type": "code",
   "execution_count": 72,
   "metadata": {
    "collapsed": true,
    "deletable": true,
    "editable": true
   },
   "outputs": [],
   "source": [
    "dirlist=[]\n",
    "dirlist.append(rootpath_rawimage)\n",
    "dirlist_all=np.array(dirlist)"
   ]
  },
  {
   "cell_type": "code",
   "execution_count": 73,
   "metadata": {
    "collapsed": false,
    "deletable": true,
    "editable": true
   },
   "outputs": [],
   "source": [
    "filelist_all=os.listdir(rootpath_rawimage) "
   ]
  },
  {
   "cell_type": "code",
   "execution_count": 74,
   "metadata": {
    "collapsed": false,
    "deletable": true,
    "editable": true
   },
   "outputs": [
    {
     "data": {
      "text/plain": [
       "['reduc_20170610_139.fits',\n",
       " 'reduc_20170610_140.fits',\n",
       " 'reduc_20170610_141.fits',\n",
       " 'reduc_20170610_142.fits',\n",
       " 'reduc_20170610_143.fits',\n",
       " 'reduc_20170610_144.fits',\n",
       " 'reduc_20170610_145.fits',\n",
       " 'reduc_20170610_146.fits',\n",
       " 'reduc_20170610_151.fits',\n",
       " 'reduc_20170610_152.fits',\n",
       " 'reduc_20170610_153.fits',\n",
       " 'reduc_20170610_154.fits',\n",
       " 'reduc_20170610_155.fits',\n",
       " 'reduc_20170610_156.fits',\n",
       " 'reduc_20170610_157.fits',\n",
       " 'reduc_20170610_158.fits',\n",
       " 'reduc_20170610_163.fits',\n",
       " 'reduc_20170610_164.fits',\n",
       " 'reduc_20170610_165.fits',\n",
       " 'reduc_20170610_166.fits',\n",
       " 'reduc_20170610_167.fits',\n",
       " 'reduc_20170610_168.fits',\n",
       " 'reduc_20170610_169.fits',\n",
       " 'reduc_20170610_170.fits',\n",
       " 'reduc_20170610_175.fits',\n",
       " 'reduc_20170610_176.fits',\n",
       " 'reduc_20170610_177.fits',\n",
       " 'reduc_20170610_178.fits',\n",
       " 'reduc_20170610_179.fits',\n",
       " 'reduc_20170610_180.fits',\n",
       " 'reduc_20170610_181.fits',\n",
       " 'reduc_20170610_182.fits',\n",
       " 'reduc_20170610_187.fits',\n",
       " 'reduc_20170610_188.fits',\n",
       " 'reduc_20170610_189.fits',\n",
       " 'reduc_20170610_190.fits',\n",
       " 'reduc_20170610_191.fits',\n",
       " 'reduc_20170610_192.fits',\n",
       " 'reduc_20170610_193.fits',\n",
       " 'reduc_20170610_194.fits',\n",
       " 'reduc_20170610_199.fits',\n",
       " 'reduc_20170610_200.fits',\n",
       " 'reduc_20170610_201.fits',\n",
       " 'reduc_20170610_202.fits',\n",
       " 'reduc_20170610_203.fits',\n",
       " 'reduc_20170610_204.fits',\n",
       " 'reduc_20170610_205.fits',\n",
       " 'reduc_20170610_206.fits',\n",
       " 'reduc_20170610_211.fits',\n",
       " 'reduc_20170610_212.fits',\n",
       " 'reduc_20170610_213.fits',\n",
       " 'reduc_20170610_214.fits',\n",
       " 'reduc_20170610_215.fits',\n",
       " 'reduc_20170610_216.fits',\n",
       " 'reduc_20170610_217.fits',\n",
       " 'reduc_20170610_218.fits',\n",
       " 'reduc_20170610_223.fits',\n",
       " 'reduc_20170610_224.fits',\n",
       " 'reduc_20170610_225.fits',\n",
       " 'reduc_20170610_226.fits',\n",
       " 'reduc_20170610_227.fits',\n",
       " 'reduc_20170610_228.fits',\n",
       " 'reduc_20170610_229.fits',\n",
       " 'reduc_20170610_230.fits',\n",
       " 'reduc_20170610_235.fits',\n",
       " 'reduc_20170610_236.fits',\n",
       " 'reduc_20170610_237.fits',\n",
       " 'reduc_20170610_238.fits',\n",
       " 'reduc_20170610_239.fits',\n",
       " 'reduc_20170610_240.fits',\n",
       " 'reduc_20170610_241.fits',\n",
       " 'reduc_20170610_242.fits',\n",
       " 'reduc_20170610_247.fits',\n",
       " 'reduc_20170610_248.fits',\n",
       " 'reduc_20170610_249.fits',\n",
       " 'reduc_20170610_250.fits',\n",
       " 'reduc_20170610_251.fits',\n",
       " 'reduc_20170610_252.fits',\n",
       " 'reduc_20170610_253.fits',\n",
       " 'reduc_20170610_254.fits',\n",
       " 'reduc_20170610_259.fits',\n",
       " 'reduc_20170610_260.fits',\n",
       " 'reduc_20170610_261.fits',\n",
       " 'reduc_20170610_262.fits',\n",
       " 'reduc_20170610_263.fits',\n",
       " 'reduc_20170610_264.fits',\n",
       " 'reduc_20170610_265.fits',\n",
       " 'reduc_20170610_266.fits',\n",
       " 'reduc_20170610_271.fits',\n",
       " 'reduc_20170610_272.fits',\n",
       " 'reduc_20170610_273.fits',\n",
       " 'reduc_20170610_274.fits',\n",
       " 'reduc_20170610_275.fits',\n",
       " 'reduc_20170610_276.fits',\n",
       " 'reduc_20170610_277.fits',\n",
       " 'reduc_20170610_278.fits',\n",
       " 'reduc_20170610_283.fits',\n",
       " 'reduc_20170610_284.fits',\n",
       " 'reduc_20170610_285.fits',\n",
       " 'reduc_20170610_286.fits',\n",
       " 'reduc_20170610_287.fits',\n",
       " 'reduc_20170610_288.fits',\n",
       " 'reduc_20170610_289.fits',\n",
       " 'reduc_20170610_290.fits',\n",
       " 'reduc_20170610_295.fits',\n",
       " 'reduc_20170610_296.fits',\n",
       " 'reduc_20170610_297.fits',\n",
       " 'reduc_20170610_298.fits',\n",
       " 'reduc_20170610_299.fits',\n",
       " 'reduc_20170610_300.fits',\n",
       " 'reduc_20170610_301.fits',\n",
       " 'reduc_20170610_302.fits']"
      ]
     },
     "execution_count": 74,
     "metadata": {},
     "output_type": "execute_result"
    }
   ],
   "source": [
    "#dirlist_all.remove('.DS_Store') # reove that file in a mAC\n",
    "filelist_all"
   ]
  },
  {
   "cell_type": "code",
   "execution_count": 75,
   "metadata": {
    "collapsed": true,
    "deletable": true,
    "editable": true
   },
   "outputs": [],
   "source": [
    "indexes_files= [] # global list\n",
    "filelist_fitsimages= []  # global list"
   ]
  },
  {
   "cell_type": "code",
   "execution_count": 59,
   "metadata": {
    "collapsed": false,
    "deletable": true,
    "editable": true
   },
   "outputs": [],
   "source": [
    "def MakeFileList():\n",
    "    \"\"\"\n",
    "    MakeFileList : Make The List of files to open\n",
    "    =============\n",
    "    \n",
    "    - we select the files which are of interest.\n",
    "    - In particular select the number range\n",
    "    \n",
    "    \"\"\"\n",
    "    count=0\n",
    "    \n",
    "    for dir in dirlist_all: # loop on directories, one per image   (if necessary)    \n",
    "            dir_leaf= dir # build the name of leaf directory\n",
    "            listfiles=os.listdir(dir_leaf) \n",
    "            for filename in listfiles:\n",
    "                if re.search(SearchTagRe,filename):  #example of filename filter\n",
    "                    str_index=re.findall(SelectTagRe,filename)\n",
    "                    count=count+1\n",
    "                    index=int(str_index[0])\n",
    "                    if index >= MIN_IMGNUMBER and index <= MAX_IMGNUMBER: \n",
    "                        indexes_files.append(index)         \n",
    "                        shortfilename=dir_leaf+'/'+filename\n",
    "                        filelist_fitsimages.append(shortfilename)\n",
    "                    \n",
    "    return"
   ]
  },
  {
   "cell_type": "code",
   "execution_count": 76,
   "metadata": {
    "collapsed": false,
    "deletable": true,
    "editable": true
   },
   "outputs": [],
   "source": [
    "MakeFileList()   # Make the list"
   ]
  },
  {
   "cell_type": "code",
   "execution_count": 77,
   "metadata": {
    "collapsed": true,
    "deletable": true,
    "editable": true
   },
   "outputs": [],
   "source": [
    "indexes_files=np.array(indexes_files)\n",
    "filelist_fitsimages=np.array(filelist_fitsimages)"
   ]
  },
  {
   "cell_type": "code",
   "execution_count": 79,
   "metadata": {
    "collapsed": false,
    "deletable": true,
    "editable": true
   },
   "outputs": [
    {
     "data": {
      "text/plain": [
       "array([139, 140, 141, 142, 143, 144, 145, 146, 151, 152, 153, 154, 155,\n",
       "       156, 157, 158, 163, 164, 165, 166, 167, 168, 169, 170, 175, 176,\n",
       "       177, 178, 179, 180, 181, 182, 187, 188, 189, 190, 191, 192, 193,\n",
       "       194, 199, 200, 201, 202, 203, 204, 205, 206, 211, 212, 213, 214,\n",
       "       215, 216, 217, 218, 223, 224, 225, 226, 227, 228, 229, 230, 235,\n",
       "       236, 237, 238, 239, 240, 241, 242, 247, 248, 249, 250, 251, 252,\n",
       "       253, 254, 259, 260, 261, 262, 263, 264, 265, 266, 271, 272, 273,\n",
       "       274, 275, 276, 277, 278, 283, 284, 285, 286, 287, 288, 289, 290,\n",
       "       295, 296, 297, 298, 299, 300, 301, 302])"
      ]
     },
     "execution_count": 79,
     "metadata": {},
     "output_type": "execute_result"
    }
   ],
   "source": [
    "indexes_files"
   ]
  },
  {
   "cell_type": "code",
   "execution_count": 80,
   "metadata": {
    "collapsed": true,
    "deletable": true,
    "editable": true
   },
   "outputs": [],
   "source": [
    "sorted_indexes=np.argsort(indexes_files) # sort the file indexes"
   ]
  },
  {
   "cell_type": "code",
   "execution_count": 81,
   "metadata": {
    "collapsed": true,
    "deletable": true,
    "editable": true
   },
   "outputs": [],
   "source": [
    "sorted_files=filelist_fitsimages[sorted_indexes]"
   ]
  },
  {
   "cell_type": "code",
   "execution_count": 82,
   "metadata": {
    "collapsed": true,
    "deletable": true,
    "editable": true
   },
   "outputs": [],
   "source": [
    "sorted_numbers=indexes_files[sorted_indexes]"
   ]
  },
  {
   "cell_type": "code",
   "execution_count": 83,
   "metadata": {
    "collapsed": true,
    "deletable": true,
    "editable": true
   },
   "outputs": [],
   "source": [
    "sorted_filenames=[]\n",
    "for file in sorted_files:\n",
    "    #fullfilename=os.path.join(rootpath_rawimage,file)\n",
    "    fullfilename=file\n",
    "    sorted_filenames.append(fullfilename)"
   ]
  },
  {
   "cell_type": "code",
   "execution_count": 84,
   "metadata": {
    "collapsed": true,
    "deletable": true,
    "editable": true
   },
   "outputs": [],
   "source": [
    "sorted_filenames=np.array(sorted_filenames)"
   ]
  },
  {
   "cell_type": "code",
   "execution_count": 85,
   "metadata": {
    "collapsed": false,
    "deletable": true,
    "editable": true
   },
   "outputs": [
    {
     "data": {
      "text/plain": [
       "array(['./reduced_fitsimages/reduc_20170610_139.fits',\n",
       "       './reduced_fitsimages/reduc_20170610_140.fits',\n",
       "       './reduced_fitsimages/reduc_20170610_141.fits',\n",
       "       './reduced_fitsimages/reduc_20170610_142.fits',\n",
       "       './reduced_fitsimages/reduc_20170610_143.fits',\n",
       "       './reduced_fitsimages/reduc_20170610_144.fits',\n",
       "       './reduced_fitsimages/reduc_20170610_145.fits',\n",
       "       './reduced_fitsimages/reduc_20170610_146.fits',\n",
       "       './reduced_fitsimages/reduc_20170610_151.fits',\n",
       "       './reduced_fitsimages/reduc_20170610_152.fits',\n",
       "       './reduced_fitsimages/reduc_20170610_153.fits',\n",
       "       './reduced_fitsimages/reduc_20170610_154.fits',\n",
       "       './reduced_fitsimages/reduc_20170610_155.fits',\n",
       "       './reduced_fitsimages/reduc_20170610_156.fits',\n",
       "       './reduced_fitsimages/reduc_20170610_157.fits',\n",
       "       './reduced_fitsimages/reduc_20170610_158.fits',\n",
       "       './reduced_fitsimages/reduc_20170610_163.fits',\n",
       "       './reduced_fitsimages/reduc_20170610_164.fits',\n",
       "       './reduced_fitsimages/reduc_20170610_165.fits',\n",
       "       './reduced_fitsimages/reduc_20170610_166.fits',\n",
       "       './reduced_fitsimages/reduc_20170610_167.fits',\n",
       "       './reduced_fitsimages/reduc_20170610_168.fits',\n",
       "       './reduced_fitsimages/reduc_20170610_169.fits',\n",
       "       './reduced_fitsimages/reduc_20170610_170.fits',\n",
       "       './reduced_fitsimages/reduc_20170610_175.fits',\n",
       "       './reduced_fitsimages/reduc_20170610_176.fits',\n",
       "       './reduced_fitsimages/reduc_20170610_177.fits',\n",
       "       './reduced_fitsimages/reduc_20170610_178.fits',\n",
       "       './reduced_fitsimages/reduc_20170610_179.fits',\n",
       "       './reduced_fitsimages/reduc_20170610_180.fits',\n",
       "       './reduced_fitsimages/reduc_20170610_181.fits',\n",
       "       './reduced_fitsimages/reduc_20170610_182.fits',\n",
       "       './reduced_fitsimages/reduc_20170610_187.fits',\n",
       "       './reduced_fitsimages/reduc_20170610_188.fits',\n",
       "       './reduced_fitsimages/reduc_20170610_189.fits',\n",
       "       './reduced_fitsimages/reduc_20170610_190.fits',\n",
       "       './reduced_fitsimages/reduc_20170610_191.fits',\n",
       "       './reduced_fitsimages/reduc_20170610_192.fits',\n",
       "       './reduced_fitsimages/reduc_20170610_193.fits',\n",
       "       './reduced_fitsimages/reduc_20170610_194.fits',\n",
       "       './reduced_fitsimages/reduc_20170610_199.fits',\n",
       "       './reduced_fitsimages/reduc_20170610_200.fits',\n",
       "       './reduced_fitsimages/reduc_20170610_201.fits',\n",
       "       './reduced_fitsimages/reduc_20170610_202.fits',\n",
       "       './reduced_fitsimages/reduc_20170610_203.fits',\n",
       "       './reduced_fitsimages/reduc_20170610_204.fits',\n",
       "       './reduced_fitsimages/reduc_20170610_205.fits',\n",
       "       './reduced_fitsimages/reduc_20170610_206.fits',\n",
       "       './reduced_fitsimages/reduc_20170610_211.fits',\n",
       "       './reduced_fitsimages/reduc_20170610_212.fits',\n",
       "       './reduced_fitsimages/reduc_20170610_213.fits',\n",
       "       './reduced_fitsimages/reduc_20170610_214.fits',\n",
       "       './reduced_fitsimages/reduc_20170610_215.fits',\n",
       "       './reduced_fitsimages/reduc_20170610_216.fits',\n",
       "       './reduced_fitsimages/reduc_20170610_217.fits',\n",
       "       './reduced_fitsimages/reduc_20170610_218.fits',\n",
       "       './reduced_fitsimages/reduc_20170610_223.fits',\n",
       "       './reduced_fitsimages/reduc_20170610_224.fits',\n",
       "       './reduced_fitsimages/reduc_20170610_225.fits',\n",
       "       './reduced_fitsimages/reduc_20170610_226.fits',\n",
       "       './reduced_fitsimages/reduc_20170610_227.fits',\n",
       "       './reduced_fitsimages/reduc_20170610_228.fits',\n",
       "       './reduced_fitsimages/reduc_20170610_229.fits',\n",
       "       './reduced_fitsimages/reduc_20170610_230.fits',\n",
       "       './reduced_fitsimages/reduc_20170610_235.fits',\n",
       "       './reduced_fitsimages/reduc_20170610_236.fits',\n",
       "       './reduced_fitsimages/reduc_20170610_237.fits',\n",
       "       './reduced_fitsimages/reduc_20170610_238.fits',\n",
       "       './reduced_fitsimages/reduc_20170610_239.fits',\n",
       "       './reduced_fitsimages/reduc_20170610_240.fits',\n",
       "       './reduced_fitsimages/reduc_20170610_241.fits',\n",
       "       './reduced_fitsimages/reduc_20170610_242.fits',\n",
       "       './reduced_fitsimages/reduc_20170610_247.fits',\n",
       "       './reduced_fitsimages/reduc_20170610_248.fits',\n",
       "       './reduced_fitsimages/reduc_20170610_249.fits',\n",
       "       './reduced_fitsimages/reduc_20170610_250.fits',\n",
       "       './reduced_fitsimages/reduc_20170610_251.fits',\n",
       "       './reduced_fitsimages/reduc_20170610_252.fits',\n",
       "       './reduced_fitsimages/reduc_20170610_253.fits',\n",
       "       './reduced_fitsimages/reduc_20170610_254.fits',\n",
       "       './reduced_fitsimages/reduc_20170610_259.fits',\n",
       "       './reduced_fitsimages/reduc_20170610_260.fits',\n",
       "       './reduced_fitsimages/reduc_20170610_261.fits',\n",
       "       './reduced_fitsimages/reduc_20170610_262.fits',\n",
       "       './reduced_fitsimages/reduc_20170610_263.fits',\n",
       "       './reduced_fitsimages/reduc_20170610_264.fits',\n",
       "       './reduced_fitsimages/reduc_20170610_265.fits',\n",
       "       './reduced_fitsimages/reduc_20170610_266.fits',\n",
       "       './reduced_fitsimages/reduc_20170610_271.fits',\n",
       "       './reduced_fitsimages/reduc_20170610_272.fits',\n",
       "       './reduced_fitsimages/reduc_20170610_273.fits',\n",
       "       './reduced_fitsimages/reduc_20170610_274.fits',\n",
       "       './reduced_fitsimages/reduc_20170610_275.fits',\n",
       "       './reduced_fitsimages/reduc_20170610_276.fits',\n",
       "       './reduced_fitsimages/reduc_20170610_277.fits',\n",
       "       './reduced_fitsimages/reduc_20170610_278.fits',\n",
       "       './reduced_fitsimages/reduc_20170610_283.fits',\n",
       "       './reduced_fitsimages/reduc_20170610_284.fits',\n",
       "       './reduced_fitsimages/reduc_20170610_285.fits',\n",
       "       './reduced_fitsimages/reduc_20170610_286.fits',\n",
       "       './reduced_fitsimages/reduc_20170610_287.fits',\n",
       "       './reduced_fitsimages/reduc_20170610_288.fits',\n",
       "       './reduced_fitsimages/reduc_20170610_289.fits',\n",
       "       './reduced_fitsimages/reduc_20170610_290.fits',\n",
       "       './reduced_fitsimages/reduc_20170610_295.fits',\n",
       "       './reduced_fitsimages/reduc_20170610_296.fits',\n",
       "       './reduced_fitsimages/reduc_20170610_297.fits',\n",
       "       './reduced_fitsimages/reduc_20170610_298.fits',\n",
       "       './reduced_fitsimages/reduc_20170610_299.fits',\n",
       "       './reduced_fitsimages/reduc_20170610_300.fits',\n",
       "       './reduced_fitsimages/reduc_20170610_301.fits',\n",
       "       './reduced_fitsimages/reduc_20170610_302.fits'], \n",
       "      dtype='|S44')"
      ]
     },
     "execution_count": 85,
     "metadata": {},
     "output_type": "execute_result"
    }
   ],
   "source": [
    "sorted_filenames"
   ]
  },
  {
   "cell_type": "code",
   "execution_count": 86,
   "metadata": {
    "collapsed": false,
    "deletable": true,
    "editable": true
   },
   "outputs": [],
   "source": [
    "from astropy.io import fits\n",
    "with fits.open(sorted_filenames[0]) as pf:\n",
    "    (pf[0].header)"
   ]
  },
  {
   "cell_type": "code",
   "execution_count": 87,
   "metadata": {
    "collapsed": false,
    "deletable": true,
    "editable": true
   },
   "outputs": [
    {
     "data": {
      "text/plain": [
       "SIMPLE  =                    T / conforms to FITS standard                      \n",
       "BITPIX  =                  -64 / array data type                                \n",
       "NAXIS   =                    2 / number of array dimensions                     \n",
       "NAXIS1  =                 2048                                                  \n",
       "NAXIS2  =                 2048                                                  \n",
       "COMMENT   FITS (Flexible Image Transport System) format is defined in 'Astronomy\n",
       "COMMENT   and Astrophysics', volume 376, page 359; bibcode: 2001A&A...376..359H \n",
       "OBJECT  = 'HD185975'           / Name of object observed                        \n",
       "OBSERVER= '        '           / observer                                       \n",
       "PROPID  = '        '           / Proposal ID                                    \n",
       "RECID   = 'ct36.20170611.053406' / NOAO Archibe record ID                       \n",
       "PROPID  = '        '           / Proposal ID                                    \n",
       "IMAGETYP= 'object  '           / Type of picture (object, dark, comp, etc)      \n",
       "CCDSUM  = '1 1     '           / On chip summation (X, Y)                       \n",
       "XSTART  =                    1 / start of roi in X                              \n",
       "YSTART  =                    1 / start of roi in Y                              \n",
       "XLENGTH =                 2048 / length of roi in X                             \n",
       "YLENGTH =                 2048 / length of roi in Y                             \n",
       "UTSHUT  = '2017-06-11T05:34:06.396' / UT of shutter open                        \n",
       "UT      = '05:34:06.396'       / UT of TCS coordinates                          \n",
       "DATE-OBS= '2017-06-11T05:34:06.396' / date of observations start                \n",
       "DATE    = '2017-06-11T05:34:38' / file creation date (YYYY-MM-DDThh:mm:ss UT)   \n",
       "NAMPSYX = '2 2     '           / Num amps in y and x (eg. '2 2=quad')           \n",
       "AMPLIST = '11 12 21 22'        / Readout order in y,x                           \n",
       "GTRON11 =                  12. / (e-) predicted read noise, lower left          \n",
       "GTRON12 =                  12. / (e-) predicted read noise, lower right         \n",
       "GTRON21 =                  12. / (e-) predicted read noise, upper left          \n",
       "GTRON22 =                  12. / (e-) predicted read noise, upper right         \n",
       "GTGAIN11=                   3. / (e-/ADU) predicted gain, lower left            \n",
       "GTGAIN12=                   3. / (e-/ADU) predicted gain, lower right           \n",
       "GTGAIN21=                   3. / (e-/ADU) predicted gain, upper left            \n",
       "GTGAIN22=                   3. / (e-/ADU) predicted gain, upper right           \n",
       "ASEC11  = '[1:1084,1:1024]'    / amplifier section Amp11(LL) detID 1            \n",
       "BSEC11  = '[1045:1084,1:1024]' / bias section Amp11(LL) detID 1                 \n",
       "CSEC11  = '[1:1034,1:1024]'    / section in full ccd for DSEC Amp11(LL) detID 1 \n",
       "DSEC11  = '[1:1034,1:1024]'    / image section in raw frame Amp11(LL) detID 1   \n",
       "TSEC11  = '[11:1034,1:1024]'   / trim section Amp11(LL) detID 1                 \n",
       "ABSEC11 = '[1045:1084,1:1024]' / overscan inside amp                            \n",
       "ADSEC11 = '[1:1024,1:1024]'    / detector section only                          \n",
       "ASEC12  = '[1085:2168,1:1024]' / amplifier section Amp12(LR) detID 1            \n",
       "BSEC12  = '[1085:1124,1:1024]' / bias section Amp12(LR) detID 1                 \n",
       "CSEC12  = '[1035:2068,1:1024]' / section in full ccd for DSEC Amp12(LR) detID 1 \n",
       "DSEC12  = '[1135:2168,1:1024]' / image section in raw frame Amp12(LR) detID 1   \n",
       "TSEC12  = '[1135:2158,1:1024]' / trim section Amp12(LR) detID 1                 \n",
       "ABSEC12 = '[1:40,1:1024]'      / overscan inside amp                            \n",
       "ADSEC12 = '[1025:2048,1:1024]' / detector section only                          \n",
       "ASEC21  = '[1:1084,1025:2048]' / amplifier section Amp21(UL) detID 1            \n",
       "BSEC21  = '[1045:1084,1025:2048]' / bias section Amp21(UL) detID 1              \n",
       "CSEC21  = '[1:1034,1025:2048]' / section in full ccd for DSEC Amp21(UL) detID 1 \n",
       "DSEC21  = '[1:1034,1025:2048]' / image section in raw frame Amp21(UL) detID 1   \n",
       "TSEC21  = '[11:1034,1025:2048]' / trim section Amp21(UL) detID 1                \n",
       "ABSEC21 = '[1045:1084,1:1024]' / overscan inside amp                            \n",
       "ADSEC21 = '[1:1024,1025:2048]' / detector section only                          \n",
       "ASEC22  = '[1085:2168,1025:2048]' / amplifier section Amp22(UR) detID 1         \n",
       "BSEC22  = '[1085:1124,1025:2048]' / bias section Amp22(UR) detID 1              \n",
       "CSEC22  = '[1035:2068,1025:2048]' / section in full ccd for DSEC Amp22(UR) detID\n",
       "DSEC22  = '[1135:2168,1025:2048]' / image section in raw frame Amp22(UR) detID 1\n",
       "TSEC22  = '[1135:2158,1025:2048]' / trim section Amp22(UR) detID 1              \n",
       "ABSEC22 = '[1:40,1:1024]'      / overscan inside amp                            \n",
       "ADSEC22 = '[1025:2048,1025:2048]' / detector section only                       \n",
       "ROISEC00= '[1:2048,1:2048]'    / roi section                                    \n",
       "DETECTOR= 'Tek2K_3 '           / Detector Identifier                            \n",
       "FPA     = 'SITE2K  '           / focal plan array                               \n",
       "REXPTIME=                  30. / requested exposure time in secs                \n",
       "EXPTIME =                  30. / Exposure time in secs                          \n",
       "DARKTIME=                  30. / Total elapsed time in secs                     \n",
       "NIMAGES =                    1 / number of images requested in sequence         \n",
       "PIXELT  = '25000.000000'       / (ns) unbinned pixel read time                  \n",
       "DHEINF  = 'MNSN torrent hardware' / controller info                             \n",
       "DHEFIRM = '/home/observer/panview/fpas/_biw/config/DETECTOR/site2k_sequencer.uc'\n",
       "PIXTIME = '25      '           / pixel time (usecs)                             \n",
       "POWSTAT = '3.000   '           / power supplies status (3=OK)                   \n",
       "CCDSETP = '163.000 '           / ccd temperature setpoint                       \n",
       "CCDTEMP = '165.500 '           / CCD temperature                                \n",
       "NECKTEMP= '147.120 '           / dewar NECK temperature                         \n",
       "HEATERSP= '32.283  '           / Heater power percent.                          \n",
       "VDDA    = '24.049  '           / bias output amplifier A                        \n",
       "VDDB    = '24.004  '           / bias output amplifier B                        \n",
       "VDDC    = '24.423  '           / bias output amplifier C                        \n",
       "VDDD    = '24.244  '           / bias output amplifier D                        \n",
       "VRDA    = '13.855  '           / Reset Drain amplifier A                        \n",
       "VRDB    = '13.825  '           / Reset Drain amplifier B                        \n",
       "VRDC    = '14.079  '           / Reset Drain amplifier C                        \n",
       "VRDD    = '13.990  '           / Reset Drain amplifier D                        \n",
       "LGA     = '-2.012  '           / Reset Drain amplifier A                        \n",
       "LGB     = '-2.072  '           / Reset Drain amplifier B                        \n",
       "LGC     = '-1.982  '           / Reset Drain amplifier C                        \n",
       "LGD     = '-1.982  '           / Reset Drain amplifier D                        \n",
       "SLOT00  = 'LCB 0x188538 2.240000' / dhe board: <type> <serial> <firmware>       \n",
       "SLOT01  = 'PSM 0x45834F 2.210000' / dhe board: <type> <serial> <firmware>       \n",
       "SLOT02  = 'CFG 0xNONE 2.240000' / dhe board: <type> <serial> <firmware>         \n",
       "SLOT03  = 'PIX 0xNONE 2.210000' / dhe board: <type> <serial> <firmware>         \n",
       "SLOT04  = 'CCDAFE 0x188167 18805C 2.210000' / dhe board: <type> <serial> <firmwa\n",
       "SLOT07  = 'CB 0xNONE 2.240000' / dhe board: <type> <serial> <firmware>          \n",
       "SLOT02  = 'TSM 0x3C6784 NONE'  / dhe board: <type> <serial> <firmware>          \n",
       "VANPLUS =             10.47619 / analog voltage plus                            \n",
       "VANMINU =            -10.47945 / analog voltage minus                           \n",
       "FPGATEMP=             37.43842 / torrent fpga temperature                       \n",
       "ID      = '[ct36.20170611.053406]' / ID                                         \n",
       "OBSERVAT= 'CTIO    '           / Origin of data                                 \n",
       "TELESCOP= 'CTIO 0.9 meter telescope' / Specific system                          \n",
       "TELID   = 'ct36    '           / CTIO 0.9 meter telescope                       \n",
       "TCS-TIME= '2017-06-10T05:34:7.72' / date of observation start                   \n",
       "UT      = '05:34:7.72'         / UT of TCS coords                               \n",
       "RA      = '20:25:32.64'        / ra                                             \n",
       "DEC     = '-87:30:49.84'       / dec                                            \n",
       "EPOCH   =                2000. / epoch                                          \n",
       "ZD      =               57.824 / zenith distance                                \n",
       "HA      = '-02:15:38.00'       / hour angle                                     \n",
       "ST      = '18:09:54.64'        / sidereal time                                  \n",
       "AIRMASS =                1.874 / airmass                                        \n",
       "ALT     = '166.16  '           / altitud                                        \n",
       "TELFOCUS=               12450. / telescope focus                                \n",
       "WEATIME = '2017-06-11 05:33:01' / weather timestamp                             \n",
       "OUTTEMP =                 13.5 / outside temp (C)                               \n",
       "OUTHUM  =                   23 / outside humidity (%)                           \n",
       "OUTPRESS=                 778. / outside pressure (hPa)                         \n",
       "WNDSPEED=                 17.4 / wind speed (mph)                               \n",
       "WNDDIR  =                   30 / wind dir (degrees)                             \n",
       "SEETIME = '2017-06-11 05:32:22' / seeing timestamp                              \n",
       "SEEING  =                0.712 / seeing                                         \n",
       "SAIRMASS=                1.014 / seeing airmass                                 \n",
       "PANID   = '_biw    '           / PAN identification                             \n",
       "COMMENT image                                                                   \n",
       "COMMENT Image is trimmed                                                        \n",
       "FILTER1 = 'RG715   '           / Filter in wheel 1                              \n",
       "FNAME1  = 'RG715   '           / Full name of filter in wheel 1                 \n",
       "FILTER2 = 'Thor300 '           / Filter in wheel 2                              \n",
       "FNAME2  = 'Thorlabs300'        / Full name of filter in wheel 2                 \n",
       "FILTERS = 'RG715 Thor300'      / Filter positions                               \n",
       "INSTRUME= 'cfccd   '           / cassegrain direct imager                       \n",
       "XPIXSIZE=                0.401 / Pixel size in X (arcsecs/pix)                  \n",
       "YPIXSIZE=                0.401 / Pixel size in Y (arcsecs/pix)                  \n",
       "TEST    =                   2. / my keyword                                     "
      ]
     },
     "execution_count": 87,
     "metadata": {},
     "output_type": "execute_result"
    }
   ],
   "source": [
    "pf[0].header"
   ]
  },
  {
   "cell_type": "markdown",
   "metadata": {
    "collapsed": false,
    "deletable": true,
    "editable": true
   },
   "source": [
    "### Build tables for output file"
   ]
  },
  {
   "cell_type": "code",
   "execution_count": null,
   "metadata": {
    "collapsed": false,
    "deletable": true,
    "editable": true
   },
   "outputs": [],
   "source": []
  },
  {
   "cell_type": "code",
   "execution_count": 88,
   "metadata": {
    "collapsed": false,
    "deletable": true,
    "editable": true
   },
   "outputs": [
    {
     "name": "stdout",
     "output_type": "stream",
     "text": [
      "./reduced_fitsimages/reduc_20170610_139.fits\n",
      "./reduced_fitsimages/reduc_20170610_140.fits\n",
      "./reduced_fitsimages/reduc_20170610_141.fits\n",
      "./reduced_fitsimages/reduc_20170610_142.fits\n",
      "./reduced_fitsimages/reduc_20170610_143.fits\n",
      "./reduced_fitsimages/reduc_20170610_144.fits\n",
      "./reduced_fitsimages/reduc_20170610_145.fits\n",
      "./reduced_fitsimages/reduc_20170610_146.fits\n",
      "./reduced_fitsimages/reduc_20170610_151.fits\n",
      "./reduced_fitsimages/reduc_20170610_152.fits\n",
      "./reduced_fitsimages/reduc_20170610_153.fits\n",
      "./reduced_fitsimages/reduc_20170610_154.fits\n",
      "./reduced_fitsimages/reduc_20170610_155.fits\n",
      "./reduced_fitsimages/reduc_20170610_156.fits\n",
      "./reduced_fitsimages/reduc_20170610_157.fits\n",
      "./reduced_fitsimages/reduc_20170610_158.fits\n",
      "./reduced_fitsimages/reduc_20170610_163.fits\n",
      "./reduced_fitsimages/reduc_20170610_164.fits\n",
      "./reduced_fitsimages/reduc_20170610_165.fits\n",
      "./reduced_fitsimages/reduc_20170610_166.fits\n",
      "./reduced_fitsimages/reduc_20170610_167.fits\n",
      "./reduced_fitsimages/reduc_20170610_168.fits\n",
      "./reduced_fitsimages/reduc_20170610_169.fits\n",
      "./reduced_fitsimages/reduc_20170610_170.fits\n",
      "./reduced_fitsimages/reduc_20170610_175.fits\n",
      "./reduced_fitsimages/reduc_20170610_176.fits\n",
      "./reduced_fitsimages/reduc_20170610_177.fits\n",
      "./reduced_fitsimages/reduc_20170610_178.fits\n",
      "./reduced_fitsimages/reduc_20170610_179.fits\n",
      "./reduced_fitsimages/reduc_20170610_180.fits\n",
      "./reduced_fitsimages/reduc_20170610_181.fits\n",
      "./reduced_fitsimages/reduc_20170610_182.fits\n",
      "./reduced_fitsimages/reduc_20170610_187.fits\n",
      "./reduced_fitsimages/reduc_20170610_188.fits\n",
      "./reduced_fitsimages/reduc_20170610_189.fits\n",
      "./reduced_fitsimages/reduc_20170610_190.fits\n",
      "./reduced_fitsimages/reduc_20170610_191.fits\n",
      "./reduced_fitsimages/reduc_20170610_192.fits\n",
      "./reduced_fitsimages/reduc_20170610_193.fits\n",
      "./reduced_fitsimages/reduc_20170610_194.fits\n",
      "./reduced_fitsimages/reduc_20170610_199.fits\n",
      "./reduced_fitsimages/reduc_20170610_200.fits\n",
      "./reduced_fitsimages/reduc_20170610_201.fits\n",
      "./reduced_fitsimages/reduc_20170610_202.fits\n",
      "./reduced_fitsimages/reduc_20170610_203.fits\n",
      "./reduced_fitsimages/reduc_20170610_204.fits\n",
      "./reduced_fitsimages/reduc_20170610_205.fits\n",
      "./reduced_fitsimages/reduc_20170610_206.fits\n",
      "./reduced_fitsimages/reduc_20170610_211.fits\n",
      "./reduced_fitsimages/reduc_20170610_212.fits\n",
      "./reduced_fitsimages/reduc_20170610_213.fits\n",
      "./reduced_fitsimages/reduc_20170610_214.fits\n",
      "./reduced_fitsimages/reduc_20170610_215.fits\n",
      "./reduced_fitsimages/reduc_20170610_216.fits\n",
      "./reduced_fitsimages/reduc_20170610_217.fits\n",
      "./reduced_fitsimages/reduc_20170610_218.fits\n",
      "./reduced_fitsimages/reduc_20170610_223.fits\n",
      "./reduced_fitsimages/reduc_20170610_224.fits\n",
      "./reduced_fitsimages/reduc_20170610_225.fits\n",
      "./reduced_fitsimages/reduc_20170610_226.fits\n",
      "./reduced_fitsimages/reduc_20170610_227.fits\n",
      "./reduced_fitsimages/reduc_20170610_228.fits\n",
      "./reduced_fitsimages/reduc_20170610_229.fits\n",
      "./reduced_fitsimages/reduc_20170610_230.fits\n",
      "./reduced_fitsimages/reduc_20170610_235.fits\n",
      "./reduced_fitsimages/reduc_20170610_236.fits\n",
      "./reduced_fitsimages/reduc_20170610_237.fits\n",
      "./reduced_fitsimages/reduc_20170610_238.fits\n",
      "./reduced_fitsimages/reduc_20170610_239.fits\n",
      "./reduced_fitsimages/reduc_20170610_240.fits\n",
      "./reduced_fitsimages/reduc_20170610_241.fits\n",
      "./reduced_fitsimages/reduc_20170610_242.fits\n",
      "./reduced_fitsimages/reduc_20170610_247.fits\n",
      "./reduced_fitsimages/reduc_20170610_248.fits\n",
      "./reduced_fitsimages/reduc_20170610_249.fits\n",
      "./reduced_fitsimages/reduc_20170610_250.fits\n",
      "./reduced_fitsimages/reduc_20170610_251.fits\n",
      "./reduced_fitsimages/reduc_20170610_252.fits\n",
      "./reduced_fitsimages/reduc_20170610_253.fits\n",
      "./reduced_fitsimages/reduc_20170610_254.fits\n",
      "./reduced_fitsimages/reduc_20170610_259.fits\n",
      "./reduced_fitsimages/reduc_20170610_260.fits\n",
      "./reduced_fitsimages/reduc_20170610_261.fits\n",
      "./reduced_fitsimages/reduc_20170610_262.fits\n",
      "./reduced_fitsimages/reduc_20170610_263.fits\n",
      "./reduced_fitsimages/reduc_20170610_264.fits\n",
      "./reduced_fitsimages/reduc_20170610_265.fits\n",
      "./reduced_fitsimages/reduc_20170610_266.fits\n",
      "./reduced_fitsimages/reduc_20170610_271.fits\n",
      "./reduced_fitsimages/reduc_20170610_272.fits\n",
      "./reduced_fitsimages/reduc_20170610_273.fits\n",
      "./reduced_fitsimages/reduc_20170610_274.fits\n",
      "./reduced_fitsimages/reduc_20170610_275.fits\n",
      "./reduced_fitsimages/reduc_20170610_276.fits\n",
      "./reduced_fitsimages/reduc_20170610_277.fits\n",
      "./reduced_fitsimages/reduc_20170610_278.fits\n",
      "./reduced_fitsimages/reduc_20170610_283.fits\n",
      "./reduced_fitsimages/reduc_20170610_284.fits\n",
      "./reduced_fitsimages/reduc_20170610_285.fits\n",
      "./reduced_fitsimages/reduc_20170610_286.fits\n",
      "./reduced_fitsimages/reduc_20170610_287.fits\n",
      "./reduced_fitsimages/reduc_20170610_288.fits\n",
      "./reduced_fitsimages/reduc_20170610_289.fits\n",
      "./reduced_fitsimages/reduc_20170610_290.fits\n",
      "./reduced_fitsimages/reduc_20170610_295.fits\n",
      "./reduced_fitsimages/reduc_20170610_296.fits\n",
      "./reduced_fitsimages/reduc_20170610_297.fits\n",
      "./reduced_fitsimages/reduc_20170610_298.fits\n",
      "./reduced_fitsimages/reduc_20170610_299.fits\n",
      "./reduced_fitsimages/reduc_20170610_300.fits\n",
      "./reduced_fitsimages/reduc_20170610_301.fits\n",
      "./reduced_fitsimages/reduc_20170610_302.fits\n"
     ]
    }
   ],
   "source": [
    "all_headers = []\n",
    "all_dates = []\n",
    "all_airmass = []\n",
    "all_exposures = []\n",
    "all_ut = []\n",
    "all_ra = []\n",
    "all_dec = []\n",
    "all_epoch = []\n",
    "all_zenith = []\n",
    "all_ha = []\n",
    "all_st = []\n",
    "all_alt = []\n",
    "all_focus = []\n",
    "all_temp = []\n",
    "all_press = []\n",
    "all_hum = []\n",
    "all_windsp = []\n",
    "all_seeing = []\n",
    "all_seeingam = []\n",
    "all_filter1 = []\n",
    "all_filter2 = []\n",
    "all_object = []\n",
    "\n",
    "for idx,file in np.ndenumerate(sorted_filenames):  \n",
    "    print file\n",
    "    hdu_list=fits.open(file)\n",
    "    header=hdu_list[0].header\n",
    "    date_obs = header['DATE-OBS']\n",
    "    airmass = float(header['AIRMASS'])\n",
    "    expo= float(header['EXPTIME'])\n",
    "    num=indexes_files[idx[0]]\n",
    "    obj=header['OBJECT']   \n",
    "    ut=header['UT']\n",
    "    ra=header['RA']\n",
    "    dec=header['DEC']\n",
    "    epoch=float(header['EPOCH'])\n",
    "    zd = float(header['ZD'])\n",
    "    ha = header['HA']\n",
    "    st = header['ST']\n",
    "    alt = float(header['ALT'])\n",
    "    fcl = float(header['TELFOCUS'])\n",
    "    temp= float(header['OUTTEMP'])\n",
    "    press= float(header['OUTPRESS'])\n",
    "    hum= float(header['OUTHUM'])\n",
    "    windsp=float(header['WNDSPEED'])\n",
    "    seeing=float(header['SEEING'])\n",
    "    seeingam=float(header['SAIRMASS'])\n",
    "    filter1 = header['FILTER1']\n",
    "    filter2 = header['FILTER2']\n",
    "    \n",
    "    all_dates.append(date_obs)\n",
    "    all_airmass.append(airmass)\n",
    "    all_headers.append(header)\n",
    "    all_exposures.append(expo)\n",
    "    all_ut.append(ut)\n",
    "    all_ra.append(ra)\n",
    "    all_dec.append(dec)\n",
    "    all_epoch.append(epoch)\n",
    "    all_zenith.append(zd)\n",
    "    all_ha.append(ha)\n",
    "    all_st.append(st)\n",
    "    all_alt.append(alt)\n",
    "    all_focus.append(fcl)\n",
    "    all_temp.append(temp)\n",
    "    all_press.append(press)\n",
    "    all_hum.append(hum)\n",
    "    all_windsp.append(windsp)\n",
    "    all_seeing.append(seeing)\n",
    "    all_seeingam.append(seeingam)\n",
    "    all_filter1.append(filter1)\n",
    "    all_filter2.append(filter2)\n",
    "    all_object.append(obj)\n",
    "\n",
    "    hdu_list.close()\n",
    "    "
   ]
  },
  {
   "cell_type": "code",
   "execution_count": 89,
   "metadata": {
    "collapsed": false,
    "deletable": true,
    "editable": true
   },
   "outputs": [
    {
     "data": {
      "text/plain": [
       "112"
      ]
     },
     "execution_count": 89,
     "metadata": {},
     "output_type": "execute_result"
    }
   ],
   "source": [
    "len(all_airmass)"
   ]
  },
  {
   "cell_type": "code",
   "execution_count": 90,
   "metadata": {
    "collapsed": false,
    "deletable": true,
    "editable": true,
    "scrolled": true
   },
   "outputs": [
    {
     "name": "stdout",
     "output_type": "stream",
     "text": [
      "['RG715', 'RG715', 'RG715', 'RG715', 'RG715', 'RG715', 'RG715', 'RG715', 'RG715', 'RG715', 'RG715', 'RG715', 'RG715', 'RG715', 'RG715', 'RG715', 'RG715', 'RG715', 'RG715', 'RG715', 'RG715', 'RG715', 'RG715', 'RG715', 'RG715', 'RG715', 'RG715', 'RG715', 'RG715', 'RG715', 'RG715', 'RG715', 'RG715', 'RG715', 'RG715', 'RG715', 'RG715', 'RG715', 'RG715', 'RG715', 'RG715', 'RG715', 'RG715', 'RG715', 'RG715', 'RG715', 'RG715', 'RG715', 'RG715', 'RG715', 'RG715', 'RG715', 'RG715', 'RG715', 'RG715', 'RG715', 'RG715', 'RG715', 'RG715', 'RG715', 'RG715', 'RG715', 'RG715', 'RG715', 'RG715', 'RG715', 'RG715', 'RG715', 'RG715', 'RG715', 'RG715', 'RG715', 'RG715', 'RG715', 'RG715', 'RG715', 'RG715', 'RG715', 'RG715', 'RG715', 'RG715', 'RG715', 'RG715', 'RG715', 'RG715', 'RG715', 'RG715', 'RG715', 'RG715', 'RG715', 'RG715', 'RG715', 'RG715', 'RG715', 'RG715', 'RG715', 'RG715', 'RG715', 'RG715', 'RG715', 'RG715', 'RG715', 'RG715', 'RG715', 'RG715', 'RG715', 'RG715', 'RG715', 'RG715', 'RG715', 'RG715', 'RG715']\n"
     ]
    }
   ],
   "source": [
    "print all_filter1"
   ]
  },
  {
   "cell_type": "code",
   "execution_count": 91,
   "metadata": {
    "collapsed": false
   },
   "outputs": [
    {
     "name": "stdout",
     "output_type": "stream",
     "text": [
      "['HD185975', 'HD185975', 'HD185975', 'HD185975', 'HD205905', 'HD205905', 'HD205905', 'HD205905', 'HD185975', 'HD185975', 'HD185975', 'HD185975', 'HD205905', 'HD205905', 'HD205905', 'HD205905', 'HD185975', 'HD185975', 'HD185975', 'HD185975', 'HD205905', 'HD205905', 'HD205905', 'HD205905', 'HD185975', 'HD185975', 'HD185975', 'HD185975', 'HD205905', 'HD205905', 'HD205905', 'HD205905', 'HD185975', 'HD185975', 'HD185975', 'HD185975', 'HD205905', 'HD205905', 'HD205905', 'HD205905', 'HD185975', 'HD185975', 'HD185975', 'HD185975', 'HD205905', 'HD205905', 'HD205905', 'HD205905', 'HD185975', 'HD185975', 'HD185975', 'HD185975', 'HD205905', 'HD205905', 'HD205905', 'HD205905', 'HD185975', 'HD185975', 'HD185975', 'HD185975', 'HD205905', 'HD205905', 'HD205905', 'HD205905', 'HD185975', 'HD185975', 'HD185975', 'HD185975', 'HD205905', 'HD205905', 'HD205905', 'HD205905', 'HD185975', 'HD185975', 'HD185975', 'HD185975', 'HD205905', 'HD205905', 'HD205905', 'HD205905', 'HD185975', 'HD185975', 'HD185975', 'HD185975', 'HD205905', 'HD205905', 'HD205905', 'HD205905', 'HD185975', 'HD185975', 'HD185975', 'HD185975', 'HD205905', 'HD205905', 'HD205905', 'HD205905', 'HD185975', 'HD185975', 'HD185975', 'HD185975', 'HD205905', 'HD205905', 'HD205905', 'HD205905', 'HD185975', 'HD185975', 'HD185975', 'HD185975', 'HD205905', 'HD205905', 'HD205905', 'HD205905']\n"
     ]
    }
   ],
   "source": [
    "print all_object"
   ]
  },
  {
   "cell_type": "markdown",
   "metadata": {
    "deletable": true,
    "editable": true
   },
   "source": [
    "## Build outputfile"
   ]
  },
  {
   "cell_type": "code",
   "execution_count": 92,
   "metadata": {
    "collapsed": false,
    "deletable": true,
    "editable": true
   },
   "outputs": [],
   "source": [
    "col_airmass=np.array(all_airmass)\n",
    "col_number=np.array(indexes_files)\n",
    "col_date=np.array(all_dates)\n",
    "col_filename=np.array(filelist_all)\n",
    "col_exposure=np.array(all_exposures)\n",
    "col_zenith=np.array(all_zenith)\n",
    "col_altitude=np.array(all_alt)\n",
    "col_temperature=np.array(all_temp)\n",
    "col_pressure=np.array(all_press)\n",
    "col_humidity=np.array(all_hum)\n",
    "col_windsp=np.array(all_windsp)\n",
    "col_seeing=np.array(all_seeing)\n",
    "col_filter1=np.array(all_filter1)\n",
    "col_filter2=np.array(all_filter2)\n",
    "col_obj=np.array(all_object)"
   ]
  },
  {
   "cell_type": "code",
   "execution_count": 93,
   "metadata": {
    "collapsed": false,
    "deletable": true,
    "editable": true
   },
   "outputs": [],
   "source": [
    "c1 = fits.Column(name='number', format='J', array=col_number)\n",
    "c2 = fits.Column(name='airmass', format='E', array=col_airmass)\n",
    "c3 = fits.Column(name='date', format='A50', array=col_date)\n",
    "c4 = fits.Column(name='filename', format='A30', array=sorted_filenames)\n",
    "c5 = fits.Column(name='exposure', format='E', array=col_exposure) \n",
    "c6 = fits.Column(name='zenith', format='E', array=col_zenith) \n",
    "#c7 = fits.Column(name='altitude', format='E', array=col_altitude) \n",
    "c8 = fits.Column(name='temperature', format='E', array=col_temperature) \n",
    "c9 = fits.Column(name='pressure', format='E', array=col_pressure) \n",
    "c10 = fits.Column(name='humidity', format='E', array=col_humidity) \n",
    "c11 = fits.Column(name='windspeed', format='E', array=col_windsp) \n",
    "c12 = fits.Column(name='seeing', format='E', array=col_seeing) \n",
    "c13 = fits.Column(name='filter1', format='A20', array=col_filter1)\n",
    "c14 = fits.Column(name='filter2', format='A20', array=col_filter2) \n",
    "c15 = fits.Column(name='object', format='A20', array=col_obj) "
   ]
  },
  {
   "cell_type": "code",
   "execution_count": 94,
   "metadata": {
    "collapsed": true,
    "deletable": true,
    "editable": true
   },
   "outputs": [],
   "source": [
    "tbhdu = fits.BinTableHDU.from_columns([c1, c2, c3, c4, c5,c6,c8,c9,c10,c11,c12,c13,c14,c15])"
   ]
  },
  {
   "cell_type": "code",
   "execution_count": 95,
   "metadata": {
    "collapsed": false,
    "deletable": true,
    "editable": true
   },
   "outputs": [],
   "source": [
    "tbhdu.writeto(logfile,overwrite=True)"
   ]
  },
  {
   "cell_type": "markdown",
   "metadata": {
    "deletable": true,
    "editable": true
   },
   "source": [
    "## Convert into Table\n",
    "---------------------------"
   ]
  },
  {
   "cell_type": "code",
   "execution_count": 96,
   "metadata": {
    "collapsed": false,
    "deletable": true,
    "editable": true
   },
   "outputs": [],
   "source": [
    "thetable= Table(tbhdu.data)"
   ]
  },
  {
   "cell_type": "code",
   "execution_count": 97,
   "metadata": {
    "collapsed": false,
    "deletable": true,
    "editable": true
   },
   "outputs": [
    {
     "data": {
      "text/html": [
       "&lt;Table length=112&gt;\n",
       "<table id=\"table4501381584-429096\" class=\"table-striped table-bordered table-condensed\">\n",
       "<thead><tr><th>idx</th><th>number</th><th>airmass</th><th>date</th><th>filename</th><th>exposure</th><th>zenith</th><th>temperature</th><th>pressure</th><th>humidity</th><th>windspeed</th><th>seeing</th><th>filter1</th><th>filter2</th><th>object</th></tr></thead>\n",
       "<tr><td>0</td><td>139</td><td>1.874</td><td>2017-06-11T05:34:06.396</td><td>./reduced_fitsimages/reduc_201</td><td>30.0</td><td>57.824</td><td>13.5</td><td>778.0</td><td>23.0</td><td>17.4</td><td>0.712</td><td>RG715</td><td>Thor300</td><td>HD185975</td></tr>\n",
       "<tr><td>1</td><td>140</td><td>1.873</td><td>2017-06-11T05:35:28.909</td><td>./reduced_fitsimages/reduc_201</td><td>30.0</td><td>57.816</td><td>13.5</td><td>778.0</td><td>23.0</td><td>13.2</td><td>0.62</td><td>RG715</td><td>HoloPhP</td><td>HD185975</td></tr>\n",
       "<tr><td>2</td><td>141</td><td>1.873</td><td>2017-06-11T05:36:54.407</td><td>./reduced_fitsimages/reduc_201</td><td>60.0</td><td>57.818</td><td>13.6</td><td>778.0</td><td>22.0</td><td>15.2</td><td>0.639</td><td>RG715</td><td>HoloPhAg</td><td>HD185975</td></tr>\n",
       "<tr><td>3</td><td>142</td><td>1.873</td><td>2017-06-11T05:38:47.099</td><td>./reduced_fitsimages/reduc_201</td><td>60.0</td><td>57.806</td><td>13.6</td><td>778.0</td><td>22.0</td><td>16.4</td><td>0.747</td><td>RG715</td><td>HoloAmAg</td><td>HD185975</td></tr>\n",
       "<tr><td>4</td><td>143</td><td>1.393</td><td>2017-06-11T05:41:15.751</td><td>./reduced_fitsimages/reduc_201</td><td>30.0</td><td>44.189</td><td>13.4</td><td>778.0</td><td>22.0</td><td>13.1</td><td>0.717</td><td>RG715</td><td>Thor300</td><td>HD205905</td></tr>\n",
       "<tr><td>5</td><td>144</td><td>1.387</td><td>2017-06-11T05:42:38.303</td><td>./reduced_fitsimages/reduc_201</td><td>30.0</td><td>43.895</td><td>13.4</td><td>778.0</td><td>23.0</td><td>15.0</td><td>0.717</td><td>RG715</td><td>HoloPhP</td><td>HD205905</td></tr>\n",
       "<tr><td>6</td><td>145</td><td>1.38</td><td>2017-06-11T05:44:02.998</td><td>./reduced_fitsimages/reduc_201</td><td>60.0</td><td>43.601</td><td>13.5</td><td>778.0</td><td>22.0</td><td>15.1</td><td>0.81</td><td>RG715</td><td>HoloPhAg</td><td>HD205905</td></tr>\n",
       "<tr><td>7</td><td>146</td><td>1.371</td><td>2017-06-11T05:45:55.408</td><td>./reduced_fitsimages/reduc_201</td><td>60.0</td><td>43.2</td><td>13.5</td><td>778.0</td><td>22.0</td><td>14.1</td><td>0.708</td><td>RG715</td><td>HoloAmAg</td><td>HD205905</td></tr>\n",
       "<tr><td>8</td><td>151</td><td>1.867</td><td>2017-06-11T05:55:26.453</td><td>./reduced_fitsimages/reduc_201</td><td>30.0</td><td>57.696</td><td>13.2</td><td>779.0</td><td>23.0</td><td>15.4</td><td>0.818</td><td>RG715</td><td>Thor300</td><td>HD185975</td></tr>\n",
       "<tr><td>9</td><td>152</td><td>1.867</td><td>2017-06-11T05:56:49.004</td><td>./reduced_fitsimages/reduc_201</td><td>30.0</td><td>57.688</td><td>13.1</td><td>778.0</td><td>23.0</td><td>14.0</td><td>0.73</td><td>RG715</td><td>HoloPhP</td><td>HD185975</td></tr>\n",
       "<tr><td>10</td><td>153</td><td>1.867</td><td>2017-06-11T05:58:15.202</td><td>./reduced_fitsimages/reduc_201</td><td>60.0</td><td>57.691</td><td>13.2</td><td>778.0</td><td>23.0</td><td>15.0</td><td>0.769</td><td>RG715</td><td>HoloPhAg</td><td>HD185975</td></tr>\n",
       "<tr><td>11</td><td>154</td><td>1.866</td><td>2017-06-11T06:00:07.706</td><td>./reduced_fitsimages/reduc_201</td><td>60.0</td><td>57.68</td><td>13.2</td><td>778.0</td><td>23.0</td><td>21.0</td><td>0.787</td><td>RG715</td><td>HoloAmAg</td><td>HD185975</td></tr>\n",
       "<tr><td>12</td><td>155</td><td>1.297</td><td>2017-06-11T06:02:35.548</td><td>./reduced_fitsimages/reduc_201</td><td>30.0</td><td>39.618</td><td>13.3</td><td>778.0</td><td>23.0</td><td>15.0</td><td>0.668</td><td>RG715</td><td>Thor300</td><td>HD205905</td></tr>\n",
       "<tr><td>13</td><td>156</td><td>1.292</td><td>2017-06-11T06:03:58.102</td><td>./reduced_fitsimages/reduc_201</td><td>30.0</td><td>39.322</td><td>13.2</td><td>778.0</td><td>23.0</td><td>20.6</td><td>0.768</td><td>RG715</td><td>HoloPhP</td><td>HD205905</td></tr>\n",
       "<tr><td>14</td><td>157</td><td>1.286</td><td>2017-06-11T06:05:23.553</td><td>./reduced_fitsimages/reduc_201</td><td>60.0</td><td>39.024</td><td>13.0</td><td>778.0</td><td>23.0</td><td>19.3</td><td>0.698</td><td>RG715</td><td>HoloPhAg</td><td>HD205905</td></tr>\n",
       "<tr><td>15</td><td>158</td><td>1.279</td><td>2017-06-11T06:07:16.094</td><td>./reduced_fitsimages/reduc_201</td><td>60.0</td><td>38.621</td><td>12.9</td><td>778.0</td><td>23.0</td><td>21.8</td><td>0.827</td><td>RG715</td><td>HoloAmAg</td><td>HD205905</td></tr>\n",
       "<tr><td>16</td><td>163</td><td>1.861</td><td>2017-06-11T06:16:46.545</td><td>./reduced_fitsimages/reduc_201</td><td>30.0</td><td>57.585</td><td>12.7</td><td>778.0</td><td>24.0</td><td>21.8</td><td>1.214</td><td>RG715</td><td>Thor300</td><td>HD185975</td></tr>\n",
       "<tr><td>17</td><td>164</td><td>1.861</td><td>2017-06-11T06:18:09.005</td><td>./reduced_fitsimages/reduc_201</td><td>30.0</td><td>57.579</td><td>12.5</td><td>778.0</td><td>24.0</td><td>21.3</td><td>1.14</td><td>RG715</td><td>HoloPhP</td><td>HD185975</td></tr>\n",
       "<tr><td>18</td><td>165</td><td>1.861</td><td>2017-06-11T06:19:35.099</td><td>./reduced_fitsimages/reduc_201</td><td>60.0</td><td>57.583</td><td>12.5</td><td>778.0</td><td>24.0</td><td>20.1</td><td>1.028</td><td>RG715</td><td>HoloPhAg</td><td>HD185975</td></tr>\n",
       "<tr><td>19</td><td>166</td><td>1.861</td><td>2017-06-11T06:21:27.606</td><td>./reduced_fitsimages/reduc_201</td><td>60.0</td><td>57.574</td><td>12.5</td><td>778.0</td><td>24.0</td><td>23.8</td><td>0.895</td><td>RG715</td><td>HoloAmAg</td><td>HD185975</td></tr>\n",
       "<tr><td>20</td><td>167</td><td>1.221</td><td>2017-06-11T06:23:55.552</td><td>./reduced_fitsimages/reduc_201</td><td>30.0</td><td>35.025</td><td>12.8</td><td>778.0</td><td>24.0</td><td>22.6</td><td>1.129</td><td>RG715</td><td>Thor300</td><td>HD205905</td></tr>\n",
       "<tr><td>21</td><td>168</td><td>1.216</td><td>2017-06-11T06:25:18.061</td><td>./reduced_fitsimages/reduc_201</td><td>30.0</td><td>34.729</td><td>12.7</td><td>778.0</td><td>24.0</td><td>19.2</td><td>1.262</td><td>RG715</td><td>HoloPhP</td><td>HD205905</td></tr>\n",
       "<tr><td>22</td><td>169</td><td>1.212</td><td>2017-06-11T06:26:42.959</td><td>./reduced_fitsimages/reduc_201</td><td>60.0</td><td>34.431</td><td>12.7</td><td>778.0</td><td>24.0</td><td>20.2</td><td>1.176</td><td>RG715</td><td>HoloPhAg</td><td>HD205905</td></tr>\n",
       "<tr><td>23</td><td>170</td><td>1.206</td><td>2017-06-11T06:28:36.351</td><td>./reduced_fitsimages/reduc_201</td><td>60.0</td><td>34.023</td><td>12.7</td><td>778.0</td><td>24.0</td><td>21.7</td><td>1.134</td><td>RG715</td><td>HoloAmAg</td><td>HD205905</td></tr>\n",
       "<tr><td>24</td><td>175</td><td>1.857</td><td>2017-06-11T06:38:07.297</td><td>./reduced_fitsimages/reduc_201</td><td>30.0</td><td>57.495</td><td>13.0</td><td>778.0</td><td>23.0</td><td>14.3</td><td>0.805</td><td>RG715</td><td>Thor300</td><td>HD185975</td></tr>\n",
       "<tr><td>25</td><td>176</td><td>1.856</td><td>2017-06-11T06:39:29.807</td><td>./reduced_fitsimages/reduc_201</td><td>30.0</td><td>57.49</td><td>12.9</td><td>778.0</td><td>23.0</td><td>15.0</td><td>0.954</td><td>RG715</td><td>HoloPhP</td><td>HD185975</td></tr>\n",
       "<tr><td>26</td><td>177</td><td>1.857</td><td>2017-06-11T06:40:54.504</td><td>./reduced_fitsimages/reduc_201</td><td>60.0</td><td>57.494</td><td>12.7</td><td>778.0</td><td>23.0</td><td>11.1</td><td>1.179</td><td>RG715</td><td>HoloPhAg</td><td>HD185975</td></tr>\n",
       "<tr><td>27</td><td>178</td><td>1.856</td><td>2017-06-11T06:42:47.746</td><td>./reduced_fitsimages/reduc_201</td><td>60.0</td><td>57.488</td><td>12.8</td><td>778.0</td><td>23.0</td><td>11.2</td><td>0.845</td><td>RG715</td><td>HoloAmAg</td><td>HD185975</td></tr>\n",
       "<tr><td>28</td><td>179</td><td>1.159</td><td>2017-06-11T06:45:17.194</td><td>./reduced_fitsimages/reduc_201</td><td>30.0</td><td>30.411</td><td>12.7</td><td>778.0</td><td>23.0</td><td>12.3</td><td>0.87</td><td>RG715</td><td>Thor300</td><td>HD205905</td></tr>\n",
       "<tr><td>29</td><td>180</td><td>1.156</td><td>2017-06-11T06:46:39.696</td><td>./reduced_fitsimages/reduc_201</td><td>30.0</td><td>30.113</td><td>12.9</td><td>778.0</td><td>23.0</td><td>16.2</td><td>0.753</td><td>RG715</td><td>HoloPhP</td><td>HD205905</td></tr>\n",
       "<tr><td>30</td><td>181</td><td>1.152</td><td>2017-06-11T06:48:04.493</td><td>./reduced_fitsimages/reduc_201</td><td>60.0</td><td>29.815</td><td>12.8</td><td>778.0</td><td>23.0</td><td>18.1</td><td>0.753</td><td>RG715</td><td>HoloPhAg</td><td>HD205905</td></tr>\n",
       "<tr><td>31</td><td>182</td><td>1.148</td><td>2017-06-11T06:49:57.001</td><td>./reduced_fitsimages/reduc_201</td><td>60.0</td><td>29.41</td><td>12.8</td><td>778.0</td><td>23.0</td><td>13.6</td><td>0.753</td><td>RG715</td><td>HoloAmAg</td><td>HD205905</td></tr>\n",
       "<tr><td>32</td><td>187</td><td>1.853</td><td>2017-06-11T06:59:26.012</td><td>./reduced_fitsimages/reduc_201</td><td>30.0</td><td>57.425</td><td>12.8</td><td>778.0</td><td>23.0</td><td>15.5</td><td>0.753</td><td>RG715</td><td>Thor300</td><td>HD185975</td></tr>\n",
       "<tr><td>33</td><td>188</td><td>1.853</td><td>2017-06-11T07:00:48.404</td><td>./reduced_fitsimages/reduc_201</td><td>30.0</td><td>57.422</td><td>12.7</td><td>778.0</td><td>23.0</td><td>15.8</td><td>0.753</td><td>RG715</td><td>HoloPhP</td><td>HD185975</td></tr>\n",
       "<tr><td>34</td><td>189</td><td>1.853</td><td>2017-06-11T07:02:14.601</td><td>./reduced_fitsimages/reduc_201</td><td>60.0</td><td>57.427</td><td>12.6</td><td>778.0</td><td>23.0</td><td>15.8</td><td>0.753</td><td>RG715</td><td>HoloPhAg</td><td>HD185975</td></tr>\n",
       "<tr><td>35</td><td>190</td><td>1.853</td><td>2017-06-11T07:04:07.007</td><td>./reduced_fitsimages/reduc_201</td><td>60.0</td><td>57.422</td><td>12.6</td><td>778.0</td><td>23.0</td><td>13.4</td><td>0.753</td><td>RG715</td><td>HoloAmAg</td><td>HD185975</td></tr>\n",
       "<tr><td>36</td><td>191</td><td>1.11</td><td>2017-06-11T07:06:35.703</td><td>./reduced_fitsimages/reduc_201</td><td>30.0</td><td>25.797</td><td>12.8</td><td>778.0</td><td>23.0</td><td>13.9</td><td>0.753</td><td>RG715</td><td>Thor300</td><td>HD205905</td></tr>\n",
       "<tr><td>37</td><td>192</td><td>1.108</td><td>2017-06-11T07:07:58.199</td><td>./reduced_fitsimages/reduc_201</td><td>30.0</td><td>25.499</td><td>12.8</td><td>778.0</td><td>23.0</td><td>14.1</td><td>0.753</td><td>RG715</td><td>HoloPhP</td><td>HD205905</td></tr>\n",
       "<tr><td>38</td><td>193</td><td>1.105</td><td>2017-06-11T07:09:23.647</td><td>./reduced_fitsimages/reduc_201</td><td>60.0</td><td>25.198</td><td>12.8</td><td>778.0</td><td>23.0</td><td>16.3</td><td>0.753</td><td>RG715</td><td>HoloPhAg</td><td>HD205905</td></tr>\n",
       "<tr><td>39</td><td>194</td><td>1.101</td><td>2017-06-11T07:11:16.200</td><td>./reduced_fitsimages/reduc_201</td><td>60.0</td><td>24.792</td><td>12.8</td><td>778.0</td><td>23.0</td><td>12.1</td><td>0.753</td><td>RG715</td><td>HoloAmAg</td><td>HD205905</td></tr>\n",
       "<tr><td>40</td><td>199</td><td>1.851</td><td>2017-06-11T07:20:45.800</td><td>./reduced_fitsimages/reduc_201</td><td>30.0</td><td>57.377</td><td>12.5</td><td>778.0</td><td>23.0</td><td>14.3</td><td>0.753</td><td>RG715</td><td>Thor300</td><td>HD185975</td></tr>\n",
       "<tr><td>41</td><td>200</td><td>1.851</td><td>2017-06-11T07:22:09.053</td><td>./reduced_fitsimages/reduc_201</td><td>30.0</td><td>57.375</td><td>12.5</td><td>778.0</td><td>23.0</td><td>13.5</td><td>0.753</td><td>RG715</td><td>HoloPhP</td><td>HD185975</td></tr>\n",
       "<tr><td>42</td><td>201</td><td>1.851</td><td>2017-06-11T07:23:34.552</td><td>./reduced_fitsimages/reduc_201</td><td>60.0</td><td>57.38</td><td>12.5</td><td>778.0</td><td>23.0</td><td>15.3</td><td>0.753</td><td>RG715</td><td>HoloPhAg</td><td>HD185975</td></tr>\n",
       "<tr><td>43</td><td>202</td><td>1.851</td><td>2017-06-11T07:25:27.099</td><td>./reduced_fitsimages/reduc_201</td><td>60.0</td><td>57.377</td><td>12.6</td><td>778.0</td><td>23.0</td><td>15.7</td><td>0.753</td><td>RG715</td><td>HoloAmAg</td><td>HD185975</td></tr>\n",
       "<tr><td>44</td><td>203</td><td>1.072</td><td>2017-06-11T07:27:56.444</td><td>./reduced_fitsimages/reduc_201</td><td>30.0</td><td>21.172</td><td>12.6</td><td>778.0</td><td>23.0</td><td>15.4</td><td>0.753</td><td>RG715</td><td>Thor300</td><td>HD205905</td></tr>\n",
       "<tr><td>45</td><td>204</td><td>1.07</td><td>2017-06-11T07:29:18.907</td><td>./reduced_fitsimages/reduc_201</td><td>30.0</td><td>20.873</td><td>12.7</td><td>778.0</td><td>23.0</td><td>17.0</td><td>0.753</td><td>RG715</td><td>HoloPhP</td><td>HD205905</td></tr>\n",
       "<tr><td>46</td><td>205</td><td>1.068</td><td>2017-06-11T07:30:44.508</td><td>./reduced_fitsimages/reduc_201</td><td>60.0</td><td>20.573</td><td>13.0</td><td>778.0</td><td>23.0</td><td>15.5</td><td>0.753</td><td>RG715</td><td>HoloPhAg</td><td>HD205905</td></tr>\n",
       "<tr><td>47</td><td>206</td><td>1.065</td><td>2017-06-11T07:32:36.996</td><td>./reduced_fitsimages/reduc_201</td><td>60.0</td><td>20.167</td><td>12.8</td><td>778.0</td><td>23.0</td><td>15.8</td><td>0.753</td><td>RG715</td><td>HoloAmAg</td><td>HD205905</td></tr>\n",
       "<tr><td>48</td><td>211</td><td>1.849</td><td>2017-06-11T07:42:06.645</td><td>./reduced_fitsimages/reduc_201</td><td>30.0</td><td>57.351</td><td>12.6</td><td>778.0</td><td>23.0</td><td>13.0</td><td>0.753</td><td>RG715</td><td>Thor300</td><td>HD185975</td></tr>\n",
       "<tr><td>49</td><td>212</td><td>1.849</td><td>2017-06-11T07:43:29.199</td><td>./reduced_fitsimages/reduc_201</td><td>30.0</td><td>57.35</td><td>12.4</td><td>778.0</td><td>0.0</td><td>17.7</td><td>0.753</td><td>RG715</td><td>HoloPhP</td><td>HD185975</td></tr>\n",
       "<tr><td>50</td><td>213</td><td>1.85</td><td>2017-06-11T07:44:54.752</td><td>./reduced_fitsimages/reduc_201</td><td>60.0</td><td>57.356</td><td>12.3</td><td>778.0</td><td>23.0</td><td>14.8</td><td>0.753</td><td>RG715</td><td>HoloPhAg</td><td>HD185975</td></tr>\n",
       "<tr><td>51</td><td>214</td><td>1.85</td><td>2017-06-11T07:46:47.204</td><td>./reduced_fitsimages/reduc_201</td><td>60.0</td><td>57.355</td><td>12.5</td><td>778.0</td><td>23.0</td><td>15.8</td><td>0.753</td><td>RG715</td><td>HoloAmAg</td><td>HD185975</td></tr>\n",
       "<tr><td>52</td><td>215</td><td>1.043</td><td>2017-06-11T07:49:15.154</td><td>./reduced_fitsimages/reduc_201</td><td>30.0</td><td>16.561</td><td>12.3</td><td>778.0</td><td>23.0</td><td>17.0</td><td>0.753</td><td>RG715</td><td>Thor300</td><td>HD205905</td></tr>\n",
       "<tr><td>53</td><td>216</td><td>1.042</td><td>2017-06-11T07:50:38.351</td><td>./reduced_fitsimages/reduc_201</td><td>30.0</td><td>16.262</td><td>12.5</td><td>778.0</td><td>23.0</td><td>15.3</td><td>0.753</td><td>RG715</td><td>HoloPhP</td><td>HD205905</td></tr>\n",
       "<tr><td>54</td><td>217</td><td>1.04</td><td>2017-06-11T07:52:02.907</td><td>./reduced_fitsimages/reduc_201</td><td>60.0</td><td>15.966</td><td>12.4</td><td>778.0</td><td>23.0</td><td>14.9</td><td>0.753</td><td>RG715</td><td>HoloPhAg</td><td>HD205905</td></tr>\n",
       "<tr><td>55</td><td>218</td><td>1.038</td><td>2017-06-11T07:53:56.105</td><td>./reduced_fitsimages/reduc_201</td><td>60.0</td><td>15.56</td><td>12.2</td><td>778.0</td><td>23.0</td><td>17.2</td><td>0.753</td><td>RG715</td><td>HoloAmAg</td><td>HD205905</td></tr>\n",
       "<tr><td>56</td><td>223</td><td>1.849</td><td>2017-06-11T08:03:25.602</td><td>./reduced_fitsimages/reduc_201</td><td>30.0</td><td>57.346</td><td>12.4</td><td>778.0</td><td>23.0</td><td>14.1</td><td>0.753</td><td>RG715</td><td>Thor300</td><td>HD185975</td></tr>\n",
       "<tr><td>57</td><td>224</td><td>1.849</td><td>2017-06-11T08:04:48.102</td><td>./reduced_fitsimages/reduc_201</td><td>30.0</td><td>57.346</td><td>12.5</td><td>778.0</td><td>23.0</td><td>18.3</td><td>0.753</td><td>RG715</td><td>HoloPhP</td><td>HD185975</td></tr>\n",
       "<tr><td>58</td><td>225</td><td>1.85</td><td>2017-06-11T08:06:14.300</td><td>./reduced_fitsimages/reduc_201</td><td>60.0</td><td>57.353</td><td>12.7</td><td>778.0</td><td>23.0</td><td>17.3</td><td>0.753</td><td>RG715</td><td>HoloPhAg</td><td>HD185975</td></tr>\n",
       "<tr><td>59</td><td>226</td><td>1.85</td><td>2017-06-11T08:08:06.795</td><td>./reduced_fitsimages/reduc_201</td><td>60.0</td><td>57.354</td><td>12.5</td><td>778.0</td><td>23.0</td><td>18.6</td><td>0.753</td><td>RG715</td><td>HoloAmAg</td><td>HD185975</td></tr>\n",
       "<tr><td>60</td><td>227</td><td>1.022</td><td>2017-06-11T08:10:36.299</td><td>./reduced_fitsimages/reduc_201</td><td>30.0</td><td>11.976</td><td>12.6</td><td>778.0</td><td>23.0</td><td>17.6</td><td>0.753</td><td>RG715</td><td>Thor300</td><td>HD205905</td></tr>\n",
       "<tr><td>61</td><td>228</td><td>1.021</td><td>2017-06-11T08:11:58.907</td><td>./reduced_fitsimages/reduc_201</td><td>30.0</td><td>11.683</td><td>12.6</td><td>778.0</td><td>23.0</td><td>13.1</td><td>0.753</td><td>RG715</td><td>HoloPhP</td><td>HD205905</td></tr>\n",
       "<tr><td>62</td><td>229</td><td>1.02</td><td>2017-06-11T08:13:24.345</td><td>./reduced_fitsimages/reduc_201</td><td>60.0</td><td>11.387</td><td>12.4</td><td>778.0</td><td>23.0</td><td>12.2</td><td>0.753</td><td>RG715</td><td>HoloPhAg</td><td>HD205905</td></tr>\n",
       "<tr><td>63</td><td>230</td><td>1.019</td><td>2017-06-11T08:15:16.752</td><td>./reduced_fitsimages/reduc_201</td><td>60.0</td><td>10.989</td><td>12.2</td><td>778.0</td><td>23.0</td><td>17.7</td><td>0.753</td><td>RG715</td><td>HoloAmAg</td><td>HD205905</td></tr>\n",
       "<tr><td>64</td><td>235</td><td>1.85</td><td>2017-06-11T08:24:47.800</td><td>./reduced_fitsimages/reduc_201</td><td>30.0</td><td>57.364</td><td>12.3</td><td>778.0</td><td>23.0</td><td>19.0</td><td>0.753</td><td>RG715</td><td>Thor300</td><td>HD185975</td></tr>\n",
       "<tr><td>65</td><td>236</td><td>1.85</td><td>2017-06-11T08:26:10.203</td><td>./reduced_fitsimages/reduc_201</td><td>30.0</td><td>57.365</td><td>12.4</td><td>778.0</td><td>28.0</td><td>19.6</td><td>0.753</td><td>RG715</td><td>HoloPhP</td><td>HD185975</td></tr>\n",
       "<tr><td>66</td><td>237</td><td>1.851</td><td>2017-06-11T08:27:36.410</td><td>./reduced_fitsimages/reduc_201</td><td>60.0</td><td>57.373</td><td>12.5</td><td>778.0</td><td>23.0</td><td>17.9</td><td>0.753</td><td>RG715</td><td>HoloPhAg</td><td>HD185975</td></tr>\n",
       "<tr><td>67</td><td>238</td><td>1.851</td><td>2017-06-11T08:29:28.901</td><td>./reduced_fitsimages/reduc_201</td><td>60.0</td><td>57.375</td><td>12.3</td><td>778.0</td><td>23.0</td><td>14.1</td><td>0.753</td><td>RG715</td><td>HoloAmAg</td><td>HD185975</td></tr>\n",
       "<tr><td>68</td><td>239</td><td>1.009</td><td>2017-06-11T08:31:56.795</td><td>./reduced_fitsimages/reduc_201</td><td>30.0</td><td>7.505</td><td>12.3</td><td>778.0</td><td>23.0</td><td>16.7</td><td>0.753</td><td>RG715</td><td>Thor300</td><td>HD205905</td></tr>\n",
       "<tr><td>69</td><td>240</td><td>1.008</td><td>2017-06-11T08:33:20.044</td><td>./reduced_fitsimages/reduc_201</td><td>30.0</td><td>7.223</td><td>12.3</td><td>778.0</td><td>23.0</td><td>15.5</td><td>0.753</td><td>RG715</td><td>HoloPhP</td><td>HD205905</td></tr>\n",
       "<tr><td>70</td><td>241</td><td>1.007</td><td>2017-06-11T08:34:45.553</td><td>./reduced_fitsimages/reduc_201</td><td>60.0</td><td>6.943</td><td>12.3</td><td>778.0</td><td>25.0</td><td>14.4</td><td>0.753</td><td>RG715</td><td>HoloPhAg</td><td>HD205905</td></tr>\n",
       "<tr><td>71</td><td>242</td><td>1.007</td><td>2017-06-11T08:36:38.107</td><td>./reduced_fitsimages/reduc_201</td><td>60.0</td><td>6.568</td><td>12.4</td><td>778.0</td><td>23.0</td><td>16.2</td><td>0.753</td><td>RG715</td><td>HoloAmAg</td><td>HD205905</td></tr>\n",
       "<tr><td>72</td><td>247</td><td>1.852</td><td>2017-06-11T08:46:08.556</td><td>./reduced_fitsimages/reduc_201</td><td>30.0</td><td>57.403</td><td>12.4</td><td>778.0</td><td>23.0</td><td>16.0</td><td>0.753</td><td>RG715</td><td>Thor300</td><td>HD185975</td></tr>\n",
       "<tr><td>73</td><td>248</td><td>1.852</td><td>2017-06-11T08:47:31.096</td><td>./reduced_fitsimages/reduc_201</td><td>30.0</td><td>57.406</td><td>12.4</td><td>778.0</td><td>23.0</td><td>15.3</td><td>0.753</td><td>RG715</td><td>HoloPhP</td><td>HD185975</td></tr>\n",
       "<tr><td>74</td><td>249</td><td>1.853</td><td>2017-06-11T08:48:58.147</td><td>./reduced_fitsimages/reduc_201</td><td>60.0</td><td>57.414</td><td>12.4</td><td>778.0</td><td>23.0</td><td>17.7</td><td>0.753</td><td>RG715</td><td>HoloPhAg</td><td>HD185975</td></tr>\n",
       "<tr><td>75</td><td>250</td><td>1.853</td><td>2017-06-11T08:50:50.458</td><td>./reduced_fitsimages/reduc_201</td><td>60.0</td><td>57.419</td><td>12.3</td><td>778.0</td><td>23.0</td><td>15.0</td><td>0.753</td><td>RG715</td><td>HoloAmAg</td><td>HD185975</td></tr>\n",
       "<tr><td>76</td><td>251</td><td>1.002</td><td>2017-06-11T08:53:19.106</td><td>./reduced_fitsimages/reduc_201</td><td>30.0</td><td>3.615</td><td>12.3</td><td>778.0</td><td>23.0</td><td>18.0</td><td>0.753</td><td>RG715</td><td>Thor300</td><td>HD205905</td></tr>\n",
       "<tr><td>77</td><td>252</td><td>1.002</td><td>2017-06-11T08:54:41.604</td><td>./reduced_fitsimages/reduc_201</td><td>30.0</td><td>3.434</td><td>12.2</td><td>778.0</td><td>23.0</td><td>16.3</td><td>0.753</td><td>RG715</td><td>HoloPhP</td><td>HD205905</td></tr>\n",
       "<tr><td>78</td><td>253</td><td>1.002</td><td>2017-06-11T08:56:06.157</td><td>./reduced_fitsimages/reduc_201</td><td>60.0</td><td>3.267</td><td>12.1</td><td>778.0</td><td>23.0</td><td>12.5</td><td>0.753</td><td>RG715</td><td>HoloPhAg</td><td>HD205905</td></tr>\n",
       "<tr><td>79</td><td>254</td><td>1.001</td><td>2017-06-11T08:57:58.697</td><td>./reduced_fitsimages/reduc_201</td><td>60.0</td><td>3.078</td><td>12.0</td><td>778.0</td><td>23.0</td><td>16.8</td><td>0.753</td><td>RG715</td><td>HoloAmAg</td><td>HD205905</td></tr>\n",
       "<tr><td>80</td><td>259</td><td>1.855</td><td>2017-06-11T09:07:29.496</td><td>./reduced_fitsimages/reduc_201</td><td>30.0</td><td>57.464</td><td>12.2</td><td>778.0</td><td>24.0</td><td>19.7</td><td>0.753</td><td>RG715</td><td>Thor300</td><td>HD185975</td></tr>\n",
       "<tr><td>81</td><td>260</td><td>1.855</td><td>2017-06-11T09:08:51.998</td><td>./reduced_fitsimages/reduc_201</td><td>30.0</td><td>57.468</td><td>12.1</td><td>778.0</td><td>23.0</td><td>14.8</td><td>0.753</td><td>RG715</td><td>HoloPhP</td><td>HD185975</td></tr>\n",
       "<tr><td>82</td><td>261</td><td>1.856</td><td>2017-06-11T09:10:15.854</td><td>./reduced_fitsimages/reduc_201</td><td>60.0</td><td>57.477</td><td>12.0</td><td>778.0</td><td>23.0</td><td>16.4</td><td>0.753</td><td>RG715</td><td>HoloPhAg</td><td>HD185975</td></tr>\n",
       "<tr><td>83</td><td>262</td><td>1.856</td><td>2017-06-11T09:12:09.158</td><td>./reduced_fitsimages/reduc_201</td><td>60.0</td><td>57.483</td><td>12.1</td><td>778.0</td><td>23.0</td><td>16.9</td><td>0.753</td><td>RG715</td><td>HoloAmAg</td><td>HD185975</td></tr>\n",
       "<tr><td>84</td><td>263</td><td>1.002</td><td>2017-06-11T09:14:36.402</td><td>./reduced_fitsimages/reduc_201</td><td>30.0</td><td>3.714</td><td>12.1</td><td>778.0</td><td>23.0</td><td>21.8</td><td>0.753</td><td>RG715</td><td>Thor300</td><td>HD205905</td></tr>\n",
       "<tr><td>85</td><td>264</td><td>1.002</td><td>2017-06-11T09:15:58.905</td><td>./reduced_fitsimages/reduc_201</td><td>30.0</td><td>3.917</td><td>12.2</td><td>778.0</td><td>27.0</td><td>16.1</td><td>0.753</td><td>RG715</td><td>HoloPhP</td><td>HD205905</td></tr>\n",
       "<tr><td>86</td><td>265</td><td>1.003</td><td>2017-06-11T09:17:23.606</td><td>./reduced_fitsimages/reduc_201</td><td>60.0</td><td>4.127</td><td>12.1</td><td>778.0</td><td>23.0</td><td>18.2</td><td>0.753</td><td>RG715</td><td>HoloPhAg</td><td>HD205905</td></tr>\n",
       "<tr><td>87</td><td>266</td><td>1.003</td><td>2017-06-11T09:19:16.099</td><td>./reduced_fitsimages/reduc_201</td><td>60.0</td><td>4.437</td><td>12.0</td><td>778.0</td><td>23.0</td><td>17.7</td><td>0.753</td><td>RG715</td><td>HoloAmAg</td><td>HD205905</td></tr>\n",
       "<tr><td>88</td><td>271</td><td>1.859</td><td>2017-06-11T09:28:45.699</td><td>./reduced_fitsimages/reduc_201</td><td>30.0</td><td>57.545</td><td>11.8</td><td>778.0</td><td>24.0</td><td>16.1</td><td>0.753</td><td>RG715</td><td>Thor300</td><td>HD185975</td></tr>\n",
       "<tr><td>89</td><td>272</td><td>1.86</td><td>2017-06-11T09:30:08.195</td><td>./reduced_fitsimages/reduc_201</td><td>30.0</td><td>57.551</td><td>11.8</td><td>778.0</td><td>24.0</td><td>18.3</td><td>0.753</td><td>RG715</td><td>HoloPhP</td><td>HD185975</td></tr>\n",
       "<tr><td>90</td><td>273</td><td>1.86</td><td>2017-06-11T09:31:33.652</td><td>./reduced_fitsimages/reduc_201</td><td>60.0</td><td>57.56</td><td>11.8</td><td>778.0</td><td>24.0</td><td>22.5</td><td>0.753</td><td>RG715</td><td>HoloPhAg</td><td>HD185975</td></tr>\n",
       "<tr><td>91</td><td>274</td><td>1.86</td><td>2017-06-11T09:33:26.102</td><td>./reduced_fitsimages/reduc_201</td><td>60.0</td><td>57.568</td><td>11.7</td><td>778.0</td><td>24.0</td><td>16.2</td><td>0.753</td><td>RG715</td><td>HoloAmAg</td><td>HD185975</td></tr>\n",
       "<tr><td>92</td><td>275</td><td>1.009</td><td>2017-06-11T09:35:53.956</td><td>./reduced_fitsimages/reduc_201</td><td>30.0</td><td>7.633</td><td>11.7</td><td>778.0</td><td>24.0</td><td>19.5</td><td>0.753</td><td>RG715</td><td>Thor300</td><td>HD205905</td></tr>\n",
       "<tr><td>93</td><td>276</td><td>1.01</td><td>2017-06-11T09:37:16.296</td><td>./reduced_fitsimages/reduc_201</td><td>30.0</td><td>7.914</td><td>11.8</td><td>778.0</td><td>24.0</td><td>18.2</td><td>0.753</td><td>RG715</td><td>HoloPhP</td><td>HD205905</td></tr>\n",
       "<tr><td>94</td><td>277</td><td>1.01</td><td>2017-06-11T09:38:41.107</td><td>./reduced_fitsimages/reduc_201</td><td>60.0</td><td>8.193</td><td>11.7</td><td>778.0</td><td>24.0</td><td>19.0</td><td>0.753</td><td>RG715</td><td>HoloPhAg</td><td>HD205905</td></tr>\n",
       "<tr><td>95</td><td>278</td><td>1.011</td><td>2017-06-11T09:40:33.605</td><td>./reduced_fitsimages/reduc_201</td><td>60.0</td><td>8.58</td><td>11.7</td><td>778.0</td><td>24.0</td><td>18.7</td><td>0.753</td><td>RG715</td><td>HoloAmAg</td><td>HD205905</td></tr>\n",
       "<tr><td>96</td><td>283</td><td>1.864</td><td>2017-06-11T09:50:04.755</td><td>./reduced_fitsimages/reduc_201</td><td>30.0</td><td>57.648</td><td>11.7</td><td>778.0</td><td>24.0</td><td>16.2</td><td>0.753</td><td>RG715</td><td>Thor300</td><td>HD185975</td></tr>\n",
       "<tr><td>97</td><td>284</td><td>1.865</td><td>2017-06-11T09:51:27.200</td><td>./reduced_fitsimages/reduc_201</td><td>30.0</td><td>57.655</td><td>11.8</td><td>778.0</td><td>24.0</td><td>14.2</td><td>0.753</td><td>RG715</td><td>HoloPhP</td><td>HD185975</td></tr>\n",
       "<tr><td>98</td><td>285</td><td>1.865</td><td>2017-06-11T09:52:52.652</td><td>./reduced_fitsimages/reduc_201</td><td>60.0</td><td>57.663</td><td>11.7</td><td>778.0</td><td>24.0</td><td>15.7</td><td>0.753</td><td>RG715</td><td>HoloPhAg</td><td>HD185975</td></tr>\n",
       "<tr><td>99</td><td>286</td><td>1.866</td><td>2017-06-11T09:54:45.203</td><td>./reduced_fitsimages/reduc_201</td><td>60.0</td><td>57.673</td><td>11.7</td><td>778.0</td><td>24.0</td><td>15.9</td><td>0.753</td><td>RG715</td><td>HoloAmAg</td><td>HD185975</td></tr>\n",
       "<tr><td>100</td><td>287</td><td>1.023</td><td>2017-06-11T09:57:13.846</td><td>./reduced_fitsimages/reduc_201</td><td>30.0</td><td>12.107</td><td>11.7</td><td>778.0</td><td>24.0</td><td>11.5</td><td>0.753</td><td>RG715</td><td>Thor300</td><td>HD205905</td></tr>\n",
       "<tr><td>101</td><td>288</td><td>1.024</td><td>2017-06-11T09:58:36.350</td><td>./reduced_fitsimages/reduc_201</td><td>30.0</td><td>12.4</td><td>11.8</td><td>778.0</td><td>24.0</td><td>12.6</td><td>0.753</td><td>RG715</td><td>HoloPhP</td><td>HD205905</td></tr>\n",
       "<tr><td>102</td><td>289</td><td>1.025</td><td>2017-06-11T10:00:01.644</td><td>./reduced_fitsimages/reduc_201</td><td>60.0</td><td>12.693</td><td>11.8</td><td>778.0</td><td>24.0</td><td>12.8</td><td>0.753</td><td>RG715</td><td>HoloPhAg</td><td>HD205905</td></tr>\n",
       "<tr><td>103</td><td>290</td><td>1.027</td><td>2017-06-11T10:01:54.107</td><td>./reduced_fitsimages/reduc_201</td><td>60.0</td><td>13.094</td><td>11.8</td><td>778.0</td><td>24.0</td><td>11.2</td><td>0.753</td><td>RG715</td><td>HoloAmAg</td><td>HD205905</td></tr>\n",
       "<tr><td>104</td><td>295</td><td>1.871</td><td>2017-06-11T10:11:24.353</td><td>./reduced_fitsimages/reduc_201</td><td>30.0</td><td>57.769</td><td>11.9</td><td>778.0</td><td>0.0</td><td>12.2</td><td>0.753</td><td>RG715</td><td>Thor300</td><td>HD185975</td></tr>\n",
       "<tr><td>105</td><td>296</td><td>1.871</td><td>2017-06-11T10:12:46.895</td><td>./reduced_fitsimages/reduc_201</td><td>30.0</td><td>57.777</td><td>12.0</td><td>778.0</td><td>24.0</td><td>14.1</td><td>0.753</td><td>RG715</td><td>HoloPhP</td><td>HD185975</td></tr>\n",
       "<tr><td>106</td><td>297</td><td>1.872</td><td>2017-06-11T10:14:13.104</td><td>./reduced_fitsimages/reduc_201</td><td>60.0</td><td>57.786</td><td>12.1</td><td>778.0</td><td>24.0</td><td>14.0</td><td>0.753</td><td>RG715</td><td>HoloPhAg</td><td>HD185975</td></tr>\n",
       "<tr><td>107</td><td>298</td><td>1.872</td><td>2017-06-11T10:16:05.606</td><td>./reduced_fitsimages/reduc_201</td><td>60.0</td><td>57.798</td><td>11.9</td><td>778.0</td><td>24.0</td><td>15.0</td><td>0.753</td><td>RG715</td><td>HoloAmAg</td><td>HD185975</td></tr>\n",
       "<tr><td>108</td><td>299</td><td>1.044</td><td>2017-06-11T10:18:34.256</td><td>./reduced_fitsimages/reduc_201</td><td>30.0</td><td>16.691</td><td>12.0</td><td>778.0</td><td>23.0</td><td>15.1</td><td>0.753</td><td>RG715</td><td>Thor300</td><td>HD205905</td></tr>\n",
       "<tr><td>109</td><td>300</td><td>1.046</td><td>2017-06-11T10:19:56.704</td><td>./reduced_fitsimages/reduc_201</td><td>30.0</td><td>16.988</td><td>12.1</td><td>778.0</td><td>23.0</td><td>15.8</td><td>0.753</td><td>RG715</td><td>HoloPhP</td><td>HD205905</td></tr>\n",
       "<tr><td>110</td><td>301</td><td>1.047</td><td>2017-06-11T10:21:22.002</td><td>./reduced_fitsimages/reduc_201</td><td>60.0</td><td>17.283</td><td>12.1</td><td>778.0</td><td>23.0</td><td>12.8</td><td>0.753</td><td>RG715</td><td>HoloPhAg</td><td>HD205905</td></tr>\n",
       "<tr><td>111</td><td>302</td><td>1.05</td><td>2017-06-11T10:23:14.496</td><td>./reduced_fitsimages/reduc_201</td><td>60.0</td><td>17.688</td><td>12.1</td><td>778.0</td><td>23.0</td><td>15.3</td><td>0.753</td><td>RG715</td><td>HoloAmAg</td><td>HD205905</td></tr>\n",
       "</table><style>table.dataTable {clear: both; width: auto !important; margin: 0 !important;}\n",
       ".dataTables_info, .dataTables_length, .dataTables_filter, .dataTables_paginate{\n",
       "display: inline-block; margin-right: 1em; }\n",
       ".paginate_button { margin-right: 5px; }\n",
       "</style>\n",
       "<script>\n",
       "require.config({paths: {\n",
       "    datatables: 'https://cdn.datatables.net/1.10.12/js/jquery.dataTables.min'\n",
       "}});\n",
       "require([\"datatables\"], function(){\n",
       "    console.log(\"$('#table4501381584-429096').dataTable()\");\n",
       "    $('#table4501381584-429096').dataTable({\n",
       "        \"order\": [],\n",
       "        \"iDisplayLength\": 50,\n",
       "        \"aLengthMenu\": [[10, 25, 50, 100, 500, 1000, -1], [10, 25, 50, 100, 500, 1000, 'All']],\n",
       "        \"pagingType\": \"full_numbers\"\n",
       "    });\n",
       "});\n",
       "</script>\n"
      ],
      "text/plain": [
       "<IPython.core.display.HTML object>"
      ]
     },
     "execution_count": 97,
     "metadata": {},
     "output_type": "execute_result"
    }
   ],
   "source": [
    "thetable.show_in_notebook()"
   ]
  },
  {
   "cell_type": "markdown",
   "metadata": {
    "deletable": true,
    "editable": true
   },
   "source": [
    "## Read the logfile into a Table\n",
    "---------------------------------------"
   ]
  },
  {
   "cell_type": "code",
   "execution_count": 98,
   "metadata": {
    "collapsed": false,
    "deletable": true,
    "editable": true
   },
   "outputs": [
    {
     "name": "stdout",
     "output_type": "stream",
     "text": [
      "logbk_HD185975_HD205905 June 10th_ctio10jun2017.fits\n"
     ]
    }
   ],
   "source": [
    "print logfile"
   ]
  },
  {
   "cell_type": "code",
   "execution_count": 99,
   "metadata": {
    "collapsed": true,
    "deletable": true,
    "editable": true
   },
   "outputs": [],
   "source": [
    "t = Table.read(logfile)"
   ]
  },
  {
   "cell_type": "code",
   "execution_count": 100,
   "metadata": {
    "collapsed": false,
    "deletable": true,
    "editable": true
   },
   "outputs": [
    {
     "data": {
      "text/html": [
       "&lt;Table length=112&gt;\n",
       "<table id=\"table4478961360\" class=\"table-striped table-bordered table-condensed\">\n",
       "<thead><tr><th>number</th><th>airmass</th><th>date</th><th>filename</th><th>exposure</th><th>zenith</th><th>temperature</th><th>pressure</th><th>humidity</th><th>windspeed</th><th>seeing</th><th>filter1</th><th>filter2</th><th>object</th></tr></thead>\n",
       "<thead><tr><th>int32</th><th>float32</th><th>str50</th><th>str30</th><th>float32</th><th>float32</th><th>float32</th><th>float32</th><th>float32</th><th>float32</th><th>float32</th><th>str20</th><th>str20</th><th>str20</th></tr></thead>\n",
       "<tr><td>139</td><td>1.874</td><td>2017-06-11T05:34:06.396</td><td>./reduced_fitsimages/reduc_201</td><td>30.0</td><td>57.824</td><td>13.5</td><td>778.0</td><td>23.0</td><td>17.4</td><td>0.712</td><td>RG715</td><td>Thor300</td><td>HD185975</td></tr>\n",
       "<tr><td>140</td><td>1.873</td><td>2017-06-11T05:35:28.909</td><td>./reduced_fitsimages/reduc_201</td><td>30.0</td><td>57.816</td><td>13.5</td><td>778.0</td><td>23.0</td><td>13.2</td><td>0.62</td><td>RG715</td><td>HoloPhP</td><td>HD185975</td></tr>\n",
       "<tr><td>141</td><td>1.873</td><td>2017-06-11T05:36:54.407</td><td>./reduced_fitsimages/reduc_201</td><td>60.0</td><td>57.818</td><td>13.6</td><td>778.0</td><td>22.0</td><td>15.2</td><td>0.639</td><td>RG715</td><td>HoloPhAg</td><td>HD185975</td></tr>\n",
       "<tr><td>142</td><td>1.873</td><td>2017-06-11T05:38:47.099</td><td>./reduced_fitsimages/reduc_201</td><td>60.0</td><td>57.806</td><td>13.6</td><td>778.0</td><td>22.0</td><td>16.4</td><td>0.747</td><td>RG715</td><td>HoloAmAg</td><td>HD185975</td></tr>\n",
       "<tr><td>143</td><td>1.393</td><td>2017-06-11T05:41:15.751</td><td>./reduced_fitsimages/reduc_201</td><td>30.0</td><td>44.189</td><td>13.4</td><td>778.0</td><td>22.0</td><td>13.1</td><td>0.717</td><td>RG715</td><td>Thor300</td><td>HD205905</td></tr>\n",
       "<tr><td>144</td><td>1.387</td><td>2017-06-11T05:42:38.303</td><td>./reduced_fitsimages/reduc_201</td><td>30.0</td><td>43.895</td><td>13.4</td><td>778.0</td><td>23.0</td><td>15.0</td><td>0.717</td><td>RG715</td><td>HoloPhP</td><td>HD205905</td></tr>\n",
       "<tr><td>145</td><td>1.38</td><td>2017-06-11T05:44:02.998</td><td>./reduced_fitsimages/reduc_201</td><td>60.0</td><td>43.601</td><td>13.5</td><td>778.0</td><td>22.0</td><td>15.1</td><td>0.81</td><td>RG715</td><td>HoloPhAg</td><td>HD205905</td></tr>\n",
       "<tr><td>146</td><td>1.371</td><td>2017-06-11T05:45:55.408</td><td>./reduced_fitsimages/reduc_201</td><td>60.0</td><td>43.2</td><td>13.5</td><td>778.0</td><td>22.0</td><td>14.1</td><td>0.708</td><td>RG715</td><td>HoloAmAg</td><td>HD205905</td></tr>\n",
       "<tr><td>151</td><td>1.867</td><td>2017-06-11T05:55:26.453</td><td>./reduced_fitsimages/reduc_201</td><td>30.0</td><td>57.696</td><td>13.2</td><td>779.0</td><td>23.0</td><td>15.4</td><td>0.818</td><td>RG715</td><td>Thor300</td><td>HD185975</td></tr>\n",
       "<tr><td>152</td><td>1.867</td><td>2017-06-11T05:56:49.004</td><td>./reduced_fitsimages/reduc_201</td><td>30.0</td><td>57.688</td><td>13.1</td><td>778.0</td><td>23.0</td><td>14.0</td><td>0.73</td><td>RG715</td><td>HoloPhP</td><td>HD185975</td></tr>\n",
       "<tr><td>...</td><td>...</td><td>...</td><td>...</td><td>...</td><td>...</td><td>...</td><td>...</td><td>...</td><td>...</td><td>...</td><td>...</td><td>...</td><td>...</td></tr>\n",
       "<tr><td>289</td><td>1.025</td><td>2017-06-11T10:00:01.644</td><td>./reduced_fitsimages/reduc_201</td><td>60.0</td><td>12.693</td><td>11.8</td><td>778.0</td><td>24.0</td><td>12.8</td><td>0.753</td><td>RG715</td><td>HoloPhAg</td><td>HD205905</td></tr>\n",
       "<tr><td>290</td><td>1.027</td><td>2017-06-11T10:01:54.107</td><td>./reduced_fitsimages/reduc_201</td><td>60.0</td><td>13.094</td><td>11.8</td><td>778.0</td><td>24.0</td><td>11.2</td><td>0.753</td><td>RG715</td><td>HoloAmAg</td><td>HD205905</td></tr>\n",
       "<tr><td>295</td><td>1.871</td><td>2017-06-11T10:11:24.353</td><td>./reduced_fitsimages/reduc_201</td><td>30.0</td><td>57.769</td><td>11.9</td><td>778.0</td><td>0.0</td><td>12.2</td><td>0.753</td><td>RG715</td><td>Thor300</td><td>HD185975</td></tr>\n",
       "<tr><td>296</td><td>1.871</td><td>2017-06-11T10:12:46.895</td><td>./reduced_fitsimages/reduc_201</td><td>30.0</td><td>57.777</td><td>12.0</td><td>778.0</td><td>24.0</td><td>14.1</td><td>0.753</td><td>RG715</td><td>HoloPhP</td><td>HD185975</td></tr>\n",
       "<tr><td>297</td><td>1.872</td><td>2017-06-11T10:14:13.104</td><td>./reduced_fitsimages/reduc_201</td><td>60.0</td><td>57.786</td><td>12.1</td><td>778.0</td><td>24.0</td><td>14.0</td><td>0.753</td><td>RG715</td><td>HoloPhAg</td><td>HD185975</td></tr>\n",
       "<tr><td>298</td><td>1.872</td><td>2017-06-11T10:16:05.606</td><td>./reduced_fitsimages/reduc_201</td><td>60.0</td><td>57.798</td><td>11.9</td><td>778.0</td><td>24.0</td><td>15.0</td><td>0.753</td><td>RG715</td><td>HoloAmAg</td><td>HD185975</td></tr>\n",
       "<tr><td>299</td><td>1.044</td><td>2017-06-11T10:18:34.256</td><td>./reduced_fitsimages/reduc_201</td><td>30.0</td><td>16.691</td><td>12.0</td><td>778.0</td><td>23.0</td><td>15.1</td><td>0.753</td><td>RG715</td><td>Thor300</td><td>HD205905</td></tr>\n",
       "<tr><td>300</td><td>1.046</td><td>2017-06-11T10:19:56.704</td><td>./reduced_fitsimages/reduc_201</td><td>30.0</td><td>16.988</td><td>12.1</td><td>778.0</td><td>23.0</td><td>15.8</td><td>0.753</td><td>RG715</td><td>HoloPhP</td><td>HD205905</td></tr>\n",
       "<tr><td>301</td><td>1.047</td><td>2017-06-11T10:21:22.002</td><td>./reduced_fitsimages/reduc_201</td><td>60.0</td><td>17.283</td><td>12.1</td><td>778.0</td><td>23.0</td><td>12.8</td><td>0.753</td><td>RG715</td><td>HoloPhAg</td><td>HD205905</td></tr>\n",
       "<tr><td>302</td><td>1.05</td><td>2017-06-11T10:23:14.496</td><td>./reduced_fitsimages/reduc_201</td><td>60.0</td><td>17.688</td><td>12.1</td><td>778.0</td><td>23.0</td><td>15.3</td><td>0.753</td><td>RG715</td><td>HoloAmAg</td><td>HD205905</td></tr>\n",
       "</table>"
      ],
      "text/plain": [
       "<Table length=112>\n",
       "number airmass           date          ... filter1 filter2   object \n",
       "int32  float32          str50          ...  str20   str20    str20  \n",
       "------ ------- ----------------------- ... ------- -------- --------\n",
       "   139   1.874 2017-06-11T05:34:06.396 ...   RG715  Thor300 HD185975\n",
       "   140   1.873 2017-06-11T05:35:28.909 ...   RG715  HoloPhP HD185975\n",
       "   141   1.873 2017-06-11T05:36:54.407 ...   RG715 HoloPhAg HD185975\n",
       "   142   1.873 2017-06-11T05:38:47.099 ...   RG715 HoloAmAg HD185975\n",
       "   143   1.393 2017-06-11T05:41:15.751 ...   RG715  Thor300 HD205905\n",
       "   144   1.387 2017-06-11T05:42:38.303 ...   RG715  HoloPhP HD205905\n",
       "   145    1.38 2017-06-11T05:44:02.998 ...   RG715 HoloPhAg HD205905\n",
       "   146   1.371 2017-06-11T05:45:55.408 ...   RG715 HoloAmAg HD205905\n",
       "   151   1.867 2017-06-11T05:55:26.453 ...   RG715  Thor300 HD185975\n",
       "   152   1.867 2017-06-11T05:56:49.004 ...   RG715  HoloPhP HD185975\n",
       "   ...     ...                     ... ...     ...      ...      ...\n",
       "   289   1.025 2017-06-11T10:00:01.644 ...   RG715 HoloPhAg HD205905\n",
       "   290   1.027 2017-06-11T10:01:54.107 ...   RG715 HoloAmAg HD205905\n",
       "   295   1.871 2017-06-11T10:11:24.353 ...   RG715  Thor300 HD185975\n",
       "   296   1.871 2017-06-11T10:12:46.895 ...   RG715  HoloPhP HD185975\n",
       "   297   1.872 2017-06-11T10:14:13.104 ...   RG715 HoloPhAg HD185975\n",
       "   298   1.872 2017-06-11T10:16:05.606 ...   RG715 HoloAmAg HD185975\n",
       "   299   1.044 2017-06-11T10:18:34.256 ...   RG715  Thor300 HD205905\n",
       "   300   1.046 2017-06-11T10:19:56.704 ...   RG715  HoloPhP HD205905\n",
       "   301   1.047 2017-06-11T10:21:22.002 ...   RG715 HoloPhAg HD205905\n",
       "   302    1.05 2017-06-11T10:23:14.496 ...   RG715 HoloAmAg HD205905"
      ]
     },
     "execution_count": 100,
     "metadata": {},
     "output_type": "execute_result"
    }
   ],
   "source": [
    "t"
   ]
  },
  {
   "cell_type": "markdown",
   "metadata": {
    "deletable": true,
    "editable": true
   },
   "source": [
    "## Convert into pandas to plot\n",
    "---------------------------------------"
   ]
  },
  {
   "cell_type": "code",
   "execution_count": 101,
   "metadata": {
    "collapsed": true,
    "deletable": true,
    "editable": true
   },
   "outputs": [],
   "source": [
    "df = t.to_pandas()"
   ]
  },
  {
   "cell_type": "code",
   "execution_count": 102,
   "metadata": {
    "collapsed": false,
    "deletable": true,
    "editable": true
   },
   "outputs": [
    {
     "data": {
      "text/plain": [
       "<matplotlib.axes._subplots.AxesSubplot at 0x10af81a50>"
      ]
     },
     "execution_count": 102,
     "metadata": {},
     "output_type": "execute_result"
    },
    {
     "data": {
      "image/png": "[encoded data removed]",
      "text/plain": [
       "<matplotlib.figure.Figure at 0x10bd38650>"
      ]
     },
     "metadata": {},
     "output_type": "display_data"
    }
   ],
   "source": [
    "df.plot('date','airmass',figsize=(20,6),rot=45,grid=True,title='airmass vs date',color='b',marker='o',linewidth=2)\n"
   ]
  },
  {
   "cell_type": "code",
   "execution_count": 103,
   "metadata": {
    "collapsed": false,
    "deletable": true,
    "editable": true
   },
   "outputs": [
    {
     "data": {
      "text/plain": [
       "<matplotlib.axes._subplots.AxesSubplot at 0x10b6df350>"
      ]
     },
     "execution_count": 103,
     "metadata": {},
     "output_type": "execute_result"
    },
    {
     "data": {
      "image/png": "[encoded data removed]",
      "text/plain": [
       "<matplotlib.figure.Figure at 0x10c486910>"
      ]
     },
     "metadata": {},
     "output_type": "display_data"
    }
   ],
   "source": [
    "df.plot('date','exposure',figsize=(20,6),rot=45,grid=True,title='exposure vs date',color='b',marker='o',linewidth=2)"
   ]
  },
  {
   "cell_type": "markdown",
   "metadata": {
    "collapsed": true,
    "deletable": true,
    "editable": true
   },
   "source": [
    "### Save pandas file\n"
   ]
  },
  {
   "cell_type": "code",
   "execution_count": 104,
   "metadata": {
    "collapsed": true,
    "deletable": true,
    "editable": true
   },
   "outputs": [],
   "source": [
    "df.to_csv(pandaslogfile)"
   ]
  },
  {
   "cell_type": "code",
   "execution_count": null,
   "metadata": {
    "collapsed": true,
    "deletable": true,
    "editable": true
   },
   "outputs": [],
   "source": []
  }
 ],
 "metadata": {
  "anaconda-cloud": {},
  "kernelspec": {
   "display_name": "Python [default]",
   "language": "python",
   "name": "python2"
  },
  "language_info": {
   "codemirror_mode": {
    "name": "ipython",
    "version": 2
   },
   "file_extension": ".py",
   "mimetype": "text/x-python",
   "name": "python",
   "nbconvert_exporter": "python",
   "pygments_lexer": "ipython2",
   "version": "2.7.12"
  },
  "toc": {
   "colors": {
    "hover_highlight": "#DAA520",
    "running_highlight": "#FF0000",
    "selected_highlight": "#FFD700"
   },
   "moveMenuLeft": true,
   "nav_menu": {
    "height": "161px",
    "width": "252px"
   },
   "navigate_menu": true,
   "number_sections": true,
   "sideBar": true,
   "threshold": 4,
   "toc_cell": false,
   "toc_section_display": "block",
   "toc_window_display": false,
   "widenNotebook": false
  }
 },
 "nbformat": 4,
 "nbformat_minor": 0
}
