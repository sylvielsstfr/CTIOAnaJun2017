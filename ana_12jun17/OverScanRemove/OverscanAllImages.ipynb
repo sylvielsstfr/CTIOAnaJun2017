{
 "cells": [
  {
   "cell_type": "markdown",
   "metadata": {
    "deletable": true,
    "editable": true
   },
   "source": [
    "# Does the overscan, subtraction and Triming of the CTIO images\n",
    "==================================================================================================\n",
    "- author : Sylvie Dagoret-Campagne\n",
    "- date   : January 18th 2017\n",
    "- update : May 30th 2017\n",
    "\n",
    "The library ***overscan_subtract_andTrim*** developped by Augustin Guyonnet is used\n",
    "to produce trim images.\n",
    "\n",
    "\n",
    "This has been updated for June 2017"
   ]
  },
  {
   "cell_type": "code",
   "execution_count": 1,
   "metadata": {
    "collapsed": true,
    "deletable": true,
    "editable": true
   },
   "outputs": [],
   "source": [
    "%matplotlib inline\n",
    "import matplotlib.pyplot as plt\n",
    "import numpy as np\n",
    "\n",
    "from astropy.modeling import models\n",
    "from astropy import units as u\n",
    "from astropy import nddata\n",
    "from astropy.io import fits\n",
    "import re\n",
    "import os"
   ]
  },
  {
   "cell_type": "code",
   "execution_count": 2,
   "metadata": {
    "collapsed": true,
    "deletable": true,
    "editable": true
   },
   "outputs": [],
   "source": [
    "# to enlarge the sizes\n",
    "params = {'legend.fontsize': 'x-large',\n",
    "          'figure.figsize': (8, 8),\n",
    "         'axes.labelsize': 'x-large',\n",
    "         'axes.titlesize':'x-large',\n",
    "         'xtick.labelsize':'x-large',\n",
    "         'ytick.labelsize':'x-large'}\n",
    "plt.rcParams.update(params)"
   ]
  },
  {
   "cell_type": "markdown",
   "metadata": {
    "deletable": true,
    "editable": true
   },
   "source": [
    "### Import Augustin Guyonnet overscan & trimming package"
   ]
  },
  {
   "cell_type": "code",
   "execution_count": 3,
   "metadata": {
    "collapsed": false,
    "deletable": true,
    "editable": true
   },
   "outputs": [],
   "source": [
    "import overscan_subtract_andTrim as ovsubtrim"
   ]
  },
  {
   "cell_type": "markdown",
   "metadata": {
    "deletable": true,
    "editable": true
   },
   "source": [
    "### Path for raw images"
   ]
  },
  {
   "cell_type": "code",
   "execution_count": 4,
   "metadata": {
    "collapsed": true,
    "deletable": true,
    "editable": true
   },
   "outputs": [],
   "source": [
    "#rootpath_rawimage='/Users/dagoret-campagnesylvie/MacOsX/LSST/MyWork/GitHub/CTIOData2017/2017_01_17/092_195'\n",
    "#rootpath_rawimage='/Users/dagoret-campagnesylvie/MacOsX/LSST/MyWork/GitHub/CTIODataJune2017/data_29may17'\n",
    "rootpath_rawimage='/Volumes/LACIE SHARE/data_12jun17'\n",
    "#rootpath_rawimage='/Users/dagoret-campagnesylvie/MacOsX/LSST/MyWork/GitHub/CTIODataJune2017/data_31may17'"
   ]
  },
  {
   "cell_type": "code",
   "execution_count": 5,
   "metadata": {
    "collapsed": false,
    "deletable": true,
    "editable": true
   },
   "outputs": [],
   "source": [
    "filelist_all=os.listdir(rootpath_rawimage) "
   ]
  },
  {
   "cell_type": "code",
   "execution_count": 6,
   "metadata": {
    "collapsed": false,
    "deletable": true,
    "editable": true
   },
   "outputs": [
    {
     "data": {
      "text/plain": [
       "['20170612_003.fits',\n",
       " '20170612_027.fits',\n",
       " '20170612_036.fits',\n",
       " '20170612_021.fits',\n",
       " '20170612_002.fits']"
      ]
     },
     "execution_count": 6,
     "metadata": {},
     "output_type": "execute_result"
    }
   ],
   "source": [
    "filelist_all[:5]"
   ]
  },
  {
   "cell_type": "markdown",
   "metadata": {
    "deletable": true,
    "editable": true
   },
   "source": [
    "### select raw images only\n",
    "\n",
    "- filename start with **fileno**\n",
    "- filename stop with **fits** "
   ]
  },
  {
   "cell_type": "code",
   "execution_count": 7,
   "metadata": {
    "collapsed": false,
    "deletable": true,
    "editable": true
   },
   "outputs": [
    {
     "name": "stdout",
     "output_type": "stream",
     "text": [
      "Number of files : 39\n"
     ]
    }
   ],
   "source": [
    "filelist_fitsimages= []\n",
    "for filename in filelist_all:\n",
    "    if re.search('^2017.*.fits$',filename):  #example of filename filter\n",
    "        filelist_fitsimages.append(filename)\n",
    "print 'Number of files :',len(filelist_fitsimages)"
   ]
  },
  {
   "cell_type": "code",
   "execution_count": 8,
   "metadata": {
    "collapsed": false,
    "deletable": true,
    "editable": true
   },
   "outputs": [
    {
     "data": {
      "text/plain": [
       "['20170612_003.fits',\n",
       " '20170612_027.fits',\n",
       " '20170612_036.fits',\n",
       " '20170612_021.fits',\n",
       " '20170612_002.fits']"
      ]
     },
     "execution_count": 8,
     "metadata": {},
     "output_type": "execute_result"
    }
   ],
   "source": [
    "filelist_fitsimages[:5]"
   ]
  },
  {
   "cell_type": "markdown",
   "metadata": {
    "deletable": true,
    "editable": true
   },
   "source": [
    "### outputdir"
   ]
  },
  {
   "cell_type": "code",
   "execution_count": 9,
   "metadata": {
    "collapsed": true,
    "deletable": true,
    "editable": true
   },
   "outputs": [],
   "source": [
    "############################################################################\n",
    "def ensure_dir(f):\n",
    "    d = os.path.dirname(f)\n",
    "    if not os.path.exists(f):\n",
    "        os.makedirs(f)\n",
    "#########################################################################"
   ]
  },
  {
   "cell_type": "code",
   "execution_count": 10,
   "metadata": {
    "collapsed": true,
    "deletable": true,
    "editable": true
   },
   "outputs": [],
   "source": [
    "outputdir=\"./trim_images\""
   ]
  },
  {
   "cell_type": "code",
   "execution_count": 11,
   "metadata": {
    "collapsed": false,
    "deletable": true,
    "editable": true
   },
   "outputs": [],
   "source": [
    "ensure_dir(outputdir)"
   ]
  },
  {
   "cell_type": "markdown",
   "metadata": {
    "deletable": true,
    "editable": true
   },
   "source": [
    "### Do the overscan and the subtraction and the trimming"
   ]
  },
  {
   "cell_type": "code",
   "execution_count": 12,
   "metadata": {
    "collapsed": false,
    "deletable": true,
    "editable": true
   },
   "outputs": [
    {
     "name": "stdout",
     "output_type": "stream",
     "text": [
      "20170612_003.fits\n",
      "20170612_027.fits\n",
      "20170612_036.fits\n",
      "20170612_021.fits\n",
      "20170612_002.fits\n",
      "20170612_029.fits\n",
      "20170612_028.fits\n",
      "20170612_011.fits\n",
      "20170612_014.fits\n",
      "20170612_012.fits\n",
      "20170612_018.fits\n",
      "20170612_032.fits\n",
      "20170612_026.fits\n",
      "20170612_004.fits\n",
      "20170612_041.fits\n",
      "20170612_009.fits\n",
      "20170612_019.fits\n",
      "20170612_024.fits\n",
      "20170612_042.fits\n",
      "20170612_007.fits\n",
      "20170612_035.fits\n",
      "20170612_005.fits\n",
      "20170612_030.fits\n",
      "20170612_016.fits\n",
      "20170612_017.fits\n",
      "20170612_008.fits\n",
      "20170612_044.fits\n",
      "20170612_031.fits\n",
      "20170612_034.fits\n",
      "20170612_001.fits\n",
      "20170612_022.fits\n",
      "20170612_015.fits\n",
      "20170612_033.fits\n",
      "20170612_006.fits\n",
      "20170612_010.fits\n",
      "20170612_025.fits\n",
      "20170612_013.fits\n",
      "20170612_023.fits\n",
      "20170612_020.fits\n"
     ]
    }
   ],
   "source": [
    "for file in filelist_fitsimages:\n",
    "    print file\n",
    "    fullfilename=os.path.join(rootpath_rawimage,file)\n",
    "    ovsubtrim.Do_overscan_subtract_andTrim(fullfilename)"
   ]
  },
  {
   "cell_type": "markdown",
   "metadata": {
    "collapsed": false,
    "deletable": true,
    "editable": true
   },
   "source": [
    "## Now in shell do mv trim_*.fits ${outputdir}/."
   ]
  },
  {
   "cell_type": "code",
   "execution_count": 13,
   "metadata": {
    "collapsed": false,
    "deletable": true,
    "editable": true
   },
   "outputs": [
    {
     "name": "stdout",
     "output_type": "stream",
     "text": [
      "OverscanAllImages.ipynb       trim_20170612_017.fits\r\n",
      "compute.py                    trim_20170612_018.fits\r\n",
      "header.py                     trim_20170612_019.fits\r\n",
      "overscan_subtract_andTrim.py  trim_20170612_020.fits\r\n",
      "overscan_subtract_andTrim.pyc trim_20170612_021.fits\r\n",
      "skylev.py                     trim_20170612_022.fits\r\n",
      "telinst.py                    trim_20170612_023.fits\r\n",
      "telinst.pyc                   trim_20170612_024.fits\r\n",
      "trim_20170612_001.fits        trim_20170612_025.fits\r\n",
      "trim_20170612_002.fits        trim_20170612_026.fits\r\n",
      "trim_20170612_003.fits        trim_20170612_027.fits\r\n",
      "trim_20170612_004.fits        trim_20170612_028.fits\r\n",
      "trim_20170612_005.fits        trim_20170612_029.fits\r\n",
      "trim_20170612_006.fits        trim_20170612_030.fits\r\n",
      "trim_20170612_007.fits        trim_20170612_031.fits\r\n",
      "trim_20170612_008.fits        trim_20170612_032.fits\r\n",
      "trim_20170612_009.fits        trim_20170612_033.fits\r\n",
      "trim_20170612_010.fits        trim_20170612_034.fits\r\n",
      "trim_20170612_011.fits        trim_20170612_035.fits\r\n",
      "trim_20170612_012.fits        trim_20170612_036.fits\r\n",
      "trim_20170612_013.fits        trim_20170612_041.fits\r\n",
      "trim_20170612_014.fits        trim_20170612_042.fits\r\n",
      "trim_20170612_015.fits        trim_20170612_044.fits\r\n",
      "trim_20170612_016.fits        \u001b[34mtrim_images\u001b[m\u001b[m\r\n"
     ]
    }
   ],
   "source": [
    "!ls\n"
   ]
  },
  {
   "cell_type": "code",
   "execution_count": 14,
   "metadata": {
    "collapsed": false,
    "deletable": true,
    "editable": true
   },
   "outputs": [],
   "source": [
    "! mv *.fits trim_images/."
   ]
  },
  {
   "cell_type": "code",
   "execution_count": 15,
   "metadata": {
    "collapsed": false,
    "deletable": true,
    "editable": true
   },
   "outputs": [
    {
     "name": "stdout",
     "output_type": "stream",
     "text": [
      "OverscanAllImages.ipynb       skylev.py\r\n",
      "compute.py                    telinst.py\r\n",
      "header.py                     telinst.pyc\r\n",
      "overscan_subtract_andTrim.py  \u001b[34mtrim_images\u001b[m\u001b[m\r\n",
      "overscan_subtract_andTrim.pyc\r\n"
     ]
    }
   ],
   "source": [
    "!ls"
   ]
  },
  {
   "cell_type": "code",
   "execution_count": 16,
   "metadata": {
    "collapsed": false,
    "deletable": true,
    "editable": true
   },
   "outputs": [
    {
     "name": "stdout",
     "output_type": "stream",
     "text": [
      "trim_20170612_001.fits trim_20170612_014.fits trim_20170612_027.fits\r\n",
      "trim_20170612_002.fits trim_20170612_015.fits trim_20170612_028.fits\r\n",
      "trim_20170612_003.fits trim_20170612_016.fits trim_20170612_029.fits\r\n",
      "trim_20170612_004.fits trim_20170612_017.fits trim_20170612_030.fits\r\n",
      "trim_20170612_005.fits trim_20170612_018.fits trim_20170612_031.fits\r\n",
      "trim_20170612_006.fits trim_20170612_019.fits trim_20170612_032.fits\r\n",
      "trim_20170612_007.fits trim_20170612_020.fits trim_20170612_033.fits\r\n",
      "trim_20170612_008.fits trim_20170612_021.fits trim_20170612_034.fits\r\n",
      "trim_20170612_009.fits trim_20170612_022.fits trim_20170612_035.fits\r\n",
      "trim_20170612_010.fits trim_20170612_023.fits trim_20170612_036.fits\r\n",
      "trim_20170612_011.fits trim_20170612_024.fits trim_20170612_041.fits\r\n",
      "trim_20170612_012.fits trim_20170612_025.fits trim_20170612_042.fits\r\n",
      "trim_20170612_013.fits trim_20170612_026.fits trim_20170612_044.fits\r\n"
     ]
    }
   ],
   "source": [
    "!ls trim_images"
   ]
  },
  {
   "cell_type": "code",
   "execution_count": null,
   "metadata": {
    "collapsed": true,
    "deletable": true,
    "editable": true
   },
   "outputs": [],
   "source": []
  }
 ],
 "metadata": {
  "anaconda-cloud": {},
  "kernelspec": {
   "display_name": "Python 2",
   "language": "python",
   "name": "python2"
  },
  "language_info": {
   "codemirror_mode": {
    "name": "ipython",
    "version": 2
   },
   "file_extension": ".py",
   "mimetype": "text/x-python",
   "name": "python",
   "nbconvert_exporter": "python",
   "pygments_lexer": "ipython2",
   "version": "2.7.10"
  },
  "toc": {
   "colors": {
    "hover_highlight": "#DAA520",
    "running_highlight": "#FF0000",
    "selected_highlight": "#FFD700"
   },
   "moveMenuLeft": true,
   "nav_menu": {
    "height": "153px",
    "width": "252px"
   },
   "navigate_menu": true,
   "number_sections": true,
   "sideBar": true,
   "threshold": 4,
   "toc_cell": false,
   "toc_section_display": "block",
   "toc_window_display": false,
   "widenNotebook": false
  }
 },
 "nbformat": 4,
 "nbformat_minor": 0
}
