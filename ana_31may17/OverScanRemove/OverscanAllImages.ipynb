{
 "cells": [
  {
   "cell_type": "markdown",
   "metadata": {
    "deletable": true,
    "editable": true
   },
   "source": [
    "# Does the overscan, subtraction and Triming of the CTIO images\n",
    "==================================================================================================\n",
    "- author : Sylvie Dagoret-Campagne\n",
    "- date   : January 18th 2017\n",
    "- update : May 30th 2017\n",
    "\n",
    "The library ***overscan_subtract_andTrim*** developped by Augustin Guyonnet is used\n",
    "to produce trim images.\n",
    "\n",
    "\n",
    "This has been updated for June 2017"
   ]
  },
  {
   "cell_type": "code",
   "execution_count": 1,
   "metadata": {
    "collapsed": true,
    "deletable": true,
    "editable": true
   },
   "outputs": [],
   "source": [
    "%matplotlib inline\n",
    "import matplotlib.pyplot as plt\n",
    "import numpy as np\n",
    "\n",
    "from astropy.modeling import models\n",
    "from astropy import units as u\n",
    "from astropy import nddata\n",
    "from astropy.io import fits\n",
    "import re\n",
    "import os"
   ]
  },
  {
   "cell_type": "code",
   "execution_count": 2,
   "metadata": {
    "collapsed": true,
    "deletable": true,
    "editable": true
   },
   "outputs": [],
   "source": [
    "# to enlarge the sizes\n",
    "params = {'legend.fontsize': 'x-large',\n",
    "          'figure.figsize': (8, 8),\n",
    "         'axes.labelsize': 'x-large',\n",
    "         'axes.titlesize':'x-large',\n",
    "         'xtick.labelsize':'x-large',\n",
    "         'ytick.labelsize':'x-large'}\n",
    "plt.rcParams.update(params)"
   ]
  },
  {
   "cell_type": "markdown",
   "metadata": {
    "deletable": true,
    "editable": true
   },
   "source": [
    "### Import Augustin Guyonnet overscan & trimming package"
   ]
  },
  {
   "cell_type": "code",
   "execution_count": 3,
   "metadata": {
    "collapsed": false,
    "deletable": true,
    "editable": true
   },
   "outputs": [],
   "source": [
    "import overscan_subtract_andTrim as ovsubtrim"
   ]
  },
  {
   "cell_type": "markdown",
   "metadata": {
    "deletable": true,
    "editable": true
   },
   "source": [
    "### Path for raw images"
   ]
  },
  {
   "cell_type": "code",
   "execution_count": 4,
   "metadata": {
    "collapsed": true,
    "deletable": true,
    "editable": true
   },
   "outputs": [],
   "source": [
    "#rootpath_rawimage='/Users/dagoret-campagnesylvie/MacOsX/LSST/MyWork/GitHub/CTIOData2017/2017_01_17/092_195'\n",
    "#rootpath_rawimage='/Users/dagoret-campagnesylvie/MacOsX/LSST/MyWork/GitHub/CTIODataJune2017/data_29may17'\n",
    "#rootpath_rawimage='/Volumes/LACIE SHARE/data_31may17'\n",
    "rootpath_rawimage='/Users/dagoret-campagnesylvie/MacOsX/LSST/MyWork/GitHub/CTIODataJune2017/data_31may17'"
   ]
  },
  {
   "cell_type": "code",
   "execution_count": 5,
   "metadata": {
    "collapsed": false,
    "deletable": true,
    "editable": true
   },
   "outputs": [],
   "source": [
    "filelist_all=os.listdir(rootpath_rawimage) "
   ]
  },
  {
   "cell_type": "code",
   "execution_count": 6,
   "metadata": {
    "collapsed": false,
    "deletable": true,
    "editable": true
   },
   "outputs": [
    {
     "data": {
      "text/plain": [
       "['20170531_001.fits',\n",
       " '20170531_002.fits',\n",
       " '20170531_003.fits',\n",
       " '20170531_004.fits',\n",
       " '20170531_005.fits']"
      ]
     },
     "execution_count": 6,
     "metadata": {},
     "output_type": "execute_result"
    }
   ],
   "source": [
    "filelist_all[:5]"
   ]
  },
  {
   "cell_type": "markdown",
   "metadata": {
    "deletable": true,
    "editable": true
   },
   "source": [
    "### select raw images only\n",
    "\n",
    "- filename start with **fileno**\n",
    "- filename stop with **fits** "
   ]
  },
  {
   "cell_type": "code",
   "execution_count": 7,
   "metadata": {
    "collapsed": false,
    "deletable": true,
    "editable": true
   },
   "outputs": [
    {
     "name": "stdout",
     "output_type": "stream",
     "text": [
      "Number of files : 164\n"
     ]
    }
   ],
   "source": [
    "filelist_fitsimages= []\n",
    "for filename in filelist_all:\n",
    "    if re.search('^2017.*.fits$',filename):  #example of filename filter\n",
    "        filelist_fitsimages.append(filename)\n",
    "print 'Number of files :',len(filelist_fitsimages)"
   ]
  },
  {
   "cell_type": "code",
   "execution_count": 8,
   "metadata": {
    "collapsed": false,
    "deletable": true,
    "editable": true
   },
   "outputs": [
    {
     "data": {
      "text/plain": [
       "['20170531_001.fits',\n",
       " '20170531_002.fits',\n",
       " '20170531_003.fits',\n",
       " '20170531_004.fits',\n",
       " '20170531_005.fits']"
      ]
     },
     "execution_count": 8,
     "metadata": {},
     "output_type": "execute_result"
    }
   ],
   "source": [
    "filelist_fitsimages[:5]"
   ]
  },
  {
   "cell_type": "markdown",
   "metadata": {
    "deletable": true,
    "editable": true
   },
   "source": [
    "### outputdir"
   ]
  },
  {
   "cell_type": "code",
   "execution_count": 9,
   "metadata": {
    "collapsed": true,
    "deletable": true,
    "editable": true
   },
   "outputs": [],
   "source": [
    "############################################################################\n",
    "def ensure_dir(f):\n",
    "    d = os.path.dirname(f)\n",
    "    if not os.path.exists(f):\n",
    "        os.makedirs(f)\n",
    "#########################################################################"
   ]
  },
  {
   "cell_type": "code",
   "execution_count": 10,
   "metadata": {
    "collapsed": true,
    "deletable": true,
    "editable": true
   },
   "outputs": [],
   "source": [
    "outputdir=\"./trim_images\""
   ]
  },
  {
   "cell_type": "code",
   "execution_count": 11,
   "metadata": {
    "collapsed": false,
    "deletable": true,
    "editable": true
   },
   "outputs": [],
   "source": [
    "ensure_dir(outputdir)"
   ]
  },
  {
   "cell_type": "markdown",
   "metadata": {
    "deletable": true,
    "editable": true
   },
   "source": [
    "### Do the overscan and the subtraction and the trimming"
   ]
  },
  {
   "cell_type": "code",
   "execution_count": 12,
   "metadata": {
    "collapsed": false,
    "deletable": true,
    "editable": true
   },
   "outputs": [
    {
     "name": "stdout",
     "output_type": "stream",
     "text": [
      "20170531_001.fits\n"
     ]
    },
    {
     "name": "stderr",
     "output_type": "stream",
     "text": [
      "WARNING: AstropyDeprecationWarning: \"clobber\" was deprecated in version 1.3 and will be removed in a future version. Use argument \"overwrite\" instead. [astropy.utils.decorators]\n",
      "WARNING:astropy:AstropyDeprecationWarning: \"clobber\" was deprecated in version 1.3 and will be removed in a future version. Use argument \"overwrite\" instead.\n"
     ]
    },
    {
     "name": "stdout",
     "output_type": "stream",
     "text": [
      "20170531_002.fits\n",
      "20170531_003.fits\n",
      "20170531_004.fits\n",
      "20170531_005.fits\n",
      "20170531_006.fits\n",
      "20170531_007.fits\n",
      "20170531_008.fits\n",
      "20170531_009.fits\n",
      "20170531_010.fits\n",
      "20170531_011.fits\n",
      "20170531_012.fits\n",
      "20170531_013.fits\n",
      "20170531_014.fits\n",
      "20170531_015.fits\n",
      "20170531_016.fits\n",
      "20170531_017.fits\n",
      "20170531_018.fits\n",
      "20170531_019.fits\n",
      "20170531_020.fits\n",
      "20170531_023.fits\n",
      "20170531_024.fits\n",
      "20170531_025.fits\n",
      "20170531_026.fits\n",
      "20170531_027.fits\n",
      "20170531_028.fits\n",
      "20170531_029.fits\n",
      "20170531_030.fits\n",
      "20170531_031.fits\n",
      "20170531_032.fits\n",
      "20170531_033.fits\n",
      "20170531_034.fits\n",
      "20170531_035.fits\n",
      "20170531_036.fits\n",
      "20170531_037.fits\n",
      "20170531_038.fits\n",
      "20170531_039.fits\n",
      "20170531_040.fits\n",
      "20170531_041.fits\n",
      "20170531_042.fits\n",
      "20170531_046.fits\n",
      "20170531_047.fits\n",
      "20170531_048.fits\n",
      "20170531_049.fits\n",
      "20170531_050.fits\n",
      "20170531_051.fits\n",
      "20170531_052.fits\n",
      "20170531_053.fits\n",
      "20170531_054.fits\n",
      "20170531_055.fits\n",
      "20170531_056.fits\n",
      "20170531_057.fits\n",
      "20170531_058.fits\n",
      "20170531_059.fits\n",
      "20170531_060.fits\n",
      "20170531_061.fits\n",
      "20170531_062.fits\n",
      "20170531_063.fits\n",
      "20170531_066.fits\n",
      "20170531_067.fits\n",
      "20170531_068.fits\n",
      "20170531_069.fits\n",
      "20170531_070.fits\n",
      "20170531_071.fits\n",
      "20170531_074.fits\n",
      "20170531_075.fits\n",
      "20170531_076.fits\n",
      "20170531_077.fits\n",
      "20170531_078.fits\n",
      "20170531_079.fits\n",
      "20170531_080.fits\n",
      "20170531_081.fits\n",
      "20170531_082.fits\n",
      "20170531_083.fits\n",
      "20170531_084.fits\n",
      "20170531_085.fits\n",
      "20170531_086.fits\n",
      "20170531_087.fits\n",
      "20170531_088.fits\n",
      "20170531_089.fits\n",
      "20170531_090.fits\n",
      "20170531_091.fits\n",
      "20170531_092.fits\n",
      "20170531_093.fits\n",
      "20170531_094.fits\n",
      "20170531_095.fits\n",
      "20170531_096.fits\n",
      "20170531_097.fits\n",
      "20170531_098.fits\n",
      "20170531_099.fits\n",
      "20170531_100.fits\n",
      "20170531_101.fits\n",
      "20170531_102.fits\n",
      "20170531_103.fits\n",
      "20170531_104.fits\n",
      "20170531_105.fits\n",
      "20170531_106.fits\n",
      "20170531_107.fits\n",
      "20170531_108.fits\n",
      "20170531_109.fits\n",
      "20170531_110.fits\n",
      "20170531_113.fits\n",
      "20170531_114.fits\n",
      "20170531_115.fits\n",
      "20170531_116.fits\n",
      "20170531_117.fits\n",
      "20170531_118.fits\n",
      "20170531_119.fits\n",
      "20170531_120.fits\n",
      "20170531_121.fits\n",
      "20170531_122.fits\n",
      "20170531_123.fits\n",
      "20170531_124.fits\n",
      "20170531_125.fits\n",
      "20170531_126.fits\n",
      "20170531_127.fits\n",
      "20170531_128.fits\n",
      "20170531_129.fits\n",
      "20170531_130.fits\n",
      "20170531_131.fits\n",
      "20170531_132.fits\n",
      "20170531_133.fits\n",
      "20170531_134.fits\n",
      "20170531_135.fits\n",
      "20170531_136.fits\n",
      "20170531_137.fits\n",
      "20170531_138.fits\n",
      "20170531_139.fits\n",
      "20170531_140.fits\n",
      "20170531_143.fits\n",
      "20170531_144.fits\n",
      "20170531_145.fits\n",
      "20170531_146.fits\n",
      "20170531_147.fits\n",
      "20170531_148.fits\n",
      "20170531_149.fits\n",
      "20170531_150.fits\n",
      "20170531_151.fits\n",
      "20170531_152.fits\n",
      "20170531_153.fits\n",
      "20170531_154.fits\n",
      "20170531_155.fits\n",
      "20170531_156.fits\n",
      "20170531_157.fits\n",
      "20170531_158.fits\n",
      "20170531_159.fits\n",
      "20170531_160.fits\n",
      "20170531_161.fits\n",
      "20170531_162.fits\n",
      "20170531_163.fits\n",
      "20170531_164.fits\n",
      "20170531_165.fits\n",
      "20170531_166.fits\n",
      "20170531_167.fits\n",
      "20170531_168.fits\n",
      "20170531_169.fits\n",
      "20170531_170.fits\n",
      "20170531_171.fits\n",
      "20170531_172.fits\n",
      "20170531_173.fits\n",
      "20170531_174.fits\n",
      "20170531_175.fits\n",
      "20170531_176.fits\n",
      "20170531_177.fits\n"
     ]
    }
   ],
   "source": [
    "for file in filelist_fitsimages:\n",
    "    print file\n",
    "    fullfilename=os.path.join(rootpath_rawimage,file)\n",
    "    ovsubtrim.Do_overscan_subtract_andTrim(fullfilename)"
   ]
  },
  {
   "cell_type": "markdown",
   "metadata": {
    "collapsed": false,
    "deletable": true,
    "editable": true
   },
   "source": [
    "## Now in shell do mv trim_*.fits ${outputdir}/."
   ]
  },
  {
   "cell_type": "code",
   "execution_count": 13,
   "metadata": {
    "collapsed": false,
    "deletable": true,
    "editable": true
   },
   "outputs": [
    {
     "name": "stdout",
     "output_type": "stream",
     "text": [
      "OverscanAllImages.ipynb       trim_20170531_089.fits\r\n",
      "compute.py                    trim_20170531_090.fits\r\n",
      "header.py                     trim_20170531_091.fits\r\n",
      "overscan_subtract_andTrim.py  trim_20170531_092.fits\r\n",
      "overscan_subtract_andTrim.pyc trim_20170531_093.fits\r\n",
      "skylev.py                     trim_20170531_094.fits\r\n",
      "telinst.py                    trim_20170531_095.fits\r\n",
      "telinst.pyc                   trim_20170531_096.fits\r\n",
      "trim_20170531_001.fits        trim_20170531_097.fits\r\n",
      "trim_20170531_002.fits        trim_20170531_098.fits\r\n",
      "trim_20170531_003.fits        trim_20170531_099.fits\r\n",
      "trim_20170531_004.fits        trim_20170531_100.fits\r\n",
      "trim_20170531_005.fits        trim_20170531_101.fits\r\n",
      "trim_20170531_006.fits        trim_20170531_102.fits\r\n",
      "trim_20170531_007.fits        trim_20170531_103.fits\r\n",
      "trim_20170531_008.fits        trim_20170531_104.fits\r\n",
      "trim_20170531_009.fits        trim_20170531_105.fits\r\n",
      "trim_20170531_010.fits        trim_20170531_106.fits\r\n",
      "trim_20170531_011.fits        trim_20170531_107.fits\r\n",
      "trim_20170531_012.fits        trim_20170531_108.fits\r\n",
      "trim_20170531_013.fits        trim_20170531_109.fits\r\n",
      "trim_20170531_014.fits        trim_20170531_110.fits\r\n",
      "trim_20170531_015.fits        trim_20170531_113.fits\r\n",
      "trim_20170531_016.fits        trim_20170531_114.fits\r\n",
      "trim_20170531_017.fits        trim_20170531_115.fits\r\n",
      "trim_20170531_018.fits        trim_20170531_116.fits\r\n",
      "trim_20170531_019.fits        trim_20170531_117.fits\r\n",
      "trim_20170531_020.fits        trim_20170531_118.fits\r\n",
      "trim_20170531_023.fits        trim_20170531_119.fits\r\n",
      "trim_20170531_024.fits        trim_20170531_120.fits\r\n",
      "trim_20170531_025.fits        trim_20170531_121.fits\r\n",
      "trim_20170531_026.fits        trim_20170531_122.fits\r\n",
      "trim_20170531_027.fits        trim_20170531_123.fits\r\n",
      "trim_20170531_028.fits        trim_20170531_124.fits\r\n",
      "trim_20170531_029.fits        trim_20170531_125.fits\r\n",
      "trim_20170531_030.fits        trim_20170531_126.fits\r\n",
      "trim_20170531_031.fits        trim_20170531_127.fits\r\n",
      "trim_20170531_032.fits        trim_20170531_128.fits\r\n",
      "trim_20170531_033.fits        trim_20170531_129.fits\r\n",
      "trim_20170531_034.fits        trim_20170531_130.fits\r\n",
      "trim_20170531_035.fits        trim_20170531_131.fits\r\n",
      "trim_20170531_036.fits        trim_20170531_132.fits\r\n",
      "trim_20170531_037.fits        trim_20170531_133.fits\r\n",
      "trim_20170531_038.fits        trim_20170531_134.fits\r\n",
      "trim_20170531_039.fits        trim_20170531_135.fits\r\n",
      "trim_20170531_040.fits        trim_20170531_136.fits\r\n",
      "trim_20170531_041.fits        trim_20170531_137.fits\r\n",
      "trim_20170531_042.fits        trim_20170531_138.fits\r\n",
      "trim_20170531_046.fits        trim_20170531_139.fits\r\n",
      "trim_20170531_047.fits        trim_20170531_140.fits\r\n",
      "trim_20170531_048.fits        trim_20170531_143.fits\r\n",
      "trim_20170531_049.fits        trim_20170531_144.fits\r\n",
      "trim_20170531_050.fits        trim_20170531_145.fits\r\n",
      "trim_20170531_051.fits        trim_20170531_146.fits\r\n",
      "trim_20170531_052.fits        trim_20170531_147.fits\r\n",
      "trim_20170531_053.fits        trim_20170531_148.fits\r\n",
      "trim_20170531_054.fits        trim_20170531_149.fits\r\n",
      "trim_20170531_055.fits        trim_20170531_150.fits\r\n",
      "trim_20170531_056.fits        trim_20170531_151.fits\r\n",
      "trim_20170531_057.fits        trim_20170531_152.fits\r\n",
      "trim_20170531_058.fits        trim_20170531_153.fits\r\n",
      "trim_20170531_059.fits        trim_20170531_154.fits\r\n",
      "trim_20170531_060.fits        trim_20170531_155.fits\r\n",
      "trim_20170531_061.fits        trim_20170531_156.fits\r\n",
      "trim_20170531_062.fits        trim_20170531_157.fits\r\n",
      "trim_20170531_063.fits        trim_20170531_158.fits\r\n",
      "trim_20170531_066.fits        trim_20170531_159.fits\r\n",
      "trim_20170531_067.fits        trim_20170531_160.fits\r\n",
      "trim_20170531_068.fits        trim_20170531_161.fits\r\n",
      "trim_20170531_069.fits        trim_20170531_162.fits\r\n",
      "trim_20170531_070.fits        trim_20170531_163.fits\r\n",
      "trim_20170531_071.fits        trim_20170531_164.fits\r\n",
      "trim_20170531_074.fits        trim_20170531_165.fits\r\n",
      "trim_20170531_075.fits        trim_20170531_166.fits\r\n",
      "trim_20170531_076.fits        trim_20170531_167.fits\r\n",
      "trim_20170531_077.fits        trim_20170531_168.fits\r\n",
      "trim_20170531_078.fits        trim_20170531_169.fits\r\n",
      "trim_20170531_079.fits        trim_20170531_170.fits\r\n",
      "trim_20170531_080.fits        trim_20170531_171.fits\r\n",
      "trim_20170531_081.fits        trim_20170531_172.fits\r\n",
      "trim_20170531_082.fits        trim_20170531_173.fits\r\n",
      "trim_20170531_083.fits        trim_20170531_174.fits\r\n",
      "trim_20170531_084.fits        trim_20170531_175.fits\r\n",
      "trim_20170531_085.fits        trim_20170531_176.fits\r\n",
      "trim_20170531_086.fits        trim_20170531_177.fits\r\n",
      "trim_20170531_087.fits        \u001b[34mtrim_images\u001b[m\u001b[m\r\n",
      "trim_20170531_088.fits\r\n"
     ]
    }
   ],
   "source": [
    "!ls\n"
   ]
  },
  {
   "cell_type": "code",
   "execution_count": 14,
   "metadata": {
    "collapsed": false,
    "deletable": true,
    "editable": true
   },
   "outputs": [],
   "source": [
    "! mv *.fits trim_images/."
   ]
  },
  {
   "cell_type": "code",
   "execution_count": 15,
   "metadata": {
    "collapsed": false,
    "deletable": true,
    "editable": true
   },
   "outputs": [
    {
     "name": "stdout",
     "output_type": "stream",
     "text": [
      "OverscanAllImages.ipynb       skylev.py\r\n",
      "compute.py                    telinst.py\r\n",
      "header.py                     telinst.pyc\r\n",
      "overscan_subtract_andTrim.py  \u001b[34mtrim_images\u001b[m\u001b[m\r\n",
      "overscan_subtract_andTrim.pyc\r\n"
     ]
    }
   ],
   "source": [
    "!ls"
   ]
  },
  {
   "cell_type": "code",
   "execution_count": 16,
   "metadata": {
    "collapsed": false,
    "deletable": true,
    "editable": true
   },
   "outputs": [
    {
     "name": "stdout",
     "output_type": "stream",
     "text": [
      "trim_20170531_001.fits trim_20170531_061.fits trim_20170531_122.fits\r\n",
      "trim_20170531_002.fits trim_20170531_062.fits trim_20170531_123.fits\r\n",
      "trim_20170531_003.fits trim_20170531_063.fits trim_20170531_124.fits\r\n",
      "trim_20170531_004.fits trim_20170531_066.fits trim_20170531_125.fits\r\n",
      "trim_20170531_005.fits trim_20170531_067.fits trim_20170531_126.fits\r\n",
      "trim_20170531_006.fits trim_20170531_068.fits trim_20170531_127.fits\r\n",
      "trim_20170531_007.fits trim_20170531_069.fits trim_20170531_128.fits\r\n",
      "trim_20170531_008.fits trim_20170531_070.fits trim_20170531_129.fits\r\n",
      "trim_20170531_009.fits trim_20170531_071.fits trim_20170531_130.fits\r\n",
      "trim_20170531_010.fits trim_20170531_074.fits trim_20170531_131.fits\r\n",
      "trim_20170531_011.fits trim_20170531_075.fits trim_20170531_132.fits\r\n",
      "trim_20170531_012.fits trim_20170531_076.fits trim_20170531_133.fits\r\n",
      "trim_20170531_013.fits trim_20170531_077.fits trim_20170531_134.fits\r\n",
      "trim_20170531_014.fits trim_20170531_078.fits trim_20170531_135.fits\r\n",
      "trim_20170531_015.fits trim_20170531_079.fits trim_20170531_136.fits\r\n",
      "trim_20170531_016.fits trim_20170531_080.fits trim_20170531_137.fits\r\n",
      "trim_20170531_017.fits trim_20170531_081.fits trim_20170531_138.fits\r\n",
      "trim_20170531_018.fits trim_20170531_082.fits trim_20170531_139.fits\r\n",
      "trim_20170531_019.fits trim_20170531_083.fits trim_20170531_140.fits\r\n",
      "trim_20170531_020.fits trim_20170531_084.fits trim_20170531_143.fits\r\n",
      "trim_20170531_023.fits trim_20170531_085.fits trim_20170531_144.fits\r\n",
      "trim_20170531_024.fits trim_20170531_086.fits trim_20170531_145.fits\r\n",
      "trim_20170531_025.fits trim_20170531_087.fits trim_20170531_146.fits\r\n",
      "trim_20170531_026.fits trim_20170531_088.fits trim_20170531_147.fits\r\n",
      "trim_20170531_027.fits trim_20170531_089.fits trim_20170531_148.fits\r\n",
      "trim_20170531_028.fits trim_20170531_090.fits trim_20170531_149.fits\r\n",
      "trim_20170531_029.fits trim_20170531_091.fits trim_20170531_150.fits\r\n",
      "trim_20170531_030.fits trim_20170531_092.fits trim_20170531_151.fits\r\n",
      "trim_20170531_031.fits trim_20170531_093.fits trim_20170531_152.fits\r\n",
      "trim_20170531_032.fits trim_20170531_094.fits trim_20170531_153.fits\r\n",
      "trim_20170531_033.fits trim_20170531_095.fits trim_20170531_154.fits\r\n",
      "trim_20170531_034.fits trim_20170531_096.fits trim_20170531_155.fits\r\n",
      "trim_20170531_035.fits trim_20170531_097.fits trim_20170531_156.fits\r\n",
      "trim_20170531_036.fits trim_20170531_098.fits trim_20170531_157.fits\r\n",
      "trim_20170531_037.fits trim_20170531_099.fits trim_20170531_158.fits\r\n",
      "trim_20170531_038.fits trim_20170531_100.fits trim_20170531_159.fits\r\n",
      "trim_20170531_039.fits trim_20170531_101.fits trim_20170531_160.fits\r\n",
      "trim_20170531_040.fits trim_20170531_102.fits trim_20170531_161.fits\r\n",
      "trim_20170531_041.fits trim_20170531_103.fits trim_20170531_162.fits\r\n",
      "trim_20170531_042.fits trim_20170531_104.fits trim_20170531_163.fits\r\n",
      "trim_20170531_046.fits trim_20170531_105.fits trim_20170531_164.fits\r\n",
      "trim_20170531_047.fits trim_20170531_106.fits trim_20170531_165.fits\r\n",
      "trim_20170531_048.fits trim_20170531_107.fits trim_20170531_166.fits\r\n",
      "trim_20170531_049.fits trim_20170531_108.fits trim_20170531_167.fits\r\n",
      "trim_20170531_050.fits trim_20170531_109.fits trim_20170531_168.fits\r\n",
      "trim_20170531_051.fits trim_20170531_110.fits trim_20170531_169.fits\r\n",
      "trim_20170531_052.fits trim_20170531_113.fits trim_20170531_170.fits\r\n",
      "trim_20170531_053.fits trim_20170531_114.fits trim_20170531_171.fits\r\n",
      "trim_20170531_054.fits trim_20170531_115.fits trim_20170531_172.fits\r\n",
      "trim_20170531_055.fits trim_20170531_116.fits trim_20170531_173.fits\r\n",
      "trim_20170531_056.fits trim_20170531_117.fits trim_20170531_174.fits\r\n",
      "trim_20170531_057.fits trim_20170531_118.fits trim_20170531_175.fits\r\n",
      "trim_20170531_058.fits trim_20170531_119.fits trim_20170531_176.fits\r\n",
      "trim_20170531_059.fits trim_20170531_120.fits trim_20170531_177.fits\r\n",
      "trim_20170531_060.fits trim_20170531_121.fits\r\n"
     ]
    }
   ],
   "source": [
    "!ls trim_images"
   ]
  },
  {
   "cell_type": "code",
   "execution_count": null,
   "metadata": {
    "collapsed": true,
    "deletable": true,
    "editable": true
   },
   "outputs": [],
   "source": []
  }
 ],
 "metadata": {
  "anaconda-cloud": {},
  "kernelspec": {
   "display_name": "Python [default]",
   "language": "python",
   "name": "python2"
  },
  "language_info": {
   "codemirror_mode": {
    "name": "ipython",
    "version": 2
   },
   "file_extension": ".py",
   "mimetype": "text/x-python",
   "name": "python",
   "nbconvert_exporter": "python",
   "pygments_lexer": "ipython2",
   "version": "2.7.12"
  },
  "toc": {
   "colors": {
    "hover_highlight": "#DAA520",
    "running_highlight": "#FF0000",
    "selected_highlight": "#FFD700"
   },
   "moveMenuLeft": true,
   "nav_menu": {
    "height": "153px",
    "width": "252px"
   },
   "navigate_menu": true,
   "number_sections": true,
   "sideBar": true,
   "threshold": 4,
   "toc_cell": false,
   "toc_section_display": "block",
   "toc_window_display": false,
   "widenNotebook": false
  }
 },
 "nbformat": 4,
 "nbformat_minor": 0
}
