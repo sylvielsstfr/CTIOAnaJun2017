{
 "cells": [
  {
   "cell_type": "code",
   "execution_count": 2,
   "metadata": {},
   "outputs": [
    {
     "data": {
      "application/javascript": [
       "var kernel = IPython.notebook.kernel;\n",
       "var thename = window.document.getElementById(\"notebook_name\").innerHTML;\n",
       "var command = \"theNotebook = \" + \"'\"+thename+\"'\";\n",
       "kernel.execute(command);"
      ],
      "text/plain": [
       "<IPython.core.display.Javascript object>"
      ]
     },
     "metadata": {},
     "output_type": "display_data"
    }
   ],
   "source": [
    "%%javascript\n",
    "var kernel = IPython.notebook.kernel;\n",
    "var thename = window.document.getElementById(\"notebook_name\").innerHTML;\n",
    "var command = \"theNotebook = \" + \"'\"+thename+\"'\";\n",
    "kernel.execute(command);"
   ]
  },
  {
   "cell_type": "code",
   "execution_count": 3,
   "metadata": {},
   "outputs": [
    {
     "name": "stdout",
     "output_type": "stream",
     "text": [
      "ViewImageInDS9\n",
      "ccdproc version 1.2.0\n",
      "bottleneck version 1.2.1\n",
      "/Users/dagoret/MacOSX/GitHub/LSST/CTIOAnaJun2017/CTIOAnaJun2017/ana_30may17/HD111980\n"
     ]
    }
   ],
   "source": [
    "%matplotlib inline\n",
    "%load_ext autoreload\n",
    "%autoreload 2\n",
    "\n",
    "print theNotebook\n",
    "from IPython.display import Image, display\n",
    "import sys\n",
    "sys.path.append(\"../../common_tools/\")\n",
    "from common_notebook import *\n",
    "\n",
    "init_notebook()"
   ]
  },
  {
   "cell_type": "code",
   "execution_count": 4,
   "metadata": {},
   "outputs": [
    {
     "name": "stdout",
     "output_type": "stream",
     "text": [
      "\n",
      "An instance of ds9 was found to be running before we could\n",
      "start the 'xpans' name server. You will need to perform a\n",
      "bit of manual intervention in order to connect this\n",
      "existing ds9 to Python.\n",
      "\n",
      "For ds9 version 5.7 and beyond, simply register the\n",
      "existing ds9 with the xpans name server by selecting the\n",
      "ds9 File->XPA->Connect menu option. Your ds9 will now be\n",
      "fully accessible to pyds9 (e.g., it appear in the list\n",
      "returned by the ds9_targets() routine).\n",
      "\n",
      "For ds9 versions prior to 5.7, you cannot (easily) register\n",
      "with xpans, but you can view ds9's File->XPA Information\n",
      "menu option and pass the value associated with XPA_METHOD\n",
      "directly to the Python DS9() constructor, e.g.:\n",
      "\n",
      "    d = DS9('a000101:12345')\n",
      "\n",
      "The good news is that new instances of ds9 will be\n",
      "registered with xpans, and will be known to ds9_targets()\n",
      "and the DS9() constructor.\n",
      "\n"
     ]
    }
   ],
   "source": [
    "\n",
    "import pyds9"
   ]
  },
  {
   "cell_type": "code",
   "execution_count": 5,
   "metadata": {
    "collapsed": true
   },
   "outputs": [],
   "source": [
    "# to enlarge the sizes\n",
    "params = {'legend.fontsize': 'x-large',\n",
    "          'figure.figsize': (10, 10),   #defines the default image size\n",
    "         'axes.labelsize': 'x-large',\n",
    "         'axes.titlesize':'x-large',\n",
    "         'xtick.labelsize':'x-large',\n",
    "         'ytick.labelsize':'x-large'}\n",
    "plt.rcParams.update(params)"
   ]
  },
  {
   "cell_type": "code",
   "execution_count": 6,
   "metadata": {
    "collapsed": true
   },
   "outputs": [],
   "source": [
    "inputdir=\"./rotated_fitsimages\"\n",
    "MIN_IMGNUMBER=58\n",
    "#MAX_IMGNUMBER=100\n",
    "MAX_IMGNUMBER=190\n",
    "date=\"20170530\"\n",
    "object_name='HD111980'\n",
    "tag = \"rotimg\"\n",
    "SelectTagRe='^%s_%s_([0-9]+).fits$' % (tag,date) # regular expression to select the file\n",
    "SearchTagRe='^%s_%s_[0-9]+.fits$' % (tag,date)\n",
    "NBIMGPERROW=2"
   ]
  },
  {
   "cell_type": "code",
   "execution_count": null,
   "metadata": {
    "collapsed": true
   },
   "outputs": [],
   "source": []
  },
  {
   "cell_type": "code",
   "execution_count": 7,
   "metadata": {},
   "outputs": [
    {
     "name": "stdout",
     "output_type": "stream",
     "text": [
      "Number of images: 133\n",
      "(400, 2048)\n"
     ]
    }
   ],
   "source": [
    "sorted_numbers,sorted_files = MakeFileList([inputdir],MIN_IMGNUMBER,MAX_IMGNUMBER,SelectTagRe,SearchTagRe) \n",
    "all_dates,all_airmass,all_images,all_titles,all_header,all_expo,all_filt,all_filt1,all_filt2=BuildImages(sorted_files,sorted_numbers,object_name)\n",
    "\n",
    "print 'Number of images:',len(all_images)\n",
    "print all_images[0].shape"
   ]
  },
  {
   "cell_type": "code",
   "execution_count": 8,
   "metadata": {},
   "outputs": [
    {
     "data": {
      "text/plain": [
       "array(['./rotated_fitsimages/rotimg_20170530_058.fits',\n",
       "       './rotated_fitsimages/rotimg_20170530_059.fits',\n",
       "       './rotated_fitsimages/rotimg_20170530_060.fits',\n",
       "       './rotated_fitsimages/rotimg_20170530_061.fits',\n",
       "       './rotated_fitsimages/rotimg_20170530_062.fits',\n",
       "       './rotated_fitsimages/rotimg_20170530_063.fits',\n",
       "       './rotated_fitsimages/rotimg_20170530_064.fits',\n",
       "       './rotated_fitsimages/rotimg_20170530_065.fits',\n",
       "       './rotated_fitsimages/rotimg_20170530_066.fits',\n",
       "       './rotated_fitsimages/rotimg_20170530_067.fits',\n",
       "       './rotated_fitsimages/rotimg_20170530_068.fits',\n",
       "       './rotated_fitsimages/rotimg_20170530_069.fits',\n",
       "       './rotated_fitsimages/rotimg_20170530_070.fits',\n",
       "       './rotated_fitsimages/rotimg_20170530_071.fits',\n",
       "       './rotated_fitsimages/rotimg_20170530_072.fits',\n",
       "       './rotated_fitsimages/rotimg_20170530_073.fits',\n",
       "       './rotated_fitsimages/rotimg_20170530_074.fits',\n",
       "       './rotated_fitsimages/rotimg_20170530_075.fits',\n",
       "       './rotated_fitsimages/rotimg_20170530_076.fits',\n",
       "       './rotated_fitsimages/rotimg_20170530_077.fits',\n",
       "       './rotated_fitsimages/rotimg_20170530_078.fits',\n",
       "       './rotated_fitsimages/rotimg_20170530_079.fits',\n",
       "       './rotated_fitsimages/rotimg_20170530_080.fits',\n",
       "       './rotated_fitsimages/rotimg_20170530_081.fits',\n",
       "       './rotated_fitsimages/rotimg_20170530_082.fits',\n",
       "       './rotated_fitsimages/rotimg_20170530_083.fits',\n",
       "       './rotated_fitsimages/rotimg_20170530_084.fits',\n",
       "       './rotated_fitsimages/rotimg_20170530_085.fits',\n",
       "       './rotated_fitsimages/rotimg_20170530_086.fits',\n",
       "       './rotated_fitsimages/rotimg_20170530_087.fits',\n",
       "       './rotated_fitsimages/rotimg_20170530_088.fits',\n",
       "       './rotated_fitsimages/rotimg_20170530_089.fits',\n",
       "       './rotated_fitsimages/rotimg_20170530_090.fits',\n",
       "       './rotated_fitsimages/rotimg_20170530_091.fits',\n",
       "       './rotated_fitsimages/rotimg_20170530_092.fits',\n",
       "       './rotated_fitsimages/rotimg_20170530_093.fits',\n",
       "       './rotated_fitsimages/rotimg_20170530_094.fits',\n",
       "       './rotated_fitsimages/rotimg_20170530_095.fits',\n",
       "       './rotated_fitsimages/rotimg_20170530_096.fits',\n",
       "       './rotated_fitsimages/rotimg_20170530_097.fits',\n",
       "       './rotated_fitsimages/rotimg_20170530_098.fits',\n",
       "       './rotated_fitsimages/rotimg_20170530_099.fits',\n",
       "       './rotated_fitsimages/rotimg_20170530_100.fits',\n",
       "       './rotated_fitsimages/rotimg_20170530_101.fits',\n",
       "       './rotated_fitsimages/rotimg_20170530_102.fits',\n",
       "       './rotated_fitsimages/rotimg_20170530_103.fits',\n",
       "       './rotated_fitsimages/rotimg_20170530_104.fits',\n",
       "       './rotated_fitsimages/rotimg_20170530_105.fits',\n",
       "       './rotated_fitsimages/rotimg_20170530_106.fits',\n",
       "       './rotated_fitsimages/rotimg_20170530_107.fits',\n",
       "       './rotated_fitsimages/rotimg_20170530_108.fits',\n",
       "       './rotated_fitsimages/rotimg_20170530_109.fits',\n",
       "       './rotated_fitsimages/rotimg_20170530_110.fits',\n",
       "       './rotated_fitsimages/rotimg_20170530_111.fits',\n",
       "       './rotated_fitsimages/rotimg_20170530_112.fits',\n",
       "       './rotated_fitsimages/rotimg_20170530_113.fits',\n",
       "       './rotated_fitsimages/rotimg_20170530_114.fits',\n",
       "       './rotated_fitsimages/rotimg_20170530_115.fits',\n",
       "       './rotated_fitsimages/rotimg_20170530_116.fits',\n",
       "       './rotated_fitsimages/rotimg_20170530_117.fits',\n",
       "       './rotated_fitsimages/rotimg_20170530_118.fits',\n",
       "       './rotated_fitsimages/rotimg_20170530_119.fits',\n",
       "       './rotated_fitsimages/rotimg_20170530_120.fits',\n",
       "       './rotated_fitsimages/rotimg_20170530_121.fits',\n",
       "       './rotated_fitsimages/rotimg_20170530_122.fits',\n",
       "       './rotated_fitsimages/rotimg_20170530_123.fits',\n",
       "       './rotated_fitsimages/rotimg_20170530_124.fits',\n",
       "       './rotated_fitsimages/rotimg_20170530_125.fits',\n",
       "       './rotated_fitsimages/rotimg_20170530_126.fits',\n",
       "       './rotated_fitsimages/rotimg_20170530_127.fits',\n",
       "       './rotated_fitsimages/rotimg_20170530_128.fits',\n",
       "       './rotated_fitsimages/rotimg_20170530_129.fits',\n",
       "       './rotated_fitsimages/rotimg_20170530_130.fits',\n",
       "       './rotated_fitsimages/rotimg_20170530_131.fits',\n",
       "       './rotated_fitsimages/rotimg_20170530_132.fits',\n",
       "       './rotated_fitsimages/rotimg_20170530_133.fits',\n",
       "       './rotated_fitsimages/rotimg_20170530_134.fits',\n",
       "       './rotated_fitsimages/rotimg_20170530_135.fits',\n",
       "       './rotated_fitsimages/rotimg_20170530_136.fits',\n",
       "       './rotated_fitsimages/rotimg_20170530_137.fits',\n",
       "       './rotated_fitsimages/rotimg_20170530_138.fits',\n",
       "       './rotated_fitsimages/rotimg_20170530_139.fits',\n",
       "       './rotated_fitsimages/rotimg_20170530_140.fits',\n",
       "       './rotated_fitsimages/rotimg_20170530_141.fits',\n",
       "       './rotated_fitsimages/rotimg_20170530_142.fits',\n",
       "       './rotated_fitsimages/rotimg_20170530_143.fits',\n",
       "       './rotated_fitsimages/rotimg_20170530_144.fits',\n",
       "       './rotated_fitsimages/rotimg_20170530_145.fits',\n",
       "       './rotated_fitsimages/rotimg_20170530_146.fits',\n",
       "       './rotated_fitsimages/rotimg_20170530_147.fits',\n",
       "       './rotated_fitsimages/rotimg_20170530_148.fits',\n",
       "       './rotated_fitsimages/rotimg_20170530_149.fits',\n",
       "       './rotated_fitsimages/rotimg_20170530_150.fits',\n",
       "       './rotated_fitsimages/rotimg_20170530_151.fits',\n",
       "       './rotated_fitsimages/rotimg_20170530_152.fits',\n",
       "       './rotated_fitsimages/rotimg_20170530_153.fits',\n",
       "       './rotated_fitsimages/rotimg_20170530_154.fits',\n",
       "       './rotated_fitsimages/rotimg_20170530_155.fits',\n",
       "       './rotated_fitsimages/rotimg_20170530_156.fits',\n",
       "       './rotated_fitsimages/rotimg_20170530_157.fits',\n",
       "       './rotated_fitsimages/rotimg_20170530_158.fits',\n",
       "       './rotated_fitsimages/rotimg_20170530_159.fits',\n",
       "       './rotated_fitsimages/rotimg_20170530_160.fits',\n",
       "       './rotated_fitsimages/rotimg_20170530_161.fits',\n",
       "       './rotated_fitsimages/rotimg_20170530_162.fits',\n",
       "       './rotated_fitsimages/rotimg_20170530_163.fits',\n",
       "       './rotated_fitsimages/rotimg_20170530_164.fits',\n",
       "       './rotated_fitsimages/rotimg_20170530_165.fits',\n",
       "       './rotated_fitsimages/rotimg_20170530_166.fits',\n",
       "       './rotated_fitsimages/rotimg_20170530_167.fits',\n",
       "       './rotated_fitsimages/rotimg_20170530_168.fits',\n",
       "       './rotated_fitsimages/rotimg_20170530_169.fits',\n",
       "       './rotated_fitsimages/rotimg_20170530_170.fits',\n",
       "       './rotated_fitsimages/rotimg_20170530_171.fits',\n",
       "       './rotated_fitsimages/rotimg_20170530_172.fits',\n",
       "       './rotated_fitsimages/rotimg_20170530_173.fits',\n",
       "       './rotated_fitsimages/rotimg_20170530_174.fits',\n",
       "       './rotated_fitsimages/rotimg_20170530_175.fits',\n",
       "       './rotated_fitsimages/rotimg_20170530_176.fits',\n",
       "       './rotated_fitsimages/rotimg_20170530_177.fits',\n",
       "       './rotated_fitsimages/rotimg_20170530_178.fits',\n",
       "       './rotated_fitsimages/rotimg_20170530_179.fits',\n",
       "       './rotated_fitsimages/rotimg_20170530_180.fits',\n",
       "       './rotated_fitsimages/rotimg_20170530_181.fits',\n",
       "       './rotated_fitsimages/rotimg_20170530_182.fits',\n",
       "       './rotated_fitsimages/rotimg_20170530_183.fits',\n",
       "       './rotated_fitsimages/rotimg_20170530_184.fits',\n",
       "       './rotated_fitsimages/rotimg_20170530_185.fits',\n",
       "       './rotated_fitsimages/rotimg_20170530_186.fits',\n",
       "       './rotated_fitsimages/rotimg_20170530_187.fits',\n",
       "       './rotated_fitsimages/rotimg_20170530_188.fits',\n",
       "       './rotated_fitsimages/rotimg_20170530_189.fits',\n",
       "       './rotated_fitsimages/rotimg_20170530_190.fits'], \n",
       "      dtype='|S45')"
      ]
     },
     "execution_count": 8,
     "metadata": {},
     "output_type": "execute_result"
    }
   ],
   "source": [
    "sorted_files"
   ]
  },
  {
   "cell_type": "code",
   "execution_count": 9,
   "metadata": {
    "collapsed": true
   },
   "outputs": [],
   "source": [
    "sel=0"
   ]
  },
  {
   "cell_type": "code",
   "execution_count": 10,
   "metadata": {
    "collapsed": true
   },
   "outputs": [],
   "source": [
    "fullfile=os.path.join(sorted_files[sel])"
   ]
  },
  {
   "cell_type": "code",
   "execution_count": 11,
   "metadata": {},
   "outputs": [
    {
     "name": "stdout",
     "output_type": "stream",
     "text": [
      "None\n"
     ]
    }
   ],
   "source": [
    "print(pyds9.ds9_targets())"
   ]
  },
  {
   "cell_type": "code",
   "execution_count": 12,
   "metadata": {},
   "outputs": [
    {
     "ename": "ValueError",
     "evalue": "no active ds9 running for target: ds9",
     "output_type": "error",
     "traceback": [
      "\u001b[0;31m---------------------------------------------------------------------------\u001b[0m",
      "\u001b[0;31mValueError\u001b[0m                                Traceback (most recent call last)",
      "\u001b[0;32m<ipython-input-12-343b4e65f8ef>\u001b[0m in \u001b[0;36m<module>\u001b[0;34m()\u001b[0m\n\u001b[0;32m----> 1\u001b[0;31m \u001b[0md\u001b[0m \u001b[0;34m=\u001b[0m \u001b[0mpyds9\u001b[0m\u001b[0;34m.\u001b[0m\u001b[0mDS9\u001b[0m\u001b[0;34m(\u001b[0m\u001b[0;34m)\u001b[0m\u001b[0;34m\u001b[0m\u001b[0m\n\u001b[0m",
      "\u001b[0;32m/Users/dagoret/anaconda/lib/python2.7/site-packages/pyds9/pyds9.pyc\u001b[0m in \u001b[0;36m__init__\u001b[0;34m(self, target, start, wait, verify)\u001b[0m\n\u001b[1;32m    449\u001b[0m         \u001b[0mtlist\u001b[0m \u001b[0;34m=\u001b[0m \u001b[0mbytes_to_string\u001b[0m\u001b[0;34m(\u001b[0m\u001b[0mtlist\u001b[0m\u001b[0;34m)\u001b[0m\u001b[0;34m\u001b[0m\u001b[0m\n\u001b[1;32m    450\u001b[0m         \u001b[0;32mif\u001b[0m \u001b[0;32mnot\u001b[0m \u001b[0mtlist\u001b[0m\u001b[0;34m:\u001b[0m\u001b[0;34m\u001b[0m\u001b[0m\n\u001b[0;32m--> 451\u001b[0;31m             \u001b[0;32mraise\u001b[0m \u001b[0mValueError\u001b[0m\u001b[0;34m(\u001b[0m\u001b[0;34m'no active ds9 running for target: %s'\u001b[0m \u001b[0;34m%\u001b[0m \u001b[0mtarget\u001b[0m\u001b[0;34m)\u001b[0m\u001b[0;34m\u001b[0m\u001b[0m\n\u001b[0m\u001b[1;32m    452\u001b[0m         \u001b[0;32melif\u001b[0m \u001b[0mlen\u001b[0m\u001b[0;34m(\u001b[0m\u001b[0mtlist\u001b[0m\u001b[0;34m)\u001b[0m \u001b[0;34m>\u001b[0m \u001b[0;36m1\u001b[0m\u001b[0;34m:\u001b[0m\u001b[0;34m\u001b[0m\u001b[0m\n\u001b[1;32m    453\u001b[0m             \u001b[0;32mif\u001b[0m \u001b[0;34m'XPA_METHOD'\u001b[0m \u001b[0;32min\u001b[0m \u001b[0mos\u001b[0m\u001b[0;34m.\u001b[0m\u001b[0menviron\u001b[0m\u001b[0;34m.\u001b[0m\u001b[0mkeys\u001b[0m\u001b[0;34m(\u001b[0m\u001b[0;34m)\u001b[0m\u001b[0;34m:\u001b[0m\u001b[0;34m\u001b[0m\u001b[0m\n",
      "\u001b[0;31mValueError\u001b[0m: no active ds9 running for target: ds9"
     ]
    }
   ],
   "source": [
    "d = pyds9.DS9()"
   ]
  },
  {
   "cell_type": "code",
   "execution_count": null,
   "metadata": {
    "collapsed": true
   },
   "outputs": [],
   "source": [
    "# define the zoom\n",
    "ds9command='zoom 1'\n",
    "d.set(ds9command)\n",
    "# set the scale\n",
    "ds9command='scale histequ zscale'\n",
    "d.set(ds9command)\n",
    "# set the color\n",
    "ds9command='cmap rainbow'\n",
    "d.set(ds9command)\n",
    "ds9command = 'file '+ fullfile\n",
    "d.set(ds9command)  # send the file to the open ds9 sessi"
   ]
  },
  {
   "cell_type": "code",
   "execution_count": null,
   "metadata": {
    "collapsed": true
   },
   "outputs": [],
   "source": []
  }
 ],
 "metadata": {
  "kernelspec": {
   "display_name": "Python 2",
   "language": "python",
   "name": "python2"
  },
  "language_info": {
   "codemirror_mode": {
    "name": "ipython",
    "version": 2
   },
   "file_extension": ".py",
   "mimetype": "text/x-python",
   "name": "python",
   "nbconvert_exporter": "python",
   "pygments_lexer": "ipython2",
   "version": "2.7.13"
  },
  "toc": {
   "nav_menu": {},
   "number_sections": true,
   "sideBar": true,
   "skip_h1_title": false,
   "toc_cell": false,
   "toc_position": {},
   "toc_section_display": "block",
   "toc_window_display": false
  }
 },
 "nbformat": 4,
 "nbformat_minor": 2
}
