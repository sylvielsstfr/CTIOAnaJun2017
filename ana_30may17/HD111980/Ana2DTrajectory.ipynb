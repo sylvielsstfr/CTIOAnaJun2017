{
 "cells": [
  {
   "cell_type": "markdown",
   "metadata": {},
   "source": [
    "# Trajectory of order 0 on CCD\n",
    "==================================================================================================\n",
    "\n",
    "- author : Sylvie\n",
    "- creation date   : November 5th th2017\n",
    "- update : November 6th 2017\n",
    "- Version : 1.0\n",
    "\n",
    "\n",
    "The goal of this notebook is to study show the order 0 moves over CCD plate. Pointing ins not perfect.\n",
    "\n"
   ]
  },
  {
   "cell_type": "markdown",
   "metadata": {},
   "source": [
    "#### problem because limitation in output of data\n",
    "\n",
    "- firt I tried to generate a config file for jupyter\n",
    "\n",
    "If you ran jupyter notebook --generate-config to create it, it should be in the correct place already. If not, try putting it at ~/.jupyter/jupyter_notebook_config.py\n",
    "\n",
    "- and I set : \n",
    "> c.NotebookApp.iopub_data_rate_limit = 1000000\n",
    "\n",
    "but it failed again so I launch jupyter as follow:\n",
    "\n",
    "> jupyter notebook --NotebookApp.iopub_data_rate_limit=10000000 Ana2DShapeSpectra.ipynb\n",
    "\n",
    "So it behaves better"
   ]
  },
  {
   "cell_type": "code",
   "execution_count": 1,
   "metadata": {},
   "outputs": [
    {
     "data": {
      "application/javascript": [
       "var kernel = IPython.notebook.kernel;\n",
       "var thename = window.document.getElementById(\"notebook_name\").innerHTML;\n",
       "var command = \"theNotebook = \" + \"'\"+thename+\"'\";\n",
       "kernel.execute(command);"
      ],
      "text/plain": [
       "<IPython.core.display.Javascript object>"
      ]
     },
     "metadata": {},
     "output_type": "display_data"
    }
   ],
   "source": [
    "%%javascript\n",
    "var kernel = IPython.notebook.kernel;\n",
    "var thename = window.document.getElementById(\"notebook_name\").innerHTML;\n",
    "var command = \"theNotebook = \" + \"'\"+thename+\"'\";\n",
    "kernel.execute(command);"
   ]
  },
  {
   "cell_type": "code",
   "execution_count": 2,
   "metadata": {},
   "outputs": [
    {
     "name": "stdout",
     "output_type": "stream",
     "text": [
      "Ana2DTrajectory\n",
      "ccdproc version 1.2.0\n",
      "bottleneck version 1.2.1\n",
      "/Users/dagoret/MacOSX/GitHub/LSST/CTIOAnaJun2017/CTIOAnaJun2017/ana_30may17/HD111980\n"
     ]
    }
   ],
   "source": [
    "%matplotlib inline\n",
    "%load_ext autoreload\n",
    "%autoreload 2\n",
    "\n",
    "print theNotebook\n",
    "from IPython.display import Image, display\n",
    "import sys\n",
    "sys.path.append(\"../../common_tools/\")\n",
    "from common_notebook import *\n",
    "\n",
    "init_notebook()"
   ]
  },
  {
   "cell_type": "code",
   "execution_count": 3,
   "metadata": {
    "collapsed": true
   },
   "outputs": [],
   "source": [
    "from astropy.modeling import models, fitting"
   ]
  },
  {
   "cell_type": "code",
   "execution_count": 4,
   "metadata": {
    "collapsed": true
   },
   "outputs": [],
   "source": [
    "import pandas as pd"
   ]
  },
  {
   "cell_type": "markdown",
   "metadata": {},
   "source": [
    "# Flags"
   ]
  },
  {
   "cell_type": "code",
   "execution_count": 5,
   "metadata": {
    "collapsed": true
   },
   "outputs": [],
   "source": [
    "ShowAllImageFlag=False\n",
    "ShowAllImageFirstOrderFlag=False\n",
    "ShowAllImageZeroOrderFlag=False"
   ]
  },
  {
   "cell_type": "markdown",
   "metadata": {},
   "source": [
    "# Input directory"
   ]
  },
  {
   "cell_type": "code",
   "execution_count": 6,
   "metadata": {
    "collapsed": true
   },
   "outputs": [],
   "source": [
    "#inputdir=\"../OverScanRemove/trim_images\"\n",
    "#inputdir=\"../../data/CTIODataJune2017_reducedRed/data_05jun17/\"\n",
    "inputdir=\"./rotated_fitsimages\"\n",
    "MIN_IMGNUMBER=58\n",
    "MAX_IMGNUMBER=190\n",
    "date=\"20170530\"\n",
    "object_name='HD111980'\n",
    "tag = \"rotimg\"\n",
    "SelectTagRe='^%s_%s_([0-9]+).fits$' % (tag,date) # regular expression to select the file\n",
    "SearchTagRe='^%s_%s_[0-9]+.fits$' % (tag,date)\n",
    "NBIMGPERROW=2"
   ]
  },
  {
   "cell_type": "markdown",
   "metadata": {},
   "source": [
    "# Output directory"
   ]
  },
  {
   "cell_type": "code",
   "execution_count": 7,
   "metadata": {
    "collapsed": true
   },
   "outputs": [],
   "source": [
    "dir_top_images=\"images_notebooks/\"+theNotebook ### Top directory to save images\n",
    "ensure_dir(dir_top_images) # create that directory\n",
    "\n",
    "#outputdir=\"./spectrum_fitsspec\"\n",
    "#ensure_dir(outputdir)"
   ]
  },
  {
   "cell_type": "markdown",
   "metadata": {},
   "source": [
    "# Open files\n",
    "==================================="
   ]
  },
  {
   "cell_type": "markdown",
   "metadata": {},
   "source": [
    "## order 0 position in original image"
   ]
  },
  {
   "cell_type": "code",
   "execution_count": 8,
   "metadata": {
    "collapsed": true
   },
   "outputs": [],
   "source": [
    "df=pd.read_csv('xy_pointing.csv')\n",
    "x_star=df[\"x_pointing\"]\n",
    "y_star=df[\"y_pointing\"]\n",
    "all_theta=df[\"theta\"]\n",
    "x_pointing=x_star\n",
    "y_pointing=y_star"
   ]
  },
  {
   "cell_type": "code",
   "execution_count": 9,
   "metadata": {
    "collapsed": true
   },
   "outputs": [],
   "source": [
    "order0_positions = np.array([x_pointing,y_pointing]).T"
   ]
  },
  {
   "cell_type": "code",
   "execution_count": 10,
   "metadata": {},
   "outputs": [
    {
     "data": {
      "text/html": [
       "<div>\n",
       "<style>\n",
       "    .dataframe thead tr:only-child th {\n",
       "        text-align: right;\n",
       "    }\n",
       "\n",
       "    .dataframe thead th {\n",
       "        text-align: left;\n",
       "    }\n",
       "\n",
       "    .dataframe tbody tr th {\n",
       "        vertical-align: top;\n",
       "    }\n",
       "</style>\n",
       "<table border=\"1\" class=\"dataframe\">\n",
       "  <thead>\n",
       "    <tr style=\"text-align: right;\">\n",
       "      <th></th>\n",
       "      <th>Unnamed: 0</th>\n",
       "      <th>theta</th>\n",
       "      <th>x_pointing</th>\n",
       "      <th>y_pointing</th>\n",
       "    </tr>\n",
       "  </thead>\n",
       "  <tbody>\n",
       "    <tr>\n",
       "      <th>0</th>\n",
       "      <td>0</td>\n",
       "      <td>-0.631328</td>\n",
       "      <td>1030.025465</td>\n",
       "      <td>1020.398734</td>\n",
       "    </tr>\n",
       "    <tr>\n",
       "      <th>1</th>\n",
       "      <td>1</td>\n",
       "      <td>-0.722093</td>\n",
       "      <td>778.059753</td>\n",
       "      <td>701.467092</td>\n",
       "    </tr>\n",
       "    <tr>\n",
       "      <th>2</th>\n",
       "      <td>2</td>\n",
       "      <td>-0.618445</td>\n",
       "      <td>780.418868</td>\n",
       "      <td>702.197768</td>\n",
       "    </tr>\n",
       "    <tr>\n",
       "      <th>3</th>\n",
       "      <td>3</td>\n",
       "      <td>-0.720939</td>\n",
       "      <td>780.180103</td>\n",
       "      <td>702.117571</td>\n",
       "    </tr>\n",
       "    <tr>\n",
       "      <th>4</th>\n",
       "      <td>4</td>\n",
       "      <td>-0.967047</td>\n",
       "      <td>780.161781</td>\n",
       "      <td>700.943758</td>\n",
       "    </tr>\n",
       "  </tbody>\n",
       "</table>\n",
       "</div>"
      ],
      "text/plain": [
       "   Unnamed: 0     theta   x_pointing   y_pointing\n",
       "0           0 -0.631328  1030.025465  1020.398734\n",
       "1           1 -0.722093   778.059753   701.467092\n",
       "2           2 -0.618445   780.418868   702.197768\n",
       "3           3 -0.720939   780.180103   702.117571\n",
       "4           4 -0.967047   780.161781   700.943758"
      ]
     },
     "execution_count": 10,
     "metadata": {},
     "output_type": "execute_result"
    }
   ],
   "source": [
    "df.head()"
   ]
  },
  {
   "cell_type": "markdown",
   "metadata": {},
   "source": [
    "## order 0 position in rotated and cut image"
   ]
  },
  {
   "cell_type": "code",
   "execution_count": 11,
   "metadata": {
    "collapsed": true
   },
   "outputs": [],
   "source": [
    "df2=pd.read_csv('x_y_guess2.csv')\n",
    "x_star2=df2[\"x_guess2\"]\n",
    "y_star2=df2[\"y_guess2\"]\n",
    "order0_positions2 = np.array([x_star2,y_star2]).T"
   ]
  },
  {
   "cell_type": "code",
   "execution_count": 12,
   "metadata": {},
   "outputs": [
    {
     "data": {
      "text/html": [
       "<div>\n",
       "<style>\n",
       "    .dataframe thead tr:only-child th {\n",
       "        text-align: right;\n",
       "    }\n",
       "\n",
       "    .dataframe thead th {\n",
       "        text-align: left;\n",
       "    }\n",
       "\n",
       "    .dataframe tbody tr th {\n",
       "        vertical-align: top;\n",
       "    }\n",
       "</style>\n",
       "<table border=\"1\" class=\"dataframe\">\n",
       "  <thead>\n",
       "    <tr style=\"text-align: right;\">\n",
       "      <th></th>\n",
       "      <th>Unnamed: 0</th>\n",
       "      <th>theta</th>\n",
       "      <th>x_guess2</th>\n",
       "      <th>y_guess2</th>\n",
       "    </tr>\n",
       "  </thead>\n",
       "  <tbody>\n",
       "    <tr>\n",
       "      <th>0</th>\n",
       "      <td>0</td>\n",
       "      <td>-0.631328</td>\n",
       "      <td>1032.012235</td>\n",
       "      <td>211.937155</td>\n",
       "    </tr>\n",
       "    <tr>\n",
       "      <th>1</th>\n",
       "      <td>1</td>\n",
       "      <td>-0.722093</td>\n",
       "      <td>780.573764</td>\n",
       "      <td>210.370987</td>\n",
       "    </tr>\n",
       "    <tr>\n",
       "      <th>2</th>\n",
       "      <td>2</td>\n",
       "      <td>-0.618445</td>\n",
       "      <td>782.435389</td>\n",
       "      <td>208.578639</td>\n",
       "    </tr>\n",
       "    <tr>\n",
       "      <th>3</th>\n",
       "      <td>3</td>\n",
       "      <td>-0.720939</td>\n",
       "      <td>782.705954</td>\n",
       "      <td>210.056269</td>\n",
       "    </tr>\n",
       "    <tr>\n",
       "      <th>4</th>\n",
       "      <td>4</td>\n",
       "      <td>-0.967047</td>\n",
       "      <td>783.183308</td>\n",
       "      <td>214.348749</td>\n",
       "    </tr>\n",
       "  </tbody>\n",
       "</table>\n",
       "</div>"
      ],
      "text/plain": [
       "   Unnamed: 0     theta     x_guess2    y_guess2\n",
       "0           0 -0.631328  1032.012235  211.937155\n",
       "1           1 -0.722093   780.573764  210.370987\n",
       "2           2 -0.618445   782.435389  208.578639\n",
       "3           3 -0.720939   782.705954  210.056269\n",
       "4           4 -0.967047   783.183308  214.348749"
      ]
     },
     "execution_count": 12,
     "metadata": {},
     "output_type": "execute_result"
    }
   ],
   "source": [
    "df2.head()"
   ]
  },
  {
   "cell_type": "markdown",
   "metadata": {},
   "source": [
    "## Input image files\n",
    "\n",
    "- rotated and cut images"
   ]
  },
  {
   "cell_type": "code",
   "execution_count": 13,
   "metadata": {},
   "outputs": [
    {
     "name": "stdout",
     "output_type": "stream",
     "text": [
      "Number of images: 133\n",
      "(400, 2048)\n"
     ]
    }
   ],
   "source": [
    "sorted_numbers,sorted_files = MakeFileList([inputdir],MIN_IMGNUMBER,MAX_IMGNUMBER,SelectTagRe,SearchTagRe) \n",
    "all_dates,all_airmass,all_images,all_titles,all_header,all_expo,all_filt,all_filt1,all_filt2=BuildImages(sorted_files,sorted_numbers,object_name)\n",
    "\n",
    "print 'Number of images:',len(all_images)\n",
    "print all_images[0].shape"
   ]
  },
  {
   "cell_type": "code",
   "execution_count": 14,
   "metadata": {},
   "outputs": [
    {
     "name": "stdout",
     "output_type": "stream",
     "text": [
      "['dia Thor300', 'dia Thor300', 'dia Ron400', 'dia Thor300', 'dia HoloPhP', 'dia HoloPhAg', 'dia HoloAmAg', 'dia Ron400', 'dia Thor300', 'dia HoloPhP', 'dia HoloPhAg', 'dia HoloAmAg', 'dia Ron400', 'dia Thor300', 'dia HoloPhP', 'dia HoloPhAg', 'dia HoloAmAg', 'dia Ron400', 'dia Thor300', 'dia HoloPhP', 'dia HoloPhAg', 'dia HoloAmAg', 'dia Ron400', 'dia Thor300', 'dia HoloPhP', 'dia HoloPhAg', 'dia HoloAmAg', 'dia Ron400', 'dia Thor300', 'dia HoloPhP', 'dia HoloPhAg', 'dia HoloAmAg', 'dia Ron400', 'dia Thor300', 'dia HoloPhP', 'dia HoloPhAg', 'dia HoloAmAg', 'dia Ron400', 'dia Thor300', 'dia HoloPhP', 'dia HoloPhAg', 'dia HoloAmAg', 'dia Ron400', 'dia Thor300', 'dia HoloPhP', 'dia HoloPhAg', 'dia HoloAmAg', 'dia Ron400', 'dia Thor300', 'dia HoloPhP', 'dia HoloPhAg', 'dia HoloAmAg', 'dia Ron400', 'dia Thor300', 'dia HoloPhP', 'dia HoloPhAg', 'dia HoloAmAg', 'dia Ron400', 'dia Thor300', 'dia HoloPhP', 'dia HoloPhAg', 'dia HoloAmAg', 'dia Ron400', 'dia Thor300', 'dia HoloPhP', 'dia HoloPhAg', 'dia HoloAmAg', 'dia Ron400', 'dia Thor300', 'dia HoloPhP', 'dia HoloPhAg', 'dia HoloAmAg', 'dia Ron400', 'dia Thor300', 'dia HoloPhP', 'dia HoloPhAg', 'dia HoloAmAg', 'dia Ron400', 'dia Thor300', 'dia HoloPhP', 'dia HoloPhAg', 'dia HoloAmAg', 'dia Ron400', 'dia Thor300', 'dia HoloPhP', 'dia HoloPhAg', 'dia HoloAmAg', 'dia Ron400', 'dia Thor300', 'dia HoloPhP', 'dia HoloPhAg', 'dia HoloAmAg', 'dia Ron400', 'dia Thor300', 'dia HoloPhP', 'dia HoloPhAg', 'dia HoloAmAg', 'dia Ron400', 'dia Thor300', 'dia HoloPhP', 'dia HoloPhAg', 'dia HoloAmAg', 'dia Ron400', 'dia Thor300', 'dia HoloPhP', 'dia HoloPhAg', 'dia HoloAmAg', 'dia Ron400', 'dia Thor300', 'dia HoloPhP', 'dia HoloPhAg', 'dia HoloAmAg', 'dia Ron400', 'dia Thor300', 'dia HoloPhP', 'dia HoloPhAg', 'dia HoloAmAg', 'dia Ron400', 'dia Thor300', 'dia HoloPhP', 'dia HoloPhAg', 'dia HoloAmAg', 'dia Ron400', 'dia Thor300', 'dia HoloPhP', 'dia HoloPhAg', 'dia HoloAmAg', 'dia Ron400', 'dia Thor300', 'dia HoloPhP', 'dia HoloPhAg', 'dia HoloAmAg', 'dia Ron400']\n"
     ]
    }
   ],
   "source": [
    "print all_filt"
   ]
  },
  {
   "cell_type": "markdown",
   "metadata": {},
   "source": [
    "## Show filters and dispersers"
   ]
  },
  {
   "cell_type": "code",
   "execution_count": 15,
   "metadata": {},
   "outputs": [
    {
     "data": {
      "text/plain": [
       "['dia Ron400',\n",
       " 'dia Thor300',\n",
       " 'dia HoloPhP',\n",
       " 'dia HoloPhAg',\n",
       " 'dia HoloAmAg',\n",
       " 'dia Ron200',\n",
       " 'Unknown']"
      ]
     },
     "execution_count": 15,
     "metadata": {},
     "output_type": "execute_result"
    }
   ],
   "source": [
    "Filt_names"
   ]
  },
  {
   "cell_type": "code",
   "execution_count": 16,
   "metadata": {
    "collapsed": true
   },
   "outputs": [],
   "source": [
    "filt0_idx,filt1_idx,filt2_idx,filt3_idx,filt4_idx,filt5_idx,filt6_idx=get_filt_idx(all_filt)"
   ]
  },
  {
   "cell_type": "code",
   "execution_count": 17,
   "metadata": {},
   "outputs": [
    {
     "name": "stdout",
     "output_type": "stream",
     "text": [
      "dia Ron400  \t : filt0_idx ::  [  2   7  12  17  22  27  32  37  42  47  52  57  62  67  72  77  82  87\n",
      "  92  97 102 107 112 117 122 127 132]\n",
      "dia Thor300  \t : filt1_idx ::  [  0   1   3   8  13  18  23  28  33  38  43  48  53  58  63  68  73  78\n",
      "  83  88  93  98 103 108 113 118 123 128]\n",
      "dia HoloPhP  \t : filt2_idx ::  [  4   9  14  19  24  29  34  39  44  49  54  59  64  69  74  79  84  89\n",
      "  94  99 104 109 114 119 124 129]\n",
      "dia HoloPhAg  \t : filt3_idx ::  [  5  10  15  20  25  30  35  40  45  50  55  60  65  70  75  80  85  90\n",
      "  95 100 105 110 115 120 125 130]\n",
      "dia HoloAmAg  \t : filt4_idx ::  [  6  11  16  21  26  31  36  41  46  51  56  61  66  71  76  81  86  91\n",
      "  96 101 106 111 116 121 126 131]\n",
      "dia Ron200  \t : filt5_idx ::  []\n",
      "Unknown  \t : filt6_idx ::  []\n"
     ]
    }
   ],
   "source": [
    "print  Filt_names[0],' \\t : filt0_idx :: ',filt0_idx\n",
    "print  Filt_names[1],' \\t : filt1_idx :: ',filt1_idx\n",
    "print  Filt_names[2],' \\t : filt2_idx :: ',filt2_idx\n",
    "print  Filt_names[3],' \\t : filt3_idx :: ',filt3_idx\n",
    "print  Filt_names[4],' \\t : filt4_idx :: ',filt4_idx\n",
    "print  Filt_names[5],' \\t : filt5_idx :: ',filt5_idx\n",
    "print  Filt_names[6],' \\t : filt6_idx :: ',filt6_idx"
   ]
  },
  {
   "cell_type": "code",
   "execution_count": 18,
   "metadata": {},
   "outputs": [
    {
     "name": "stdout",
     "output_type": "stream",
     "text": [
      "dia Ron400 [  2   7  12  17  22  27  32  37  42  47  52  57  62  67  72  77  82  87\n",
      "  92  97 102 107 112 117 122 127 132]\n",
      "dia Thor300 [  0   1   3   8  13  18  23  28  33  38  43  48  53  58  63  68  73  78\n",
      "  83  88  93  98 103 108 113 118 123 128]\n",
      "dia HoloPhP [  4   9  14  19  24  29  34  39  44  49  54  59  64  69  74  79  84  89\n",
      "  94  99 104 109 114 119 124 129]\n",
      "dia HoloPhAg [  5  10  15  20  25  30  35  40  45  50  55  60  65  70  75  80  85  90\n",
      "  95 100 105 110 115 120 125 130]\n",
      "dia HoloAmAg [  6  11  16  21  26  31  36  41  46  51  56  61  66  71  76  81  86  91\n",
      "  96 101 106 111 116 121 126 131]\n",
      "dia Ron200 []\n",
      "Unknown []\n"
     ]
    }
   ],
   "source": [
    "print Filt_names[0],filt0_idx\n",
    "print Filt_names[1],filt1_idx\n",
    "print Filt_names[2],filt2_idx\n",
    "print Filt_names[3],filt3_idx\n",
    "print Filt_names[4],filt4_idx\n",
    "print Filt_names[5],filt5_idx\n",
    "print Filt_names[6],filt6_idx"
   ]
  },
  {
   "cell_type": "code",
   "execution_count": 34,
   "metadata": {},
   "outputs": [
    {
     "data": {
      "text/plain": [
       "<matplotlib.text.Text at 0x14c4ae690>"
      ]
     },
     "execution_count": 34,
     "metadata": {},
     "output_type": "execute_result"
    },
    {
     "data": {
      "image/png": "[encoded data removed]",
      "text/plain": [
       "<matplotlib.figure.Figure at 0x14e8e71d0>"
      ]
     },
     "metadata": {},
     "output_type": "display_data"
    }
   ],
   "source": [
    "plt.figure(figsize=(8,8))\n",
    "plt.plot(x_star,y_star,'o')\n",
    "plt.xlim(700.,800.)\n",
    "plt.ylim(650.,750.)\n",
    "plt.xlabel('pixel column')\n",
    "plt.ylabel('pixel row')\n",
    "plt.grid(True)\n",
    "plt.title(\"Position of order 0 on CCD\")"
   ]
  },
  {
   "cell_type": "code",
   "execution_count": 36,
   "metadata": {},
   "outputs": [
    {
     "data": {
      "text/plain": [
       "<matplotlib.text.Text at 0x14edf3e10>"
      ]
     },
     "execution_count": 36,
     "metadata": {},
     "output_type": "execute_result"
    },
    {
     "data": {
      "image/png": "[encoded data removed]",
      "text/plain": [
       "<matplotlib.figure.Figure at 0x14db2d490>"
      ]
     },
     "metadata": {},
     "output_type": "display_data"
    }
   ],
   "source": [
    "plt.figure(figsize=(8,6))\n",
    "plt.plot(x_star,'o')\n",
    "plt.ylim(700.,800.)\n",
    "plt.ylabel('pixel column')\n",
    "plt.xlabel('event number')\n",
    "plt.grid(True)\n",
    "plt.title(\"pixel column of order 0 on CCD\")"
   ]
  },
  {
   "cell_type": "code",
   "execution_count": 37,
   "metadata": {},
   "outputs": [
    {
     "data": {
      "image/png": "[encoded data removed]",
      "text/plain": [
       "<matplotlib.figure.Figure at 0x14ef3b5d0>"
      ]
     },
     "metadata": {},
     "output_type": "display_data"
    }
   ],
   "source": [
    "plt.figure(figsize=(8,8))\n",
    "plt.plot(x_star[filt0_idx],y_star[filt0_idx],'o',label=Filt_names[0])\n",
    "plt.plot(x_star[filt1_idx],y_star[filt1_idx],'o',label=Filt_names[1])\n",
    "plt.plot(x_star[filt2_idx],y_star[filt2_idx],'o',label=Filt_names[2])\n",
    "plt.plot(x_star[filt3_idx],y_star[filt3_idx],'o',label=Filt_names[3])\n",
    "plt.plot(x_star[filt4_idx],y_star[filt4_idx],'o',label=Filt_names[4])\n",
    "plt.xlim(700.,800.)\n",
    "plt.ylim(650.,750.)\n",
    "plt.xlabel('pixel column')\n",
    "plt.ylabel('pixel row')\n",
    "plt.grid(True)\n",
    "plt.legend()\n",
    "plt.title(\"Position of order 0 on CCD\")\n",
    "filename=os.path.join(dir_top_images,'trajectory.pdf')\n",
    "plt.savefig(filename)"
   ]
  },
  {
   "cell_type": "code",
   "execution_count": null,
   "metadata": {
    "collapsed": true
   },
   "outputs": [],
   "source": []
  },
  {
   "cell_type": "markdown",
   "metadata": {},
   "source": [
    "# Example of colorbar"
   ]
  },
  {
   "cell_type": "code",
   "execution_count": 19,
   "metadata": {},
   "outputs": [
    {
     "data": {
      "image/png": "[encoded data removed]",
      "text/plain": [
       "<matplotlib.figure.Figure at 0x14af5cd90>"
      ]
     },
     "metadata": {},
     "output_type": "display_data"
    }
   ],
   "source": [
    "fig, axes = plt.subplots(nrows=2, ncols=2)\n",
    "for ax in axes.flat:\n",
    "    im = ax.imshow(np.random.random((10,10)), vmin=0, vmax=1)\n",
    "\n",
    "fig.subplots_adjust(right=0.9)\n",
    "cbar_ax = fig.add_axes([0.95, 0.05, 0.01, 0.9])\n",
    "fig.colorbar(im, cax=cbar_ax)\n",
    "\n",
    "plt.show()"
   ]
  },
  {
   "cell_type": "code",
   "execution_count": null,
   "metadata": {
    "collapsed": true
   },
   "outputs": [],
   "source": []
  }
 ],
 "metadata": {
  "kernelspec": {
   "display_name": "Python 2",
   "language": "python",
   "name": "python2"
  },
  "language_info": {
   "codemirror_mode": {
    "name": "ipython",
    "version": 2
   },
   "file_extension": ".py",
   "mimetype": "text/x-python",
   "name": "python",
   "nbconvert_exporter": "python",
   "pygments_lexer": "ipython2",
   "version": "2.7.13"
  },
  "toc": {
   "nav_menu": {},
   "number_sections": true,
   "sideBar": true,
   "skip_h1_title": false,
   "toc_cell": false,
   "toc_position": {
    "height": "650px",
    "left": "0px",
    "right": "1253px",
    "top": "106px",
    "width": "26px"
   },
   "toc_section_display": "block",
   "toc_window_display": false
  }
 },
 "nbformat": 4,
 "nbformat_minor": 2
}
