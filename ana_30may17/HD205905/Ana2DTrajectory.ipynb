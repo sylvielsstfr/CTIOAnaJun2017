{
 "cells": [
  {
   "cell_type": "markdown",
   "metadata": {},
   "source": [
    "# Trajectory of order 0 on CCD\n",
    "==================================================================================================\n",
    "\n",
    "- author : Sylvie\n",
    "- creation date   : November 5th th2017\n",
    "- update : November 6th 2017\n",
    "- Version : 1.0\n",
    "\n",
    "\n",
    "The goal of this notebook is to study show the order 0 moves over CCD plate. Pointing ins not perfect.\n",
    "\n"
   ]
  },
  {
   "cell_type": "markdown",
   "metadata": {},
   "source": [
    "#### problem because limitation in output of data\n",
    "\n",
    "- firt I tried to generate a config file for jupyter\n",
    "\n",
    "If you ran jupyter notebook --generate-config to create it, it should be in the correct place already. If not, try putting it at ~/.jupyter/jupyter_notebook_config.py\n",
    "\n",
    "- and I set : \n",
    "> c.NotebookApp.iopub_data_rate_limit = 1000000\n",
    "\n",
    "but it failed again so I launch jupyter as follow:\n",
    "\n",
    "> jupyter notebook --NotebookApp.iopub_data_rate_limit=10000000 Ana2DShapeSpectra.ipynb\n",
    "\n",
    "So it behaves better"
   ]
  },
  {
   "cell_type": "code",
   "execution_count": 2,
   "metadata": {},
   "outputs": [
    {
     "data": {
      "application/javascript": [
       "var kernel = IPython.notebook.kernel;\n",
       "var thename = window.document.getElementById(\"notebook_name\").innerHTML;\n",
       "var command = \"theNotebook = \" + \"'\"+thename+\"'\";\n",
       "kernel.execute(command);"
      ],
      "text/plain": [
       "<IPython.core.display.Javascript object>"
      ]
     },
     "metadata": {},
     "output_type": "display_data"
    }
   ],
   "source": [
    "%%javascript\n",
    "var kernel = IPython.notebook.kernel;\n",
    "var thename = window.document.getElementById(\"notebook_name\").innerHTML;\n",
    "var command = \"theNotebook = \" + \"'\"+thename+\"'\";\n",
    "kernel.execute(command);"
   ]
  },
  {
   "cell_type": "code",
   "execution_count": 3,
   "metadata": {},
   "outputs": [
    {
     "name": "stdout",
     "output_type": "stream",
     "text": [
      "Ana2DTrajectory\n",
      "ccdproc version 1.2.0\n",
      "bottleneck version 1.2.1\n",
      "/Users/dagoret/MacOSX/GitHub/LSST/CTIOAnaJun2017/CTIOAnaJun2017/ana_30may17/HD205905\n"
     ]
    }
   ],
   "source": [
    "%matplotlib inline\n",
    "%load_ext autoreload\n",
    "%autoreload 2\n",
    "\n",
    "print theNotebook\n",
    "from IPython.display import Image, display\n",
    "import sys\n",
    "sys.path.append(\"../../common_tools/\")\n",
    "from common_notebook import *\n",
    "\n",
    "init_notebook()"
   ]
  },
  {
   "cell_type": "code",
   "execution_count": 4,
   "metadata": {
    "collapsed": true
   },
   "outputs": [],
   "source": [
    "from astropy.modeling import models, fitting"
   ]
  },
  {
   "cell_type": "code",
   "execution_count": 5,
   "metadata": {
    "collapsed": true
   },
   "outputs": [],
   "source": [
    "import pandas as pd"
   ]
  },
  {
   "cell_type": "markdown",
   "metadata": {},
   "source": [
    "# Flags"
   ]
  },
  {
   "cell_type": "code",
   "execution_count": 6,
   "metadata": {
    "collapsed": true
   },
   "outputs": [],
   "source": [
    "ShowAllImageFlag=False\n",
    "ShowAllImageFirstOrderFlag=False\n",
    "ShowAllImageZeroOrderFlag=False"
   ]
  },
  {
   "cell_type": "markdown",
   "metadata": {},
   "source": [
    "# Input directory"
   ]
  },
  {
   "cell_type": "code",
   "execution_count": 7,
   "metadata": {
    "collapsed": true
   },
   "outputs": [],
   "source": [
    "#inputdir=\"../OverScanRemove/trim_images\"\n",
    "#inputdir=\"../../data/CTIODataJune2017_reducedRed/data_05jun17/\"\n",
    "inputdir=\"./rotated_fitsimages\"\n",
    "MIN_IMGNUMBER=208\n",
    "MAX_IMGNUMBER=284\n",
    "date=\"20170530\"\n",
    "object_name='HD205905'\n",
    "tag = \"rotimg\"\n",
    "SelectTagRe='^%s_%s_([0-9]+).fits$' % (tag,date) # regular expression to select the file\n",
    "SearchTagRe='^%s_%s_[0-9]+.fits$' % (tag,date)\n",
    "NBIMGPERROW=2"
   ]
  },
  {
   "cell_type": "markdown",
   "metadata": {},
   "source": [
    "# Output directory"
   ]
  },
  {
   "cell_type": "code",
   "execution_count": 8,
   "metadata": {
    "collapsed": true
   },
   "outputs": [],
   "source": [
    "dir_top_images=\"images_notebooks/\"+theNotebook ### Top directory to save images\n",
    "ensure_dir(dir_top_images) # create that directory\n",
    "\n",
    "#outputdir=\"./spectrum_fitsspec\"\n",
    "#ensure_dir(outputdir)"
   ]
  },
  {
   "cell_type": "markdown",
   "metadata": {},
   "source": [
    "# Open files\n",
    "==================================="
   ]
  },
  {
   "cell_type": "markdown",
   "metadata": {},
   "source": [
    "## order 0 position in original image"
   ]
  },
  {
   "cell_type": "code",
   "execution_count": 9,
   "metadata": {
    "collapsed": true
   },
   "outputs": [],
   "source": [
    "df=pd.read_csv('xy_pointing.csv')\n",
    "x_star=df[\"x_pointing\"]\n",
    "y_star=df[\"y_pointing\"]\n",
    "all_theta=df[\"theta\"]\n",
    "x_pointing=x_star\n",
    "y_pointing=y_star"
   ]
  },
  {
   "cell_type": "code",
   "execution_count": 10,
   "metadata": {
    "collapsed": true
   },
   "outputs": [],
   "source": [
    "order0_positions = np.array([x_pointing,y_pointing]).T"
   ]
  },
  {
   "cell_type": "code",
   "execution_count": 11,
   "metadata": {},
   "outputs": [
    {
     "data": {
      "text/html": [
       "<div>\n",
       "<style>\n",
       "    .dataframe thead tr:only-child th {\n",
       "        text-align: right;\n",
       "    }\n",
       "\n",
       "    .dataframe thead th {\n",
       "        text-align: left;\n",
       "    }\n",
       "\n",
       "    .dataframe tbody tr th {\n",
       "        vertical-align: top;\n",
       "    }\n",
       "</style>\n",
       "<table border=\"1\" class=\"dataframe\">\n",
       "  <thead>\n",
       "    <tr style=\"text-align: right;\">\n",
       "      <th></th>\n",
       "      <th>Unnamed: 0</th>\n",
       "      <th>theta</th>\n",
       "      <th>x_pointing</th>\n",
       "      <th>y_pointing</th>\n",
       "    </tr>\n",
       "  </thead>\n",
       "  <tbody>\n",
       "    <tr>\n",
       "      <th>0</th>\n",
       "      <td>0</td>\n",
       "      <td>-0.687854</td>\n",
       "      <td>777.817052</td>\n",
       "      <td>697.213424</td>\n",
       "    </tr>\n",
       "    <tr>\n",
       "      <th>1</th>\n",
       "      <td>1</td>\n",
       "      <td>-0.698755</td>\n",
       "      <td>778.828008</td>\n",
       "      <td>699.389248</td>\n",
       "    </tr>\n",
       "    <tr>\n",
       "      <th>2</th>\n",
       "      <td>2</td>\n",
       "      <td>-0.967711</td>\n",
       "      <td>778.262882</td>\n",
       "      <td>698.021874</td>\n",
       "    </tr>\n",
       "    <tr>\n",
       "      <th>3</th>\n",
       "      <td>3</td>\n",
       "      <td>-1.901504</td>\n",
       "      <td>779.395173</td>\n",
       "      <td>697.163867</td>\n",
       "    </tr>\n",
       "    <tr>\n",
       "      <th>4</th>\n",
       "      <td>4</td>\n",
       "      <td>-1.508646</td>\n",
       "      <td>778.822621</td>\n",
       "      <td>697.404092</td>\n",
       "    </tr>\n",
       "  </tbody>\n",
       "</table>\n",
       "</div>"
      ],
      "text/plain": [
       "   Unnamed: 0     theta  x_pointing  y_pointing\n",
       "0           0 -0.687854  777.817052  697.213424\n",
       "1           1 -0.698755  778.828008  699.389248\n",
       "2           2 -0.967711  778.262882  698.021874\n",
       "3           3 -1.901504  779.395173  697.163867\n",
       "4           4 -1.508646  778.822621  697.404092"
      ]
     },
     "execution_count": 11,
     "metadata": {},
     "output_type": "execute_result"
    }
   ],
   "source": [
    "df.head()"
   ]
  },
  {
   "cell_type": "markdown",
   "metadata": {},
   "source": [
    "## order 0 position in rotated and cut image"
   ]
  },
  {
   "cell_type": "code",
   "execution_count": 12,
   "metadata": {
    "collapsed": true
   },
   "outputs": [],
   "source": [
    "df2=pd.read_csv('x_y_guess2.csv')\n",
    "x_star2=df2[\"x_guess2\"]\n",
    "y_star2=df2[\"y_guess2\"]\n",
    "order0_positions2 = np.array([x_star2,y_star2]).T"
   ]
  },
  {
   "cell_type": "code",
   "execution_count": 13,
   "metadata": {},
   "outputs": [
    {
     "data": {
      "text/html": [
       "<div>\n",
       "<style>\n",
       "    .dataframe thead tr:only-child th {\n",
       "        text-align: right;\n",
       "    }\n",
       "\n",
       "    .dataframe thead th {\n",
       "        text-align: left;\n",
       "    }\n",
       "\n",
       "    .dataframe tbody tr th {\n",
       "        vertical-align: top;\n",
       "    }\n",
       "</style>\n",
       "<table border=\"1\" class=\"dataframe\">\n",
       "  <thead>\n",
       "    <tr style=\"text-align: right;\">\n",
       "      <th></th>\n",
       "      <th>Unnamed: 0</th>\n",
       "      <th>theta</th>\n",
       "      <th>x_guess2</th>\n",
       "      <th>y_guess2</th>\n",
       "    </tr>\n",
       "  </thead>\n",
       "  <tbody>\n",
       "    <tr>\n",
       "      <th>0</th>\n",
       "      <td>0</td>\n",
       "      <td>-0.687854</td>\n",
       "      <td>780.343885</td>\n",
       "      <td>209.762862</td>\n",
       "    </tr>\n",
       "    <tr>\n",
       "      <th>1</th>\n",
       "      <td>1</td>\n",
       "      <td>-0.698755</td>\n",
       "      <td>781.389391</td>\n",
       "      <td>209.911508</td>\n",
       "    </tr>\n",
       "    <tr>\n",
       "      <th>2</th>\n",
       "      <td>2</td>\n",
       "      <td>-0.967711</td>\n",
       "      <td>781.320275</td>\n",
       "      <td>213.275796</td>\n",
       "    </tr>\n",
       "    <tr>\n",
       "      <th>3</th>\n",
       "      <td>3</td>\n",
       "      <td>-1.901504</td>\n",
       "      <td>785.571728</td>\n",
       "      <td>226.037917</td>\n",
       "    </tr>\n",
       "    <tr>\n",
       "      <th>4</th>\n",
       "      <td>4</td>\n",
       "      <td>-1.508646</td>\n",
       "      <td>783.974976</td>\n",
       "      <td>220.969146</td>\n",
       "    </tr>\n",
       "  </tbody>\n",
       "</table>\n",
       "</div>"
      ],
      "text/plain": [
       "   Unnamed: 0     theta    x_guess2    y_guess2\n",
       "0           0 -0.687854  780.343885  209.762862\n",
       "1           1 -0.698755  781.389391  209.911508\n",
       "2           2 -0.967711  781.320275  213.275796\n",
       "3           3 -1.901504  785.571728  226.037917\n",
       "4           4 -1.508646  783.974976  220.969146"
      ]
     },
     "execution_count": 13,
     "metadata": {},
     "output_type": "execute_result"
    }
   ],
   "source": [
    "df2.head()"
   ]
  },
  {
   "cell_type": "markdown",
   "metadata": {},
   "source": [
    "## Input image files\n",
    "\n",
    "- rotated and cut images"
   ]
  },
  {
   "cell_type": "code",
   "execution_count": 14,
   "metadata": {},
   "outputs": [
    {
     "name": "stdout",
     "output_type": "stream",
     "text": [
      "Number of images: 75\n",
      "(400, 2048)\n"
     ]
    }
   ],
   "source": [
    "sorted_numbers,sorted_files = MakeFileList([inputdir],MIN_IMGNUMBER,MAX_IMGNUMBER,SelectTagRe,SearchTagRe) \n",
    "all_dates,all_airmass,all_images,all_titles,all_header,all_expo,all_filt,all_filt1,all_filt2=BuildImages(sorted_files,sorted_numbers,object_name)\n",
    "\n",
    "print 'Number of images:',len(all_images)\n",
    "print all_images[0].shape"
   ]
  },
  {
   "cell_type": "code",
   "execution_count": 15,
   "metadata": {},
   "outputs": [
    {
     "name": "stdout",
     "output_type": "stream",
     "text": [
      "['dia Ron400', 'dia Thor300', 'dia HoloPhP', 'dia HoloPhAg', 'dia HoloAmAg', 'dia Ron400', 'dia Thor300', 'dia HoloPhP', 'dia HoloPhAg', 'dia HoloAmAg', 'dia Ron400', 'dia Thor300', 'dia HoloPhP', 'dia HoloPhAg', 'dia HoloAmAg', 'dia Ron400', 'dia Thor300', 'dia HoloPhP', 'dia HoloPhAg', 'dia HoloAmAg', 'dia Ron400', 'dia Thor300', 'dia HoloPhP', 'dia HoloPhAg', 'dia HoloAmAg', 'dia Ron400', 'dia Thor300', 'dia HoloPhP', 'dia HoloPhAg', 'dia HoloAmAg', 'dia Ron400', 'dia Thor300', 'dia HoloPhP', 'dia HoloPhAg', 'dia HoloAmAg', 'dia Ron400', 'dia Thor300', 'dia HoloPhP', 'dia HoloPhAg', 'dia HoloAmAg', 'dia Ron400', 'dia Thor300', 'dia HoloPhP', 'dia HoloPhAg', 'dia HoloAmAg', 'dia Ron400', 'dia Thor300', 'dia HoloPhP', 'dia HoloPhAg', 'dia HoloAmAg', 'dia Ron400', 'dia Thor300', 'dia HoloPhP', 'dia HoloPhAg', 'dia HoloAmAg', 'dia Ron400', 'dia Thor300', 'dia HoloPhP', 'dia HoloPhAg', 'dia HoloAmAg', 'dia Ron400', 'dia Thor300', 'dia HoloPhP', 'dia HoloPhAg', 'dia HoloAmAg', 'dia Ron400', 'dia Thor300', 'dia HoloPhP', 'dia HoloPhAg', 'dia HoloAmAg', 'dia Ron400', 'dia Thor300', 'dia HoloPhP', 'dia HoloPhAg', 'dia HoloAmAg']\n"
     ]
    }
   ],
   "source": [
    "print all_filt"
   ]
  },
  {
   "cell_type": "markdown",
   "metadata": {},
   "source": [
    "## Show filters and dispersers"
   ]
  },
  {
   "cell_type": "code",
   "execution_count": 16,
   "metadata": {},
   "outputs": [
    {
     "data": {
      "text/plain": [
       "['dia Ron400',\n",
       " 'dia Thor300',\n",
       " 'dia HoloPhP',\n",
       " 'dia HoloPhAg',\n",
       " 'dia HoloAmAg',\n",
       " 'dia Ron200',\n",
       " 'Unknown']"
      ]
     },
     "execution_count": 16,
     "metadata": {},
     "output_type": "execute_result"
    }
   ],
   "source": [
    "Filt_names"
   ]
  },
  {
   "cell_type": "code",
   "execution_count": 17,
   "metadata": {
    "collapsed": true
   },
   "outputs": [],
   "source": [
    "filt0_idx,filt1_idx,filt2_idx,filt3_idx,filt4_idx,filt5_idx,filt6_idx=get_filt_idx(all_filt)"
   ]
  },
  {
   "cell_type": "code",
   "execution_count": 18,
   "metadata": {},
   "outputs": [
    {
     "name": "stdout",
     "output_type": "stream",
     "text": [
      "dia Ron400  \t : filt0_idx ::  [ 0  5 10 15 20 25 30 35 40 45 50 55 60 65 70]\n",
      "dia Thor300  \t : filt1_idx ::  [ 1  6 11 16 21 26 31 36 41 46 51 56 61 66 71]\n",
      "dia HoloPhP  \t : filt2_idx ::  [ 2  7 12 17 22 27 32 37 42 47 52 57 62 67 72]\n",
      "dia HoloPhAg  \t : filt3_idx ::  [ 3  8 13 18 23 28 33 38 43 48 53 58 63 68 73]\n",
      "dia HoloAmAg  \t : filt4_idx ::  [ 4  9 14 19 24 29 34 39 44 49 54 59 64 69 74]\n",
      "dia Ron200  \t : filt5_idx ::  []\n",
      "Unknown  \t : filt6_idx ::  []\n"
     ]
    }
   ],
   "source": [
    "print  Filt_names[0],' \\t : filt0_idx :: ',filt0_idx\n",
    "print  Filt_names[1],' \\t : filt1_idx :: ',filt1_idx\n",
    "print  Filt_names[2],' \\t : filt2_idx :: ',filt2_idx\n",
    "print  Filt_names[3],' \\t : filt3_idx :: ',filt3_idx\n",
    "print  Filt_names[4],' \\t : filt4_idx :: ',filt4_idx\n",
    "print  Filt_names[5],' \\t : filt5_idx :: ',filt5_idx\n",
    "print  Filt_names[6],' \\t : filt6_idx :: ',filt6_idx"
   ]
  },
  {
   "cell_type": "code",
   "execution_count": 19,
   "metadata": {},
   "outputs": [
    {
     "name": "stdout",
     "output_type": "stream",
     "text": [
      "dia Ron400 [ 0  5 10 15 20 25 30 35 40 45 50 55 60 65 70]\n",
      "dia Thor300 [ 1  6 11 16 21 26 31 36 41 46 51 56 61 66 71]\n",
      "dia HoloPhP [ 2  7 12 17 22 27 32 37 42 47 52 57 62 67 72]\n",
      "dia HoloPhAg [ 3  8 13 18 23 28 33 38 43 48 53 58 63 68 73]\n",
      "dia HoloAmAg [ 4  9 14 19 24 29 34 39 44 49 54 59 64 69 74]\n",
      "dia Ron200 []\n",
      "Unknown []\n"
     ]
    }
   ],
   "source": [
    "print Filt_names[0],filt0_idx\n",
    "print Filt_names[1],filt1_idx\n",
    "print Filt_names[2],filt2_idx\n",
    "print Filt_names[3],filt3_idx\n",
    "print Filt_names[4],filt4_idx\n",
    "print Filt_names[5],filt5_idx\n",
    "print Filt_names[6],filt6_idx"
   ]
  },
  {
   "cell_type": "code",
   "execution_count": 20,
   "metadata": {},
   "outputs": [
    {
     "data": {
      "text/plain": [
       "<matplotlib.text.Text at 0x13d5d0d10>"
      ]
     },
     "execution_count": 20,
     "metadata": {},
     "output_type": "execute_result"
    },
    {
     "data": {
      "image/png": "[encoded data removed]",
      "text/plain": [
       "<matplotlib.figure.Figure at 0x13c8d6950>"
      ]
     },
     "metadata": {},
     "output_type": "display_data"
    }
   ],
   "source": [
    "plt.figure(figsize=(8,8))\n",
    "plt.plot(x_star,y_star,'o')\n",
    "plt.xlim(700.,800.)\n",
    "plt.ylim(650.,750.)\n",
    "plt.xlabel('pixel column')\n",
    "plt.ylabel('pixel row')\n",
    "plt.grid(True)\n",
    "plt.title(\"Position of order 0 on CCD\")"
   ]
  },
  {
   "cell_type": "code",
   "execution_count": 21,
   "metadata": {},
   "outputs": [
    {
     "data": {
      "text/plain": [
       "<matplotlib.text.Text at 0x13d91c7d0>"
      ]
     },
     "execution_count": 21,
     "metadata": {},
     "output_type": "execute_result"
    },
    {
     "data": {
      "image/png": "[encoded data removed]",
      "text/plain": [
       "<matplotlib.figure.Figure at 0x11f951bd0>"
      ]
     },
     "metadata": {},
     "output_type": "display_data"
    }
   ],
   "source": [
    "plt.figure(figsize=(8,6))\n",
    "plt.plot(x_star,'o')\n",
    "plt.ylim(700.,800.)\n",
    "plt.ylabel('pixel column')\n",
    "plt.xlabel('event number')\n",
    "plt.grid(True)\n",
    "plt.title(\"pixel column of order 0 on CCD\")"
   ]
  },
  {
   "cell_type": "code",
   "execution_count": 25,
   "metadata": {},
   "outputs": [
    {
     "data": {
      "image/png": "[encoded data removed]",
      "text/plain": [
       "<matplotlib.figure.Figure at 0x11f951490>"
      ]
     },
     "metadata": {},
     "output_type": "display_data"
    }
   ],
   "source": [
    "plt.figure(figsize=(8,8))\n",
    "plt.plot(x_star[filt0_idx],y_star[filt0_idx],'o',label=Filt_names[0])\n",
    "plt.plot(x_star[filt1_idx],y_star[filt1_idx],'o',label=Filt_names[1])\n",
    "plt.plot(x_star[filt2_idx],y_star[filt2_idx],'o',label=Filt_names[2])\n",
    "plt.plot(x_star[filt3_idx],y_star[filt3_idx],'o',label=Filt_names[3])\n",
    "plt.plot(x_star[filt4_idx],y_star[filt4_idx],'o',label=Filt_names[4])\n",
    "plt.xlim(740.,790.)\n",
    "plt.ylim(650.,700.)\n",
    "plt.xlabel('pixel column')\n",
    "plt.ylabel('pixel row')\n",
    "plt.grid(True)\n",
    "plt.legend()\n",
    "plt.title(\"Position of order 0 on CCD\")\n",
    "filename=os.path.join(dir_top_images,'trajectory.pdf')\n",
    "plt.savefig(filename)"
   ]
  },
  {
   "cell_type": "code",
   "execution_count": null,
   "metadata": {
    "collapsed": true
   },
   "outputs": [],
   "source": []
  },
  {
   "cell_type": "markdown",
   "metadata": {},
   "source": [
    "# Example of colorbar"
   ]
  },
  {
   "cell_type": "code",
   "execution_count": 23,
   "metadata": {},
   "outputs": [
    {
     "data": {
      "image/png": "[encoded data removed]",
      "text/plain": [
       "<matplotlib.figure.Figure at 0x13d7e1f10>"
      ]
     },
     "metadata": {},
     "output_type": "display_data"
    }
   ],
   "source": [
    "fig, axes = plt.subplots(nrows=2, ncols=2)\n",
    "for ax in axes.flat:\n",
    "    im = ax.imshow(np.random.random((10,10)), vmin=0, vmax=1)\n",
    "\n",
    "fig.subplots_adjust(right=0.9)\n",
    "cbar_ax = fig.add_axes([0.95, 0.05, 0.01, 0.9])\n",
    "fig.colorbar(im, cax=cbar_ax)\n",
    "\n",
    "plt.show()"
   ]
  },
  {
   "cell_type": "code",
   "execution_count": null,
   "metadata": {
    "collapsed": true
   },
   "outputs": [],
   "source": []
  }
 ],
 "metadata": {
  "kernelspec": {
   "display_name": "Python 2",
   "language": "python",
   "name": "python2"
  },
  "language_info": {
   "codemirror_mode": {
    "name": "ipython",
    "version": 2
   },
   "file_extension": ".py",
   "mimetype": "text/x-python",
   "name": "python",
   "nbconvert_exporter": "python",
   "pygments_lexer": "ipython2",
   "version": "2.7.13"
  },
  "toc": {
   "nav_menu": {},
   "number_sections": true,
   "sideBar": true,
   "skip_h1_title": false,
   "toc_cell": false,
   "toc_position": {
    "height": "650px",
    "left": "0px",
    "right": "1253px",
    "top": "106px",
    "width": "26px"
   },
   "toc_section_display": "block",
   "toc_window_display": false
  }
 },
 "nbformat": 4,
 "nbformat_minor": 2
}
