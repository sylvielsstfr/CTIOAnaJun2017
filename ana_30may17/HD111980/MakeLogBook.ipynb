{
 "cells": [
  {
   "cell_type": "markdown",
   "metadata": {
    "deletable": true,
    "editable": true
   },
   "source": [
    "# Make Logbook of Trim images of CTIO Data\n",
    "==================================================================================================\n",
    "\n",
    "- author : Sylvie Dagoret-Campagne\n",
    "- affiliation : LAL/IN2P3/CNRS, France\n",
    "- date   : Juin 16 2016\n"
   ]
  },
  {
   "cell_type": "code",
   "execution_count": 3,
   "metadata": {
    "collapsed": false,
    "deletable": true,
    "editable": true
   },
   "outputs": [
    {
     "data": {
      "application/javascript": [
       "var kernel = IPython.notebook.kernel;\n",
       "var thename = window.document.getElementById(\"notebook_name\").innerHTML;\n",
       "var command = \"theNotebook = \" + \"'\"+thename+\"'\";\n",
       "kernel.execute(command);"
      ],
      "text/plain": [
       "<IPython.core.display.Javascript object>"
      ]
     },
     "metadata": {},
     "output_type": "display_data"
    }
   ],
   "source": [
    "%%javascript\n",
    "var kernel = IPython.notebook.kernel;\n",
    "var thename = window.document.getElementById(\"notebook_name\").innerHTML;\n",
    "var command = \"theNotebook = \" + \"'\"+thename+\"'\";\n",
    "kernel.execute(command);"
   ]
  },
  {
   "cell_type": "code",
   "execution_count": 4,
   "metadata": {
    "collapsed": false,
    "deletable": true,
    "editable": true
   },
   "outputs": [
    {
     "name": "stdout",
     "output_type": "stream",
     "text": [
      "MakeLogBook\n"
     ]
    }
   ],
   "source": [
    "print(theNotebook)"
   ]
  },
  {
   "cell_type": "code",
   "execution_count": 5,
   "metadata": {
    "collapsed": false,
    "deletable": true,
    "editable": true
   },
   "outputs": [],
   "source": [
    "%matplotlib inline\n",
    "import matplotlib.pyplot as plt\n",
    "import numpy as np\n",
    "\n",
    "from astropy.modeling import models\n",
    "from astropy import units as u\n",
    "from astropy import nddata\n",
    "from astropy.io import fits\n",
    "from astropy.table import Table, Column\n",
    "import re\n",
    "import os"
   ]
  },
  {
   "cell_type": "code",
   "execution_count": 6,
   "metadata": {
    "collapsed": true,
    "deletable": true,
    "editable": true
   },
   "outputs": [],
   "source": [
    "import pandas as pd"
   ]
  },
  {
   "cell_type": "code",
   "execution_count": 7,
   "metadata": {
    "collapsed": false,
    "deletable": true,
    "editable": true
   },
   "outputs": [],
   "source": [
    "# to enlarge the sizes\n",
    "params = {'legend.fontsize': 'x-large',\n",
    "          'figure.figsize': (8, 8),\n",
    "         'axes.labelsize': 'x-large',\n",
    "         'axes.titlesize':'x-large',\n",
    "         'xtick.labelsize':'x-large',\n",
    "         'ytick.labelsize':'x-large'}\n",
    "plt.rcParams.update(params)"
   ]
  },
  {
   "cell_type": "markdown",
   "metadata": {
    "deletable": true,
    "editable": true
   },
   "source": [
    "## Location of trim images\n",
    "----------------------------------"
   ]
  },
  {
   "cell_type": "code",
   "execution_count": 8,
   "metadata": {
    "collapsed": false,
    "deletable": true,
    "editable": true
   },
   "outputs": [],
   "source": [
    "rootpath_rawimage=\"../OverScanRemove/trim_images\"\n",
    "MIN_IMGNUMBER=58\n",
    "MAX_IMGNUMBER=199\n",
    "object_name='HD111980_May_30th'\n",
    "SelectTagRe='^trim_20170530_([0-9]+).fits$' # regular expression to select the file\n",
    "SearchTagRe='^trim_20170530_[0-9]+.fits$'\n",
    "NBIMGPERLROW=4"
   ]
  },
  {
   "cell_type": "code",
   "execution_count": 9,
   "metadata": {
    "collapsed": true,
    "deletable": true,
    "editable": true
   },
   "outputs": [],
   "source": [
    "#rootpath_rawimage=\"/Users/dagoret-campagnesylvie/MacOsX/LSST/MyWork/GitHub/CTIOData2016/November2016/mucol\"\n",
    "#object_name='mucol'\n",
    "infos='ctio30may2017'"
   ]
  },
  {
   "cell_type": "code",
   "execution_count": 10,
   "metadata": {
    "collapsed": false,
    "deletable": true,
    "editable": true
   },
   "outputs": [],
   "source": [
    "logfile='logbk_'+object_name+'_'+infos+'.fits'\n",
    "pandaslogfile='logbk_'+object_name+'_'+infos+'.csv'"
   ]
  },
  {
   "cell_type": "code",
   "execution_count": 11,
   "metadata": {
    "collapsed": true,
    "deletable": true,
    "editable": true
   },
   "outputs": [],
   "source": [
    "dirlist=[]\n",
    "dirlist.append(rootpath_rawimage)\n",
    "dirlist_all=np.array(dirlist)"
   ]
  },
  {
   "cell_type": "code",
   "execution_count": 12,
   "metadata": {
    "collapsed": false,
    "deletable": true,
    "editable": true
   },
   "outputs": [],
   "source": [
    "filelist_all=os.listdir(rootpath_rawimage) "
   ]
  },
  {
   "cell_type": "code",
   "execution_count": 13,
   "metadata": {
    "collapsed": false,
    "deletable": true,
    "editable": true
   },
   "outputs": [
    {
     "data": {
      "text/plain": [
       "['trim_20170530_058.fits',\n",
       " 'trim_20170530_059.fits',\n",
       " 'trim_20170530_060.fits',\n",
       " 'trim_20170530_061.fits',\n",
       " 'trim_20170530_062.fits',\n",
       " 'trim_20170530_063.fits',\n",
       " 'trim_20170530_064.fits',\n",
       " 'trim_20170530_065.fits',\n",
       " 'trim_20170530_066.fits',\n",
       " 'trim_20170530_067.fits',\n",
       " 'trim_20170530_068.fits',\n",
       " 'trim_20170530_069.fits',\n",
       " 'trim_20170530_070.fits',\n",
       " 'trim_20170530_071.fits',\n",
       " 'trim_20170530_072.fits',\n",
       " 'trim_20170530_073.fits',\n",
       " 'trim_20170530_074.fits',\n",
       " 'trim_20170530_075.fits',\n",
       " 'trim_20170530_076.fits',\n",
       " 'trim_20170530_077.fits',\n",
       " 'trim_20170530_078.fits',\n",
       " 'trim_20170530_079.fits',\n",
       " 'trim_20170530_080.fits',\n",
       " 'trim_20170530_081.fits',\n",
       " 'trim_20170530_082.fits',\n",
       " 'trim_20170530_083.fits',\n",
       " 'trim_20170530_084.fits',\n",
       " 'trim_20170530_085.fits',\n",
       " 'trim_20170530_086.fits',\n",
       " 'trim_20170530_087.fits',\n",
       " 'trim_20170530_088.fits',\n",
       " 'trim_20170530_089.fits',\n",
       " 'trim_20170530_090.fits',\n",
       " 'trim_20170530_091.fits',\n",
       " 'trim_20170530_092.fits',\n",
       " 'trim_20170530_093.fits',\n",
       " 'trim_20170530_094.fits',\n",
       " 'trim_20170530_095.fits',\n",
       " 'trim_20170530_096.fits',\n",
       " 'trim_20170530_097.fits',\n",
       " 'trim_20170530_098.fits',\n",
       " 'trim_20170530_099.fits',\n",
       " 'trim_20170530_100.fits',\n",
       " 'trim_20170530_101.fits',\n",
       " 'trim_20170530_102.fits',\n",
       " 'trim_20170530_103.fits',\n",
       " 'trim_20170530_104.fits',\n",
       " 'trim_20170530_105.fits',\n",
       " 'trim_20170530_106.fits',\n",
       " 'trim_20170530_107.fits',\n",
       " 'trim_20170530_108.fits',\n",
       " 'trim_20170530_109.fits',\n",
       " 'trim_20170530_110.fits',\n",
       " 'trim_20170530_111.fits',\n",
       " 'trim_20170530_112.fits',\n",
       " 'trim_20170530_113.fits',\n",
       " 'trim_20170530_114.fits',\n",
       " 'trim_20170530_115.fits',\n",
       " 'trim_20170530_116.fits',\n",
       " 'trim_20170530_117.fits',\n",
       " 'trim_20170530_118.fits',\n",
       " 'trim_20170530_119.fits',\n",
       " 'trim_20170530_120.fits',\n",
       " 'trim_20170530_121.fits',\n",
       " 'trim_20170530_122.fits',\n",
       " 'trim_20170530_123.fits',\n",
       " 'trim_20170530_124.fits',\n",
       " 'trim_20170530_125.fits',\n",
       " 'trim_20170530_126.fits',\n",
       " 'trim_20170530_127.fits',\n",
       " 'trim_20170530_128.fits',\n",
       " 'trim_20170530_129.fits',\n",
       " 'trim_20170530_130.fits',\n",
       " 'trim_20170530_131.fits',\n",
       " 'trim_20170530_132.fits',\n",
       " 'trim_20170530_133.fits',\n",
       " 'trim_20170530_134.fits',\n",
       " 'trim_20170530_135.fits',\n",
       " 'trim_20170530_136.fits',\n",
       " 'trim_20170530_137.fits',\n",
       " 'trim_20170530_138.fits',\n",
       " 'trim_20170530_139.fits',\n",
       " 'trim_20170530_140.fits',\n",
       " 'trim_20170530_141.fits',\n",
       " 'trim_20170530_142.fits',\n",
       " 'trim_20170530_143.fits',\n",
       " 'trim_20170530_144.fits',\n",
       " 'trim_20170530_145.fits',\n",
       " 'trim_20170530_146.fits',\n",
       " 'trim_20170530_147.fits',\n",
       " 'trim_20170530_148.fits',\n",
       " 'trim_20170530_149.fits',\n",
       " 'trim_20170530_150.fits',\n",
       " 'trim_20170530_151.fits',\n",
       " 'trim_20170530_152.fits',\n",
       " 'trim_20170530_153.fits',\n",
       " 'trim_20170530_154.fits',\n",
       " 'trim_20170530_155.fits',\n",
       " 'trim_20170530_156.fits',\n",
       " 'trim_20170530_157.fits',\n",
       " 'trim_20170530_158.fits',\n",
       " 'trim_20170530_159.fits',\n",
       " 'trim_20170530_160.fits',\n",
       " 'trim_20170530_161.fits',\n",
       " 'trim_20170530_162.fits',\n",
       " 'trim_20170530_163.fits',\n",
       " 'trim_20170530_164.fits',\n",
       " 'trim_20170530_165.fits',\n",
       " 'trim_20170530_166.fits',\n",
       " 'trim_20170530_167.fits',\n",
       " 'trim_20170530_168.fits',\n",
       " 'trim_20170530_169.fits',\n",
       " 'trim_20170530_170.fits',\n",
       " 'trim_20170530_171.fits',\n",
       " 'trim_20170530_172.fits',\n",
       " 'trim_20170530_173.fits',\n",
       " 'trim_20170530_174.fits',\n",
       " 'trim_20170530_175.fits',\n",
       " 'trim_20170530_176.fits',\n",
       " 'trim_20170530_177.fits',\n",
       " 'trim_20170530_178.fits',\n",
       " 'trim_20170530_179.fits',\n",
       " 'trim_20170530_180.fits',\n",
       " 'trim_20170530_181.fits',\n",
       " 'trim_20170530_182.fits',\n",
       " 'trim_20170530_183.fits',\n",
       " 'trim_20170530_184.fits',\n",
       " 'trim_20170530_185.fits',\n",
       " 'trim_20170530_186.fits',\n",
       " 'trim_20170530_187.fits',\n",
       " 'trim_20170530_188.fits',\n",
       " 'trim_20170530_189.fits',\n",
       " 'trim_20170530_190.fits',\n",
       " 'trim_20170530_191.fits',\n",
       " 'trim_20170530_192.fits',\n",
       " 'trim_20170530_193.fits',\n",
       " 'trim_20170530_194.fits',\n",
       " 'trim_20170530_195.fits',\n",
       " 'trim_20170530_196.fits',\n",
       " 'trim_20170530_197.fits',\n",
       " 'trim_20170530_198.fits',\n",
       " 'trim_20170530_199.fits',\n",
       " 'trim_20170530_200.fits',\n",
       " 'trim_20170530_201.fits',\n",
       " 'trim_20170530_203.fits',\n",
       " 'trim_20170530_204.fits',\n",
       " 'trim_20170530_205.fits',\n",
       " 'trim_20170530_206.fits',\n",
       " 'trim_20170530_207.fits',\n",
       " 'trim_20170530_210.fits',\n",
       " 'trim_20170530_211.fits',\n",
       " 'trim_20170530_212.fits',\n",
       " 'trim_20170530_213.fits',\n",
       " 'trim_20170530_214.fits',\n",
       " 'trim_20170530_215.fits',\n",
       " 'trim_20170530_216.fits',\n",
       " 'trim_20170530_217.fits',\n",
       " 'trim_20170530_218.fits',\n",
       " 'trim_20170530_219.fits',\n",
       " 'trim_20170530_220.fits',\n",
       " 'trim_20170530_221.fits',\n",
       " 'trim_20170530_222.fits',\n",
       " 'trim_20170530_223.fits',\n",
       " 'trim_20170530_224.fits',\n",
       " 'trim_20170530_225.fits',\n",
       " 'trim_20170530_226.fits',\n",
       " 'trim_20170530_227.fits',\n",
       " 'trim_20170530_228.fits',\n",
       " 'trim_20170530_229.fits',\n",
       " 'trim_20170530_230.fits',\n",
       " 'trim_20170530_231.fits',\n",
       " 'trim_20170530_232.fits',\n",
       " 'trim_20170530_233.fits',\n",
       " 'trim_20170530_234.fits',\n",
       " 'trim_20170530_235.fits',\n",
       " 'trim_20170530_236.fits',\n",
       " 'trim_20170530_237.fits',\n",
       " 'trim_20170530_238.fits',\n",
       " 'trim_20170530_239.fits',\n",
       " 'trim_20170530_240.fits',\n",
       " 'trim_20170530_241.fits',\n",
       " 'trim_20170530_242.fits',\n",
       " 'trim_20170530_243.fits',\n",
       " 'trim_20170530_244.fits',\n",
       " 'trim_20170530_245.fits',\n",
       " 'trim_20170530_246.fits',\n",
       " 'trim_20170530_247.fits',\n",
       " 'trim_20170530_248.fits',\n",
       " 'trim_20170530_249.fits',\n",
       " 'trim_20170530_250.fits',\n",
       " 'trim_20170530_251.fits',\n",
       " 'trim_20170530_252.fits',\n",
       " 'trim_20170530_253.fits',\n",
       " 'trim_20170530_254.fits',\n",
       " 'trim_20170530_255.fits',\n",
       " 'trim_20170530_256.fits',\n",
       " 'trim_20170530_257.fits',\n",
       " 'trim_20170530_258.fits',\n",
       " 'trim_20170530_259.fits',\n",
       " 'trim_20170530_260.fits',\n",
       " 'trim_20170530_261.fits',\n",
       " 'trim_20170530_262.fits',\n",
       " 'trim_20170530_263.fits',\n",
       " 'trim_20170530_264.fits',\n",
       " 'trim_20170530_265.fits',\n",
       " 'trim_20170530_266.fits',\n",
       " 'trim_20170530_267.fits',\n",
       " 'trim_20170530_268.fits',\n",
       " 'trim_20170530_269.fits',\n",
       " 'trim_20170530_270.fits',\n",
       " 'trim_20170530_271.fits',\n",
       " 'trim_20170530_272.fits',\n",
       " 'trim_20170530_273.fits',\n",
       " 'trim_20170530_274.fits',\n",
       " 'trim_20170530_275.fits',\n",
       " 'trim_20170530_276.fits',\n",
       " 'trim_20170530_277.fits',\n",
       " 'trim_20170530_278.fits',\n",
       " 'trim_20170530_279.fits',\n",
       " 'trim_20170530_280.fits',\n",
       " 'trim_20170530_281.fits',\n",
       " 'trim_20170530_282.fits',\n",
       " 'trim_20170530_283.fits',\n",
       " 'trim_20170530_284.fits',\n",
       " 'trim_20170630_001.fits',\n",
       " 'trim_20170630_002.fits',\n",
       " 'trim_20170630_003.fits',\n",
       " 'trim_20170630_004.fits',\n",
       " 'trim_20170630_005.fits',\n",
       " 'trim_20170630_006.fits',\n",
       " 'trim_20170630_007.fits',\n",
       " 'trim_20170630_008.fits',\n",
       " 'trim_20170630_009.fits',\n",
       " 'trim_20170630_010.fits',\n",
       " 'trim_20170630_011.fits',\n",
       " 'trim_20170630_012.fits',\n",
       " 'trim_20170630_013.fits',\n",
       " 'trim_20170630_014.fits',\n",
       " 'trim_20170630_015.fits',\n",
       " 'trim_20170630_016.fits',\n",
       " 'trim_20170630_017.fits',\n",
       " 'trim_20170630_018.fits',\n",
       " 'trim_20170630_019.fits',\n",
       " 'trim_20170630_020.fits',\n",
       " 'trim_20170630_021.fits',\n",
       " 'trim_20170630_022.fits',\n",
       " 'trim_20170630_023.fits',\n",
       " 'trim_20170630_024.fits',\n",
       " 'trim_20170630_025.fits',\n",
       " 'trim_20170630_026.fits',\n",
       " 'trim_20170630_027.fits',\n",
       " 'trim_20170630_028.fits',\n",
       " 'trim_20170630_029.fits',\n",
       " 'trim_20170630_030.fits',\n",
       " 'trim_20170630_031.fits',\n",
       " 'trim_20170630_032.fits',\n",
       " 'trim_20170630_033.fits',\n",
       " 'trim_20170630_034.fits',\n",
       " 'trim_20170630_035.fits',\n",
       " 'trim_20170630_036.fits',\n",
       " 'trim_20170630_037.fits',\n",
       " 'trim_20170630_038.fits',\n",
       " 'trim_20170630_039.fits',\n",
       " 'trim_20170630_040.fits',\n",
       " 'trim_20170630_041.fits',\n",
       " 'trim_20170630_042.fits',\n",
       " 'trim_20170630_043.fits',\n",
       " 'trim_20170630_044.fits',\n",
       " 'trim_20170630_045.fits',\n",
       " 'trim_20170630_046.fits',\n",
       " 'trim_20170630_047.fits',\n",
       " 'trim_20170630_048.fits',\n",
       " 'trim_20170630_049.fits',\n",
       " 'trim_20170630_050.fits',\n",
       " 'trim_20170630_051.fits',\n",
       " 'trim_20170630_052.fits']"
      ]
     },
     "execution_count": 13,
     "metadata": {},
     "output_type": "execute_result"
    }
   ],
   "source": [
    "#dirlist_all.remove('.DS_Store') # reove that file in a mAC\n",
    "filelist_all"
   ]
  },
  {
   "cell_type": "code",
   "execution_count": 14,
   "metadata": {
    "collapsed": true,
    "deletable": true,
    "editable": true
   },
   "outputs": [],
   "source": [
    "indexes_files= [] # global list\n",
    "filelist_fitsimages= []  # global list"
   ]
  },
  {
   "cell_type": "code",
   "execution_count": 15,
   "metadata": {
    "collapsed": false,
    "deletable": true,
    "editable": true
   },
   "outputs": [],
   "source": [
    "def MakeFileList():\n",
    "    \"\"\"\n",
    "    MakeFileList : Make The List of files to open\n",
    "    =============\n",
    "    \n",
    "    - we select the files which are of interest.\n",
    "    - In particular select the number range\n",
    "    \n",
    "    \"\"\"\n",
    "    count=0\n",
    "    \n",
    "    for dir in dirlist_all: # loop on directories, one per image   (if necessary)    \n",
    "            dir_leaf= dir # build the name of leaf directory\n",
    "            listfiles=os.listdir(dir_leaf) \n",
    "            for filename in listfiles:\n",
    "                if re.search(SearchTagRe,filename):  #example of filename filter\n",
    "                    str_index=re.findall(SelectTagRe,filename)\n",
    "                    count=count+1\n",
    "                    index=int(str_index[0])\n",
    "                    if index >= MIN_IMGNUMBER and index <= MAX_IMGNUMBER: \n",
    "                        indexes_files.append(index)         \n",
    "                        shortfilename=dir_leaf+'/'+filename\n",
    "                        filelist_fitsimages.append(shortfilename)\n",
    "                    \n",
    "    return"
   ]
  },
  {
   "cell_type": "code",
   "execution_count": 16,
   "metadata": {
    "collapsed": false,
    "deletable": true,
    "editable": true
   },
   "outputs": [],
   "source": [
    "MakeFileList()   # Make the list"
   ]
  },
  {
   "cell_type": "code",
   "execution_count": 17,
   "metadata": {
    "collapsed": true,
    "deletable": true,
    "editable": true
   },
   "outputs": [],
   "source": [
    "indexes_files=np.array(indexes_files)\n",
    "filelist_fitsimages=np.array(filelist_fitsimages)"
   ]
  },
  {
   "cell_type": "code",
   "execution_count": 18,
   "metadata": {
    "collapsed": false,
    "deletable": true,
    "editable": true
   },
   "outputs": [
    {
     "data": {
      "text/plain": [
       "array([ 58,  59,  60,  61,  62,  63,  64,  65,  66,  67,  68,  69,  70,\n",
       "        71,  72,  73,  74,  75,  76,  77,  78,  79,  80,  81,  82,  83,\n",
       "        84,  85,  86,  87,  88,  89,  90,  91,  92,  93,  94,  95,  96,\n",
       "        97,  98,  99, 100, 101, 102, 103, 104, 105, 106, 107, 108, 109,\n",
       "       110, 111, 112, 113, 114, 115, 116, 117, 118, 119, 120, 121, 122,\n",
       "       123, 124, 125, 126, 127, 128, 129, 130, 131, 132, 133, 134, 135,\n",
       "       136, 137, 138, 139, 140, 141, 142, 143, 144, 145, 146, 147, 148,\n",
       "       149, 150, 151, 152, 153, 154, 155, 156, 157, 158, 159, 160, 161,\n",
       "       162, 163, 164, 165, 166, 167, 168, 169, 170, 171, 172, 173, 174,\n",
       "       175, 176, 177, 178, 179, 180, 181, 182, 183, 184, 185, 186, 187,\n",
       "       188, 189, 190, 191, 192, 193, 194, 195, 196, 197, 198, 199])"
      ]
     },
     "execution_count": 18,
     "metadata": {},
     "output_type": "execute_result"
    }
   ],
   "source": [
    "indexes_files"
   ]
  },
  {
   "cell_type": "code",
   "execution_count": 19,
   "metadata": {
    "collapsed": true,
    "deletable": true,
    "editable": true
   },
   "outputs": [],
   "source": [
    "sorted_indexes=np.argsort(indexes_files) # sort the file indexes"
   ]
  },
  {
   "cell_type": "code",
   "execution_count": 20,
   "metadata": {
    "collapsed": true,
    "deletable": true,
    "editable": true
   },
   "outputs": [],
   "source": [
    "sorted_files=filelist_fitsimages[sorted_indexes]"
   ]
  },
  {
   "cell_type": "code",
   "execution_count": 21,
   "metadata": {
    "collapsed": true,
    "deletable": true,
    "editable": true
   },
   "outputs": [],
   "source": [
    "sorted_numbers=indexes_files[sorted_indexes]"
   ]
  },
  {
   "cell_type": "code",
   "execution_count": 22,
   "metadata": {
    "collapsed": true,
    "deletable": true,
    "editable": true
   },
   "outputs": [],
   "source": [
    "sorted_filenames=[]\n",
    "for file in sorted_files:\n",
    "    #fullfilename=os.path.join(rootpath_rawimage,file)\n",
    "    fullfilename=file\n",
    "    sorted_filenames.append(fullfilename)"
   ]
  },
  {
   "cell_type": "code",
   "execution_count": 23,
   "metadata": {
    "collapsed": true,
    "deletable": true,
    "editable": true
   },
   "outputs": [],
   "source": [
    "sorted_filenames=np.array(sorted_filenames)"
   ]
  },
  {
   "cell_type": "code",
   "execution_count": 24,
   "metadata": {
    "collapsed": false,
    "deletable": true,
    "editable": true
   },
   "outputs": [
    {
     "data": {
      "text/plain": [
       "array(['../OverScanRemove/trim_images/trim_20170530_058.fits',\n",
       "       '../OverScanRemove/trim_images/trim_20170530_059.fits',\n",
       "       '../OverScanRemove/trim_images/trim_20170530_060.fits',\n",
       "       '../OverScanRemove/trim_images/trim_20170530_061.fits',\n",
       "       '../OverScanRemove/trim_images/trim_20170530_062.fits',\n",
       "       '../OverScanRemove/trim_images/trim_20170530_063.fits',\n",
       "       '../OverScanRemove/trim_images/trim_20170530_064.fits',\n",
       "       '../OverScanRemove/trim_images/trim_20170530_065.fits',\n",
       "       '../OverScanRemove/trim_images/trim_20170530_066.fits',\n",
       "       '../OverScanRemove/trim_images/trim_20170530_067.fits',\n",
       "       '../OverScanRemove/trim_images/trim_20170530_068.fits',\n",
       "       '../OverScanRemove/trim_images/trim_20170530_069.fits',\n",
       "       '../OverScanRemove/trim_images/trim_20170530_070.fits',\n",
       "       '../OverScanRemove/trim_images/trim_20170530_071.fits',\n",
       "       '../OverScanRemove/trim_images/trim_20170530_072.fits',\n",
       "       '../OverScanRemove/trim_images/trim_20170530_073.fits',\n",
       "       '../OverScanRemove/trim_images/trim_20170530_074.fits',\n",
       "       '../OverScanRemove/trim_images/trim_20170530_075.fits',\n",
       "       '../OverScanRemove/trim_images/trim_20170530_076.fits',\n",
       "       '../OverScanRemove/trim_images/trim_20170530_077.fits',\n",
       "       '../OverScanRemove/trim_images/trim_20170530_078.fits',\n",
       "       '../OverScanRemove/trim_images/trim_20170530_079.fits',\n",
       "       '../OverScanRemove/trim_images/trim_20170530_080.fits',\n",
       "       '../OverScanRemove/trim_images/trim_20170530_081.fits',\n",
       "       '../OverScanRemove/trim_images/trim_20170530_082.fits',\n",
       "       '../OverScanRemove/trim_images/trim_20170530_083.fits',\n",
       "       '../OverScanRemove/trim_images/trim_20170530_084.fits',\n",
       "       '../OverScanRemove/trim_images/trim_20170530_085.fits',\n",
       "       '../OverScanRemove/trim_images/trim_20170530_086.fits',\n",
       "       '../OverScanRemove/trim_images/trim_20170530_087.fits',\n",
       "       '../OverScanRemove/trim_images/trim_20170530_088.fits',\n",
       "       '../OverScanRemove/trim_images/trim_20170530_089.fits',\n",
       "       '../OverScanRemove/trim_images/trim_20170530_090.fits',\n",
       "       '../OverScanRemove/trim_images/trim_20170530_091.fits',\n",
       "       '../OverScanRemove/trim_images/trim_20170530_092.fits',\n",
       "       '../OverScanRemove/trim_images/trim_20170530_093.fits',\n",
       "       '../OverScanRemove/trim_images/trim_20170530_094.fits',\n",
       "       '../OverScanRemove/trim_images/trim_20170530_095.fits',\n",
       "       '../OverScanRemove/trim_images/trim_20170530_096.fits',\n",
       "       '../OverScanRemove/trim_images/trim_20170530_097.fits',\n",
       "       '../OverScanRemove/trim_images/trim_20170530_098.fits',\n",
       "       '../OverScanRemove/trim_images/trim_20170530_099.fits',\n",
       "       '../OverScanRemove/trim_images/trim_20170530_100.fits',\n",
       "       '../OverScanRemove/trim_images/trim_20170530_101.fits',\n",
       "       '../OverScanRemove/trim_images/trim_20170530_102.fits',\n",
       "       '../OverScanRemove/trim_images/trim_20170530_103.fits',\n",
       "       '../OverScanRemove/trim_images/trim_20170530_104.fits',\n",
       "       '../OverScanRemove/trim_images/trim_20170530_105.fits',\n",
       "       '../OverScanRemove/trim_images/trim_20170530_106.fits',\n",
       "       '../OverScanRemove/trim_images/trim_20170530_107.fits',\n",
       "       '../OverScanRemove/trim_images/trim_20170530_108.fits',\n",
       "       '../OverScanRemove/trim_images/trim_20170530_109.fits',\n",
       "       '../OverScanRemove/trim_images/trim_20170530_110.fits',\n",
       "       '../OverScanRemove/trim_images/trim_20170530_111.fits',\n",
       "       '../OverScanRemove/trim_images/trim_20170530_112.fits',\n",
       "       '../OverScanRemove/trim_images/trim_20170530_113.fits',\n",
       "       '../OverScanRemove/trim_images/trim_20170530_114.fits',\n",
       "       '../OverScanRemove/trim_images/trim_20170530_115.fits',\n",
       "       '../OverScanRemove/trim_images/trim_20170530_116.fits',\n",
       "       '../OverScanRemove/trim_images/trim_20170530_117.fits',\n",
       "       '../OverScanRemove/trim_images/trim_20170530_118.fits',\n",
       "       '../OverScanRemove/trim_images/trim_20170530_119.fits',\n",
       "       '../OverScanRemove/trim_images/trim_20170530_120.fits',\n",
       "       '../OverScanRemove/trim_images/trim_20170530_121.fits',\n",
       "       '../OverScanRemove/trim_images/trim_20170530_122.fits',\n",
       "       '../OverScanRemove/trim_images/trim_20170530_123.fits',\n",
       "       '../OverScanRemove/trim_images/trim_20170530_124.fits',\n",
       "       '../OverScanRemove/trim_images/trim_20170530_125.fits',\n",
       "       '../OverScanRemove/trim_images/trim_20170530_126.fits',\n",
       "       '../OverScanRemove/trim_images/trim_20170530_127.fits',\n",
       "       '../OverScanRemove/trim_images/trim_20170530_128.fits',\n",
       "       '../OverScanRemove/trim_images/trim_20170530_129.fits',\n",
       "       '../OverScanRemove/trim_images/trim_20170530_130.fits',\n",
       "       '../OverScanRemove/trim_images/trim_20170530_131.fits',\n",
       "       '../OverScanRemove/trim_images/trim_20170530_132.fits',\n",
       "       '../OverScanRemove/trim_images/trim_20170530_133.fits',\n",
       "       '../OverScanRemove/trim_images/trim_20170530_134.fits',\n",
       "       '../OverScanRemove/trim_images/trim_20170530_135.fits',\n",
       "       '../OverScanRemove/trim_images/trim_20170530_136.fits',\n",
       "       '../OverScanRemove/trim_images/trim_20170530_137.fits',\n",
       "       '../OverScanRemove/trim_images/trim_20170530_138.fits',\n",
       "       '../OverScanRemove/trim_images/trim_20170530_139.fits',\n",
       "       '../OverScanRemove/trim_images/trim_20170530_140.fits',\n",
       "       '../OverScanRemove/trim_images/trim_20170530_141.fits',\n",
       "       '../OverScanRemove/trim_images/trim_20170530_142.fits',\n",
       "       '../OverScanRemove/trim_images/trim_20170530_143.fits',\n",
       "       '../OverScanRemove/trim_images/trim_20170530_144.fits',\n",
       "       '../OverScanRemove/trim_images/trim_20170530_145.fits',\n",
       "       '../OverScanRemove/trim_images/trim_20170530_146.fits',\n",
       "       '../OverScanRemove/trim_images/trim_20170530_147.fits',\n",
       "       '../OverScanRemove/trim_images/trim_20170530_148.fits',\n",
       "       '../OverScanRemove/trim_images/trim_20170530_149.fits',\n",
       "       '../OverScanRemove/trim_images/trim_20170530_150.fits',\n",
       "       '../OverScanRemove/trim_images/trim_20170530_151.fits',\n",
       "       '../OverScanRemove/trim_images/trim_20170530_152.fits',\n",
       "       '../OverScanRemove/trim_images/trim_20170530_153.fits',\n",
       "       '../OverScanRemove/trim_images/trim_20170530_154.fits',\n",
       "       '../OverScanRemove/trim_images/trim_20170530_155.fits',\n",
       "       '../OverScanRemove/trim_images/trim_20170530_156.fits',\n",
       "       '../OverScanRemove/trim_images/trim_20170530_157.fits',\n",
       "       '../OverScanRemove/trim_images/trim_20170530_158.fits',\n",
       "       '../OverScanRemove/trim_images/trim_20170530_159.fits',\n",
       "       '../OverScanRemove/trim_images/trim_20170530_160.fits',\n",
       "       '../OverScanRemove/trim_images/trim_20170530_161.fits',\n",
       "       '../OverScanRemove/trim_images/trim_20170530_162.fits',\n",
       "       '../OverScanRemove/trim_images/trim_20170530_163.fits',\n",
       "       '../OverScanRemove/trim_images/trim_20170530_164.fits',\n",
       "       '../OverScanRemove/trim_images/trim_20170530_165.fits',\n",
       "       '../OverScanRemove/trim_images/trim_20170530_166.fits',\n",
       "       '../OverScanRemove/trim_images/trim_20170530_167.fits',\n",
       "       '../OverScanRemove/trim_images/trim_20170530_168.fits',\n",
       "       '../OverScanRemove/trim_images/trim_20170530_169.fits',\n",
       "       '../OverScanRemove/trim_images/trim_20170530_170.fits',\n",
       "       '../OverScanRemove/trim_images/trim_20170530_171.fits',\n",
       "       '../OverScanRemove/trim_images/trim_20170530_172.fits',\n",
       "       '../OverScanRemove/trim_images/trim_20170530_173.fits',\n",
       "       '../OverScanRemove/trim_images/trim_20170530_174.fits',\n",
       "       '../OverScanRemove/trim_images/trim_20170530_175.fits',\n",
       "       '../OverScanRemove/trim_images/trim_20170530_176.fits',\n",
       "       '../OverScanRemove/trim_images/trim_20170530_177.fits',\n",
       "       '../OverScanRemove/trim_images/trim_20170530_178.fits',\n",
       "       '../OverScanRemove/trim_images/trim_20170530_179.fits',\n",
       "       '../OverScanRemove/trim_images/trim_20170530_180.fits',\n",
       "       '../OverScanRemove/trim_images/trim_20170530_181.fits',\n",
       "       '../OverScanRemove/trim_images/trim_20170530_182.fits',\n",
       "       '../OverScanRemove/trim_images/trim_20170530_183.fits',\n",
       "       '../OverScanRemove/trim_images/trim_20170530_184.fits',\n",
       "       '../OverScanRemove/trim_images/trim_20170530_185.fits',\n",
       "       '../OverScanRemove/trim_images/trim_20170530_186.fits',\n",
       "       '../OverScanRemove/trim_images/trim_20170530_187.fits',\n",
       "       '../OverScanRemove/trim_images/trim_20170530_188.fits',\n",
       "       '../OverScanRemove/trim_images/trim_20170530_189.fits',\n",
       "       '../OverScanRemove/trim_images/trim_20170530_190.fits',\n",
       "       '../OverScanRemove/trim_images/trim_20170530_191.fits',\n",
       "       '../OverScanRemove/trim_images/trim_20170530_192.fits',\n",
       "       '../OverScanRemove/trim_images/trim_20170530_193.fits',\n",
       "       '../OverScanRemove/trim_images/trim_20170530_194.fits',\n",
       "       '../OverScanRemove/trim_images/trim_20170530_195.fits',\n",
       "       '../OverScanRemove/trim_images/trim_20170530_196.fits',\n",
       "       '../OverScanRemove/trim_images/trim_20170530_197.fits',\n",
       "       '../OverScanRemove/trim_images/trim_20170530_198.fits',\n",
       "       '../OverScanRemove/trim_images/trim_20170530_199.fits'], \n",
       "      dtype='|S52')"
      ]
     },
     "execution_count": 24,
     "metadata": {},
     "output_type": "execute_result"
    }
   ],
   "source": [
    "sorted_filenames"
   ]
  },
  {
   "cell_type": "code",
   "execution_count": 25,
   "metadata": {
    "collapsed": false,
    "deletable": true,
    "editable": true
   },
   "outputs": [],
   "source": [
    "from astropy.io import fits\n",
    "with fits.open(sorted_filenames[0]) as pf:\n",
    "    (pf[0].header)"
   ]
  },
  {
   "cell_type": "code",
   "execution_count": 26,
   "metadata": {
    "collapsed": false,
    "deletable": true,
    "editable": true
   },
   "outputs": [
    {
     "data": {
      "text/plain": [
       "SIMPLE  =                    T / conforms to FITS standard                      \n",
       "BITPIX  =                  -64 / array data type                                \n",
       "NAXIS   =                    2 / number of array dimensions                     \n",
       "NAXIS1  =                 2048                                                  \n",
       "NAXIS2  =                 2048                                                  \n",
       "COMMENT   FITS (Flexible Image Transport System) format is defined in 'Astronomy\n",
       "COMMENT   and Astrophysics', volume 376, page 359; bibcode: 2001A&A...376..359H \n",
       "OBJECT  = 'HD11980 '           / Name of object observed                        \n",
       "OBSERVER= '        '           / observer                                       \n",
       "PROPID  = '        '           / Proposal ID                                    \n",
       "RECID   = 'ct36.20170531.000218' / NOAO Archibe record ID                       \n",
       "PROPID  = '        '           / Proposal ID                                    \n",
       "IMAGETYP= 'object  '           / Type of picture (object, dark, comp, etc)      \n",
       "CCDSUM  = '1 1     '           / On chip summation (X, Y)                       \n",
       "XSTART  =                    1 / start of roi in X                              \n",
       "YSTART  =                    1 / start of roi in Y                              \n",
       "XLENGTH =                 2048 / length of roi in X                             \n",
       "YLENGTH =                 2048 / length of roi in Y                             \n",
       "UTSHUT  = '2017-05-31T00:02:18.596' / UT of shutter open                        \n",
       "UT      = '00:02:18.596'       / UT of TCS coordinates                          \n",
       "DATE-OBS= '2017-05-31T00:02:18.596' / date of observations start                \n",
       "DATE    = '2017-05-31T00:03:20' / file creation date (YYYY-MM-DDThh:mm:ss UT)   \n",
       "NAMPSYX = '2 2     '           / Num amps in y and x (eg. '2 2=quad')           \n",
       "AMPLIST = '11 12 21 22'        / Readout order in y,x                           \n",
       "GTRON11 =                  12. / (e-) predicted read noise, lower left          \n",
       "GTRON12 =                  12. / (e-) predicted read noise, lower right         \n",
       "GTRON21 =                  12. / (e-) predicted read noise, upper left          \n",
       "GTRON22 =                  12. / (e-) predicted read noise, upper right         \n",
       "GTGAIN11=                   3. / (e-/ADU) predicted gain, lower left            \n",
       "GTGAIN12=                   3. / (e-/ADU) predicted gain, lower right           \n",
       "GTGAIN21=                   3. / (e-/ADU) predicted gain, upper left            \n",
       "GTGAIN22=                   3. / (e-/ADU) predicted gain, upper right           \n",
       "ASEC11  = '[1:1084,1:1024]'    / amplifier section Amp11(LL) detID 1            \n",
       "BSEC11  = '[1045:1084,1:1024]' / bias section Amp11(LL) detID 1                 \n",
       "CSEC11  = '[1:1034,1:1024]'    / section in full ccd for DSEC Amp11(LL) detID 1 \n",
       "DSEC11  = '[1:1034,1:1024]'    / image section in raw frame Amp11(LL) detID 1   \n",
       "TSEC11  = '[11:1034,1:1024]'   / trim section Amp11(LL) detID 1                 \n",
       "ABSEC11 = '[1045:1084,1:1024]' / overscan inside amp                            \n",
       "ADSEC11 = '[1:1024,1:1024]'    / detector section only                          \n",
       "ASEC12  = '[1085:2168,1:1024]' / amplifier section Amp12(LR) detID 1            \n",
       "BSEC12  = '[1085:1124,1:1024]' / bias section Amp12(LR) detID 1                 \n",
       "CSEC12  = '[1035:2068,1:1024]' / section in full ccd for DSEC Amp12(LR) detID 1 \n",
       "DSEC12  = '[1135:2168,1:1024]' / image section in raw frame Amp12(LR) detID 1   \n",
       "TSEC12  = '[1135:2158,1:1024]' / trim section Amp12(LR) detID 1                 \n",
       "ABSEC12 = '[1:40,1:1024]'      / overscan inside amp                            \n",
       "ADSEC12 = '[1025:2048,1:1024]' / detector section only                          \n",
       "ASEC21  = '[1:1084,1025:2048]' / amplifier section Amp21(UL) detID 1            \n",
       "BSEC21  = '[1045:1084,1025:2048]' / bias section Amp21(UL) detID 1              \n",
       "CSEC21  = '[1:1034,1025:2048]' / section in full ccd for DSEC Amp21(UL) detID 1 \n",
       "DSEC21  = '[1:1034,1025:2048]' / image section in raw frame Amp21(UL) detID 1   \n",
       "TSEC21  = '[11:1034,1025:2048]' / trim section Amp21(UL) detID 1                \n",
       "ABSEC21 = '[1045:1084,1:1024]' / overscan inside amp                            \n",
       "ADSEC21 = '[1:1024,1025:2048]' / detector section only                          \n",
       "ASEC22  = '[1085:2168,1025:2048]' / amplifier section Amp22(UR) detID 1         \n",
       "BSEC22  = '[1085:1124,1025:2048]' / bias section Amp22(UR) detID 1              \n",
       "CSEC22  = '[1035:2068,1025:2048]' / section in full ccd for DSEC Amp22(UR) detID\n",
       "DSEC22  = '[1135:2168,1025:2048]' / image section in raw frame Amp22(UR) detID 1\n",
       "TSEC22  = '[1135:2158,1025:2048]' / trim section Amp22(UR) detID 1              \n",
       "ABSEC22 = '[1:40,1:1024]'      / overscan inside amp                            \n",
       "ADSEC22 = '[1025:2048,1025:2048]' / detector section only                       \n",
       "ROISEC00= '[1:2048,1:2048]'    / roi section                                    \n",
       "DETECTOR= 'Tek2K_3 '           / Detector Identifier                            \n",
       "FPA     = 'SITE2K  '           / focal plan array                               \n",
       "REXPTIME=                  60. / requested exposure time in secs                \n",
       "EXPTIME =                  60. / Exposure time in secs                          \n",
       "DARKTIME=                  60. / Total elapsed time in secs                     \n",
       "NIMAGES =                    1 / number of images requested in sequence         \n",
       "PIXELT  = '25000.000000'       / (ns) unbinned pixel read time                  \n",
       "DHEINF  = 'MNSN torrent hardware' / controller info                             \n",
       "DHEFIRM = '/home/observer/panview/fpas/_biw/config/DETECTOR/site2k_sequencer.uc'\n",
       "PIXTIME = '25      '           / pixel time (usecs)                             \n",
       "POWSTAT = '3.000   '           / power supplies status (3=OK)                   \n",
       "CCDSETP = '163.000 '           / ccd temperature setpoint                       \n",
       "CCDTEMP = '162.875 '           / CCD temperature                                \n",
       "NECKTEMP= '136.620 '           / dewar NECK temperature                         \n",
       "HEATERSP= '17.323  '           / Heater power percent.                          \n",
       "VDDA    = '23.989  '           / bias output amplifier A                        \n",
       "VDDB    = '23.959  '           / bias output amplifier B                        \n",
       "VDDC    = '24.348  '           / bias output amplifier C                        \n",
       "VDDD    = '24.154  '           / bias output amplifier D                        \n",
       "VRDA    = '13.825  '           / Reset Drain amplifier A                        \n",
       "VRDB    = '13.840  '           / Reset Drain amplifier B                        \n",
       "VRDC    = '14.034  '           / Reset Drain amplifier C                        \n",
       "VRDD    = '13.990  '           / Reset Drain amplifier D                        \n",
       "LGA     = '-2.002  '           / Reset Drain amplifier A                        \n",
       "LGB     = '-2.072  '           / Reset Drain amplifier B                        \n",
       "LGC     = '-1.952  '           / Reset Drain amplifier C                        \n",
       "LGD     = '-1.972  '           / Reset Drain amplifier D                        \n",
       "SLOT00  = 'LCB 0x188538 2.240000' / dhe board: <type> <serial> <firmware>       \n",
       "SLOT01  = 'PSM 0x45834F 2.210000' / dhe board: <type> <serial> <firmware>       \n",
       "SLOT02  = 'CFG 0xNONE 2.240000' / dhe board: <type> <serial> <firmware>         \n",
       "SLOT03  = 'PIX 0xNONE 2.210000' / dhe board: <type> <serial> <firmware>         \n",
       "SLOT04  = 'CCDAFE 0x188167 18805C 2.210000' / dhe board: <type> <serial> <firmwa\n",
       "SLOT07  = 'CB 0xNONE 2.240000' / dhe board: <type> <serial> <firmware>          \n",
       "SLOT02  = 'TSM 0x3C6784 NONE'  / dhe board: <type> <serial> <firmware>          \n",
       "VANPLUS =             10.54422 / analog voltage plus                            \n",
       "VANMINU =             -10.5137 / analog voltage minus                           \n",
       "FPGATEMP=             33.00492 / torrent fpga temperature                       \n",
       "ID      = '[ct36.20170531.000218]' / ID                                         \n",
       "OBSERVAT= 'CTIO    '           / Origin of data                                 \n",
       "TELESCOP= 'CTIO 0.9 meter telescope' / Specific system                          \n",
       "TELID   = 'ct36    '           / CTIO 0.9 meter telescope                       \n",
       "TCS-TIME= '2017-05-31T00:02:18.36' / date of observation start                  \n",
       "UT      = '00:02:18.36'        / UT of TCS coords                               \n",
       "RA      = '12:53:15.10'        / ra                                             \n",
       "DEC     = '-18:31:19.80'       / dec                                            \n",
       "EPOCH   =                2000. / epoch                                          \n",
       "ZD      =               17.969 / zenith distance                                \n",
       "HA      = '-00:59:26.08'       / hour angle                                     \n",
       "ST      = '11:53:49.03'        / sidereal time                                  \n",
       "AIRMASS =                1.051 / airmass                                        \n",
       "ALT     = '74.48   '           / altitud                                        \n",
       "TELFOCUS=               12450. / telescope focus                                \n",
       "WEATIME = '2017-05-31 00:02:01' / weather timestamp                             \n",
       "OUTTEMP =                  9.3 / outside temp (C)                               \n",
       "OUTHUM  =                   26 / outside humidity (%)                           \n",
       "OUTPRESS=                 783. / outside pressure (hPa)                         \n",
       "WNDSPEED=                  5.5 / wind speed (mph)                               \n",
       "WNDDIR  =                   73 / wind dir (degrees)                             \n",
       "SEETIME = '2017-05-31 00:02:29' / seeing timestamp                              \n",
       "SEEING  =                 0.94 / seeing                                         \n",
       "SAIRMASS=                 1.22 / seeing airmass                                 \n",
       "PANID   = '_biw    '           / PAN identification                             \n",
       "COMMENT image                                                                   \n",
       "COMMENT Image is trimmed                                                        \n",
       "FILTER1 = 'dia     '           / Filter in wheel 1                              \n",
       "FNAME1  = 'DIAFRAGM'           / Full name of filter in wheel 1                 \n",
       "FILTER2 = 'Thor300 '           / Filter in wheel 2                              \n",
       "FNAME2  = 'Thorlabs300'        / Full name of filter in wheel 2                 \n",
       "FILTERS = 'dia Thor300'        / Filter positions                               \n",
       "INSTRUME= 'cfccd   '           / cassegrain direct imager                       \n",
       "XPIXSIZE=                0.401 / Pixel size in X (arcsecs/pix)                  \n",
       "YPIXSIZE=                0.401 / Pixel size in Y (arcsecs/pix)                  \n",
       "TEST    =                   2. / my keyword                                     "
      ]
     },
     "execution_count": 26,
     "metadata": {},
     "output_type": "execute_result"
    }
   ],
   "source": [
    "pf[0].header"
   ]
  },
  {
   "cell_type": "markdown",
   "metadata": {
    "collapsed": false,
    "deletable": true,
    "editable": true
   },
   "source": [
    "### Build tables for output file"
   ]
  },
  {
   "cell_type": "code",
   "execution_count": null,
   "metadata": {
    "collapsed": false,
    "deletable": true,
    "editable": true
   },
   "outputs": [],
   "source": []
  },
  {
   "cell_type": "code",
   "execution_count": 27,
   "metadata": {
    "collapsed": false,
    "deletable": true,
    "editable": true
   },
   "outputs": [
    {
     "name": "stdout",
     "output_type": "stream",
     "text": [
      "../OverScanRemove/trim_images/trim_20170530_058.fits\n",
      "../OverScanRemove/trim_images/trim_20170530_059.fits\n",
      "../OverScanRemove/trim_images/trim_20170530_060.fits\n",
      "../OverScanRemove/trim_images/trim_20170530_061.fits\n",
      "../OverScanRemove/trim_images/trim_20170530_062.fits\n",
      "../OverScanRemove/trim_images/trim_20170530_063.fits\n",
      "../OverScanRemove/trim_images/trim_20170530_064.fits\n",
      "../OverScanRemove/trim_images/trim_20170530_065.fits\n",
      "../OverScanRemove/trim_images/trim_20170530_066.fits\n",
      "../OverScanRemove/trim_images/trim_20170530_067.fits\n",
      "../OverScanRemove/trim_images/trim_20170530_068.fits\n",
      "../OverScanRemove/trim_images/trim_20170530_069.fits\n",
      "../OverScanRemove/trim_images/trim_20170530_070.fits\n",
      "../OverScanRemove/trim_images/trim_20170530_071.fits\n",
      "../OverScanRemove/trim_images/trim_20170530_072.fits\n",
      "../OverScanRemove/trim_images/trim_20170530_073.fits\n",
      "../OverScanRemove/trim_images/trim_20170530_074.fits\n",
      "../OverScanRemove/trim_images/trim_20170530_075.fits\n",
      "../OverScanRemove/trim_images/trim_20170530_076.fits\n",
      "../OverScanRemove/trim_images/trim_20170530_077.fits\n",
      "../OverScanRemove/trim_images/trim_20170530_078.fits\n",
      "../OverScanRemove/trim_images/trim_20170530_079.fits\n",
      "../OverScanRemove/trim_images/trim_20170530_080.fits\n",
      "../OverScanRemove/trim_images/trim_20170530_081.fits\n",
      "../OverScanRemove/trim_images/trim_20170530_082.fits\n",
      "../OverScanRemove/trim_images/trim_20170530_083.fits\n",
      "../OverScanRemove/trim_images/trim_20170530_084.fits\n",
      "../OverScanRemove/trim_images/trim_20170530_085.fits\n",
      "../OverScanRemove/trim_images/trim_20170530_086.fits\n",
      "../OverScanRemove/trim_images/trim_20170530_087.fits\n",
      "../OverScanRemove/trim_images/trim_20170530_088.fits\n",
      "../OverScanRemove/trim_images/trim_20170530_089.fits\n",
      "../OverScanRemove/trim_images/trim_20170530_090.fits\n",
      "../OverScanRemove/trim_images/trim_20170530_091.fits\n",
      "../OverScanRemove/trim_images/trim_20170530_092.fits\n",
      "../OverScanRemove/trim_images/trim_20170530_093.fits\n",
      "../OverScanRemove/trim_images/trim_20170530_094.fits\n",
      "../OverScanRemove/trim_images/trim_20170530_095.fits\n",
      "../OverScanRemove/trim_images/trim_20170530_096.fits\n",
      "../OverScanRemove/trim_images/trim_20170530_097.fits\n",
      "../OverScanRemove/trim_images/trim_20170530_098.fits\n",
      "../OverScanRemove/trim_images/trim_20170530_099.fits\n",
      "../OverScanRemove/trim_images/trim_20170530_100.fits\n",
      "../OverScanRemove/trim_images/trim_20170530_101.fits\n",
      "../OverScanRemove/trim_images/trim_20170530_102.fits\n",
      "../OverScanRemove/trim_images/trim_20170530_103.fits\n",
      "../OverScanRemove/trim_images/trim_20170530_104.fits\n",
      "../OverScanRemove/trim_images/trim_20170530_105.fits\n",
      "../OverScanRemove/trim_images/trim_20170530_106.fits\n",
      "../OverScanRemove/trim_images/trim_20170530_107.fits\n",
      "../OverScanRemove/trim_images/trim_20170530_108.fits\n",
      "../OverScanRemove/trim_images/trim_20170530_109.fits\n",
      "../OverScanRemove/trim_images/trim_20170530_110.fits\n",
      "../OverScanRemove/trim_images/trim_20170530_111.fits\n",
      "../OverScanRemove/trim_images/trim_20170530_112.fits\n",
      "../OverScanRemove/trim_images/trim_20170530_113.fits\n",
      "../OverScanRemove/trim_images/trim_20170530_114.fits\n",
      "../OverScanRemove/trim_images/trim_20170530_115.fits\n",
      "../OverScanRemove/trim_images/trim_20170530_116.fits\n",
      "../OverScanRemove/trim_images/trim_20170530_117.fits\n",
      "../OverScanRemove/trim_images/trim_20170530_118.fits\n",
      "../OverScanRemove/trim_images/trim_20170530_119.fits\n",
      "../OverScanRemove/trim_images/trim_20170530_120.fits\n",
      "../OverScanRemove/trim_images/trim_20170530_121.fits\n",
      "../OverScanRemove/trim_images/trim_20170530_122.fits\n",
      "../OverScanRemove/trim_images/trim_20170530_123.fits\n",
      "../OverScanRemove/trim_images/trim_20170530_124.fits\n",
      "../OverScanRemove/trim_images/trim_20170530_125.fits\n",
      "../OverScanRemove/trim_images/trim_20170530_126.fits\n",
      "../OverScanRemove/trim_images/trim_20170530_127.fits\n",
      "../OverScanRemove/trim_images/trim_20170530_128.fits\n",
      "../OverScanRemove/trim_images/trim_20170530_129.fits\n",
      "../OverScanRemove/trim_images/trim_20170530_130.fits\n",
      "../OverScanRemove/trim_images/trim_20170530_131.fits\n",
      "../OverScanRemove/trim_images/trim_20170530_132.fits\n",
      "../OverScanRemove/trim_images/trim_20170530_133.fits\n",
      "../OverScanRemove/trim_images/trim_20170530_134.fits\n",
      "../OverScanRemove/trim_images/trim_20170530_135.fits\n",
      "../OverScanRemove/trim_images/trim_20170530_136.fits\n",
      "../OverScanRemove/trim_images/trim_20170530_137.fits\n",
      "../OverScanRemove/trim_images/trim_20170530_138.fits\n",
      "../OverScanRemove/trim_images/trim_20170530_139.fits\n",
      "../OverScanRemove/trim_images/trim_20170530_140.fits\n",
      "../OverScanRemove/trim_images/trim_20170530_141.fits\n",
      "../OverScanRemove/trim_images/trim_20170530_142.fits\n",
      "../OverScanRemove/trim_images/trim_20170530_143.fits\n",
      "../OverScanRemove/trim_images/trim_20170530_144.fits\n",
      "../OverScanRemove/trim_images/trim_20170530_145.fits\n",
      "../OverScanRemove/trim_images/trim_20170530_146.fits\n",
      "../OverScanRemove/trim_images/trim_20170530_147.fits\n",
      "../OverScanRemove/trim_images/trim_20170530_148.fits\n",
      "../OverScanRemove/trim_images/trim_20170530_149.fits\n",
      "../OverScanRemove/trim_images/trim_20170530_150.fits\n",
      "../OverScanRemove/trim_images/trim_20170530_151.fits\n",
      "../OverScanRemove/trim_images/trim_20170530_152.fits\n",
      "../OverScanRemove/trim_images/trim_20170530_153.fits\n",
      "../OverScanRemove/trim_images/trim_20170530_154.fits\n",
      "../OverScanRemove/trim_images/trim_20170530_155.fits\n",
      "../OverScanRemove/trim_images/trim_20170530_156.fits\n",
      "../OverScanRemove/trim_images/trim_20170530_157.fits\n",
      "../OverScanRemove/trim_images/trim_20170530_158.fits\n",
      "../OverScanRemove/trim_images/trim_20170530_159.fits\n",
      "../OverScanRemove/trim_images/trim_20170530_160.fits\n",
      "../OverScanRemove/trim_images/trim_20170530_161.fits\n",
      "../OverScanRemove/trim_images/trim_20170530_162.fits\n",
      "../OverScanRemove/trim_images/trim_20170530_163.fits\n",
      "../OverScanRemove/trim_images/trim_20170530_164.fits\n",
      "../OverScanRemove/trim_images/trim_20170530_165.fits\n",
      "../OverScanRemove/trim_images/trim_20170530_166.fits\n",
      "../OverScanRemove/trim_images/trim_20170530_167.fits\n",
      "../OverScanRemove/trim_images/trim_20170530_168.fits\n",
      "../OverScanRemove/trim_images/trim_20170530_169.fits\n",
      "../OverScanRemove/trim_images/trim_20170530_170.fits\n",
      "../OverScanRemove/trim_images/trim_20170530_171.fits\n",
      "../OverScanRemove/trim_images/trim_20170530_172.fits\n",
      "../OverScanRemove/trim_images/trim_20170530_173.fits\n",
      "../OverScanRemove/trim_images/trim_20170530_174.fits\n",
      "../OverScanRemove/trim_images/trim_20170530_175.fits\n",
      "../OverScanRemove/trim_images/trim_20170530_176.fits\n",
      "../OverScanRemove/trim_images/trim_20170530_177.fits\n",
      "../OverScanRemove/trim_images/trim_20170530_178.fits\n",
      "../OverScanRemove/trim_images/trim_20170530_179.fits\n",
      "../OverScanRemove/trim_images/trim_20170530_180.fits\n",
      "../OverScanRemove/trim_images/trim_20170530_181.fits\n",
      "../OverScanRemove/trim_images/trim_20170530_182.fits\n",
      "../OverScanRemove/trim_images/trim_20170530_183.fits\n",
      "../OverScanRemove/trim_images/trim_20170530_184.fits\n",
      "../OverScanRemove/trim_images/trim_20170530_185.fits\n",
      "../OverScanRemove/trim_images/trim_20170530_186.fits\n",
      "../OverScanRemove/trim_images/trim_20170530_187.fits\n",
      "../OverScanRemove/trim_images/trim_20170530_188.fits\n",
      "../OverScanRemove/trim_images/trim_20170530_189.fits\n",
      "../OverScanRemove/trim_images/trim_20170530_190.fits\n",
      "../OverScanRemove/trim_images/trim_20170530_191.fits\n",
      "../OverScanRemove/trim_images/trim_20170530_192.fits\n",
      "../OverScanRemove/trim_images/trim_20170530_193.fits\n",
      "../OverScanRemove/trim_images/trim_20170530_194.fits\n",
      "../OverScanRemove/trim_images/trim_20170530_195.fits\n",
      "../OverScanRemove/trim_images/trim_20170530_196.fits\n",
      "../OverScanRemove/trim_images/trim_20170530_197.fits\n",
      "../OverScanRemove/trim_images/trim_20170530_198.fits\n",
      "../OverScanRemove/trim_images/trim_20170530_199.fits\n"
     ]
    }
   ],
   "source": [
    "all_headers = []\n",
    "all_dates = []\n",
    "all_airmass = []\n",
    "all_exposures = []\n",
    "all_ut = []\n",
    "all_ra = []\n",
    "all_dec = []\n",
    "all_epoch = []\n",
    "all_zenith = []\n",
    "all_ha = []\n",
    "all_st = []\n",
    "all_alt = []\n",
    "all_focus = []\n",
    "all_temp = []\n",
    "all_press = []\n",
    "all_hum = []\n",
    "all_windsp = []\n",
    "all_seeing = []\n",
    "all_seeingam = []\n",
    "all_filter1 = []\n",
    "all_filter2 = []\n",
    "\n",
    "for idx,file in np.ndenumerate(sorted_filenames):  \n",
    "    print file\n",
    "    hdu_list=fits.open(file)\n",
    "    header=hdu_list[0].header\n",
    "    date_obs = header['DATE-OBS']\n",
    "    airmass = float(header['AIRMASS'])\n",
    "    expo= float(header['EXPTIME'])\n",
    "    num=indexes_files[idx[0]]\n",
    "   \n",
    "   \n",
    "    ut=header['UT']\n",
    "    ra=header['RA']\n",
    "    dec=header['DEC']\n",
    "    epoch=float(header['EPOCH'])\n",
    "    zd = float(header['ZD'])\n",
    "    ha = header['HA']\n",
    "    st = header['ST']\n",
    "    alt = float(header['ALT'])\n",
    "    fcl = float(header['TELFOCUS'])\n",
    "    temp= float(header['OUTTEMP'])\n",
    "    press= float(header['OUTPRESS'])\n",
    "    hum= float(header['OUTHUM'])\n",
    "    windsp=float(header['WNDSPEED'])\n",
    "    seeing=float(header['SEEING'])\n",
    "    seeingam=float(header['SAIRMASS'])\n",
    "    filter1 = header['FILTER1']\n",
    "    filter2 = header['FILTER2']\n",
    "    \n",
    "    all_dates.append(date_obs)\n",
    "    all_airmass.append(airmass)\n",
    "    all_headers.append(header)\n",
    "    all_exposures.append(expo)\n",
    "    all_ut.append(ut)\n",
    "    all_ra.append(ra)\n",
    "    all_dec.append(dec)\n",
    "    all_epoch.append(epoch)\n",
    "    all_zenith.append(zd)\n",
    "    all_ha.append(ha)\n",
    "    all_st.append(st)\n",
    "    all_alt.append(alt)\n",
    "    all_focus.append(fcl)\n",
    "    all_temp.append(temp)\n",
    "    all_press.append(press)\n",
    "    all_hum.append(hum)\n",
    "    all_windsp.append(windsp)\n",
    "    all_seeing.append(seeing)\n",
    "    all_seeingam.append(seeingam)\n",
    "    all_filter1.append(filter1)\n",
    "    all_filter2.append(filter2)\n",
    "\n",
    "    hdu_list.close()\n",
    "    "
   ]
  },
  {
   "cell_type": "code",
   "execution_count": 28,
   "metadata": {
    "collapsed": false,
    "deletable": true,
    "editable": true
   },
   "outputs": [
    {
     "data": {
      "text/plain": [
       "142"
      ]
     },
     "execution_count": 28,
     "metadata": {},
     "output_type": "execute_result"
    }
   ],
   "source": [
    "len(all_airmass)"
   ]
  },
  {
   "cell_type": "code",
   "execution_count": 29,
   "metadata": {
    "collapsed": false,
    "deletable": true,
    "editable": true
   },
   "outputs": [
    {
     "data": {
      "text/plain": [
       "['dia',\n",
       " 'dia',\n",
       " 'dia',\n",
       " 'dia',\n",
       " 'dia',\n",
       " 'dia',\n",
       " 'dia',\n",
       " 'dia',\n",
       " 'dia',\n",
       " 'dia',\n",
       " 'dia',\n",
       " 'dia',\n",
       " 'dia',\n",
       " 'dia',\n",
       " 'dia',\n",
       " 'dia',\n",
       " 'dia',\n",
       " 'dia',\n",
       " 'dia',\n",
       " 'dia',\n",
       " 'dia',\n",
       " 'dia',\n",
       " 'dia',\n",
       " 'dia',\n",
       " 'dia',\n",
       " 'dia',\n",
       " 'dia',\n",
       " 'dia',\n",
       " 'dia',\n",
       " 'dia',\n",
       " 'dia',\n",
       " 'dia',\n",
       " 'dia',\n",
       " 'dia',\n",
       " 'dia',\n",
       " 'dia',\n",
       " 'dia',\n",
       " 'dia',\n",
       " 'dia',\n",
       " 'dia',\n",
       " 'dia',\n",
       " 'dia',\n",
       " 'dia',\n",
       " 'dia',\n",
       " 'dia',\n",
       " 'dia',\n",
       " 'dia',\n",
       " 'dia',\n",
       " 'dia',\n",
       " 'dia',\n",
       " 'dia',\n",
       " 'dia',\n",
       " 'dia',\n",
       " 'dia',\n",
       " 'dia',\n",
       " 'dia',\n",
       " 'dia',\n",
       " 'dia',\n",
       " 'dia',\n",
       " 'dia',\n",
       " 'dia',\n",
       " 'dia',\n",
       " 'dia',\n",
       " 'dia',\n",
       " 'dia',\n",
       " 'dia',\n",
       " 'dia',\n",
       " 'dia',\n",
       " 'dia',\n",
       " 'dia',\n",
       " 'dia',\n",
       " 'dia',\n",
       " 'dia',\n",
       " 'dia',\n",
       " 'dia',\n",
       " 'dia',\n",
       " 'dia',\n",
       " 'dia',\n",
       " 'dia',\n",
       " 'dia',\n",
       " 'dia',\n",
       " 'dia',\n",
       " 'dia',\n",
       " 'dia',\n",
       " 'dia',\n",
       " 'dia',\n",
       " 'dia',\n",
       " 'dia',\n",
       " 'dia',\n",
       " 'dia',\n",
       " 'dia',\n",
       " 'dia',\n",
       " 'dia',\n",
       " 'dia',\n",
       " 'dia',\n",
       " 'dia',\n",
       " 'dia',\n",
       " 'dia',\n",
       " 'dia',\n",
       " 'dia',\n",
       " 'dia',\n",
       " 'dia',\n",
       " 'dia',\n",
       " 'dia',\n",
       " 'dia',\n",
       " 'dia',\n",
       " 'dia',\n",
       " 'dia',\n",
       " 'dia',\n",
       " 'dia',\n",
       " 'dia',\n",
       " 'dia',\n",
       " 'dia',\n",
       " 'dia',\n",
       " 'dia',\n",
       " 'dia',\n",
       " 'dia',\n",
       " 'dia',\n",
       " 'dia',\n",
       " 'dia',\n",
       " 'dia',\n",
       " 'dia',\n",
       " 'dia',\n",
       " 'dia',\n",
       " 'dia',\n",
       " 'dia',\n",
       " 'dia',\n",
       " 'dia',\n",
       " 'dia',\n",
       " 'dia',\n",
       " 'dia',\n",
       " 'dia',\n",
       " 'dia',\n",
       " 'dia',\n",
       " 'dia',\n",
       " 'dia',\n",
       " 'dia',\n",
       " 'dia',\n",
       " 'dia',\n",
       " 'dia',\n",
       " 'dia',\n",
       " 'dia']"
      ]
     },
     "execution_count": 29,
     "metadata": {},
     "output_type": "execute_result"
    }
   ],
   "source": [
    "all_filter1"
   ]
  },
  {
   "cell_type": "markdown",
   "metadata": {
    "deletable": true,
    "editable": true
   },
   "source": [
    "## Build outputfile"
   ]
  },
  {
   "cell_type": "code",
   "execution_count": 30,
   "metadata": {
    "collapsed": false,
    "deletable": true,
    "editable": true
   },
   "outputs": [],
   "source": [
    "col_airmass=np.array(all_airmass)\n",
    "col_number=np.array(indexes_files)\n",
    "col_date=np.array(all_dates)\n",
    "col_filename=np.array(filelist_all)\n",
    "col_exposure=np.array(all_exposures)\n",
    "col_zenith=np.array(all_zenith)\n",
    "col_altitude=np.array(all_alt)\n",
    "col_temperature=np.array(all_temp)\n",
    "col_pressure=np.array(all_press)\n",
    "col_humidity=np.array(all_hum)\n",
    "col_windsp=np.array(all_windsp)\n",
    "col_seeing=np.array(all_seeing)\n",
    "col_filter1=np.array(all_filter1)\n",
    "col_filter2=np.array(all_filter2)"
   ]
  },
  {
   "cell_type": "code",
   "execution_count": 31,
   "metadata": {
    "collapsed": false,
    "deletable": true,
    "editable": true
   },
   "outputs": [],
   "source": [
    "c1 = fits.Column(name='number', format='J', array=col_number)\n",
    "c2 = fits.Column(name='airmass', format='E', array=col_airmass)\n",
    "c3 = fits.Column(name='date', format='A50', array=col_date)\n",
    "c4 = fits.Column(name='filename', format='A30', array=sorted_filenames)\n",
    "c5 = fits.Column(name='exposure', format='E', array=col_exposure) \n",
    "c6 = fits.Column(name='zenith', format='E', array=col_zenith) \n",
    "#c7 = fits.Column(name='altitude', format='E', array=col_altitude) \n",
    "c8 = fits.Column(name='temperature', format='E', array=col_temperature) \n",
    "c9 = fits.Column(name='pressure', format='E', array=col_pressure) \n",
    "c10 = fits.Column(name='humidity', format='E', array=col_humidity) \n",
    "c11 = fits.Column(name='windspeed', format='E', array=col_windsp) \n",
    "c12 = fits.Column(name='seeing', format='E', array=col_seeing) \n",
    "c13 = fits.Column(name='filter1', format='A20', array=col_filter1)\n",
    "c14 = fits.Column(name='filter2', format='A20', array=col_filter2) "
   ]
  },
  {
   "cell_type": "code",
   "execution_count": 32,
   "metadata": {
    "collapsed": true,
    "deletable": true,
    "editable": true
   },
   "outputs": [],
   "source": [
    "tbhdu = fits.BinTableHDU.from_columns([c1, c2, c3, c4, c5,c6,c8,c9,c10,c11,c12,c13,c14])"
   ]
  },
  {
   "cell_type": "code",
   "execution_count": 33,
   "metadata": {
    "collapsed": false,
    "deletable": true,
    "editable": true
   },
   "outputs": [],
   "source": [
    "tbhdu.writeto(logfile,overwrite=True)"
   ]
  },
  {
   "cell_type": "markdown",
   "metadata": {
    "deletable": true,
    "editable": true
   },
   "source": [
    "## Convert into Table\n",
    "---------------------------"
   ]
  },
  {
   "cell_type": "code",
   "execution_count": 34,
   "metadata": {
    "collapsed": false,
    "deletable": true,
    "editable": true
   },
   "outputs": [],
   "source": [
    "thetable= Table(tbhdu.data)"
   ]
  },
  {
   "cell_type": "code",
   "execution_count": 35,
   "metadata": {
    "collapsed": false,
    "deletable": true,
    "editable": true
   },
   "outputs": [
    {
     "data": {
      "text/html": [
       "&lt;Table length=142&gt;\n",
       "<table id=\"table4643616528-660950\" class=\"table-striped table-bordered table-condensed\">\n",
       "<thead><tr><th>idx</th><th>number</th><th>airmass</th><th>date</th><th>filename</th><th>exposure</th><th>zenith</th><th>temperature</th><th>pressure</th><th>humidity</th><th>windspeed</th><th>seeing</th><th>filter1</th><th>filter2</th></tr></thead>\n",
       "<tr><td>0</td><td>58</td><td>1.051</td><td>2017-05-31T00:02:18.596</td><td>../OverScanRemove/trim_images/</td><td>60.0</td><td>17.969</td><td>9.3</td><td>783.0</td><td>26.0</td><td>5.5</td><td>0.94</td><td>dia</td><td>Thor300</td></tr>\n",
       "<tr><td>1</td><td>59</td><td>1.049</td><td>2017-05-31T00:04:09.003</td><td>../OverScanRemove/trim_images/</td><td>10.0</td><td>17.608</td><td>9.2</td><td>783.0</td><td>26.0</td><td>4.6</td><td>1.006</td><td>dia</td><td>Thor300</td></tr>\n",
       "<tr><td>2</td><td>60</td><td>1.047</td><td>2017-05-31T00:06:14.000</td><td>../OverScanRemove/trim_images/</td><td>60.0</td><td>17.255</td><td>9.1</td><td>783.0</td><td>26.0</td><td>5.7</td><td>1.018</td><td>dia</td><td>Ron400</td></tr>\n",
       "<tr><td>3</td><td>61</td><td>1.045</td><td>2017-05-31T00:08:06.454</td><td>../OverScanRemove/trim_images/</td><td>60.0</td><td>16.942</td><td>9.2</td><td>783.0</td><td>26.0</td><td>5.5</td><td>0.939</td><td>dia</td><td>Thor300</td></tr>\n",
       "<tr><td>4</td><td>62</td><td>1.044</td><td>2017-05-31T00:09:58.852</td><td>../OverScanRemove/trim_images/</td><td>60.0</td><td>16.634</td><td>9.1</td><td>783.0</td><td>26.0</td><td>5.8</td><td>0.846</td><td>dia</td><td>HoloPhP</td></tr>\n",
       "<tr><td>5</td><td>63</td><td>1.042</td><td>2017-05-31T00:11:51.243</td><td>../OverScanRemove/trim_images/</td><td>120.0</td><td>16.332</td><td>8.9</td><td>783.0</td><td>26.0</td><td>5.4</td><td>0.83</td><td>dia</td><td>HoloPhAg</td></tr>\n",
       "<tr><td>6</td><td>64</td><td>1.04</td><td>2017-05-31T00:14:43.647</td><td>../OverScanRemove/trim_images/</td><td>120.0</td><td>15.879</td><td>8.9</td><td>783.0</td><td>26.0</td><td>5.3</td><td>0.74</td><td>dia</td><td>HoloAmAg</td></tr>\n",
       "<tr><td>7</td><td>65</td><td>1.037</td><td>2017-05-31T00:17:36.001</td><td>../OverScanRemove/trim_images/</td><td>60.0</td><td>15.441</td><td>8.8</td><td>783.0</td><td>26.0</td><td>5.4</td><td>0.771</td><td>dia</td><td>Ron400</td></tr>\n",
       "<tr><td>8</td><td>66</td><td>1.036</td><td>2017-05-31T00:19:28.503</td><td>../OverScanRemove/trim_images/</td><td>60.0</td><td>15.163</td><td>8.8</td><td>783.0</td><td>26.0</td><td>4.8</td><td>0.715</td><td>dia</td><td>Thor300</td></tr>\n",
       "<tr><td>9</td><td>67</td><td>1.035</td><td>2017-05-31T00:21:20.951</td><td>../OverScanRemove/trim_images/</td><td>60.0</td><td>14.892</td><td>8.7</td><td>783.0</td><td>26.0</td><td>4.6</td><td>0.954</td><td>dia</td><td>HoloPhP</td></tr>\n",
       "<tr><td>10</td><td>68</td><td>1.033</td><td>2017-05-31T00:23:13.357</td><td>../OverScanRemove/trim_images/</td><td>120.0</td><td>14.629</td><td>8.6</td><td>783.0</td><td>26.0</td><td>4.4</td><td>0.714</td><td>dia</td><td>HoloPhAg</td></tr>\n",
       "<tr><td>11</td><td>69</td><td>1.032</td><td>2017-05-31T00:26:05.798</td><td>../OverScanRemove/trim_images/</td><td>120.0</td><td>14.241</td><td>8.7</td><td>783.0</td><td>26.0</td><td>4.4</td><td>0.714</td><td>dia</td><td>HoloAmAg</td></tr>\n",
       "<tr><td>12</td><td>70</td><td>1.03</td><td>2017-05-31T00:28:58.154</td><td>../OverScanRemove/trim_images/</td><td>60.0</td><td>13.872</td><td>8.7</td><td>783.0</td><td>26.0</td><td>4.0</td><td>0.82</td><td>dia</td><td>Ron400</td></tr>\n",
       "<tr><td>13</td><td>71</td><td>1.029</td><td>2017-05-31T00:30:50.597</td><td>../OverScanRemove/trim_images/</td><td>60.0</td><td>13.644</td><td>8.6</td><td>783.0</td><td>26.0</td><td>3.9</td><td>0.843</td><td>dia</td><td>Thor300</td></tr>\n",
       "<tr><td>14</td><td>72</td><td>1.028</td><td>2017-05-31T00:32:43.005</td><td>../OverScanRemove/trim_images/</td><td>60.0</td><td>13.425</td><td>8.6</td><td>783.0</td><td>26.0</td><td>4.1</td><td>0.741</td><td>dia</td><td>HoloPhP</td></tr>\n",
       "<tr><td>15</td><td>73</td><td>1.027</td><td>2017-05-31T00:34:35.343</td><td>../OverScanRemove/trim_images/</td><td>120.0</td><td>13.216</td><td>8.5</td><td>783.0</td><td>27.0</td><td>4.3</td><td>0.744</td><td>dia</td><td>HoloPhAg</td></tr>\n",
       "<tr><td>16</td><td>74</td><td>1.026</td><td>2017-05-31T00:37:27.804</td><td>../OverScanRemove/trim_images/</td><td>120.0</td><td>12.916</td><td>8.6</td><td>783.0</td><td>27.0</td><td>4.4</td><td>0.821</td><td>dia</td><td>HoloAmAg</td></tr>\n",
       "<tr><td>17</td><td>75</td><td>1.025</td><td>2017-05-31T00:40:20.202</td><td>../OverScanRemove/trim_images/</td><td>60.0</td><td>12.643</td><td>8.6</td><td>783.0</td><td>26.0</td><td>4.8</td><td>0.856</td><td>dia</td><td>Ron400</td></tr>\n",
       "<tr><td>18</td><td>76</td><td>1.024</td><td>2017-05-31T00:42:12.549</td><td>../OverScanRemove/trim_images/</td><td>60.0</td><td>12.481</td><td>8.6</td><td>783.0</td><td>26.0</td><td>4.0</td><td>0.71</td><td>dia</td><td>Thor300</td></tr>\n",
       "<tr><td>19</td><td>77</td><td>1.024</td><td>2017-05-31T00:44:04.958</td><td>../OverScanRemove/trim_images/</td><td>60.0</td><td>12.331</td><td>8.6</td><td>783.0</td><td>26.0</td><td>4.6</td><td>0.785</td><td>dia</td><td>HoloPhP</td></tr>\n",
       "<tr><td>20</td><td>78</td><td>1.023</td><td>2017-05-31T00:45:57.400</td><td>../OverScanRemove/trim_images/</td><td>120.0</td><td>12.194</td><td>8.6</td><td>783.0</td><td>26.0</td><td>4.5</td><td>0.708</td><td>dia</td><td>HoloPhAg</td></tr>\n",
       "<tr><td>21</td><td>79</td><td>1.022</td><td>2017-05-31T00:48:49.851</td><td>../OverScanRemove/trim_images/</td><td>120.0</td><td>12.01</td><td>8.6</td><td>783.0</td><td>26.0</td><td>4.4</td><td>0.704</td><td>dia</td><td>HoloAmAg</td></tr>\n",
       "<tr><td>22</td><td>80</td><td>1.022</td><td>2017-05-31T00:51:42.249</td><td>../OverScanRemove/trim_images/</td><td>60.0</td><td>11.86</td><td>8.5</td><td>783.0</td><td>26.0</td><td>4.4</td><td>0.711</td><td>dia</td><td>Ron400</td></tr>\n",
       "<tr><td>23</td><td>81</td><td>1.021</td><td>2017-05-31T00:53:34.704</td><td>../OverScanRemove/trim_images/</td><td>60.0</td><td>11.78</td><td>8.6</td><td>783.0</td><td>26.0</td><td>4.3</td><td>0.719</td><td>dia</td><td>Thor300</td></tr>\n",
       "<tr><td>24</td><td>82</td><td>1.021</td><td>2017-05-31T00:55:27.048</td><td>../OverScanRemove/trim_images/</td><td>60.0</td><td>11.716</td><td>8.8</td><td>783.0</td><td>26.0</td><td>3.6</td><td>0.728</td><td>dia</td><td>HoloPhP</td></tr>\n",
       "<tr><td>25</td><td>83</td><td>1.021</td><td>2017-05-31T00:57:20.103</td><td>../OverScanRemove/trim_images/</td><td>120.0</td><td>11.666</td><td>8.9</td><td>783.0</td><td>25.0</td><td>3.6</td><td>0.731</td><td>dia</td><td>HoloPhAg</td></tr>\n",
       "<tr><td>26</td><td>84</td><td>1.021</td><td>2017-05-31T01:00:12.403</td><td>../OverScanRemove/trim_images/</td><td>120.0</td><td>11.621</td><td>9.0</td><td>783.0</td><td>25.0</td><td>2.9</td><td>0.713</td><td>dia</td><td>HoloAmAg</td></tr>\n",
       "<tr><td>27</td><td>85</td><td>1.021</td><td>2017-05-31T01:03:04.652</td><td>../OverScanRemove/trim_images/</td><td>60.0</td><td>11.612</td><td>9.0</td><td>783.0</td><td>25.0</td><td>3.7</td><td>0.638</td><td>dia</td><td>Ron400</td></tr>\n",
       "<tr><td>28</td><td>86</td><td>1.021</td><td>2017-05-31T01:04:56.895</td><td>../OverScanRemove/trim_images/</td><td>60.0</td><td>11.627</td><td>9.0</td><td>783.0</td><td>25.0</td><td>3.7</td><td>0.629</td><td>dia</td><td>Thor300</td></tr>\n",
       "<tr><td>29</td><td>87</td><td>1.021</td><td>2017-05-31T01:06:49.302</td><td>../OverScanRemove/trim_images/</td><td>60.0</td><td>11.656</td><td>9.0</td><td>783.0</td><td>25.0</td><td>3.8</td><td>0.629</td><td>dia</td><td>HoloPhP</td></tr>\n",
       "<tr><td>30</td><td>88</td><td>1.021</td><td>2017-05-31T01:08:41.703</td><td>../OverScanRemove/trim_images/</td><td>120.0</td><td>11.702</td><td>9.1</td><td>783.0</td><td>25.0</td><td>4.3</td><td>0.629</td><td>dia</td><td>HoloPhAg</td></tr>\n",
       "<tr><td>31</td><td>89</td><td>1.022</td><td>2017-05-31T01:11:34.149</td><td>../OverScanRemove/trim_images/</td><td>120.0</td><td>11.801</td><td>8.9</td><td>783.0</td><td>25.0</td><td>3.6</td><td>0.71</td><td>dia</td><td>HoloAmAg</td></tr>\n",
       "<tr><td>32</td><td>90</td><td>1.022</td><td>2017-05-31T01:14:26.602</td><td>../OverScanRemove/trim_images/</td><td>60.0</td><td>11.935</td><td>8.8</td><td>783.0</td><td>25.0</td><td>3.1</td><td>0.694</td><td>dia</td><td>Ron400</td></tr>\n",
       "<tr><td>33</td><td>91</td><td>1.022</td><td>2017-05-31T01:16:18.994</td><td>../OverScanRemove/trim_images/</td><td>60.0</td><td>12.041</td><td>8.9</td><td>783.0</td><td>25.0</td><td>4.0</td><td>0.648</td><td>dia</td><td>Thor300</td></tr>\n",
       "<tr><td>34</td><td>92</td><td>1.023</td><td>2017-05-31T01:18:11.254</td><td>../OverScanRemove/trim_images/</td><td>60.0</td><td>12.161</td><td>9.1</td><td>783.0</td><td>25.0</td><td>3.6</td><td>0.715</td><td>dia</td><td>HoloPhP</td></tr>\n",
       "<tr><td>35</td><td>93</td><td>1.023</td><td>2017-05-31T01:20:03.652</td><td>../OverScanRemove/trim_images/</td><td>120.0</td><td>12.294</td><td>9.2</td><td>783.0</td><td>24.0</td><td>3.8</td><td>0.56</td><td>dia</td><td>HoloPhAg</td></tr>\n",
       "<tr><td>36</td><td>94</td><td>1.024</td><td>2017-05-31T01:22:56.053</td><td>../OverScanRemove/trim_images/</td><td>120.0</td><td>12.524</td><td>9.0</td><td>783.0</td><td>24.0</td><td>2.5</td><td>0.594</td><td>dia</td><td>HoloAmAg</td></tr>\n",
       "<tr><td>37</td><td>95</td><td>1.025</td><td>2017-05-31T01:25:48.456</td><td>../OverScanRemove/trim_images/</td><td>60.0</td><td>12.784</td><td>9.1</td><td>783.0</td><td>24.0</td><td>1.6</td><td>0.61</td><td>dia</td><td>Ron400</td></tr>\n",
       "<tr><td>38</td><td>96</td><td>1.026</td><td>2017-05-31T01:27:40.907</td><td>../OverScanRemove/trim_images/</td><td>60.0</td><td>12.968</td><td>9.2</td><td>783.0</td><td>24.0</td><td>3.4</td><td>0.648</td><td>dia</td><td>Thor300</td></tr>\n",
       "<tr><td>39</td><td>97</td><td>1.027</td><td>2017-05-31T01:29:33.252</td><td>../OverScanRemove/trim_images/</td><td>60.0</td><td>13.164</td><td>9.2</td><td>783.0</td><td>24.0</td><td>3.6</td><td>0.629</td><td>dia</td><td>HoloPhP</td></tr>\n",
       "<tr><td>40</td><td>98</td><td>1.028</td><td>2017-05-31T01:31:25.704</td><td>../OverScanRemove/trim_images/</td><td>120.0</td><td>13.37</td><td>9.1</td><td>783.0</td><td>24.0</td><td>3.2</td><td>0.62</td><td>dia</td><td>HoloPhAg</td></tr>\n",
       "<tr><td>41</td><td>99</td><td>1.029</td><td>2017-05-31T01:34:18.110</td><td>../OverScanRemove/trim_images/</td><td>120.0</td><td>13.706</td><td>8.9</td><td>783.0</td><td>24.0</td><td>2.7</td><td>0.584</td><td>dia</td><td>HoloAmAg</td></tr>\n",
       "<tr><td>42</td><td>100</td><td>1.031</td><td>2017-05-31T01:37:10.450</td><td>../OverScanRemove/trim_images/</td><td>60.0</td><td>14.064</td><td>8.8</td><td>783.0</td><td>24.0</td><td>3.1</td><td>0.641</td><td>dia</td><td>Ron400</td></tr>\n",
       "<tr><td>43</td><td>101</td><td>1.032</td><td>2017-05-31T01:39:02.849</td><td>../OverScanRemove/trim_images/</td><td>60.0</td><td>14.309</td><td>8.7</td><td>783.0</td><td>24.0</td><td>2.9</td><td>0.608</td><td>dia</td><td>Thor300</td></tr>\n",
       "<tr><td>44</td><td>102</td><td>1.033</td><td>2017-05-31T01:40:55.300</td><td>../OverScanRemove/trim_images/</td><td>60.0</td><td>14.562</td><td>8.7</td><td>783.0</td><td>25.0</td><td>3.8</td><td>0.583</td><td>dia</td><td>HoloPhP</td></tr>\n",
       "<tr><td>45</td><td>103</td><td>1.034</td><td>2017-05-31T01:42:47.651</td><td>../OverScanRemove/trim_images/</td><td>120.0</td><td>14.823</td><td>8.7</td><td>783.0</td><td>24.0</td><td>2.0</td><td>0.67</td><td>dia</td><td>HoloPhAg</td></tr>\n",
       "<tr><td>46</td><td>104</td><td>1.036</td><td>2017-05-31T01:45:40.055</td><td>../OverScanRemove/trim_images/</td><td>120.0</td><td>15.239</td><td>8.7</td><td>784.0</td><td>24.0</td><td>3.9</td><td>0.641</td><td>dia</td><td>HoloAmAg</td></tr>\n",
       "<tr><td>47</td><td>105</td><td>1.039</td><td>2017-05-31T01:48:32.450</td><td>../OverScanRemove/trim_images/</td><td>60.0</td><td>15.67</td><td>8.8</td><td>783.0</td><td>25.0</td><td>5.1</td><td>0.659</td><td>dia</td><td>Ron400</td></tr>\n",
       "<tr><td>48</td><td>106</td><td>1.04</td><td>2017-05-31T01:50:24.845</td><td>../OverScanRemove/trim_images/</td><td>60.0</td><td>15.959</td><td>8.9</td><td>783.0</td><td>25.0</td><td>5.3</td><td>0.625</td><td>dia</td><td>Thor300</td></tr>\n",
       "<tr><td>49</td><td>107</td><td>1.042</td><td>2017-05-31T01:52:17.202</td><td>../OverScanRemove/trim_images/</td><td>60.0</td><td>16.254</td><td>8.9</td><td>784.0</td><td>25.0</td><td>5.1</td><td>0.711</td><td>dia</td><td>HoloPhP</td></tr>\n",
       "<tr><td>50</td><td>108</td><td>1.043</td><td>2017-05-31T01:54:09.558</td><td>../OverScanRemove/trim_images/</td><td>120.0</td><td>16.555</td><td>9.0</td><td>784.0</td><td>24.0</td><td>5.8</td><td>0.834</td><td>dia</td><td>HoloPhAg</td></tr>\n",
       "<tr><td>51</td><td>109</td><td>1.046</td><td>2017-05-31T01:57:01.949</td><td>../OverScanRemove/trim_images/</td><td>120.0</td><td>17.027</td><td>8.9</td><td>784.0</td><td>24.0</td><td>6.2</td><td>0.991</td><td>dia</td><td>HoloAmAg</td></tr>\n",
       "<tr><td>52</td><td>110</td><td>1.048</td><td>2017-05-31T01:59:54.406</td><td>../OverScanRemove/trim_images/</td><td>60.0</td><td>17.511</td><td>8.8</td><td>783.0</td><td>24.0</td><td>6.3</td><td>0.806</td><td>dia</td><td>Ron400</td></tr>\n",
       "<tr><td>53</td><td>111</td><td>1.05</td><td>2017-05-31T02:01:46.804</td><td>../OverScanRemove/trim_images/</td><td>60.0</td><td>17.832</td><td>8.8</td><td>784.0</td><td>24.0</td><td>6.3</td><td>0.793</td><td>dia</td><td>Thor300</td></tr>\n",
       "<tr><td>54</td><td>112</td><td>1.052</td><td>2017-05-31T02:03:39.203</td><td>../OverScanRemove/trim_images/</td><td>60.0</td><td>18.157</td><td>8.7</td><td>784.0</td><td>24.0</td><td>6.7</td><td>0.784</td><td>dia</td><td>HoloPhP</td></tr>\n",
       "<tr><td>55</td><td>113</td><td>1.054</td><td>2017-05-31T02:05:31.550</td><td>../OverScanRemove/trim_images/</td><td>120.0</td><td>18.486</td><td>8.8</td><td>784.0</td><td>24.0</td><td>6.5</td><td>0.813</td><td>dia</td><td>HoloPhAg</td></tr>\n",
       "<tr><td>56</td><td>114</td><td>1.057</td><td>2017-05-31T02:08:24.103</td><td>../OverScanRemove/trim_images/</td><td>120.0</td><td>19.0</td><td>8.7</td><td>784.0</td><td>24.0</td><td>6.2</td><td>0.797</td><td>dia</td><td>HoloAmAg</td></tr>\n",
       "<tr><td>57</td><td>115</td><td>1.061</td><td>2017-05-31T02:11:16.451</td><td>../OverScanRemove/trim_images/</td><td>60.0</td><td>19.52</td><td>8.7</td><td>784.0</td><td>24.0</td><td>6.3</td><td>0.839</td><td>dia</td><td>Ron400</td></tr>\n",
       "<tr><td>58</td><td>116</td><td>1.063</td><td>2017-05-31T02:13:08.850</td><td>../OverScanRemove/trim_images/</td><td>60.0</td><td>19.864</td><td>8.8</td><td>784.0</td><td>24.0</td><td>6.2</td><td>0.746</td><td>dia</td><td>Thor300</td></tr>\n",
       "<tr><td>59</td><td>117</td><td>1.065</td><td>2017-05-31T02:15:01.307</td><td>../OverScanRemove/trim_images/</td><td>60.0</td><td>20.211</td><td>8.8</td><td>784.0</td><td>24.0</td><td>5.8</td><td>0.685</td><td>dia</td><td>HoloPhP</td></tr>\n",
       "<tr><td>60</td><td>118</td><td>1.068</td><td>2017-05-31T02:16:53.803</td><td>../OverScanRemove/trim_images/</td><td>120.0</td><td>20.561</td><td>8.8</td><td>783.0</td><td>24.0</td><td>6.3</td><td>0.763</td><td>dia</td><td>HoloPhAg</td></tr>\n",
       "<tr><td>61</td><td>119</td><td>1.072</td><td>2017-05-31T02:19:46.250</td><td>../OverScanRemove/trim_images/</td><td>120.0</td><td>21.103</td><td>8.7</td><td>784.0</td><td>24.0</td><td>5.6</td><td>1.008</td><td>dia</td><td>HoloAmAg</td></tr>\n",
       "<tr><td>62</td><td>120</td><td>1.076</td><td>2017-05-31T02:22:38.702</td><td>../OverScanRemove/trim_images/</td><td>60.0</td><td>21.651</td><td>8.6</td><td>784.0</td><td>25.0</td><td>5.0</td><td>1.083</td><td>dia</td><td>Ron400</td></tr>\n",
       "<tr><td>63</td><td>121</td><td>1.078</td><td>2017-05-31T02:24:31.054</td><td>../OverScanRemove/trim_images/</td><td>60.0</td><td>22.011</td><td>8.5</td><td>784.0</td><td>25.0</td><td>4.3</td><td>1.154</td><td>dia</td><td>Thor300</td></tr>\n",
       "<tr><td>64</td><td>122</td><td>1.081</td><td>2017-05-31T02:26:23.400</td><td>../OverScanRemove/trim_images/</td><td>60.0</td><td>22.373</td><td>8.5</td><td>784.0</td><td>25.0</td><td>5.6</td><td>1.008</td><td>dia</td><td>HoloPhP</td></tr>\n",
       "<tr><td>65</td><td>123</td><td>1.084</td><td>2017-05-31T02:28:15.853</td><td>../OverScanRemove/trim_images/</td><td>120.0</td><td>22.738</td><td>8.6</td><td>783.0</td><td>25.0</td><td>3.8</td><td>0.939</td><td>dia</td><td>HoloPhAg</td></tr>\n",
       "<tr><td>66</td><td>124</td><td>1.089</td><td>2017-05-31T02:31:08.146</td><td>../OverScanRemove/trim_images/</td><td>120.0</td><td>23.3</td><td>8.5</td><td>783.0</td><td>25.0</td><td>4.1</td><td>0.814</td><td>dia</td><td>HoloAmAg</td></tr>\n",
       "<tr><td>67</td><td>125</td><td>1.093</td><td>2017-05-31T02:34:00.554</td><td>../OverScanRemove/trim_images/</td><td>60.0</td><td>23.868</td><td>8.4</td><td>784.0</td><td>25.0</td><td>4.6</td><td>0.859</td><td>dia</td><td>Ron400</td></tr>\n",
       "<tr><td>68</td><td>126</td><td>1.096</td><td>2017-05-31T02:35:53.000</td><td>../OverScanRemove/trim_images/</td><td>60.0</td><td>24.24</td><td>8.4</td><td>783.0</td><td>25.0</td><td>3.6</td><td>0.846</td><td>dia</td><td>Thor300</td></tr>\n",
       "<tr><td>69</td><td>127</td><td>1.1</td><td>2017-05-31T02:37:45.353</td><td>../OverScanRemove/trim_images/</td><td>60.0</td><td>24.614</td><td>8.6</td><td>783.0</td><td>25.0</td><td>3.1</td><td>0.757</td><td>dia</td><td>HoloPhP</td></tr>\n",
       "<tr><td>70</td><td>128</td><td>1.103</td><td>2017-05-31T02:39:37.754</td><td>../OverScanRemove/trim_images/</td><td>120.0</td><td>24.989</td><td>8.5</td><td>783.0</td><td>25.0</td><td>3.0</td><td>0.918</td><td>dia</td><td>HoloPhAg</td></tr>\n",
       "<tr><td>71</td><td>129</td><td>1.108</td><td>2017-05-31T02:42:30.150</td><td>../OverScanRemove/trim_images/</td><td>120.0</td><td>25.568</td><td>8.5</td><td>783.0</td><td>25.0</td><td>3.4</td><td>0.762</td><td>dia</td><td>HoloAmAg</td></tr>\n",
       "<tr><td>72</td><td>130</td><td>1.114</td><td>2017-05-31T02:45:22.598</td><td>../OverScanRemove/trim_images/</td><td>60.0</td><td>26.15</td><td>8.5</td><td>784.0</td><td>25.0</td><td>3.8</td><td>0.593</td><td>dia</td><td>Ron400</td></tr>\n",
       "<tr><td>73</td><td>131</td><td>1.117</td><td>2017-05-31T02:47:15.004</td><td>../OverScanRemove/trim_images/</td><td>60.0</td><td>26.531</td><td>8.7</td><td>784.0</td><td>25.0</td><td>3.8</td><td>0.688</td><td>dia</td><td>Thor300</td></tr>\n",
       "<tr><td>74</td><td>132</td><td>1.121</td><td>2017-05-31T02:49:07.454</td><td>../OverScanRemove/trim_images/</td><td>60.0</td><td>26.913</td><td>8.6</td><td>784.0</td><td>25.0</td><td>3.4</td><td>0.653</td><td>dia</td><td>HoloPhP</td></tr>\n",
       "<tr><td>75</td><td>133</td><td>1.125</td><td>2017-05-31T02:50:59.856</td><td>../OverScanRemove/trim_images/</td><td>120.0</td><td>27.297</td><td>8.7</td><td>784.0</td><td>25.0</td><td>3.6</td><td>0.657</td><td>dia</td><td>HoloPhAg</td></tr>\n",
       "<tr><td>76</td><td>134</td><td>1.131</td><td>2017-05-31T02:53:52.356</td><td>../OverScanRemove/trim_images/</td><td>120.0</td><td>27.887</td><td>8.6</td><td>784.0</td><td>25.0</td><td>3.8</td><td>0.65</td><td>dia</td><td>HoloAmAg</td></tr>\n",
       "<tr><td>77</td><td>135</td><td>1.137</td><td>2017-05-31T02:56:44.604</td><td>../OverScanRemove/trim_images/</td><td>60.0</td><td>28.48</td><td>8.7</td><td>784.0</td><td>25.0</td><td>3.8</td><td>0.596</td><td>dia</td><td>Ron400</td></tr>\n",
       "<tr><td>78</td><td>136</td><td>1.142</td><td>2017-05-31T02:58:37.046</td><td>../OverScanRemove/trim_images/</td><td>60.0</td><td>28.868</td><td>8.6</td><td>784.0</td><td>25.0</td><td>3.8</td><td>0.672</td><td>dia</td><td>Thor300</td></tr>\n",
       "<tr><td>79</td><td>137</td><td>1.146</td><td>2017-05-31T03:00:29.395</td><td>../OverScanRemove/trim_images/</td><td>60.0</td><td>29.256</td><td>8.6</td><td>784.0</td><td>25.0</td><td>3.7</td><td>0.775</td><td>dia</td><td>HoloPhP</td></tr>\n",
       "<tr><td>80</td><td>138</td><td>1.15</td><td>2017-05-31T03:02:21.799</td><td>../OverScanRemove/trim_images/</td><td>120.0</td><td>29.645</td><td>8.5</td><td>784.0</td><td>25.0</td><td>3.5</td><td>0.729</td><td>dia</td><td>HoloPhAg</td></tr>\n",
       "<tr><td>81</td><td>139</td><td>1.157</td><td>2017-05-31T03:05:14.257</td><td>../OverScanRemove/trim_images/</td><td>120.0</td><td>30.245</td><td>8.6</td><td>784.0</td><td>25.0</td><td>2.9</td><td>0.674</td><td>dia</td><td>HoloAmAg</td></tr>\n",
       "<tr><td>82</td><td>140</td><td>1.164</td><td>2017-05-31T03:08:06.694</td><td>../OverScanRemove/trim_images/</td><td>60.0</td><td>30.846</td><td>8.6</td><td>783.0</td><td>25.0</td><td>2.7</td><td>0.629</td><td>dia</td><td>Ron400</td></tr>\n",
       "<tr><td>83</td><td>141</td><td>1.169</td><td>2017-05-31T03:09:59.102</td><td>../OverScanRemove/trim_images/</td><td>60.0</td><td>31.239</td><td>8.7</td><td>783.0</td><td>25.0</td><td>2.8</td><td>0.656</td><td>dia</td><td>Thor300</td></tr>\n",
       "<tr><td>84</td><td>142</td><td>1.174</td><td>2017-05-31T03:11:51.499</td><td>../OverScanRemove/trim_images/</td><td>60.0</td><td>31.632</td><td>8.7</td><td>783.0</td><td>25.0</td><td>2.9</td><td>0.857</td><td>dia</td><td>HoloPhP</td></tr>\n",
       "<tr><td>85</td><td>143</td><td>1.179</td><td>2017-05-31T03:13:43.901</td><td>../OverScanRemove/trim_images/</td><td>120.0</td><td>32.026</td><td>8.7</td><td>783.0</td><td>25.0</td><td>3.4</td><td>0.81</td><td>dia</td><td>HoloPhAg</td></tr>\n",
       "<tr><td>86</td><td>144</td><td>1.187</td><td>2017-05-31T03:16:36.354</td><td>../OverScanRemove/trim_images/</td><td>120.0</td><td>32.633</td><td>8.7</td><td>783.0</td><td>25.0</td><td>4.0</td><td>0.647</td><td>dia</td><td>HoloAmAg</td></tr>\n",
       "<tr><td>87</td><td>145</td><td>1.195</td><td>2017-05-31T03:19:28.847</td><td>../OverScanRemove/trim_images/</td><td>60.0</td><td>33.24</td><td>8.6</td><td>783.0</td><td>25.0</td><td>4.1</td><td>0.719</td><td>dia</td><td>Ron400</td></tr>\n",
       "<tr><td>88</td><td>146</td><td>1.201</td><td>2017-05-31T03:21:21.249</td><td>../OverScanRemove/trim_images/</td><td>60.0</td><td>33.637</td><td>8.5</td><td>783.0</td><td>25.0</td><td>4.4</td><td>0.688</td><td>dia</td><td>Thor300</td></tr>\n",
       "<tr><td>89</td><td>147</td><td>1.206</td><td>2017-05-31T03:23:13.706</td><td>../OverScanRemove/trim_images/</td><td>60.0</td><td>34.034</td><td>8.5</td><td>783.0</td><td>25.0</td><td>4.1</td><td>0.756</td><td>dia</td><td>HoloPhP</td></tr>\n",
       "<tr><td>90</td><td>148</td><td>1.212</td><td>2017-05-31T03:25:06.097</td><td>../OverScanRemove/trim_images/</td><td>120.0</td><td>34.431</td><td>8.6</td><td>783.0</td><td>25.0</td><td>4.6</td><td>0.8</td><td>dia</td><td>HoloPhAg</td></tr>\n",
       "<tr><td>91</td><td>149</td><td>1.221</td><td>2017-05-31T03:27:58.604</td><td>../OverScanRemove/trim_images/</td><td>120.0</td><td>35.043</td><td>8.6</td><td>783.0</td><td>25.0</td><td>4.8</td><td>0.737</td><td>dia</td><td>HoloAmAg</td></tr>\n",
       "<tr><td>92</td><td>150</td><td>1.23</td><td>2017-05-31T03:30:51.104</td><td>../OverScanRemove/trim_images/</td><td>60.0</td><td>35.655</td><td>8.7</td><td>783.0</td><td>25.0</td><td>4.7</td><td>0.831</td><td>dia</td><td>Ron400</td></tr>\n",
       "<tr><td>93</td><td>151</td><td>1.236</td><td>2017-05-31T03:32:43.494</td><td>../OverScanRemove/trim_images/</td><td>60.0</td><td>36.055</td><td>8.7</td><td>783.0</td><td>25.0</td><td>4.7</td><td>0.744</td><td>dia</td><td>Thor300</td></tr>\n",
       "<tr><td>94</td><td>152</td><td>1.243</td><td>2017-05-31T03:34:35.800</td><td>../OverScanRemove/trim_images/</td><td>60.0</td><td>36.454</td><td>8.7</td><td>783.0</td><td>25.0</td><td>4.6</td><td>0.597</td><td>dia</td><td>HoloPhP</td></tr>\n",
       "<tr><td>95</td><td>153</td><td>1.249</td><td>2017-05-31T03:36:28.302</td><td>../OverScanRemove/trim_images/</td><td>120.0</td><td>36.855</td><td>8.6</td><td>783.0</td><td>25.0</td><td>4.4</td><td>0.544</td><td>dia</td><td>HoloPhAg</td></tr>\n",
       "<tr><td>96</td><td>154</td><td>1.259</td><td>2017-05-31T03:39:20.803</td><td>../OverScanRemove/trim_images/</td><td>120.0</td><td>37.47</td><td>8.6</td><td>783.0</td><td>25.0</td><td>4.7</td><td>0.564</td><td>dia</td><td>HoloAmAg</td></tr>\n",
       "<tr><td>97</td><td>155</td><td>1.27</td><td>2017-05-31T03:42:13.201</td><td>../OverScanRemove/trim_images/</td><td>60.0</td><td>38.085</td><td>8.6</td><td>783.0</td><td>25.0</td><td>4.6</td><td>0.588</td><td>dia</td><td>Ron400</td></tr>\n",
       "<tr><td>98</td><td>156</td><td>1.277</td><td>2017-05-31T03:44:05.652</td><td>../OverScanRemove/trim_images/</td><td>60.0</td><td>38.488</td><td>8.6</td><td>783.0</td><td>25.0</td><td>4.5</td><td>0.587</td><td>dia</td><td>Thor300</td></tr>\n",
       "<tr><td>99</td><td>157</td><td>1.284</td><td>2017-05-31T03:45:58.050</td><td>../OverScanRemove/trim_images/</td><td>60.0</td><td>38.89</td><td>8.6</td><td>783.0</td><td>25.0</td><td>4.4</td><td>0.67</td><td>dia</td><td>HoloPhP</td></tr>\n",
       "<tr><td>100</td><td>158</td><td>1.291</td><td>2017-05-31T03:47:50.449</td><td>../OverScanRemove/trim_images/</td><td>120.0</td><td>39.291</td><td>8.5</td><td>783.0</td><td>25.0</td><td>4.5</td><td>0.647</td><td>dia</td><td>HoloPhAg</td></tr>\n",
       "<tr><td>101</td><td>159</td><td>1.303</td><td>2017-05-31T03:50:42.905</td><td>../OverScanRemove/trim_images/</td><td>120.0</td><td>39.91</td><td>8.5</td><td>783.0</td><td>25.0</td><td>4.3</td><td>0.88</td><td>dia</td><td>HoloAmAg</td></tr>\n",
       "<tr><td>102</td><td>160</td><td>1.315</td><td>2017-05-31T03:53:35.304</td><td>../OverScanRemove/trim_images/</td><td>60.0</td><td>40.528</td><td>8.5</td><td>783.0</td><td>25.0</td><td>3.8</td><td>0.95</td><td>dia</td><td>Ron400</td></tr>\n",
       "<tr><td>103</td><td>161</td><td>1.323</td><td>2017-05-31T03:55:27.794</td><td>../OverScanRemove/trim_images/</td><td>60.0</td><td>40.931</td><td>8.6</td><td>783.0</td><td>25.0</td><td>4.3</td><td>0.931</td><td>dia</td><td>Thor300</td></tr>\n",
       "<tr><td>104</td><td>162</td><td>1.331</td><td>2017-05-31T03:57:20.205</td><td>../OverScanRemove/trim_images/</td><td>60.0</td><td>41.335</td><td>8.5</td><td>783.0</td><td>25.0</td><td>4.3</td><td>0.92</td><td>dia</td><td>HoloPhP</td></tr>\n",
       "<tr><td>105</td><td>163</td><td>1.339</td><td>2017-05-31T03:59:12.703</td><td>../OverScanRemove/trim_images/</td><td>120.0</td><td>41.739</td><td>8.6</td><td>783.0</td><td>25.0</td><td>4.4</td><td>0.922</td><td>dia</td><td>HoloPhAg</td></tr>\n",
       "<tr><td>106</td><td>164</td><td>1.352</td><td>2017-05-31T04:02:05.144</td><td>../OverScanRemove/trim_images/</td><td>120.0</td><td>42.358</td><td>8.6</td><td>783.0</td><td>25.0</td><td>4.8</td><td>0.971</td><td>dia</td><td>HoloAmAg</td></tr>\n",
       "<tr><td>107</td><td>165</td><td>1.366</td><td>2017-05-31T04:04:57.551</td><td>../OverScanRemove/trim_images/</td><td>60.0</td><td>42.979</td><td>8.6</td><td>783.0</td><td>25.0</td><td>4.9</td><td>0.968</td><td>dia</td><td>Ron400</td></tr>\n",
       "<tr><td>108</td><td>166</td><td>1.375</td><td>2017-05-31T04:06:50.002</td><td>../OverScanRemove/trim_images/</td><td>60.0</td><td>43.383</td><td>8.6</td><td>783.0</td><td>25.0</td><td>4.8</td><td>1.211</td><td>dia</td><td>Thor300</td></tr>\n",
       "<tr><td>109</td><td>167</td><td>1.384</td><td>2017-05-31T04:08:42.305</td><td>../OverScanRemove/trim_images/</td><td>60.0</td><td>43.788</td><td>8.7</td><td>783.0</td><td>25.0</td><td>4.7</td><td>1.407</td><td>dia</td><td>HoloPhP</td></tr>\n",
       "<tr><td>110</td><td>168</td><td>1.393</td><td>2017-05-31T04:10:34.697</td><td>../OverScanRemove/trim_images/</td><td>120.0</td><td>44.192</td><td>8.6</td><td>783.0</td><td>25.0</td><td>5.0</td><td>0.886</td><td>dia</td><td>HoloPhAg</td></tr>\n",
       "<tr><td>111</td><td>169</td><td>1.408</td><td>2017-05-31T04:13:27.052</td><td>../OverScanRemove/trim_images/</td><td>120.0</td><td>44.813</td><td>8.7</td><td>783.0</td><td>24.0</td><td>5.4</td><td>0.898</td><td>dia</td><td>HoloAmAg</td></tr>\n",
       "<tr><td>112</td><td>170</td><td>1.424</td><td>2017-05-31T04:16:19.452</td><td>../OverScanRemove/trim_images/</td><td>60.0</td><td>45.434</td><td>8.8</td><td>783.0</td><td>24.0</td><td>5.5</td><td>0.968</td><td>dia</td><td>Ron400</td></tr>\n",
       "<tr><td>113</td><td>171</td><td>1.434</td><td>2017-05-31T04:18:11.909</td><td>../OverScanRemove/trim_images/</td><td>60.0</td><td>45.84</td><td>8.8</td><td>783.0</td><td>24.0</td><td>5.4</td><td>1.163</td><td>dia</td><td>Thor300</td></tr>\n",
       "<tr><td>114</td><td>172</td><td>1.444</td><td>2017-05-31T04:20:04.253</td><td>../OverScanRemove/trim_images/</td><td>60.0</td><td>46.245</td><td>8.7</td><td>783.0</td><td>24.0</td><td>4.9</td><td>1.275</td><td>dia</td><td>HoloPhP</td></tr>\n",
       "<tr><td>115</td><td>173</td><td>1.455</td><td>2017-05-31T04:21:56.702</td><td>../OverScanRemove/trim_images/</td><td>120.0</td><td>46.65</td><td>8.7</td><td>783.0</td><td>24.0</td><td>4.4</td><td>1.063</td><td>dia</td><td>HoloPhAg</td></tr>\n",
       "<tr><td>116</td><td>174</td><td>1.472</td><td>2017-05-31T04:24:49.096</td><td>../OverScanRemove/trim_images/</td><td>120.0</td><td>47.272</td><td>8.7</td><td>783.0</td><td>24.0</td><td>5.6</td><td>0.991</td><td>dia</td><td>HoloAmAg</td></tr>\n",
       "<tr><td>117</td><td>175</td><td>1.49</td><td>2017-05-31T04:27:41.495</td><td>../OverScanRemove/trim_images/</td><td>60.0</td><td>47.894</td><td>8.8</td><td>783.0</td><td>24.0</td><td>5.3</td><td>0.958</td><td>dia</td><td>Ron400</td></tr>\n",
       "<tr><td>118</td><td>176</td><td>1.501</td><td>2017-05-31T04:29:33.751</td><td>../OverScanRemove/trim_images/</td><td>60.0</td><td>48.3</td><td>8.8</td><td>783.0</td><td>24.0</td><td>5.5</td><td>0.903</td><td>dia</td><td>Thor300</td></tr>\n",
       "<tr><td>119</td><td>177</td><td>1.513</td><td>2017-05-31T04:31:26.199</td><td>../OverScanRemove/trim_images/</td><td>60.0</td><td>48.706</td><td>8.8</td><td>783.0</td><td>24.0</td><td>5.0</td><td>0.783</td><td>dia</td><td>HoloPhP</td></tr>\n",
       "<tr><td>120</td><td>178</td><td>1.526</td><td>2017-05-31T04:33:18.602</td><td>../OverScanRemove/trim_images/</td><td>120.0</td><td>49.111</td><td>8.7</td><td>783.0</td><td>24.0</td><td>4.4</td><td>0.77</td><td>dia</td><td>HoloPhAg</td></tr>\n",
       "<tr><td>121</td><td>179</td><td>1.545</td><td>2017-05-31T04:36:11.102</td><td>../OverScanRemove/trim_images/</td><td>120.0</td><td>49.733</td><td>8.7</td><td>783.0</td><td>24.0</td><td>4.4</td><td>0.77</td><td>dia</td><td>HoloAmAg</td></tr>\n",
       "<tr><td>122</td><td>180</td><td>1.565</td><td>2017-05-31T04:39:03.498</td><td>../OverScanRemove/trim_images/</td><td>60.0</td><td>50.356</td><td>8.6</td><td>783.0</td><td>24.0</td><td>4.7</td><td>0.658</td><td>dia</td><td>Ron400</td></tr>\n",
       "<tr><td>123</td><td>181</td><td>1.579</td><td>2017-05-31T04:40:55.900</td><td>../OverScanRemove/trim_images/</td><td>60.0</td><td>50.761</td><td>8.6</td><td>783.0</td><td>24.0</td><td>5.4</td><td>0.742</td><td>dia</td><td>Thor300</td></tr>\n",
       "<tr><td>124</td><td>182</td><td>1.592</td><td>2017-05-31T04:42:48.297</td><td>../OverScanRemove/trim_images/</td><td>60.0</td><td>51.167</td><td>8.7</td><td>783.0</td><td>24.0</td><td>5.8</td><td>0.816</td><td>dia</td><td>HoloPhP</td></tr>\n",
       "<tr><td>125</td><td>183</td><td>1.607</td><td>2017-05-31T04:44:40.547</td><td>../OverScanRemove/trim_images/</td><td>120.0</td><td>51.572</td><td>8.8</td><td>783.0</td><td>24.0</td><td>5.8</td><td>0.654</td><td>dia</td><td>HoloPhAg</td></tr>\n",
       "<tr><td>126</td><td>184</td><td>1.629</td><td>2017-05-31T04:47:32.999</td><td>../OverScanRemove/trim_images/</td><td>120.0</td><td>52.195</td><td>8.9</td><td>783.0</td><td>24.0</td><td>6.2</td><td>0.704</td><td>dia</td><td>HoloAmAg</td></tr>\n",
       "<tr><td>127</td><td>185</td><td>1.652</td><td>2017-05-31T04:50:25.404</td><td>../OverScanRemove/trim_images/</td><td>60.0</td><td>52.817</td><td>9.0</td><td>783.0</td><td>24.0</td><td>6.2</td><td>0.662</td><td>dia</td><td>Ron400</td></tr>\n",
       "<tr><td>128</td><td>186</td><td>1.667</td><td>2017-05-31T04:52:17.795</td><td>../OverScanRemove/trim_images/</td><td>60.0</td><td>53.223</td><td>9.0</td><td>783.0</td><td>24.0</td><td>5.9</td><td>0.64</td><td>dia</td><td>Thor300</td></tr>\n",
       "<tr><td>129</td><td>187</td><td>1.683</td><td>2017-05-31T04:54:10.199</td><td>../OverScanRemove/trim_images/</td><td>60.0</td><td>53.629</td><td>9.1</td><td>783.0</td><td>24.0</td><td>5.5</td><td>0.618</td><td>dia</td><td>HoloPhP</td></tr>\n",
       "<tr><td>130</td><td>188</td><td>1.7</td><td>2017-05-31T04:56:02.504</td><td>../OverScanRemove/trim_images/</td><td>120.0</td><td>54.033</td><td>9.3</td><td>783.0</td><td>24.0</td><td>5.6</td><td>0.614</td><td>dia</td><td>HoloPhAg</td></tr>\n",
       "<tr><td>131</td><td>189</td><td>1.725</td><td>2017-05-31T04:58:54.903</td><td>../OverScanRemove/trim_images/</td><td>120.0</td><td>54.655</td><td>9.2</td><td>783.0</td><td>24.0</td><td>6.0</td><td>0.641</td><td>dia</td><td>HoloAmAg</td></tr>\n",
       "<tr><td>132</td><td>190</td><td>1.752</td><td>2017-05-31T05:01:47.196</td><td>../OverScanRemove/trim_images/</td><td>60.0</td><td>55.277</td><td>9.2</td><td>783.0</td><td>23.0</td><td>5.4</td><td>0.63</td><td>dia</td><td>Ron400</td></tr>\n",
       "<tr><td>133</td><td>191</td><td>1.77</td><td>2017-05-31T05:03:39.595</td><td>../OverScanRemove/trim_images/</td><td>60.0</td><td>55.682</td><td>9.3</td><td>783.0</td><td>23.0</td><td>5.7</td><td>0.601</td><td>dia</td><td>Thor300</td></tr>\n",
       "<tr><td>134</td><td>192</td><td>1.789</td><td>2017-05-31T05:05:32.008</td><td>../OverScanRemove/trim_images/</td><td>60.0</td><td>56.087</td><td>9.3</td><td>783.0</td><td>23.0</td><td>5.6</td><td>0.521</td><td>dia</td><td>HoloPhP</td></tr>\n",
       "<tr><td>135</td><td>193</td><td>1.807</td><td>2017-05-31T05:07:24.403</td><td>../OverScanRemove/trim_images/</td><td>120.0</td><td>56.492</td><td>9.3</td><td>783.0</td><td>23.0</td><td>5.4</td><td>0.531</td><td>dia</td><td>HoloPhAg</td></tr>\n",
       "<tr><td>136</td><td>194</td><td>1.837</td><td>2017-05-31T05:10:16.753</td><td>../OverScanRemove/trim_images/</td><td>120.0</td><td>57.113</td><td>9.2</td><td>783.0</td><td>23.0</td><td>5.1</td><td>0.567</td><td>dia</td><td>HoloAmAg</td></tr>\n",
       "<tr><td>137</td><td>195</td><td>1.869</td><td>2017-05-31T05:13:09.206</td><td>../OverScanRemove/trim_images/</td><td>60.0</td><td>57.734</td><td>9.2</td><td>783.0</td><td>23.0</td><td>6.7</td><td>0.574</td><td>dia</td><td>Ron400</td></tr>\n",
       "<tr><td>138</td><td>196</td><td>1.89</td><td>2017-05-31T05:15:01.551</td><td>../OverScanRemove/trim_images/</td><td>60.0</td><td>58.139</td><td>9.3</td><td>783.0</td><td>23.0</td><td>6.7</td><td>0.618</td><td>dia</td><td>Thor300</td></tr>\n",
       "<tr><td>139</td><td>197</td><td>1.911</td><td>2017-05-31T05:16:53.954</td><td>../OverScanRemove/trim_images/</td><td>60.0</td><td>58.543</td><td>9.3</td><td>783.0</td><td>23.0</td><td>7.4</td><td>0.634</td><td>dia</td><td>HoloPhP</td></tr>\n",
       "<tr><td>140</td><td>198</td><td>1.934</td><td>2017-05-31T05:18:46.349</td><td>../OverScanRemove/trim_images/</td><td>120.0</td><td>58.948</td><td>9.3</td><td>783.0</td><td>23.0</td><td>7.2</td><td>0.621</td><td>dia</td><td>HoloPhAg</td></tr>\n",
       "<tr><td>141</td><td>199</td><td>1.969</td><td>2017-05-31T05:21:38.803</td><td>../OverScanRemove/trim_images/</td><td>120.0</td><td>59.568</td><td>9.3</td><td>783.0</td><td>23.0</td><td>7.2</td><td>0.618</td><td>dia</td><td>HoloAmAg</td></tr>\n",
       "</table><style>table.dataTable {clear: both; width: auto !important; margin: 0 !important;}\n",
       ".dataTables_info, .dataTables_length, .dataTables_filter, .dataTables_paginate{\n",
       "display: inline-block; margin-right: 1em; }\n",
       ".paginate_button { margin-right: 5px; }\n",
       "</style>\n",
       "<script>\n",
       "require.config({paths: {\n",
       "    datatables: 'https://cdn.datatables.net/1.10.12/js/jquery.dataTables.min'\n",
       "}});\n",
       "require([\"datatables\"], function(){\n",
       "    console.log(\"$('#table4643616528-660950').dataTable()\");\n",
       "    $('#table4643616528-660950').dataTable({\n",
       "        \"order\": [],\n",
       "        \"iDisplayLength\": 50,\n",
       "        \"aLengthMenu\": [[10, 25, 50, 100, 500, 1000, -1], [10, 25, 50, 100, 500, 1000, 'All']],\n",
       "        \"pagingType\": \"full_numbers\"\n",
       "    });\n",
       "});\n",
       "</script>\n"
      ],
      "text/plain": [
       "<IPython.core.display.HTML object>"
      ]
     },
     "execution_count": 35,
     "metadata": {},
     "output_type": "execute_result"
    }
   ],
   "source": [
    "thetable.show_in_notebook()"
   ]
  },
  {
   "cell_type": "markdown",
   "metadata": {
    "deletable": true,
    "editable": true
   },
   "source": [
    "## Read the logfile into a Table\n",
    "---------------------------------------"
   ]
  },
  {
   "cell_type": "code",
   "execution_count": 36,
   "metadata": {
    "collapsed": true,
    "deletable": true,
    "editable": true
   },
   "outputs": [],
   "source": [
    "t = Table.read(logfile)"
   ]
  },
  {
   "cell_type": "code",
   "execution_count": 37,
   "metadata": {
    "collapsed": false,
    "deletable": true,
    "editable": true
   },
   "outputs": [
    {
     "data": {
      "text/html": [
       "&lt;Table length=142&gt;\n",
       "<table id=\"table4643753552\" class=\"table-striped table-bordered table-condensed\">\n",
       "<thead><tr><th>number</th><th>airmass</th><th>date</th><th>filename</th><th>exposure</th><th>zenith</th><th>temperature</th><th>pressure</th><th>humidity</th><th>windspeed</th><th>seeing</th><th>filter1</th><th>filter2</th></tr></thead>\n",
       "<thead><tr><th>int32</th><th>float32</th><th>str50</th><th>str30</th><th>float32</th><th>float32</th><th>float32</th><th>float32</th><th>float32</th><th>float32</th><th>float32</th><th>str20</th><th>str20</th></tr></thead>\n",
       "<tr><td>58</td><td>1.051</td><td>2017-05-31T00:02:18.596</td><td>../OverScanRemove/trim_images/</td><td>60.0</td><td>17.969</td><td>9.3</td><td>783.0</td><td>26.0</td><td>5.5</td><td>0.94</td><td>dia</td><td>Thor300</td></tr>\n",
       "<tr><td>59</td><td>1.049</td><td>2017-05-31T00:04:09.003</td><td>../OverScanRemove/trim_images/</td><td>10.0</td><td>17.608</td><td>9.2</td><td>783.0</td><td>26.0</td><td>4.6</td><td>1.006</td><td>dia</td><td>Thor300</td></tr>\n",
       "<tr><td>60</td><td>1.047</td><td>2017-05-31T00:06:14.000</td><td>../OverScanRemove/trim_images/</td><td>60.0</td><td>17.255</td><td>9.1</td><td>783.0</td><td>26.0</td><td>5.7</td><td>1.018</td><td>dia</td><td>Ron400</td></tr>\n",
       "<tr><td>61</td><td>1.045</td><td>2017-05-31T00:08:06.454</td><td>../OverScanRemove/trim_images/</td><td>60.0</td><td>16.942</td><td>9.2</td><td>783.0</td><td>26.0</td><td>5.5</td><td>0.939</td><td>dia</td><td>Thor300</td></tr>\n",
       "<tr><td>62</td><td>1.044</td><td>2017-05-31T00:09:58.852</td><td>../OverScanRemove/trim_images/</td><td>60.0</td><td>16.634</td><td>9.1</td><td>783.0</td><td>26.0</td><td>5.8</td><td>0.846</td><td>dia</td><td>HoloPhP</td></tr>\n",
       "<tr><td>63</td><td>1.042</td><td>2017-05-31T00:11:51.243</td><td>../OverScanRemove/trim_images/</td><td>120.0</td><td>16.332</td><td>8.9</td><td>783.0</td><td>26.0</td><td>5.4</td><td>0.83</td><td>dia</td><td>HoloPhAg</td></tr>\n",
       "<tr><td>64</td><td>1.04</td><td>2017-05-31T00:14:43.647</td><td>../OverScanRemove/trim_images/</td><td>120.0</td><td>15.879</td><td>8.9</td><td>783.0</td><td>26.0</td><td>5.3</td><td>0.74</td><td>dia</td><td>HoloAmAg</td></tr>\n",
       "<tr><td>65</td><td>1.037</td><td>2017-05-31T00:17:36.001</td><td>../OverScanRemove/trim_images/</td><td>60.0</td><td>15.441</td><td>8.8</td><td>783.0</td><td>26.0</td><td>5.4</td><td>0.771</td><td>dia</td><td>Ron400</td></tr>\n",
       "<tr><td>66</td><td>1.036</td><td>2017-05-31T00:19:28.503</td><td>../OverScanRemove/trim_images/</td><td>60.0</td><td>15.163</td><td>8.8</td><td>783.0</td><td>26.0</td><td>4.8</td><td>0.715</td><td>dia</td><td>Thor300</td></tr>\n",
       "<tr><td>67</td><td>1.035</td><td>2017-05-31T00:21:20.951</td><td>../OverScanRemove/trim_images/</td><td>60.0</td><td>14.892</td><td>8.7</td><td>783.0</td><td>26.0</td><td>4.6</td><td>0.954</td><td>dia</td><td>HoloPhP</td></tr>\n",
       "<tr><td>...</td><td>...</td><td>...</td><td>...</td><td>...</td><td>...</td><td>...</td><td>...</td><td>...</td><td>...</td><td>...</td><td>...</td><td>...</td></tr>\n",
       "<tr><td>190</td><td>1.752</td><td>2017-05-31T05:01:47.196</td><td>../OverScanRemove/trim_images/</td><td>60.0</td><td>55.277</td><td>9.2</td><td>783.0</td><td>23.0</td><td>5.4</td><td>0.63</td><td>dia</td><td>Ron400</td></tr>\n",
       "<tr><td>191</td><td>1.77</td><td>2017-05-31T05:03:39.595</td><td>../OverScanRemove/trim_images/</td><td>60.0</td><td>55.682</td><td>9.3</td><td>783.0</td><td>23.0</td><td>5.7</td><td>0.601</td><td>dia</td><td>Thor300</td></tr>\n",
       "<tr><td>192</td><td>1.789</td><td>2017-05-31T05:05:32.008</td><td>../OverScanRemove/trim_images/</td><td>60.0</td><td>56.087</td><td>9.3</td><td>783.0</td><td>23.0</td><td>5.6</td><td>0.521</td><td>dia</td><td>HoloPhP</td></tr>\n",
       "<tr><td>193</td><td>1.807</td><td>2017-05-31T05:07:24.403</td><td>../OverScanRemove/trim_images/</td><td>120.0</td><td>56.492</td><td>9.3</td><td>783.0</td><td>23.0</td><td>5.4</td><td>0.531</td><td>dia</td><td>HoloPhAg</td></tr>\n",
       "<tr><td>194</td><td>1.837</td><td>2017-05-31T05:10:16.753</td><td>../OverScanRemove/trim_images/</td><td>120.0</td><td>57.113</td><td>9.2</td><td>783.0</td><td>23.0</td><td>5.1</td><td>0.567</td><td>dia</td><td>HoloAmAg</td></tr>\n",
       "<tr><td>195</td><td>1.869</td><td>2017-05-31T05:13:09.206</td><td>../OverScanRemove/trim_images/</td><td>60.0</td><td>57.734</td><td>9.2</td><td>783.0</td><td>23.0</td><td>6.7</td><td>0.574</td><td>dia</td><td>Ron400</td></tr>\n",
       "<tr><td>196</td><td>1.89</td><td>2017-05-31T05:15:01.551</td><td>../OverScanRemove/trim_images/</td><td>60.0</td><td>58.139</td><td>9.3</td><td>783.0</td><td>23.0</td><td>6.7</td><td>0.618</td><td>dia</td><td>Thor300</td></tr>\n",
       "<tr><td>197</td><td>1.911</td><td>2017-05-31T05:16:53.954</td><td>../OverScanRemove/trim_images/</td><td>60.0</td><td>58.543</td><td>9.3</td><td>783.0</td><td>23.0</td><td>7.4</td><td>0.634</td><td>dia</td><td>HoloPhP</td></tr>\n",
       "<tr><td>198</td><td>1.934</td><td>2017-05-31T05:18:46.349</td><td>../OverScanRemove/trim_images/</td><td>120.0</td><td>58.948</td><td>9.3</td><td>783.0</td><td>23.0</td><td>7.2</td><td>0.621</td><td>dia</td><td>HoloPhAg</td></tr>\n",
       "<tr><td>199</td><td>1.969</td><td>2017-05-31T05:21:38.803</td><td>../OverScanRemove/trim_images/</td><td>120.0</td><td>59.568</td><td>9.3</td><td>783.0</td><td>23.0</td><td>7.2</td><td>0.618</td><td>dia</td><td>HoloAmAg</td></tr>\n",
       "</table>"
      ],
      "text/plain": [
       "<Table length=142>\n",
       "number airmass           date          ...  seeing filter1 filter2 \n",
       "int32  float32          str50          ... float32  str20   str20  \n",
       "------ ------- ----------------------- ... ------- ------- --------\n",
       "    58   1.051 2017-05-31T00:02:18.596 ...    0.94     dia  Thor300\n",
       "    59   1.049 2017-05-31T00:04:09.003 ...   1.006     dia  Thor300\n",
       "    60   1.047 2017-05-31T00:06:14.000 ...   1.018     dia   Ron400\n",
       "    61   1.045 2017-05-31T00:08:06.454 ...   0.939     dia  Thor300\n",
       "    62   1.044 2017-05-31T00:09:58.852 ...   0.846     dia  HoloPhP\n",
       "    63   1.042 2017-05-31T00:11:51.243 ...    0.83     dia HoloPhAg\n",
       "    64    1.04 2017-05-31T00:14:43.647 ...    0.74     dia HoloAmAg\n",
       "    65   1.037 2017-05-31T00:17:36.001 ...   0.771     dia   Ron400\n",
       "    66   1.036 2017-05-31T00:19:28.503 ...   0.715     dia  Thor300\n",
       "    67   1.035 2017-05-31T00:21:20.951 ...   0.954     dia  HoloPhP\n",
       "   ...     ...                     ... ...     ...     ...      ...\n",
       "   190   1.752 2017-05-31T05:01:47.196 ...    0.63     dia   Ron400\n",
       "   191    1.77 2017-05-31T05:03:39.595 ...   0.601     dia  Thor300\n",
       "   192   1.789 2017-05-31T05:05:32.008 ...   0.521     dia  HoloPhP\n",
       "   193   1.807 2017-05-31T05:07:24.403 ...   0.531     dia HoloPhAg\n",
       "   194   1.837 2017-05-31T05:10:16.753 ...   0.567     dia HoloAmAg\n",
       "   195   1.869 2017-05-31T05:13:09.206 ...   0.574     dia   Ron400\n",
       "   196    1.89 2017-05-31T05:15:01.551 ...   0.618     dia  Thor300\n",
       "   197   1.911 2017-05-31T05:16:53.954 ...   0.634     dia  HoloPhP\n",
       "   198   1.934 2017-05-31T05:18:46.349 ...   0.621     dia HoloPhAg\n",
       "   199   1.969 2017-05-31T05:21:38.803 ...   0.618     dia HoloAmAg"
      ]
     },
     "execution_count": 37,
     "metadata": {},
     "output_type": "execute_result"
    }
   ],
   "source": [
    "t"
   ]
  },
  {
   "cell_type": "markdown",
   "metadata": {
    "deletable": true,
    "editable": true
   },
   "source": [
    "## Convert into pandas to plot\n",
    "---------------------------------------"
   ]
  },
  {
   "cell_type": "code",
   "execution_count": 38,
   "metadata": {
    "collapsed": true,
    "deletable": true,
    "editable": true
   },
   "outputs": [],
   "source": [
    "df = t.to_pandas()"
   ]
  },
  {
   "cell_type": "code",
   "execution_count": 39,
   "metadata": {
    "collapsed": false,
    "deletable": true,
    "editable": true
   },
   "outputs": [
    {
     "data": {
      "text/plain": [
       "<matplotlib.axes._subplots.AxesSubplot at 0x115832750>"
      ]
     },
     "execution_count": 39,
     "metadata": {},
     "output_type": "execute_result"
    },
    {
     "data": {
      "image/png": "[encoded data removed]",
      "text/plain": [
       "<matplotlib.figure.Figure at 0x114c7fdd0>"
      ]
     },
     "metadata": {},
     "output_type": "display_data"
    }
   ],
   "source": [
    "df.plot('date','airmass',figsize=(20,6),rot=45,grid=True,title='airmass vs date',color='b',marker='o',linewidth=2)\n"
   ]
  },
  {
   "cell_type": "code",
   "execution_count": 40,
   "metadata": {
    "collapsed": false,
    "deletable": true,
    "editable": true
   },
   "outputs": [
    {
     "data": {
      "text/plain": [
       "<matplotlib.axes._subplots.AxesSubplot at 0x115910fd0>"
      ]
     },
     "execution_count": 40,
     "metadata": {},
     "output_type": "execute_result"
    },
    {
     "data": {
      "image/png": "[encoded data removed]",
      "text/plain": [
       "<matplotlib.figure.Figure at 0x115834c90>"
      ]
     },
     "metadata": {},
     "output_type": "display_data"
    }
   ],
   "source": [
    "df.plot('date','exposure',figsize=(20,6),rot=45,grid=True,title='exposure vs date',color='b',marker='o',linewidth=2)"
   ]
  },
  {
   "cell_type": "markdown",
   "metadata": {
    "collapsed": true,
    "deletable": true,
    "editable": true
   },
   "source": [
    "### Save pandas file\n"
   ]
  },
  {
   "cell_type": "code",
   "execution_count": 41,
   "metadata": {
    "collapsed": true,
    "deletable": true,
    "editable": true
   },
   "outputs": [],
   "source": [
    "df.to_csv(pandaslogfile)"
   ]
  },
  {
   "cell_type": "code",
   "execution_count": null,
   "metadata": {
    "collapsed": true,
    "deletable": true,
    "editable": true
   },
   "outputs": [],
   "source": []
  }
 ],
 "metadata": {
  "anaconda-cloud": {},
  "kernelspec": {
   "display_name": "Python [default]",
   "language": "python",
   "name": "python2"
  },
  "language_info": {
   "codemirror_mode": {
    "name": "ipython",
    "version": 2
   },
   "file_extension": ".py",
   "mimetype": "text/x-python",
   "name": "python",
   "nbconvert_exporter": "python",
   "pygments_lexer": "ipython2",
   "version": "2.7.12"
  },
  "toc": {
   "colors": {
    "hover_highlight": "#DAA520",
    "running_highlight": "#FF0000",
    "selected_highlight": "#FFD700"
   },
   "moveMenuLeft": true,
   "nav_menu": {
    "height": "161px",
    "width": "252px"
   },
   "navigate_menu": true,
   "number_sections": true,
   "sideBar": true,
   "threshold": 4,
   "toc_cell": false,
   "toc_section_display": "block",
   "toc_window_display": false,
   "widenNotebook": false
  }
 },
 "nbformat": 4,
 "nbformat_minor": 0
}
