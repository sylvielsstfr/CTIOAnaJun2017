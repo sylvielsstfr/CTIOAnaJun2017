{
 "cells": [
  {
   "cell_type": "markdown",
   "metadata": {
    "deletable": true,
    "editable": true
   },
   "source": [
    "# Convert Relative Humidity into PWV\n",
    "======================================================\n",
    "\n",
    "This conversion is usefull for simulating \n",
    "\n",
    "\n",
    "- author Sylvie Dagoret-Campagne\n",
    "- date 22 juin 2017"
   ]
  },
  {
   "cell_type": "markdown",
   "metadata": {},
   "source": [
    "\n",
    "## L'humidité spécifique \n",
    "\n",
    "https://fr.wikipedia.org/wiki/Humidit%C3%A9_sp%C3%A9cifique\n",
    "\n",
    "\n",
    "- ${\\displaystyle HS~}$ ou  ${\\displaystyle q~}$ ou teneur en eau ${\\displaystyle Y~}$  est définie comme **le rapport de la masse d'eau dans l'air sur la masse d'air humide**. \n",
    "- Contrairement au rapport de mélange qui décrit la masse d'eau dans l'air sur la masse d'air sec."
   ]
  },
  {
   "cell_type": "markdown",
   "metadata": {},
   "source": [
    "## Approximation de l'humidité spécifique\n",
    "\n",
    "En notant \n",
    "\n",
    "- ${\\displaystyle p}$  la pression de l'air et \n",
    "- ${\\displaystyle e}$  la pression partielle de vapeur d'eau, \n",
    "\n",
    "on peut calculer l'humidité spécifique à partir de la formule suivante :\n",
    "\n",
    "$\n",
    "{\\displaystyle q\\approx {\\frac {0{,}622\\cdot e}{p-0{,}378\\cdot e}}~} \n",
    "$"
   ]
  },
  {
   "cell_type": "markdown",
   "metadata": {},
   "source": [
    "## Humidité specifique à la pression de vapeur saturante\n",
    "\n",
    "En notant ${\\displaystyle E}$ la pression de vapeur saturante, l'humidité spécifique à saturation ${\\displaystyle q_{s}~}$  est donc par définition :\n",
    "\n",
    "$\n",
    " {\\displaystyle q_{s}\\approx {\\frac {0{,}622\\cdot E}{p-0{,}378\\cdot E}}~} \n",
    "$"
   ]
  },
  {
   "cell_type": "markdown",
   "metadata": {},
   "source": [
    "## Conversions\n",
    "\n",
    "D'après les formules empiriques de Nadeau et Puiggali1, l'humidité spécifique peut être exprimée en fonction de l'humidité relative par la relation :\n",
    "\n",
    "Avec :\n",
    "\n",
    "- *HR* l'humidité relative [valeur entre 0 et 1]\n",
    "- *HS*, l'humidité spécifique en kg(eau) / kg(air sec) ${\\displaystyle \\scriptstyle {\\rm {kg_{eau}/kg_{air\\,sec}}}} {\\displaystyle \\scriptstyle {\\rm {kg_{eau}/kg_{air\\,sec}}}}$\n",
    "\n",
    "- ${\\displaystyle \\theta }$, la température en °C (comprise entre 0 et 45 °C)\n",
    "- ${\\displaystyle p_{sat}\\left(\\theta \\right)}$, la pression de vapeur saturante en Pa.\n",
    "\n",
    "\n"
   ]
  },
  {
   "cell_type": "markdown",
   "metadata": {},
   "source": [
    "$\n",
    "{\\displaystyle HS={\\frac {0,622\\times p_{sat}\\left(\\theta \\right)\\times HR}{101\\,325-p_{sat}\\left(\\theta \\right)\\times HR}}} \n",
    "$\n",
    "\n",
    "$\n",
    " {\\displaystyle p_{sat}\\left(\\theta \\right)=\\exp \\left({23,3265-{\\frac {3\\,802,7}{\\theta +273,18}}-\\left({\\frac {472,68}{\\theta +273,18}}\\right)^{2}}\\right)} \n",
    " $"
   ]
  },
  {
   "cell_type": "code",
   "execution_count": 1,
   "metadata": {
    "collapsed": false,
    "deletable": true,
    "editable": true
   },
   "outputs": [],
   "source": [
    "import numpy as np\n",
    "import matplotlib.pyplot as plt\n",
    "import numpy as np\n",
    "%matplotlib inline"
   ]
  },
  {
   "cell_type": "code",
   "execution_count": 2,
   "metadata": {
    "collapsed": true,
    "deletable": true,
    "editable": true
   },
   "outputs": [],
   "source": [
    "import astropy.units as u\n",
    "import astropy.constants as const"
   ]
  },
  {
   "cell_type": "code",
   "execution_count": 3,
   "metadata": {
    "collapsed": true,
    "deletable": true,
    "editable": true
   },
   "outputs": [],
   "source": [
    "import air \n",
    "import humidity as hum"
   ]
  },
  {
   "cell_type": "code",
   "execution_count": 4,
   "metadata": {
    "collapsed": false,
    "deletable": true,
    "editable": true
   },
   "outputs": [
    {
     "name": "stdout",
     "output_type": "stream",
     "text": [
      "ConvertRHToPWV.ipynb air.pyc              humidity.pyc\r\n",
      "README.md            atmprofiles_ctio.txt\r\n",
      "air.py               humidity.py\r\n"
     ]
    }
   ],
   "source": [
    "!ls"
   ]
  },
  {
   "cell_type": "code",
   "execution_count": 5,
   "metadata": {
    "collapsed": false,
    "deletable": true,
    "editable": true
   },
   "outputs": [
    {
     "name": "stdout",
     "output_type": "stream",
     "text": [
      "# ----------------------------------------------------------------------------------------------------------------------------------------\r\n",
      "#  lc |  z[km]  |  Pressure  | Temp.  |    Air      |   Ozone     |     O2      | Water vap.  |    CO2      |    NO2      |      O4      |\r\n",
      "#     |         |   [hPa]    |  [K]   |   [cm-3]    |   [cm-3]    |   [cm-3]    |   [cm-3]    |   [cm-3]    |   [cm-3]    | [1.0e+46cm-6]|\r\n",
      "# ----------------------------------------------------------------------------------------------------------------------------------------\r\n",
      "    0  120.0000     0.00003   360.00   5.11026e+11   2.55700e+02   3.70765e+10   1.02280e+05   1.78990e+07   7.72214e+01   1.37467e-25\r\n",
      "    1  115.0000     0.00004   300.00   9.68133e+11   4.84400e+03   9.10672e+10   2.32512e+05   3.87520e+07   1.50164e+02   8.29324e-25\r\n",
      "    2  110.0000     0.00007   240.00   2.14269e+12   1.07200e+05   2.57280e+11   6.00320e+05   1.28640e+08   3.40896e+02   6.61930e-24\r\n",
      "    3  105.0000     0.00014   208.80   5.02978e+12   1.00660e+06   7.04620e+11   1.71122e+06   5.53630e+08   8.25412e+02   4.96489e-23\r\n",
      "    4  100.0000     0.00032   195.10   1.18797e+13   4.75600e+06   1.90240e+12   4.75600e+06   2.31855e+09   2.02130e+03   3.61913e-22\r\n",
      "    5   95.0000     0.00076   188.40   2.92176e+13   2.04680e+07   5.26320e+12   1.57896e+07   7.89480e+09   5.14624e+03   2.77013e-21\r\n"
     ]
    }
   ],
   "source": [
    "!head atmprofiles_ctio.txt"
   ]
  },
  {
   "cell_type": "code",
   "execution_count": 6,
   "metadata": {
    "collapsed": false,
    "deletable": true,
    "editable": true
   },
   "outputs": [
    {
     "name": "stdout",
     "output_type": "stream",
     "text": [
      "   43    6.0000   472.20001   249.20   1.37243e+19   5.64578e+11   2.86957e+18   1.27057e+16   4.53090e+15   3.15790e+08   8.23443e-10\r\n",
      "   44    5.0000   540.50000   255.70   1.53101e+19   5.77258e+11   3.20188e+18   2.14020e+16   5.05560e+15   3.52360e+08   1.02520e-09\r\n",
      "   45    4.0000   616.59998   262.20   1.70327e+19   5.77145e+11   3.56136e+18   3.67723e+16   5.62320e+15   3.91920e+08   1.26833e-09\r\n",
      "   46    3.0000   701.20001   268.70   1.89010e+19   6.27434e+11   3.95219e+18   6.01716e+16   6.24030e+15   4.34930e+08   1.56198e-09\r\n",
      "   47    2.2000   775.28625   273.90   2.05022e+19   6.67467e+11   4.28811e+18   8.90711e+16   6.77070e+15   4.71897e+08   1.84030e-09\r\n",
      "# ---------------------------------------------------------------------------------------------------------------------------------------\r\n",
      "#  sum |    nan |        nan |    nan | 1.6e+25cm-2 |  339.787 DU | 3.4e+24cm-2 |  5.180 kg/m2 | 5.4e+21cm-2 | 0.20303 DU  | 8.1e+42cm-5|\r\n",
      "# ---------------------------------------------------------------------------------------------------------------------------------------\r\n",
      "\r\n",
      "\r\n"
     ]
    }
   ],
   "source": [
    "!tail atmprofiles_ctio.txt"
   ]
  },
  {
   "cell_type": "code",
   "execution_count": 7,
   "metadata": {
    "collapsed": true,
    "deletable": true,
    "editable": true
   },
   "outputs": [],
   "source": [
    "atmprofiles_file='atmprofiles_ctio.txt'"
   ]
  },
  {
   "cell_type": "code",
   "execution_count": 8,
   "metadata": {
    "collapsed": false,
    "deletable": true,
    "editable": true
   },
   "outputs": [],
   "source": [
    "data=np.loadtxt(atmprofiles_file)"
   ]
  },
  {
   "cell_type": "code",
   "execution_count": 9,
   "metadata": {
    "collapsed": false,
    "deletable": true,
    "editable": true
   },
   "outputs": [
    {
     "data": {
      "text/plain": [
       "array([[  0.00000000e+00,   1.20000000e+02,   3.00000000e-05,\n",
       "          3.60000000e+02,   5.11026000e+11,   2.55700000e+02,\n",
       "          3.70765000e+10,   1.02280000e+05,   1.78990000e+07,\n",
       "          7.72214000e+01,   1.37467000e-25],\n",
       "       [  1.00000000e+00,   1.15000000e+02,   4.00000000e-05,\n",
       "          3.00000000e+02,   9.68133000e+11,   4.84400000e+03,\n",
       "          9.10672000e+10,   2.32512000e+05,   3.87520000e+07,\n",
       "          1.50164000e+02,   8.29324000e-25],\n",
       "       [  2.00000000e+00,   1.10000000e+02,   7.00000000e-05,\n",
       "          2.40000000e+02,   2.14269000e+12,   1.07200000e+05,\n",
       "          2.57280000e+11,   6.00320000e+05,   1.28640000e+08,\n",
       "          3.40896000e+02,   6.61930000e-24],\n",
       "       [  3.00000000e+00,   1.05000000e+02,   1.40000000e-04,\n",
       "          2.08800000e+02,   5.02978000e+12,   1.00660000e+06,\n",
       "          7.04620000e+11,   1.71122000e+06,   5.53630000e+08,\n",
       "          8.25412000e+02,   4.96489000e-23],\n",
       "       [  4.00000000e+00,   1.00000000e+02,   3.20000000e-04,\n",
       "          1.95100000e+02,   1.18797000e+13,   4.75600000e+06,\n",
       "          1.90240000e+12,   4.75600000e+06,   2.31855000e+09,\n",
       "          2.02130000e+03,   3.61913000e-22],\n",
       "       [  5.00000000e+00,   9.50000000e+01,   7.60000000e-04,\n",
       "          1.88400000e+02,   2.92176000e+13,   2.04680000e+07,\n",
       "          5.26320000e+12,   1.57896000e+07,   7.89480000e+09,\n",
       "          5.14624000e+03,   2.77013000e-21],\n",
       "       [  6.00000000e+00,   9.00000000e+01,   1.84000000e-03,\n",
       "          1.86900000e+02,   7.13051000e+13,   4.99520000e+07,\n",
       "          1.35584000e+13,   6.06560000e+07,   2.21216000e+10,\n",
       "          1.30589000e+04,   1.83830000e-20],\n",
       "       [  7.00000000e+00,   8.50000000e+01,   4.46000000e-03,\n",
       "          1.88900000e+02,   1.71007000e+14,   8.55500000e+07,\n",
       "          3.42200000e+13,   2.27563000e+08,   5.47520000e+10,\n",
       "          3.28512000e+04,   1.17101000e-19],\n",
       "       [  8.00000000e+00,   8.00000000e+01,   1.05000000e-02,\n",
       "          1.98600000e+02,   3.82932000e+14,   1.14960000e+08,\n",
       "          8.00888000e+13,   7.85560000e+08,   1.25690000e+11,\n",
       "          7.74064000e+04,   6.41421000e-19],\n",
       "       [  9.00000000e+00,   7.50000000e+01,   2.40000000e-02,\n",
       "          2.08400000e+02,   8.34114000e+14,   2.08675000e+08,\n",
       "          1.74452000e+14,   2.35803000e+09,   2.75451000e+11,\n",
       "          1.79460000e+05,   3.04336000e-18],\n",
       "       [  1.00000000e+01,   7.00000000e+01,   5.22000000e-02,\n",
       "          2.19600000e+02,   1.72167000e+15,   5.16900000e+08,\n",
       "          3.60107000e+14,   6.03050000e+09,   5.68590000e+11,\n",
       "          3.98013000e+05,   1.29677000e-17],\n",
       "       [  1.10000000e+01,   6.50000000e+01,   1.09000000e-01,\n",
       "          2.33300000e+02,   3.38395000e+15,   2.37020000e+09,\n",
       "          7.07674000e+14,   1.42212000e+10,   1.11738000e+12,\n",
       "          8.56658000e+05,   5.00802000e-17],\n",
       "       [  1.20000000e+01,   6.00000000e+01,   2.19000000e-01,\n",
       "          2.47000000e+02,   6.42183000e+15,   7.06860000e+09,\n",
       "          1.34303000e+15,   3.05235000e+10,   2.12058000e+12,\n",
       "          1.83141000e+06,   1.80374000e-16],\n",
       "       [  1.30000000e+01,   5.50000000e+01,   4.25000000e-01,\n",
       "          2.60800000e+02,   1.18030000e+16,   2.12580000e+10,\n",
       "          2.46829000e+15,   6.02310000e+10,   3.89730000e+12,\n",
       "          4.00359000e+06,   6.09246000e-16],\n",
       "       [  1.40000000e+01,   5.00000000e+01,   7.97800000e-01,\n",
       "          2.70700000e+02,   2.13460000e+16,   6.62160000e+10,\n",
       "          4.46424000e+15,   1.11606000e+11,   7.04880000e+12,\n",
       "          9.46248000e+06,   1.99294000e-15],\n",
       "       [  1.50000000e+01,   4.75000000e+01,   1.09000000e+00,\n",
       "          2.70600000e+02,   2.91750000e+16,   1.19720000e+11,\n",
       "          6.10280000e+15,   1.53300000e+11,   9.63600000e+12,\n",
       "          1.94472000e+07,   3.72442000e-15],\n",
       "       [  1.60000000e+01,   4.50000000e+01,   1.49100000e+00,\n",
       "          2.64200000e+02,   4.08749000e+16,   2.14725000e+11,\n",
       "          8.54810000e+15,   2.13702000e+11,   1.34970000e+13,\n",
       "          4.70350000e+07,   7.30700000e-15],\n",
       "       [  1.70000000e+01,   4.25000000e+01,   2.06000000e+00,\n",
       "          2.57300000e+02,   5.79881000e+16,   3.59786000e+11,\n",
       "          1.21283000e+16,   2.98855000e+11,   1.91499000e+13,\n",
       "          1.25925000e+08,   1.47095000e-14],\n",
       "       [  1.80000000e+01,   4.00000000e+01,   2.87100000e+00,\n",
       "          2.50400000e+02,   8.30445000e+16,   6.06630000e+11,\n",
       "          1.73679000e+16,   4.17577000e+11,   2.74230000e+13,\n",
       "          3.34893000e+08,   3.01644000e-14],\n",
       "       [  1.90000000e+01,   3.75000000e+01,   4.04116000e+00,\n",
       "          2.43430000e+02,   1.20239000e+17,   9.65640000e+11,\n",
       "          2.58742000e+16,   6.12810000e+11,   4.08540000e+13,\n",
       "          7.74988000e+08,   6.69474000e-14],\n",
       "       [  2.00000000e+01,   3.50000000e+01,   5.74600000e+00,\n",
       "          2.36500000e+02,   1.75973000e+17,   1.38010000e+12,\n",
       "          3.68049000e+16,   8.62890000e+11,   5.81130000e+13,\n",
       "          1.28201000e+09,   1.35460000e-13],\n",
       "       [  2.10000000e+01,   3.25000000e+01,   8.25725000e+00,\n",
       "          2.29590000e+02,   2.60502000e+17,   1.86095000e+12,\n",
       "          5.27516000e+16,   1.21783000e+12,   8.32920000e+13,\n",
       "          1.81980000e+09,   2.78273000e-13],\n",
       "       [  2.20000000e+01,   3.00000000e+01,   1.19700000e+01,\n",
       "          2.26500000e+02,   3.82770000e+17,   2.50980000e+12,\n",
       "          8.00470000e+16,   1.80968000e+12,   1.26390000e+14,\n",
       "          2.35928000e+09,   6.40752000e-13],\n",
       "       [  2.30000000e+01,   2.75000000e+01,   1.74300000e+01,\n",
       "          2.24000000e+02,   5.63587000e+17,   3.27289000e+12,\n",
       "          1.17876000e+17,   2.58030000e+12,   1.86120000e+14,\n",
       "          2.71284000e+09,   1.38948000e-12],\n",
       "       [  2.40000000e+01,   2.50000000e+01,   2.54900000e+01,\n",
       "          2.21600000e+02,   8.33128000e+17,   4.26688000e+12,\n",
       "          1.74243000e+17,   3.68912000e+12,   2.75121000e+14,\n",
       "          3.11804000e+09,   3.03607000e-12],\n",
       "       [  2.50000000e+01,   2.40000000e+01,   2.97200000e+01,\n",
       "          2.20600000e+02,   9.75787000e+17,   4.51827000e+12,\n",
       "          2.04088000e+17,   4.19895000e+12,   3.22245000e+14,\n",
       "          2.98809000e+09,   4.16521000e-12],\n",
       "       [  2.60000000e+01,   2.30000000e+01,   3.46700000e+01,\n",
       "          2.19600000e+02,   1.14349000e+18,   4.76819000e+12,\n",
       "          2.39096000e+17,   4.80480000e+12,   3.77520000e+14,\n",
       "          2.95152000e+09,   5.71669000e-12],\n",
       "       [  2.70000000e+01,   2.20000000e+01,   4.04700000e+01,\n",
       "          2.18600000e+02,   1.34089000e+18,   4.89427000e+12,\n",
       "          2.80478000e+17,   5.45523000e+12,   4.42860000e+14,\n",
       "          2.89872000e+09,   7.86679000e-12],\n",
       "       [  2.80000000e+01,   2.10000000e+01,   4.72900000e+01,\n",
       "          2.17600000e+02,   1.57406000e+18,   4.76910000e+12,\n",
       "          3.29175000e+17,   6.26063000e+12,   5.19750000e+14,\n",
       "          2.77200000e+09,   1.08356000e-11],\n",
       "       [  2.90000000e+01,   2.00000000e+01,   5.52900000e+01,\n",
       "          2.16700000e+02,   1.84799000e+18,   4.76857000e+12,\n",
       "          3.86441000e+17,   7.21110000e+12,   6.10170000e+14,\n",
       "          2.57011000e+09,   1.49337000e-11],\n",
       "       [  3.00000000e+01,   1.90000000e+01,   6.46700000e+01,\n",
       "          2.16700000e+02,   2.16150000e+18,   4.39089000e+12,\n",
       "          4.52067000e+17,   8.32755000e+12,   7.13790000e+14,\n",
       "          2.29278000e+09,   2.04365000e-11],\n",
       "       [  3.10000000e+01,   1.80000000e+01,   7.56500000e+01,\n",
       "          2.16700000e+02,   2.52849000e+18,   4.01511000e+12,\n",
       "          5.28770000e+17,   9.67725000e+12,   8.34900000e+14,\n",
       "          1.95063000e+09,   2.79598000e-11],\n",
       "       [  3.20000000e+01,   1.70000000e+01,   8.85000000e+01,\n",
       "          2.16700000e+02,   2.95799000e+18,   3.51352000e+12,\n",
       "          6.18640000e+17,   1.13960000e+13,   9.76800000e+14,\n",
       "          1.53624000e+09,   3.82715000e-11],\n",
       "       [  3.30000000e+01,   1.60000000e+01,   1.03500000e+02,\n",
       "          2.16700000e+02,   3.45934000e+18,   3.01229000e+12,\n",
       "          7.23558000e+17,   1.36749000e+13,   1.14246000e+15,\n",
       "          1.10438000e+09,   5.23536000e-11],\n",
       "       [  3.40000000e+01,   1.50000000e+01,   1.21100000e+02,\n",
       "          2.16700000e+02,   4.04760000e+18,   2.63452000e+12,\n",
       "          8.46450000e+17,   2.02500000e+13,   1.33650000e+15,\n",
       "          6.92550000e+08,   7.16478000e-11],\n",
       "       [  3.50000000e+01,   1.40000000e+01,   1.41700000e+02,\n",
       "          2.16700000e+02,   4.73612000e+18,   2.38372000e+12,\n",
       "          9.90451000e+17,   2.80881000e+13,   1.56387000e+15,\n",
       "          3.54477000e+08,   9.80993000e-11],\n",
       "       [  3.60000000e+01,   1.30000000e+01,   1.65800000e+02,\n",
       "          2.16700000e+02,   5.54163000e+18,   2.13299000e+12,\n",
       "          1.15911000e+18,   6.01741000e+13,   1.83018000e+15,\n",
       "          2.46797000e+08,   1.34355000e-10],\n",
       "       [  3.70000000e+01,   1.20000000e+01,   1.94000000e+02,\n",
       "          2.16700000e+02,   6.48417000e+18,   2.00834000e+12,\n",
       "          1.35620000e+18,   1.23680000e+14,   2.14137000e+15,\n",
       "          2.04404000e+08,   1.83928000e-10],\n",
       "       [  3.80000000e+01,   1.10000000e+01,   2.27000000e+02,\n",
       "          2.16800000e+02,   7.58365000e+18,   1.63088000e+12,\n",
       "          1.58610000e+18,   2.74191000e+14,   2.50437000e+15,\n",
       "          1.98832000e+08,   2.51572000e-10],\n",
       "       [  3.90000000e+01,   1.00000000e+01,   2.65000000e+02,\n",
       "          2.23300000e+02,   8.59546000e+18,   1.12944000e+12,\n",
       "          1.79782000e+18,   6.01796000e+14,   2.83866000e+15,\n",
       "          2.04728000e+08,   3.23215000e-10],\n",
       "       [  4.00000000e+01,   9.00000000e+00,   3.08000000e+02,\n",
       "          2.29700000e+02,   9.71184000e+18,   8.91038000e+11,\n",
       "          2.03127000e+18,   1.53852000e+15,   3.20727000e+15,\n",
       "          2.25481000e+08,   4.12606000e-10],\n",
       "       [  4.10000000e+01,   8.00000000e+00,   3.56500000e+02,\n",
       "          2.36200000e+02,   1.09318000e+19,   6.52680000e+11,\n",
       "          2.28646000e+18,   4.01170000e+15,   3.61020000e+15,\n",
       "          2.51620000e+08,   5.22790000e-10],\n",
       "       [  4.20000000e+01,   7.00000000e+00,   4.11100010e+02,\n",
       "          2.42700000e+02,   1.22684000e+19,   6.15105000e+11,\n",
       "          2.56652000e+18,   7.02416000e+15,   4.05240000e+15,\n",
       "          2.82440000e+08,   6.58702000e-10],\n",
       "       [  4.30000000e+01,   6.00000000e+00,   4.72200010e+02,\n",
       "          2.49200000e+02,   1.37243000e+19,   5.64578000e+11,\n",
       "          2.86957000e+18,   1.27057000e+16,   4.53090000e+15,\n",
       "          3.15790000e+08,   8.23443000e-10],\n",
       "       [  4.40000000e+01,   5.00000000e+00,   5.40500000e+02,\n",
       "          2.55700000e+02,   1.53101000e+19,   5.77258000e+11,\n",
       "          3.20188000e+18,   2.14020000e+16,   5.05560000e+15,\n",
       "          3.52360000e+08,   1.02520000e-09],\n",
       "       [  4.50000000e+01,   4.00000000e+00,   6.16599980e+02,\n",
       "          2.62200000e+02,   1.70327000e+19,   5.77145000e+11,\n",
       "          3.56136000e+18,   3.67723000e+16,   5.62320000e+15,\n",
       "          3.91920000e+08,   1.26833000e-09],\n",
       "       [  4.60000000e+01,   3.00000000e+00,   7.01200010e+02,\n",
       "          2.68700000e+02,   1.89010000e+19,   6.27434000e+11,\n",
       "          3.95219000e+18,   6.01716000e+16,   6.24030000e+15,\n",
       "          4.34930000e+08,   1.56198000e-09],\n",
       "       [  4.70000000e+01,   2.20000000e+00,   7.75286250e+02,\n",
       "          2.73900000e+02,   2.05022000e+19,   6.67467000e+11,\n",
       "          4.28811000e+18,   8.90711000e+16,   6.77070000e+15,\n",
       "          4.71897000e+08,   1.84030000e-09]])"
      ]
     },
     "execution_count": 9,
     "metadata": {},
     "output_type": "execute_result"
    }
   ],
   "source": [
    "data"
   ]
  },
  {
   "cell_type": "code",
   "execution_count": 10,
   "metadata": {
    "collapsed": true,
    "deletable": true,
    "editable": true
   },
   "outputs": [],
   "source": [
    "LC=data[:,0]\n",
    "Z=data[:,1]*u.km\n",
    "P=data[:,2]*u.hPa\n",
    "T=data[:,3]*u.K\n",
    "Air=data[:,4]/(u.cm)**3\n",
    "H2O=data[:,7]/(u.cm)**3"
   ]
  },
  {
   "cell_type": "code",
   "execution_count": 11,
   "metadata": {
    "collapsed": false,
    "deletable": true,
    "editable": true
   },
   "outputs": [],
   "source": [
    "LC=np.flip(LC,axis=0)\n",
    "Z=np.flip(Z,axis=0)\n",
    "P=np.flip(P,axis=0)\n",
    "T=np.flip(T,axis=0)\n",
    "Air=np.flip(Air,axis=0)\n",
    "H2O=np.flip(H2O,axis=0)"
   ]
  },
  {
   "cell_type": "code",
   "execution_count": 12,
   "metadata": {
    "collapsed": false,
    "deletable": true,
    "editable": true
   },
   "outputs": [
    {
     "name": "stdout",
     "output_type": "stream",
     "text": [
      "Typical values at ground ::  P0= 775.28625 hPa  T0= 273.9 K  Z0= 2.2 km Air = 2.05022e+19 1 / cm3\n"
     ]
    }
   ],
   "source": [
    "NC=LC.shape[0]\n",
    "\n",
    "Z0=Z[0]\n",
    "P0=P[0]\n",
    "T0=T[0]\n",
    "Air0=Air[0]\n",
    "H2O0=H2O[0]\n",
    "print 'Typical values at ground ::  P0=', P0,' T0=', T0,' Z0=' ,Z0, 'Air =',Air0"
   ]
  },
  {
   "cell_type": "code",
   "execution_count": 49,
   "metadata": {
    "collapsed": false
   },
   "outputs": [],
   "source": [
    "MasseH2O=hum.Mw*u.g/u.mol/const.N_A*H2O"
   ]
  },
  {
   "cell_type": "code",
   "execution_count": 42,
   "metadata": {
    "collapsed": false
   },
   "outputs": [
    {
     "data": {
      "text/latex": [
       "$[0.002664675,~0.0018001098,~0.00110009,~0.00064026799,~0.00038010714,~0.00021013666,~0.0001200151,~4.6026778 \\times 10^{-5},~1.8003491 \\times 10^{-5},~8.2027718 \\times 10^{-6},~3.7000442 \\times 10^{-6},~1.8001846 \\times 10^{-6},~8.4029116 \\times 10^{-7},~6.0580445 \\times 10^{-7},~4.0910199 \\times 10^{-7},~3.409258 \\times 10^{-7},~2.8950722 \\times 10^{-7},~2.4912923 \\times 10^{-7},~2.1572921 \\times 10^{-7},~1.8729469 \\times 10^{-7},~1.6320013 \\times 10^{-7},~1.4374169 \\times 10^{-7},~1.2561692 \\times 10^{-7},~1.1036471 \\times 10^{-7},~7.7192949 \\times 10^{-8},~5.4138874 \\times 10^{-8},~3.643293 \\times 10^{-8},~2.581445 \\times 10^{-8},~1.8332989 \\times 10^{-8},~1.2492346 \\times 10^{-8},~8.9406266 \\times 10^{-9},~6.3931666 \\times 10^{-9},~4.5861641 \\times 10^{-9},~3.3388351 \\times 10^{-9},~1.8018868 \\times 10^{-9},~9.1314924 \\times 10^{-10},~4.2544525 \\times 10^{-10},~1.8041006 \\times 10^{-10},~7.054346 \\times 10^{-11},~2.3501024 \\times 10^{-11},~6.807836 \\times 10^{-12},~1.8146012 \\times 10^{-12},~4.7236592 \\times 10^{-13},~1.4228178 \\times 10^{-13},~5.1193318 \\times 10^{-14},~1.7959335 \\times 10^{-14},~6.9558916 \\times 10^{-15},~3.059836 \\times 10^{-15}] \\; \\mathrm{\\frac{kg}{m^{3}}}$"
      ],
      "text/plain": [
       "<Quantity [  2.66467501e-03,  1.80010978e-03,  1.10009003e-03,\n",
       "             6.40267993e-04,  3.80107142e-04,  2.10136661e-04,\n",
       "             1.20015097e-04,  4.60267785e-05,  1.80034911e-05,\n",
       "             8.20277177e-06,  3.70004417e-06,  1.80018457e-06,\n",
       "             8.40291161e-07,  6.05804451e-07,  4.09101990e-07,\n",
       "             3.40925804e-07,  2.89507216e-07,  2.49129228e-07,\n",
       "             2.15729209e-07,  1.87294692e-07,  1.63200129e-07,\n",
       "             1.43741690e-07,  1.25616919e-07,  1.10364707e-07,\n",
       "             7.71929494e-08,  5.41388740e-08,  3.64329301e-08,\n",
       "             2.58144495e-08,  1.83329889e-08,  1.24923459e-08,\n",
       "             8.94062663e-09,  6.39316656e-09,  4.58616407e-09,\n",
       "             3.33883514e-09,  1.80188681e-09,  9.13149243e-10,\n",
       "             4.25445248e-10,  1.80410061e-10,  7.05434603e-11,\n",
       "             2.35010244e-11,  6.80783597e-12,  1.81460122e-12,\n",
       "             4.72365924e-13,  1.42281776e-13,  5.11933182e-14,\n",
       "             1.79593347e-14,  6.95589158e-15,  3.05983601e-15] kg / m3>"
      ]
     },
     "execution_count": 42,
     "metadata": {},
     "output_type": "execute_result"
    }
   ],
   "source": [
    "MasseH2O.to(u.kg/(u.m)**3)"
   ]
  },
  {
   "cell_type": "code",
   "execution_count": 50,
   "metadata": {
    "collapsed": true
   },
   "outputs": [],
   "source": [
    "MH2O0=MasseH2O[0]"
   ]
  },
  {
   "cell_type": "code",
   "execution_count": 48,
   "metadata": {
    "collapsed": false
   },
   "outputs": [
    {
     "data": {
      "text/latex": [
       "$0.002664675 \\; \\mathrm{}$"
      ],
      "text/plain": [
       "<Quantity 0.002664675005657331>"
      ]
     },
     "execution_count": 48,
     "metadata": {},
     "output_type": "execute_result"
    }
   ],
   "source": [
    "(MH2O0/(u.kg/(u.m)**3)).decompose()"
   ]
  },
  {
   "cell_type": "code",
   "execution_count": 51,
   "metadata": {
    "collapsed": true
   },
   "outputs": [],
   "source": [
    "MasseAir=hum.Md*u.g/u.mol/const.N_A*Air"
   ]
  },
  {
   "cell_type": "code",
   "execution_count": 52,
   "metadata": {
    "collapsed": true
   },
   "outputs": [],
   "source": [
    "MAir0=MasseAir[0] "
   ]
  },
  {
   "cell_type": "code",
   "execution_count": 53,
   "metadata": {
    "collapsed": true,
    "deletable": true,
    "editable": true
   },
   "outputs": [],
   "source": [
    "MassRatio1=H2O0/Air0*hum.Mw/hum.Md"
   ]
  },
  {
   "cell_type": "code",
   "execution_count": 54,
   "metadata": {
    "collapsed": false,
    "deletable": true,
    "editable": true
   },
   "outputs": [
    {
     "data": {
      "text/latex": [
       "$0.0027021297 \\; \\mathrm{}$"
      ],
      "text/plain": [
       "<Quantity 0.002702129736363952>"
      ]
     },
     "execution_count": 54,
     "metadata": {},
     "output_type": "execute_result"
    }
   ],
   "source": [
    "MassRatio1"
   ]
  },
  {
   "cell_type": "code",
   "execution_count": 55,
   "metadata": {
    "collapsed": true
   },
   "outputs": [],
   "source": [
    "MassRatio2=MH2O0/MAir0"
   ]
  },
  {
   "cell_type": "code",
   "execution_count": 56,
   "metadata": {
    "collapsed": false
   },
   "outputs": [
    {
     "data": {
      "text/latex": [
       "$0.0027021297 \\; \\mathrm{}$"
      ],
      "text/plain": [
       "<Quantity 0.002702129736363952>"
      ]
     },
     "execution_count": 56,
     "metadata": {},
     "output_type": "execute_result"
    }
   ],
   "source": [
    "MassRatio2"
   ]
  },
  {
   "cell_type": "code",
   "execution_count": 57,
   "metadata": {
    "collapsed": false,
    "deletable": true,
    "editable": true
   },
   "outputs": [],
   "source": [
    "relative_hum=hum.mixr2rh(MassRatio1,P0/u.Pa,T0/u.K)"
   ]
  },
  {
   "cell_type": "code",
   "execution_count": 58,
   "metadata": {
    "collapsed": false,
    "deletable": true,
    "editable": true
   },
   "outputs": [
    {
     "data": {
      "text/latex": [
       "$0.51975985 \\; \\mathrm{}$"
      ],
      "text/plain": [
       "<Quantity 0.5197598460032044>"
      ]
     },
     "execution_count": 58,
     "metadata": {},
     "output_type": "execute_result"
    }
   ],
   "source": [
    "relative_hum.decompose()"
   ]
  },
  {
   "cell_type": "code",
   "execution_count": 59,
   "metadata": {
    "collapsed": false,
    "deletable": true,
    "editable": true
   },
   "outputs": [],
   "source": [
    "mixing_ratio=hum.ah2mixr (MH2O0*(u.m)**3/(u.kg),P0/u.Pa,T0/u.K)"
   ]
  },
  {
   "cell_type": "code",
   "execution_count": 61,
   "metadata": {
    "collapsed": false
   },
   "outputs": [
    {
     "data": {
      "text/latex": [
       "$0.0027139593 \\; \\mathrm{}$"
      ],
      "text/plain": [
       "<Quantity 0.0027139592534899336>"
      ]
     },
     "execution_count": 61,
     "metadata": {},
     "output_type": "execute_result"
    }
   ],
   "source": [
    "mixing_ratio.decompose()"
   ]
  },
  {
   "cell_type": "code",
   "execution_count": 65,
   "metadata": {
    "collapsed": false
   },
   "outputs": [],
   "source": [
    "water_mass_density=hum.rh2ah(0.5,P0/u.Pa,T0/u.K)*u.kg/(u.m)**3"
   ]
  },
  {
   "cell_type": "code",
   "execution_count": 68,
   "metadata": {
    "collapsed": false
   },
   "outputs": [
    {
     "data": {
      "text/latex": [
       "$0.0025525645 \\; \\mathrm{\\frac{kg}{m^{3}}}$"
      ],
      "text/plain": [
       "<Quantity 0.002552564538805163 kg / m3>"
      ]
     },
     "execution_count": 68,
     "metadata": {},
     "output_type": "execute_result"
    }
   ],
   "source": [
    "water_mass_density.to(u.kg/(u.m)**3)"
   ]
  },
  {
   "cell_type": "code",
   "execution_count": 18,
   "metadata": {
    "collapsed": false,
    "deletable": true,
    "editable": true
   },
   "outputs": [
    {
     "data": {
      "text/plain": [
       "(0, 20)"
      ]
     },
     "execution_count": 18,
     "metadata": {},
     "output_type": "execute_result"
    },
    {
     "data": {
      "image/png": "[encoded data removed]",
      "text/plain": [
       "<matplotlib.figure.Figure at 0x10bed7990>"
      ]
     },
     "metadata": {},
     "output_type": "display_data"
    }
   ],
   "source": [
    "plt.plot(H2O,Z)\n",
    "plt.ylim(0,20)"
   ]
  },
  {
   "cell_type": "code",
   "execution_count": 19,
   "metadata": {
    "collapsed": false,
    "deletable": true,
    "editable": true
   },
   "outputs": [
    {
     "data": {
      "text/plain": [
       "[<matplotlib.lines.Line2D at 0x10c104b90>]"
      ]
     },
     "execution_count": 19,
     "metadata": {},
     "output_type": "execute_result"
    },
    {
     "data": {
      "image/png": "[encoded data removed]",
      "text/plain": [
       "<matplotlib.figure.Figure at 0x10bfdee50>"
      ]
     },
     "metadata": {},
     "output_type": "display_data"
    }
   ],
   "source": [
    "plt.plot(Z)"
   ]
  },
  {
   "cell_type": "code",
   "execution_count": 20,
   "metadata": {
    "collapsed": false,
    "deletable": true,
    "editable": true
   },
   "outputs": [],
   "source": [
    "DZ=Z[1:NC-1]-Z[0:NC-2]   # Width of layers\n",
    "Zmean=(Z[1:NC-1]+Z[0:NC-2])/2.   # average altitudes of layers"
   ]
  },
  {
   "cell_type": "code",
   "execution_count": 21,
   "metadata": {
    "collapsed": false,
    "deletable": true,
    "editable": true
   },
   "outputs": [
    {
     "data": {
      "text/plain": [
       "[<matplotlib.lines.Line2D at 0x10c22e8d0>]"
      ]
     },
     "execution_count": 21,
     "metadata": {},
     "output_type": "execute_result"
    },
    {
     "data": {
      "image/png": "[encoded data removed]",
      "text/plain": [
       "<matplotlib.figure.Figure at 0x10c0c8690>"
      ]
     },
     "metadata": {},
     "output_type": "display_data"
    }
   ],
   "source": [
    "plt.plot(Zmean,DZ)"
   ]
  },
  {
   "cell_type": "code",
   "execution_count": 22,
   "metadata": {
    "collapsed": false,
    "deletable": true,
    "editable": true
   },
   "outputs": [
    {
     "data": {
      "text/latex": [
       "$[0.8,~1,~1,~1,~1,~1,~1,~1,~1,~1,~1,~1,~1,~1,~1,~1,~1,~1,~1,~1,~1,~1,~1,~2.5,~2.5,~2.5,~2.5,~2.5,~2.5,~2.5,~2.5,~2.5,~2.5,~5,~5,~5,~5,~5,~5,~5,~5,~5,~5,~5,~5,~5] \\; \\mathrm{km}$"
      ],
      "text/plain": [
       "<Quantity [ 0.8, 1. , 1. , 1. , 1. , 1. , 1. , 1. , 1. , 1. , 1. , 1. ,\n",
       "            1. , 1. , 1. , 1. , 1. , 1. , 1. , 1. , 1. , 1. , 1. , 2.5,\n",
       "            2.5, 2.5, 2.5, 2.5, 2.5, 2.5, 2.5, 2.5, 2.5, 5. , 5. , 5. ,\n",
       "            5. , 5. , 5. , 5. , 5. , 5. , 5. , 5. , 5. , 5. ] km>"
      ]
     },
     "execution_count": 22,
     "metadata": {},
     "output_type": "execute_result"
    }
   ],
   "source": [
    "DZ"
   ]
  },
  {
   "cell_type": "code",
   "execution_count": 23,
   "metadata": {
    "collapsed": true,
    "deletable": true,
    "editable": true
   },
   "outputs": [],
   "source": [
    "vec_H2O=(DZ*H2O[0:NC-2]).decompose()"
   ]
  },
  {
   "cell_type": "code",
   "execution_count": 24,
   "metadata": {
    "collapsed": false,
    "deletable": true,
    "editable": true
   },
   "outputs": [
    {
     "data": {
      "text/latex": [
       "$[7.125688 \\times 10^{25},~6.01716 \\times 10^{25},~3.67723 \\times 10^{25},~2.1402 \\times 10^{25},~1.27057 \\times 10^{25},~7.02416 \\times 10^{24},~4.0117 \\times 10^{24},~1.53852 \\times 10^{24},~6.01796 \\times 10^{23},~2.74191 \\times 10^{23},~1.2368 \\times 10^{23},~6.01741 \\times 10^{22},~2.80881 \\times 10^{22},~2.025 \\times 10^{22},~1.36749 \\times 10^{22},~1.1396 \\times 10^{22},~9.67725 \\times 10^{21},~8.32755 \\times 10^{21},~7.2111 \\times 10^{21},~6.26063 \\times 10^{21},~5.45523 \\times 10^{21},~4.8048 \\times 10^{21},~4.19895 \\times 10^{21},~9.2228 \\times 10^{21},~6.45075 \\times 10^{21},~4.5242 \\times 10^{21},~3.044575 \\times 10^{21},~2.157225 \\times 10^{21},~1.532025 \\times 10^{21},~1.0439425 \\times 10^{21},~7.471375 \\times 10^{20},~5.34255 \\times 10^{20},~3.8325 \\times 10^{20},~5.5803 \\times 10^{20},~3.01155 \\times 10^{20},~1.526175 \\times 10^{20},~7.1106 \\times 10^{19},~3.01525 \\times 10^{19},~1.179015 \\times 10^{19},~3.9278 \\times 10^{18},~1.137815 \\times 10^{18},~3.0328 \\times 10^{17},~7.8948 \\times 10^{16},~2.378 \\times 10^{16},~8.5561 \\times 10^{15},~3.0016 \\times 10^{15}] \\; \\mathrm{\\frac{1}{m^{2}}}$"
      ],
      "text/plain": [
       "<Quantity [  7.12568800e+25,  6.01716000e+25,  3.67723000e+25,\n",
       "             2.14020000e+25,  1.27057000e+25,  7.02416000e+24,\n",
       "             4.01170000e+24,  1.53852000e+24,  6.01796000e+23,\n",
       "             2.74191000e+23,  1.23680000e+23,  6.01741000e+22,\n",
       "             2.80881000e+22,  2.02500000e+22,  1.36749000e+22,\n",
       "             1.13960000e+22,  9.67725000e+21,  8.32755000e+21,\n",
       "             7.21110000e+21,  6.26063000e+21,  5.45523000e+21,\n",
       "             4.80480000e+21,  4.19895000e+21,  9.22280000e+21,\n",
       "             6.45075000e+21,  4.52420000e+21,  3.04457500e+21,\n",
       "             2.15722500e+21,  1.53202500e+21,  1.04394250e+21,\n",
       "             7.47137500e+20,  5.34255000e+20,  3.83250000e+20,\n",
       "             5.58030000e+20,  3.01155000e+20,  1.52617500e+20,\n",
       "             7.11060000e+19,  3.01525000e+19,  1.17901500e+19,\n",
       "             3.92780000e+18,  1.13781500e+18,  3.03280000e+17,\n",
       "             7.89480000e+16,  2.37800000e+16,  8.55610000e+15,\n",
       "             3.00160000e+15] 1 / m2>"
      ]
     },
     "execution_count": 24,
     "metadata": {},
     "output_type": "execute_result"
    }
   ],
   "source": [
    "vec_H2O"
   ]
  },
  {
   "cell_type": "code",
   "execution_count": 25,
   "metadata": {
    "collapsed": true,
    "deletable": true,
    "editable": true
   },
   "outputs": [],
   "source": [
    "total_H2O=vec_H2O.sum()"
   ]
  },
  {
   "cell_type": "code",
   "execution_count": 26,
   "metadata": {
    "collapsed": false,
    "deletable": true,
    "editable": true
   },
   "outputs": [
    {
     "name": "stdout",
     "output_type": "stream",
     "text": [
      "6464.69085905 g / m2\n"
     ]
    }
   ],
   "source": [
    "print total_H2O*hum.Mw*u.g/u.mol/const.N_A"
   ]
  },
  {
   "cell_type": "code",
   "execution_count": 27,
   "metadata": {
    "collapsed": false,
    "deletable": true,
    "editable": true
   },
   "outputs": [],
   "source": [
    "vec_PWV=(hum.Mw*u.g/u.mol/const.N_A*DZ*H2O[0:NC-2]).decompose()"
   ]
  },
  {
   "cell_type": "code",
   "execution_count": 28,
   "metadata": {
    "collapsed": true,
    "deletable": true,
    "editable": true
   },
   "outputs": [],
   "source": [
    "vec_Air=(hum.Md*u.g/u.mol/const.N_A*DZ*Air[0:NC-2]).decompose()"
   ]
  },
  {
   "cell_type": "code",
   "execution_count": 29,
   "metadata": {
    "collapsed": false,
    "deletable": true,
    "editable": true
   },
   "outputs": [
    {
     "data": {
      "text/latex": [
       "$[2.13174,~1.8001098,~1.10009,~0.64026799,~0.38010714,~0.21013666,~0.1200151,~0.046026778,~0.018003491,~0.0082027718,~0.0037000442,~0.0018001846,~0.00084029116,~0.00060580445,~0.00040910199,~0.0003409258,~0.00028950722,~0.00024912923,~0.00021572921,~0.00018729469,~0.00016320013,~0.00014374169,~0.00012561692,~0.00027591177,~0.00019298237,~0.00013534719,~9.1082325 \\times 10^{-5},~6.4536124 \\times 10^{-5},~4.5832472 \\times 10^{-5},~3.1230865 \\times 10^{-5},~2.2351567 \\times 10^{-5},~1.5982916 \\times 10^{-5},~1.146541 \\times 10^{-5},~1.6694176 \\times 10^{-5},~9.0094341 \\times 10^{-6},~4.5657462 \\times 10^{-6},~2.1272262 \\times 10^{-6},~9.0205031 \\times 10^{-7},~3.527173 \\times 10^{-7},~1.1750512 \\times 10^{-7},~3.403918 \\times 10^{-8},~9.0730061 \\times 10^{-9},~2.3618296 \\times 10^{-9},~7.1140888 \\times 10^{-10},~2.5596659 \\times 10^{-10},~8.9796674 \\times 10^{-11}] \\; \\mathrm{\\frac{kg}{m^{2}}}$"
      ],
      "text/plain": [
       "<Quantity [  2.13174000e+00,  1.80010978e+00,  1.10009003e+00,\n",
       "             6.40267993e-01,  3.80107142e-01,  2.10136661e-01,\n",
       "             1.20015097e-01,  4.60267785e-02,  1.80034911e-02,\n",
       "             8.20277177e-03,  3.70004417e-03,  1.80018457e-03,\n",
       "             8.40291161e-04,  6.05804451e-04,  4.09101990e-04,\n",
       "             3.40925804e-04,  2.89507216e-04,  2.49129228e-04,\n",
       "             2.15729209e-04,  1.87294692e-04,  1.63200129e-04,\n",
       "             1.43741690e-04,  1.25616919e-04,  2.75911768e-04,\n",
       "             1.92982374e-04,  1.35347185e-04,  9.10823253e-05,\n",
       "             6.45361238e-05,  4.58324723e-05,  3.12308649e-05,\n",
       "             2.23515666e-05,  1.59829164e-05,  1.14654102e-05,\n",
       "             1.66941757e-05,  9.00943405e-06,  4.56574621e-06,\n",
       "             2.12722624e-06,  9.02050307e-07,  3.52717301e-07,\n",
       "             1.17505122e-07,  3.40391798e-08,  9.07300612e-09,\n",
       "             2.36182962e-09,  7.11408882e-10,  2.55966591e-10,\n",
       "             8.97966736e-11] kg / m2>"
      ]
     },
     "execution_count": 29,
     "metadata": {},
     "output_type": "execute_result"
    }
   ],
   "source": [
    "vec_PWV"
   ]
  },
  {
   "cell_type": "code",
   "execution_count": 30,
   "metadata": {
    "collapsed": false,
    "deletable": true,
    "editable": true
   },
   "outputs": [
    {
     "data": {
      "text/latex": [
       "$[788.91105,~909.12242,~819.25874,~736.40311,~660.12744,~590.09986,~525.81051,~467.13145,~413.4345,~364.76727,~311.8832,~266.54781,~227.80344,~194.6862,~166.39138,~142.27687,~121.61827,~103.96636,~88.886786,~75.71098,~64.495697,~55.00092,~46.934545,~100.18191,~67.770168,~46.027299,~31.324825,~21.160388,~14.45849,~9.9859289,~6.9729488,~4.9151219,~3.5082332,~5.1336245,~2.8385725,~1.5444235,~0.81382594,~0.41405449,~0.20060096,~0.092093558,~0.041126474,~0.017148581,~0.0070267116,~0.0028570186,~0.0012096412,~0.00051530806] \\; \\mathrm{\\frac{kg}{m^{2}}}$"
      ],
      "text/plain": [
       "<Quantity [  7.88911049e+02,  9.09122419e+02,  8.19258739e+02,\n",
       "             7.36403109e+02,  6.60127444e+02,  5.90099862e+02,\n",
       "             5.25810511e+02,  4.67131447e+02,  4.13434495e+02,\n",
       "             3.64767274e+02,  3.11883198e+02,  2.66547806e+02,\n",
       "             2.27803443e+02,  1.94686202e+02,  1.66391384e+02,\n",
       "             1.42276865e+02,  1.21618271e+02,  1.03966357e+02,\n",
       "             8.88867859e+01,  7.57109801e+01,  6.44956966e+01,\n",
       "             5.50009203e+01,  4.69345452e+01,  1.00181914e+02,\n",
       "             6.77701679e+01,  4.60272986e+01,  3.13248252e+01,\n",
       "             2.11603883e+01,  1.44584904e+01,  9.98592889e+00,\n",
       "             6.97294876e+00,  4.91512195e+00,  3.50823324e+00,\n",
       "             5.13362446e+00,  2.83857254e+00,  1.54442348e+00,\n",
       "             8.13825938e-01,  4.14054493e-01,  2.00600957e-01,\n",
       "             9.20935576e-02,  4.11264742e-02,  1.71485808e-02,\n",
       "             7.02671160e-03,  2.85701857e-03,  1.20964123e-03,\n",
       "             5.15308057e-04] kg / m2>"
      ]
     },
     "execution_count": 30,
     "metadata": {},
     "output_type": "execute_result"
    }
   ],
   "source": [
    "vec_Air"
   ]
  },
  {
   "cell_type": "code",
   "execution_count": 31,
   "metadata": {
    "collapsed": true,
    "deletable": true,
    "editable": true
   },
   "outputs": [],
   "source": [
    "total_PWV=vec_PWV.sum()"
   ]
  },
  {
   "cell_type": "code",
   "execution_count": 32,
   "metadata": {
    "collapsed": false,
    "deletable": true,
    "editable": true
   },
   "outputs": [
    {
     "name": "stdout",
     "output_type": "stream",
     "text": [
      "6.46469085905 kg / m2\n"
     ]
    }
   ],
   "source": [
    "print total_PWV"
   ]
  },
  {
   "cell_type": "code",
   "execution_count": null,
   "metadata": {
    "collapsed": true,
    "deletable": true,
    "editable": true
   },
   "outputs": [],
   "source": []
  }
 ],
 "metadata": {
  "anaconda-cloud": {},
  "kernelspec": {
   "display_name": "Python [conda env:pyastrophys]",
   "language": "python",
   "name": "conda-env-pyastrophys-py"
  },
  "language_info": {
   "codemirror_mode": {
    "name": "ipython",
    "version": 2
   },
   "file_extension": ".py",
   "mimetype": "text/x-python",
   "name": "python",
   "nbconvert_exporter": "python",
   "pygments_lexer": "ipython2",
   "version": "2.7.12"
  },
  "toc": {
   "colors": {
    "hover_highlight": "#DAA520",
    "running_highlight": "#FF0000",
    "selected_highlight": "#FFD700"
   },
   "moveMenuLeft": true,
   "nav_menu": {
    "height": "12px",
    "width": "252px"
   },
   "navigate_menu": true,
   "number_sections": true,
   "sideBar": true,
   "threshold": 4,
   "toc_cell": false,
   "toc_section_display": "block",
   "toc_window_display": false,
   "widenNotebook": false
  }
 },
 "nbformat": 4,
 "nbformat_minor": 2
}
