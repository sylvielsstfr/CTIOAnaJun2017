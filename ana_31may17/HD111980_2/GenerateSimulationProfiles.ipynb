{
 "cells": [
  {
   "cell_type": "markdown",
   "metadata": {
    "deletable": true,
    "editable": true
   },
   "source": [
    "# Simulation of observed spectrum\n",
    "\n",
    "- author : Sylvie Dagoret-Campagne\n",
    "- date jun 19th 2017"
   ]
  },
  {
   "cell_type": "code",
   "execution_count": 82,
   "metadata": {
    "collapsed": false,
    "deletable": true,
    "editable": true
   },
   "outputs": [
    {
     "data": {
      "application/javascript": [
       "var kernel = IPython.notebook.kernel;\n",
       "var thename = window.document.getElementById(\"notebook_name\").innerHTML;\n",
       "var command = \"theNotebook = \" + \"'\"+thename+\"'\";\n",
       "kernel.execute(command);"
      ],
      "text/plain": [
       "<IPython.core.display.Javascript object>"
      ]
     },
     "metadata": {},
     "output_type": "display_data"
    }
   ],
   "source": [
    "%%javascript\n",
    "var kernel = IPython.notebook.kernel;\n",
    "var thename = window.document.getElementById(\"notebook_name\").innerHTML;\n",
    "var command = \"theNotebook = \" + \"'\"+thename+\"'\";\n",
    "kernel.execute(command);"
   ]
  },
  {
   "cell_type": "code",
   "execution_count": 83,
   "metadata": {
    "collapsed": false,
    "deletable": true,
    "editable": true
   },
   "outputs": [
    {
     "name": "stdout",
     "output_type": "stream",
     "text": [
      "GenerateSimulationProfiles\n"
     ]
    }
   ],
   "source": [
    "print(theNotebook)"
   ]
  },
  {
   "cell_type": "code",
   "execution_count": 84,
   "metadata": {
    "collapsed": true,
    "deletable": true,
    "editable": true
   },
   "outputs": [],
   "source": [
    "%matplotlib inline\n",
    "import matplotlib.pyplot as plt\n",
    "import matplotlib as mpl\n",
    "import numpy as np\n",
    "\n",
    "from astropy.modeling import models\n",
    "from astropy import units as u\n",
    "from astropy import nddata\n",
    "from astropy.io import fits\n",
    "from astropy.table import Table, Column\n",
    "import re\n",
    "import os"
   ]
  },
  {
   "cell_type": "code",
   "execution_count": 85,
   "metadata": {
    "collapsed": true,
    "deletable": true,
    "editable": true
   },
   "outputs": [],
   "source": [
    "import pandas as pd"
   ]
  },
  {
   "cell_type": "code",
   "execution_count": 86,
   "metadata": {
    "collapsed": false,
    "deletable": true,
    "editable": true
   },
   "outputs": [],
   "source": [
    "from matplotlib.backends.backend_pdf import PdfPages"
   ]
  },
  {
   "cell_type": "markdown",
   "metadata": {
    "deletable": true,
    "editable": true
   },
   "source": [
    "### Import libradtan tools for simulation"
   ]
  },
  {
   "cell_type": "code",
   "execution_count": 87,
   "metadata": {
    "collapsed": true,
    "deletable": true,
    "editable": true
   },
   "outputs": [],
   "source": [
    "import sys\n",
    "sys.path.append('../../spectrumsim/libradtransim')"
   ]
  },
  {
   "cell_type": "code",
   "execution_count": 88,
   "metadata": {
    "collapsed": true,
    "deletable": true,
    "editable": true
   },
   "outputs": [],
   "source": [
    "from libsimulateTranspCTIOScattAbs import *"
   ]
  },
  {
   "cell_type": "code",
   "execution_count": 89,
   "metadata": {
    "collapsed": true,
    "deletable": true,
    "editable": true
   },
   "outputs": [],
   "source": [
    "sys.path.append('../../spectrumsim')\n",
    "import libCTIOTransm as ctiosim "
   ]
  },
  {
   "cell_type": "markdown",
   "metadata": {
    "deletable": true,
    "editable": true
   },
   "source": [
    "### import pysynphot tools for CALSPEC SED"
   ]
  },
  {
   "cell_type": "code",
   "execution_count": 90,
   "metadata": {
    "collapsed": false,
    "deletable": true,
    "editable": true
   },
   "outputs": [
    {
     "data": {
      "text/plain": [
       "'/Users/dagoret-campagnesylvie/MacOsX/External/PySyn_CDBS/grp/hst/cdbs'"
      ]
     },
     "execution_count": 90,
     "metadata": {},
     "output_type": "execute_result"
    }
   ],
   "source": [
    "os.environ['PYSYN_CDBS']"
   ]
  },
  {
   "cell_type": "code",
   "execution_count": 91,
   "metadata": {
    "collapsed": true,
    "deletable": true,
    "editable": true
   },
   "outputs": [],
   "source": [
    "import pysynphot as S\n",
    "from astropy.io import ascii"
   ]
  },
  {
   "cell_type": "markdown",
   "metadata": {
    "deletable": true,
    "editable": true
   },
   "source": [
    "### CTIO Properties"
   ]
  },
  {
   "cell_type": "code",
   "execution_count": 92,
   "metadata": {
    "collapsed": false,
    "deletable": true,
    "editable": true
   },
   "outputs": [],
   "source": [
    "path_ctiodata='../../spectrumsim/CTIOThroughput'\n",
    "qe_filename='qecurve.txt'"
   ]
  },
  {
   "cell_type": "markdown",
   "metadata": {
    "deletable": true,
    "editable": true
   },
   "source": [
    "### esthetic"
   ]
  },
  {
   "cell_type": "code",
   "execution_count": 93,
   "metadata": {
    "collapsed": true,
    "deletable": true,
    "editable": true
   },
   "outputs": [],
   "source": [
    "# to enlarge the sizes\n",
    "params = {'legend.fontsize': 'x-large',\n",
    "          'figure.figsize': (8, 6),\n",
    "         'axes.labelsize': 'x-large',\n",
    "         'axes.titlesize':'x-large',\n",
    "         'xtick.labelsize':'x-large',\n",
    "         'ytick.labelsize':'x-large'}\n",
    "plt.rcParams.update(params)"
   ]
  },
  {
   "cell_type": "code",
   "execution_count": 94,
   "metadata": {
    "collapsed": true,
    "deletable": true,
    "editable": true
   },
   "outputs": [],
   "source": [
    "############################################################################\n",
    "def ensure_dir(f):\n",
    "    d = os.path.dirname(f)\n",
    "    if not os.path.exists(f):\n",
    "        os.makedirs(f)\n",
    "#########################################################################"
   ]
  },
  {
   "cell_type": "code",
   "execution_count": 95,
   "metadata": {
    "collapsed": true,
    "deletable": true,
    "editable": true
   },
   "outputs": [],
   "source": [
    "def truncate(f, n):\n",
    "    '''Truncates/pads a float f to n decimal places without rounding'''\n",
    "    s = '{}'.format(f)\n",
    "    if 'e' in s or 'E' in s:\n",
    "        return '{0:.{1}f}'.format(f, n)\n",
    "    i, p, d = s.partition('.')\n",
    "    return '.'.join([i, (d+'0'*n)[:n]])"
   ]
  },
  {
   "cell_type": "code",
   "execution_count": 96,
   "metadata": {
    "collapsed": true,
    "deletable": true,
    "editable": true
   },
   "outputs": [],
   "source": [
    "infos='ctio31may2017'"
   ]
  },
  {
   "cell_type": "code",
   "execution_count": null,
   "metadata": {
    "collapsed": true,
    "deletable": true,
    "editable": true
   },
   "outputs": [],
   "source": [
    "\n"
   ]
  },
  {
   "cell_type": "code",
   "execution_count": 97,
   "metadata": {
    "collapsed": true,
    "deletable": true,
    "editable": true
   },
   "outputs": [],
   "source": [
    "rootpath_rawimage=\"../OverScanRemove/trim_images\"\n",
    "MIN_IMGNUMBER=74\n",
    "MAX_IMGNUMBER=108\n",
    "object_name='HD111980_May_31th'\n",
    "SelectTagRe='^trim_20170531_([0-9]+).fits$' # regular expression to select the file\n",
    "SearchTagRe='^trim_20170531_[0-9]+.fits$'\n",
    "NBIMGPERLROW=4\n",
    "calspec_sed='hd111980_stis_003.fits'"
   ]
  },
  {
   "cell_type": "code",
   "execution_count": null,
   "metadata": {
    "collapsed": true,
    "deletable": true,
    "editable": true
   },
   "outputs": [],
   "source": []
  },
  {
   "cell_type": "code",
   "execution_count": 98,
   "metadata": {
    "collapsed": false,
    "deletable": true,
    "editable": true
   },
   "outputs": [],
   "source": [
    "logfile='logbk_'+object_name+'_'+infos+'.fits'\n",
    "pandaslogfile='logbk_'+object_name+'_'+infos+'.csv'"
   ]
  },
  {
   "cell_type": "code",
   "execution_count": 99,
   "metadata": {
    "collapsed": true,
    "deletable": true,
    "editable": true
   },
   "outputs": [],
   "source": [
    "outputfitsfile='AllSimSpectra_'+object_name+'.fits'"
   ]
  },
  {
   "cell_type": "code",
   "execution_count": 100,
   "metadata": {
    "collapsed": true,
    "deletable": true,
    "editable": true
   },
   "outputs": [],
   "source": [
    "dir_top_images=\"images_notebooks/\"+theNotebook ### Top directory to save images"
   ]
  },
  {
   "cell_type": "code",
   "execution_count": 101,
   "metadata": {
    "collapsed": true,
    "deletable": true,
    "editable": true
   },
   "outputs": [],
   "source": [
    "ensure_dir(dir_top_images)"
   ]
  },
  {
   "cell_type": "markdown",
   "metadata": {
    "deletable": true,
    "editable": true
   },
   "source": [
    "## Get list of airmass"
   ]
  },
  {
   "cell_type": "code",
   "execution_count": 102,
   "metadata": {
    "collapsed": false,
    "deletable": true,
    "editable": true
   },
   "outputs": [],
   "source": [
    "df=pd.read_csv(pandaslogfile)"
   ]
  },
  {
   "cell_type": "code",
   "execution_count": 103,
   "metadata": {
    "collapsed": false,
    "deletable": true,
    "editable": true
   },
   "outputs": [
    {
     "data": {
      "text/html": [
       "<div>\n",
       "<table border=\"1\" class=\"dataframe\">\n",
       "  <thead>\n",
       "    <tr style=\"text-align: right;\">\n",
       "      <th></th>\n",
       "      <th>Unnamed: 0</th>\n",
       "      <th>number</th>\n",
       "      <th>airmass</th>\n",
       "      <th>date</th>\n",
       "      <th>filename</th>\n",
       "      <th>exposure</th>\n",
       "      <th>zenith</th>\n",
       "      <th>temperature</th>\n",
       "      <th>pressure</th>\n",
       "      <th>humidity</th>\n",
       "      <th>windspeed</th>\n",
       "      <th>seeing</th>\n",
       "      <th>filter1</th>\n",
       "      <th>filter2</th>\n",
       "    </tr>\n",
       "  </thead>\n",
       "  <tbody>\n",
       "    <tr>\n",
       "      <th>0</th>\n",
       "      <td>0</td>\n",
       "      <td>74</td>\n",
       "      <td>1.178</td>\n",
       "      <td>2017-06-01T03:09:08.102</td>\n",
       "      <td>../OverScanRemove/trim_images/</td>\n",
       "      <td>120.0</td>\n",
       "      <td>31.910999</td>\n",
       "      <td>11.3</td>\n",
       "      <td>781.0</td>\n",
       "      <td>22.0</td>\n",
       "      <td>21.000000</td>\n",
       "      <td>0.963</td>\n",
       "      <td>RG715</td>\n",
       "      <td>Ron400</td>\n",
       "    </tr>\n",
       "    <tr>\n",
       "      <th>1</th>\n",
       "      <td>1</td>\n",
       "      <td>75</td>\n",
       "      <td>1.185</td>\n",
       "      <td>2017-06-01T03:12:00.598</td>\n",
       "      <td>../OverScanRemove/trim_images/</td>\n",
       "      <td>120.0</td>\n",
       "      <td>32.516998</td>\n",
       "      <td>11.3</td>\n",
       "      <td>781.0</td>\n",
       "      <td>22.0</td>\n",
       "      <td>21.700001</td>\n",
       "      <td>0.963</td>\n",
       "      <td>RG715</td>\n",
       "      <td>Thor300</td>\n",
       "    </tr>\n",
       "    <tr>\n",
       "      <th>2</th>\n",
       "      <td>2</td>\n",
       "      <td>76</td>\n",
       "      <td>1.194</td>\n",
       "      <td>2017-06-01T03:14:53.106</td>\n",
       "      <td>../OverScanRemove/trim_images/</td>\n",
       "      <td>120.0</td>\n",
       "      <td>33.124001</td>\n",
       "      <td>11.3</td>\n",
       "      <td>781.0</td>\n",
       "      <td>22.0</td>\n",
       "      <td>21.299999</td>\n",
       "      <td>0.963</td>\n",
       "      <td>RG715</td>\n",
       "      <td>HoloPhP</td>\n",
       "    </tr>\n",
       "    <tr>\n",
       "      <th>3</th>\n",
       "      <td>3</td>\n",
       "      <td>77</td>\n",
       "      <td>1.202</td>\n",
       "      <td>2017-06-01T03:17:45.602</td>\n",
       "      <td>../OverScanRemove/trim_images/</td>\n",
       "      <td>240.0</td>\n",
       "      <td>33.733002</td>\n",
       "      <td>11.4</td>\n",
       "      <td>781.0</td>\n",
       "      <td>22.0</td>\n",
       "      <td>21.900000</td>\n",
       "      <td>1.190</td>\n",
       "      <td>RG715</td>\n",
       "      <td>HoloPhAg</td>\n",
       "    </tr>\n",
       "    <tr>\n",
       "      <th>4</th>\n",
       "      <td>4</td>\n",
       "      <td>78</td>\n",
       "      <td>1.217</td>\n",
       "      <td>2017-06-01T03:22:38.101</td>\n",
       "      <td>../OverScanRemove/trim_images/</td>\n",
       "      <td>240.0</td>\n",
       "      <td>34.768002</td>\n",
       "      <td>11.4</td>\n",
       "      <td>781.0</td>\n",
       "      <td>22.0</td>\n",
       "      <td>21.700001</td>\n",
       "      <td>1.346</td>\n",
       "      <td>RG715</td>\n",
       "      <td>HoloAmAg</td>\n",
       "    </tr>\n",
       "  </tbody>\n",
       "</table>\n",
       "</div>"
      ],
      "text/plain": [
       "   Unnamed: 0  number  airmass                     date  \\\n",
       "0           0      74    1.178  2017-06-01T03:09:08.102   \n",
       "1           1      75    1.185  2017-06-01T03:12:00.598   \n",
       "2           2      76    1.194  2017-06-01T03:14:53.106   \n",
       "3           3      77    1.202  2017-06-01T03:17:45.602   \n",
       "4           4      78    1.217  2017-06-01T03:22:38.101   \n",
       "\n",
       "                         filename  exposure     zenith  temperature  pressure  \\\n",
       "0  ../OverScanRemove/trim_images/     120.0  31.910999         11.3     781.0   \n",
       "1  ../OverScanRemove/trim_images/     120.0  32.516998         11.3     781.0   \n",
       "2  ../OverScanRemove/trim_images/     120.0  33.124001         11.3     781.0   \n",
       "3  ../OverScanRemove/trim_images/     240.0  33.733002         11.4     781.0   \n",
       "4  ../OverScanRemove/trim_images/     240.0  34.768002         11.4     781.0   \n",
       "\n",
       "   humidity  windspeed  seeing filter1   filter2  \n",
       "0      22.0  21.000000   0.963   RG715    Ron400  \n",
       "1      22.0  21.700001   0.963   RG715   Thor300  \n",
       "2      22.0  21.299999   0.963   RG715   HoloPhP  \n",
       "3      22.0  21.900000   1.190   RG715  HoloPhAg  \n",
       "4      22.0  21.700001   1.346   RG715  HoloAmAg  "
      ]
     },
     "execution_count": 103,
     "metadata": {},
     "output_type": "execute_result"
    }
   ],
   "source": [
    "df.head()"
   ]
  },
  {
   "cell_type": "code",
   "execution_count": 104,
   "metadata": {
    "collapsed": false,
    "deletable": true,
    "editable": true
   },
   "outputs": [],
   "source": [
    "airmasses=df[\"airmass\"]\n",
    "date=df['date']\n",
    "expo=df['exposure']\n",
    "datafile=df['filename']\n",
    "temperature=df['temperature']\n",
    "pressure=df['pressure']\n",
    "humidity=df['humidity']\n",
    "seeing=df['seeing']\n",
    "disperser=df['filter2']"
   ]
  },
  {
   "cell_type": "code",
   "execution_count": null,
   "metadata": {
    "collapsed": false,
    "deletable": true,
    "editable": true
   },
   "outputs": [],
   "source": []
  },
  {
   "cell_type": "markdown",
   "metadata": {
    "deletable": true,
    "editable": true
   },
   "source": [
    "## Get quantum efficiency"
   ]
  },
  {
   "cell_type": "code",
   "execution_count": 105,
   "metadata": {
    "collapsed": true,
    "deletable": true,
    "editable": true
   },
   "outputs": [],
   "source": [
    "wl_qe,tr_qe=ctiosim. Get_QE()"
   ]
  },
  {
   "cell_type": "code",
   "execution_count": 106,
   "metadata": {
    "collapsed": false,
    "deletable": true,
    "editable": true
   },
   "outputs": [
    {
     "data": {
      "text/plain": [
       "[<matplotlib.lines.Line2D at 0x105a4fa10>]"
      ]
     },
     "execution_count": 106,
     "metadata": {},
     "output_type": "execute_result"
    },
    {
     "data": {
      "image/png": "[encoded data removed]",
      "text/plain": [
       "<matplotlib.figure.Figure at 0x10d60c0d0>"
      ]
     },
     "metadata": {},
     "output_type": "display_data"
    }
   ],
   "source": [
    "plt.plot(wl_qe,tr_qe)"
   ]
  },
  {
   "cell_type": "code",
   "execution_count": 107,
   "metadata": {
    "collapsed": true,
    "deletable": true,
    "editable": true
   },
   "outputs": [],
   "source": [
    "bp_ctio_qe = S.ArrayBandpass(wl_qe*10.,tr_qe, name='CTIO QE')"
   ]
  },
  {
   "cell_type": "code",
   "execution_count": null,
   "metadata": {
    "collapsed": true,
    "deletable": true,
    "editable": true
   },
   "outputs": [],
   "source": []
  },
  {
   "cell_type": "markdown",
   "metadata": {
    "deletable": true,
    "editable": true
   },
   "source": [
    "## Get mirror"
   ]
  },
  {
   "cell_type": "code",
   "execution_count": 108,
   "metadata": {
    "collapsed": true,
    "deletable": true,
    "editable": true
   },
   "outputs": [],
   "source": [
    "wl_m,tr_m=ctiosim. Get_Mirror()"
   ]
  },
  {
   "cell_type": "code",
   "execution_count": 109,
   "metadata": {
    "collapsed": false,
    "deletable": true,
    "editable": true
   },
   "outputs": [
    {
     "data": {
      "text/plain": [
       "[<matplotlib.lines.Line2D at 0x10d8e06d0>]"
      ]
     },
     "execution_count": 109,
     "metadata": {},
     "output_type": "execute_result"
    },
    {
     "data": {
      "image/png": "[encoded data removed]",
      "text/plain": [
       "<matplotlib.figure.Figure at 0x105a77790>"
      ]
     },
     "metadata": {},
     "output_type": "display_data"
    }
   ],
   "source": [
    "plt.plot(wl_m,tr_m)"
   ]
  },
  {
   "cell_type": "code",
   "execution_count": 110,
   "metadata": {
    "collapsed": true,
    "deletable": true,
    "editable": true
   },
   "outputs": [],
   "source": [
    "bp_ctio_m = S.ArrayBandpass(wl_m*10.,tr_m*tr_m, name='CTIO Mirror2')  # two mirrors"
   ]
  },
  {
   "cell_type": "markdown",
   "metadata": {
    "deletable": true,
    "editable": true
   },
   "source": [
    "### Get Filter"
   ]
  },
  {
   "cell_type": "code",
   "execution_count": 113,
   "metadata": {
    "collapsed": true,
    "deletable": true,
    "editable": true
   },
   "outputs": [],
   "source": [
    "wl_f,tr_f=ctiosim. Get_RG175()"
   ]
  },
  {
   "cell_type": "code",
   "execution_count": 116,
   "metadata": {
    "collapsed": false,
    "deletable": true,
    "editable": true
   },
   "outputs": [],
   "source": [
    "bp_ctio_f = S.ArrayBandpass(wl_f*10.,tr_f, name='RG175')  # two mirrors"
   ]
  },
  {
   "cell_type": "code",
   "execution_count": 119,
   "metadata": {
    "collapsed": false
   },
   "outputs": [
    {
     "data": {
      "text/plain": [
       "[<matplotlib.lines.Line2D at 0x10ba79050>]"
      ]
     },
     "execution_count": 119,
     "metadata": {},
     "output_type": "execute_result"
    },
    {
     "data": {
      "image/png": "[encoded data removed]",
      "text/plain": [
       "<matplotlib.figure.Figure at 0x10d8e0e10>"
      ]
     },
     "metadata": {},
     "output_type": "display_data"
    }
   ],
   "source": [
    "plt.plot(bp_ctio_f.wave,bp_ctio_f.throughput)"
   ]
  },
  {
   "cell_type": "markdown",
   "metadata": {
    "deletable": true,
    "editable": true
   },
   "source": [
    "### Combine"
   ]
  },
  {
   "cell_type": "code",
   "execution_count": 123,
   "metadata": {
    "collapsed": false,
    "deletable": true,
    "editable": true
   },
   "outputs": [],
   "source": [
    "bp_ctio=bp_ctio_qe*bp_ctio_m*bp_ctio_f"
   ]
  },
  {
   "cell_type": "code",
   "execution_count": 124,
   "metadata": {
    "collapsed": false,
    "deletable": true,
    "editable": true
   },
   "outputs": [
    {
     "data": {
      "text/plain": [
       "[<matplotlib.lines.Line2D at 0x10d8a2810>]"
      ]
     },
     "execution_count": 124,
     "metadata": {},
     "output_type": "execute_result"
    },
    {
     "data": {
      "image/png": "[encoded data removed]",
      "text/plain": [
       "<matplotlib.figure.Figure at 0x10d8c1b90>"
      ]
     },
     "metadata": {},
     "output_type": "display_data"
    }
   ],
   "source": [
    "plt.plot(bp_ctio.wave,bp_ctio.throughput,'r-')\n",
    "plt.plot(wl_qe*10,tr_qe,'b-')"
   ]
  },
  {
   "cell_type": "markdown",
   "metadata": {
    "deletable": true,
    "editable": true
   },
   "source": [
    "## Get SED from CALSPEC \n",
    "\n",
    "- using Pysynphot"
   ]
  },
  {
   "cell_type": "code",
   "execution_count": 125,
   "metadata": {
    "collapsed": true,
    "deletable": true,
    "editable": true
   },
   "outputs": [],
   "source": [
    "CTIO_COLL_SURF=0.9*(u.m)**2/(u.cm)**2  # LSST collectif surface\n",
    "WLMIN=3000.\n",
    "WLMAX=11000."
   ]
  },
  {
   "cell_type": "code",
   "execution_count": 126,
   "metadata": {
    "collapsed": false,
    "deletable": true,
    "editable": true
   },
   "outputs": [],
   "source": [
    "S.refs.setref(area=CTIO_COLL_SURF.decompose(), waveset=None)\n",
    "S.refs.set_default_waveset(minwave=WLMIN, maxwave=WLMAX, delta=10, log=False)"
   ]
  },
  {
   "cell_type": "code",
   "execution_count": 127,
   "metadata": {
    "collapsed": false,
    "deletable": true,
    "editable": true
   },
   "outputs": [],
   "source": [
    "filename = os.path.join(os.environ['PYSYN_CDBS'], 'calspec',calspec_sed)\n",
    "sed = S.FileSpectrum(filename)"
   ]
  },
  {
   "cell_type": "code",
   "execution_count": 128,
   "metadata": {
    "collapsed": false,
    "deletable": true,
    "editable": true
   },
   "outputs": [
    {
     "name": "stdout",
     "output_type": "stream",
     "text": [
      "XTENSION= 'BINTABLE'           /Written by IDL:  Wed Dec 24 09:03:03 2014       BITPIX  =                    8 /                                                NAXIS   =                    2 /Binary table                                    NAXIS1  =                   30 /Number of bytes per row                         NAXIS2  =                 3739 /Number of rows                                  PCOUNT  =                    0 /Random parameter count                          GCOUNT  =                    1 /Group count                                     TFIELDS =                    7 /Number of columns                               EXTNAME = 'SCI     '           /                                                EXTVER  =                    1 /                                                INHERIT =                    T /                                                TFORM1  = '1D      '           /Real*8 (double precision)                       TTYPE1  = 'WAVELENGTH'         /Label for column 1                              TUNIT1  = 'ANGSTROMS'          /Units of column 1                               TDISP1  = 'G10.4   '           /Display format for column 1                     TFORM2  = '1E      '           /Real*4 (floating point)                         TTYPE2  = 'FLUX    '           /Absolutely calibrated net spectrum              TUNIT2  = 'FLAM    '           /Units of column 2                               TDISP2  = 'E12.4   '           /Display format for column 2                     TFORM3  = '1E      '           /Real*4 (floating point)                         TTYPE3  = 'STATERROR'          /Statistical flux error                          TUNIT3  = 'FLAM    '           /Units of column 3                               TDISP3  = 'E12.4   '           /Display format for column 3                     TFORM4  = '1E      '           /Real*4 (floating point)                         TTYPE4  = 'SYSERROR'           /Systematic flux error=0.01*FLAM                 TUNIT4  = 'FLAM    '           /Units of column 4                               TDISP4  = 'E12.4   '           /Display format for column 4                     TFORM5  = '1E      '           /Real*4 (floating point)                         TTYPE5  = 'FWHM    '           /FWHM spectral resolution                        TUNIT5  = 'ANGSTROMS'          /Units of column 5                               TDISP5  = 'G6.2    '           /Display format for column 5                     TFORM6  = '1I      '           /Integer*2 (short integer)                       TTYPE6  = 'DATAQUAL'           /Data quality: 1=good, 0=bad                     TUNIT6  = 'NONE    '           /Units of column 6                               TDISP6  = 'I2      '           /Display format for column 6                     TFORM7  = '1E      '           /Real*4 (floating point)                         TTYPE7  = 'TOTEXP  '           /Total exposure time                             TUNIT7  = 'SEC     '           /Units of column 7                               TDISP7  = 'G10.2   '           /Display format for column 7                     END                                                                                                                                                                                                                                                                                                                                                                                                                                                                                                                                                                                                                                                                                                                                                                                                                                                                                                                                                                                                                                                                                                                                                                                                                                                                                                                                                                                                                                                                                                                                                                                                                                                                                                                                                                                                                                                                                                                                                                                                                                                                                                                                                                                                                                                                                                                                                                                                                                                                                                                                                                                                                                                                                                                                             \n"
     ]
    }
   ],
   "source": [
    "with fits.open(filename) as pf:\n",
    "    print(pf[1].header)"
   ]
  },
  {
   "cell_type": "markdown",
   "metadata": {
    "deletable": true,
    "editable": true
   },
   "source": [
    "# Simulate atmosphere"
   ]
  },
  {
   "cell_type": "code",
   "execution_count": 129,
   "metadata": {
    "collapsed": true,
    "deletable": true,
    "editable": true
   },
   "outputs": [],
   "source": [
    "all_wl_atm= []\n",
    "all_tr_atm= []\n",
    "all_bp_atm = []\n",
    "PWV=4.\n",
    "OZ=300."
   ]
  },
  {
   "cell_type": "code",
   "execution_count": 130,
   "metadata": {
    "collapsed": false,
    "deletable": true,
    "editable": true
   },
   "outputs": [
    {
     "name": "stdout",
     "output_type": "stream",
     "text": [
      "--------------------------------------------\n",
      " 2) airmass =  1.1779999733\n",
      " 2) pwv =  4.0\n",
      " 2) oz =  300.0\n",
      "--------------------------------------------\n",
      "('Running uvspec with input file: ', 'simulations/RT/2.0.1/CT/pp/us/sa/rt/in/RT_CT_pp_us_sa_rt_z11_wv40_oz30.INP')\n",
      "('Output to file                : ', 'simulations/RT/2.0.1/CT/pp/us/sa/rt/out/RT_CT_pp_us_sa_rt_z11_wv40_oz30.OUT')\n",
      "('uvspec cmd: ', '/Users/dagoret-campagnesylvie/MacOsX/LSST/softs/libRadtran-2.0.1/bin/uvspec  < simulations/RT/2.0.1/CT/pp/us/sa/rt/in/RT_CT_pp_us_sa_rt_z11_wv40_oz30.INP > simulations/RT/2.0.1/CT/pp/us/sa/rt/out/RT_CT_pp_us_sa_rt_z11_wv40_oz30.OUT')\n",
      "--------------------------------------------\n",
      " 2) airmass =  1.18499994278\n",
      " 2) pwv =  4.0\n",
      " 2) oz =  300.0\n",
      "--------------------------------------------\n",
      "('Running uvspec with input file: ', 'simulations/RT/2.0.1/CT/pp/us/sa/rt/in/RT_CT_pp_us_sa_rt_z11_wv40_oz30.INP')\n",
      "('Output to file                : ', 'simulations/RT/2.0.1/CT/pp/us/sa/rt/out/RT_CT_pp_us_sa_rt_z11_wv40_oz30.OUT')\n",
      "('uvspec cmd: ', '/Users/dagoret-campagnesylvie/MacOsX/LSST/softs/libRadtran-2.0.1/bin/uvspec  < simulations/RT/2.0.1/CT/pp/us/sa/rt/in/RT_CT_pp_us_sa_rt_z11_wv40_oz30.INP > simulations/RT/2.0.1/CT/pp/us/sa/rt/out/RT_CT_pp_us_sa_rt_z11_wv40_oz30.OUT')\n",
      "--------------------------------------------\n",
      " 2) airmass =  1.19400000572\n",
      " 2) pwv =  4.0\n",
      " 2) oz =  300.0\n",
      "--------------------------------------------\n",
      "('Running uvspec with input file: ', 'simulations/RT/2.0.1/CT/pp/us/sa/rt/in/RT_CT_pp_us_sa_rt_z11_wv40_oz30.INP')\n",
      "('Output to file                : ', 'simulations/RT/2.0.1/CT/pp/us/sa/rt/out/RT_CT_pp_us_sa_rt_z11_wv40_oz30.OUT')\n",
      "('uvspec cmd: ', '/Users/dagoret-campagnesylvie/MacOsX/LSST/softs/libRadtran-2.0.1/bin/uvspec  < simulations/RT/2.0.1/CT/pp/us/sa/rt/in/RT_CT_pp_us_sa_rt_z11_wv40_oz30.INP > simulations/RT/2.0.1/CT/pp/us/sa/rt/out/RT_CT_pp_us_sa_rt_z11_wv40_oz30.OUT')\n",
      "--------------------------------------------\n",
      " 2) airmass =  1.20200002193\n",
      " 2) pwv =  4.0\n",
      " 2) oz =  300.0\n",
      "--------------------------------------------\n",
      "('Running uvspec with input file: ', 'simulations/RT/2.0.1/CT/pp/us/sa/rt/in/RT_CT_pp_us_sa_rt_z12_wv40_oz30.INP')\n",
      "('Output to file                : ', 'simulations/RT/2.0.1/CT/pp/us/sa/rt/out/RT_CT_pp_us_sa_rt_z12_wv40_oz30.OUT')\n",
      "('uvspec cmd: ', '/Users/dagoret-campagnesylvie/MacOsX/LSST/softs/libRadtran-2.0.1/bin/uvspec  < simulations/RT/2.0.1/CT/pp/us/sa/rt/in/RT_CT_pp_us_sa_rt_z12_wv40_oz30.INP > simulations/RT/2.0.1/CT/pp/us/sa/rt/out/RT_CT_pp_us_sa_rt_z12_wv40_oz30.OUT')\n",
      "--------------------------------------------\n",
      " 2) airmass =  1.21700000763\n",
      " 2) pwv =  4.0\n",
      " 2) oz =  300.0\n",
      "--------------------------------------------\n",
      "('Running uvspec with input file: ', 'simulations/RT/2.0.1/CT/pp/us/sa/rt/in/RT_CT_pp_us_sa_rt_z12_wv40_oz30.INP')\n",
      "('Output to file                : ', 'simulations/RT/2.0.1/CT/pp/us/sa/rt/out/RT_CT_pp_us_sa_rt_z12_wv40_oz30.OUT')\n",
      "('uvspec cmd: ', '/Users/dagoret-campagnesylvie/MacOsX/LSST/softs/libRadtran-2.0.1/bin/uvspec  < simulations/RT/2.0.1/CT/pp/us/sa/rt/in/RT_CT_pp_us_sa_rt_z12_wv40_oz30.INP > simulations/RT/2.0.1/CT/pp/us/sa/rt/out/RT_CT_pp_us_sa_rt_z12_wv40_oz30.OUT')\n",
      "--------------------------------------------\n",
      " 2) airmass =  1.23199999332\n",
      " 2) pwv =  4.0\n",
      " 2) oz =  300.0\n",
      "--------------------------------------------\n",
      "('Running uvspec with input file: ', 'simulations/RT/2.0.1/CT/pp/us/sa/rt/in/RT_CT_pp_us_sa_rt_z12_wv40_oz30.INP')\n",
      "('Output to file                : ', 'simulations/RT/2.0.1/CT/pp/us/sa/rt/out/RT_CT_pp_us_sa_rt_z12_wv40_oz30.OUT')\n",
      "('uvspec cmd: ', '/Users/dagoret-campagnesylvie/MacOsX/LSST/softs/libRadtran-2.0.1/bin/uvspec  < simulations/RT/2.0.1/CT/pp/us/sa/rt/in/RT_CT_pp_us_sa_rt_z12_wv40_oz30.INP > simulations/RT/2.0.1/CT/pp/us/sa/rt/out/RT_CT_pp_us_sa_rt_z12_wv40_oz30.OUT')\n",
      "--------------------------------------------\n",
      " 2) airmass =  1.24199998379\n",
      " 2) pwv =  4.0\n",
      " 2) oz =  300.0\n",
      "--------------------------------------------\n",
      "('Running uvspec with input file: ', 'simulations/RT/2.0.1/CT/pp/us/sa/rt/in/RT_CT_pp_us_sa_rt_z12_wv40_oz30.INP')\n",
      "('Output to file                : ', 'simulations/RT/2.0.1/CT/pp/us/sa/rt/out/RT_CT_pp_us_sa_rt_z12_wv40_oz30.OUT')\n",
      "('uvspec cmd: ', '/Users/dagoret-campagnesylvie/MacOsX/LSST/softs/libRadtran-2.0.1/bin/uvspec  < simulations/RT/2.0.1/CT/pp/us/sa/rt/in/RT_CT_pp_us_sa_rt_z12_wv40_oz30.INP > simulations/RT/2.0.1/CT/pp/us/sa/rt/out/RT_CT_pp_us_sa_rt_z12_wv40_oz30.OUT')\n",
      "--------------------------------------------\n",
      " 2) airmass =  1.25199997425\n",
      " 2) pwv =  4.0\n",
      " 2) oz =  300.0\n",
      "--------------------------------------------\n",
      "('Running uvspec with input file: ', 'simulations/RT/2.0.1/CT/pp/us/sa/rt/in/RT_CT_pp_us_sa_rt_z12_wv40_oz30.INP')\n",
      "('Output to file                : ', 'simulations/RT/2.0.1/CT/pp/us/sa/rt/out/RT_CT_pp_us_sa_rt_z12_wv40_oz30.OUT')\n",
      "('uvspec cmd: ', '/Users/dagoret-campagnesylvie/MacOsX/LSST/softs/libRadtran-2.0.1/bin/uvspec  < simulations/RT/2.0.1/CT/pp/us/sa/rt/in/RT_CT_pp_us_sa_rt_z12_wv40_oz30.INP > simulations/RT/2.0.1/CT/pp/us/sa/rt/out/RT_CT_pp_us_sa_rt_z12_wv40_oz30.OUT')\n",
      "--------------------------------------------\n",
      " 2) airmass =  1.26199996471\n",
      " 2) pwv =  4.0\n",
      " 2) oz =  300.0\n",
      "--------------------------------------------\n",
      "('Running uvspec with input file: ', 'simulations/RT/2.0.1/CT/pp/us/sa/rt/in/RT_CT_pp_us_sa_rt_z12_wv40_oz30.INP')\n",
      "('Output to file                : ', 'simulations/RT/2.0.1/CT/pp/us/sa/rt/out/RT_CT_pp_us_sa_rt_z12_wv40_oz30.OUT')\n",
      "('uvspec cmd: ', '/Users/dagoret-campagnesylvie/MacOsX/LSST/softs/libRadtran-2.0.1/bin/uvspec  < simulations/RT/2.0.1/CT/pp/us/sa/rt/in/RT_CT_pp_us_sa_rt_z12_wv40_oz30.INP > simulations/RT/2.0.1/CT/pp/us/sa/rt/out/RT_CT_pp_us_sa_rt_z12_wv40_oz30.OUT')\n",
      "--------------------------------------------\n",
      " 2) airmass =  1.27999997139\n",
      " 2) pwv =  4.0\n",
      " 2) oz =  300.0\n",
      "--------------------------------------------\n",
      "('Running uvspec with input file: ', 'simulations/RT/2.0.1/CT/pp/us/sa/rt/in/RT_CT_pp_us_sa_rt_z12_wv40_oz30.INP')\n",
      "('Output to file                : ', 'simulations/RT/2.0.1/CT/pp/us/sa/rt/out/RT_CT_pp_us_sa_rt_z12_wv40_oz30.OUT')\n",
      "('uvspec cmd: ', '/Users/dagoret-campagnesylvie/MacOsX/LSST/softs/libRadtran-2.0.1/bin/uvspec  < simulations/RT/2.0.1/CT/pp/us/sa/rt/in/RT_CT_pp_us_sa_rt_z12_wv40_oz30.INP > simulations/RT/2.0.1/CT/pp/us/sa/rt/out/RT_CT_pp_us_sa_rt_z12_wv40_oz30.OUT')\n",
      "--------------------------------------------\n",
      " 2) airmass =  1.29999995232\n",
      " 2) pwv =  4.0\n",
      " 2) oz =  300.0\n",
      "--------------------------------------------\n",
      "('Running uvspec with input file: ', 'simulations/RT/2.0.1/CT/pp/us/sa/rt/in/RT_CT_pp_us_sa_rt_z12_wv40_oz30.INP')\n",
      "('Output to file                : ', 'simulations/RT/2.0.1/CT/pp/us/sa/rt/out/RT_CT_pp_us_sa_rt_z12_wv40_oz30.OUT')\n",
      "('uvspec cmd: ', '/Users/dagoret-campagnesylvie/MacOsX/LSST/softs/libRadtran-2.0.1/bin/uvspec  < simulations/RT/2.0.1/CT/pp/us/sa/rt/in/RT_CT_pp_us_sa_rt_z12_wv40_oz30.INP > simulations/RT/2.0.1/CT/pp/us/sa/rt/out/RT_CT_pp_us_sa_rt_z12_wv40_oz30.OUT')\n",
      "--------------------------------------------\n",
      " 2) airmass =  1.31099998951\n",
      " 2) pwv =  4.0\n",
      " 2) oz =  300.0\n",
      "--------------------------------------------\n",
      "('Running uvspec with input file: ', 'simulations/RT/2.0.1/CT/pp/us/sa/rt/in/RT_CT_pp_us_sa_rt_z13_wv40_oz30.INP')\n",
      "('Output to file                : ', 'simulations/RT/2.0.1/CT/pp/us/sa/rt/out/RT_CT_pp_us_sa_rt_z13_wv40_oz30.OUT')\n",
      "('uvspec cmd: ', '/Users/dagoret-campagnesylvie/MacOsX/LSST/softs/libRadtran-2.0.1/bin/uvspec  < simulations/RT/2.0.1/CT/pp/us/sa/rt/in/RT_CT_pp_us_sa_rt_z13_wv40_oz30.INP > simulations/RT/2.0.1/CT/pp/us/sa/rt/out/RT_CT_pp_us_sa_rt_z13_wv40_oz30.OUT')\n",
      "--------------------------------------------\n",
      " 2) airmass =  1.32400000095\n",
      " 2) pwv =  4.0\n",
      " 2) oz =  300.0\n",
      "--------------------------------------------\n",
      "('Running uvspec with input file: ', 'simulations/RT/2.0.1/CT/pp/us/sa/rt/in/RT_CT_pp_us_sa_rt_z13_wv40_oz30.INP')\n",
      "('Output to file                : ', 'simulations/RT/2.0.1/CT/pp/us/sa/rt/out/RT_CT_pp_us_sa_rt_z13_wv40_oz30.OUT')\n",
      "('uvspec cmd: ', '/Users/dagoret-campagnesylvie/MacOsX/LSST/softs/libRadtran-2.0.1/bin/uvspec  < simulations/RT/2.0.1/CT/pp/us/sa/rt/in/RT_CT_pp_us_sa_rt_z13_wv40_oz30.INP > simulations/RT/2.0.1/CT/pp/us/sa/rt/out/RT_CT_pp_us_sa_rt_z13_wv40_oz30.OUT')\n",
      "--------------------------------------------\n",
      " 2) airmass =  1.33599996567\n",
      " 2) pwv =  4.0\n",
      " 2) oz =  300.0\n",
      "--------------------------------------------\n",
      "('Running uvspec with input file: ', 'simulations/RT/2.0.1/CT/pp/us/sa/rt/in/RT_CT_pp_us_sa_rt_z13_wv40_oz30.INP')\n",
      "('Output to file                : ', 'simulations/RT/2.0.1/CT/pp/us/sa/rt/out/RT_CT_pp_us_sa_rt_z13_wv40_oz30.OUT')\n",
      "('uvspec cmd: ', '/Users/dagoret-campagnesylvie/MacOsX/LSST/softs/libRadtran-2.0.1/bin/uvspec  < simulations/RT/2.0.1/CT/pp/us/sa/rt/in/RT_CT_pp_us_sa_rt_z13_wv40_oz30.INP > simulations/RT/2.0.1/CT/pp/us/sa/rt/out/RT_CT_pp_us_sa_rt_z13_wv40_oz30.OUT')\n",
      "--------------------------------------------\n",
      " 2) airmass =  1.35800004005\n",
      " 2) pwv =  4.0\n",
      " 2) oz =  300.0\n",
      "--------------------------------------------\n",
      "('Running uvspec with input file: ', 'simulations/RT/2.0.1/CT/pp/us/sa/rt/in/RT_CT_pp_us_sa_rt_z13_wv40_oz30.INP')\n",
      "('Output to file                : ', 'simulations/RT/2.0.1/CT/pp/us/sa/rt/out/RT_CT_pp_us_sa_rt_z13_wv40_oz30.OUT')\n",
      "('uvspec cmd: ', '/Users/dagoret-campagnesylvie/MacOsX/LSST/softs/libRadtran-2.0.1/bin/uvspec  < simulations/RT/2.0.1/CT/pp/us/sa/rt/in/RT_CT_pp_us_sa_rt_z13_wv40_oz30.INP > simulations/RT/2.0.1/CT/pp/us/sa/rt/out/RT_CT_pp_us_sa_rt_z13_wv40_oz30.OUT')\n",
      "--------------------------------------------\n",
      " 2) airmass =  1.38199996948\n",
      " 2) pwv =  4.0\n",
      " 2) oz =  300.0\n",
      "--------------------------------------------\n",
      "('Running uvspec with input file: ', 'simulations/RT/2.0.1/CT/pp/us/sa/rt/in/RT_CT_pp_us_sa_rt_z13_wv40_oz30.INP')\n",
      "('Output to file                : ', 'simulations/RT/2.0.1/CT/pp/us/sa/rt/out/RT_CT_pp_us_sa_rt_z13_wv40_oz30.OUT')\n",
      "('uvspec cmd: ', '/Users/dagoret-campagnesylvie/MacOsX/LSST/softs/libRadtran-2.0.1/bin/uvspec  < simulations/RT/2.0.1/CT/pp/us/sa/rt/in/RT_CT_pp_us_sa_rt_z13_wv40_oz30.INP > simulations/RT/2.0.1/CT/pp/us/sa/rt/out/RT_CT_pp_us_sa_rt_z13_wv40_oz30.OUT')\n",
      "--------------------------------------------\n",
      " 2) airmass =  1.39600002766\n",
      " 2) pwv =  4.0\n",
      " 2) oz =  300.0\n",
      "--------------------------------------------\n",
      "('Running uvspec with input file: ', 'simulations/RT/2.0.1/CT/pp/us/sa/rt/in/RT_CT_pp_us_sa_rt_z13_wv40_oz30.INP')\n",
      "('Output to file                : ', 'simulations/RT/2.0.1/CT/pp/us/sa/rt/out/RT_CT_pp_us_sa_rt_z13_wv40_oz30.OUT')\n",
      "('uvspec cmd: ', '/Users/dagoret-campagnesylvie/MacOsX/LSST/softs/libRadtran-2.0.1/bin/uvspec  < simulations/RT/2.0.1/CT/pp/us/sa/rt/in/RT_CT_pp_us_sa_rt_z13_wv40_oz30.INP > simulations/RT/2.0.1/CT/pp/us/sa/rt/out/RT_CT_pp_us_sa_rt_z13_wv40_oz30.OUT')\n",
      "--------------------------------------------\n",
      " 2) airmass =  1.41100001335\n",
      " 2) pwv =  4.0\n",
      " 2) oz =  300.0\n",
      "--------------------------------------------\n",
      "('Running uvspec with input file: ', 'simulations/RT/2.0.1/CT/pp/us/sa/rt/in/RT_CT_pp_us_sa_rt_z14_wv40_oz30.INP')\n",
      "('Output to file                : ', 'simulations/RT/2.0.1/CT/pp/us/sa/rt/out/RT_CT_pp_us_sa_rt_z14_wv40_oz30.OUT')\n",
      "('uvspec cmd: ', '/Users/dagoret-campagnesylvie/MacOsX/LSST/softs/libRadtran-2.0.1/bin/uvspec  < simulations/RT/2.0.1/CT/pp/us/sa/rt/in/RT_CT_pp_us_sa_rt_z14_wv40_oz30.INP > simulations/RT/2.0.1/CT/pp/us/sa/rt/out/RT_CT_pp_us_sa_rt_z14_wv40_oz30.OUT')\n",
      "--------------------------------------------\n",
      " 2) airmass =  1.42700004578\n",
      " 2) pwv =  4.0\n",
      " 2) oz =  300.0\n",
      "--------------------------------------------\n",
      "('Running uvspec with input file: ', 'simulations/RT/2.0.1/CT/pp/us/sa/rt/in/RT_CT_pp_us_sa_rt_z14_wv40_oz30.INP')\n",
      "('Output to file                : ', 'simulations/RT/2.0.1/CT/pp/us/sa/rt/out/RT_CT_pp_us_sa_rt_z14_wv40_oz30.OUT')\n",
      "('uvspec cmd: ', '/Users/dagoret-campagnesylvie/MacOsX/LSST/softs/libRadtran-2.0.1/bin/uvspec  < simulations/RT/2.0.1/CT/pp/us/sa/rt/in/RT_CT_pp_us_sa_rt_z14_wv40_oz30.INP > simulations/RT/2.0.1/CT/pp/us/sa/rt/out/RT_CT_pp_us_sa_rt_z14_wv40_oz30.OUT')\n",
      "--------------------------------------------\n",
      " 2) airmass =  1.45399999619\n",
      " 2) pwv =  4.0\n",
      " 2) oz =  300.0\n",
      "--------------------------------------------\n",
      "('Running uvspec with input file: ', 'simulations/RT/2.0.1/CT/pp/us/sa/rt/in/RT_CT_pp_us_sa_rt_z14_wv40_oz30.INP')\n",
      "('Output to file                : ', 'simulations/RT/2.0.1/CT/pp/us/sa/rt/out/RT_CT_pp_us_sa_rt_z14_wv40_oz30.OUT')\n",
      "('uvspec cmd: ', '/Users/dagoret-campagnesylvie/MacOsX/LSST/softs/libRadtran-2.0.1/bin/uvspec  < simulations/RT/2.0.1/CT/pp/us/sa/rt/in/RT_CT_pp_us_sa_rt_z14_wv40_oz30.INP > simulations/RT/2.0.1/CT/pp/us/sa/rt/out/RT_CT_pp_us_sa_rt_z14_wv40_oz30.OUT')\n",
      "--------------------------------------------\n",
      " 2) airmass =  1.48300004005\n",
      " 2) pwv =  4.0\n",
      " 2) oz =  300.0\n",
      "--------------------------------------------\n",
      "('Running uvspec with input file: ', 'simulations/RT/2.0.1/CT/pp/us/sa/rt/in/RT_CT_pp_us_sa_rt_z14_wv40_oz30.INP')\n",
      "('Output to file                : ', 'simulations/RT/2.0.1/CT/pp/us/sa/rt/out/RT_CT_pp_us_sa_rt_z14_wv40_oz30.OUT')\n",
      "('uvspec cmd: ', '/Users/dagoret-campagnesylvie/MacOsX/LSST/softs/libRadtran-2.0.1/bin/uvspec  < simulations/RT/2.0.1/CT/pp/us/sa/rt/in/RT_CT_pp_us_sa_rt_z14_wv40_oz30.INP > simulations/RT/2.0.1/CT/pp/us/sa/rt/out/RT_CT_pp_us_sa_rt_z14_wv40_oz30.OUT')\n",
      "--------------------------------------------\n",
      " 2) airmass =  1.50100004673\n",
      " 2) pwv =  4.0\n",
      " 2) oz =  300.0\n",
      "--------------------------------------------\n",
      "('Running uvspec with input file: ', 'simulations/RT/2.0.1/CT/pp/us/sa/rt/in/RT_CT_pp_us_sa_rt_z15_wv40_oz30.INP')\n",
      "('Output to file                : ', 'simulations/RT/2.0.1/CT/pp/us/sa/rt/out/RT_CT_pp_us_sa_rt_z15_wv40_oz30.OUT')\n",
      "('uvspec cmd: ', '/Users/dagoret-campagnesylvie/MacOsX/LSST/softs/libRadtran-2.0.1/bin/uvspec  < simulations/RT/2.0.1/CT/pp/us/sa/rt/in/RT_CT_pp_us_sa_rt_z15_wv40_oz30.INP > simulations/RT/2.0.1/CT/pp/us/sa/rt/out/RT_CT_pp_us_sa_rt_z15_wv40_oz30.OUT')\n",
      "--------------------------------------------\n",
      " 2) airmass =  1.51999998093\n",
      " 2) pwv =  4.0\n",
      " 2) oz =  300.0\n",
      "--------------------------------------------\n",
      "('Running uvspec with input file: ', 'simulations/RT/2.0.1/CT/pp/us/sa/rt/in/RT_CT_pp_us_sa_rt_z15_wv40_oz30.INP')\n",
      "('Output to file                : ', 'simulations/RT/2.0.1/CT/pp/us/sa/rt/out/RT_CT_pp_us_sa_rt_z15_wv40_oz30.OUT')\n",
      "('uvspec cmd: ', '/Users/dagoret-campagnesylvie/MacOsX/LSST/softs/libRadtran-2.0.1/bin/uvspec  < simulations/RT/2.0.1/CT/pp/us/sa/rt/in/RT_CT_pp_us_sa_rt_z15_wv40_oz30.INP > simulations/RT/2.0.1/CT/pp/us/sa/rt/out/RT_CT_pp_us_sa_rt_z15_wv40_oz30.OUT')\n",
      "--------------------------------------------\n",
      " 2) airmass =  1.53900003433\n",
      " 2) pwv =  4.0\n",
      " 2) oz =  300.0\n",
      "--------------------------------------------\n",
      "('Running uvspec with input file: ', 'simulations/RT/2.0.1/CT/pp/us/sa/rt/in/RT_CT_pp_us_sa_rt_z15_wv40_oz30.INP')\n",
      "('Output to file                : ', 'simulations/RT/2.0.1/CT/pp/us/sa/rt/out/RT_CT_pp_us_sa_rt_z15_wv40_oz30.OUT')\n",
      "('uvspec cmd: ', '/Users/dagoret-campagnesylvie/MacOsX/LSST/softs/libRadtran-2.0.1/bin/uvspec  < simulations/RT/2.0.1/CT/pp/us/sa/rt/in/RT_CT_pp_us_sa_rt_z15_wv40_oz30.INP > simulations/RT/2.0.1/CT/pp/us/sa/rt/out/RT_CT_pp_us_sa_rt_z15_wv40_oz30.OUT')\n",
      "--------------------------------------------\n",
      " 2) airmass =  1.57299995422\n",
      " 2) pwv =  4.0\n",
      " 2) oz =  300.0\n",
      "--------------------------------------------\n",
      "('Running uvspec with input file: ', 'simulations/RT/2.0.1/CT/pp/us/sa/rt/in/RT_CT_pp_us_sa_rt_z15_wv40_oz30.INP')\n",
      "('Output to file                : ', 'simulations/RT/2.0.1/CT/pp/us/sa/rt/out/RT_CT_pp_us_sa_rt_z15_wv40_oz30.OUT')\n",
      "('uvspec cmd: ', '/Users/dagoret-campagnesylvie/MacOsX/LSST/softs/libRadtran-2.0.1/bin/uvspec  < simulations/RT/2.0.1/CT/pp/us/sa/rt/in/RT_CT_pp_us_sa_rt_z15_wv40_oz30.INP > simulations/RT/2.0.1/CT/pp/us/sa/rt/out/RT_CT_pp_us_sa_rt_z15_wv40_oz30.OUT')\n",
      "--------------------------------------------\n",
      " 2) airmass =  1.60899996758\n",
      " 2) pwv =  4.0\n",
      " 2) oz =  300.0\n",
      "--------------------------------------------\n",
      "('Running uvspec with input file: ', 'simulations/RT/2.0.1/CT/pp/us/sa/rt/in/RT_CT_pp_us_sa_rt_z16_wv40_oz30.INP')\n",
      "('Output to file                : ', 'simulations/RT/2.0.1/CT/pp/us/sa/rt/out/RT_CT_pp_us_sa_rt_z16_wv40_oz30.OUT')\n",
      "('uvspec cmd: ', '/Users/dagoret-campagnesylvie/MacOsX/LSST/softs/libRadtran-2.0.1/bin/uvspec  < simulations/RT/2.0.1/CT/pp/us/sa/rt/in/RT_CT_pp_us_sa_rt_z16_wv40_oz30.INP > simulations/RT/2.0.1/CT/pp/us/sa/rt/out/RT_CT_pp_us_sa_rt_z16_wv40_oz30.OUT')\n",
      "--------------------------------------------\n",
      " 2) airmass =  1.63199996948\n",
      " 2) pwv =  4.0\n",
      " 2) oz =  300.0\n",
      "--------------------------------------------\n",
      "('Running uvspec with input file: ', 'simulations/RT/2.0.1/CT/pp/us/sa/rt/in/RT_CT_pp_us_sa_rt_z16_wv40_oz30.INP')\n",
      "('Output to file                : ', 'simulations/RT/2.0.1/CT/pp/us/sa/rt/out/RT_CT_pp_us_sa_rt_z16_wv40_oz30.OUT')\n",
      "('uvspec cmd: ', '/Users/dagoret-campagnesylvie/MacOsX/LSST/softs/libRadtran-2.0.1/bin/uvspec  < simulations/RT/2.0.1/CT/pp/us/sa/rt/in/RT_CT_pp_us_sa_rt_z16_wv40_oz30.INP > simulations/RT/2.0.1/CT/pp/us/sa/rt/out/RT_CT_pp_us_sa_rt_z16_wv40_oz30.OUT')\n",
      "--------------------------------------------\n",
      " 2) airmass =  1.65499997139\n",
      " 2) pwv =  4.0\n",
      " 2) oz =  300.0\n",
      "--------------------------------------------\n",
      "('Running uvspec with input file: ', 'simulations/RT/2.0.1/CT/pp/us/sa/rt/in/RT_CT_pp_us_sa_rt_z16_wv40_oz30.INP')\n",
      "('Output to file                : ', 'simulations/RT/2.0.1/CT/pp/us/sa/rt/out/RT_CT_pp_us_sa_rt_z16_wv40_oz30.OUT')\n",
      "('uvspec cmd: ', '/Users/dagoret-campagnesylvie/MacOsX/LSST/softs/libRadtran-2.0.1/bin/uvspec  < simulations/RT/2.0.1/CT/pp/us/sa/rt/in/RT_CT_pp_us_sa_rt_z16_wv40_oz30.INP > simulations/RT/2.0.1/CT/pp/us/sa/rt/out/RT_CT_pp_us_sa_rt_z16_wv40_oz30.OUT')\n",
      "--------------------------------------------\n",
      " 2) airmass =  1.67900002003\n",
      " 2) pwv =  4.0\n",
      " 2) oz =  300.0\n",
      "--------------------------------------------\n",
      "('Running uvspec with input file: ', 'simulations/RT/2.0.1/CT/pp/us/sa/rt/in/RT_CT_pp_us_sa_rt_z16_wv40_oz30.INP')\n",
      "('Output to file                : ', 'simulations/RT/2.0.1/CT/pp/us/sa/rt/out/RT_CT_pp_us_sa_rt_z16_wv40_oz30.OUT')\n",
      "('uvspec cmd: ', '/Users/dagoret-campagnesylvie/MacOsX/LSST/softs/libRadtran-2.0.1/bin/uvspec  < simulations/RT/2.0.1/CT/pp/us/sa/rt/in/RT_CT_pp_us_sa_rt_z16_wv40_oz30.INP > simulations/RT/2.0.1/CT/pp/us/sa/rt/out/RT_CT_pp_us_sa_rt_z16_wv40_oz30.OUT')\n",
      "--------------------------------------------\n",
      " 2) airmass =  1.72200000286\n",
      " 2) pwv =  4.0\n",
      " 2) oz =  300.0\n",
      "--------------------------------------------\n",
      "('Running uvspec with input file: ', 'simulations/RT/2.0.1/CT/pp/us/sa/rt/in/RT_CT_pp_us_sa_rt_z17_wv40_oz30.INP')\n",
      "('Output to file                : ', 'simulations/RT/2.0.1/CT/pp/us/sa/rt/out/RT_CT_pp_us_sa_rt_z17_wv40_oz30.OUT')\n",
      "('uvspec cmd: ', '/Users/dagoret-campagnesylvie/MacOsX/LSST/softs/libRadtran-2.0.1/bin/uvspec  < simulations/RT/2.0.1/CT/pp/us/sa/rt/in/RT_CT_pp_us_sa_rt_z17_wv40_oz30.INP > simulations/RT/2.0.1/CT/pp/us/sa/rt/out/RT_CT_pp_us_sa_rt_z17_wv40_oz30.OUT')\n",
      "--------------------------------------------\n",
      " 2) airmass =  1.76800000668\n",
      " 2) pwv =  4.0\n",
      " 2) oz =  300.0\n",
      "--------------------------------------------\n",
      "('Running uvspec with input file: ', 'simulations/RT/2.0.1/CT/pp/us/sa/rt/in/RT_CT_pp_us_sa_rt_z17_wv40_oz30.INP')\n",
      "('Output to file                : ', 'simulations/RT/2.0.1/CT/pp/us/sa/rt/out/RT_CT_pp_us_sa_rt_z17_wv40_oz30.OUT')\n",
      "('uvspec cmd: ', '/Users/dagoret-campagnesylvie/MacOsX/LSST/softs/libRadtran-2.0.1/bin/uvspec  < simulations/RT/2.0.1/CT/pp/us/sa/rt/in/RT_CT_pp_us_sa_rt_z17_wv40_oz30.INP > simulations/RT/2.0.1/CT/pp/us/sa/rt/out/RT_CT_pp_us_sa_rt_z17_wv40_oz30.OUT')\n",
      "--------------------------------------------\n",
      " 2) airmass =  1.79600000381\n",
      " 2) pwv =  4.0\n",
      " 2) oz =  300.0\n",
      "--------------------------------------------\n",
      "('Running uvspec with input file: ', 'simulations/RT/2.0.1/CT/pp/us/sa/rt/in/RT_CT_pp_us_sa_rt_z17_wv40_oz30.INP')\n",
      "('Output to file                : ', 'simulations/RT/2.0.1/CT/pp/us/sa/rt/out/RT_CT_pp_us_sa_rt_z17_wv40_oz30.OUT')\n",
      "('uvspec cmd: ', '/Users/dagoret-campagnesylvie/MacOsX/LSST/softs/libRadtran-2.0.1/bin/uvspec  < simulations/RT/2.0.1/CT/pp/us/sa/rt/in/RT_CT_pp_us_sa_rt_z17_wv40_oz30.INP > simulations/RT/2.0.1/CT/pp/us/sa/rt/out/RT_CT_pp_us_sa_rt_z17_wv40_oz30.OUT')\n",
      "--------------------------------------------\n",
      " 2) airmass =  1.8259999752\n",
      " 2) pwv =  4.0\n",
      " 2) oz =  300.0\n",
      "--------------------------------------------\n",
      "('Running uvspec with input file: ', 'simulations/RT/2.0.1/CT/pp/us/sa/rt/in/RT_CT_pp_us_sa_rt_z18_wv40_oz30.INP')\n",
      "('Output to file                : ', 'simulations/RT/2.0.1/CT/pp/us/sa/rt/out/RT_CT_pp_us_sa_rt_z18_wv40_oz30.OUT')\n",
      "('uvspec cmd: ', '/Users/dagoret-campagnesylvie/MacOsX/LSST/softs/libRadtran-2.0.1/bin/uvspec  < simulations/RT/2.0.1/CT/pp/us/sa/rt/in/RT_CT_pp_us_sa_rt_z18_wv40_oz30.INP > simulations/RT/2.0.1/CT/pp/us/sa/rt/out/RT_CT_pp_us_sa_rt_z18_wv40_oz30.OUT')\n",
      "--------------------------------------------\n",
      " 2) airmass =  1.85699999332\n",
      " 2) pwv =  4.0\n",
      " 2) oz =  300.0\n",
      "--------------------------------------------\n",
      "('Running uvspec with input file: ', 'simulations/RT/2.0.1/CT/pp/us/sa/rt/in/RT_CT_pp_us_sa_rt_z18_wv40_oz30.INP')\n",
      "('Output to file                : ', 'simulations/RT/2.0.1/CT/pp/us/sa/rt/out/RT_CT_pp_us_sa_rt_z18_wv40_oz30.OUT')\n",
      "('uvspec cmd: ', '/Users/dagoret-campagnesylvie/MacOsX/LSST/softs/libRadtran-2.0.1/bin/uvspec  < simulations/RT/2.0.1/CT/pp/us/sa/rt/in/RT_CT_pp_us_sa_rt_z18_wv40_oz30.INP > simulations/RT/2.0.1/CT/pp/us/sa/rt/out/RT_CT_pp_us_sa_rt_z18_wv40_oz30.OUT')\n",
      "--------------------------------------------\n",
      " 2) airmass =  1.91199994087\n",
      " 2) pwv =  4.0\n",
      " 2) oz =  300.0\n",
      "--------------------------------------------\n",
      "('Running uvspec with input file: ', 'simulations/RT/2.0.1/CT/pp/us/sa/rt/in/RT_CT_pp_us_sa_rt_z19_wv40_oz30.INP')\n",
      "('Output to file                : ', 'simulations/RT/2.0.1/CT/pp/us/sa/rt/out/RT_CT_pp_us_sa_rt_z19_wv40_oz30.OUT')\n",
      "('uvspec cmd: ', '/Users/dagoret-campagnesylvie/MacOsX/LSST/softs/libRadtran-2.0.1/bin/uvspec  < simulations/RT/2.0.1/CT/pp/us/sa/rt/in/RT_CT_pp_us_sa_rt_z19_wv40_oz30.INP > simulations/RT/2.0.1/CT/pp/us/sa/rt/out/RT_CT_pp_us_sa_rt_z19_wv40_oz30.OUT')\n"
     ]
    }
   ],
   "source": [
    "for index,am in np.ndenumerate(airmasses):\n",
    "    idx=index[0]\n",
    "    path,file=ProcessSimulation(am,PWV,OZ)   \n",
    "    fullfilename=os.path.join(path,file)\n",
    "    atm_data=np.loadtxt(fullfilename)\n",
    "    wl_atm=atm_data[:,0]\n",
    "    tr_atm=atm_data[:,1]\n",
    "    all_wl_atm.append(wl_atm)\n",
    "    all_tr_atm.append(tr_atm)\n",
    "    atm_filter_name='CTIO atm {}'.format(idx)\n",
    "    bp_atm = S.ArrayBandpass(wl_atm*10.,tr_atm, name=atm_filter_name)  # Pysynphot pass band\n",
    "    all_bp_atm.append(bp_atm) "
   ]
  },
  {
   "cell_type": "markdown",
   "metadata": {
    "deletable": true,
    "editable": true
   },
   "source": [
    "## Observed spectra\n",
    "\n",
    "- calculate the observed spectra and save it in list"
   ]
  },
  {
   "cell_type": "code",
   "execution_count": 131,
   "metadata": {
    "collapsed": false,
    "deletable": true,
    "editable": true
   },
   "outputs": [
    {
     "name": "stdout",
     "output_type": "stream",
     "text": [
      "((((CTIO QE * CTIO Mirror2) * RG175) * CTIO atm 0)) does not have a defined binset in the wavecat table. The waveset of the spectrum will be used instead.\n",
      "((((CTIO QE * CTIO Mirror2) * RG175) * CTIO atm 1)) does not have a defined binset in the wavecat table. The waveset of the spectrum will be used instead.\n",
      "((((CTIO QE * CTIO Mirror2) * RG175) * CTIO atm 2)) does not have a defined binset in the wavecat table. The waveset of the spectrum will be used instead.\n",
      "((((CTIO QE * CTIO Mirror2) * RG175) * CTIO atm 3)) does not have a defined binset in the wavecat table. The waveset of the spectrum will be used instead.\n",
      "((((CTIO QE * CTIO Mirror2) * RG175) * CTIO atm 4)) does not have a defined binset in the wavecat table. The waveset of the spectrum will be used instead.\n",
      "((((CTIO QE * CTIO Mirror2) * RG175) * CTIO atm 5)) does not have a defined binset in the wavecat table. The waveset of the spectrum will be used instead.\n",
      "((((CTIO QE * CTIO Mirror2) * RG175) * CTIO atm 6)) does not have a defined binset in the wavecat table. The waveset of the spectrum will be used instead.\n",
      "((((CTIO QE * CTIO Mirror2) * RG175) * CTIO atm 7)) does not have a defined binset in the wavecat table. The waveset of the spectrum will be used instead.\n",
      "((((CTIO QE * CTIO Mirror2) * RG175) * CTIO atm 8)) does not have a defined binset in the wavecat table. The waveset of the spectrum will be used instead.\n",
      "((((CTIO QE * CTIO Mirror2) * RG175) * CTIO atm 9)) does not have a defined binset in the wavecat table. The waveset of the spectrum will be used instead.\n",
      "((((CTIO QE * CTIO Mirror2) * RG175) * CTIO atm 10)) does not have a defined binset in the wavecat table. The waveset of the spectrum will be used instead.\n",
      "((((CTIO QE * CTIO Mirror2) * RG175) * CTIO atm 11)) does not have a defined binset in the wavecat table. The waveset of the spectrum will be used instead.\n",
      "((((CTIO QE * CTIO Mirror2) * RG175) * CTIO atm 12)) does not have a defined binset in the wavecat table. The waveset of the spectrum will be used instead.\n",
      "((((CTIO QE * CTIO Mirror2) * RG175) * CTIO atm 13)) does not have a defined binset in the wavecat table. The waveset of the spectrum will be used instead.\n",
      "((((CTIO QE * CTIO Mirror2) * RG175) * CTIO atm 14)) does not have a defined binset in the wavecat table. The waveset of the spectrum will be used instead.\n",
      "((((CTIO QE * CTIO Mirror2) * RG175) * CTIO atm 15)) does not have a defined binset in the wavecat table. The waveset of the spectrum will be used instead.\n",
      "((((CTIO QE * CTIO Mirror2) * RG175) * CTIO atm 16)) does not have a defined binset in the wavecat table. The waveset of the spectrum will be used instead.\n",
      "((((CTIO QE * CTIO Mirror2) * RG175) * CTIO atm 17)) does not have a defined binset in the wavecat table. The waveset of the spectrum will be used instead.\n",
      "((((CTIO QE * CTIO Mirror2) * RG175) * CTIO atm 18)) does not have a defined binset in the wavecat table. The waveset of the spectrum will be used instead.\n",
      "((((CTIO QE * CTIO Mirror2) * RG175) * CTIO atm 19)) does not have a defined binset in the wavecat table. The waveset of the spectrum will be used instead.\n",
      "((((CTIO QE * CTIO Mirror2) * RG175) * CTIO atm 20)) does not have a defined binset in the wavecat table. The waveset of the spectrum will be used instead.\n",
      "((((CTIO QE * CTIO Mirror2) * RG175) * CTIO atm 21)) does not have a defined binset in the wavecat table. The waveset of the spectrum will be used instead.\n",
      "((((CTIO QE * CTIO Mirror2) * RG175) * CTIO atm 22)) does not have a defined binset in the wavecat table. The waveset of the spectrum will be used instead.\n",
      "((((CTIO QE * CTIO Mirror2) * RG175) * CTIO atm 23)) does not have a defined binset in the wavecat table. The waveset of the spectrum will be used instead.\n",
      "((((CTIO QE * CTIO Mirror2) * RG175) * CTIO atm 24)) does not have a defined binset in the wavecat table. The waveset of the spectrum will be used instead.\n",
      "((((CTIO QE * CTIO Mirror2) * RG175) * CTIO atm 25)) does not have a defined binset in the wavecat table. The waveset of the spectrum will be used instead.\n",
      "((((CTIO QE * CTIO Mirror2) * RG175) * CTIO atm 26)) does not have a defined binset in the wavecat table. The waveset of the spectrum will be used instead.\n",
      "((((CTIO QE * CTIO Mirror2) * RG175) * CTIO atm 27)) does not have a defined binset in the wavecat table. The waveset of the spectrum will be used instead.\n",
      "((((CTIO QE * CTIO Mirror2) * RG175) * CTIO atm 28)) does not have a defined binset in the wavecat table. The waveset of the spectrum will be used instead.\n",
      "((((CTIO QE * CTIO Mirror2) * RG175) * CTIO atm 29)) does not have a defined binset in the wavecat table. The waveset of the spectrum will be used instead.\n",
      "((((CTIO QE * CTIO Mirror2) * RG175) * CTIO atm 30)) does not have a defined binset in the wavecat table. The waveset of the spectrum will be used instead.\n",
      "((((CTIO QE * CTIO Mirror2) * RG175) * CTIO atm 31)) does not have a defined binset in the wavecat table. The waveset of the spectrum will be used instead.\n",
      "((((CTIO QE * CTIO Mirror2) * RG175) * CTIO atm 32)) does not have a defined binset in the wavecat table. The waveset of the spectrum will be used instead.\n",
      "((((CTIO QE * CTIO Mirror2) * RG175) * CTIO atm 33)) does not have a defined binset in the wavecat table. The waveset of the spectrum will be used instead.\n",
      "((((CTIO QE * CTIO Mirror2) * RG175) * CTIO atm 34)) does not have a defined binset in the wavecat table. The waveset of the spectrum will be used instead.\n"
     ]
    }
   ],
   "source": [
    "all_obs_spectra = []\n",
    "all_obs_wl= []\n",
    "all_obs_fluxes = []\n",
    "\n",
    "for index,am in np.ndenumerate(airmasses):\n",
    "    idx=index[0]\n",
    "    atm_filter_name='CTIO atm {}'.format(idx)\n",
    "    the_bp_atm=bp_atm = S.ArrayBandpass(all_wl_atm[idx]*10.,all_tr_atm[idx], name=atm_filter_name)  # Pysynphot pass band\n",
    "    bp_ctio_atm = bp_ctio*the_bp_atm # Multply atm tansmission by CCD QE efficiciency\n",
    "    bp_ctio_atm.binning=10.\n",
    "    obs_ctio = S.Observation(sed,bp_ctio_atm)\n",
    "    all_obs_spectra.append(obs_ctio)\n",
    "    all_obs_wl.append(obs_ctio.wave)\n",
    "    all_obs_fluxes.append(obs_ctio.flux) \n",
    "    \n"
   ]
  },
  {
   "cell_type": "code",
   "execution_count": 132,
   "metadata": {
    "collapsed": false,
    "deletable": true,
    "editable": true
   },
   "outputs": [
    {
     "data": {
      "text/plain": [
       "(0, 10000)"
      ]
     },
     "execution_count": 132,
     "metadata": {},
     "output_type": "execute_result"
    },
    {
     "data": {
      "image/png": "[encoded data removed]",
      "text/plain": [
       "<matplotlib.figure.Figure at 0x10b5744d0>"
      ]
     },
     "metadata": {},
     "output_type": "display_data"
    }
   ],
   "source": [
    "plt.plot(all_obs_wl[0], all_obs_fluxes[0])\n",
    "plt.xlim(0,10000)"
   ]
  },
  {
   "cell_type": "code",
   "execution_count": 133,
   "metadata": {
    "collapsed": true,
    "deletable": true,
    "editable": true
   },
   "outputs": [],
   "source": [
    "def MakeSimNpArray(all_simwavelength,all_simspectra):\n",
    "    \n",
    "    all_simspectra=np.array(all_simspectra)\n",
    "    simwavelength=np.array(all_simwavelength[0])\n",
    "    \n",
    "    NBSPEC=all_simspectra.shape[0]\n",
    "    NBWL=simwavelength.shape[0]\n",
    "    \n",
    "    print NBSPEC,' , ',NBWL\n",
    "    dataout=np.zeros((NBSPEC+1,NBWL))\n",
    "    \n",
    "    dataout[0,:]=simwavelength\n",
    "    \n",
    "    for ispec in np.arange(1,NBSPEC+1):\n",
    "        dataout[ispec,:]=all_simspectra[ispec-1]\n",
    "    return dataout"
   ]
  },
  {
   "cell_type": "code",
   "execution_count": 134,
   "metadata": {
    "collapsed": false,
    "deletable": true,
    "editable": true
   },
   "outputs": [
    {
     "name": "stdout",
     "output_type": "stream",
     "text": [
      "35  ,  4840\n"
     ]
    }
   ],
   "source": [
    "spectra_out=MakeSimNpArray(all_obs_wl,all_obs_fluxes)"
   ]
  },
  {
   "cell_type": "code",
   "execution_count": 135,
   "metadata": {
    "collapsed": false,
    "deletable": true,
    "editable": true
   },
   "outputs": [
    {
     "data": {
      "text/plain": [
       "<matplotlib.image.AxesImage at 0x10cf56d10>"
      ]
     },
     "execution_count": 135,
     "metadata": {},
     "output_type": "execute_result"
    },
    {
     "data": {
      "image/png": "[encoded data removed]",
      "text/plain": [
       "<matplotlib.figure.Figure at 0x10b675a50>"
      ]
     },
     "metadata": {},
     "output_type": "display_data"
    }
   ],
   "source": [
    "plt.figure(figsize=(20,20))\n",
    "plt.imshow(spectra_out[:,:],vmin=0,vmax=1e-12)"
   ]
  },
  {
   "cell_type": "code",
   "execution_count": 136,
   "metadata": {
    "collapsed": true,
    "deletable": true,
    "editable": true
   },
   "outputs": [],
   "source": [
    "def CompareSpectrumProfile(allspectra,object_name,dir_top_img):\n",
    "    \"\"\"\n",
    "    CompareSpectrumProfile\n",
    "    =====================\n",
    "    \n",
    "    \"\"\"\n",
    "    shortfilename='CompareSimSpec_'+object_name+'.pdf'\n",
    "    title=\"Compare simulated spectra of {}\".format(object_name)\n",
    "    figfilename=os.path.join(dir_top_img,shortfilename)\n",
    "    pp = PdfPages(figfilename) # create a pdf file\n",
    "    \n",
    "    \n",
    "    f, axarr = plt.subplots(1,1,figsize=(25,15))\n",
    "    f.suptitle(title,size=20)\n",
    "    \n",
    "    NBSPEC=allspectra.shape[0]-1\n",
    "    wl=allspectra[0]\n",
    "    \n",
    "    \n",
    "    min_z=truncate(min(airmasses),2)\n",
    "    max_z=truncate(max(airmasses),2)\n",
    "    \n",
    "    maxim_y_to_plot= []\n",
    "\n",
    "    texte='airmass : {} - {} '.format(min_z,max_z)\n",
    "    \n",
    "    for index in np.arange(0,NBSPEC):\n",
    "                \n",
    "       \n",
    "        axarr.plot(wl,allspectra[index+1],'-')\n",
    "        maxim_y_to_plot.append(allspectra[index+1].max())\n",
    "    \n",
    "    max_y_to_plot=max(maxim_y_to_plot)\n",
    "    axarr.set_ylim(0,max_y_to_plot)\n",
    "    axarr.text(0.,max_y_to_plot*0.9, texte ,verticalalignment='top', horizontalalignment='left',color='blue',fontweight='bold', fontsize=20)\n",
    "    axarr.grid(True)\n",
    "    axarr.set_xlim(0,12000)\n",
    "    \n",
    "    axarr.get_xaxis().set_minor_locator(mpl.ticker.AutoMinorLocator())\n",
    "    axarr.get_yaxis().set_minor_locator(mpl.ticker.AutoMinorLocator())\n",
    "    axarr.grid(b=True, which='major', color='k', linewidth=2.0)\n",
    "    axarr.grid(b=True, which='minor', color='grey', linewidth=0.5)\n",
    "    \n",
    "    \n",
    "    \n",
    "    axarr.set_xlabel(\"wavelength (A)\")\n",
    "    \n",
    "        \n",
    "    f.savefig(pp, format='pdf')\n",
    "    f.show()\n",
    "    \n",
    "    pp.close()     \n",
    "    "
   ]
  },
  {
   "cell_type": "code",
   "execution_count": 137,
   "metadata": {
    "collapsed": false,
    "deletable": true,
    "editable": true
   },
   "outputs": [
    {
     "data": {
      "image/png": "[encoded data removed]",
      "text/plain": [
       "<matplotlib.figure.Figure at 0x10b81aa10>"
      ]
     },
     "metadata": {},
     "output_type": "display_data"
    }
   ],
   "source": [
    "CompareSpectrumProfile(spectra_out,object_name,dir_top_images)"
   ]
  },
  {
   "cell_type": "markdown",
   "metadata": {
    "deletable": true,
    "editable": true
   },
   "source": [
    "## Save output file"
   ]
  },
  {
   "cell_type": "code",
   "execution_count": 138,
   "metadata": {
    "collapsed": false,
    "deletable": true,
    "editable": true
   },
   "outputs": [],
   "source": [
    "prihdu = fits.PrimaryHDU(data=spectra_out)\n",
    "thdulist = fits.HDUList(prihdu)\n",
    "thdulist.writeto(outputfitsfile,overwrite=True)"
   ]
  },
  {
   "cell_type": "code",
   "execution_count": 139,
   "metadata": {
    "collapsed": false,
    "deletable": true,
    "editable": true
   },
   "outputs": [
    {
     "data": {
      "text/plain": [
       "(36, 4840)"
      ]
     },
     "execution_count": 139,
     "metadata": {},
     "output_type": "execute_result"
    }
   ],
   "source": [
    "spectra_out.shape"
   ]
  }
 ],
 "metadata": {
  "anaconda-cloud": {},
  "kernelspec": {
   "display_name": "Python [conda env:pyastrophys]",
   "language": "python",
   "name": "conda-env-pyastrophys-py"
  },
  "language_info": {
   "codemirror_mode": {
    "name": "ipython",
    "version": 2
   },
   "file_extension": ".py",
   "mimetype": "text/x-python",
   "name": "python",
   "nbconvert_exporter": "python",
   "pygments_lexer": "ipython2",
   "version": "2.7.12"
  },
  "toc": {
   "colors": {
    "hover_highlight": "#DAA520",
    "running_highlight": "#FF0000",
    "selected_highlight": "#FFD700"
   },
   "moveMenuLeft": true,
   "nav_menu": {
    "height": "231px",
    "width": "252px"
   },
   "navigate_menu": true,
   "number_sections": true,
   "sideBar": true,
   "threshold": 4,
   "toc_cell": false,
   "toc_section_display": "block",
   "toc_window_display": false,
   "widenNotebook": false
  }
 },
 "nbformat": 4,
 "nbformat_minor": 2
}
