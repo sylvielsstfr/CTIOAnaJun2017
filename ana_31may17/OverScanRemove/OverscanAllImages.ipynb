{
 "cells": [
  {
   "cell_type": "markdown",
   "metadata": {
    "deletable": true,
    "editable": true
   },
   "source": [
    "# Does the overscan, subtraction and Triming of the CTIO images\n",
    "==================================================================================================\n",
    "- author : Sylvie Dagoret-Campagne\n",
    "- date   : January 18th 2017\n",
    "- update : May 30th 2017\n",
    "\n",
    "The library ***overscan_subtract_andTrim*** developped by Augustin Guyonnet is used\n",
    "to produce trim images.\n",
    "\n",
    "\n",
    "This has been updated for June 2017"
   ]
  },
  {
   "cell_type": "code",
   "execution_count": 7,
   "metadata": {
    "collapsed": true,
    "deletable": true,
    "editable": true
   },
   "outputs": [],
   "source": [
    "%matplotlib inline\n",
    "import matplotlib.pyplot as plt\n",
    "import numpy as np\n",
    "\n",
    "from astropy.modeling import models\n",
    "from astropy import units as u\n",
    "from astropy import nddata\n",
    "from astropy.io import fits\n",
    "import re\n",
    "import os"
   ]
  },
  {
   "cell_type": "code",
   "execution_count": 8,
   "metadata": {
    "collapsed": true,
    "deletable": true,
    "editable": true
   },
   "outputs": [],
   "source": [
    "# to enlarge the sizes\n",
    "params = {'legend.fontsize': 'x-large',\n",
    "          'figure.figsize': (8, 8),\n",
    "         'axes.labelsize': 'x-large',\n",
    "         'axes.titlesize':'x-large',\n",
    "         'xtick.labelsize':'x-large',\n",
    "         'ytick.labelsize':'x-large'}\n",
    "plt.rcParams.update(params)"
   ]
  },
  {
   "cell_type": "markdown",
   "metadata": {
    "deletable": true,
    "editable": true
   },
   "source": [
    "### Import Augustin Guyonnet overscan & trimming package"
   ]
  },
  {
   "cell_type": "code",
   "execution_count": 9,
   "metadata": {
    "collapsed": false,
    "deletable": true,
    "editable": true
   },
   "outputs": [],
   "source": [
    "import overscan_subtract_andTrim as ovsubtrim"
   ]
  },
  {
   "cell_type": "markdown",
   "metadata": {
    "deletable": true,
    "editable": true
   },
   "source": [
    "### Path for raw images"
   ]
  },
  {
   "cell_type": "code",
   "execution_count": 10,
   "metadata": {
    "collapsed": true,
    "deletable": true,
    "editable": true
   },
   "outputs": [],
   "source": [
    "#rootpath_rawimage='/Users/dagoret-campagnesylvie/MacOsX/LSST/MyWork/GitHub/CTIOData2017/2017_01_17/092_195'\n",
    "#rootpath_rawimage='/Users/dagoret-campagnesylvie/MacOsX/LSST/MyWork/GitHub/CTIODataJune2017/data_29may17'\n",
    "rootpath_rawimage='/Volumes/LACIE SHARE/data_31may17'"
   ]
  },
  {
   "cell_type": "code",
   "execution_count": 11,
   "metadata": {
    "collapsed": false,
    "deletable": true,
    "editable": true
   },
   "outputs": [],
   "source": [
    "filelist_all=os.listdir(rootpath_rawimage) "
   ]
  },
  {
   "cell_type": "code",
   "execution_count": 12,
   "metadata": {
    "collapsed": false,
    "deletable": true,
    "editable": true
   },
   "outputs": [
    {
     "data": {
      "text/plain": [
       "['20170531_048.fits',\n",
       " '20170531_103.fits',\n",
       " '20170531_060.fits',\n",
       " '20170531_129.fits',\n",
       " '20170531_101.fits']"
      ]
     },
     "execution_count": 12,
     "metadata": {},
     "output_type": "execute_result"
    }
   ],
   "source": [
    "filelist_all[:5]"
   ]
  },
  {
   "cell_type": "markdown",
   "metadata": {
    "deletable": true,
    "editable": true
   },
   "source": [
    "### select raw images only\n",
    "\n",
    "- filename start with **fileno**\n",
    "- filename stop with **fits** "
   ]
  },
  {
   "cell_type": "code",
   "execution_count": 13,
   "metadata": {
    "collapsed": false,
    "deletable": true,
    "editable": true
   },
   "outputs": [
    {
     "name": "stdout",
     "output_type": "stream",
     "text": [
      "Number of files : 261\n"
     ]
    }
   ],
   "source": [
    "filelist_fitsimages= []\n",
    "for filename in filelist_all:\n",
    "    if re.search('^2017.*.fits$',filename):  #example of filename filter\n",
    "        filelist_fitsimages.append(filename)\n",
    "print 'Number of files :',len(filelist_fitsimages)"
   ]
  },
  {
   "cell_type": "code",
   "execution_count": 14,
   "metadata": {
    "collapsed": false,
    "deletable": true,
    "editable": true
   },
   "outputs": [
    {
     "data": {
      "text/plain": [
       "['20170531_048.fits',\n",
       " '20170531_103.fits',\n",
       " '20170531_060.fits',\n",
       " '20170531_129.fits',\n",
       " '20170531_101.fits']"
      ]
     },
     "execution_count": 14,
     "metadata": {},
     "output_type": "execute_result"
    }
   ],
   "source": [
    "filelist_fitsimages[:5]"
   ]
  },
  {
   "cell_type": "markdown",
   "metadata": {
    "deletable": true,
    "editable": true
   },
   "source": [
    "### outputdir"
   ]
  },
  {
   "cell_type": "code",
   "execution_count": 15,
   "metadata": {
    "collapsed": true,
    "deletable": true,
    "editable": true
   },
   "outputs": [],
   "source": [
    "############################################################################\n",
    "def ensure_dir(f):\n",
    "    d = os.path.dirname(f)\n",
    "    if not os.path.exists(f):\n",
    "        os.makedirs(f)\n",
    "#########################################################################"
   ]
  },
  {
   "cell_type": "code",
   "execution_count": 16,
   "metadata": {
    "collapsed": true,
    "deletable": true,
    "editable": true
   },
   "outputs": [],
   "source": [
    "outputdir=\"./trim_images\""
   ]
  },
  {
   "cell_type": "code",
   "execution_count": 17,
   "metadata": {
    "collapsed": false,
    "deletable": true,
    "editable": true
   },
   "outputs": [],
   "source": [
    "ensure_dir(outputdir)"
   ]
  },
  {
   "cell_type": "markdown",
   "metadata": {
    "deletable": true,
    "editable": true
   },
   "source": [
    "### Do the overscan and the subtraction and the trimming"
   ]
  },
  {
   "cell_type": "code",
   "execution_count": 18,
   "metadata": {
    "collapsed": false,
    "deletable": true,
    "editable": true
   },
   "outputs": [
    {
     "name": "stdout",
     "output_type": "stream",
     "text": [
      "20170531_048.fits\n",
      "20170531_103.fits\n",
      "20170531_060.fits\n",
      "20170531_129.fits\n",
      "20170531_101.fits\n",
      "20170531_029.fits\n",
      "20170531_034.fits\n",
      "20170531_005.fits\n",
      "20170531_154.fits\n",
      "20170531_023.fits\n",
      "20170531_123.fits\n",
      "20170531_127.fits\n",
      "20170531_095.fits\n",
      "20170531_018.fits\n",
      "20170531_071.fits\n",
      "20170531_068.fits\n",
      "20170531_087.fits\n",
      "20170531_050.fits\n",
      "20170531_035.fits\n",
      "20170531_092.fits\n",
      "20170531_003.fits\n",
      "20170531_001.fits\n",
      "20170531_135.fits\n",
      "20170531_172.fits\n",
      "20170531_028.fits\n",
      "20170531_090.fits\n",
      "20170531_128.fits\n",
      "20170531_131.fits\n",
      "20170531_012.fits\n",
      "20170531_051.fits\n",
      "20170531_049.fits\n",
      "20170531_130.fits\n",
      "20170531_155.fits\n",
      "20170531_013.fits\n",
      "20170531_070.fits\n",
      "20170531_143.fits\n",
      "20170531_167.fits\n",
      "20170531_008.fits\n",
      "20170531_150.fits\n",
      "20170531_085.fits\n",
      "20170531_125.fits\n",
      "20170531_162.fits\n",
      "20170531_088.fits\n",
      "20170531_169.fits\n",
      "20170531_010.fits\n",
      "20170531_037.fits\n",
      "20170531_119.fits\n",
      "20170531_055.fits\n",
      "20170531_076.fits\n",
      "20170531_146.fits\n",
      "20170531_134.fits\n",
      "20170531_109.fits\n",
      "20170531_117.fits\n",
      "20170531_113.fits\n",
      "20170531_098.fits\n",
      "20170531_160.fits\n",
      "20170531_027.fits\n",
      "20170531_063.fits\n",
      "20170531_054.fits\n",
      "20170531_159.fits\n",
      "20170531_148.fits\n",
      "20170531_084.fits\n",
      "20170531_165.fits\n",
      "20170531_061.fits\n",
      "20170531_115.fits\n",
      "20170531_004.fits\n",
      "20170531_171.fits\n",
      "20170531_126.fits\n",
      "20170531_102.fits\n",
      "20170531_149.fits\n",
      "20170531_030.fits\n",
      "20170531_158.fits\n",
      "20170531_118.fits\n",
      "20170531_177.fits\n",
      "20170531_026.fits\n",
      "20170531_133.fits\n",
      "20170531_120.fits\n",
      "20170531_059.fits\n",
      "20170531_006.fits\n",
      "20170531_020.fits\n",
      "20170531_089.fits\n",
      "20170531_032.fits\n",
      "20170531_067.fits\n",
      "20170531_104.fits\n",
      "20170531_140.fits\n",
      "20170531_081.fits\n",
      "20170531_106.fits\n",
      "20170531_086.fits\n",
      "20170531_170.fits\n",
      "20170531_009.fits\n",
      "20170531_163.fits\n",
      "20170531_082.fits\n",
      "20170531_058.fits\n",
      "20170531_107.fits\n",
      "20170531_047.fits\n",
      "20170531_108.fits\n",
      "20170531_019.fits\n",
      "20170531_114.fits\n",
      "20170531_066.fits\n",
      "20170531_153.fits\n",
      "20170531_122.fits\n",
      "20170531_144.fits\n",
      "20170531_053.fits\n",
      "20170531_069.fits\n",
      "20170531_173.fits\n",
      "20170531_075.fits\n",
      "20170531_041.fits\n",
      "20170531_036.fits\n",
      "20170531_152.fits\n",
      "20170531_083.fits\n",
      "20170531_116.fits\n",
      "20170531_093.fits\n",
      "20170531_024.fits\n",
      "20170531_040.fits\n",
      "20170531_094.fits\n",
      "20170531_097.fits\n",
      "20170531_091.fits\n",
      "20170531_011.fits\n",
      "20170531_132.fits\n",
      "20170531_151.fits\n",
      "20170531_017.fits\n",
      "20170531_164.fits\n",
      "20170531_110.fits\n",
      "20170531_039.fits\n",
      "20170531_161.fits\n",
      "20170531_105.fits\n",
      "20170531_015.fits\n",
      "20170531_016.fits\n",
      "20170531_100.fits\n",
      "20170531_166.fits\n",
      "20170531_042.fits\n",
      "20170531_157.fits\n",
      "20170531_080.fits\n",
      "20170531_052.fits\n",
      "20170531_078.fits\n",
      "20170531_139.fits\n",
      "20170531_176.fits\n",
      "20170531_096.fits\n",
      "20170531_033.fits\n",
      "20170531_007.fits\n",
      "20170531_168.fits\n",
      "20170531_074.fits\n",
      "20170531_025.fits\n",
      "20170531_147.fits\n",
      "20170531_046.fits\n",
      "20170531_077.fits\n",
      "20170531_057.fits\n",
      "20170531_062.fits\n",
      "20170531_138.fits\n",
      "20170531_121.fits\n",
      "20170531_056.fits\n",
      "20170531_136.fits\n",
      "20170531_099.fits\n",
      "20170531_175.fits\n",
      "20170531_038.fits\n",
      "20170531_031.fits\n",
      "20170531_145.fits\n",
      "20170531_002.fits\n",
      "20170531_174.fits\n",
      "20170531_124.fits\n",
      "20170531_014.fits\n",
      "20170531_156.fits\n",
      "20170531_137.fits\n",
      "20170531_079.fits\n",
      "20170531_209.fits\n",
      "20170531_257.fits\n",
      "20170531_235.fits\n",
      "20170531_250.fits\n",
      "20170531_201.fits\n",
      "20170531_220.fits\n",
      "20170531_239.fits\n",
      "20170531_207.fits\n",
      "20170531_194.fits\n",
      "20170531_218.fits\n",
      "20170531_228.fits\n",
      "20170531_230.fits\n",
      "20170531_271.fits\n",
      "20170531_237.fits\n",
      "20170531_190.fits\n",
      "20170531_264.fits\n",
      "20170531_193.fits\n",
      "20170531_231.fits\n",
      "20170531_199.fits\n",
      "20170531_203.fits\n",
      "20170531_213.fits\n",
      "20170531_251.fits\n",
      "20170531_252.fits\n",
      "20170531_242.fits\n",
      "20170531_259.fits\n",
      "20170531_195.fits\n",
      "20170531_265.fits\n",
      "20170531_263.fits\n",
      "20170531_212.fits\n",
      "20170531_249.fits\n",
      "20170531_232.fits\n",
      "20170531_255.fits\n",
      "20170531_216.fits\n",
      "20170531_219.fits\n",
      "20170531_244.fits\n",
      "20170531_274.fits\n",
      "20170531_258.fits\n",
      "20170531_261.fits\n",
      "20170531_240.fits\n",
      "20170531_215.fits\n",
      "20170531_185.fits\n",
      "20170531_217.fits\n",
      "20170531_221.fits\n",
      "20170531_253.fits\n",
      "20170531_206.fits\n",
      "20170531_211.fits\n",
      "20170531_270.fits\n",
      "20170531_182.fits\n",
      "20170531_225.fits\n",
      "20170531_227.fits\n",
      "20170531_187.fits\n",
      "20170531_183.fits\n",
      "20170531_192.fits\n",
      "20170531_197.fits\n",
      "20170531_224.fits\n",
      "20170531_226.fits\n",
      "20170531_260.fits\n",
      "20170531_208.fits\n",
      "20170531_223.fits\n",
      "20170531_214.fits\n",
      "20170531_229.fits\n",
      "20170531_202.fits\n",
      "20170531_272.fits\n",
      "20170531_180.fits\n",
      "20170531_266.fits\n",
      "20170531_247.fits\n",
      "20170531_243.fits\n",
      "20170531_222.fits\n",
      "20170531_210.fits\n",
      "20170531_178.fits\n",
      "20170531_246.fits\n",
      "20170531_256.fits\n",
      "20170531_241.fits\n",
      "20170531_262.fits\n",
      "20170531_184.fits\n",
      "20170531_233.fits\n",
      "20170531_238.fits\n",
      "20170531_245.fits\n",
      "20170531_204.fits\n",
      "20170531_267.fits\n",
      "20170531_186.fits\n",
      "20170531_198.fits\n",
      "20170531_179.fits\n",
      "20170531_196.fits\n",
      "20170531_188.fits\n",
      "20170531_181.fits\n",
      "20170531_205.fits\n",
      "20170531_248.fits\n",
      "20170531_236.fits\n",
      "20170531_269.fits\n",
      "20170531_268.fits\n",
      "20170531_254.fits\n",
      "20170531_189.fits\n",
      "20170531_273.fits\n",
      "20170531_200.fits\n",
      "20170531_191.fits\n",
      "20170531_234.fits\n"
     ]
    }
   ],
   "source": [
    "for file in filelist_fitsimages:\n",
    "    print file\n",
    "    fullfilename=os.path.join(rootpath_rawimage,file)\n",
    "    ovsubtrim.Do_overscan_subtract_andTrim(fullfilename)"
   ]
  },
  {
   "cell_type": "markdown",
   "metadata": {
    "collapsed": false,
    "deletable": true,
    "editable": true
   },
   "source": [
    "## Now in shell do mv trim_*.fits ${outputdir}/."
   ]
  },
  {
   "cell_type": "code",
   "execution_count": 19,
   "metadata": {
    "collapsed": false,
    "deletable": true,
    "editable": true
   },
   "outputs": [
    {
     "name": "stdout",
     "output_type": "stream",
     "text": [
      "OverscanAllImages.ipynb       trim_20170531_139.fits\r\n",
      "compute.py                    trim_20170531_140.fits\r\n",
      "header.py                     trim_20170531_143.fits\r\n",
      "overscan_subtract_andTrim.py  trim_20170531_144.fits\r\n",
      "overscan_subtract_andTrim.pyc trim_20170531_145.fits\r\n",
      "skylev.py                     trim_20170531_146.fits\r\n",
      "telinst.py                    trim_20170531_147.fits\r\n",
      "telinst.pyc                   trim_20170531_148.fits\r\n",
      "trim_20170531_001.fits        trim_20170531_149.fits\r\n",
      "trim_20170531_002.fits        trim_20170531_150.fits\r\n",
      "trim_20170531_003.fits        trim_20170531_151.fits\r\n",
      "trim_20170531_004.fits        trim_20170531_152.fits\r\n",
      "trim_20170531_005.fits        trim_20170531_153.fits\r\n",
      "trim_20170531_006.fits        trim_20170531_154.fits\r\n",
      "trim_20170531_007.fits        trim_20170531_155.fits\r\n",
      "trim_20170531_008.fits        trim_20170531_156.fits\r\n",
      "trim_20170531_009.fits        trim_20170531_157.fits\r\n",
      "trim_20170531_010.fits        trim_20170531_158.fits\r\n",
      "trim_20170531_011.fits        trim_20170531_159.fits\r\n",
      "trim_20170531_012.fits        trim_20170531_160.fits\r\n",
      "trim_20170531_013.fits        trim_20170531_161.fits\r\n",
      "trim_20170531_014.fits        trim_20170531_162.fits\r\n",
      "trim_20170531_015.fits        trim_20170531_163.fits\r\n",
      "trim_20170531_016.fits        trim_20170531_164.fits\r\n",
      "trim_20170531_017.fits        trim_20170531_165.fits\r\n",
      "trim_20170531_018.fits        trim_20170531_166.fits\r\n",
      "trim_20170531_019.fits        trim_20170531_167.fits\r\n",
      "trim_20170531_020.fits        trim_20170531_168.fits\r\n",
      "trim_20170531_023.fits        trim_20170531_169.fits\r\n",
      "trim_20170531_024.fits        trim_20170531_170.fits\r\n",
      "trim_20170531_025.fits        trim_20170531_171.fits\r\n",
      "trim_20170531_026.fits        trim_20170531_172.fits\r\n",
      "trim_20170531_027.fits        trim_20170531_173.fits\r\n",
      "trim_20170531_028.fits        trim_20170531_174.fits\r\n",
      "trim_20170531_029.fits        trim_20170531_175.fits\r\n",
      "trim_20170531_030.fits        trim_20170531_176.fits\r\n",
      "trim_20170531_031.fits        trim_20170531_177.fits\r\n",
      "trim_20170531_032.fits        trim_20170531_178.fits\r\n",
      "trim_20170531_033.fits        trim_20170531_179.fits\r\n",
      "trim_20170531_034.fits        trim_20170531_180.fits\r\n",
      "trim_20170531_035.fits        trim_20170531_181.fits\r\n",
      "trim_20170531_036.fits        trim_20170531_182.fits\r\n",
      "trim_20170531_037.fits        trim_20170531_183.fits\r\n",
      "trim_20170531_038.fits        trim_20170531_184.fits\r\n",
      "trim_20170531_039.fits        trim_20170531_185.fits\r\n",
      "trim_20170531_040.fits        trim_20170531_186.fits\r\n",
      "trim_20170531_041.fits        trim_20170531_187.fits\r\n",
      "trim_20170531_042.fits        trim_20170531_188.fits\r\n",
      "trim_20170531_046.fits        trim_20170531_189.fits\r\n",
      "trim_20170531_047.fits        trim_20170531_190.fits\r\n",
      "trim_20170531_048.fits        trim_20170531_191.fits\r\n",
      "trim_20170531_049.fits        trim_20170531_192.fits\r\n",
      "trim_20170531_050.fits        trim_20170531_193.fits\r\n",
      "trim_20170531_051.fits        trim_20170531_194.fits\r\n",
      "trim_20170531_052.fits        trim_20170531_195.fits\r\n",
      "trim_20170531_053.fits        trim_20170531_196.fits\r\n",
      "trim_20170531_054.fits        trim_20170531_197.fits\r\n",
      "trim_20170531_055.fits        trim_20170531_198.fits\r\n",
      "trim_20170531_056.fits        trim_20170531_199.fits\r\n",
      "trim_20170531_057.fits        trim_20170531_200.fits\r\n",
      "trim_20170531_058.fits        trim_20170531_201.fits\r\n",
      "trim_20170531_059.fits        trim_20170531_202.fits\r\n",
      "trim_20170531_060.fits        trim_20170531_203.fits\r\n",
      "trim_20170531_061.fits        trim_20170531_204.fits\r\n",
      "trim_20170531_062.fits        trim_20170531_205.fits\r\n",
      "trim_20170531_063.fits        trim_20170531_206.fits\r\n",
      "trim_20170531_066.fits        trim_20170531_207.fits\r\n",
      "trim_20170531_067.fits        trim_20170531_208.fits\r\n",
      "trim_20170531_068.fits        trim_20170531_209.fits\r\n",
      "trim_20170531_069.fits        trim_20170531_210.fits\r\n",
      "trim_20170531_070.fits        trim_20170531_211.fits\r\n",
      "trim_20170531_071.fits        trim_20170531_212.fits\r\n",
      "trim_20170531_074.fits        trim_20170531_213.fits\r\n",
      "trim_20170531_075.fits        trim_20170531_214.fits\r\n",
      "trim_20170531_076.fits        trim_20170531_215.fits\r\n",
      "trim_20170531_077.fits        trim_20170531_216.fits\r\n",
      "trim_20170531_078.fits        trim_20170531_217.fits\r\n",
      "trim_20170531_079.fits        trim_20170531_218.fits\r\n",
      "trim_20170531_080.fits        trim_20170531_219.fits\r\n",
      "trim_20170531_081.fits        trim_20170531_220.fits\r\n",
      "trim_20170531_082.fits        trim_20170531_221.fits\r\n",
      "trim_20170531_083.fits        trim_20170531_222.fits\r\n",
      "trim_20170531_084.fits        trim_20170531_223.fits\r\n",
      "trim_20170531_085.fits        trim_20170531_224.fits\r\n",
      "trim_20170531_086.fits        trim_20170531_225.fits\r\n",
      "trim_20170531_087.fits        trim_20170531_226.fits\r\n",
      "trim_20170531_088.fits        trim_20170531_227.fits\r\n",
      "trim_20170531_089.fits        trim_20170531_228.fits\r\n",
      "trim_20170531_090.fits        trim_20170531_229.fits\r\n",
      "trim_20170531_091.fits        trim_20170531_230.fits\r\n",
      "trim_20170531_092.fits        trim_20170531_231.fits\r\n",
      "trim_20170531_093.fits        trim_20170531_232.fits\r\n",
      "trim_20170531_094.fits        trim_20170531_233.fits\r\n",
      "trim_20170531_095.fits        trim_20170531_234.fits\r\n",
      "trim_20170531_096.fits        trim_20170531_235.fits\r\n",
      "trim_20170531_097.fits        trim_20170531_236.fits\r\n",
      "trim_20170531_098.fits        trim_20170531_237.fits\r\n",
      "trim_20170531_099.fits        trim_20170531_238.fits\r\n",
      "trim_20170531_100.fits        trim_20170531_239.fits\r\n",
      "trim_20170531_101.fits        trim_20170531_240.fits\r\n",
      "trim_20170531_102.fits        trim_20170531_241.fits\r\n",
      "trim_20170531_103.fits        trim_20170531_242.fits\r\n",
      "trim_20170531_104.fits        trim_20170531_243.fits\r\n",
      "trim_20170531_105.fits        trim_20170531_244.fits\r\n",
      "trim_20170531_106.fits        trim_20170531_245.fits\r\n",
      "trim_20170531_107.fits        trim_20170531_246.fits\r\n",
      "trim_20170531_108.fits        trim_20170531_247.fits\r\n",
      "trim_20170531_109.fits        trim_20170531_248.fits\r\n",
      "trim_20170531_110.fits        trim_20170531_249.fits\r\n",
      "trim_20170531_113.fits        trim_20170531_250.fits\r\n",
      "trim_20170531_114.fits        trim_20170531_251.fits\r\n",
      "trim_20170531_115.fits        trim_20170531_252.fits\r\n",
      "trim_20170531_116.fits        trim_20170531_253.fits\r\n",
      "trim_20170531_117.fits        trim_20170531_254.fits\r\n",
      "trim_20170531_118.fits        trim_20170531_255.fits\r\n",
      "trim_20170531_119.fits        trim_20170531_256.fits\r\n",
      "trim_20170531_120.fits        trim_20170531_257.fits\r\n",
      "trim_20170531_121.fits        trim_20170531_258.fits\r\n",
      "trim_20170531_122.fits        trim_20170531_259.fits\r\n",
      "trim_20170531_123.fits        trim_20170531_260.fits\r\n",
      "trim_20170531_124.fits        trim_20170531_261.fits\r\n",
      "trim_20170531_125.fits        trim_20170531_262.fits\r\n",
      "trim_20170531_126.fits        trim_20170531_263.fits\r\n",
      "trim_20170531_127.fits        trim_20170531_264.fits\r\n",
      "trim_20170531_128.fits        trim_20170531_265.fits\r\n",
      "trim_20170531_129.fits        trim_20170531_266.fits\r\n",
      "trim_20170531_130.fits        trim_20170531_267.fits\r\n",
      "trim_20170531_131.fits        trim_20170531_268.fits\r\n",
      "trim_20170531_132.fits        trim_20170531_269.fits\r\n",
      "trim_20170531_133.fits        trim_20170531_270.fits\r\n",
      "trim_20170531_134.fits        trim_20170531_271.fits\r\n",
      "trim_20170531_135.fits        trim_20170531_272.fits\r\n",
      "trim_20170531_136.fits        trim_20170531_273.fits\r\n",
      "trim_20170531_137.fits        trim_20170531_274.fits\r\n",
      "trim_20170531_138.fits        \u001b[34mtrim_images\u001b[m\u001b[m\r\n"
     ]
    }
   ],
   "source": [
    "!ls\n"
   ]
  },
  {
   "cell_type": "code",
   "execution_count": 20,
   "metadata": {
    "collapsed": false,
    "deletable": true,
    "editable": true
   },
   "outputs": [],
   "source": [
    "! mv *.fits trim_images/."
   ]
  },
  {
   "cell_type": "code",
   "execution_count": 21,
   "metadata": {
    "collapsed": false,
    "deletable": true,
    "editable": true
   },
   "outputs": [
    {
     "name": "stdout",
     "output_type": "stream",
     "text": [
      "OverscanAllImages.ipynb       skylev.py\r\n",
      "compute.py                    telinst.py\r\n",
      "header.py                     telinst.pyc\r\n",
      "overscan_subtract_andTrim.py  \u001b[34mtrim_images\u001b[m\u001b[m\r\n",
      "overscan_subtract_andTrim.pyc\r\n"
     ]
    }
   ],
   "source": [
    "!ls"
   ]
  },
  {
   "cell_type": "code",
   "execution_count": 22,
   "metadata": {
    "collapsed": false,
    "deletable": true,
    "editable": true
   },
   "outputs": [
    {
     "name": "stdout",
     "output_type": "stream",
     "text": [
      "trim_20170531_001.fits trim_20170531_097.fits trim_20170531_188.fits\r\n",
      "trim_20170531_002.fits trim_20170531_098.fits trim_20170531_189.fits\r\n",
      "trim_20170531_003.fits trim_20170531_099.fits trim_20170531_190.fits\r\n",
      "trim_20170531_004.fits trim_20170531_100.fits trim_20170531_191.fits\r\n",
      "trim_20170531_005.fits trim_20170531_101.fits trim_20170531_192.fits\r\n",
      "trim_20170531_006.fits trim_20170531_102.fits trim_20170531_193.fits\r\n",
      "trim_20170531_007.fits trim_20170531_103.fits trim_20170531_194.fits\r\n",
      "trim_20170531_008.fits trim_20170531_104.fits trim_20170531_195.fits\r\n",
      "trim_20170531_009.fits trim_20170531_105.fits trim_20170531_196.fits\r\n",
      "trim_20170531_010.fits trim_20170531_106.fits trim_20170531_197.fits\r\n",
      "trim_20170531_011.fits trim_20170531_107.fits trim_20170531_198.fits\r\n",
      "trim_20170531_012.fits trim_20170531_108.fits trim_20170531_199.fits\r\n",
      "trim_20170531_013.fits trim_20170531_109.fits trim_20170531_200.fits\r\n",
      "trim_20170531_014.fits trim_20170531_110.fits trim_20170531_201.fits\r\n",
      "trim_20170531_015.fits trim_20170531_113.fits trim_20170531_202.fits\r\n",
      "trim_20170531_016.fits trim_20170531_114.fits trim_20170531_203.fits\r\n",
      "trim_20170531_017.fits trim_20170531_115.fits trim_20170531_204.fits\r\n",
      "trim_20170531_018.fits trim_20170531_116.fits trim_20170531_205.fits\r\n",
      "trim_20170531_019.fits trim_20170531_117.fits trim_20170531_206.fits\r\n",
      "trim_20170531_020.fits trim_20170531_118.fits trim_20170531_207.fits\r\n",
      "trim_20170531_023.fits trim_20170531_119.fits trim_20170531_208.fits\r\n",
      "trim_20170531_024.fits trim_20170531_120.fits trim_20170531_209.fits\r\n",
      "trim_20170531_025.fits trim_20170531_121.fits trim_20170531_210.fits\r\n",
      "trim_20170531_026.fits trim_20170531_122.fits trim_20170531_211.fits\r\n",
      "trim_20170531_027.fits trim_20170531_123.fits trim_20170531_212.fits\r\n",
      "trim_20170531_028.fits trim_20170531_124.fits trim_20170531_213.fits\r\n",
      "trim_20170531_029.fits trim_20170531_125.fits trim_20170531_214.fits\r\n",
      "trim_20170531_030.fits trim_20170531_126.fits trim_20170531_215.fits\r\n",
      "trim_20170531_031.fits trim_20170531_127.fits trim_20170531_216.fits\r\n",
      "trim_20170531_032.fits trim_20170531_128.fits trim_20170531_217.fits\r\n",
      "trim_20170531_033.fits trim_20170531_129.fits trim_20170531_218.fits\r\n",
      "trim_20170531_034.fits trim_20170531_130.fits trim_20170531_219.fits\r\n",
      "trim_20170531_035.fits trim_20170531_131.fits trim_20170531_220.fits\r\n",
      "trim_20170531_036.fits trim_20170531_132.fits trim_20170531_221.fits\r\n",
      "trim_20170531_037.fits trim_20170531_133.fits trim_20170531_222.fits\r\n",
      "trim_20170531_038.fits trim_20170531_134.fits trim_20170531_223.fits\r\n",
      "trim_20170531_039.fits trim_20170531_135.fits trim_20170531_224.fits\r\n",
      "trim_20170531_040.fits trim_20170531_136.fits trim_20170531_225.fits\r\n",
      "trim_20170531_041.fits trim_20170531_137.fits trim_20170531_226.fits\r\n",
      "trim_20170531_042.fits trim_20170531_138.fits trim_20170531_227.fits\r\n",
      "trim_20170531_046.fits trim_20170531_139.fits trim_20170531_228.fits\r\n",
      "trim_20170531_047.fits trim_20170531_140.fits trim_20170531_229.fits\r\n",
      "trim_20170531_048.fits trim_20170531_143.fits trim_20170531_230.fits\r\n",
      "trim_20170531_049.fits trim_20170531_144.fits trim_20170531_231.fits\r\n",
      "trim_20170531_050.fits trim_20170531_145.fits trim_20170531_232.fits\r\n",
      "trim_20170531_051.fits trim_20170531_146.fits trim_20170531_233.fits\r\n",
      "trim_20170531_052.fits trim_20170531_147.fits trim_20170531_234.fits\r\n",
      "trim_20170531_053.fits trim_20170531_148.fits trim_20170531_235.fits\r\n",
      "trim_20170531_054.fits trim_20170531_149.fits trim_20170531_236.fits\r\n",
      "trim_20170531_055.fits trim_20170531_150.fits trim_20170531_237.fits\r\n",
      "trim_20170531_056.fits trim_20170531_151.fits trim_20170531_238.fits\r\n",
      "trim_20170531_057.fits trim_20170531_152.fits trim_20170531_239.fits\r\n",
      "trim_20170531_058.fits trim_20170531_153.fits trim_20170531_240.fits\r\n",
      "trim_20170531_059.fits trim_20170531_154.fits trim_20170531_241.fits\r\n",
      "trim_20170531_060.fits trim_20170531_155.fits trim_20170531_242.fits\r\n",
      "trim_20170531_061.fits trim_20170531_156.fits trim_20170531_243.fits\r\n",
      "trim_20170531_062.fits trim_20170531_157.fits trim_20170531_244.fits\r\n",
      "trim_20170531_063.fits trim_20170531_158.fits trim_20170531_245.fits\r\n",
      "trim_20170531_066.fits trim_20170531_159.fits trim_20170531_246.fits\r\n",
      "trim_20170531_067.fits trim_20170531_160.fits trim_20170531_247.fits\r\n",
      "trim_20170531_068.fits trim_20170531_161.fits trim_20170531_248.fits\r\n",
      "trim_20170531_069.fits trim_20170531_162.fits trim_20170531_249.fits\r\n",
      "trim_20170531_070.fits trim_20170531_163.fits trim_20170531_250.fits\r\n",
      "trim_20170531_071.fits trim_20170531_164.fits trim_20170531_251.fits\r\n",
      "trim_20170531_074.fits trim_20170531_165.fits trim_20170531_252.fits\r\n",
      "trim_20170531_075.fits trim_20170531_166.fits trim_20170531_253.fits\r\n",
      "trim_20170531_076.fits trim_20170531_167.fits trim_20170531_254.fits\r\n",
      "trim_20170531_077.fits trim_20170531_168.fits trim_20170531_255.fits\r\n",
      "trim_20170531_078.fits trim_20170531_169.fits trim_20170531_256.fits\r\n",
      "trim_20170531_079.fits trim_20170531_170.fits trim_20170531_257.fits\r\n",
      "trim_20170531_080.fits trim_20170531_171.fits trim_20170531_258.fits\r\n",
      "trim_20170531_081.fits trim_20170531_172.fits trim_20170531_259.fits\r\n",
      "trim_20170531_082.fits trim_20170531_173.fits trim_20170531_260.fits\r\n",
      "trim_20170531_083.fits trim_20170531_174.fits trim_20170531_261.fits\r\n",
      "trim_20170531_084.fits trim_20170531_175.fits trim_20170531_262.fits\r\n",
      "trim_20170531_085.fits trim_20170531_176.fits trim_20170531_263.fits\r\n",
      "trim_20170531_086.fits trim_20170531_177.fits trim_20170531_264.fits\r\n",
      "trim_20170531_087.fits trim_20170531_178.fits trim_20170531_265.fits\r\n",
      "trim_20170531_088.fits trim_20170531_179.fits trim_20170531_266.fits\r\n",
      "trim_20170531_089.fits trim_20170531_180.fits trim_20170531_267.fits\r\n",
      "trim_20170531_090.fits trim_20170531_181.fits trim_20170531_268.fits\r\n",
      "trim_20170531_091.fits trim_20170531_182.fits trim_20170531_269.fits\r\n",
      "trim_20170531_092.fits trim_20170531_183.fits trim_20170531_270.fits\r\n",
      "trim_20170531_093.fits trim_20170531_184.fits trim_20170531_271.fits\r\n",
      "trim_20170531_094.fits trim_20170531_185.fits trim_20170531_272.fits\r\n",
      "trim_20170531_095.fits trim_20170531_186.fits trim_20170531_273.fits\r\n",
      "trim_20170531_096.fits trim_20170531_187.fits trim_20170531_274.fits\r\n"
     ]
    }
   ],
   "source": [
    "!ls trim_images"
   ]
  },
  {
   "cell_type": "code",
   "execution_count": null,
   "metadata": {
    "collapsed": true,
    "deletable": true,
    "editable": true
   },
   "outputs": [],
   "source": []
  }
 ],
 "metadata": {
  "anaconda-cloud": {},
  "kernelspec": {
   "display_name": "Python 2",
   "language": "python",
   "name": "python2"
  },
  "language_info": {
   "codemirror_mode": {
    "name": "ipython",
    "version": 2
   },
   "file_extension": ".py",
   "mimetype": "text/x-python",
   "name": "python",
   "nbconvert_exporter": "python",
   "pygments_lexer": "ipython2",
   "version": "2.7.10"
  },
  "toc": {
   "colors": {
    "hover_highlight": "#DAA520",
    "running_highlight": "#FF0000",
    "selected_highlight": "#FFD700"
   },
   "moveMenuLeft": true,
   "nav_menu": {
    "height": "153px",
    "width": "252px"
   },
   "navigate_menu": true,
   "number_sections": true,
   "sideBar": true,
   "threshold": 4,
   "toc_cell": false,
   "toc_section_display": "block",
   "toc_window_display": false,
   "widenNotebook": false
  }
 },
 "nbformat": 4,
 "nbformat_minor": 0
}
