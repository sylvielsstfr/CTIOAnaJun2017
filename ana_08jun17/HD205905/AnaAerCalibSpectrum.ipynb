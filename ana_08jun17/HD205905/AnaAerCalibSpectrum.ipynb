{
 "cells": [
  {
   "cell_type": "markdown",
   "metadata": {},
   "source": [
    "# Use spectra of CTIO Data in June 2017 to do atmospheric studies\n",
    "==================================================================================================\n",
    "\n",
    "- author : Sylvie Dagoret-Campagne\n",
    "- affiliation : LAL/IN2P3/CNRS \n",
    "- creation date   : June 9th 2017\n",
    "- Big update : October 23th 2017\n",
    "\n",
    "- version 1\n"
   ]
  },
  {
   "cell_type": "code",
   "execution_count": 2,
   "metadata": {},
   "outputs": [
    {
     "data": {
      "application/javascript": [
       "var kernel = IPython.notebook.kernel;\n",
       "var thename = window.document.getElementById(\"notebook_name\").innerHTML;\n",
       "var command = \"theNotebook = \" + \"'\"+thename+\"'\";\n",
       "kernel.execute(command);"
      ],
      "text/plain": [
       "<IPython.core.display.Javascript object>"
      ]
     },
     "metadata": {},
     "output_type": "display_data"
    }
   ],
   "source": [
    "%%javascript\n",
    "var kernel = IPython.notebook.kernel;\n",
    "var thename = window.document.getElementById(\"notebook_name\").innerHTML;\n",
    "var command = \"theNotebook = \" + \"'\"+thename+\"'\";\n",
    "kernel.execute(command);"
   ]
  },
  {
   "cell_type": "code",
   "execution_count": 3,
   "metadata": {},
   "outputs": [
    {
     "name": "stdout",
     "output_type": "stream",
     "text": [
      "AnaAerCalibSpectrum\n",
      "ccdproc version 1.2.0\n",
      "bottleneck version 1.2.1\n",
      "/Users/dagoret/MacOSX/GitHub/LSST/CTIOAnaJun2017/CTIOAnaJun2017/ana_08jun17/HD205905\n"
     ]
    }
   ],
   "source": [
    "%matplotlib inline\n",
    "%load_ext autoreload\n",
    "%autoreload 2\n",
    "\n",
    "print theNotebook\n",
    "from IPython.display import Image, display\n",
    "import sys\n",
    "sys.path.append(\"../../common_tools/\")\n",
    "from common_notebook import *\n",
    "init_notebook()"
   ]
  },
  {
   "cell_type": "code",
   "execution_count": 4,
   "metadata": {
    "collapsed": true
   },
   "outputs": [],
   "source": [
    "import matplotlib\n",
    "matplotlib.rc('xtick', labelsize=20) \n",
    "matplotlib.rc('ytick', labelsize=20) "
   ]
  },
  {
   "cell_type": "code",
   "execution_count": 5,
   "metadata": {
    "collapsed": true
   },
   "outputs": [],
   "source": [
    "from scipy.interpolate import interp1d"
   ]
  },
  {
   "cell_type": "code",
   "execution_count": 6,
   "metadata": {
    "collapsed": true
   },
   "outputs": [],
   "source": [
    "# to enlarge the sizes\n",
    "params = {'legend.fontsize': 'x-large',\n",
    "          'figure.figsize': (6, 6),\n",
    "         'axes.labelsize': 'x-large',\n",
    "         'axes.titlesize':'x-large',\n",
    "         'xtick.labelsize':'x-large',\n",
    "         'ytick.labelsize':'x-large'}\n",
    "plt.rcParams.update(params)"
   ]
  },
  {
   "cell_type": "code",
   "execution_count": 7,
   "metadata": {
    "collapsed": true
   },
   "outputs": [],
   "source": [
    "#%config InlineBackend.rc = {}\n",
    "#matplotlib.rc_file(\"../../templates/matplotlibrc\")"
   ]
  },
  {
   "cell_type": "code",
   "execution_count": 8,
   "metadata": {
    "collapsed": true
   },
   "outputs": [],
   "source": [
    "import pysynphot as S"
   ]
  },
  {
   "cell_type": "markdown",
   "metadata": {},
   "source": [
    "# Initialisation"
   ]
  },
  {
   "cell_type": "code",
   "execution_count": 9,
   "metadata": {
    "collapsed": true
   },
   "outputs": [],
   "source": [
    "ShowInputSpectra=False"
   ]
  },
  {
   "cell_type": "markdown",
   "metadata": {},
   "source": [
    "## Input fits file"
   ]
  },
  {
   "cell_type": "code",
   "execution_count": 10,
   "metadata": {
    "collapsed": true
   },
   "outputs": [],
   "source": [
    "inputdir=\"./simandcalibspec\"\n",
    "MIN_IMGNUMBER=144\n",
    "MAX_IMGNUMBER=357\n",
    "date=\"20170608\"\n",
    "object_name='HD205905'\n",
    "tag = \"calibandSimSpectra\"\n",
    "SelectTagRe='^%s_%s_([0-9]+).fits$' % (tag,date) # regular expression to select the file\n",
    "SearchTagRe='^%s_%s_[0-9]+.fits$' % (tag,date)\n",
    "NBIMGPERROW=2"
   ]
  },
  {
   "cell_type": "markdown",
   "metadata": {},
   "source": [
    "## Output"
   ]
  },
  {
   "cell_type": "code",
   "execution_count": 11,
   "metadata": {
    "collapsed": true
   },
   "outputs": [],
   "source": [
    "dir_top_images=\"images_notebooks/\"+theNotebook ### Top directory to save images\n",
    "ensure_dir(dir_top_images) # create that directory\n",
    "\n",
    "outputdir=\"./spectrum_anaaer\"\n",
    "ensure_dir(outputdir)"
   ]
  },
  {
   "cell_type": "code",
   "execution_count": 12,
   "metadata": {
    "collapsed": true
   },
   "outputs": [],
   "source": [
    "output_file='AnaAtmAerFromSpectra_'+object_name+'.csv'"
   ]
  },
  {
   "cell_type": "markdown",
   "metadata": {},
   "source": [
    "# Read Input files"
   ]
  },
  {
   "cell_type": "code",
   "execution_count": 13,
   "metadata": {
    "collapsed": true
   },
   "outputs": [],
   "source": [
    "sorted_numbers,sorted_files = MakeFileList([inputdir],MIN_IMGNUMBER,MAX_IMGNUMBER,SelectTagRe,SearchTagRe)"
   ]
  },
  {
   "cell_type": "code",
   "execution_count": 14,
   "metadata": {},
   "outputs": [
    {
     "data": {
      "text/plain": [
       "array(['./simandcalibspec/calibandSimSpectra_20170608_155.fits',\n",
       "       './simandcalibspec/calibandSimSpectra_20170608_159.fits',\n",
       "       './simandcalibspec/calibandSimSpectra_20170608_160.fits',\n",
       "       './simandcalibspec/calibandSimSpectra_20170608_161.fits',\n",
       "       './simandcalibspec/calibandSimSpectra_20170608_162.fits'], \n",
       "      dtype='|S54')"
      ]
     },
     "execution_count": 14,
     "metadata": {},
     "output_type": "execute_result"
    }
   ],
   "source": [
    "sorted_files[0:5]"
   ]
  },
  {
   "cell_type": "code",
   "execution_count": 15,
   "metadata": {
    "collapsed": true
   },
   "outputs": [],
   "source": [
    "all_headers, \\\n",
    "all_dates, \\\n",
    "all_objects, \\\n",
    "all_airmass, \\\n",
    "all_titles, \\\n",
    "all_exposures, \\\n",
    "all_ut, all_ra,all_dec,all_epoch,all_zenith,all_ha,all_st,all_alt,all_focus,\\\n",
    "all_temp, all_press,all_hum,all_windsp,\\\n",
    "all_seeing,all_seeingam,\\\n",
    "all_filt,all_filt1,all_filt2,\\\n",
    "all_leftspectra_data, \\\n",
    "all_rightspectra_data, \\\n",
    "all_leftspectra_data_stat_err ,\\\n",
    "all_rightspectra_data_stat_err ,\\\n",
    "all_leftspectra_wl,\\\n",
    "all_rightspectra_wl, \\\n",
    "all_totleftspectra_data, \\\n",
    "all_totrightspectra_data, \\\n",
    "all_sim_spectra_wl, \\\n",
    "all_sim_spectra_data=BuildCalibandSimSpecFull(sorted_files,sorted_numbers)"
   ]
  },
  {
   "cell_type": "code",
   "execution_count": 16,
   "metadata": {
    "collapsed": true
   },
   "outputs": [],
   "source": [
    "NDATA=len(all_rightspectra_data)\n",
    "all_dt= [ parser.parse(all_dates[i]) for i in range(NDATA)]"
   ]
  },
  {
   "cell_type": "markdown",
   "metadata": {},
   "source": [
    "# Clean spectra"
   ]
  },
  {
   "cell_type": "code",
   "execution_count": 17,
   "metadata": {
    "collapsed": true
   },
   "outputs": [],
   "source": [
    "all_sim_spectra_wl_cut,all_sim_spectra_data_cut=RemoveBadWavelengths(all_sim_spectra_wl,all_sim_spectra_data)\n",
    "all_leftspectra_wl_cut,all_leftspectra_data_cut=RemoveBadWavelengths(all_leftspectra_wl,all_leftspectra_data)\n",
    "all_rightspectra_wl_cut,all_rightspectra_data_cut=RemoveBadWavelengths(all_rightspectra_wl,all_rightspectra_data)\n",
    "\n",
    "all_leftspectra_wl_cut,all_totleftspectra_data_cut=RemoveBadWavelengths(all_leftspectra_wl,all_totleftspectra_data)\n",
    "all_rightspectra_wl_cut,all_totrightspectra_data_cut=RemoveBadWavelengths(all_rightspectra_wl,all_totrightspectra_data)\n",
    "\n",
    "all_leftspectra_wl_cut,all_leftspectra_data_stat_err_cut=RemoveBadWavelengths(all_leftspectra_wl,all_leftspectra_data_stat_err)\n",
    "all_rightspectra_wl_cut,all_rightspectra_data_stat_err_cut=RemoveBadWavelengths(all_rightspectra_wl,all_rightspectra_data_stat_err)"
   ]
  },
  {
   "cell_type": "code",
   "execution_count": 18,
   "metadata": {
    "collapsed": true
   },
   "outputs": [],
   "source": [
    "all_sim_spectra_wl,all_sim_spectra_data=all_sim_spectra_wl_cut,all_sim_spectra_data_cut\n",
    "all_rightspectra_wl,all_rightspectra_data=all_rightspectra_wl_cut,all_rightspectra_data_cut\n",
    "all_leftspectra_wl,all_leftspectra_data=all_leftspectra_wl_cut,all_leftspectra_data_cut\n",
    "all_totleftspectra_data=all_totleftspectra_data_cut\n",
    "all_totrightspectra_data=all_totrightspectra_data_cut\n",
    "all_rightspectra_data_stat_err=all_rightspectra_data_stat_err_cut\n",
    "all_leftspectra_data_stat_err=all_leftspectra_data_stat_err_cut"
   ]
  },
  {
   "cell_type": "code",
   "execution_count": 19,
   "metadata": {
    "collapsed": true
   },
   "outputs": [],
   "source": [
    "all_rightspectra_sim=all_sim_spectra_data\n",
    "all_rightspectra_sim_wl=all_sim_spectra_wl"
   ]
  },
  {
   "cell_type": "markdown",
   "metadata": {},
   "source": [
    "# Airmass"
   ]
  },
  {
   "cell_type": "code",
   "execution_count": 20,
   "metadata": {},
   "outputs": [
    {
     "name": "stderr",
     "output_type": "stream",
     "text": [
      "/Users/dagoret/anaconda/lib/python2.7/site-packages/matplotlib/cbook.py:2649: UserWarning: Saw kwargs [u'lw', u'linewidth'] which are all aliases for u'linewidth'.  Kept value from u'linewidth'\n",
      "  seen=seen, canon=canonical, used=seen[-1]))\n"
     ]
    },
    {
     "data": {
      "image/png": "[encoded data removed]",
      "text/plain": [
       "<matplotlib.figure.Figure at 0x11bd32e50>"
      ]
     },
     "metadata": {},
     "output_type": "display_data"
    }
   ],
   "source": [
    "PlotDataVsDateTime(all_dates,all_airmass,\"airmasses vs time\",\"time\",\"airmass\",dir_top_images,'airmass_vs_time.pdf')"
   ]
  },
  {
   "cell_type": "code",
   "execution_count": 21,
   "metadata": {
    "collapsed": true
   },
   "outputs": [],
   "source": [
    "all_airmass=np.array(all_airmass)"
   ]
  },
  {
   "cell_type": "markdown",
   "metadata": {},
   "source": [
    "# Sort Dispersers"
   ]
  },
  {
   "cell_type": "code",
   "execution_count": 22,
   "metadata": {},
   "outputs": [
    {
     "name": "stdout",
     "output_type": "stream",
     "text": [
      "['RG715 Ron200', 'RG715 HoloPhP', 'FGB37 HoloPhAg', 'RG715 HoloPhAg', 'FGB37 HoloAmAg', 'RG715 Ron200', 'RG715 Thor300', 'RG715 HoloAmAg', 'FGB37 Thor300', 'RG715 HoloAmAg', 'RG715 Ron200', 'RG715 HoloPhP', 'FGB37 HoloPhAg', 'RG715 HoloAmAg', 'FGB37 Thor300', 'RG715 Thor300', 'FGB37 HoloPhP', 'RG715 HoloPhP', 'RG715 HoloAmAg', 'RG715 Ron200', 'RG715 HoloPhAg', 'FGB37 Thor300', 'RG715 HoloPhAg', 'FGB37 HoloAmAg', 'FGB37 Ron200', 'FGB37 Thor300', 'RG715 Thor300', 'RG715 HoloPhAg', 'FGB37 Ron200', 'FGB37 Thor300', 'FGB37 HoloPhP', 'FGB37 HoloAmAg', 'RG715 HoloAmAg', 'FGB37 Ron200', 'RG715 Ron200', 'FGB37 Thor300', 'RG715 HoloAmAg', 'FGB37 Thor300', 'RG715 HoloPhP', 'FGB37 Thor300', 'RG715 Thor300', 'FGB37 HoloPhP', 'FGB37 HoloAmAg', 'FGB37 HoloPhP', 'RG715 HoloPhP', 'RG715 HoloPhAg', 'FGB37 HoloAmAg', 'RG715 HoloAmAg', 'RG715 Thor300', 'FGB37 Thor300', 'FGB37 Thor300', 'FGB37 HoloPhP', 'RG715 Thor300']\n"
     ]
    }
   ],
   "source": [
    "print all_filt"
   ]
  },
  {
   "cell_type": "code",
   "execution_count": 23,
   "metadata": {
    "collapsed": true
   },
   "outputs": [],
   "source": [
    "filt0_idx,filt1_idx,filt2_idx,filt3_idx,filt4_idx,filt5_idx,filt6_idx=get_filt_idx(all_filt)"
   ]
  },
  {
   "cell_type": "code",
   "execution_count": 24,
   "metadata": {
    "collapsed": true
   },
   "outputs": [],
   "source": [
    "Thor300_index=np.array(filt1_idx)\n",
    "Ron400_index=np.array(filt0_idx)\n",
    "HoloPhP_index=np.array(filt2_idx)\n",
    "HoloPhAg_index=np.array(filt3_idx)\n",
    "HoloAmAg_index=np.array(filt4_idx)\n",
    "Ron200_index=np.array(filt5_idx)"
   ]
  },
  {
   "cell_type": "code",
   "execution_count": 25,
   "metadata": {
    "collapsed": true
   },
   "outputs": [],
   "source": [
    "all_filt1=np.array(all_filt1)\n",
    "all_filt2=np.array(all_filt2)"
   ]
  },
  {
   "cell_type": "code",
   "execution_count": 26,
   "metadata": {
    "collapsed": true
   },
   "outputs": [],
   "source": [
    "def FindIndexWithFilt(all_filt,in_index,tagfilt):\n",
    "    all_filt_indisp=all_filt[in_index]\n",
    "    sel_idx=np.where(all_filt_indisp==tagfilt)\n",
    "    out_index=in_index[sel_idx]\n",
    "    return out_index"
   ]
  },
  {
   "cell_type": "code",
   "execution_count": 27,
   "metadata": {},
   "outputs": [],
   "source": [
    "all_filt1_Thor300=all_filt1[Thor300_index]\n",
    "#all_filt1_Ron400=all_filt1[Ron400_index]\n",
    "all_filt1_HoloPhP=all_filt1[HoloPhP_index]\n",
    "all_filt1_HoloPhAg=all_filt1[HoloPhAg_index]\n",
    "all_filt1_HoloAmAg=all_filt1[HoloAmAg_index]\n",
    "all_filt1_Ron200=all_filt1[Ron200_index]"
   ]
  },
  {
   "cell_type": "code",
   "execution_count": 28,
   "metadata": {},
   "outputs": [],
   "source": [
    "Thor300_index2=FindIndexWithFilt(all_filt1,Thor300_index,'FGB37')\n",
    "#Ron400_index2=FindIndexWithFilt(all_filt1,Ron400_index,'FGB37')\n",
    "HoloPhP_index2=FindIndexWithFilt(all_filt1,HoloPhP_index,'FGB37')\n",
    "HoloPhAg_index2=FindIndexWithFilt(all_filt1,HoloPhAg_index,'FGB37')\n",
    "HoloAmAg_index2=FindIndexWithFilt(all_filt1,HoloAmAg_index,'FGB37')\n",
    "Ron200_index2=FindIndexWithFilt(all_filt1,Ron200_index,'FGB37')"
   ]
  },
  {
   "cell_type": "markdown",
   "metadata": {},
   "source": [
    "# Show spectra"
   ]
  },
  {
   "cell_type": "code",
   "execution_count": 29,
   "metadata": {
    "collapsed": true
   },
   "outputs": [],
   "source": [
    "if ShowInputSpectra:\n",
    "    ShowCalibSpectrainPDF(all_rightspectra_data,all_rightspectra_data_stat_err,all_rightspectra_wl,all_titles,object_name,dir_top_images,all_filt,date,'calib1Dspectra_right.pdf','order +1')"
   ]
  },
  {
   "cell_type": "markdown",
   "metadata": {},
   "source": [
    "# True Bouguer line on data spectrum"
   ]
  },
  {
   "cell_type": "code",
   "execution_count": 30,
   "metadata": {},
   "outputs": [
    {
     "name": "stdout",
     "output_type": "stream",
     "text": [
      "['RG715 Ron200', 'RG715 HoloPhP', 'FGB37 HoloPhAg', 'RG715 HoloPhAg', 'FGB37 HoloAmAg', 'RG715 Ron200', 'RG715 Thor300', 'RG715 HoloAmAg', 'FGB37 Thor300', 'RG715 HoloAmAg', 'RG715 Ron200', 'RG715 HoloPhP', 'FGB37 HoloPhAg', 'RG715 HoloAmAg', 'FGB37 Thor300', 'RG715 Thor300', 'FGB37 HoloPhP', 'RG715 HoloPhP', 'RG715 HoloAmAg', 'RG715 Ron200', 'RG715 HoloPhAg', 'FGB37 Thor300', 'RG715 HoloPhAg', 'FGB37 HoloAmAg', 'FGB37 Ron200', 'FGB37 Thor300', 'RG715 Thor300', 'RG715 HoloPhAg', 'FGB37 Ron200', 'FGB37 Thor300', 'FGB37 HoloPhP', 'FGB37 HoloAmAg', 'RG715 HoloAmAg', 'FGB37 Ron200', 'RG715 Ron200', 'FGB37 Thor300', 'RG715 HoloAmAg', 'FGB37 Thor300', 'RG715 HoloPhP', 'FGB37 Thor300', 'RG715 Thor300', 'FGB37 HoloPhP', 'FGB37 HoloAmAg', 'FGB37 HoloPhP', 'RG715 HoloPhP', 'RG715 HoloPhAg', 'FGB37 HoloAmAg', 'RG715 HoloAmAg', 'RG715 Thor300', 'FGB37 Thor300', 'FGB37 Thor300', 'FGB37 HoloPhP', 'RG715 Thor300']\n"
     ]
    }
   ],
   "source": [
    "print all_filt"
   ]
  },
  {
   "cell_type": "markdown",
   "metadata": {},
   "source": [
    "# Bouguer Lines"
   ]
  },
  {
   "cell_type": "markdown",
   "metadata": {},
   "source": [
    "## View Bouguer Lines"
   ]
  },
  {
   "cell_type": "markdown",
   "metadata": {},
   "source": [
    "###  Bouguer line for Data"
   ]
  },
  {
   "cell_type": "code",
   "execution_count": 31,
   "metadata": {},
   "outputs": [
    {
     "name": "stdout",
     "output_type": "stream",
     "text": [
      "Thor300\n"
     ]
    },
    {
     "name": "stderr",
     "output_type": "stream",
     "text": [
      "../../common_tools/common_notebook.py:7728: RuntimeWarning: invalid value encountered in log10\n",
      "  all_log10S1 = 2.5*np.log10(all_S1)\n",
      "../../common_tools/common_notebook.py:7729: RuntimeWarning: invalid value encountered in log10\n",
      "  all_log10S2 = 2.5*np.log10(all_S2)\n",
      "../../common_tools/common_notebook.py:7730: RuntimeWarning: invalid value encountered in log10\n",
      "  all_log10S3 = 2.5*np.log10(all_S3)\n",
      "../../common_tools/common_notebook.py:7731: RuntimeWarning: invalid value encountered in log10\n",
      "  all_log10S4 = 2.5*np.log10(all_S4)\n"
     ]
    },
    {
     "ename": "ValueError",
     "evalue": "On entry to DGELSD parameter number 6 had an illegal value",
     "output_type": "error",
     "traceback": [
      "\u001b[0;31m---------------------------------------------------------------------------\u001b[0m",
      "\u001b[0;31mValueError\u001b[0m                                Traceback (most recent call last)",
      "\u001b[0;32m<ipython-input-31-2192aaacb7e8>\u001b[0m in \u001b[0;36m<module>\u001b[0;34m()\u001b[0m\n\u001b[1;32m      5\u001b[0m     \u001b[0;32mif\u001b[0m \u001b[0mdispname\u001b[0m \u001b[0;34m!=\u001b[0m \u001b[0;34m'Ron400'\u001b[0m \u001b[0;32mand\u001b[0m \u001b[0mdispname\u001b[0m \u001b[0;34m!=\u001b[0m \u001b[0;34m'Unknown'\u001b[0m\u001b[0;34m:\u001b[0m\u001b[0;34m\u001b[0m\u001b[0m\n\u001b[1;32m      6\u001b[0m         \u001b[0;32mprint\u001b[0m \u001b[0mdispname\u001b[0m\u001b[0;34m\u001b[0m\u001b[0m\n\u001b[0;32m----> 7\u001b[0;31m         \u001b[0mfitparamtruebouguer\u001b[0m\u001b[0;34m,\u001b[0m\u001b[0mpopt_truebouguer\u001b[0m\u001b[0;34m,\u001b[0m\u001b[0mperr_truebouguer\u001b[0m \u001b[0;34m=\u001b[0m \u001b[0mShowTrueBouguerData\u001b[0m\u001b[0;34m(\u001b[0m\u001b[0mall_rightspectra_wl\u001b[0m\u001b[0;34m,\u001b[0m\u001b[0mall_rightspectra_data\u001b[0m\u001b[0;34m,\u001b[0m\u001b[0mall_airmass\u001b[0m\u001b[0;34m,\u001b[0m\u001b[0mall_filt\u001b[0m\u001b[0;34m,\u001b[0m\u001b[0mobject_name\u001b[0m\u001b[0;34m,\u001b[0m\u001b[0mdir_top_images\u001b[0m\u001b[0;34m,\u001b[0m\u001b[0msel_filt\u001b[0m\u001b[0;34m=\u001b[0m\u001b[0mdispname\u001b[0m\u001b[0;34m)\u001b[0m\u001b[0;34m\u001b[0m\u001b[0m\n\u001b[0m\u001b[1;32m      8\u001b[0m         \u001b[0mall_fitparamtruebouguer_data\u001b[0m\u001b[0;34m.\u001b[0m\u001b[0mappend\u001b[0m\u001b[0;34m(\u001b[0m\u001b[0mfitparamtruebouguer\u001b[0m\u001b[0;34m)\u001b[0m\u001b[0;34m\u001b[0m\u001b[0m\n\u001b[1;32m      9\u001b[0m         \u001b[0mall_popt_truebouguer_data\u001b[0m\u001b[0;34m.\u001b[0m\u001b[0mappend\u001b[0m\u001b[0;34m(\u001b[0m\u001b[0mpopt_truebouguer\u001b[0m\u001b[0;34m)\u001b[0m\u001b[0;34m\u001b[0m\u001b[0m\n",
      "\u001b[0;32m/Users/dagoret/MacOSX/GitHub/LSST/CTIOAnaJun2017/CTIOAnaJun2017/common_tools/common_notebook.pyc\u001b[0m in \u001b[0;36mShowTrueBouguerData\u001b[0;34m(thewl, thespec, thezam, all_filt, object_name, dir_top_img, sel_filt, ZREFERENCE, ZMAX, YMIN, YMAX)\u001b[0m\n\u001b[1;32m   7750\u001b[0m     \u001b[0;31m# band 1\u001b[0m\u001b[0;34m\u001b[0m\u001b[0;34m\u001b[0m\u001b[0m\n\u001b[1;32m   7751\u001b[0m     \u001b[0;31m############\u001b[0m\u001b[0;34m\u001b[0m\u001b[0;34m\u001b[0m\u001b[0m\n\u001b[0;32m-> 7752\u001b[0;31m     \u001b[0mz\u001b[0m \u001b[0;34m=\u001b[0m \u001b[0mnp\u001b[0m\u001b[0;34m.\u001b[0m\u001b[0mpolyfit\u001b[0m\u001b[0;34m(\u001b[0m\u001b[0mall_z\u001b[0m\u001b[0;34m,\u001b[0m\u001b[0mall_log10S1vsZ\u001b[0m\u001b[0;34m,\u001b[0m \u001b[0;36m1\u001b[0m\u001b[0;34m)\u001b[0m\u001b[0;34m\u001b[0m\u001b[0m\n\u001b[0m\u001b[1;32m   7753\u001b[0m     \u001b[0mfitparam\u001b[0m\u001b[0;34m.\u001b[0m\u001b[0mappend\u001b[0m\u001b[0;34m(\u001b[0m\u001b[0mz\u001b[0m\u001b[0;34m)\u001b[0m\u001b[0;34m\u001b[0m\u001b[0m\n\u001b[1;32m   7754\u001b[0m     \u001b[0;32mprint\u001b[0m \u001b[0;34m\"--------------------------------------------------------------------------\"\u001b[0m\u001b[0;34m\u001b[0m\u001b[0m\n",
      "\u001b[0;32m/Users/dagoret/anaconda/lib/python2.7/site-packages/numpy/lib/polynomial.pyc\u001b[0m in \u001b[0;36mpolyfit\u001b[0;34m(x, y, deg, rcond, full, w, cov)\u001b[0m\n\u001b[1;32m    583\u001b[0m     \u001b[0mscale\u001b[0m \u001b[0;34m=\u001b[0m \u001b[0mNX\u001b[0m\u001b[0;34m.\u001b[0m\u001b[0msqrt\u001b[0m\u001b[0;34m(\u001b[0m\u001b[0;34m(\u001b[0m\u001b[0mlhs\u001b[0m\u001b[0;34m*\u001b[0m\u001b[0mlhs\u001b[0m\u001b[0;34m)\u001b[0m\u001b[0;34m.\u001b[0m\u001b[0msum\u001b[0m\u001b[0;34m(\u001b[0m\u001b[0maxis\u001b[0m\u001b[0;34m=\u001b[0m\u001b[0;36m0\u001b[0m\u001b[0;34m)\u001b[0m\u001b[0;34m)\u001b[0m\u001b[0;34m\u001b[0m\u001b[0m\n\u001b[1;32m    584\u001b[0m     \u001b[0mlhs\u001b[0m \u001b[0;34m/=\u001b[0m \u001b[0mscale\u001b[0m\u001b[0;34m\u001b[0m\u001b[0m\n\u001b[0;32m--> 585\u001b[0;31m     \u001b[0mc\u001b[0m\u001b[0;34m,\u001b[0m \u001b[0mresids\u001b[0m\u001b[0;34m,\u001b[0m \u001b[0mrank\u001b[0m\u001b[0;34m,\u001b[0m \u001b[0ms\u001b[0m \u001b[0;34m=\u001b[0m \u001b[0mlstsq\u001b[0m\u001b[0;34m(\u001b[0m\u001b[0mlhs\u001b[0m\u001b[0;34m,\u001b[0m \u001b[0mrhs\u001b[0m\u001b[0;34m,\u001b[0m \u001b[0mrcond\u001b[0m\u001b[0;34m)\u001b[0m\u001b[0;34m\u001b[0m\u001b[0m\n\u001b[0m\u001b[1;32m    586\u001b[0m     \u001b[0mc\u001b[0m \u001b[0;34m=\u001b[0m \u001b[0;34m(\u001b[0m\u001b[0mc\u001b[0m\u001b[0;34m.\u001b[0m\u001b[0mT\u001b[0m\u001b[0;34m/\u001b[0m\u001b[0mscale\u001b[0m\u001b[0;34m)\u001b[0m\u001b[0;34m.\u001b[0m\u001b[0mT\u001b[0m  \u001b[0;31m# broadcast scale coefficients\u001b[0m\u001b[0;34m\u001b[0m\u001b[0m\n\u001b[1;32m    587\u001b[0m \u001b[0;34m\u001b[0m\u001b[0m\n",
      "\u001b[0;32m/Users/dagoret/anaconda/lib/python2.7/site-packages/numpy/linalg/linalg.pyc\u001b[0m in \u001b[0;36mlstsq\u001b[0;34m(a, b, rcond)\u001b[0m\n\u001b[1;32m   1963\u001b[0m         \u001b[0mwork\u001b[0m \u001b[0;34m=\u001b[0m \u001b[0mzeros\u001b[0m\u001b[0;34m(\u001b[0m\u001b[0;34m(\u001b[0m\u001b[0mlwork\u001b[0m\u001b[0;34m,\u001b[0m\u001b[0;34m)\u001b[0m\u001b[0;34m,\u001b[0m \u001b[0mt\u001b[0m\u001b[0;34m)\u001b[0m\u001b[0;34m\u001b[0m\u001b[0m\n\u001b[1;32m   1964\u001b[0m         results = lapack_routine(m, n, n_rhs, a, m, bstar, ldb, s, rcond,\n\u001b[0;32m-> 1965\u001b[0;31m                                  0, work, lwork, iwork, 0)\n\u001b[0m\u001b[1;32m   1966\u001b[0m     \u001b[0;32mif\u001b[0m \u001b[0mresults\u001b[0m\u001b[0;34m[\u001b[0m\u001b[0;34m'info'\u001b[0m\u001b[0;34m]\u001b[0m \u001b[0;34m>\u001b[0m \u001b[0;36m0\u001b[0m\u001b[0;34m:\u001b[0m\u001b[0;34m\u001b[0m\u001b[0m\n\u001b[1;32m   1967\u001b[0m         \u001b[0;32mraise\u001b[0m \u001b[0mLinAlgError\u001b[0m\u001b[0;34m(\u001b[0m\u001b[0;34m'SVD did not converge in Linear Least Squares'\u001b[0m\u001b[0;34m)\u001b[0m\u001b[0;34m\u001b[0m\u001b[0m\n",
      "\u001b[0;31mValueError\u001b[0m: On entry to DGELSD parameter number 6 had an illegal value"
     ]
    },
    {
     "data": {
      "image/png": "[encoded data removed]",
      "text/plain": [
       "<matplotlib.figure.Figure at 0x11c014150>"
      ]
     },
     "metadata": {},
     "output_type": "display_data"
    }
   ],
   "source": [
    "all_fitparamtruebouguer_data= []\n",
    "all_popt_truebouguer_data=[]\n",
    "all_perr_truebouguer_data= []\n",
    "for dispname in Disp_names:\n",
    "    if dispname != 'Ron400' and dispname != 'Unknown':\n",
    "        print dispname\n",
    "        fitparamtruebouguer,popt_truebouguer,perr_truebouguer = ShowTrueBouguerData(all_rightspectra_wl,all_rightspectra_data,all_airmass,all_filt,object_name,dir_top_images,sel_filt=dispname)\n",
    "        all_fitparamtruebouguer_data.append(fitparamtruebouguer)\n",
    "        all_popt_truebouguer_data.append(popt_truebouguer)\n",
    "        all_perr_truebouguer_data.append(perr_truebouguer)"
   ]
  },
  {
   "cell_type": "markdown",
   "metadata": {},
   "source": [
    "### Bouguer line for simulation"
   ]
  },
  {
   "cell_type": "code",
   "execution_count": null,
   "metadata": {},
   "outputs": [],
   "source": [
    "all_fitparamtruebouguer_sim= []\n",
    "for dispname in Disp_names:\n",
    "    if dispname != 'Ron200' and dispname != 'Unknown':\n",
    "        print dispname\n",
    "        fitparamtruebouguer = ShowTrueBouguerSim(all_rightspectra_sim_wl,all_rightspectra_sim,all_airmass,all_filt,object_name,dir_top_images,sel_filt=dispname)\n",
    "        all_fitparamtruebouguer_sim.append(fitparamtruebouguer)"
   ]
  },
  {
   "cell_type": "markdown",
   "metadata": {},
   "source": [
    "### Bouguer line for data and simulation"
   ]
  },
  {
   "cell_type": "code",
   "execution_count": null,
   "metadata": {},
   "outputs": [],
   "source": [
    "all_fitparamtruebouguer_data2 = []\n",
    "all_popt_truebouguer_data2 = []\n",
    "all_perr_truebouguer_data2 = []\n",
    "all_fitparamtruebouguer_sim2= []\n",
    "\n",
    "for dispname in Disp_names:\n",
    "    if dispname != 'Ron200' and dispname != 'Unknown':\n",
    "        print dispname\n",
    "        fitparamtruebouguer,popt_truebouguer,perr_truebouguer,fitparamtruebouguer_sim = ShowTrueBouguerDataSim(all_rightspectra_wl,all_rightspectra_data,all_rightspectra_sim_wl,all_rightspectra_sim,all_airmass,all_filt,object_name,dir_top_images,sel_filt=dispname)\n",
    "        all_fitparamtruebouguer_data2.append(fitparamtruebouguer)\n",
    "        all_popt_truebouguer_data2.append(popt_truebouguer)\n",
    "        all_perr_truebouguer_data2.append(perr_truebouguer)\n",
    "        all_fitparamtruebouguer_sim2.append(fitparamtruebouguer_sim)"
   ]
  },
  {
   "cell_type": "markdown",
   "metadata": {},
   "source": [
    "## Get the slope value"
   ]
  },
  {
   "cell_type": "code",
   "execution_count": null,
   "metadata": {},
   "outputs": [],
   "source": [
    "fitparamtruebouguer_sim"
   ]
  },
  {
   "cell_type": "code",
   "execution_count": null,
   "metadata": {
    "collapsed": true
   },
   "outputs": [],
   "source": [
    "truncpopt_truebouguer=np.trunc(np.array(popt_truebouguer)*10000)/10000\n",
    "truncperr_truebouguer=np.trunc(np.array(perr_truebouguer)*10000)/10000\n",
    "truncfitparam_sim=np.trunc(np.array(fitparamtruebouguer_sim)*10000)/10000"
   ]
  },
  {
   "cell_type": "code",
   "execution_count": null,
   "metadata": {},
   "outputs": [],
   "source": [
    "table = ListTable()\n",
    "table.append([\"slope-data\",\"error-data\",\"slope-sim\"])\n",
    "for idd in range(0,6):\n",
    "    table.append([truncpopt_truebouguer[idd][0],truncperr_truebouguer[idd][0],truncfitparam_sim[idd][0]])\n",
    "table"
   ]
  },
  {
   "cell_type": "markdown",
   "metadata": {},
   "source": [
    "## Fit Rayleigh Scattering"
   ]
  },
  {
   "cell_type": "code",
   "execution_count": null,
   "metadata": {},
   "outputs": [],
   "source": [
    "idx=0\n",
    "all_popt_truebouguer_data[idx]"
   ]
  },
  {
   "cell_type": "code",
   "execution_count": null,
   "metadata": {},
   "outputs": [],
   "source": [
    "all_perr_truebouguer_data[idx]"
   ]
  },
  {
   "cell_type": "code",
   "execution_count": null,
   "metadata": {},
   "outputs": [],
   "source": [
    "all_fitparamtruebouguer_sim[idx]"
   ]
  },
  {
   "cell_type": "markdown",
   "metadata": {},
   "source": [
    "### Fit Rayleigh on Data"
   ]
  },
  {
   "cell_type": "code",
   "execution_count": null,
   "metadata": {},
   "outputs": [],
   "source": [
    "idx=0\n",
    "for dispname in Disp_names:\n",
    "    if dispname != 'Ron200' and dispname != 'Unknown':\n",
    "        print dispname\n",
    "        PlotRayleigh(all_popt_truebouguer_data[idx],all_perr_truebouguer_data[idx],dispname,dir_top_images,object_name,'DATA')\n",
    "        idx+=1"
   ]
  },
  {
   "cell_type": "markdown",
   "metadata": {},
   "source": [
    "### Fit Rayleigh on simulation"
   ]
  },
  {
   "cell_type": "code",
   "execution_count": null,
   "metadata": {},
   "outputs": [],
   "source": [
    "idx=0\n",
    "for dispname in Disp_names:\n",
    "    if dispname != 'Ron200' and dispname != 'Unknown':\n",
    "        print dispname\n",
    "        PlotRayleigh(all_fitparamtruebouguer_sim[idx],None,dispname,dir_top_images,object_name,'SIM')\n",
    "        idx+=1"
   ]
  },
  {
   "cell_type": "markdown",
   "metadata": {},
   "source": [
    "# Compute Spectrum ratio"
   ]
  },
  {
   "cell_type": "code",
   "execution_count": null,
   "metadata": {
    "collapsed": true
   },
   "outputs": [],
   "source": [
    "def ComputeSpectrumRatio(all_wl,all_spec,all_passb):\n",
    "    \"\"\"\n",
    "    \"\"\"\n",
    "    all_ratio=[]\n",
    "    all_ratio_wl=[]\n",
    "    \n",
    "    NBSPEC=len(all_spec)\n",
    "    for idx in np.arange(0,NBSPEC):\n",
    "        transp_name='ref_data_{}'.format(idx)\n",
    "        sp = S.ArraySpectrum(all_wl[idx]*10., all_spec[idx], name=transp_name)\n",
    "        obs=sp*all_passb[idx]\n",
    "        all_ratio.append(obs.flux)\n",
    "        all_ratio_wl.append(obs.wave/10.)\n",
    "        \n",
    "    return np.array(all_ratio_wl),np.array(all_ratio)"
   ]
  },
  {
   "cell_type": "markdown",
   "metadata": {},
   "source": [
    "## Denominator is simulation"
   ]
  },
  {
   "cell_type": "code",
   "execution_count": null,
   "metadata": {
    "collapsed": true
   },
   "outputs": [],
   "source": [
    "all_bp_sim = []\n",
    "for idx in np.arange(NDATA):\n",
    "    transp_name='ref_sim_{}'.format(idx)\n",
    "    bp_sim=S.ArrayBandpass(all_rightspectra_sim_wl[idx]*10., 1./all_rightspectra_sim[idx], name=transp_name)\n",
    "    all_bp_sim.append(bp_sim)"
   ]
  },
  {
   "cell_type": "markdown",
   "metadata": {},
   "source": [
    "## Compute ratio"
   ]
  },
  {
   "cell_type": "code",
   "execution_count": null,
   "metadata": {},
   "outputs": [],
   "source": [
    "all_ratio_wl,all_ratio=ComputeSpectrumRatio(all_rightspectra_wl,all_rightspectra_data,all_bp_sim);"
   ]
  },
  {
   "cell_type": "markdown",
   "metadata": {},
   "source": [
    "## Show Ratio\n"
   ]
  },
  {
   "cell_type": "code",
   "execution_count": null,
   "metadata": {},
   "outputs": [],
   "source": [
    "plotDataSimRatio(all_ratio_wl,all_ratio,all_filt2,dir_top_images)"
   ]
  },
  {
   "cell_type": "code",
   "execution_count": null,
   "metadata": {},
   "outputs": [],
   "source": [
    "wl_sel_thor300,ratio_sel_tho300=plotSingleDataSimRatio(all_ratio_wl,all_ratio,all_filt2,'Thor300',dir_top_images,YMAX=0.5*1e16)"
   ]
  },
  {
   "cell_type": "code",
   "execution_count": null,
   "metadata": {},
   "outputs": [],
   "source": [
    "print len(wl_sel_thor300)\n",
    "print len(Thor300_index2)"
   ]
  },
  {
   "cell_type": "code",
   "execution_count": null,
   "metadata": {},
   "outputs": [],
   "source": [
    "wl_sel_ron400,ratio_sel_ron400=plotSingleDataSimRatio(all_ratio_wl,all_ratio,all_filt2,'Ron400',dir_top_images)"
   ]
  },
  {
   "cell_type": "code",
   "execution_count": null,
   "metadata": {},
   "outputs": [],
   "source": [
    "print len(wl_sel_ron400)\n",
    "print len(Ron400_index2)"
   ]
  },
  {
   "cell_type": "code",
   "execution_count": null,
   "metadata": {},
   "outputs": [],
   "source": [
    "wl_sel_holoPhP,ratio_sel_holoPhP=plotSingleDataSimRatio(all_ratio_wl,all_ratio,all_filt2,'HoloPhP',dir_top_images)"
   ]
  },
  {
   "cell_type": "code",
   "execution_count": null,
   "metadata": {},
   "outputs": [],
   "source": [
    "print len(wl_sel_holoPhP)\n",
    "print len(HoloPhP_index2)"
   ]
  },
  {
   "cell_type": "code",
   "execution_count": null,
   "metadata": {},
   "outputs": [],
   "source": [
    "wl_sel_holoPhAg,ratio_sel_holoPhAg=plotSingleDataSimRatio(all_ratio_wl,all_ratio,all_filt2,'HoloPhAg',dir_top_images)"
   ]
  },
  {
   "cell_type": "code",
   "execution_count": null,
   "metadata": {},
   "outputs": [],
   "source": [
    "print len(wl_sel_holoPhAg)\n",
    "print len(HoloPhAg_index2)"
   ]
  },
  {
   "cell_type": "code",
   "execution_count": null,
   "metadata": {},
   "outputs": [],
   "source": [
    "wl_sel_holoAmAg,ratio_sel_holoAmAg=plotSingleDataSimRatio(all_ratio_wl,all_ratio,all_filt2,'HoloAmAg',dir_top_images,YMAX=2e14)"
   ]
  },
  {
   "cell_type": "code",
   "execution_count": null,
   "metadata": {},
   "outputs": [],
   "source": [
    "print len(wl_sel_holoAmAg)\n",
    "print len(HoloAmAg_index2)"
   ]
  },
  {
   "cell_type": "markdown",
   "metadata": {
    "collapsed": true
   },
   "source": [
    "# Modified Bouguer Law"
   ]
  },
  {
   "cell_type": "code",
   "execution_count": null,
   "metadata": {},
   "outputs": [],
   "source": [
    "for dispname in Disp_names:\n",
    "    if dispname != 'Ron200' and dispname != 'Unknown':\n",
    "        ShowModifBouguer(all_ratio_wl,all_ratio,all_filt,all_airmass,object_name,dir_top_images,sel_disp=dispname)"
   ]
  },
  {
   "cell_type": "markdown",
   "metadata": {},
   "source": [
    "# Ratio of ratio Studies"
   ]
  },
  {
   "cell_type": "markdown",
   "metadata": {},
   "source": [
    "## Definition of U ratio\n",
    "=============================\n",
    "$$\n",
    "U(\\lambda, z-z_{min}) = \\frac{ \\frac{T_{data}(z)}{T_{sim}(z)}}{ \\frac{T_{data}(z_{min})}{T_{sim}(z_{min})}}= \n",
    "\\exp \\left( -(z-z_{min}) \\times \\left(\\tau_v^{gray}+ \\tau_v^{aer}(\\lambda_0/\\lambda)^\\alpha \\right) \\right)\n",
    "$$\n",
    "\n",
    "\n",
    "by calculating the following ratio $W(\\lambda)$\n",
    "$$\n",
    "W(\\lambda) = \\frac{- \\ln U(\\lambda,z-z_{min})}{(z-z_{min})} = \\tau_v^{gray}+ \\tau_v^{aer}(\\lambda_0/\\lambda)^\\alpha \n",
    "$$\n",
    "\n",
    "\n",
    "From the series of images, we calculate $W(\\lambda)$"
   ]
  },
  {
   "cell_type": "markdown",
   "metadata": {},
   "source": [
    "## Deals with U and W ratio in Data"
   ]
  },
  {
   "cell_type": "markdown",
   "metadata": {},
   "source": [
    "### Compute U for Thor300"
   ]
  },
  {
   "cell_type": "code",
   "execution_count": null,
   "metadata": {
    "collapsed": true
   },
   "outputs": [],
   "source": [
    "all_ratioratio_wl_thor300,all_ratioratio_thor300,am_thor300,dz_thor300= \\\n",
    "    ComputeSpectrumRatioRatio(all_ratio_wl,all_ratio,all_airmass,Thor300_index2)"
   ]
  },
  {
   "cell_type": "markdown",
   "metadata": {},
   "source": [
    "### Show U Ratio for Thor300"
   ]
  },
  {
   "cell_type": "code",
   "execution_count": null,
   "metadata": {},
   "outputs": [],
   "source": [
    "PlotRatioRatio(all_ratioratio_wl_thor300,all_ratioratio_thor300,dz_thor300,'Thor300',dir_top_images)"
   ]
  },
  {
   "cell_type": "markdown",
   "metadata": {},
   "source": [
    "### Show W  Ratio for Thor300"
   ]
  },
  {
   "cell_type": "code",
   "execution_count": null,
   "metadata": {},
   "outputs": [],
   "source": [
    "PlotWRatio(all_ratioratio_wl_thor300,all_ratioratio_thor300,dz_thor300,'Thor300',dir_top_images,YMIN=-1.,YMAX=2.)"
   ]
  },
  {
   "cell_type": "markdown",
   "metadata": {},
   "source": [
    "### U and W ratio for Ron400"
   ]
  },
  {
   "cell_type": "markdown",
   "metadata": {},
   "source": [
    "#### Compute U ratio"
   ]
  },
  {
   "cell_type": "code",
   "execution_count": null,
   "metadata": {},
   "outputs": [],
   "source": [
    "all_ratioratio_wl_ron400,all_ratioratio_ron400,am_ron400,dz_ron400= \\\n",
    "    ComputeSpectrumRatioRatio(all_ratio_wl,all_ratio,all_airmass,Ron400_index2)"
   ]
  },
  {
   "cell_type": "markdown",
   "metadata": {},
   "source": [
    "#### plot U ratio"
   ]
  },
  {
   "cell_type": "code",
   "execution_count": null,
   "metadata": {},
   "outputs": [],
   "source": [
    "PlotRatioRatio(all_ratioratio_wl_ron400,all_ratioratio_ron400,dz_ron400,'Ron400',dir_top_images)"
   ]
  },
  {
   "cell_type": "markdown",
   "metadata": {},
   "source": [
    "####  plot W ratio"
   ]
  },
  {
   "cell_type": "code",
   "execution_count": null,
   "metadata": {},
   "outputs": [],
   "source": [
    "PlotWRatio(all_ratioratio_wl_ron400,all_ratioratio_ron400,dz_ron400,'Ron400',dir_top_images,YMIN=-1.,YMAX=2.)"
   ]
  },
  {
   "cell_type": "markdown",
   "metadata": {},
   "source": [
    "### U and W ratio for HoloPhP"
   ]
  },
  {
   "cell_type": "code",
   "execution_count": null,
   "metadata": {
    "collapsed": true
   },
   "outputs": [],
   "source": [
    "all_ratioratio_wl_holoPhP,all_ratioratio_holoPhP,am_holoPhP,dz_holoPhP= \\\n",
    "    ComputeSpectrumRatioRatio(all_ratio_wl,all_ratio,all_airmass,HoloPhP_index2)"
   ]
  },
  {
   "cell_type": "code",
   "execution_count": null,
   "metadata": {},
   "outputs": [],
   "source": [
    "PlotRatioRatio(all_ratioratio_wl_holoPhP,all_ratioratio_holoPhP,dz_holoPhP,'HoloPhP',dir_top_images)"
   ]
  },
  {
   "cell_type": "code",
   "execution_count": null,
   "metadata": {},
   "outputs": [],
   "source": [
    "PlotWRatio(all_ratioratio_wl_holoPhP,all_ratioratio_holoPhP,dz_holoPhP,'HoloPhP',dir_top_images,YMIN=-10.,YMAX=10.)"
   ]
  },
  {
   "cell_type": "markdown",
   "metadata": {},
   "source": [
    "### U and W ratio for HoloPhAg"
   ]
  },
  {
   "cell_type": "code",
   "execution_count": null,
   "metadata": {
    "collapsed": true
   },
   "outputs": [],
   "source": [
    "all_ratioratio_wl_holoPhAg,all_ratioratio_holoPhAg,am_holoPhAg,dz_holoPhAg= \\\n",
    "    ComputeSpectrumRatioRatio(all_ratio_wl,all_ratio,all_airmass,HoloPhAg_index2)"
   ]
  },
  {
   "cell_type": "code",
   "execution_count": null,
   "metadata": {},
   "outputs": [],
   "source": [
    "PlotRatioRatio(all_ratioratio_wl_holoPhAg,all_ratioratio_holoPhAg,dz_holoPhAg,'HoloPhAg',dir_top_images)"
   ]
  },
  {
   "cell_type": "code",
   "execution_count": null,
   "metadata": {},
   "outputs": [],
   "source": [
    "PlotWRatio(all_ratioratio_wl_holoPhAg,all_ratioratio_holoPhAg,dz_holoPhAg,'HoloPhAg',dir_top_images,YMIN=-1.,YMAX=2.)"
   ]
  },
  {
   "cell_type": "markdown",
   "metadata": {},
   "source": [
    "### U and W ratio for HoloAmAg"
   ]
  },
  {
   "cell_type": "code",
   "execution_count": null,
   "metadata": {
    "collapsed": true
   },
   "outputs": [],
   "source": [
    "all_ratioratio_wl_holoAmAg,all_ratioratio_holoAmAg,am_holoAmAg,dz_holoAmAg= \\\n",
    "    ComputeSpectrumRatioRatio(all_ratio_wl,all_ratio,all_airmass,HoloAmAg_index2)"
   ]
  },
  {
   "cell_type": "code",
   "execution_count": null,
   "metadata": {},
   "outputs": [],
   "source": [
    "PlotRatioRatio(all_ratioratio_wl_holoAmAg,all_ratioratio_holoAmAg,dz_holoAmAg,'HoloAmAg',dir_top_images)"
   ]
  },
  {
   "cell_type": "code",
   "execution_count": null,
   "metadata": {},
   "outputs": [],
   "source": [
    "PlotWRatio(all_ratioratio_wl_holoAmAg,all_ratioratio_holoAmAg,dz_holoAmAg,'HoloAmAg',dir_top_images,YMIN=-1.,YMAX=2.)"
   ]
  },
  {
   "cell_type": "markdown",
   "metadata": {},
   "source": [
    "# END HERE FOR THE MOMENT"
   ]
  },
  {
   "cell_type": "markdown",
   "metadata": {},
   "source": [
    "## Fit Ratio"
   ]
  },
  {
   "cell_type": "code",
   "execution_count": null,
   "metadata": {
    "collapsed": true
   },
   "outputs": [],
   "source": [
    "def FitRatio(all_ratiowl,all_ratioratio,all_dzam,figtitle='Normalised Data/Sim spectra for object {}'):\n",
    "    NBRATIO=len(all_ratioratio)\n",
    "    \n",
    "    XMIN=400.\n",
    "    XMAX=740.\n",
    "    YMAX=1.1\n",
    "    YMIN=0.7\n",
    "    \n",
    "    xfit=np.linspace(XMIN,XMAX,50)\n",
    "    \n",
    "    fitparam= []\n",
    "    \n",
    "    fig, ax = plt.subplots(1, 1, figsize=(15,8))\n",
    "    \n",
    "    for index in np.arange(NBRATIO):\n",
    "        dz=all_dzam[index]\n",
    "        \n",
    "        if dz>0 : \n",
    "            x=all_ratiowl[index]\n",
    "            y=all_ratioratio[index]\n",
    "            z = np.polyfit(x, y, 1)\n",
    "            fitparam.append(z)\n",
    "        \n",
    "            p = np.poly1d(z)\n",
    "            yfit=p(xfit)\n",
    "        \n",
    "           \n",
    "            ax.plot(xfit,yfit,'-',lw=2)\n",
    "            \n",
    "    ax.get_xaxis().set_minor_locator(mpl.ticker.AutoMinorLocator())\n",
    "    ax.get_yaxis().set_minor_locator(mpl.ticker.AutoMinorLocator())\n",
    "    ax.grid(b=True, which='major', color='grey', linewidth=1.0)\n",
    "    #ax.grid(b=True, which='minor', color='k', linewidth=0.5)        \n",
    "            \n",
    "    ax.set_ylim(YMIN,YMAX)        \n",
    "            \n",
    "    title=figtitle.format(object_name)\n",
    "    ax.set_title(title)\n",
    "    ax.set_ylabel(\"ratio\")\n",
    "    ax.set_xlabel(\"$\\lambda$ (nm)\")\n",
    "    \n",
    "    figfilename=os.path.join(dir_top_images,'FitLinearDataSimNormDataSimRRatio.pdf')\n",
    "    plt.savefig(figfilename)\n",
    "    \n",
    "    return np.array(fitparam)"
   ]
  },
  {
   "cell_type": "code",
   "execution_count": null,
   "metadata": {},
   "outputs": [],
   "source": [
    "fitparam_cut=FitRatio(all_ratioratio_wl_thor300,all_ratioratio_thor300,dz_thor300)"
   ]
  },
  {
   "cell_type": "markdown",
   "metadata": {},
   "source": [
    "### defines the range where to compute the ratio ratio"
   ]
  },
  {
   "cell_type": "code",
   "execution_count": null,
   "metadata": {
    "collapsed": true
   },
   "outputs": [],
   "source": [
    "idxnorm1=1\n",
    "idxstart1=2\n",
    "idxstop1=53\n",
    "\n",
    "idxnorm2=54\n",
    "idxstart2=55\n",
    "idxstop2=103"
   ]
  },
  {
   "cell_type": "code",
   "execution_count": null,
   "metadata": {
    "collapsed": true
   },
   "outputs": [],
   "source": [
    "def ExtractURatioSpectraNorm(idxnorm,idxstart,idxstop,thewl,thespectrum,thesimspec,wlcutmin,all_titles,object_name):\n",
    "    \"\"\"\n",
    "    ExtractURatioSpectraNorm: Show the calibration curve Normalisation\n",
    "    ===============================================================\n",
    "    \n",
    "    input parameter :\n",
    "    - idxnorm : the index of minimum airmass\n",
    "    - idxstart : index to start the airmass loop\n",
    "    - idxstop : index for stopping the airmass loop\n",
    "    - thewl : the list of all wavelengths\n",
    "    - thespectrum : the list of data spectra\n",
    "    - thesimspec : the list of simulated spectra\n",
    "    \n",
    "    output :\n",
    "    - ratio wavelength collection\n",
    "    - R ratio collection\n",
    "    \n",
    "    \"\"\"\n",
    "\n",
    "    \n",
    "    XMIN=410.\n",
    "    XMAX=780.\n",
    "  \n",
    "    \n",
    "    YMINR=0.7\n",
    "    YMAXR=1.1\n",
    "\n",
    "    \n",
    "    NBSPECTRA=len(thespectrum)\n",
    "    \n",
    "    fig, ax = plt.subplots(1, 1, figsize=(15,6))\n",
    "    \n",
    "    # check the spectrum used for normalisation \n",
    "    #---------------------------------------------\n",
    "    ratio_sel0=thespectrum[idxnorm]/thesimspec[idxnorm]\n",
    "    \n",
    "    \n",
    "   \n",
    "    interpol_ratio=interp1d(thewl[idxnorm],ratio_sel0)\n",
    "    \n",
    "    \n",
    "    wlcutmin=XMIN\n",
    "    wlcutmax=XMAX\n",
    "    \n",
    "        \n",
    "    selectedindexes0=np.where(np.logical_and(thewl[idxnorm]>wlcutmin, thewl[idxnorm]<wlcutmax))\n",
    "   \n",
    "    sel_wl0=thewl[idxnorm][selectedindexes0]\n",
    "    \n",
    "    ax.plot(sel_wl0, interpol_ratio(sel_wl0),'r-')\n",
    "    \n",
    "    ax.grid(True)\n",
    "    ax.set_xlim(XMIN,XMAX)\n",
    "    title='Data/Sim spectra ratio at minimum airmass for object {}'.format(object_name)\n",
    "    \n",
    "    ax.set_title(title)\n",
    "    ax.set_ylabel(\"ratio Data/Sim\")\n",
    "    ax.set_xlabel(\"$\\lambda$ (nm)\")\n",
    "    \n",
    "    zam_min=all_airmass[idxnorm]\n",
    "    print 'minimum airmass zmin = ',zam_min\n",
    "    \n",
    "    \n",
    "    # 2nd plot\n",
    "    #---------\n",
    "    fig, ax = plt.subplots(1, 1, figsize=(15,8))\n",
    "\n",
    "    all_ymin= []\n",
    "    all_ymax=[]\n",
    "    all_ratioratio=[]\n",
    "    all_ratiowl=[]\n",
    "    all_dzam = []\n",
    "     \n",
    "    \n",
    "    #for index in np.arange(0,NBSPECTRA):\n",
    "    for fullindex in np.arange(idxstart,idxstop+1):    \n",
    "        \n",
    "        index=fullindex-idxstart\n",
    "        \n",
    "        #print 'spectrum ',index\n",
    "        ix=index%5\n",
    "        iy=index/5\n",
    "        \n",
    "        # the current airmass\n",
    "        zam=all_airmass[fullindex]\n",
    "        \n",
    "        dzam=zam-zam_min  ## relative airmass\n",
    "        all_dzam.append(dzam)\n",
    "        \n",
    "        # select the ratio in the appropriate WL range\n",
    "        selectedindexes=np.where(np.logical_and(thewl[fullindex]>wlcutmin, thewl[fullindex]<wlcutmax))     \n",
    "        \n",
    "        sel_data=thespectrum[fullindex][selectedindexes]\n",
    "        sel_sim=thesimspec[fullindex][selectedindexes]\n",
    "        sel_wl=thewl[fullindex][selectedindexes]\n",
    "                \n",
    "        \n",
    "        ratio=sel_data/sel_sim\n",
    "        ratio0=interpol_ratio(sel_wl)\n",
    "        \n",
    "        ratioratio=ratio/ratio0\n",
    "        \n",
    "        all_ymin.append(ratioratio.min())\n",
    "        all_ymax.append(ratioratio.max())\n",
    "        all_ratioratio.append(ratioratio)\n",
    "        all_ratiowl.append(sel_wl)\n",
    "           \n",
    "        if all_expo[fullindex]>0:    ## Should always be the case now\n",
    "            ax.plot(sel_wl,ratioratio,'-',lw=2)\n",
    "       \n",
    "            ymin=np.array(all_ymin).min() \n",
    "            ymax=np.array(all_ymax).max()*1.1   \n",
    "        \n",
    "    ax.set_xlim(XMIN,XMAX)\n",
    "    ax.set_ylim(YMINR,YMAXR)\n",
    "    \n",
    "    ax.get_xaxis().set_minor_locator(mpl.ticker.AutoMinorLocator())\n",
    "    ax.get_yaxis().set_minor_locator(mpl.ticker.AutoMinorLocator())\n",
    "    ax.grid(b=True, which='major', color='k', linewidth=2.0)\n",
    "    ax.grid(b=True, which='minor', color='k', linewidth=0.5)\n",
    "    \n",
    "    ax.plot([wl_O2Aline,wl_O2Aline],[ymin,ymax],'b-',label='$O_2(A)$',lw=1)\n",
    "    ax.plot([wl_O2Bline,wl_O2Bline],[ymin,ymax],'b-',label='$O_2(B)$',lw=1)\n",
    "    ax.plot([wl_Haline,wl_Haline],[ymin,ymax],'r-',label='$H_{alpha}$',lw=1)\n",
    "    ax.plot([wl_Hbline,wl_Hbline],[ymin,ymax],'g-',label='$H_{beta}$',lw=1)\n",
    "    ax.plot([wl_Hgline,wl_Hgline],[ymin,ymax],'c-',label='$H_{gamma}$',lw=1)\n",
    "    ax.plot([wl_Hdline,wl_Hdline],[ymin,ymax],'k-',label='$H_{delta}$',lw=1)\n",
    "    #ax.legend(loc='best',fontsize=20)\n",
    "    title='Normalised Data/Sim spectra U ratio for object {}'.format(object_name)\n",
    "    \n",
    "    ax.set_title(title)\n",
    "    ax.set_ylabel(\"ratio\")\n",
    "    ax.set_xlabel(\"$\\lambda$ (nm)\")\n",
    "    \n",
    "    figfilename=os.path.join(dir_top_images,'DataSimNormDataSimURatio.pdf')\n",
    "    \n",
    "    plt.savefig(figfilename)\n",
    "    return np.array(all_ratiowl),np.array(all_ratioratio), np.array(all_dzam)\n",
    "    return all_ratiowl,all_ratioratio, all_dzam\n",
    "\n"
   ]
  },
  {
   "cell_type": "code",
   "execution_count": null,
   "metadata": {},
   "outputs": [],
   "source": [
    "all_ratiowl_cut1,all_ratioratio_cut1,all_dzam_cut1=ExtractURatioSpectraNorm(idxnorm1,idxstart1,idxstop1,all_selected_wl,all_selected_dataspectrum,all_selected_simspectrum,wlcut,all_titles,object_name)"
   ]
  },
  {
   "cell_type": "code",
   "execution_count": null,
   "metadata": {
    "collapsed": true
   },
   "outputs": [],
   "source": [
    "all_ratiowl_cut2,all_ratioratio_cut2,all_dzam_cut2=ExtractURatioSpectraNorm(idxnorm2,idxstart2,idxstop2,all_selected_wl,all_selected_dataspectrum,all_selected_simspectrum,wlcut,all_titles,object_name)"
   ]
  },
  {
   "cell_type": "code",
   "execution_count": null,
   "metadata": {
    "collapsed": true
   },
   "outputs": [],
   "source": [
    "def PlotExtinction1(all_ratiowl,all_ratioratio,all_dzam,figtitle='U ratio for object {}'):\n",
    "    \"\"\"\n",
    "    Extinction versus lambda\n",
    "    \n",
    "    \"\"\"\n",
    "    NBRATIO=len(all_ratioratio)\n",
    "    \n",
    "    XMIN=400.\n",
    "    XMAX=740.\n",
    "    YMAX=3\n",
    "    YMIN=-3\n",
    "\n",
    "    \n",
    "    fig, ax = plt.subplots(1, 1, figsize=(15,8))\n",
    "    \n",
    "    for index in np.arange(NBRATIO):\n",
    "        dzam=all_dzam[index]\n",
    "        if dzam != 0 and all_expo[index] !=0  :      \n",
    "            x=all_ratiowl[index]\n",
    "            y=-np.log(all_ratioratio[index])/dzam\n",
    "            ax.plot(x,y,'o',lw=2)\n",
    "        \n",
    "        \n",
    "            \n",
    "    ax.get_xaxis().set_minor_locator(mpl.ticker.AutoMinorLocator())\n",
    "    ax.get_yaxis().set_minor_locator(mpl.ticker.AutoMinorLocator())\n",
    "    ax.grid(b=True, which='major', color='k', linewidth=2.0)\n",
    "    ax.grid(b=True, which='minor', color='k', linewidth=0.5)        \n",
    "            \n",
    "    ax.set_ylim(YMIN,YMAX)        \n",
    "            \n",
    "    title=figtitle.format(object_name)\n",
    "    ax.set_title(title)\n",
    "    ax.set_ylabel(\" U ratio\")\n",
    "    ax.set_xlabel(\"$\\lambda$ (nm)\")\n",
    "    \n",
    "    figfilename=os.path.join(dir_top_images,'Extinction1_Uratio.pdf')\n",
    "    plt.savefig(figfilename)\n",
    "   "
   ]
  },
  {
   "cell_type": "code",
   "execution_count": null,
   "metadata": {
    "collapsed": true
   },
   "outputs": [],
   "source": [
    "PlotExtinction1(all_ratiowl_cut1,all_ratioratio_cut1,all_dzam_cut1)"
   ]
  },
  {
   "cell_type": "code",
   "execution_count": null,
   "metadata": {
    "collapsed": true
   },
   "outputs": [],
   "source": [
    "PlotExtinction1(all_ratiowl_cut2,all_ratioratio_cut2,all_dzam_cut2)"
   ]
  },
  {
   "cell_type": "code",
   "execution_count": null,
   "metadata": {
    "collapsed": true
   },
   "outputs": [],
   "source": [
    "def PlotExtinction2(all_ratiowl,all_ratioratio,all_dzam,figtitle='U ratio for object {}'):\n",
    "    \"\"\"\n",
    "    Extinction versus 1/lambda\n",
    "    \n",
    "    \"\"\"\n",
    "    NBRATIO=len(all_ratioratio)\n",
    "    \n",
    "    XMIN=400.\n",
    "    XMAX=740.\n",
    "    YMAX=3\n",
    "    YMIN=-3\n",
    "\n",
    "    \n",
    "    fig, ax = plt.subplots(1, 1, figsize=(15,8))\n",
    "    \n",
    "    for index in np.arange(NBRATIO):\n",
    "        dzam=all_dzam[index]\n",
    "        if dzam != 0 and all_expo[index] !=0  :      \n",
    "            x=500./all_ratiowl[index]\n",
    "            y=-np.log(all_ratioratio[index])/dzam\n",
    "            ax.plot(x,y,'o',lw=2)\n",
    "        \n",
    "        \n",
    "            \n",
    "    ax.get_xaxis().set_minor_locator(mpl.ticker.AutoMinorLocator())\n",
    "    ax.get_yaxis().set_minor_locator(mpl.ticker.AutoMinorLocator())\n",
    "    ax.grid(b=True, which='major', color='k', linewidth=2.0)\n",
    "    ax.grid(b=True, which='minor', color='k', linewidth=0.5)        \n",
    "            \n",
    "    ax.set_ylim(YMIN,YMAX)        \n",
    "            \n",
    "    title=figtitle.format(object_name)\n",
    "    ax.set_title(title)\n",
    "    ax.set_ylabel(\" U ratio\")\n",
    "    ax.set_xlabel(\"$500nm/\\lambda$ (nm)\")\n",
    "   \n",
    "    figfilename=os.path.join(dir_top_images,'Extinction2_Uratio.pdf')\n",
    "    plt.savefig(figfilename)\n",
    "    "
   ]
  },
  {
   "cell_type": "code",
   "execution_count": null,
   "metadata": {
    "collapsed": true
   },
   "outputs": [],
   "source": [
    "PlotExtinction2(all_ratiowl_cut1,all_ratioratio_cut1,all_dzam_cut1)"
   ]
  },
  {
   "cell_type": "code",
   "execution_count": null,
   "metadata": {
    "collapsed": true
   },
   "outputs": [],
   "source": [
    "PlotExtinction2(all_ratiowl_cut2,all_ratioratio_cut2,all_dzam_cut2)"
   ]
  },
  {
   "cell_type": "markdown",
   "metadata": {},
   "source": [
    "### Linear fit of extinction"
   ]
  },
  {
   "cell_type": "code",
   "execution_count": null,
   "metadata": {
    "collapsed": true
   },
   "outputs": [],
   "source": [
    "def LinearFitExtinction(all_ratiowl,all_ratioratio,all_dzam,figtitle=' Fit U ratio for object {}'):\n",
    "   \n",
    "    NBRATIOS=len(all_ratioratio)\n",
    "    \n",
    "    print \"NBRATIOS =\",NBRATIOS\n",
    "    \n",
    "    XMIN=0.65\n",
    "    XMAX=1.3\n",
    "    YMAX=1\n",
    "    YMIN=-1\n",
    "\n",
    "    xfit=np.linspace(XMIN,XMAX,50)\n",
    "    \n",
    "    fitparam= []\n",
    "    all_dzrel= []\n",
    "    \n",
    "    fig, ax = plt.subplots(1, 1, figsize=(15,8))\n",
    "    \n",
    "    for index in np.arange(NBRATIOS):\n",
    "        dzam=all_dzam[index]\n",
    "        if dzam != 0 and all_expo[index]>0  : \n",
    "            all_dzrel.append(dzam)\n",
    "            x=500./all_ratiowl[index]\n",
    "            y=-np.log(all_ratioratio[index])/dzam\n",
    "                        \n",
    "            z = np.polyfit(x, y, 1)\n",
    "            fitparam.append(z)\n",
    "        \n",
    "            p = np.poly1d(z)\n",
    "            yfit=p(xfit)\n",
    "         \n",
    "            ax.plot(xfit,yfit,'-',lw=1)        \n",
    "        \n",
    "            \n",
    "    ax.get_xaxis().set_minor_locator(mpl.ticker.AutoMinorLocator())\n",
    "    ax.get_yaxis().set_minor_locator(mpl.ticker.AutoMinorLocator())\n",
    "    ax.grid(b=True, which='major', color='k', linewidth=2.0)\n",
    "    ax.grid(b=True, which='minor', color='k', linewidth=0.5)        \n",
    "            \n",
    "    ax.set_ylim(YMIN,YMAX)        \n",
    "            \n",
    "    title=figtitle.format(object_name)\n",
    "    ax.set_title(title)\n",
    "    ax.set_ylabel(\" U ratio\")\n",
    "    ax.set_xlabel(\"$500nm/\\lambda$ (nm)\")\n",
    "   \n",
    "    figfilename=os.path.join(dir_top_images,'FitLinearExtinction2_Uratio.pdf')\n",
    "    plt.savefig(figfilename)\n",
    "    \n",
    "        \n",
    "    return np.array(fitparam), all_dzrel\n",
    "        "
   ]
  },
  {
   "cell_type": "code",
   "execution_count": null,
   "metadata": {
    "collapsed": true
   },
   "outputs": [],
   "source": [
    "fitparam_cut1,all_dzrel_cut1=LinearFitExtinction(all_ratiowl_cut1,all_ratioratio_cut1,all_dzam_cut1)"
   ]
  },
  {
   "cell_type": "code",
   "execution_count": null,
   "metadata": {
    "collapsed": true
   },
   "outputs": [],
   "source": [
    "fitparam_cut2,all_dzrel_cut2=LinearFitExtinction(all_ratiowl_cut2,all_ratioratio_cut2,all_dzam_cut2)"
   ]
  },
  {
   "cell_type": "markdown",
   "metadata": {},
   "source": [
    "### Non linear fit of extinction"
   ]
  },
  {
   "cell_type": "code",
   "execution_count": null,
   "metadata": {
    "collapsed": true
   },
   "outputs": [],
   "source": [
    "from scipy.optimize import curve_fit"
   ]
  },
  {
   "cell_type": "code",
   "execution_count": null,
   "metadata": {
    "collapsed": true
   },
   "outputs": [],
   "source": [
    "def extinct(x, a, b,c):\n",
    "    return a + b * x**c"
   ]
  },
  {
   "cell_type": "code",
   "execution_count": null,
   "metadata": {
    "collapsed": true
   },
   "outputs": [],
   "source": [
    "def FitExtinct(thex,they):\n",
    "    x=np.copy(thex)\n",
    "    y=np.copy(they)\n",
    "    z = np.polyfit(x,y, 1)\n",
    "    z=np.append(z,1.)\n",
    "    popt, pcov = curve_fit(extinct,x,y,p0=z)\n",
    "    perr = np.sqrt(np.diag(pcov))\n",
    "    return popt,perr"
   ]
  },
  {
   "cell_type": "code",
   "execution_count": null,
   "metadata": {
    "collapsed": true
   },
   "outputs": [],
   "source": [
    "def NonLinearFitExtinction1(all_ratiowl,all_ratioratio,all_dzam,figtitle=' Fit W ratio for object {}'):\n",
    "    NBRATIO=len(all_ratioratio)\n",
    "    \n",
    "    XMIN=0.65\n",
    "    XMAX=1.3\n",
    "    YMAX=0.5\n",
    "    YMIN=-0.2\n",
    "\n",
    "    xfit=np.linspace(XMIN,XMAX,50)\n",
    "    \n",
    "    fitoptparam= []\n",
    "    fitperr= []\n",
    "    fitchi2=[]\n",
    "    all_dzrel= []\n",
    "    \n",
    "    fig, ax = plt.subplots(1, 1, figsize=(15,8))\n",
    "    \n",
    "    for index in np.arange(NBRATIO):\n",
    "        dzam=all_dzam[index]\n",
    "        if dzam != 0 and all_expo[index]>0  : \n",
    "            all_dzrel.append(dzam)\n",
    "            x=500./all_ratiowl[index]\n",
    "            y=-np.log(all_ratioratio[index])/dzam   ### Here divide by dzam to remove airmass dependence\n",
    "            \n",
    "            popt, perr = FitExtinct(x, y)\n",
    "            chi2_vector=(y-extinct(x,popt[0],popt[1],popt[2]))**2\n",
    "            chi2=np.average(chi2_vector)\n",
    "            \n",
    "            #print '------------------------------------'\n",
    "            #print \"a =\", popt[0], \"+/-\", pcov[0,0]**0.5\n",
    "            #print \"b =\", popt[1], \"+/-\", pcov[1,1]**0.5\n",
    "            #print \"c =\", popt[2], \"+/-\", pcov[2,2]**0.5\n",
    "            #print \"chi2 =\", chi2\n",
    "                       \n",
    "        \n",
    "            fitoptparam.append(popt)  \n",
    "            fitperr.append(perr)\n",
    "            fitchi2.append(chi2)\n",
    "            \n",
    "            yfit=extinct(xfit,popt[0],popt[1],popt[2])\n",
    "         \n",
    "            if chi2 <0.003:              \n",
    "                ax.plot(x,y,'o')\n",
    "                ax.plot(xfit,yfit,'-',lw=2) \n",
    "            \n",
    "    ax.get_xaxis().set_minor_locator(mpl.ticker.AutoMinorLocator())\n",
    "    ax.get_yaxis().set_minor_locator(mpl.ticker.AutoMinorLocator())\n",
    "    ax.grid(b=True, which='major', color='k', linewidth=2.0)\n",
    "    ax.grid(b=True, which='minor', color='k', linewidth=0.5)        \n",
    "            \n",
    "    ax.set_ylim(YMIN,YMAX)        \n",
    "            \n",
    "    title=figtitle.format(object_name)\n",
    "    ax.set_title(title)\n",
    "    ax.set_ylabel(\" W ratio\")\n",
    "    ax.set_xlabel(\"$500/\\lambda$ (nm)\")\n",
    "    \n",
    "    figfilename=os.path.join(dir_top_images,'FitNonLinearExtinction1_Uratio.pdf')\n",
    "    plt.savefig(figfilename)\n",
    "   \n",
    "        \n",
    "    return np.array(fitoptparam), all_dzrel, fitperr,fitchi2\n",
    "        "
   ]
  },
  {
   "cell_type": "code",
   "execution_count": null,
   "metadata": {
    "collapsed": true
   },
   "outputs": [],
   "source": [
    "fitoptparam_cut1,all_dzrel_cut1,fitperr_cut1,fitchi2_cut1=NonLinearFitExtinction1(all_ratiowl_cut1,all_ratioratio_cut1,all_dzam_cut1)"
   ]
  },
  {
   "cell_type": "code",
   "execution_count": null,
   "metadata": {
    "collapsed": true
   },
   "outputs": [],
   "source": [
    "fitoptparam_cut2,all_dzrel_cut2,fitperr_cut2,fitchi2_cut2=NonLinearFitExtinction1(all_ratiowl_cut2,all_ratioratio_cut2,all_dzam_cut2)"
   ]
  },
  {
   "cell_type": "markdown",
   "metadata": {},
   "source": [
    "## Component 1 : z < zcut\n",
    "----------------------------------"
   ]
  },
  {
   "cell_type": "code",
   "execution_count": null,
   "metadata": {
    "collapsed": true
   },
   "outputs": [],
   "source": [
    "plt.figure(figsize=(6,4.))\n",
    "n, bins, patches = plt.hist(fitchi2_cut1, 50, normed=1, range=[0,0.01],facecolor='blue', alpha=0.75)\n",
    "plt.yscale('log', nonposy='clip')\n",
    "plt.grid(True)\n",
    "plt.xlabel(\"$\\chi^2$\")\n",
    "figtitle='Chi2 (object {})'.format(object_name)\n",
    "plt.title(figtitle)"
   ]
  },
  {
   "cell_type": "code",
   "execution_count": null,
   "metadata": {
    "collapsed": true
   },
   "outputs": [],
   "source": [
    "def GetMeanAndSigma(arr):\n",
    "    themean=np.mean(arr)\n",
    "    thevariance=np.var(arr)\n",
    "    thesigma=np.sqrt(thevariance)\n",
    "    newmean=np.trunc(themean*1000)/1000\n",
    "    newsigma=np.trunc(thesigma*1000)/1000\n",
    "    #newmean=np.round(themean,3)\n",
    "    #newsigma=np.round(thesigma,3)\n",
    "    #newmean=np.rint(themean*1000)/1000\n",
    "    #newsigma=np.rint(thesigma*1000)/1000\n",
    "    thevariation=newsigma/newmean\n",
    "    thevaria=np.trunc(thevariation*100)\n",
    "    return newmean,newsigma,thevaria"
   ]
  },
  {
   "cell_type": "markdown",
   "metadata": {},
   "source": [
    "### grey attenuation"
   ]
  },
  {
   "cell_type": "code",
   "execution_count": null,
   "metadata": {
    "collapsed": true
   },
   "outputs": [],
   "source": [
    "GetMeanAndSigma(fitoptparam_cut1[:,0])"
   ]
  },
  {
   "cell_type": "code",
   "execution_count": null,
   "metadata": {
    "collapsed": true
   },
   "outputs": [],
   "source": [
    "print \"median = \",np.median(fitoptparam_cut1[:,0])\n",
    "print \"average = \",np.average(fitoptparam_cut1[:,0])\n",
    "print \"std = \",np.std(fitoptparam_cut1[:,0])"
   ]
  },
  {
   "cell_type": "code",
   "execution_count": null,
   "metadata": {
    "collapsed": true
   },
   "outputs": [],
   "source": [
    "plt.figure(figsize=(8,4.))\n",
    "greyattenuation=fitoptparam_cut1[:,0]\n",
    "plt.plot(all_dzrel_cut1,fitoptparam_cut1[:,0],'o')\n",
    "plt.ylim(-0.5,0.5)\n",
    "plt.grid()\n",
    "plt.xlabel(\"$z-z_{min}$\")\n",
    "plt.ylabel(\"Optical depth\")\n",
    "\n",
    "figtitle='Grey attenuation (object {})'.format(object_name)\n",
    "plt.title(figtitle)\n",
    "\n",
    "figfilename=os.path.join(dir_top_images,'GreyAttvsDz1.pdf')\n",
    "plt.savefig(figfilename)"
   ]
  },
  {
   "cell_type": "code",
   "execution_count": null,
   "metadata": {
    "collapsed": true
   },
   "outputs": [],
   "source": [
    "plt.figure(figsize=(6,4.))\n",
    "n, bins, patches = plt.hist(fitoptparam_cut1[:,0], 50, normed=1, range=[-0.5,0.5],facecolor='blue', alpha=0.75)\n",
    "plt.grid()\n",
    "plt.xlabel(\"Vertical grey optical depth\")\n",
    "figtitle='Grey attenuation (object {})'.format(object_name)\n",
    "plt.title(figtitle)\n",
    "figfilename=os.path.join(dir_top_images,'GreyAttHisto1.pdf')\n",
    "plt.savefig(figfilename)"
   ]
  },
  {
   "cell_type": "markdown",
   "metadata": {},
   "source": [
    "### Aerosols  "
   ]
  },
  {
   "cell_type": "code",
   "execution_count": null,
   "metadata": {
    "collapsed": true
   },
   "outputs": [],
   "source": [
    "GetMeanAndSigma(fitoptparam_cut1[:,1])"
   ]
  },
  {
   "cell_type": "code",
   "execution_count": null,
   "metadata": {
    "collapsed": true
   },
   "outputs": [],
   "source": [
    "print \"median = \",np.median(fitoptparam_cut1[:,1])\n",
    "print \"average = \",np.average(fitoptparam_cut1[:,1])\n",
    "print \"std = \",np.std(fitoptparam_cut1[:,1])"
   ]
  },
  {
   "cell_type": "code",
   "execution_count": null,
   "metadata": {
    "collapsed": true
   },
   "outputs": [],
   "source": [
    "plt.figure(figsize=(8,4.))\n",
    "plt.plot(all_dzrel_cut1,fitoptparam_cut1[:,1],'o')\n",
    "plt.ylim(-1,1)\n",
    "plt.grid()\n",
    "\n",
    "figtitle=\"Vertical aerosol optical depth at $\\lambda$ = 500 nm (object {})\".format(object_name)\n",
    "plt.title(figtitle)\n",
    "plt.xlabel(\"$z-z_{min}$\")\n",
    "plt.ylabel(\"Optical depth\")\n",
    "figfilename=os.path.join(dir_top_images,'AerAttvsDz1.pdf')\n",
    "plt.savefig(figfilename)"
   ]
  },
  {
   "cell_type": "code",
   "execution_count": null,
   "metadata": {
    "collapsed": true
   },
   "outputs": [],
   "source": [
    "plt.figure(figsize=(6,4.))\n",
    "n, bins, patches = plt.hist(fitoptparam_cut1[:,1], 50, normed=1, range=[-0.5,0.5],facecolor='blue', alpha=0.75)\n",
    "plt.grid()\n",
    "plt.xlabel(\"Vertical aerosol optical depth\")\n",
    "plt.title(\"Aerosol attenuation\")\n",
    "figtitle=\"Aerosol attenuation (object {})\".format(object_name)\n",
    "plt.title(figtitle)\n",
    "figfilename=os.path.join(dir_top_images,'AerAttHisto1.pdf')\n",
    "plt.savefig(figfilename)"
   ]
  },
  {
   "cell_type": "markdown",
   "metadata": {},
   "source": [
    "### Angstrom exponent"
   ]
  },
  {
   "cell_type": "code",
   "execution_count": null,
   "metadata": {
    "collapsed": true
   },
   "outputs": [],
   "source": [
    "GetMeanAndSigma(fitoptparam_cut1[:,2])"
   ]
  },
  {
   "cell_type": "code",
   "execution_count": null,
   "metadata": {
    "collapsed": true
   },
   "outputs": [],
   "source": [
    "print \"median = \",np.median(fitoptparam_cut1[:,2])\n",
    "print \"average = \",np.average(fitoptparam_cut1[:,2])\n",
    "print \"std = \",np.std(fitoptparam_cut1[:,2])"
   ]
  },
  {
   "cell_type": "code",
   "execution_count": null,
   "metadata": {
    "collapsed": true
   },
   "outputs": [],
   "source": [
    "plt.figure(figsize=(8,4.))\n",
    "plt.plot(all_dzrel_cut1,fitoptparam_cut1[:,2],'o')\n",
    "plt.ylim(-1,1)\n",
    "plt.grid()\n",
    "figtitle=\"Aerosol attenuation (object {})\".format(object_name)\n",
    "plt.title(figtitle)\n",
    "plt.xlabel(\"$z-z_{min}$\")\n",
    "plt.ylabel(\"Angstrom exponent\")\n",
    "figfilename=os.path.join(dir_top_images,'AerAngstrvsDz1.pdf')\n",
    "plt.savefig(figfilename)"
   ]
  },
  {
   "cell_type": "code",
   "execution_count": null,
   "metadata": {
    "collapsed": true
   },
   "outputs": [],
   "source": [
    "plt.figure(figsize=(6,4.))\n",
    "n, bins, patches = plt.hist(fitoptparam_cut1[:,2], 50, normed=1, range=[-0.5,0.5],facecolor='blue', alpha=0.75)\n",
    "plt.grid()\n",
    "plt.xlabel(\"Angstrom exponent\")\n",
    "figtitle=\"Aerosol attenuation (object {})\".format(object_name)\n",
    "plt.title(figtitle)\n",
    "figfilename=os.path.join(dir_top_images,'AerAngstrHisto1.pdf')\n",
    "plt.savefig(figfilename)"
   ]
  },
  {
   "cell_type": "markdown",
   "metadata": {
    "collapsed": true
   },
   "source": [
    "## Component 2 : z > zcut\n",
    "----------------------------------"
   ]
  },
  {
   "cell_type": "code",
   "execution_count": null,
   "metadata": {
    "collapsed": true
   },
   "outputs": [],
   "source": [
    "plt.figure(figsize=(6,4.))\n",
    "n, bins, patches = plt.hist(fitchi2_cut2, 50, normed=1, range=[0,0.01],facecolor='blue', alpha=0.75)\n",
    "plt.yscale('log', nonposy='clip')\n",
    "plt.grid(True)\n",
    "plt.xlabel(\"$\\chi^2$\")\n",
    "figtitle='Chi2 (object {})'.format(object_name)\n",
    "plt.title(figtitle)"
   ]
  },
  {
   "cell_type": "markdown",
   "metadata": {},
   "source": [
    "#### Grey attenuation"
   ]
  },
  {
   "cell_type": "code",
   "execution_count": null,
   "metadata": {
    "collapsed": true
   },
   "outputs": [],
   "source": [
    "GetMeanAndSigma(fitoptparam_cut2[:,0])"
   ]
  },
  {
   "cell_type": "code",
   "execution_count": null,
   "metadata": {
    "collapsed": true
   },
   "outputs": [],
   "source": [
    "print \"median = \",np.median(fitoptparam_cut2[:,0])\n",
    "print \"average = \",np.average(fitoptparam_cut2[:,0])\n",
    "print \"std = \",np.std(fitoptparam_cut2[:,0])\n"
   ]
  },
  {
   "cell_type": "code",
   "execution_count": null,
   "metadata": {
    "collapsed": true
   },
   "outputs": [],
   "source": [
    "plt.figure(figsize=(8,4.))\n",
    "greyattenuation=fitoptparam_cut2[:,0]\n",
    "plt.plot(all_dzrel_cut2,fitoptparam_cut2[:,0],'o')\n",
    "plt.ylim(-0.5,0.5)\n",
    "plt.grid()\n",
    "plt.xlabel(\"$z-z_{min}$\")\n",
    "plt.ylabel(\"Optical depth\")\n",
    "\n",
    "figtitle='Grey attenuation (object {})'.format(object_name)\n",
    "plt.title(figtitle)\n",
    "\n",
    "figfilename=os.path.join(dir_top_images,'GreyAttvsDz2.pdf')\n",
    "plt.savefig(figfilename)"
   ]
  },
  {
   "cell_type": "code",
   "execution_count": null,
   "metadata": {
    "collapsed": true
   },
   "outputs": [],
   "source": [
    "plt.figure(figsize=(6,4.))\n",
    "n, bins, patches = plt.hist(fitoptparam_cut2[:,0], 50, normed=1, range=[-0.5,0.5],facecolor='blue', alpha=0.75)\n",
    "plt.grid()\n",
    "plt.xlabel(\"Vertical grey optical depth\")\n",
    "figtitle='Grey attenuation (object {})'.format(object_name)\n",
    "plt.title(figtitle)\n",
    "figfilename=os.path.join(dir_top_images,'GreyAttHisto2.pdf')\n",
    "plt.savefig(figfilename)"
   ]
  },
  {
   "cell_type": "markdown",
   "metadata": {},
   "source": [
    "### Aerosols"
   ]
  },
  {
   "cell_type": "code",
   "execution_count": null,
   "metadata": {
    "collapsed": true
   },
   "outputs": [],
   "source": [
    "GetMeanAndSigma(fitoptparam_cut2[:,1])"
   ]
  },
  {
   "cell_type": "code",
   "execution_count": null,
   "metadata": {
    "collapsed": true
   },
   "outputs": [],
   "source": [
    "print \"median = \",np.median(fitoptparam_cut2[:,1])\n",
    "print \"average = \",np.average(fitoptparam_cut2[:,1])\n",
    "print \"std = \",np.std(fitoptparam_cut2[:,1])"
   ]
  },
  {
   "cell_type": "code",
   "execution_count": null,
   "metadata": {
    "collapsed": true
   },
   "outputs": [],
   "source": [
    "plt.figure(figsize=(8,4.))\n",
    "plt.plot(all_dzrel_cut2,fitoptparam_cut2[:,1],'o')\n",
    "plt.ylim(-1,1)\n",
    "plt.grid()\n",
    "\n",
    "figtitle=\"Vertical aerosol optical depth at $\\lambda$ = 500 nm (object {})\".format(object_name)\n",
    "plt.title(figtitle)\n",
    "plt.xlabel(\"$z-z_{min}$\")\n",
    "plt.ylabel(\"Optical depth\")\n",
    "figfilename=os.path.join(dir_top_images,'AerAttvsDz2.pdf')\n",
    "plt.savefig(figfilename)"
   ]
  },
  {
   "cell_type": "code",
   "execution_count": null,
   "metadata": {
    "collapsed": true
   },
   "outputs": [],
   "source": [
    "plt.figure(figsize=(6,4.))\n",
    "n, bins, patches = plt.hist(fitoptparam_cut2[:,1], 50, normed=1, range=[-0.5,0.5],facecolor='blue', alpha=0.75)\n",
    "plt.grid()\n",
    "plt.xlabel(\"Vertical aerosol optical depth\")\n",
    "plt.title(\"Aerosol attenuation\")\n",
    "figtitle=\"Aerosol attenuation (object {})\".format(object_name)\n",
    "plt.title(figtitle)\n",
    "figfilename=os.path.join(dir_top_images,'AerAttHisto2.pdf')\n",
    "plt.savefig(figfilename)"
   ]
  },
  {
   "cell_type": "markdown",
   "metadata": {},
   "source": [
    "### Angstrom"
   ]
  },
  {
   "cell_type": "code",
   "execution_count": null,
   "metadata": {
    "collapsed": true
   },
   "outputs": [],
   "source": [
    "GetMeanAndSigma(fitoptparam_cut2[:,2])"
   ]
  },
  {
   "cell_type": "code",
   "execution_count": null,
   "metadata": {
    "collapsed": true
   },
   "outputs": [],
   "source": [
    "print \"median = \",np.median(fitoptparam_cut2[:,2])\n",
    "print \"average = \",np.average(fitoptparam_cut2[:,2])\n",
    "print \"std = \",np.std(fitoptparam_cut2[:,2])"
   ]
  },
  {
   "cell_type": "code",
   "execution_count": null,
   "metadata": {
    "collapsed": true
   },
   "outputs": [],
   "source": [
    "plt.figure(figsize=(8,4.))\n",
    "plt.plot(all_dzrel_cut2,fitoptparam_cut2[:,2],'o')\n",
    "plt.ylim(-1,1)\n",
    "plt.grid()\n",
    "figtitle=\"Aerosol attenuation (object {})\".format(object_name)\n",
    "plt.title(figtitle)\n",
    "plt.xlabel(\"$z-z_{min}$\")\n",
    "plt.ylabel(\"Angstrom exponent\")\n",
    "figfilename=os.path.join(dir_top_images,'AerAngstrvsDz2.pdf')\n",
    "plt.savefig(figfilename)"
   ]
  },
  {
   "cell_type": "code",
   "execution_count": null,
   "metadata": {
    "collapsed": true
   },
   "outputs": [],
   "source": [
    "plt.figure(figsize=(6,4.))\n",
    "n, bins, patches = plt.hist(fitoptparam_cut2[:,2], 50, normed=1, range=[-0.5,0.5],facecolor='blue', alpha=0.75)\n",
    "plt.grid()\n",
    "plt.xlabel(\"Angstrom exponent\")\n",
    "figtitle=\"Aerosol attenuation (object {})\".format(object_name)\n",
    "plt.title(figtitle)\n",
    "figfilename=os.path.join(dir_top_images,'AerAngstrHisto2.pdf')\n",
    "plt.savefig(figfilename)"
   ]
  },
  {
   "cell_type": "code",
   "execution_count": null,
   "metadata": {
    "collapsed": true
   },
   "outputs": [],
   "source": [
    "XMIN=0.65\n",
    "XMAX=1.3"
   ]
  },
  {
   "cell_type": "code",
   "execution_count": null,
   "metadata": {
    "collapsed": true
   },
   "outputs": [],
   "source": [
    "XminBin=np.arange(XMIN,XMAX,0.05)\n",
    "XmaxBin=np.arange(XMIN+0.05,XMAX+0.05,0.05)"
   ]
  },
  {
   "cell_type": "code",
   "execution_count": null,
   "metadata": {
    "collapsed": true
   },
   "outputs": [],
   "source": [
    "XaverBin=(XminBin+XmaxBin)/2\n",
    "    "
   ]
  },
  {
   "cell_type": "code",
   "execution_count": null,
   "metadata": {
    "collapsed": true
   },
   "outputs": [],
   "source": [
    "print XminBin\n",
    "print XmaxBin\n",
    "print XaverBin"
   ]
  },
  {
   "cell_type": "code",
   "execution_count": null,
   "metadata": {
    "collapsed": true
   },
   "outputs": [],
   "source": [
    "theibin=np.where(np.logical_and(XminBin<=0.84,XmaxBin>0.84))"
   ]
  },
  {
   "cell_type": "code",
   "execution_count": null,
   "metadata": {
    "collapsed": true
   },
   "outputs": [],
   "source": [
    "len(XminBin)"
   ]
  },
  {
   "cell_type": "code",
   "execution_count": null,
   "metadata": {
    "collapsed": true
   },
   "outputs": [],
   "source": [
    "print theibin[0][0]"
   ]
  },
  {
   "cell_type": "code",
   "execution_count": null,
   "metadata": {
    "collapsed": true
   },
   "outputs": [],
   "source": [
    "a=np.empty(0)"
   ]
  },
  {
   "cell_type": "code",
   "execution_count": null,
   "metadata": {
    "collapsed": true
   },
   "outputs": [],
   "source": [
    "a=np.append(a,1)"
   ]
  },
  {
   "cell_type": "code",
   "execution_count": null,
   "metadata": {
    "collapsed": true
   },
   "outputs": [],
   "source": [
    "a"
   ]
  },
  {
   "cell_type": "markdown",
   "metadata": {},
   "source": [
    "### first simple model without Rayleigh "
   ]
  },
  {
   "cell_type": "code",
   "execution_count": null,
   "metadata": {
    "collapsed": true
   },
   "outputs": [],
   "source": [
    "def fullextinct(x, a, b, c ):\n",
    "    \"Model of extinction containing a contamination with residual Rayleigh scattering\"\n",
    "    return a + b * x**c "
   ]
  },
  {
   "cell_type": "code",
   "execution_count": null,
   "metadata": {
    "collapsed": true
   },
   "outputs": [],
   "source": [
    "def badjacfullextinct(x, a, b, c ):\n",
    "    \"Model of extinction containing a contamination with residual Rayleigh scattering\"\n",
    "    jac1=1 \n",
    "    jac2=x**c\n",
    "    jac3=b*x**c*np.log(x)\n",
    "    return np.array([jac1,jac2,jac3])"
   ]
  },
  {
   "cell_type": "code",
   "execution_count": null,
   "metadata": {
    "collapsed": true
   },
   "outputs": [],
   "source": [
    "#def myDfun( a,b,c, xdata, ydata, f ) :\n",
    "def myDfun( xdata,a,b,c) :    \n",
    "    jac1=np.ones(len(xdata))\n",
    "    jac2=xdata**c\n",
    "    jac3=b*xdata**c*np.log(xdata)\n",
    "    res = np.vstack( ( jac1, jac2 , jac3 ) ).T\n",
    "    return res"
   ]
  },
  {
   "cell_type": "code",
   "execution_count": null,
   "metadata": {
    "collapsed": true
   },
   "outputs": [],
   "source": [
    "def FitFullExtinct(thex,they,theerry):\n",
    "\n",
    "    x=np.copy(thex)\n",
    "    y=np.copy(they)\n",
    "    ey=np.copy(theerry)\n",
    "    \n",
    "    z = np.polyfit(x,y, 1) # start a linear fit to find initialisation parameter\n",
    "    \n",
    "    z=np.append(z,1.) # add angstrom exponent\n",
    "    #z=np.append(z,0.01) # add a tiny contribution for Raleigh\n",
    "    \n",
    "    #popt, pcov = curve_fit(fullextinct,x,y,p0=z,sigma=ey,absolute_sigma=True)\n",
    "    #popt, pcov = curve_fit(fullextinct,x,y,p0=z,sigma=ey,absolute_sigma=False)\n",
    "    popt, pcov = curve_fit(fullextinct,x,y,sigma=ey,jac=myDfun,bounds=([0,0.,0.1], [0.1, 0.1, 4.]))\n",
    "    perr = np.sqrt(np.diag(pcov))\n",
    "    return popt,perr"
   ]
  },
  {
   "cell_type": "markdown",
   "metadata": {},
   "source": [
    "### second complex  model with Rayleigh"
   ]
  },
  {
   "cell_type": "code",
   "execution_count": null,
   "metadata": {
    "collapsed": true
   },
   "outputs": [],
   "source": [
    "def fullextinct_r(x, a, b, c,d ):\n",
    "    \"Model of extinction containing a contamination with residual Rayleigh scattering\"\n",
    "    return a + b * x**c + d*x**4"
   ]
  },
  {
   "cell_type": "code",
   "execution_count": null,
   "metadata": {
    "collapsed": true
   },
   "outputs": [],
   "source": [
    "def myDfun_r( xdata,a,b,c,d) :    \n",
    "    jac1=np.ones(len(xdata))\n",
    "    jac2=xdata**c\n",
    "    jac3=b*xdata**c*np.log(xdata)\n",
    "    jac4=xdata**4\n",
    "    res = np.vstack( ( jac1, jac2 , jac3, jac4 ) ).T\n",
    "    return res"
   ]
  },
  {
   "cell_type": "code",
   "execution_count": null,
   "metadata": {
    "collapsed": true
   },
   "outputs": [],
   "source": [
    "def FitFullExtinct_r(thex,they,theerry):\n",
    "\n",
    "    x=np.copy(thex)\n",
    "    y=np.copy(they)\n",
    "    ey=np.copy(theerry)\n",
    "    \n",
    "    z = np.polyfit(x,y, 1) # start a linear fit to find initialisation parameter\n",
    "    \n",
    "    z=np.append(z,1.) # add angstrom exponent\n",
    "    #z=np.append(z,0.01) # add a tiny contribution for Raleigh\n",
    "    \n",
    "    #popt, pcov = curve_fit(fullextinct,x,y,p0=z,sigma=ey,absolute_sigma=True)\n",
    "    #popt, pcov = curve_fit(fullextinct,x,y,p0=z,sigma=ey,absolute_sigma=False)\n",
    "    popt, pcov = curve_fit(fullextinct_r,x,y,sigma=ey,jac=myDfun_r,bounds=([0,0.,0.1,0.], [0.1, 0.1, 3.,0.1]))\n",
    "    perr = np.sqrt(np.diag(pcov))\n",
    "    return popt,perr"
   ]
  },
  {
   "cell_type": "code",
   "execution_count": null,
   "metadata": {
    "collapsed": true
   },
   "outputs": [],
   "source": [
    "def NonLinearFitExtinction2(all_ratiowl,all_ratioratio,all_dzam,figtitle=' Fit W ratio with grey + aerosol extinct for object {}'):\n",
    "    \"\"\"\n",
    "    Fit without rayleigh\n",
    "    \"\"\"\n",
    "\n",
    "    NBRATIO=len(all_ratioratio)\n",
    "    \n",
    "    \n",
    "    XMIN=0.65\n",
    "    XMAX=1.3\n",
    "    \n",
    "    YMAX=0.5\n",
    "    YMIN=-0.2\n",
    "\n",
    "    # Defines 13 bins in 500/lambda where histograms will be done\n",
    "    XminBin=np.arange(XMIN,XMAX,0.05)\n",
    "    XmaxBin=np.arange(XMIN+0.05,XMAX+0.05,0.05)\n",
    "    XaverBin=(XminBin+XmaxBin)/2.\n",
    " \n",
    "    NBBINS=XminBin.shape[0]\n",
    "    \n",
    "    all_histos=[]\n",
    "    \n",
    "    for ibin in np.arange(NBBINS):\n",
    "        all_histos.append(np.empty(0))\n",
    "        \n",
    "    \n",
    "    xfit=np.linspace(XMIN,XMAX,50)\n",
    "    \n",
    "    fitoptparam= []\n",
    "    fitperr= []\n",
    "    fitchi2=[]\n",
    "    all_dzrel= []\n",
    "    \n",
    "    all_X = []\n",
    "    all_Y = []\n",
    "    all_EY = []\n",
    "    all_N = []\n",
    "    \n",
    "    fig, ax = plt.subplots(1, 1, figsize=(15,8))\n",
    "    \n",
    "    for index in np.arange(NBRATIO): ## Loop on ratio\n",
    "        dzam=all_dzam[index]\n",
    "        if dzam != 0 and all_expo[index]>0  : \n",
    "            all_dzrel.append(dzam)\n",
    "            \n",
    "                        \n",
    "            x_set=500./all_ratiowl[index]\n",
    "            y_set=-2.5*np.log10(all_ratioratio[index])/dzam   ### Here divide by dzam to remove airmass dependence\n",
    "            \n",
    "            wlcount=0 # counter\n",
    "            for x in x_set:\n",
    "                y=y_set[wlcount]\n",
    "                theibin=np.where(np.logical_and(XminBin<=x,XmaxBin>x))[0][0]\n",
    "                all_histos[theibin]=np.append(all_histos[theibin],y)\n",
    "                wlcount+=1   # increate counter\n",
    "            \n",
    "           \n",
    "            \n",
    "    for ibin in np.arange(NBBINS):\n",
    "        theN=all_histos[ibin].shape[0]\n",
    "        if theN > 3:\n",
    "            all_N.append(theN)\n",
    "            all_X.append(XaverBin[ibin])\n",
    "            all_Y.append(np.median(all_histos[ibin]))\n",
    "            all_EY.append(np.std(all_histos[ibin])/np.sqrt(theN))             \n",
    "    \n",
    "    \n",
    "    all_X_forFit=np.array(all_X)        \n",
    "    all_Y_forFit=np.array(all_Y)\n",
    "    all_EY_forFit=np.array(all_EY)\n",
    "    \n",
    "    all_X_forFit=np.delete(all_X_forFit,11)\n",
    "    all_Y_forFit=np.delete(all_Y_forFit,11)\n",
    "    all_EY_forFit=np.delete(all_EY_forFit,11)\n",
    "    \n",
    "    all_X_forFit=np.delete(all_X_forFit,10)\n",
    "    all_Y_forFit=np.delete(all_Y_forFit,10)\n",
    "    all_EY_forFit=np.delete(all_EY_forFit,10)\n",
    "    \n",
    "    all_X_forFit=np.delete(all_X_forFit,0)\n",
    "    all_Y_forFit=np.delete(all_Y_forFit,0)\n",
    "    all_EY_forFit=np.delete(all_EY_forFit,0)\n",
    "    \n",
    "        \n",
    "    popt,perr=FitFullExtinct(all_X_forFit,all_Y_forFit,all_EY_forFit)  # No Rayleigh\n",
    "    #popt,perr=FitFullExtinct_r(all_X,all_Y,all_EY)  \n",
    "    \n",
    "    xfit=np.linspace(XMIN,XMAX,50)\n",
    "    yfit=fullextinct(xfit, popt[0], popt[1], popt[2] )\n",
    "    \n",
    "    plt.plot(xfit,yfit,'b-')\n",
    "            \n",
    "    ax.get_xaxis().set_minor_locator(mpl.ticker.AutoMinorLocator())\n",
    "    ax.get_yaxis().set_minor_locator(mpl.ticker.AutoMinorLocator())\n",
    "    #ax.grid(b=True, which='major', color='k', linewidth=2.0)\n",
    "    ax.grid(b=True)\n",
    "    #ax.grid(b=True, which='minor', color='k', linewidth=0.5)        \n",
    "            \n",
    "    #ax.set_ylim(YMIN,YMAX)        \n",
    "     \n",
    "    plt.errorbar(all_X,all_Y,yerr=all_EY,fmt='o',color=\"red\")\n",
    "    plt.errorbar(all_X_forFit,all_Y_forFit,yerr=all_EY_forFit,fmt='o',color=\"green\") \n",
    "                          \n",
    "    title=figtitle.format(object_name)\n",
    "    ax.set_title(title)\n",
    "    ax.set_ylabel(\" W ratio\")\n",
    "    ax.set_xlabel(\"$500/\\lambda$ (nm)\")\n",
    "    ax.set_ylim(-0.2,.5)\n",
    "    \n",
    "    figfilename=os.path.join(dir_top_images,'FitNonLinearExtinction2_Wratio.pdf')\n",
    "    plt.savefig(figfilename)\n",
    "    return popt,perr\n",
    "   \n",
    "        \n",
    "  \n",
    "        "
   ]
  },
  {
   "cell_type": "code",
   "execution_count": null,
   "metadata": {
    "collapsed": true
   },
   "outputs": [],
   "source": [
    "def NonLinearFitExtinction2_r(all_ratiowl,all_ratioratio,all_dzam,figtitle=' Fit W ratio with grey + aerosol + resid rayleigh extinct  for object {}'):\n",
    "    \n",
    "    \"\"\"\n",
    "    Fit with Rayleigh\n",
    "    \"\"\"\n",
    "\n",
    "    NBRATIO=len(all_ratioratio)\n",
    "    \n",
    "    \n",
    "    XMIN=0.65\n",
    "    XMAX=1.3\n",
    "    \n",
    "    YMAX=0.5\n",
    "    YMIN=-0.2\n",
    "\n",
    "    # Defines 13 bins in 500/lambda where histograms will be done\n",
    "    XminBin=np.arange(XMIN,XMAX,0.05)\n",
    "    XmaxBin=np.arange(XMIN+0.05,XMAX+0.05,0.05)\n",
    "    XaverBin=(XminBin+XmaxBin)/2.\n",
    " \n",
    "    NBBINS=XminBin.shape[0]\n",
    "    \n",
    "    all_histos=[]\n",
    "    \n",
    "    for ibin in np.arange(NBBINS):\n",
    "        all_histos.append(np.empty(0))\n",
    "        \n",
    "    \n",
    "    xfit=np.linspace(XMIN,XMAX,50)\n",
    "    \n",
    "    fitoptparam= []\n",
    "    fitperr= []\n",
    "    fitchi2=[]\n",
    "    all_dzrel= []\n",
    "    \n",
    "    all_X = []\n",
    "    all_Y = []\n",
    "    all_EY = []\n",
    "    all_N = []\n",
    "    \n",
    "    fig, ax = plt.subplots(1, 1, figsize=(15,8))\n",
    "    \n",
    "    for index in np.arange(NBRATIO): ## Loop on ratio\n",
    "        dzam=all_dzam[index]\n",
    "        if dzam != 0 and all_expo[index]>0  : \n",
    "            all_dzrel.append(dzam)\n",
    "            \n",
    "                        \n",
    "            x_set=500./all_ratiowl[index]\n",
    "            y_set=-2.5*np.log10(all_ratioratio[index])/dzam   ### Here divide by dzam to remove airmass dependence\n",
    "            \n",
    "            wlcount=0 # counter\n",
    "            for x in x_set:\n",
    "                y=y_set[wlcount]\n",
    "                theibin=np.where(np.logical_and(XminBin<=x,XmaxBin>x))[0][0]\n",
    "                all_histos[theibin]=np.append(all_histos[theibin],y)\n",
    "                wlcount+=1   # increate counter\n",
    "            \n",
    "           \n",
    "            \n",
    "    for ibin in np.arange(NBBINS):\n",
    "        theN=all_histos[ibin].shape[0]\n",
    "        if theN > 3:\n",
    "            all_N.append(theN)\n",
    "            all_X.append(XaverBin[ibin])\n",
    "            all_Y.append(np.median(all_histos[ibin]))\n",
    "            all_EY.append(np.std(all_histos[ibin])/np.sqrt(theN))             \n",
    "    \n",
    "    all_X_forFit=np.array(all_X)        \n",
    "    all_Y_forFit=np.array(all_Y)\n",
    "    all_EY_forFit=np.array(all_EY)\n",
    "    \n",
    "    all_X_forFit=np.delete(all_X_forFit,11)\n",
    "    all_Y_forFit=np.delete(all_Y_forFit,11)\n",
    "    all_EY_forFit=np.delete(all_EY_forFit,11)\n",
    "    \n",
    "    all_X_forFit=np.delete(all_X_forFit,10)\n",
    "    all_Y_forFit=np.delete(all_Y_forFit,10)\n",
    "    all_EY_forFit=np.delete(all_EY_forFit,10)\n",
    "    \n",
    "    all_X_forFit=np.delete(all_X_forFit,0)\n",
    "    all_Y_forFit=np.delete(all_Y_forFit,0)\n",
    "    all_EY_forFit=np.delete(all_EY_forFit,0)\n",
    "        \n",
    "    #popt,perr=FitFullExtinct(all_X,all_Y,all_EY)  \n",
    "    popt,perr=FitFullExtinct_r(all_X_forFit,all_Y_forFit,all_EY_forFit)  \n",
    "    \n",
    "    xfit=np.linspace(XMIN,XMAX,50)\n",
    "    yfit=fullextinct(xfit, popt[0], popt[1], popt[2] )\n",
    "    \n",
    "    plt.plot(xfit,yfit,'b-')\n",
    "            \n",
    "    ax.get_xaxis().set_minor_locator(mpl.ticker.AutoMinorLocator())\n",
    "    ax.get_yaxis().set_minor_locator(mpl.ticker.AutoMinorLocator())\n",
    "    #ax.grid(b=True, which='major', color='k', linewidth=2.0)\n",
    "    ax.grid(b=True)\n",
    "    #ax.grid(b=True, which='minor', color='k', linewidth=0.5)        \n",
    "            \n",
    "    #ax.set_ylim(YMIN,YMAX)        \n",
    "     \n",
    "    plt.errorbar(all_X,all_Y,yerr=all_EY,fmt='o',color=\"red\") \n",
    "    plt.errorbar(all_X_forFit,all_Y_forFit,yerr=all_EY_forFit,fmt='o',color=\"green\") \n",
    "                          \n",
    "    title=figtitle.format(object_name)\n",
    "    ax.set_title(title)\n",
    "    ax.set_ylabel(\" W ratio\")\n",
    "    ax.set_xlabel(\"$500/\\lambda$ (nm)\")\n",
    "    ax.set_ylim(-0.2,.5)\n",
    "    \n",
    "    figfilename=os.path.join(dir_top_images,'FitNonLinearExtinction2_Wratio_r.pdf')\n",
    "    plt.savefig(figfilename)\n",
    "    return popt,perr\n",
    "   \n",
    "        \n",
    "  \n",
    "        "
   ]
  },
  {
   "cell_type": "code",
   "execution_count": null,
   "metadata": {
    "collapsed": true
   },
   "outputs": [],
   "source": [
    "popt1,perr1=NonLinearFitExtinction2_r(all_ratiowl_cut1,all_ratioratio_cut1,all_dzam_cut1)"
   ]
  },
  {
   "cell_type": "code",
   "execution_count": null,
   "metadata": {
    "collapsed": true
   },
   "outputs": [],
   "source": [
    "popt1"
   ]
  },
  {
   "cell_type": "code",
   "execution_count": null,
   "metadata": {
    "collapsed": true
   },
   "outputs": [],
   "source": [
    "perr1"
   ]
  },
  {
   "cell_type": "code",
   "execution_count": null,
   "metadata": {
    "collapsed": true
   },
   "outputs": [],
   "source": [
    "popt2,perr2=NonLinearFitExtinction2(all_ratiowl_cut2,all_ratioratio_cut2,all_dzam_cut2)"
   ]
  },
  {
   "cell_type": "code",
   "execution_count": null,
   "metadata": {
    "collapsed": true
   },
   "outputs": [],
   "source": [
    "popt2"
   ]
  },
  {
   "cell_type": "code",
   "execution_count": null,
   "metadata": {
    "collapsed": true
   },
   "outputs": [],
   "source": [
    "perr2"
   ]
  },
  {
   "cell_type": "code",
   "execution_count": null,
   "metadata": {
    "collapsed": true
   },
   "outputs": [],
   "source": []
  }
 ],
 "metadata": {
  "anaconda-cloud": {},
  "kernelspec": {
   "display_name": "Python 2",
   "language": "python",
   "name": "python2"
  },
  "language_info": {
   "codemirror_mode": {
    "name": "ipython",
    "version": 2
   },
   "file_extension": ".py",
   "mimetype": "text/x-python",
   "name": "python",
   "nbconvert_exporter": "python",
   "pygments_lexer": "ipython2",
   "version": "2.7.13"
  },
  "toc": {
   "nav_menu": {
    "height": "512px",
    "width": "252px"
   },
   "number_sections": true,
   "sideBar": true,
   "skip_h1_title": false,
   "toc_cell": false,
   "toc_position": {},
   "toc_section_display": "block",
   "toc_window_display": false
  }
 },
 "nbformat": 4,
 "nbformat_minor": 1
}
