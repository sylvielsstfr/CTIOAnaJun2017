{
 "cells": [
  {
   "cell_type": "code",
   "execution_count": 9,
   "metadata": {},
   "outputs": [
    {
     "data": {
      "application/javascript": [
       "var kernel = IPython.notebook.kernel;\n",
       "var thename = window.document.getElementById(\"notebook_name\").innerHTML;\n",
       "var command = \"theNotebook = \" + \"'\"+thename+\"'\";\n",
       "kernel.execute(command);"
      ],
      "text/plain": [
       "<IPython.core.display.Javascript object>"
      ]
     },
     "metadata": {},
     "output_type": "display_data"
    }
   ],
   "source": [
    "%%javascript\n",
    "var kernel = IPython.notebook.kernel;\n",
    "var thename = window.document.getElementById(\"notebook_name\").innerHTML;\n",
    "var command = \"theNotebook = \" + \"'\"+thename+\"'\";\n",
    "kernel.execute(command);"
   ]
  },
  {
   "cell_type": "code",
   "execution_count": 10,
   "metadata": {},
   "outputs": [
    {
     "name": "stdout",
     "output_type": "stream",
     "text": [
      "The autoreload extension is already loaded. To reload it, use:\n",
      "  %reload_ext autoreload\n",
      "ViewImageInDS9\n",
      "ccdproc version 1.2.0\n",
      "bottleneck version 1.2.1\n",
      "/Users/dagoret/MacOSX/GitHub/LSST/CTIOAnaJun2017/CTIOAnaJun2017/ana_05jun17/HD205905\n"
     ]
    }
   ],
   "source": [
    "%matplotlib inline\n",
    "%load_ext autoreload\n",
    "%autoreload 2\n",
    "\n",
    "print theNotebook\n",
    "from IPython.display import Image, display\n",
    "import sys\n",
    "sys.path.append(\"../../common_tools/\")\n",
    "from common_notebook import *\n",
    "\n",
    "init_notebook()"
   ]
  },
  {
   "cell_type": "code",
   "execution_count": 11,
   "metadata": {},
   "outputs": [],
   "source": [
    "\n",
    "import pyds9"
   ]
  },
  {
   "cell_type": "code",
   "execution_count": 12,
   "metadata": {
    "collapsed": true
   },
   "outputs": [],
   "source": [
    "# to enlarge the sizes\n",
    "params = {'legend.fontsize': 'x-large',\n",
    "          'figure.figsize': (10, 10),   #defines the default image size\n",
    "         'axes.labelsize': 'x-large',\n",
    "         'axes.titlesize':'x-large',\n",
    "         'xtick.labelsize':'x-large',\n",
    "         'ytick.labelsize':'x-large'}\n",
    "plt.rcParams.update(params)"
   ]
  },
  {
   "cell_type": "code",
   "execution_count": 13,
   "metadata": {
    "collapsed": true
   },
   "outputs": [],
   "source": [
    "#inputdir=\"../OverScanRemove/trim_images\"\n",
    "#inputdir=\"../../data/CTIODataJune2017_reducedRed/data_05jun17/\"\n",
    "inputdir=\"./rotated_fitsimages\"\n",
    "MIN_IMGNUMBER=46\n",
    "MAX_IMGNUMBER=126\n",
    "date=\"20170605\"\n",
    "object_name='HD205905'\n",
    "tag = \"rotimg\"\n",
    "SelectTagRe='^%s_%s_([0-9]+).fits$' % (tag,date) # regular expression to select the file\n",
    "SearchTagRe='^%s_%s_[0-9]+.fits$' % (tag,date)\n",
    "NBIMGPERROW=2"
   ]
  },
  {
   "cell_type": "code",
   "execution_count": 14,
   "metadata": {},
   "outputs": [
    {
     "name": "stdout",
     "output_type": "stream",
     "text": [
      "Number of images: 80\n",
      "(400, 2048)\n"
     ]
    }
   ],
   "source": [
    "sorted_numbers,sorted_files = MakeFileList([inputdir],MIN_IMGNUMBER,MAX_IMGNUMBER,SelectTagRe,SearchTagRe) \n",
    "all_dates,all_airmass,all_images,all_titles,all_header,all_expo,all_filt,all_filt1,all_filt2=BuildImages(sorted_files,sorted_numbers,object_name)\n",
    "\n",
    "print 'Number of images:',len(all_images)\n",
    "print all_images[0].shape"
   ]
  },
  {
   "cell_type": "code",
   "execution_count": 15,
   "metadata": {},
   "outputs": [
    {
     "data": {
      "text/plain": [
       "array(['./rotated_fitsimages/rotimg_20170605_046.fits',\n",
       "       './rotated_fitsimages/rotimg_20170605_047.fits',\n",
       "       './rotated_fitsimages/rotimg_20170605_048.fits',\n",
       "       './rotated_fitsimages/rotimg_20170605_049.fits',\n",
       "       './rotated_fitsimages/rotimg_20170605_050.fits',\n",
       "       './rotated_fitsimages/rotimg_20170605_051.fits',\n",
       "       './rotated_fitsimages/rotimg_20170605_052.fits',\n",
       "       './rotated_fitsimages/rotimg_20170605_053.fits',\n",
       "       './rotated_fitsimages/rotimg_20170605_054.fits',\n",
       "       './rotated_fitsimages/rotimg_20170605_055.fits',\n",
       "       './rotated_fitsimages/rotimg_20170605_056.fits',\n",
       "       './rotated_fitsimages/rotimg_20170605_057.fits',\n",
       "       './rotated_fitsimages/rotimg_20170605_058.fits',\n",
       "       './rotated_fitsimages/rotimg_20170605_059.fits',\n",
       "       './rotated_fitsimages/rotimg_20170605_060.fits',\n",
       "       './rotated_fitsimages/rotimg_20170605_061.fits',\n",
       "       './rotated_fitsimages/rotimg_20170605_062.fits',\n",
       "       './rotated_fitsimages/rotimg_20170605_063.fits',\n",
       "       './rotated_fitsimages/rotimg_20170605_064.fits',\n",
       "       './rotated_fitsimages/rotimg_20170605_065.fits',\n",
       "       './rotated_fitsimages/rotimg_20170605_066.fits',\n",
       "       './rotated_fitsimages/rotimg_20170605_067.fits',\n",
       "       './rotated_fitsimages/rotimg_20170605_068.fits',\n",
       "       './rotated_fitsimages/rotimg_20170605_069.fits',\n",
       "       './rotated_fitsimages/rotimg_20170605_070.fits',\n",
       "       './rotated_fitsimages/rotimg_20170605_071.fits',\n",
       "       './rotated_fitsimages/rotimg_20170605_072.fits',\n",
       "       './rotated_fitsimages/rotimg_20170605_073.fits',\n",
       "       './rotated_fitsimages/rotimg_20170605_074.fits',\n",
       "       './rotated_fitsimages/rotimg_20170605_075.fits',\n",
       "       './rotated_fitsimages/rotimg_20170605_076.fits',\n",
       "       './rotated_fitsimages/rotimg_20170605_077.fits',\n",
       "       './rotated_fitsimages/rotimg_20170605_078.fits',\n",
       "       './rotated_fitsimages/rotimg_20170605_079.fits',\n",
       "       './rotated_fitsimages/rotimg_20170605_080.fits',\n",
       "       './rotated_fitsimages/rotimg_20170605_081.fits',\n",
       "       './rotated_fitsimages/rotimg_20170605_082.fits',\n",
       "       './rotated_fitsimages/rotimg_20170605_083.fits',\n",
       "       './rotated_fitsimages/rotimg_20170605_084.fits',\n",
       "       './rotated_fitsimages/rotimg_20170605_085.fits',\n",
       "       './rotated_fitsimages/rotimg_20170605_086.fits',\n",
       "       './rotated_fitsimages/rotimg_20170605_087.fits',\n",
       "       './rotated_fitsimages/rotimg_20170605_088.fits',\n",
       "       './rotated_fitsimages/rotimg_20170605_089.fits',\n",
       "       './rotated_fitsimages/rotimg_20170605_090.fits',\n",
       "       './rotated_fitsimages/rotimg_20170605_091.fits',\n",
       "       './rotated_fitsimages/rotimg_20170605_092.fits',\n",
       "       './rotated_fitsimages/rotimg_20170605_093.fits',\n",
       "       './rotated_fitsimages/rotimg_20170605_094.fits',\n",
       "       './rotated_fitsimages/rotimg_20170605_095.fits',\n",
       "       './rotated_fitsimages/rotimg_20170605_096.fits',\n",
       "       './rotated_fitsimages/rotimg_20170605_097.fits',\n",
       "       './rotated_fitsimages/rotimg_20170605_098.fits',\n",
       "       './rotated_fitsimages/rotimg_20170605_100.fits',\n",
       "       './rotated_fitsimages/rotimg_20170605_101.fits',\n",
       "       './rotated_fitsimages/rotimg_20170605_102.fits',\n",
       "       './rotated_fitsimages/rotimg_20170605_103.fits',\n",
       "       './rotated_fitsimages/rotimg_20170605_104.fits',\n",
       "       './rotated_fitsimages/rotimg_20170605_105.fits',\n",
       "       './rotated_fitsimages/rotimg_20170605_106.fits',\n",
       "       './rotated_fitsimages/rotimg_20170605_107.fits',\n",
       "       './rotated_fitsimages/rotimg_20170605_108.fits',\n",
       "       './rotated_fitsimages/rotimg_20170605_109.fits',\n",
       "       './rotated_fitsimages/rotimg_20170605_110.fits',\n",
       "       './rotated_fitsimages/rotimg_20170605_111.fits',\n",
       "       './rotated_fitsimages/rotimg_20170605_112.fits',\n",
       "       './rotated_fitsimages/rotimg_20170605_113.fits',\n",
       "       './rotated_fitsimages/rotimg_20170605_114.fits',\n",
       "       './rotated_fitsimages/rotimg_20170605_115.fits',\n",
       "       './rotated_fitsimages/rotimg_20170605_116.fits',\n",
       "       './rotated_fitsimages/rotimg_20170605_117.fits',\n",
       "       './rotated_fitsimages/rotimg_20170605_118.fits',\n",
       "       './rotated_fitsimages/rotimg_20170605_119.fits',\n",
       "       './rotated_fitsimages/rotimg_20170605_120.fits',\n",
       "       './rotated_fitsimages/rotimg_20170605_121.fits',\n",
       "       './rotated_fitsimages/rotimg_20170605_122.fits',\n",
       "       './rotated_fitsimages/rotimg_20170605_123.fits',\n",
       "       './rotated_fitsimages/rotimg_20170605_124.fits',\n",
       "       './rotated_fitsimages/rotimg_20170605_125.fits',\n",
       "       './rotated_fitsimages/rotimg_20170605_126.fits'], \n",
       "      dtype='|S45')"
      ]
     },
     "execution_count": 15,
     "metadata": {},
     "output_type": "execute_result"
    }
   ],
   "source": [
    "sorted_files"
   ]
  },
  {
   "cell_type": "code",
   "execution_count": 16,
   "metadata": {
    "collapsed": true
   },
   "outputs": [],
   "source": [
    "sel=0"
   ]
  },
  {
   "cell_type": "code",
   "execution_count": 17,
   "metadata": {
    "collapsed": true
   },
   "outputs": [],
   "source": [
    "fullfile=os.path.join(sorted_files[sel])"
   ]
  },
  {
   "cell_type": "code",
   "execution_count": 18,
   "metadata": {},
   "outputs": [
    {
     "name": "stdout",
     "output_type": "stream",
     "text": [
      "None\n"
     ]
    }
   ],
   "source": [
    "print(pyds9.ds9_targets())"
   ]
  },
  {
   "cell_type": "code",
   "execution_count": 19,
   "metadata": {},
   "outputs": [
    {
     "ename": "ValueError",
     "evalue": "no active ds9 running for target: ds9",
     "output_type": "error",
     "traceback": [
      "\u001b[0;31m---------------------------------------------------------------------------\u001b[0m",
      "\u001b[0;31mValueError\u001b[0m                                Traceback (most recent call last)",
      "\u001b[0;32m<ipython-input-19-343b4e65f8ef>\u001b[0m in \u001b[0;36m<module>\u001b[0;34m()\u001b[0m\n\u001b[0;32m----> 1\u001b[0;31m \u001b[0md\u001b[0m \u001b[0;34m=\u001b[0m \u001b[0mpyds9\u001b[0m\u001b[0;34m.\u001b[0m\u001b[0mDS9\u001b[0m\u001b[0;34m(\u001b[0m\u001b[0;34m)\u001b[0m\u001b[0;34m\u001b[0m\u001b[0m\n\u001b[0m",
      "\u001b[0;32m/Users/dagoret/anaconda/lib/python2.7/site-packages/pyds9/pyds9.pyc\u001b[0m in \u001b[0;36m__init__\u001b[0;34m(self, target, start, wait, verify)\u001b[0m\n\u001b[1;32m    449\u001b[0m         \u001b[0mtlist\u001b[0m \u001b[0;34m=\u001b[0m \u001b[0mbytes_to_string\u001b[0m\u001b[0;34m(\u001b[0m\u001b[0mtlist\u001b[0m\u001b[0;34m)\u001b[0m\u001b[0;34m\u001b[0m\u001b[0m\n\u001b[1;32m    450\u001b[0m         \u001b[0;32mif\u001b[0m \u001b[0;32mnot\u001b[0m \u001b[0mtlist\u001b[0m\u001b[0;34m:\u001b[0m\u001b[0;34m\u001b[0m\u001b[0m\n\u001b[0;32m--> 451\u001b[0;31m             \u001b[0;32mraise\u001b[0m \u001b[0mValueError\u001b[0m\u001b[0;34m(\u001b[0m\u001b[0;34m'no active ds9 running for target: %s'\u001b[0m \u001b[0;34m%\u001b[0m \u001b[0mtarget\u001b[0m\u001b[0;34m)\u001b[0m\u001b[0;34m\u001b[0m\u001b[0m\n\u001b[0m\u001b[1;32m    452\u001b[0m         \u001b[0;32melif\u001b[0m \u001b[0mlen\u001b[0m\u001b[0;34m(\u001b[0m\u001b[0mtlist\u001b[0m\u001b[0;34m)\u001b[0m \u001b[0;34m>\u001b[0m \u001b[0;36m1\u001b[0m\u001b[0;34m:\u001b[0m\u001b[0;34m\u001b[0m\u001b[0m\n\u001b[1;32m    453\u001b[0m             \u001b[0;32mif\u001b[0m \u001b[0;34m'XPA_METHOD'\u001b[0m \u001b[0;32min\u001b[0m \u001b[0mos\u001b[0m\u001b[0;34m.\u001b[0m\u001b[0menviron\u001b[0m\u001b[0;34m.\u001b[0m\u001b[0mkeys\u001b[0m\u001b[0;34m(\u001b[0m\u001b[0;34m)\u001b[0m\u001b[0;34m:\u001b[0m\u001b[0;34m\u001b[0m\u001b[0m\n",
      "\u001b[0;31mValueError\u001b[0m: no active ds9 running for target: ds9"
     ]
    }
   ],
   "source": [
    "d = pyds9.DS9()"
   ]
  },
  {
   "cell_type": "code",
   "execution_count": null,
   "metadata": {
    "collapsed": true
   },
   "outputs": [],
   "source": [
    "# define the zoom\n",
    "ds9command='zoom 1'\n",
    "d.set(ds9command)\n",
    "# set the scale\n",
    "ds9command='scale histequ zscale minmax'\n",
    "d.set(ds9command)\n",
    "# set the color\n",
    "ds9command='cmap rainbow'\n",
    "d.set(ds9command)\n",
    "ds9command = 'file '+ fullfile\n",
    "d.set(ds9command)  # send the file to the open ds9 sessi"
   ]
  },
  {
   "cell_type": "code",
   "execution_count": null,
   "metadata": {
    "collapsed": true
   },
   "outputs": [],
   "source": []
  }
 ],
 "metadata": {
  "kernelspec": {
   "display_name": "Python 2",
   "language": "python",
   "name": "python2"
  },
  "language_info": {
   "codemirror_mode": {
    "name": "ipython",
    "version": 2
   },
   "file_extension": ".py",
   "mimetype": "text/x-python",
   "name": "python",
   "nbconvert_exporter": "python",
   "pygments_lexer": "ipython2",
   "version": "2.7.13"
  },
  "toc": {
   "nav_menu": {},
   "number_sections": true,
   "sideBar": true,
   "skip_h1_title": false,
   "toc_cell": false,
   "toc_position": {},
   "toc_section_display": "block",
   "toc_window_display": false
  }
 },
 "nbformat": 4,
 "nbformat_minor": 2
}
