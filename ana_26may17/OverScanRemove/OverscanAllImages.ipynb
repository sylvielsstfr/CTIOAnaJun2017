{
 "cells": [
  {
   "cell_type": "markdown",
   "metadata": {
    "deletable": true,
    "editable": true
   },
   "source": [
    "# Does the overscan, subtraction and Triming of the CTIO images\n",
    "==================================================================================================\n",
    "- author : Sylvie Dagoret-Campagne\n",
    "- date   : January 18th 2017\n",
    "- update : May 29th 2017\n",
    "\n",
    "The library ***overscan_subtract_andTrim*** developped by Augustin Guyonnet is used\n",
    "to produce trim images.\n",
    "\n",
    "\n",
    "This has been updated for June 2017"
   ]
  },
  {
   "cell_type": "code",
   "execution_count": 2,
   "metadata": {
    "collapsed": true,
    "deletable": true,
    "editable": true
   },
   "outputs": [],
   "source": [
    "%matplotlib inline\n",
    "import matplotlib.pyplot as plt\n",
    "import numpy as np\n",
    "\n",
    "from astropy.modeling import models\n",
    "from astropy import units as u\n",
    "from astropy import nddata\n",
    "from astropy.io import fits\n",
    "import re\n",
    "import os"
   ]
  },
  {
   "cell_type": "code",
   "execution_count": 3,
   "metadata": {
    "collapsed": true,
    "deletable": true,
    "editable": true
   },
   "outputs": [],
   "source": [
    "# to enlarge the sizes\n",
    "params = {'legend.fontsize': 'x-large',\n",
    "          'figure.figsize': (8, 8),\n",
    "         'axes.labelsize': 'x-large',\n",
    "         'axes.titlesize':'x-large',\n",
    "         'xtick.labelsize':'x-large',\n",
    "         'ytick.labelsize':'x-large'}\n",
    "plt.rcParams.update(params)"
   ]
  },
  {
   "cell_type": "markdown",
   "metadata": {
    "deletable": true,
    "editable": true
   },
   "source": [
    "### Import Augustin Guyonnet overscan & trimming package"
   ]
  },
  {
   "cell_type": "code",
   "execution_count": 4,
   "metadata": {
    "collapsed": true,
    "deletable": true,
    "editable": true
   },
   "outputs": [],
   "source": [
    "import overscan_subtract_andTrim as ovsubtrim"
   ]
  },
  {
   "cell_type": "markdown",
   "metadata": {
    "deletable": true,
    "editable": true
   },
   "source": [
    "### Path for raw images"
   ]
  },
  {
   "cell_type": "code",
   "execution_count": 5,
   "metadata": {
    "collapsed": true,
    "deletable": true,
    "editable": true
   },
   "outputs": [],
   "source": [
    "#rootpath_rawimage='/Users/dagoret-campagnesylvie/MacOsX/LSST/MyWork/GitHub/CTIOData2017/2017_01_17/092_195'\n",
    "rootpath_rawimage='/Users/dagoret-campagnesylvie/MacOsX/LSST/MyWork/GitHub/CTIODataJune2017/data_26may17'"
   ]
  },
  {
   "cell_type": "code",
   "execution_count": 6,
   "metadata": {
    "collapsed": true,
    "deletable": true,
    "editable": true
   },
   "outputs": [],
   "source": [
    "filelist_all=os.listdir(rootpath_rawimage) "
   ]
  },
  {
   "cell_type": "code",
   "execution_count": 7,
   "metadata": {
    "collapsed": false,
    "deletable": true,
    "editable": true
   },
   "outputs": [
    {
     "data": {
      "text/plain": [
       "['._20170517_clouds2.mov',\n",
       " '._20170527_clouds1.mov',\n",
       " '20170526_001.fits',\n",
       " '20170526_002.fits',\n",
       " '20170526_003.fits']"
      ]
     },
     "execution_count": 7,
     "metadata": {},
     "output_type": "execute_result"
    }
   ],
   "source": [
    "filelist_all[:5]"
   ]
  },
  {
   "cell_type": "markdown",
   "metadata": {
    "deletable": true,
    "editable": true
   },
   "source": [
    "### select raw images only\n",
    "\n",
    "- filename start with **fileno**\n",
    "- filename stop with **fits** "
   ]
  },
  {
   "cell_type": "code",
   "execution_count": 8,
   "metadata": {
    "collapsed": false,
    "deletable": true,
    "editable": true
   },
   "outputs": [],
   "source": [
    "filelist_fitsimages= []\n",
    "for filename in filelist_all:\n",
    "    if re.search('^2017.*.fits$',filename):  #example of filename filter\n",
    "        filelist_fitsimages.append(filename)"
   ]
  },
  {
   "cell_type": "code",
   "execution_count": 9,
   "metadata": {
    "collapsed": false,
    "deletable": true,
    "editable": true
   },
   "outputs": [
    {
     "data": {
      "text/plain": [
       "['20170526_001.fits',\n",
       " '20170526_002.fits',\n",
       " '20170526_003.fits',\n",
       " '20170526_004.fits',\n",
       " '20170526_005.fits']"
      ]
     },
     "execution_count": 9,
     "metadata": {},
     "output_type": "execute_result"
    }
   ],
   "source": [
    "filelist_fitsimages[:5]"
   ]
  },
  {
   "cell_type": "markdown",
   "metadata": {
    "deletable": true,
    "editable": true
   },
   "source": [
    "### outputdir"
   ]
  },
  {
   "cell_type": "code",
   "execution_count": 10,
   "metadata": {
    "collapsed": true,
    "deletable": true,
    "editable": true
   },
   "outputs": [],
   "source": [
    "############################################################################\n",
    "def ensure_dir(f):\n",
    "    d = os.path.dirname(f)\n",
    "    if not os.path.exists(f):\n",
    "        os.makedirs(f)\n",
    "#########################################################################"
   ]
  },
  {
   "cell_type": "code",
   "execution_count": 11,
   "metadata": {
    "collapsed": true,
    "deletable": true,
    "editable": true
   },
   "outputs": [],
   "source": [
    "outputdir=\"./trim_images\""
   ]
  },
  {
   "cell_type": "code",
   "execution_count": 12,
   "metadata": {
    "collapsed": false,
    "deletable": true,
    "editable": true
   },
   "outputs": [],
   "source": [
    "ensure_dir(outputdir)"
   ]
  },
  {
   "cell_type": "markdown",
   "metadata": {
    "deletable": true,
    "editable": true
   },
   "source": [
    "### Do the overscan and the subtraction and the trimming"
   ]
  },
  {
   "cell_type": "code",
   "execution_count": 13,
   "metadata": {
    "collapsed": false,
    "deletable": true,
    "editable": true
   },
   "outputs": [
    {
     "name": "stdout",
     "output_type": "stream",
     "text": [
      "20170526_001.fits\n"
     ]
    },
    {
     "name": "stderr",
     "output_type": "stream",
     "text": [
      "WARNING: AstropyDeprecationWarning: \"clobber\" was deprecated in version 1.3 and will be removed in a future version. Use argument \"overwrite\" instead. [astropy.utils.decorators]\n",
      "WARNING:astropy:AstropyDeprecationWarning: \"clobber\" was deprecated in version 1.3 and will be removed in a future version. Use argument \"overwrite\" instead.\n"
     ]
    },
    {
     "name": "stdout",
     "output_type": "stream",
     "text": [
      "20170526_002.fits\n",
      "20170526_003.fits\n",
      "20170526_004.fits\n",
      "20170526_005.fits\n",
      "20170526_006.fits\n",
      "20170526_007.fits\n",
      "20170526_008.fits\n",
      "20170526_009.fits\n",
      "20170526_010.fits\n",
      "20170526_011.fits\n",
      "20170526_012.fits\n",
      "20170526_013.fits\n",
      "20170526_015.fits\n",
      "20170526_016.fits\n",
      "20170526_017.fits\n",
      "20170526_018.fits\n",
      "20170526_019.fits\n",
      "20170526_020.fits\n",
      "20170526_021.fits\n",
      "20170526_022.fits\n",
      "20170526_023.fits\n",
      "20170526_024.fits\n",
      "20170526_025.fits\n",
      "20170526_026.fits\n",
      "20170526_027.fits\n",
      "20170526_028.fits\n",
      "20170526_030.fits\n",
      "20170526_031.fits\n",
      "20170526_032.fits\n",
      "20170526_033.fits\n",
      "20170526_034.fits\n",
      "20170526_035.fits\n",
      "20170526_036.fits\n",
      "20170526_037.fits\n",
      "20170526_038.fits\n",
      "20170526_039.fits\n",
      "20170526_040.fits\n",
      "20170526_041.fits\n",
      "20170526_042.fits\n",
      "20170526_043.fits\n",
      "20170526_044.fits\n",
      "20170526_045.fits\n",
      "20170526_046.fits\n",
      "20170526_047.fits\n",
      "20170526_048.fits\n",
      "20170526_049.fits\n",
      "20170526_050.fits\n",
      "20170526_051.fits\n",
      "20170526_052.fits\n",
      "20170526_053.fits\n",
      "20170526_054.fits\n",
      "20170526_055.fits\n",
      "20170526_056.fits\n",
      "20170526_057.fits\n",
      "20170526_058.fits\n",
      "20170526_059.fits\n",
      "20170526_060.fits\n",
      "20170526_061.fits\n",
      "20170526_062.fits\n",
      "20170526_063.fits\n",
      "20170526_065.fits\n",
      "20170526_066.fits\n"
     ]
    }
   ],
   "source": [
    "for file in filelist_fitsimages:\n",
    "    print file\n",
    "    fullfilename=os.path.join(rootpath_rawimage,file)\n",
    "    ovsubtrim.Do_overscan_subtract_andTrim(fullfilename)"
   ]
  },
  {
   "cell_type": "markdown",
   "metadata": {
    "collapsed": false,
    "deletable": true,
    "editable": true
   },
   "source": [
    "## Now in shell do mv trim_*.fits ${outputdir}/."
   ]
  },
  {
   "cell_type": "code",
   "execution_count": 14,
   "metadata": {
    "collapsed": false,
    "deletable": true,
    "editable": true
   },
   "outputs": [
    {
     "name": "stdout",
     "output_type": "stream",
     "text": [
      "OverscanAllImages.ipynb       trim_20170526_031.fits\r\n",
      "compute.py                    trim_20170526_032.fits\r\n",
      "header.py                     trim_20170526_033.fits\r\n",
      "overscan_subtract_andTrim.py  trim_20170526_034.fits\r\n",
      "overscan_subtract_andTrim.pyc trim_20170526_035.fits\r\n",
      "skylev.py                     trim_20170526_036.fits\r\n",
      "telinst.py                    trim_20170526_037.fits\r\n",
      "telinst.pyc                   trim_20170526_038.fits\r\n",
      "trim_20170526_001.fits        trim_20170526_039.fits\r\n",
      "trim_20170526_002.fits        trim_20170526_040.fits\r\n",
      "trim_20170526_003.fits        trim_20170526_041.fits\r\n",
      "trim_20170526_004.fits        trim_20170526_042.fits\r\n",
      "trim_20170526_005.fits        trim_20170526_043.fits\r\n",
      "trim_20170526_006.fits        trim_20170526_044.fits\r\n",
      "trim_20170526_007.fits        trim_20170526_045.fits\r\n",
      "trim_20170526_008.fits        trim_20170526_046.fits\r\n",
      "trim_20170526_009.fits        trim_20170526_047.fits\r\n",
      "trim_20170526_010.fits        trim_20170526_048.fits\r\n",
      "trim_20170526_011.fits        trim_20170526_049.fits\r\n",
      "trim_20170526_012.fits        trim_20170526_050.fits\r\n",
      "trim_20170526_013.fits        trim_20170526_051.fits\r\n",
      "trim_20170526_015.fits        trim_20170526_052.fits\r\n",
      "trim_20170526_016.fits        trim_20170526_053.fits\r\n",
      "trim_20170526_017.fits        trim_20170526_054.fits\r\n",
      "trim_20170526_018.fits        trim_20170526_055.fits\r\n",
      "trim_20170526_019.fits        trim_20170526_056.fits\r\n",
      "trim_20170526_020.fits        trim_20170526_057.fits\r\n",
      "trim_20170526_021.fits        trim_20170526_058.fits\r\n",
      "trim_20170526_022.fits        trim_20170526_059.fits\r\n",
      "trim_20170526_023.fits        trim_20170526_060.fits\r\n",
      "trim_20170526_024.fits        trim_20170526_061.fits\r\n",
      "trim_20170526_025.fits        trim_20170526_062.fits\r\n",
      "trim_20170526_026.fits        trim_20170526_063.fits\r\n",
      "trim_20170526_027.fits        trim_20170526_065.fits\r\n",
      "trim_20170526_028.fits        trim_20170526_066.fits\r\n",
      "trim_20170526_030.fits        \u001b[34mtrim_images\u001b[m\u001b[m\r\n"
     ]
    }
   ],
   "source": [
    "!ls\n"
   ]
  },
  {
   "cell_type": "code",
   "execution_count": 15,
   "metadata": {
    "collapsed": true,
    "deletable": true,
    "editable": true
   },
   "outputs": [],
   "source": [
    "! mv *.fits trim_images/."
   ]
  },
  {
   "cell_type": "code",
   "execution_count": 16,
   "metadata": {
    "collapsed": false,
    "deletable": true,
    "editable": true
   },
   "outputs": [
    {
     "name": "stdout",
     "output_type": "stream",
     "text": [
      "OverscanAllImages.ipynb       skylev.py\r\n",
      "compute.py                    telinst.py\r\n",
      "header.py                     telinst.pyc\r\n",
      "overscan_subtract_andTrim.py  \u001b[34mtrim_images\u001b[m\u001b[m\r\n",
      "overscan_subtract_andTrim.pyc\r\n"
     ]
    }
   ],
   "source": [
    "!ls"
   ]
  },
  {
   "cell_type": "code",
   "execution_count": 17,
   "metadata": {
    "collapsed": false,
    "deletable": true,
    "editable": true
   },
   "outputs": [
    {
     "name": "stdout",
     "output_type": "stream",
     "text": [
      "trim_20170526_001.fits trim_20170528_016.fits trim_20170528_094.fits\r\n",
      "trim_20170526_002.fits trim_20170528_017.fits trim_20170528_095.fits\r\n",
      "trim_20170526_003.fits trim_20170528_018.fits trim_20170528_096.fits\r\n",
      "trim_20170526_004.fits trim_20170528_019.fits trim_20170528_097.fits\r\n",
      "trim_20170526_005.fits trim_20170528_020.fits trim_20170528_098.fits\r\n",
      "trim_20170526_006.fits trim_20170528_021.fits trim_20170528_099.fits\r\n",
      "trim_20170526_007.fits trim_20170528_022.fits trim_20170528_100.fits\r\n",
      "trim_20170526_008.fits trim_20170528_023.fits trim_20170528_101.fits\r\n",
      "trim_20170526_009.fits trim_20170528_024.fits trim_20170528_102.fits\r\n",
      "trim_20170526_010.fits trim_20170528_025.fits trim_20170528_103.fits\r\n",
      "trim_20170526_011.fits trim_20170528_026.fits trim_20170528_104.fits\r\n",
      "trim_20170526_012.fits trim_20170528_027.fits trim_20170528_105.fits\r\n",
      "trim_20170526_013.fits trim_20170528_029.fits trim_20170528_106.fits\r\n",
      "trim_20170526_015.fits trim_20170528_030.fits trim_20170528_107.fits\r\n",
      "trim_20170526_016.fits trim_20170528_031.fits trim_20170528_108.fits\r\n",
      "trim_20170526_017.fits trim_20170528_032.fits trim_20170528_109.fits\r\n",
      "trim_20170526_018.fits trim_20170528_033.fits trim_20170528_110.fits\r\n",
      "trim_20170526_019.fits trim_20170528_034.fits trim_20170528_111.fits\r\n",
      "trim_20170526_020.fits trim_20170528_035.fits trim_20170528_112.fits\r\n",
      "trim_20170526_021.fits trim_20170528_036.fits trim_20170528_113.fits\r\n",
      "trim_20170526_022.fits trim_20170528_037.fits trim_20170528_114.fits\r\n",
      "trim_20170526_023.fits trim_20170528_038.fits trim_20170528_115.fits\r\n",
      "trim_20170526_024.fits trim_20170528_039.fits trim_20170528_116.fits\r\n",
      "trim_20170526_025.fits trim_20170528_040.fits trim_20170528_117.fits\r\n",
      "trim_20170526_026.fits trim_20170528_041.fits trim_20170528_118.fits\r\n",
      "trim_20170526_027.fits trim_20170528_042.fits trim_20170528_119.fits\r\n",
      "trim_20170526_028.fits trim_20170528_043.fits trim_20170528_120.fits\r\n",
      "trim_20170526_030.fits trim_20170528_044.fits trim_20170528_121.fits\r\n",
      "trim_20170526_031.fits trim_20170528_045.fits trim_20170528_122.fits\r\n",
      "trim_20170526_032.fits trim_20170528_046.fits trim_20170528_123.fits\r\n",
      "trim_20170526_033.fits trim_20170528_047.fits trim_20170528_124.fits\r\n",
      "trim_20170526_034.fits trim_20170528_048.fits trim_20170528_125.fits\r\n",
      "trim_20170526_035.fits trim_20170528_049.fits trim_20170528_126.fits\r\n",
      "trim_20170526_036.fits trim_20170528_050.fits trim_20170528_127.fits\r\n",
      "trim_20170526_037.fits trim_20170528_051.fits trim_20170528_128.fits\r\n",
      "trim_20170526_038.fits trim_20170528_052.fits trim_20170528_129.fits\r\n",
      "trim_20170526_039.fits trim_20170528_053.fits trim_20170528_130.fits\r\n",
      "trim_20170526_040.fits trim_20170528_054.fits trim_20170528_131.fits\r\n",
      "trim_20170526_041.fits trim_20170528_055.fits trim_20170528_132.fits\r\n",
      "trim_20170526_042.fits trim_20170528_056.fits trim_20170528_133.fits\r\n",
      "trim_20170526_043.fits trim_20170528_057.fits trim_20170528_134.fits\r\n",
      "trim_20170526_044.fits trim_20170528_058.fits trim_20170528_135.fits\r\n",
      "trim_20170526_045.fits trim_20170528_059.fits trim_20170528_136.fits\r\n",
      "trim_20170526_046.fits trim_20170528_060.fits trim_20170528_137.fits\r\n",
      "trim_20170526_047.fits trim_20170528_061.fits trim_20170528_138.fits\r\n",
      "trim_20170526_048.fits trim_20170528_062.fits trim_20170528_139.fits\r\n",
      "trim_20170526_049.fits trim_20170528_063.fits trim_20170528_140.fits\r\n",
      "trim_20170526_050.fits trim_20170528_064.fits trim_20170528_141.fits\r\n",
      "trim_20170526_051.fits trim_20170528_065.fits trim_20170528_142.fits\r\n",
      "trim_20170526_052.fits trim_20170528_066.fits trim_20170528_143.fits\r\n",
      "trim_20170526_053.fits trim_20170528_067.fits trim_20170528_144.fits\r\n",
      "trim_20170526_054.fits trim_20170528_068.fits trim_20170528_145.fits\r\n",
      "trim_20170526_055.fits trim_20170528_069.fits trim_20170528_146.fits\r\n",
      "trim_20170526_056.fits trim_20170528_070.fits trim_20170528_147.fits\r\n",
      "trim_20170526_057.fits trim_20170528_071.fits trim_20170528_148.fits\r\n",
      "trim_20170526_058.fits trim_20170528_072.fits trim_20170528_149.fits\r\n",
      "trim_20170526_059.fits trim_20170528_073.fits trim_20170528_150.fits\r\n",
      "trim_20170526_060.fits trim_20170528_074.fits trim_20170528_151.fits\r\n",
      "trim_20170526_061.fits trim_20170528_075.fits trim_20170528_152.fits\r\n",
      "trim_20170526_062.fits trim_20170528_076.fits trim_20170528_153.fits\r\n",
      "trim_20170526_063.fits trim_20170528_077.fits trim_20170528_154.fits\r\n",
      "trim_20170526_065.fits trim_20170528_078.fits trim_20170528_155.fits\r\n",
      "trim_20170526_066.fits trim_20170528_079.fits trim_20170528_156.fits\r\n",
      "trim_20170528_001.fits trim_20170528_080.fits trim_20170528_157.fits\r\n",
      "trim_20170528_002.fits trim_20170528_081.fits trim_20170528_158.fits\r\n",
      "trim_20170528_004.fits trim_20170528_082.fits trim_20170528_159.fits\r\n",
      "trim_20170528_005.fits trim_20170528_083.fits trim_20170528_160.fits\r\n",
      "trim_20170528_006.fits trim_20170528_084.fits trim_20170528_161.fits\r\n",
      "trim_20170528_007.fits trim_20170528_085.fits trim_20170528_162.fits\r\n",
      "trim_20170528_008.fits trim_20170528_086.fits trim_20170528_163.fits\r\n",
      "trim_20170528_009.fits trim_20170528_087.fits trim_20170528_164.fits\r\n",
      "trim_20170528_010.fits trim_20170528_088.fits trim_20170528_165.fits\r\n",
      "trim_20170528_011.fits trim_20170528_089.fits trim_20170528_166.fits\r\n",
      "trim_20170528_012.fits trim_20170528_090.fits trim_20170528_167.fits\r\n",
      "trim_20170528_013.fits trim_20170528_091.fits trim_20170528_168.fits\r\n",
      "trim_20170528_014.fits trim_20170528_092.fits trim_20170528_169.fits\r\n",
      "trim_20170528_015.fits trim_20170528_093.fits trim_20170528_170.fits\r\n"
     ]
    }
   ],
   "source": [
    "!ls trim_images"
   ]
  },
  {
   "cell_type": "code",
   "execution_count": null,
   "metadata": {
    "collapsed": true,
    "deletable": true,
    "editable": true
   },
   "outputs": [],
   "source": []
  }
 ],
 "metadata": {
  "anaconda-cloud": {},
  "kernelspec": {
   "display_name": "Python [conda env:pyastrophys]",
   "language": "python",
   "name": "conda-env-pyastrophys-py"
  },
  "language_info": {
   "codemirror_mode": {
    "name": "ipython",
    "version": 2
   },
   "file_extension": ".py",
   "mimetype": "text/x-python",
   "name": "python",
   "nbconvert_exporter": "python",
   "pygments_lexer": "ipython2",
   "version": "2.7.12"
  },
  "toc": {
   "colors": {
    "hover_highlight": "#DAA520",
    "running_highlight": "#FF0000",
    "selected_highlight": "#FFD700"
   },
   "moveMenuLeft": true,
   "nav_menu": {
    "height": "153px",
    "width": "252px"
   },
   "navigate_menu": true,
   "number_sections": true,
   "sideBar": true,
   "threshold": 4,
   "toc_cell": false,
   "toc_section_display": "block",
   "toc_window_display": false,
   "widenNotebook": false
  }
 },
 "nbformat": 4,
 "nbformat_minor": 0
}
