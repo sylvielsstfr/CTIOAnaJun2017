{
 "cells": [
  {
   "cell_type": "markdown",
   "metadata": {
    "deletable": true,
    "editable": true
   },
   "source": [
    "# Make Logbook of Trim images of CTIO Data\n",
    "==================================================================================================\n",
    "\n",
    "- author : Sylvie Dagoret-Campagne\n",
    "- affiliation : LAL/IN2P3/CNRS, France\n",
    "- date   : Juin 16 2016\n"
   ]
  },
  {
   "cell_type": "code",
   "execution_count": 3,
   "metadata": {
    "collapsed": false,
    "deletable": true,
    "editable": true
   },
   "outputs": [
    {
     "data": {
      "application/javascript": [
       "var kernel = IPython.notebook.kernel;\n",
       "var thename = window.document.getElementById(\"notebook_name\").innerHTML;\n",
       "var command = \"theNotebook = \" + \"'\"+thename+\"'\";\n",
       "kernel.execute(command);"
      ],
      "text/plain": [
       "<IPython.core.display.Javascript object>"
      ]
     },
     "metadata": {},
     "output_type": "display_data"
    }
   ],
   "source": [
    "%%javascript\n",
    "var kernel = IPython.notebook.kernel;\n",
    "var thename = window.document.getElementById(\"notebook_name\").innerHTML;\n",
    "var command = \"theNotebook = \" + \"'\"+thename+\"'\";\n",
    "kernel.execute(command);"
   ]
  },
  {
   "cell_type": "code",
   "execution_count": 4,
   "metadata": {
    "collapsed": false,
    "deletable": true,
    "editable": true
   },
   "outputs": [
    {
     "name": "stdout",
     "output_type": "stream",
     "text": [
      "MakeLogBook\n"
     ]
    }
   ],
   "source": [
    "print(theNotebook)"
   ]
  },
  {
   "cell_type": "code",
   "execution_count": 5,
   "metadata": {
    "collapsed": false,
    "deletable": true,
    "editable": true
   },
   "outputs": [],
   "source": [
    "%matplotlib inline\n",
    "import matplotlib.pyplot as plt\n",
    "import numpy as np\n",
    "\n",
    "from astropy.modeling import models\n",
    "from astropy import units as u\n",
    "from astropy import nddata\n",
    "from astropy.io import fits\n",
    "from astropy.table import Table, Column\n",
    "import re\n",
    "import os"
   ]
  },
  {
   "cell_type": "code",
   "execution_count": 6,
   "metadata": {
    "collapsed": true,
    "deletable": true,
    "editable": true
   },
   "outputs": [],
   "source": [
    "import pandas as pd"
   ]
  },
  {
   "cell_type": "code",
   "execution_count": 7,
   "metadata": {
    "collapsed": false,
    "deletable": true,
    "editable": true
   },
   "outputs": [],
   "source": [
    "# to enlarge the sizes\n",
    "params = {'legend.fontsize': 'x-large',\n",
    "          'figure.figsize': (8, 8),\n",
    "         'axes.labelsize': 'x-large',\n",
    "         'axes.titlesize':'x-large',\n",
    "         'xtick.labelsize':'x-large',\n",
    "         'ytick.labelsize':'x-large'}\n",
    "plt.rcParams.update(params)"
   ]
  },
  {
   "cell_type": "markdown",
   "metadata": {
    "deletable": true,
    "editable": true
   },
   "source": [
    "## Location of trim images\n",
    "----------------------------------"
   ]
  },
  {
   "cell_type": "code",
   "execution_count": null,
   "metadata": {
    "collapsed": false,
    "deletable": true,
    "editable": true
   },
   "outputs": [],
   "source": []
  },
  {
   "cell_type": "code",
   "execution_count": null,
   "metadata": {
    "collapsed": true,
    "deletable": true,
    "editable": true
   },
   "outputs": [],
   "source": []
  },
  {
   "cell_type": "code",
   "execution_count": 43,
   "metadata": {
    "collapsed": true,
    "deletable": true,
    "editable": true
   },
   "outputs": [],
   "source": [
    "rootpath_rawimage=\"../OverScanRemove/trim_images\"\n",
    "MIN_IMGNUMBER=60\n",
    "MAX_IMGNUMBER=160\n",
    "object_name='HD205905_June_01th17'\n",
    "SelectTagRe='^trim_20170601_([0-9]+).fits$' # regular expression to select the file\n",
    "SearchTagRe='^trim_20170601_[0-9]+.fits$'\n",
    "NBIMGPERLROW=4"
   ]
  },
  {
   "cell_type": "code",
   "execution_count": 9,
   "metadata": {
    "collapsed": true,
    "deletable": true,
    "editable": true
   },
   "outputs": [],
   "source": [
    "#rootpath_rawimage=\"/Users/dagoret-campagnesylvie/MacOsX/LSST/MyWork/GitHub/CTIOData2016/November2016/mucol\"\n",
    "#object_name='mucol'\n",
    "infos='ctio01jun2017'"
   ]
  },
  {
   "cell_type": "code",
   "execution_count": 10,
   "metadata": {
    "collapsed": false,
    "deletable": true,
    "editable": true
   },
   "outputs": [],
   "source": [
    "logfile='logbk_'+object_name+'_'+infos+'.fits'\n",
    "pandaslogfile='logbk_'+object_name+'_'+infos+'.csv'"
   ]
  },
  {
   "cell_type": "code",
   "execution_count": 11,
   "metadata": {
    "collapsed": true,
    "deletable": true,
    "editable": true
   },
   "outputs": [],
   "source": [
    "dirlist=[]\n",
    "dirlist.append(rootpath_rawimage)\n",
    "dirlist_all=np.array(dirlist)"
   ]
  },
  {
   "cell_type": "code",
   "execution_count": 12,
   "metadata": {
    "collapsed": false,
    "deletable": true,
    "editable": true
   },
   "outputs": [],
   "source": [
    "filelist_all=os.listdir(rootpath_rawimage) "
   ]
  },
  {
   "cell_type": "code",
   "execution_count": 13,
   "metadata": {
    "collapsed": false,
    "deletable": true,
    "editable": true
   },
   "outputs": [
    {
     "data": {
      "text/plain": [
       "['trim_20170601_006.fits',\n",
       " 'trim_20170601_007.fits',\n",
       " 'trim_20170601_008.fits',\n",
       " 'trim_20170601_009.fits',\n",
       " 'trim_20170601_010.fits',\n",
       " 'trim_20170601_015.fits',\n",
       " 'trim_20170601_016.fits',\n",
       " 'trim_20170601_017.fits',\n",
       " 'trim_20170601_018.fits',\n",
       " 'trim_20170601_019.fits',\n",
       " 'trim_20170601_020.fits',\n",
       " 'trim_20170601_021.fits',\n",
       " 'trim_20170601_022.fits',\n",
       " 'trim_20170601_023.fits',\n",
       " 'trim_20170601_024.fits',\n",
       " 'trim_20170601_025.fits',\n",
       " 'trim_20170601_026.fits',\n",
       " 'trim_20170601_027.fits',\n",
       " 'trim_20170601_028.fits',\n",
       " 'trim_20170601_029.fits',\n",
       " 'trim_20170601_030.fits',\n",
       " 'trim_20170601_031.fits',\n",
       " 'trim_20170601_032.fits',\n",
       " 'trim_20170601_033.fits',\n",
       " 'trim_20170601_034.fits',\n",
       " 'trim_20170601_035.fits',\n",
       " 'trim_20170601_036.fits',\n",
       " 'trim_20170601_037.fits',\n",
       " 'trim_20170601_038.fits',\n",
       " 'trim_20170601_039.fits',\n",
       " 'trim_20170601_042.fits',\n",
       " 'trim_20170601_043.fits',\n",
       " 'trim_20170601_044.fits',\n",
       " 'trim_20170601_045.fits',\n",
       " 'trim_20170601_046.fits',\n",
       " 'trim_20170601_047.fits',\n",
       " 'trim_20170601_048.fits',\n",
       " 'trim_20170601_049.fits',\n",
       " 'trim_20170601_050.fits',\n",
       " 'trim_20170601_051.fits',\n",
       " 'trim_20170601_052.fits',\n",
       " 'trim_20170601_053.fits',\n",
       " 'trim_20170601_054.fits',\n",
       " 'trim_20170601_055.fits',\n",
       " 'trim_20170601_056.fits',\n",
       " 'trim_20170601_057.fits',\n",
       " 'trim_20170601_058.fits',\n",
       " 'trim_20170601_059.fits',\n",
       " 'trim_20170601_060.fits',\n",
       " 'trim_20170601_061.fits',\n",
       " 'trim_20170601_062.fits',\n",
       " 'trim_20170601_063.fits',\n",
       " 'trim_20170601_064.fits',\n",
       " 'trim_20170601_065.fits',\n",
       " 'trim_20170601_066.fits',\n",
       " 'trim_20170601_067.fits',\n",
       " 'trim_20170601_068.fits',\n",
       " 'trim_20170601_069.fits',\n",
       " 'trim_20170601_070.fits',\n",
       " 'trim_20170601_071.fits',\n",
       " 'trim_20170601_072.fits',\n",
       " 'trim_20170601_073.fits',\n",
       " 'trim_20170601_074.fits',\n",
       " 'trim_20170601_075.fits',\n",
       " 'trim_20170601_076.fits',\n",
       " 'trim_20170601_077.fits',\n",
       " 'trim_20170601_078.fits',\n",
       " 'trim_20170601_079.fits',\n",
       " 'trim_20170601_080.fits',\n",
       " 'trim_20170601_081.fits',\n",
       " 'trim_20170601_082.fits',\n",
       " 'trim_20170601_083.fits',\n",
       " 'trim_20170601_084.fits',\n",
       " 'trim_20170601_085.fits',\n",
       " 'trim_20170601_086.fits',\n",
       " 'trim_20170601_087.fits',\n",
       " 'trim_20170601_088.fits',\n",
       " 'trim_20170601_089.fits',\n",
       " 'trim_20170601_090.fits',\n",
       " 'trim_20170601_091.fits',\n",
       " 'trim_20170601_092.fits',\n",
       " 'trim_20170601_093.fits',\n",
       " 'trim_20170601_094.fits',\n",
       " 'trim_20170601_095.fits',\n",
       " 'trim_20170601_096.fits',\n",
       " 'trim_20170601_097.fits',\n",
       " 'trim_20170601_098.fits',\n",
       " 'trim_20170601_099.fits',\n",
       " 'trim_20170601_100.fits',\n",
       " 'trim_20170601_101.fits',\n",
       " 'trim_20170601_102.fits',\n",
       " 'trim_20170601_103.fits',\n",
       " 'trim_20170601_104.fits',\n",
       " 'trim_20170601_105.fits',\n",
       " 'trim_20170601_106.fits',\n",
       " 'trim_20170601_107.fits',\n",
       " 'trim_20170601_108.fits',\n",
       " 'trim_20170601_109.fits',\n",
       " 'trim_20170601_110.fits',\n",
       " 'trim_20170601_111.fits',\n",
       " 'trim_20170601_112.fits',\n",
       " 'trim_20170601_113.fits',\n",
       " 'trim_20170601_114.fits',\n",
       " 'trim_20170601_115.fits',\n",
       " 'trim_20170601_116.fits',\n",
       " 'trim_20170601_117.fits',\n",
       " 'trim_20170601_118.fits',\n",
       " 'trim_20170601_119.fits',\n",
       " 'trim_20170601_120.fits',\n",
       " 'trim_20170601_121.fits',\n",
       " 'trim_20170601_122.fits',\n",
       " 'trim_20170601_123.fits',\n",
       " 'trim_20170601_124.fits',\n",
       " 'trim_20170601_125.fits',\n",
       " 'trim_20170601_126.fits',\n",
       " 'trim_20170601_127.fits',\n",
       " 'trim_20170601_128.fits',\n",
       " 'trim_20170601_129.fits',\n",
       " 'trim_20170601_130.fits',\n",
       " 'trim_20170601_131.fits',\n",
       " 'trim_20170601_132.fits',\n",
       " 'trim_20170601_133.fits',\n",
       " 'trim_20170601_134.fits',\n",
       " 'trim_20170601_135.fits',\n",
       " 'trim_20170601_136.fits',\n",
       " 'trim_20170601_137.fits',\n",
       " 'trim_20170601_138.fits',\n",
       " 'trim_20170601_139.fits',\n",
       " 'trim_20170601_140.fits',\n",
       " 'trim_20170601_141.fits',\n",
       " 'trim_20170601_142.fits',\n",
       " 'trim_20170601_143.fits',\n",
       " 'trim_20170601_144.fits',\n",
       " 'trim_20170601_145.fits',\n",
       " 'trim_20170601_146.fits',\n",
       " 'trim_20170601_147.fits',\n",
       " 'trim_20170601_148.fits',\n",
       " 'trim_20170601_149.fits',\n",
       " 'trim_20170601_150.fits',\n",
       " 'trim_20170601_151.fits',\n",
       " 'trim_20170601_152.fits',\n",
       " 'trim_20170601_153.fits',\n",
       " 'trim_20170601_154.fits',\n",
       " 'trim_20170601_155.fits',\n",
       " 'trim_20170601_156.fits',\n",
       " 'trim_20170601_157.fits',\n",
       " 'trim_20170601_158.fits',\n",
       " 'trim_20170601_159.fits',\n",
       " 'trim_20170601_160.fits']"
      ]
     },
     "execution_count": 13,
     "metadata": {},
     "output_type": "execute_result"
    }
   ],
   "source": [
    "#dirlist_all.remove('.DS_Store') # reove that file in a mAC\n",
    "filelist_all"
   ]
  },
  {
   "cell_type": "code",
   "execution_count": 14,
   "metadata": {
    "collapsed": true,
    "deletable": true,
    "editable": true
   },
   "outputs": [],
   "source": [
    "indexes_files= [] # global list\n",
    "filelist_fitsimages= []  # global list"
   ]
  },
  {
   "cell_type": "code",
   "execution_count": 15,
   "metadata": {
    "collapsed": false,
    "deletable": true,
    "editable": true
   },
   "outputs": [],
   "source": [
    "def MakeFileList():\n",
    "    \"\"\"\n",
    "    MakeFileList : Make The List of files to open\n",
    "    =============\n",
    "    \n",
    "    - we select the files which are of interest.\n",
    "    - In particular select the number range\n",
    "    \n",
    "    \"\"\"\n",
    "    count=0\n",
    "    \n",
    "    for dir in dirlist_all: # loop on directories, one per image   (if necessary)    \n",
    "            dir_leaf= dir # build the name of leaf directory\n",
    "            listfiles=os.listdir(dir_leaf) \n",
    "            for filename in listfiles:\n",
    "                if re.search(SearchTagRe,filename):  #example of filename filter\n",
    "                    str_index=re.findall(SelectTagRe,filename)\n",
    "                    count=count+1\n",
    "                    index=int(str_index[0])\n",
    "                    if index >= MIN_IMGNUMBER and index <= MAX_IMGNUMBER: \n",
    "                        indexes_files.append(index)         \n",
    "                        shortfilename=dir_leaf+'/'+filename\n",
    "                        filelist_fitsimages.append(shortfilename)\n",
    "                    \n",
    "    return"
   ]
  },
  {
   "cell_type": "code",
   "execution_count": 16,
   "metadata": {
    "collapsed": false,
    "deletable": true,
    "editable": true
   },
   "outputs": [],
   "source": [
    "MakeFileList()   # Make the list"
   ]
  },
  {
   "cell_type": "code",
   "execution_count": 17,
   "metadata": {
    "collapsed": true,
    "deletable": true,
    "editable": true
   },
   "outputs": [],
   "source": [
    "indexes_files=np.array(indexes_files)\n",
    "filelist_fitsimages=np.array(filelist_fitsimages)"
   ]
  },
  {
   "cell_type": "code",
   "execution_count": 18,
   "metadata": {
    "collapsed": false,
    "deletable": true,
    "editable": true
   },
   "outputs": [
    {
     "data": {
      "text/plain": [
       "array([ 60,  61,  62,  63,  64,  65,  66,  67,  68,  69,  70,  71,  72,\n",
       "        73,  74,  75,  76,  77,  78,  79,  80,  81,  82,  83,  84,  85,\n",
       "        86,  87,  88,  89,  90,  91,  92,  93,  94,  95,  96,  97,  98,\n",
       "        99, 100, 101, 102, 103, 104, 105, 106, 107, 108, 109, 110, 111,\n",
       "       112, 113, 114, 115, 116, 117, 118, 119, 120, 121, 122, 123, 124,\n",
       "       125, 126, 127, 128, 129, 130, 131, 132, 133, 134, 135, 136, 137,\n",
       "       138, 139, 140, 141, 142, 143, 144, 145, 146, 147, 148, 149, 150,\n",
       "       151, 152, 153, 154, 155, 156, 157, 158, 159, 160])"
      ]
     },
     "execution_count": 18,
     "metadata": {},
     "output_type": "execute_result"
    }
   ],
   "source": [
    "indexes_files"
   ]
  },
  {
   "cell_type": "code",
   "execution_count": 19,
   "metadata": {
    "collapsed": true,
    "deletable": true,
    "editable": true
   },
   "outputs": [],
   "source": [
    "sorted_indexes=np.argsort(indexes_files) # sort the file indexes"
   ]
  },
  {
   "cell_type": "code",
   "execution_count": 20,
   "metadata": {
    "collapsed": true,
    "deletable": true,
    "editable": true
   },
   "outputs": [],
   "source": [
    "sorted_files=filelist_fitsimages[sorted_indexes]"
   ]
  },
  {
   "cell_type": "code",
   "execution_count": 21,
   "metadata": {
    "collapsed": true,
    "deletable": true,
    "editable": true
   },
   "outputs": [],
   "source": [
    "sorted_numbers=indexes_files[sorted_indexes]"
   ]
  },
  {
   "cell_type": "code",
   "execution_count": 22,
   "metadata": {
    "collapsed": true,
    "deletable": true,
    "editable": true
   },
   "outputs": [],
   "source": [
    "sorted_filenames=[]\n",
    "for file in sorted_files:\n",
    "    #fullfilename=os.path.join(rootpath_rawimage,file)\n",
    "    fullfilename=file\n",
    "    sorted_filenames.append(fullfilename)"
   ]
  },
  {
   "cell_type": "code",
   "execution_count": 23,
   "metadata": {
    "collapsed": true,
    "deletable": true,
    "editable": true
   },
   "outputs": [],
   "source": [
    "sorted_filenames=np.array(sorted_filenames)"
   ]
  },
  {
   "cell_type": "code",
   "execution_count": 24,
   "metadata": {
    "collapsed": false,
    "deletable": true,
    "editable": true
   },
   "outputs": [
    {
     "data": {
      "text/plain": [
       "array(['../OverScanRemove/trim_images/trim_20170601_060.fits',\n",
       "       '../OverScanRemove/trim_images/trim_20170601_061.fits',\n",
       "       '../OverScanRemove/trim_images/trim_20170601_062.fits',\n",
       "       '../OverScanRemove/trim_images/trim_20170601_063.fits',\n",
       "       '../OverScanRemove/trim_images/trim_20170601_064.fits',\n",
       "       '../OverScanRemove/trim_images/trim_20170601_065.fits',\n",
       "       '../OverScanRemove/trim_images/trim_20170601_066.fits',\n",
       "       '../OverScanRemove/trim_images/trim_20170601_067.fits',\n",
       "       '../OverScanRemove/trim_images/trim_20170601_068.fits',\n",
       "       '../OverScanRemove/trim_images/trim_20170601_069.fits',\n",
       "       '../OverScanRemove/trim_images/trim_20170601_070.fits',\n",
       "       '../OverScanRemove/trim_images/trim_20170601_071.fits',\n",
       "       '../OverScanRemove/trim_images/trim_20170601_072.fits',\n",
       "       '../OverScanRemove/trim_images/trim_20170601_073.fits',\n",
       "       '../OverScanRemove/trim_images/trim_20170601_074.fits',\n",
       "       '../OverScanRemove/trim_images/trim_20170601_075.fits',\n",
       "       '../OverScanRemove/trim_images/trim_20170601_076.fits',\n",
       "       '../OverScanRemove/trim_images/trim_20170601_077.fits',\n",
       "       '../OverScanRemove/trim_images/trim_20170601_078.fits',\n",
       "       '../OverScanRemove/trim_images/trim_20170601_079.fits',\n",
       "       '../OverScanRemove/trim_images/trim_20170601_080.fits',\n",
       "       '../OverScanRemove/trim_images/trim_20170601_081.fits',\n",
       "       '../OverScanRemove/trim_images/trim_20170601_082.fits',\n",
       "       '../OverScanRemove/trim_images/trim_20170601_083.fits',\n",
       "       '../OverScanRemove/trim_images/trim_20170601_084.fits',\n",
       "       '../OverScanRemove/trim_images/trim_20170601_085.fits',\n",
       "       '../OverScanRemove/trim_images/trim_20170601_086.fits',\n",
       "       '../OverScanRemove/trim_images/trim_20170601_087.fits',\n",
       "       '../OverScanRemove/trim_images/trim_20170601_088.fits',\n",
       "       '../OverScanRemove/trim_images/trim_20170601_089.fits',\n",
       "       '../OverScanRemove/trim_images/trim_20170601_090.fits',\n",
       "       '../OverScanRemove/trim_images/trim_20170601_091.fits',\n",
       "       '../OverScanRemove/trim_images/trim_20170601_092.fits',\n",
       "       '../OverScanRemove/trim_images/trim_20170601_093.fits',\n",
       "       '../OverScanRemove/trim_images/trim_20170601_094.fits',\n",
       "       '../OverScanRemove/trim_images/trim_20170601_095.fits',\n",
       "       '../OverScanRemove/trim_images/trim_20170601_096.fits',\n",
       "       '../OverScanRemove/trim_images/trim_20170601_097.fits',\n",
       "       '../OverScanRemove/trim_images/trim_20170601_098.fits',\n",
       "       '../OverScanRemove/trim_images/trim_20170601_099.fits',\n",
       "       '../OverScanRemove/trim_images/trim_20170601_100.fits',\n",
       "       '../OverScanRemove/trim_images/trim_20170601_101.fits',\n",
       "       '../OverScanRemove/trim_images/trim_20170601_102.fits',\n",
       "       '../OverScanRemove/trim_images/trim_20170601_103.fits',\n",
       "       '../OverScanRemove/trim_images/trim_20170601_104.fits',\n",
       "       '../OverScanRemove/trim_images/trim_20170601_105.fits',\n",
       "       '../OverScanRemove/trim_images/trim_20170601_106.fits',\n",
       "       '../OverScanRemove/trim_images/trim_20170601_107.fits',\n",
       "       '../OverScanRemove/trim_images/trim_20170601_108.fits',\n",
       "       '../OverScanRemove/trim_images/trim_20170601_109.fits',\n",
       "       '../OverScanRemove/trim_images/trim_20170601_110.fits',\n",
       "       '../OverScanRemove/trim_images/trim_20170601_111.fits',\n",
       "       '../OverScanRemove/trim_images/trim_20170601_112.fits',\n",
       "       '../OverScanRemove/trim_images/trim_20170601_113.fits',\n",
       "       '../OverScanRemove/trim_images/trim_20170601_114.fits',\n",
       "       '../OverScanRemove/trim_images/trim_20170601_115.fits',\n",
       "       '../OverScanRemove/trim_images/trim_20170601_116.fits',\n",
       "       '../OverScanRemove/trim_images/trim_20170601_117.fits',\n",
       "       '../OverScanRemove/trim_images/trim_20170601_118.fits',\n",
       "       '../OverScanRemove/trim_images/trim_20170601_119.fits',\n",
       "       '../OverScanRemove/trim_images/trim_20170601_120.fits',\n",
       "       '../OverScanRemove/trim_images/trim_20170601_121.fits',\n",
       "       '../OverScanRemove/trim_images/trim_20170601_122.fits',\n",
       "       '../OverScanRemove/trim_images/trim_20170601_123.fits',\n",
       "       '../OverScanRemove/trim_images/trim_20170601_124.fits',\n",
       "       '../OverScanRemove/trim_images/trim_20170601_125.fits',\n",
       "       '../OverScanRemove/trim_images/trim_20170601_126.fits',\n",
       "       '../OverScanRemove/trim_images/trim_20170601_127.fits',\n",
       "       '../OverScanRemove/trim_images/trim_20170601_128.fits',\n",
       "       '../OverScanRemove/trim_images/trim_20170601_129.fits',\n",
       "       '../OverScanRemove/trim_images/trim_20170601_130.fits',\n",
       "       '../OverScanRemove/trim_images/trim_20170601_131.fits',\n",
       "       '../OverScanRemove/trim_images/trim_20170601_132.fits',\n",
       "       '../OverScanRemove/trim_images/trim_20170601_133.fits',\n",
       "       '../OverScanRemove/trim_images/trim_20170601_134.fits',\n",
       "       '../OverScanRemove/trim_images/trim_20170601_135.fits',\n",
       "       '../OverScanRemove/trim_images/trim_20170601_136.fits',\n",
       "       '../OverScanRemove/trim_images/trim_20170601_137.fits',\n",
       "       '../OverScanRemove/trim_images/trim_20170601_138.fits',\n",
       "       '../OverScanRemove/trim_images/trim_20170601_139.fits',\n",
       "       '../OverScanRemove/trim_images/trim_20170601_140.fits',\n",
       "       '../OverScanRemove/trim_images/trim_20170601_141.fits',\n",
       "       '../OverScanRemove/trim_images/trim_20170601_142.fits',\n",
       "       '../OverScanRemove/trim_images/trim_20170601_143.fits',\n",
       "       '../OverScanRemove/trim_images/trim_20170601_144.fits',\n",
       "       '../OverScanRemove/trim_images/trim_20170601_145.fits',\n",
       "       '../OverScanRemove/trim_images/trim_20170601_146.fits',\n",
       "       '../OverScanRemove/trim_images/trim_20170601_147.fits',\n",
       "       '../OverScanRemove/trim_images/trim_20170601_148.fits',\n",
       "       '../OverScanRemove/trim_images/trim_20170601_149.fits',\n",
       "       '../OverScanRemove/trim_images/trim_20170601_150.fits',\n",
       "       '../OverScanRemove/trim_images/trim_20170601_151.fits',\n",
       "       '../OverScanRemove/trim_images/trim_20170601_152.fits',\n",
       "       '../OverScanRemove/trim_images/trim_20170601_153.fits',\n",
       "       '../OverScanRemove/trim_images/trim_20170601_154.fits',\n",
       "       '../OverScanRemove/trim_images/trim_20170601_155.fits',\n",
       "       '../OverScanRemove/trim_images/trim_20170601_156.fits',\n",
       "       '../OverScanRemove/trim_images/trim_20170601_157.fits',\n",
       "       '../OverScanRemove/trim_images/trim_20170601_158.fits',\n",
       "       '../OverScanRemove/trim_images/trim_20170601_159.fits',\n",
       "       '../OverScanRemove/trim_images/trim_20170601_160.fits'], \n",
       "      dtype='|S52')"
      ]
     },
     "execution_count": 24,
     "metadata": {},
     "output_type": "execute_result"
    }
   ],
   "source": [
    "sorted_filenames"
   ]
  },
  {
   "cell_type": "code",
   "execution_count": 25,
   "metadata": {
    "collapsed": false,
    "deletable": true,
    "editable": true
   },
   "outputs": [],
   "source": [
    "from astropy.io import fits\n",
    "with fits.open(sorted_filenames[0]) as pf:\n",
    "    (pf[0].header)"
   ]
  },
  {
   "cell_type": "code",
   "execution_count": 26,
   "metadata": {
    "collapsed": false,
    "deletable": true,
    "editable": true
   },
   "outputs": [
    {
     "data": {
      "text/plain": [
       "SIMPLE  =                    T / conforms to FITS standard                      \n",
       "BITPIX  =                  -64 / array data type                                \n",
       "NAXIS   =                    2 / number of array dimensions                     \n",
       "NAXIS1  =                 2048                                                  \n",
       "NAXIS2  =                 2048                                                  \n",
       "COMMENT   FITS (Flexible Image Transport System) format is defined in 'Astronomy\n",
       "COMMENT   and Astrophysics', volume 376, page 359; bibcode: 2001A&A...376..359H \n",
       "OBJECT  = 'HD205905'           / Name of object observed                        \n",
       "OBSERVER= '        '           / observer                                       \n",
       "PROPID  = '        '           / Proposal ID                                    \n",
       "RECID   = 'ct36.20170602.064201' / NOAO Archibe record ID                       \n",
       "PROPID  = '        '           / Proposal ID                                    \n",
       "IMAGETYP= 'object  '           / Type of picture (object, dark, comp, etc)      \n",
       "CCDSUM  = '1 1     '           / On chip summation (X, Y)                       \n",
       "XSTART  =                    1 / start of roi in X                              \n",
       "YSTART  =                    1 / start of roi in Y                              \n",
       "XLENGTH =                 2048 / length of roi in X                             \n",
       "YLENGTH =                 2048 / length of roi in Y                             \n",
       "UTSHUT  = '2017-06-02T06:42:01.306' / UT of shutter open                        \n",
       "UT      = '06:42:01.306'       / UT of TCS coordinates                          \n",
       "DATE-OBS= '2017-06-02T06:42:01.306' / date of observations start                \n",
       "DATE    = '2017-06-02T06:44:03' / file creation date (YYYY-MM-DDThh:mm:ss UT)   \n",
       "NAMPSYX = '2 2     '           / Num amps in y and x (eg. '2 2=quad')           \n",
       "AMPLIST = '11 12 21 22'        / Readout order in y,x                           \n",
       "GTRON11 =                  12. / (e-) predicted read noise, lower left          \n",
       "GTRON12 =                  12. / (e-) predicted read noise, lower right         \n",
       "GTRON21 =                  12. / (e-) predicted read noise, upper left          \n",
       "GTRON22 =                  12. / (e-) predicted read noise, upper right         \n",
       "GTGAIN11=                   3. / (e-/ADU) predicted gain, lower left            \n",
       "GTGAIN12=                   3. / (e-/ADU) predicted gain, lower right           \n",
       "GTGAIN21=                   3. / (e-/ADU) predicted gain, upper left            \n",
       "GTGAIN22=                   3. / (e-/ADU) predicted gain, upper right           \n",
       "ASEC11  = '[1:1084,1:1024]'    / amplifier section Amp11(LL) detID 1            \n",
       "BSEC11  = '[1045:1084,1:1024]' / bias section Amp11(LL) detID 1                 \n",
       "CSEC11  = '[1:1034,1:1024]'    / section in full ccd for DSEC Amp11(LL) detID 1 \n",
       "DSEC11  = '[1:1034,1:1024]'    / image section in raw frame Amp11(LL) detID 1   \n",
       "TSEC11  = '[11:1034,1:1024]'   / trim section Amp11(LL) detID 1                 \n",
       "ABSEC11 = '[1045:1084,1:1024]' / overscan inside amp                            \n",
       "ADSEC11 = '[1:1024,1:1024]'    / detector section only                          \n",
       "ASEC12  = '[1085:2168,1:1024]' / amplifier section Amp12(LR) detID 1            \n",
       "BSEC12  = '[1085:1124,1:1024]' / bias section Amp12(LR) detID 1                 \n",
       "CSEC12  = '[1035:2068,1:1024]' / section in full ccd for DSEC Amp12(LR) detID 1 \n",
       "DSEC12  = '[1135:2168,1:1024]' / image section in raw frame Amp12(LR) detID 1   \n",
       "TSEC12  = '[1135:2158,1:1024]' / trim section Amp12(LR) detID 1                 \n",
       "ABSEC12 = '[1:40,1:1024]'      / overscan inside amp                            \n",
       "ADSEC12 = '[1025:2048,1:1024]' / detector section only                          \n",
       "ASEC21  = '[1:1084,1025:2048]' / amplifier section Amp21(UL) detID 1            \n",
       "BSEC21  = '[1045:1084,1025:2048]' / bias section Amp21(UL) detID 1              \n",
       "CSEC21  = '[1:1034,1025:2048]' / section in full ccd for DSEC Amp21(UL) detID 1 \n",
       "DSEC21  = '[1:1034,1025:2048]' / image section in raw frame Amp21(UL) detID 1   \n",
       "TSEC21  = '[11:1034,1025:2048]' / trim section Amp21(UL) detID 1                \n",
       "ABSEC21 = '[1045:1084,1:1024]' / overscan inside amp                            \n",
       "ADSEC21 = '[1:1024,1025:2048]' / detector section only                          \n",
       "ASEC22  = '[1085:2168,1025:2048]' / amplifier section Amp22(UR) detID 1         \n",
       "BSEC22  = '[1085:1124,1025:2048]' / bias section Amp22(UR) detID 1              \n",
       "CSEC22  = '[1035:2068,1025:2048]' / section in full ccd for DSEC Amp22(UR) detID\n",
       "DSEC22  = '[1135:2168,1025:2048]' / image section in raw frame Amp22(UR) detID 1\n",
       "TSEC22  = '[1135:2158,1025:2048]' / trim section Amp22(UR) detID 1              \n",
       "ABSEC22 = '[1:40,1:1024]'      / overscan inside amp                            \n",
       "ADSEC22 = '[1025:2048,1025:2048]' / detector section only                       \n",
       "ROISEC00= '[1:2048,1:2048]'    / roi section                                    \n",
       "DETECTOR= 'Tek2K_3 '           / Detector Identifier                            \n",
       "FPA     = 'SITE2K  '           / focal plan array                               \n",
       "REXPTIME=                 120. / requested exposure time in secs                \n",
       "EXPTIME =                 120. / Exposure time in secs                          \n",
       "DARKTIME=                 120. / Total elapsed time in secs                     \n",
       "NIMAGES =                    1 / number of images requested in sequence         \n",
       "PIXELT  = '25000.000000'       / (ns) unbinned pixel read time                  \n",
       "DHEINF  = 'MNSN torrent hardware' / controller info                             \n",
       "DHEFIRM = '/home/observer/panview/fpas/_biw/config/DETECTOR/site2k_sequencer.uc'\n",
       "PIXTIME = '25      '           / pixel time (usecs)                             \n",
       "POWSTAT = '3.000   '           / power supplies status (3=OK)                   \n",
       "CCDSETP = '163.000 '           / ccd temperature setpoint                       \n",
       "CCDTEMP = '163.312 '           / CCD temperature                                \n",
       "NECKTEMP= '143.120 '           / dewar NECK temperature                         \n",
       "HEATERSP= '0.000   '           / Heater power percent.                          \n",
       "VDDA    = '24.049  '           / bias output amplifier A                        \n",
       "VDDB    = '23.944  '           / bias output amplifier B                        \n",
       "VDDC    = '24.378  '           / bias output amplifier C                        \n",
       "VDDD    = '24.169  '           / bias output amplifier D                        \n",
       "VRDA    = '13.810  '           / Reset Drain amplifier A                        \n",
       "VRDB    = '13.795  '           / Reset Drain amplifier B                        \n",
       "VRDC    = '14.019  '           / Reset Drain amplifier C                        \n",
       "VRDD    = '13.945  '           / Reset Drain amplifier D                        \n",
       "LGA     = '-2.032  '           / Reset Drain amplifier A                        \n",
       "LGB     = '-2.072  '           / Reset Drain amplifier B                        \n",
       "LGC     = '-1.982  '           / Reset Drain amplifier C                        \n",
       "LGD     = '-1.972  '           / Reset Drain amplifier D                        \n",
       "SLOT00  = 'LCB 0x188538 2.240000' / dhe board: <type> <serial> <firmware>       \n",
       "SLOT01  = 'PSM 0x45834F 2.210000' / dhe board: <type> <serial> <firmware>       \n",
       "SLOT02  = 'CFG 0xNONE 2.240000' / dhe board: <type> <serial> <firmware>         \n",
       "SLOT03  = 'PIX 0xNONE 2.210000' / dhe board: <type> <serial> <firmware>         \n",
       "SLOT04  = 'CCDAFE 0x188167 18805C 2.210000' / dhe board: <type> <serial> <firmwa\n",
       "SLOT07  = 'CB 0xNONE 2.240000' / dhe board: <type> <serial> <firmware>          \n",
       "SLOT02  = 'TSM 0x3C6784 NONE'  / dhe board: <type> <serial> <firmware>          \n",
       "VANPLUS =             10.54422 / analog voltage plus                            \n",
       "VANMINU =            -10.54795 / analog voltage minus                           \n",
       "FPGATEMP=              36.4532 / torrent fpga temperature                       \n",
       "ID      = '[ct36.20170602.064201]' / ID                                         \n",
       "OBSERVAT= 'CTIO    '           / Origin of data                                 \n",
       "TELESCOP= 'CTIO 0.9 meter telescope' / Specific system                          \n",
       "TELID   = 'ct36    '           / CTIO 0.9 meter telescope                       \n",
       "TCS-TIME= '2017-06-01T06:42:2.00' / date of observation start                   \n",
       "UT      = '06:42:2.00'         / UT of TCS coords                               \n",
       "RA      = '21:38:53.91'        / ra                                             \n",
       "DEC     = '-27:21:24.87'       / dec                                            \n",
       "EPOCH   =                2000. / epoch                                          \n",
       "ZD      =               38.718 / zenith distance                                \n",
       "HA      = '-02:56:22.31'       / hour angle                                     \n",
       "ST      = '18:42:31.60'        / sidereal time                                  \n",
       "AIRMASS =                1.281 / airmass                                        \n",
       "ALT     = '-257.83 '           / altitud                                        \n",
       "TELFOCUS=               12450. / telescope focus                                \n",
       "WEATIME = '2017-06-02 06:43:01' / weather timestamp                             \n",
       "OUTTEMP =                  13. / outside temp (C)                               \n",
       "OUTHUM  =                   21 / outside humidity (%)                           \n",
       "OUTPRESS=                 778. / outside pressure (hPa)                         \n",
       "WNDSPEED=                 15.5 / wind speed (mph)                               \n",
       "WNDDIR  =                   29 / wind dir (degrees)                             \n",
       "SEETIME = '2017-06-02 06:43:24' / seeing timestamp                              \n",
       "SEEING  =                0.811 / seeing                                         \n",
       "SAIRMASS=                1.039 / seeing airmass                                 \n",
       "PANID   = '_biw    '           / PAN identification                             \n",
       "COMMENT image                                                                   \n",
       "COMMENT Image is trimmed                                                        \n",
       "FILTER1 = 'RG715   '           / Filter in wheel 1                              \n",
       "FNAME1  = 'RG715   '           / Full name of filter in wheel 1                 \n",
       "FILTER2 = 'HoloPhAg'           / Filter in wheel 2                              \n",
       "FNAME2  = 'Holo_PhAg'          / Full name of filter in wheel 2                 \n",
       "FILTERS = 'RG715 HoloPhAg'     / Filter positions                               \n",
       "INSTRUME= 'cfccd   '           / cassegrain direct imager                       \n",
       "XPIXSIZE=                0.401 / Pixel size in X (arcsecs/pix)                  \n",
       "YPIXSIZE=                0.401 / Pixel size in Y (arcsecs/pix)                  \n",
       "TEST    =                   2. / my keyword                                     "
      ]
     },
     "execution_count": 26,
     "metadata": {},
     "output_type": "execute_result"
    }
   ],
   "source": [
    "pf[0].header"
   ]
  },
  {
   "cell_type": "markdown",
   "metadata": {
    "collapsed": false,
    "deletable": true,
    "editable": true
   },
   "source": [
    "### Build tables for output file"
   ]
  },
  {
   "cell_type": "code",
   "execution_count": null,
   "metadata": {
    "collapsed": false,
    "deletable": true,
    "editable": true
   },
   "outputs": [],
   "source": []
  },
  {
   "cell_type": "code",
   "execution_count": 27,
   "metadata": {
    "collapsed": false,
    "deletable": true,
    "editable": true
   },
   "outputs": [
    {
     "name": "stdout",
     "output_type": "stream",
     "text": [
      "../OverScanRemove/trim_images/trim_20170601_060.fits\n",
      "../OverScanRemove/trim_images/trim_20170601_061.fits\n",
      "../OverScanRemove/trim_images/trim_20170601_062.fits\n",
      "../OverScanRemove/trim_images/trim_20170601_063.fits\n",
      "../OverScanRemove/trim_images/trim_20170601_064.fits\n",
      "../OverScanRemove/trim_images/trim_20170601_065.fits\n",
      "../OverScanRemove/trim_images/trim_20170601_066.fits\n",
      "../OverScanRemove/trim_images/trim_20170601_067.fits\n",
      "../OverScanRemove/trim_images/trim_20170601_068.fits\n",
      "../OverScanRemove/trim_images/trim_20170601_069.fits\n",
      "../OverScanRemove/trim_images/trim_20170601_070.fits\n",
      "../OverScanRemove/trim_images/trim_20170601_071.fits\n",
      "../OverScanRemove/trim_images/trim_20170601_072.fits\n",
      "../OverScanRemove/trim_images/trim_20170601_073.fits\n",
      "../OverScanRemove/trim_images/trim_20170601_074.fits\n",
      "../OverScanRemove/trim_images/trim_20170601_075.fits\n",
      "../OverScanRemove/trim_images/trim_20170601_076.fits\n",
      "../OverScanRemove/trim_images/trim_20170601_077.fits\n",
      "../OverScanRemove/trim_images/trim_20170601_078.fits\n",
      "../OverScanRemove/trim_images/trim_20170601_079.fits\n",
      "../OverScanRemove/trim_images/trim_20170601_080.fits\n",
      "../OverScanRemove/trim_images/trim_20170601_081.fits\n",
      "../OverScanRemove/trim_images/trim_20170601_082.fits\n",
      "../OverScanRemove/trim_images/trim_20170601_083.fits\n",
      "../OverScanRemove/trim_images/trim_20170601_084.fits\n",
      "../OverScanRemove/trim_images/trim_20170601_085.fits\n",
      "../OverScanRemove/trim_images/trim_20170601_086.fits\n",
      "../OverScanRemove/trim_images/trim_20170601_087.fits\n",
      "../OverScanRemove/trim_images/trim_20170601_088.fits\n",
      "../OverScanRemove/trim_images/trim_20170601_089.fits\n",
      "../OverScanRemove/trim_images/trim_20170601_090.fits\n",
      "../OverScanRemove/trim_images/trim_20170601_091.fits\n",
      "../OverScanRemove/trim_images/trim_20170601_092.fits\n",
      "../OverScanRemove/trim_images/trim_20170601_093.fits\n",
      "../OverScanRemove/trim_images/trim_20170601_094.fits\n",
      "../OverScanRemove/trim_images/trim_20170601_095.fits\n",
      "../OverScanRemove/trim_images/trim_20170601_096.fits\n",
      "../OverScanRemove/trim_images/trim_20170601_097.fits\n",
      "../OverScanRemove/trim_images/trim_20170601_098.fits\n",
      "../OverScanRemove/trim_images/trim_20170601_099.fits\n",
      "../OverScanRemove/trim_images/trim_20170601_100.fits\n",
      "../OverScanRemove/trim_images/trim_20170601_101.fits\n",
      "../OverScanRemove/trim_images/trim_20170601_102.fits\n",
      "../OverScanRemove/trim_images/trim_20170601_103.fits\n",
      "../OverScanRemove/trim_images/trim_20170601_104.fits\n",
      "../OverScanRemove/trim_images/trim_20170601_105.fits\n",
      "../OverScanRemove/trim_images/trim_20170601_106.fits\n",
      "../OverScanRemove/trim_images/trim_20170601_107.fits\n",
      "../OverScanRemove/trim_images/trim_20170601_108.fits\n",
      "../OverScanRemove/trim_images/trim_20170601_109.fits\n",
      "../OverScanRemove/trim_images/trim_20170601_110.fits\n",
      "../OverScanRemove/trim_images/trim_20170601_111.fits\n",
      "../OverScanRemove/trim_images/trim_20170601_112.fits\n",
      "../OverScanRemove/trim_images/trim_20170601_113.fits\n",
      "../OverScanRemove/trim_images/trim_20170601_114.fits\n",
      "../OverScanRemove/trim_images/trim_20170601_115.fits\n",
      "../OverScanRemove/trim_images/trim_20170601_116.fits\n",
      "../OverScanRemove/trim_images/trim_20170601_117.fits\n",
      "../OverScanRemove/trim_images/trim_20170601_118.fits\n",
      "../OverScanRemove/trim_images/trim_20170601_119.fits\n",
      "../OverScanRemove/trim_images/trim_20170601_120.fits\n",
      "../OverScanRemove/trim_images/trim_20170601_121.fits\n",
      "../OverScanRemove/trim_images/trim_20170601_122.fits\n",
      "../OverScanRemove/trim_images/trim_20170601_123.fits\n",
      "../OverScanRemove/trim_images/trim_20170601_124.fits\n",
      "../OverScanRemove/trim_images/trim_20170601_125.fits\n",
      "../OverScanRemove/trim_images/trim_20170601_126.fits\n",
      "../OverScanRemove/trim_images/trim_20170601_127.fits\n",
      "../OverScanRemove/trim_images/trim_20170601_128.fits\n",
      "../OverScanRemove/trim_images/trim_20170601_129.fits\n",
      "../OverScanRemove/trim_images/trim_20170601_130.fits\n",
      "../OverScanRemove/trim_images/trim_20170601_131.fits\n",
      "../OverScanRemove/trim_images/trim_20170601_132.fits\n",
      "../OverScanRemove/trim_images/trim_20170601_133.fits\n",
      "../OverScanRemove/trim_images/trim_20170601_134.fits\n",
      "../OverScanRemove/trim_images/trim_20170601_135.fits\n",
      "../OverScanRemove/trim_images/trim_20170601_136.fits\n",
      "../OverScanRemove/trim_images/trim_20170601_137.fits\n",
      "../OverScanRemove/trim_images/trim_20170601_138.fits\n",
      "../OverScanRemove/trim_images/trim_20170601_139.fits\n",
      "../OverScanRemove/trim_images/trim_20170601_140.fits\n",
      "../OverScanRemove/trim_images/trim_20170601_141.fits\n",
      "../OverScanRemove/trim_images/trim_20170601_142.fits\n",
      "../OverScanRemove/trim_images/trim_20170601_143.fits\n",
      "../OverScanRemove/trim_images/trim_20170601_144.fits\n",
      "../OverScanRemove/trim_images/trim_20170601_145.fits\n",
      "../OverScanRemove/trim_images/trim_20170601_146.fits\n",
      "../OverScanRemove/trim_images/trim_20170601_147.fits\n",
      "../OverScanRemove/trim_images/trim_20170601_148.fits\n",
      "../OverScanRemove/trim_images/trim_20170601_149.fits\n",
      "../OverScanRemove/trim_images/trim_20170601_150.fits\n",
      "../OverScanRemove/trim_images/trim_20170601_151.fits\n",
      "../OverScanRemove/trim_images/trim_20170601_152.fits\n",
      "../OverScanRemove/trim_images/trim_20170601_153.fits\n",
      "../OverScanRemove/trim_images/trim_20170601_154.fits\n",
      "../OverScanRemove/trim_images/trim_20170601_155.fits\n",
      "../OverScanRemove/trim_images/trim_20170601_156.fits\n",
      "../OverScanRemove/trim_images/trim_20170601_157.fits\n",
      "../OverScanRemove/trim_images/trim_20170601_158.fits\n",
      "../OverScanRemove/trim_images/trim_20170601_159.fits\n",
      "../OverScanRemove/trim_images/trim_20170601_160.fits\n"
     ]
    }
   ],
   "source": [
    "all_headers = []\n",
    "all_dates = []\n",
    "all_airmass = []\n",
    "all_exposures = []\n",
    "all_ut = []\n",
    "all_ra = []\n",
    "all_dec = []\n",
    "all_epoch = []\n",
    "all_zenith = []\n",
    "all_ha = []\n",
    "all_st = []\n",
    "all_alt = []\n",
    "all_focus = []\n",
    "all_temp = []\n",
    "all_press = []\n",
    "all_hum = []\n",
    "all_windsp = []\n",
    "all_seeing = []\n",
    "all_seeingam = []\n",
    "all_filter1 = []\n",
    "all_filter2 = []\n",
    "\n",
    "for idx,file in np.ndenumerate(sorted_filenames):  \n",
    "    print file\n",
    "    hdu_list=fits.open(file)\n",
    "    header=hdu_list[0].header\n",
    "    date_obs = header['DATE-OBS']\n",
    "    airmass = float(header['AIRMASS'])\n",
    "    expo= float(header['EXPTIME'])\n",
    "    num=indexes_files[idx[0]]\n",
    "   \n",
    "   \n",
    "    ut=header['UT']\n",
    "    ra=header['RA']\n",
    "    dec=header['DEC']\n",
    "    epoch=float(header['EPOCH'])\n",
    "    zd = float(header['ZD'])\n",
    "    ha = header['HA']\n",
    "    st = header['ST']\n",
    "    alt = float(header['ALT'])\n",
    "    fcl = float(header['TELFOCUS'])\n",
    "    temp= float(header['OUTTEMP'])\n",
    "    press= float(header['OUTPRESS'])\n",
    "    hum= float(header['OUTHUM'])\n",
    "    windsp=float(header['WNDSPEED'])\n",
    "    seeing=float(header['SEEING'])\n",
    "    seeingam=float(header['SAIRMASS'])\n",
    "    filter1 = header['FILTER1']\n",
    "    filter2 = header['FILTER2']\n",
    "    \n",
    "    all_dates.append(date_obs)\n",
    "    all_airmass.append(airmass)\n",
    "    all_headers.append(header)\n",
    "    all_exposures.append(expo)\n",
    "    all_ut.append(ut)\n",
    "    all_ra.append(ra)\n",
    "    all_dec.append(dec)\n",
    "    all_epoch.append(epoch)\n",
    "    all_zenith.append(zd)\n",
    "    all_ha.append(ha)\n",
    "    all_st.append(st)\n",
    "    all_alt.append(alt)\n",
    "    all_focus.append(fcl)\n",
    "    all_temp.append(temp)\n",
    "    all_press.append(press)\n",
    "    all_hum.append(hum)\n",
    "    all_windsp.append(windsp)\n",
    "    all_seeing.append(seeing)\n",
    "    all_seeingam.append(seeingam)\n",
    "    all_filter1.append(filter1)\n",
    "    all_filter2.append(filter2)\n",
    "\n",
    "    hdu_list.close()\n",
    "    "
   ]
  },
  {
   "cell_type": "code",
   "execution_count": 28,
   "metadata": {
    "collapsed": false,
    "deletable": true,
    "editable": true
   },
   "outputs": [
    {
     "data": {
      "text/plain": [
       "101"
      ]
     },
     "execution_count": 28,
     "metadata": {},
     "output_type": "execute_result"
    }
   ],
   "source": [
    "len(all_airmass)"
   ]
  },
  {
   "cell_type": "code",
   "execution_count": 29,
   "metadata": {
    "collapsed": false,
    "deletable": true,
    "editable": true
   },
   "outputs": [
    {
     "data": {
      "text/plain": [
       "['RG715',\n",
       " 'RG715',\n",
       " 'RG715',\n",
       " 'RG715',\n",
       " 'RG715',\n",
       " 'RG715',\n",
       " 'RG715',\n",
       " 'RG715',\n",
       " 'RG715',\n",
       " 'RG715',\n",
       " 'RG715',\n",
       " 'RG715',\n",
       " 'RG715',\n",
       " 'RG715',\n",
       " 'RG715',\n",
       " 'RG715',\n",
       " 'RG715',\n",
       " 'RG715',\n",
       " 'RG715',\n",
       " 'RG715',\n",
       " 'RG715',\n",
       " 'RG715',\n",
       " 'RG715',\n",
       " 'RG715',\n",
       " 'RG715',\n",
       " 'RG715',\n",
       " 'RG715',\n",
       " 'RG715',\n",
       " 'RG715',\n",
       " 'RG715',\n",
       " 'RG715',\n",
       " 'RG715',\n",
       " 'RG715',\n",
       " 'RG715',\n",
       " 'RG715',\n",
       " 'RG715',\n",
       " 'RG715',\n",
       " 'RG715',\n",
       " 'RG715',\n",
       " 'RG715',\n",
       " 'RG715',\n",
       " 'RG715',\n",
       " 'RG715',\n",
       " 'RG715',\n",
       " 'RG715',\n",
       " 'RG715',\n",
       " 'RG715',\n",
       " 'RG715',\n",
       " 'RG715',\n",
       " 'RG715',\n",
       " 'RG715',\n",
       " 'RG715',\n",
       " 'RG715',\n",
       " 'RG715',\n",
       " 'RG715',\n",
       " 'RG715',\n",
       " 'RG715',\n",
       " 'RG715',\n",
       " 'RG715',\n",
       " 'RG715',\n",
       " 'RG715',\n",
       " 'RG715',\n",
       " 'RG715',\n",
       " 'RG715',\n",
       " 'RG715',\n",
       " 'RG715',\n",
       " 'RG715',\n",
       " 'RG715',\n",
       " 'RG715',\n",
       " 'RG715',\n",
       " 'RG715',\n",
       " 'RG715',\n",
       " 'RG715',\n",
       " 'RG715',\n",
       " 'RG715',\n",
       " 'RG715',\n",
       " 'RG715',\n",
       " 'RG715',\n",
       " 'RG715',\n",
       " 'RG715',\n",
       " 'RG715',\n",
       " 'RG715',\n",
       " 'RG715',\n",
       " 'RG715',\n",
       " 'RG715',\n",
       " 'RG715',\n",
       " 'RG715',\n",
       " 'RG715',\n",
       " 'RG715',\n",
       " 'RG715',\n",
       " 'RG715',\n",
       " 'RG715',\n",
       " 'RG715',\n",
       " 'RG715',\n",
       " 'RG715',\n",
       " 'RG715',\n",
       " 'RG715',\n",
       " 'RG715',\n",
       " 'RG715',\n",
       " 'RG715',\n",
       " 'RG715']"
      ]
     },
     "execution_count": 29,
     "metadata": {},
     "output_type": "execute_result"
    }
   ],
   "source": [
    "all_filter1"
   ]
  },
  {
   "cell_type": "markdown",
   "metadata": {
    "deletable": true,
    "editable": true
   },
   "source": [
    "## Build outputfile"
   ]
  },
  {
   "cell_type": "code",
   "execution_count": 30,
   "metadata": {
    "collapsed": false,
    "deletable": true,
    "editable": true
   },
   "outputs": [],
   "source": [
    "col_airmass=np.array(all_airmass)\n",
    "col_number=np.array(indexes_files)\n",
    "col_date=np.array(all_dates)\n",
    "col_filename=np.array(filelist_all)\n",
    "col_exposure=np.array(all_exposures)\n",
    "col_zenith=np.array(all_zenith)\n",
    "col_altitude=np.array(all_alt)\n",
    "col_temperature=np.array(all_temp)\n",
    "col_pressure=np.array(all_press)\n",
    "col_humidity=np.array(all_hum)\n",
    "col_windsp=np.array(all_windsp)\n",
    "col_seeing=np.array(all_seeing)\n",
    "col_filter1=np.array(all_filter1)\n",
    "col_filter2=np.array(all_filter2)"
   ]
  },
  {
   "cell_type": "code",
   "execution_count": 31,
   "metadata": {
    "collapsed": false,
    "deletable": true,
    "editable": true
   },
   "outputs": [],
   "source": [
    "c1 = fits.Column(name='number', format='J', array=col_number)\n",
    "c2 = fits.Column(name='airmass', format='E', array=col_airmass)\n",
    "c3 = fits.Column(name='date', format='A50', array=col_date)\n",
    "c4 = fits.Column(name='filename', format='A30', array=sorted_filenames)\n",
    "c5 = fits.Column(name='exposure', format='E', array=col_exposure) \n",
    "c6 = fits.Column(name='zenith', format='E', array=col_zenith) \n",
    "#c7 = fits.Column(name='altitude', format='E', array=col_altitude) \n",
    "c8 = fits.Column(name='temperature', format='E', array=col_temperature) \n",
    "c9 = fits.Column(name='pressure', format='E', array=col_pressure) \n",
    "c10 = fits.Column(name='humidity', format='E', array=col_humidity) \n",
    "c11 = fits.Column(name='windspeed', format='E', array=col_windsp) \n",
    "c12 = fits.Column(name='seeing', format='E', array=col_seeing) \n",
    "c13 = fits.Column(name='filter1', format='A20', array=col_filter1)\n",
    "c14 = fits.Column(name='filter2', format='A20', array=col_filter2) "
   ]
  },
  {
   "cell_type": "code",
   "execution_count": 32,
   "metadata": {
    "collapsed": true,
    "deletable": true,
    "editable": true
   },
   "outputs": [],
   "source": [
    "tbhdu = fits.BinTableHDU.from_columns([c1, c2, c3, c4, c5,c6,c8,c9,c10,c11,c12,c13,c14])"
   ]
  },
  {
   "cell_type": "code",
   "execution_count": 33,
   "metadata": {
    "collapsed": false,
    "deletable": true,
    "editable": true
   },
   "outputs": [],
   "source": [
    "tbhdu.writeto(logfile,overwrite=True)"
   ]
  },
  {
   "cell_type": "markdown",
   "metadata": {
    "deletable": true,
    "editable": true
   },
   "source": [
    "## Convert into Table\n",
    "---------------------------"
   ]
  },
  {
   "cell_type": "code",
   "execution_count": 34,
   "metadata": {
    "collapsed": false,
    "deletable": true,
    "editable": true
   },
   "outputs": [],
   "source": [
    "thetable= Table(tbhdu.data)"
   ]
  },
  {
   "cell_type": "code",
   "execution_count": 35,
   "metadata": {
    "collapsed": false,
    "deletable": true,
    "editable": true
   },
   "outputs": [
    {
     "data": {
      "text/html": [
       "&lt;Table length=101&gt;\n",
       "<table id=\"table4519108176-314028\" class=\"table-striped table-bordered table-condensed\">\n",
       "<thead><tr><th>idx</th><th>number</th><th>airmass</th><th>date</th><th>filename</th><th>exposure</th><th>zenith</th><th>temperature</th><th>pressure</th><th>humidity</th><th>windspeed</th><th>seeing</th><th>filter1</th><th>filter2</th></tr></thead>\n",
       "<tr><td>0</td><td>60</td><td>1.281</td><td>2017-06-02T06:42:01.306</td><td>../OverScanRemove/trim_images/</td><td>120.0</td><td>38.718</td><td>13.0</td><td>778.0</td><td>21.0</td><td>15.5</td><td>0.811</td><td>RG715</td><td>HoloPhAg</td></tr>\n",
       "<tr><td>1</td><td>61</td><td>1.27</td><td>2017-06-02T06:44:53.702</td><td>../OverScanRemove/trim_images/</td><td>120.0</td><td>38.1</td><td>13.1</td><td>778.0</td><td>21.0</td><td>17.4</td><td>0.829</td><td>RG715</td><td>HoloAmAg</td></tr>\n",
       "<tr><td>2</td><td>62</td><td>1.26</td><td>2017-06-02T06:47:45.844</td><td>../OverScanRemove/trim_images/</td><td>60.0</td><td>37.483</td><td>13.0</td><td>778.0</td><td>21.0</td><td>17.0</td><td>0.829</td><td>RG715</td><td>Ron400</td></tr>\n",
       "<tr><td>3</td><td>63</td><td>1.253</td><td>2017-06-02T06:49:38.151</td><td>../OverScanRemove/trim_images/</td><td>60.0</td><td>37.08</td><td>13.1</td><td>778.0</td><td>21.0</td><td>15.8</td><td>0.847</td><td>RG715</td><td>Thor300</td></tr>\n",
       "<tr><td>4</td><td>64</td><td>1.246</td><td>2017-06-02T06:51:30.502</td><td>../OverScanRemove/trim_images/</td><td>60.0</td><td>36.676</td><td>13.1</td><td>778.0</td><td>21.0</td><td>16.3</td><td>0.715</td><td>RG715</td><td>HoloPhP</td></tr>\n",
       "<tr><td>5</td><td>65</td><td>1.24</td><td>2017-06-02T06:53:22.851</td><td>../OverScanRemove/trim_images/</td><td>120.0</td><td>36.273</td><td>13.0</td><td>778.0</td><td>21.0</td><td>14.2</td><td>0.826</td><td>RG715</td><td>HoloPhAg</td></tr>\n",
       "<tr><td>6</td><td>66</td><td>1.23</td><td>2017-06-02T06:56:15.195</td><td>../OverScanRemove/trim_images/</td><td>120.0</td><td>35.654</td><td>13.0</td><td>778.0</td><td>21.0</td><td>12.3</td><td>0.783</td><td>RG715</td><td>HoloAmAg</td></tr>\n",
       "<tr><td>7</td><td>67</td><td>1.221</td><td>2017-06-02T06:59:07.605</td><td>../OverScanRemove/trim_images/</td><td>60.0</td><td>35.035</td><td>13.1</td><td>778.0</td><td>21.0</td><td>14.1</td><td>0.638</td><td>RG715</td><td>Ron400</td></tr>\n",
       "<tr><td>8</td><td>68</td><td>1.215</td><td>2017-06-02T07:00:59.949</td><td>../OverScanRemove/trim_images/</td><td>60.0</td><td>34.63</td><td>13.0</td><td>778.0</td><td>21.0</td><td>17.0</td><td>0.71</td><td>RG715</td><td>Thor300</td></tr>\n",
       "<tr><td>9</td><td>69</td><td>1.209</td><td>2017-06-02T07:02:52.252</td><td>../OverScanRemove/trim_images/</td><td>60.0</td><td>34.227</td><td>13.0</td><td>778.0</td><td>21.0</td><td>17.4</td><td>0.71</td><td>RG715</td><td>HoloPhP</td></tr>\n",
       "<tr><td>10</td><td>70</td><td>1.203</td><td>2017-06-02T07:04:44.551</td><td>../OverScanRemove/trim_images/</td><td>120.0</td><td>33.823</td><td>13.0</td><td>778.0</td><td>21.0</td><td>15.0</td><td>0.816</td><td>RG715</td><td>HoloPhAg</td></tr>\n",
       "<tr><td>11</td><td>71</td><td>1.195</td><td>2017-06-02T07:07:36.851</td><td>../OverScanRemove/trim_images/</td><td>120.0</td><td>33.203</td><td>12.9</td><td>778.0</td><td>21.0</td><td>18.2</td><td>0.803</td><td>RG715</td><td>HoloAmAg</td></tr>\n",
       "<tr><td>12</td><td>72</td><td>1.186</td><td>2017-06-02T07:10:29.251</td><td>../OverScanRemove/trim_images/</td><td>60.0</td><td>32.582</td><td>12.9</td><td>778.0</td><td>21.0</td><td>15.7</td><td>0.773</td><td>RG715</td><td>Ron400</td></tr>\n",
       "<tr><td>13</td><td>73</td><td>1.181</td><td>2017-06-02T07:12:21.452</td><td>../OverScanRemove/trim_images/</td><td>60.0</td><td>32.178</td><td>12.9</td><td>778.0</td><td>21.0</td><td>16.6</td><td>0.759</td><td>RG715</td><td>Thor300</td></tr>\n",
       "<tr><td>14</td><td>74</td><td>1.176</td><td>2017-06-02T07:14:13.742</td><td>../OverScanRemove/trim_images/</td><td>60.0</td><td>31.773</td><td>12.9</td><td>778.0</td><td>21.0</td><td>18.5</td><td>0.721</td><td>RG715</td><td>HoloPhP</td></tr>\n",
       "<tr><td>15</td><td>75</td><td>1.171</td><td>2017-06-02T07:16:06.053</td><td>../OverScanRemove/trim_images/</td><td>120.0</td><td>31.368</td><td>13.0</td><td>778.0</td><td>21.0</td><td>20.1</td><td>0.661</td><td>RG715</td><td>HoloPhAg</td></tr>\n",
       "<tr><td>16</td><td>76</td><td>1.163</td><td>2017-06-02T07:18:58.505</td><td>../OverScanRemove/trim_images/</td><td>120.0</td><td>30.747</td><td>12.8</td><td>778.0</td><td>21.0</td><td>18.9</td><td>0.672</td><td>RG715</td><td>HoloAmAg</td></tr>\n",
       "<tr><td>17</td><td>77</td><td>1.156</td><td>2017-06-02T07:21:50.849</td><td>../OverScanRemove/trim_images/</td><td>60.0</td><td>30.126</td><td>12.9</td><td>778.0</td><td>21.0</td><td>18.5</td><td>0.683</td><td>RG715</td><td>Ron400</td></tr>\n",
       "<tr><td>18</td><td>78</td><td>1.151</td><td>2017-06-02T07:23:43.151</td><td>../OverScanRemove/trim_images/</td><td>60.0</td><td>29.721</td><td>13.0</td><td>778.0</td><td>21.0</td><td>17.6</td><td>0.754</td><td>RG715</td><td>Thor300</td></tr>\n",
       "<tr><td>19</td><td>79</td><td>1.147</td><td>2017-06-02T07:25:35.502</td><td>../OverScanRemove/trim_images/</td><td>60.0</td><td>29.315</td><td>13.0</td><td>778.0</td><td>21.0</td><td>16.9</td><td>0.754</td><td>RG715</td><td>HoloPhP</td></tr>\n",
       "<tr><td>20</td><td>80</td><td>1.142</td><td>2017-06-02T07:27:27.900</td><td>../OverScanRemove/trim_images/</td><td>120.0</td><td>28.91</td><td>13.0</td><td>778.0</td><td>21.0</td><td>12.3</td><td>0.785</td><td>RG715</td><td>HoloPhAg</td></tr>\n",
       "<tr><td>21</td><td>81</td><td>1.135</td><td>2017-06-02T07:30:20.302</td><td>../OverScanRemove/trim_images/</td><td>120.0</td><td>28.288</td><td>13.2</td><td>778.0</td><td>20.0</td><td>13.0</td><td>0.654</td><td>RG715</td><td>HoloAmAg</td></tr>\n",
       "<tr><td>22</td><td>82</td><td>1.129</td><td>2017-06-02T07:33:12.797</td><td>../OverScanRemove/trim_images/</td><td>60.0</td><td>27.666</td><td>13.0</td><td>778.0</td><td>20.0</td><td>14.7</td><td>0.65</td><td>RG715</td><td>Ron400</td></tr>\n",
       "<tr><td>23</td><td>83</td><td>1.125</td><td>2017-06-02T07:35:05.142</td><td>../OverScanRemove/trim_images/</td><td>60.0</td><td>27.26</td><td>12.9</td><td>778.0</td><td>20.0</td><td>14.1</td><td>0.681</td><td>RG715</td><td>Thor300</td></tr>\n",
       "<tr><td>24</td><td>84</td><td>1.121</td><td>2017-06-02T07:36:57.452</td><td>../OverScanRemove/trim_images/</td><td>60.0</td><td>26.854</td><td>13.1</td><td>778.0</td><td>20.0</td><td>13.1</td><td>0.658</td><td>RG715</td><td>HoloPhP</td></tr>\n",
       "<tr><td>25</td><td>85</td><td>1.117</td><td>2017-06-02T07:38:49.794</td><td>../OverScanRemove/trim_images/</td><td>120.0</td><td>26.449</td><td>13.3</td><td>778.0</td><td>20.0</td><td>13.1</td><td>0.68</td><td>RG715</td><td>HoloPhAg</td></tr>\n",
       "<tr><td>26</td><td>86</td><td>1.111</td><td>2017-06-02T07:41:42.047</td><td>../OverScanRemove/trim_images/</td><td>120.0</td><td>25.827</td><td>13.3</td><td>778.0</td><td>21.0</td><td>10.6</td><td>0.605</td><td>RG715</td><td>HoloAmAg</td></tr>\n",
       "<tr><td>27</td><td>87</td><td>1.105</td><td>2017-06-02T07:44:34.354</td><td>../OverScanRemove/trim_images/</td><td>60.0</td><td>25.204</td><td>13.4</td><td>778.0</td><td>20.0</td><td>14.8</td><td>0.61</td><td>RG715</td><td>Ron400</td></tr>\n",
       "<tr><td>28</td><td>88</td><td>1.101</td><td>2017-06-02T07:46:26.650</td><td>../OverScanRemove/trim_images/</td><td>60.0</td><td>24.799</td><td>13.0</td><td>778.0</td><td>20.0</td><td>14.4</td><td>0.614</td><td>RG715</td><td>Thor300</td></tr>\n",
       "<tr><td>29</td><td>89</td><td>1.098</td><td>2017-06-02T07:48:18.950</td><td>../OverScanRemove/trim_images/</td><td>60.0</td><td>24.393</td><td>13.2</td><td>778.0</td><td>20.0</td><td>14.0</td><td>0.557</td><td>RG715</td><td>HoloPhP</td></tr>\n",
       "<tr><td>30</td><td>90</td><td>1.094</td><td>2017-06-02T07:50:11.300</td><td>../OverScanRemove/trim_images/</td><td>120.0</td><td>23.988</td><td>13.2</td><td>778.0</td><td>20.0</td><td>12.1</td><td>0.564</td><td>RG715</td><td>HoloPhAg</td></tr>\n",
       "<tr><td>31</td><td>91</td><td>1.089</td><td>2017-06-02T07:53:03.652</td><td>../OverScanRemove/trim_images/</td><td>120.0</td><td>23.365</td><td>13.2</td><td>778.0</td><td>20.0</td><td>13.2</td><td>0.573</td><td>RG715</td><td>HoloAmAg</td></tr>\n",
       "<tr><td>32</td><td>92</td><td>1.084</td><td>2017-06-02T07:55:55.953</td><td>../OverScanRemove/trim_images/</td><td>60.0</td><td>22.742</td><td>13.2</td><td>778.0</td><td>20.0</td><td>17.9</td><td>0.586</td><td>RG715</td><td>Ron400</td></tr>\n",
       "<tr><td>33</td><td>93</td><td>1.081</td><td>2017-06-02T07:57:48.051</td><td>../OverScanRemove/trim_images/</td><td>60.0</td><td>22.338</td><td>13.0</td><td>778.0</td><td>20.0</td><td>13.8</td><td>0.833</td><td>RG715</td><td>Thor300</td></tr>\n",
       "<tr><td>34</td><td>94</td><td>1.078</td><td>2017-06-02T07:59:40.402</td><td>../OverScanRemove/trim_images/</td><td>60.0</td><td>21.932</td><td>12.5</td><td>778.0</td><td>21.0</td><td>15.2</td><td>0.698</td><td>RG715</td><td>HoloPhP</td></tr>\n",
       "<tr><td>35</td><td>95</td><td>1.075</td><td>2017-06-02T08:01:32.703</td><td>../OverScanRemove/trim_images/</td><td>120.0</td><td>21.527</td><td>12.9</td><td>778.0</td><td>21.0</td><td>15.2</td><td>0.668</td><td>RG715</td><td>HoloPhAg</td></tr>\n",
       "<tr><td>36</td><td>96</td><td>1.07</td><td>2017-06-02T08:04:25.197</td><td>../OverScanRemove/trim_images/</td><td>120.0</td><td>20.904</td><td>13.1</td><td>778.0</td><td>21.0</td><td>13.6</td><td>0.66</td><td>RG715</td><td>HoloAmAg</td></tr>\n",
       "<tr><td>37</td><td>97</td><td>1.066</td><td>2017-06-02T08:07:17.455</td><td>../OverScanRemove/trim_images/</td><td>60.0</td><td>20.282</td><td>13.1</td><td>778.0</td><td>21.0</td><td>18.8</td><td>0.581</td><td>RG715</td><td>Ron400</td></tr>\n",
       "<tr><td>38</td><td>98</td><td>1.063</td><td>2017-06-02T08:09:09.751</td><td>../OverScanRemove/trim_images/</td><td>60.0</td><td>19.877</td><td>13.0</td><td>778.0</td><td>21.0</td><td>12.8</td><td>0.605</td><td>RG715</td><td>Thor300</td></tr>\n",
       "<tr><td>39</td><td>99</td><td>1.061</td><td>2017-06-02T08:11:02.053</td><td>../OverScanRemove/trim_images/</td><td>60.0</td><td>19.471</td><td>12.8</td><td>778.0</td><td>21.0</td><td>14.1</td><td>0.641</td><td>RG715</td><td>HoloPhP</td></tr>\n",
       "<tr><td>40</td><td>100</td><td>1.058</td><td>2017-06-02T08:12:54.506</td><td>../OverScanRemove/trim_images/</td><td>120.0</td><td>19.066</td><td>12.6</td><td>778.0</td><td>21.0</td><td>11.6</td><td>0.646</td><td>RG715</td><td>HoloPhAg</td></tr>\n",
       "<tr><td>41</td><td>101</td><td>1.054</td><td>2017-06-02T08:15:46.851</td><td>../OverScanRemove/trim_images/</td><td>120.0</td><td>18.444</td><td>12.7</td><td>778.0</td><td>21.0</td><td>11.2</td><td>0.539</td><td>RG715</td><td>HoloAmAg</td></tr>\n",
       "<tr><td>42</td><td>102</td><td>1.05</td><td>2017-06-02T08:18:39.204</td><td>../OverScanRemove/trim_images/</td><td>60.0</td><td>17.823</td><td>12.5</td><td>778.0</td><td>21.0</td><td>16.6</td><td>0.621</td><td>RG715</td><td>Ron400</td></tr>\n",
       "<tr><td>43</td><td>103</td><td>1.048</td><td>2017-06-02T08:20:31.604</td><td>../OverScanRemove/trim_images/</td><td>60.0</td><td>17.419</td><td>13.0</td><td>778.0</td><td>21.0</td><td>15.4</td><td>0.612</td><td>RG715</td><td>Thor300</td></tr>\n",
       "<tr><td>44</td><td>104</td><td>1.046</td><td>2017-06-02T08:22:23.750</td><td>../OverScanRemove/trim_images/</td><td>60.0</td><td>17.015</td><td>12.5</td><td>778.0</td><td>21.0</td><td>11.2</td><td>0.71</td><td>RG715</td><td>HoloPhP</td></tr>\n",
       "<tr><td>45</td><td>105</td><td>1.043</td><td>2017-06-02T08:24:16.105</td><td>../OverScanRemove/trim_images/</td><td>120.0</td><td>16.61</td><td>12.6</td><td>778.0</td><td>21.0</td><td>17.9</td><td>0.595</td><td>RG715</td><td>HoloPhAg</td></tr>\n",
       "<tr><td>46</td><td>106</td><td>1.04</td><td>2017-06-02T08:27:08.496</td><td>../OverScanRemove/trim_images/</td><td>120.0</td><td>15.99</td><td>12.4</td><td>778.0</td><td>21.0</td><td>17.0</td><td>0.619</td><td>RG715</td><td>HoloAmAg</td></tr>\n",
       "<tr><td>47</td><td>107</td><td>1.037</td><td>2017-06-02T08:30:00.851</td><td>../OverScanRemove/trim_images/</td><td>60.0</td><td>15.371</td><td>12.3</td><td>778.0</td><td>21.0</td><td>16.3</td><td>0.683</td><td>RG715</td><td>Ron400</td></tr>\n",
       "<tr><td>48</td><td>108</td><td>1.035</td><td>2017-06-02T08:31:53.101</td><td>../OverScanRemove/trim_images/</td><td>60.0</td><td>14.968</td><td>12.7</td><td>778.0</td><td>21.0</td><td>13.9</td><td>0.618</td><td>RG715</td><td>Thor300</td></tr>\n",
       "<tr><td>49</td><td>109</td><td>1.033</td><td>2017-06-02T08:33:45.458</td><td>../OverScanRemove/trim_images/</td><td>60.0</td><td>14.566</td><td>12.4</td><td>778.0</td><td>21.0</td><td>17.4</td><td>0.66</td><td>RG715</td><td>HoloPhP</td></tr>\n",
       "<tr><td>50</td><td>110</td><td>1.031</td><td>2017-06-02T08:35:37.654</td><td>../OverScanRemove/trim_images/</td><td>120.0</td><td>14.164</td><td>12.2</td><td>778.0</td><td>22.0</td><td>17.4</td><td>0.733</td><td>RG715</td><td>HoloPhAg</td></tr>\n",
       "<tr><td>51</td><td>111</td><td>1.029</td><td>2017-06-02T08:38:30.049</td><td>../OverScanRemove/trim_images/</td><td>120.0</td><td>13.547</td><td>12.2</td><td>778.0</td><td>22.0</td><td>17.6</td><td>0.836</td><td>RG715</td><td>HoloAmAg</td></tr>\n",
       "<tr><td>52</td><td>112</td><td>1.026</td><td>2017-06-02T08:41:22.401</td><td>../OverScanRemove/trim_images/</td><td>60.0</td><td>12.931</td><td>12.5</td><td>778.0</td><td>22.0</td><td>16.1</td><td>0.663</td><td>RG715</td><td>Ron400</td></tr>\n",
       "<tr><td>53</td><td>113</td><td>1.024</td><td>2017-06-02T08:43:14.754</td><td>../OverScanRemove/trim_images/</td><td>60.0</td><td>12.531</td><td>12.5</td><td>778.0</td><td>22.0</td><td>16.1</td><td>0.667</td><td>RG715</td><td>Thor300</td></tr>\n",
       "<tr><td>54</td><td>114</td><td>1.023</td><td>2017-06-02T08:45:07.100</td><td>../OverScanRemove/trim_images/</td><td>60.0</td><td>12.131</td><td>12.4</td><td>778.0</td><td>22.0</td><td>17.9</td><td>0.603</td><td>RG715</td><td>HoloPhP</td></tr>\n",
       "<tr><td>55</td><td>115</td><td>1.021</td><td>2017-06-02T08:46:59.303</td><td>../OverScanRemove/trim_images/</td><td>120.0</td><td>11.733</td><td>12.5</td><td>778.0</td><td>22.0</td><td>16.6</td><td>0.662</td><td>RG715</td><td>HoloPhAg</td></tr>\n",
       "<tr><td>56</td><td>116</td><td>1.019</td><td>2017-06-02T08:49:51.647</td><td>../OverScanRemove/trim_images/</td><td>120.0</td><td>11.122</td><td>12.5</td><td>778.0</td><td>22.0</td><td>16.9</td><td>0.643</td><td>RG715</td><td>HoloAmAg</td></tr>\n",
       "<tr><td>57</td><td>117</td><td>1.017</td><td>2017-06-02T08:52:44.002</td><td>../OverScanRemove/trim_images/</td><td>60.0</td><td>10.513</td><td>12.4</td><td>778.0</td><td>22.0</td><td>16.8</td><td>0.628</td><td>RG715</td><td>Ron400</td></tr>\n",
       "<tr><td>58</td><td>118</td><td>1.016</td><td>2017-06-02T08:54:36.354</td><td>../OverScanRemove/trim_images/</td><td>60.0</td><td>10.117</td><td>12.2</td><td>778.0</td><td>22.0</td><td>16.9</td><td>0.686</td><td>RG715</td><td>Thor300</td></tr>\n",
       "<tr><td>59</td><td>119</td><td>1.015</td><td>2017-06-02T08:56:28.600</td><td>../OverScanRemove/trim_images/</td><td>60.0</td><td>9.724</td><td>12.4</td><td>778.0</td><td>21.0</td><td>16.8</td><td>0.594</td><td>RG715</td><td>HoloPhP</td></tr>\n",
       "<tr><td>60</td><td>120</td><td>1.013</td><td>2017-06-02T08:58:20.952</td><td>../OverScanRemove/trim_images/</td><td>120.0</td><td>9.332</td><td>12.2</td><td>778.0</td><td>21.0</td><td>16.2</td><td>0.594</td><td>RG715</td><td>HoloPhAg</td></tr>\n",
       "<tr><td>61</td><td>121</td><td>1.012</td><td>2017-06-02T09:01:13.302</td><td>../OverScanRemove/trim_images/</td><td>120.0</td><td>8.732</td><td>12.2</td><td>778.0</td><td>21.0</td><td>18.5</td><td>0.597</td><td>RG715</td><td>HoloAmAg</td></tr>\n",
       "<tr><td>62</td><td>122</td><td>1.01</td><td>2017-06-02T09:04:05.707</td><td>../OverScanRemove/trim_images/</td><td>60.0</td><td>8.137</td><td>12.5</td><td>778.0</td><td>21.0</td><td>17.1</td><td>0.578</td><td>RG715</td><td>Ron400</td></tr>\n",
       "<tr><td>63</td><td>123</td><td>1.009</td><td>2017-06-02T09:05:58.052</td><td>../OverScanRemove/trim_images/</td><td>60.0</td><td>7.753</td><td>12.4</td><td>778.0</td><td>21.0</td><td>18.5</td><td>0.578</td><td>RG715</td><td>Thor300</td></tr>\n",
       "<tr><td>64</td><td>124</td><td>1.008</td><td>2017-06-02T09:07:50.150</td><td>../OverScanRemove/trim_images/</td><td>60.0</td><td>7.372</td><td>12.6</td><td>778.0</td><td>21.0</td><td>20.5</td><td>0.503</td><td>RG715</td><td>HoloPhP</td></tr>\n",
       "<tr><td>65</td><td>125</td><td>1.007</td><td>2017-06-02T09:09:42.551</td><td>../OverScanRemove/trim_images/</td><td>120.0</td><td>6.994</td><td>12.9</td><td>778.0</td><td>21.0</td><td>20.4</td><td>0.532</td><td>RG715</td><td>HoloPhAg</td></tr>\n",
       "<tr><td>66</td><td>126</td><td>1.006</td><td>2017-06-02T09:12:34.895</td><td>../OverScanRemove/trim_images/</td><td>120.0</td><td>6.421</td><td>12.8</td><td>778.0</td><td>21.0</td><td>18.3</td><td>0.562</td><td>RG715</td><td>HoloAmAg</td></tr>\n",
       "<tr><td>67</td><td>127</td><td>1.005</td><td>2017-06-02T09:15:27.249</td><td>../OverScanRemove/trim_images/</td><td>60.0</td><td>5.861</td><td>12.7</td><td>778.0</td><td>21.0</td><td>18.0</td><td>0.577</td><td>RG715</td><td>Ron400</td></tr>\n",
       "<tr><td>68</td><td>128</td><td>1.005</td><td>2017-06-02T09:17:19.551</td><td>../OverScanRemove/trim_images/</td><td>60.0</td><td>5.503</td><td>12.6</td><td>778.0</td><td>21.0</td><td>19.2</td><td>0.583</td><td>RG715</td><td>Thor300</td></tr>\n",
       "<tr><td>69</td><td>129</td><td>1.004</td><td>2017-06-02T09:19:11.758</td><td>../OverScanRemove/trim_images/</td><td>60.0</td><td>5.155</td><td>12.6</td><td>778.0</td><td>21.0</td><td>18.9</td><td>0.597</td><td>RG715</td><td>HoloPhP</td></tr>\n",
       "<tr><td>70</td><td>130</td><td>1.004</td><td>2017-06-02T09:21:04.101</td><td>../OverScanRemove/trim_images/</td><td>120.0</td><td>4.815</td><td>12.7</td><td>778.0</td><td>21.0</td><td>19.6</td><td>0.56</td><td>RG715</td><td>HoloPhAg</td></tr>\n",
       "<tr><td>71</td><td>131</td><td>1.003</td><td>2017-06-02T09:23:56.454</td><td>../OverScanRemove/trim_images/</td><td>120.0</td><td>4.319</td><td>12.8</td><td>778.0</td><td>20.0</td><td>21.8</td><td>0.545</td><td>RG715</td><td>HoloAmAg</td></tr>\n",
       "<tr><td>72</td><td>132</td><td>1.002</td><td>2017-06-02T09:26:48.749</td><td>../OverScanRemove/trim_images/</td><td>60.0</td><td>3.862</td><td>12.8</td><td>778.0</td><td>20.0</td><td>21.1</td><td>0.584</td><td>RG715</td><td>Ron400</td></tr>\n",
       "<tr><td>73</td><td>133</td><td>1.002</td><td>2017-06-02T09:28:41.059</td><td>../OverScanRemove/trim_images/</td><td>60.0</td><td>3.592</td><td>12.8</td><td>778.0</td><td>20.0</td><td>19.0</td><td>0.666</td><td>RG715</td><td>Thor300</td></tr>\n",
       "<tr><td>74</td><td>134</td><td>1.002</td><td>2017-06-02T09:30:33.449</td><td>../OverScanRemove/trim_images/</td><td>60.0</td><td>3.352</td><td>12.8</td><td>778.0</td><td>20.0</td><td>21.1</td><td>0.529</td><td>RG715</td><td>HoloPhP</td></tr>\n",
       "<tr><td>75</td><td>135</td><td>1.002</td><td>2017-06-02T09:32:25.793</td><td>../OverScanRemove/trim_images/</td><td>120.0</td><td>3.147</td><td>12.9</td><td>778.0</td><td>20.0</td><td>22.9</td><td>0.657</td><td>RG715</td><td>HoloPhAg</td></tr>\n",
       "<tr><td>76</td><td>136</td><td>1.001</td><td>2017-06-02T09:35:18.199</td><td>../OverScanRemove/trim_images/</td><td>120.0</td><td>2.919</td><td>13.0</td><td>778.0</td><td>20.0</td><td>19.8</td><td>0.744</td><td>RG715</td><td>HoloAmAg</td></tr>\n",
       "<tr><td>77</td><td>137</td><td>1.001</td><td>2017-06-02T09:38:10.602</td><td>../OverScanRemove/trim_images/</td><td>60.0</td><td>2.816</td><td>13.0</td><td>778.0</td><td>20.0</td><td>19.2</td><td>0.869</td><td>RG715</td><td>Ron400</td></tr>\n",
       "<tr><td>78</td><td>138</td><td>1.001</td><td>2017-06-02T09:40:03.002</td><td>../OverScanRemove/trim_images/</td><td>60.0</td><td>2.824</td><td>12.9</td><td>778.0</td><td>20.0</td><td>18.3</td><td>0.784</td><td>RG715</td><td>Thor300</td></tr>\n",
       "<tr><td>79</td><td>139</td><td>1.001</td><td>2017-06-02T09:41:55.400</td><td>../OverScanRemove/trim_images/</td><td>60.0</td><td>2.891</td><td>13.0</td><td>778.0</td><td>20.0</td><td>19.7</td><td>0.748</td><td>RG715</td><td>HoloPhP</td></tr>\n",
       "<tr><td>80</td><td>140</td><td>1.001</td><td>2017-06-02T09:43:47.804</td><td>../OverScanRemove/trim_images/</td><td>120.0</td><td>3.014</td><td>12.9</td><td>778.0</td><td>20.0</td><td>20.1</td><td>0.792</td><td>RG715</td><td>HoloPhAg</td></tr>\n",
       "<tr><td>81</td><td>141</td><td>1.002</td><td>2017-06-02T09:46:40.205</td><td>../OverScanRemove/trim_images/</td><td>120.0</td><td>3.294</td><td>12.9</td><td>778.0</td><td>20.0</td><td>15.0</td><td>0.711</td><td>RG715</td><td>HoloAmAg</td></tr>\n",
       "<tr><td>82</td><td>142</td><td>1.002</td><td>2017-06-02T09:49:32.598</td><td>../OverScanRemove/trim_images/</td><td>60.0</td><td>3.662</td><td>13.0</td><td>778.0</td><td>20.0</td><td>19.0</td><td>0.765</td><td>RG715</td><td>Ron400</td></tr>\n",
       "<tr><td>83</td><td>143</td><td>1.002</td><td>2017-06-02T09:51:24.950</td><td>../OverScanRemove/trim_images/</td><td>60.0</td><td>3.939</td><td>12.9</td><td>778.0</td><td>20.0</td><td>17.1</td><td>0.784</td><td>RG715</td><td>Thor300</td></tr>\n",
       "<tr><td>84</td><td>144</td><td>1.003</td><td>2017-06-02T09:53:17.304</td><td>../OverScanRemove/trim_images/</td><td>60.0</td><td>4.237</td><td>12.8</td><td>778.0</td><td>20.0</td><td>17.3</td><td>0.683</td><td>RG715</td><td>HoloPhP</td></tr>\n",
       "<tr><td>85</td><td>145</td><td>1.003</td><td>2017-06-02T09:55:09.706</td><td>../OverScanRemove/trim_images/</td><td>120.0</td><td>4.553</td><td>12.8</td><td>778.0</td><td>20.0</td><td>16.9</td><td>0.635</td><td>RG715</td><td>HoloPhAg</td></tr>\n",
       "<tr><td>86</td><td>146</td><td>1.004</td><td>2017-06-02T09:58:02.048</td><td>../OverScanRemove/trim_images/</td><td>120.0</td><td>5.064</td><td>12.7</td><td>778.0</td><td>20.0</td><td>15.9</td><td>0.733</td><td>RG715</td><td>HoloAmAg</td></tr>\n",
       "<tr><td>87</td><td>147</td><td>1.005</td><td>2017-06-02T10:00:54.356</td><td>../OverScanRemove/trim_images/</td><td>60.0</td><td>5.6</td><td>12.8</td><td>778.0</td><td>20.0</td><td>16.7</td><td>0.725</td><td>RG715</td><td>Ron400</td></tr>\n",
       "<tr><td>88</td><td>148</td><td>1.005</td><td>2017-06-02T10:02:46.653</td><td>../OverScanRemove/trim_images/</td><td>60.0</td><td>5.959</td><td>12.8</td><td>778.0</td><td>20.0</td><td>19.3</td><td>0.746</td><td>RG715</td><td>Thor300</td></tr>\n",
       "<tr><td>89</td><td>149</td><td>1.006</td><td>2017-06-02T10:04:38.954</td><td>../OverScanRemove/trim_images/</td><td>60.0</td><td>6.324</td><td>12.7</td><td>778.0</td><td>20.0</td><td>20.5</td><td>0.746</td><td>RG715</td><td>HoloPhP</td></tr>\n",
       "<tr><td>90</td><td>150</td><td>1.007</td><td>2017-06-02T10:06:31.250</td><td>../OverScanRemove/trim_images/</td><td>120.0</td><td>6.695</td><td>12.7</td><td>778.0</td><td>20.0</td><td>20.9</td><td>0.814</td><td>RG715</td><td>HoloPhAg</td></tr>\n",
       "<tr><td>91</td><td>151</td><td>1.008</td><td>2017-06-02T10:09:23.555</td><td>../OverScanRemove/trim_images/</td><td>120.0</td><td>7.272</td><td>12.8</td><td>778.0</td><td>20.0</td><td>16.1</td><td>0.822</td><td>RG715</td><td>HoloAmAg</td></tr>\n",
       "<tr><td>92</td><td>152</td><td>1.009</td><td>2017-06-02T10:12:15.699</td><td>../OverScanRemove/trim_images/</td><td>60.0</td><td>7.856</td><td>12.8</td><td>778.0</td><td>20.0</td><td>14.8</td><td>0.868</td><td>RG715</td><td>Ron400</td></tr>\n",
       "<tr><td>93</td><td>153</td><td>1.01</td><td>2017-06-02T10:14:08.046</td><td>../OverScanRemove/trim_images/</td><td>60.0</td><td>8.241</td><td>12.8</td><td>778.0</td><td>20.0</td><td>20.2</td><td>0.777</td><td>RG715</td><td>Thor300</td></tr>\n",
       "<tr><td>94</td><td>154</td><td>1.011</td><td>2017-06-02T10:16:00.504</td><td>../OverScanRemove/trim_images/</td><td>60.0</td><td>8.63</td><td>12.7</td><td>778.0</td><td>20.0</td><td>19.2</td><td>0.824</td><td>RG715</td><td>HoloPhP</td></tr>\n",
       "<tr><td>95</td><td>155</td><td>1.012</td><td>2017-06-02T10:17:52.954</td><td>../OverScanRemove/trim_images/</td><td>120.0</td><td>9.019</td><td>12.8</td><td>778.0</td><td>20.0</td><td>15.9</td><td>0.673</td><td>RG715</td><td>HoloPhAg</td></tr>\n",
       "<tr><td>96</td><td>156</td><td>1.014</td><td>2017-06-02T10:20:45.051</td><td>../OverScanRemove/trim_images/</td><td>120.0</td><td>9.619</td><td>12.7</td><td>778.0</td><td>20.0</td><td>19.9</td><td>0.859</td><td>RG715</td><td>HoloAmAg</td></tr>\n",
       "<tr><td>97</td><td>157</td><td>1.016</td><td>2017-06-02T10:23:38.097</td><td>../OverScanRemove/trim_images/</td><td>60.0</td><td>10.226</td><td>12.8</td><td>778.0</td><td>20.0</td><td>21.0</td><td>0.813</td><td>RG715</td><td>Ron400</td></tr>\n",
       "<tr><td>98</td><td>158</td><td>1.017</td><td>2017-06-02T10:25:30.602</td><td>../OverScanRemove/trim_images/</td><td>60.0</td><td>10.623</td><td>12.8</td><td>778.0</td><td>20.0</td><td>22.6</td><td>0.809</td><td>RG715</td><td>Thor300</td></tr>\n",
       "<tr><td>99</td><td>159</td><td>1.019</td><td>2017-06-02T10:27:23.052</td><td>../OverScanRemove/trim_images/</td><td>60.0</td><td>11.02</td><td>12.7</td><td>778.0</td><td>20.0</td><td>16.4</td><td>0.88</td><td>RG715</td><td>HoloPhP</td></tr>\n",
       "<tr><td>100</td><td>160</td><td>1.02</td><td>2017-06-02T10:29:15.455</td><td>../OverScanRemove/trim_images/</td><td>120.0</td><td>11.418</td><td>12.7</td><td>778.0</td><td>20.0</td><td>18.6</td><td>0.824</td><td>RG715</td><td>HoloPhAg</td></tr>\n",
       "</table><style>table.dataTable {clear: both; width: auto !important; margin: 0 !important;}\n",
       ".dataTables_info, .dataTables_length, .dataTables_filter, .dataTables_paginate{\n",
       "display: inline-block; margin-right: 1em; }\n",
       ".paginate_button { margin-right: 5px; }\n",
       "</style>\n",
       "<script>\n",
       "require.config({paths: {\n",
       "    datatables: 'https://cdn.datatables.net/1.10.12/js/jquery.dataTables.min'\n",
       "}});\n",
       "require([\"datatables\"], function(){\n",
       "    console.log(\"$('#table4519108176-314028').dataTable()\");\n",
       "    $('#table4519108176-314028').dataTable({\n",
       "        \"order\": [],\n",
       "        \"iDisplayLength\": 50,\n",
       "        \"aLengthMenu\": [[10, 25, 50, 100, 500, 1000, -1], [10, 25, 50, 100, 500, 1000, 'All']],\n",
       "        \"pagingType\": \"full_numbers\"\n",
       "    });\n",
       "});\n",
       "</script>\n"
      ],
      "text/plain": [
       "<IPython.core.display.HTML object>"
      ]
     },
     "execution_count": 35,
     "metadata": {},
     "output_type": "execute_result"
    }
   ],
   "source": [
    "thetable.show_in_notebook()"
   ]
  },
  {
   "cell_type": "markdown",
   "metadata": {
    "deletable": true,
    "editable": true
   },
   "source": [
    "## Read the logfile into a Table\n",
    "---------------------------------------"
   ]
  },
  {
   "cell_type": "code",
   "execution_count": 36,
   "metadata": {
    "collapsed": false,
    "deletable": true,
    "editable": true
   },
   "outputs": [
    {
     "name": "stdout",
     "output_type": "stream",
     "text": [
      "logbk_HD205905_June_01th_ctio01jun2017.fits\n"
     ]
    }
   ],
   "source": [
    "print logfile"
   ]
  },
  {
   "cell_type": "code",
   "execution_count": 37,
   "metadata": {
    "collapsed": true,
    "deletable": true,
    "editable": true
   },
   "outputs": [],
   "source": [
    "t = Table.read(logfile)"
   ]
  },
  {
   "cell_type": "code",
   "execution_count": 38,
   "metadata": {
    "collapsed": false,
    "deletable": true,
    "editable": true
   },
   "outputs": [
    {
     "data": {
      "text/html": [
       "&lt;Table length=101&gt;\n",
       "<table id=\"table4518844816\" class=\"table-striped table-bordered table-condensed\">\n",
       "<thead><tr><th>number</th><th>airmass</th><th>date</th><th>filename</th><th>exposure</th><th>zenith</th><th>temperature</th><th>pressure</th><th>humidity</th><th>windspeed</th><th>seeing</th><th>filter1</th><th>filter2</th></tr></thead>\n",
       "<thead><tr><th>int32</th><th>float32</th><th>str50</th><th>str30</th><th>float32</th><th>float32</th><th>float32</th><th>float32</th><th>float32</th><th>float32</th><th>float32</th><th>str20</th><th>str20</th></tr></thead>\n",
       "<tr><td>60</td><td>1.281</td><td>2017-06-02T06:42:01.306</td><td>../OverScanRemove/trim_images/</td><td>120.0</td><td>38.718</td><td>13.0</td><td>778.0</td><td>21.0</td><td>15.5</td><td>0.811</td><td>RG715</td><td>HoloPhAg</td></tr>\n",
       "<tr><td>61</td><td>1.27</td><td>2017-06-02T06:44:53.702</td><td>../OverScanRemove/trim_images/</td><td>120.0</td><td>38.1</td><td>13.1</td><td>778.0</td><td>21.0</td><td>17.4</td><td>0.829</td><td>RG715</td><td>HoloAmAg</td></tr>\n",
       "<tr><td>62</td><td>1.26</td><td>2017-06-02T06:47:45.844</td><td>../OverScanRemove/trim_images/</td><td>60.0</td><td>37.483</td><td>13.0</td><td>778.0</td><td>21.0</td><td>17.0</td><td>0.829</td><td>RG715</td><td>Ron400</td></tr>\n",
       "<tr><td>63</td><td>1.253</td><td>2017-06-02T06:49:38.151</td><td>../OverScanRemove/trim_images/</td><td>60.0</td><td>37.08</td><td>13.1</td><td>778.0</td><td>21.0</td><td>15.8</td><td>0.847</td><td>RG715</td><td>Thor300</td></tr>\n",
       "<tr><td>64</td><td>1.246</td><td>2017-06-02T06:51:30.502</td><td>../OverScanRemove/trim_images/</td><td>60.0</td><td>36.676</td><td>13.1</td><td>778.0</td><td>21.0</td><td>16.3</td><td>0.715</td><td>RG715</td><td>HoloPhP</td></tr>\n",
       "<tr><td>65</td><td>1.24</td><td>2017-06-02T06:53:22.851</td><td>../OverScanRemove/trim_images/</td><td>120.0</td><td>36.273</td><td>13.0</td><td>778.0</td><td>21.0</td><td>14.2</td><td>0.826</td><td>RG715</td><td>HoloPhAg</td></tr>\n",
       "<tr><td>66</td><td>1.23</td><td>2017-06-02T06:56:15.195</td><td>../OverScanRemove/trim_images/</td><td>120.0</td><td>35.654</td><td>13.0</td><td>778.0</td><td>21.0</td><td>12.3</td><td>0.783</td><td>RG715</td><td>HoloAmAg</td></tr>\n",
       "<tr><td>67</td><td>1.221</td><td>2017-06-02T06:59:07.605</td><td>../OverScanRemove/trim_images/</td><td>60.0</td><td>35.035</td><td>13.1</td><td>778.0</td><td>21.0</td><td>14.1</td><td>0.638</td><td>RG715</td><td>Ron400</td></tr>\n",
       "<tr><td>68</td><td>1.215</td><td>2017-06-02T07:00:59.949</td><td>../OverScanRemove/trim_images/</td><td>60.0</td><td>34.63</td><td>13.0</td><td>778.0</td><td>21.0</td><td>17.0</td><td>0.71</td><td>RG715</td><td>Thor300</td></tr>\n",
       "<tr><td>69</td><td>1.209</td><td>2017-06-02T07:02:52.252</td><td>../OverScanRemove/trim_images/</td><td>60.0</td><td>34.227</td><td>13.0</td><td>778.0</td><td>21.0</td><td>17.4</td><td>0.71</td><td>RG715</td><td>HoloPhP</td></tr>\n",
       "<tr><td>...</td><td>...</td><td>...</td><td>...</td><td>...</td><td>...</td><td>...</td><td>...</td><td>...</td><td>...</td><td>...</td><td>...</td><td>...</td></tr>\n",
       "<tr><td>151</td><td>1.008</td><td>2017-06-02T10:09:23.555</td><td>../OverScanRemove/trim_images/</td><td>120.0</td><td>7.272</td><td>12.8</td><td>778.0</td><td>20.0</td><td>16.1</td><td>0.822</td><td>RG715</td><td>HoloAmAg</td></tr>\n",
       "<tr><td>152</td><td>1.009</td><td>2017-06-02T10:12:15.699</td><td>../OverScanRemove/trim_images/</td><td>60.0</td><td>7.856</td><td>12.8</td><td>778.0</td><td>20.0</td><td>14.8</td><td>0.868</td><td>RG715</td><td>Ron400</td></tr>\n",
       "<tr><td>153</td><td>1.01</td><td>2017-06-02T10:14:08.046</td><td>../OverScanRemove/trim_images/</td><td>60.0</td><td>8.241</td><td>12.8</td><td>778.0</td><td>20.0</td><td>20.2</td><td>0.777</td><td>RG715</td><td>Thor300</td></tr>\n",
       "<tr><td>154</td><td>1.011</td><td>2017-06-02T10:16:00.504</td><td>../OverScanRemove/trim_images/</td><td>60.0</td><td>8.63</td><td>12.7</td><td>778.0</td><td>20.0</td><td>19.2</td><td>0.824</td><td>RG715</td><td>HoloPhP</td></tr>\n",
       "<tr><td>155</td><td>1.012</td><td>2017-06-02T10:17:52.954</td><td>../OverScanRemove/trim_images/</td><td>120.0</td><td>9.019</td><td>12.8</td><td>778.0</td><td>20.0</td><td>15.9</td><td>0.673</td><td>RG715</td><td>HoloPhAg</td></tr>\n",
       "<tr><td>156</td><td>1.014</td><td>2017-06-02T10:20:45.051</td><td>../OverScanRemove/trim_images/</td><td>120.0</td><td>9.619</td><td>12.7</td><td>778.0</td><td>20.0</td><td>19.9</td><td>0.859</td><td>RG715</td><td>HoloAmAg</td></tr>\n",
       "<tr><td>157</td><td>1.016</td><td>2017-06-02T10:23:38.097</td><td>../OverScanRemove/trim_images/</td><td>60.0</td><td>10.226</td><td>12.8</td><td>778.0</td><td>20.0</td><td>21.0</td><td>0.813</td><td>RG715</td><td>Ron400</td></tr>\n",
       "<tr><td>158</td><td>1.017</td><td>2017-06-02T10:25:30.602</td><td>../OverScanRemove/trim_images/</td><td>60.0</td><td>10.623</td><td>12.8</td><td>778.0</td><td>20.0</td><td>22.6</td><td>0.809</td><td>RG715</td><td>Thor300</td></tr>\n",
       "<tr><td>159</td><td>1.019</td><td>2017-06-02T10:27:23.052</td><td>../OverScanRemove/trim_images/</td><td>60.0</td><td>11.02</td><td>12.7</td><td>778.0</td><td>20.0</td><td>16.4</td><td>0.88</td><td>RG715</td><td>HoloPhP</td></tr>\n",
       "<tr><td>160</td><td>1.02</td><td>2017-06-02T10:29:15.455</td><td>../OverScanRemove/trim_images/</td><td>120.0</td><td>11.418</td><td>12.7</td><td>778.0</td><td>20.0</td><td>18.6</td><td>0.824</td><td>RG715</td><td>HoloPhAg</td></tr>\n",
       "</table>"
      ],
      "text/plain": [
       "<Table length=101>\n",
       "number airmass           date          ...  seeing filter1 filter2 \n",
       "int32  float32          str50          ... float32  str20   str20  \n",
       "------ ------- ----------------------- ... ------- ------- --------\n",
       "    60   1.281 2017-06-02T06:42:01.306 ...   0.811   RG715 HoloPhAg\n",
       "    61    1.27 2017-06-02T06:44:53.702 ...   0.829   RG715 HoloAmAg\n",
       "    62    1.26 2017-06-02T06:47:45.844 ...   0.829   RG715   Ron400\n",
       "    63   1.253 2017-06-02T06:49:38.151 ...   0.847   RG715  Thor300\n",
       "    64   1.246 2017-06-02T06:51:30.502 ...   0.715   RG715  HoloPhP\n",
       "    65    1.24 2017-06-02T06:53:22.851 ...   0.826   RG715 HoloPhAg\n",
       "    66    1.23 2017-06-02T06:56:15.195 ...   0.783   RG715 HoloAmAg\n",
       "    67   1.221 2017-06-02T06:59:07.605 ...   0.638   RG715   Ron400\n",
       "    68   1.215 2017-06-02T07:00:59.949 ...    0.71   RG715  Thor300\n",
       "    69   1.209 2017-06-02T07:02:52.252 ...    0.71   RG715  HoloPhP\n",
       "   ...     ...                     ... ...     ...     ...      ...\n",
       "   151   1.008 2017-06-02T10:09:23.555 ...   0.822   RG715 HoloAmAg\n",
       "   152   1.009 2017-06-02T10:12:15.699 ...   0.868   RG715   Ron400\n",
       "   153    1.01 2017-06-02T10:14:08.046 ...   0.777   RG715  Thor300\n",
       "   154   1.011 2017-06-02T10:16:00.504 ...   0.824   RG715  HoloPhP\n",
       "   155   1.012 2017-06-02T10:17:52.954 ...   0.673   RG715 HoloPhAg\n",
       "   156   1.014 2017-06-02T10:20:45.051 ...   0.859   RG715 HoloAmAg\n",
       "   157   1.016 2017-06-02T10:23:38.097 ...   0.813   RG715   Ron400\n",
       "   158   1.017 2017-06-02T10:25:30.602 ...   0.809   RG715  Thor300\n",
       "   159   1.019 2017-06-02T10:27:23.052 ...    0.88   RG715  HoloPhP\n",
       "   160    1.02 2017-06-02T10:29:15.455 ...   0.824   RG715 HoloPhAg"
      ]
     },
     "execution_count": 38,
     "metadata": {},
     "output_type": "execute_result"
    }
   ],
   "source": [
    "t"
   ]
  },
  {
   "cell_type": "markdown",
   "metadata": {
    "deletable": true,
    "editable": true
   },
   "source": [
    "## Convert into pandas to plot\n",
    "---------------------------------------"
   ]
  },
  {
   "cell_type": "code",
   "execution_count": 39,
   "metadata": {
    "collapsed": true,
    "deletable": true,
    "editable": true
   },
   "outputs": [],
   "source": [
    "df = t.to_pandas()"
   ]
  },
  {
   "cell_type": "code",
   "execution_count": 40,
   "metadata": {
    "collapsed": false,
    "deletable": true,
    "editable": true
   },
   "outputs": [
    {
     "data": {
      "text/plain": [
       "<matplotlib.axes._subplots.AxesSubplot at 0x10de36a90>"
      ]
     },
     "execution_count": 40,
     "metadata": {},
     "output_type": "execute_result"
    },
    {
     "data": {
      "image/png": "[encoded data removed]",
      "text/plain": [
       "<matplotlib.figure.Figure at 0x10d5aa3d0>"
      ]
     },
     "metadata": {},
     "output_type": "display_data"
    }
   ],
   "source": [
    "df.plot('date','airmass',figsize=(20,6),rot=45,grid=True,title='airmass vs date',color='b',marker='o',linewidth=2)\n"
   ]
  },
  {
   "cell_type": "code",
   "execution_count": 41,
   "metadata": {
    "collapsed": false,
    "deletable": true,
    "editable": true
   },
   "outputs": [
    {
     "data": {
      "text/plain": [
       "<matplotlib.axes._subplots.AxesSubplot at 0x10de36a10>"
      ]
     },
     "execution_count": 41,
     "metadata": {},
     "output_type": "execute_result"
    },
    {
     "data": {
      "image/png": "[encoded data removed]",
      "text/plain": [
       "<matplotlib.figure.Figure at 0x10d5e9150>"
      ]
     },
     "metadata": {},
     "output_type": "display_data"
    }
   ],
   "source": [
    "df.plot('date','exposure',figsize=(20,6),rot=45,grid=True,title='exposure vs date',color='b',marker='o',linewidth=2)"
   ]
  },
  {
   "cell_type": "markdown",
   "metadata": {
    "collapsed": true,
    "deletable": true,
    "editable": true
   },
   "source": [
    "### Save pandas file\n"
   ]
  },
  {
   "cell_type": "code",
   "execution_count": 42,
   "metadata": {
    "collapsed": true,
    "deletable": true,
    "editable": true
   },
   "outputs": [],
   "source": [
    "df.to_csv(pandaslogfile)"
   ]
  },
  {
   "cell_type": "code",
   "execution_count": null,
   "metadata": {
    "collapsed": true,
    "deletable": true,
    "editable": true
   },
   "outputs": [],
   "source": []
  }
 ],
 "metadata": {
  "anaconda-cloud": {},
  "kernelspec": {
   "display_name": "Python [default]",
   "language": "python",
   "name": "python2"
  },
  "language_info": {
   "codemirror_mode": {
    "name": "ipython",
    "version": 2
   },
   "file_extension": ".py",
   "mimetype": "text/x-python",
   "name": "python",
   "nbconvert_exporter": "python",
   "pygments_lexer": "ipython2",
   "version": "2.7.12"
  },
  "toc": {
   "colors": {
    "hover_highlight": "#DAA520",
    "running_highlight": "#FF0000",
    "selected_highlight": "#FFD700"
   },
   "moveMenuLeft": true,
   "nav_menu": {
    "height": "161px",
    "width": "252px"
   },
   "navigate_menu": true,
   "number_sections": true,
   "sideBar": true,
   "threshold": 4,
   "toc_cell": false,
   "toc_section_display": "block",
   "toc_window_display": false,
   "widenNotebook": false
  }
 },
 "nbformat": 4,
 "nbformat_minor": 0
}
