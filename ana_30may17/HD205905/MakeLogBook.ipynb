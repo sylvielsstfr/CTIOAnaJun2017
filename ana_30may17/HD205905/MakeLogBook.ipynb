{
 "cells": [
  {
   "cell_type": "markdown",
   "metadata": {
    "deletable": true,
    "editable": true
   },
   "source": [
    "# Make Logbook of Trim images of CTIO Data\n",
    "==================================================================================================\n",
    "\n",
    "- author : Sylvie Dagoret-Campagne\n",
    "- affiliation : LAL/IN2P3/CNRS, France\n",
    "- date   : Juin 16 2016\n"
   ]
  },
  {
   "cell_type": "code",
   "execution_count": 45,
   "metadata": {
    "collapsed": false,
    "deletable": true,
    "editable": true
   },
   "outputs": [
    {
     "data": {
      "application/javascript": [
       "var kernel = IPython.notebook.kernel;\n",
       "var thename = window.document.getElementById(\"notebook_name\").innerHTML;\n",
       "var command = \"theNotebook = \" + \"'\"+thename+\"'\";\n",
       "kernel.execute(command);"
      ],
      "text/plain": [
       "<IPython.core.display.Javascript object>"
      ]
     },
     "metadata": {},
     "output_type": "display_data"
    }
   ],
   "source": [
    "%%javascript\n",
    "var kernel = IPython.notebook.kernel;\n",
    "var thename = window.document.getElementById(\"notebook_name\").innerHTML;\n",
    "var command = \"theNotebook = \" + \"'\"+thename+\"'\";\n",
    "kernel.execute(command);"
   ]
  },
  {
   "cell_type": "code",
   "execution_count": 46,
   "metadata": {
    "collapsed": false,
    "deletable": true,
    "editable": true
   },
   "outputs": [
    {
     "name": "stdout",
     "output_type": "stream",
     "text": [
      "MakeLogBook\n"
     ]
    }
   ],
   "source": [
    "print(theNotebook)"
   ]
  },
  {
   "cell_type": "code",
   "execution_count": 47,
   "metadata": {
    "collapsed": false,
    "deletable": true,
    "editable": true
   },
   "outputs": [],
   "source": [
    "%matplotlib inline\n",
    "import matplotlib.pyplot as plt\n",
    "import numpy as np\n",
    "\n",
    "from astropy.modeling import models\n",
    "from astropy import units as u\n",
    "from astropy import nddata\n",
    "from astropy.io import fits\n",
    "from astropy.table import Table, Column\n",
    "import re\n",
    "import os"
   ]
  },
  {
   "cell_type": "code",
   "execution_count": 48,
   "metadata": {
    "collapsed": true,
    "deletable": true,
    "editable": true
   },
   "outputs": [],
   "source": [
    "import pandas as pd"
   ]
  },
  {
   "cell_type": "code",
   "execution_count": 49,
   "metadata": {
    "collapsed": false,
    "deletable": true,
    "editable": true
   },
   "outputs": [],
   "source": [
    "# to enlarge the sizes\n",
    "params = {'legend.fontsize': 'x-large',\n",
    "          'figure.figsize': (8, 8),\n",
    "         'axes.labelsize': 'x-large',\n",
    "         'axes.titlesize':'x-large',\n",
    "         'xtick.labelsize':'x-large',\n",
    "         'ytick.labelsize':'x-large'}\n",
    "plt.rcParams.update(params)"
   ]
  },
  {
   "cell_type": "markdown",
   "metadata": {
    "deletable": true,
    "editable": true
   },
   "source": [
    "## Location of trim images\n",
    "----------------------------------"
   ]
  },
  {
   "cell_type": "code",
   "execution_count": 50,
   "metadata": {
    "collapsed": true
   },
   "outputs": [],
   "source": [
    "rootpath_rawimage=\"../OverScanRemove/trim_images\"\n",
    "MIN_IMGNUMBER=208\n",
    "MAX_IMGNUMBER=284\n",
    "object_name='HD205905_May_30th'\n",
    "SelectTagRe='^trim_20170530_([0-9]+).fits$' # regular expression to select the file\n",
    "SearchTagRe='^trim_20170530_[0-9]+.fits$'\n",
    "NBIMGPERLROW=4"
   ]
  },
  {
   "cell_type": "code",
   "execution_count": 51,
   "metadata": {
    "collapsed": true,
    "deletable": true,
    "editable": true
   },
   "outputs": [],
   "source": [
    "#rootpath_rawimage=\"/Users/dagoret-campagnesylvie/MacOsX/LSST/MyWork/GitHub/CTIOData2016/November2016/mucol\"\n",
    "#object_name='mucol'\n",
    "infos='ctio30may2017'"
   ]
  },
  {
   "cell_type": "code",
   "execution_count": 52,
   "metadata": {
    "collapsed": false,
    "deletable": true,
    "editable": true
   },
   "outputs": [],
   "source": [
    "logfile='logbk_'+object_name+'_'+infos+'.fits'\n",
    "pandaslogfile='logbk_'+object_name+'_'+infos+'.csv'"
   ]
  },
  {
   "cell_type": "code",
   "execution_count": 53,
   "metadata": {
    "collapsed": true,
    "deletable": true,
    "editable": true
   },
   "outputs": [],
   "source": [
    "dirlist=[]\n",
    "dirlist.append(rootpath_rawimage)\n",
    "dirlist_all=np.array(dirlist)"
   ]
  },
  {
   "cell_type": "code",
   "execution_count": 54,
   "metadata": {
    "collapsed": false,
    "deletable": true,
    "editable": true
   },
   "outputs": [],
   "source": [
    "filelist_all=os.listdir(rootpath_rawimage) "
   ]
  },
  {
   "cell_type": "code",
   "execution_count": 55,
   "metadata": {
    "collapsed": false,
    "deletable": true,
    "editable": true
   },
   "outputs": [
    {
     "data": {
      "text/plain": [
       "['trim_20170530_058.fits',\n",
       " 'trim_20170530_059.fits',\n",
       " 'trim_20170530_060.fits',\n",
       " 'trim_20170530_061.fits',\n",
       " 'trim_20170530_062.fits',\n",
       " 'trim_20170530_063.fits',\n",
       " 'trim_20170530_064.fits',\n",
       " 'trim_20170530_065.fits',\n",
       " 'trim_20170530_066.fits',\n",
       " 'trim_20170530_067.fits',\n",
       " 'trim_20170530_068.fits',\n",
       " 'trim_20170530_069.fits',\n",
       " 'trim_20170530_070.fits',\n",
       " 'trim_20170530_071.fits',\n",
       " 'trim_20170530_072.fits',\n",
       " 'trim_20170530_073.fits',\n",
       " 'trim_20170530_074.fits',\n",
       " 'trim_20170530_075.fits',\n",
       " 'trim_20170530_076.fits',\n",
       " 'trim_20170530_077.fits',\n",
       " 'trim_20170530_078.fits',\n",
       " 'trim_20170530_079.fits',\n",
       " 'trim_20170530_080.fits',\n",
       " 'trim_20170530_081.fits',\n",
       " 'trim_20170530_082.fits',\n",
       " 'trim_20170530_083.fits',\n",
       " 'trim_20170530_084.fits',\n",
       " 'trim_20170530_085.fits',\n",
       " 'trim_20170530_086.fits',\n",
       " 'trim_20170530_087.fits',\n",
       " 'trim_20170530_088.fits',\n",
       " 'trim_20170530_089.fits',\n",
       " 'trim_20170530_090.fits',\n",
       " 'trim_20170530_091.fits',\n",
       " 'trim_20170530_092.fits',\n",
       " 'trim_20170530_093.fits',\n",
       " 'trim_20170530_094.fits',\n",
       " 'trim_20170530_095.fits',\n",
       " 'trim_20170530_096.fits',\n",
       " 'trim_20170530_097.fits',\n",
       " 'trim_20170530_098.fits',\n",
       " 'trim_20170530_099.fits',\n",
       " 'trim_20170530_100.fits',\n",
       " 'trim_20170530_101.fits',\n",
       " 'trim_20170530_102.fits',\n",
       " 'trim_20170530_103.fits',\n",
       " 'trim_20170530_104.fits',\n",
       " 'trim_20170530_105.fits',\n",
       " 'trim_20170530_106.fits',\n",
       " 'trim_20170530_107.fits',\n",
       " 'trim_20170530_108.fits',\n",
       " 'trim_20170530_109.fits',\n",
       " 'trim_20170530_110.fits',\n",
       " 'trim_20170530_111.fits',\n",
       " 'trim_20170530_112.fits',\n",
       " 'trim_20170530_113.fits',\n",
       " 'trim_20170530_114.fits',\n",
       " 'trim_20170530_115.fits',\n",
       " 'trim_20170530_116.fits',\n",
       " 'trim_20170530_117.fits',\n",
       " 'trim_20170530_118.fits',\n",
       " 'trim_20170530_119.fits',\n",
       " 'trim_20170530_120.fits',\n",
       " 'trim_20170530_121.fits',\n",
       " 'trim_20170530_122.fits',\n",
       " 'trim_20170530_123.fits',\n",
       " 'trim_20170530_124.fits',\n",
       " 'trim_20170530_125.fits',\n",
       " 'trim_20170530_126.fits',\n",
       " 'trim_20170530_127.fits',\n",
       " 'trim_20170530_128.fits',\n",
       " 'trim_20170530_129.fits',\n",
       " 'trim_20170530_130.fits',\n",
       " 'trim_20170530_131.fits',\n",
       " 'trim_20170530_132.fits',\n",
       " 'trim_20170530_133.fits',\n",
       " 'trim_20170530_134.fits',\n",
       " 'trim_20170530_135.fits',\n",
       " 'trim_20170530_136.fits',\n",
       " 'trim_20170530_137.fits',\n",
       " 'trim_20170530_138.fits',\n",
       " 'trim_20170530_139.fits',\n",
       " 'trim_20170530_140.fits',\n",
       " 'trim_20170530_141.fits',\n",
       " 'trim_20170530_142.fits',\n",
       " 'trim_20170530_143.fits',\n",
       " 'trim_20170530_144.fits',\n",
       " 'trim_20170530_145.fits',\n",
       " 'trim_20170530_146.fits',\n",
       " 'trim_20170530_147.fits',\n",
       " 'trim_20170530_148.fits',\n",
       " 'trim_20170530_149.fits',\n",
       " 'trim_20170530_150.fits',\n",
       " 'trim_20170530_151.fits',\n",
       " 'trim_20170530_152.fits',\n",
       " 'trim_20170530_153.fits',\n",
       " 'trim_20170530_154.fits',\n",
       " 'trim_20170530_155.fits',\n",
       " 'trim_20170530_156.fits',\n",
       " 'trim_20170530_157.fits',\n",
       " 'trim_20170530_158.fits',\n",
       " 'trim_20170530_159.fits',\n",
       " 'trim_20170530_160.fits',\n",
       " 'trim_20170530_161.fits',\n",
       " 'trim_20170530_162.fits',\n",
       " 'trim_20170530_163.fits',\n",
       " 'trim_20170530_164.fits',\n",
       " 'trim_20170530_165.fits',\n",
       " 'trim_20170530_166.fits',\n",
       " 'trim_20170530_167.fits',\n",
       " 'trim_20170530_168.fits',\n",
       " 'trim_20170530_169.fits',\n",
       " 'trim_20170530_170.fits',\n",
       " 'trim_20170530_171.fits',\n",
       " 'trim_20170530_172.fits',\n",
       " 'trim_20170530_173.fits',\n",
       " 'trim_20170530_174.fits',\n",
       " 'trim_20170530_175.fits',\n",
       " 'trim_20170530_176.fits',\n",
       " 'trim_20170530_177.fits',\n",
       " 'trim_20170530_178.fits',\n",
       " 'trim_20170530_179.fits',\n",
       " 'trim_20170530_180.fits',\n",
       " 'trim_20170530_181.fits',\n",
       " 'trim_20170530_182.fits',\n",
       " 'trim_20170530_183.fits',\n",
       " 'trim_20170530_184.fits',\n",
       " 'trim_20170530_185.fits',\n",
       " 'trim_20170530_186.fits',\n",
       " 'trim_20170530_187.fits',\n",
       " 'trim_20170530_188.fits',\n",
       " 'trim_20170530_189.fits',\n",
       " 'trim_20170530_190.fits',\n",
       " 'trim_20170530_191.fits',\n",
       " 'trim_20170530_192.fits',\n",
       " 'trim_20170530_193.fits',\n",
       " 'trim_20170530_194.fits',\n",
       " 'trim_20170530_195.fits',\n",
       " 'trim_20170530_196.fits',\n",
       " 'trim_20170530_197.fits',\n",
       " 'trim_20170530_198.fits',\n",
       " 'trim_20170530_199.fits',\n",
       " 'trim_20170530_200.fits',\n",
       " 'trim_20170530_201.fits',\n",
       " 'trim_20170530_203.fits',\n",
       " 'trim_20170530_204.fits',\n",
       " 'trim_20170530_205.fits',\n",
       " 'trim_20170530_206.fits',\n",
       " 'trim_20170530_207.fits',\n",
       " 'trim_20170530_210.fits',\n",
       " 'trim_20170530_211.fits',\n",
       " 'trim_20170530_212.fits',\n",
       " 'trim_20170530_213.fits',\n",
       " 'trim_20170530_214.fits',\n",
       " 'trim_20170530_215.fits',\n",
       " 'trim_20170530_216.fits',\n",
       " 'trim_20170530_217.fits',\n",
       " 'trim_20170530_218.fits',\n",
       " 'trim_20170530_219.fits',\n",
       " 'trim_20170530_220.fits',\n",
       " 'trim_20170530_221.fits',\n",
       " 'trim_20170530_222.fits',\n",
       " 'trim_20170530_223.fits',\n",
       " 'trim_20170530_224.fits',\n",
       " 'trim_20170530_225.fits',\n",
       " 'trim_20170530_226.fits',\n",
       " 'trim_20170530_227.fits',\n",
       " 'trim_20170530_228.fits',\n",
       " 'trim_20170530_229.fits',\n",
       " 'trim_20170530_230.fits',\n",
       " 'trim_20170530_231.fits',\n",
       " 'trim_20170530_232.fits',\n",
       " 'trim_20170530_233.fits',\n",
       " 'trim_20170530_234.fits',\n",
       " 'trim_20170530_235.fits',\n",
       " 'trim_20170530_236.fits',\n",
       " 'trim_20170530_237.fits',\n",
       " 'trim_20170530_238.fits',\n",
       " 'trim_20170530_239.fits',\n",
       " 'trim_20170530_240.fits',\n",
       " 'trim_20170530_241.fits',\n",
       " 'trim_20170530_242.fits',\n",
       " 'trim_20170530_243.fits',\n",
       " 'trim_20170530_244.fits',\n",
       " 'trim_20170530_245.fits',\n",
       " 'trim_20170530_246.fits',\n",
       " 'trim_20170530_247.fits',\n",
       " 'trim_20170530_248.fits',\n",
       " 'trim_20170530_249.fits',\n",
       " 'trim_20170530_250.fits',\n",
       " 'trim_20170530_251.fits',\n",
       " 'trim_20170530_252.fits',\n",
       " 'trim_20170530_253.fits',\n",
       " 'trim_20170530_254.fits',\n",
       " 'trim_20170530_255.fits',\n",
       " 'trim_20170530_256.fits',\n",
       " 'trim_20170530_257.fits',\n",
       " 'trim_20170530_258.fits',\n",
       " 'trim_20170530_259.fits',\n",
       " 'trim_20170530_260.fits',\n",
       " 'trim_20170530_261.fits',\n",
       " 'trim_20170530_262.fits',\n",
       " 'trim_20170530_263.fits',\n",
       " 'trim_20170530_264.fits',\n",
       " 'trim_20170530_265.fits',\n",
       " 'trim_20170530_266.fits',\n",
       " 'trim_20170530_267.fits',\n",
       " 'trim_20170530_268.fits',\n",
       " 'trim_20170530_269.fits',\n",
       " 'trim_20170530_270.fits',\n",
       " 'trim_20170530_271.fits',\n",
       " 'trim_20170530_272.fits',\n",
       " 'trim_20170530_273.fits',\n",
       " 'trim_20170530_274.fits',\n",
       " 'trim_20170530_275.fits',\n",
       " 'trim_20170530_276.fits',\n",
       " 'trim_20170530_277.fits',\n",
       " 'trim_20170530_278.fits',\n",
       " 'trim_20170530_279.fits',\n",
       " 'trim_20170530_280.fits',\n",
       " 'trim_20170530_281.fits',\n",
       " 'trim_20170530_282.fits',\n",
       " 'trim_20170530_283.fits',\n",
       " 'trim_20170530_284.fits',\n",
       " 'trim_20170630_001.fits',\n",
       " 'trim_20170630_002.fits',\n",
       " 'trim_20170630_003.fits',\n",
       " 'trim_20170630_004.fits',\n",
       " 'trim_20170630_005.fits',\n",
       " 'trim_20170630_006.fits',\n",
       " 'trim_20170630_007.fits',\n",
       " 'trim_20170630_008.fits',\n",
       " 'trim_20170630_009.fits',\n",
       " 'trim_20170630_010.fits',\n",
       " 'trim_20170630_011.fits',\n",
       " 'trim_20170630_012.fits',\n",
       " 'trim_20170630_013.fits',\n",
       " 'trim_20170630_014.fits',\n",
       " 'trim_20170630_015.fits',\n",
       " 'trim_20170630_016.fits',\n",
       " 'trim_20170630_017.fits',\n",
       " 'trim_20170630_018.fits',\n",
       " 'trim_20170630_019.fits',\n",
       " 'trim_20170630_020.fits',\n",
       " 'trim_20170630_021.fits',\n",
       " 'trim_20170630_022.fits',\n",
       " 'trim_20170630_023.fits',\n",
       " 'trim_20170630_024.fits',\n",
       " 'trim_20170630_025.fits',\n",
       " 'trim_20170630_026.fits',\n",
       " 'trim_20170630_027.fits',\n",
       " 'trim_20170630_028.fits',\n",
       " 'trim_20170630_029.fits',\n",
       " 'trim_20170630_030.fits',\n",
       " 'trim_20170630_031.fits',\n",
       " 'trim_20170630_032.fits',\n",
       " 'trim_20170630_033.fits',\n",
       " 'trim_20170630_034.fits',\n",
       " 'trim_20170630_035.fits',\n",
       " 'trim_20170630_036.fits',\n",
       " 'trim_20170630_037.fits',\n",
       " 'trim_20170630_038.fits',\n",
       " 'trim_20170630_039.fits',\n",
       " 'trim_20170630_040.fits',\n",
       " 'trim_20170630_041.fits',\n",
       " 'trim_20170630_042.fits',\n",
       " 'trim_20170630_043.fits',\n",
       " 'trim_20170630_044.fits',\n",
       " 'trim_20170630_045.fits',\n",
       " 'trim_20170630_046.fits',\n",
       " 'trim_20170630_047.fits',\n",
       " 'trim_20170630_048.fits',\n",
       " 'trim_20170630_049.fits',\n",
       " 'trim_20170630_050.fits',\n",
       " 'trim_20170630_051.fits',\n",
       " 'trim_20170630_052.fits']"
      ]
     },
     "execution_count": 55,
     "metadata": {},
     "output_type": "execute_result"
    }
   ],
   "source": [
    "#dirlist_all.remove('.DS_Store') # reove that file in a mAC\n",
    "filelist_all"
   ]
  },
  {
   "cell_type": "code",
   "execution_count": 56,
   "metadata": {
    "collapsed": true,
    "deletable": true,
    "editable": true
   },
   "outputs": [],
   "source": [
    "indexes_files= [] # global list\n",
    "filelist_fitsimages= []  # global list"
   ]
  },
  {
   "cell_type": "code",
   "execution_count": 57,
   "metadata": {
    "collapsed": false,
    "deletable": true,
    "editable": true
   },
   "outputs": [],
   "source": [
    "def MakeFileList():\n",
    "    \"\"\"\n",
    "    MakeFileList : Make The List of files to open\n",
    "    =============\n",
    "    \n",
    "    - we select the files which are of interest.\n",
    "    - In particular select the number range\n",
    "    \n",
    "    \"\"\"\n",
    "    count=0\n",
    "    \n",
    "    for dir in dirlist_all: # loop on directories, one per image   (if necessary)    \n",
    "            dir_leaf= dir # build the name of leaf directory\n",
    "            listfiles=os.listdir(dir_leaf) \n",
    "            for filename in listfiles:\n",
    "                if re.search(SearchTagRe,filename):  #example of filename filter\n",
    "                    str_index=re.findall(SelectTagRe,filename)\n",
    "                    count=count+1\n",
    "                    index=int(str_index[0])\n",
    "                    if index >= MIN_IMGNUMBER and index <= MAX_IMGNUMBER: \n",
    "                        indexes_files.append(index)         \n",
    "                        shortfilename=dir_leaf+'/'+filename\n",
    "                        filelist_fitsimages.append(shortfilename)\n",
    "                    \n",
    "    return"
   ]
  },
  {
   "cell_type": "code",
   "execution_count": 58,
   "metadata": {
    "collapsed": false,
    "deletable": true,
    "editable": true
   },
   "outputs": [],
   "source": [
    "MakeFileList()   # Make the list"
   ]
  },
  {
   "cell_type": "code",
   "execution_count": 59,
   "metadata": {
    "collapsed": true,
    "deletable": true,
    "editable": true
   },
   "outputs": [],
   "source": [
    "indexes_files=np.array(indexes_files)\n",
    "filelist_fitsimages=np.array(filelist_fitsimages)"
   ]
  },
  {
   "cell_type": "code",
   "execution_count": 60,
   "metadata": {
    "collapsed": false,
    "deletable": true,
    "editable": true
   },
   "outputs": [
    {
     "data": {
      "text/plain": [
       "array([210, 211, 212, 213, 214, 215, 216, 217, 218, 219, 220, 221, 222,\n",
       "       223, 224, 225, 226, 227, 228, 229, 230, 231, 232, 233, 234, 235,\n",
       "       236, 237, 238, 239, 240, 241, 242, 243, 244, 245, 246, 247, 248,\n",
       "       249, 250, 251, 252, 253, 254, 255, 256, 257, 258, 259, 260, 261,\n",
       "       262, 263, 264, 265, 266, 267, 268, 269, 270, 271, 272, 273, 274,\n",
       "       275, 276, 277, 278, 279, 280, 281, 282, 283, 284])"
      ]
     },
     "execution_count": 60,
     "metadata": {},
     "output_type": "execute_result"
    }
   ],
   "source": [
    "indexes_files"
   ]
  },
  {
   "cell_type": "code",
   "execution_count": 61,
   "metadata": {
    "collapsed": true,
    "deletable": true,
    "editable": true
   },
   "outputs": [],
   "source": [
    "sorted_indexes=np.argsort(indexes_files) # sort the file indexes"
   ]
  },
  {
   "cell_type": "code",
   "execution_count": 62,
   "metadata": {
    "collapsed": true,
    "deletable": true,
    "editable": true
   },
   "outputs": [],
   "source": [
    "sorted_files=filelist_fitsimages[sorted_indexes]"
   ]
  },
  {
   "cell_type": "code",
   "execution_count": 63,
   "metadata": {
    "collapsed": true,
    "deletable": true,
    "editable": true
   },
   "outputs": [],
   "source": [
    "sorted_numbers=indexes_files[sorted_indexes]"
   ]
  },
  {
   "cell_type": "code",
   "execution_count": 64,
   "metadata": {
    "collapsed": true,
    "deletable": true,
    "editable": true
   },
   "outputs": [],
   "source": [
    "sorted_filenames=[]\n",
    "for file in sorted_files:\n",
    "    #fullfilename=os.path.join(rootpath_rawimage,file)\n",
    "    fullfilename=file\n",
    "    sorted_filenames.append(fullfilename)"
   ]
  },
  {
   "cell_type": "code",
   "execution_count": 65,
   "metadata": {
    "collapsed": true,
    "deletable": true,
    "editable": true
   },
   "outputs": [],
   "source": [
    "sorted_filenames=np.array(sorted_filenames)"
   ]
  },
  {
   "cell_type": "code",
   "execution_count": 66,
   "metadata": {
    "collapsed": false,
    "deletable": true,
    "editable": true
   },
   "outputs": [
    {
     "data": {
      "text/plain": [
       "array(['../OverScanRemove/trim_images/trim_20170530_210.fits',\n",
       "       '../OverScanRemove/trim_images/trim_20170530_211.fits',\n",
       "       '../OverScanRemove/trim_images/trim_20170530_212.fits',\n",
       "       '../OverScanRemove/trim_images/trim_20170530_213.fits',\n",
       "       '../OverScanRemove/trim_images/trim_20170530_214.fits',\n",
       "       '../OverScanRemove/trim_images/trim_20170530_215.fits',\n",
       "       '../OverScanRemove/trim_images/trim_20170530_216.fits',\n",
       "       '../OverScanRemove/trim_images/trim_20170530_217.fits',\n",
       "       '../OverScanRemove/trim_images/trim_20170530_218.fits',\n",
       "       '../OverScanRemove/trim_images/trim_20170530_219.fits',\n",
       "       '../OverScanRemove/trim_images/trim_20170530_220.fits',\n",
       "       '../OverScanRemove/trim_images/trim_20170530_221.fits',\n",
       "       '../OverScanRemove/trim_images/trim_20170530_222.fits',\n",
       "       '../OverScanRemove/trim_images/trim_20170530_223.fits',\n",
       "       '../OverScanRemove/trim_images/trim_20170530_224.fits',\n",
       "       '../OverScanRemove/trim_images/trim_20170530_225.fits',\n",
       "       '../OverScanRemove/trim_images/trim_20170530_226.fits',\n",
       "       '../OverScanRemove/trim_images/trim_20170530_227.fits',\n",
       "       '../OverScanRemove/trim_images/trim_20170530_228.fits',\n",
       "       '../OverScanRemove/trim_images/trim_20170530_229.fits',\n",
       "       '../OverScanRemove/trim_images/trim_20170530_230.fits',\n",
       "       '../OverScanRemove/trim_images/trim_20170530_231.fits',\n",
       "       '../OverScanRemove/trim_images/trim_20170530_232.fits',\n",
       "       '../OverScanRemove/trim_images/trim_20170530_233.fits',\n",
       "       '../OverScanRemove/trim_images/trim_20170530_234.fits',\n",
       "       '../OverScanRemove/trim_images/trim_20170530_235.fits',\n",
       "       '../OverScanRemove/trim_images/trim_20170530_236.fits',\n",
       "       '../OverScanRemove/trim_images/trim_20170530_237.fits',\n",
       "       '../OverScanRemove/trim_images/trim_20170530_238.fits',\n",
       "       '../OverScanRemove/trim_images/trim_20170530_239.fits',\n",
       "       '../OverScanRemove/trim_images/trim_20170530_240.fits',\n",
       "       '../OverScanRemove/trim_images/trim_20170530_241.fits',\n",
       "       '../OverScanRemove/trim_images/trim_20170530_242.fits',\n",
       "       '../OverScanRemove/trim_images/trim_20170530_243.fits',\n",
       "       '../OverScanRemove/trim_images/trim_20170530_244.fits',\n",
       "       '../OverScanRemove/trim_images/trim_20170530_245.fits',\n",
       "       '../OverScanRemove/trim_images/trim_20170530_246.fits',\n",
       "       '../OverScanRemove/trim_images/trim_20170530_247.fits',\n",
       "       '../OverScanRemove/trim_images/trim_20170530_248.fits',\n",
       "       '../OverScanRemove/trim_images/trim_20170530_249.fits',\n",
       "       '../OverScanRemove/trim_images/trim_20170530_250.fits',\n",
       "       '../OverScanRemove/trim_images/trim_20170530_251.fits',\n",
       "       '../OverScanRemove/trim_images/trim_20170530_252.fits',\n",
       "       '../OverScanRemove/trim_images/trim_20170530_253.fits',\n",
       "       '../OverScanRemove/trim_images/trim_20170530_254.fits',\n",
       "       '../OverScanRemove/trim_images/trim_20170530_255.fits',\n",
       "       '../OverScanRemove/trim_images/trim_20170530_256.fits',\n",
       "       '../OverScanRemove/trim_images/trim_20170530_257.fits',\n",
       "       '../OverScanRemove/trim_images/trim_20170530_258.fits',\n",
       "       '../OverScanRemove/trim_images/trim_20170530_259.fits',\n",
       "       '../OverScanRemove/trim_images/trim_20170530_260.fits',\n",
       "       '../OverScanRemove/trim_images/trim_20170530_261.fits',\n",
       "       '../OverScanRemove/trim_images/trim_20170530_262.fits',\n",
       "       '../OverScanRemove/trim_images/trim_20170530_263.fits',\n",
       "       '../OverScanRemove/trim_images/trim_20170530_264.fits',\n",
       "       '../OverScanRemove/trim_images/trim_20170530_265.fits',\n",
       "       '../OverScanRemove/trim_images/trim_20170530_266.fits',\n",
       "       '../OverScanRemove/trim_images/trim_20170530_267.fits',\n",
       "       '../OverScanRemove/trim_images/trim_20170530_268.fits',\n",
       "       '../OverScanRemove/trim_images/trim_20170530_269.fits',\n",
       "       '../OverScanRemove/trim_images/trim_20170530_270.fits',\n",
       "       '../OverScanRemove/trim_images/trim_20170530_271.fits',\n",
       "       '../OverScanRemove/trim_images/trim_20170530_272.fits',\n",
       "       '../OverScanRemove/trim_images/trim_20170530_273.fits',\n",
       "       '../OverScanRemove/trim_images/trim_20170530_274.fits',\n",
       "       '../OverScanRemove/trim_images/trim_20170530_275.fits',\n",
       "       '../OverScanRemove/trim_images/trim_20170530_276.fits',\n",
       "       '../OverScanRemove/trim_images/trim_20170530_277.fits',\n",
       "       '../OverScanRemove/trim_images/trim_20170530_278.fits',\n",
       "       '../OverScanRemove/trim_images/trim_20170530_279.fits',\n",
       "       '../OverScanRemove/trim_images/trim_20170530_280.fits',\n",
       "       '../OverScanRemove/trim_images/trim_20170530_281.fits',\n",
       "       '../OverScanRemove/trim_images/trim_20170530_282.fits',\n",
       "       '../OverScanRemove/trim_images/trim_20170530_283.fits',\n",
       "       '../OverScanRemove/trim_images/trim_20170530_284.fits'], \n",
       "      dtype='|S52')"
      ]
     },
     "execution_count": 66,
     "metadata": {},
     "output_type": "execute_result"
    }
   ],
   "source": [
    "sorted_filenames"
   ]
  },
  {
   "cell_type": "code",
   "execution_count": 67,
   "metadata": {
    "collapsed": false,
    "deletable": true,
    "editable": true
   },
   "outputs": [
    {
     "name": "stdout",
     "output_type": "stream",
     "text": [
      "SIMPLE  =                    T / conforms to FITS standard                      BITPIX  =                  -64 / array data type                                NAXIS   =                    2 / number of array dimensions                     NAXIS1  =                 2048                                                  NAXIS2  =                 2048                                                  COMMENT   FITS (Flexible Image Transport System) format is defined in 'AstronomyCOMMENT   and Astrophysics', volume 376, page 359; bibcode: 2001A&A...376..359H OBJECT  = 'HD205905'           / Name of object observed                        OBSERVER= '        '           / observer                                       PROPID  = '        '           / Proposal ID                                    RECID   = 'ct36.20170531.075438' / NOAO Archibe record ID                       PROPID  = '        '           / Proposal ID                                    IMAGETYP= 'object  '           / Type of picture (object, dark, comp, etc)      CCDSUM  = '1 1     '           / On chip summation (X, Y)                       XSTART  =                    1 / start of roi in X                              YSTART  =                    1 / start of roi in Y                              XLENGTH =                 2048 / length of roi in X                             YLENGTH =                 2048 / length of roi in Y                             UTSHUT  = '2017-05-31T07:54:38.806' / UT of shutter open                        UT      = '07:54:38.806'       / UT of TCS coordinates                          DATE-OBS= '2017-05-31T07:54:38.806' / date of observations start                DATE    = '2017-05-31T07:55:40' / file creation date (YYYY-MM-DDThh:mm:ss UT)   NAMPSYX = '2 2     '           / Num amps in y and x (eg. '2 2=quad')           AMPLIST = '11 12 21 22'        / Readout order in y,x                           GTRON11 =                  12. / (e-) predicted read noise, lower left          GTRON12 =                  12. / (e-) predicted read noise, lower right         GTRON21 =                  12. / (e-) predicted read noise, upper left          GTRON22 =                  12. / (e-) predicted read noise, upper right         GTGAIN11=                   3. / (e-/ADU) predicted gain, lower left            GTGAIN12=                   3. / (e-/ADU) predicted gain, lower right           GTGAIN21=                   3. / (e-/ADU) predicted gain, upper left            GTGAIN22=                   3. / (e-/ADU) predicted gain, upper right           ASEC11  = '[1:1084,1:1024]'    / amplifier section Amp11(LL) detID 1            BSEC11  = '[1045:1084,1:1024]' / bias section Amp11(LL) detID 1                 CSEC11  = '[1:1034,1:1024]'    / section in full ccd for DSEC Amp11(LL) detID 1 DSEC11  = '[1:1034,1:1024]'    / image section in raw frame Amp11(LL) detID 1   TSEC11  = '[11:1034,1:1024]'   / trim section Amp11(LL) detID 1                 ABSEC11 = '[1045:1084,1:1024]' / overscan inside amp                            ADSEC11 = '[1:1024,1:1024]'    / detector section only                          ASEC12  = '[1085:2168,1:1024]' / amplifier section Amp12(LR) detID 1            BSEC12  = '[1085:1124,1:1024]' / bias section Amp12(LR) detID 1                 CSEC12  = '[1035:2068,1:1024]' / section in full ccd for DSEC Amp12(LR) detID 1 DSEC12  = '[1135:2168,1:1024]' / image section in raw frame Amp12(LR) detID 1   TSEC12  = '[1135:2158,1:1024]' / trim section Amp12(LR) detID 1                 ABSEC12 = '[1:40,1:1024]'      / overscan inside amp                            ADSEC12 = '[1025:2048,1:1024]' / detector section only                          ASEC21  = '[1:1084,1025:2048]' / amplifier section Amp21(UL) detID 1            BSEC21  = '[1045:1084,1025:2048]' / bias section Amp21(UL) detID 1              CSEC21  = '[1:1034,1025:2048]' / section in full ccd for DSEC Amp21(UL) detID 1 DSEC21  = '[1:1034,1025:2048]' / image section in raw frame Amp21(UL) detID 1   TSEC21  = '[11:1034,1025:2048]' / trim section Amp21(UL) detID 1                ABSEC21 = '[1045:1084,1:1024]' / overscan inside amp                            ADSEC21 = '[1:1024,1025:2048]' / detector section only                          ASEC22  = '[1085:2168,1025:2048]' / amplifier section Amp22(UR) detID 1         BSEC22  = '[1085:1124,1025:2048]' / bias section Amp22(UR) detID 1              CSEC22  = '[1035:2068,1025:2048]' / section in full ccd for DSEC Amp22(UR) detIDDSEC22  = '[1135:2168,1025:2048]' / image section in raw frame Amp22(UR) detID 1TSEC22  = '[1135:2158,1025:2048]' / trim section Amp22(UR) detID 1              ABSEC22 = '[1:40,1:1024]'      / overscan inside amp                            ADSEC22 = '[1025:2048,1025:2048]' / detector section only                       ROISEC00= '[1:2048,1:2048]'    / roi section                                    DETECTOR= 'Tek2K_3 '           / Detector Identifier                            FPA     = 'SITE2K  '           / focal plan array                               REXPTIME=                  60. / requested exposure time in secs                EXPTIME =                  60. / Exposure time in secs                          DARKTIME=                  60. / Total elapsed time in secs                     NIMAGES =                    1 / number of images requested in sequence         PIXELT  = '25000.000000'       / (ns) unbinned pixel read time                  DHEINF  = 'MNSN torrent hardware' / controller info                             DHEFIRM = '/home/observer/panview/fpas/_biw/config/DETECTOR/site2k_sequencer.uc'PIXTIME = '25      '           / pixel time (usecs)                             POWSTAT = '3.000   '           / power supplies status (3=OK)                   CCDSETP = '163.000 '           / ccd temperature setpoint                       CCDTEMP = '165.312 '           / CCD temperature                                NECKTEMP= '139.250 '           / dewar NECK temperature                         HEATERSP= '25.984  '           / Heater power percent.                          VDDA    = '24.019  '           / bias output amplifier A                        VDDB    = '23.989  '           / bias output amplifier B                        VDDC    = '24.378  '           / bias output amplifier C                        VDDD    = '24.244  '           / bias output amplifier D                        VRDA    = '13.840  '           / Reset Drain amplifier A                        VRDB    = '13.825  '           / Reset Drain amplifier B                        VRDC    = '14.049  '           / Reset Drain amplifier C                        VRDD    = '13.975  '           / Reset Drain amplifier D                        LGA     = '-2.062  '           / Reset Drain amplifier A                        LGB     = '-2.082  '           / Reset Drain amplifier B                        LGC     = '-2.012  '           / Reset Drain amplifier C                        LGD     = '-1.982  '           / Reset Drain amplifier D                        SLOT00  = 'LCB 0x188538 2.240000' / dhe board: <type> <serial> <firmware>       SLOT01  = 'PSM 0x45834F 2.210000' / dhe board: <type> <serial> <firmware>       SLOT02  = 'CFG 0xNONE 2.240000' / dhe board: <type> <serial> <firmware>         SLOT03  = 'PIX 0xNONE 2.210000' / dhe board: <type> <serial> <firmware>         SLOT04  = 'CCDAFE 0x188167 18805C 2.210000' / dhe board: <type> <serial> <firmwaSLOT07  = 'CB 0xNONE 2.240000' / dhe board: <type> <serial> <firmware>          SLOT02  = 'TSM 0x3C6784 NONE'  / dhe board: <type> <serial> <firmware>          VANPLUS =             10.47619 / analog voltage plus                            VANMINU =            -10.54795 / analog voltage minus                           FPGATEMP=             33.49754 / torrent fpga temperature                       ID      = '[ct36.20170531.075438]' / ID                                         OBSERVAT= 'CTIO    '           / Origin of data                                 TELESCOP= 'CTIO 0.9 meter telescope' / Specific system                          TELID   = 'ct36    '           / CTIO 0.9 meter telescope                       TCS-TIME= '2017-05-31T07:54:38.63' / date of observation start                  UT      = '07:54:38.63'        / UT of TCS coords                               RA      = '21:38:49.39'        / ra                                             DEC     = '-27:20:17.79'       / dec                                            EPOCH   =                2000. / epoch                                          ZD      =               24.717 / zenith distance                                HA      = '-01:51:22.49'       / hour angle                                     ST      = '19:47:26.89'        / sidereal time                                  AIRMASS =                1.101 / airmass                                        ALT     = '-269.29 '           / altitud                                        TELFOCUS=               12400. / telescope focus                                WEATIME = '2017-05-31 07:54:01' / weather timestamp                             OUTTEMP =                  9.5 / outside temp (C)                               OUTHUM  =                   23 / outside humidity (%)                           OUTPRESS=                 782. / outside pressure (hPa)                         WNDSPEED=                 11.6 / wind speed (mph)                               WNDDIR  =                   55 / wind dir (degrees)                             SEETIME = '2017-05-31 07:50:43' / seeing timestamp                              SEEING  =                0.793 / seeing                                         SAIRMASS=                1.127 / seeing airmass                                 PANID   = '_biw    '           / PAN identification                             COMMENT image                                                                   COMMENT Image is trimmed                                                        FILTER1 = 'dia     '           / Filter in wheel 1                              FNAME1  = 'DIAFRAGM'           / Full name of filter in wheel 1                 FILTER2 = 'Ron400  '           / Filter in wheel 2                              FNAME2  = 'Ronchi400'          / Full name of filter in wheel 2                 FILTERS = 'dia Ron400'         / Filter positions                               INSTRUME= 'cfccd   '           / cassegrain direct imager                       XPIXSIZE=                0.401 / Pixel size in X (arcsecs/pix)                  YPIXSIZE=                0.401 / Pixel size in Y (arcsecs/pix)                  TEST    =                   2. / my keyword                                     END                                                                                                                                                                                                                                                                                                                                                                                                                                                                                                                                                                                                                                                                                                                                                                                                                             \n"
     ]
    }
   ],
   "source": [
    "from astropy.io import fits\n",
    "with fits.open(sorted_filenames[0]) as pf:\n",
    "    print pf[0].header"
   ]
  },
  {
   "cell_type": "code",
   "execution_count": null,
   "metadata": {
    "collapsed": false,
    "deletable": true,
    "editable": true
   },
   "outputs": [],
   "source": []
  },
  {
   "cell_type": "markdown",
   "metadata": {
    "collapsed": false,
    "deletable": true,
    "editable": true
   },
   "source": [
    "### Build tables for output file"
   ]
  },
  {
   "cell_type": "code",
   "execution_count": null,
   "metadata": {
    "collapsed": false,
    "deletable": true,
    "editable": true
   },
   "outputs": [],
   "source": []
  },
  {
   "cell_type": "code",
   "execution_count": 68,
   "metadata": {
    "collapsed": false,
    "deletable": true,
    "editable": true
   },
   "outputs": [
    {
     "name": "stdout",
     "output_type": "stream",
     "text": [
      "../OverScanRemove/trim_images/trim_20170530_210.fits\n",
      "../OverScanRemove/trim_images/trim_20170530_211.fits\n",
      "../OverScanRemove/trim_images/trim_20170530_212.fits\n",
      "../OverScanRemove/trim_images/trim_20170530_213.fits\n",
      "../OverScanRemove/trim_images/trim_20170530_214.fits\n",
      "../OverScanRemove/trim_images/trim_20170530_215.fits\n",
      "../OverScanRemove/trim_images/trim_20170530_216.fits\n",
      "../OverScanRemove/trim_images/trim_20170530_217.fits\n",
      "../OverScanRemove/trim_images/trim_20170530_218.fits\n",
      "../OverScanRemove/trim_images/trim_20170530_219.fits\n",
      "../OverScanRemove/trim_images/trim_20170530_220.fits\n",
      "../OverScanRemove/trim_images/trim_20170530_221.fits\n",
      "../OverScanRemove/trim_images/trim_20170530_222.fits\n",
      "../OverScanRemove/trim_images/trim_20170530_223.fits\n",
      "../OverScanRemove/trim_images/trim_20170530_224.fits\n",
      "../OverScanRemove/trim_images/trim_20170530_225.fits\n",
      "../OverScanRemove/trim_images/trim_20170530_226.fits\n",
      "../OverScanRemove/trim_images/trim_20170530_227.fits\n",
      "../OverScanRemove/trim_images/trim_20170530_228.fits\n",
      "../OverScanRemove/trim_images/trim_20170530_229.fits\n",
      "../OverScanRemove/trim_images/trim_20170530_230.fits\n",
      "../OverScanRemove/trim_images/trim_20170530_231.fits\n",
      "../OverScanRemove/trim_images/trim_20170530_232.fits\n",
      "../OverScanRemove/trim_images/trim_20170530_233.fits\n",
      "../OverScanRemove/trim_images/trim_20170530_234.fits\n",
      "../OverScanRemove/trim_images/trim_20170530_235.fits\n",
      "../OverScanRemove/trim_images/trim_20170530_236.fits\n",
      "../OverScanRemove/trim_images/trim_20170530_237.fits\n",
      "../OverScanRemove/trim_images/trim_20170530_238.fits\n",
      "../OverScanRemove/trim_images/trim_20170530_239.fits\n",
      "../OverScanRemove/trim_images/trim_20170530_240.fits\n",
      "../OverScanRemove/trim_images/trim_20170530_241.fits\n",
      "../OverScanRemove/trim_images/trim_20170530_242.fits\n",
      "../OverScanRemove/trim_images/trim_20170530_243.fits\n",
      "../OverScanRemove/trim_images/trim_20170530_244.fits\n",
      "../OverScanRemove/trim_images/trim_20170530_245.fits\n",
      "../OverScanRemove/trim_images/trim_20170530_246.fits\n",
      "../OverScanRemove/trim_images/trim_20170530_247.fits\n",
      "../OverScanRemove/trim_images/trim_20170530_248.fits\n",
      "../OverScanRemove/trim_images/trim_20170530_249.fits\n",
      "../OverScanRemove/trim_images/trim_20170530_250.fits\n",
      "../OverScanRemove/trim_images/trim_20170530_251.fits\n",
      "../OverScanRemove/trim_images/trim_20170530_252.fits\n",
      "../OverScanRemove/trim_images/trim_20170530_253.fits\n",
      "../OverScanRemove/trim_images/trim_20170530_254.fits\n",
      "../OverScanRemove/trim_images/trim_20170530_255.fits\n",
      "../OverScanRemove/trim_images/trim_20170530_256.fits\n",
      "../OverScanRemove/trim_images/trim_20170530_257.fits\n",
      "../OverScanRemove/trim_images/trim_20170530_258.fits\n",
      "../OverScanRemove/trim_images/trim_20170530_259.fits\n",
      "../OverScanRemove/trim_images/trim_20170530_260.fits\n",
      "../OverScanRemove/trim_images/trim_20170530_261.fits\n",
      "../OverScanRemove/trim_images/trim_20170530_262.fits\n",
      "../OverScanRemove/trim_images/trim_20170530_263.fits\n",
      "../OverScanRemove/trim_images/trim_20170530_264.fits\n",
      "../OverScanRemove/trim_images/trim_20170530_265.fits\n",
      "../OverScanRemove/trim_images/trim_20170530_266.fits\n",
      "../OverScanRemove/trim_images/trim_20170530_267.fits\n",
      "../OverScanRemove/trim_images/trim_20170530_268.fits\n",
      "../OverScanRemove/trim_images/trim_20170530_269.fits\n",
      "../OverScanRemove/trim_images/trim_20170530_270.fits\n",
      "../OverScanRemove/trim_images/trim_20170530_271.fits\n",
      "../OverScanRemove/trim_images/trim_20170530_272.fits\n",
      "../OverScanRemove/trim_images/trim_20170530_273.fits\n",
      "../OverScanRemove/trim_images/trim_20170530_274.fits\n",
      "../OverScanRemove/trim_images/trim_20170530_275.fits\n",
      "../OverScanRemove/trim_images/trim_20170530_276.fits\n",
      "../OverScanRemove/trim_images/trim_20170530_277.fits\n",
      "../OverScanRemove/trim_images/trim_20170530_278.fits\n",
      "../OverScanRemove/trim_images/trim_20170530_279.fits\n",
      "../OverScanRemove/trim_images/trim_20170530_280.fits\n",
      "../OverScanRemove/trim_images/trim_20170530_281.fits\n",
      "../OverScanRemove/trim_images/trim_20170530_282.fits\n",
      "../OverScanRemove/trim_images/trim_20170530_283.fits\n",
      "../OverScanRemove/trim_images/trim_20170530_284.fits\n"
     ]
    }
   ],
   "source": [
    "all_headers = []\n",
    "all_dates = []\n",
    "all_airmass = []\n",
    "all_exposures = []\n",
    "all_ut = []\n",
    "all_ra = []\n",
    "all_dec = []\n",
    "all_epoch = []\n",
    "all_zenith = []\n",
    "all_ha = []\n",
    "all_st = []\n",
    "all_alt = []\n",
    "all_focus = []\n",
    "all_temp = []\n",
    "all_press = []\n",
    "all_hum = []\n",
    "all_windsp = []\n",
    "all_seeing = []\n",
    "all_seeingam = []\n",
    "all_filter1 = []\n",
    "all_filter2 = []\n",
    "\n",
    "for idx,file in np.ndenumerate(sorted_filenames):  \n",
    "    print file\n",
    "    hdu_list=fits.open(file)\n",
    "    header=hdu_list[0].header\n",
    "    date_obs = header['DATE-OBS']\n",
    "    airmass = float(header['AIRMASS'])\n",
    "    expo= float(header['EXPTIME'])\n",
    "    num=indexes_files[idx[0]]\n",
    "   \n",
    "   \n",
    "    ut=header['UT']\n",
    "    ra=header['RA']\n",
    "    dec=header['DEC']\n",
    "    epoch=float(header['EPOCH'])\n",
    "    zd = float(header['ZD'])\n",
    "    ha = header['HA']\n",
    "    st = header['ST']\n",
    "    alt = float(header['ALT'])\n",
    "    fcl = float(header['TELFOCUS'])\n",
    "    temp= float(header['OUTTEMP'])\n",
    "    press= float(header['OUTPRESS'])\n",
    "    hum= float(header['OUTHUM'])\n",
    "    windsp=float(header['WNDSPEED'])\n",
    "    seeing=float(header['SEEING'])\n",
    "    seeingam=float(header['SAIRMASS'])\n",
    "    filter1 = header['FILTER1']\n",
    "    filter2 = header['FILTER2']\n",
    "    \n",
    "    all_dates.append(date_obs)\n",
    "    all_airmass.append(airmass)\n",
    "    all_headers.append(header)\n",
    "    all_exposures.append(expo)\n",
    "    all_ut.append(ut)\n",
    "    all_ra.append(ra)\n",
    "    all_dec.append(dec)\n",
    "    all_epoch.append(epoch)\n",
    "    all_zenith.append(zd)\n",
    "    all_ha.append(ha)\n",
    "    all_st.append(st)\n",
    "    all_alt.append(alt)\n",
    "    all_focus.append(fcl)\n",
    "    all_temp.append(temp)\n",
    "    all_press.append(press)\n",
    "    all_hum.append(hum)\n",
    "    all_windsp.append(windsp)\n",
    "    all_seeing.append(seeing)\n",
    "    all_seeingam.append(seeingam)\n",
    "    all_filter1.append(filter1)\n",
    "    all_filter2.append(filter2)\n",
    "\n",
    "    hdu_list.close()\n",
    "    "
   ]
  },
  {
   "cell_type": "code",
   "execution_count": 69,
   "metadata": {
    "collapsed": false,
    "deletable": true,
    "editable": true
   },
   "outputs": [
    {
     "data": {
      "text/plain": [
       "75"
      ]
     },
     "execution_count": 69,
     "metadata": {},
     "output_type": "execute_result"
    }
   ],
   "source": [
    "len(all_airmass)"
   ]
  },
  {
   "cell_type": "code",
   "execution_count": 70,
   "metadata": {
    "collapsed": false,
    "deletable": true,
    "editable": true
   },
   "outputs": [
    {
     "name": "stdout",
     "output_type": "stream",
     "text": [
      "['Ron400', 'Thor300', 'HoloPhP', 'HoloPhAg', 'HoloAmAg', 'Ron400', 'Thor300', 'HoloPhP', 'HoloPhAg', 'HoloAmAg', 'Ron400', 'Thor300', 'HoloPhP', 'HoloPhAg', 'HoloAmAg', 'Ron400', 'Thor300', 'HoloPhP', 'HoloPhAg', 'HoloAmAg', 'Ron400', 'Thor300', 'HoloPhP', 'HoloPhAg', 'HoloAmAg', 'Ron400', 'Thor300', 'HoloPhP', 'HoloPhAg', 'HoloAmAg', 'Ron400', 'Thor300', 'HoloPhP', 'HoloPhAg', 'HoloAmAg', 'Ron400', 'Thor300', 'HoloPhP', 'HoloPhAg', 'HoloAmAg', 'Ron400', 'Thor300', 'HoloPhP', 'HoloPhAg', 'HoloAmAg', 'Ron400', 'Thor300', 'HoloPhP', 'HoloPhAg', 'HoloAmAg', 'Ron400', 'Thor300', 'HoloPhP', 'HoloPhAg', 'HoloAmAg', 'Ron400', 'Thor300', 'HoloPhP', 'HoloPhAg', 'HoloAmAg', 'Ron400', 'Thor300', 'HoloPhP', 'HoloPhAg', 'HoloAmAg', 'Ron400', 'Thor300', 'HoloPhP', 'HoloPhAg', 'HoloAmAg', 'Ron400', 'Thor300', 'HoloPhP', 'HoloPhAg', 'HoloAmAg']\n"
     ]
    }
   ],
   "source": [
    "print all_filter2"
   ]
  },
  {
   "cell_type": "markdown",
   "metadata": {
    "deletable": true,
    "editable": true
   },
   "source": [
    "## Build outputfile"
   ]
  },
  {
   "cell_type": "code",
   "execution_count": 71,
   "metadata": {
    "collapsed": false,
    "deletable": true,
    "editable": true
   },
   "outputs": [],
   "source": [
    "col_airmass=np.array(all_airmass)\n",
    "col_number=np.array(indexes_files)\n",
    "col_date=np.array(all_dates)\n",
    "col_filename=np.array(filelist_all)\n",
    "col_exposure=np.array(all_exposures)\n",
    "col_zenith=np.array(all_zenith)\n",
    "col_altitude=np.array(all_alt)\n",
    "col_temperature=np.array(all_temp)\n",
    "col_pressure=np.array(all_press)\n",
    "col_humidity=np.array(all_hum)\n",
    "col_windsp=np.array(all_windsp)\n",
    "col_seeing=np.array(all_seeing)\n",
    "col_filter1=np.array(all_filter1)\n",
    "col_filter2=np.array(all_filter2)"
   ]
  },
  {
   "cell_type": "code",
   "execution_count": 72,
   "metadata": {
    "collapsed": false,
    "deletable": true,
    "editable": true
   },
   "outputs": [],
   "source": [
    "c1 = fits.Column(name='number', format='J', array=col_number)\n",
    "c2 = fits.Column(name='airmass', format='E', array=col_airmass)\n",
    "c3 = fits.Column(name='date', format='A50', array=col_date)\n",
    "c4 = fits.Column(name='filename', format='A30', array=sorted_filenames)\n",
    "c5 = fits.Column(name='exposure', format='E', array=col_exposure) \n",
    "c6 = fits.Column(name='zenith', format='E', array=col_zenith) \n",
    "#c7 = fits.Column(name='altitude', format='E', array=col_altitude) \n",
    "c8 = fits.Column(name='temperature', format='E', array=col_temperature) \n",
    "c9 = fits.Column(name='pressure', format='E', array=col_pressure) \n",
    "c10 = fits.Column(name='humidity', format='E', array=col_humidity) \n",
    "c11 = fits.Column(name='windspeed', format='E', array=col_windsp) \n",
    "c12 = fits.Column(name='seeing', format='E', array=col_seeing) \n",
    "c13 = fits.Column(name='filter1', format='A20', array=col_filter1)\n",
    "c14 = fits.Column(name='filter2', format='A20', array=col_filter2) "
   ]
  },
  {
   "cell_type": "code",
   "execution_count": 73,
   "metadata": {
    "collapsed": true,
    "deletable": true,
    "editable": true
   },
   "outputs": [],
   "source": [
    "tbhdu = fits.BinTableHDU.from_columns([c1, c2, c3, c4, c5,c6,c8,c9,c10,c11,c12,c13,c14])"
   ]
  },
  {
   "cell_type": "code",
   "execution_count": 74,
   "metadata": {
    "collapsed": false,
    "deletable": true,
    "editable": true
   },
   "outputs": [],
   "source": [
    "tbhdu.writeto(logfile,overwrite=True)"
   ]
  },
  {
   "cell_type": "markdown",
   "metadata": {
    "deletable": true,
    "editable": true
   },
   "source": [
    "## Convert into Table\n",
    "---------------------------"
   ]
  },
  {
   "cell_type": "code",
   "execution_count": 75,
   "metadata": {
    "collapsed": false,
    "deletable": true,
    "editable": true
   },
   "outputs": [],
   "source": [
    "thetable= Table(tbhdu.data)"
   ]
  },
  {
   "cell_type": "code",
   "execution_count": 76,
   "metadata": {
    "collapsed": false,
    "deletable": true,
    "editable": true
   },
   "outputs": [
    {
     "data": {
      "text/html": [
       "&lt;Table length=75&gt;\n",
       "<table id=\"table4561709776-902779\" class=\"table-striped table-bordered table-condensed\">\n",
       "<thead><tr><th>idx</th><th>number</th><th>airmass</th><th>date</th><th>filename</th><th>exposure</th><th>zenith</th><th>temperature</th><th>pressure</th><th>humidity</th><th>windspeed</th><th>seeing</th><th>filter1</th><th>filter2</th></tr></thead>\n",
       "<tr><td>0</td><td>210</td><td>1.101</td><td>2017-05-31T07:54:38.806</td><td>../OverScanRemove/trim_images/</td><td>60.0</td><td>24.717</td><td>9.5</td><td>782.0</td><td>23.0</td><td>11.6</td><td>0.793</td><td>dia</td><td>Ron400</td></tr>\n",
       "<tr><td>1</td><td>211</td><td>1.097</td><td>2017-05-31T07:56:31.293</td><td>../OverScanRemove/trim_images/</td><td>60.0</td><td>24.311</td><td>9.4</td><td>782.0</td><td>24.0</td><td>11.5</td><td>0.793</td><td>dia</td><td>Thor300</td></tr>\n",
       "<tr><td>2</td><td>212</td><td>1.094</td><td>2017-05-31T07:58:23.653</td><td>../OverScanRemove/trim_images/</td><td>60.0</td><td>23.905</td><td>9.5</td><td>782.0</td><td>24.0</td><td>10.5</td><td>0.793</td><td>dia</td><td>HoloPhP</td></tr>\n",
       "<tr><td>3</td><td>213</td><td>1.09</td><td>2017-05-31T08:00:16.053</td><td>../OverScanRemove/trim_images/</td><td>120.0</td><td>23.499</td><td>9.7</td><td>782.0</td><td>23.0</td><td>12.0</td><td>0.793</td><td>dia</td><td>HoloPhAg</td></tr>\n",
       "<tr><td>4</td><td>214</td><td>1.085</td><td>2017-05-31T08:03:08.495</td><td>../OverScanRemove/trim_images/</td><td>120.0</td><td>22.877</td><td>9.6</td><td>782.0</td><td>23.0</td><td>13.4</td><td>0.793</td><td>dia</td><td>HoloAmAg</td></tr>\n",
       "<tr><td>5</td><td>215</td><td>1.08</td><td>2017-05-31T08:06:00.847</td><td>../OverScanRemove/trim_images/</td><td>60.0</td><td>22.254</td><td>9.6</td><td>782.0</td><td>23.0</td><td>15.4</td><td>0.793</td><td>dia</td><td>Ron400</td></tr>\n",
       "<tr><td>6</td><td>216</td><td>1.077</td><td>2017-05-31T08:07:53.254</td><td>../OverScanRemove/trim_images/</td><td>60.0</td><td>21.848</td><td>9.8</td><td>782.0</td><td>23.0</td><td>10.6</td><td>0.793</td><td>dia</td><td>Thor300</td></tr>\n",
       "<tr><td>7</td><td>217</td><td>1.074</td><td>2017-05-31T08:09:45.655</td><td>../OverScanRemove/trim_images/</td><td>60.0</td><td>21.442</td><td>9.8</td><td>782.0</td><td>23.0</td><td>10.8</td><td>0.793</td><td>dia</td><td>HoloPhP</td></tr>\n",
       "<tr><td>8</td><td>218</td><td>1.071</td><td>2017-05-31T08:11:37.854</td><td>../OverScanRemove/trim_images/</td><td>120.0</td><td>21.037</td><td>9.6</td><td>782.0</td><td>23.0</td><td>12.5</td><td>0.793</td><td>dia</td><td>HoloPhAg</td></tr>\n",
       "<tr><td>9</td><td>219</td><td>1.067</td><td>2017-05-31T08:14:30.301</td><td>../OverScanRemove/trim_images/</td><td>120.0</td><td>20.415</td><td>9.7</td><td>782.0</td><td>23.0</td><td>14.0</td><td>0.793</td><td>dia</td><td>HoloAmAg</td></tr>\n",
       "<tr><td>10</td><td>220</td><td>1.063</td><td>2017-05-31T08:17:22.698</td><td>../OverScanRemove/trim_images/</td><td>60.0</td><td>19.793</td><td>9.6</td><td>782.0</td><td>23.0</td><td>10.7</td><td>0.793</td><td>dia</td><td>Ron400</td></tr>\n",
       "<tr><td>11</td><td>221</td><td>1.06</td><td>2017-05-31T08:19:15.101</td><td>../OverScanRemove/trim_images/</td><td>60.0</td><td>19.387</td><td>9.5</td><td>782.0</td><td>23.0</td><td>12.1</td><td>0.793</td><td>dia</td><td>Thor300</td></tr>\n",
       "<tr><td>12</td><td>222</td><td>1.057</td><td>2017-05-31T08:21:07.405</td><td>../OverScanRemove/trim_images/</td><td>60.0</td><td>18.982</td><td>9.6</td><td>782.0</td><td>23.0</td><td>12.1</td><td>0.793</td><td>dia</td><td>HoloPhP</td></tr>\n",
       "<tr><td>13</td><td>223</td><td>1.055</td><td>2017-05-31T08:22:59.809</td><td>../OverScanRemove/trim_images/</td><td>120.0</td><td>18.576</td><td>9.8</td><td>782.0</td><td>23.0</td><td>10.2</td><td>0.793</td><td>dia</td><td>HoloPhAg</td></tr>\n",
       "<tr><td>14</td><td>224</td><td>1.051</td><td>2017-05-31T08:25:52.205</td><td>../OverScanRemove/trim_images/</td><td>120.0</td><td>17.955</td><td>9.6</td><td>782.0</td><td>23.0</td><td>13.8</td><td>0.793</td><td>dia</td><td>HoloAmAg</td></tr>\n",
       "<tr><td>15</td><td>225</td><td>1.048</td><td>2017-05-31T08:28:44.549</td><td>../OverScanRemove/trim_images/</td><td>60.0</td><td>17.334</td><td>9.6</td><td>782.0</td><td>23.0</td><td>15.0</td><td>0.793</td><td>dia</td><td>Ron400</td></tr>\n",
       "<tr><td>16</td><td>226</td><td>1.045</td><td>2017-05-31T08:30:37.007</td><td>../OverScanRemove/trim_images/</td><td>60.0</td><td>16.93</td><td>9.5</td><td>782.0</td><td>23.0</td><td>14.0</td><td>0.793</td><td>dia</td><td>Thor300</td></tr>\n",
       "<tr><td>17</td><td>227</td><td>1.043</td><td>2017-05-31T08:32:29.446</td><td>../OverScanRemove/trim_images/</td><td>60.0</td><td>16.525</td><td>9.6</td><td>782.0</td><td>23.0</td><td>14.8</td><td>0.793</td><td>dia</td><td>HoloPhP</td></tr>\n",
       "<tr><td>18</td><td>228</td><td>1.041</td><td>2017-05-31T08:34:21.908</td><td>../OverScanRemove/trim_images/</td><td>120.0</td><td>16.121</td><td>9.8</td><td>782.0</td><td>23.0</td><td>14.1</td><td>0.793</td><td>dia</td><td>HoloPhAg</td></tr>\n",
       "<tr><td>19</td><td>229</td><td>1.038</td><td>2017-05-31T08:37:14.395</td><td>../OverScanRemove/trim_images/</td><td>120.0</td><td>15.501</td><td>9.8</td><td>782.0</td><td>23.0</td><td>11.4</td><td>0.793</td><td>dia</td><td>HoloAmAg</td></tr>\n",
       "<tr><td>20</td><td>230</td><td>1.035</td><td>2017-05-31T08:40:06.801</td><td>../OverScanRemove/trim_images/</td><td>60.0</td><td>14.883</td><td>9.7</td><td>782.0</td><td>23.0</td><td>11.4</td><td>0.793</td><td>dia</td><td>Ron400</td></tr>\n",
       "<tr><td>21</td><td>231</td><td>1.033</td><td>2017-05-31T08:41:59.205</td><td>../OverScanRemove/trim_images/</td><td>60.0</td><td>14.48</td><td>9.9</td><td>782.0</td><td>23.0</td><td>10.5</td><td>0.793</td><td>dia</td><td>Thor300</td></tr>\n",
       "<tr><td>22</td><td>232</td><td>1.031</td><td>2017-05-31T08:43:51.549</td><td>../OverScanRemove/trim_images/</td><td>60.0</td><td>14.077</td><td>9.9</td><td>782.0</td><td>23.0</td><td>12.5</td><td>0.793</td><td>dia</td><td>HoloPhP</td></tr>\n",
       "<tr><td>23</td><td>233</td><td>1.029</td><td>2017-05-31T08:45:44.007</td><td>../OverScanRemove/trim_images/</td><td>120.0</td><td>13.675</td><td>10.0</td><td>782.0</td><td>23.0</td><td>10.7</td><td>0.793</td><td>dia</td><td>HoloPhAg</td></tr>\n",
       "<tr><td>24</td><td>234</td><td>1.027</td><td>2017-05-31T08:48:36.303</td><td>../OverScanRemove/trim_images/</td><td>120.0</td><td>13.059</td><td>10.0</td><td>782.0</td><td>22.0</td><td>13.9</td><td>0.793</td><td>dia</td><td>HoloAmAg</td></tr>\n",
       "<tr><td>25</td><td>235</td><td>1.024</td><td>2017-05-31T08:51:28.895</td><td>../OverScanRemove/trim_images/</td><td>60.0</td><td>12.444</td><td>10.0</td><td>782.0</td><td>22.0</td><td>14.3</td><td>0.793</td><td>dia</td><td>Ron400</td></tr>\n",
       "<tr><td>26</td><td>236</td><td>1.022</td><td>2017-05-31T08:53:21.253</td><td>../OverScanRemove/trim_images/</td><td>60.0</td><td>12.045</td><td>10.0</td><td>782.0</td><td>22.0</td><td>15.0</td><td>0.793</td><td>dia</td><td>Thor300</td></tr>\n",
       "<tr><td>27</td><td>237</td><td>1.021</td><td>2017-05-31T08:55:13.701</td><td>../OverScanRemove/trim_images/</td><td>60.0</td><td>11.645</td><td>10.1</td><td>782.0</td><td>22.0</td><td>14.1</td><td>0.793</td><td>dia</td><td>HoloPhP</td></tr>\n",
       "<tr><td>28</td><td>238</td><td>1.02</td><td>2017-05-31T08:57:06.105</td><td>../OverScanRemove/trim_images/</td><td>120.0</td><td>11.247</td><td>10.2</td><td>782.0</td><td>22.0</td><td>13.2</td><td>0.793</td><td>dia</td><td>HoloPhAg</td></tr>\n",
       "<tr><td>29</td><td>239</td><td>1.017</td><td>2017-05-31T08:59:58.496</td><td>../OverScanRemove/trim_images/</td><td>120.0</td><td>10.638</td><td>10.1</td><td>782.0</td><td>22.0</td><td>13.9</td><td>0.793</td><td>dia</td><td>HoloAmAg</td></tr>\n",
       "<tr><td>30</td><td>240</td><td>1.016</td><td>2017-05-31T09:02:50.903</td><td>../OverScanRemove/trim_images/</td><td>60.0</td><td>10.032</td><td>10.1</td><td>782.0</td><td>22.0</td><td>11.2</td><td>0.793</td><td>dia</td><td>Ron400</td></tr>\n",
       "<tr><td>31</td><td>241</td><td>1.014</td><td>2017-05-31T09:04:43.354</td><td>../OverScanRemove/trim_images/</td><td>60.0</td><td>9.638</td><td>10.1</td><td>782.0</td><td>22.0</td><td>11.4</td><td>0.793</td><td>dia</td><td>Thor300</td></tr>\n",
       "<tr><td>32</td><td>242</td><td>1.013</td><td>2017-05-31T09:06:35.601</td><td>../OverScanRemove/trim_images/</td><td>60.0</td><td>9.246</td><td>10.1</td><td>782.0</td><td>22.0</td><td>13.1</td><td>0.793</td><td>dia</td><td>HoloPhP</td></tr>\n",
       "<tr><td>33</td><td>243</td><td>1.012</td><td>2017-05-31T09:08:28.052</td><td>../OverScanRemove/trim_images/</td><td>120.0</td><td>8.855</td><td>10.2</td><td>782.0</td><td>22.0</td><td>12.0</td><td>0.793</td><td>dia</td><td>HoloPhAg</td></tr>\n",
       "<tr><td>34</td><td>244</td><td>1.01</td><td>2017-05-31T09:11:20.446</td><td>../OverScanRemove/trim_images/</td><td>120.0</td><td>8.26</td><td>10.3</td><td>782.0</td><td>22.0</td><td>12.2</td><td>0.793</td><td>dia</td><td>HoloAmAg</td></tr>\n",
       "<tr><td>35</td><td>245</td><td>1.009</td><td>2017-05-31T09:14:12.902</td><td>../OverScanRemove/trim_images/</td><td>60.0</td><td>7.67</td><td>10.3</td><td>782.0</td><td>22.0</td><td>12.3</td><td>0.793</td><td>dia</td><td>Ron400</td></tr>\n",
       "<tr><td>36</td><td>246</td><td>1.008</td><td>2017-05-31T09:16:05.404</td><td>../OverScanRemove/trim_images/</td><td>60.0</td><td>7.289</td><td>10.3</td><td>782.0</td><td>22.0</td><td>12.6</td><td>0.793</td><td>dia</td><td>Thor300</td></tr>\n",
       "<tr><td>37</td><td>247</td><td>1.007</td><td>2017-05-31T09:17:57.853</td><td>../OverScanRemove/trim_images/</td><td>60.0</td><td>6.912</td><td>10.4</td><td>782.0</td><td>21.0</td><td>11.2</td><td>0.793</td><td>dia</td><td>HoloPhP</td></tr>\n",
       "<tr><td>38</td><td>248</td><td>1.007</td><td>2017-05-31T09:19:50.301</td><td>../OverScanRemove/trim_images/</td><td>120.0</td><td>6.538</td><td>10.4</td><td>782.0</td><td>21.0</td><td>12.1</td><td>0.793</td><td>dia</td><td>HoloPhAg</td></tr>\n",
       "<tr><td>39</td><td>249</td><td>1.005</td><td>2017-05-31T09:22:42.752</td><td>../OverScanRemove/trim_images/</td><td>120.0</td><td>5.976</td><td>10.4</td><td>782.0</td><td>21.0</td><td>12.8</td><td>0.793</td><td>dia</td><td>HoloAmAg</td></tr>\n",
       "<tr><td>40</td><td>250</td><td>1.004</td><td>2017-05-31T09:25:35.195</td><td>../OverScanRemove/trim_images/</td><td>60.0</td><td>5.428</td><td>10.4</td><td>782.0</td><td>21.0</td><td>13.1</td><td>0.793</td><td>dia</td><td>Ron400</td></tr>\n",
       "<tr><td>41</td><td>251</td><td>1.004</td><td>2017-05-31T09:27:27.593</td><td>../OverScanRemove/trim_images/</td><td>60.0</td><td>5.081</td><td>10.4</td><td>782.0</td><td>21.0</td><td>11.3</td><td>0.793</td><td>dia</td><td>Thor300</td></tr>\n",
       "<tr><td>42</td><td>252</td><td>1.003</td><td>2017-05-31T09:29:20.008</td><td>../OverScanRemove/trim_images/</td><td>60.0</td><td>4.745</td><td>10.3</td><td>782.0</td><td>21.0</td><td>12.5</td><td>0.793</td><td>dia</td><td>HoloPhP</td></tr>\n",
       "<tr><td>43</td><td>253</td><td>1.003</td><td>2017-05-31T09:31:12.499</td><td>../OverScanRemove/trim_images/</td><td>120.0</td><td>4.421</td><td>10.4</td><td>782.0</td><td>21.0</td><td>13.8</td><td>0.793</td><td>dia</td><td>HoloPhAg</td></tr>\n",
       "<tr><td>44</td><td>254</td><td>1.002</td><td>2017-05-31T09:34:04.846</td><td>../OverScanRemove/trim_images/</td><td>120.0</td><td>3.957</td><td>10.5</td><td>782.0</td><td>21.0</td><td>13.3</td><td>0.793</td><td>dia</td><td>HoloAmAg</td></tr>\n",
       "<tr><td>45</td><td>255</td><td>1.002</td><td>2017-05-31T09:36:57.303</td><td>../OverScanRemove/trim_images/</td><td>60.0</td><td>3.545</td><td>10.5</td><td>782.0</td><td>21.0</td><td>13.9</td><td>0.793</td><td>dia</td><td>Ron400</td></tr>\n",
       "<tr><td>46</td><td>256</td><td>1.002</td><td>2017-05-31T09:38:49.697</td><td>../OverScanRemove/trim_images/</td><td>60.0</td><td>3.313</td><td>10.5</td><td>782.0</td><td>21.0</td><td>15.7</td><td>0.793</td><td>dia</td><td>Thor300</td></tr>\n",
       "<tr><td>47</td><td>257</td><td>1.001</td><td>2017-05-31T09:40:42.049</td><td>../OverScanRemove/trim_images/</td><td>60.0</td><td>3.119</td><td>10.6</td><td>782.0</td><td>21.0</td><td>14.7</td><td>0.793</td><td>dia</td><td>HoloPhP</td></tr>\n",
       "<tr><td>48</td><td>258</td><td>1.001</td><td>2017-05-31T09:42:34.505</td><td>../OverScanRemove/trim_images/</td><td>120.0</td><td>2.97</td><td>10.8</td><td>782.0</td><td>21.0</td><td>13.6</td><td>0.793</td><td>dia</td><td>HoloPhAg</td></tr>\n",
       "<tr><td>49</td><td>259</td><td>1.001</td><td>2017-05-31T09:45:26.803</td><td>../OverScanRemove/trim_images/</td><td>120.0</td><td>2.843</td><td>10.9</td><td>782.0</td><td>21.0</td><td>15.5</td><td>0.793</td><td>dia</td><td>HoloAmAg</td></tr>\n",
       "<tr><td>50</td><td>260</td><td>1.001</td><td>2017-05-31T09:48:19.197</td><td>../OverScanRemove/trim_images/</td><td>60.0</td><td>2.854</td><td>10.9</td><td>782.0</td><td>21.0</td><td>15.8</td><td>0.793</td><td>dia</td><td>Ron400</td></tr>\n",
       "<tr><td>51</td><td>261</td><td>1.001</td><td>2017-05-31T09:50:11.505</td><td>../OverScanRemove/trim_images/</td><td>60.0</td><td>2.934</td><td>11.0</td><td>782.0</td><td>21.0</td><td>14.4</td><td>0.793</td><td>dia</td><td>Thor300</td></tr>\n",
       "<tr><td>52</td><td>262</td><td>1.001</td><td>2017-05-31T09:52:03.850</td><td>../OverScanRemove/trim_images/</td><td>60.0</td><td>3.069</td><td>11.0</td><td>782.0</td><td>21.0</td><td>15.7</td><td>0.793</td><td>dia</td><td>HoloPhP</td></tr>\n",
       "<tr><td>53</td><td>263</td><td>1.002</td><td>2017-05-31T09:53:56.298</td><td>../OverScanRemove/trim_images/</td><td>120.0</td><td>3.25</td><td>11.0</td><td>782.0</td><td>21.0</td><td>14.3</td><td>0.793</td><td>dia</td><td>HoloPhAg</td></tr>\n",
       "<tr><td>54</td><td>264</td><td>1.002</td><td>2017-05-31T09:56:48.701</td><td>../OverScanRemove/trim_images/</td><td>120.0</td><td>3.603</td><td>10.9</td><td>782.0</td><td>21.0</td><td>15.9</td><td>0.793</td><td>dia</td><td>HoloAmAg</td></tr>\n",
       "<tr><td>55</td><td>265</td><td>1.002</td><td>2017-05-31T09:59:41.005</td><td>../OverScanRemove/trim_images/</td><td>60.0</td><td>4.024</td><td>10.7</td><td>782.0</td><td>21.0</td><td>15.3</td><td>0.793</td><td>dia</td><td>Ron400</td></tr>\n",
       "<tr><td>56</td><td>266</td><td>1.003</td><td>2017-05-31T10:01:33.456</td><td>../OverScanRemove/trim_images/</td><td>60.0</td><td>4.326</td><td>10.8</td><td>782.0</td><td>21.0</td><td>16.2</td><td>0.793</td><td>dia</td><td>Thor300</td></tr>\n",
       "<tr><td>57</td><td>267</td><td>1.003</td><td>2017-05-31T10:03:25.899</td><td>../OverScanRemove/trim_images/</td><td>60.0</td><td>4.645</td><td>10.9</td><td>782.0</td><td>20.0</td><td>17.2</td><td>0.793</td><td>dia</td><td>HoloPhP</td></tr>\n",
       "<tr><td>58</td><td>268</td><td>1.004</td><td>2017-05-31T10:05:18.254</td><td>../OverScanRemove/trim_images/</td><td>120.0</td><td>4.978</td><td>11.0</td><td>782.0</td><td>20.0</td><td>15.4</td><td>0.793</td><td>dia</td><td>HoloPhAg</td></tr>\n",
       "<tr><td>59</td><td>269</td><td>1.005</td><td>2017-05-31T10:08:10.496</td><td>../OverScanRemove/trim_images/</td><td>120.0</td><td>5.508</td><td>11.0</td><td>782.0</td><td>20.0</td><td>13.2</td><td>0.793</td><td>dia</td><td>HoloAmAg</td></tr>\n",
       "<tr><td>60</td><td>270</td><td>1.006</td><td>2017-05-31T10:11:02.902</td><td>../OverScanRemove/trim_images/</td><td>60.0</td><td>6.058</td><td>11.1</td><td>782.0</td><td>20.0</td><td>16.6</td><td>0.793</td><td>dia</td><td>Ron400</td></tr>\n",
       "<tr><td>61</td><td>271</td><td>1.006</td><td>2017-05-31T10:12:55.245</td><td>../OverScanRemove/trim_images/</td><td>60.0</td><td>6.424</td><td>11.1</td><td>782.0</td><td>20.0</td><td>16.3</td><td>0.793</td><td>dia</td><td>Thor300</td></tr>\n",
       "<tr><td>62</td><td>272</td><td>1.007</td><td>2017-05-31T10:14:47.702</td><td>../OverScanRemove/trim_images/</td><td>60.0</td><td>6.796</td><td>11.2</td><td>782.0</td><td>20.0</td><td>16.9</td><td>0.793</td><td>dia</td><td>HoloPhP</td></tr>\n",
       "<tr><td>63</td><td>273</td><td>1.008</td><td>2017-05-31T10:16:40.105</td><td>../OverScanRemove/trim_images/</td><td>120.0</td><td>7.172</td><td>11.3</td><td>782.0</td><td>20.0</td><td>15.5</td><td>0.793</td><td>dia</td><td>HoloPhAg</td></tr>\n",
       "<tr><td>64</td><td>274</td><td>1.009</td><td>2017-05-31T10:19:32.499</td><td>../OverScanRemove/trim_images/</td><td>120.0</td><td>7.756</td><td>11.1</td><td>782.0</td><td>20.0</td><td>15.1</td><td>0.793</td><td>dia</td><td>HoloAmAg</td></tr>\n",
       "<tr><td>65</td><td>275</td><td>1.011</td><td>2017-05-31T10:22:24.800</td><td>../OverScanRemove/trim_images/</td><td>60.0</td><td>8.346</td><td>11.3</td><td>782.0</td><td>20.0</td><td>14.1</td><td>0.793</td><td>dia</td><td>Ron400</td></tr>\n",
       "<tr><td>66</td><td>276</td><td>1.012</td><td>2017-05-31T10:24:17.302</td><td>../OverScanRemove/trim_images/</td><td>60.0</td><td>8.734</td><td>11.2</td><td>782.0</td><td>20.0</td><td>14.3</td><td>0.793</td><td>dia</td><td>Thor300</td></tr>\n",
       "<tr><td>67</td><td>277</td><td>1.013</td><td>2017-05-31T10:26:09.797</td><td>../OverScanRemove/trim_images/</td><td>60.0</td><td>9.125</td><td>11.2</td><td>782.0</td><td>20.0</td><td>14.2</td><td>0.793</td><td>dia</td><td>HoloPhP</td></tr>\n",
       "<tr><td>68</td><td>278</td><td>1.014</td><td>2017-05-31T10:28:02.100</td><td>../OverScanRemove/trim_images/</td><td>120.0</td><td>9.516</td><td>11.1</td><td>782.0</td><td>20.0</td><td>15.5</td><td>0.793</td><td>dia</td><td>HoloPhAg</td></tr>\n",
       "<tr><td>69</td><td>279</td><td>1.016</td><td>2017-05-31T10:30:54.505</td><td>../OverScanRemove/trim_images/</td><td>120.0</td><td>10.12</td><td>11.0</td><td>782.0</td><td>20.0</td><td>13.2</td><td>0.793</td><td>dia</td><td>HoloAmAg</td></tr>\n",
       "<tr><td>70</td><td>280</td><td>1.018</td><td>2017-05-31T10:33:46.896</td><td>../OverScanRemove/trim_images/</td><td>60.0</td><td>10.727</td><td>11.0</td><td>782.0</td><td>20.0</td><td>14.5</td><td>0.793</td><td>dia</td><td>Ron400</td></tr>\n",
       "<tr><td>71</td><td>281</td><td>1.019</td><td>2017-05-31T10:35:39.245</td><td>../OverScanRemove/trim_images/</td><td>60.0</td><td>11.124</td><td>11.2</td><td>782.0</td><td>20.0</td><td>13.1</td><td>0.793</td><td>dia</td><td>Thor300</td></tr>\n",
       "<tr><td>72</td><td>282</td><td>1.021</td><td>2017-05-31T10:37:31.598</td><td>../OverScanRemove/trim_images/</td><td>60.0</td><td>11.522</td><td>11.0</td><td>782.0</td><td>20.0</td><td>12.5</td><td>0.793</td><td>dia</td><td>HoloPhP</td></tr>\n",
       "<tr><td>73</td><td>283</td><td>1.022</td><td>2017-05-31T10:39:24.046</td><td>../OverScanRemove/trim_images/</td><td>120.0</td><td>11.921</td><td>11.0</td><td>782.0</td><td>20.0</td><td>12.8</td><td>0.793</td><td>dia</td><td>HoloPhAg</td></tr>\n",
       "<tr><td>74</td><td>284</td><td>1.024</td><td>2017-05-31T10:42:16.450</td><td>../OverScanRemove/trim_images/</td><td>120.0</td><td>12.534</td><td>11.0</td><td>782.0</td><td>20.0</td><td>13.2</td><td>0.793</td><td>dia</td><td>HoloAmAg</td></tr>\n",
       "</table><style>table.dataTable {clear: both; width: auto !important; margin: 0 !important;}\n",
       ".dataTables_info, .dataTables_length, .dataTables_filter, .dataTables_paginate{\n",
       "display: inline-block; margin-right: 1em; }\n",
       ".paginate_button { margin-right: 5px; }\n",
       "</style>\n",
       "<script>\n",
       "require.config({paths: {\n",
       "    datatables: 'https://cdn.datatables.net/1.10.12/js/jquery.dataTables.min'\n",
       "}});\n",
       "require([\"datatables\"], function(){\n",
       "    console.log(\"$('#table4561709776-902779').dataTable()\");\n",
       "    $('#table4561709776-902779').dataTable({\n",
       "        \"order\": [],\n",
       "        \"iDisplayLength\": 50,\n",
       "        \"aLengthMenu\": [[10, 25, 50, 100, 500, 1000, -1], [10, 25, 50, 100, 500, 1000, 'All']],\n",
       "        \"pagingType\": \"full_numbers\"\n",
       "    });\n",
       "});\n",
       "</script>\n"
      ],
      "text/plain": [
       "<IPython.core.display.HTML object>"
      ]
     },
     "execution_count": 76,
     "metadata": {},
     "output_type": "execute_result"
    }
   ],
   "source": [
    "thetable.show_in_notebook()"
   ]
  },
  {
   "cell_type": "markdown",
   "metadata": {
    "deletable": true,
    "editable": true
   },
   "source": [
    "## Read the logfile into a Table\n",
    "---------------------------------------"
   ]
  },
  {
   "cell_type": "code",
   "execution_count": 77,
   "metadata": {
    "collapsed": true,
    "deletable": true,
    "editable": true
   },
   "outputs": [],
   "source": [
    "t = Table.read(logfile)"
   ]
  },
  {
   "cell_type": "code",
   "execution_count": 78,
   "metadata": {
    "collapsed": false,
    "deletable": true,
    "editable": true
   },
   "outputs": [
    {
     "data": {
      "text/html": [
       "&lt;Table length=75&gt;\n",
       "<table id=\"table4547028112\" class=\"table-striped table-bordered table-condensed\">\n",
       "<thead><tr><th>number</th><th>airmass</th><th>date</th><th>filename</th><th>exposure</th><th>zenith</th><th>temperature</th><th>pressure</th><th>humidity</th><th>windspeed</th><th>seeing</th><th>filter1</th><th>filter2</th></tr></thead>\n",
       "<thead><tr><th>int32</th><th>float32</th><th>str50</th><th>str30</th><th>float32</th><th>float32</th><th>float32</th><th>float32</th><th>float32</th><th>float32</th><th>float32</th><th>str20</th><th>str20</th></tr></thead>\n",
       "<tr><td>210</td><td>1.101</td><td>2017-05-31T07:54:38.806</td><td>../OverScanRemove/trim_images/</td><td>60.0</td><td>24.717</td><td>9.5</td><td>782.0</td><td>23.0</td><td>11.6</td><td>0.793</td><td>dia</td><td>Ron400</td></tr>\n",
       "<tr><td>211</td><td>1.097</td><td>2017-05-31T07:56:31.293</td><td>../OverScanRemove/trim_images/</td><td>60.0</td><td>24.311</td><td>9.4</td><td>782.0</td><td>24.0</td><td>11.5</td><td>0.793</td><td>dia</td><td>Thor300</td></tr>\n",
       "<tr><td>212</td><td>1.094</td><td>2017-05-31T07:58:23.653</td><td>../OverScanRemove/trim_images/</td><td>60.0</td><td>23.905</td><td>9.5</td><td>782.0</td><td>24.0</td><td>10.5</td><td>0.793</td><td>dia</td><td>HoloPhP</td></tr>\n",
       "<tr><td>213</td><td>1.09</td><td>2017-05-31T08:00:16.053</td><td>../OverScanRemove/trim_images/</td><td>120.0</td><td>23.499</td><td>9.7</td><td>782.0</td><td>23.0</td><td>12.0</td><td>0.793</td><td>dia</td><td>HoloPhAg</td></tr>\n",
       "<tr><td>214</td><td>1.085</td><td>2017-05-31T08:03:08.495</td><td>../OverScanRemove/trim_images/</td><td>120.0</td><td>22.877</td><td>9.6</td><td>782.0</td><td>23.0</td><td>13.4</td><td>0.793</td><td>dia</td><td>HoloAmAg</td></tr>\n",
       "<tr><td>215</td><td>1.08</td><td>2017-05-31T08:06:00.847</td><td>../OverScanRemove/trim_images/</td><td>60.0</td><td>22.254</td><td>9.6</td><td>782.0</td><td>23.0</td><td>15.4</td><td>0.793</td><td>dia</td><td>Ron400</td></tr>\n",
       "<tr><td>216</td><td>1.077</td><td>2017-05-31T08:07:53.254</td><td>../OverScanRemove/trim_images/</td><td>60.0</td><td>21.848</td><td>9.8</td><td>782.0</td><td>23.0</td><td>10.6</td><td>0.793</td><td>dia</td><td>Thor300</td></tr>\n",
       "<tr><td>217</td><td>1.074</td><td>2017-05-31T08:09:45.655</td><td>../OverScanRemove/trim_images/</td><td>60.0</td><td>21.442</td><td>9.8</td><td>782.0</td><td>23.0</td><td>10.8</td><td>0.793</td><td>dia</td><td>HoloPhP</td></tr>\n",
       "<tr><td>218</td><td>1.071</td><td>2017-05-31T08:11:37.854</td><td>../OverScanRemove/trim_images/</td><td>120.0</td><td>21.037</td><td>9.6</td><td>782.0</td><td>23.0</td><td>12.5</td><td>0.793</td><td>dia</td><td>HoloPhAg</td></tr>\n",
       "<tr><td>219</td><td>1.067</td><td>2017-05-31T08:14:30.301</td><td>../OverScanRemove/trim_images/</td><td>120.0</td><td>20.415</td><td>9.7</td><td>782.0</td><td>23.0</td><td>14.0</td><td>0.793</td><td>dia</td><td>HoloAmAg</td></tr>\n",
       "<tr><td>...</td><td>...</td><td>...</td><td>...</td><td>...</td><td>...</td><td>...</td><td>...</td><td>...</td><td>...</td><td>...</td><td>...</td><td>...</td></tr>\n",
       "<tr><td>275</td><td>1.011</td><td>2017-05-31T10:22:24.800</td><td>../OverScanRemove/trim_images/</td><td>60.0</td><td>8.346</td><td>11.3</td><td>782.0</td><td>20.0</td><td>14.1</td><td>0.793</td><td>dia</td><td>Ron400</td></tr>\n",
       "<tr><td>276</td><td>1.012</td><td>2017-05-31T10:24:17.302</td><td>../OverScanRemove/trim_images/</td><td>60.0</td><td>8.734</td><td>11.2</td><td>782.0</td><td>20.0</td><td>14.3</td><td>0.793</td><td>dia</td><td>Thor300</td></tr>\n",
       "<tr><td>277</td><td>1.013</td><td>2017-05-31T10:26:09.797</td><td>../OverScanRemove/trim_images/</td><td>60.0</td><td>9.125</td><td>11.2</td><td>782.0</td><td>20.0</td><td>14.2</td><td>0.793</td><td>dia</td><td>HoloPhP</td></tr>\n",
       "<tr><td>278</td><td>1.014</td><td>2017-05-31T10:28:02.100</td><td>../OverScanRemove/trim_images/</td><td>120.0</td><td>9.516</td><td>11.1</td><td>782.0</td><td>20.0</td><td>15.5</td><td>0.793</td><td>dia</td><td>HoloPhAg</td></tr>\n",
       "<tr><td>279</td><td>1.016</td><td>2017-05-31T10:30:54.505</td><td>../OverScanRemove/trim_images/</td><td>120.0</td><td>10.12</td><td>11.0</td><td>782.0</td><td>20.0</td><td>13.2</td><td>0.793</td><td>dia</td><td>HoloAmAg</td></tr>\n",
       "<tr><td>280</td><td>1.018</td><td>2017-05-31T10:33:46.896</td><td>../OverScanRemove/trim_images/</td><td>60.0</td><td>10.727</td><td>11.0</td><td>782.0</td><td>20.0</td><td>14.5</td><td>0.793</td><td>dia</td><td>Ron400</td></tr>\n",
       "<tr><td>281</td><td>1.019</td><td>2017-05-31T10:35:39.245</td><td>../OverScanRemove/trim_images/</td><td>60.0</td><td>11.124</td><td>11.2</td><td>782.0</td><td>20.0</td><td>13.1</td><td>0.793</td><td>dia</td><td>Thor300</td></tr>\n",
       "<tr><td>282</td><td>1.021</td><td>2017-05-31T10:37:31.598</td><td>../OverScanRemove/trim_images/</td><td>60.0</td><td>11.522</td><td>11.0</td><td>782.0</td><td>20.0</td><td>12.5</td><td>0.793</td><td>dia</td><td>HoloPhP</td></tr>\n",
       "<tr><td>283</td><td>1.022</td><td>2017-05-31T10:39:24.046</td><td>../OverScanRemove/trim_images/</td><td>120.0</td><td>11.921</td><td>11.0</td><td>782.0</td><td>20.0</td><td>12.8</td><td>0.793</td><td>dia</td><td>HoloPhAg</td></tr>\n",
       "<tr><td>284</td><td>1.024</td><td>2017-05-31T10:42:16.450</td><td>../OverScanRemove/trim_images/</td><td>120.0</td><td>12.534</td><td>11.0</td><td>782.0</td><td>20.0</td><td>13.2</td><td>0.793</td><td>dia</td><td>HoloAmAg</td></tr>\n",
       "</table>"
      ],
      "text/plain": [
       "<Table length=75>\n",
       "number airmass           date          ...  seeing filter1 filter2 \n",
       "int32  float32          str50          ... float32  str20   str20  \n",
       "------ ------- ----------------------- ... ------- ------- --------\n",
       "   210   1.101 2017-05-31T07:54:38.806 ...   0.793     dia   Ron400\n",
       "   211   1.097 2017-05-31T07:56:31.293 ...   0.793     dia  Thor300\n",
       "   212   1.094 2017-05-31T07:58:23.653 ...   0.793     dia  HoloPhP\n",
       "   213    1.09 2017-05-31T08:00:16.053 ...   0.793     dia HoloPhAg\n",
       "   214   1.085 2017-05-31T08:03:08.495 ...   0.793     dia HoloAmAg\n",
       "   215    1.08 2017-05-31T08:06:00.847 ...   0.793     dia   Ron400\n",
       "   216   1.077 2017-05-31T08:07:53.254 ...   0.793     dia  Thor300\n",
       "   217   1.074 2017-05-31T08:09:45.655 ...   0.793     dia  HoloPhP\n",
       "   218   1.071 2017-05-31T08:11:37.854 ...   0.793     dia HoloPhAg\n",
       "   219   1.067 2017-05-31T08:14:30.301 ...   0.793     dia HoloAmAg\n",
       "   ...     ...                     ... ...     ...     ...      ...\n",
       "   275   1.011 2017-05-31T10:22:24.800 ...   0.793     dia   Ron400\n",
       "   276   1.012 2017-05-31T10:24:17.302 ...   0.793     dia  Thor300\n",
       "   277   1.013 2017-05-31T10:26:09.797 ...   0.793     dia  HoloPhP\n",
       "   278   1.014 2017-05-31T10:28:02.100 ...   0.793     dia HoloPhAg\n",
       "   279   1.016 2017-05-31T10:30:54.505 ...   0.793     dia HoloAmAg\n",
       "   280   1.018 2017-05-31T10:33:46.896 ...   0.793     dia   Ron400\n",
       "   281   1.019 2017-05-31T10:35:39.245 ...   0.793     dia  Thor300\n",
       "   282   1.021 2017-05-31T10:37:31.598 ...   0.793     dia  HoloPhP\n",
       "   283   1.022 2017-05-31T10:39:24.046 ...   0.793     dia HoloPhAg\n",
       "   284   1.024 2017-05-31T10:42:16.450 ...   0.793     dia HoloAmAg"
      ]
     },
     "execution_count": 78,
     "metadata": {},
     "output_type": "execute_result"
    }
   ],
   "source": [
    "t"
   ]
  },
  {
   "cell_type": "markdown",
   "metadata": {
    "deletable": true,
    "editable": true
   },
   "source": [
    "## Convert into pandas to plot\n",
    "---------------------------------------"
   ]
  },
  {
   "cell_type": "code",
   "execution_count": 79,
   "metadata": {
    "collapsed": true,
    "deletable": true,
    "editable": true
   },
   "outputs": [],
   "source": [
    "df = t.to_pandas()"
   ]
  },
  {
   "cell_type": "code",
   "execution_count": 80,
   "metadata": {
    "collapsed": false,
    "deletable": true,
    "editable": true
   },
   "outputs": [
    {
     "data": {
      "text/plain": [
       "<matplotlib.axes._subplots.AxesSubplot at 0x10f0a0890>"
      ]
     },
     "execution_count": 80,
     "metadata": {},
     "output_type": "execute_result"
    },
    {
     "data": {
      "image/png": "[encoded data removed]",
      "text/plain": [
       "<matplotlib.figure.Figure at 0x10f6c9490>"
      ]
     },
     "metadata": {},
     "output_type": "display_data"
    }
   ],
   "source": [
    "df.plot('date','airmass',figsize=(20,6),rot=45,grid=True,title='airmass vs date',color='b',marker='o',linewidth=2)\n"
   ]
  },
  {
   "cell_type": "code",
   "execution_count": 81,
   "metadata": {
    "collapsed": false,
    "deletable": true,
    "editable": true
   },
   "outputs": [
    {
     "data": {
      "text/plain": [
       "<matplotlib.axes._subplots.AxesSubplot at 0x110116f90>"
      ]
     },
     "execution_count": 81,
     "metadata": {},
     "output_type": "execute_result"
    },
    {
     "data": {
      "image/png": "[encoded data removed]",
      "text/plain": [
       "<matplotlib.figure.Figure at 0x10fdf7650>"
      ]
     },
     "metadata": {},
     "output_type": "display_data"
    }
   ],
   "source": [
    "df.plot('date','exposure',figsize=(20,6),rot=45,grid=True,title='exposure vs date',color='b',marker='o',linewidth=2)"
   ]
  },
  {
   "cell_type": "markdown",
   "metadata": {
    "collapsed": true,
    "deletable": true,
    "editable": true
   },
   "source": [
    "### Save pandas file\n"
   ]
  },
  {
   "cell_type": "code",
   "execution_count": 82,
   "metadata": {
    "collapsed": true,
    "deletable": true,
    "editable": true
   },
   "outputs": [],
   "source": [
    "df.to_csv(pandaslogfile)"
   ]
  },
  {
   "cell_type": "code",
   "execution_count": null,
   "metadata": {
    "collapsed": true,
    "deletable": true,
    "editable": true
   },
   "outputs": [],
   "source": []
  }
 ],
 "metadata": {
  "anaconda-cloud": {},
  "kernelspec": {
   "display_name": "Python [default]",
   "language": "python",
   "name": "python2"
  },
  "language_info": {
   "codemirror_mode": {
    "name": "ipython",
    "version": 2
   },
   "file_extension": ".py",
   "mimetype": "text/x-python",
   "name": "python",
   "nbconvert_exporter": "python",
   "pygments_lexer": "ipython2",
   "version": "2.7.12"
  },
  "toc": {
   "colors": {
    "hover_highlight": "#DAA520",
    "running_highlight": "#FF0000",
    "selected_highlight": "#FFD700"
   },
   "moveMenuLeft": true,
   "nav_menu": {
    "height": "161px",
    "width": "252px"
   },
   "navigate_menu": true,
   "number_sections": true,
   "sideBar": true,
   "threshold": 4,
   "toc_cell": false,
   "toc_section_display": "block",
   "toc_window_display": false,
   "widenNotebook": false
  }
 },
 "nbformat": 4,
 "nbformat_minor": 0
}
