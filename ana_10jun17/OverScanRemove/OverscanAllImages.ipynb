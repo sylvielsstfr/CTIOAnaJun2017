{
 "cells": [
  {
   "cell_type": "markdown",
   "metadata": {
    "deletable": true,
    "editable": true
   },
   "source": [
    "# Does the overscan, subtraction and Triming of the CTIO images\n",
    "==================================================================================================\n",
    "- author : Sylvie Dagoret-Campagne\n",
    "- date   : January 18th 2017\n",
    "- update : May 30th 2017\n",
    "\n",
    "The library ***overscan_subtract_andTrim*** developped by Augustin Guyonnet is used\n",
    "to produce trim images.\n",
    "\n",
    "\n",
    "This has been updated for June 2017"
   ]
  },
  {
   "cell_type": "code",
   "execution_count": 1,
   "metadata": {
    "collapsed": true,
    "deletable": true,
    "editable": true
   },
   "outputs": [],
   "source": [
    "%matplotlib inline\n",
    "import matplotlib.pyplot as plt\n",
    "import numpy as np\n",
    "\n",
    "from astropy.modeling import models\n",
    "from astropy import units as u\n",
    "from astropy import nddata\n",
    "from astropy.io import fits\n",
    "import re\n",
    "import os"
   ]
  },
  {
   "cell_type": "code",
   "execution_count": 2,
   "metadata": {
    "collapsed": true,
    "deletable": true,
    "editable": true
   },
   "outputs": [],
   "source": [
    "# to enlarge the sizes\n",
    "params = {'legend.fontsize': 'x-large',\n",
    "          'figure.figsize': (8, 8),\n",
    "         'axes.labelsize': 'x-large',\n",
    "         'axes.titlesize':'x-large',\n",
    "         'xtick.labelsize':'x-large',\n",
    "         'ytick.labelsize':'x-large'}\n",
    "plt.rcParams.update(params)"
   ]
  },
  {
   "cell_type": "markdown",
   "metadata": {
    "deletable": true,
    "editable": true
   },
   "source": [
    "### Import Augustin Guyonnet overscan & trimming package"
   ]
  },
  {
   "cell_type": "code",
   "execution_count": 3,
   "metadata": {
    "collapsed": false,
    "deletable": true,
    "editable": true
   },
   "outputs": [],
   "source": [
    "import overscan_subtract_andTrim as ovsubtrim"
   ]
  },
  {
   "cell_type": "markdown",
   "metadata": {
    "deletable": true,
    "editable": true
   },
   "source": [
    "### Path for raw images"
   ]
  },
  {
   "cell_type": "code",
   "execution_count": 4,
   "metadata": {
    "collapsed": true,
    "deletable": true,
    "editable": true
   },
   "outputs": [],
   "source": [
    "#rootpath_rawimage='/Users/dagoret-campagnesylvie/MacOsX/LSST/MyWork/GitHub/CTIOData2017/2017_01_17/092_195'\n",
    "#rootpath_rawimage='/Users/dagoret-campagnesylvie/MacOsX/LSST/MyWork/GitHub/CTIODataJune2017/data_29may17'\n",
    "rootpath_rawimage='/Volumes/LACIE SHARE/data_10jun17'\n",
    "#rootpath_rawimage='/Users/dagoret-campagnesylvie/MacOsX/LSST/MyWork/GitHub/CTIODataJune2017/data_31may17'"
   ]
  },
  {
   "cell_type": "code",
   "execution_count": 5,
   "metadata": {
    "collapsed": false,
    "deletable": true,
    "editable": true
   },
   "outputs": [],
   "source": [
    "filelist_all=os.listdir(rootpath_rawimage) "
   ]
  },
  {
   "cell_type": "code",
   "execution_count": 6,
   "metadata": {
    "collapsed": false,
    "deletable": true,
    "editable": true
   },
   "outputs": [
    {
     "data": {
      "text/plain": [
       "['20170610_053.fits',\n",
       " '20170610_002.fits',\n",
       " '20170610_057.fits',\n",
       " '20170610_106.fits',\n",
       " '20170610_107.fits']"
      ]
     },
     "execution_count": 6,
     "metadata": {},
     "output_type": "execute_result"
    }
   ],
   "source": [
    "filelist_all[:5]"
   ]
  },
  {
   "cell_type": "markdown",
   "metadata": {
    "deletable": true,
    "editable": true
   },
   "source": [
    "### select raw images only\n",
    "\n",
    "- filename start with **fileno**\n",
    "- filename stop with **fits** "
   ]
  },
  {
   "cell_type": "code",
   "execution_count": 7,
   "metadata": {
    "collapsed": false,
    "deletable": true,
    "editable": true
   },
   "outputs": [
    {
     "name": "stdout",
     "output_type": "stream",
     "text": [
      "Number of files : 125\n"
     ]
    }
   ],
   "source": [
    "filelist_fitsimages= []\n",
    "for filename in filelist_all:\n",
    "    if re.search('^2017.*.fits$',filename):  #example of filename filter\n",
    "        filelist_fitsimages.append(filename)\n",
    "print 'Number of files :',len(filelist_fitsimages)"
   ]
  },
  {
   "cell_type": "code",
   "execution_count": 8,
   "metadata": {
    "collapsed": false,
    "deletable": true,
    "editable": true
   },
   "outputs": [
    {
     "data": {
      "text/plain": [
       "['20170610_053.fits',\n",
       " '20170610_002.fits',\n",
       " '20170610_057.fits',\n",
       " '20170610_106.fits',\n",
       " '20170610_107.fits']"
      ]
     },
     "execution_count": 8,
     "metadata": {},
     "output_type": "execute_result"
    }
   ],
   "source": [
    "filelist_fitsimages[:5]"
   ]
  },
  {
   "cell_type": "markdown",
   "metadata": {
    "deletable": true,
    "editable": true
   },
   "source": [
    "### outputdir"
   ]
  },
  {
   "cell_type": "code",
   "execution_count": 9,
   "metadata": {
    "collapsed": true,
    "deletable": true,
    "editable": true
   },
   "outputs": [],
   "source": [
    "############################################################################\n",
    "def ensure_dir(f):\n",
    "    d = os.path.dirname(f)\n",
    "    if not os.path.exists(f):\n",
    "        os.makedirs(f)\n",
    "#########################################################################"
   ]
  },
  {
   "cell_type": "code",
   "execution_count": 10,
   "metadata": {
    "collapsed": true,
    "deletable": true,
    "editable": true
   },
   "outputs": [],
   "source": [
    "outputdir=\"./trim_images\""
   ]
  },
  {
   "cell_type": "code",
   "execution_count": 11,
   "metadata": {
    "collapsed": false,
    "deletable": true,
    "editable": true
   },
   "outputs": [],
   "source": [
    "ensure_dir(outputdir)"
   ]
  },
  {
   "cell_type": "markdown",
   "metadata": {
    "deletable": true,
    "editable": true
   },
   "source": [
    "### Do the overscan and the subtraction and the trimming"
   ]
  },
  {
   "cell_type": "code",
   "execution_count": 12,
   "metadata": {
    "collapsed": false,
    "deletable": true,
    "editable": true
   },
   "outputs": [
    {
     "name": "stdout",
     "output_type": "stream",
     "text": [
      "20170610_053.fits\n",
      "20170610_002.fits\n",
      "20170610_057.fits\n",
      "20170610_106.fits\n",
      "20170610_107.fits\n",
      "20170610_060.fits\n",
      "20170610_089.fits\n",
      "20170610_113.fits\n",
      "20170610_013.fits\n",
      "20170610_065.fits\n",
      "20170610_090.fits\n",
      "20170610_010.fits\n",
      "20170610_023.fits\n",
      "20170610_034.fits\n",
      "20170610_109.fits\n",
      "20170610_093.fits\n",
      "20170610_096.fits\n",
      "20170610_042.fits\n",
      "20170610_128.fits\n",
      "20170610_126.fits\n",
      "20170610_036.fits\n",
      "20170610_054.fits\n",
      "20170610_009.fits\n",
      "20170610_006.fits\n",
      "20170610_112.fits\n",
      "20170610_037.fits\n",
      "20170610_103.fits\n",
      "20170610_091.fits\n",
      "20170610_097.fits\n",
      "20170610_098.fits\n",
      "20170610_007.fits\n",
      "20170610_069.fits\n",
      "20170610_129.fits\n",
      "20170610_022.fits\n",
      "20170610_052.fits\n",
      "20170610_043.fits\n",
      "20170610_005.fits\n",
      "20170610_104.fits\n",
      "20170610_082.fits\n",
      "20170610_056.fits\n",
      "20170610_058.fits\n",
      "20170610_125.fits\n",
      "20170610_121.fits\n",
      "20170610_051.fits\n",
      "20170610_110.fits\n",
      "20170610_085.fits\n",
      "20170610_049.fits\n",
      "20170610_068.fits\n",
      "20170610_094.fits\n",
      "20170610_021.fits\n",
      "20170610_072.fits\n",
      "20170610_039.fits\n",
      "20170610_118.fits\n",
      "20170610_031.fits\n",
      "20170610_095.fits\n",
      "20170610_044.fits\n",
      "20170610_032.fits\n",
      "20170610_041.fits\n",
      "20170610_101.fits\n",
      "20170610_123.fits\n",
      "20170610_018.fits\n",
      "20170610_001.fits\n",
      "20170610_025.fits\n",
      "20170610_076.fits\n",
      "20170610_024.fits\n",
      "20170610_117.fits\n",
      "20170610_067.fits\n",
      "20170610_066.fits\n",
      "20170610_075.fits\n",
      "20170610_086.fits\n",
      "20170610_011.fits\n",
      "20170610_061.fits\n",
      "20170610_020.fits\n",
      "20170610_035.fits\n",
      "20170610_100.fits\n",
      "20170610_078.fits\n",
      "20170610_137.fits\n",
      "20170610_014.fits\n",
      "20170610_026.fits\n",
      "20170610_108.fits\n",
      "20170610_092.fits\n",
      "20170610_070.fits\n",
      "20170610_079.fits\n",
      "20170610_127.fits\n",
      "20170610_111.fits\n",
      "20170610_008.fits\n",
      "20170610_028.fits\n",
      "20170610_136.fits\n",
      "20170610_055.fits\n",
      "20170610_012.fits\n",
      "20170610_080.fits\n",
      "20170610_019.fits\n",
      "20170610_102.fits\n",
      "20170610_099.fits\n",
      "20170610_135.fits\n",
      "20170610_029.fits\n",
      "20170610_083.fits\n",
      "20170610_048.fits\n",
      "20170610_122.fits\n",
      "20170610_115.fits\n",
      "20170610_062.fits\n",
      "20170610_033.fits\n",
      "20170610_045.fits\n",
      "20170610_003.fits\n",
      "20170610_105.fits\n",
      "20170610_063.fits\n",
      "20170610_038.fits\n",
      "20170610_124.fits\n",
      "20170610_027.fits\n",
      "20170610_114.fits\n",
      "20170610_138.fits\n",
      "20170610_064.fits\n",
      "20170610_116.fits\n",
      "20170610_081.fits\n",
      "20170610_030.fits\n",
      "20170610_139.fits\n",
      "20170610_004.fits\n",
      "20170610_087.fits\n",
      "20170610_088.fits\n",
      "20170610_050.fits\n",
      "20170610_077.fits\n",
      "20170610_059.fits\n",
      "20170610_040.fits\n",
      "20170610_084.fits\n",
      "20170610_071.fits\n"
     ]
    }
   ],
   "source": [
    "for file in filelist_fitsimages:\n",
    "    print file\n",
    "    fullfilename=os.path.join(rootpath_rawimage,file)\n",
    "    ovsubtrim.Do_overscan_subtract_andTrim(fullfilename)"
   ]
  },
  {
   "cell_type": "markdown",
   "metadata": {
    "collapsed": false,
    "deletable": true,
    "editable": true
   },
   "source": [
    "## Now in shell do mv trim_*.fits ${outputdir}/."
   ]
  },
  {
   "cell_type": "code",
   "execution_count": 13,
   "metadata": {
    "collapsed": false,
    "deletable": true,
    "editable": true
   },
   "outputs": [
    {
     "name": "stdout",
     "output_type": "stream",
     "text": [
      "OverscanAllImages.ipynb       trim_20170610_065.fits\r\n",
      "compute.py                    trim_20170610_066.fits\r\n",
      "header.py                     trim_20170610_067.fits\r\n",
      "overscan_subtract_andTrim.py  trim_20170610_068.fits\r\n",
      "overscan_subtract_andTrim.pyc trim_20170610_069.fits\r\n",
      "skylev.py                     trim_20170610_070.fits\r\n",
      "telinst.py                    trim_20170610_071.fits\r\n",
      "telinst.pyc                   trim_20170610_072.fits\r\n",
      "trim_20170610_001.fits        trim_20170610_075.fits\r\n",
      "trim_20170610_002.fits        trim_20170610_076.fits\r\n",
      "trim_20170610_003.fits        trim_20170610_077.fits\r\n",
      "trim_20170610_004.fits        trim_20170610_078.fits\r\n",
      "trim_20170610_005.fits        trim_20170610_079.fits\r\n",
      "trim_20170610_006.fits        trim_20170610_080.fits\r\n",
      "trim_20170610_007.fits        trim_20170610_081.fits\r\n",
      "trim_20170610_008.fits        trim_20170610_082.fits\r\n",
      "trim_20170610_009.fits        trim_20170610_083.fits\r\n",
      "trim_20170610_010.fits        trim_20170610_084.fits\r\n",
      "trim_20170610_011.fits        trim_20170610_085.fits\r\n",
      "trim_20170610_012.fits        trim_20170610_086.fits\r\n",
      "trim_20170610_013.fits        trim_20170610_087.fits\r\n",
      "trim_20170610_014.fits        trim_20170610_088.fits\r\n",
      "trim_20170610_018.fits        trim_20170610_089.fits\r\n",
      "trim_20170610_019.fits        trim_20170610_090.fits\r\n",
      "trim_20170610_020.fits        trim_20170610_091.fits\r\n",
      "trim_20170610_021.fits        trim_20170610_092.fits\r\n",
      "trim_20170610_022.fits        trim_20170610_093.fits\r\n",
      "trim_20170610_023.fits        trim_20170610_094.fits\r\n",
      "trim_20170610_024.fits        trim_20170610_095.fits\r\n",
      "trim_20170610_025.fits        trim_20170610_096.fits\r\n",
      "trim_20170610_026.fits        trim_20170610_097.fits\r\n",
      "trim_20170610_027.fits        trim_20170610_098.fits\r\n",
      "trim_20170610_028.fits        trim_20170610_099.fits\r\n",
      "trim_20170610_029.fits        trim_20170610_100.fits\r\n",
      "trim_20170610_030.fits        trim_20170610_101.fits\r\n",
      "trim_20170610_031.fits        trim_20170610_102.fits\r\n",
      "trim_20170610_032.fits        trim_20170610_103.fits\r\n",
      "trim_20170610_033.fits        trim_20170610_104.fits\r\n",
      "trim_20170610_034.fits        trim_20170610_105.fits\r\n",
      "trim_20170610_035.fits        trim_20170610_106.fits\r\n",
      "trim_20170610_036.fits        trim_20170610_107.fits\r\n",
      "trim_20170610_037.fits        trim_20170610_108.fits\r\n",
      "trim_20170610_038.fits        trim_20170610_109.fits\r\n",
      "trim_20170610_039.fits        trim_20170610_110.fits\r\n",
      "trim_20170610_040.fits        trim_20170610_111.fits\r\n",
      "trim_20170610_041.fits        trim_20170610_112.fits\r\n",
      "trim_20170610_042.fits        trim_20170610_113.fits\r\n",
      "trim_20170610_043.fits        trim_20170610_114.fits\r\n",
      "trim_20170610_044.fits        trim_20170610_115.fits\r\n",
      "trim_20170610_045.fits        trim_20170610_116.fits\r\n",
      "trim_20170610_048.fits        trim_20170610_117.fits\r\n",
      "trim_20170610_049.fits        trim_20170610_118.fits\r\n",
      "trim_20170610_050.fits        trim_20170610_121.fits\r\n",
      "trim_20170610_051.fits        trim_20170610_122.fits\r\n",
      "trim_20170610_052.fits        trim_20170610_123.fits\r\n",
      "trim_20170610_053.fits        trim_20170610_124.fits\r\n",
      "trim_20170610_054.fits        trim_20170610_125.fits\r\n",
      "trim_20170610_055.fits        trim_20170610_126.fits\r\n",
      "trim_20170610_056.fits        trim_20170610_127.fits\r\n",
      "trim_20170610_057.fits        trim_20170610_128.fits\r\n",
      "trim_20170610_058.fits        trim_20170610_129.fits\r\n",
      "trim_20170610_059.fits        trim_20170610_135.fits\r\n",
      "trim_20170610_060.fits        trim_20170610_136.fits\r\n",
      "trim_20170610_061.fits        trim_20170610_137.fits\r\n",
      "trim_20170610_062.fits        trim_20170610_138.fits\r\n",
      "trim_20170610_063.fits        trim_20170610_139.fits\r\n",
      "trim_20170610_064.fits        \u001b[34mtrim_images\u001b[m\u001b[m\r\n"
     ]
    }
   ],
   "source": [
    "!ls\n"
   ]
  },
  {
   "cell_type": "code",
   "execution_count": 14,
   "metadata": {
    "collapsed": false,
    "deletable": true,
    "editable": true
   },
   "outputs": [],
   "source": [
    "! mv *.fits trim_images/."
   ]
  },
  {
   "cell_type": "code",
   "execution_count": 15,
   "metadata": {
    "collapsed": false,
    "deletable": true,
    "editable": true
   },
   "outputs": [
    {
     "name": "stdout",
     "output_type": "stream",
     "text": [
      "OverscanAllImages.ipynb       skylev.py\r\n",
      "compute.py                    telinst.py\r\n",
      "header.py                     telinst.pyc\r\n",
      "overscan_subtract_andTrim.py  \u001b[34mtrim_images\u001b[m\u001b[m\r\n",
      "overscan_subtract_andTrim.pyc\r\n"
     ]
    }
   ],
   "source": [
    "!ls"
   ]
  },
  {
   "cell_type": "code",
   "execution_count": 16,
   "metadata": {
    "collapsed": false,
    "deletable": true,
    "editable": true
   },
   "outputs": [
    {
     "name": "stdout",
     "output_type": "stream",
     "text": [
      "trim_20170610_001.fits trim_20170610_048.fits trim_20170610_092.fits\r\n",
      "trim_20170610_002.fits trim_20170610_049.fits trim_20170610_093.fits\r\n",
      "trim_20170610_003.fits trim_20170610_050.fits trim_20170610_094.fits\r\n",
      "trim_20170610_004.fits trim_20170610_051.fits trim_20170610_095.fits\r\n",
      "trim_20170610_005.fits trim_20170610_052.fits trim_20170610_096.fits\r\n",
      "trim_20170610_006.fits trim_20170610_053.fits trim_20170610_097.fits\r\n",
      "trim_20170610_007.fits trim_20170610_054.fits trim_20170610_098.fits\r\n",
      "trim_20170610_008.fits trim_20170610_055.fits trim_20170610_099.fits\r\n",
      "trim_20170610_009.fits trim_20170610_056.fits trim_20170610_100.fits\r\n",
      "trim_20170610_010.fits trim_20170610_057.fits trim_20170610_101.fits\r\n",
      "trim_20170610_011.fits trim_20170610_058.fits trim_20170610_102.fits\r\n",
      "trim_20170610_012.fits trim_20170610_059.fits trim_20170610_103.fits\r\n",
      "trim_20170610_013.fits trim_20170610_060.fits trim_20170610_104.fits\r\n",
      "trim_20170610_014.fits trim_20170610_061.fits trim_20170610_105.fits\r\n",
      "trim_20170610_018.fits trim_20170610_062.fits trim_20170610_106.fits\r\n",
      "trim_20170610_019.fits trim_20170610_063.fits trim_20170610_107.fits\r\n",
      "trim_20170610_020.fits trim_20170610_064.fits trim_20170610_108.fits\r\n",
      "trim_20170610_021.fits trim_20170610_065.fits trim_20170610_109.fits\r\n",
      "trim_20170610_022.fits trim_20170610_066.fits trim_20170610_110.fits\r\n",
      "trim_20170610_023.fits trim_20170610_067.fits trim_20170610_111.fits\r\n",
      "trim_20170610_024.fits trim_20170610_068.fits trim_20170610_112.fits\r\n",
      "trim_20170610_025.fits trim_20170610_069.fits trim_20170610_113.fits\r\n",
      "trim_20170610_026.fits trim_20170610_070.fits trim_20170610_114.fits\r\n",
      "trim_20170610_027.fits trim_20170610_071.fits trim_20170610_115.fits\r\n",
      "trim_20170610_028.fits trim_20170610_072.fits trim_20170610_116.fits\r\n",
      "trim_20170610_029.fits trim_20170610_075.fits trim_20170610_117.fits\r\n",
      "trim_20170610_030.fits trim_20170610_076.fits trim_20170610_118.fits\r\n",
      "trim_20170610_031.fits trim_20170610_077.fits trim_20170610_121.fits\r\n",
      "trim_20170610_032.fits trim_20170610_078.fits trim_20170610_122.fits\r\n",
      "trim_20170610_033.fits trim_20170610_079.fits trim_20170610_123.fits\r\n",
      "trim_20170610_034.fits trim_20170610_080.fits trim_20170610_124.fits\r\n",
      "trim_20170610_035.fits trim_20170610_081.fits trim_20170610_125.fits\r\n",
      "trim_20170610_036.fits trim_20170610_082.fits trim_20170610_126.fits\r\n",
      "trim_20170610_037.fits trim_20170610_083.fits trim_20170610_127.fits\r\n",
      "trim_20170610_038.fits trim_20170610_084.fits trim_20170610_128.fits\r\n",
      "trim_20170610_039.fits trim_20170610_085.fits trim_20170610_129.fits\r\n",
      "trim_20170610_040.fits trim_20170610_086.fits trim_20170610_135.fits\r\n",
      "trim_20170610_041.fits trim_20170610_087.fits trim_20170610_136.fits\r\n",
      "trim_20170610_042.fits trim_20170610_088.fits trim_20170610_137.fits\r\n",
      "trim_20170610_043.fits trim_20170610_089.fits trim_20170610_138.fits\r\n",
      "trim_20170610_044.fits trim_20170610_090.fits trim_20170610_139.fits\r\n",
      "trim_20170610_045.fits trim_20170610_091.fits\r\n"
     ]
    }
   ],
   "source": [
    "!ls trim_images"
   ]
  },
  {
   "cell_type": "code",
   "execution_count": null,
   "metadata": {
    "collapsed": true,
    "deletable": true,
    "editable": true
   },
   "outputs": [],
   "source": []
  }
 ],
 "metadata": {
  "anaconda-cloud": {},
  "kernelspec": {
   "display_name": "Python 2",
   "language": "python",
   "name": "python2"
  },
  "language_info": {
   "codemirror_mode": {
    "name": "ipython",
    "version": 2
   },
   "file_extension": ".py",
   "mimetype": "text/x-python",
   "name": "python",
   "nbconvert_exporter": "python",
   "pygments_lexer": "ipython2",
   "version": "2.7.10"
  },
  "toc": {
   "colors": {
    "hover_highlight": "#DAA520",
    "running_highlight": "#FF0000",
    "selected_highlight": "#FFD700"
   },
   "moveMenuLeft": true,
   "nav_menu": {
    "height": "153px",
    "width": "252px"
   },
   "navigate_menu": true,
   "number_sections": true,
   "sideBar": true,
   "threshold": 4,
   "toc_cell": false,
   "toc_section_display": "block",
   "toc_window_display": false,
   "widenNotebook": false
  }
 },
 "nbformat": 4,
 "nbformat_minor": 0
}
